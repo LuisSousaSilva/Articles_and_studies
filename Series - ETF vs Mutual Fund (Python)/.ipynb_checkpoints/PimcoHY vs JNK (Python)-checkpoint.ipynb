{
 "cells": [
  {
   "cell_type": "code",
   "execution_count": 1,
   "metadata": {},
   "outputs": [
    {
     "data": {
      "text/html": [
       "<script>jQuery(function() {if (jQuery(\"body.notebook_app\").length == 0) { jQuery(\".input_area\").toggle(); jQuery(\".prompt\").toggle();}});</script>"
      ]
     },
     "metadata": {},
     "output_type": "display_data"
    },
    {
     "data": {
      "text/html": [
       "<button onclick=\"jQuery('.input_area').toggle(); jQuery('.prompt').toggle();\">Código ON/OFF</button>"
      ]
     },
     "metadata": {},
     "output_type": "display_data"
    }
   ],
   "source": [
    "from IPython.display import display\n",
    "from IPython.display import HTML\n",
    "import IPython.core.display as di # Example: di.display_html('<h3>%s:</h3>' % str, raw=True)\n",
    "\n",
    "# This line will hide code by default when the notebook is exported as HTML\n",
    "di.display_html('<script>jQuery(function() {if (jQuery(\"body.notebook_app\").length == 0) { jQuery(\".input_area\").toggle(); jQuery(\".prompt\").toggle();}});</script>', raw=True)\n",
    "\n",
    "# This line will add a button to toggle visibility of code blocks, for use with the HTML export version\n",
    "di.display_html('''<button onclick=\"jQuery('.input_area').toggle(); jQuery('.prompt').toggle();\">Código ON/OFF</button>''', raw=True)"
   ]
  },
  {
   "cell_type": "markdown",
   "metadata": {},
   "source": [
    "###### PIMCO GIS Global Hi Yld Bd E Acc EUR H - ISIN IE00B11XZ327 - Mutual Fund\n",
    "\n",
    "##### vs\n",
    "\n",
    "######  iShares iBoxx  High Yield Corporate Bond ETF"
   ]
  },
  {
   "cell_type": "code",
   "execution_count": 2,
   "metadata": {},
   "outputs": [
    {
     "data": {
      "text/html": [
       "<script>requirejs.config({paths: { 'plotly': ['https://cdn.plot.ly/plotly-latest.min']},});if(!window.Plotly) {{require(['plotly'],function(plotly) {window.Plotly=plotly;});}}</script>"
      ],
      "text/vnd.plotly.v1+html": [
       "<script>requirejs.config({paths: { 'plotly': ['https://cdn.plot.ly/plotly-latest.min']},});if(!window.Plotly) {{require(['plotly'],function(plotly) {window.Plotly=plotly;});}}</script>"
      ]
     },
     "metadata": {},
     "output_type": "display_data"
    }
   ],
   "source": [
    "# importing libraries\n",
    "import numpy as np\n",
    "import pandas as pd\n",
    "import matplotlib.pyplot as plt\n",
    "import seaborn as sns\n",
    "import time\n",
    "import plotly.plotly as py\n",
    "import plotly\n",
    "\n",
    "from plotly.offline import download_plotlyjs, init_notebook_mode, plot, iplot\n",
    "from matplotlib.ticker import FuncFormatter\n",
    "from pandas_datareader import data as pdr\n",
    "from time import gmtime, strftime\n",
    "from datetime import datetime\n",
    "\n",
    "# Setting pandas dataframe display options\n",
    "pd.set_option('display.width', 800)\n",
    "pd.set_option('max_colwidth', 800)\n",
    "pd.set_option(\"display.max_rows\", 20)\n",
    "\n",
    "# Set matplotlib style\n",
    "plt.style.use('seaborn')\n",
    "\n",
    "# Set plotly offline\n",
    "init_notebook_mode(connected=True)"
   ]
  },
  {
   "cell_type": "code",
   "execution_count": 3,
   "metadata": {},
   "outputs": [
    {
     "name": "stderr",
     "output_type": "stream",
     "text": [
      "IOPub data rate exceeded.\n",
      "The notebook server will temporarily stop sending output\n",
      "to the client in order to avoid crashing it.\n",
      "To change this limit, set the config variable\n",
      "`--NotebookApp.iopub_data_rate_limit`.\n"
     ]
    }
   ],
   "source": [
    "import cufflinks as cf"
   ]
  },
  {
   "cell_type": "code",
   "execution_count": 4,
   "metadata": {},
   "outputs": [
    {
     "name": "stdout",
     "output_type": "stream",
     "text": [
      "A última vez que este script foi executado foi em: 2017-10-09 12:57:02\n"
     ]
    }
   ],
   "source": [
    "a = datetime.now().strftime('%Y-%m-%d %H:%M:%S')\n",
    "print('A última vez que este script foi executado foi em:', a)"
   ]
  },
  {
   "cell_type": "code",
   "execution_count": null,
   "metadata": {
    "collapsed": true
   },
   "outputs": [],
   "source": [
    "#### Functions ####\n",
    "def compute_drawdowns(dataframe):\n",
    "    \"\"\"\n",
    "    Function to compute drawdowns of a timeseries\n",
    "    \"\"\"\n",
    "    return (dataframe / dataframe.cummax() -1) * 100"
   ]
  },
  {
   "cell_type": "code",
   "execution_count": null,
   "metadata": {
    "collapsed": true
   },
   "outputs": [],
   "source": [
    "# Downloading funds and creating quotes and returns dataframes\n",
    "Begin = \"2007-10-31\"\n",
    "                           \n",
    "MSid = ['F0GBR06T6D']\n",
    "Nomes = ['PimcoHY']\n",
    "fundos = pd.DataFrame()\n",
    "\n",
    "# Conversão de datetime\n",
    "conv = time.strptime(Begin,\"%Y-%m-%d\") \n",
    "start_date = time.strftime(\"%m/%d/%Y\",conv)\n",
    "\n",
    "# Download\n",
    "for ticker in MSid:\n",
    "    url = \"https://lt.morningstar.com/api/rest.svc/timeseries_price/okhysb8aoh?id=\" + str(ticker) + \"&currencyId=BAS&idtype=Morningstar&frequency=daily&startDate=\" + start_date + \"&outputType=CSV\"\n",
    "    fundo = pd.read_csv(url, sep = \";\" , index_col = 'date', parse_dates = True)\n",
    "    fundo =  fundo.drop('Unnamed: 2', 1)\n",
    "    fundos = fundos.merge(fundo, left_index = True, right_index = True, how='outer')\n",
    "    \n",
    "fundos.columns = Nomes\n",
    "fundos = fundos.fillna(method='ffill')"
   ]
  },
  {
   "cell_type": "code",
   "execution_count": null,
   "metadata": {},
   "outputs": [],
   "source": [
    "fundos.head()"
   ]
  },
  {
   "cell_type": "code",
   "execution_count": null,
   "metadata": {},
   "outputs": [],
   "source": [
    "fundos.info()"
   ]
  },
  {
   "cell_type": "code",
   "execution_count": null,
   "metadata": {
    "collapsed": true
   },
   "outputs": [],
   "source": [
    "# download quotes\n",
    "tickers = ['HYG']\n",
    "Quotes = pd.DataFrame()\n",
    "Start ='2007-10-31'\n",
    "\n",
    "for t in tickers:\n",
    "    Quotes[t] = pdr.get_data_yahoo(t, start=Start)['Adj Close']"
   ]
  },
  {
   "cell_type": "code",
   "execution_count": null,
   "metadata": {},
   "outputs": [],
   "source": [
    "Quotes.head()"
   ]
  },
  {
   "cell_type": "code",
   "execution_count": null,
   "metadata": {},
   "outputs": [],
   "source": [
    "Quotes.info()"
   ]
  },
  {
   "cell_type": "code",
   "execution_count": null,
   "metadata": {
    "collapsed": true
   },
   "outputs": [],
   "source": [
    "Quotes_df = Quotes.merge(fundos, left_index = True, right_index = True, how='outer')"
   ]
  },
  {
   "cell_type": "code",
   "execution_count": null,
   "metadata": {},
   "outputs": [],
   "source": [
    "Quotes_df.head()"
   ]
  },
  {
   "cell_type": "code",
   "execution_count": null,
   "metadata": {},
   "outputs": [],
   "source": [
    "Quotes_df.info()"
   ]
  },
  {
   "cell_type": "code",
   "execution_count": null,
   "metadata": {
    "collapsed": true
   },
   "outputs": [],
   "source": [
    "# Reordering the columns\n",
    "Quotes_df = Quotes_df[['PimcoHY', 'HYG']]"
   ]
  },
  {
   "cell_type": "code",
   "execution_count": null,
   "metadata": {
    "collapsed": true
   },
   "outputs": [],
   "source": [
    "Quotes_df = Quotes_df.fillna(method='ffill')"
   ]
  },
  {
   "cell_type": "code",
   "execution_count": null,
   "metadata": {},
   "outputs": [],
   "source": [
    "Quotes_df.info()"
   ]
  },
  {
   "cell_type": "code",
   "execution_count": null,
   "metadata": {
    "collapsed": true
   },
   "outputs": [],
   "source": [
    "#### Returns ####\n",
    "returns = (Quotes_df / Quotes_df.shift(1)) - 1"
   ]
  },
  {
   "cell_type": "code",
   "execution_count": null,
   "metadata": {
    "collapsed": true
   },
   "outputs": [],
   "source": [
    "#### Normalization to 100 ####\n",
    "Quotes_df_norm = round((Quotes_df / Quotes_df.iloc[0] * 100), 2)"
   ]
  },
  {
   "cell_type": "code",
   "execution_count": null,
   "metadata": {},
   "outputs": [],
   "source": [
    "Quotes_df_norm.iplot(kind='scatter',yTitle='Valor por cada 100€ investidos', title='Performance dos fundos')"
   ]
  },
  {
   "cell_type": "code",
   "execution_count": null,
   "metadata": {},
   "outputs": [],
   "source": [
    "#### Computing Drawdowns ####\n",
    "DD = round(compute_drawdowns(Quotes_df_norm), 2)\n",
    "\n",
    "DD.iplot(kind='scatter', title='Drawdown dos portfolios', yTitle='Percentagem')"
   ]
  },
  {
   "cell_type": "code",
   "execution_count": null,
   "metadata": {},
   "outputs": [],
   "source": [
    "##### New Preturns (to include Portfolio returns) ####\n",
    "Preturns = (Quotes_df_norm / Quotes_df_norm.shift(1)) - 1\n",
    "\n",
    "##### Correlation (bonus: Seaborn heatmap)####\n",
    "Pcorr_matrix = Preturns.corr()\n",
    "a = -0.5\n",
    "\n",
    "# Normal heatmap\n",
    "fig, ax = plt.subplots()\n",
    "fig.set_size_inches(5, 3.5) # 68%\n",
    "sns.heatmap(Pcorr_matrix, annot = True, cmap = \"coolwarm\", linewidths=.2, vmin=-1)\n",
    "plt.yticks(rotation=360)\n",
    "plt.title('Matrix de Correlação')\n",
    "plt.show()"
   ]
  },
  {
   "cell_type": "code",
   "execution_count": null,
   "metadata": {},
   "outputs": [],
   "source": [
    "# Resampling to yearly (business year)\n",
    "yearly_quotes = Quotes_df_norm.resample('BA').last()\n",
    "\n",
    "# Adding first quote (only if start is in the middle of the year) ### Falta trabalho para automatizar #####\n",
    "yearly_quotes = pd.concat([Quotes_df_norm.iloc[:1], yearly_quotes])\n",
    "\n",
    "# Returns\n",
    "yearly_returns = ((yearly_quotes / yearly_quotes.shift(1)) - 1) * 100\n",
    "returns = yearly_returns.set_index([list(range(2006, 2018))]).drop(2006)\n",
    "\n",
    "#### Inverter o sentido das rows no dataframe ####\n",
    "returns = returns.transpose()\n",
    "\n",
    "# Yearly returns heatmap\n",
    "fig, ax = plt.subplots()\n",
    "fig.set_size_inches(12, 3) # 68%\n",
    "heatmap = sns.heatmap(returns, annot=True, cmap=\"RdYlGn\", linewidths=.2, fmt=\".2f\", cbar=False, center=1)\n",
    "for t in heatmap.texts: t.set_text(t.get_text() + \"%\")\n",
    "plt.title('Yearly Returns')\n",
    "plt.yticks(rotation=360)\n",
    "plt.show()"
   ]
  },
  {
   "cell_type": "code",
   "execution_count": null,
   "metadata": {
    "collapsed": true
   },
   "outputs": [],
   "source": []
  }
 ],
 "metadata": {
  "kernelspec": {
   "display_name": "Python [conda root]",
   "language": "python",
   "name": "conda-root-py"
  },
  "language_info": {
   "codemirror_mode": {
    "name": "ipython",
    "version": 3
   },
   "file_extension": ".py",
   "mimetype": "text/x-python",
   "name": "python",
   "nbconvert_exporter": "python",
   "pygments_lexer": "ipython3",
   "version": "3.6.1"
  }
 },
 "nbformat": 4,
 "nbformat_minor": 2
}

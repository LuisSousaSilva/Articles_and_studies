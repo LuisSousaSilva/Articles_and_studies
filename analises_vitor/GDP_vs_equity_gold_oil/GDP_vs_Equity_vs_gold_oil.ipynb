{
 "cells": [
  {
   "cell_type": "code",
   "execution_count": 1,
   "metadata": {},
   "outputs": [
    {
     "data": {
      "text/html": [
       "        <script type=\"text/javascript\">\n",
       "        window.PlotlyConfig = {MathJaxConfig: 'local'};\n",
       "        if (window.MathJax) {MathJax.Hub.Config({SVG: {font: \"STIX-Web\"}});}\n",
       "        if (typeof require !== 'undefined') {\n",
       "        require.undef(\"plotly\");\n",
       "        requirejs.config({\n",
       "            paths: {\n",
       "                'plotly': ['https://cdn.plot.ly/plotly-latest.min']\n",
       "            }\n",
       "        });\n",
       "        require(['plotly'], function(Plotly) {\n",
       "            window._Plotly = Plotly;\n",
       "        });\n",
       "        }\n",
       "        </script>\n",
       "        "
      ]
     },
     "metadata": {},
     "output_type": "display_data"
    },
    {
     "data": {
      "text/html": [
       "        <script type=\"text/javascript\">\n",
       "        window.PlotlyConfig = {MathJaxConfig: 'local'};\n",
       "        if (window.MathJax) {MathJax.Hub.Config({SVG: {font: \"STIX-Web\"}});}\n",
       "        if (typeof require !== 'undefined') {\n",
       "        require.undef(\"plotly\");\n",
       "        requirejs.config({\n",
       "            paths: {\n",
       "                'plotly': ['https://cdn.plot.ly/plotly-latest.min']\n",
       "            }\n",
       "        });\n",
       "        require(['plotly'], function(Plotly) {\n",
       "            window._Plotly = Plotly;\n",
       "        });\n",
       "        }\n",
       "        </script>\n",
       "        "
      ]
     },
     "metadata": {},
     "output_type": "display_data"
    },
    {
     "data": {
      "text/html": [
       "        <script type=\"text/javascript\">\n",
       "        window.PlotlyConfig = {MathJaxConfig: 'local'};\n",
       "        if (window.MathJax) {MathJax.Hub.Config({SVG: {font: \"STIX-Web\"}});}\n",
       "        if (typeof require !== 'undefined') {\n",
       "        require.undef(\"plotly\");\n",
       "        requirejs.config({\n",
       "            paths: {\n",
       "                'plotly': ['https://cdn.plot.ly/plotly-latest.min']\n",
       "            }\n",
       "        });\n",
       "        require(['plotly'], function(Plotly) {\n",
       "            window._Plotly = Plotly;\n",
       "        });\n",
       "        }\n",
       "        </script>\n",
       "        "
      ]
     },
     "metadata": {},
     "output_type": "display_data"
    },
    {
     "data": {
      "text/html": [
       "        <script type=\"text/javascript\">\n",
       "        window.PlotlyConfig = {MathJaxConfig: 'local'};\n",
       "        if (window.MathJax) {MathJax.Hub.Config({SVG: {font: \"STIX-Web\"}});}\n",
       "        if (typeof require !== 'undefined') {\n",
       "        require.undef(\"plotly\");\n",
       "        requirejs.config({\n",
       "            paths: {\n",
       "                'plotly': ['https://cdn.plot.ly/plotly-latest.min']\n",
       "            }\n",
       "        });\n",
       "        require(['plotly'], function(Plotly) {\n",
       "            window._Plotly = Plotly;\n",
       "        });\n",
       "        }\n",
       "        </script>\n",
       "        "
      ]
     },
     "metadata": {},
     "output_type": "display_data"
    }
   ],
   "source": [
    "%matplotlib inline\n",
    "\n",
    "# importing libraries\n",
    "import matplotlib.pyplot as plt\n",
    "import plotly.graph_objs as go\n",
    "import plotly.offline as py\n",
    "import cufflinks as cf\n",
    "import seaborn as sns\n",
    "import pandas as pd\n",
    "import numpy as np\n",
    "import quandl\n",
    "import plotly\n",
    "import time\n",
    "\n",
    "from plotly.offline import download_plotlyjs, init_notebook_mode, plot, iplot\n",
    "from IPython.display import Markdown, display\n",
    "from matplotlib.ticker import FuncFormatter\n",
    "from pandas.core.base import PandasObject\n",
    "from datetime import datetime\n",
    "\n",
    "# Setting pandas dataframe display options\n",
    "pd.set_option(\"display.max_rows\", 20)\n",
    "pd.set_option('display.width', 800)\n",
    "pd.set_option('max_colwidth', 800)\n",
    "\n",
    "# Set plotly offline\n",
    "init_notebook_mode(connected=True)\n",
    "\n",
    "# Set matplotlib style\n",
    "plt.style.use('seaborn')\n",
    "\n",
    "# Set cufflinks offline\n",
    "cf.go_offline()\n",
    "\n",
    "# Defining today's Date\n",
    "from datetime import date\n",
    "today = date.today()\n",
    "import PortfolioAnalyser as pa\n",
    "\n",
    "#### Functions ####\n",
    "def compute_growth_rate(dataframe, initial_value=100, initial_cost=0, ending_cost=0):\n",
    "    initial_cost = initial_cost / 100\n",
    "    ending_cost  = ending_cost / 100\n",
    "    \n",
    "    GR = ((1 + dataframe.pct_change()).cumprod()) * (initial_value * (1 - initial_cost))\n",
    "    GR.iloc[0]  = initial_value * (1 - initial_cost)\n",
    "    GR.iloc[-1] = GR.iloc[-1] * (1 * (1 - ending_cost))\n",
    "    return GR \n",
    "\n",
    "def compute_drawdowns(dataframe):\n",
    "    '''\n",
    "    Function to compute drawdowns of a timeseries\n",
    "    given a dataframe of prices\n",
    "    '''\n",
    "    return (dataframe / dataframe.cummax() -1) * 100\n",
    "\n",
    "def compute_return(dataframe):\n",
    "    '''\n",
    "    Function to compute drawdowns of a timeseries\n",
    "    given a dataframe of prices\n",
    "    '''\n",
    "    return (dataframe.iloc[-1] / dataframe.iloc[0] -1) * 100\n",
    "    \n",
    "def compute_max_DD(dataframe):\n",
    "    return compute_drawdowns(dataframe).min()\n",
    "\n",
    "def compute_cagr(dataframe, years=0, investment_value=0):\n",
    "    '''\n",
    "    Function to calculate CAGR given a dataframe of prices\n",
    "    '''\n",
    "    years = len(pd.date_range(dataframe.index[0], dataframe.index[-1], freq='D')) / 365.25\n",
    "    \n",
    "    if investment_value == 0:\n",
    "        return (dataframe.iloc[-1].div(dataframe.iloc[0]).pow(1 / years)).sub(1).mul(100)\n",
    "    else:\n",
    "        return (dataframe.iloc[-1].div(investment_value).pow(1 / years)).sub(1).mul(100)\n",
    "\n",
    "def compute_mar(dataframe):\n",
    "    '''\n",
    "    Function to calculate mar: Return Over Maximum Drawdown\n",
    "    given a dataframe of prices\n",
    "    '''\n",
    "    return compute_cagr(dataframe).div(compute_drawdowns(dataframe).min().abs())\n",
    "\n",
    "def compute_StdDev(dataframe, freq='days'):    \n",
    "    '''\n",
    "    Function to calculate annualized standart deviation\n",
    "    given a dataframe of prices. It takes into account the\n",
    "    frequency of the data.\n",
    "    '''    \n",
    "    if freq == 'days':\n",
    "        return dataframe.pct_change().std().mul((np.sqrt(252))).mul(100)\n",
    "    if freq == 'months':\n",
    "        return dataframe.pct_change().std().mul((np.sqrt(12))).mul(100)\n",
    "    if freq == 'quarters':\n",
    "        return dataframe.pct_change().std().mul((np.sqrt(4))).mul(100)\n",
    "\n",
    "def compute_sharpe(dataframe, years=0, freq='days'):    \n",
    "    '''\n",
    "    Function to calculate the sharpe ratio given a dataframe of prices.\n",
    "    '''    \n",
    "    return compute_cagr(dataframe, years).div(compute_StdDev(dataframe, freq))\n",
    "\n",
    "def compute_return(dataframe, investment_value=0):\n",
    "    '''\n",
    "    Function to compute drawdowns of a timeseries\n",
    "    given a dataframe of prices\n",
    "    '''\n",
    "    if investment_value == 0:\n",
    "        return(dataframe.iloc[-1] / dataframe.iloc[0] -1) * 100\n",
    "    else:\n",
    "        return(dataframe.iloc[-1] / investment_value -1) * 100\n",
    "\n",
    "def compute_ytd_return(dataframe):\n",
    "    last_year = str(dataframe.index[-1].year)\n",
    "    last_bday = pd.bdate_range(end = last_year, periods=500, freq='B')[-2]\n",
    "\n",
    "    # slicing dataframe\n",
    "    df = dataframe[last_bday:]\n",
    "    return compute_return(df)\n",
    "\n",
    "def compute_ytd_cagr(dataframe):\n",
    "    last_year = str(dataframe.index[-1].year)\n",
    "    last_bday = pd.bdate_range(end = last_year, periods=500, freq='B')[-2]\n",
    "\n",
    "    # slicing dataframe\n",
    "    df = dataframe[last_bday:]\n",
    "    return compute_cagr(df)\n",
    "\n",
    "def compute_ytd_StdDev(dataframe):\n",
    "    last_year = str(dataframe.index[-1].year)\n",
    "    last_bday = pd.bdate_range(end = last_year, periods=500, freq='B')[-2]\n",
    "\n",
    "    # slicing dataframe\n",
    "    df = dataframe[last_bday:]\n",
    "    return compute_StdDev(df)\n",
    "\n",
    "def compute_ytd_sharpe(dataframe):\n",
    "    last_year = str(dataframe.index[-1].year)\n",
    "    last_bday = pd.bdate_range(end = last_year, periods=500, freq='B')[-2]\n",
    "\n",
    "    # slicing dataframe\n",
    "    df = dataframe[last_bday:]\n",
    "    return compute_sharpe(df)\n",
    "\n",
    "def compute_ytd_max_DD(dataframe):\n",
    "    last_year = str(dataframe.index[-1].year)\n",
    "    last_bday = pd.bdate_range(end = last_year, periods=500, freq='B')[-2]\n",
    "\n",
    "    # slicing dataframe\n",
    "    df = dataframe[last_bday:]\n",
    "    return compute_max_DD(df)\n",
    "\n",
    "def compute_ytd_mar(dataframe):\n",
    "    last_year = str(dataframe.index[-1].year)\n",
    "    last_bday = pd.bdate_range(end = last_year, periods=500, freq='B')[-2]\n",
    "\n",
    "    # slicing dataframe\n",
    "    df = dataframe[last_bday:]\n",
    "    return compute_mar(df)\n",
    "\n",
    "def compute_performance_table(dataframe, years='si', freq='days', investment_value=0):    \n",
    "    '''\n",
    "    Function to calculate a performance table given a dataframe of prices.\n",
    "    Takes into account the frequency of the data.\n",
    "    ''' \n",
    "    \n",
    "    if years == 'si':\n",
    "        years = len(pd.date_range(dataframe.index[0], dataframe.index[-1], freq='D')) / 365\n",
    "        \n",
    "        df = pd.DataFrame([compute_cagr(dataframe, years, investment_value), compute_return(dataframe, investment_value),\n",
    "                           compute_StdDev(dataframe, freq),\n",
    "                           compute_sharpe(dataframe, years, freq), compute_max_DD(dataframe), compute_mar(dataframe)])\n",
    "        df.index = ['CAGR', 'Return', 'StdDev', 'Sharpe', 'Max DD', 'MAR']\n",
    "        \n",
    "        df = round(df.transpose(), 2)\n",
    "        \n",
    "        # Colocar percentagens\n",
    "        df['Return'] = (df['Return'] / 100).apply('{:.2%}'.format)\n",
    "        df['CAGR'] = (df['CAGR'] / 100).apply('{:.2%}'.format)\n",
    "        df['StdDev'] = (df['StdDev'] / 100).apply('{:.2%}'.format)\n",
    "        df['Max DD'] = (df['Max DD'] / 100).apply('{:.2%}'.format)\n",
    "        \n",
    "        # Return object\n",
    "        return df\n",
    "\n",
    "    if years == 'ytd':\n",
    "        df = pd.DataFrame([compute_ytd_cagr(dataframe), compute_ytd_return(dataframe), compute_ytd_StdDev(dataframe),\n",
    "                           compute_ytd_sharpe(dataframe), compute_ytd_max_DD(dataframe), compute_ytd_mar(dataframe)])\n",
    "        df.index = ['CAGR', 'Return', 'StdDev', 'Sharpe', 'Max DD', 'MAR']\n",
    "        \n",
    "        df = round(df.transpose(), 2)\n",
    "        \n",
    "        # Colocar percentagens\n",
    "        df['Return'] = (df['Return'] / 100).apply('{:.2%}'.format)\n",
    "        df['CAGR'] = 'N/A'\n",
    "        df['StdDev'] = (df['StdDev'] / 100).apply('{:.2%}'.format)\n",
    "        df['Max DD'] = (df['Max DD'] / 100).apply('{:.2%}'.format)\n",
    "\n",
    "        # Return object\n",
    "        return df\n",
    "\n",
    "    \n",
    "    else:\n",
    "        df = pd.DataFrame([compute_cagr(dataframe, years, investment_value), compute_return(dataframe, investment_value),\n",
    "                           compute_StdDev(dataframe, freq),\n",
    "                           compute_sharpe(dataframe, years, freq), compute_max_DD(dataframe), compute_mar(dataframe)])\n",
    "        df.index = ['CAGR', 'Return', 'StdDev', 'Sharpe', 'Max DD', 'MAR']\n",
    "        \n",
    "        df = round(df.transpose(), 2)\n",
    "        \n",
    "        # Colocar percentagens\n",
    "        df['Return'] = (df['Return'] / 100).apply('{:.2%}'.format)\n",
    "        df['CAGR'] = (df['CAGR'] / 100).apply('{:.2%}'.format)\n",
    "        df['StdDev'] = (df['StdDev'] / 100).apply('{:.2%}'.format)\n",
    "        df['Max DD'] = (df['Max DD'] / 100).apply('{:.2%}'.format)\n",
    "        \n",
    "        # Return object\n",
    "        return df"
   ]
  },
  {
   "cell_type": "code",
   "execution_count": 2,
   "metadata": {},
   "outputs": [],
   "source": [
    "import pandas_datareader.data as web\n",
    "import datetime"
   ]
  },
  {
   "cell_type": "markdown",
   "metadata": {},
   "source": [
    "**USA real GDP**\n",
    "- https://fred.stlouisfed.org/series/GDPC1\n",
    "    \n",
    "**EU (28 GDP GROWTH rate)**\n",
    "- https://fred.stlouisfed.org/series/CLVMEURSCAB1GQEU28\n",
    "\n",
    "**CPI USA**\n",
    "- https://fred.stlouisfed.org/series/CPIAUCSL\n",
    "\n",
    "**CPI European Union**\n",
    "- https://fred.stlouisfed.org/series/CP0000EU28M086NEST\n",
    "\n",
    "**S&P 500**\n",
    "- https://finance.yahoo.com/quote/%5EGSPC/\n",
    "\n",
    "**Stoxx 600**\n",
    "- https://finance.yahoo.com/quote/%5Estoxx/\n",
    "\n",
    "**GOLD USD**\n",
    "- https://www.quandl.com/data/WGC/GOLD_DAILY_USD-Gold-Prices-Daily-Currency-USD"
   ]
  },
  {
   "cell_type": "code",
   "execution_count": 3,
   "metadata": {},
   "outputs": [],
   "source": [
    "us_real_gdp = web.DataReader(['GDPC1'], 'fred', start='2000')"
   ]
  },
  {
   "cell_type": "code",
   "execution_count": 4,
   "metadata": {},
   "outputs": [],
   "source": [
    "eu_real_gdp = web.DataReader(['CLVMEURSCAB1GQEU28'], 'fred', start='2000')"
   ]
  },
  {
   "cell_type": "code",
   "execution_count": 5,
   "metadata": {},
   "outputs": [],
   "source": [
    "cpi_usa = web.DataReader(['CPIAUCSL'], 'fred', start='2000')"
   ]
  },
  {
   "cell_type": "code",
   "execution_count": 6,
   "metadata": {},
   "outputs": [],
   "source": [
    "cpi_eu = web.DataReader(['CP0000EU28M086NEST'], 'fred', start='2000')"
   ]
  },
  {
   "cell_type": "code",
   "execution_count": 7,
   "metadata": {},
   "outputs": [
    {
     "name": "stdout",
     "output_type": "stream",
     "text": [
      "[*********************100%***********************]  1 of 1 downloaded\n",
      "[*********************100%***********************]  1 of 1 downloaded\n"
     ]
    }
   ],
   "source": [
    "import yfinance as yf\n",
    "sp_500 = pd.DataFrame(yf.download(\"^GSPC\", start=\"2000-01-01\", end=\"2020-04-30\")['Close'])\n",
    "sp_500.columns=['S&P500']\n",
    "\n",
    "stoxx_600 = pd.DataFrame(yf.download(\"^STOXX\", start=\"2000-01-01\", end=\"2020-04-30\")['Close'])\n",
    "stoxx_600.columns=['Stoxx 600']\n",
    "\n",
    "equity = pa.merge_time_series(sp_500, stoxx_600, how='inner')\n",
    "\n",
    "equity.columns = ['S&P 500', 'Stoxx 600']"
   ]
  },
  {
   "cell_type": "code",
   "execution_count": 8,
   "metadata": {},
   "outputs": [],
   "source": [
    "import quandl\n",
    "\n",
    "gold_usd = quandl.get(\"WGC/GOLD_DAILY_USD\", authtoken=\"HU7i-qDWTo-fWcBzRZ_f\")"
   ]
  },
  {
   "cell_type": "code",
   "execution_count": 9,
   "metadata": {},
   "outputs": [],
   "source": [
    "### Creation of All_days Database ###\n",
    "all_dates = pd.DataFrame(pd.date_range(start='2000-01-01', end='2020-05-05', freq='D'))\n",
    "all_dates.set_index(all_dates[0], inplace=True)\n",
    "all_dates[0] = 0\n",
    "all_dates.head()\n",
    "\n",
    "equity = all_dates.merge(equity, left_index = True, right_index = True, how='outer').fillna(method='ffill')\n",
    "equity = equity.merge(gold_usd, left_index = True, right_index = True, how='outer').fillna(method='ffill')\n",
    "equity = equity.drop(0, axis=1)\n",
    "equity.columns =['S&P 500', 'Stoxx 600', 'Gold']"
   ]
  },
  {
   "cell_type": "code",
   "execution_count": 10,
   "metadata": {},
   "outputs": [],
   "source": [
    "ISINs = ['LP06TREU', 'LBUSTRUU']\n",
    "Nomes = ISINs\n",
    "\n",
    "blb = pd.read_csv('C:/Users/Luis/Google Drive/_GitHub/Backtester/Data/Cotacoes_diarias_all.csv', index_col = 'Date', parse_dates = True)[ISINs]\n",
    "\n",
    "blb.columns = Nomes\n",
    "blb = blb.dropna()"
   ]
  },
  {
   "cell_type": "code",
   "execution_count": 11,
   "metadata": {},
   "outputs": [],
   "source": [
    "oil = web.DataReader(['WTISPLC'], 'fred', start='2000')"
   ]
  },
  {
   "cell_type": "code",
   "execution_count": 12,
   "metadata": {},
   "outputs": [],
   "source": [
    "fundos = pa.merge_time_series(us_real_gdp, eu_real_gdp, how='outer')\n",
    "fundos = pa.merge_time_series(fundos, cpi_usa, how='outer')\n",
    "fundos = pa.merge_time_series(fundos, cpi_eu, how='outer')\n",
    "fundos = pa.merge_time_series(fundos, equity, how='outer')\n",
    "fundos = pa.merge_time_series(fundos, blb, how='outer')\n",
    "fundos = pa.merge_time_series(fundos, oil, how='outer')\n",
    "fundos = pa.normalize(fundos)\n",
    "fundos.columns=['US_GDP', 'EU_GDP', 'US_CPI', 'EU_CPI', 'S&P_500', 'Stoxx_600', 'Gold', 'LP06TREU', 'LBUSTRUU', 'WTI']"
   ]
  },
  {
   "cell_type": "code",
   "execution_count": 13,
   "metadata": {},
   "outputs": [],
   "source": [
    "colors = ['rgb(255, 153, 51)',    # 1 - orange\n",
    "         'royalblue',            # 2 - Royalblue\n",
    "         '#708090',              # 3 - Grey\n",
    "         'rgb(128, 0, 128)',     # 4 - Indigo\n",
    "         'rgb(219, 64, 82)',     # 5 - Red\n",
    "         'rgb(0, 128, 128)',     # 6 - Teal\n",
    "         '#191970',              # 7 - Navy\n",
    "         'rgb(128, 128, 0)',     # 8 - Olive\n",
    "         '#00BFFF',              # 9 - Water Blue\n",
    "         'rgb(128, 177, 211)']   # 10 - "
   ]
  },
  {
   "cell_type": "code",
   "execution_count": 14,
   "metadata": {},
   "outputs": [
    {
     "data": {
      "application/vnd.plotly.v1+json": {
       "config": {
        "linkText": "Export to plot.ly",
        "plotlyServerURL": "https://plot.ly",
        "showLink": true
       },
       "data": [
        {
         "line": {
          "color": "rgba(255, 153, 51, 1.0)",
          "dash": "solid",
          "shape": "linear",
          "width": 1.3
         },
         "mode": "lines",
         "name": "US_GDP",
         "text": "",
         "type": "scatter",
         "x": [
          "2004-07-01",
          "2004-10-01",
          "2005-01-01",
          "2005-04-01",
          "2005-07-01",
          "2005-10-01",
          "2006-01-01",
          "2006-04-01",
          "2006-07-01",
          "2006-10-01",
          "2007-01-01",
          "2007-04-01",
          "2007-07-01",
          "2007-10-01",
          "2008-01-01",
          "2008-04-01",
          "2008-07-01",
          "2008-10-01",
          "2009-01-01",
          "2009-04-01",
          "2009-07-01",
          "2009-10-01",
          "2010-01-01",
          "2010-04-01",
          "2010-07-01",
          "2010-10-01",
          "2011-01-01",
          "2011-04-01",
          "2011-07-01",
          "2011-10-01",
          "2012-01-01",
          "2012-04-01",
          "2012-07-01",
          "2012-10-01",
          "2013-01-01",
          "2013-04-01",
          "2013-07-01",
          "2013-10-01",
          "2014-01-01",
          "2014-04-01",
          "2014-07-01",
          "2014-10-01",
          "2015-01-01",
          "2015-04-01",
          "2015-07-01",
          "2015-10-01",
          "2016-01-01",
          "2016-04-01",
          "2016-07-01",
          "2016-10-01",
          "2017-01-01",
          "2017-04-01",
          "2017-07-01",
          "2017-10-01",
          "2018-01-01",
          "2018-04-01",
          "2018-07-01",
          "2018-10-01",
          "2019-01-01",
          "2019-04-01",
          "2019-04-01",
          "2019-07-01",
          "2019-10-01"
         ],
         "y": [
          100,
          101.00167411177227,
          102.11972581511324,
          102.5910709614335,
          103.50549990238495,
          104.15909896616546,
          105.54471404876773,
          105.79137177061517,
          105.95495992252741,
          106.85755338547213,
          107.10919555804557,
          107.7227945775813,
          108.30802163348403,
          108.96636318436302,
          108.34013366347313,
          108.89958813642657,
          108.3100541279548,
          105.96642899846968,
          104.77674914814979,
          104.6258813697962,
          105.00683581813848,
          106.16021421109075,
          106.56869720699311,
          107.5512907584274,
          108.3441709994287,
          108.88795314256829,
          108.62614158439443,
          109.40278952261546,
          109.37239889100468,
          110.6403366916963,
          111.50664252376636,
          111.98634578510422,
          112.13746935357827,
          112.2651639296663,
          113.25946852067035,
          113.39922671189959,
          114.28761345328833,
          115.19991311431798,
          114.8742369849839,
          116.42926808629723,
          117.8507905712167,
          118.51404744035668,
          119.4441694508615,
          120.3296802817065,
          120.727558357479,
          120.76682559759486,
          121.37475575500119,
          121.94563782441794,
          122.60693824479863,
          123.22330256293405,
          123.92171329052285,
          124.58394699918091,
          125.56915375779194,
          126.66771010600498,
          127.46819491815549,
          128.5734916817053,
          129.5039109618096,
          129.85529745487446,
          130.84895911395412,
          131.50280705460858,
          131.50280705460858,
          132.18896059615415,
          132.88621681157755
         ]
        },
        {
         "line": {
          "color": "rgba(65, 105, 225, 1.0)",
          "dash": "solid",
          "shape": "linear",
          "width": 1.3
         },
         "mode": "lines",
         "name": "EU_GDP",
         "text": "",
         "type": "scatter",
         "x": [
          "2004-07-01",
          "2004-10-01",
          "2005-01-01",
          "2005-04-01",
          "2005-07-01",
          "2005-10-01",
          "2006-01-01",
          "2006-04-01",
          "2006-07-01",
          "2006-10-01",
          "2007-01-01",
          "2007-04-01",
          "2007-07-01",
          "2007-10-01",
          "2008-01-01",
          "2008-04-01",
          "2008-07-01",
          "2008-10-01",
          "2009-01-01",
          "2009-04-01",
          "2009-07-01",
          "2009-10-01",
          "2010-01-01",
          "2010-04-01",
          "2010-07-01",
          "2010-10-01",
          "2011-01-01",
          "2011-04-01",
          "2011-07-01",
          "2011-10-01",
          "2012-01-01",
          "2012-04-01",
          "2012-07-01",
          "2012-10-01",
          "2013-01-01",
          "2013-04-01",
          "2013-07-01",
          "2013-10-01",
          "2014-01-01",
          "2014-04-01",
          "2014-07-01",
          "2014-10-01",
          "2015-01-01",
          "2015-04-01",
          "2015-07-01",
          "2015-10-01",
          "2016-01-01",
          "2016-04-01",
          "2016-07-01",
          "2016-10-01",
          "2017-01-01",
          "2017-04-01",
          "2017-07-01",
          "2017-10-01",
          "2018-01-01",
          "2018-04-01",
          "2018-07-01",
          "2018-10-01",
          "2019-01-01",
          "2019-04-01",
          "2019-04-01",
          "2019-07-01",
          "2019-10-01"
         ],
         "y": [
          100,
          100.43071273191846,
          100.79663261982222,
          101.5553938106866,
          102.41170483707475,
          103.25647763940697,
          104.15138123375651,
          105.23394380685491,
          105.79051024937918,
          106.82007741377353,
          107.65493040078114,
          108.38248986766467,
          108.99396589431238,
          109.66240193257278,
          110.23224796706927,
          109.88445292766815,
          109.13853266357576,
          107.17920463751534,
          104.22087975901061,
          104.11374243028364,
          104.45832723799175,
          104.99879932017528,
          105.40755885275226,
          106.47100293420493,
          107.03420917271531,
          107.63905204981934,
          108.4890057540246,
          108.58758246490363,
          108.78179151266582,
          108.5214337466335,
          108.43902118374069,
          108.16507144294198,
          108.2775658042664,
          107.88934377879364,
          107.7649290229736,
          108.33496115785812,
          108.82582419375495,
          109.19182051574666,
          109.73314334256104,
          110.09892697839501,
          110.70296231274396,
          111.24204861168113,
          112.07620372223374,
          112.6347308652744,
          113.22562618294214,
          113.83231677104129,
          114.40588813651897,
          114.85337316590591,
          115.36292932113304,
          116.28197279438307,
          117.07984165249701,
          117.88510800103391,
          118.71206833765761,
          119.59104040950592,
          119.9712401789674,
          120.52267224471562,
          120.89623554141222,
          121.40672552180057,
          122.04827337721625,
          122.24609476643838,
          122.24609476643838,
          122.72202989264068,
          122.90125453594771
         ]
        },
        {
         "line": {
          "color": "rgba(112, 128, 144, 1.0)",
          "dash": "solid",
          "shape": "linear",
          "width": 1.3
         },
         "mode": "lines",
         "name": "US_CPI",
         "text": "",
         "type": "scatter",
         "x": [
          "2004-07-01",
          "2004-10-01",
          "2005-01-01",
          "2005-04-01",
          "2005-07-01",
          "2005-10-01",
          "2006-01-01",
          "2006-04-01",
          "2006-07-01",
          "2006-10-01",
          "2007-01-01",
          "2007-04-01",
          "2007-07-01",
          "2007-10-01",
          "2008-01-01",
          "2008-04-01",
          "2008-07-01",
          "2008-10-01",
          "2009-01-01",
          "2009-04-01",
          "2009-07-01",
          "2009-10-01",
          "2010-01-01",
          "2010-04-01",
          "2010-07-01",
          "2010-10-01",
          "2011-01-01",
          "2011-04-01",
          "2011-07-01",
          "2011-10-01",
          "2012-01-01",
          "2012-04-01",
          "2012-07-01",
          "2012-10-01",
          "2013-01-01",
          "2013-04-01",
          "2013-07-01",
          "2013-10-01",
          "2014-01-01",
          "2014-04-01",
          "2014-07-01",
          "2014-10-01",
          "2015-01-01",
          "2015-04-01",
          "2015-07-01",
          "2015-10-01",
          "2016-01-01",
          "2016-04-01",
          "2016-07-01",
          "2016-10-01",
          "2017-01-01",
          "2017-04-01",
          "2017-07-01",
          "2017-10-01",
          "2018-01-01",
          "2018-04-01",
          "2018-07-01",
          "2018-10-01",
          "2019-01-01",
          "2019-04-01",
          "2019-04-01",
          "2019-07-01",
          "2019-10-01"
         ],
         "y": [
          100,
          100.89899524061343,
          101.32205182443153,
          102.43257535695398,
          103.06716023268112,
          105.28820729772607,
          105.39397144368061,
          106.13432046536224,
          107.29772607086198,
          106.76890534108938,
          107.58170280274987,
          108.88630354309892,
          109.78476996298254,
          110.62400846113167,
          112.20200951877315,
          113.13696456901113,
          115.82020095187731,
          114.75145425700688,
          112.07456372289795,
          112.48492860920149,
          113.55156002115282,
          114.4944473823374,
          115.01216287678477,
          114.9672131147541,
          115.07403490216817,
          115.830248545743,
          116.96827075621366,
          118.50502379693285,
          119.1935483870968,
          119.91010047593866,
          120.48757271285035,
          121.19883659439452,
          120.88313061872027,
          122.49497620306717,
          122.51665785298785,
          122.57905869910101,
          123.1623479640402,
          123.56901110523533,
          124.42517186673716,
          125.04918032786885,
          125.59386567953463,
          125.55790586991012,
          124.1390798519302,
          124.91909042834479,
          125.87731359069276,
          125.7181385510312,
          125.76784769962983,
          126.30089899524062,
          126.97567424643046,
          127.78476996298255,
          128.8826017979905,
          129.06292966684293,
          129.20571126388154,
          130.39132734003175,
          131.579058699101,
          132.18244315177154,
          132.98889476467477,
          133.6737176097303,
          133.55367530407193,
          134.81914331041776,
          134.81914331041776,
          135.42411422527763,
          136.02802749867797
         ]
        },
        {
         "line": {
          "color": "rgba(128, 0, 128, 1.0)",
          "dash": "solid",
          "shape": "linear",
          "width": 1.3
         },
         "mode": "lines",
         "name": "EU_CPI",
         "text": "",
         "type": "scatter",
         "x": [
          "2004-07-01",
          "2004-10-01",
          "2005-01-01",
          "2005-04-01",
          "2005-07-01",
          "2005-10-01",
          "2006-01-01",
          "2006-04-01",
          "2006-07-01",
          "2006-10-01",
          "2007-01-01",
          "2007-04-01",
          "2007-07-01",
          "2007-10-01",
          "2008-01-01",
          "2008-04-01",
          "2008-07-01",
          "2008-10-01",
          "2009-01-01",
          "2009-04-01",
          "2009-07-01",
          "2009-10-01",
          "2010-01-01",
          "2010-04-01",
          "2010-07-01",
          "2010-10-01",
          "2011-01-01",
          "2011-04-01",
          "2011-07-01",
          "2011-10-01",
          "2012-01-01",
          "2012-04-01",
          "2012-07-01",
          "2012-10-01",
          "2013-01-01",
          "2013-04-01",
          "2013-07-01",
          "2013-10-01",
          "2014-01-01",
          "2014-04-01",
          "2014-07-01",
          "2014-10-01",
          "2015-01-01",
          "2015-04-01",
          "2015-07-01",
          "2015-10-01",
          "2016-01-01",
          "2016-04-01",
          "2016-07-01",
          "2016-10-01",
          "2017-01-01",
          "2017-04-01",
          "2017-07-01",
          "2017-10-01",
          "2018-01-01",
          "2018-04-01",
          "2018-07-01",
          "2018-10-01",
          "2019-01-01",
          "2019-04-01",
          "2019-04-01",
          "2019-07-01",
          "2019-10-01"
         ],
         "y": [
          100,
          100.69289779757486,
          100.54441969809456,
          101.96733481811432,
          102.264291017075,
          103.22939866369711,
          102.99430833951992,
          104.4543429844098,
          104.82553823311062,
          105.13486760702797,
          105.19673348181145,
          106.78049987626825,
          106.91660480079189,
          107.99307102202427,
          108.78495421925267,
          110.61618411284337,
          111.69265033407574,
          111.98960653303641,
          110.7027963375402,
          112.05147240781986,
          111.964860183123,
          112.54639940608759,
          112.53402623113091,
          114.41474882454838,
          114.30339024993815,
          115.16951249690672,
          115.61494679534769,
          118.13907448651327,
          117.6565206632022,
          119.0175699084385,
          118.93095768374167,
          121.35609997525366,
          120.66320217767881,
          122.17272952239544,
          121.45508537490721,
          123.05122494432072,
          122.74189557040339,
          123.3110616184113,
          122.54392477109629,
          124.04107894085624,
          123.41004701806484,
          123.9049740163326,
          121.96238554813166,
          124.17718386537986,
          123.88022766641922,
          124.15243751546647,
          122.28408809700571,
          123.8926008413759,
          124.07819846572632,
          124.80821578817125,
          124.33803513981687,
          126.33011630784459,
          125.99604058401385,
          126.88690918089583,
          126.35486265775799,
          128.18609255134868,
          128.82949764909677,
          129.80697847067557,
          128.23558525117548,
          130.63598119277407,
          130.63598119277407,
          130.64835436773078,
          131.1927740658253
         ]
        },
        {
         "line": {
          "color": "rgba(219, 64, 82, 1.0)",
          "dash": "solid",
          "shape": "linear",
          "width": 1.3
         },
         "mode": "lines",
         "name": "S&P_500",
         "text": "",
         "type": "scatter",
         "x": [
          "2004-07-01",
          "2004-10-01",
          "2005-01-01",
          "2005-04-01",
          "2005-07-01",
          "2005-10-01",
          "2006-01-01",
          "2006-04-01",
          "2006-07-01",
          "2006-10-01",
          "2007-01-01",
          "2007-04-01",
          "2007-07-01",
          "2007-10-01",
          "2008-01-01",
          "2008-04-01",
          "2008-07-01",
          "2008-10-01",
          "2009-01-01",
          "2009-04-01",
          "2009-07-01",
          "2009-10-01",
          "2010-01-01",
          "2010-04-01",
          "2010-07-01",
          "2010-10-01",
          "2011-01-01",
          "2011-04-01",
          "2011-07-01",
          "2011-10-01",
          "2012-01-01",
          "2012-04-01",
          "2012-07-01",
          "2012-10-01",
          "2013-01-01",
          "2013-04-01",
          "2013-07-01",
          "2013-10-01",
          "2014-01-01",
          "2014-04-01",
          "2014-07-01",
          "2014-10-01",
          "2015-01-01",
          "2015-04-01",
          "2015-07-01",
          "2015-10-01",
          "2016-01-01",
          "2016-04-01",
          "2016-07-01",
          "2016-10-01",
          "2017-01-01",
          "2017-04-01",
          "2017-07-01",
          "2017-10-01",
          "2018-01-01",
          "2018-04-01",
          "2018-07-01",
          "2018-10-01",
          "2019-01-01",
          "2019-04-01",
          "2019-04-01",
          "2019-07-01",
          "2019-10-01"
         ],
         "y": [
          100,
          100.22676138678762,
          107.35025776392013,
          103.89568976207771,
          105.80190266976102,
          108.84635144471804,
          110.57186387230497,
          114.69785816783885,
          112.51262246000672,
          118.32781192977481,
          125.63112300033659,
          125.8578843871242,
          133.1647386043545,
          137.0347405530852,
          130.06537105603485,
          121.36871755806331,
          113.81561464736833,
          102.84514677485073,
          80.00868070933795,
          71.844384998317,
          81.78734033695325,
          91.22273991531878,
          98.77407125267949,
          104.35452725565573,
          91.00306482186828,
          101.53241093415062,
          111.42133328609138,
          118.023101316279,
          118.66618243662197,
          100.21967509345049,
          111.39653125941147,
          124.76039470653888,
          120.65831665101776,
          127.95099828157386,
          124.22537955958688,
          138.99675802079827,
          143.05100359629387,
          150.14084008007512,
          163.07952592697575,
          167.016847662409,
          174.79405459989016,
          172.3882580119404,
          184.2746292982798,
          182.44459404397045,
          184.01509380480806,
          170.40941059755167,
          182.7696777508105,
          183.60408879125552,
          186.2765071660141,
          192.06246567576665,
          198.31257639910004,
          209.28658741828613,
          214.66242670115327,
          223.16154977235283,
          236.8248091129732,
          233.92474356475984,
          240.78959023508776,
          259.05628288483,
          220.18353499743117,
          253.97186741545164,
          253.97186741545164,
          262.5763991000407,
          260.4434248055698
         ]
        },
        {
         "line": {
          "color": "rgba(0, 128, 128, 1.0)",
          "dash": "solid",
          "shape": "linear",
          "width": 1.3
         },
         "mode": "lines",
         "name": "Stoxx_600",
         "text": "",
         "type": "scatter",
         "x": [
          "2004-07-01",
          "2004-10-01",
          "2005-01-01",
          "2005-04-01",
          "2005-07-01",
          "2005-10-01",
          "2006-01-01",
          "2006-04-01",
          "2006-07-01",
          "2006-10-01",
          "2007-01-01",
          "2007-04-01",
          "2007-07-01",
          "2007-10-01",
          "2008-01-01",
          "2008-04-01",
          "2008-07-01",
          "2008-10-01",
          "2009-01-01",
          "2009-04-01",
          "2009-07-01",
          "2009-10-01",
          "2010-01-01",
          "2010-04-01",
          "2010-07-01",
          "2010-10-01",
          "2011-01-01",
          "2011-04-01",
          "2011-07-01",
          "2011-10-01",
          "2012-01-01",
          "2012-04-01",
          "2012-07-01",
          "2012-10-01",
          "2013-01-01",
          "2013-04-01",
          "2013-07-01",
          "2013-10-01",
          "2014-01-01",
          "2014-04-01",
          "2014-07-01",
          "2014-10-01",
          "2015-01-01",
          "2015-04-01",
          "2015-07-01",
          "2015-10-01",
          "2016-01-01",
          "2016-04-01",
          "2016-07-01",
          "2016-10-01",
          "2017-01-01",
          "2017-04-01",
          "2017-07-01",
          "2017-10-01",
          "2018-01-01",
          "2018-04-01",
          "2018-07-01",
          "2018-10-01",
          "2019-01-01",
          "2019-04-01",
          "2019-04-01",
          "2019-07-01",
          "2019-10-01"
         ],
         "y": [
          100,
          100.7372542485838,
          104.59430189936687,
          109.7259246917694,
          115.823892035988,
          123.87537487504163,
          129.13612129290235,
          139.30356547817394,
          133.56381206264578,
          142.2150949683439,
          152.14095301566144,
          155.87304231922693,
          163.99116961012993,
          158.63878707097635,
          151.88270576474508,
          131.65194935021657,
          117.87737420859712,
          107.36004665111629,
          82.01432855714762,
          74.66677774075308,
          87.24591802732422,
          99.39186937687438,
          105.4481839386871,
          111.47117627457514,
          98.84205264911697,
          107.91819393535486,
          115.3865378207264,
          116.63612129290235,
          114.51182939020326,
          94.2102632455848,
          101.85771409530156,
          109.68010663112295,
          104.61929356881039,
          113.43302232589136,
          116.11962679106962,
          122.36754415194933,
          120.08080639786738,
          130.31489503498835,
          136.25874708430524,
          140.09913362212595,
          143.65628123958678,
          141.71109630123294,
          142.04431856047984,
          165.99466844385202,
          161.22542485838053,
          144.2144285238254,
          153.15728090636455,
          138.76624458513825,
          138.38720426524492,
          142.83572142619127,
          150.54148617127626,
          158.75541486171275,
          158.01816061312894,
          161.67944018660447,
          162.10429856714427,
          154.47767410863045,
          158.2514161946018,
          159.92169276907697,
          140.04915028323893,
          159.80923025658115,
          159.80923025658115,
          161.55864711762743,
          161.6086304565145
         ]
        },
        {
         "line": {
          "color": "rgba(25, 25, 112, 1.0)",
          "dash": "solid",
          "shape": "linear",
          "width": 1.3
         },
         "mode": "lines",
         "name": "Gold",
         "text": "",
         "type": "scatter",
         "x": [
          "2004-07-01",
          "2004-10-01",
          "2005-01-01",
          "2005-04-01",
          "2005-07-01",
          "2005-10-01",
          "2006-01-01",
          "2006-04-01",
          "2006-07-01",
          "2006-10-01",
          "2007-01-01",
          "2007-04-01",
          "2007-07-01",
          "2007-10-01",
          "2008-01-01",
          "2008-04-01",
          "2008-07-01",
          "2008-10-01",
          "2009-01-01",
          "2009-04-01",
          "2009-07-01",
          "2009-10-01",
          "2010-01-01",
          "2010-04-01",
          "2010-07-01",
          "2010-10-01",
          "2011-01-01",
          "2011-04-01",
          "2011-07-01",
          "2011-10-01",
          "2012-01-01",
          "2012-04-01",
          "2012-07-01",
          "2012-10-01",
          "2013-01-01",
          "2013-04-01",
          "2013-07-01",
          "2013-10-01",
          "2014-01-01",
          "2014-04-01",
          "2014-07-01",
          "2014-10-01",
          "2015-01-01",
          "2015-04-01",
          "2015-07-01",
          "2015-10-01",
          "2016-01-01",
          "2016-04-01",
          "2016-07-01",
          "2016-10-01",
          "2017-01-01",
          "2017-04-01",
          "2017-07-01",
          "2017-10-01",
          "2018-01-01",
          "2018-04-01",
          "2018-07-01",
          "2018-10-01",
          "2019-01-01",
          "2019-04-01",
          "2019-04-01",
          "2019-07-01",
          "2019-10-01"
         ],
         "y": [
          100,
          105.90172239108409,
          110.33434650455926,
          108.19402228976696,
          109.57446808510637,
          119.87082066869301,
          129.93920972644378,
          147.41641337386017,
          155.3951367781155,
          151.78571428571428,
          160.08105369807498,
          167.61651469098277,
          164.76697061803443,
          188.06990881458967,
          211.18287740628165,
          224.86068895643365,
          237.46200607902733,
          222.89766970618032,
          220.3014184397163,
          234.16919959473148,
          237.65197568389058,
          254.49594731509623,
          275.4559270516717,
          284.5744680851064,
          312.5633232016211,
          333.3966565349544,
          356.00303951367783,
          359.1691995947315,
          375.63323201621074,
          410.3343465045593,
          387.7912867274569,
          421.0992907801418,
          404.8885511651469,
          452.6342451874367,
          419.83282674772033,
          404.8252279635258,
          314.7796352583586,
          326.9376899696049,
          305.09118541033433,
          325.16464032421476,
          336.2462006079027,
          308.1306990881459,
          305.4711246200608,
          303.1914893617021,
          295.8459979736575,
          283.43465045592706,
          268.4903748733536,
          307.3961499493414,
          339.4123606889564,
          334.97973657548124,
          290.2482269503546,
          315.31155015197567,
          314.6529888551165,
          324.99999999999994,
          327.00101317122596,
          335.321681864235,
          316.7299898682877,
          301.2537993920972,
          323.9614994934144,
          327.63424518743665,
          327.63424518743665,
          352.10233029381965,
          373.2142857142857
         ]
        },
        {
         "line": {
          "color": "rgba(128, 128, 0, 1.0)",
          "dash": "solid",
          "shape": "linear",
          "width": 1.3
         },
         "mode": "lines",
         "name": "LP06TREU",
         "text": "",
         "type": "scatter",
         "x": [
          "2004-07-01",
          "2004-10-01",
          "2005-01-01",
          "2005-04-01",
          "2005-07-01",
          "2005-10-01",
          "2006-01-01",
          "2006-04-01",
          "2006-07-01",
          "2006-10-01",
          "2007-01-01",
          "2007-04-01",
          "2007-07-01",
          "2007-10-01",
          "2008-01-01",
          "2008-04-01",
          "2008-07-01",
          "2008-10-01",
          "2009-01-01",
          "2009-04-01",
          "2009-07-01",
          "2009-10-01",
          "2010-01-01",
          "2010-04-01",
          "2010-07-01",
          "2010-10-01",
          "2011-01-01",
          "2011-04-01",
          "2011-07-01",
          "2011-10-01",
          "2012-01-01",
          "2012-04-01",
          "2012-07-01",
          "2012-10-01",
          "2013-01-01",
          "2013-04-01",
          "2013-07-01",
          "2013-10-01",
          "2014-01-01",
          "2014-04-01",
          "2014-07-01",
          "2014-10-01",
          "2015-01-01",
          "2015-04-01",
          "2015-07-01",
          "2015-10-01",
          "2016-01-01",
          "2016-04-01",
          "2016-07-01",
          "2016-10-01",
          "2017-01-01",
          "2017-04-01",
          "2017-07-01",
          "2017-10-01",
          "2018-01-01",
          "2018-04-01",
          "2018-07-01",
          "2018-10-01",
          "2019-01-01",
          "2019-04-01",
          "2019-04-01",
          "2019-07-01",
          "2019-10-01"
         ],
         "y": [
          100,
          102.22060693889033,
          104.76062723948587,
          106.26918467427329,
          110.18568624573504,
          110.7483857357743,
          110.72476794951756,
          108.76510315392989,
          108.05213645424419,
          111.22578603661447,
          111.28823176920912,
          111.30038461068106,
          109.62428611610473,
          111.48168360421178,
          111.8581159579802,
          112.1139370926123,
          109.62673197099215,
          112.40843330765185,
          113.80371708796517,
          114.77479791123993,
          118.02595052035562,
          121.97768768878943,
          122.52120250455543,
          126.10522067725722,
          128.61352129728147,
          130.70533868975554,
          127.80042741314159,
          126.12234166146922,
          128.04692372601534,
          133.04823837301734,
          134.87941935404976,
          139.07123246627776,
          141.1285785914322,
          146.15809700260482,
          149.15511000232357,
          148.86596409485026,
          147.01636276919692,
          149.0425242445366,
          149.84476464761346,
          154.2855199276027,
          159.1794462584535,
          164.590135867239,
          168.49066294896724,
          176.8328625062675,
          169.8299213657654,
          172.00803157598662,
          172.21149612943464,
          175.23342627581906,
          178.542591505546,
          179.48730295581566,
          175.5040754057062,
          174.78889215002874,
          174.1444858201563,
          174.74448459722888,
          175.8504696041384,
          176.9756392853212,
          176.034367318487,
          174.3691987379389,
          176.0840487458879,
          181.74085250272103,
          181.74085250272103,
          186.16372246884595,
          191.4372149050397
         ]
        },
        {
         "line": {
          "color": "rgba(0, 191, 255, 1.0)",
          "dash": "solid",
          "shape": "linear",
          "width": 1.3
         },
         "mode": "lines",
         "name": "LBUSTRUU",
         "text": "",
         "type": "scatter",
         "x": [
          "2004-07-01",
          "2004-10-01",
          "2005-01-01",
          "2005-04-01",
          "2005-07-01",
          "2005-10-01",
          "2006-01-01",
          "2006-04-01",
          "2006-07-01",
          "2006-10-01",
          "2007-01-01",
          "2007-04-01",
          "2007-07-01",
          "2007-10-01",
          "2008-01-01",
          "2008-04-01",
          "2008-07-01",
          "2008-10-01",
          "2009-01-01",
          "2009-04-01",
          "2009-07-01",
          "2009-10-01",
          "2010-01-01",
          "2010-04-01",
          "2010-07-01",
          "2010-10-01",
          "2011-01-01",
          "2011-04-01",
          "2011-07-01",
          "2011-10-01",
          "2012-01-01",
          "2012-04-01",
          "2012-07-01",
          "2012-10-01",
          "2013-01-01",
          "2013-04-01",
          "2013-07-01",
          "2013-10-01",
          "2014-01-01",
          "2014-04-01",
          "2014-07-01",
          "2014-10-01",
          "2015-01-01",
          "2015-04-01",
          "2015-07-01",
          "2015-10-01",
          "2016-01-01",
          "2016-04-01",
          "2016-07-01",
          "2016-10-01",
          "2017-01-01",
          "2017-04-01",
          "2017-07-01",
          "2017-10-01",
          "2018-01-01",
          "2018-04-01",
          "2018-07-01",
          "2018-10-01",
          "2019-01-01",
          "2019-04-01",
          "2019-04-01",
          "2019-07-01",
          "2019-10-01"
         ],
         "y": [
          100,
          102.65711903308721,
          103.90358380111581,
          103.62334413602801,
          106.11885256470872,
          105.7982102485193,
          106.4274600486551,
          105.73889571817861,
          105.65809041597538,
          109.68116290864704,
          111.03937969036097,
          112.7087828486448,
          112.1250934848576,
          115.43467235169219,
          118.77519793000886,
          120.79361122334072,
          119.95976927507328,
          119.79128162367081,
          124.99892546140687,
          125.29291922048674,
          127.42308452750389,
          132.6367457813615,
          132.41238212311632,
          134.58638860473314,
          139.55161653585952,
          142.93598328877582,
          141.0740228146034,
          141.6568525475161,
          144.73605033998402,
          150.45173602455105,
          152.13661253857595,
          152.59651505643478,
          155.7453429497374,
          158.32423557324483,
          158.5494588623645,
          158.50561768776487,
          154.76966190717707,
          155.39203466031688,
          155.34045680784672,
          158.03368033766304,
          161.08021215689982,
          162.50805903944848,
          164.60813726585803,
          167.76212294440768,
          163.8086805525707,
          166.56809565972372,
          165.51332857670917,
          170.4596446285965,
          174.67355517540767,
          175.10508987440795,
          169.89486714404833,
          171.28231137549537,
          173.75804829406255,
          175.2323152438343,
          175.91228326556575,
          173.34284658167783,
          173.06776470183704,
          172.93366228541464,
          175.93205477567932,
          180.43222240369985,
          180.43222240369985,
          186.4599540957113,
          191.24379991231763
         ]
        },
        {
         "line": {
          "color": "rgba(128, 177, 211, 1.0)",
          "dash": "solid",
          "shape": "linear",
          "width": 1.3
         },
         "mode": "lines",
         "name": "WTI",
         "text": "",
         "type": "scatter",
         "x": [
          "2004-07-01",
          "2004-10-01",
          "2005-01-01",
          "2005-04-01",
          "2005-07-01",
          "2005-10-01",
          "2006-01-01",
          "2006-04-01",
          "2006-07-01",
          "2006-10-01",
          "2007-01-01",
          "2007-04-01",
          "2007-07-01",
          "2007-10-01",
          "2008-01-01",
          "2008-04-01",
          "2008-07-01",
          "2008-10-01",
          "2009-01-01",
          "2009-04-01",
          "2009-07-01",
          "2009-10-01",
          "2010-01-01",
          "2010-04-01",
          "2010-07-01",
          "2010-10-01",
          "2011-01-01",
          "2011-04-01",
          "2011-07-01",
          "2011-10-01",
          "2012-01-01",
          "2012-04-01",
          "2012-07-01",
          "2012-10-01",
          "2013-01-01",
          "2013-04-01",
          "2013-07-01",
          "2013-10-01",
          "2014-01-01",
          "2014-04-01",
          "2014-07-01",
          "2014-10-01",
          "2015-01-01",
          "2015-04-01",
          "2015-07-01",
          "2015-10-01",
          "2016-01-01",
          "2016-04-01",
          "2016-07-01",
          "2016-10-01",
          "2017-01-01",
          "2017-04-01",
          "2017-07-01",
          "2017-10-01",
          "2018-01-01",
          "2018-04-01",
          "2018-07-01",
          "2018-10-01",
          "2019-01-01",
          "2019-04-01",
          "2019-04-01",
          "2019-07-01",
          "2019-10-01"
         ],
         "y": [
          100,
          130.57262226591303,
          115.11427869255346,
          130.3514376996805,
          144.26148930941264,
          153.28090439911526,
          160.99778815433768,
          171.2705824526911,
          182.87048414843943,
          144.70385844187763,
          134.11157532563286,
          157.21307446547064,
          182.30523470140085,
          211.84566232489556,
          228.43450479233226,
          276.652740231015,
          327.94298353403786,
          188.37552224133697,
          102.58048660604572,
          122.36421725239617,
          157.5079872204473,
          186.33570901941508,
          192.23396411894817,
          207.61857950356358,
          187.68739247972476,
          201.2779552715655,
          219.75915458343573,
          270.4349963135906,
          238.854755468174,
          212.3617596461047,
          246.35045465716394,
          253.94445809781274,
          216.09732120914234,
          220.12779552715656,
          232.71073973949373,
          226.2718112558368,
          257.23765052838536,
          247.08773654460558,
          232.53870729909073,
          250.8478741705579,
          254.5834357335955,
          207.4219710002458,
          116.04816908331286,
          133.81666257065618,
          125.09216023593022,
          113.59056279184074,
          77.85696731383632,
          100.14745637748834,
          109.73212091422954,
          122.33964118948147,
          129.02433030228556,
          125.48537724256575,
          114.59818137134432,
          126.76333251413124,
          156.54952076677318,
          162.81641681002705,
          174.4408945686901,
          173.87564512165153,
          126.27181125583682,
          156.9427377734087,
          156.9427377734087,
          140.9437208159253,
          132.61243548783486
         ]
        }
       ],
       "layout": {
        "height": 500,
        "legend": {
         "bgcolor": "#F5F6F9",
         "font": {
          "color": "#4D5663"
         }
        },
        "paper_bgcolor": "#F5F6F9",
        "plot_bgcolor": "#F5F6F9",
        "template": {
         "data": {
          "bar": [
           {
            "error_x": {
             "color": "#2a3f5f"
            },
            "error_y": {
             "color": "#2a3f5f"
            },
            "marker": {
             "line": {
              "color": "#E5ECF6",
              "width": 0.5
             }
            },
            "type": "bar"
           }
          ],
          "barpolar": [
           {
            "marker": {
             "line": {
              "color": "#E5ECF6",
              "width": 0.5
             }
            },
            "type": "barpolar"
           }
          ],
          "carpet": [
           {
            "aaxis": {
             "endlinecolor": "#2a3f5f",
             "gridcolor": "white",
             "linecolor": "white",
             "minorgridcolor": "white",
             "startlinecolor": "#2a3f5f"
            },
            "baxis": {
             "endlinecolor": "#2a3f5f",
             "gridcolor": "white",
             "linecolor": "white",
             "minorgridcolor": "white",
             "startlinecolor": "#2a3f5f"
            },
            "type": "carpet"
           }
          ],
          "choropleth": [
           {
            "colorbar": {
             "outlinewidth": 0,
             "ticks": ""
            },
            "type": "choropleth"
           }
          ],
          "contour": [
           {
            "colorbar": {
             "outlinewidth": 0,
             "ticks": ""
            },
            "colorscale": [
             [
              0,
              "#0d0887"
             ],
             [
              0.1111111111111111,
              "#46039f"
             ],
             [
              0.2222222222222222,
              "#7201a8"
             ],
             [
              0.3333333333333333,
              "#9c179e"
             ],
             [
              0.4444444444444444,
              "#bd3786"
             ],
             [
              0.5555555555555556,
              "#d8576b"
             ],
             [
              0.6666666666666666,
              "#ed7953"
             ],
             [
              0.7777777777777778,
              "#fb9f3a"
             ],
             [
              0.8888888888888888,
              "#fdca26"
             ],
             [
              1,
              "#f0f921"
             ]
            ],
            "type": "contour"
           }
          ],
          "contourcarpet": [
           {
            "colorbar": {
             "outlinewidth": 0,
             "ticks": ""
            },
            "type": "contourcarpet"
           }
          ],
          "heatmap": [
           {
            "colorbar": {
             "outlinewidth": 0,
             "ticks": ""
            },
            "colorscale": [
             [
              0,
              "#0d0887"
             ],
             [
              0.1111111111111111,
              "#46039f"
             ],
             [
              0.2222222222222222,
              "#7201a8"
             ],
             [
              0.3333333333333333,
              "#9c179e"
             ],
             [
              0.4444444444444444,
              "#bd3786"
             ],
             [
              0.5555555555555556,
              "#d8576b"
             ],
             [
              0.6666666666666666,
              "#ed7953"
             ],
             [
              0.7777777777777778,
              "#fb9f3a"
             ],
             [
              0.8888888888888888,
              "#fdca26"
             ],
             [
              1,
              "#f0f921"
             ]
            ],
            "type": "heatmap"
           }
          ],
          "heatmapgl": [
           {
            "colorbar": {
             "outlinewidth": 0,
             "ticks": ""
            },
            "colorscale": [
             [
              0,
              "#0d0887"
             ],
             [
              0.1111111111111111,
              "#46039f"
             ],
             [
              0.2222222222222222,
              "#7201a8"
             ],
             [
              0.3333333333333333,
              "#9c179e"
             ],
             [
              0.4444444444444444,
              "#bd3786"
             ],
             [
              0.5555555555555556,
              "#d8576b"
             ],
             [
              0.6666666666666666,
              "#ed7953"
             ],
             [
              0.7777777777777778,
              "#fb9f3a"
             ],
             [
              0.8888888888888888,
              "#fdca26"
             ],
             [
              1,
              "#f0f921"
             ]
            ],
            "type": "heatmapgl"
           }
          ],
          "histogram": [
           {
            "marker": {
             "colorbar": {
              "outlinewidth": 0,
              "ticks": ""
             }
            },
            "type": "histogram"
           }
          ],
          "histogram2d": [
           {
            "colorbar": {
             "outlinewidth": 0,
             "ticks": ""
            },
            "colorscale": [
             [
              0,
              "#0d0887"
             ],
             [
              0.1111111111111111,
              "#46039f"
             ],
             [
              0.2222222222222222,
              "#7201a8"
             ],
             [
              0.3333333333333333,
              "#9c179e"
             ],
             [
              0.4444444444444444,
              "#bd3786"
             ],
             [
              0.5555555555555556,
              "#d8576b"
             ],
             [
              0.6666666666666666,
              "#ed7953"
             ],
             [
              0.7777777777777778,
              "#fb9f3a"
             ],
             [
              0.8888888888888888,
              "#fdca26"
             ],
             [
              1,
              "#f0f921"
             ]
            ],
            "type": "histogram2d"
           }
          ],
          "histogram2dcontour": [
           {
            "colorbar": {
             "outlinewidth": 0,
             "ticks": ""
            },
            "colorscale": [
             [
              0,
              "#0d0887"
             ],
             [
              0.1111111111111111,
              "#46039f"
             ],
             [
              0.2222222222222222,
              "#7201a8"
             ],
             [
              0.3333333333333333,
              "#9c179e"
             ],
             [
              0.4444444444444444,
              "#bd3786"
             ],
             [
              0.5555555555555556,
              "#d8576b"
             ],
             [
              0.6666666666666666,
              "#ed7953"
             ],
             [
              0.7777777777777778,
              "#fb9f3a"
             ],
             [
              0.8888888888888888,
              "#fdca26"
             ],
             [
              1,
              "#f0f921"
             ]
            ],
            "type": "histogram2dcontour"
           }
          ],
          "mesh3d": [
           {
            "colorbar": {
             "outlinewidth": 0,
             "ticks": ""
            },
            "type": "mesh3d"
           }
          ],
          "parcoords": [
           {
            "line": {
             "colorbar": {
              "outlinewidth": 0,
              "ticks": ""
             }
            },
            "type": "parcoords"
           }
          ],
          "pie": [
           {
            "automargin": true,
            "type": "pie"
           }
          ],
          "scatter": [
           {
            "marker": {
             "colorbar": {
              "outlinewidth": 0,
              "ticks": ""
             }
            },
            "type": "scatter"
           }
          ],
          "scatter3d": [
           {
            "line": {
             "colorbar": {
              "outlinewidth": 0,
              "ticks": ""
             }
            },
            "marker": {
             "colorbar": {
              "outlinewidth": 0,
              "ticks": ""
             }
            },
            "type": "scatter3d"
           }
          ],
          "scattercarpet": [
           {
            "marker": {
             "colorbar": {
              "outlinewidth": 0,
              "ticks": ""
             }
            },
            "type": "scattercarpet"
           }
          ],
          "scattergeo": [
           {
            "marker": {
             "colorbar": {
              "outlinewidth": 0,
              "ticks": ""
             }
            },
            "type": "scattergeo"
           }
          ],
          "scattergl": [
           {
            "marker": {
             "colorbar": {
              "outlinewidth": 0,
              "ticks": ""
             }
            },
            "type": "scattergl"
           }
          ],
          "scattermapbox": [
           {
            "marker": {
             "colorbar": {
              "outlinewidth": 0,
              "ticks": ""
             }
            },
            "type": "scattermapbox"
           }
          ],
          "scatterpolar": [
           {
            "marker": {
             "colorbar": {
              "outlinewidth": 0,
              "ticks": ""
             }
            },
            "type": "scatterpolar"
           }
          ],
          "scatterpolargl": [
           {
            "marker": {
             "colorbar": {
              "outlinewidth": 0,
              "ticks": ""
             }
            },
            "type": "scatterpolargl"
           }
          ],
          "scatterternary": [
           {
            "marker": {
             "colorbar": {
              "outlinewidth": 0,
              "ticks": ""
             }
            },
            "type": "scatterternary"
           }
          ],
          "surface": [
           {
            "colorbar": {
             "outlinewidth": 0,
             "ticks": ""
            },
            "colorscale": [
             [
              0,
              "#0d0887"
             ],
             [
              0.1111111111111111,
              "#46039f"
             ],
             [
              0.2222222222222222,
              "#7201a8"
             ],
             [
              0.3333333333333333,
              "#9c179e"
             ],
             [
              0.4444444444444444,
              "#bd3786"
             ],
             [
              0.5555555555555556,
              "#d8576b"
             ],
             [
              0.6666666666666666,
              "#ed7953"
             ],
             [
              0.7777777777777778,
              "#fb9f3a"
             ],
             [
              0.8888888888888888,
              "#fdca26"
             ],
             [
              1,
              "#f0f921"
             ]
            ],
            "type": "surface"
           }
          ],
          "table": [
           {
            "cells": {
             "fill": {
              "color": "#EBF0F8"
             },
             "line": {
              "color": "white"
             }
            },
            "header": {
             "fill": {
              "color": "#C8D4E3"
             },
             "line": {
              "color": "white"
             }
            },
            "type": "table"
           }
          ]
         },
         "layout": {
          "annotationdefaults": {
           "arrowcolor": "#2a3f5f",
           "arrowhead": 0,
           "arrowwidth": 1
          },
          "coloraxis": {
           "colorbar": {
            "outlinewidth": 0,
            "ticks": ""
           }
          },
          "colorscale": {
           "diverging": [
            [
             0,
             "#8e0152"
            ],
            [
             0.1,
             "#c51b7d"
            ],
            [
             0.2,
             "#de77ae"
            ],
            [
             0.3,
             "#f1b6da"
            ],
            [
             0.4,
             "#fde0ef"
            ],
            [
             0.5,
             "#f7f7f7"
            ],
            [
             0.6,
             "#e6f5d0"
            ],
            [
             0.7,
             "#b8e186"
            ],
            [
             0.8,
             "#7fbc41"
            ],
            [
             0.9,
             "#4d9221"
            ],
            [
             1,
             "#276419"
            ]
           ],
           "sequential": [
            [
             0,
             "#0d0887"
            ],
            [
             0.1111111111111111,
             "#46039f"
            ],
            [
             0.2222222222222222,
             "#7201a8"
            ],
            [
             0.3333333333333333,
             "#9c179e"
            ],
            [
             0.4444444444444444,
             "#bd3786"
            ],
            [
             0.5555555555555556,
             "#d8576b"
            ],
            [
             0.6666666666666666,
             "#ed7953"
            ],
            [
             0.7777777777777778,
             "#fb9f3a"
            ],
            [
             0.8888888888888888,
             "#fdca26"
            ],
            [
             1,
             "#f0f921"
            ]
           ],
           "sequentialminus": [
            [
             0,
             "#0d0887"
            ],
            [
             0.1111111111111111,
             "#46039f"
            ],
            [
             0.2222222222222222,
             "#7201a8"
            ],
            [
             0.3333333333333333,
             "#9c179e"
            ],
            [
             0.4444444444444444,
             "#bd3786"
            ],
            [
             0.5555555555555556,
             "#d8576b"
            ],
            [
             0.6666666666666666,
             "#ed7953"
            ],
            [
             0.7777777777777778,
             "#fb9f3a"
            ],
            [
             0.8888888888888888,
             "#fdca26"
            ],
            [
             1,
             "#f0f921"
            ]
           ]
          },
          "colorway": [
           "#636efa",
           "#EF553B",
           "#00cc96",
           "#ab63fa",
           "#FFA15A",
           "#19d3f3",
           "#FF6692",
           "#B6E880",
           "#FF97FF",
           "#FECB52"
          ],
          "font": {
           "color": "#2a3f5f"
          },
          "geo": {
           "bgcolor": "white",
           "lakecolor": "white",
           "landcolor": "#E5ECF6",
           "showlakes": true,
           "showland": true,
           "subunitcolor": "white"
          },
          "hoverlabel": {
           "align": "left"
          },
          "hovermode": "closest",
          "mapbox": {
           "style": "light"
          },
          "paper_bgcolor": "white",
          "plot_bgcolor": "#E5ECF6",
          "polar": {
           "angularaxis": {
            "gridcolor": "white",
            "linecolor": "white",
            "ticks": ""
           },
           "bgcolor": "#E5ECF6",
           "radialaxis": {
            "gridcolor": "white",
            "linecolor": "white",
            "ticks": ""
           }
          },
          "scene": {
           "xaxis": {
            "backgroundcolor": "#E5ECF6",
            "gridcolor": "white",
            "gridwidth": 2,
            "linecolor": "white",
            "showbackground": true,
            "ticks": "",
            "zerolinecolor": "white"
           },
           "yaxis": {
            "backgroundcolor": "#E5ECF6",
            "gridcolor": "white",
            "gridwidth": 2,
            "linecolor": "white",
            "showbackground": true,
            "ticks": "",
            "zerolinecolor": "white"
           },
           "zaxis": {
            "backgroundcolor": "#E5ECF6",
            "gridcolor": "white",
            "gridwidth": 2,
            "linecolor": "white",
            "showbackground": true,
            "ticks": "",
            "zerolinecolor": "white"
           }
          },
          "shapedefaults": {
           "line": {
            "color": "#2a3f5f"
           }
          },
          "ternary": {
           "aaxis": {
            "gridcolor": "white",
            "linecolor": "white",
            "ticks": ""
           },
           "baxis": {
            "gridcolor": "white",
            "linecolor": "white",
            "ticks": ""
           },
           "bgcolor": "#E5ECF6",
           "caxis": {
            "gridcolor": "white",
            "linecolor": "white",
            "ticks": ""
           }
          },
          "title": {
           "x": 0.05
          },
          "xaxis": {
           "automargin": true,
           "gridcolor": "white",
           "linecolor": "white",
           "ticks": "",
           "title": {
            "standoff": 15
           },
           "zerolinecolor": "white",
           "zerolinewidth": 2
          },
          "yaxis": {
           "automargin": true,
           "gridcolor": "white",
           "linecolor": "white",
           "ticks": "",
           "title": {
            "standoff": 15
           },
           "zerolinecolor": "white",
           "zerolinewidth": 2
          }
         }
        },
        "title": {
         "font": {
          "color": "#4D5663"
         },
         "text": "Comparação até Out 2019"
        },
        "width": 990,
        "xaxis": {
         "autorange": true,
         "gridcolor": "#E1E5ED",
         "range": [
          "2004-07-01",
          "2019-10-01"
         ],
         "showgrid": true,
         "tickfont": {
          "color": "#4D5663"
         },
         "title": {
          "font": {
           "color": "#4D5663"
          },
          "text": ""
         },
         "type": "date",
         "zerolinecolor": "#E1E5ED"
        },
        "yaxis": {
         "autorange": true,
         "gridcolor": "#E1E5ED",
         "range": [
          50.689392765588124,
          473.7892374201656
         ],
         "showgrid": true,
         "tickfont": {
          "color": "#4D5663"
         },
         "title": {
          "font": {
           "color": "#4D5663"
          },
          "text": ""
         },
         "type": "linear",
         "zerolinecolor": "#E1E5ED"
        }
       }
      },
      "image/png": "[encoded data removed]",
      "text/html": [
       "<div>\n",
       "        \n",
       "        \n",
       "            <div id=\"de7e6df0-3489-4eeb-8dbf-df55d7f2b40b\" class=\"plotly-graph-div\" style=\"height:500px; width:990px;\"></div>\n",
       "            <script type=\"text/javascript\">\n",
       "                require([\"plotly\"], function(Plotly) {\n",
       "                    window.PLOTLYENV=window.PLOTLYENV || {};\n",
       "                    window.PLOTLYENV.BASE_URL='https://plot.ly';\n",
       "                    \n",
       "                if (document.getElementById(\"de7e6df0-3489-4eeb-8dbf-df55d7f2b40b\")) {\n",
       "                    Plotly.newPlot(\n",
       "                        'de7e6df0-3489-4eeb-8dbf-df55d7f2b40b',\n",
       "                        [{\"line\": {\"color\": \"rgba(255, 153, 51, 1.0)\", \"dash\": \"solid\", \"shape\": \"linear\", \"width\": 1.3}, \"mode\": \"lines\", \"name\": \"US_GDP\", \"text\": \"\", \"type\": \"scatter\", \"x\": [\"2004-07-01\", \"2004-10-01\", \"2005-01-01\", \"2005-04-01\", \"2005-07-01\", \"2005-10-01\", \"2006-01-01\", \"2006-04-01\", \"2006-07-01\", \"2006-10-01\", \"2007-01-01\", \"2007-04-01\", \"2007-07-01\", \"2007-10-01\", \"2008-01-01\", \"2008-04-01\", \"2008-07-01\", \"2008-10-01\", \"2009-01-01\", \"2009-04-01\", \"2009-07-01\", \"2009-10-01\", \"2010-01-01\", \"2010-04-01\", \"2010-07-01\", \"2010-10-01\", \"2011-01-01\", \"2011-04-01\", \"2011-07-01\", \"2011-10-01\", \"2012-01-01\", \"2012-04-01\", \"2012-07-01\", \"2012-10-01\", \"2013-01-01\", \"2013-04-01\", \"2013-07-01\", \"2013-10-01\", \"2014-01-01\", \"2014-04-01\", \"2014-07-01\", \"2014-10-01\", \"2015-01-01\", \"2015-04-01\", \"2015-07-01\", \"2015-10-01\", \"2016-01-01\", \"2016-04-01\", \"2016-07-01\", \"2016-10-01\", \"2017-01-01\", \"2017-04-01\", \"2017-07-01\", \"2017-10-01\", \"2018-01-01\", \"2018-04-01\", \"2018-07-01\", \"2018-10-01\", \"2019-01-01\", \"2019-04-01\", \"2019-04-01\", \"2019-07-01\", \"2019-10-01\"], \"y\": [100.0, 101.00167411177227, 102.11972581511324, 102.5910709614335, 103.50549990238495, 104.15909896616546, 105.54471404876773, 105.79137177061517, 105.95495992252741, 106.85755338547213, 107.10919555804557, 107.7227945775813, 108.30802163348403, 108.96636318436302, 108.34013366347313, 108.89958813642657, 108.3100541279548, 105.96642899846968, 104.77674914814979, 104.6258813697962, 105.00683581813848, 106.16021421109075, 106.56869720699311, 107.5512907584274, 108.3441709994287, 108.88795314256829, 108.62614158439443, 109.40278952261546, 109.37239889100468, 110.6403366916963, 111.50664252376636, 111.98634578510422, 112.13746935357827, 112.2651639296663, 113.25946852067035, 113.39922671189959, 114.28761345328833, 115.19991311431798, 114.8742369849839, 116.42926808629723, 117.8507905712167, 118.51404744035668, 119.4441694508615, 120.3296802817065, 120.727558357479, 120.76682559759486, 121.37475575500119, 121.94563782441794, 122.60693824479863, 123.22330256293405, 123.92171329052285, 124.58394699918091, 125.56915375779194, 126.66771010600498, 127.46819491815549, 128.5734916817053, 129.5039109618096, 129.85529745487446, 130.84895911395412, 131.50280705460858, 131.50280705460858, 132.18896059615415, 132.88621681157755]}, {\"line\": {\"color\": \"rgba(65, 105, 225, 1.0)\", \"dash\": \"solid\", \"shape\": \"linear\", \"width\": 1.3}, \"mode\": \"lines\", \"name\": \"EU_GDP\", \"text\": \"\", \"type\": \"scatter\", \"x\": [\"2004-07-01\", \"2004-10-01\", \"2005-01-01\", \"2005-04-01\", \"2005-07-01\", \"2005-10-01\", \"2006-01-01\", \"2006-04-01\", \"2006-07-01\", \"2006-10-01\", \"2007-01-01\", \"2007-04-01\", \"2007-07-01\", \"2007-10-01\", \"2008-01-01\", \"2008-04-01\", \"2008-07-01\", \"2008-10-01\", \"2009-01-01\", \"2009-04-01\", \"2009-07-01\", \"2009-10-01\", \"2010-01-01\", \"2010-04-01\", \"2010-07-01\", \"2010-10-01\", \"2011-01-01\", \"2011-04-01\", \"2011-07-01\", \"2011-10-01\", \"2012-01-01\", \"2012-04-01\", \"2012-07-01\", \"2012-10-01\", \"2013-01-01\", \"2013-04-01\", \"2013-07-01\", \"2013-10-01\", \"2014-01-01\", \"2014-04-01\", \"2014-07-01\", \"2014-10-01\", \"2015-01-01\", \"2015-04-01\", \"2015-07-01\", \"2015-10-01\", \"2016-01-01\", \"2016-04-01\", \"2016-07-01\", \"2016-10-01\", \"2017-01-01\", \"2017-04-01\", \"2017-07-01\", \"2017-10-01\", \"2018-01-01\", \"2018-04-01\", \"2018-07-01\", \"2018-10-01\", \"2019-01-01\", \"2019-04-01\", \"2019-04-01\", \"2019-07-01\", \"2019-10-01\"], \"y\": [100.0, 100.43071273191846, 100.79663261982222, 101.5553938106866, 102.41170483707475, 103.25647763940697, 104.15138123375651, 105.23394380685491, 105.79051024937918, 106.82007741377353, 107.65493040078114, 108.38248986766467, 108.99396589431238, 109.66240193257278, 110.23224796706927, 109.88445292766815, 109.13853266357576, 107.17920463751534, 104.22087975901061, 104.11374243028364, 104.45832723799175, 104.99879932017528, 105.40755885275226, 106.47100293420493, 107.03420917271531, 107.63905204981934, 108.4890057540246, 108.58758246490363, 108.78179151266582, 108.5214337466335, 108.43902118374069, 108.16507144294198, 108.2775658042664, 107.88934377879364, 107.7649290229736, 108.33496115785812, 108.82582419375495, 109.19182051574666, 109.73314334256104, 110.09892697839501, 110.70296231274396, 111.24204861168113, 112.07620372223374, 112.6347308652744, 113.22562618294214, 113.83231677104129, 114.40588813651897, 114.85337316590591, 115.36292932113304, 116.28197279438307, 117.07984165249701, 117.88510800103391, 118.71206833765761, 119.59104040950592, 119.9712401789674, 120.52267224471562, 120.89623554141222, 121.40672552180057, 122.04827337721625, 122.24609476643838, 122.24609476643838, 122.72202989264068, 122.90125453594771]}, {\"line\": {\"color\": \"rgba(112, 128, 144, 1.0)\", \"dash\": \"solid\", \"shape\": \"linear\", \"width\": 1.3}, \"mode\": \"lines\", \"name\": \"US_CPI\", \"text\": \"\", \"type\": \"scatter\", \"x\": [\"2004-07-01\", \"2004-10-01\", \"2005-01-01\", \"2005-04-01\", \"2005-07-01\", \"2005-10-01\", \"2006-01-01\", \"2006-04-01\", \"2006-07-01\", \"2006-10-01\", \"2007-01-01\", \"2007-04-01\", \"2007-07-01\", \"2007-10-01\", \"2008-01-01\", \"2008-04-01\", \"2008-07-01\", \"2008-10-01\", \"2009-01-01\", \"2009-04-01\", \"2009-07-01\", \"2009-10-01\", \"2010-01-01\", \"2010-04-01\", \"2010-07-01\", \"2010-10-01\", \"2011-01-01\", \"2011-04-01\", \"2011-07-01\", \"2011-10-01\", \"2012-01-01\", \"2012-04-01\", \"2012-07-01\", \"2012-10-01\", \"2013-01-01\", \"2013-04-01\", \"2013-07-01\", \"2013-10-01\", \"2014-01-01\", \"2014-04-01\", \"2014-07-01\", \"2014-10-01\", \"2015-01-01\", \"2015-04-01\", \"2015-07-01\", \"2015-10-01\", \"2016-01-01\", \"2016-04-01\", \"2016-07-01\", \"2016-10-01\", \"2017-01-01\", \"2017-04-01\", \"2017-07-01\", \"2017-10-01\", \"2018-01-01\", \"2018-04-01\", \"2018-07-01\", \"2018-10-01\", \"2019-01-01\", \"2019-04-01\", \"2019-04-01\", \"2019-07-01\", \"2019-10-01\"], \"y\": [100.0, 100.89899524061343, 101.32205182443153, 102.43257535695398, 103.06716023268112, 105.28820729772607, 105.39397144368061, 106.13432046536224, 107.29772607086198, 106.76890534108938, 107.58170280274987, 108.88630354309892, 109.78476996298254, 110.62400846113167, 112.20200951877315, 113.13696456901113, 115.82020095187731, 114.75145425700688, 112.07456372289795, 112.48492860920149, 113.55156002115282, 114.4944473823374, 115.01216287678477, 114.9672131147541, 115.07403490216817, 115.830248545743, 116.96827075621366, 118.50502379693285, 119.1935483870968, 119.91010047593866, 120.48757271285035, 121.19883659439452, 120.88313061872027, 122.49497620306717, 122.51665785298785, 122.57905869910101, 123.1623479640402, 123.56901110523533, 124.42517186673716, 125.04918032786885, 125.59386567953463, 125.55790586991012, 124.1390798519302, 124.91909042834479, 125.87731359069276, 125.7181385510312, 125.76784769962983, 126.30089899524062, 126.97567424643046, 127.78476996298255, 128.8826017979905, 129.06292966684293, 129.20571126388154, 130.39132734003175, 131.579058699101, 132.18244315177154, 132.98889476467477, 133.6737176097303, 133.55367530407193, 134.81914331041776, 134.81914331041776, 135.42411422527763, 136.02802749867797]}, {\"line\": {\"color\": \"rgba(128, 0, 128, 1.0)\", \"dash\": \"solid\", \"shape\": \"linear\", \"width\": 1.3}, \"mode\": \"lines\", \"name\": \"EU_CPI\", \"text\": \"\", \"type\": \"scatter\", \"x\": [\"2004-07-01\", \"2004-10-01\", \"2005-01-01\", \"2005-04-01\", \"2005-07-01\", \"2005-10-01\", \"2006-01-01\", \"2006-04-01\", \"2006-07-01\", \"2006-10-01\", \"2007-01-01\", \"2007-04-01\", \"2007-07-01\", \"2007-10-01\", \"2008-01-01\", \"2008-04-01\", \"2008-07-01\", \"2008-10-01\", \"2009-01-01\", \"2009-04-01\", \"2009-07-01\", \"2009-10-01\", \"2010-01-01\", \"2010-04-01\", \"2010-07-01\", \"2010-10-01\", \"2011-01-01\", \"2011-04-01\", \"2011-07-01\", \"2011-10-01\", \"2012-01-01\", \"2012-04-01\", \"2012-07-01\", \"2012-10-01\", \"2013-01-01\", \"2013-04-01\", \"2013-07-01\", \"2013-10-01\", \"2014-01-01\", \"2014-04-01\", \"2014-07-01\", \"2014-10-01\", \"2015-01-01\", \"2015-04-01\", \"2015-07-01\", \"2015-10-01\", \"2016-01-01\", \"2016-04-01\", \"2016-07-01\", \"2016-10-01\", \"2017-01-01\", \"2017-04-01\", \"2017-07-01\", \"2017-10-01\", \"2018-01-01\", \"2018-04-01\", \"2018-07-01\", \"2018-10-01\", \"2019-01-01\", \"2019-04-01\", \"2019-04-01\", \"2019-07-01\", \"2019-10-01\"], \"y\": [100.0, 100.69289779757486, 100.54441969809456, 101.96733481811432, 102.264291017075, 103.22939866369711, 102.99430833951992, 104.4543429844098, 104.82553823311062, 105.13486760702797, 105.19673348181145, 106.78049987626825, 106.91660480079189, 107.99307102202427, 108.78495421925267, 110.61618411284337, 111.69265033407574, 111.98960653303641, 110.7027963375402, 112.05147240781986, 111.964860183123, 112.54639940608759, 112.53402623113091, 114.41474882454838, 114.30339024993815, 115.16951249690672, 115.61494679534769, 118.13907448651327, 117.6565206632022, 119.0175699084385, 118.93095768374167, 121.35609997525366, 120.66320217767881, 122.17272952239544, 121.45508537490721, 123.05122494432072, 122.74189557040339, 123.3110616184113, 122.54392477109629, 124.04107894085624, 123.41004701806484, 123.9049740163326, 121.96238554813166, 124.17718386537986, 123.88022766641922, 124.15243751546647, 122.28408809700571, 123.8926008413759, 124.07819846572632, 124.80821578817125, 124.33803513981687, 126.33011630784459, 125.99604058401385, 126.88690918089583, 126.35486265775799, 128.18609255134868, 128.82949764909677, 129.80697847067557, 128.23558525117548, 130.63598119277407, 130.63598119277407, 130.64835436773078, 131.1927740658253]}, {\"line\": {\"color\": \"rgba(219, 64, 82, 1.0)\", \"dash\": \"solid\", \"shape\": \"linear\", \"width\": 1.3}, \"mode\": \"lines\", \"name\": \"S&P_500\", \"text\": \"\", \"type\": \"scatter\", \"x\": [\"2004-07-01\", \"2004-10-01\", \"2005-01-01\", \"2005-04-01\", \"2005-07-01\", \"2005-10-01\", \"2006-01-01\", \"2006-04-01\", \"2006-07-01\", \"2006-10-01\", \"2007-01-01\", \"2007-04-01\", \"2007-07-01\", \"2007-10-01\", \"2008-01-01\", \"2008-04-01\", \"2008-07-01\", \"2008-10-01\", \"2009-01-01\", \"2009-04-01\", \"2009-07-01\", \"2009-10-01\", \"2010-01-01\", \"2010-04-01\", \"2010-07-01\", \"2010-10-01\", \"2011-01-01\", \"2011-04-01\", \"2011-07-01\", \"2011-10-01\", \"2012-01-01\", \"2012-04-01\", \"2012-07-01\", \"2012-10-01\", \"2013-01-01\", \"2013-04-01\", \"2013-07-01\", \"2013-10-01\", \"2014-01-01\", \"2014-04-01\", \"2014-07-01\", \"2014-10-01\", \"2015-01-01\", \"2015-04-01\", \"2015-07-01\", \"2015-10-01\", \"2016-01-01\", \"2016-04-01\", \"2016-07-01\", \"2016-10-01\", \"2017-01-01\", \"2017-04-01\", \"2017-07-01\", \"2017-10-01\", \"2018-01-01\", \"2018-04-01\", \"2018-07-01\", \"2018-10-01\", \"2019-01-01\", \"2019-04-01\", \"2019-04-01\", \"2019-07-01\", \"2019-10-01\"], \"y\": [100.0, 100.22676138678762, 107.35025776392013, 103.89568976207771, 105.80190266976102, 108.84635144471804, 110.57186387230497, 114.69785816783885, 112.51262246000672, 118.32781192977481, 125.63112300033659, 125.8578843871242, 133.1647386043545, 137.0347405530852, 130.06537105603485, 121.36871755806331, 113.81561464736833, 102.84514677485073, 80.00868070933795, 71.844384998317, 81.78734033695325, 91.22273991531878, 98.77407125267949, 104.35452725565573, 91.00306482186828, 101.53241093415062, 111.42133328609138, 118.023101316279, 118.66618243662197, 100.21967509345049, 111.39653125941147, 124.76039470653888, 120.65831665101776, 127.95099828157386, 124.22537955958688, 138.99675802079827, 143.05100359629387, 150.14084008007512, 163.07952592697575, 167.016847662409, 174.79405459989016, 172.3882580119404, 184.2746292982798, 182.44459404397045, 184.01509380480806, 170.40941059755167, 182.7696777508105, 183.60408879125552, 186.2765071660141, 192.06246567576665, 198.31257639910004, 209.28658741828613, 214.66242670115327, 223.16154977235283, 236.8248091129732, 233.92474356475984, 240.78959023508776, 259.05628288483, 220.18353499743117, 253.97186741545164, 253.97186741545164, 262.5763991000407, 260.4434248055698]}, {\"line\": {\"color\": \"rgba(0, 128, 128, 1.0)\", \"dash\": \"solid\", \"shape\": \"linear\", \"width\": 1.3}, \"mode\": \"lines\", \"name\": \"Stoxx_600\", \"text\": \"\", \"type\": \"scatter\", \"x\": [\"2004-07-01\", \"2004-10-01\", \"2005-01-01\", \"2005-04-01\", \"2005-07-01\", \"2005-10-01\", \"2006-01-01\", \"2006-04-01\", \"2006-07-01\", \"2006-10-01\", \"2007-01-01\", \"2007-04-01\", \"2007-07-01\", \"2007-10-01\", \"2008-01-01\", \"2008-04-01\", \"2008-07-01\", \"2008-10-01\", \"2009-01-01\", \"2009-04-01\", \"2009-07-01\", \"2009-10-01\", \"2010-01-01\", \"2010-04-01\", \"2010-07-01\", \"2010-10-01\", \"2011-01-01\", \"2011-04-01\", \"2011-07-01\", \"2011-10-01\", \"2012-01-01\", \"2012-04-01\", \"2012-07-01\", \"2012-10-01\", \"2013-01-01\", \"2013-04-01\", \"2013-07-01\", \"2013-10-01\", \"2014-01-01\", \"2014-04-01\", \"2014-07-01\", \"2014-10-01\", \"2015-01-01\", \"2015-04-01\", \"2015-07-01\", \"2015-10-01\", \"2016-01-01\", \"2016-04-01\", \"2016-07-01\", \"2016-10-01\", \"2017-01-01\", \"2017-04-01\", \"2017-07-01\", \"2017-10-01\", \"2018-01-01\", \"2018-04-01\", \"2018-07-01\", \"2018-10-01\", \"2019-01-01\", \"2019-04-01\", \"2019-04-01\", \"2019-07-01\", \"2019-10-01\"], \"y\": [100.0, 100.7372542485838, 104.59430189936687, 109.7259246917694, 115.823892035988, 123.87537487504163, 129.13612129290235, 139.30356547817394, 133.56381206264578, 142.2150949683439, 152.14095301566144, 155.87304231922693, 163.99116961012993, 158.63878707097635, 151.88270576474508, 131.65194935021657, 117.87737420859712, 107.36004665111629, 82.01432855714762, 74.66677774075308, 87.24591802732422, 99.39186937687438, 105.4481839386871, 111.47117627457514, 98.84205264911697, 107.91819393535486, 115.3865378207264, 116.63612129290235, 114.51182939020326, 94.2102632455848, 101.85771409530156, 109.68010663112295, 104.61929356881039, 113.43302232589136, 116.11962679106962, 122.36754415194933, 120.08080639786738, 130.31489503498835, 136.25874708430524, 140.09913362212595, 143.65628123958678, 141.71109630123294, 142.04431856047984, 165.99466844385202, 161.22542485838053, 144.2144285238254, 153.15728090636455, 138.76624458513825, 138.38720426524492, 142.83572142619127, 150.54148617127626, 158.75541486171275, 158.01816061312894, 161.67944018660447, 162.10429856714427, 154.47767410863045, 158.2514161946018, 159.92169276907697, 140.04915028323893, 159.80923025658115, 159.80923025658115, 161.55864711762743, 161.6086304565145]}, {\"line\": {\"color\": \"rgba(25, 25, 112, 1.0)\", \"dash\": \"solid\", \"shape\": \"linear\", \"width\": 1.3}, \"mode\": \"lines\", \"name\": \"Gold\", \"text\": \"\", \"type\": \"scatter\", \"x\": [\"2004-07-01\", \"2004-10-01\", \"2005-01-01\", \"2005-04-01\", \"2005-07-01\", \"2005-10-01\", \"2006-01-01\", \"2006-04-01\", \"2006-07-01\", \"2006-10-01\", \"2007-01-01\", \"2007-04-01\", \"2007-07-01\", \"2007-10-01\", \"2008-01-01\", \"2008-04-01\", \"2008-07-01\", \"2008-10-01\", \"2009-01-01\", \"2009-04-01\", \"2009-07-01\", \"2009-10-01\", \"2010-01-01\", \"2010-04-01\", \"2010-07-01\", \"2010-10-01\", \"2011-01-01\", \"2011-04-01\", \"2011-07-01\", \"2011-10-01\", \"2012-01-01\", \"2012-04-01\", \"2012-07-01\", \"2012-10-01\", \"2013-01-01\", \"2013-04-01\", \"2013-07-01\", \"2013-10-01\", \"2014-01-01\", \"2014-04-01\", \"2014-07-01\", \"2014-10-01\", \"2015-01-01\", \"2015-04-01\", \"2015-07-01\", \"2015-10-01\", \"2016-01-01\", \"2016-04-01\", \"2016-07-01\", \"2016-10-01\", \"2017-01-01\", \"2017-04-01\", \"2017-07-01\", \"2017-10-01\", \"2018-01-01\", \"2018-04-01\", \"2018-07-01\", \"2018-10-01\", \"2019-01-01\", \"2019-04-01\", \"2019-04-01\", \"2019-07-01\", \"2019-10-01\"], \"y\": [100.0, 105.90172239108409, 110.33434650455926, 108.19402228976696, 109.57446808510637, 119.87082066869301, 129.93920972644378, 147.41641337386017, 155.3951367781155, 151.78571428571428, 160.08105369807498, 167.61651469098277, 164.76697061803443, 188.06990881458967, 211.18287740628165, 224.86068895643365, 237.46200607902733, 222.89766970618032, 220.3014184397163, 234.16919959473148, 237.65197568389058, 254.49594731509623, 275.4559270516717, 284.5744680851064, 312.5633232016211, 333.3966565349544, 356.00303951367783, 359.1691995947315, 375.63323201621074, 410.3343465045593, 387.7912867274569, 421.0992907801418, 404.8885511651469, 452.6342451874367, 419.83282674772033, 404.8252279635258, 314.7796352583586, 326.9376899696049, 305.09118541033433, 325.16464032421476, 336.2462006079027, 308.1306990881459, 305.4711246200608, 303.1914893617021, 295.8459979736575, 283.43465045592706, 268.4903748733536, 307.3961499493414, 339.4123606889564, 334.97973657548124, 290.2482269503546, 315.31155015197567, 314.6529888551165, 324.99999999999994, 327.00101317122596, 335.321681864235, 316.7299898682877, 301.2537993920972, 323.9614994934144, 327.63424518743665, 327.63424518743665, 352.10233029381965, 373.2142857142857]}, {\"line\": {\"color\": \"rgba(128, 128, 0, 1.0)\", \"dash\": \"solid\", \"shape\": \"linear\", \"width\": 1.3}, \"mode\": \"lines\", \"name\": \"LP06TREU\", \"text\": \"\", \"type\": \"scatter\", \"x\": [\"2004-07-01\", \"2004-10-01\", \"2005-01-01\", \"2005-04-01\", \"2005-07-01\", \"2005-10-01\", \"2006-01-01\", \"2006-04-01\", \"2006-07-01\", \"2006-10-01\", \"2007-01-01\", \"2007-04-01\", \"2007-07-01\", \"2007-10-01\", \"2008-01-01\", \"2008-04-01\", \"2008-07-01\", \"2008-10-01\", \"2009-01-01\", \"2009-04-01\", \"2009-07-01\", \"2009-10-01\", \"2010-01-01\", \"2010-04-01\", \"2010-07-01\", \"2010-10-01\", \"2011-01-01\", \"2011-04-01\", \"2011-07-01\", \"2011-10-01\", \"2012-01-01\", \"2012-04-01\", \"2012-07-01\", \"2012-10-01\", \"2013-01-01\", \"2013-04-01\", \"2013-07-01\", \"2013-10-01\", \"2014-01-01\", \"2014-04-01\", \"2014-07-01\", \"2014-10-01\", \"2015-01-01\", \"2015-04-01\", \"2015-07-01\", \"2015-10-01\", \"2016-01-01\", \"2016-04-01\", \"2016-07-01\", \"2016-10-01\", \"2017-01-01\", \"2017-04-01\", \"2017-07-01\", \"2017-10-01\", \"2018-01-01\", \"2018-04-01\", \"2018-07-01\", \"2018-10-01\", \"2019-01-01\", \"2019-04-01\", \"2019-04-01\", \"2019-07-01\", \"2019-10-01\"], \"y\": [100.0, 102.22060693889033, 104.76062723948587, 106.26918467427329, 110.18568624573504, 110.7483857357743, 110.72476794951756, 108.76510315392989, 108.05213645424419, 111.22578603661447, 111.28823176920912, 111.30038461068106, 109.62428611610473, 111.48168360421178, 111.8581159579802, 112.1139370926123, 109.62673197099215, 112.40843330765185, 113.80371708796517, 114.77479791123993, 118.02595052035562, 121.97768768878943, 122.52120250455543, 126.10522067725722, 128.61352129728147, 130.70533868975554, 127.80042741314159, 126.12234166146922, 128.04692372601534, 133.04823837301734, 134.87941935404976, 139.07123246627776, 141.1285785914322, 146.15809700260482, 149.15511000232357, 148.86596409485026, 147.01636276919692, 149.0425242445366, 149.84476464761346, 154.2855199276027, 159.1794462584535, 164.590135867239, 168.49066294896724, 176.8328625062675, 169.8299213657654, 172.00803157598662, 172.21149612943464, 175.23342627581906, 178.542591505546, 179.48730295581566, 175.5040754057062, 174.78889215002874, 174.1444858201563, 174.74448459722888, 175.8504696041384, 176.9756392853212, 176.034367318487, 174.3691987379389, 176.0840487458879, 181.74085250272103, 181.74085250272103, 186.16372246884595, 191.4372149050397]}, {\"line\": {\"color\": \"rgba(0, 191, 255, 1.0)\", \"dash\": \"solid\", \"shape\": \"linear\", \"width\": 1.3}, \"mode\": \"lines\", \"name\": \"LBUSTRUU\", \"text\": \"\", \"type\": \"scatter\", \"x\": [\"2004-07-01\", \"2004-10-01\", \"2005-01-01\", \"2005-04-01\", \"2005-07-01\", \"2005-10-01\", \"2006-01-01\", \"2006-04-01\", \"2006-07-01\", \"2006-10-01\", \"2007-01-01\", \"2007-04-01\", \"2007-07-01\", \"2007-10-01\", \"2008-01-01\", \"2008-04-01\", \"2008-07-01\", \"2008-10-01\", \"2009-01-01\", \"2009-04-01\", \"2009-07-01\", \"2009-10-01\", \"2010-01-01\", \"2010-04-01\", \"2010-07-01\", \"2010-10-01\", \"2011-01-01\", \"2011-04-01\", \"2011-07-01\", \"2011-10-01\", \"2012-01-01\", \"2012-04-01\", \"2012-07-01\", \"2012-10-01\", \"2013-01-01\", \"2013-04-01\", \"2013-07-01\", \"2013-10-01\", \"2014-01-01\", \"2014-04-01\", \"2014-07-01\", \"2014-10-01\", \"2015-01-01\", \"2015-04-01\", \"2015-07-01\", \"2015-10-01\", \"2016-01-01\", \"2016-04-01\", \"2016-07-01\", \"2016-10-01\", \"2017-01-01\", \"2017-04-01\", \"2017-07-01\", \"2017-10-01\", \"2018-01-01\", \"2018-04-01\", \"2018-07-01\", \"2018-10-01\", \"2019-01-01\", \"2019-04-01\", \"2019-04-01\", \"2019-07-01\", \"2019-10-01\"], \"y\": [100.0, 102.65711903308721, 103.90358380111581, 103.62334413602801, 106.11885256470872, 105.7982102485193, 106.4274600486551, 105.73889571817861, 105.65809041597538, 109.68116290864704, 111.03937969036097, 112.7087828486448, 112.1250934848576, 115.43467235169219, 118.77519793000886, 120.79361122334072, 119.95976927507328, 119.79128162367081, 124.99892546140687, 125.29291922048674, 127.42308452750389, 132.6367457813615, 132.41238212311632, 134.58638860473314, 139.55161653585952, 142.93598328877582, 141.0740228146034, 141.6568525475161, 144.73605033998402, 150.45173602455105, 152.13661253857595, 152.59651505643478, 155.7453429497374, 158.32423557324483, 158.5494588623645, 158.50561768776487, 154.76966190717707, 155.39203466031688, 155.34045680784672, 158.03368033766304, 161.08021215689982, 162.50805903944848, 164.60813726585803, 167.76212294440768, 163.8086805525707, 166.56809565972372, 165.51332857670917, 170.4596446285965, 174.67355517540767, 175.10508987440795, 169.89486714404833, 171.28231137549537, 173.75804829406255, 175.2323152438343, 175.91228326556575, 173.34284658167783, 173.06776470183704, 172.93366228541464, 175.93205477567932, 180.43222240369985, 180.43222240369985, 186.4599540957113, 191.24379991231763]}, {\"line\": {\"color\": \"rgba(128, 177, 211, 1.0)\", \"dash\": \"solid\", \"shape\": \"linear\", \"width\": 1.3}, \"mode\": \"lines\", \"name\": \"WTI\", \"text\": \"\", \"type\": \"scatter\", \"x\": [\"2004-07-01\", \"2004-10-01\", \"2005-01-01\", \"2005-04-01\", \"2005-07-01\", \"2005-10-01\", \"2006-01-01\", \"2006-04-01\", \"2006-07-01\", \"2006-10-01\", \"2007-01-01\", \"2007-04-01\", \"2007-07-01\", \"2007-10-01\", \"2008-01-01\", \"2008-04-01\", \"2008-07-01\", \"2008-10-01\", \"2009-01-01\", \"2009-04-01\", \"2009-07-01\", \"2009-10-01\", \"2010-01-01\", \"2010-04-01\", \"2010-07-01\", \"2010-10-01\", \"2011-01-01\", \"2011-04-01\", \"2011-07-01\", \"2011-10-01\", \"2012-01-01\", \"2012-04-01\", \"2012-07-01\", \"2012-10-01\", \"2013-01-01\", \"2013-04-01\", \"2013-07-01\", \"2013-10-01\", \"2014-01-01\", \"2014-04-01\", \"2014-07-01\", \"2014-10-01\", \"2015-01-01\", \"2015-04-01\", \"2015-07-01\", \"2015-10-01\", \"2016-01-01\", \"2016-04-01\", \"2016-07-01\", \"2016-10-01\", \"2017-01-01\", \"2017-04-01\", \"2017-07-01\", \"2017-10-01\", \"2018-01-01\", \"2018-04-01\", \"2018-07-01\", \"2018-10-01\", \"2019-01-01\", \"2019-04-01\", \"2019-04-01\", \"2019-07-01\", \"2019-10-01\"], \"y\": [100.0, 130.57262226591303, 115.11427869255346, 130.3514376996805, 144.26148930941264, 153.28090439911526, 160.99778815433768, 171.2705824526911, 182.87048414843943, 144.70385844187763, 134.11157532563286, 157.21307446547064, 182.30523470140085, 211.84566232489556, 228.43450479233226, 276.652740231015, 327.94298353403786, 188.37552224133697, 102.58048660604572, 122.36421725239617, 157.5079872204473, 186.33570901941508, 192.23396411894817, 207.61857950356358, 187.68739247972476, 201.2779552715655, 219.75915458343573, 270.4349963135906, 238.854755468174, 212.3617596461047, 246.35045465716394, 253.94445809781274, 216.09732120914234, 220.12779552715656, 232.71073973949373, 226.2718112558368, 257.23765052838536, 247.08773654460558, 232.53870729909073, 250.8478741705579, 254.5834357335955, 207.4219710002458, 116.04816908331286, 133.81666257065618, 125.09216023593022, 113.59056279184074, 77.85696731383632, 100.14745637748834, 109.73212091422954, 122.33964118948147, 129.02433030228556, 125.48537724256575, 114.59818137134432, 126.76333251413124, 156.54952076677318, 162.81641681002705, 174.4408945686901, 173.87564512165153, 126.27181125583682, 156.9427377734087, 156.9427377734087, 140.9437208159253, 132.61243548783486]}],\n",
       "                        {\"height\": 500, \"legend\": {\"bgcolor\": \"#F5F6F9\", \"font\": {\"color\": \"#4D5663\"}}, \"paper_bgcolor\": \"#F5F6F9\", \"plot_bgcolor\": \"#F5F6F9\", \"template\": {\"data\": {\"bar\": [{\"error_x\": {\"color\": \"#2a3f5f\"}, \"error_y\": {\"color\": \"#2a3f5f\"}, \"marker\": {\"line\": {\"color\": \"#E5ECF6\", \"width\": 0.5}}, \"type\": \"bar\"}], \"barpolar\": [{\"marker\": {\"line\": {\"color\": \"#E5ECF6\", \"width\": 0.5}}, \"type\": \"barpolar\"}], \"carpet\": [{\"aaxis\": {\"endlinecolor\": \"#2a3f5f\", \"gridcolor\": \"white\", \"linecolor\": \"white\", \"minorgridcolor\": \"white\", \"startlinecolor\": \"#2a3f5f\"}, \"baxis\": {\"endlinecolor\": \"#2a3f5f\", \"gridcolor\": \"white\", \"linecolor\": \"white\", \"minorgridcolor\": \"white\", \"startlinecolor\": \"#2a3f5f\"}, \"type\": \"carpet\"}], \"choropleth\": [{\"colorbar\": {\"outlinewidth\": 0, \"ticks\": \"\"}, \"type\": \"choropleth\"}], \"contour\": [{\"colorbar\": {\"outlinewidth\": 0, \"ticks\": \"\"}, \"colorscale\": [[0.0, \"#0d0887\"], [0.1111111111111111, \"#46039f\"], [0.2222222222222222, \"#7201a8\"], [0.3333333333333333, \"#9c179e\"], [0.4444444444444444, \"#bd3786\"], [0.5555555555555556, \"#d8576b\"], [0.6666666666666666, \"#ed7953\"], [0.7777777777777778, \"#fb9f3a\"], [0.8888888888888888, \"#fdca26\"], [1.0, \"#f0f921\"]], \"type\": \"contour\"}], \"contourcarpet\": [{\"colorbar\": {\"outlinewidth\": 0, \"ticks\": \"\"}, \"type\": \"contourcarpet\"}], \"heatmap\": [{\"colorbar\": {\"outlinewidth\": 0, \"ticks\": \"\"}, \"colorscale\": [[0.0, \"#0d0887\"], [0.1111111111111111, \"#46039f\"], [0.2222222222222222, \"#7201a8\"], [0.3333333333333333, \"#9c179e\"], [0.4444444444444444, \"#bd3786\"], [0.5555555555555556, \"#d8576b\"], [0.6666666666666666, \"#ed7953\"], [0.7777777777777778, \"#fb9f3a\"], [0.8888888888888888, \"#fdca26\"], [1.0, \"#f0f921\"]], \"type\": \"heatmap\"}], \"heatmapgl\": [{\"colorbar\": {\"outlinewidth\": 0, \"ticks\": \"\"}, \"colorscale\": [[0.0, \"#0d0887\"], [0.1111111111111111, \"#46039f\"], [0.2222222222222222, \"#7201a8\"], [0.3333333333333333, \"#9c179e\"], [0.4444444444444444, \"#bd3786\"], [0.5555555555555556, \"#d8576b\"], [0.6666666666666666, \"#ed7953\"], [0.7777777777777778, \"#fb9f3a\"], [0.8888888888888888, \"#fdca26\"], [1.0, \"#f0f921\"]], \"type\": \"heatmapgl\"}], \"histogram\": [{\"marker\": {\"colorbar\": {\"outlinewidth\": 0, \"ticks\": \"\"}}, \"type\": \"histogram\"}], \"histogram2d\": [{\"colorbar\": {\"outlinewidth\": 0, \"ticks\": \"\"}, \"colorscale\": [[0.0, \"#0d0887\"], [0.1111111111111111, \"#46039f\"], [0.2222222222222222, \"#7201a8\"], [0.3333333333333333, \"#9c179e\"], [0.4444444444444444, \"#bd3786\"], [0.5555555555555556, \"#d8576b\"], [0.6666666666666666, \"#ed7953\"], [0.7777777777777778, \"#fb9f3a\"], [0.8888888888888888, \"#fdca26\"], [1.0, \"#f0f921\"]], \"type\": \"histogram2d\"}], \"histogram2dcontour\": [{\"colorbar\": {\"outlinewidth\": 0, \"ticks\": \"\"}, \"colorscale\": [[0.0, \"#0d0887\"], [0.1111111111111111, \"#46039f\"], [0.2222222222222222, \"#7201a8\"], [0.3333333333333333, \"#9c179e\"], [0.4444444444444444, \"#bd3786\"], [0.5555555555555556, \"#d8576b\"], [0.6666666666666666, \"#ed7953\"], [0.7777777777777778, \"#fb9f3a\"], [0.8888888888888888, \"#fdca26\"], [1.0, \"#f0f921\"]], \"type\": \"histogram2dcontour\"}], \"mesh3d\": [{\"colorbar\": {\"outlinewidth\": 0, \"ticks\": \"\"}, \"type\": \"mesh3d\"}], \"parcoords\": [{\"line\": {\"colorbar\": {\"outlinewidth\": 0, \"ticks\": \"\"}}, \"type\": \"parcoords\"}], \"pie\": [{\"automargin\": true, \"type\": \"pie\"}], \"scatter\": [{\"marker\": {\"colorbar\": {\"outlinewidth\": 0, \"ticks\": \"\"}}, \"type\": \"scatter\"}], \"scatter3d\": [{\"line\": {\"colorbar\": {\"outlinewidth\": 0, \"ticks\": \"\"}}, \"marker\": {\"colorbar\": {\"outlinewidth\": 0, \"ticks\": \"\"}}, \"type\": \"scatter3d\"}], \"scattercarpet\": [{\"marker\": {\"colorbar\": {\"outlinewidth\": 0, \"ticks\": \"\"}}, \"type\": \"scattercarpet\"}], \"scattergeo\": [{\"marker\": {\"colorbar\": {\"outlinewidth\": 0, \"ticks\": \"\"}}, \"type\": \"scattergeo\"}], \"scattergl\": [{\"marker\": {\"colorbar\": {\"outlinewidth\": 0, \"ticks\": \"\"}}, \"type\": \"scattergl\"}], \"scattermapbox\": [{\"marker\": {\"colorbar\": {\"outlinewidth\": 0, \"ticks\": \"\"}}, \"type\": \"scattermapbox\"}], \"scatterpolar\": [{\"marker\": {\"colorbar\": {\"outlinewidth\": 0, \"ticks\": \"\"}}, \"type\": \"scatterpolar\"}], \"scatterpolargl\": [{\"marker\": {\"colorbar\": {\"outlinewidth\": 0, \"ticks\": \"\"}}, \"type\": \"scatterpolargl\"}], \"scatterternary\": [{\"marker\": {\"colorbar\": {\"outlinewidth\": 0, \"ticks\": \"\"}}, \"type\": \"scatterternary\"}], \"surface\": [{\"colorbar\": {\"outlinewidth\": 0, \"ticks\": \"\"}, \"colorscale\": [[0.0, \"#0d0887\"], [0.1111111111111111, \"#46039f\"], [0.2222222222222222, \"#7201a8\"], [0.3333333333333333, \"#9c179e\"], [0.4444444444444444, \"#bd3786\"], [0.5555555555555556, \"#d8576b\"], [0.6666666666666666, \"#ed7953\"], [0.7777777777777778, \"#fb9f3a\"], [0.8888888888888888, \"#fdca26\"], [1.0, \"#f0f921\"]], \"type\": \"surface\"}], \"table\": [{\"cells\": {\"fill\": {\"color\": \"#EBF0F8\"}, \"line\": {\"color\": \"white\"}}, \"header\": {\"fill\": {\"color\": \"#C8D4E3\"}, \"line\": {\"color\": \"white\"}}, \"type\": \"table\"}]}, \"layout\": {\"annotationdefaults\": {\"arrowcolor\": \"#2a3f5f\", \"arrowhead\": 0, \"arrowwidth\": 1}, \"coloraxis\": {\"colorbar\": {\"outlinewidth\": 0, \"ticks\": \"\"}}, \"colorscale\": {\"diverging\": [[0, \"#8e0152\"], [0.1, \"#c51b7d\"], [0.2, \"#de77ae\"], [0.3, \"#f1b6da\"], [0.4, \"#fde0ef\"], [0.5, \"#f7f7f7\"], [0.6, \"#e6f5d0\"], [0.7, \"#b8e186\"], [0.8, \"#7fbc41\"], [0.9, \"#4d9221\"], [1, \"#276419\"]], \"sequential\": [[0.0, \"#0d0887\"], [0.1111111111111111, \"#46039f\"], [0.2222222222222222, \"#7201a8\"], [0.3333333333333333, \"#9c179e\"], [0.4444444444444444, \"#bd3786\"], [0.5555555555555556, \"#d8576b\"], [0.6666666666666666, \"#ed7953\"], [0.7777777777777778, \"#fb9f3a\"], [0.8888888888888888, \"#fdca26\"], [1.0, \"#f0f921\"]], \"sequentialminus\": [[0.0, \"#0d0887\"], [0.1111111111111111, \"#46039f\"], [0.2222222222222222, \"#7201a8\"], [0.3333333333333333, \"#9c179e\"], [0.4444444444444444, \"#bd3786\"], [0.5555555555555556, \"#d8576b\"], [0.6666666666666666, \"#ed7953\"], [0.7777777777777778, \"#fb9f3a\"], [0.8888888888888888, \"#fdca26\"], [1.0, \"#f0f921\"]]}, \"colorway\": [\"#636efa\", \"#EF553B\", \"#00cc96\", \"#ab63fa\", \"#FFA15A\", \"#19d3f3\", \"#FF6692\", \"#B6E880\", \"#FF97FF\", \"#FECB52\"], \"font\": {\"color\": \"#2a3f5f\"}, \"geo\": {\"bgcolor\": \"white\", \"lakecolor\": \"white\", \"landcolor\": \"#E5ECF6\", \"showlakes\": true, \"showland\": true, \"subunitcolor\": \"white\"}, \"hoverlabel\": {\"align\": \"left\"}, \"hovermode\": \"closest\", \"mapbox\": {\"style\": \"light\"}, \"paper_bgcolor\": \"white\", \"plot_bgcolor\": \"#E5ECF6\", \"polar\": {\"angularaxis\": {\"gridcolor\": \"white\", \"linecolor\": \"white\", \"ticks\": \"\"}, \"bgcolor\": \"#E5ECF6\", \"radialaxis\": {\"gridcolor\": \"white\", \"linecolor\": \"white\", \"ticks\": \"\"}}, \"scene\": {\"xaxis\": {\"backgroundcolor\": \"#E5ECF6\", \"gridcolor\": \"white\", \"gridwidth\": 2, \"linecolor\": \"white\", \"showbackground\": true, \"ticks\": \"\", \"zerolinecolor\": \"white\"}, \"yaxis\": {\"backgroundcolor\": \"#E5ECF6\", \"gridcolor\": \"white\", \"gridwidth\": 2, \"linecolor\": \"white\", \"showbackground\": true, \"ticks\": \"\", \"zerolinecolor\": \"white\"}, \"zaxis\": {\"backgroundcolor\": \"#E5ECF6\", \"gridcolor\": \"white\", \"gridwidth\": 2, \"linecolor\": \"white\", \"showbackground\": true, \"ticks\": \"\", \"zerolinecolor\": \"white\"}}, \"shapedefaults\": {\"line\": {\"color\": \"#2a3f5f\"}}, \"ternary\": {\"aaxis\": {\"gridcolor\": \"white\", \"linecolor\": \"white\", \"ticks\": \"\"}, \"baxis\": {\"gridcolor\": \"white\", \"linecolor\": \"white\", \"ticks\": \"\"}, \"bgcolor\": \"#E5ECF6\", \"caxis\": {\"gridcolor\": \"white\", \"linecolor\": \"white\", \"ticks\": \"\"}}, \"title\": {\"x\": 0.05}, \"xaxis\": {\"automargin\": true, \"gridcolor\": \"white\", \"linecolor\": \"white\", \"ticks\": \"\", \"title\": {\"standoff\": 15}, \"zerolinecolor\": \"white\", \"zerolinewidth\": 2}, \"yaxis\": {\"automargin\": true, \"gridcolor\": \"white\", \"linecolor\": \"white\", \"ticks\": \"\", \"title\": {\"standoff\": 15}, \"zerolinecolor\": \"white\", \"zerolinewidth\": 2}}}, \"title\": {\"font\": {\"color\": \"#4D5663\"}, \"text\": \"Compara\\u00e7\\u00e3o at\\u00e9 Out 2019\"}, \"width\": 990, \"xaxis\": {\"gridcolor\": \"#E1E5ED\", \"showgrid\": true, \"tickfont\": {\"color\": \"#4D5663\"}, \"title\": {\"font\": {\"color\": \"#4D5663\"}, \"text\": \"\"}, \"zerolinecolor\": \"#E1E5ED\"}, \"yaxis\": {\"gridcolor\": \"#E1E5ED\", \"showgrid\": true, \"tickfont\": {\"color\": \"#4D5663\"}, \"title\": {\"font\": {\"color\": \"#4D5663\"}, \"text\": \"\"}, \"zerolinecolor\": \"#E1E5ED\"}},\n",
       "                        {\"showLink\": true, \"linkText\": \"Export to plot.ly\", \"plotlyServerURL\": \"https://plot.ly\", \"responsive\": true}\n",
       "                    ).then(function(){\n",
       "                            \n",
       "var gd = document.getElementById('de7e6df0-3489-4eeb-8dbf-df55d7f2b40b');\n",
       "var x = new MutationObserver(function (mutations, observer) {{\n",
       "        var display = window.getComputedStyle(gd).display;\n",
       "        if (!display || display === 'none') {{\n",
       "            console.log([gd, 'removed!']);\n",
       "            Plotly.purge(gd);\n",
       "            observer.disconnect();\n",
       "        }}\n",
       "}});\n",
       "\n",
       "// Listen for the removal of the full notebook cells\n",
       "var notebookContainer = gd.closest('#notebook-container');\n",
       "if (notebookContainer) {{\n",
       "    x.observe(notebookContainer, {childList: true});\n",
       "}}\n",
       "\n",
       "// Listen for the clearing of the current output cell\n",
       "var outputEl = gd.closest('.output');\n",
       "if (outputEl) {{\n",
       "    x.observe(outputEl, {childList: true});\n",
       "}}\n",
       "\n",
       "                        })\n",
       "                };\n",
       "                });\n",
       "            </script>\n",
       "        </div>"
      ]
     },
     "metadata": {},
     "output_type": "display_data"
    }
   ],
   "source": [
    "fundos.iplot(dimensions=pa.dimensions, colors=colors, title = 'Comparação até Out 2019')"
   ]
  },
  {
   "cell_type": "markdown",
   "metadata": {},
   "source": [
    "**Nota**: Só vai até Out 2019 por causa do EU Real GDP. Não encontro dados melhores. Pordata, eurostat, The World bank etc são só anuais e muitas vezes apenas o crescimento nominal ou o per capita."
   ]
  },
  {
   "cell_type": "code",
   "execution_count": 15,
   "metadata": {},
   "outputs": [
    {
     "data": {
      "application/vnd.plotly.v1+json": {
       "config": {
        "linkText": "Export to plot.ly",
        "plotlyServerURL": "https://plot.ly",
        "showLink": true
       },
       "data": [
        {
         "line": {
          "color": "rgba(255, 153, 51, 1.0)",
          "dash": "solid",
          "shape": "linear",
          "width": 1.3
         },
         "mode": "lines",
         "name": "US_GDP",
         "text": "",
         "type": "scatter",
         "x": [
          "2004-07-01",
          "2004-10-01",
          "2005-01-01",
          "2005-04-01",
          "2005-07-01",
          "2005-10-01",
          "2006-01-01",
          "2006-04-01",
          "2006-07-01",
          "2006-10-01",
          "2007-01-01",
          "2007-04-01",
          "2007-07-01",
          "2007-10-01",
          "2008-01-01",
          "2008-04-01",
          "2008-07-01",
          "2008-10-01",
          "2009-01-01",
          "2009-04-01",
          "2009-07-01",
          "2009-10-01",
          "2010-01-01",
          "2010-04-01",
          "2010-07-01",
          "2010-10-01",
          "2011-01-01",
          "2011-04-01",
          "2011-07-01",
          "2011-10-01",
          "2012-01-01",
          "2012-04-01",
          "2012-07-01",
          "2012-10-01",
          "2013-01-01",
          "2013-04-01",
          "2013-07-01",
          "2013-10-01",
          "2014-01-01",
          "2014-04-01",
          "2014-07-01",
          "2014-10-01",
          "2015-01-01",
          "2015-04-01",
          "2015-07-01",
          "2015-10-01",
          "2016-01-01",
          "2016-04-01",
          "2016-07-01",
          "2016-10-01",
          "2017-01-01",
          "2017-04-01",
          "2017-07-01",
          "2017-10-01",
          "2018-01-01",
          "2018-04-01",
          "2018-07-01",
          "2018-10-01",
          "2019-01-01",
          "2019-04-01",
          "2019-04-01",
          "2019-07-01",
          "2019-10-01"
         ],
         "y": [
          0,
          0,
          0,
          0,
          0,
          0,
          0,
          0,
          0,
          0,
          0,
          0,
          0,
          0,
          -0.5746998455205432,
          -0.06128042267820044,
          -0.6023042682426594,
          -2.753082784654992,
          -3.8448691080243846,
          -3.983322639871023,
          -3.6337152590155797,
          -2.575243305610264,
          -2.2003725804019325,
          -1.2986323344034378,
          -0.5709947241990809,
          -0.07195802402073515,
          -0.31222625957788575,
          0,
          -0.027778662448552094,
          0,
          0,
          0,
          0,
          0,
          0,
          0,
          0,
          0,
          -0.28270518660105104,
          0,
          0,
          0,
          0,
          0,
          0,
          0,
          0,
          0,
          0,
          0,
          0,
          0,
          0,
          0,
          0,
          0,
          0,
          0,
          0,
          0,
          0,
          0,
          0
         ]
        },
        {
         "line": {
          "color": "rgba(65, 105, 225, 1.0)",
          "dash": "solid",
          "shape": "linear",
          "width": 1.3
         },
         "mode": "lines",
         "name": "EU_GDP",
         "text": "",
         "type": "scatter",
         "x": [
          "2004-07-01",
          "2004-10-01",
          "2005-01-01",
          "2005-04-01",
          "2005-07-01",
          "2005-10-01",
          "2006-01-01",
          "2006-04-01",
          "2006-07-01",
          "2006-10-01",
          "2007-01-01",
          "2007-04-01",
          "2007-07-01",
          "2007-10-01",
          "2008-01-01",
          "2008-04-01",
          "2008-07-01",
          "2008-10-01",
          "2009-01-01",
          "2009-04-01",
          "2009-07-01",
          "2009-10-01",
          "2010-01-01",
          "2010-04-01",
          "2010-07-01",
          "2010-10-01",
          "2011-01-01",
          "2011-04-01",
          "2011-07-01",
          "2011-10-01",
          "2012-01-01",
          "2012-04-01",
          "2012-07-01",
          "2012-10-01",
          "2013-01-01",
          "2013-04-01",
          "2013-07-01",
          "2013-10-01",
          "2014-01-01",
          "2014-04-01",
          "2014-07-01",
          "2014-10-01",
          "2015-01-01",
          "2015-04-01",
          "2015-07-01",
          "2015-10-01",
          "2016-01-01",
          "2016-04-01",
          "2016-07-01",
          "2016-10-01",
          "2017-01-01",
          "2017-04-01",
          "2017-07-01",
          "2017-10-01",
          "2018-01-01",
          "2018-04-01",
          "2018-07-01",
          "2018-10-01",
          "2019-01-01",
          "2019-04-01",
          "2019-04-01",
          "2019-07-01",
          "2019-10-01"
         ],
         "y": [
          0,
          0,
          0,
          0,
          0,
          0,
          0,
          0,
          0,
          0,
          0,
          0,
          0,
          0,
          0,
          -0.31551115559670384,
          -0.9921917802313551,
          -2.7696462567523783,
          -5.453366250731351,
          -5.550558615672497,
          -5.237959703772366,
          -4.747656646226995,
          -4.376839993101056,
          -3.41210952532508,
          -2.901182597046681,
          -2.3524839283188936,
          -1.5814267105987323,
          -1.4920003288483863,
          -1.3158186294420449,
          -1.5520088286205103,
          -1.6267714905571773,
          -1.8752919968980764,
          -1.7732398629725976,
          -2.1254253918286614,
          -2.238291416167759,
          -1.721172201602883,
          -1.275873257827842,
          -0.9438503437156021,
          -0.45277551144320416,
          -0.12094554101271804,
          0,
          0,
          0,
          0,
          0,
          0,
          0,
          0,
          0,
          0,
          0,
          0,
          0,
          0,
          0,
          0,
          0,
          0,
          0,
          0,
          0,
          0,
          0
         ]
        },
        {
         "line": {
          "color": "rgba(112, 128, 144, 1.0)",
          "dash": "solid",
          "shape": "linear",
          "width": 1.3
         },
         "mode": "lines",
         "name": "US_CPI",
         "text": "",
         "type": "scatter",
         "x": [
          "2004-07-01",
          "2004-10-01",
          "2005-01-01",
          "2005-04-01",
          "2005-07-01",
          "2005-10-01",
          "2006-01-01",
          "2006-04-01",
          "2006-07-01",
          "2006-10-01",
          "2007-01-01",
          "2007-04-01",
          "2007-07-01",
          "2007-10-01",
          "2008-01-01",
          "2008-04-01",
          "2008-07-01",
          "2008-10-01",
          "2009-01-01",
          "2009-04-01",
          "2009-07-01",
          "2009-10-01",
          "2010-01-01",
          "2010-04-01",
          "2010-07-01",
          "2010-10-01",
          "2011-01-01",
          "2011-04-01",
          "2011-07-01",
          "2011-10-01",
          "2012-01-01",
          "2012-04-01",
          "2012-07-01",
          "2012-10-01",
          "2013-01-01",
          "2013-04-01",
          "2013-07-01",
          "2013-10-01",
          "2014-01-01",
          "2014-04-01",
          "2014-07-01",
          "2014-10-01",
          "2015-01-01",
          "2015-04-01",
          "2015-07-01",
          "2015-10-01",
          "2016-01-01",
          "2016-04-01",
          "2016-07-01",
          "2016-10-01",
          "2017-01-01",
          "2017-04-01",
          "2017-07-01",
          "2017-10-01",
          "2018-01-01",
          "2018-04-01",
          "2018-07-01",
          "2018-10-01",
          "2019-01-01",
          "2019-04-01",
          "2019-04-01",
          "2019-07-01",
          "2019-10-01"
         ],
         "y": [
          0,
          0,
          0,
          0,
          0,
          0,
          0,
          0,
          0,
          -0.4928536224741209,
          0,
          0,
          0,
          0,
          0,
          0,
          0,
          -0.9227636337071132,
          -3.234010300617296,
          -2.8796982868831367,
          -1.9587610037622882,
          -1.1446652299375248,
          -0.6976659239507632,
          -0.7364758739087485,
          -0.6442451693026929,
          0,
          0,
          0,
          0,
          0,
          0,
          0,
          -0.26048597869862133,
          0,
          0,
          0,
          0,
          0,
          0,
          0,
          0,
          -0.02863182005741205,
          -1.1583255437940365,
          -0.5372676822541611,
          0,
          -0.12645252358907122,
          -0.0869623667207331,
          0,
          0,
          0,
          0,
          0,
          0,
          0,
          0,
          0,
          0,
          0,
          -0.0898024741174841,
          0,
          0,
          0,
          0
         ]
        },
        {
         "line": {
          "color": "rgba(128, 0, 128, 1.0)",
          "dash": "solid",
          "shape": "linear",
          "width": 1.3
         },
         "mode": "lines",
         "name": "EU_CPI",
         "text": "",
         "type": "scatter",
         "x": [
          "2004-07-01",
          "2004-10-01",
          "2005-01-01",
          "2005-04-01",
          "2005-07-01",
          "2005-10-01",
          "2006-01-01",
          "2006-04-01",
          "2006-07-01",
          "2006-10-01",
          "2007-01-01",
          "2007-04-01",
          "2007-07-01",
          "2007-10-01",
          "2008-01-01",
          "2008-04-01",
          "2008-07-01",
          "2008-10-01",
          "2009-01-01",
          "2009-04-01",
          "2009-07-01",
          "2009-10-01",
          "2010-01-01",
          "2010-04-01",
          "2010-07-01",
          "2010-10-01",
          "2011-01-01",
          "2011-04-01",
          "2011-07-01",
          "2011-10-01",
          "2012-01-01",
          "2012-04-01",
          "2012-07-01",
          "2012-10-01",
          "2013-01-01",
          "2013-04-01",
          "2013-07-01",
          "2013-10-01",
          "2014-01-01",
          "2014-04-01",
          "2014-07-01",
          "2014-10-01",
          "2015-01-01",
          "2015-04-01",
          "2015-07-01",
          "2015-10-01",
          "2016-01-01",
          "2016-04-01",
          "2016-07-01",
          "2016-10-01",
          "2017-01-01",
          "2017-04-01",
          "2017-07-01",
          "2017-10-01",
          "2018-01-01",
          "2018-04-01",
          "2018-07-01",
          "2018-10-01",
          "2019-01-01",
          "2019-04-01",
          "2019-04-01",
          "2019-07-01",
          "2019-10-01"
         ],
         "y": [
          0,
          0,
          -0.14745637748829754,
          0,
          0,
          0,
          -0.22773582644133317,
          0,
          0,
          0,
          0,
          0,
          0,
          0,
          0,
          0,
          0,
          0,
          -1.1490443044967713,
          0,
          -0.07729681978799752,
          0,
          -0.010993843447659746,
          0,
          -0.09732886341515812,
          0,
          0,
          0,
          -0.40846250523670635,
          0,
          -0.07277263748828311,
          0,
          -0.5709624796084722,
          0,
          -0.587401255823361,
          0,
          -0.2513826043237688,
          0,
          -0.6221151916516066,
          0,
          -0.5087281795511212,
          -0.10972568578553332,
          -1.6758104738154644,
          0,
          -0.23913909924271337,
          -0.019928258270229815,
          -1.5245117576723644,
          -0.22917497010761512,
          -0.07971303308089706,
          0,
          -0.37672251412710356,
          0,
          -0.26444662095984617,
          0,
          -0.4193076548025365,
          0,
          0,
          0,
          -1.210561433609736,
          0,
          0,
          0,
          0
         ]
        },
        {
         "line": {
          "color": "rgba(219, 64, 82, 1.0)",
          "dash": "solid",
          "shape": "linear",
          "width": 1.3
         },
         "mode": "lines",
         "name": "S&P_500",
         "text": "",
         "type": "scatter",
         "x": [
          "2004-07-01",
          "2004-10-01",
          "2005-01-01",
          "2005-04-01",
          "2005-07-01",
          "2005-10-01",
          "2006-01-01",
          "2006-04-01",
          "2006-07-01",
          "2006-10-01",
          "2007-01-01",
          "2007-04-01",
          "2007-07-01",
          "2007-10-01",
          "2008-01-01",
          "2008-04-01",
          "2008-07-01",
          "2008-10-01",
          "2009-01-01",
          "2009-04-01",
          "2009-07-01",
          "2009-10-01",
          "2010-01-01",
          "2010-04-01",
          "2010-07-01",
          "2010-10-01",
          "2011-01-01",
          "2011-04-01",
          "2011-07-01",
          "2011-10-01",
          "2012-01-01",
          "2012-04-01",
          "2012-07-01",
          "2012-10-01",
          "2013-01-01",
          "2013-04-01",
          "2013-07-01",
          "2013-10-01",
          "2014-01-01",
          "2014-04-01",
          "2014-07-01",
          "2014-10-01",
          "2015-01-01",
          "2015-04-01",
          "2015-07-01",
          "2015-10-01",
          "2016-01-01",
          "2016-04-01",
          "2016-07-01",
          "2016-10-01",
          "2017-01-01",
          "2017-04-01",
          "2017-07-01",
          "2017-10-01",
          "2018-01-01",
          "2018-04-01",
          "2018-07-01",
          "2018-10-01",
          "2019-01-01",
          "2019-04-01",
          "2019-04-01",
          "2019-07-01",
          "2019-10-01"
         ],
         "y": [
          0,
          0,
          0,
          -3.2180341936761336,
          -1.4423394283450852,
          0,
          0,
          0,
          -1.9052105616780057,
          0,
          0,
          0,
          0,
          0,
          -5.085841348639986,
          -11.432154307580934,
          -16.943970420932864,
          -24.949581135587962,
          -41.61430861516187,
          -47.572137759851074,
          -40.316346054400654,
          -33.430939083669465,
          -27.92041576171269,
          -23.848122866894204,
          -33.59124521667185,
          -25.90753955941669,
          -18.691177991519282,
          -13.873590857379236,
          -13.404307580928732,
          -26.865497983245422,
          -18.70927707105181,
          -8.957105181507908,
          -11.950563657048308,
          -6.628787878787879,
          -9.347528182852393,
          0,
          0,
          0,
          0,
          0,
          0,
          -1.3763606510854842,
          0,
          -0.9931021222390424,
          -0.14084168529332475,
          -7.524214675415197,
          -0.8166894993630769,
          -0.3638810777032653,
          0,
          0,
          0,
          0,
          0,
          0,
          0,
          -1.2245615478697403,
          0,
          0,
          -15.005522141565164,
          -1.9626682714500188,
          -1.9626682714500188,
          0,
          -0.8123252134546344
         ]
        },
        {
         "line": {
          "color": "rgba(0, 128, 128, 1.0)",
          "dash": "solid",
          "shape": "linear",
          "width": 1.3
         },
         "mode": "lines",
         "name": "Stoxx_600",
         "text": "",
         "type": "scatter",
         "x": [
          "2004-07-01",
          "2004-10-01",
          "2005-01-01",
          "2005-04-01",
          "2005-07-01",
          "2005-10-01",
          "2006-01-01",
          "2006-04-01",
          "2006-07-01",
          "2006-10-01",
          "2007-01-01",
          "2007-04-01",
          "2007-07-01",
          "2007-10-01",
          "2008-01-01",
          "2008-04-01",
          "2008-07-01",
          "2008-10-01",
          "2009-01-01",
          "2009-04-01",
          "2009-07-01",
          "2009-10-01",
          "2010-01-01",
          "2010-04-01",
          "2010-07-01",
          "2010-10-01",
          "2011-01-01",
          "2011-04-01",
          "2011-07-01",
          "2011-10-01",
          "2012-01-01",
          "2012-04-01",
          "2012-07-01",
          "2012-10-01",
          "2013-01-01",
          "2013-04-01",
          "2013-07-01",
          "2013-10-01",
          "2014-01-01",
          "2014-04-01",
          "2014-07-01",
          "2014-10-01",
          "2015-01-01",
          "2015-04-01",
          "2015-07-01",
          "2015-10-01",
          "2016-01-01",
          "2016-04-01",
          "2016-07-01",
          "2016-10-01",
          "2017-01-01",
          "2017-04-01",
          "2017-07-01",
          "2017-10-01",
          "2018-01-01",
          "2018-04-01",
          "2018-07-01",
          "2018-10-01",
          "2019-01-01",
          "2019-04-01",
          "2019-04-01",
          "2019-07-01",
          "2019-10-01"
         ],
         "y": [
          0,
          0,
          0,
          0,
          0,
          0,
          0,
          0,
          -4.120320535821076,
          0,
          0,
          0,
          0,
          -3.263823626527118,
          -7.383607223590949,
          -19.720098549693944,
          -28.119681999441216,
          -34.533031927052896,
          -49.988570267455735,
          -54.469025424805054,
          -46.79840491732493,
          -39.391938228645444,
          -35.698864646567266,
          -32.026110589012205,
          -39.727210383277026,
          -34.192679891290545,
          -29.63856645754489,
          -28.876584287927663,
          -30.171953976276946,
          -42.551624291991565,
          -37.88829341393411,
          -33.118285032130245,
          -36.20431281908003,
          -30.829798582713163,
          -29.19153691803612,
          -25.38162606994996,
          -26.77605344034948,
          -20.535419471184348,
          -16.91092428437173,
          -14.569099083081449,
          -12.399989840237746,
          -13.586142084275199,
          -13.382946839043953,
          0,
          -2.873130583157668,
          -13.12104787714542,
          -7.733614373180753,
          -16.403191809695883,
          -16.631536685737213,
          -13.951620997691439,
          -9.309444946301282,
          -4.361136203954619,
          -4.805279534276819,
          -2.599618588778463,
          -2.3436715848639933,
          -6.938171233564172,
          -4.664759610559055,
          -3.6585365853658347,
          -15.6303322292482,
          -3.7262872628726074,
          -3.7262872628726074,
          -2.6723878349894647,
          -2.6422764227642004
         ]
        },
        {
         "line": {
          "color": "rgba(25, 25, 112, 1.0)",
          "dash": "solid",
          "shape": "linear",
          "width": 1.3
         },
         "mode": "lines",
         "name": "Gold",
         "text": "",
         "type": "scatter",
         "x": [
          "2004-07-01",
          "2004-10-01",
          "2005-01-01",
          "2005-04-01",
          "2005-07-01",
          "2005-10-01",
          "2006-01-01",
          "2006-04-01",
          "2006-07-01",
          "2006-10-01",
          "2007-01-01",
          "2007-04-01",
          "2007-07-01",
          "2007-10-01",
          "2008-01-01",
          "2008-04-01",
          "2008-07-01",
          "2008-10-01",
          "2009-01-01",
          "2009-04-01",
          "2009-07-01",
          "2009-10-01",
          "2010-01-01",
          "2010-04-01",
          "2010-07-01",
          "2010-10-01",
          "2011-01-01",
          "2011-04-01",
          "2011-07-01",
          "2011-10-01",
          "2012-01-01",
          "2012-04-01",
          "2012-07-01",
          "2012-10-01",
          "2013-01-01",
          "2013-04-01",
          "2013-07-01",
          "2013-10-01",
          "2014-01-01",
          "2014-04-01",
          "2014-07-01",
          "2014-10-01",
          "2015-01-01",
          "2015-04-01",
          "2015-07-01",
          "2015-10-01",
          "2016-01-01",
          "2016-04-01",
          "2016-07-01",
          "2016-10-01",
          "2017-01-01",
          "2017-04-01",
          "2017-07-01",
          "2017-10-01",
          "2018-01-01",
          "2018-04-01",
          "2018-07-01",
          "2018-10-01",
          "2019-01-01",
          "2019-04-01",
          "2019-04-01",
          "2019-07-01",
          "2019-10-01"
         ],
         "y": [
          0,
          0,
          0,
          -1.9398530762167132,
          -0.688705234159781,
          0,
          0,
          0,
          0,
          -2.3227383863080764,
          0,
          0,
          -1.7000377786173027,
          0,
          0,
          0,
          0,
          -6.133333333333335,
          -7.22666666666667,
          -1.3866666666666694,
          0,
          0,
          0,
          0,
          0,
          0,
          0,
          0,
          0,
          0,
          -5.4938271604938365,
          0,
          -3.8496240601503695,
          0,
          -7.24678231673197,
          -10.562395075545627,
          -30.45607162842755,
          -27.770005595970904,
          -32.59653049804142,
          -28.16172355903751,
          -25.7134862898713,
          -31.925013989927255,
          -32.512590934527154,
          -33.016228315612764,
          -34.63905987688866,
          -37.381085618354795,
          -40.68270844991607,
          -32.08729714605485,
          -25.01398992725239,
          -25.99328483491886,
          -35.875769445998884,
          -30.338556239507565,
          -30.484051482932294,
          -28.198097369893695,
          -27.756015668718526,
          -25.91773922775603,
          -30.025181869054297,
          -33.44432008953555,
          -28.42753217683268,
          -27.616116396194744,
          -27.616116396194744,
          -22.21040850587578,
          -17.546166759932845
         ]
        },
        {
         "line": {
          "color": "rgba(128, 128, 0, 1.0)",
          "dash": "solid",
          "shape": "linear",
          "width": 1.3
         },
         "mode": "lines",
         "name": "LP06TREU",
         "text": "",
         "type": "scatter",
         "x": [
          "2004-07-01",
          "2004-10-01",
          "2005-01-01",
          "2005-04-01",
          "2005-07-01",
          "2005-10-01",
          "2006-01-01",
          "2006-04-01",
          "2006-07-01",
          "2006-10-01",
          "2007-01-01",
          "2007-04-01",
          "2007-07-01",
          "2007-10-01",
          "2008-01-01",
          "2008-04-01",
          "2008-07-01",
          "2008-10-01",
          "2009-01-01",
          "2009-04-01",
          "2009-07-01",
          "2009-10-01",
          "2010-01-01",
          "2010-04-01",
          "2010-07-01",
          "2010-10-01",
          "2011-01-01",
          "2011-04-01",
          "2011-07-01",
          "2011-10-01",
          "2012-01-01",
          "2012-04-01",
          "2012-07-01",
          "2012-10-01",
          "2013-01-01",
          "2013-04-01",
          "2013-07-01",
          "2013-10-01",
          "2014-01-01",
          "2014-04-01",
          "2014-07-01",
          "2014-10-01",
          "2015-01-01",
          "2015-04-01",
          "2015-07-01",
          "2015-10-01",
          "2016-01-01",
          "2016-04-01",
          "2016-07-01",
          "2016-10-01",
          "2017-01-01",
          "2017-04-01",
          "2017-07-01",
          "2017-10-01",
          "2018-01-01",
          "2018-04-01",
          "2018-07-01",
          "2018-10-01",
          "2019-01-01",
          "2019-04-01",
          "2019-04-01",
          "2019-07-01",
          "2019-10-01"
         ],
         "y": [
          0,
          0,
          0,
          0,
          0,
          0,
          -0.02132562574148622,
          -1.7908004425239876,
          -2.4345720830305173,
          0,
          0,
          0,
          -1.5059233626543045,
          0,
          0,
          0,
          -2.2184620272193145,
          0,
          0,
          0,
          0,
          0,
          0,
          0,
          0,
          0,
          -2.2224886188536574,
          -3.506357945458216,
          -2.033899296225583,
          0,
          0,
          0,
          0,
          0,
          0,
          -0.19385585077762446,
          -1.4339081196033665,
          -0.07548233364932377,
          0,
          0,
          0,
          0,
          0,
          0,
          -3.960203460628764,
          -2.728469619220164,
          -2.613409244941145,
          -0.9044903802265636,
          0,
          0,
          -2.2192252513204336,
          -2.6176842196706906,
          -2.9767103564838915,
          -2.642425553496852,
          -2.0262343306660213,
          -1.3993545109498684,
          -1.9237771031517914,
          -2.8515132455562586,
          -1.896097469783431,
          0,
          0,
          0,
          0
         ]
        },
        {
         "line": {
          "color": "rgba(0, 191, 255, 1.0)",
          "dash": "solid",
          "shape": "linear",
          "width": 1.3
         },
         "mode": "lines",
         "name": "LBUSTRUU",
         "text": "",
         "type": "scatter",
         "x": [
          "2004-07-01",
          "2004-10-01",
          "2005-01-01",
          "2005-04-01",
          "2005-07-01",
          "2005-10-01",
          "2006-01-01",
          "2006-04-01",
          "2006-07-01",
          "2006-10-01",
          "2007-01-01",
          "2007-04-01",
          "2007-07-01",
          "2007-10-01",
          "2008-01-01",
          "2008-04-01",
          "2008-07-01",
          "2008-10-01",
          "2009-01-01",
          "2009-04-01",
          "2009-07-01",
          "2009-10-01",
          "2010-01-01",
          "2010-04-01",
          "2010-07-01",
          "2010-10-01",
          "2011-01-01",
          "2011-04-01",
          "2011-07-01",
          "2011-10-01",
          "2012-01-01",
          "2012-04-01",
          "2012-07-01",
          "2012-10-01",
          "2013-01-01",
          "2013-04-01",
          "2013-07-01",
          "2013-10-01",
          "2014-01-01",
          "2014-04-01",
          "2014-07-01",
          "2014-10-01",
          "2015-01-01",
          "2015-04-01",
          "2015-07-01",
          "2015-10-01",
          "2016-01-01",
          "2016-04-01",
          "2016-07-01",
          "2016-10-01",
          "2017-01-01",
          "2017-04-01",
          "2017-07-01",
          "2017-10-01",
          "2018-01-01",
          "2018-04-01",
          "2018-07-01",
          "2018-10-01",
          "2019-01-01",
          "2019-04-01",
          "2019-04-01",
          "2019-07-01",
          "2019-10-01"
         ],
         "y": [
          0,
          0,
          0,
          -0.26971126003143553,
          0,
          -0.30215396080908175,
          0,
          -0.6469799525063435,
          -0.7229051903784978,
          0,
          0,
          0,
          -0.5178738950371131,
          0,
          0,
          0,
          -0.6903030216769523,
          -0.8297869312116624,
          0,
          0,
          0,
          0,
          -0.16915648595225985,
          0,
          0,
          0,
          -1.3026534196155848,
          -0.8948976400683262,
          0,
          0,
          0,
          0,
          0,
          0,
          0,
          -0.027651418626217783,
          -2.3839860333226714,
          -1.991444325766234,
          -2.0239754065029536,
          -0.3253108073671851,
          0,
          0,
          0,
          0,
          -2.3565762774396037,
          -0.7117383016663537,
          -1.3404660886675246,
          0,
          0,
          0,
          -2.9754833135328007,
          -2.1831338550206802,
          -0.7692760851849334,
          0,
          0,
          -1.4606351735023337,
          -1.6170096316892701,
          -1.6932421800554098,
          0,
          0,
          0,
          0,
          0
         ]
        },
        {
         "line": {
          "color": "rgba(128, 177, 211, 1.0)",
          "dash": "solid",
          "shape": "linear",
          "width": 1.3
         },
         "mode": "lines",
         "name": "WTI",
         "text": "",
         "type": "scatter",
         "x": [
          "2004-07-01",
          "2004-10-01",
          "2005-01-01",
          "2005-04-01",
          "2005-07-01",
          "2005-10-01",
          "2006-01-01",
          "2006-04-01",
          "2006-07-01",
          "2006-10-01",
          "2007-01-01",
          "2007-04-01",
          "2007-07-01",
          "2007-10-01",
          "2008-01-01",
          "2008-04-01",
          "2008-07-01",
          "2008-10-01",
          "2009-01-01",
          "2009-04-01",
          "2009-07-01",
          "2009-10-01",
          "2010-01-01",
          "2010-04-01",
          "2010-07-01",
          "2010-10-01",
          "2011-01-01",
          "2011-04-01",
          "2011-07-01",
          "2011-10-01",
          "2012-01-01",
          "2012-04-01",
          "2012-07-01",
          "2012-10-01",
          "2013-01-01",
          "2013-04-01",
          "2013-07-01",
          "2013-10-01",
          "2014-01-01",
          "2014-04-01",
          "2014-07-01",
          "2014-10-01",
          "2015-01-01",
          "2015-04-01",
          "2015-07-01",
          "2015-10-01",
          "2016-01-01",
          "2016-04-01",
          "2016-07-01",
          "2016-10-01",
          "2017-01-01",
          "2017-04-01",
          "2017-07-01",
          "2017-10-01",
          "2018-01-01",
          "2018-04-01",
          "2018-07-01",
          "2018-10-01",
          "2019-01-01",
          "2019-04-01",
          "2019-04-01",
          "2019-07-01",
          "2019-10-01"
         ],
         "y": [
          0,
          0,
          -11.83888575192924,
          -0.16939582156976218,
          0,
          0,
          0,
          0,
          0,
          -20.870850692111276,
          -26.6630829189625,
          -14.030372261792767,
          -0.30909823948394033,
          0,
          0,
          0,
          0,
          -42.55845323741006,
          -68.72002398081534,
          -62.687350119904075,
          -51.97092326139089,
          -43.18045563549161,
          -41.38189448441246,
          -36.69064748201437,
          -42.76828537170264,
          -38.62410071942446,
          -32.98860911270983,
          -17.535971223021573,
          -27.165767386091133,
          -35.24430455635492,
          -24.880095923261393,
          -22.564448441247,
          -34.10521582733812,
          -32.87619904076738,
          -29.039268585131893,
          -31.002697841726622,
          -21.560251798561158,
          -24.655275779376495,
          -29.091726618705028,
          -23.508693045563543,
          -22.369604316546756,
          -36.75059952038369,
          -64.61330935251799,
          -59.19514388489209,
          -61.85551558752997,
          -65.3627098321343,
          -76.2589928057554,
          -69.4619304556355,
          -66.5392685851319,
          -62.69484412470023,
          -60.65647482014389,
          -61.735611510791365,
          -65.0554556354916,
          -61.34592326139089,
          -52.26318944844124,
          -50.35221822541966,
          -46.80755395683454,
          -46.97991606714628,
          -61.49580335731415,
          -52.14328537170263,
          -52.14328537170263,
          -57.02188249400479,
          -59.562350119904075
         ]
        }
       ],
       "layout": {
        "height": 500,
        "legend": {
         "bgcolor": "#F5F6F9",
         "font": {
          "color": "#4D5663"
         }
        },
        "paper_bgcolor": "#F5F6F9",
        "plot_bgcolor": "#F5F6F9",
        "template": {
         "data": {
          "bar": [
           {
            "error_x": {
             "color": "#2a3f5f"
            },
            "error_y": {
             "color": "#2a3f5f"
            },
            "marker": {
             "line": {
              "color": "#E5ECF6",
              "width": 0.5
             }
            },
            "type": "bar"
           }
          ],
          "barpolar": [
           {
            "marker": {
             "line": {
              "color": "#E5ECF6",
              "width": 0.5
             }
            },
            "type": "barpolar"
           }
          ],
          "carpet": [
           {
            "aaxis": {
             "endlinecolor": "#2a3f5f",
             "gridcolor": "white",
             "linecolor": "white",
             "minorgridcolor": "white",
             "startlinecolor": "#2a3f5f"
            },
            "baxis": {
             "endlinecolor": "#2a3f5f",
             "gridcolor": "white",
             "linecolor": "white",
             "minorgridcolor": "white",
             "startlinecolor": "#2a3f5f"
            },
            "type": "carpet"
           }
          ],
          "choropleth": [
           {
            "colorbar": {
             "outlinewidth": 0,
             "ticks": ""
            },
            "type": "choropleth"
           }
          ],
          "contour": [
           {
            "colorbar": {
             "outlinewidth": 0,
             "ticks": ""
            },
            "colorscale": [
             [
              0,
              "#0d0887"
             ],
             [
              0.1111111111111111,
              "#46039f"
             ],
             [
              0.2222222222222222,
              "#7201a8"
             ],
             [
              0.3333333333333333,
              "#9c179e"
             ],
             [
              0.4444444444444444,
              "#bd3786"
             ],
             [
              0.5555555555555556,
              "#d8576b"
             ],
             [
              0.6666666666666666,
              "#ed7953"
             ],
             [
              0.7777777777777778,
              "#fb9f3a"
             ],
             [
              0.8888888888888888,
              "#fdca26"
             ],
             [
              1,
              "#f0f921"
             ]
            ],
            "type": "contour"
           }
          ],
          "contourcarpet": [
           {
            "colorbar": {
             "outlinewidth": 0,
             "ticks": ""
            },
            "type": "contourcarpet"
           }
          ],
          "heatmap": [
           {
            "colorbar": {
             "outlinewidth": 0,
             "ticks": ""
            },
            "colorscale": [
             [
              0,
              "#0d0887"
             ],
             [
              0.1111111111111111,
              "#46039f"
             ],
             [
              0.2222222222222222,
              "#7201a8"
             ],
             [
              0.3333333333333333,
              "#9c179e"
             ],
             [
              0.4444444444444444,
              "#bd3786"
             ],
             [
              0.5555555555555556,
              "#d8576b"
             ],
             [
              0.6666666666666666,
              "#ed7953"
             ],
             [
              0.7777777777777778,
              "#fb9f3a"
             ],
             [
              0.8888888888888888,
              "#fdca26"
             ],
             [
              1,
              "#f0f921"
             ]
            ],
            "type": "heatmap"
           }
          ],
          "heatmapgl": [
           {
            "colorbar": {
             "outlinewidth": 0,
             "ticks": ""
            },
            "colorscale": [
             [
              0,
              "#0d0887"
             ],
             [
              0.1111111111111111,
              "#46039f"
             ],
             [
              0.2222222222222222,
              "#7201a8"
             ],
             [
              0.3333333333333333,
              "#9c179e"
             ],
             [
              0.4444444444444444,
              "#bd3786"
             ],
             [
              0.5555555555555556,
              "#d8576b"
             ],
             [
              0.6666666666666666,
              "#ed7953"
             ],
             [
              0.7777777777777778,
              "#fb9f3a"
             ],
             [
              0.8888888888888888,
              "#fdca26"
             ],
             [
              1,
              "#f0f921"
             ]
            ],
            "type": "heatmapgl"
           }
          ],
          "histogram": [
           {
            "marker": {
             "colorbar": {
              "outlinewidth": 0,
              "ticks": ""
             }
            },
            "type": "histogram"
           }
          ],
          "histogram2d": [
           {
            "colorbar": {
             "outlinewidth": 0,
             "ticks": ""
            },
            "colorscale": [
             [
              0,
              "#0d0887"
             ],
             [
              0.1111111111111111,
              "#46039f"
             ],
             [
              0.2222222222222222,
              "#7201a8"
             ],
             [
              0.3333333333333333,
              "#9c179e"
             ],
             [
              0.4444444444444444,
              "#bd3786"
             ],
             [
              0.5555555555555556,
              "#d8576b"
             ],
             [
              0.6666666666666666,
              "#ed7953"
             ],
             [
              0.7777777777777778,
              "#fb9f3a"
             ],
             [
              0.8888888888888888,
              "#fdca26"
             ],
             [
              1,
              "#f0f921"
             ]
            ],
            "type": "histogram2d"
           }
          ],
          "histogram2dcontour": [
           {
            "colorbar": {
             "outlinewidth": 0,
             "ticks": ""
            },
            "colorscale": [
             [
              0,
              "#0d0887"
             ],
             [
              0.1111111111111111,
              "#46039f"
             ],
             [
              0.2222222222222222,
              "#7201a8"
             ],
             [
              0.3333333333333333,
              "#9c179e"
             ],
             [
              0.4444444444444444,
              "#bd3786"
             ],
             [
              0.5555555555555556,
              "#d8576b"
             ],
             [
              0.6666666666666666,
              "#ed7953"
             ],
             [
              0.7777777777777778,
              "#fb9f3a"
             ],
             [
              0.8888888888888888,
              "#fdca26"
             ],
             [
              1,
              "#f0f921"
             ]
            ],
            "type": "histogram2dcontour"
           }
          ],
          "mesh3d": [
           {
            "colorbar": {
             "outlinewidth": 0,
             "ticks": ""
            },
            "type": "mesh3d"
           }
          ],
          "parcoords": [
           {
            "line": {
             "colorbar": {
              "outlinewidth": 0,
              "ticks": ""
             }
            },
            "type": "parcoords"
           }
          ],
          "pie": [
           {
            "automargin": true,
            "type": "pie"
           }
          ],
          "scatter": [
           {
            "marker": {
             "colorbar": {
              "outlinewidth": 0,
              "ticks": ""
             }
            },
            "type": "scatter"
           }
          ],
          "scatter3d": [
           {
            "line": {
             "colorbar": {
              "outlinewidth": 0,
              "ticks": ""
             }
            },
            "marker": {
             "colorbar": {
              "outlinewidth": 0,
              "ticks": ""
             }
            },
            "type": "scatter3d"
           }
          ],
          "scattercarpet": [
           {
            "marker": {
             "colorbar": {
              "outlinewidth": 0,
              "ticks": ""
             }
            },
            "type": "scattercarpet"
           }
          ],
          "scattergeo": [
           {
            "marker": {
             "colorbar": {
              "outlinewidth": 0,
              "ticks": ""
             }
            },
            "type": "scattergeo"
           }
          ],
          "scattergl": [
           {
            "marker": {
             "colorbar": {
              "outlinewidth": 0,
              "ticks": ""
             }
            },
            "type": "scattergl"
           }
          ],
          "scattermapbox": [
           {
            "marker": {
             "colorbar": {
              "outlinewidth": 0,
              "ticks": ""
             }
            },
            "type": "scattermapbox"
           }
          ],
          "scatterpolar": [
           {
            "marker": {
             "colorbar": {
              "outlinewidth": 0,
              "ticks": ""
             }
            },
            "type": "scatterpolar"
           }
          ],
          "scatterpolargl": [
           {
            "marker": {
             "colorbar": {
              "outlinewidth": 0,
              "ticks": ""
             }
            },
            "type": "scatterpolargl"
           }
          ],
          "scatterternary": [
           {
            "marker": {
             "colorbar": {
              "outlinewidth": 0,
              "ticks": ""
             }
            },
            "type": "scatterternary"
           }
          ],
          "surface": [
           {
            "colorbar": {
             "outlinewidth": 0,
             "ticks": ""
            },
            "colorscale": [
             [
              0,
              "#0d0887"
             ],
             [
              0.1111111111111111,
              "#46039f"
             ],
             [
              0.2222222222222222,
              "#7201a8"
             ],
             [
              0.3333333333333333,
              "#9c179e"
             ],
             [
              0.4444444444444444,
              "#bd3786"
             ],
             [
              0.5555555555555556,
              "#d8576b"
             ],
             [
              0.6666666666666666,
              "#ed7953"
             ],
             [
              0.7777777777777778,
              "#fb9f3a"
             ],
             [
              0.8888888888888888,
              "#fdca26"
             ],
             [
              1,
              "#f0f921"
             ]
            ],
            "type": "surface"
           }
          ],
          "table": [
           {
            "cells": {
             "fill": {
              "color": "#EBF0F8"
             },
             "line": {
              "color": "white"
             }
            },
            "header": {
             "fill": {
              "color": "#C8D4E3"
             },
             "line": {
              "color": "white"
             }
            },
            "type": "table"
           }
          ]
         },
         "layout": {
          "annotationdefaults": {
           "arrowcolor": "#2a3f5f",
           "arrowhead": 0,
           "arrowwidth": 1
          },
          "coloraxis": {
           "colorbar": {
            "outlinewidth": 0,
            "ticks": ""
           }
          },
          "colorscale": {
           "diverging": [
            [
             0,
             "#8e0152"
            ],
            [
             0.1,
             "#c51b7d"
            ],
            [
             0.2,
             "#de77ae"
            ],
            [
             0.3,
             "#f1b6da"
            ],
            [
             0.4,
             "#fde0ef"
            ],
            [
             0.5,
             "#f7f7f7"
            ],
            [
             0.6,
             "#e6f5d0"
            ],
            [
             0.7,
             "#b8e186"
            ],
            [
             0.8,
             "#7fbc41"
            ],
            [
             0.9,
             "#4d9221"
            ],
            [
             1,
             "#276419"
            ]
           ],
           "sequential": [
            [
             0,
             "#0d0887"
            ],
            [
             0.1111111111111111,
             "#46039f"
            ],
            [
             0.2222222222222222,
             "#7201a8"
            ],
            [
             0.3333333333333333,
             "#9c179e"
            ],
            [
             0.4444444444444444,
             "#bd3786"
            ],
            [
             0.5555555555555556,
             "#d8576b"
            ],
            [
             0.6666666666666666,
             "#ed7953"
            ],
            [
             0.7777777777777778,
             "#fb9f3a"
            ],
            [
             0.8888888888888888,
             "#fdca26"
            ],
            [
             1,
             "#f0f921"
            ]
           ],
           "sequentialminus": [
            [
             0,
             "#0d0887"
            ],
            [
             0.1111111111111111,
             "#46039f"
            ],
            [
             0.2222222222222222,
             "#7201a8"
            ],
            [
             0.3333333333333333,
             "#9c179e"
            ],
            [
             0.4444444444444444,
             "#bd3786"
            ],
            [
             0.5555555555555556,
             "#d8576b"
            ],
            [
             0.6666666666666666,
             "#ed7953"
            ],
            [
             0.7777777777777778,
             "#fb9f3a"
            ],
            [
             0.8888888888888888,
             "#fdca26"
            ],
            [
             1,
             "#f0f921"
            ]
           ]
          },
          "colorway": [
           "#636efa",
           "#EF553B",
           "#00cc96",
           "#ab63fa",
           "#FFA15A",
           "#19d3f3",
           "#FF6692",
           "#B6E880",
           "#FF97FF",
           "#FECB52"
          ],
          "font": {
           "color": "#2a3f5f"
          },
          "geo": {
           "bgcolor": "white",
           "lakecolor": "white",
           "landcolor": "#E5ECF6",
           "showlakes": true,
           "showland": true,
           "subunitcolor": "white"
          },
          "hoverlabel": {
           "align": "left"
          },
          "hovermode": "closest",
          "mapbox": {
           "style": "light"
          },
          "paper_bgcolor": "white",
          "plot_bgcolor": "#E5ECF6",
          "polar": {
           "angularaxis": {
            "gridcolor": "white",
            "linecolor": "white",
            "ticks": ""
           },
           "bgcolor": "#E5ECF6",
           "radialaxis": {
            "gridcolor": "white",
            "linecolor": "white",
            "ticks": ""
           }
          },
          "scene": {
           "xaxis": {
            "backgroundcolor": "#E5ECF6",
            "gridcolor": "white",
            "gridwidth": 2,
            "linecolor": "white",
            "showbackground": true,
            "ticks": "",
            "zerolinecolor": "white"
           },
           "yaxis": {
            "backgroundcolor": "#E5ECF6",
            "gridcolor": "white",
            "gridwidth": 2,
            "linecolor": "white",
            "showbackground": true,
            "ticks": "",
            "zerolinecolor": "white"
           },
           "zaxis": {
            "backgroundcolor": "#E5ECF6",
            "gridcolor": "white",
            "gridwidth": 2,
            "linecolor": "white",
            "showbackground": true,
            "ticks": "",
            "zerolinecolor": "white"
           }
          },
          "shapedefaults": {
           "line": {
            "color": "#2a3f5f"
           }
          },
          "ternary": {
           "aaxis": {
            "gridcolor": "white",
            "linecolor": "white",
            "ticks": ""
           },
           "baxis": {
            "gridcolor": "white",
            "linecolor": "white",
            "ticks": ""
           },
           "bgcolor": "#E5ECF6",
           "caxis": {
            "gridcolor": "white",
            "linecolor": "white",
            "ticks": ""
           }
          },
          "title": {
           "x": 0.05
          },
          "xaxis": {
           "automargin": true,
           "gridcolor": "white",
           "linecolor": "white",
           "ticks": "",
           "title": {
            "standoff": 15
           },
           "zerolinecolor": "white",
           "zerolinewidth": 2
          },
          "yaxis": {
           "automargin": true,
           "gridcolor": "white",
           "linecolor": "white",
           "ticks": "",
           "title": {
            "standoff": 15
           },
           "zerolinecolor": "white",
           "zerolinewidth": 2
          }
         }
        },
        "title": {
         "font": {
          "color": "#4D5663"
         },
         "text": "Drawdowns"
        },
        "width": 990,
        "xaxis": {
         "autorange": true,
         "gridcolor": "#E1E5ED",
         "range": [
          "2004-07-01",
          "2019-10-01"
         ],
         "showgrid": true,
         "tickfont": {
          "color": "#4D5663"
         },
         "title": {
          "font": {
           "color": "#4D5663"
          },
          "text": ""
         },
         "type": "date",
         "zerolinecolor": "#E1E5ED"
        },
        "yaxis": {
         "autorange": true,
         "gridcolor": "#E1E5ED",
         "range": [
          -80.49560351718625,
          4.236610711430855
         ],
         "showgrid": true,
         "tickfont": {
          "color": "#4D5663"
         },
         "title": {
          "font": {
           "color": "#4D5663"
          },
          "text": "Percentagem"
         },
         "type": "linear",
         "zerolinecolor": "#E1E5ED"
        }
       }
      },
      "image/png": "[encoded data removed]",
      "text/html": [
       "<div>\n",
       "        \n",
       "        \n",
       "            <div id=\"c600e484-619a-44b0-a825-e9bea819b302\" class=\"plotly-graph-div\" style=\"height:500px; width:990px;\"></div>\n",
       "            <script type=\"text/javascript\">\n",
       "                require([\"plotly\"], function(Plotly) {\n",
       "                    window.PLOTLYENV=window.PLOTLYENV || {};\n",
       "                    window.PLOTLYENV.BASE_URL='https://plot.ly';\n",
       "                    \n",
       "                if (document.getElementById(\"c600e484-619a-44b0-a825-e9bea819b302\")) {\n",
       "                    Plotly.newPlot(\n",
       "                        'c600e484-619a-44b0-a825-e9bea819b302',\n",
       "                        [{\"line\": {\"color\": \"rgba(255, 153, 51, 1.0)\", \"dash\": \"solid\", \"shape\": \"linear\", \"width\": 1.3}, \"mode\": \"lines\", \"name\": \"US_GDP\", \"text\": \"\", \"type\": \"scatter\", \"x\": [\"2004-07-01\", \"2004-10-01\", \"2005-01-01\", \"2005-04-01\", \"2005-07-01\", \"2005-10-01\", \"2006-01-01\", \"2006-04-01\", \"2006-07-01\", \"2006-10-01\", \"2007-01-01\", \"2007-04-01\", \"2007-07-01\", \"2007-10-01\", \"2008-01-01\", \"2008-04-01\", \"2008-07-01\", \"2008-10-01\", \"2009-01-01\", \"2009-04-01\", \"2009-07-01\", \"2009-10-01\", \"2010-01-01\", \"2010-04-01\", \"2010-07-01\", \"2010-10-01\", \"2011-01-01\", \"2011-04-01\", \"2011-07-01\", \"2011-10-01\", \"2012-01-01\", \"2012-04-01\", \"2012-07-01\", \"2012-10-01\", \"2013-01-01\", \"2013-04-01\", \"2013-07-01\", \"2013-10-01\", \"2014-01-01\", \"2014-04-01\", \"2014-07-01\", \"2014-10-01\", \"2015-01-01\", \"2015-04-01\", \"2015-07-01\", \"2015-10-01\", \"2016-01-01\", \"2016-04-01\", \"2016-07-01\", \"2016-10-01\", \"2017-01-01\", \"2017-04-01\", \"2017-07-01\", \"2017-10-01\", \"2018-01-01\", \"2018-04-01\", \"2018-07-01\", \"2018-10-01\", \"2019-01-01\", \"2019-04-01\", \"2019-04-01\", \"2019-07-01\", \"2019-10-01\"], \"y\": [0.0, 0.0, 0.0, 0.0, 0.0, 0.0, 0.0, 0.0, 0.0, 0.0, 0.0, 0.0, 0.0, 0.0, -0.5746998455205432, -0.06128042267820044, -0.6023042682426594, -2.753082784654992, -3.8448691080243846, -3.983322639871023, -3.6337152590155797, -2.575243305610264, -2.2003725804019325, -1.2986323344034378, -0.5709947241990809, -0.07195802402073515, -0.31222625957788575, 0.0, -0.027778662448552094, 0.0, 0.0, 0.0, 0.0, 0.0, 0.0, 0.0, 0.0, 0.0, -0.28270518660105104, 0.0, 0.0, 0.0, 0.0, 0.0, 0.0, 0.0, 0.0, 0.0, 0.0, 0.0, 0.0, 0.0, 0.0, 0.0, 0.0, 0.0, 0.0, 0.0, 0.0, 0.0, 0.0, 0.0, 0.0]}, {\"line\": {\"color\": \"rgba(65, 105, 225, 1.0)\", \"dash\": \"solid\", \"shape\": \"linear\", \"width\": 1.3}, \"mode\": \"lines\", \"name\": \"EU_GDP\", \"text\": \"\", \"type\": \"scatter\", \"x\": [\"2004-07-01\", \"2004-10-01\", \"2005-01-01\", \"2005-04-01\", \"2005-07-01\", \"2005-10-01\", \"2006-01-01\", \"2006-04-01\", \"2006-07-01\", \"2006-10-01\", \"2007-01-01\", \"2007-04-01\", \"2007-07-01\", \"2007-10-01\", \"2008-01-01\", \"2008-04-01\", \"2008-07-01\", \"2008-10-01\", \"2009-01-01\", \"2009-04-01\", \"2009-07-01\", \"2009-10-01\", \"2010-01-01\", \"2010-04-01\", \"2010-07-01\", \"2010-10-01\", \"2011-01-01\", \"2011-04-01\", \"2011-07-01\", \"2011-10-01\", \"2012-01-01\", \"2012-04-01\", \"2012-07-01\", \"2012-10-01\", \"2013-01-01\", \"2013-04-01\", \"2013-07-01\", \"2013-10-01\", \"2014-01-01\", \"2014-04-01\", \"2014-07-01\", \"2014-10-01\", \"2015-01-01\", \"2015-04-01\", \"2015-07-01\", \"2015-10-01\", \"2016-01-01\", \"2016-04-01\", \"2016-07-01\", \"2016-10-01\", \"2017-01-01\", \"2017-04-01\", \"2017-07-01\", \"2017-10-01\", \"2018-01-01\", \"2018-04-01\", \"2018-07-01\", \"2018-10-01\", \"2019-01-01\", \"2019-04-01\", \"2019-04-01\", \"2019-07-01\", \"2019-10-01\"], \"y\": [0.0, 0.0, 0.0, 0.0, 0.0, 0.0, 0.0, 0.0, 0.0, 0.0, 0.0, 0.0, 0.0, 0.0, 0.0, -0.31551115559670384, -0.9921917802313551, -2.7696462567523783, -5.453366250731351, -5.550558615672497, -5.237959703772366, -4.747656646226995, -4.376839993101056, -3.41210952532508, -2.901182597046681, -2.3524839283188936, -1.5814267105987323, -1.4920003288483863, -1.3158186294420449, -1.5520088286205103, -1.6267714905571773, -1.8752919968980764, -1.7732398629725976, -2.1254253918286614, -2.238291416167759, -1.721172201602883, -1.275873257827842, -0.9438503437156021, -0.45277551144320416, -0.12094554101271804, 0.0, 0.0, 0.0, 0.0, 0.0, 0.0, 0.0, 0.0, 0.0, 0.0, 0.0, 0.0, 0.0, 0.0, 0.0, 0.0, 0.0, 0.0, 0.0, 0.0, 0.0, 0.0, 0.0]}, {\"line\": {\"color\": \"rgba(112, 128, 144, 1.0)\", \"dash\": \"solid\", \"shape\": \"linear\", \"width\": 1.3}, \"mode\": \"lines\", \"name\": \"US_CPI\", \"text\": \"\", \"type\": \"scatter\", \"x\": [\"2004-07-01\", \"2004-10-01\", \"2005-01-01\", \"2005-04-01\", \"2005-07-01\", \"2005-10-01\", \"2006-01-01\", \"2006-04-01\", \"2006-07-01\", \"2006-10-01\", \"2007-01-01\", \"2007-04-01\", \"2007-07-01\", \"2007-10-01\", \"2008-01-01\", \"2008-04-01\", \"2008-07-01\", \"2008-10-01\", \"2009-01-01\", \"2009-04-01\", \"2009-07-01\", \"2009-10-01\", \"2010-01-01\", \"2010-04-01\", \"2010-07-01\", \"2010-10-01\", \"2011-01-01\", \"2011-04-01\", \"2011-07-01\", \"2011-10-01\", \"2012-01-01\", \"2012-04-01\", \"2012-07-01\", \"2012-10-01\", \"2013-01-01\", \"2013-04-01\", \"2013-07-01\", \"2013-10-01\", \"2014-01-01\", \"2014-04-01\", \"2014-07-01\", \"2014-10-01\", \"2015-01-01\", \"2015-04-01\", \"2015-07-01\", \"2015-10-01\", \"2016-01-01\", \"2016-04-01\", \"2016-07-01\", \"2016-10-01\", \"2017-01-01\", \"2017-04-01\", \"2017-07-01\", \"2017-10-01\", \"2018-01-01\", \"2018-04-01\", \"2018-07-01\", \"2018-10-01\", \"2019-01-01\", \"2019-04-01\", \"2019-04-01\", \"2019-07-01\", \"2019-10-01\"], \"y\": [0.0, 0.0, 0.0, 0.0, 0.0, 0.0, 0.0, 0.0, 0.0, -0.4928536224741209, 0.0, 0.0, 0.0, 0.0, 0.0, 0.0, 0.0, -0.9227636337071132, -3.234010300617296, -2.8796982868831367, -1.9587610037622882, -1.1446652299375248, -0.6976659239507632, -0.7364758739087485, -0.6442451693026929, 0.0, 0.0, 0.0, 0.0, 0.0, 0.0, 0.0, -0.26048597869862133, 0.0, 0.0, 0.0, 0.0, 0.0, 0.0, 0.0, 0.0, -0.02863182005741205, -1.1583255437940365, -0.5372676822541611, 0.0, -0.12645252358907122, -0.0869623667207331, 0.0, 0.0, 0.0, 0.0, 0.0, 0.0, 0.0, 0.0, 0.0, 0.0, 0.0, -0.0898024741174841, 0.0, 0.0, 0.0, 0.0]}, {\"line\": {\"color\": \"rgba(128, 0, 128, 1.0)\", \"dash\": \"solid\", \"shape\": \"linear\", \"width\": 1.3}, \"mode\": \"lines\", \"name\": \"EU_CPI\", \"text\": \"\", \"type\": \"scatter\", \"x\": [\"2004-07-01\", \"2004-10-01\", \"2005-01-01\", \"2005-04-01\", \"2005-07-01\", \"2005-10-01\", \"2006-01-01\", \"2006-04-01\", \"2006-07-01\", \"2006-10-01\", \"2007-01-01\", \"2007-04-01\", \"2007-07-01\", \"2007-10-01\", \"2008-01-01\", \"2008-04-01\", \"2008-07-01\", \"2008-10-01\", \"2009-01-01\", \"2009-04-01\", \"2009-07-01\", \"2009-10-01\", \"2010-01-01\", \"2010-04-01\", \"2010-07-01\", \"2010-10-01\", \"2011-01-01\", \"2011-04-01\", \"2011-07-01\", \"2011-10-01\", \"2012-01-01\", \"2012-04-01\", \"2012-07-01\", \"2012-10-01\", \"2013-01-01\", \"2013-04-01\", \"2013-07-01\", \"2013-10-01\", \"2014-01-01\", \"2014-04-01\", \"2014-07-01\", \"2014-10-01\", \"2015-01-01\", \"2015-04-01\", \"2015-07-01\", \"2015-10-01\", \"2016-01-01\", \"2016-04-01\", \"2016-07-01\", \"2016-10-01\", \"2017-01-01\", \"2017-04-01\", \"2017-07-01\", \"2017-10-01\", \"2018-01-01\", \"2018-04-01\", \"2018-07-01\", \"2018-10-01\", \"2019-01-01\", \"2019-04-01\", \"2019-04-01\", \"2019-07-01\", \"2019-10-01\"], \"y\": [0.0, 0.0, -0.14745637748829754, 0.0, 0.0, 0.0, -0.22773582644133317, 0.0, 0.0, 0.0, 0.0, 0.0, 0.0, 0.0, 0.0, 0.0, 0.0, 0.0, -1.1490443044967713, 0.0, -0.07729681978799752, 0.0, -0.010993843447659746, 0.0, -0.09732886341515812, 0.0, 0.0, 0.0, -0.40846250523670635, 0.0, -0.07277263748828311, 0.0, -0.5709624796084722, 0.0, -0.587401255823361, 0.0, -0.2513826043237688, 0.0, -0.6221151916516066, 0.0, -0.5087281795511212, -0.10972568578553332, -1.6758104738154644, 0.0, -0.23913909924271337, -0.019928258270229815, -1.5245117576723644, -0.22917497010761512, -0.07971303308089706, 0.0, -0.37672251412710356, 0.0, -0.26444662095984617, 0.0, -0.4193076548025365, 0.0, 0.0, 0.0, -1.210561433609736, 0.0, 0.0, 0.0, 0.0]}, {\"line\": {\"color\": \"rgba(219, 64, 82, 1.0)\", \"dash\": \"solid\", \"shape\": \"linear\", \"width\": 1.3}, \"mode\": \"lines\", \"name\": \"S&P_500\", \"text\": \"\", \"type\": \"scatter\", \"x\": [\"2004-07-01\", \"2004-10-01\", \"2005-01-01\", \"2005-04-01\", \"2005-07-01\", \"2005-10-01\", \"2006-01-01\", \"2006-04-01\", \"2006-07-01\", \"2006-10-01\", \"2007-01-01\", \"2007-04-01\", \"2007-07-01\", \"2007-10-01\", \"2008-01-01\", \"2008-04-01\", \"2008-07-01\", \"2008-10-01\", \"2009-01-01\", \"2009-04-01\", \"2009-07-01\", \"2009-10-01\", \"2010-01-01\", \"2010-04-01\", \"2010-07-01\", \"2010-10-01\", \"2011-01-01\", \"2011-04-01\", \"2011-07-01\", \"2011-10-01\", \"2012-01-01\", \"2012-04-01\", \"2012-07-01\", \"2012-10-01\", \"2013-01-01\", \"2013-04-01\", \"2013-07-01\", \"2013-10-01\", \"2014-01-01\", \"2014-04-01\", \"2014-07-01\", \"2014-10-01\", \"2015-01-01\", \"2015-04-01\", \"2015-07-01\", \"2015-10-01\", \"2016-01-01\", \"2016-04-01\", \"2016-07-01\", \"2016-10-01\", \"2017-01-01\", \"2017-04-01\", \"2017-07-01\", \"2017-10-01\", \"2018-01-01\", \"2018-04-01\", \"2018-07-01\", \"2018-10-01\", \"2019-01-01\", \"2019-04-01\", \"2019-04-01\", \"2019-07-01\", \"2019-10-01\"], \"y\": [0.0, 0.0, 0.0, -3.2180341936761336, -1.4423394283450852, 0.0, 0.0, 0.0, -1.9052105616780057, 0.0, 0.0, 0.0, 0.0, 0.0, -5.085841348639986, -11.432154307580934, -16.943970420932864, -24.949581135587962, -41.61430861516187, -47.572137759851074, -40.316346054400654, -33.430939083669465, -27.92041576171269, -23.848122866894204, -33.59124521667185, -25.90753955941669, -18.691177991519282, -13.873590857379236, -13.404307580928732, -26.865497983245422, -18.70927707105181, -8.957105181507908, -11.950563657048308, -6.628787878787879, -9.347528182852393, 0.0, 0.0, 0.0, 0.0, 0.0, 0.0, -1.3763606510854842, 0.0, -0.9931021222390424, -0.14084168529332475, -7.524214675415197, -0.8166894993630769, -0.3638810777032653, 0.0, 0.0, 0.0, 0.0, 0.0, 0.0, 0.0, -1.2245615478697403, 0.0, 0.0, -15.005522141565164, -1.9626682714500188, -1.9626682714500188, 0.0, -0.8123252134546344]}, {\"line\": {\"color\": \"rgba(0, 128, 128, 1.0)\", \"dash\": \"solid\", \"shape\": \"linear\", \"width\": 1.3}, \"mode\": \"lines\", \"name\": \"Stoxx_600\", \"text\": \"\", \"type\": \"scatter\", \"x\": [\"2004-07-01\", \"2004-10-01\", \"2005-01-01\", \"2005-04-01\", \"2005-07-01\", \"2005-10-01\", \"2006-01-01\", \"2006-04-01\", \"2006-07-01\", \"2006-10-01\", \"2007-01-01\", \"2007-04-01\", \"2007-07-01\", \"2007-10-01\", \"2008-01-01\", \"2008-04-01\", \"2008-07-01\", \"2008-10-01\", \"2009-01-01\", \"2009-04-01\", \"2009-07-01\", \"2009-10-01\", \"2010-01-01\", \"2010-04-01\", \"2010-07-01\", \"2010-10-01\", \"2011-01-01\", \"2011-04-01\", \"2011-07-01\", \"2011-10-01\", \"2012-01-01\", \"2012-04-01\", \"2012-07-01\", \"2012-10-01\", \"2013-01-01\", \"2013-04-01\", \"2013-07-01\", \"2013-10-01\", \"2014-01-01\", \"2014-04-01\", \"2014-07-01\", \"2014-10-01\", \"2015-01-01\", \"2015-04-01\", \"2015-07-01\", \"2015-10-01\", \"2016-01-01\", \"2016-04-01\", \"2016-07-01\", \"2016-10-01\", \"2017-01-01\", \"2017-04-01\", \"2017-07-01\", \"2017-10-01\", \"2018-01-01\", \"2018-04-01\", \"2018-07-01\", \"2018-10-01\", \"2019-01-01\", \"2019-04-01\", \"2019-04-01\", \"2019-07-01\", \"2019-10-01\"], \"y\": [0.0, 0.0, 0.0, 0.0, 0.0, 0.0, 0.0, 0.0, -4.120320535821076, 0.0, 0.0, 0.0, 0.0, -3.263823626527118, -7.383607223590949, -19.720098549693944, -28.119681999441216, -34.533031927052896, -49.988570267455735, -54.469025424805054, -46.79840491732493, -39.391938228645444, -35.698864646567266, -32.026110589012205, -39.727210383277026, -34.192679891290545, -29.63856645754489, -28.876584287927663, -30.171953976276946, -42.551624291991565, -37.88829341393411, -33.118285032130245, -36.20431281908003, -30.829798582713163, -29.19153691803612, -25.38162606994996, -26.77605344034948, -20.535419471184348, -16.91092428437173, -14.569099083081449, -12.399989840237746, -13.586142084275199, -13.382946839043953, 0.0, -2.873130583157668, -13.12104787714542, -7.733614373180753, -16.403191809695883, -16.631536685737213, -13.951620997691439, -9.309444946301282, -4.361136203954619, -4.805279534276819, -2.599618588778463, -2.3436715848639933, -6.938171233564172, -4.664759610559055, -3.6585365853658347, -15.6303322292482, -3.7262872628726074, -3.7262872628726074, -2.6723878349894647, -2.6422764227642004]}, {\"line\": {\"color\": \"rgba(25, 25, 112, 1.0)\", \"dash\": \"solid\", \"shape\": \"linear\", \"width\": 1.3}, \"mode\": \"lines\", \"name\": \"Gold\", \"text\": \"\", \"type\": \"scatter\", \"x\": [\"2004-07-01\", \"2004-10-01\", \"2005-01-01\", \"2005-04-01\", \"2005-07-01\", \"2005-10-01\", \"2006-01-01\", \"2006-04-01\", \"2006-07-01\", \"2006-10-01\", \"2007-01-01\", \"2007-04-01\", \"2007-07-01\", \"2007-10-01\", \"2008-01-01\", \"2008-04-01\", \"2008-07-01\", \"2008-10-01\", \"2009-01-01\", \"2009-04-01\", \"2009-07-01\", \"2009-10-01\", \"2010-01-01\", \"2010-04-01\", \"2010-07-01\", \"2010-10-01\", \"2011-01-01\", \"2011-04-01\", \"2011-07-01\", \"2011-10-01\", \"2012-01-01\", \"2012-04-01\", \"2012-07-01\", \"2012-10-01\", \"2013-01-01\", \"2013-04-01\", \"2013-07-01\", \"2013-10-01\", \"2014-01-01\", \"2014-04-01\", \"2014-07-01\", \"2014-10-01\", \"2015-01-01\", \"2015-04-01\", \"2015-07-01\", \"2015-10-01\", \"2016-01-01\", \"2016-04-01\", \"2016-07-01\", \"2016-10-01\", \"2017-01-01\", \"2017-04-01\", \"2017-07-01\", \"2017-10-01\", \"2018-01-01\", \"2018-04-01\", \"2018-07-01\", \"2018-10-01\", \"2019-01-01\", \"2019-04-01\", \"2019-04-01\", \"2019-07-01\", \"2019-10-01\"], \"y\": [0.0, 0.0, 0.0, -1.9398530762167132, -0.688705234159781, 0.0, 0.0, 0.0, 0.0, -2.3227383863080764, 0.0, 0.0, -1.7000377786173027, 0.0, 0.0, 0.0, 0.0, -6.133333333333335, -7.22666666666667, -1.3866666666666694, 0.0, 0.0, 0.0, 0.0, 0.0, 0.0, 0.0, 0.0, 0.0, 0.0, -5.4938271604938365, 0.0, -3.8496240601503695, 0.0, -7.24678231673197, -10.562395075545627, -30.45607162842755, -27.770005595970904, -32.59653049804142, -28.16172355903751, -25.7134862898713, -31.925013989927255, -32.512590934527154, -33.016228315612764, -34.63905987688866, -37.381085618354795, -40.68270844991607, -32.08729714605485, -25.01398992725239, -25.99328483491886, -35.875769445998884, -30.338556239507565, -30.484051482932294, -28.198097369893695, -27.756015668718526, -25.91773922775603, -30.025181869054297, -33.44432008953555, -28.42753217683268, -27.616116396194744, -27.616116396194744, -22.21040850587578, -17.546166759932845]}, {\"line\": {\"color\": \"rgba(128, 128, 0, 1.0)\", \"dash\": \"solid\", \"shape\": \"linear\", \"width\": 1.3}, \"mode\": \"lines\", \"name\": \"LP06TREU\", \"text\": \"\", \"type\": \"scatter\", \"x\": [\"2004-07-01\", \"2004-10-01\", \"2005-01-01\", \"2005-04-01\", \"2005-07-01\", \"2005-10-01\", \"2006-01-01\", \"2006-04-01\", \"2006-07-01\", \"2006-10-01\", \"2007-01-01\", \"2007-04-01\", \"2007-07-01\", \"2007-10-01\", \"2008-01-01\", \"2008-04-01\", \"2008-07-01\", \"2008-10-01\", \"2009-01-01\", \"2009-04-01\", \"2009-07-01\", \"2009-10-01\", \"2010-01-01\", \"2010-04-01\", \"2010-07-01\", \"2010-10-01\", \"2011-01-01\", \"2011-04-01\", \"2011-07-01\", \"2011-10-01\", \"2012-01-01\", \"2012-04-01\", \"2012-07-01\", \"2012-10-01\", \"2013-01-01\", \"2013-04-01\", \"2013-07-01\", \"2013-10-01\", \"2014-01-01\", \"2014-04-01\", \"2014-07-01\", \"2014-10-01\", \"2015-01-01\", \"2015-04-01\", \"2015-07-01\", \"2015-10-01\", \"2016-01-01\", \"2016-04-01\", \"2016-07-01\", \"2016-10-01\", \"2017-01-01\", \"2017-04-01\", \"2017-07-01\", \"2017-10-01\", \"2018-01-01\", \"2018-04-01\", \"2018-07-01\", \"2018-10-01\", \"2019-01-01\", \"2019-04-01\", \"2019-04-01\", \"2019-07-01\", \"2019-10-01\"], \"y\": [0.0, 0.0, 0.0, 0.0, 0.0, 0.0, -0.02132562574148622, -1.7908004425239876, -2.4345720830305173, 0.0, 0.0, 0.0, -1.5059233626543045, 0.0, 0.0, 0.0, -2.2184620272193145, 0.0, 0.0, 0.0, 0.0, 0.0, 0.0, 0.0, 0.0, 0.0, -2.2224886188536574, -3.506357945458216, -2.033899296225583, 0.0, 0.0, 0.0, 0.0, 0.0, 0.0, -0.19385585077762446, -1.4339081196033665, -0.07548233364932377, 0.0, 0.0, 0.0, 0.0, 0.0, 0.0, -3.960203460628764, -2.728469619220164, -2.613409244941145, -0.9044903802265636, 0.0, 0.0, -2.2192252513204336, -2.6176842196706906, -2.9767103564838915, -2.642425553496852, -2.0262343306660213, -1.3993545109498684, -1.9237771031517914, -2.8515132455562586, -1.896097469783431, 0.0, 0.0, 0.0, 0.0]}, {\"line\": {\"color\": \"rgba(0, 191, 255, 1.0)\", \"dash\": \"solid\", \"shape\": \"linear\", \"width\": 1.3}, \"mode\": \"lines\", \"name\": \"LBUSTRUU\", \"text\": \"\", \"type\": \"scatter\", \"x\": [\"2004-07-01\", \"2004-10-01\", \"2005-01-01\", \"2005-04-01\", \"2005-07-01\", \"2005-10-01\", \"2006-01-01\", \"2006-04-01\", \"2006-07-01\", \"2006-10-01\", \"2007-01-01\", \"2007-04-01\", \"2007-07-01\", \"2007-10-01\", \"2008-01-01\", \"2008-04-01\", \"2008-07-01\", \"2008-10-01\", \"2009-01-01\", \"2009-04-01\", \"2009-07-01\", \"2009-10-01\", \"2010-01-01\", \"2010-04-01\", \"2010-07-01\", \"2010-10-01\", \"2011-01-01\", \"2011-04-01\", \"2011-07-01\", \"2011-10-01\", \"2012-01-01\", \"2012-04-01\", \"2012-07-01\", \"2012-10-01\", \"2013-01-01\", \"2013-04-01\", \"2013-07-01\", \"2013-10-01\", \"2014-01-01\", \"2014-04-01\", \"2014-07-01\", \"2014-10-01\", \"2015-01-01\", \"2015-04-01\", \"2015-07-01\", \"2015-10-01\", \"2016-01-01\", \"2016-04-01\", \"2016-07-01\", \"2016-10-01\", \"2017-01-01\", \"2017-04-01\", \"2017-07-01\", \"2017-10-01\", \"2018-01-01\", \"2018-04-01\", \"2018-07-01\", \"2018-10-01\", \"2019-01-01\", \"2019-04-01\", \"2019-04-01\", \"2019-07-01\", \"2019-10-01\"], \"y\": [0.0, 0.0, 0.0, -0.26971126003143553, 0.0, -0.30215396080908175, 0.0, -0.6469799525063435, -0.7229051903784978, 0.0, 0.0, 0.0, -0.5178738950371131, 0.0, 0.0, 0.0, -0.6903030216769523, -0.8297869312116624, 0.0, 0.0, 0.0, 0.0, -0.16915648595225985, 0.0, 0.0, 0.0, -1.3026534196155848, -0.8948976400683262, 0.0, 0.0, 0.0, 0.0, 0.0, 0.0, 0.0, -0.027651418626217783, -2.3839860333226714, -1.991444325766234, -2.0239754065029536, -0.3253108073671851, 0.0, 0.0, 0.0, 0.0, -2.3565762774396037, -0.7117383016663537, -1.3404660886675246, 0.0, 0.0, 0.0, -2.9754833135328007, -2.1831338550206802, -0.7692760851849334, 0.0, 0.0, -1.4606351735023337, -1.6170096316892701, -1.6932421800554098, 0.0, 0.0, 0.0, 0.0, 0.0]}, {\"line\": {\"color\": \"rgba(128, 177, 211, 1.0)\", \"dash\": \"solid\", \"shape\": \"linear\", \"width\": 1.3}, \"mode\": \"lines\", \"name\": \"WTI\", \"text\": \"\", \"type\": \"scatter\", \"x\": [\"2004-07-01\", \"2004-10-01\", \"2005-01-01\", \"2005-04-01\", \"2005-07-01\", \"2005-10-01\", \"2006-01-01\", \"2006-04-01\", \"2006-07-01\", \"2006-10-01\", \"2007-01-01\", \"2007-04-01\", \"2007-07-01\", \"2007-10-01\", \"2008-01-01\", \"2008-04-01\", \"2008-07-01\", \"2008-10-01\", \"2009-01-01\", \"2009-04-01\", \"2009-07-01\", \"2009-10-01\", \"2010-01-01\", \"2010-04-01\", \"2010-07-01\", \"2010-10-01\", \"2011-01-01\", \"2011-04-01\", \"2011-07-01\", \"2011-10-01\", \"2012-01-01\", \"2012-04-01\", \"2012-07-01\", \"2012-10-01\", \"2013-01-01\", \"2013-04-01\", \"2013-07-01\", \"2013-10-01\", \"2014-01-01\", \"2014-04-01\", \"2014-07-01\", \"2014-10-01\", \"2015-01-01\", \"2015-04-01\", \"2015-07-01\", \"2015-10-01\", \"2016-01-01\", \"2016-04-01\", \"2016-07-01\", \"2016-10-01\", \"2017-01-01\", \"2017-04-01\", \"2017-07-01\", \"2017-10-01\", \"2018-01-01\", \"2018-04-01\", \"2018-07-01\", \"2018-10-01\", \"2019-01-01\", \"2019-04-01\", \"2019-04-01\", \"2019-07-01\", \"2019-10-01\"], \"y\": [0.0, 0.0, -11.83888575192924, -0.16939582156976218, 0.0, 0.0, 0.0, 0.0, 0.0, -20.870850692111276, -26.6630829189625, -14.030372261792767, -0.30909823948394033, 0.0, 0.0, 0.0, 0.0, -42.55845323741006, -68.72002398081534, -62.687350119904075, -51.97092326139089, -43.18045563549161, -41.38189448441246, -36.69064748201437, -42.76828537170264, -38.62410071942446, -32.98860911270983, -17.535971223021573, -27.165767386091133, -35.24430455635492, -24.880095923261393, -22.564448441247, -34.10521582733812, -32.87619904076738, -29.039268585131893, -31.002697841726622, -21.560251798561158, -24.655275779376495, -29.091726618705028, -23.508693045563543, -22.369604316546756, -36.75059952038369, -64.61330935251799, -59.19514388489209, -61.85551558752997, -65.3627098321343, -76.2589928057554, -69.4619304556355, -66.5392685851319, -62.69484412470023, -60.65647482014389, -61.735611510791365, -65.0554556354916, -61.34592326139089, -52.26318944844124, -50.35221822541966, -46.80755395683454, -46.97991606714628, -61.49580335731415, -52.14328537170263, -52.14328537170263, -57.02188249400479, -59.562350119904075]}],\n",
       "                        {\"height\": 500, \"legend\": {\"bgcolor\": \"#F5F6F9\", \"font\": {\"color\": \"#4D5663\"}}, \"paper_bgcolor\": \"#F5F6F9\", \"plot_bgcolor\": \"#F5F6F9\", \"template\": {\"data\": {\"bar\": [{\"error_x\": {\"color\": \"#2a3f5f\"}, \"error_y\": {\"color\": \"#2a3f5f\"}, \"marker\": {\"line\": {\"color\": \"#E5ECF6\", \"width\": 0.5}}, \"type\": \"bar\"}], \"barpolar\": [{\"marker\": {\"line\": {\"color\": \"#E5ECF6\", \"width\": 0.5}}, \"type\": \"barpolar\"}], \"carpet\": [{\"aaxis\": {\"endlinecolor\": \"#2a3f5f\", \"gridcolor\": \"white\", \"linecolor\": \"white\", \"minorgridcolor\": \"white\", \"startlinecolor\": \"#2a3f5f\"}, \"baxis\": {\"endlinecolor\": \"#2a3f5f\", \"gridcolor\": \"white\", \"linecolor\": \"white\", \"minorgridcolor\": \"white\", \"startlinecolor\": \"#2a3f5f\"}, \"type\": \"carpet\"}], \"choropleth\": [{\"colorbar\": {\"outlinewidth\": 0, \"ticks\": \"\"}, \"type\": \"choropleth\"}], \"contour\": [{\"colorbar\": {\"outlinewidth\": 0, \"ticks\": \"\"}, \"colorscale\": [[0.0, \"#0d0887\"], [0.1111111111111111, \"#46039f\"], [0.2222222222222222, \"#7201a8\"], [0.3333333333333333, \"#9c179e\"], [0.4444444444444444, \"#bd3786\"], [0.5555555555555556, \"#d8576b\"], [0.6666666666666666, \"#ed7953\"], [0.7777777777777778, \"#fb9f3a\"], [0.8888888888888888, \"#fdca26\"], [1.0, \"#f0f921\"]], \"type\": \"contour\"}], \"contourcarpet\": [{\"colorbar\": {\"outlinewidth\": 0, \"ticks\": \"\"}, \"type\": \"contourcarpet\"}], \"heatmap\": [{\"colorbar\": {\"outlinewidth\": 0, \"ticks\": \"\"}, \"colorscale\": [[0.0, \"#0d0887\"], [0.1111111111111111, \"#46039f\"], [0.2222222222222222, \"#7201a8\"], [0.3333333333333333, \"#9c179e\"], [0.4444444444444444, \"#bd3786\"], [0.5555555555555556, \"#d8576b\"], [0.6666666666666666, \"#ed7953\"], [0.7777777777777778, \"#fb9f3a\"], [0.8888888888888888, \"#fdca26\"], [1.0, \"#f0f921\"]], \"type\": \"heatmap\"}], \"heatmapgl\": [{\"colorbar\": {\"outlinewidth\": 0, \"ticks\": \"\"}, \"colorscale\": [[0.0, \"#0d0887\"], [0.1111111111111111, \"#46039f\"], [0.2222222222222222, \"#7201a8\"], [0.3333333333333333, \"#9c179e\"], [0.4444444444444444, \"#bd3786\"], [0.5555555555555556, \"#d8576b\"], [0.6666666666666666, \"#ed7953\"], [0.7777777777777778, \"#fb9f3a\"], [0.8888888888888888, \"#fdca26\"], [1.0, \"#f0f921\"]], \"type\": \"heatmapgl\"}], \"histogram\": [{\"marker\": {\"colorbar\": {\"outlinewidth\": 0, \"ticks\": \"\"}}, \"type\": \"histogram\"}], \"histogram2d\": [{\"colorbar\": {\"outlinewidth\": 0, \"ticks\": \"\"}, \"colorscale\": [[0.0, \"#0d0887\"], [0.1111111111111111, \"#46039f\"], [0.2222222222222222, \"#7201a8\"], [0.3333333333333333, \"#9c179e\"], [0.4444444444444444, \"#bd3786\"], [0.5555555555555556, \"#d8576b\"], [0.6666666666666666, \"#ed7953\"], [0.7777777777777778, \"#fb9f3a\"], [0.8888888888888888, \"#fdca26\"], [1.0, \"#f0f921\"]], \"type\": \"histogram2d\"}], \"histogram2dcontour\": [{\"colorbar\": {\"outlinewidth\": 0, \"ticks\": \"\"}, \"colorscale\": [[0.0, \"#0d0887\"], [0.1111111111111111, \"#46039f\"], [0.2222222222222222, \"#7201a8\"], [0.3333333333333333, \"#9c179e\"], [0.4444444444444444, \"#bd3786\"], [0.5555555555555556, \"#d8576b\"], [0.6666666666666666, \"#ed7953\"], [0.7777777777777778, \"#fb9f3a\"], [0.8888888888888888, \"#fdca26\"], [1.0, \"#f0f921\"]], \"type\": \"histogram2dcontour\"}], \"mesh3d\": [{\"colorbar\": {\"outlinewidth\": 0, \"ticks\": \"\"}, \"type\": \"mesh3d\"}], \"parcoords\": [{\"line\": {\"colorbar\": {\"outlinewidth\": 0, \"ticks\": \"\"}}, \"type\": \"parcoords\"}], \"pie\": [{\"automargin\": true, \"type\": \"pie\"}], \"scatter\": [{\"marker\": {\"colorbar\": {\"outlinewidth\": 0, \"ticks\": \"\"}}, \"type\": \"scatter\"}], \"scatter3d\": [{\"line\": {\"colorbar\": {\"outlinewidth\": 0, \"ticks\": \"\"}}, \"marker\": {\"colorbar\": {\"outlinewidth\": 0, \"ticks\": \"\"}}, \"type\": \"scatter3d\"}], \"scattercarpet\": [{\"marker\": {\"colorbar\": {\"outlinewidth\": 0, \"ticks\": \"\"}}, \"type\": \"scattercarpet\"}], \"scattergeo\": [{\"marker\": {\"colorbar\": {\"outlinewidth\": 0, \"ticks\": \"\"}}, \"type\": \"scattergeo\"}], \"scattergl\": [{\"marker\": {\"colorbar\": {\"outlinewidth\": 0, \"ticks\": \"\"}}, \"type\": \"scattergl\"}], \"scattermapbox\": [{\"marker\": {\"colorbar\": {\"outlinewidth\": 0, \"ticks\": \"\"}}, \"type\": \"scattermapbox\"}], \"scatterpolar\": [{\"marker\": {\"colorbar\": {\"outlinewidth\": 0, \"ticks\": \"\"}}, \"type\": \"scatterpolar\"}], \"scatterpolargl\": [{\"marker\": {\"colorbar\": {\"outlinewidth\": 0, \"ticks\": \"\"}}, \"type\": \"scatterpolargl\"}], \"scatterternary\": [{\"marker\": {\"colorbar\": {\"outlinewidth\": 0, \"ticks\": \"\"}}, \"type\": \"scatterternary\"}], \"surface\": [{\"colorbar\": {\"outlinewidth\": 0, \"ticks\": \"\"}, \"colorscale\": [[0.0, \"#0d0887\"], [0.1111111111111111, \"#46039f\"], [0.2222222222222222, \"#7201a8\"], [0.3333333333333333, \"#9c179e\"], [0.4444444444444444, \"#bd3786\"], [0.5555555555555556, \"#d8576b\"], [0.6666666666666666, \"#ed7953\"], [0.7777777777777778, \"#fb9f3a\"], [0.8888888888888888, \"#fdca26\"], [1.0, \"#f0f921\"]], \"type\": \"surface\"}], \"table\": [{\"cells\": {\"fill\": {\"color\": \"#EBF0F8\"}, \"line\": {\"color\": \"white\"}}, \"header\": {\"fill\": {\"color\": \"#C8D4E3\"}, \"line\": {\"color\": \"white\"}}, \"type\": \"table\"}]}, \"layout\": {\"annotationdefaults\": {\"arrowcolor\": \"#2a3f5f\", \"arrowhead\": 0, \"arrowwidth\": 1}, \"coloraxis\": {\"colorbar\": {\"outlinewidth\": 0, \"ticks\": \"\"}}, \"colorscale\": {\"diverging\": [[0, \"#8e0152\"], [0.1, \"#c51b7d\"], [0.2, \"#de77ae\"], [0.3, \"#f1b6da\"], [0.4, \"#fde0ef\"], [0.5, \"#f7f7f7\"], [0.6, \"#e6f5d0\"], [0.7, \"#b8e186\"], [0.8, \"#7fbc41\"], [0.9, \"#4d9221\"], [1, \"#276419\"]], \"sequential\": [[0.0, \"#0d0887\"], [0.1111111111111111, \"#46039f\"], [0.2222222222222222, \"#7201a8\"], [0.3333333333333333, \"#9c179e\"], [0.4444444444444444, \"#bd3786\"], [0.5555555555555556, \"#d8576b\"], [0.6666666666666666, \"#ed7953\"], [0.7777777777777778, \"#fb9f3a\"], [0.8888888888888888, \"#fdca26\"], [1.0, \"#f0f921\"]], \"sequentialminus\": [[0.0, \"#0d0887\"], [0.1111111111111111, \"#46039f\"], [0.2222222222222222, \"#7201a8\"], [0.3333333333333333, \"#9c179e\"], [0.4444444444444444, \"#bd3786\"], [0.5555555555555556, \"#d8576b\"], [0.6666666666666666, \"#ed7953\"], [0.7777777777777778, \"#fb9f3a\"], [0.8888888888888888, \"#fdca26\"], [1.0, \"#f0f921\"]]}, \"colorway\": [\"#636efa\", \"#EF553B\", \"#00cc96\", \"#ab63fa\", \"#FFA15A\", \"#19d3f3\", \"#FF6692\", \"#B6E880\", \"#FF97FF\", \"#FECB52\"], \"font\": {\"color\": \"#2a3f5f\"}, \"geo\": {\"bgcolor\": \"white\", \"lakecolor\": \"white\", \"landcolor\": \"#E5ECF6\", \"showlakes\": true, \"showland\": true, \"subunitcolor\": \"white\"}, \"hoverlabel\": {\"align\": \"left\"}, \"hovermode\": \"closest\", \"mapbox\": {\"style\": \"light\"}, \"paper_bgcolor\": \"white\", \"plot_bgcolor\": \"#E5ECF6\", \"polar\": {\"angularaxis\": {\"gridcolor\": \"white\", \"linecolor\": \"white\", \"ticks\": \"\"}, \"bgcolor\": \"#E5ECF6\", \"radialaxis\": {\"gridcolor\": \"white\", \"linecolor\": \"white\", \"ticks\": \"\"}}, \"scene\": {\"xaxis\": {\"backgroundcolor\": \"#E5ECF6\", \"gridcolor\": \"white\", \"gridwidth\": 2, \"linecolor\": \"white\", \"showbackground\": true, \"ticks\": \"\", \"zerolinecolor\": \"white\"}, \"yaxis\": {\"backgroundcolor\": \"#E5ECF6\", \"gridcolor\": \"white\", \"gridwidth\": 2, \"linecolor\": \"white\", \"showbackground\": true, \"ticks\": \"\", \"zerolinecolor\": \"white\"}, \"zaxis\": {\"backgroundcolor\": \"#E5ECF6\", \"gridcolor\": \"white\", \"gridwidth\": 2, \"linecolor\": \"white\", \"showbackground\": true, \"ticks\": \"\", \"zerolinecolor\": \"white\"}}, \"shapedefaults\": {\"line\": {\"color\": \"#2a3f5f\"}}, \"ternary\": {\"aaxis\": {\"gridcolor\": \"white\", \"linecolor\": \"white\", \"ticks\": \"\"}, \"baxis\": {\"gridcolor\": \"white\", \"linecolor\": \"white\", \"ticks\": \"\"}, \"bgcolor\": \"#E5ECF6\", \"caxis\": {\"gridcolor\": \"white\", \"linecolor\": \"white\", \"ticks\": \"\"}}, \"title\": {\"x\": 0.05}, \"xaxis\": {\"automargin\": true, \"gridcolor\": \"white\", \"linecolor\": \"white\", \"ticks\": \"\", \"title\": {\"standoff\": 15}, \"zerolinecolor\": \"white\", \"zerolinewidth\": 2}, \"yaxis\": {\"automargin\": true, \"gridcolor\": \"white\", \"linecolor\": \"white\", \"ticks\": \"\", \"title\": {\"standoff\": 15}, \"zerolinecolor\": \"white\", \"zerolinewidth\": 2}}}, \"title\": {\"font\": {\"color\": \"#4D5663\"}, \"text\": \"Drawdowns\"}, \"width\": 990, \"xaxis\": {\"gridcolor\": \"#E1E5ED\", \"showgrid\": true, \"tickfont\": {\"color\": \"#4D5663\"}, \"title\": {\"font\": {\"color\": \"#4D5663\"}, \"text\": \"\"}, \"zerolinecolor\": \"#E1E5ED\"}, \"yaxis\": {\"gridcolor\": \"#E1E5ED\", \"showgrid\": true, \"tickfont\": {\"color\": \"#4D5663\"}, \"title\": {\"font\": {\"color\": \"#4D5663\"}, \"text\": \"Percentagem\"}, \"zerolinecolor\": \"#E1E5ED\"}},\n",
       "                        {\"showLink\": true, \"linkText\": \"Export to plot.ly\", \"plotlyServerURL\": \"https://plot.ly\", \"responsive\": true}\n",
       "                    ).then(function(){\n",
       "                            \n",
       "var gd = document.getElementById('c600e484-619a-44b0-a825-e9bea819b302');\n",
       "var x = new MutationObserver(function (mutations, observer) {{\n",
       "        var display = window.getComputedStyle(gd).display;\n",
       "        if (!display || display === 'none') {{\n",
       "            console.log([gd, 'removed!']);\n",
       "            Plotly.purge(gd);\n",
       "            observer.disconnect();\n",
       "        }}\n",
       "}});\n",
       "\n",
       "// Listen for the removal of the full notebook cells\n",
       "var notebookContainer = gd.closest('#notebook-container');\n",
       "if (notebookContainer) {{\n",
       "    x.observe(notebookContainer, {childList: true});\n",
       "}}\n",
       "\n",
       "// Listen for the clearing of the current output cell\n",
       "var outputEl = gd.closest('.output');\n",
       "if (outputEl) {{\n",
       "    x.observe(outputEl, {childList: true});\n",
       "}}\n",
       "\n",
       "                        })\n",
       "                };\n",
       "                });\n",
       "            </script>\n",
       "        </div>"
      ]
     },
     "metadata": {},
     "output_type": "display_data"
    }
   ],
   "source": [
    "DD = pa.compute_drawdowns(fundos)\n",
    "\n",
    "DD.iplot(dimensions=pa.dimensions, colors=colors, title='Drawdowns', yTitle='Percentagem')"
   ]
  },
  {
   "cell_type": "code",
   "execution_count": 16,
   "metadata": {},
   "outputs": [
    {
     "data": {
      "text/markdown": [
       "**Performance dos fundos desde 2004**"
      ],
      "text/plain": [
       "<IPython.core.display.Markdown object>"
      ]
     },
     "metadata": {},
     "output_type": "display_data"
    },
    {
     "data": {
      "text/html": [
       "<div>\n",
       "<style scoped>\n",
       "    .dataframe tbody tr th:only-of-type {\n",
       "        vertical-align: middle;\n",
       "    }\n",
       "\n",
       "    .dataframe tbody tr th {\n",
       "        vertical-align: top;\n",
       "    }\n",
       "\n",
       "    .dataframe thead th {\n",
       "        text-align: right;\n",
       "    }\n",
       "</style>\n",
       "<table border=\"1\" class=\"dataframe\">\n",
       "  <thead>\n",
       "    <tr style=\"text-align: right;\">\n",
       "      <th></th>\n",
       "      <th>CAGR</th>\n",
       "      <th>Return</th>\n",
       "      <th>StdDev</th>\n",
       "      <th>Sharpe</th>\n",
       "      <th>Max DD</th>\n",
       "      <th>MAR</th>\n",
       "    </tr>\n",
       "  </thead>\n",
       "  <tbody>\n",
       "    <tr>\n",
       "      <th>US_GDP</th>\n",
       "      <td>1.88%</td>\n",
       "      <td>32.89%</td>\n",
       "      <td>1.15%</td>\n",
       "      <td>1.64</td>\n",
       "      <td>-3.98%</td>\n",
       "      <td>0.47</td>\n",
       "    </tr>\n",
       "    <tr>\n",
       "      <th>EU_GDP</th>\n",
       "      <td>1.36%</td>\n",
       "      <td>22.90%</td>\n",
       "      <td>1.20%</td>\n",
       "      <td>1.13</td>\n",
       "      <td>-5.55%</td>\n",
       "      <td>0.25</td>\n",
       "    </tr>\n",
       "    <tr>\n",
       "      <th>US_CPI</th>\n",
       "      <td>2.04%</td>\n",
       "      <td>36.03%</td>\n",
       "      <td>1.37%</td>\n",
       "      <td>1.48</td>\n",
       "      <td>-3.23%</td>\n",
       "      <td>0.63</td>\n",
       "    </tr>\n",
       "    <tr>\n",
       "      <th>EU_CPI</th>\n",
       "      <td>1.80%</td>\n",
       "      <td>31.19%</td>\n",
       "      <td>1.75%</td>\n",
       "      <td>1.03</td>\n",
       "      <td>-1.68%</td>\n",
       "      <td>1.07</td>\n",
       "    </tr>\n",
       "    <tr>\n",
       "      <th>S&amp;P_500</th>\n",
       "      <td>6.48%</td>\n",
       "      <td>160.44%</td>\n",
       "      <td>14.71%</td>\n",
       "      <td>0.44</td>\n",
       "      <td>-47.57%</td>\n",
       "      <td>0.14</td>\n",
       "    </tr>\n",
       "    <tr>\n",
       "      <th>Stoxx_600</th>\n",
       "      <td>3.20%</td>\n",
       "      <td>61.61%</td>\n",
       "      <td>15.74%</td>\n",
       "      <td>0.20</td>\n",
       "      <td>-54.47%</td>\n",
       "      <td>0.06</td>\n",
       "    </tr>\n",
       "    <tr>\n",
       "      <th>Gold</th>\n",
       "      <td>9.02%</td>\n",
       "      <td>273.21%</td>\n",
       "      <td>13.82%</td>\n",
       "      <td>0.65</td>\n",
       "      <td>-40.68%</td>\n",
       "      <td>0.22</td>\n",
       "    </tr>\n",
       "    <tr>\n",
       "      <th>LP06TREU</th>\n",
       "      <td>4.35%</td>\n",
       "      <td>91.44%</td>\n",
       "      <td>3.60%</td>\n",
       "      <td>1.21</td>\n",
       "      <td>-3.96%</td>\n",
       "      <td>1.10</td>\n",
       "    </tr>\n",
       "    <tr>\n",
       "      <th>LBUSTRUU</th>\n",
       "      <td>4.34%</td>\n",
       "      <td>91.24%</td>\n",
       "      <td>3.24%</td>\n",
       "      <td>1.34</td>\n",
       "      <td>-2.98%</td>\n",
       "      <td>1.46</td>\n",
       "    </tr>\n",
       "    <tr>\n",
       "      <th>WTI</th>\n",
       "      <td>1.87%</td>\n",
       "      <td>32.61%</td>\n",
       "      <td>34.11%</td>\n",
       "      <td>0.05</td>\n",
       "      <td>-76.26%</td>\n",
       "      <td>0.02</td>\n",
       "    </tr>\n",
       "  </tbody>\n",
       "</table>\n",
       "</div>"
      ],
      "text/plain": [
       "            CAGR   Return  StdDev  Sharpe   Max DD  MAR\n",
       "US_GDP     1.88%   32.89%   1.15%    1.64   -3.98% 0.47\n",
       "EU_GDP     1.36%   22.90%   1.20%    1.13   -5.55% 0.25\n",
       "US_CPI     2.04%   36.03%   1.37%    1.48   -3.23% 0.63\n",
       "EU_CPI     1.80%   31.19%   1.75%    1.03   -1.68% 1.07\n",
       "S&P_500    6.48%  160.44%  14.71%    0.44  -47.57% 0.14\n",
       "Stoxx_600  3.20%   61.61%  15.74%    0.20  -54.47% 0.06\n",
       "Gold       9.02%  273.21%  13.82%    0.65  -40.68% 0.22\n",
       "LP06TREU   4.35%   91.44%   3.60%    1.21   -3.96% 1.10\n",
       "LBUSTRUU   4.34%   91.24%   3.24%    1.34   -2.98% 1.46\n",
       "WTI        1.87%   32.61%  34.11%    0.05  -76.26% 0.02"
      ]
     },
     "execution_count": 16,
     "metadata": {},
     "output_type": "execute_result"
    }
   ],
   "source": [
    "pa.print_title('Performance dos fundos desde 2004')\n",
    "compute_performance_table(fundos, freq='quarters')"
   ]
  },
  {
   "cell_type": "code",
   "execution_count": 17,
   "metadata": {},
   "outputs": [
    {
     "data": {
      "text/markdown": [
       "**Performance a 12 meses**"
      ],
      "text/plain": [
       "<IPython.core.display.Markdown object>"
      ]
     },
     "metadata": {},
     "output_type": "display_data"
    },
    {
     "data": {
      "text/html": [
       "<div>\n",
       "<style scoped>\n",
       "    .dataframe tbody tr th:only-of-type {\n",
       "        vertical-align: middle;\n",
       "    }\n",
       "\n",
       "    .dataframe tbody tr th {\n",
       "        vertical-align: top;\n",
       "    }\n",
       "\n",
       "    .dataframe thead th {\n",
       "        text-align: right;\n",
       "    }\n",
       "</style>\n",
       "<table border=\"1\" class=\"dataframe\">\n",
       "  <thead>\n",
       "    <tr style=\"text-align: right;\">\n",
       "      <th></th>\n",
       "      <th>CAGR</th>\n",
       "      <th>Return</th>\n",
       "      <th>StdDev</th>\n",
       "      <th>Sharpe</th>\n",
       "      <th>Max DD</th>\n",
       "      <th>MAR</th>\n",
       "    </tr>\n",
       "  </thead>\n",
       "  <tbody>\n",
       "    <tr>\n",
       "      <th>US_GDP</th>\n",
       "      <td>2.33%</td>\n",
       "      <td>2.33%</td>\n",
       "      <td>0.56%</td>\n",
       "      <td>4.15</td>\n",
       "      <td>0.00%</td>\n",
       "      <td>inf</td>\n",
       "    </tr>\n",
       "    <tr>\n",
       "      <th>EU_GDP</th>\n",
       "      <td>1.23%</td>\n",
       "      <td>1.23%</td>\n",
       "      <td>0.42%</td>\n",
       "      <td>2.91</td>\n",
       "      <td>0.00%</td>\n",
       "      <td>inf</td>\n",
       "    </tr>\n",
       "    <tr>\n",
       "      <th>US_CPI</th>\n",
       "      <td>1.76%</td>\n",
       "      <td>1.76%</td>\n",
       "      <td>0.83%</td>\n",
       "      <td>2.11</td>\n",
       "      <td>-0.09%</td>\n",
       "      <td>19.57</td>\n",
       "    </tr>\n",
       "    <tr>\n",
       "      <th>EU_CPI</th>\n",
       "      <td>1.07%</td>\n",
       "      <td>1.07%</td>\n",
       "      <td>2.22%</td>\n",
       "      <td>0.48</td>\n",
       "      <td>-1.21%</td>\n",
       "      <td>0.88</td>\n",
       "    </tr>\n",
       "    <tr>\n",
       "      <th>S&amp;P_500</th>\n",
       "      <td>0.53%</td>\n",
       "      <td>0.54%</td>\n",
       "      <td>21.70%</td>\n",
       "      <td>0.02</td>\n",
       "      <td>-15.01%</td>\n",
       "      <td>0.04</td>\n",
       "    </tr>\n",
       "    <tr>\n",
       "      <th>Stoxx_600</th>\n",
       "      <td>1.05%</td>\n",
       "      <td>1.05%</td>\n",
       "      <td>18.79%</td>\n",
       "      <td>0.06</td>\n",
       "      <td>-12.43%</td>\n",
       "      <td>0.08</td>\n",
       "    </tr>\n",
       "    <tr>\n",
       "      <th>Gold</th>\n",
       "      <td>23.83%</td>\n",
       "      <td>23.89%</td>\n",
       "      <td>7.20%</td>\n",
       "      <td>3.31</td>\n",
       "      <td>0.00%</td>\n",
       "      <td>inf</td>\n",
       "    </tr>\n",
       "    <tr>\n",
       "      <th>LP06TREU</th>\n",
       "      <td>9.77%</td>\n",
       "      <td>9.79%</td>\n",
       "      <td>2.71%</td>\n",
       "      <td>3.61</td>\n",
       "      <td>0.00%</td>\n",
       "      <td>inf</td>\n",
       "    </tr>\n",
       "    <tr>\n",
       "      <th>LBUSTRUU</th>\n",
       "      <td>10.57%</td>\n",
       "      <td>10.59%</td>\n",
       "      <td>2.55%</td>\n",
       "      <td>4.15</td>\n",
       "      <td>0.00%</td>\n",
       "      <td>inf</td>\n",
       "    </tr>\n",
       "    <tr>\n",
       "      <th>WTI</th>\n",
       "      <td>-23.69%</td>\n",
       "      <td>-23.73%</td>\n",
       "      <td>37.48%</td>\n",
       "      <td>-0.63</td>\n",
       "      <td>-27.38%</td>\n",
       "      <td>-0.87</td>\n",
       "    </tr>\n",
       "  </tbody>\n",
       "</table>\n",
       "</div>"
      ],
      "text/plain": [
       "              CAGR   Return  StdDev  Sharpe   Max DD   MAR\n",
       "US_GDP       2.33%    2.33%   0.56%    4.15    0.00%   inf\n",
       "EU_GDP       1.23%    1.23%   0.42%    2.91    0.00%   inf\n",
       "US_CPI       1.76%    1.76%   0.83%    2.11   -0.09% 19.57\n",
       "EU_CPI       1.07%    1.07%   2.22%    0.48   -1.21%  0.88\n",
       "S&P_500      0.53%    0.54%  21.70%    0.02  -15.01%  0.04\n",
       "Stoxx_600    1.05%    1.05%  18.79%    0.06  -12.43%  0.08\n",
       "Gold        23.83%   23.89%   7.20%    3.31    0.00%   inf\n",
       "LP06TREU     9.77%    9.79%   2.71%    3.61    0.00%   inf\n",
       "LBUSTRUU    10.57%   10.59%   2.55%    4.15    0.00%   inf\n",
       "WTI        -23.69%  -23.73%  37.48%   -0.63  -27.38% -0.87"
      ]
     },
     "execution_count": 17,
     "metadata": {},
     "output_type": "execute_result"
    }
   ],
   "source": [
    "pa.print_title('Performance a 12 meses')\n",
    "fundos_1 = pa.filter_by_date(fundos, years=1)\n",
    "compute_performance_table(fundos_1, freq='quarters')"
   ]
  },
  {
   "cell_type": "code",
   "execution_count": 18,
   "metadata": {},
   "outputs": [
    {
     "data": {
      "text/markdown": [
       "**Performance a 3 anos**"
      ],
      "text/plain": [
       "<IPython.core.display.Markdown object>"
      ]
     },
     "metadata": {},
     "output_type": "display_data"
    },
    {
     "data": {
      "text/html": [
       "<div>\n",
       "<style scoped>\n",
       "    .dataframe tbody tr th:only-of-type {\n",
       "        vertical-align: middle;\n",
       "    }\n",
       "\n",
       "    .dataframe tbody tr th {\n",
       "        vertical-align: top;\n",
       "    }\n",
       "\n",
       "    .dataframe thead th {\n",
       "        text-align: right;\n",
       "    }\n",
       "</style>\n",
       "<table border=\"1\" class=\"dataframe\">\n",
       "  <thead>\n",
       "    <tr style=\"text-align: right;\">\n",
       "      <th></th>\n",
       "      <th>CAGR</th>\n",
       "      <th>Return</th>\n",
       "      <th>StdDev</th>\n",
       "      <th>Sharpe</th>\n",
       "      <th>Max DD</th>\n",
       "      <th>MAR</th>\n",
       "    </tr>\n",
       "  </thead>\n",
       "  <tbody>\n",
       "    <tr>\n",
       "      <th>US_GDP</th>\n",
       "      <td>2.55%</td>\n",
       "      <td>7.84%</td>\n",
       "      <td>0.49%</td>\n",
       "      <td>5.21</td>\n",
       "      <td>0.00%</td>\n",
       "      <td>inf</td>\n",
       "    </tr>\n",
       "    <tr>\n",
       "      <th>EU_GDP</th>\n",
       "      <td>1.86%</td>\n",
       "      <td>5.69%</td>\n",
       "      <td>0.48%</td>\n",
       "      <td>3.92</td>\n",
       "      <td>0.00%</td>\n",
       "      <td>inf</td>\n",
       "    </tr>\n",
       "    <tr>\n",
       "      <th>US_CPI</th>\n",
       "      <td>2.11%</td>\n",
       "      <td>6.45%</td>\n",
       "      <td>0.72%</td>\n",
       "      <td>2.91</td>\n",
       "      <td>-0.09%</td>\n",
       "      <td>23.44</td>\n",
       "    </tr>\n",
       "    <tr>\n",
       "      <th>EU_CPI</th>\n",
       "      <td>1.68%</td>\n",
       "      <td>5.12%</td>\n",
       "      <td>1.79%</td>\n",
       "      <td>0.94</td>\n",
       "      <td>-1.21%</td>\n",
       "      <td>1.38</td>\n",
       "    </tr>\n",
       "    <tr>\n",
       "      <th>S&amp;P_500</th>\n",
       "      <td>10.68%</td>\n",
       "      <td>35.60%</td>\n",
       "      <td>13.59%</td>\n",
       "      <td>0.79</td>\n",
       "      <td>-15.01%</td>\n",
       "      <td>0.71</td>\n",
       "    </tr>\n",
       "    <tr>\n",
       "      <th>Stoxx_600</th>\n",
       "      <td>4.20%</td>\n",
       "      <td>13.14%</td>\n",
       "      <td>12.00%</td>\n",
       "      <td>0.35</td>\n",
       "      <td>-13.61%</td>\n",
       "      <td>0.31</td>\n",
       "    </tr>\n",
       "    <tr>\n",
       "      <th>Gold</th>\n",
       "      <td>3.67%</td>\n",
       "      <td>11.41%</td>\n",
       "      <td>12.40%</td>\n",
       "      <td>0.30</td>\n",
       "      <td>-13.35%</td>\n",
       "      <td>0.27</td>\n",
       "    </tr>\n",
       "    <tr>\n",
       "      <th>LP06TREU</th>\n",
       "      <td>2.17%</td>\n",
       "      <td>6.66%</td>\n",
       "      <td>3.12%</td>\n",
       "      <td>0.70</td>\n",
       "      <td>-2.98%</td>\n",
       "      <td>0.73</td>\n",
       "    </tr>\n",
       "    <tr>\n",
       "      <th>LBUSTRUU</th>\n",
       "      <td>2.98%</td>\n",
       "      <td>9.22%</td>\n",
       "      <td>3.45%</td>\n",
       "      <td>0.86</td>\n",
       "      <td>-2.98%</td>\n",
       "      <td>1.00</td>\n",
       "    </tr>\n",
       "    <tr>\n",
       "      <th>WTI</th>\n",
       "      <td>2.72%</td>\n",
       "      <td>8.40%</td>\n",
       "      <td>27.65%</td>\n",
       "      <td>0.10</td>\n",
       "      <td>-27.61%</td>\n",
       "      <td>0.10</td>\n",
       "    </tr>\n",
       "  </tbody>\n",
       "</table>\n",
       "</div>"
      ],
      "text/plain": [
       "             CAGR  Return  StdDev  Sharpe   Max DD   MAR\n",
       "US_GDP      2.55%   7.84%   0.49%    5.21    0.00%   inf\n",
       "EU_GDP      1.86%   5.69%   0.48%    3.92    0.00%   inf\n",
       "US_CPI      2.11%   6.45%   0.72%    2.91   -0.09% 23.44\n",
       "EU_CPI      1.68%   5.12%   1.79%    0.94   -1.21%  1.38\n",
       "S&P_500    10.68%  35.60%  13.59%    0.79  -15.01%  0.71\n",
       "Stoxx_600   4.20%  13.14%  12.00%    0.35  -13.61%  0.31\n",
       "Gold        3.67%  11.41%  12.40%    0.30  -13.35%  0.27\n",
       "LP06TREU    2.17%   6.66%   3.12%    0.70   -2.98%  0.73\n",
       "LBUSTRUU    2.98%   9.22%   3.45%    0.86   -2.98%  1.00\n",
       "WTI         2.72%   8.40%  27.65%    0.10  -27.61%  0.10"
      ]
     },
     "execution_count": 18,
     "metadata": {},
     "output_type": "execute_result"
    }
   ],
   "source": [
    "pa.print_title('Performance a 3 anos')\n",
    "fundos_3 = pa.filter_by_date(fundos, years=3)\n",
    "compute_performance_table(fundos_3, freq='quarters')"
   ]
  },
  {
   "cell_type": "code",
   "execution_count": 19,
   "metadata": {},
   "outputs": [
    {
     "data": {
      "text/markdown": [
       "**Performance a 5 anos**"
      ],
      "text/plain": [
       "<IPython.core.display.Markdown object>"
      ]
     },
     "metadata": {},
     "output_type": "display_data"
    },
    {
     "data": {
      "text/html": [
       "<div>\n",
       "<style scoped>\n",
       "    .dataframe tbody tr th:only-of-type {\n",
       "        vertical-align: middle;\n",
       "    }\n",
       "\n",
       "    .dataframe tbody tr th {\n",
       "        vertical-align: top;\n",
       "    }\n",
       "\n",
       "    .dataframe thead th {\n",
       "        text-align: right;\n",
       "    }\n",
       "</style>\n",
       "<table border=\"1\" class=\"dataframe\">\n",
       "  <thead>\n",
       "    <tr style=\"text-align: right;\">\n",
       "      <th></th>\n",
       "      <th>CAGR</th>\n",
       "      <th>Return</th>\n",
       "      <th>StdDev</th>\n",
       "      <th>Sharpe</th>\n",
       "      <th>Max DD</th>\n",
       "      <th>MAR</th>\n",
       "    </tr>\n",
       "  </thead>\n",
       "  <tbody>\n",
       "    <tr>\n",
       "      <th>US_GDP</th>\n",
       "      <td>2.31%</td>\n",
       "      <td>12.13%</td>\n",
       "      <td>0.48%</td>\n",
       "      <td>4.83</td>\n",
       "      <td>0.00%</td>\n",
       "      <td>inf</td>\n",
       "    </tr>\n",
       "    <tr>\n",
       "      <th>EU_GDP</th>\n",
       "      <td>2.01%</td>\n",
       "      <td>10.48%</td>\n",
       "      <td>0.42%</td>\n",
       "      <td>4.74</td>\n",
       "      <td>0.00%</td>\n",
       "      <td>inf</td>\n",
       "    </tr>\n",
       "    <tr>\n",
       "      <th>US_CPI</th>\n",
       "      <td>1.61%</td>\n",
       "      <td>8.34%</td>\n",
       "      <td>0.97%</td>\n",
       "      <td>1.67</td>\n",
       "      <td>-1.13%</td>\n",
       "      <td>1.43</td>\n",
       "    </tr>\n",
       "    <tr>\n",
       "      <th>EU_CPI</th>\n",
       "      <td>1.15%</td>\n",
       "      <td>5.88%</td>\n",
       "      <td>2.01%</td>\n",
       "      <td>0.57</td>\n",
       "      <td>-1.57%</td>\n",
       "      <td>0.73</td>\n",
       "    </tr>\n",
       "    <tr>\n",
       "      <th>S&amp;P_500</th>\n",
       "      <td>8.60%</td>\n",
       "      <td>51.08%</td>\n",
       "      <td>11.94%</td>\n",
       "      <td>0.72</td>\n",
       "      <td>-15.01%</td>\n",
       "      <td>0.57</td>\n",
       "    </tr>\n",
       "    <tr>\n",
       "      <th>Stoxx_600</th>\n",
       "      <td>2.66%</td>\n",
       "      <td>14.04%</td>\n",
       "      <td>13.96%</td>\n",
       "      <td>0.19</td>\n",
       "      <td>-16.63%</td>\n",
       "      <td>0.16</td>\n",
       "    </tr>\n",
       "    <tr>\n",
       "      <th>Gold</th>\n",
       "      <td>3.91%</td>\n",
       "      <td>21.12%</td>\n",
       "      <td>12.82%</td>\n",
       "      <td>0.30</td>\n",
       "      <td>-14.49%</td>\n",
       "      <td>0.27</td>\n",
       "    </tr>\n",
       "    <tr>\n",
       "      <th>LP06TREU</th>\n",
       "      <td>3.07%</td>\n",
       "      <td>16.31%</td>\n",
       "      <td>3.88%</td>\n",
       "      <td>0.79</td>\n",
       "      <td>-3.96%</td>\n",
       "      <td>0.77</td>\n",
       "    </tr>\n",
       "    <tr>\n",
       "      <th>LBUSTRUU</th>\n",
       "      <td>3.31%</td>\n",
       "      <td>17.68%</td>\n",
       "      <td>3.41%</td>\n",
       "      <td>0.97</td>\n",
       "      <td>-2.98%</td>\n",
       "      <td>1.11</td>\n",
       "    </tr>\n",
       "    <tr>\n",
       "      <th>WTI</th>\n",
       "      <td>-8.55%</td>\n",
       "      <td>-36.07%</td>\n",
       "      <td>36.49%</td>\n",
       "      <td>-0.23</td>\n",
       "      <td>-62.46%</td>\n",
       "      <td>-0.14</td>\n",
       "    </tr>\n",
       "  </tbody>\n",
       "</table>\n",
       "</div>"
      ],
      "text/plain": [
       "             CAGR   Return  StdDev  Sharpe   Max DD   MAR\n",
       "US_GDP      2.31%   12.13%   0.48%    4.83    0.00%   inf\n",
       "EU_GDP      2.01%   10.48%   0.42%    4.74    0.00%   inf\n",
       "US_CPI      1.61%    8.34%   0.97%    1.67   -1.13%  1.43\n",
       "EU_CPI      1.15%    5.88%   2.01%    0.57   -1.57%  0.73\n",
       "S&P_500     8.60%   51.08%  11.94%    0.72  -15.01%  0.57\n",
       "Stoxx_600   2.66%   14.04%  13.96%    0.19  -16.63%  0.16\n",
       "Gold        3.91%   21.12%  12.82%    0.30  -14.49%  0.27\n",
       "LP06TREU    3.07%   16.31%   3.88%    0.79   -3.96%  0.77\n",
       "LBUSTRUU    3.31%   17.68%   3.41%    0.97   -2.98%  1.11\n",
       "WTI        -8.55%  -36.07%  36.49%   -0.23  -62.46% -0.14"
      ]
     },
     "execution_count": 19,
     "metadata": {},
     "output_type": "execute_result"
    }
   ],
   "source": [
    "pa.print_title('Performance a 5 anos')\n",
    "fundos_5 = pa.filter_by_date(fundos, years=5)\n",
    "compute_performance_table(fundos_5, freq='quarters')"
   ]
  },
  {
   "cell_type": "code",
   "execution_count": 20,
   "metadata": {},
   "outputs": [
    {
     "data": {
      "text/markdown": [
       "**Performance a 10 anos**"
      ],
      "text/plain": [
       "<IPython.core.display.Markdown object>"
      ]
     },
     "metadata": {},
     "output_type": "display_data"
    },
    {
     "data": {
      "text/html": [
       "<div>\n",
       "<style scoped>\n",
       "    .dataframe tbody tr th:only-of-type {\n",
       "        vertical-align: middle;\n",
       "    }\n",
       "\n",
       "    .dataframe tbody tr th {\n",
       "        vertical-align: top;\n",
       "    }\n",
       "\n",
       "    .dataframe thead th {\n",
       "        text-align: right;\n",
       "    }\n",
       "</style>\n",
       "<table border=\"1\" class=\"dataframe\">\n",
       "  <thead>\n",
       "    <tr style=\"text-align: right;\">\n",
       "      <th></th>\n",
       "      <th>CAGR</th>\n",
       "      <th>Return</th>\n",
       "      <th>StdDev</th>\n",
       "      <th>Sharpe</th>\n",
       "      <th>Max DD</th>\n",
       "      <th>MAR</th>\n",
       "    </tr>\n",
       "  </thead>\n",
       "  <tbody>\n",
       "    <tr>\n",
       "      <th>US_GDP</th>\n",
       "      <td>2.27%</td>\n",
       "      <td>25.18%</td>\n",
       "      <td>0.73%</td>\n",
       "      <td>3.11</td>\n",
       "      <td>-0.28%</td>\n",
       "      <td>8.03</td>\n",
       "    </tr>\n",
       "    <tr>\n",
       "      <th>EU_GDP</th>\n",
       "      <td>1.59%</td>\n",
       "      <td>17.05%</td>\n",
       "      <td>0.62%</td>\n",
       "      <td>2.58</td>\n",
       "      <td>-0.93%</td>\n",
       "      <td>1.70</td>\n",
       "    </tr>\n",
       "    <tr>\n",
       "      <th>US_CPI</th>\n",
       "      <td>1.74%</td>\n",
       "      <td>18.81%</td>\n",
       "      <td>0.90%</td>\n",
       "      <td>1.92</td>\n",
       "      <td>-1.16%</td>\n",
       "      <td>1.50</td>\n",
       "    </tr>\n",
       "    <tr>\n",
       "      <th>EU_CPI</th>\n",
       "      <td>1.54%</td>\n",
       "      <td>16.57%</td>\n",
       "      <td>1.91%</td>\n",
       "      <td>0.81</td>\n",
       "      <td>-1.68%</td>\n",
       "      <td>0.92</td>\n",
       "    </tr>\n",
       "    <tr>\n",
       "      <th>S&amp;P_500</th>\n",
       "      <td>11.06%</td>\n",
       "      <td>185.50%</td>\n",
       "      <td>13.62%</td>\n",
       "      <td>0.81</td>\n",
       "      <td>-15.54%</td>\n",
       "      <td>0.71</td>\n",
       "    </tr>\n",
       "    <tr>\n",
       "      <th>Stoxx_600</th>\n",
       "      <td>4.98%</td>\n",
       "      <td>62.60%</td>\n",
       "      <td>13.85%</td>\n",
       "      <td>0.36</td>\n",
       "      <td>-19.23%</td>\n",
       "      <td>0.26</td>\n",
       "    </tr>\n",
       "    <tr>\n",
       "      <th>Gold</th>\n",
       "      <td>3.90%</td>\n",
       "      <td>46.65%</td>\n",
       "      <td>14.71%</td>\n",
       "      <td>0.27</td>\n",
       "      <td>-40.68%</td>\n",
       "      <td>0.10</td>\n",
       "    </tr>\n",
       "    <tr>\n",
       "      <th>LP06TREU</th>\n",
       "      <td>4.61%</td>\n",
       "      <td>56.94%</td>\n",
       "      <td>3.74%</td>\n",
       "      <td>1.23</td>\n",
       "      <td>-3.96%</td>\n",
       "      <td>1.16</td>\n",
       "    </tr>\n",
       "    <tr>\n",
       "      <th>LBUSTRUU</th>\n",
       "      <td>3.73%</td>\n",
       "      <td>44.19%</td>\n",
       "      <td>3.21%</td>\n",
       "      <td>1.16</td>\n",
       "      <td>-2.98%</td>\n",
       "      <td>1.25</td>\n",
       "    </tr>\n",
       "    <tr>\n",
       "      <th>WTI</th>\n",
       "      <td>-3.34%</td>\n",
       "      <td>-28.83%</td>\n",
       "      <td>29.87%</td>\n",
       "      <td>-0.11</td>\n",
       "      <td>-71.21%</td>\n",
       "      <td>-0.05</td>\n",
       "    </tr>\n",
       "  </tbody>\n",
       "</table>\n",
       "</div>"
      ],
      "text/plain": [
       "             CAGR   Return  StdDev  Sharpe   Max DD   MAR\n",
       "US_GDP      2.27%   25.18%   0.73%    3.11   -0.28%  8.03\n",
       "EU_GDP      1.59%   17.05%   0.62%    2.58   -0.93%  1.70\n",
       "US_CPI      1.74%   18.81%   0.90%    1.92   -1.16%  1.50\n",
       "EU_CPI      1.54%   16.57%   1.91%    0.81   -1.68%  0.92\n",
       "S&P_500    11.06%  185.50%  13.62%    0.81  -15.54%  0.71\n",
       "Stoxx_600   4.98%   62.60%  13.85%    0.36  -19.23%  0.26\n",
       "Gold        3.90%   46.65%  14.71%    0.27  -40.68%  0.10\n",
       "LP06TREU    4.61%   56.94%   3.74%    1.23   -3.96%  1.16\n",
       "LBUSTRUU    3.73%   44.19%   3.21%    1.16   -2.98%  1.25\n",
       "WTI        -3.34%  -28.83%  29.87%   -0.11  -71.21% -0.05"
      ]
     },
     "execution_count": 20,
     "metadata": {},
     "output_type": "execute_result"
    }
   ],
   "source": [
    "pa.print_title('Performance a 10 anos')\n",
    "fundos_10 = pa.filter_by_date(fundos, years=10)\n",
    "compute_performance_table(fundos_10, freq='quarters')"
   ]
  },
  {
   "cell_type": "code",
   "execution_count": 21,
   "metadata": {},
   "outputs": [
    {
     "data": {
      "text/markdown": [
       "**Performance a 15 anos**"
      ],
      "text/plain": [
       "<IPython.core.display.Markdown object>"
      ]
     },
     "metadata": {},
     "output_type": "display_data"
    },
    {
     "data": {
      "text/html": [
       "<div>\n",
       "<style scoped>\n",
       "    .dataframe tbody tr th:only-of-type {\n",
       "        vertical-align: middle;\n",
       "    }\n",
       "\n",
       "    .dataframe tbody tr th {\n",
       "        vertical-align: top;\n",
       "    }\n",
       "\n",
       "    .dataframe thead th {\n",
       "        text-align: right;\n",
       "    }\n",
       "</style>\n",
       "<table border=\"1\" class=\"dataframe\">\n",
       "  <thead>\n",
       "    <tr style=\"text-align: right;\">\n",
       "      <th></th>\n",
       "      <th>CAGR</th>\n",
       "      <th>Return</th>\n",
       "      <th>StdDev</th>\n",
       "      <th>Sharpe</th>\n",
       "      <th>Max DD</th>\n",
       "      <th>MAR</th>\n",
       "    </tr>\n",
       "  </thead>\n",
       "  <tbody>\n",
       "    <tr>\n",
       "      <th>US_GDP</th>\n",
       "      <td>1.85%</td>\n",
       "      <td>31.57%</td>\n",
       "      <td>1.15%</td>\n",
       "      <td>1.61</td>\n",
       "      <td>-3.98%</td>\n",
       "      <td>0.46</td>\n",
       "    </tr>\n",
       "    <tr>\n",
       "      <th>EU_GDP</th>\n",
       "      <td>1.36%</td>\n",
       "      <td>22.37%</td>\n",
       "      <td>1.21%</td>\n",
       "      <td>1.12</td>\n",
       "      <td>-5.55%</td>\n",
       "      <td>0.24</td>\n",
       "    </tr>\n",
       "    <tr>\n",
       "      <th>US_CPI</th>\n",
       "      <td>2.01%</td>\n",
       "      <td>34.82%</td>\n",
       "      <td>1.38%</td>\n",
       "      <td>1.46</td>\n",
       "      <td>-3.23%</td>\n",
       "      <td>0.62</td>\n",
       "    </tr>\n",
       "    <tr>\n",
       "      <th>EU_CPI</th>\n",
       "      <td>1.78%</td>\n",
       "      <td>30.29%</td>\n",
       "      <td>1.76%</td>\n",
       "      <td>1.01</td>\n",
       "      <td>-1.68%</td>\n",
       "      <td>1.06</td>\n",
       "    </tr>\n",
       "    <tr>\n",
       "      <th>S&amp;P_500</th>\n",
       "      <td>6.57%</td>\n",
       "      <td>159.85%</td>\n",
       "      <td>14.82%</td>\n",
       "      <td>0.44</td>\n",
       "      <td>-47.57%</td>\n",
       "      <td>0.14</td>\n",
       "    </tr>\n",
       "    <tr>\n",
       "      <th>Stoxx_600</th>\n",
       "      <td>3.20%</td>\n",
       "      <td>60.43%</td>\n",
       "      <td>15.87%</td>\n",
       "      <td>0.20</td>\n",
       "      <td>-54.47%</td>\n",
       "      <td>0.06</td>\n",
       "    </tr>\n",
       "    <tr>\n",
       "      <th>Gold</th>\n",
       "      <td>8.76%</td>\n",
       "      <td>252.42%</td>\n",
       "      <td>13.90%</td>\n",
       "      <td>0.63</td>\n",
       "      <td>-40.68%</td>\n",
       "      <td>0.22</td>\n",
       "    </tr>\n",
       "    <tr>\n",
       "      <th>LP06TREU</th>\n",
       "      <td>4.27%</td>\n",
       "      <td>87.28%</td>\n",
       "      <td>3.62%</td>\n",
       "      <td>1.18</td>\n",
       "      <td>-3.96%</td>\n",
       "      <td>1.08</td>\n",
       "    </tr>\n",
       "    <tr>\n",
       "      <th>LBUSTRUU</th>\n",
       "      <td>4.23%</td>\n",
       "      <td>86.29%</td>\n",
       "      <td>3.24%</td>\n",
       "      <td>1.31</td>\n",
       "      <td>-2.98%</td>\n",
       "      <td>1.42</td>\n",
       "    </tr>\n",
       "    <tr>\n",
       "      <th>WTI</th>\n",
       "      <td>0.10%</td>\n",
       "      <td>1.56%</td>\n",
       "      <td>33.59%</td>\n",
       "      <td>0.00</td>\n",
       "      <td>-76.26%</td>\n",
       "      <td>0.00</td>\n",
       "    </tr>\n",
       "  </tbody>\n",
       "</table>\n",
       "</div>"
      ],
      "text/plain": [
       "            CAGR   Return  StdDev  Sharpe   Max DD  MAR\n",
       "US_GDP     1.85%   31.57%   1.15%    1.61   -3.98% 0.46\n",
       "EU_GDP     1.36%   22.37%   1.21%    1.12   -5.55% 0.24\n",
       "US_CPI     2.01%   34.82%   1.38%    1.46   -3.23% 0.62\n",
       "EU_CPI     1.78%   30.29%   1.76%    1.01   -1.68% 1.06\n",
       "S&P_500    6.57%  159.85%  14.82%    0.44  -47.57% 0.14\n",
       "Stoxx_600  3.20%   60.43%  15.87%    0.20  -54.47% 0.06\n",
       "Gold       8.76%  252.42%  13.90%    0.63  -40.68% 0.22\n",
       "LP06TREU   4.27%   87.28%   3.62%    1.18   -3.96% 1.08\n",
       "LBUSTRUU   4.23%   86.29%   3.24%    1.31   -2.98% 1.42\n",
       "WTI        0.10%    1.56%  33.59%    0.00  -76.26% 0.00"
      ]
     },
     "execution_count": 21,
     "metadata": {},
     "output_type": "execute_result"
    }
   ],
   "source": [
    "pa.print_title('Performance a 15 anos')\n",
    "fundos_15 = pa.filter_by_date(fundos, years=15)\n",
    "compute_performance_table(fundos_15, freq='quarters')"
   ]
  },
  {
   "cell_type": "code",
   "execution_count": 22,
   "metadata": {},
   "outputs": [
    {
     "data": {
      "image/png": "[encoded data removed]",
      "text/plain": [
       "<Figure size 1152x360 with 1 Axes>"
      ]
     },
     "metadata": {
      "needs_background": "light"
     },
     "output_type": "display_data"
    }
   ],
   "source": [
    "fundos_norm = fundos.copy()\n",
    "\n",
    "# Resampling to yearly (business year)\n",
    "yearly_quotes_fundos = fundos_norm.resample('BA').last()\n",
    "\n",
    "# Adding first quote (only if start is in the middle of the year) ### Falta trabalho para automatizar #####\n",
    "yearly_quotes_fundos = pd.concat([yearly_quotes_fundos.iloc[:1], yearly_quotes_fundos])\n",
    "yearly_quotes_fundos = pd.concat([pd.DataFrame(fundos_norm.iloc[0]).transpose(), yearly_quotes_fundos.iloc[1:]])\n",
    "\n",
    "# Returns\n",
    "yearly_returns_fundos = ((yearly_quotes_fundos / yearly_quotes_fundos.shift(1)) - 1) * 100\n",
    "yearly_returns_fundos = yearly_returns_fundos.set_index([list(range(fundos_norm.index[0].year - 1, fundos_norm.index[-1].year + 1))]).drop(fundos_norm.index[0].year - 1)\n",
    "\n",
    "# Calcular em valores percentuais\n",
    "yearly_returns_fundos = yearly_returns_fundos / 100\n",
    "\n",
    "# Sns heatmap\n",
    "fig, ax = plt.subplots()\n",
    "fig.set_size_inches(16,5)\n",
    "\n",
    "ax = sns.heatmap(yearly_returns_fundos.transpose(), annot=True, cmap=\"RdYlGn\", linewidths=.2, cbar=False, center=0.02, fmt='.2%')\n",
    "plt.yticks(rotation=360)\n",
    "plt.title('Yearly performance by asset')\n",
    "plt.show()"
   ]
  },
  {
   "cell_type": "markdown",
   "metadata": {},
   "source": [
    "**Nota**: Estes dados não estão certos devido ao fim do ano não ser a 31 de Dezembro. No agreagado estão, porque está a transportar performance de um ano para o outro. Por exemplo na realidade o S&P em 2007, 2008 e 2009 teve performance de 3.53%, -38.5% e +23.45% respectivamente."
   ]
  },
  {
   "cell_type": "code",
   "execution_count": 23,
   "metadata": {},
   "outputs": [
    {
     "data": {
      "text/html": [
       "<script>jQuery(function() {if (jQuery(\"body.notebook_app\").length == 0) { jQuery(\".input_area\").toggle(); jQuery(\".prompt\").toggle();}});</script>"
      ]
     },
     "metadata": {},
     "output_type": "display_data"
    },
    {
     "data": {
      "text/html": [
       "<button onclick=\"jQuery('.input_area').toggle(); jQuery('.prompt').toggle();\">Código ON/OFF</button>"
      ]
     },
     "metadata": {},
     "output_type": "display_data"
    }
   ],
   "source": [
    "from IPython.display import display\n",
    "from IPython.display import HTML\n",
    "import IPython.core.display as di # Example: di.display_html('<h3>%s:</h3>' % str, raw=True)\n",
    "\n",
    "# This line will hide code by default when the notebook is exported as HTML\n",
    "di.display_html('<script>jQuery(function() {if (jQuery(\"body.notebook_app\").length == 0) { jQuery(\".input_area\").toggle(); jQuery(\".prompt\").toggle();}});</script>', raw=True)\n",
    "\n",
    "# This line will add a button to toggle visibility of code blocks, for use with the HTML export version\n",
    "di.display_html('''<button onclick=\"jQuery('.input_area').toggle(); jQuery('.prompt').toggle();\">Código ON/OFF</button>''', raw=True)"
   ]
  },
  {
   "cell_type": "code",
   "execution_count": null,
   "metadata": {},
   "outputs": [],
   "source": []
  }
 ],
 "metadata": {
  "kernelspec": {
   "display_name": "Python 3.7.4 64-bit ('Luis': virtualenv)",
   "language": "python",
   "name": "python37464bitluisvirtualenv6ba9ef3a31824220a56b34c12b6c54d7"
  },
  "language_info": {
   "codemirror_mode": {
    "name": "ipython",
    "version": 3
   },
   "file_extension": ".py",
   "mimetype": "text/x-python",
   "name": "python",
   "nbconvert_exporter": "python",
   "pygments_lexer": "ipython3",
   "version": "3.7.4"
  }
 },
 "nbformat": 4,
 "nbformat_minor": 4
}

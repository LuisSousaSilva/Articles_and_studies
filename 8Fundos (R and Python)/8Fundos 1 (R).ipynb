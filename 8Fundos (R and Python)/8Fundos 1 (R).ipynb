{
 "cells": [
  {
   "cell_type": "markdown",
   "metadata": {},
   "source": [
    "**A Carteira 8Fundos DEF é composta por:**\n",
    "\n",
    "  * _7.5% Fidelity Global Cnsmr Inds A-Dis-EUR LU0114721508_\n",
    "  * _7.5% GS Glb SmCp CORE® Eq E EUR Acc Close LU0245181838_\n",
    "  * _7.5% M&G Optimal Income Euro A-H Acc GB00B1VMCY93_\n",
    "  * _27.5% PIMCO GIS Global Bond E Acc EUR H IE00B11XZ103_\n",
    "  \n",
    "  \n",
    "  * _7.5% MFS® Meridian Global Equity A1 EUR LU0094560744_\n",
    "  * _7.5% Jupiter Dynamic Bond L EUR Acc LU0853555380_\n",
    "  * _7.5% Invesco Global Smaller Coms Eq E EUR Acc LU0607512935_\n",
    "  * _27.5% PIMCO GIS GlbInvGrdCrdt E EUR Hdg Acc IE00B11XZ434_\n",
    "\n",
    "**A Carteira 8Fundos EW é composta por:**\n",
    "\n",
    "  * _12.5% Fidelity Global Cnsmr Inds A-Dis-EUR LU0114721508_\n",
    "  * _12.5% GS Glb SmCp CORE® Eq E EUR Acc Close LU0245181838_\n",
    "  * _12.5% M&G Optimal Income Euro A-H Acc GB00B1VMCY93_\n",
    "  * _12.5% PIMCO GIS Global Bond E Acc EUR H IE00B11XZ103_\n",
    "  \n",
    "  \n",
    "  * _12.5% MFS® Meridian Global Equity A1 EUR LU0094560744_\n",
    "  * _12.5% Jupiter Dynamic Bond L EUR Acc LU0853555380_\n",
    "  * _12.5% Invesco Global Smaller Coms Eq E EUR Acc LU0607512935_\n",
    "  * _12.5% PIMCO GIS GlbInvGrdCrdt E EUR Hdg Acc IE00B11XZ434_\n",
    "\n",
    "**A Carteira 8Fundos AGR é composta por:**\n",
    "\n",
    "  * _20% Fidelity Global Cnsmr Inds A-Dis-EUR LU0114721508_\n",
    "  * _20% GS Glb SmCp CORE® Eq E EUR Acc Close LU0245181838_\n",
    "  * _5% M&G Optimal Income Euro A-H Acc GB00B1VMCY93_\n",
    "  * _5% PIMCO GIS Global Bond E Acc EUR H IE00B11XZ103_\n",
    "  \n",
    "  \n",
    "  * _20% MFS® Meridian Global Equity A1 EUR LU0094560744_\n",
    "  * _20% Jupiter Dynamic Bond L EUR Acc LU0853555380_\n",
    "  * _5% Invesco Global Smaller Coms Eq E EUR Acc LU0607512935_\n",
    "  * _5% PIMCO GIS GlbInvGrdCrdt E EUR Hdg Acc IE00B11XZ434_"
   ]
  },
  {
   "cell_type": "code",
   "execution_count": 13,
   "metadata": {},
   "outputs": [],
   "source": [
    "suppressMessages(library(PerformanceAnalytics))\n",
    "suppressMessages(library(lubridate))\n",
    "suppressMessages(library(quantmod))\n",
    "suppressMessages(library(stringr))\n",
    "suppressMessages(library(dplyr))\n",
    "suppressMessages(library(SIT))"
   ]
  },
  {
   "cell_type": "code",
   "execution_count": 14,
   "metadata": {
    "collapsed": true
   },
   "outputs": [],
   "source": [
    "########### Carregar todas as bibliotecas necessárias ##########\n",
    "options(warn=-1)\n",
    "\n",
    "suppressMessages(library(PerformanceAnalytics))\n",
    "suppressMessages(library(PortfolioAnalytics))\n",
    "suppressMessages(library(quantmod))\n",
    "suppressMessages(library(formattable))\n",
    "suppressMessages(library(tseries))\n",
    "suppressMessages(library(DT))\n",
    "\n",
    "options(warn=0)\n",
    "################## Carregar as minhas funções ##################\n",
    "display <- function(dataframe) {\n",
    "    print(rbind(head(dataframe, 3), tail(dataframe, 3)))\n",
    "}\n",
    "\n",
    "xts_to_dataframe <- function(dataframe) {\n",
    "  data.frame(date=index(dataframe), coredata(dataframe))\n",
    "}\n",
    "\n",
    "dataframe_to_xts <- function(dataframe) {\n",
    "  xts(data.frame(lapply(dataframe, as.numeric),\n",
    "                 stringsAsFactors = FALSE),\n",
    "      order.by = dataframe[, 1])[, -1]\n",
    "}\n",
    "\n",
    "quotes_to_numeric <- function(dataframe) {\n",
    "  cbind(dataframe[1],\n",
    "        data.frame(lapply(dataframe[-1], as.numeric)))\n",
    "}\n",
    "\n",
    "compute_returns.xts <- function(dataframe) {\n",
    "  xts(apply(dataframe, 2, FUN = Return.calculate),\n",
    "      order.by = index(dataframe))[-1 ,]\n",
    "}\n",
    "\n",
    "quotes_loader <- function(x, Begin=\"1999-12-31\", End=\"2100-12-31\", locf=TRUE,\n",
    "                          normalize=TRUE, xts = FALSE, returns = FALSE) {\n",
    "\n",
    "  # Import CSV\n",
    "  Quotes <- read.csv('C:/Users/Luis/Google Drive/_GitHub/Carteiras_Clientes/Cotacoes_diarias.csv')\n",
    "  \n",
    "  # Date column as dates\n",
    "  Quotes$Date <- as.Date(Quotes$Date, format = \"%Y-%m-%d\")\n",
    "  \n",
    "  # Select only desired funds\n",
    "  Quotes <- Quotes[c('Date', x)]\n",
    "  \n",
    "  # Filtering Quotes by Dates\n",
    "  Quotes <- na.omit(subset(Quotes, Date >= Begin & Date <= End))\n",
    "  \n",
    "  \n",
    "  # Assigning Quotes to environment\n",
    "  assign('Quotes', Quotes, envir = .GlobalEnv)\n",
    "  \n",
    "  if (xts) {\n",
    "    Quotes.xts <- dataframe_to_xts(Quotes)\n",
    "    # Assign Fundos.xts to environment\n",
    "    assign('Quotes.xts', Quotes.xts, envir = .GlobalEnv)\n",
    "    \n",
    "  }\n",
    "  \n",
    "    # Create returns if TRUE\n",
    "  if (returns) {\n",
    "    # Get Returns dataframe\n",
    "    Returns.xts <- compute_returns.xts(Quotes.xts)\n",
    "    # Assign Fundos.xts to environment\n",
    "    assign('Returns.xts', Returns.xts, envir = .GlobalEnv)\n",
    "    \n",
    "  }\n",
    "}"
   ]
  },
  {
   "cell_type": "code",
   "execution_count": 15,
   "metadata": {
    "collapsed": true
   },
   "outputs": [],
   "source": [
    "ISINs  <- c('LU0114721508', 'LU0245181838', 'LU1670724373', \"IE00B11XZ103\", 'LU0094560744', 'LU0853555380', 'LU0607512935', 'IE00B11XZ434')\n",
    "Nomes <- c('FCI', 'GS_SC', 'MG_OI', 'PimcoGB', 'MFS_GE', 'JupiterDB', 'InvescoSC', 'PimcoIG')"
   ]
  },
  {
   "cell_type": "code",
   "execution_count": 16,
   "metadata": {
    "collapsed": true
   },
   "outputs": [],
   "source": [
    "#### Begin_End #### \n",
    "From <- \"2013-05-10\" # Data de início\n",
    "To   <- toString(today()) # Data de Fim\n",
    "\n",
    "Begin_End <- paste(From, \"/\", To) # Data de início e fim juntos para xts"
   ]
  },
  {
   "cell_type": "code",
   "execution_count": 17,
   "metadata": {
    "collapsed": true
   },
   "outputs": [],
   "source": [
    "# Download dos fundos\n",
    "quotes_loader(ISINs, xts=TRUE)\n",
    "\n",
    "Fundos.xts = Quotes.xts"
   ]
  },
  {
   "cell_type": "code",
   "execution_count": 18,
   "metadata": {},
   "outputs": [
    {
     "data": {
      "text/html": [
       "<ol class=list-inline>\n",
       "\t<li>'Begin_End'</li>\n",
       "\t<li>'compute_returns.xts'</li>\n",
       "\t<li>'dataframe_to_xts'</li>\n",
       "\t<li>'display'</li>\n",
       "\t<li>'From'</li>\n",
       "\t<li>'Fundos.xts'</li>\n",
       "\t<li>'ISINs'</li>\n",
       "\t<li>'Nomes'</li>\n",
       "\t<li>'P1_weights'</li>\n",
       "\t<li>'P2_weights'</li>\n",
       "\t<li>'P3_weights'</li>\n",
       "\t<li>'Quotes'</li>\n",
       "\t<li>'Quotes.xts'</li>\n",
       "\t<li>'quotes_loader'</li>\n",
       "\t<li>'quotes_to_numeric'</li>\n",
       "\t<li>'Returns'</li>\n",
       "\t<li>'To'</li>\n",
       "\t<li>'xts_to_dataframe'</li>\n",
       "</ol>\n"
      ],
      "text/latex": [
       "\\begin{enumerate*}\n",
       "\\item 'Begin\\_End'\n",
       "\\item 'compute\\_returns.xts'\n",
       "\\item 'dataframe\\_to\\_xts'\n",
       "\\item 'display'\n",
       "\\item 'From'\n",
       "\\item 'Fundos.xts'\n",
       "\\item 'ISINs'\n",
       "\\item 'Nomes'\n",
       "\\item 'P1\\_weights'\n",
       "\\item 'P2\\_weights'\n",
       "\\item 'P3\\_weights'\n",
       "\\item 'Quotes'\n",
       "\\item 'Quotes.xts'\n",
       "\\item 'quotes\\_loader'\n",
       "\\item 'quotes\\_to\\_numeric'\n",
       "\\item 'Returns'\n",
       "\\item 'To'\n",
       "\\item 'xts\\_to\\_dataframe'\n",
       "\\end{enumerate*}\n"
      ],
      "text/markdown": [
       "1. 'Begin_End'\n",
       "2. 'compute_returns.xts'\n",
       "3. 'dataframe_to_xts'\n",
       "4. 'display'\n",
       "5. 'From'\n",
       "6. 'Fundos.xts'\n",
       "7. 'ISINs'\n",
       "8. 'Nomes'\n",
       "9. 'P1_weights'\n",
       "10. 'P2_weights'\n",
       "11. 'P3_weights'\n",
       "12. 'Quotes'\n",
       "13. 'Quotes.xts'\n",
       "14. 'quotes_loader'\n",
       "15. 'quotes_to_numeric'\n",
       "16. 'Returns'\n",
       "17. 'To'\n",
       "18. 'xts_to_dataframe'\n",
       "\n",
       "\n"
      ],
      "text/plain": [
       " [1] \"Begin_End\"           \"compute_returns.xts\" \"dataframe_to_xts\"   \n",
       " [4] \"display\"             \"From\"                \"Fundos.xts\"         \n",
       " [7] \"ISINs\"               \"Nomes\"               \"P1_weights\"         \n",
       "[10] \"P2_weights\"          \"P3_weights\"          \"Quotes\"             \n",
       "[13] \"Quotes.xts\"          \"quotes_loader\"       \"quotes_to_numeric\"  \n",
       "[16] \"Returns\"             \"To\"                  \"xts_to_dataframe\"   "
      ]
     },
     "metadata": {},
     "output_type": "display_data"
    }
   ],
   "source": [
    "ls()"
   ]
  },
  {
   "cell_type": "code",
   "execution_count": 19,
   "metadata": {
    "collapsed": true
   },
   "outputs": [],
   "source": [
    "# Get Returns dataframe\n",
    "Returns <- xts(apply(Fundos.xts, 2, FUN = Return.calculate),order.by = index(Fundos.xts))[-1 ,]\n",
    "\n",
    "# Naming the columns in Returns\n",
    "colnames(Returns) <- Nomes"
   ]
  },
  {
   "cell_type": "code",
   "execution_count": 20,
   "metadata": {
    "collapsed": true
   },
   "outputs": [],
   "source": [
    "### Portfolio Weights ####\n",
    "P1_weights <- c(0.075, 0.075, 0.075, 0.275, 0.075, 0.075, 0.075, 0.275)\n",
    "P2_weights <- c(0.125, 0.125, 0.125, 0.125, 0.125, 0.125, 0.125, 0.125)\n",
    "P3_weights <- c(0.20, 0.20, 0.05, 0.05, 0.20, 0.20, 0.05, 0.05)"
   ]
  },
  {
   "cell_type": "code",
   "execution_count": 27,
   "metadata": {
    "collapsed": true
   },
   "outputs": [],
   "source": [
    "#### Portfolios ####\n",
    "Portfolio_1 <- Return.portfolio(Returns,\n",
    "                                weights = P1_weights,\n",
    "                                verbose = TRUE,\n",
    "                                rebalance_on =  \"years\",\n",
    "                                value = 100)\n",
    "\n",
    "#### Portfolios ####\n",
    "Portfolio_2 <- Return.portfolio(Returns,\n",
    "                                weights = P2_weights,\n",
    "                                verbose = TRUE,\n",
    "                                rebalance_on =  \"years\",\n",
    "                                value = 100)\n",
    "\n",
    "#### Portfolios ####\n",
    "Portfolio_3 <- Return.portfolio(Returns,\n",
    "                                weights = P3_weights,\n",
    "                                verbose = TRUE,\n",
    "                                rebalance_on =  \"years\",\n",
    "                                value = 100)"
   ]
  },
  {
   "cell_type": "code",
   "execution_count": 28,
   "metadata": {
    "collapsed": true
   },
   "outputs": [],
   "source": [
    "# Cálculos\n",
    "Portfolio1 <- xts(round(rowSums(Portfolio_1$EOP.Value), 2), order.by = index(Fundos.xts[-1 ,]))\n",
    "Portfolio2 <- xts(round(rowSums(Portfolio_2$EOP.Value), 2), order.by = index(Fundos.xts[-1 ,]))\n",
    "Portfolio3 <- xts(round(rowSums(Portfolio_3$EOP.Value), 2), order.by = index(Fundos.xts[-1 ,]))"
   ]
  },
  {
   "cell_type": "code",
   "execution_count": 29,
   "metadata": {
    "collapsed": true
   },
   "outputs": [],
   "source": [
    "Portfolios <- cbind(Portfolio1, Portfolio2, Portfolio3)\n",
    "colnames(Portfolios) <- c('8Fundos DEF', '8Fundos EW', '8Fundos AGR')"
   ]
  },
  {
   "cell_type": "code",
   "execution_count": 30,
   "metadata": {},
   "outputs": [
    {
     "data": {
      "text/plain": [
       "           8Fundos DEF 8Fundos EW 8Fundos AGR\n",
       "2019-04-26      130.52     145.99      158.46\n",
       "2019-04-29      130.49     146.03      158.56\n",
       "2019-04-30      130.43     145.86      158.25\n",
       "2019-05-01      130.48     145.92      158.34\n",
       "2019-05-02      130.04     145.30      157.60\n",
       "2019-05-03      130.33     145.72      158.15"
      ]
     },
     "metadata": {},
     "output_type": "display_data"
    }
   ],
   "source": [
    "tail(Portfolios)"
   ]
  },
  {
   "cell_type": "code",
   "execution_count": 31,
   "metadata": {
    "collapsed": true
   },
   "outputs": [],
   "source": [
    "# Exportar Portfolios \n",
    "write.csv(as.data.frame(Portfolios), 'Portfolios.csv')"
   ]
  },
  {
   "cell_type": "code",
   "execution_count": 32,
   "metadata": {
    "collapsed": true
   },
   "outputs": [
    {
     "ename": "ERROR",
     "evalue": "Error in try.xts(x): Error in UseMethod(\"as.xts\") :   no applicable method for 'as.xts' applied to an object of class \"NULL\"\n",
     "output_type": "error",
     "traceback": [
      "Error in try.xts(x): Error in UseMethod(\"as.xts\") :   no applicable method for 'as.xts' applied to an object of class \"NULL\"\nTraceback:\n",
      "1. to.monthly(Fundos.xts$F0GBR04EAN)",
      "2. to.period(x, \"months\", indexAt = indexAt, name = name, ...)",
      "3. try.xts(x)",
      "4. stop(gsub(\"\\n\", \"\", xx))"
     ]
    }
   ],
   "source": [
    "Fundos.xts_monthly <- to.monthly(Fundos.xts$F0GBR04EAN)\n",
    "Fundos.xts_monthly$F000000FH0 <- to.monthly(Fundos.xts$F000000FH0)\n",
    "Fundos.xts_monthly$F0000007LD <- to.monthly(Fundos.xts$F0000007LD)\n",
    "Fundos.xts_monthly$F0GBR06T61 <- to.monthly(Fundos.xts$F0GBR06T61)\n",
    "Fundos.xts_monthly$F0GBR04E6R <- to.monthly(Fundos.xts$F0GBR04E6R)\n",
    "Fundos.xts_monthly$F00000Q8QC <- to.monthly(Fundos.xts$F00000Q8QC)\n",
    "Fundos.xts_monthly$F00000NGSG <- to.monthly(Fundos.xts$F00000NGSG)\n",
    "Fundos.xts_monthly$F0GBR06T6F <- to.monthly(Fundos.xts$F0GBR06T6F)"
   ]
  },
  {
   "cell_type": "code",
   "execution_count": null,
   "metadata": {},
   "outputs": [],
   "source": [
    "dim(Fundos.xts_monthly)"
   ]
  },
  {
   "cell_type": "code",
   "execution_count": null,
   "metadata": {
    "collapsed": true
   },
   "outputs": [],
   "source": [
    "Fundos.xts_monthly <- Fundos.xts_monthly[, c(4, 8, 12, 16, 20, 24, 28, 32)]\n",
    "colnames(Fundos.xts_monthly) <- c('F0GBR04EAN', 'F000000FH0', 'F0000007LD', 'F0GBR06T61',\n",
    "                                  'F0GBR04E6R', 'F00000Q8QC', 'F00000NGSG', 'F0GBR06T6F')"
   ]
  },
  {
   "cell_type": "code",
   "execution_count": null,
   "metadata": {},
   "outputs": [],
   "source": [
    "tail(Fundos.xts_monthly)"
   ]
  },
  {
   "cell_type": "code",
   "execution_count": null,
   "metadata": {},
   "outputs": [],
   "source": [
    "plot.zoo(Fundos.xts_monthly)"
   ]
  },
  {
   "cell_type": "code",
   "execution_count": null,
   "metadata": {
    "collapsed": true
   },
   "outputs": [],
   "source": [
    "Returns_monthly <- ROC(Fundos.xts_monthly, n = 1, type = \"discrete\")[-1, ]"
   ]
  },
  {
   "cell_type": "code",
   "execution_count": null,
   "metadata": {},
   "outputs": [],
   "source": [
    "head(Returns_monthly)"
   ]
  },
  {
   "cell_type": "code",
   "execution_count": null,
   "metadata": {},
   "outputs": [],
   "source": [
    "#colnames(Returns) <- Nomes\n",
    "Corr_Matrix <- round(cor(Returns),2)\n",
    "Corr_Matrix"
   ]
  },
  {
   "cell_type": "code",
   "execution_count": null,
   "metadata": {
    "collapsed": true
   },
   "outputs": [],
   "source": [
    "# Exportar Matrix de correlação \n",
    "write.csv(as.data.frame(Corr_Matrix), 'Corr_Matrix.csv')"
   ]
  },
  {
   "cell_type": "code",
   "execution_count": null,
   "metadata": {
    "collapsed": true
   },
   "outputs": [],
   "source": [
    "Preturns <- xts(apply(Portfolios, 2, FUN = Return.calculate),order.by = index(Portfolios))[-1, ]"
   ]
  },
  {
   "cell_type": "code",
   "execution_count": null,
   "metadata": {},
   "outputs": [],
   "source": [
    "head(Preturns)"
   ]
  },
  {
   "cell_type": "code",
   "execution_count": null,
   "metadata": {
    "collapsed": true
   },
   "outputs": [],
   "source": [
    "DD_DEF <- table.Drawdowns(Preturns[, 1])\n",
    "DD_EW  <- table.Drawdowns(Preturns[, 2])\n",
    "DD_AGR <- table.Drawdowns(Preturns[, 3])"
   ]
  },
  {
   "cell_type": "code",
   "execution_count": null,
   "metadata": {
    "collapsed": true
   },
   "outputs": [],
   "source": [
    "DD_DEF['Depth'] <- DD_DEF['Depth'] * 100\n",
    "DD_EW ['Depth'] <- DD_EW ['Depth'] * 100\n",
    "DD_AGR['Depth'] <- DD_AGR['Depth'] * 100"
   ]
  },
  {
   "cell_type": "code",
   "execution_count": null,
   "metadata": {},
   "outputs": [],
   "source": [
    "DD_DEF"
   ]
  },
  {
   "cell_type": "code",
   "execution_count": null,
   "metadata": {},
   "outputs": [],
   "source": [
    "DD_EW"
   ]
  },
  {
   "cell_type": "code",
   "execution_count": null,
   "metadata": {},
   "outputs": [],
   "source": [
    "DD_AGR"
   ]
  },
  {
   "cell_type": "code",
   "execution_count": null,
   "metadata": {
    "collapsed": true
   },
   "outputs": [],
   "source": [
    "# Passar as tabelas de Drawdowns para .csv\n",
    "write.csv(as.data.frame(DD_DEF), 'DD_DEF.csv')\n",
    "write.csv(as.data.frame(DD_EW) , 'DD_EW.csv' )\n",
    "write.csv(as.data.frame(DD_AGR), 'DD_AGR.csv')"
   ]
  },
  {
   "cell_type": "code",
   "execution_count": null,
   "metadata": {
    "collapsed": true
   },
   "outputs": [],
   "source": [
    "Nomes_fundos <- c('8Fundos DEF', '8Fundos EW', '8Fundos AGR')\n",
    "Portfolios.df <- data.frame(Portfolios)\n",
    "colnames(Portfolios.df) <- Nomes_fundos\n",
    "rownames(Portfolios.df) <- ymd(rownames(Portfolios.df))"
   ]
  },
  {
   "cell_type": "code",
   "execution_count": null,
   "metadata": {},
   "outputs": [],
   "source": [
    "tail(Portfolios.df)"
   ]
  },
  {
   "cell_type": "code",
   "execution_count": null,
   "metadata": {
    "collapsed": true
   },
   "outputs": [],
   "source": [
    "filter.df.date <- function (df, years=0, months=0, days=0, previous.row=FALSE)\n",
    "{\n",
    "  last_date <- ymd(rownames(tail(df, 1)))\n",
    "  \n",
    "  year.nr  <- year(last_date)\n",
    "  month.nr <- month(last_date)\n",
    "  day.nr   <- day(last_date)\n",
    "  \n",
    "  if (month.nr == 1 & months != 0){\n",
    "    month.nr = 13\n",
    "  }\n",
    "  \n",
    "  if (day.nr == 1 & days != 0 & month.nr %in% c(1, 3, 5, 7, 8, 10, 12)){\n",
    "    day.nr = 31\n",
    "    month.nr = month.nr - 1\n",
    "  }\n",
    "  \n",
    "  if (day.nr == 1 & days != 0 & month.nr %in% c(4, 6, 9, 11)){\n",
    "    day.nr = 32\n",
    "    month.nr = month.nr - 1\n",
    "  }\n",
    "  \n",
    "  if (day.nr == 1 & days != 0 & month.nr %in% c(2)){\n",
    "    day.nr = 29\n",
    "    month.nr = month.nr - 1\n",
    "  }\n",
    "\n",
    "  new_date <- ymd(str_replace_all(paste(year.nr - years,'-',\n",
    "                                        month.nr - months, '-',\n",
    "                                        day.nr - days),\n",
    "                                  fixed(' '), ''))\n",
    "  \n",
    "  if (previous.row == TRUE){\n",
    "    new.df <- rbind(tail(subset(df, rownames(df) < new_date), 1),\n",
    "                    subset(df, rownames(df) >= new_date))\n",
    "    return(new.df)\n",
    "  }\n",
    "  \n",
    "  if (previous.row == FALSE){\n",
    "    return(subset(df, rownames(df) >= new_date))\n",
    "  }\n",
    "}"
   ]
  },
  {
   "cell_type": "code",
   "execution_count": null,
   "metadata": {
    "collapsed": true
   },
   "outputs": [],
   "source": [
    "one_year.df  <- filter.df.date(Portfolios.df, years=1, previous.row=T)\n",
    "one_year.xts <- xts(one_year.df, order.by = ymd(rownames(one_year.df)))\n",
    "one_year.xts.ret <- xts(apply(one_year.xts, 2, FUN=Return.calculate), order.by = index(one_year.xts))[-1, ]"
   ]
  },
  {
   "cell_type": "code",
   "execution_count": null,
   "metadata": {},
   "outputs": [],
   "source": [
    "head(one_year.df)"
   ]
  },
  {
   "cell_type": "code",
   "execution_count": null,
   "metadata": {
    "collapsed": true
   },
   "outputs": [],
   "source": [
    "cagr_one_year <- round((((tail(one_year.df, 1) / head(one_year.df, 1))) - 1) * 100, 2)\n",
    "rownames(cagr_one_year) <- 'CAGR'\n",
    "\n",
    "one_year_sd <- round(t(apply(one_year.xts.ret, 2, FUN=StdDev.annualized)) * 100, 2)\n",
    "one_year_sharpe <- cagr_one_year / one_year_sd"
   ]
  },
  {
   "cell_type": "code",
   "execution_count": null,
   "metadata": {
    "collapsed": true
   },
   "outputs": [],
   "source": [
    "three_years.df  <- filter.df.date(Portfolios.df, years=3, previous.row=T)\n",
    "three_years.xts <- xts(three_years.df, order.by = ymd(rownames(three_years.df)))\n",
    "three_years.xts.ret <- xts(apply(three_years.xts, 2, FUN=Return.calculate), order.by = index(three_years.xts))[-1, ]"
   ]
  },
  {
   "cell_type": "code",
   "execution_count": null,
   "metadata": {},
   "outputs": [],
   "source": [
    "head(three_years.df)"
   ]
  },
  {
   "cell_type": "code",
   "execution_count": null,
   "metadata": {
    "collapsed": true
   },
   "outputs": [],
   "source": [
    "cagr_three_years <- round((((tail(three_years.df, 1) / head(three_years.df, 1)) ^ (1/3)) - 1) * 100, 2)\n",
    "rownames(cagr_three_years) <- 'CAGR'\n",
    "\n",
    "three_years_sd <- round(t(apply(three_years.xts.ret, 2, FUN=StdDev.annualized)) * 100, 2)\n",
    "three_years_sharpe <- cagr_three_years / three_years_sd"
   ]
  },
  {
   "cell_type": "code",
   "execution_count": null,
   "metadata": {
    "collapsed": true
   },
   "outputs": [],
   "source": [
    "five_years.df  <- filter.df.date(Portfolios.df, years=5, previous.row=T)\n",
    "five_years.xts <- xts(five_years.df, order.by = ymd(rownames(five_years.df)))\n",
    "five_years.xts.ret <- xts(apply(five_years.xts, 2, FUN=Return.calculate), order.by = index(five_years.xts))[-1, ]\n",
    "\n",
    "cagr_five_years <- round((((tail(five_years.df, 1) / head(five_years.df, 1)) ^ (1/5)) - 1) * 100, 2)\n",
    "rownames(cagr_five_years) <- 'CAGR'\n",
    "\n",
    "five_years_sd <- round(t(apply(five_years.xts.ret, 2, FUN=StdDev.annualized)) * 100, 2)\n",
    "five_years_sharpe <- cagr_five_years / five_years_sd"
   ]
  },
  {
   "cell_type": "code",
   "execution_count": null,
   "metadata": {},
   "outputs": [],
   "source": [
    "head(five_years.df)"
   ]
  },
  {
   "cell_type": "code",
   "execution_count": null,
   "metadata": {
    "collapsed": true
   },
   "outputs": [],
   "source": [
    "ten_years.df  <- filter.df.date(Portfolios.df, years=10, previous.row=T)\n",
    "ten_years.xts <- xts(ten_years.df, order.by = ymd(rownames(ten_years.df)))\n",
    "ten_years.xts.ret <- xts(apply(ten_years.xts, 2, FUN=Return.calculate), order.by = index(ten_years.xts))[-1, ]\n",
    "\n",
    "cagr_ten_years <- round((((tail(ten_years.df, 1) / head(ten_years.df, 1)) ^ (1/10)) - 1) * 100, 2)\n",
    "rownames(cagr_ten_years) <- 'CAGR'\n",
    "\n",
    "ten_years_sd <- round(t(apply(ten_years.xts.ret, 2, FUN=StdDev.annualized)) * 100, 2)\n",
    "ten_years_sharpe <- cagr_ten_years / ten_years_sd"
   ]
  },
  {
   "cell_type": "code",
   "execution_count": null,
   "metadata": {},
   "outputs": [],
   "source": [
    "head(ten_years.df)"
   ]
  },
  {
   "cell_type": "code",
   "execution_count": null,
   "metadata": {
    "collapsed": true
   },
   "outputs": [],
   "source": [
    "one_year_pt <- round(rbind(cagr_one_year, one_year_sd, one_year_sharpe), 2)\n",
    "rownames(one_year_pt) <- c('CAGR', 'Std.dev', 'Sharpe')"
   ]
  },
  {
   "cell_type": "code",
   "execution_count": null,
   "metadata": {
    "collapsed": true
   },
   "outputs": [],
   "source": [
    "three_years_pt <- round(rbind(cagr_one_year, one_year_sd, one_year_sharpe), 2)\n",
    "rownames(one_year_pt) <- c('CAGR', 'Std.dev', 'Sharpe')"
   ]
  },
  {
   "cell_type": "code",
   "execution_count": null,
   "metadata": {
    "collapsed": true
   },
   "outputs": [],
   "source": [
    "three_years_pt <- round(rbind(cagr_three_years, three_years_sd, three_years_sharpe), 2)\n",
    "rownames(three_years_pt) <- c('CAGR', 'Std.dev', 'Sharpe')"
   ]
  },
  {
   "cell_type": "code",
   "execution_count": null,
   "metadata": {
    "collapsed": true
   },
   "outputs": [],
   "source": [
    "five_years_pt <- round(rbind(cagr_five_years, five_years_sd, five_years_sharpe), 2)\n",
    "rownames(five_years_pt) <- c('CAGR', 'Std.dev', 'Sharpe')"
   ]
  },
  {
   "cell_type": "code",
   "execution_count": null,
   "metadata": {
    "collapsed": true
   },
   "outputs": [],
   "source": [
    "ten_years_pt <- round(rbind(cagr_ten_years, ten_years_sd, ten_years_sharpe), 2)\n",
    "rownames(ten_years_pt) <- c('CAGR', 'Std.dev', 'Sharpe')"
   ]
  },
  {
   "cell_type": "code",
   "execution_count": null,
   "metadata": {
    "collapsed": true
   },
   "outputs": [],
   "source": [
    "# Passar as tabelas de performance para .csv\n",
    "write.csv(as.data.frame(one_year_pt), 'one_year_pt.csv')\n",
    "write.csv(as.data.frame(three_years_pt), 'three_years_pt.csv')\n",
    "write.csv(as.data.frame(five_years_pt), 'five_years_pt.csv')\n",
    "write.csv(as.data.frame(ten_years_pt), 'ten_years_pt.csv')"
   ]
  },
  {
   "cell_type": "code",
   "execution_count": null,
   "metadata": {
    "collapsed": true
   },
   "outputs": [],
   "source": [
    "one_year_rolling <- round(data.frame(ROC(Portfolios.df, n = 262, type = \"discrete\") * 100), 2)\n",
    "colnames(one_year_rolling) <- Nomes_fundos"
   ]
  },
  {
   "cell_type": "code",
   "execution_count": null,
   "metadata": {},
   "outputs": [],
   "source": [
    "tail(one_year_rolling)"
   ]
  },
  {
   "cell_type": "code",
   "execution_count": null,
   "metadata": {},
   "outputs": [],
   "source": [
    "one_year_pt"
   ]
  },
  {
   "cell_type": "code",
   "execution_count": null,
   "metadata": {
    "collapsed": true
   },
   "outputs": [],
   "source": [
    "three_years_rolling <- data.frame(ROC(Portfolios.df, n = 261 * 3, type = \"discrete\"))\n",
    "three_years_rolling <- round(((((1 + three_years_rolling) ^ (1/3)) - 1 ) * 100), 2)\n",
    "colnames(three_years_rolling) <- Nomes_fundos"
   ]
  },
  {
   "cell_type": "code",
   "execution_count": null,
   "metadata": {},
   "outputs": [],
   "source": [
    "tail(three_years_rolling)"
   ]
  },
  {
   "cell_type": "code",
   "execution_count": null,
   "metadata": {},
   "outputs": [],
   "source": [
    "three_years_pt"
   ]
  },
  {
   "cell_type": "code",
   "execution_count": null,
   "metadata": {
    "collapsed": true
   },
   "outputs": [],
   "source": [
    "# write .csv of rolling returns per year\n",
    "write.csv(as.data.frame(one_year_rolling), 'one_year_rolling.csv')\n",
    "write.csv(as.data.frame(three_years_rolling), 'three_years_rolling.csv')"
   ]
  },
  {
   "cell_type": "code",
   "execution_count": null,
   "metadata": {
    "collapsed": true
   },
   "outputs": [],
   "source": [
    "def_rolling <- cbind(one_year_rolling[, 1], three_years_rolling[, 1])\n",
    "years <- c('1 Ano', '3 Anos')\n",
    "colnames(def_rolling) <- years"
   ]
  },
  {
   "cell_type": "code",
   "execution_count": null,
   "metadata": {},
   "outputs": [],
   "source": [
    "tail(def_rolling)"
   ]
  },
  {
   "cell_type": "code",
   "execution_count": null,
   "metadata": {
    "collapsed": true
   },
   "outputs": [],
   "source": [
    "ew_rolling <- cbind(one_year_rolling[, 2], three_years_rolling[, 2])\n",
    "colnames(ew_rolling) <- years"
   ]
  },
  {
   "cell_type": "code",
   "execution_count": null,
   "metadata": {
    "collapsed": true
   },
   "outputs": [],
   "source": [
    "agr_rolling <- cbind(one_year_rolling[, 3], three_years_rolling[, 3])\n",
    "colnames(agr_rolling) <- years"
   ]
  },
  {
   "cell_type": "code",
   "execution_count": null,
   "metadata": {
    "collapsed": true
   },
   "outputs": [],
   "source": [
    "# write .csv of rolling returns per portfolio\n",
    "write.csv(as.data.frame(def_rolling), 'def_rolling.csv')\n",
    "write.csv(as.data.frame(ew_rolling),  'ew_rolling.csv')\n",
    "write.csv(as.data.frame(agr_rolling), 'agr_rolling.csv')"
   ]
  },
  {
   "cell_type": "code",
   "execution_count": null,
   "metadata": {
    "collapsed": true
   },
   "outputs": [],
   "source": []
  },
  {
   "cell_type": "code",
   "execution_count": null,
   "metadata": {
    "collapsed": true
   },
   "outputs": [],
   "source": [
    "today <-ymd('2017-10-04')\n",
    "dob   <-ymd('2007-04-23')"
   ]
  },
  {
   "cell_type": "code",
   "execution_count": null,
   "metadata": {},
   "outputs": [],
   "source": [
    "as.numeric(difftime(today, dob, unit=\"weeks\"))/52.25"
   ]
  },
  {
   "cell_type": "code",
   "execution_count": null,
   "metadata": {},
   "outputs": [],
   "source": [
    "dim(one_year_rolling)"
   ]
  },
  {
   "cell_type": "code",
   "execution_count": null,
   "metadata": {},
   "outputs": [],
   "source": [
    "2728 / 10.4360902255639"
   ]
  },
  {
   "cell_type": "code",
   "execution_count": null,
   "metadata": {},
   "outputs": [],
   "source": [
    "class(one_year_rolling)"
   ]
  },
  {
   "cell_type": "code",
   "execution_count": null,
   "metadata": {
    "collapsed": true
   },
   "outputs": [],
   "source": []
  }
 ],
 "metadata": {
  "kernelspec": {
   "display_name": "R",
   "language": "R",
   "name": "ir"
  },
  "language_info": {
   "codemirror_mode": "r",
   "file_extension": ".r",
   "mimetype": "text/x-r-source",
   "name": "R",
   "pygments_lexer": "r",
   "version": "3.5.2"
  }
 },
 "nbformat": 4,
 "nbformat_minor": 2
}

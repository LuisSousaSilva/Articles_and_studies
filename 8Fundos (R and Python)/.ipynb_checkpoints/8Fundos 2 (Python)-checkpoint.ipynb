{
 "cells": [
  {
   "cell_type": "code",
   "execution_count": null,
   "metadata": {},
   "outputs": [],
   "source": [
    "from IPython.display import display\n",
    "from IPython.display import HTML\n",
    "import IPython.core.display as di # Example: di.display_html('<h3>%s:</h3>' % str, raw=True)\n",
    "\n",
    "# This line will hide code by default when the notebook is exported as HTML\n",
    "di.display_html('<script>jQuery(function() {if (jQuery(\"body.notebook_app\").length == 0) { jQuery(\".input_area\").toggle(); jQuery(\".prompt\").toggle();}});</script>', raw=True)\n",
    "\n",
    "# This line will add a button to toggle visibility of code blocks, for use with the HTML export version\n",
    "di.display_html('''<button onclick=\"jQuery('.input_area').toggle(); jQuery('.prompt').toggle();\">Código ON/OFF</button>''', raw=True)"
   ]
  },
  {
   "cell_type": "markdown",
   "metadata": {},
   "source": [
    "**A Carteira 8Fundos DEF é composta por:**\n",
    "\n",
    "  * _7.5% Fidelity Global Cnsmr Inds A-Dis-EUR LU0114721508_\n",
    "  * _7.5% GS Glb SmCp CORE® Eq E EUR Acc Close LU0245181838_\n",
    "  * _7.5% M&G Optimal Income Euro A-H Acc GB00B1VMCY93_\n",
    "  * _27.5% PIMCO GIS Global Bond E Acc EUR H IE00B11XZ103_\n",
    "  \n",
    "  \n",
    "  * _7.5% MFS® Meridian Global Equity A1 EUR LU0094560744_\n",
    "  * _7.5% Jupiter Dynamic Bond L EUR Acc LU0853555380_\n",
    "  * _7.5% Invesco Global Smaller Coms Eq E EUR Acc LU0607512935_\n",
    "  * _27.5% PIMCO GIS GlbInvGrdCrdt E EUR Hdg Acc IE00B11XZ434_\n",
    "\n",
    "**A Carteira 8Fundos EW é composta por:**\n",
    "\n",
    "  * _12.5% Fidelity Global Cnsmr Inds A-Dis-EUR LU0114721508_\n",
    "  * _12.5% GS Glb SmCp CORE® Eq E EUR Acc Close LU0245181838_\n",
    "  * _12.5% M&G Optimal Income Euro A-H Acc GB00B1VMCY93_\n",
    "  * _12.5% PIMCO GIS Global Bond E Acc EUR H IE00B11XZ103_\n",
    "  \n",
    "  \n",
    "  * _12.5% MFS® Meridian Global Equity A1 EUR LU0094560744_\n",
    "  * _12.5% Jupiter Dynamic Bond L EUR Acc LU0853555380_\n",
    "  * _12.5% Invesco Global Smaller Coms Eq E EUR Acc LU0607512935_\n",
    "  * _12.5% PIMCO GIS GlbInvGrdCrdt E EUR Hdg Acc IE00B11XZ434_\n",
    "\n",
    "**A Carteira 8Fundos AGR é composta por:**\n",
    "\n",
    "  * _20% Fidelity Global Cnsmr Inds A-Dis-EUR LU0114721508_\n",
    "  * _20% GS Glb SmCp CORE® Eq E EUR Acc Close LU0245181838_\n",
    "  * _5% M&G Optimal Income Euro A-H Acc GB00B1VMCY93_\n",
    "  * _5% PIMCO GIS Global Bond E Acc EUR H IE00B11XZ103_\n",
    "  \n",
    "  \n",
    "  * _20% MFS® Meridian Global Equity A1 EUR LU0094560744_\n",
    "  * _20% Jupiter Dynamic Bond L EUR Acc LU0853555380_\n",
    "  * _5% Invesco Global Smaller Coms Eq E EUR Acc LU0607512935_\n",
    "  * _5% PIMCO GIS GlbInvGrdCrdt E EUR Hdg Acc IE00B11XZ434_"
   ]
  },
  {
   "cell_type": "code",
   "execution_count": null,
   "metadata": {
    "collapsed": true
   },
   "outputs": [],
   "source": [
    "%%capture\n",
    "# importing libraries\n",
    "import monthly_returns_heatmap as mrh\n",
    "import matplotlib.pyplot as plt\n",
    "import plotly.plotly as py\n",
    "import seaborn as sns\n",
    "import pandas as pd\n",
    "import numpy as np\n",
    "import plotly\n",
    "import time\n",
    "\n",
    "from plotly.offline import download_plotlyjs, init_notebook_mode, plot, iplot\n",
    "from matplotlib.ticker import FuncFormatter\n",
    "from datetime import datetime\n",
    "\n",
    "# Setting pandas dataframe display options\n",
    "pd.set_option(\"display.max_rows\", 20)\n",
    "pd.set_option('display.width', 800)\n",
    "pd.set_option('max_colwidth', 800)\n",
    "\n",
    "# Set plotly offline\n",
    "init_notebook_mode(connected=True)\n",
    "\n",
    "# Set matplotlib style\n",
    "plt.style.use('seaborn')"
   ]
  },
  {
   "cell_type": "code",
   "execution_count": null,
   "metadata": {
    "collapsed": true
   },
   "outputs": [],
   "source": [
    "%%capture\n",
    "import cufflinks as cf\n",
    "cf.go_offline()"
   ]
  },
  {
   "cell_type": "code",
   "execution_count": null,
   "metadata": {},
   "outputs": [],
   "source": [
    "a = datetime.now().strftime('%Y-%m-%d %H:%M:%S')\n",
    "print('A última vez que este script foi executado foi em:', a)"
   ]
  },
  {
   "cell_type": "code",
   "execution_count": null,
   "metadata": {
    "collapsed": true
   },
   "outputs": [],
   "source": [
    "#### Functions ####\n",
    "def compute_drawdowns(dataframe):\n",
    "    \"\"\"\n",
    "    Function to compute drawdowns of a timeseries\n",
    "    \"\"\"\n",
    "    return (dataframe / dataframe.cummax() -1) * 100"
   ]
  },
  {
   "cell_type": "code",
   "execution_count": null,
   "metadata": {
    "collapsed": true
   },
   "outputs": [],
   "source": [
    "Corr_matrix = pd.read_csv('Corr_Matrix.csv', index_col='Unnamed: 0')"
   ]
  },
  {
   "cell_type": "code",
   "execution_count": null,
   "metadata": {},
   "outputs": [],
   "source": [
    "# Correlation Matrix\n",
    "fig, ax = plt.subplots()\n",
    "fig.set_size_inches(11, 8)\n",
    "\n",
    "sns.heatmap(Corr_matrix, annot = True, cmap = \"coolwarm\", linewidths=.2, vmin = -0.5)\n",
    "plt.yticks(rotation=360)\n",
    "plt.title('Matrix de correlação')\n",
    "plt.show()"
   ]
  },
  {
   "cell_type": "code",
   "execution_count": null,
   "metadata": {
    "collapsed": true
   },
   "outputs": [],
   "source": [
    "fundos = pd.read_csv('Portfolios.csv', sep=',',  index_col='Unnamed: 0', parse_dates=True)"
   ]
  },
  {
   "cell_type": "code",
   "execution_count": null,
   "metadata": {},
   "outputs": [],
   "source": [
    "fundos.tail()"
   ]
  },
  {
   "cell_type": "code",
   "execution_count": null,
   "metadata": {
    "collapsed": true
   },
   "outputs": [],
   "source": [
    "#### Normalization to 100 ####\n",
    "fundos_norm = round((fundos.div(fundos.iloc[0]).mul(100)), 2)"
   ]
  },
  {
   "cell_type": "code",
   "execution_count": null,
   "metadata": {
    "collapsed": true
   },
   "outputs": [],
   "source": [
    "#### Returns ####\n",
    "P_returns = fundos_norm.pct_change()"
   ]
  },
  {
   "cell_type": "code",
   "execution_count": null,
   "metadata": {},
   "outputs": [],
   "source": [
    "fundos_norm.iplot(kind='scatter',yTitle='Valor por cada 100€ investidos',\n",
    "                  title='Performance das carteiras', colors=['royalblue', 'orange', 'dimgray'])"
   ]
  },
  {
   "cell_type": "code",
   "execution_count": null,
   "metadata": {},
   "outputs": [],
   "source": [
    "fundos_norm.iplot(kind='scatter',yTitle='Valor por cada 100€ investidos',\n",
    "                  title='Performance das carteiras (versão log)', logy=True, colors=['royalblue', 'orange', 'dimgray'])"
   ]
  },
  {
   "cell_type": "code",
   "execution_count": null,
   "metadata": {
    "collapsed": true
   },
   "outputs": [],
   "source": [
    "#### Computing Drawdowns ####\n",
    "DD = round(compute_drawdowns(fundos_norm), 2)\n",
    "\n",
    "DD.iplot(kind='scatter', title='Drawdown dos portfolios', yTitle='Percentagem', colors=['royalblue', 'orange', 'dimgray'])"
   ]
  },
  {
   "cell_type": "markdown",
   "metadata": {},
   "source": [
    "##### Valores actuais do drawdown"
   ]
  },
  {
   "cell_type": "code",
   "execution_count": null,
   "metadata": {
    "collapsed": true
   },
   "outputs": [],
   "source": [
    "DD.tail(1)"
   ]
  },
  {
   "cell_type": "code",
   "execution_count": null,
   "metadata": {
    "collapsed": true
   },
   "outputs": [],
   "source": [
    "#### Returns ####\n",
    "returns = (fundos_norm / fundos_norm.shift(1)) - 1"
   ]
  },
  {
   "cell_type": "code",
   "execution_count": null,
   "metadata": {
    "collapsed": true
   },
   "outputs": [],
   "source": [
    "# Resampling to yearly (business year)\n",
    "yearly_quotes = fundos_norm.resample('BA').last()\n",
    "\n",
    "# Adding first quote (only if start is in the middle of the year) ### Falta trabalho para automatizar #####\n",
    "yearly_quotes = pd.concat([fundos_norm.iloc[:1], yearly_quotes])"
   ]
  },
  {
   "cell_type": "code",
   "execution_count": null,
   "metadata": {
    "collapsed": true
   },
   "outputs": [],
   "source": [
    "# Returns\n",
    "yearly_returns = ((yearly_quotes / yearly_quotes.shift(1)) - 1) * 100\n",
    "yearly_returns = yearly_returns.set_index([list(range(2012, 2018))]).drop([2012, 2013])\n",
    "\n",
    "#### Inverter o sentido das rows no dataframe ####\n",
    "yearly_returns = yearly_returns.transpose()\n",
    "\n",
    "# Yearly returns heatmap\n",
    "fig, ax = plt.subplots()\n",
    "fig.set_size_inches(5, 2) # 68%\n",
    "heatmap = sns.heatmap(yearly_returns, annot=True, cmap=\"RdYlGn\", linewidths=.2, fmt=\".2f\", cbar=False, center=0)\n",
    "for t in heatmap.texts: t.set_text(t.get_text() + \"%\")\n",
    "plt.title('Retornos Anuais')\n",
    "plt.yticks(rotation=360)\n",
    "plt.show()"
   ]
  },
  {
   "cell_type": "code",
   "execution_count": null,
   "metadata": {
    "collapsed": true
   },
   "outputs": [],
   "source": [
    "mrh.plot(returns['8Fundos DEF'], title= 'Retornos mensais para 4Fundos DEF', figsize=(18,4.5))"
   ]
  },
  {
   "cell_type": "code",
   "execution_count": null,
   "metadata": {
    "collapsed": true
   },
   "outputs": [],
   "source": [
    "mrh.plot(returns['8Fundos EW'], title= 'Retornos mensais para 4Fundos EW', figsize=(18,4.5))"
   ]
  },
  {
   "cell_type": "code",
   "execution_count": null,
   "metadata": {
    "collapsed": true
   },
   "outputs": [],
   "source": [
    "mrh.plot(returns['8Fundos AGR'], title= 'Retornos mensais para 4Fundos AGR', figsize=(18,4.5))"
   ]
  },
  {
   "cell_type": "code",
   "execution_count": null,
   "metadata": {
    "collapsed": true
   },
   "outputs": [],
   "source": [
    "# Importar os .csv das tabelas de drawdowns\n",
    "DD_DEF = pd.read_csv('DD_DEF.csv', sep=',',  index_col='Unnamed: 0')\n",
    "DD_EW  = pd.read_csv('DD_EW.csv' , sep=',',  index_col='Unnamed: 0')\n",
    "DD_AGR = pd.read_csv('DD_AGR.csv', sep=',',  index_col='Unnamed: 0')"
   ]
  },
  {
   "cell_type": "markdown",
   "metadata": {},
   "source": [
    "##### Tabela de Drawdowns da 8Fundos Defensiva"
   ]
  },
  {
   "cell_type": "code",
   "execution_count": null,
   "metadata": {
    "collapsed": true
   },
   "outputs": [],
   "source": [
    "DD_DEF"
   ]
  },
  {
   "cell_type": "markdown",
   "metadata": {},
   "source": [
    "##### Tabela de Drawdowns da 8Fundos Equal Weight"
   ]
  },
  {
   "cell_type": "code",
   "execution_count": null,
   "metadata": {
    "collapsed": true
   },
   "outputs": [],
   "source": [
    "DD_EW"
   ]
  },
  {
   "cell_type": "markdown",
   "metadata": {},
   "source": [
    "##### Tabela de Drawdowns da 8Fundos Agressiva"
   ]
  },
  {
   "cell_type": "code",
   "execution_count": null,
   "metadata": {
    "collapsed": true
   },
   "outputs": [],
   "source": [
    "DD_AGR"
   ]
  },
  {
   "cell_type": "code",
   "execution_count": null,
   "metadata": {
    "collapsed": true
   },
   "outputs": [],
   "source": [
    "# Importar os .csv das tabelas de drawdowns\n",
    "one_year_pt     = pd.read_csv('one_year_pt.csv', sep=',',  index_col='Unnamed: 0')\n",
    "three_years_pt  = pd.read_csv('three_years_pt.csv' , sep=',',  index_col='Unnamed: 0')"
   ]
  },
  {
   "cell_type": "markdown",
   "metadata": {},
   "source": [
    "##### Tabela de performance a 1 ano"
   ]
  },
  {
   "cell_type": "code",
   "execution_count": null,
   "metadata": {
    "collapsed": true
   },
   "outputs": [],
   "source": [
    "one_year_pt"
   ]
  },
  {
   "cell_type": "markdown",
   "metadata": {},
   "source": [
    "##### Tabela de performance a 3 anos"
   ]
  },
  {
   "cell_type": "code",
   "execution_count": null,
   "metadata": {
    "collapsed": true
   },
   "outputs": [],
   "source": [
    "three_years_pt"
   ]
  },
  {
   "cell_type": "code",
   "execution_count": null,
   "metadata": {
    "collapsed": true
   },
   "outputs": [],
   "source": [
    "# Importing .CSV of rolling returns per year\n",
    "one_year_rolling    = pd.read_csv('one_year_rolling.csv', sep=',',  index_col='Unnamed: 0', parse_dates=True)\n",
    "three_years_rolling = pd.read_csv('three_years_rolling.csv', sep=',',  index_col='Unnamed: 0', parse_dates=True)"
   ]
  },
  {
   "cell_type": "code",
   "execution_count": null,
   "metadata": {
    "collapsed": true
   },
   "outputs": [],
   "source": [
    "one_year_rolling.iplot(kind='scatter', title='Retornos rolantes a 1 ano', yTitle='Percentagem',\n",
    "                       colors=['royalblue', 'orange', 'dimgray'])"
   ]
  },
  {
   "cell_type": "code",
   "execution_count": null,
   "metadata": {
    "collapsed": true
   },
   "outputs": [],
   "source": [
    "three_years_rolling.iplot(kind='scatter', title='Retornos rolantes a 3 anos', yTitle='Percentagem',\n",
    "                          colors=['royalblue', 'orange', 'dimgray'])"
   ]
  },
  {
   "cell_type": "code",
   "execution_count": null,
   "metadata": {
    "collapsed": true
   },
   "outputs": [],
   "source": [
    "# Importing .CSV of rolling returns per portfolio\n",
    "def_rolling = pd.read_csv('def_rolling.csv', sep=',',  index_col='Unnamed: 0', parse_dates=True)\n",
    "ew_rolling  = pd.read_csv('ew_rolling.csv',  sep=',',  index_col='Unnamed: 0', parse_dates=True)\n",
    "agr_rolling = pd.read_csv('agr_rolling.csv', sep=',',  index_col='Unnamed: 0', parse_dates=True)"
   ]
  },
  {
   "cell_type": "code",
   "execution_count": null,
   "metadata": {
    "collapsed": true
   },
   "outputs": [],
   "source": [
    "def_rolling.iplot(kind='scatter', title='Retornos rolantes da 8Fundos defensiva', yTitle='Percentagem',\n",
    "                  colors=['royalblue', 'orange', 'dimgray', 'darkviolet'])"
   ]
  },
  {
   "cell_type": "code",
   "execution_count": null,
   "metadata": {
    "collapsed": true
   },
   "outputs": [],
   "source": [
    "ew_rolling.iplot(kind='scatter', title='Retornos rolantes da 8Fundos Equal Weight', yTitle='Percentagem',\n",
    "                  colors=['royalblue', 'orange', 'dimgray', 'darkviolet'])"
   ]
  },
  {
   "cell_type": "code",
   "execution_count": null,
   "metadata": {
    "collapsed": true
   },
   "outputs": [],
   "source": [
    "agr_rolling.iplot(kind='scatter', title='Retornos rolantes da 8Fundos agressiva', yTitle='Percentagem',\n",
    "                  colors=['royalblue', 'orange', 'dimgray', 'darkviolet'])"
   ]
  },
  {
   "cell_type": "markdown",
   "metadata": {
    "collapsed": true
   },
   "source": [
    "**Notes:** Portfolios with yearly rebalancing"
   ]
  },
  {
   "cell_type": "code",
   "execution_count": null,
   "metadata": {
    "collapsed": true
   },
   "outputs": [],
   "source": []
  }
 ],
 "metadata": {
  "kernelspec": {
   "display_name": "Python [conda root]",
   "language": "python",
   "name": "conda-root-py"
  },
  "language_info": {
   "codemirror_mode": {
    "name": "ipython",
    "version": 3
   },
   "file_extension": ".py",
   "mimetype": "text/x-python",
   "name": "python",
   "nbconvert_exporter": "python",
   "pygments_lexer": "ipython3",
   "version": "3.6.1"
  }
 },
 "nbformat": 4,
 "nbformat_minor": 2
}

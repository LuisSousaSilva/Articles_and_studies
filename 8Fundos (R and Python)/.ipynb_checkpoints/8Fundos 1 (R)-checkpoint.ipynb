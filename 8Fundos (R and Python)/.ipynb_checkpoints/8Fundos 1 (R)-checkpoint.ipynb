{
 "cells": [
  {
   "cell_type": "markdown",
   "metadata": {},
   "source": [
    "**A Carteira 8Fundos DEF é composta por:**\n",
    "\n",
    "  * _7.5% Fidelity Global Cnsmr Inds A-Dis-EUR LU0114721508_\n",
    "  * _7.5% GS Glb SmCp CORE® Eq E EUR Acc Close LU0245181838_\n",
    "  * _7.5% M&G Optimal Income Euro A-H Acc GB00B1VMCY93_\n",
    "  * _27.5% PIMCO GIS Global Bond E Acc EUR H IE00B11XZ103_\n",
    "  \n",
    "  \n",
    "  * _7.5% MFS® Meridian Global Equity A1 EUR LU0094560744_\n",
    "  * _7.5% Jupiter Dynamic Bond L EUR Acc LU0853555380_\n",
    "  * _7.5% Invesco Global Smaller Coms Eq E EUR Acc LU0607512935_\n",
    "  * _27.5% PIMCO GIS GlbInvGrdCrdt E EUR Hdg Acc IE00B11XZ434_\n",
    "\n",
    "**A Carteira 8Fundos EW é composta por:**\n",
    "\n",
    "  * _12.5% Fidelity Global Cnsmr Inds A-Dis-EUR LU0114721508_\n",
    "  * _12.5% GS Glb SmCp CORE® Eq E EUR Acc Close LU0245181838_\n",
    "  * _12.5% M&G Optimal Income Euro A-H Acc GB00B1VMCY93_\n",
    "  * _12.5% PIMCO GIS Global Bond E Acc EUR H IE00B11XZ103_\n",
    "  \n",
    "  \n",
    "  * _12.5% MFS® Meridian Global Equity A1 EUR LU0094560744_\n",
    "  * _12.5% Jupiter Dynamic Bond L EUR Acc LU0853555380_\n",
    "  * _12.5% Invesco Global Smaller Coms Eq E EUR Acc LU0607512935_\n",
    "  * _12.5% PIMCO GIS GlbInvGrdCrdt E EUR Hdg Acc IE00B11XZ434_\n",
    "\n",
    "**A Carteira 8Fundos AGR é composta por:**\n",
    "\n",
    "  * _20% Fidelity Global Cnsmr Inds A-Dis-EUR LU0114721508_\n",
    "  * _20% GS Glb SmCp CORE® Eq E EUR Acc Close LU0245181838_\n",
    "  * _5% M&G Optimal Income Euro A-H Acc GB00B1VMCY93_\n",
    "  * _5% PIMCO GIS Global Bond E Acc EUR H IE00B11XZ103_\n",
    "  \n",
    "  \n",
    "  * _20% MFS® Meridian Global Equity A1 EUR LU0094560744_\n",
    "  * _20% Jupiter Dynamic Bond L EUR Acc LU0853555380_\n",
    "  * _5% Invesco Global Smaller Coms Eq E EUR Acc LU0607512935_\n",
    "  * _5% PIMCO GIS GlbInvGrdCrdt E EUR Hdg Acc IE00B11XZ434_"
   ]
  },
  {
   "cell_type": "code",
   "execution_count": 1,
   "metadata": {},
   "outputs": [
    {
     "name": "stderr",
     "output_type": "stream",
     "text": [
      "Warning message:\n",
      "\"package 'quantmod' was built under R version 3.4.2\""
     ]
    }
   ],
   "source": [
    "suppressMessages(library(PerformanceAnalytics))\n",
    "suppressMessages(library(lubridate))\n",
    "suppressMessages(library(quantmod))\n",
    "suppressMessages(library(stringr))\n",
    "suppressMessages(library(dplyr))\n",
    "suppressMessages(library(PART))\n",
    "suppressMessages(library(SIT))"
   ]
  },
  {
   "cell_type": "code",
   "execution_count": 2,
   "metadata": {
    "collapsed": true
   },
   "outputs": [],
   "source": [
    "MSid  <- c('F0GBR04EAN', 'F000000FH0', 'F0000007LD', \"F0GBR06T61\", 'F0GBR04E6R', 'F00000Q8QC', 'F00000NGSG', 'F0GBR06T6F')\n",
    "Nomes <- c('FCI', 'GS_SC', 'MG_OI', 'PimcoGB', 'MFS_GE', 'JupiterDB', 'InvescoSC', 'PimcoIG')"
   ]
  },
  {
   "cell_type": "code",
   "execution_count": 3,
   "metadata": {
    "collapsed": true
   },
   "outputs": [],
   "source": [
    "#### Begin_End #### \n",
    "From <- \"2013-05-10\" # Data de início\n",
    "To   <- toString(today()) # Data de Fim\n",
    "\n",
    "Begin_End <- paste(From, \"/\", To) # Data de início e fim juntos para xts"
   ]
  },
  {
   "cell_type": "code",
   "execution_count": 4,
   "metadata": {
    "collapsed": true
   },
   "outputs": [],
   "source": [
    "# Download dos fundos\n",
    "getFI_best(MSid, Begin_End=Begin_End)"
   ]
  },
  {
   "cell_type": "code",
   "execution_count": 5,
   "metadata": {},
   "outputs": [
    {
     "data": {
      "text/html": [
       "<ol class=list-inline>\n",
       "\t<li>'Begin_End'</li>\n",
       "\t<li>'F0000007LD'</li>\n",
       "\t<li>'F000000FH0'</li>\n",
       "\t<li>'F00000NGSG'</li>\n",
       "\t<li>'F00000Q8QC'</li>\n",
       "\t<li>'F0GBR04E6R'</li>\n",
       "\t<li>'F0GBR04EAN'</li>\n",
       "\t<li>'F0GBR06T61'</li>\n",
       "\t<li>'F0GBR06T6F'</li>\n",
       "\t<li>'From'</li>\n",
       "\t<li>'Fundos.df'</li>\n",
       "\t<li>'Fundos.xts'</li>\n",
       "\t<li>'MSid'</li>\n",
       "\t<li>'Nomes'</li>\n",
       "\t<li>'To'</li>\n",
       "</ol>\n"
      ],
      "text/latex": [
       "\\begin{enumerate*}\n",
       "\\item 'Begin\\_End'\n",
       "\\item 'F0000007LD'\n",
       "\\item 'F000000FH0'\n",
       "\\item 'F00000NGSG'\n",
       "\\item 'F00000Q8QC'\n",
       "\\item 'F0GBR04E6R'\n",
       "\\item 'F0GBR04EAN'\n",
       "\\item 'F0GBR06T61'\n",
       "\\item 'F0GBR06T6F'\n",
       "\\item 'From'\n",
       "\\item 'Fundos.df'\n",
       "\\item 'Fundos.xts'\n",
       "\\item 'MSid'\n",
       "\\item 'Nomes'\n",
       "\\item 'To'\n",
       "\\end{enumerate*}\n"
      ],
      "text/markdown": [
       "1. 'Begin_End'\n",
       "2. 'F0000007LD'\n",
       "3. 'F000000FH0'\n",
       "4. 'F00000NGSG'\n",
       "5. 'F00000Q8QC'\n",
       "6. 'F0GBR04E6R'\n",
       "7. 'F0GBR04EAN'\n",
       "8. 'F0GBR06T61'\n",
       "9. 'F0GBR06T6F'\n",
       "10. 'From'\n",
       "11. 'Fundos.df'\n",
       "12. 'Fundos.xts'\n",
       "13. 'MSid'\n",
       "14. 'Nomes'\n",
       "15. 'To'\n",
       "\n",
       "\n"
      ],
      "text/plain": [
       " [1] \"Begin_End\"  \"F0000007LD\" \"F000000FH0\" \"F00000NGSG\" \"F00000Q8QC\"\n",
       " [6] \"F0GBR04E6R\" \"F0GBR04EAN\" \"F0GBR06T61\" \"F0GBR06T6F\" \"From\"      \n",
       "[11] \"Fundos.df\"  \"Fundos.xts\" \"MSid\"       \"Nomes\"      \"To\"        "
      ]
     },
     "metadata": {},
     "output_type": "display_data"
    }
   ],
   "source": [
    "ls()"
   ]
  },
  {
   "cell_type": "code",
   "execution_count": 6,
   "metadata": {},
   "outputs": [
    {
     "data": {
      "text/plain": [
       "           F0GBR04EAN F000000FH0 F0000007LD F0GBR06T61 F0GBR04E6R F00000Q8QC\n",
       "2013-05-10      32.14      11.28      17.31      22.15      19.30      10.00\n",
       "2013-05-13      32.24      11.32      17.30      22.14      19.22      10.00\n",
       "2013-05-14      32.49      11.39      17.30      22.12      19.50       9.99\n",
       "2013-05-15      33.05      11.49      17.32      22.11      19.66      10.03\n",
       "2013-05-16      32.99      11.41      17.34      22.16      19.62       9.98\n",
       "2013-05-17      33.03      11.57      17.36      22.13      19.75      10.00\n",
       "           F00000NGSG F0GBR06T6F\n",
       "2013-05-10      14.15      15.49\n",
       "2013-05-13      14.17      15.48\n",
       "2013-05-14      14.19      15.46\n",
       "2013-05-15      14.33      15.46\n",
       "2013-05-16      14.41      15.50\n",
       "2013-05-17      14.41      15.48"
      ]
     },
     "metadata": {},
     "output_type": "display_data"
    }
   ],
   "source": [
    "head(Fundos.xts)"
   ]
  },
  {
   "cell_type": "code",
   "execution_count": 7,
   "metadata": {
    "collapsed": true
   },
   "outputs": [],
   "source": [
    "# Get Returns dataframe\n",
    "Returns <- xts(apply(Fundos.xts, 2, FUN = Return.calculate),order.by = index(Fundos.xts))[-1 ,]\n",
    "\n",
    "# Naming the columns in Returns\n",
    "colnames(Returns) <- Nomes"
   ]
  },
  {
   "cell_type": "code",
   "execution_count": 8,
   "metadata": {
    "collapsed": true
   },
   "outputs": [],
   "source": [
    "### Portfolio Weights ####\n",
    "P1_weights <- c(0.075, 0.075, 0.075, 0.275, 0.075, 0.075, 0.075, 0.275)\n",
    "P2_weights <- c(0.125, 0.125, 0.125, 0.125, 0.125, 0.125, 0.125, 0.125)\n",
    "P3_weights <- c(0.20, 0.20, 0.05, 0.05, 0.20, 0.20, 0.05, 0.05)"
   ]
  },
  {
   "cell_type": "code",
   "execution_count": 9,
   "metadata": {
    "collapsed": true
   },
   "outputs": [],
   "source": [
    "#### Portfolios ####\n",
    "Portfolio_1 <- Return.portfolio(Returns,\n",
    "                                weights = P1_weights,\n",
    "                                verbose = TRUE,\n",
    "                                rebalance_on =  \"years\",\n",
    "                                value = 100)\n",
    "\n",
    "#### Portfolios ####\n",
    "Portfolio_2 <- Return.portfolio(Returns,\n",
    "                                weights = P2_weights,\n",
    "                                verbose = TRUE,\n",
    "                                rebalance_on =  \"years\",\n",
    "                                value = 100)\n",
    "\n",
    "#### Portfolios ####\n",
    "Portfolio_3 <- Return.portfolio(Returns,\n",
    "                                weights = P3_weights,\n",
    "                                verbose = TRUE,\n",
    "                                rebalance_on =  \"years\",\n",
    "                                value = 100)"
   ]
  },
  {
   "cell_type": "code",
   "execution_count": 10,
   "metadata": {
    "collapsed": true
   },
   "outputs": [],
   "source": [
    "# Cálculos\n",
    "Portfolio1 <- xts(round(rowSums(Portfolio_1$EOP.Value), 2), order.by = index(Fundos.xts[-1 ,]))\n",
    "Portfolio2 <- xts(round(rowSums(Portfolio_2$EOP.Value), 2), order.by = index(Fundos.xts[-1 ,]))\n",
    "Portfolio3 <- xts(round(rowSums(Portfolio_3$EOP.Value), 2), order.by = index(Fundos.xts[-1 ,]))"
   ]
  },
  {
   "cell_type": "code",
   "execution_count": 11,
   "metadata": {
    "collapsed": true
   },
   "outputs": [],
   "source": [
    "Portfolios <- cbind(Portfolio1, Portfolio2, Portfolio3)\n",
    "colnames(Portfolios) <- c('8Fundos DEF', '8Fundos EW', '8Fundos AGR')"
   ]
  },
  {
   "cell_type": "code",
   "execution_count": 12,
   "metadata": {},
   "outputs": [
    {
     "data": {
      "text/plain": [
       "           8Fundos DEF 8Fundos EW 8Fundos AGR\n",
       "2017-10-17      126.81     138.69      145.65\n",
       "2017-10-18      126.72     138.66      145.62\n",
       "2017-10-19      126.51     138.20      145.02\n",
       "2017-10-20      126.50     138.37      145.35\n",
       "2017-10-23      126.60     138.48      145.32\n",
       "2017-10-24      126.54     138.38      145.30"
      ]
     },
     "metadata": {},
     "output_type": "display_data"
    }
   ],
   "source": [
    "tail(Portfolios)"
   ]
  },
  {
   "cell_type": "code",
   "execution_count": 13,
   "metadata": {
    "collapsed": true
   },
   "outputs": [],
   "source": [
    "# Exportar Portfolios \n",
    "write.csv(as.data.frame(Portfolios), 'Portfolios.csv')"
   ]
  },
  {
   "cell_type": "code",
   "execution_count": 14,
   "metadata": {
    "collapsed": true
   },
   "outputs": [],
   "source": [
    "Fundos.xts_monthly <- to.monthly(Fundos.xts$F0GBR04EAN)\n",
    "Fundos.xts_monthly$F000000FH0 <- to.monthly(Fundos.xts$F000000FH0)\n",
    "Fundos.xts_monthly$F0000007LD <- to.monthly(Fundos.xts$F0000007LD)\n",
    "Fundos.xts_monthly$F0GBR06T61 <- to.monthly(Fundos.xts$F0GBR06T61)\n",
    "Fundos.xts_monthly$F0GBR04E6R <- to.monthly(Fundos.xts$F0GBR04E6R)\n",
    "Fundos.xts_monthly$F00000Q8QC <- to.monthly(Fundos.xts$F00000Q8QC)\n",
    "Fundos.xts_monthly$F00000NGSG <- to.monthly(Fundos.xts$F00000NGSG)\n",
    "Fundos.xts_monthly$F0GBR06T6F <- to.monthly(Fundos.xts$F0GBR06T6F)"
   ]
  },
  {
   "cell_type": "code",
   "execution_count": 15,
   "metadata": {},
   "outputs": [
    {
     "data": {
      "text/html": [
       "<ol class=list-inline>\n",
       "\t<li>54</li>\n",
       "\t<li>32</li>\n",
       "</ol>\n"
      ],
      "text/latex": [
       "\\begin{enumerate*}\n",
       "\\item 54\n",
       "\\item 32\n",
       "\\end{enumerate*}\n"
      ],
      "text/markdown": [
       "1. 54\n",
       "2. 32\n",
       "\n",
       "\n"
      ],
      "text/plain": [
       "[1] 54 32"
      ]
     },
     "metadata": {},
     "output_type": "display_data"
    }
   ],
   "source": [
    "dim(Fundos.xts_monthly)"
   ]
  },
  {
   "cell_type": "code",
   "execution_count": 16,
   "metadata": {
    "collapsed": true
   },
   "outputs": [],
   "source": [
    "Fundos.xts_monthly <- Fundos.xts_monthly[, c(4, 8, 12, 16, 20, 24, 28, 32)]\n",
    "colnames(Fundos.xts_monthly) <- c('F0GBR04EAN', 'F000000FH0', 'F0000007LD', 'F0GBR06T61',\n",
    "                                  'F0GBR04E6R', 'F00000Q8QC', 'F00000NGSG', 'F0GBR06T6F')"
   ]
  },
  {
   "cell_type": "code",
   "execution_count": 17,
   "metadata": {},
   "outputs": [
    {
     "data": {
      "text/plain": [
       "         F0GBR04EAN F000000FH0 F0000007LD F0GBR06T61 F0GBR04E6R F00000Q8QC\n",
       "mai 2017      52.30      18.43      19.90      24.27      30.33      11.78\n",
       "jun 2017      50.71      18.45      20.05      24.19      30.21      11.75\n",
       "jul 2017      49.97      18.39      20.13      24.27      29.39      11.73\n",
       "ago 2017      49.95      18.25      20.03      24.47      29.12      11.77\n",
       "set 2017      50.02      19.06      20.17      24.36      29.99      11.72\n",
       "out 2017      50.85      19.31      20.22      24.39      30.29      11.73\n",
       "         F00000NGSG F0GBR06T6F\n",
       "mai 2017      24.39      16.95\n",
       "jun 2017      24.52      16.91\n",
       "jul 2017      24.65      16.99\n",
       "ago 2017      24.22      17.12\n",
       "set 2017      25.08      17.06\n",
       "out 2017      25.56      17.09"
      ]
     },
     "metadata": {},
     "output_type": "display_data"
    }
   ],
   "source": [
    "tail(Fundos.xts_monthly)"
   ]
  },
  {
   "cell_type": "code",
   "execution_count": 18,
   "metadata": {},
   "outputs": [
    {
     "data": {
      "image/png": "[encoded data removed]",
      "text/plain": [
       "Plot with title \"Fundos.xts_monthly\""
      ]
     },
     "metadata": {},
     "output_type": "display_data"
    }
   ],
   "source": [
    "plot.zoo(Fundos.xts_monthly)"
   ]
  },
  {
   "cell_type": "code",
   "execution_count": 19,
   "metadata": {
    "collapsed": true
   },
   "outputs": [],
   "source": [
    "Returns_monthly <- ROC(Fundos.xts_monthly, n = 1, type = \"discrete\")[-1, ]"
   ]
  },
  {
   "cell_type": "code",
   "execution_count": 20,
   "metadata": {},
   "outputs": [
    {
     "data": {
      "text/plain": [
       "          F0GBR04EAN  F000000FH0   F0000007LD   F0GBR06T61  F0GBR04E6R\n",
       "jun 2013 -0.02395965 -0.02406417 -0.030040439 -0.021988090 -0.02777778\n",
       "jul 2013  0.02131783  0.05936073  0.026206075  0.004215457  0.04258760\n",
       "ago 2013 -0.03257432 -0.03103448 -0.006964597 -0.007462687 -0.02895553\n",
       "set 2013  0.02909448  0.05249110  0.007597896  0.006578947  0.02609159\n",
       "out 2013  0.03240152  0.03212172  0.019721578  0.006069094  0.03321225\n",
       "nov 2013  0.02123077  0.02702703  0.001706485  0.002320186  0.01707685\n",
       "           F00000Q8QC   F00000NGSG    F0GBR06T6F\n",
       "jun 2013 -0.023138833 -0.022824536 -0.0335085414\n",
       "jul 2013  0.015447992  0.045985401  0.0061182869\n",
       "ago 2013  0.005070994  0.009071877 -0.0094594595\n",
       "set 2013  0.011099899  0.049100968  0.0095497954\n",
       "out 2013  0.012974052  0.038892551  0.0128378378\n",
       "nov 2013  0.006896552  0.014593909 -0.0006671114"
      ]
     },
     "metadata": {},
     "output_type": "display_data"
    }
   ],
   "source": [
    "head(Returns_monthly)"
   ]
  },
  {
   "cell_type": "code",
   "execution_count": 21,
   "metadata": {},
   "outputs": [
    {
     "data": {
      "text/html": [
       "<table>\n",
       "<thead><tr><th></th><th scope=col>FCI</th><th scope=col>GS_SC</th><th scope=col>MG_OI</th><th scope=col>PimcoGB</th><th scope=col>MFS_GE</th><th scope=col>JupiterDB</th><th scope=col>InvescoSC</th><th scope=col>PimcoIG</th></tr></thead>\n",
       "<tbody>\n",
       "\t<tr><th scope=row>FCI</th><td>1.00</td><td>0.70</td><td>0.14</td><td>0.19</td><td>0.69</td><td>0.07</td><td>0.51</td><td>0.17</td></tr>\n",
       "\t<tr><th scope=row>GS_SC</th><td>0.70</td><td>1.00</td><td>0.08</td><td>0.08</td><td>0.74</td><td>0.12</td><td>0.52</td><td>0.07</td></tr>\n",
       "\t<tr><th scope=row>MG_OI</th><td>0.14</td><td>0.08</td><td>1.00</td><td>0.21</td><td>0.05</td><td>0.21</td><td>0.28</td><td>0.24</td></tr>\n",
       "\t<tr><th scope=row>PimcoGB</th><td>0.19</td><td>0.08</td><td>0.21</td><td>1.00</td><td>0.10</td><td>0.22</td><td>0.12</td><td>0.88</td></tr>\n",
       "\t<tr><th scope=row>MFS_GE</th><td>0.69</td><td>0.74</td><td>0.05</td><td>0.10</td><td>1.00</td><td>0.04</td><td>0.29</td><td>0.07</td></tr>\n",
       "\t<tr><th scope=row>JupiterDB</th><td>0.07</td><td>0.12</td><td>0.21</td><td>0.22</td><td>0.04</td><td>1.00</td><td>0.13</td><td>0.13</td></tr>\n",
       "\t<tr><th scope=row>InvescoSC</th><td>0.51</td><td>0.52</td><td>0.28</td><td>0.12</td><td>0.29</td><td>0.13</td><td>1.00</td><td>0.19</td></tr>\n",
       "\t<tr><th scope=row>PimcoIG</th><td>0.17</td><td>0.07</td><td>0.24</td><td>0.88</td><td>0.07</td><td>0.13</td><td>0.19</td><td>1.00</td></tr>\n",
       "</tbody>\n",
       "</table>\n"
      ],
      "text/latex": [
       "\\begin{tabular}{r|llllllll}\n",
       "  & FCI & GS\\_SC & MG\\_OI & PimcoGB & MFS\\_GE & JupiterDB & InvescoSC & PimcoIG\\\\\n",
       "\\hline\n",
       "\tFCI & 1.00 & 0.70 & 0.14 & 0.19 & 0.69 & 0.07 & 0.51 & 0.17\\\\\n",
       "\tGS\\_SC & 0.70 & 1.00 & 0.08 & 0.08 & 0.74 & 0.12 & 0.52 & 0.07\\\\\n",
       "\tMG\\_OI & 0.14 & 0.08 & 1.00 & 0.21 & 0.05 & 0.21 & 0.28 & 0.24\\\\\n",
       "\tPimcoGB & 0.19 & 0.08 & 0.21 & 1.00 & 0.10 & 0.22 & 0.12 & 0.88\\\\\n",
       "\tMFS\\_GE & 0.69 & 0.74 & 0.05 & 0.10 & 1.00 & 0.04 & 0.29 & 0.07\\\\\n",
       "\tJupiterDB & 0.07 & 0.12 & 0.21 & 0.22 & 0.04 & 1.00 & 0.13 & 0.13\\\\\n",
       "\tInvescoSC & 0.51 & 0.52 & 0.28 & 0.12 & 0.29 & 0.13 & 1.00 & 0.19\\\\\n",
       "\tPimcoIG & 0.17 & 0.07 & 0.24 & 0.88 & 0.07 & 0.13 & 0.19 & 1.00\\\\\n",
       "\\end{tabular}\n"
      ],
      "text/markdown": [
       "\n",
       "| <!--/--> | FCI | GS_SC | MG_OI | PimcoGB | MFS_GE | JupiterDB | InvescoSC | PimcoIG | \n",
       "|---|---|---|---|---|---|---|---|\n",
       "| FCI | 1.00 | 0.70 | 0.14 | 0.19 | 0.69 | 0.07 | 0.51 | 0.17 | \n",
       "| GS_SC | 0.70 | 1.00 | 0.08 | 0.08 | 0.74 | 0.12 | 0.52 | 0.07 | \n",
       "| MG_OI | 0.14 | 0.08 | 1.00 | 0.21 | 0.05 | 0.21 | 0.28 | 0.24 | \n",
       "| PimcoGB | 0.19 | 0.08 | 0.21 | 1.00 | 0.10 | 0.22 | 0.12 | 0.88 | \n",
       "| MFS_GE | 0.69 | 0.74 | 0.05 | 0.10 | 1.00 | 0.04 | 0.29 | 0.07 | \n",
       "| JupiterDB | 0.07 | 0.12 | 0.21 | 0.22 | 0.04 | 1.00 | 0.13 | 0.13 | \n",
       "| InvescoSC | 0.51 | 0.52 | 0.28 | 0.12 | 0.29 | 0.13 | 1.00 | 0.19 | \n",
       "| PimcoIG | 0.17 | 0.07 | 0.24 | 0.88 | 0.07 | 0.13 | 0.19 | 1.00 | \n",
       "\n",
       "\n"
      ],
      "text/plain": [
       "          FCI  GS_SC MG_OI PimcoGB MFS_GE JupiterDB InvescoSC PimcoIG\n",
       "FCI       1.00 0.70  0.14  0.19    0.69   0.07      0.51      0.17   \n",
       "GS_SC     0.70 1.00  0.08  0.08    0.74   0.12      0.52      0.07   \n",
       "MG_OI     0.14 0.08  1.00  0.21    0.05   0.21      0.28      0.24   \n",
       "PimcoGB   0.19 0.08  0.21  1.00    0.10   0.22      0.12      0.88   \n",
       "MFS_GE    0.69 0.74  0.05  0.10    1.00   0.04      0.29      0.07   \n",
       "JupiterDB 0.07 0.12  0.21  0.22    0.04   1.00      0.13      0.13   \n",
       "InvescoSC 0.51 0.52  0.28  0.12    0.29   0.13      1.00      0.19   \n",
       "PimcoIG   0.17 0.07  0.24  0.88    0.07   0.13      0.19      1.00   "
      ]
     },
     "metadata": {},
     "output_type": "display_data"
    }
   ],
   "source": [
    "#colnames(Returns) <- Nomes\n",
    "Corr_Matrix <- round(cor(Returns),2)\n",
    "Corr_Matrix"
   ]
  },
  {
   "cell_type": "code",
   "execution_count": 22,
   "metadata": {
    "collapsed": true
   },
   "outputs": [],
   "source": [
    "# Exportar Matrix de correlação \n",
    "write.csv(as.data.frame(Corr_Matrix), 'Corr_Matrix.csv')"
   ]
  },
  {
   "cell_type": "code",
   "execution_count": 23,
   "metadata": {
    "collapsed": true
   },
   "outputs": [],
   "source": [
    "Preturns <- xts(apply(Portfolios, 2, FUN = Return.calculate),order.by = index(Portfolios))[-1, ]"
   ]
  },
  {
   "cell_type": "code",
   "execution_count": 24,
   "metadata": {},
   "outputs": [
    {
     "data": {
      "text/plain": [
       "             8Fundos DEF    8Fundos EW   8Fundos AGR\n",
       "2013-05-14  0.0016001600  0.0032990103  0.0053973013\n",
       "2013-05-15  0.0035946081  0.0061777601  0.0082513172\n",
       "2013-05-16  0.0006964481 -0.0005941771 -0.0025635969\n",
       "2013-05-17  0.0010936568  0.0028735632  0.0046461052\n",
       "2013-05-20 -0.0002979442  0.0001976089  0.0004919807\n",
       "2013-05-21 -0.0001986887  0.0000000000 -0.0005900865"
      ]
     },
     "metadata": {},
     "output_type": "display_data"
    }
   ],
   "source": [
    "head(Preturns)"
   ]
  },
  {
   "cell_type": "code",
   "execution_count": 25,
   "metadata": {
    "collapsed": true
   },
   "outputs": [],
   "source": [
    "DD_DEF <- table.Drawdowns(Preturns[, 1])\n",
    "DD_EW  <- table.Drawdowns(Preturns[, 2])\n",
    "DD_AGR <- table.Drawdowns(Preturns[, 3])"
   ]
  },
  {
   "cell_type": "code",
   "execution_count": 26,
   "metadata": {
    "collapsed": true
   },
   "outputs": [],
   "source": [
    "DD_DEF['Depth'] <- DD_DEF['Depth'] * 100\n",
    "DD_EW ['Depth'] <- DD_EW ['Depth'] * 100\n",
    "DD_AGR['Depth'] <- DD_AGR['Depth'] * 100"
   ]
  },
  {
   "cell_type": "code",
   "execution_count": 27,
   "metadata": {},
   "outputs": [
    {
     "data": {
      "text/html": [
       "<table>\n",
       "<thead><tr><th scope=col>From</th><th scope=col>Trough</th><th scope=col>To</th><th scope=col>Depth</th><th scope=col>Length</th><th scope=col>To Trough</th><th scope=col>Recovery</th></tr></thead>\n",
       "<tbody>\n",
       "\t<tr><td>2015-04-16</td><td>2016-02-11</td><td>2016-08-05</td><td>-9.29     </td><td>342       </td><td>216       </td><td>126       </td></tr>\n",
       "\t<tr><td>2013-05-20</td><td>2013-06-24</td><td>2013-11-14</td><td>-5.95     </td><td>129       </td><td> 26       </td><td>103       </td></tr>\n",
       "\t<tr><td>2014-09-08</td><td>2014-10-16</td><td>2014-11-06</td><td>-3.04     </td><td> 44       </td><td> 29       </td><td> 15       </td></tr>\n",
       "\t<tr><td>2014-12-08</td><td>2014-12-16</td><td>2014-12-23</td><td>-2.19     </td><td> 12       </td><td>  7       </td><td>  5       </td></tr>\n",
       "\t<tr><td>2016-09-08</td><td>2016-11-04</td><td>2016-12-09</td><td>-2.05     </td><td> 67       </td><td> 42       </td><td> 25       </td></tr>\n",
       "</tbody>\n",
       "</table>\n"
      ],
      "text/latex": [
       "\\begin{tabular}{r|lllllll}\n",
       " From & Trough & To & Depth & Length & To Trough & Recovery\\\\\n",
       "\\hline\n",
       "\t 2015-04-16 & 2016-02-11 & 2016-08-05 & -9.29      & 342        & 216        & 126       \\\\\n",
       "\t 2013-05-20 & 2013-06-24 & 2013-11-14 & -5.95      & 129        &  26        & 103       \\\\\n",
       "\t 2014-09-08 & 2014-10-16 & 2014-11-06 & -3.04      &  44        &  29        &  15       \\\\\n",
       "\t 2014-12-08 & 2014-12-16 & 2014-12-23 & -2.19      &  12        &   7        &   5       \\\\\n",
       "\t 2016-09-08 & 2016-11-04 & 2016-12-09 & -2.05      &  67        &  42        &  25       \\\\\n",
       "\\end{tabular}\n"
      ],
      "text/markdown": [
       "\n",
       "From | Trough | To | Depth | Length | To Trough | Recovery | \n",
       "|---|---|---|---|---|\n",
       "| 2015-04-16 | 2016-02-11 | 2016-08-05 | -9.29      | 342        | 216        | 126        | \n",
       "| 2013-05-20 | 2013-06-24 | 2013-11-14 | -5.95      | 129        |  26        | 103        | \n",
       "| 2014-09-08 | 2014-10-16 | 2014-11-06 | -3.04      |  44        |  29        |  15        | \n",
       "| 2014-12-08 | 2014-12-16 | 2014-12-23 | -2.19      |  12        |   7        |   5        | \n",
       "| 2016-09-08 | 2016-11-04 | 2016-12-09 | -2.05      |  67        |  42        |  25        | \n",
       "\n",
       "\n"
      ],
      "text/plain": [
       "  From       Trough     To         Depth Length To Trough Recovery\n",
       "1 2015-04-16 2016-02-11 2016-08-05 -9.29 342    216       126     \n",
       "2 2013-05-20 2013-06-24 2013-11-14 -5.95 129     26       103     \n",
       "3 2014-09-08 2014-10-16 2014-11-06 -3.04  44     29        15     \n",
       "4 2014-12-08 2014-12-16 2014-12-23 -2.19  12      7         5     \n",
       "5 2016-09-08 2016-11-04 2016-12-09 -2.05  67     42        25     "
      ]
     },
     "metadata": {},
     "output_type": "display_data"
    }
   ],
   "source": [
    "DD_DEF"
   ]
  },
  {
   "cell_type": "code",
   "execution_count": 28,
   "metadata": {},
   "outputs": [
    {
     "data": {
      "text/html": [
       "<table>\n",
       "<thead><tr><th scope=col>From</th><th scope=col>Trough</th><th scope=col>To</th><th scope=col>Depth</th><th scope=col>Length</th><th scope=col>To Trough</th><th scope=col>Recovery</th></tr></thead>\n",
       "<tbody>\n",
       "\t<tr><td>2015-04-14</td><td>2016-02-11</td><td>2016-12-07</td><td>-12.81    </td><td>432       </td><td>218       </td><td>214       </td></tr>\n",
       "\t<tr><td>2013-05-22</td><td>2013-06-24</td><td>2013-10-18</td><td> -6.51    </td><td>108       </td><td> 24       </td><td> 84       </td></tr>\n",
       "\t<tr><td>2014-09-09</td><td>2014-10-16</td><td>2014-11-06</td><td> -4.93    </td><td> 43       </td><td> 28       </td><td> 15       </td></tr>\n",
       "\t<tr><td>2014-12-08</td><td>2014-12-16</td><td>2014-12-23</td><td> -3.11    </td><td> 12       </td><td>  7       </td><td>  5       </td></tr>\n",
       "\t<tr><td>2017-06-21</td><td>2017-08-29</td><td>2017-10-13</td><td> -3.07    </td><td> 83       </td><td> 50       </td><td> 33       </td></tr>\n",
       "</tbody>\n",
       "</table>\n"
      ],
      "text/latex": [
       "\\begin{tabular}{r|lllllll}\n",
       " From & Trough & To & Depth & Length & To Trough & Recovery\\\\\n",
       "\\hline\n",
       "\t 2015-04-14 & 2016-02-11 & 2016-12-07 & -12.81     & 432        & 218        & 214       \\\\\n",
       "\t 2013-05-22 & 2013-06-24 & 2013-10-18 &  -6.51     & 108        &  24        &  84       \\\\\n",
       "\t 2014-09-09 & 2014-10-16 & 2014-11-06 &  -4.93     &  43        &  28        &  15       \\\\\n",
       "\t 2014-12-08 & 2014-12-16 & 2014-12-23 &  -3.11     &  12        &   7        &   5       \\\\\n",
       "\t 2017-06-21 & 2017-08-29 & 2017-10-13 &  -3.07     &  83        &  50        &  33       \\\\\n",
       "\\end{tabular}\n"
      ],
      "text/markdown": [
       "\n",
       "From | Trough | To | Depth | Length | To Trough | Recovery | \n",
       "|---|---|---|---|---|\n",
       "| 2015-04-14 | 2016-02-11 | 2016-12-07 | -12.81     | 432        | 218        | 214        | \n",
       "| 2013-05-22 | 2013-06-24 | 2013-10-18 |  -6.51     | 108        |  24        |  84        | \n",
       "| 2014-09-09 | 2014-10-16 | 2014-11-06 |  -4.93     |  43        |  28        |  15        | \n",
       "| 2014-12-08 | 2014-12-16 | 2014-12-23 |  -3.11     |  12        |   7        |   5        | \n",
       "| 2017-06-21 | 2017-08-29 | 2017-10-13 |  -3.07     |  83        |  50        |  33        | \n",
       "\n",
       "\n"
      ],
      "text/plain": [
       "  From       Trough     To         Depth  Length To Trough Recovery\n",
       "1 2015-04-14 2016-02-11 2016-12-07 -12.81 432    218       214     \n",
       "2 2013-05-22 2013-06-24 2013-10-18  -6.51 108     24        84     \n",
       "3 2014-09-09 2014-10-16 2014-11-06  -4.93  43     28        15     \n",
       "4 2014-12-08 2014-12-16 2014-12-23  -3.11  12      7         5     \n",
       "5 2017-06-21 2017-08-29 2017-10-13  -3.07  83     50        33     "
      ]
     },
     "metadata": {},
     "output_type": "display_data"
    }
   ],
   "source": [
    "DD_EW"
   ]
  },
  {
   "cell_type": "code",
   "execution_count": 29,
   "metadata": {},
   "outputs": [
    {
     "data": {
      "text/html": [
       "<table>\n",
       "<thead><tr><th scope=col>From</th><th scope=col>Trough</th><th scope=col>To</th><th scope=col>Depth</th><th scope=col>Length</th><th scope=col>To Trough</th><th scope=col>Recovery</th></tr></thead>\n",
       "<tbody>\n",
       "\t<tr><td>2015-04-14</td><td>2016-02-11</td><td>2016-12-08</td><td>-14.98    </td><td>433       </td><td>218       </td><td>215       </td></tr>\n",
       "\t<tr><td>2013-05-21</td><td>2013-06-24</td><td>2013-10-18</td><td> -7.11    </td><td>109       </td><td> 25       </td><td> 84       </td></tr>\n",
       "\t<tr><td>2014-09-09</td><td>2014-10-16</td><td>2014-10-31</td><td> -5.79    </td><td> 39       </td><td> 28       </td><td> 11       </td></tr>\n",
       "\t<tr><td>2017-06-20</td><td>2017-08-29</td><td>NA        </td><td> -4.35    </td><td> 92       </td><td> 51       </td><td> NA       </td></tr>\n",
       "\t<tr><td>2014-12-08</td><td>2014-12-16</td><td>2014-12-23</td><td> -3.78    </td><td> 12       </td><td>  7       </td><td>  5       </td></tr>\n",
       "</tbody>\n",
       "</table>\n"
      ],
      "text/latex": [
       "\\begin{tabular}{r|lllllll}\n",
       " From & Trough & To & Depth & Length & To Trough & Recovery\\\\\n",
       "\\hline\n",
       "\t 2015-04-14 & 2016-02-11 & 2016-12-08 & -14.98     & 433        & 218        & 215       \\\\\n",
       "\t 2013-05-21 & 2013-06-24 & 2013-10-18 &  -7.11     & 109        &  25        &  84       \\\\\n",
       "\t 2014-09-09 & 2014-10-16 & 2014-10-31 &  -5.79     &  39        &  28        &  11       \\\\\n",
       "\t 2017-06-20 & 2017-08-29 & NA         &  -4.35     &  92        &  51        &  NA       \\\\\n",
       "\t 2014-12-08 & 2014-12-16 & 2014-12-23 &  -3.78     &  12        &   7        &   5       \\\\\n",
       "\\end{tabular}\n"
      ],
      "text/markdown": [
       "\n",
       "From | Trough | To | Depth | Length | To Trough | Recovery | \n",
       "|---|---|---|---|---|\n",
       "| 2015-04-14 | 2016-02-11 | 2016-12-08 | -14.98     | 433        | 218        | 215        | \n",
       "| 2013-05-21 | 2013-06-24 | 2013-10-18 |  -7.11     | 109        |  25        |  84        | \n",
       "| 2014-09-09 | 2014-10-16 | 2014-10-31 |  -5.79     |  39        |  28        |  11        | \n",
       "| 2017-06-20 | 2017-08-29 | NA         |  -4.35     |  92        |  51        |  NA        | \n",
       "| 2014-12-08 | 2014-12-16 | 2014-12-23 |  -3.78     |  12        |   7        |   5        | \n",
       "\n",
       "\n"
      ],
      "text/plain": [
       "  From       Trough     To         Depth  Length To Trough Recovery\n",
       "1 2015-04-14 2016-02-11 2016-12-08 -14.98 433    218       215     \n",
       "2 2013-05-21 2013-06-24 2013-10-18  -7.11 109     25        84     \n",
       "3 2014-09-09 2014-10-16 2014-10-31  -5.79  39     28        11     \n",
       "4 2017-06-20 2017-08-29 <NA>        -4.35  92     51        NA     \n",
       "5 2014-12-08 2014-12-16 2014-12-23  -3.78  12      7         5     "
      ]
     },
     "metadata": {},
     "output_type": "display_data"
    }
   ],
   "source": [
    "DD_AGR"
   ]
  },
  {
   "cell_type": "code",
   "execution_count": 30,
   "metadata": {
    "collapsed": true
   },
   "outputs": [],
   "source": [
    "# Passar as tabelas de Drawdowns para .csv\n",
    "write.csv(as.data.frame(DD_DEF), 'DD_DEF.csv')\n",
    "write.csv(as.data.frame(DD_EW) , 'DD_EW.csv' )\n",
    "write.csv(as.data.frame(DD_AGR), 'DD_AGR.csv')"
   ]
  },
  {
   "cell_type": "code",
   "execution_count": 31,
   "metadata": {
    "collapsed": true
   },
   "outputs": [],
   "source": [
    "Nomes_fundos <- c('8Fundos DEF', '8Fundos EW', '8Fundos AGR')\n",
    "Portfolios.df <- data.frame(Portfolios)\n",
    "colnames(Portfolios.df) <- Nomes_fundos\n",
    "rownames(Portfolios.df) <- ymd(rownames(Portfolios.df))"
   ]
  },
  {
   "cell_type": "code",
   "execution_count": 32,
   "metadata": {},
   "outputs": [
    {
     "data": {
      "text/html": [
       "<table>\n",
       "<thead><tr><th></th><th scope=col>8Fundos DEF</th><th scope=col>8Fundos EW</th><th scope=col>8Fundos AGR</th></tr></thead>\n",
       "<tbody>\n",
       "\t<tr><th scope=row>2017-10-17</th><td>126.81</td><td>138.69</td><td>145.65</td></tr>\n",
       "\t<tr><th scope=row>2017-10-18</th><td>126.72</td><td>138.66</td><td>145.62</td></tr>\n",
       "\t<tr><th scope=row>2017-10-19</th><td>126.51</td><td>138.20</td><td>145.02</td></tr>\n",
       "\t<tr><th scope=row>2017-10-20</th><td>126.50</td><td>138.37</td><td>145.35</td></tr>\n",
       "\t<tr><th scope=row>2017-10-23</th><td>126.60</td><td>138.48</td><td>145.32</td></tr>\n",
       "\t<tr><th scope=row>2017-10-24</th><td>126.54</td><td>138.38</td><td>145.30</td></tr>\n",
       "</tbody>\n",
       "</table>\n"
      ],
      "text/latex": [
       "\\begin{tabular}{r|lll}\n",
       "  & 8Fundos DEF & 8Fundos EW & 8Fundos AGR\\\\\n",
       "\\hline\n",
       "\t2017-10-17 & 126.81 & 138.69 & 145.65\\\\\n",
       "\t2017-10-18 & 126.72 & 138.66 & 145.62\\\\\n",
       "\t2017-10-19 & 126.51 & 138.20 & 145.02\\\\\n",
       "\t2017-10-20 & 126.50 & 138.37 & 145.35\\\\\n",
       "\t2017-10-23 & 126.60 & 138.48 & 145.32\\\\\n",
       "\t2017-10-24 & 126.54 & 138.38 & 145.30\\\\\n",
       "\\end{tabular}\n"
      ],
      "text/markdown": [
       "\n",
       "| <!--/--> | 8Fundos DEF | 8Fundos EW | 8Fundos AGR | \n",
       "|---|---|---|---|---|---|\n",
       "| 2017-10-17 | 126.81 | 138.69 | 145.65 | \n",
       "| 2017-10-18 | 126.72 | 138.66 | 145.62 | \n",
       "| 2017-10-19 | 126.51 | 138.20 | 145.02 | \n",
       "| 2017-10-20 | 126.50 | 138.37 | 145.35 | \n",
       "| 2017-10-23 | 126.60 | 138.48 | 145.32 | \n",
       "| 2017-10-24 | 126.54 | 138.38 | 145.30 | \n",
       "\n",
       "\n"
      ],
      "text/plain": [
       "           8Fundos DEF 8Fundos EW 8Fundos AGR\n",
       "2017-10-17 126.81      138.69     145.65     \n",
       "2017-10-18 126.72      138.66     145.62     \n",
       "2017-10-19 126.51      138.20     145.02     \n",
       "2017-10-20 126.50      138.37     145.35     \n",
       "2017-10-23 126.60      138.48     145.32     \n",
       "2017-10-24 126.54      138.38     145.30     "
      ]
     },
     "metadata": {},
     "output_type": "display_data"
    }
   ],
   "source": [
    "tail(Portfolios.df)"
   ]
  },
  {
   "cell_type": "code",
   "execution_count": 33,
   "metadata": {
    "collapsed": true
   },
   "outputs": [],
   "source": [
    "filter.df.date <- function (df, years=0, months=0, days=0, previous.row=FALSE)\n",
    "{\n",
    "  last_date <- ymd(rownames(tail(df, 1)))\n",
    "  \n",
    "  year.nr  <- year(last_date)\n",
    "  month.nr <- month(last_date)\n",
    "  day.nr   <- day(last_date)\n",
    "  \n",
    "  if (month.nr == 1 & months != 0){\n",
    "    month.nr = 13\n",
    "  }\n",
    "  \n",
    "  if (day.nr == 1 & days != 0 & month.nr %in% c(1, 3, 5, 7, 8, 10, 12)){\n",
    "    day.nr = 31\n",
    "    month.nr = month.nr - 1\n",
    "  }\n",
    "  \n",
    "  if (day.nr == 1 & days != 0 & month.nr %in% c(4, 6, 9, 11)){\n",
    "    day.nr = 32\n",
    "    month.nr = month.nr - 1\n",
    "  }\n",
    "  \n",
    "  if (day.nr == 1 & days != 0 & month.nr %in% c(2)){\n",
    "    day.nr = 29\n",
    "    month.nr = month.nr - 1\n",
    "  }\n",
    "\n",
    "  new_date <- ymd(str_replace_all(paste(year.nr - years,'-',\n",
    "                                        month.nr - months, '-',\n",
    "                                        day.nr - days),\n",
    "                                  fixed(' '), ''))\n",
    "  \n",
    "  if (previous.row == TRUE){\n",
    "    new.df <- rbind(tail(subset(df, rownames(df) < new_date), 1),\n",
    "                    subset(df, rownames(df) >= new_date))\n",
    "    return(new.df)\n",
    "  }\n",
    "  \n",
    "  if (previous.row == FALSE){\n",
    "    return(subset(df, rownames(df) >= new_date))\n",
    "  }\n",
    "}"
   ]
  },
  {
   "cell_type": "code",
   "execution_count": 34,
   "metadata": {
    "collapsed": true
   },
   "outputs": [],
   "source": [
    "one_year.df  <- filter.df.date(Portfolios.df, years=1, previous.row=T)\n",
    "one_year.xts <- xts(one_year.df, order.by = ymd(rownames(one_year.df)))\n",
    "one_year.xts.ret <- xts(apply(one_year.xts, 2, FUN=Return.calculate), order.by = index(one_year.xts))[-1, ]"
   ]
  },
  {
   "cell_type": "code",
   "execution_count": 35,
   "metadata": {},
   "outputs": [
    {
     "data": {
      "text/html": [
       "<table>\n",
       "<thead><tr><th></th><th scope=col>8Fundos DEF</th><th scope=col>8Fundos EW</th><th scope=col>8Fundos AGR</th></tr></thead>\n",
       "<tbody>\n",
       "\t<tr><th scope=row>2016-10-21</th><td>121.02</td><td>129.01</td><td>134.58</td></tr>\n",
       "\t<tr><th scope=row>2016-10-24</th><td>121.06</td><td>129.10</td><td>134.77</td></tr>\n",
       "\t<tr><th scope=row>2016-10-25</th><td>120.93</td><td>128.86</td><td>134.32</td></tr>\n",
       "\t<tr><th scope=row>2016-10-26</th><td>120.52</td><td>128.31</td><td>133.74</td></tr>\n",
       "\t<tr><th scope=row>2016-10-27</th><td>120.14</td><td>127.90</td><td>133.32</td></tr>\n",
       "\t<tr><th scope=row>2016-10-28</th><td>120.02</td><td>127.75</td><td>133.16</td></tr>\n",
       "</tbody>\n",
       "</table>\n"
      ],
      "text/latex": [
       "\\begin{tabular}{r|lll}\n",
       "  & 8Fundos DEF & 8Fundos EW & 8Fundos AGR\\\\\n",
       "\\hline\n",
       "\t2016-10-21 & 121.02 & 129.01 & 134.58\\\\\n",
       "\t2016-10-24 & 121.06 & 129.10 & 134.77\\\\\n",
       "\t2016-10-25 & 120.93 & 128.86 & 134.32\\\\\n",
       "\t2016-10-26 & 120.52 & 128.31 & 133.74\\\\\n",
       "\t2016-10-27 & 120.14 & 127.90 & 133.32\\\\\n",
       "\t2016-10-28 & 120.02 & 127.75 & 133.16\\\\\n",
       "\\end{tabular}\n"
      ],
      "text/markdown": [
       "\n",
       "| <!--/--> | 8Fundos DEF | 8Fundos EW | 8Fundos AGR | \n",
       "|---|---|---|---|---|---|\n",
       "| 2016-10-21 | 121.02 | 129.01 | 134.58 | \n",
       "| 2016-10-24 | 121.06 | 129.10 | 134.77 | \n",
       "| 2016-10-25 | 120.93 | 128.86 | 134.32 | \n",
       "| 2016-10-26 | 120.52 | 128.31 | 133.74 | \n",
       "| 2016-10-27 | 120.14 | 127.90 | 133.32 | \n",
       "| 2016-10-28 | 120.02 | 127.75 | 133.16 | \n",
       "\n",
       "\n"
      ],
      "text/plain": [
       "           8Fundos DEF 8Fundos EW 8Fundos AGR\n",
       "2016-10-21 121.02      129.01     134.58     \n",
       "2016-10-24 121.06      129.10     134.77     \n",
       "2016-10-25 120.93      128.86     134.32     \n",
       "2016-10-26 120.52      128.31     133.74     \n",
       "2016-10-27 120.14      127.90     133.32     \n",
       "2016-10-28 120.02      127.75     133.16     "
      ]
     },
     "metadata": {},
     "output_type": "display_data"
    }
   ],
   "source": [
    "head(one_year.df)"
   ]
  },
  {
   "cell_type": "code",
   "execution_count": 36,
   "metadata": {
    "collapsed": true
   },
   "outputs": [],
   "source": [
    "cagr_one_year <- round((((tail(one_year.df, 1) / head(one_year.df, 1))) - 1) * 100, 2)\n",
    "rownames(cagr_one_year) <- 'CAGR'\n",
    "\n",
    "one_year_sd <- round(t(apply(one_year.xts.ret, 2, FUN=StdDev.annualized)) * 100, 2)\n",
    "one_year_sharpe <- cagr_one_year / one_year_sd"
   ]
  },
  {
   "cell_type": "code",
   "execution_count": 37,
   "metadata": {
    "collapsed": true
   },
   "outputs": [],
   "source": [
    "three_years.df  <- filter.df.date(Portfolios.df, years=3, previous.row=T)\n",
    "three_years.xts <- xts(three_years.df, order.by = ymd(rownames(three_years.df)))\n",
    "three_years.xts.ret <- xts(apply(three_years.xts, 2, FUN=Return.calculate), order.by = index(three_years.xts))[-1, ]"
   ]
  },
  {
   "cell_type": "code",
   "execution_count": 38,
   "metadata": {},
   "outputs": [
    {
     "data": {
      "text/html": [
       "<table>\n",
       "<thead><tr><th></th><th scope=col>8Fundos DEF</th><th scope=col>8Fundos EW</th><th scope=col>8Fundos AGR</th></tr></thead>\n",
       "<tbody>\n",
       "\t<tr><th scope=row>2014-10-23</th><td>106.82</td><td>109.64</td><td>111.45</td></tr>\n",
       "\t<tr><th scope=row>2014-10-24</th><td>106.97</td><td>109.85</td><td>111.58</td></tr>\n",
       "\t<tr><th scope=row>2014-10-27</th><td>106.88</td><td>109.72</td><td>111.48</td></tr>\n",
       "\t<tr><th scope=row>2014-10-28</th><td>107.11</td><td>110.08</td><td>112.06</td></tr>\n",
       "\t<tr><th scope=row>2014-10-29</th><td>107.29</td><td>110.45</td><td>112.48</td></tr>\n",
       "\t<tr><th scope=row>2014-10-30</th><td>107.56</td><td>110.83</td><td>113.10</td></tr>\n",
       "</tbody>\n",
       "</table>\n"
      ],
      "text/latex": [
       "\\begin{tabular}{r|lll}\n",
       "  & 8Fundos DEF & 8Fundos EW & 8Fundos AGR\\\\\n",
       "\\hline\n",
       "\t2014-10-23 & 106.82 & 109.64 & 111.45\\\\\n",
       "\t2014-10-24 & 106.97 & 109.85 & 111.58\\\\\n",
       "\t2014-10-27 & 106.88 & 109.72 & 111.48\\\\\n",
       "\t2014-10-28 & 107.11 & 110.08 & 112.06\\\\\n",
       "\t2014-10-29 & 107.29 & 110.45 & 112.48\\\\\n",
       "\t2014-10-30 & 107.56 & 110.83 & 113.10\\\\\n",
       "\\end{tabular}\n"
      ],
      "text/markdown": [
       "\n",
       "| <!--/--> | 8Fundos DEF | 8Fundos EW | 8Fundos AGR | \n",
       "|---|---|---|---|---|---|\n",
       "| 2014-10-23 | 106.82 | 109.64 | 111.45 | \n",
       "| 2014-10-24 | 106.97 | 109.85 | 111.58 | \n",
       "| 2014-10-27 | 106.88 | 109.72 | 111.48 | \n",
       "| 2014-10-28 | 107.11 | 110.08 | 112.06 | \n",
       "| 2014-10-29 | 107.29 | 110.45 | 112.48 | \n",
       "| 2014-10-30 | 107.56 | 110.83 | 113.10 | \n",
       "\n",
       "\n"
      ],
      "text/plain": [
       "           8Fundos DEF 8Fundos EW 8Fundos AGR\n",
       "2014-10-23 106.82      109.64     111.45     \n",
       "2014-10-24 106.97      109.85     111.58     \n",
       "2014-10-27 106.88      109.72     111.48     \n",
       "2014-10-28 107.11      110.08     112.06     \n",
       "2014-10-29 107.29      110.45     112.48     \n",
       "2014-10-30 107.56      110.83     113.10     "
      ]
     },
     "metadata": {},
     "output_type": "display_data"
    }
   ],
   "source": [
    "head(three_years.df)"
   ]
  },
  {
   "cell_type": "code",
   "execution_count": 39,
   "metadata": {
    "collapsed": true
   },
   "outputs": [],
   "source": [
    "cagr_three_years <- round((((tail(three_years.df, 1) / head(three_years.df, 1)) ^ (1/3)) - 1) * 100, 2)\n",
    "rownames(cagr_three_years) <- 'CAGR'\n",
    "\n",
    "three_years_sd <- round(t(apply(three_years.xts.ret, 2, FUN=StdDev.annualized)) * 100, 2)\n",
    "three_years_sharpe <- cagr_three_years / three_years_sd"
   ]
  },
  {
   "cell_type": "code",
   "execution_count": 40,
   "metadata": {
    "collapsed": true
   },
   "outputs": [],
   "source": [
    "five_years.df  <- filter.df.date(Portfolios.df, years=5, previous.row=T)\n",
    "five_years.xts <- xts(five_years.df, order.by = ymd(rownames(five_years.df)))\n",
    "five_years.xts.ret <- xts(apply(five_years.xts, 2, FUN=Return.calculate), order.by = index(five_years.xts))[-1, ]\n",
    "\n",
    "cagr_five_years <- round((((tail(five_years.df, 1) / head(five_years.df, 1)) ^ (1/5)) - 1) * 100, 2)\n",
    "rownames(cagr_five_years) <- 'CAGR'\n",
    "\n",
    "five_years_sd <- round(t(apply(five_years.xts.ret, 2, FUN=StdDev.annualized)) * 100, 2)\n",
    "five_years_sharpe <- cagr_five_years / five_years_sd"
   ]
  },
  {
   "cell_type": "code",
   "execution_count": 41,
   "metadata": {},
   "outputs": [
    {
     "data": {
      "text/html": [
       "<table>\n",
       "<thead><tr><th></th><th scope=col>8Fundos DEF</th><th scope=col>8Fundos EW</th><th scope=col>8Fundos AGR</th></tr></thead>\n",
       "<tbody>\n",
       "\t<tr><th scope=row>2013-05-13</th><td> 99.99</td><td>100.03</td><td>100.05</td></tr>\n",
       "\t<tr><th scope=row>2013-05-14</th><td>100.15</td><td>100.36</td><td>100.59</td></tr>\n",
       "\t<tr><th scope=row>2013-05-15</th><td>100.51</td><td>100.98</td><td>101.42</td></tr>\n",
       "\t<tr><th scope=row>2013-05-16</th><td>100.58</td><td>100.92</td><td>101.16</td></tr>\n",
       "\t<tr><th scope=row>2013-05-17</th><td>100.69</td><td>101.21</td><td>101.63</td></tr>\n",
       "\t<tr><th scope=row>2013-05-20</th><td>100.66</td><td>101.23</td><td>101.68</td></tr>\n",
       "</tbody>\n",
       "</table>\n"
      ],
      "text/latex": [
       "\\begin{tabular}{r|lll}\n",
       "  & 8Fundos DEF & 8Fundos EW & 8Fundos AGR\\\\\n",
       "\\hline\n",
       "\t2013-05-13 &  99.99 & 100.03 & 100.05\\\\\n",
       "\t2013-05-14 & 100.15 & 100.36 & 100.59\\\\\n",
       "\t2013-05-15 & 100.51 & 100.98 & 101.42\\\\\n",
       "\t2013-05-16 & 100.58 & 100.92 & 101.16\\\\\n",
       "\t2013-05-17 & 100.69 & 101.21 & 101.63\\\\\n",
       "\t2013-05-20 & 100.66 & 101.23 & 101.68\\\\\n",
       "\\end{tabular}\n"
      ],
      "text/markdown": [
       "\n",
       "| <!--/--> | 8Fundos DEF | 8Fundos EW | 8Fundos AGR | \n",
       "|---|---|---|---|---|---|\n",
       "| 2013-05-13 |  99.99 | 100.03 | 100.05 | \n",
       "| 2013-05-14 | 100.15 | 100.36 | 100.59 | \n",
       "| 2013-05-15 | 100.51 | 100.98 | 101.42 | \n",
       "| 2013-05-16 | 100.58 | 100.92 | 101.16 | \n",
       "| 2013-05-17 | 100.69 | 101.21 | 101.63 | \n",
       "| 2013-05-20 | 100.66 | 101.23 | 101.68 | \n",
       "\n",
       "\n"
      ],
      "text/plain": [
       "           8Fundos DEF 8Fundos EW 8Fundos AGR\n",
       "2013-05-13  99.99      100.03     100.05     \n",
       "2013-05-14 100.15      100.36     100.59     \n",
       "2013-05-15 100.51      100.98     101.42     \n",
       "2013-05-16 100.58      100.92     101.16     \n",
       "2013-05-17 100.69      101.21     101.63     \n",
       "2013-05-20 100.66      101.23     101.68     "
      ]
     },
     "metadata": {},
     "output_type": "display_data"
    }
   ],
   "source": [
    "head(five_years.df)"
   ]
  },
  {
   "cell_type": "code",
   "execution_count": 42,
   "metadata": {
    "collapsed": true
   },
   "outputs": [],
   "source": [
    "ten_years.df  <- filter.df.date(Portfolios.df, years=10, previous.row=T)\n",
    "ten_years.xts <- xts(ten_years.df, order.by = ymd(rownames(ten_years.df)))\n",
    "ten_years.xts.ret <- xts(apply(ten_years.xts, 2, FUN=Return.calculate), order.by = index(ten_years.xts))[-1, ]\n",
    "\n",
    "cagr_ten_years <- round((((tail(ten_years.df, 1) / head(ten_years.df, 1)) ^ (1/10)) - 1) * 100, 2)\n",
    "rownames(cagr_ten_years) <- 'CAGR'\n",
    "\n",
    "ten_years_sd <- round(t(apply(ten_years.xts.ret, 2, FUN=StdDev.annualized)) * 100, 2)\n",
    "ten_years_sharpe <- cagr_ten_years / ten_years_sd"
   ]
  },
  {
   "cell_type": "code",
   "execution_count": 43,
   "metadata": {},
   "outputs": [
    {
     "data": {
      "text/html": [
       "<table>\n",
       "<thead><tr><th></th><th scope=col>8Fundos DEF</th><th scope=col>8Fundos EW</th><th scope=col>8Fundos AGR</th></tr></thead>\n",
       "<tbody>\n",
       "\t<tr><th scope=row>2013-05-13</th><td> 99.99</td><td>100.03</td><td>100.05</td></tr>\n",
       "\t<tr><th scope=row>2013-05-14</th><td>100.15</td><td>100.36</td><td>100.59</td></tr>\n",
       "\t<tr><th scope=row>2013-05-15</th><td>100.51</td><td>100.98</td><td>101.42</td></tr>\n",
       "\t<tr><th scope=row>2013-05-16</th><td>100.58</td><td>100.92</td><td>101.16</td></tr>\n",
       "\t<tr><th scope=row>2013-05-17</th><td>100.69</td><td>101.21</td><td>101.63</td></tr>\n",
       "\t<tr><th scope=row>2013-05-20</th><td>100.66</td><td>101.23</td><td>101.68</td></tr>\n",
       "</tbody>\n",
       "</table>\n"
      ],
      "text/latex": [
       "\\begin{tabular}{r|lll}\n",
       "  & 8Fundos DEF & 8Fundos EW & 8Fundos AGR\\\\\n",
       "\\hline\n",
       "\t2013-05-13 &  99.99 & 100.03 & 100.05\\\\\n",
       "\t2013-05-14 & 100.15 & 100.36 & 100.59\\\\\n",
       "\t2013-05-15 & 100.51 & 100.98 & 101.42\\\\\n",
       "\t2013-05-16 & 100.58 & 100.92 & 101.16\\\\\n",
       "\t2013-05-17 & 100.69 & 101.21 & 101.63\\\\\n",
       "\t2013-05-20 & 100.66 & 101.23 & 101.68\\\\\n",
       "\\end{tabular}\n"
      ],
      "text/markdown": [
       "\n",
       "| <!--/--> | 8Fundos DEF | 8Fundos EW | 8Fundos AGR | \n",
       "|---|---|---|---|---|---|\n",
       "| 2013-05-13 |  99.99 | 100.03 | 100.05 | \n",
       "| 2013-05-14 | 100.15 | 100.36 | 100.59 | \n",
       "| 2013-05-15 | 100.51 | 100.98 | 101.42 | \n",
       "| 2013-05-16 | 100.58 | 100.92 | 101.16 | \n",
       "| 2013-05-17 | 100.69 | 101.21 | 101.63 | \n",
       "| 2013-05-20 | 100.66 | 101.23 | 101.68 | \n",
       "\n",
       "\n"
      ],
      "text/plain": [
       "           8Fundos DEF 8Fundos EW 8Fundos AGR\n",
       "2013-05-13  99.99      100.03     100.05     \n",
       "2013-05-14 100.15      100.36     100.59     \n",
       "2013-05-15 100.51      100.98     101.42     \n",
       "2013-05-16 100.58      100.92     101.16     \n",
       "2013-05-17 100.69      101.21     101.63     \n",
       "2013-05-20 100.66      101.23     101.68     "
      ]
     },
     "metadata": {},
     "output_type": "display_data"
    }
   ],
   "source": [
    "head(ten_years.df)"
   ]
  },
  {
   "cell_type": "code",
   "execution_count": 44,
   "metadata": {
    "collapsed": true
   },
   "outputs": [],
   "source": [
    "one_year_pt <- round(rbind(cagr_one_year, one_year_sd, one_year_sharpe), 2)\n",
    "rownames(one_year_pt) <- c('CAGR', 'Std.dev', 'Sharpe')"
   ]
  },
  {
   "cell_type": "code",
   "execution_count": 45,
   "metadata": {
    "collapsed": true
   },
   "outputs": [],
   "source": [
    "three_years_pt <- round(rbind(cagr_one_year, one_year_sd, one_year_sharpe), 2)\n",
    "rownames(one_year_pt) <- c('CAGR', 'Std.dev', 'Sharpe')"
   ]
  },
  {
   "cell_type": "code",
   "execution_count": 46,
   "metadata": {
    "collapsed": true
   },
   "outputs": [],
   "source": [
    "three_years_pt <- round(rbind(cagr_three_years, three_years_sd, three_years_sharpe), 2)\n",
    "rownames(three_years_pt) <- c('CAGR', 'Std.dev', 'Sharpe')"
   ]
  },
  {
   "cell_type": "code",
   "execution_count": 47,
   "metadata": {
    "collapsed": true
   },
   "outputs": [],
   "source": [
    "five_years_pt <- round(rbind(cagr_five_years, five_years_sd, five_years_sharpe), 2)\n",
    "rownames(five_years_pt) <- c('CAGR', 'Std.dev', 'Sharpe')"
   ]
  },
  {
   "cell_type": "code",
   "execution_count": 48,
   "metadata": {
    "collapsed": true
   },
   "outputs": [],
   "source": [
    "ten_years_pt <- round(rbind(cagr_ten_years, ten_years_sd, ten_years_sharpe), 2)\n",
    "rownames(ten_years_pt) <- c('CAGR', 'Std.dev', 'Sharpe')"
   ]
  },
  {
   "cell_type": "code",
   "execution_count": 49,
   "metadata": {
    "collapsed": true
   },
   "outputs": [],
   "source": [
    "# Passar as tabelas de performance para .csv\n",
    "write.csv(as.data.frame(one_year_pt), 'one_year_pt.csv')\n",
    "write.csv(as.data.frame(three_years_pt), 'three_years_pt.csv')\n",
    "write.csv(as.data.frame(five_years_pt), 'five_years_pt.csv')\n",
    "write.csv(as.data.frame(ten_years_pt), 'ten_years_pt.csv')"
   ]
  },
  {
   "cell_type": "code",
   "execution_count": 50,
   "metadata": {
    "collapsed": true
   },
   "outputs": [],
   "source": [
    "one_year_rolling <- round(data.frame(ROC(Portfolios.df, n = 262, type = \"discrete\") * 100), 2)\n",
    "colnames(one_year_rolling) <- Nomes_fundos"
   ]
  },
  {
   "cell_type": "code",
   "execution_count": 51,
   "metadata": {},
   "outputs": [
    {
     "data": {
      "text/html": [
       "<table>\n",
       "<thead><tr><th></th><th scope=col>8Fundos DEF</th><th scope=col>8Fundos EW</th><th scope=col>8Fundos AGR</th></tr></thead>\n",
       "<tbody>\n",
       "\t<tr><th scope=row>2017-10-17</th><td>5.55</td><td>8.51</td><td>9.29</td></tr>\n",
       "\t<tr><th scope=row>2017-10-18</th><td>5.51</td><td>8.63</td><td>9.53</td></tr>\n",
       "\t<tr><th scope=row>2017-10-19</th><td>5.06</td><td>7.88</td><td>8.57</td></tr>\n",
       "\t<tr><th scope=row>2017-10-20</th><td>4.82</td><td>7.68</td><td>8.48</td></tr>\n",
       "\t<tr><th scope=row>2017-10-23</th><td>4.77</td><td>7.57</td><td>8.26</td></tr>\n",
       "\t<tr><th scope=row>2017-10-24</th><td>4.56</td><td>7.26</td><td>7.97</td></tr>\n",
       "</tbody>\n",
       "</table>\n"
      ],
      "text/latex": [
       "\\begin{tabular}{r|lll}\n",
       "  & 8Fundos DEF & 8Fundos EW & 8Fundos AGR\\\\\n",
       "\\hline\n",
       "\t2017-10-17 & 5.55 & 8.51 & 9.29\\\\\n",
       "\t2017-10-18 & 5.51 & 8.63 & 9.53\\\\\n",
       "\t2017-10-19 & 5.06 & 7.88 & 8.57\\\\\n",
       "\t2017-10-20 & 4.82 & 7.68 & 8.48\\\\\n",
       "\t2017-10-23 & 4.77 & 7.57 & 8.26\\\\\n",
       "\t2017-10-24 & 4.56 & 7.26 & 7.97\\\\\n",
       "\\end{tabular}\n"
      ],
      "text/markdown": [
       "\n",
       "| <!--/--> | 8Fundos DEF | 8Fundos EW | 8Fundos AGR | \n",
       "|---|---|---|---|---|---|\n",
       "| 2017-10-17 | 5.55 | 8.51 | 9.29 | \n",
       "| 2017-10-18 | 5.51 | 8.63 | 9.53 | \n",
       "| 2017-10-19 | 5.06 | 7.88 | 8.57 | \n",
       "| 2017-10-20 | 4.82 | 7.68 | 8.48 | \n",
       "| 2017-10-23 | 4.77 | 7.57 | 8.26 | \n",
       "| 2017-10-24 | 4.56 | 7.26 | 7.97 | \n",
       "\n",
       "\n"
      ],
      "text/plain": [
       "           8Fundos DEF 8Fundos EW 8Fundos AGR\n",
       "2017-10-17 5.55        8.51       9.29       \n",
       "2017-10-18 5.51        8.63       9.53       \n",
       "2017-10-19 5.06        7.88       8.57       \n",
       "2017-10-20 4.82        7.68       8.48       \n",
       "2017-10-23 4.77        7.57       8.26       \n",
       "2017-10-24 4.56        7.26       7.97       "
      ]
     },
     "metadata": {},
     "output_type": "display_data"
    }
   ],
   "source": [
    "tail(one_year_rolling)"
   ]
  },
  {
   "cell_type": "code",
   "execution_count": 52,
   "metadata": {},
   "outputs": [
    {
     "data": {
      "text/html": [
       "<table>\n",
       "<thead><tr><th></th><th scope=col>8Fundos DEF</th><th scope=col>8Fundos EW</th><th scope=col>8Fundos AGR</th></tr></thead>\n",
       "<tbody>\n",
       "\t<tr><th scope=row>CAGR</th><td>4.56</td><td>7.26</td><td>7.97</td></tr>\n",
       "\t<tr><th scope=row>Std.dev</th><td>2.65</td><td>4.13</td><td>5.52</td></tr>\n",
       "\t<tr><th scope=row>Sharpe</th><td>1.72</td><td>1.76</td><td>1.44</td></tr>\n",
       "</tbody>\n",
       "</table>\n"
      ],
      "text/latex": [
       "\\begin{tabular}{r|lll}\n",
       "  & 8Fundos DEF & 8Fundos EW & 8Fundos AGR\\\\\n",
       "\\hline\n",
       "\tCAGR & 4.56 & 7.26 & 7.97\\\\\n",
       "\tStd.dev & 2.65 & 4.13 & 5.52\\\\\n",
       "\tSharpe & 1.72 & 1.76 & 1.44\\\\\n",
       "\\end{tabular}\n"
      ],
      "text/markdown": [
       "\n",
       "| <!--/--> | 8Fundos DEF | 8Fundos EW | 8Fundos AGR | \n",
       "|---|---|---|\n",
       "| CAGR | 4.56 | 7.26 | 7.97 | \n",
       "| Std.dev | 2.65 | 4.13 | 5.52 | \n",
       "| Sharpe | 1.72 | 1.76 | 1.44 | \n",
       "\n",
       "\n"
      ],
      "text/plain": [
       "        8Fundos DEF 8Fundos EW 8Fundos AGR\n",
       "CAGR    4.56        7.26       7.97       \n",
       "Std.dev 2.65        4.13       5.52       \n",
       "Sharpe  1.72        1.76       1.44       "
      ]
     },
     "metadata": {},
     "output_type": "display_data"
    }
   ],
   "source": [
    "one_year_pt"
   ]
  },
  {
   "cell_type": "code",
   "execution_count": 67,
   "metadata": {
    "collapsed": true
   },
   "outputs": [],
   "source": [
    "three_years_rolling <- data.frame(ROC(Portfolios.df, n = 261 * 3, type = \"discrete\"))\n",
    "three_years_rolling <- round(((((1 + three_years_rolling) ^ (1/3)) - 1 ) * 100), 2)\n",
    "colnames(three_years_rolling) <- Nomes_fundos"
   ]
  },
  {
   "cell_type": "code",
   "execution_count": 68,
   "metadata": {},
   "outputs": [
    {
     "data": {
      "text/html": [
       "<table>\n",
       "<thead><tr><th></th><th scope=col>8Fundos DEF</th><th scope=col>8Fundos EW</th><th scope=col>8Fundos AGR</th></tr></thead>\n",
       "<tbody>\n",
       "\t<tr><th scope=row>2017-10-17</th><td>6.48 </td><td>9.14 </td><td>10.60</td></tr>\n",
       "\t<tr><th scope=row>2017-10-18</th><td>6.25 </td><td>8.81 </td><td>10.20</td></tr>\n",
       "\t<tr><th scope=row>2017-10-19</th><td>6.13 </td><td>8.58 </td><td> 9.94</td></tr>\n",
       "\t<tr><th scope=row>2017-10-20</th><td>5.91 </td><td>8.28 </td><td> 9.53</td></tr>\n",
       "\t<tr><th scope=row>2017-10-23</th><td>5.88 </td><td>8.19 </td><td> 9.43</td></tr>\n",
       "\t<tr><th scope=row>2017-10-24</th><td>5.81 </td><td>8.07 </td><td> 9.24</td></tr>\n",
       "</tbody>\n",
       "</table>\n"
      ],
      "text/latex": [
       "\\begin{tabular}{r|lll}\n",
       "  & 8Fundos DEF & 8Fundos EW & 8Fundos AGR\\\\\n",
       "\\hline\n",
       "\t2017-10-17 & 6.48  & 9.14  & 10.60\\\\\n",
       "\t2017-10-18 & 6.25  & 8.81  & 10.20\\\\\n",
       "\t2017-10-19 & 6.13  & 8.58  &  9.94\\\\\n",
       "\t2017-10-20 & 5.91  & 8.28  &  9.53\\\\\n",
       "\t2017-10-23 & 5.88  & 8.19  &  9.43\\\\\n",
       "\t2017-10-24 & 5.81  & 8.07  &  9.24\\\\\n",
       "\\end{tabular}\n"
      ],
      "text/markdown": [
       "\n",
       "| <!--/--> | 8Fundos DEF | 8Fundos EW | 8Fundos AGR | \n",
       "|---|---|---|---|---|---|\n",
       "| 2017-10-17 | 6.48  | 9.14  | 10.60 | \n",
       "| 2017-10-18 | 6.25  | 8.81  | 10.20 | \n",
       "| 2017-10-19 | 6.13  | 8.58  |  9.94 | \n",
       "| 2017-10-20 | 5.91  | 8.28  |  9.53 | \n",
       "| 2017-10-23 | 5.88  | 8.19  |  9.43 | \n",
       "| 2017-10-24 | 5.81  | 8.07  |  9.24 | \n",
       "\n",
       "\n"
      ],
      "text/plain": [
       "           8Fundos DEF 8Fundos EW 8Fundos AGR\n",
       "2017-10-17 6.48        9.14       10.60      \n",
       "2017-10-18 6.25        8.81       10.20      \n",
       "2017-10-19 6.13        8.58        9.94      \n",
       "2017-10-20 5.91        8.28        9.53      \n",
       "2017-10-23 5.88        8.19        9.43      \n",
       "2017-10-24 5.81        8.07        9.24      "
      ]
     },
     "metadata": {},
     "output_type": "display_data"
    }
   ],
   "source": [
    "tail(three_years_rolling)"
   ]
  },
  {
   "cell_type": "code",
   "execution_count": 55,
   "metadata": {},
   "outputs": [
    {
     "data": {
      "text/html": [
       "<table>\n",
       "<thead><tr><th></th><th scope=col>8Fundos DEF</th><th scope=col>8Fundos EW</th><th scope=col>8Fundos AGR</th></tr></thead>\n",
       "<tbody>\n",
       "\t<tr><th scope=row>CAGR</th><td>5.81</td><td>8.07</td><td>9.24</td></tr>\n",
       "\t<tr><th scope=row>Std.dev</th><td>4.38</td><td>6.61</td><td>8.67</td></tr>\n",
       "\t<tr><th scope=row>Sharpe</th><td>1.33</td><td>1.22</td><td>1.07</td></tr>\n",
       "</tbody>\n",
       "</table>\n"
      ],
      "text/latex": [
       "\\begin{tabular}{r|lll}\n",
       "  & 8Fundos DEF & 8Fundos EW & 8Fundos AGR\\\\\n",
       "\\hline\n",
       "\tCAGR & 5.81 & 8.07 & 9.24\\\\\n",
       "\tStd.dev & 4.38 & 6.61 & 8.67\\\\\n",
       "\tSharpe & 1.33 & 1.22 & 1.07\\\\\n",
       "\\end{tabular}\n"
      ],
      "text/markdown": [
       "\n",
       "| <!--/--> | 8Fundos DEF | 8Fundos EW | 8Fundos AGR | \n",
       "|---|---|---|\n",
       "| CAGR | 5.81 | 8.07 | 9.24 | \n",
       "| Std.dev | 4.38 | 6.61 | 8.67 | \n",
       "| Sharpe | 1.33 | 1.22 | 1.07 | \n",
       "\n",
       "\n"
      ],
      "text/plain": [
       "        8Fundos DEF 8Fundos EW 8Fundos AGR\n",
       "CAGR    5.81        8.07       9.24       \n",
       "Std.dev 4.38        6.61       8.67       \n",
       "Sharpe  1.33        1.22       1.07       "
      ]
     },
     "metadata": {},
     "output_type": "display_data"
    }
   ],
   "source": [
    "three_years_pt"
   ]
  },
  {
   "cell_type": "code",
   "execution_count": 56,
   "metadata": {
    "collapsed": true
   },
   "outputs": [],
   "source": [
    "# write .csv of rolling returns per year\n",
    "write.csv(as.data.frame(one_year_rolling), 'one_year_rolling.csv')\n",
    "write.csv(as.data.frame(three_years_rolling), 'three_years_rolling.csv')"
   ]
  },
  {
   "cell_type": "code",
   "execution_count": 57,
   "metadata": {
    "collapsed": true
   },
   "outputs": [],
   "source": [
    "def_rolling <- cbind(one_year_rolling[, 1], three_years_rolling[, 1])\n",
    "years <- c('1 Ano', '3 Anos')\n",
    "colnames(def_rolling) <- years"
   ]
  },
  {
   "cell_type": "code",
   "execution_count": 58,
   "metadata": {},
   "outputs": [
    {
     "data": {
      "text/html": [
       "<table>\n",
       "<thead><tr><th></th><th scope=col>1 Ano</th><th scope=col>3 Anos</th></tr></thead>\n",
       "<tbody>\n",
       "\t<tr><th scope=row>2017-10-17</th><td>5.55</td><td>6.32</td></tr>\n",
       "\t<tr><th scope=row>2017-10-18</th><td>5.51</td><td>6.46</td></tr>\n",
       "\t<tr><th scope=row>2017-10-19</th><td>5.06</td><td>6.19</td></tr>\n",
       "\t<tr><th scope=row>2017-10-20</th><td>4.82</td><td>6.13</td></tr>\n",
       "\t<tr><th scope=row>2017-10-23</th><td>4.77</td><td>5.94</td></tr>\n",
       "\t<tr><th scope=row>2017-10-24</th><td>4.56</td><td>5.86</td></tr>\n",
       "</tbody>\n",
       "</table>\n"
      ],
      "text/latex": [
       "\\begin{tabular}{r|ll}\n",
       "  & 1 Ano & 3 Anos\\\\\n",
       "\\hline\n",
       "\t2017-10-17 & 5.55 & 6.32\\\\\n",
       "\t2017-10-18 & 5.51 & 6.46\\\\\n",
       "\t2017-10-19 & 5.06 & 6.19\\\\\n",
       "\t2017-10-20 & 4.82 & 6.13\\\\\n",
       "\t2017-10-23 & 4.77 & 5.94\\\\\n",
       "\t2017-10-24 & 4.56 & 5.86\\\\\n",
       "\\end{tabular}\n"
      ],
      "text/markdown": [
       "\n",
       "| <!--/--> | 1 Ano | 3 Anos | \n",
       "|---|---|---|---|---|---|\n",
       "| 2017-10-17 | 5.55 | 6.32 | \n",
       "| 2017-10-18 | 5.51 | 6.46 | \n",
       "| 2017-10-19 | 5.06 | 6.19 | \n",
       "| 2017-10-20 | 4.82 | 6.13 | \n",
       "| 2017-10-23 | 4.77 | 5.94 | \n",
       "| 2017-10-24 | 4.56 | 5.86 | \n",
       "\n",
       "\n"
      ],
      "text/plain": [
       "           1 Ano 3 Anos\n",
       "2017-10-17 5.55  6.32  \n",
       "2017-10-18 5.51  6.46  \n",
       "2017-10-19 5.06  6.19  \n",
       "2017-10-20 4.82  6.13  \n",
       "2017-10-23 4.77  5.94  \n",
       "2017-10-24 4.56  5.86  "
      ]
     },
     "metadata": {},
     "output_type": "display_data"
    }
   ],
   "source": [
    "tail(def_rolling)"
   ]
  },
  {
   "cell_type": "code",
   "execution_count": 59,
   "metadata": {
    "collapsed": true
   },
   "outputs": [],
   "source": [
    "ew_rolling <- cbind(one_year_rolling[, 2], three_years_rolling[, 2])\n",
    "colnames(ew_rolling) <- years"
   ]
  },
  {
   "cell_type": "code",
   "execution_count": 60,
   "metadata": {
    "collapsed": true
   },
   "outputs": [],
   "source": [
    "agr_rolling <- cbind(one_year_rolling[, 3], three_years_rolling[, 3])\n",
    "colnames(agr_rolling) <- years"
   ]
  },
  {
   "cell_type": "code",
   "execution_count": 61,
   "metadata": {
    "collapsed": true
   },
   "outputs": [],
   "source": [
    "# write .csv of rolling returns per portfolio\n",
    "write.csv(as.data.frame(def_rolling), 'def_rolling.csv')\n",
    "write.csv(as.data.frame(ew_rolling),  'ew_rolling.csv')\n",
    "write.csv(as.data.frame(agr_rolling), 'agr_rolling.csv')"
   ]
  },
  {
   "cell_type": "code",
   "execution_count": null,
   "metadata": {
    "collapsed": true
   },
   "outputs": [],
   "source": []
  },
  {
   "cell_type": "code",
   "execution_count": 62,
   "metadata": {
    "collapsed": true
   },
   "outputs": [],
   "source": [
    "today <-ymd('2017-10-04')\n",
    "dob   <-ymd('2007-04-23')"
   ]
  },
  {
   "cell_type": "code",
   "execution_count": 63,
   "metadata": {},
   "outputs": [
    {
     "data": {
      "text/html": [
       "10.4360902255639"
      ],
      "text/latex": [
       "10.4360902255639"
      ],
      "text/markdown": [
       "10.4360902255639"
      ],
      "text/plain": [
       "[1] 10.43609"
      ]
     },
     "metadata": {},
     "output_type": "display_data"
    }
   ],
   "source": [
    "as.numeric(difftime(today, dob, unit=\"weeks\"))/52.25"
   ]
  },
  {
   "cell_type": "code",
   "execution_count": 64,
   "metadata": {},
   "outputs": [
    {
     "data": {
      "text/html": [
       "<ol class=list-inline>\n",
       "\t<li>1162</li>\n",
       "\t<li>3</li>\n",
       "</ol>\n"
      ],
      "text/latex": [
       "\\begin{enumerate*}\n",
       "\\item 1162\n",
       "\\item 3\n",
       "\\end{enumerate*}\n"
      ],
      "text/markdown": [
       "1. 1162\n",
       "2. 3\n",
       "\n",
       "\n"
      ],
      "text/plain": [
       "[1] 1162    3"
      ]
     },
     "metadata": {},
     "output_type": "display_data"
    }
   ],
   "source": [
    "dim(one_year_rolling)"
   ]
  },
  {
   "cell_type": "code",
   "execution_count": 65,
   "metadata": {},
   "outputs": [
    {
     "data": {
      "text/html": [
       "261.400576368876"
      ],
      "text/latex": [
       "261.400576368876"
      ],
      "text/markdown": [
       "261.400576368876"
      ],
      "text/plain": [
       "[1] 261.4006"
      ]
     },
     "metadata": {},
     "output_type": "display_data"
    }
   ],
   "source": [
    "2728 / 10.4360902255639"
   ]
  },
  {
   "cell_type": "code",
   "execution_count": 66,
   "metadata": {},
   "outputs": [
    {
     "data": {
      "text/html": [
       "'data.frame'"
      ],
      "text/latex": [
       "'data.frame'"
      ],
      "text/markdown": [
       "'data.frame'"
      ],
      "text/plain": [
       "[1] \"data.frame\""
      ]
     },
     "metadata": {},
     "output_type": "display_data"
    }
   ],
   "source": [
    "class(one_year_rolling)"
   ]
  },
  {
   "cell_type": "code",
   "execution_count": null,
   "metadata": {
    "collapsed": true
   },
   "outputs": [],
   "source": []
  }
 ],
 "metadata": {
  "kernelspec": {
   "display_name": "R",
   "language": "R",
   "name": "ir"
  },
  "language_info": {
   "codemirror_mode": "r",
   "file_extension": ".r",
   "mimetype": "text/x-r-source",
   "name": "R",
   "pygments_lexer": "r",
   "version": "3.4.1"
  }
 },
 "nbformat": 4,
 "nbformat_minor": 2
}

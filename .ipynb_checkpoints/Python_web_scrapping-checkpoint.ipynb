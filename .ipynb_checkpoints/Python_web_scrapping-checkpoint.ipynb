{
  "nbformat": 4,
  "nbformat_minor": 0,
  "metadata": {
    "colab": {
      "name": "Python_web_scrapping.ipynb",
      "provenance": [],
      "collapsed_sections": []
    },
    "kernelspec": {
      "name": "python3",
      "display_name": "Python 3",
      "language": "python"
    }
  },
  "cells": [
    {
      "cell_type": "code",
      "metadata": {
        "id": "l7aMupsD0MGV"
      },
      "source": [
        "import requests\n",
        "import urllib.request\n",
        "import time\n",
        "from bs4 import BeautifulSoup\n",
        "import re\n",
        "\n",
        "import plotly.graph_objs as go\n",
        "import pandas as pd\n",
        "import PortfolioLab as pl\n",
        "import numpy as np\n",
        "\n",
        "from datetime import date\n",
        "\n",
        "today = date.today()"
      ],
      "execution_count": 1,
      "outputs": [
        {
          "output_type": "display_data",
          "data": {
            "text/html": "        <script type=\"text/javascript\">\n        window.PlotlyConfig = {MathJaxConfig: 'local'};\n        if (window.MathJax) {MathJax.Hub.Config({SVG: {font: \"STIX-Web\"}});}\n        if (typeof require !== 'undefined') {\n        require.undef(\"plotly\");\n        requirejs.config({\n            paths: {\n                'plotly': ['https://cdn.plot.ly/plotly-latest.min']\n            }\n        });\n        require(['plotly'], function(Plotly) {\n            window._Plotly = Plotly;\n        });\n        }\n        </script>\n        "
          },
          "metadata": {}
        },
        {
          "output_type": "display_data",
          "data": {
            "text/html": "        <script type=\"text/javascript\">\n        window.PlotlyConfig = {MathJaxConfig: 'local'};\n        if (window.MathJax) {MathJax.Hub.Config({SVG: {font: \"STIX-Web\"}});}\n        if (typeof require !== 'undefined') {\n        require.undef(\"plotly\");\n        requirejs.config({\n            paths: {\n                'plotly': ['https://cdn.plot.ly/plotly-latest.min']\n            }\n        });\n        require(['plotly'], function(Plotly) {\n            window._Plotly = Plotly;\n        });\n        }\n        </script>\n        "
          },
          "metadata": {}
        }
      ]
    },
    {
      "cell_type": "code",
      "metadata": {
        "id": "2GalJq5K1VeX"
      },
      "source": [
        "def web_scrap(url, tag, start='', end='', get_tag='',\n",
        "              data_type='', print_all_tags=False,\n",
        "              date_format='%d-%m-%Y'):\n",
        "    response = requests.get(url)\n",
        "    soup = BeautifulSoup(response.text, 'html.parser')\n",
        "    if print_all_tags==True:\n",
        "        x=0\n",
        "        for value in soup.findAll(tag):\n",
        "            print(value)\n",
        "            print(x)\n",
        "            x=x+1\n",
        "    elif print_all_tags==False:\n",
        "        mil = str(soup.findAll(tag)[get_tag])\n",
        "        start = start\n",
        "        end = end\n",
        "        value_str = mil[mil.find(start)+len(start):mil.rfind(end)]\n",
        "        value_str_point = value_str.replace(',', '.')\n",
        "        \n",
        "        if data_type=='numeric':\n",
        "            return float(value_str_point)\n",
        "        if data_type=='date':\n",
        "            return pd.to_datetime(value_str_point, format=date_format)\n",
        "        else:\n",
        "            return value_str"
      ],
      "execution_count": 2,
      "outputs": []
    },
    {
      "cell_type": "markdown",
      "metadata": {
        "id": "TgbfCbCuk8Be"
      },
      "source": [
        "# Morningstar Webscraping"
      ]
    },
    {
      "cell_type": "code",
      "metadata": {
        "colab": {
          "base_uri": "https://localhost:8080/",
          "height": 609
        },
        "id": "kud1vgEVrS6f",
        "outputId": "69a4fbf3-8632-4dbf-b288-9203420c277d"
      },
      "source": [
        "df_total_old = pd.read_excel('AUMs.xlsx')\n",
        "df_total_old"
      ],
      "execution_count": 4,
      "outputs": [
        {
          "output_type": "execute_result",
          "data": {
            "text/plain": [
              "         Date  F00000T1HT  F000000FH0  F000016BE5  F000016BE6  F000016BE4  F0GBR057ZA  F0GBR04EAN  F000000RLR  F0GBR06T61  ...  F0GBR06FVK  F0GBR06IIX  0P0000MLIH  0P0000Y2A1  0P0001LAZ3  0P0001LAYY  0P0001LAZ2  0P0001LAZ1  0P00014G97  0P0000YXJQ\n",
              "0  2021-01-29         nan         nan         nan         nan         nan         nan         nan         nan   16,291.56  ...         nan         nan         nan         nan         nan         nan         nan         nan         nan         nan\n",
              "1  2021-01-31         nan         nan         nan         nan         nan         nan    1,339.07    1,565.95         nan  ...         nan         nan         nan         nan         nan         nan         nan         nan         nan         nan\n",
              "2  2021-02-15         nan         nan         nan        1.27         nan      118.07         nan         nan         nan  ...         nan         nan         nan         nan         nan         nan         nan         nan         nan         nan\n",
              "3  2021-02-16   20,690.24      637.38        1.03        1.30        0.35      118.15         nan         nan         nan  ...    3,851.79    6,430.69   32,852.57    3,835.72         nan         nan         nan         nan         nan         nan\n",
              "4  2021-02-17   20,675.51      626.47        1.04        1.35        0.35      118.06         nan         nan         nan  ...    3,808.88    6,426.67         nan         nan        9.78        9.98       16.45       17.04    2,591.14         nan\n",
              "..        ...         ...         ...         ...         ...         ...         ...         ...         ...         ...  ...         ...         ...         ...         ...         ...         ...         ...         ...         ...         ...\n",
              "17 2021-03-11   20,611.75      640.78        1.41         nan        0.51         nan         nan         nan         nan  ...    3,593.87         nan   33,903.77    3,576.22       13.66       13.20       21.80       23.87    2,444.57    2,780.47\n",
              "18 2021-03-12         nan         nan        1.40        1.74        0.51      120.47         nan         nan         nan  ...         nan    6,056.23   33,916.53    3,587.63         nan         nan         nan         nan    2,427.52         nan\n",
              "19 2021-03-15   20,467.98      650.90         nan         nan         nan         nan         nan         nan         nan  ...    3,624.92    6,007.59         nan         nan       13.64       13.21       21.86       23.98         nan    2,737.11\n",
              "20 2021-03-29         nan         nan         nan        1.93         nan      122.39         nan         nan         nan  ...         nan         nan         nan         nan         nan         nan         nan         nan         nan         nan\n",
              "21 2021-03-30   20,324.80      657.33        1.54         nan        0.53         nan         nan         nan         nan  ...    3,616.79    5,948.61   34,201.45    3,536.31       14.63       14.26       24.07       28.48    2,425.65    2,689.38\n",
              "\n",
              "[22 rows x 23 columns]"
            ],
            "text/html": "<div>\n<style scoped>\n    .dataframe tbody tr th:only-of-type {\n        vertical-align: middle;\n    }\n\n    .dataframe tbody tr th {\n        vertical-align: top;\n    }\n\n    .dataframe thead th {\n        text-align: right;\n    }\n</style>\n<table border=\"1\" class=\"dataframe\">\n  <thead>\n    <tr style=\"text-align: right;\">\n      <th></th>\n      <th>Date</th>\n      <th>F00000T1HT</th>\n      <th>F000000FH0</th>\n      <th>F000016BE5</th>\n      <th>F000016BE6</th>\n      <th>F000016BE4</th>\n      <th>F0GBR057ZA</th>\n      <th>F0GBR04EAN</th>\n      <th>F000000RLR</th>\n      <th>F0GBR06T61</th>\n      <th>...</th>\n      <th>F0GBR06FVK</th>\n      <th>F0GBR06IIX</th>\n      <th>0P0000MLIH</th>\n      <th>0P0000Y2A1</th>\n      <th>0P0001LAZ3</th>\n      <th>0P0001LAYY</th>\n      <th>0P0001LAZ2</th>\n      <th>0P0001LAZ1</th>\n      <th>0P00014G97</th>\n      <th>0P0000YXJQ</th>\n    </tr>\n  </thead>\n  <tbody>\n    <tr>\n      <th>0</th>\n      <td>2021-01-29</td>\n      <td>nan</td>\n      <td>nan</td>\n      <td>nan</td>\n      <td>nan</td>\n      <td>nan</td>\n      <td>nan</td>\n      <td>nan</td>\n      <td>nan</td>\n      <td>16,291.56</td>\n      <td>...</td>\n      <td>nan</td>\n      <td>nan</td>\n      <td>nan</td>\n      <td>nan</td>\n      <td>nan</td>\n      <td>nan</td>\n      <td>nan</td>\n      <td>nan</td>\n      <td>nan</td>\n      <td>nan</td>\n    </tr>\n    <tr>\n      <th>1</th>\n      <td>2021-01-31</td>\n      <td>nan</td>\n      <td>nan</td>\n      <td>nan</td>\n      <td>nan</td>\n      <td>nan</td>\n      <td>nan</td>\n      <td>1,339.07</td>\n      <td>1,565.95</td>\n      <td>nan</td>\n      <td>...</td>\n      <td>nan</td>\n      <td>nan</td>\n      <td>nan</td>\n      <td>nan</td>\n      <td>nan</td>\n      <td>nan</td>\n      <td>nan</td>\n      <td>nan</td>\n      <td>nan</td>\n      <td>nan</td>\n    </tr>\n    <tr>\n      <th>2</th>\n      <td>2021-02-15</td>\n      <td>nan</td>\n      <td>nan</td>\n      <td>nan</td>\n      <td>1.27</td>\n      <td>nan</td>\n      <td>118.07</td>\n      <td>nan</td>\n      <td>nan</td>\n      <td>nan</td>\n      <td>...</td>\n      <td>nan</td>\n      <td>nan</td>\n      <td>nan</td>\n      <td>nan</td>\n      <td>nan</td>\n      <td>nan</td>\n      <td>nan</td>\n      <td>nan</td>\n      <td>nan</td>\n      <td>nan</td>\n    </tr>\n    <tr>\n      <th>3</th>\n      <td>2021-02-16</td>\n      <td>20,690.24</td>\n      <td>637.38</td>\n      <td>1.03</td>\n      <td>1.30</td>\n      <td>0.35</td>\n      <td>118.15</td>\n      <td>nan</td>\n      <td>nan</td>\n      <td>nan</td>\n      <td>...</td>\n      <td>3,851.79</td>\n      <td>6,430.69</td>\n      <td>32,852.57</td>\n      <td>3,835.72</td>\n      <td>nan</td>\n      <td>nan</td>\n      <td>nan</td>\n      <td>nan</td>\n      <td>nan</td>\n      <td>nan</td>\n    </tr>\n    <tr>\n      <th>4</th>\n      <td>2021-02-17</td>\n      <td>20,675.51</td>\n      <td>626.47</td>\n      <td>1.04</td>\n      <td>1.35</td>\n      <td>0.35</td>\n      <td>118.06</td>\n      <td>nan</td>\n      <td>nan</td>\n      <td>nan</td>\n      <td>...</td>\n      <td>3,808.88</td>\n      <td>6,426.67</td>\n      <td>nan</td>\n      <td>nan</td>\n      <td>9.78</td>\n      <td>9.98</td>\n      <td>16.45</td>\n      <td>17.04</td>\n      <td>2,591.14</td>\n      <td>nan</td>\n    </tr>\n    <tr>\n      <th>...</th>\n      <td>...</td>\n      <td>...</td>\n      <td>...</td>\n      <td>...</td>\n      <td>...</td>\n      <td>...</td>\n      <td>...</td>\n      <td>...</td>\n      <td>...</td>\n      <td>...</td>\n      <td>...</td>\n      <td>...</td>\n      <td>...</td>\n      <td>...</td>\n      <td>...</td>\n      <td>...</td>\n      <td>...</td>\n      <td>...</td>\n      <td>...</td>\n      <td>...</td>\n      <td>...</td>\n    </tr>\n    <tr>\n      <th>17</th>\n      <td>2021-03-11</td>\n      <td>20,611.75</td>\n      <td>640.78</td>\n      <td>1.41</td>\n      <td>nan</td>\n      <td>0.51</td>\n      <td>nan</td>\n      <td>nan</td>\n      <td>nan</td>\n      <td>nan</td>\n      <td>...</td>\n      <td>3,593.87</td>\n      <td>nan</td>\n      <td>33,903.77</td>\n      <td>3,576.22</td>\n      <td>13.66</td>\n      <td>13.20</td>\n      <td>21.80</td>\n      <td>23.87</td>\n      <td>2,444.57</td>\n      <td>2,780.47</td>\n    </tr>\n    <tr>\n      <th>18</th>\n      <td>2021-03-12</td>\n      <td>nan</td>\n      <td>nan</td>\n      <td>1.40</td>\n      <td>1.74</td>\n      <td>0.51</td>\n      <td>120.47</td>\n      <td>nan</td>\n      <td>nan</td>\n      <td>nan</td>\n      <td>...</td>\n      <td>nan</td>\n      <td>6,056.23</td>\n      <td>33,916.53</td>\n      <td>3,587.63</td>\n      <td>nan</td>\n      <td>nan</td>\n      <td>nan</td>\n      <td>nan</td>\n      <td>2,427.52</td>\n      <td>nan</td>\n    </tr>\n    <tr>\n      <th>19</th>\n      <td>2021-03-15</td>\n      <td>20,467.98</td>\n      <td>650.90</td>\n      <td>nan</td>\n      <td>nan</td>\n      <td>nan</td>\n      <td>nan</td>\n      <td>nan</td>\n      <td>nan</td>\n      <td>nan</td>\n      <td>...</td>\n      <td>3,624.92</td>\n      <td>6,007.59</td>\n      <td>nan</td>\n      <td>nan</td>\n      <td>13.64</td>\n      <td>13.21</td>\n      <td>21.86</td>\n      <td>23.98</td>\n      <td>nan</td>\n      <td>2,737.11</td>\n    </tr>\n    <tr>\n      <th>20</th>\n      <td>2021-03-29</td>\n      <td>nan</td>\n      <td>nan</td>\n      <td>nan</td>\n      <td>1.93</td>\n      <td>nan</td>\n      <td>122.39</td>\n      <td>nan</td>\n      <td>nan</td>\n      <td>nan</td>\n      <td>...</td>\n      <td>nan</td>\n      <td>nan</td>\n      <td>nan</td>\n      <td>nan</td>\n      <td>nan</td>\n      <td>nan</td>\n      <td>nan</td>\n      <td>nan</td>\n      <td>nan</td>\n      <td>nan</td>\n    </tr>\n    <tr>\n      <th>21</th>\n      <td>2021-03-30</td>\n      <td>20,324.80</td>\n      <td>657.33</td>\n      <td>1.54</td>\n      <td>nan</td>\n      <td>0.53</td>\n      <td>nan</td>\n      <td>nan</td>\n      <td>nan</td>\n      <td>nan</td>\n      <td>...</td>\n      <td>3,616.79</td>\n      <td>5,948.61</td>\n      <td>34,201.45</td>\n      <td>3,536.31</td>\n      <td>14.63</td>\n      <td>14.26</td>\n      <td>24.07</td>\n      <td>28.48</td>\n      <td>2,425.65</td>\n      <td>2,689.38</td>\n    </tr>\n  </tbody>\n</table>\n<p>22 rows × 23 columns</p>\n</div>"
          },
          "metadata": {},
          "execution_count": 4
        }
      ]
    },
    {
      "cell_type": "code",
      "metadata": {
        "colab": {
          "base_uri": "https://localhost:8080/",
          "height": 517
        },
        "id": "M-7UxWbe18yU",
        "outputId": "d1a9e315-f8b4-45e8-9f74-34d658ac9f74"
      },
      "source": [
        "SMART_AUMs = df_total_old[['Date','F000016BE4', 'F000016BE6', 'F000016BE5']].ffill().dropna().groupby('Date').last()\n",
        "SMART_AUMs.columns=['Conservador', 'Moderado', 'Dinâmico']\n",
        "pl.ichart(SMART_AUMs, yticksuffix='M', title='Assets Under Management SMART PPR', yTitle='Em Milhões de Euros')"
      ],
      "execution_count": 5,
      "outputs": [
        {
          "output_type": "display_data",
          "data": {
            "text/html": "<html>\n<head><meta charset=\"utf-8\" /></head>\n<body>\n    <div>            <script src=\"https://cdnjs.cloudflare.com/ajax/libs/mathjax/2.7.5/MathJax.js?config=TeX-AMS-MML_SVG\"></script><script type=\"text/javascript\">if (window.MathJax) {MathJax.Hub.Config({SVG: {font: \"STIX-Web\"}});}</script>                <script type=\"text/javascript\">window.PlotlyConfig = {MathJaxConfig: 'local'};</script>\n        <script src=\"https://cdn.plot.ly/plotly-latest.min.js\"></script>                <div id=\"7dc52c3a-6d0f-4a46-aba4-4211b7242d9a\" class=\"plotly-graph-div\" style=\"height:500px; width:950px;\"></div>            <script type=\"text/javascript\">                                    window.PLOTLYENV=window.PLOTLYENV || {};                                    if (document.getElementById(\"7dc52c3a-6d0f-4a46-aba4-4211b7242d9a\")) {                    Plotly.newPlot(                        \"7dc52c3a-6d0f-4a46-aba4-4211b7242d9a\",                        [{\"line\": {\"color\": \"royalblue\", \"width\": 1.3}, \"mode\": \"lines\", \"name\": \"Conservador\", \"type\": \"scatter\", \"x\": [\"2021-02-16T00:00:00\", \"2021-02-17T00:00:00\", \"2021-02-18T00:00:00\", \"2021-02-19T00:00:00\", \"2021-02-22T00:00:00\", \"2021-02-23T00:00:00\", \"2021-02-25T00:00:00\", \"2021-02-26T00:00:00\", \"2021-02-28T00:00:00\", \"2021-03-01T00:00:00\", \"2021-03-02T00:00:00\", \"2021-03-03T00:00:00\", \"2021-03-04T00:00:00\", \"2021-03-10T00:00:00\", \"2021-03-11T00:00:00\", \"2021-03-12T00:00:00\", \"2021-03-15T00:00:00\", \"2021-03-29T00:00:00\", \"2021-03-30T00:00:00\"], \"y\": [0.35, 0.35, 0.42, 0.42, 0.42, 0.42, 0.43, 0.44, 0.44, 0.44, 0.45, 0.47, 0.47, 0.47, 0.51, 0.51, 0.51, 0.51, 0.53]}, {\"line\": {\"color\": \"darkorange\", \"width\": 1.3}, \"mode\": \"lines\", \"name\": \"Moderado\", \"type\": \"scatter\", \"x\": [\"2021-02-16T00:00:00\", \"2021-02-17T00:00:00\", \"2021-02-18T00:00:00\", \"2021-02-19T00:00:00\", \"2021-02-22T00:00:00\", \"2021-02-23T00:00:00\", \"2021-02-25T00:00:00\", \"2021-02-26T00:00:00\", \"2021-02-28T00:00:00\", \"2021-03-01T00:00:00\", \"2021-03-02T00:00:00\", \"2021-03-03T00:00:00\", \"2021-03-04T00:00:00\", \"2021-03-10T00:00:00\", \"2021-03-11T00:00:00\", \"2021-03-12T00:00:00\", \"2021-03-15T00:00:00\", \"2021-03-29T00:00:00\", \"2021-03-30T00:00:00\"], \"y\": [1.3, 1.35, 1.35, 1.38, 1.38, 1.38, 1.52, 1.52, 1.52, 1.52, 1.59, 1.63, 1.63, 1.71, 1.71, 1.74, 1.74, 1.93, 1.93]}, {\"line\": {\"color\": \"dimgrey\", \"width\": 1.3}, \"mode\": \"lines\", \"name\": \"Din\\u00e2mico\", \"type\": \"scatter\", \"x\": [\"2021-02-16T00:00:00\", \"2021-02-17T00:00:00\", \"2021-02-18T00:00:00\", \"2021-02-19T00:00:00\", \"2021-02-22T00:00:00\", \"2021-02-23T00:00:00\", \"2021-02-25T00:00:00\", \"2021-02-26T00:00:00\", \"2021-02-28T00:00:00\", \"2021-03-01T00:00:00\", \"2021-03-02T00:00:00\", \"2021-03-03T00:00:00\", \"2021-03-04T00:00:00\", \"2021-03-10T00:00:00\", \"2021-03-11T00:00:00\", \"2021-03-12T00:00:00\", \"2021-03-15T00:00:00\", \"2021-03-29T00:00:00\", \"2021-03-30T00:00:00\"], \"y\": [1.03, 1.04, 1.05, 1.06, 1.06, 1.06, 1.25, 1.27, 1.27, 1.27, 1.29, 1.3, 1.3, 1.3, 1.41, 1.4, 1.4, 1.4, 1.54]}],                        {\"annotations\": [{\"font\": {\"color\": \"rgb(150,150,150)\", \"family\": \"Arial\", \"size\": 12}, \"showarrow\": false, \"text\": \"\", \"x\": 0.5, \"xanchor\": \"center\", \"xref\": \"paper\", \"y\": \"-0.125\", \"yanchor\": \"top\", \"yref\": \"paper\"}], \"height\": 500, \"hovermode\": \"x\", \"paper_bgcolor\": \"#F5F6F9\", \"plot_bgcolor\": \"#F5F6F9\", \"showlegend\": true, \"template\": {\"data\": {\"bar\": [{\"error_x\": {\"color\": \"#2a3f5f\"}, \"error_y\": {\"color\": \"#2a3f5f\"}, \"marker\": {\"line\": {\"color\": \"#E5ECF6\", \"width\": 0.5}}, \"type\": \"bar\"}], \"barpolar\": [{\"marker\": {\"line\": {\"color\": \"#E5ECF6\", \"width\": 0.5}}, \"type\": \"barpolar\"}], \"carpet\": [{\"aaxis\": {\"endlinecolor\": \"#2a3f5f\", \"gridcolor\": \"white\", \"linecolor\": \"white\", \"minorgridcolor\": \"white\", \"startlinecolor\": \"#2a3f5f\"}, \"baxis\": {\"endlinecolor\": \"#2a3f5f\", \"gridcolor\": \"white\", \"linecolor\": \"white\", \"minorgridcolor\": \"white\", \"startlinecolor\": \"#2a3f5f\"}, \"type\": \"carpet\"}], \"choropleth\": [{\"colorbar\": {\"outlinewidth\": 0, \"ticks\": \"\"}, \"type\": \"choropleth\"}], \"contour\": [{\"colorbar\": {\"outlinewidth\": 0, \"ticks\": \"\"}, \"colorscale\": [[0.0, \"#0d0887\"], [0.1111111111111111, \"#46039f\"], [0.2222222222222222, \"#7201a8\"], [0.3333333333333333, \"#9c179e\"], [0.4444444444444444, \"#bd3786\"], [0.5555555555555556, \"#d8576b\"], [0.6666666666666666, \"#ed7953\"], [0.7777777777777778, \"#fb9f3a\"], [0.8888888888888888, \"#fdca26\"], [1.0, \"#f0f921\"]], \"type\": \"contour\"}], \"contourcarpet\": [{\"colorbar\": {\"outlinewidth\": 0, \"ticks\": \"\"}, \"type\": \"contourcarpet\"}], \"heatmap\": [{\"colorbar\": {\"outlinewidth\": 0, \"ticks\": \"\"}, \"colorscale\": [[0.0, \"#0d0887\"], [0.1111111111111111, \"#46039f\"], [0.2222222222222222, \"#7201a8\"], [0.3333333333333333, \"#9c179e\"], [0.4444444444444444, \"#bd3786\"], [0.5555555555555556, \"#d8576b\"], [0.6666666666666666, \"#ed7953\"], [0.7777777777777778, \"#fb9f3a\"], [0.8888888888888888, \"#fdca26\"], [1.0, \"#f0f921\"]], \"type\": \"heatmap\"}], \"heatmapgl\": [{\"colorbar\": {\"outlinewidth\": 0, \"ticks\": \"\"}, \"colorscale\": [[0.0, \"#0d0887\"], [0.1111111111111111, \"#46039f\"], [0.2222222222222222, \"#7201a8\"], [0.3333333333333333, \"#9c179e\"], [0.4444444444444444, \"#bd3786\"], [0.5555555555555556, \"#d8576b\"], [0.6666666666666666, \"#ed7953\"], [0.7777777777777778, \"#fb9f3a\"], [0.8888888888888888, \"#fdca26\"], [1.0, \"#f0f921\"]], \"type\": \"heatmapgl\"}], \"histogram\": [{\"marker\": {\"colorbar\": {\"outlinewidth\": 0, \"ticks\": \"\"}}, \"type\": \"histogram\"}], \"histogram2d\": [{\"colorbar\": {\"outlinewidth\": 0, \"ticks\": \"\"}, \"colorscale\": [[0.0, \"#0d0887\"], [0.1111111111111111, \"#46039f\"], [0.2222222222222222, \"#7201a8\"], [0.3333333333333333, \"#9c179e\"], [0.4444444444444444, \"#bd3786\"], [0.5555555555555556, \"#d8576b\"], [0.6666666666666666, \"#ed7953\"], [0.7777777777777778, \"#fb9f3a\"], [0.8888888888888888, \"#fdca26\"], [1.0, \"#f0f921\"]], \"type\": \"histogram2d\"}], \"histogram2dcontour\": [{\"colorbar\": {\"outlinewidth\": 0, \"ticks\": \"\"}, \"colorscale\": [[0.0, \"#0d0887\"], [0.1111111111111111, \"#46039f\"], [0.2222222222222222, \"#7201a8\"], [0.3333333333333333, \"#9c179e\"], [0.4444444444444444, \"#bd3786\"], [0.5555555555555556, \"#d8576b\"], [0.6666666666666666, \"#ed7953\"], [0.7777777777777778, \"#fb9f3a\"], [0.8888888888888888, \"#fdca26\"], [1.0, \"#f0f921\"]], \"type\": \"histogram2dcontour\"}], \"mesh3d\": [{\"colorbar\": {\"outlinewidth\": 0, \"ticks\": \"\"}, \"type\": \"mesh3d\"}], \"parcoords\": [{\"line\": {\"colorbar\": {\"outlinewidth\": 0, \"ticks\": \"\"}}, \"type\": \"parcoords\"}], \"pie\": [{\"automargin\": true, \"type\": \"pie\"}], \"scatter\": [{\"marker\": {\"colorbar\": {\"outlinewidth\": 0, \"ticks\": \"\"}}, \"type\": \"scatter\"}], \"scatter3d\": [{\"line\": {\"colorbar\": {\"outlinewidth\": 0, \"ticks\": \"\"}}, \"marker\": {\"colorbar\": {\"outlinewidth\": 0, \"ticks\": \"\"}}, \"type\": \"scatter3d\"}], \"scattercarpet\": [{\"marker\": {\"colorbar\": {\"outlinewidth\": 0, \"ticks\": \"\"}}, \"type\": \"scattercarpet\"}], \"scattergeo\": [{\"marker\": {\"colorbar\": {\"outlinewidth\": 0, \"ticks\": \"\"}}, \"type\": \"scattergeo\"}], \"scattergl\": [{\"marker\": {\"colorbar\": {\"outlinewidth\": 0, \"ticks\": \"\"}}, \"type\": \"scattergl\"}], \"scattermapbox\": [{\"marker\": {\"colorbar\": {\"outlinewidth\": 0, \"ticks\": \"\"}}, \"type\": \"scattermapbox\"}], \"scatterpolar\": [{\"marker\": {\"colorbar\": {\"outlinewidth\": 0, \"ticks\": \"\"}}, \"type\": \"scatterpolar\"}], \"scatterpolargl\": [{\"marker\": {\"colorbar\": {\"outlinewidth\": 0, \"ticks\": \"\"}}, \"type\": \"scatterpolargl\"}], \"scatterternary\": [{\"marker\": {\"colorbar\": {\"outlinewidth\": 0, \"ticks\": \"\"}}, \"type\": \"scatterternary\"}], \"surface\": [{\"colorbar\": {\"outlinewidth\": 0, \"ticks\": \"\"}, \"colorscale\": [[0.0, \"#0d0887\"], [0.1111111111111111, \"#46039f\"], [0.2222222222222222, \"#7201a8\"], [0.3333333333333333, \"#9c179e\"], [0.4444444444444444, \"#bd3786\"], [0.5555555555555556, \"#d8576b\"], [0.6666666666666666, \"#ed7953\"], [0.7777777777777778, \"#fb9f3a\"], [0.8888888888888888, \"#fdca26\"], [1.0, \"#f0f921\"]], \"type\": \"surface\"}], \"table\": [{\"cells\": {\"fill\": {\"color\": \"#EBF0F8\"}, \"line\": {\"color\": \"white\"}}, \"header\": {\"fill\": {\"color\": \"#C8D4E3\"}, \"line\": {\"color\": \"white\"}}, \"type\": \"table\"}]}, \"layout\": {\"annotationdefaults\": {\"arrowcolor\": \"#2a3f5f\", \"arrowhead\": 0, \"arrowwidth\": 1}, \"autotypenumbers\": \"strict\", \"coloraxis\": {\"colorbar\": {\"outlinewidth\": 0, \"ticks\": \"\"}}, \"colorscale\": {\"diverging\": [[0, \"#8e0152\"], [0.1, \"#c51b7d\"], [0.2, \"#de77ae\"], [0.3, \"#f1b6da\"], [0.4, \"#fde0ef\"], [0.5, \"#f7f7f7\"], [0.6, \"#e6f5d0\"], [0.7, \"#b8e186\"], [0.8, \"#7fbc41\"], [0.9, \"#4d9221\"], [1, \"#276419\"]], \"sequential\": [[0.0, \"#0d0887\"], [0.1111111111111111, \"#46039f\"], [0.2222222222222222, \"#7201a8\"], [0.3333333333333333, \"#9c179e\"], [0.4444444444444444, \"#bd3786\"], [0.5555555555555556, \"#d8576b\"], [0.6666666666666666, \"#ed7953\"], [0.7777777777777778, \"#fb9f3a\"], [0.8888888888888888, \"#fdca26\"], [1.0, \"#f0f921\"]], \"sequentialminus\": [[0.0, \"#0d0887\"], [0.1111111111111111, \"#46039f\"], [0.2222222222222222, \"#7201a8\"], [0.3333333333333333, \"#9c179e\"], [0.4444444444444444, \"#bd3786\"], [0.5555555555555556, \"#d8576b\"], [0.6666666666666666, \"#ed7953\"], [0.7777777777777778, \"#fb9f3a\"], [0.8888888888888888, \"#fdca26\"], [1.0, \"#f0f921\"]]}, \"colorway\": [\"#636efa\", \"#EF553B\", \"#00cc96\", \"#ab63fa\", \"#FFA15A\", \"#19d3f3\", \"#FF6692\", \"#B6E880\", \"#FF97FF\", \"#FECB52\"], \"font\": {\"color\": \"#2a3f5f\"}, \"geo\": {\"bgcolor\": \"white\", \"lakecolor\": \"white\", \"landcolor\": \"#E5ECF6\", \"showlakes\": true, \"showland\": true, \"subunitcolor\": \"white\"}, \"hoverlabel\": {\"align\": \"left\"}, \"hovermode\": \"closest\", \"mapbox\": {\"style\": \"light\"}, \"paper_bgcolor\": \"white\", \"plot_bgcolor\": \"#E5ECF6\", \"polar\": {\"angularaxis\": {\"gridcolor\": \"white\", \"linecolor\": \"white\", \"ticks\": \"\"}, \"bgcolor\": \"#E5ECF6\", \"radialaxis\": {\"gridcolor\": \"white\", \"linecolor\": \"white\", \"ticks\": \"\"}}, \"scene\": {\"xaxis\": {\"backgroundcolor\": \"#E5ECF6\", \"gridcolor\": \"white\", \"gridwidth\": 2, \"linecolor\": \"white\", \"showbackground\": true, \"ticks\": \"\", \"zerolinecolor\": \"white\"}, \"yaxis\": {\"backgroundcolor\": \"#E5ECF6\", \"gridcolor\": \"white\", \"gridwidth\": 2, \"linecolor\": \"white\", \"showbackground\": true, \"ticks\": \"\", \"zerolinecolor\": \"white\"}, \"zaxis\": {\"backgroundcolor\": \"#E5ECF6\", \"gridcolor\": \"white\", \"gridwidth\": 2, \"linecolor\": \"white\", \"showbackground\": true, \"ticks\": \"\", \"zerolinecolor\": \"white\"}}, \"shapedefaults\": {\"line\": {\"color\": \"#2a3f5f\"}}, \"ternary\": {\"aaxis\": {\"gridcolor\": \"white\", \"linecolor\": \"white\", \"ticks\": \"\"}, \"baxis\": {\"gridcolor\": \"white\", \"linecolor\": \"white\", \"ticks\": \"\"}, \"bgcolor\": \"#E5ECF6\", \"caxis\": {\"gridcolor\": \"white\", \"linecolor\": \"white\", \"ticks\": \"\"}}, \"title\": {\"x\": 0.05}, \"xaxis\": {\"automargin\": true, \"gridcolor\": \"white\", \"linecolor\": \"white\", \"ticks\": \"\", \"title\": {\"standoff\": 15}, \"zerolinecolor\": \"white\", \"zerolinewidth\": 2}, \"yaxis\": {\"automargin\": true, \"gridcolor\": \"white\", \"linecolor\": \"white\", \"ticks\": \"\", \"title\": {\"standoff\": 15}, \"zerolinecolor\": \"white\", \"zerolinewidth\": 2}}}, \"title\": {\"text\": \"Assets Under Management SMART PPR\", \"x\": 0.5}, \"width\": 950, \"xaxis\": {\"gridcolor\": \"#E1E5ED\", \"showgrid\": true, \"tickfont\": {\"color\": \"#4D5663\"}, \"tickformat\": \"\", \"tickprefix\": \"\", \"ticksuffix\": \"\", \"title\": {\"font\": {\"color\": \"#4D5663\"}, \"text\": \"\"}, \"zerolinecolor\": \"#E1E5ED\"}, \"yaxis\": {\"gridcolor\": \"#E1E5ED\", \"showgrid\": true, \"tickfont\": {\"color\": \"#4D5663\"}, \"tickformat\": \"\", \"tickprefix\": \"\", \"ticksuffix\": \"M\", \"title\": {\"text\": \"Em Milh\\u00f5es de Euros\"}, \"zerolinecolor\": \"#E1E5ED\"}},                        {\"responsive\": true}                    ).then(function(){\n                            \nvar gd = document.getElementById('7dc52c3a-6d0f-4a46-aba4-4211b7242d9a');\nvar x = new MutationObserver(function (mutations, observer) {{\n        var display = window.getComputedStyle(gd).display;\n        if (!display || display === 'none') {{\n            console.log([gd, 'removed!']);\n            Plotly.purge(gd);\n            observer.disconnect();\n        }}\n}});\n\n// Listen for the removal of the full notebook cells\nvar notebookContainer = gd.closest('#notebook-container');\nif (notebookContainer) {{\n    x.observe(notebookContainer, {childList: true});\n}}\n\n// Listen for the clearing of the current output cell\nvar outputEl = gd.closest('.output');\nif (outputEl) {{\n    x.observe(outputEl, {childList: true});\n}}\n\n                        })                };                            </script>        </div>\n</body>\n</html>"
          },
          "metadata": {}
        }
      ]
    },
    {
      "cell_type": "code",
      "metadata": {
        "colab": {
          "base_uri": "https://localhost:8080/",
          "height": 517
        },
        "id": "y4OioNFe23-W",
        "outputId": "2f95029f-ef06-4f8a-9910-4774fb177265"
      },
      "source": [
        "SMART_AUMs = df_total_old[['Date',\t'0P0001LAZ3','0P0001LAYY','0P0001LAZ2','0P0001LAZ1']].ffill().dropna().groupby('Date').last()\n",
        "SMART_AUMs.columns=['V20A', 'V40A', 'V60A' , 'V80A']\n",
        "pl.ichart(SMART_AUMs, yticksuffix='M', title='Assets Under Management dos Vanguard Lifestrategy', yTitle='Em Milhões de Euros')"
      ],
      "execution_count": 6,
      "outputs": [
        {
          "output_type": "display_data",
          "data": {
            "text/html": "<html>\n<head><meta charset=\"utf-8\" /></head>\n<body>\n    <div>            <script src=\"https://cdnjs.cloudflare.com/ajax/libs/mathjax/2.7.5/MathJax.js?config=TeX-AMS-MML_SVG\"></script><script type=\"text/javascript\">if (window.MathJax) {MathJax.Hub.Config({SVG: {font: \"STIX-Web\"}});}</script>                <script type=\"text/javascript\">window.PlotlyConfig = {MathJaxConfig: 'local'};</script>\n        <script src=\"https://cdn.plot.ly/plotly-latest.min.js\"></script>                <div id=\"8fd626c4-e645-4f87-af81-c263249af64e\" class=\"plotly-graph-div\" style=\"height:500px; width:950px;\"></div>            <script type=\"text/javascript\">                                    window.PLOTLYENV=window.PLOTLYENV || {};                                    if (document.getElementById(\"8fd626c4-e645-4f87-af81-c263249af64e\")) {                    Plotly.newPlot(                        \"8fd626c4-e645-4f87-af81-c263249af64e\",                        [{\"line\": {\"color\": \"royalblue\", \"width\": 1.3}, \"mode\": \"lines\", \"name\": \"V20A\", \"type\": \"scatter\", \"x\": [\"2021-02-17T00:00:00\", \"2021-02-18T00:00:00\", \"2021-02-19T00:00:00\", \"2021-02-22T00:00:00\", \"2021-02-23T00:00:00\", \"2021-02-25T00:00:00\", \"2021-02-26T00:00:00\", \"2021-02-28T00:00:00\", \"2021-03-01T00:00:00\", \"2021-03-02T00:00:00\", \"2021-03-03T00:00:00\", \"2021-03-04T00:00:00\", \"2021-03-10T00:00:00\", \"2021-03-11T00:00:00\", \"2021-03-12T00:00:00\", \"2021-03-15T00:00:00\", \"2021-03-29T00:00:00\", \"2021-03-30T00:00:00\"], \"y\": [9.78, 10.75, 10.72, 10.69, 10.68, 10.68, 11.84, 11.84, 11.84, 11.91, 12.35, 12.31, 12.31, 13.66, 13.66, 13.64, 13.64, 14.63]}, {\"line\": {\"color\": \"darkorange\", \"width\": 1.3}, \"mode\": \"lines\", \"name\": \"V40A\", \"type\": \"scatter\", \"x\": [\"2021-02-17T00:00:00\", \"2021-02-18T00:00:00\", \"2021-02-19T00:00:00\", \"2021-02-22T00:00:00\", \"2021-02-23T00:00:00\", \"2021-02-25T00:00:00\", \"2021-02-26T00:00:00\", \"2021-02-28T00:00:00\", \"2021-03-01T00:00:00\", \"2021-03-02T00:00:00\", \"2021-03-03T00:00:00\", \"2021-03-04T00:00:00\", \"2021-03-10T00:00:00\", \"2021-03-11T00:00:00\", \"2021-03-12T00:00:00\", \"2021-03-15T00:00:00\", \"2021-03-29T00:00:00\", \"2021-03-30T00:00:00\"], \"y\": [9.98, 10.7, 10.92, 10.88, 11.37, 11.37, 11.99, 11.99, 11.99, 12.11, 13.06, 12.99, 12.99, 13.2, 13.2, 13.21, 13.21, 14.26]}, {\"line\": {\"color\": \"dimgrey\", \"width\": 1.3}, \"mode\": \"lines\", \"name\": \"V60A\", \"type\": \"scatter\", \"x\": [\"2021-02-17T00:00:00\", \"2021-02-18T00:00:00\", \"2021-02-19T00:00:00\", \"2021-02-22T00:00:00\", \"2021-02-23T00:00:00\", \"2021-02-25T00:00:00\", \"2021-02-26T00:00:00\", \"2021-02-28T00:00:00\", \"2021-03-01T00:00:00\", \"2021-03-02T00:00:00\", \"2021-03-03T00:00:00\", \"2021-03-04T00:00:00\", \"2021-03-10T00:00:00\", \"2021-03-11T00:00:00\", \"2021-03-12T00:00:00\", \"2021-03-15T00:00:00\", \"2021-03-29T00:00:00\", \"2021-03-30T00:00:00\"], \"y\": [16.45, 17.39, 17.33, 17.24, 17.21, 17.21, 17.97, 17.97, 17.97, 18.21, 19.9, 19.76, 19.76, 21.8, 21.8, 21.86, 21.86, 24.07]}, {\"line\": {\"color\": \"rgb(86, 53, 171)\", \"width\": 1.3}, \"mode\": \"lines\", \"name\": \"V80A\", \"type\": \"scatter\", \"x\": [\"2021-02-17T00:00:00\", \"2021-02-18T00:00:00\", \"2021-02-19T00:00:00\", \"2021-02-22T00:00:00\", \"2021-02-23T00:00:00\", \"2021-02-25T00:00:00\", \"2021-02-26T00:00:00\", \"2021-02-28T00:00:00\", \"2021-03-01T00:00:00\", \"2021-03-02T00:00:00\", \"2021-03-03T00:00:00\", \"2021-03-04T00:00:00\", \"2021-03-10T00:00:00\", \"2021-03-11T00:00:00\", \"2021-03-12T00:00:00\", \"2021-03-15T00:00:00\", \"2021-03-29T00:00:00\", \"2021-03-30T00:00:00\"], \"y\": [17.04, 18.24, 18.44, 18.31, 18.29, 18.29, 18.7, 18.7, 18.7, 19.04, 21.0, 20.82, 20.82, 23.87, 23.87, 23.98, 23.98, 28.48]}],                        {\"annotations\": [{\"font\": {\"color\": \"rgb(150,150,150)\", \"family\": \"Arial\", \"size\": 12}, \"showarrow\": false, \"text\": \"\", \"x\": 0.5, \"xanchor\": \"center\", \"xref\": \"paper\", \"y\": \"-0.125\", \"yanchor\": \"top\", \"yref\": \"paper\"}], \"height\": 500, \"hovermode\": \"x\", \"paper_bgcolor\": \"#F5F6F9\", \"plot_bgcolor\": \"#F5F6F9\", \"showlegend\": true, \"template\": {\"data\": {\"bar\": [{\"error_x\": {\"color\": \"#2a3f5f\"}, \"error_y\": {\"color\": \"#2a3f5f\"}, \"marker\": {\"line\": {\"color\": \"#E5ECF6\", \"width\": 0.5}}, \"type\": \"bar\"}], \"barpolar\": [{\"marker\": {\"line\": {\"color\": \"#E5ECF6\", \"width\": 0.5}}, \"type\": \"barpolar\"}], \"carpet\": [{\"aaxis\": {\"endlinecolor\": \"#2a3f5f\", \"gridcolor\": \"white\", \"linecolor\": \"white\", \"minorgridcolor\": \"white\", \"startlinecolor\": \"#2a3f5f\"}, \"baxis\": {\"endlinecolor\": \"#2a3f5f\", \"gridcolor\": \"white\", \"linecolor\": \"white\", \"minorgridcolor\": \"white\", \"startlinecolor\": \"#2a3f5f\"}, \"type\": \"carpet\"}], \"choropleth\": [{\"colorbar\": {\"outlinewidth\": 0, \"ticks\": \"\"}, \"type\": \"choropleth\"}], \"contour\": [{\"colorbar\": {\"outlinewidth\": 0, \"ticks\": \"\"}, \"colorscale\": [[0.0, \"#0d0887\"], [0.1111111111111111, \"#46039f\"], [0.2222222222222222, \"#7201a8\"], [0.3333333333333333, \"#9c179e\"], [0.4444444444444444, \"#bd3786\"], [0.5555555555555556, \"#d8576b\"], [0.6666666666666666, \"#ed7953\"], [0.7777777777777778, \"#fb9f3a\"], [0.8888888888888888, \"#fdca26\"], [1.0, \"#f0f921\"]], \"type\": \"contour\"}], \"contourcarpet\": [{\"colorbar\": {\"outlinewidth\": 0, \"ticks\": \"\"}, \"type\": \"contourcarpet\"}], \"heatmap\": [{\"colorbar\": {\"outlinewidth\": 0, \"ticks\": \"\"}, \"colorscale\": [[0.0, \"#0d0887\"], [0.1111111111111111, \"#46039f\"], [0.2222222222222222, \"#7201a8\"], [0.3333333333333333, \"#9c179e\"], [0.4444444444444444, \"#bd3786\"], [0.5555555555555556, \"#d8576b\"], [0.6666666666666666, \"#ed7953\"], [0.7777777777777778, \"#fb9f3a\"], [0.8888888888888888, \"#fdca26\"], [1.0, \"#f0f921\"]], \"type\": \"heatmap\"}], \"heatmapgl\": [{\"colorbar\": {\"outlinewidth\": 0, \"ticks\": \"\"}, \"colorscale\": [[0.0, \"#0d0887\"], [0.1111111111111111, \"#46039f\"], [0.2222222222222222, \"#7201a8\"], [0.3333333333333333, \"#9c179e\"], [0.4444444444444444, \"#bd3786\"], [0.5555555555555556, \"#d8576b\"], [0.6666666666666666, \"#ed7953\"], [0.7777777777777778, \"#fb9f3a\"], [0.8888888888888888, \"#fdca26\"], [1.0, \"#f0f921\"]], \"type\": \"heatmapgl\"}], \"histogram\": [{\"marker\": {\"colorbar\": {\"outlinewidth\": 0, \"ticks\": \"\"}}, \"type\": \"histogram\"}], \"histogram2d\": [{\"colorbar\": {\"outlinewidth\": 0, \"ticks\": \"\"}, \"colorscale\": [[0.0, \"#0d0887\"], [0.1111111111111111, \"#46039f\"], [0.2222222222222222, \"#7201a8\"], [0.3333333333333333, \"#9c179e\"], [0.4444444444444444, \"#bd3786\"], [0.5555555555555556, \"#d8576b\"], [0.6666666666666666, \"#ed7953\"], [0.7777777777777778, \"#fb9f3a\"], [0.8888888888888888, \"#fdca26\"], [1.0, \"#f0f921\"]], \"type\": \"histogram2d\"}], \"histogram2dcontour\": [{\"colorbar\": {\"outlinewidth\": 0, \"ticks\": \"\"}, \"colorscale\": [[0.0, \"#0d0887\"], [0.1111111111111111, \"#46039f\"], [0.2222222222222222, \"#7201a8\"], [0.3333333333333333, \"#9c179e\"], [0.4444444444444444, \"#bd3786\"], [0.5555555555555556, \"#d8576b\"], [0.6666666666666666, \"#ed7953\"], [0.7777777777777778, \"#fb9f3a\"], [0.8888888888888888, \"#fdca26\"], [1.0, \"#f0f921\"]], \"type\": \"histogram2dcontour\"}], \"mesh3d\": [{\"colorbar\": {\"outlinewidth\": 0, \"ticks\": \"\"}, \"type\": \"mesh3d\"}], \"parcoords\": [{\"line\": {\"colorbar\": {\"outlinewidth\": 0, \"ticks\": \"\"}}, \"type\": \"parcoords\"}], \"pie\": [{\"automargin\": true, \"type\": \"pie\"}], \"scatter\": [{\"marker\": {\"colorbar\": {\"outlinewidth\": 0, \"ticks\": \"\"}}, \"type\": \"scatter\"}], \"scatter3d\": [{\"line\": {\"colorbar\": {\"outlinewidth\": 0, \"ticks\": \"\"}}, \"marker\": {\"colorbar\": {\"outlinewidth\": 0, \"ticks\": \"\"}}, \"type\": \"scatter3d\"}], \"scattercarpet\": [{\"marker\": {\"colorbar\": {\"outlinewidth\": 0, \"ticks\": \"\"}}, \"type\": \"scattercarpet\"}], \"scattergeo\": [{\"marker\": {\"colorbar\": {\"outlinewidth\": 0, \"ticks\": \"\"}}, \"type\": \"scattergeo\"}], \"scattergl\": [{\"marker\": {\"colorbar\": {\"outlinewidth\": 0, \"ticks\": \"\"}}, \"type\": \"scattergl\"}], \"scattermapbox\": [{\"marker\": {\"colorbar\": {\"outlinewidth\": 0, \"ticks\": \"\"}}, \"type\": \"scattermapbox\"}], \"scatterpolar\": [{\"marker\": {\"colorbar\": {\"outlinewidth\": 0, \"ticks\": \"\"}}, \"type\": \"scatterpolar\"}], \"scatterpolargl\": [{\"marker\": {\"colorbar\": {\"outlinewidth\": 0, \"ticks\": \"\"}}, \"type\": \"scatterpolargl\"}], \"scatterternary\": [{\"marker\": {\"colorbar\": {\"outlinewidth\": 0, \"ticks\": \"\"}}, \"type\": \"scatterternary\"}], \"surface\": [{\"colorbar\": {\"outlinewidth\": 0, \"ticks\": \"\"}, \"colorscale\": [[0.0, \"#0d0887\"], [0.1111111111111111, \"#46039f\"], [0.2222222222222222, \"#7201a8\"], [0.3333333333333333, \"#9c179e\"], [0.4444444444444444, \"#bd3786\"], [0.5555555555555556, \"#d8576b\"], [0.6666666666666666, \"#ed7953\"], [0.7777777777777778, \"#fb9f3a\"], [0.8888888888888888, \"#fdca26\"], [1.0, \"#f0f921\"]], \"type\": \"surface\"}], \"table\": [{\"cells\": {\"fill\": {\"color\": \"#EBF0F8\"}, \"line\": {\"color\": \"white\"}}, \"header\": {\"fill\": {\"color\": \"#C8D4E3\"}, \"line\": {\"color\": \"white\"}}, \"type\": \"table\"}]}, \"layout\": {\"annotationdefaults\": {\"arrowcolor\": \"#2a3f5f\", \"arrowhead\": 0, \"arrowwidth\": 1}, \"autotypenumbers\": \"strict\", \"coloraxis\": {\"colorbar\": {\"outlinewidth\": 0, \"ticks\": \"\"}}, \"colorscale\": {\"diverging\": [[0, \"#8e0152\"], [0.1, \"#c51b7d\"], [0.2, \"#de77ae\"], [0.3, \"#f1b6da\"], [0.4, \"#fde0ef\"], [0.5, \"#f7f7f7\"], [0.6, \"#e6f5d0\"], [0.7, \"#b8e186\"], [0.8, \"#7fbc41\"], [0.9, \"#4d9221\"], [1, \"#276419\"]], \"sequential\": [[0.0, \"#0d0887\"], [0.1111111111111111, \"#46039f\"], [0.2222222222222222, \"#7201a8\"], [0.3333333333333333, \"#9c179e\"], [0.4444444444444444, \"#bd3786\"], [0.5555555555555556, \"#d8576b\"], [0.6666666666666666, \"#ed7953\"], [0.7777777777777778, \"#fb9f3a\"], [0.8888888888888888, \"#fdca26\"], [1.0, \"#f0f921\"]], \"sequentialminus\": [[0.0, \"#0d0887\"], [0.1111111111111111, \"#46039f\"], [0.2222222222222222, \"#7201a8\"], [0.3333333333333333, \"#9c179e\"], [0.4444444444444444, \"#bd3786\"], [0.5555555555555556, \"#d8576b\"], [0.6666666666666666, \"#ed7953\"], [0.7777777777777778, \"#fb9f3a\"], [0.8888888888888888, \"#fdca26\"], [1.0, \"#f0f921\"]]}, \"colorway\": [\"#636efa\", \"#EF553B\", \"#00cc96\", \"#ab63fa\", \"#FFA15A\", \"#19d3f3\", \"#FF6692\", \"#B6E880\", \"#FF97FF\", \"#FECB52\"], \"font\": {\"color\": \"#2a3f5f\"}, \"geo\": {\"bgcolor\": \"white\", \"lakecolor\": \"white\", \"landcolor\": \"#E5ECF6\", \"showlakes\": true, \"showland\": true, \"subunitcolor\": \"white\"}, \"hoverlabel\": {\"align\": \"left\"}, \"hovermode\": \"closest\", \"mapbox\": {\"style\": \"light\"}, \"paper_bgcolor\": \"white\", \"plot_bgcolor\": \"#E5ECF6\", \"polar\": {\"angularaxis\": {\"gridcolor\": \"white\", \"linecolor\": \"white\", \"ticks\": \"\"}, \"bgcolor\": \"#E5ECF6\", \"radialaxis\": {\"gridcolor\": \"white\", \"linecolor\": \"white\", \"ticks\": \"\"}}, \"scene\": {\"xaxis\": {\"backgroundcolor\": \"#E5ECF6\", \"gridcolor\": \"white\", \"gridwidth\": 2, \"linecolor\": \"white\", \"showbackground\": true, \"ticks\": \"\", \"zerolinecolor\": \"white\"}, \"yaxis\": {\"backgroundcolor\": \"#E5ECF6\", \"gridcolor\": \"white\", \"gridwidth\": 2, \"linecolor\": \"white\", \"showbackground\": true, \"ticks\": \"\", \"zerolinecolor\": \"white\"}, \"zaxis\": {\"backgroundcolor\": \"#E5ECF6\", \"gridcolor\": \"white\", \"gridwidth\": 2, \"linecolor\": \"white\", \"showbackground\": true, \"ticks\": \"\", \"zerolinecolor\": \"white\"}}, \"shapedefaults\": {\"line\": {\"color\": \"#2a3f5f\"}}, \"ternary\": {\"aaxis\": {\"gridcolor\": \"white\", \"linecolor\": \"white\", \"ticks\": \"\"}, \"baxis\": {\"gridcolor\": \"white\", \"linecolor\": \"white\", \"ticks\": \"\"}, \"bgcolor\": \"#E5ECF6\", \"caxis\": {\"gridcolor\": \"white\", \"linecolor\": \"white\", \"ticks\": \"\"}}, \"title\": {\"x\": 0.05}, \"xaxis\": {\"automargin\": true, \"gridcolor\": \"white\", \"linecolor\": \"white\", \"ticks\": \"\", \"title\": {\"standoff\": 15}, \"zerolinecolor\": \"white\", \"zerolinewidth\": 2}, \"yaxis\": {\"automargin\": true, \"gridcolor\": \"white\", \"linecolor\": \"white\", \"ticks\": \"\", \"title\": {\"standoff\": 15}, \"zerolinecolor\": \"white\", \"zerolinewidth\": 2}}}, \"title\": {\"text\": \"Assets Under Management dos Vanguard Lifestrategy\", \"x\": 0.5}, \"width\": 950, \"xaxis\": {\"gridcolor\": \"#E1E5ED\", \"showgrid\": true, \"tickfont\": {\"color\": \"#4D5663\"}, \"tickformat\": \"\", \"tickprefix\": \"\", \"ticksuffix\": \"\", \"title\": {\"font\": {\"color\": \"#4D5663\"}, \"text\": \"\"}, \"zerolinecolor\": \"#E1E5ED\"}, \"yaxis\": {\"gridcolor\": \"#E1E5ED\", \"showgrid\": true, \"tickfont\": {\"color\": \"#4D5663\"}, \"tickformat\": \"\", \"tickprefix\": \"\", \"ticksuffix\": \"M\", \"title\": {\"text\": \"Em Milh\\u00f5es de Euros\"}, \"zerolinecolor\": \"#E1E5ED\"}},                        {\"responsive\": true}                    ).then(function(){\n                            \nvar gd = document.getElementById('8fd626c4-e645-4f87-af81-c263249af64e');\nvar x = new MutationObserver(function (mutations, observer) {{\n        var display = window.getComputedStyle(gd).display;\n        if (!display || display === 'none') {{\n            console.log([gd, 'removed!']);\n            Plotly.purge(gd);\n            observer.disconnect();\n        }}\n}});\n\n// Listen for the removal of the full notebook cells\nvar notebookContainer = gd.closest('#notebook-container');\nif (notebookContainer) {{\n    x.observe(notebookContainer, {childList: true});\n}}\n\n// Listen for the clearing of the current output cell\nvar outputEl = gd.closest('.output');\nif (outputEl) {{\n    x.observe(outputEl, {childList: true});\n}}\n\n                        })                };                            </script>        </div>\n</body>\n</html>"
          },
          "metadata": {}
        }
      ]
    },
    {
      "cell_type": "code",
      "metadata": {
        "id": "H13WkMBql-cS",
        "colab": {
          "base_uri": "https://localhost:8080/"
        },
        "outputId": "aa34b8c8-b66c-4822-e120-93a77f4a2182"
      },
      "source": [
        "df_total = df_total_old.copy()\n",
        "\n",
        "MSids = ['F00000T1HT', 'F000000FH0', 'F000016BE5', 'F000016BE6', 'F000016BE4',\n",
        "         'F0GBR057ZA', 'F0GBR04EAN', 'F000000RLR', 'F0GBR06T61', 'F00000OZ46',\n",
        "         'F0GBR06T6F', 'F000000JV6', 'F0GBR06FVK', 'F0GBR06IIX']\n",
        "\n",
        "for MSid in MSids:\n",
        "    AUMs_fund = web_scrap(url='https://www.morningstar.pt/pt/funds/snapshot/snapshot.aspx?id=' + MSid,\n",
        "                    tag='td', print_all_tags=False, get_tag=46, \n",
        "                    start='<td class=\"line text\">USD ',\n",
        "                    end='</td>', data_type='numeric')\n",
        "    \n",
        "    date_fund = web_scrap(url='https://www.morningstar.pt/pt/funds/snapshot/snapshot.aspx?id=' + MSid,\n",
        "                    tag='td', print_all_tags=False, get_tag=44,\n",
        "                    data_type='date', date_format='%d/%m/%Y',\n",
        "                    start='<span class=\"heading\"><br/>',\n",
        "                    end='</span></td>')\n",
        "\n",
        "    data = [[date_fund, AUMs_fund]]\n",
        "    df = pd.DataFrame(data, columns = ['Date', MSid])\n",
        "\n",
        "    if MSid in df_total.columns:\n",
        "        df_total = pd.merge(df_total, df, on=['Date', MSid], how=\"outer\")\n",
        "    else:\n",
        "        df_total = pd.merge(df_total, df, on=['Date'], how=\"outer\")\n",
        "    print(MSid)\n",
        "    print(date_fund)\n",
        "    print(AUMs_fund)"
      ],
      "execution_count": 7,
      "outputs": [
        {
          "output_type": "stream",
          "name": "stdout",
          "text": [
            "F00000T1HT\n",
            "2021-03-30 00:00:00\n",
            "20324.8\n",
            "F000000FH0\n",
            "2021-03-30 00:00:00\n",
            "657.33\n",
            "F000016BE5\n",
            "2021-03-30 00:00:00\n",
            "1.54\n",
            "F000016BE6\n",
            "2021-03-29 00:00:00\n",
            "1.93\n",
            "F000016BE4\n",
            "2021-03-30 00:00:00\n",
            "0.53\n",
            "F0GBR057ZA\n",
            "2021-03-29 00:00:00\n",
            "122.39\n",
            "F0GBR04EAN\n",
            "2021-02-28 00:00:00\n",
            "1362.36\n",
            "F000000RLR\n",
            "2021-02-28 00:00:00\n",
            "1719.14\n",
            "F0GBR06T61\n",
            "2021-02-26 00:00:00\n",
            "16040.39\n",
            "F00000OZ46\n",
            "2021-02-26 00:00:00\n",
            "70487.08\n",
            "F0GBR06T6F\n",
            "2021-02-26 00:00:00\n",
            "25896.72\n",
            "F000000JV6\n",
            "2021-03-30 00:00:00\n",
            "7152.27\n",
            "F0GBR06FVK\n",
            "2021-03-30 00:00:00\n",
            "3616.79\n",
            "F0GBR06IIX\n",
            "2021-03-30 00:00:00\n",
            "5948.61\n"
          ]
        }
      ]
    },
    {
      "cell_type": "code",
      "metadata": {
        "id": "WtUsJ-vq2Iwz"
      },
      "source": [
        "############### MUITO BOM ###########\n",
        "df_total = df_total.groupby('Date').last()"
      ],
      "execution_count": 8,
      "outputs": []
    },
    {
      "cell_type": "markdown",
      "metadata": {
        "id": "YUuPG6_lt_vP"
      },
      "source": [
        "# **ETF**"
      ]
    },
    {
      "cell_type": "code",
      "metadata": {
        "id": "4_FSlRT0X5pj"
      },
      "source": [
        "MSid_ETFs = ['0P0000MLIH', '0P0000Y2A1', '0P0001LAZ3', '0P00014G97', '0P0001LAYY',\n",
        "             '0P0001LAZ2', '0P0001LAZ1', '0P0000YXJQ']\n",
        "\n",
        "for MSid in MSid_ETFs:\n",
        "    AUMs_etf = web_scrap(url='https://www.morningstar.pt/pt/funds/snapshot/snapshot.aspx?id=' + MSid,\n",
        "                    tag='td', print_all_tags=False, get_tag=52, \n",
        "                    start='<td class=\"line text\">USD ',\n",
        "                    end='</td>', data_type='numeric')\n",
        "    date_etf = web_scrap(url='https://www.morningstar.pt/pt/funds/snapshot/snapshot.aspx?id=' + MSid,\n",
        "                tag='td', print_all_tags=False, get_tag=50,\n",
        "                data_type='date', date_format='%d/%m/%Y',\n",
        "                start='<span class=\"heading\"><br/>',\n",
        "                end='</span></td>')\n",
        "    \n",
        "    data = [[date_etf, AUMs_etf]]\n",
        "    df = pd.DataFrame(data, columns = ['Date', MSid])\n",
        "\n",
        "    if MSid in df_total.columns:\n",
        "        df_total = pd.merge(df_total, df, on=['Date', MSid], how=\"outer\")\n",
        "    else:\n",
        "        df_total = pd.merge(df_total, df, on=['Date'], how=\"outer\")"
      ],
      "execution_count": 9,
      "outputs": []
    },
    {
      "cell_type": "code",
      "metadata": {
        "colab": {
          "base_uri": "https://localhost:8080/",
          "height": 640
        },
        "id": "Ca5JOpi_to_H",
        "outputId": "8768f256-2028-4db5-a1ee-ad8e34814ea7"
      },
      "source": [
        "############### MUITO BOM ###########\n",
        "df_total = df_total.groupby('Date').last()\n",
        "df_total"
      ],
      "execution_count": 10,
      "outputs": [
        {
          "output_type": "execute_result",
          "data": {
            "text/plain": [
              "            F00000T1HT  F000000FH0  F000016BE5  F000016BE6  F000016BE4  F0GBR057ZA  F0GBR04EAN  F000000RLR  F0GBR06T61  F00000OZ46  ...  F0GBR06FVK  F0GBR06IIX  0P0000MLIH  0P0000Y2A1  0P0001LAZ3  0P0001LAYY  0P0001LAZ2  0P0001LAZ1  0P00014G97  0P0000YXJQ\n",
              "Date                                                                                                                                ...                                                                                                                        \n",
              "2021-01-29         nan         nan         nan         nan         nan         nan         nan         nan   16,291.56   70,863.87  ...         nan         nan         nan         nan         nan         nan         nan         nan         nan         nan\n",
              "2021-01-31         nan         nan         nan         nan         nan         nan    1,339.07    1,565.95         nan         nan  ...         nan         nan         nan         nan         nan         nan         nan         nan         nan         nan\n",
              "2021-02-15         nan         nan         nan        1.27         nan      118.07         nan         nan         nan         nan  ...         nan         nan         nan         nan         nan         nan         nan         nan         nan         nan\n",
              "2021-02-16   20,690.24      637.38        1.03        1.30        0.35      118.15         nan         nan         nan         nan  ...    3,851.79    6,430.69   32,852.57    3,835.72         nan         nan         nan         nan         nan         nan\n",
              "2021-02-17   20,675.51      626.47        1.04        1.35        0.35      118.06         nan         nan         nan         nan  ...    3,808.88    6,426.67         nan         nan        9.78        9.98       16.45       17.04    2,591.14         nan\n",
              "...                ...         ...         ...         ...         ...         ...         ...         ...         ...         ...  ...         ...         ...         ...         ...         ...         ...         ...         ...         ...         ...\n",
              "2021-03-11   20,611.75      640.78        1.41         nan        0.51         nan         nan         nan         nan         nan  ...    3,593.87         nan   33,903.77    3,576.22       13.66       13.20       21.80       23.87    2,444.57    2,780.47\n",
              "2021-03-12         nan         nan        1.40        1.74        0.51      120.47         nan         nan         nan         nan  ...         nan    6,056.23   33,916.53    3,587.63         nan         nan         nan         nan    2,427.52         nan\n",
              "2021-03-15   20,467.98      650.90         nan         nan         nan         nan         nan         nan         nan         nan  ...    3,624.92    6,007.59         nan         nan       13.64       13.21       21.86       23.98         nan    2,737.11\n",
              "2021-03-29         nan         nan         nan        1.93         nan      122.39         nan         nan         nan         nan  ...         nan         nan         nan         nan         nan         nan         nan         nan         nan         nan\n",
              "2021-03-30   20,324.80      657.33        1.54         nan        0.53         nan         nan         nan         nan         nan  ...    3,616.79    5,948.61   34,201.45    3,536.31       14.63       14.26       24.07       28.48    2,425.65    2,689.38\n",
              "\n",
              "[22 rows x 22 columns]"
            ],
            "text/html": "<div>\n<style scoped>\n    .dataframe tbody tr th:only-of-type {\n        vertical-align: middle;\n    }\n\n    .dataframe tbody tr th {\n        vertical-align: top;\n    }\n\n    .dataframe thead th {\n        text-align: right;\n    }\n</style>\n<table border=\"1\" class=\"dataframe\">\n  <thead>\n    <tr style=\"text-align: right;\">\n      <th></th>\n      <th>F00000T1HT</th>\n      <th>F000000FH0</th>\n      <th>F000016BE5</th>\n      <th>F000016BE6</th>\n      <th>F000016BE4</th>\n      <th>F0GBR057ZA</th>\n      <th>F0GBR04EAN</th>\n      <th>F000000RLR</th>\n      <th>F0GBR06T61</th>\n      <th>F00000OZ46</th>\n      <th>...</th>\n      <th>F0GBR06FVK</th>\n      <th>F0GBR06IIX</th>\n      <th>0P0000MLIH</th>\n      <th>0P0000Y2A1</th>\n      <th>0P0001LAZ3</th>\n      <th>0P0001LAYY</th>\n      <th>0P0001LAZ2</th>\n      <th>0P0001LAZ1</th>\n      <th>0P00014G97</th>\n      <th>0P0000YXJQ</th>\n    </tr>\n    <tr>\n      <th>Date</th>\n      <th></th>\n      <th></th>\n      <th></th>\n      <th></th>\n      <th></th>\n      <th></th>\n      <th></th>\n      <th></th>\n      <th></th>\n      <th></th>\n      <th></th>\n      <th></th>\n      <th></th>\n      <th></th>\n      <th></th>\n      <th></th>\n      <th></th>\n      <th></th>\n      <th></th>\n      <th></th>\n      <th></th>\n    </tr>\n  </thead>\n  <tbody>\n    <tr>\n      <th>2021-01-29</th>\n      <td>nan</td>\n      <td>nan</td>\n      <td>nan</td>\n      <td>nan</td>\n      <td>nan</td>\n      <td>nan</td>\n      <td>nan</td>\n      <td>nan</td>\n      <td>16,291.56</td>\n      <td>70,863.87</td>\n      <td>...</td>\n      <td>nan</td>\n      <td>nan</td>\n      <td>nan</td>\n      <td>nan</td>\n      <td>nan</td>\n      <td>nan</td>\n      <td>nan</td>\n      <td>nan</td>\n      <td>nan</td>\n      <td>nan</td>\n    </tr>\n    <tr>\n      <th>2021-01-31</th>\n      <td>nan</td>\n      <td>nan</td>\n      <td>nan</td>\n      <td>nan</td>\n      <td>nan</td>\n      <td>nan</td>\n      <td>1,339.07</td>\n      <td>1,565.95</td>\n      <td>nan</td>\n      <td>nan</td>\n      <td>...</td>\n      <td>nan</td>\n      <td>nan</td>\n      <td>nan</td>\n      <td>nan</td>\n      <td>nan</td>\n      <td>nan</td>\n      <td>nan</td>\n      <td>nan</td>\n      <td>nan</td>\n      <td>nan</td>\n    </tr>\n    <tr>\n      <th>2021-02-15</th>\n      <td>nan</td>\n      <td>nan</td>\n      <td>nan</td>\n      <td>1.27</td>\n      <td>nan</td>\n      <td>118.07</td>\n      <td>nan</td>\n      <td>nan</td>\n      <td>nan</td>\n      <td>nan</td>\n      <td>...</td>\n      <td>nan</td>\n      <td>nan</td>\n      <td>nan</td>\n      <td>nan</td>\n      <td>nan</td>\n      <td>nan</td>\n      <td>nan</td>\n      <td>nan</td>\n      <td>nan</td>\n      <td>nan</td>\n    </tr>\n    <tr>\n      <th>2021-02-16</th>\n      <td>20,690.24</td>\n      <td>637.38</td>\n      <td>1.03</td>\n      <td>1.30</td>\n      <td>0.35</td>\n      <td>118.15</td>\n      <td>nan</td>\n      <td>nan</td>\n      <td>nan</td>\n      <td>nan</td>\n      <td>...</td>\n      <td>3,851.79</td>\n      <td>6,430.69</td>\n      <td>32,852.57</td>\n      <td>3,835.72</td>\n      <td>nan</td>\n      <td>nan</td>\n      <td>nan</td>\n      <td>nan</td>\n      <td>nan</td>\n      <td>nan</td>\n    </tr>\n    <tr>\n      <th>2021-02-17</th>\n      <td>20,675.51</td>\n      <td>626.47</td>\n      <td>1.04</td>\n      <td>1.35</td>\n      <td>0.35</td>\n      <td>118.06</td>\n      <td>nan</td>\n      <td>nan</td>\n      <td>nan</td>\n      <td>nan</td>\n      <td>...</td>\n      <td>3,808.88</td>\n      <td>6,426.67</td>\n      <td>nan</td>\n      <td>nan</td>\n      <td>9.78</td>\n      <td>9.98</td>\n      <td>16.45</td>\n      <td>17.04</td>\n      <td>2,591.14</td>\n      <td>nan</td>\n    </tr>\n    <tr>\n      <th>...</th>\n      <td>...</td>\n      <td>...</td>\n      <td>...</td>\n      <td>...</td>\n      <td>...</td>\n      <td>...</td>\n      <td>...</td>\n      <td>...</td>\n      <td>...</td>\n      <td>...</td>\n      <td>...</td>\n      <td>...</td>\n      <td>...</td>\n      <td>...</td>\n      <td>...</td>\n      <td>...</td>\n      <td>...</td>\n      <td>...</td>\n      <td>...</td>\n      <td>...</td>\n      <td>...</td>\n    </tr>\n    <tr>\n      <th>2021-03-11</th>\n      <td>20,611.75</td>\n      <td>640.78</td>\n      <td>1.41</td>\n      <td>nan</td>\n      <td>0.51</td>\n      <td>nan</td>\n      <td>nan</td>\n      <td>nan</td>\n      <td>nan</td>\n      <td>nan</td>\n      <td>...</td>\n      <td>3,593.87</td>\n      <td>nan</td>\n      <td>33,903.77</td>\n      <td>3,576.22</td>\n      <td>13.66</td>\n      <td>13.20</td>\n      <td>21.80</td>\n      <td>23.87</td>\n      <td>2,444.57</td>\n      <td>2,780.47</td>\n    </tr>\n    <tr>\n      <th>2021-03-12</th>\n      <td>nan</td>\n      <td>nan</td>\n      <td>1.40</td>\n      <td>1.74</td>\n      <td>0.51</td>\n      <td>120.47</td>\n      <td>nan</td>\n      <td>nan</td>\n      <td>nan</td>\n      <td>nan</td>\n      <td>...</td>\n      <td>nan</td>\n      <td>6,056.23</td>\n      <td>33,916.53</td>\n      <td>3,587.63</td>\n      <td>nan</td>\n      <td>nan</td>\n      <td>nan</td>\n      <td>nan</td>\n      <td>2,427.52</td>\n      <td>nan</td>\n    </tr>\n    <tr>\n      <th>2021-03-15</th>\n      <td>20,467.98</td>\n      <td>650.90</td>\n      <td>nan</td>\n      <td>nan</td>\n      <td>nan</td>\n      <td>nan</td>\n      <td>nan</td>\n      <td>nan</td>\n      <td>nan</td>\n      <td>nan</td>\n      <td>...</td>\n      <td>3,624.92</td>\n      <td>6,007.59</td>\n      <td>nan</td>\n      <td>nan</td>\n      <td>13.64</td>\n      <td>13.21</td>\n      <td>21.86</td>\n      <td>23.98</td>\n      <td>nan</td>\n      <td>2,737.11</td>\n    </tr>\n    <tr>\n      <th>2021-03-29</th>\n      <td>nan</td>\n      <td>nan</td>\n      <td>nan</td>\n      <td>1.93</td>\n      <td>nan</td>\n      <td>122.39</td>\n      <td>nan</td>\n      <td>nan</td>\n      <td>nan</td>\n      <td>nan</td>\n      <td>...</td>\n      <td>nan</td>\n      <td>nan</td>\n      <td>nan</td>\n      <td>nan</td>\n      <td>nan</td>\n      <td>nan</td>\n      <td>nan</td>\n      <td>nan</td>\n      <td>nan</td>\n      <td>nan</td>\n    </tr>\n    <tr>\n      <th>2021-03-30</th>\n      <td>20,324.80</td>\n      <td>657.33</td>\n      <td>1.54</td>\n      <td>nan</td>\n      <td>0.53</td>\n      <td>nan</td>\n      <td>nan</td>\n      <td>nan</td>\n      <td>nan</td>\n      <td>nan</td>\n      <td>...</td>\n      <td>3,616.79</td>\n      <td>5,948.61</td>\n      <td>34,201.45</td>\n      <td>3,536.31</td>\n      <td>14.63</td>\n      <td>14.26</td>\n      <td>24.07</td>\n      <td>28.48</td>\n      <td>2,425.65</td>\n      <td>2,689.38</td>\n    </tr>\n  </tbody>\n</table>\n<p>22 rows × 22 columns</p>\n</div>"
          },
          "metadata": {},
          "execution_count": 10
        }
      ]
    },
    {
      "cell_type": "markdown",
      "metadata": {
        "id": "tGp6K-VKPhfF"
      },
      "source": [
        "# Gravar"
      ]
    },
    {
      "cell_type": "code",
      "metadata": {
        "id": "L578qdqotpBn"
      },
      "source": [
        "df_total.to_excel('AUMs.xlsx')\n",
        "df_total.to_excel('AUMs_' + today.strftime(\"%Y%m%d\") + '.xlsx')"
      ],
      "execution_count": 11,
      "outputs": []
    },
    {
      "cell_type": "code",
      "metadata": {
        "id": "UF74EPDgtpET"
      },
      "source": [],
      "execution_count": 45,
      "outputs": []
    },
    {
      "cell_type": "code",
      "metadata": {
        "id": "i8ZkUEoBy99V"
      },
      "source": [],
      "execution_count": 45,
      "outputs": []
    },
    {
      "cell_type": "code",
      "metadata": {
        "id": "xSSpapG-saDm"
      },
      "source": [],
      "execution_count": 45,
      "outputs": []
    },
    {
      "cell_type": "code",
      "metadata": {
        "id": "_3twNZUtbgjo"
      },
      "source": [
        "import PortfolioLab as pl"
      ],
      "execution_count": 12,
      "outputs": []
    },
    {
      "cell_type": "code",
      "metadata": {
        "id": "I6RV5llWcG46",
        "colab": {
          "base_uri": "https://localhost:8080/",
          "height": 450
        },
        "outputId": "abc20159-1bb8-470d-cede-3893ef09225e"
      },
      "source": [
        "import pandas as pd\n",
        "\n",
        "# Downloading funds and creating quotes and returns dataframes\n",
        "Begin = '2000-03-10'\n",
        "# End = '2017-08-20' # Só activas se quiseres que acabe num dia especifíco \n",
        "\n",
        "MSid = ['F000016BE4', 'F000016BE5', 'F000016BE6'] #175\n",
        "\n",
        "Nomes = ['Conservador', 'Moderado', 'Dinâmico'] # 175\n",
        "\n",
        "fundos = pd.DataFrame()\n",
        "\n",
        "# Download\n",
        "for ticker in MSid:\n",
        "    try:\n",
        "        url = \"https://lt.morningstar.com/api/rest.svc/timeseries_price/2nhcdckzon?id=\" + str(ticker) + \"&currencyId=BAS&idtype=Morningstar&frequency=daily&startDate=\" + Begin + \"&outputType=CSV\"\n",
        "        fundo = pd.read_csv(url, sep = \";\" , index_col = 'date', parse_dates = True)\n",
        "        fundo =  fundo.drop('Unnamed: 2', 1)\n",
        "        fundos = fundos.merge(fundo, left_index = True, right_index = True, how='outer')\n",
        "    except:\n",
        "        print('Download of fund ' + ticker + ' failed')\n",
        "        \n",
        "fundos.columns = Nomes\n",
        "fundos"
      ],
      "execution_count": 13,
      "outputs": [
        {
          "output_type": "execute_result",
          "data": {
            "text/plain": [
              "            Conservador  Moderado  Dinâmico\n",
              "date                                       \n",
              "2021-01-06         5.00      5.00      5.00\n",
              "2021-01-08         5.01      5.03      5.05\n",
              "2021-01-11         5.01      5.02      5.04\n",
              "2021-01-12         5.01      5.02      5.04\n",
              "2021-01-13         5.01      5.03      5.05\n",
              "...                 ...       ...       ...\n",
              "2021-03-23         4.97      5.02      5.15\n",
              "2021-03-24         4.97      5.02      5.14\n",
              "2021-03-25         4.98      5.02      5.14\n",
              "2021-03-26         4.98      5.04      5.17\n",
              "2021-03-29         4.97      5.04      5.18\n",
              "\n",
              "[56 rows x 3 columns]"
            ],
            "text/html": "<div>\n<style scoped>\n    .dataframe tbody tr th:only-of-type {\n        vertical-align: middle;\n    }\n\n    .dataframe tbody tr th {\n        vertical-align: top;\n    }\n\n    .dataframe thead th {\n        text-align: right;\n    }\n</style>\n<table border=\"1\" class=\"dataframe\">\n  <thead>\n    <tr style=\"text-align: right;\">\n      <th></th>\n      <th>Conservador</th>\n      <th>Moderado</th>\n      <th>Dinâmico</th>\n    </tr>\n    <tr>\n      <th>date</th>\n      <th></th>\n      <th></th>\n      <th></th>\n    </tr>\n  </thead>\n  <tbody>\n    <tr>\n      <th>2021-01-06</th>\n      <td>5.00</td>\n      <td>5.00</td>\n      <td>5.00</td>\n    </tr>\n    <tr>\n      <th>2021-01-08</th>\n      <td>5.01</td>\n      <td>5.03</td>\n      <td>5.05</td>\n    </tr>\n    <tr>\n      <th>2021-01-11</th>\n      <td>5.01</td>\n      <td>5.02</td>\n      <td>5.04</td>\n    </tr>\n    <tr>\n      <th>2021-01-12</th>\n      <td>5.01</td>\n      <td>5.02</td>\n      <td>5.04</td>\n    </tr>\n    <tr>\n      <th>2021-01-13</th>\n      <td>5.01</td>\n      <td>5.03</td>\n      <td>5.05</td>\n    </tr>\n    <tr>\n      <th>...</th>\n      <td>...</td>\n      <td>...</td>\n      <td>...</td>\n    </tr>\n    <tr>\n      <th>2021-03-23</th>\n      <td>4.97</td>\n      <td>5.02</td>\n      <td>5.15</td>\n    </tr>\n    <tr>\n      <th>2021-03-24</th>\n      <td>4.97</td>\n      <td>5.02</td>\n      <td>5.14</td>\n    </tr>\n    <tr>\n      <th>2021-03-25</th>\n      <td>4.98</td>\n      <td>5.02</td>\n      <td>5.14</td>\n    </tr>\n    <tr>\n      <th>2021-03-26</th>\n      <td>4.98</td>\n      <td>5.04</td>\n      <td>5.17</td>\n    </tr>\n    <tr>\n      <th>2021-03-29</th>\n      <td>4.97</td>\n      <td>5.04</td>\n      <td>5.18</td>\n    </tr>\n  </tbody>\n</table>\n<p>56 rows × 3 columns</p>\n</div>"
          },
          "metadata": {},
          "execution_count": 13
        }
      ]
    },
    {
      "cell_type": "code",
      "metadata": {
        "id": "zM4uTxozcS4m",
        "colab": {
          "base_uri": "https://localhost:8080/",
          "height": 248
        },
        "outputId": "eab8defe-b21a-4522-f517-7102eb8a9502"
      },
      "source": [
        "import investpy\n",
        "\n",
        "data_total = pd.DataFrame()\n",
        "\n",
        "ISINs=['IE00BMVB5P51', 'IE00BMVB5M21', 'IE00BMVB5K07', 'IE00BMVB5R75']\n",
        "names = ['V60A', 'V40A', 'V20A', 'V80A']\n",
        "exchange =  [0, 0, 0, 0]\n",
        "x=0\n",
        "\n",
        "\n",
        "for i in ISINs:\n",
        "\n",
        "    search_results = investpy.search_quotes(text=i, n_results=2)\n",
        "    print(search_results[exchange[x]])\n",
        "    data = search_results[exchange[x]].retrieve_historical_data(from_date='31/01/2020', to_date='31/01/2030')[['Close']]\n",
        "    data_total = pl.merge_time_series(data_total, data)\n",
        "    x+=1\n",
        "\n",
        "data_total.columns = names\n",
        "data_total = data_total.dropna()\n",
        "data_total"
      ],
      "execution_count": 14,
      "outputs": [
        {
          "output_type": "stream",
          "name": "stdout",
          "text": [
            "{\"id_\": 1168161, \"name\": \"Vanguard LifeStrategy 60% Equity UCITS ETF (EUR) Accumulating\", \"symbol\": \"V60A\", \"country\": \"germany\", \"tag\": \"/etfs/v60a\", \"pair_type\": \"etfs\", \"exchange\": \"Xetra\"}\n",
            "{\"id_\": 1168631, \"name\": \"Vanguard LifeStrategy 40% Equity UCITS ETF (EUR) Accumulating\", \"symbol\": \"VNGA40\", \"country\": \"italy\", \"tag\": \"/etfs/v40a?cid=1168631\", \"pair_type\": \"etfs\", \"exchange\": \"Milan\"}\n",
            "{\"id_\": 1168825, \"name\": \"Vanguard LifeStrategy 20% Equity UCITS ETF (EUR) Accumulating\", \"symbol\": \"V20A\", \"country\": \"germany\", \"tag\": \"/etfs/v20a\", \"pair_type\": \"etfs\", \"exchange\": \"Xetra\"}\n",
            "{\"id_\": 1168586, \"name\": \"Vanguard LifeStrategy 80% Equity UCITS ETF (EUR) Accumulating\", \"symbol\": \"VNGA80\", \"country\": \"italy\", \"tag\": \"/etfs/v80a?cid=1168586\", \"pair_type\": \"etfs\", \"exchange\": \"Milan\"}\n"
          ]
        },
        {
          "output_type": "execute_result",
          "data": {
            "text/plain": [
              "            V60A  V40A  V20A  V80A\n",
              "Date                              \n",
              "2020-12-11 24.94 25.02 25.08 24.96\n",
              "2020-12-14 25.01 25.11 25.08 25.07\n",
              "2020-12-15 25.01 25.08 25.08 25.03\n",
              "2020-12-16 25.17 25.16 25.09 25.13\n",
              "2020-12-17 25.23 25.20 25.15 25.23\n",
              "...          ...   ...   ...   ...\n",
              "2021-03-25 25.99 25.43 24.85 26.58\n",
              "2021-03-26 26.13 25.47 24.88 26.77\n",
              "2021-03-29 26.18 25.52 24.86 26.87\n",
              "2021-03-30 26.25 25.55 24.84 26.98\n",
              "2021-03-31 26.30 25.63 24.90 27.09\n",
              "\n",
              "[74 rows x 4 columns]"
            ],
            "text/html": "<div>\n<style scoped>\n    .dataframe tbody tr th:only-of-type {\n        vertical-align: middle;\n    }\n\n    .dataframe tbody tr th {\n        vertical-align: top;\n    }\n\n    .dataframe thead th {\n        text-align: right;\n    }\n</style>\n<table border=\"1\" class=\"dataframe\">\n  <thead>\n    <tr style=\"text-align: right;\">\n      <th></th>\n      <th>V60A</th>\n      <th>V40A</th>\n      <th>V20A</th>\n      <th>V80A</th>\n    </tr>\n    <tr>\n      <th>Date</th>\n      <th></th>\n      <th></th>\n      <th></th>\n      <th></th>\n    </tr>\n  </thead>\n  <tbody>\n    <tr>\n      <th>2020-12-11</th>\n      <td>24.94</td>\n      <td>25.02</td>\n      <td>25.08</td>\n      <td>24.96</td>\n    </tr>\n    <tr>\n      <th>2020-12-14</th>\n      <td>25.01</td>\n      <td>25.11</td>\n      <td>25.08</td>\n      <td>25.07</td>\n    </tr>\n    <tr>\n      <th>2020-12-15</th>\n      <td>25.01</td>\n      <td>25.08</td>\n      <td>25.08</td>\n      <td>25.03</td>\n    </tr>\n    <tr>\n      <th>2020-12-16</th>\n      <td>25.17</td>\n      <td>25.16</td>\n      <td>25.09</td>\n      <td>25.13</td>\n    </tr>\n    <tr>\n      <th>2020-12-17</th>\n      <td>25.23</td>\n      <td>25.20</td>\n      <td>25.15</td>\n      <td>25.23</td>\n    </tr>\n    <tr>\n      <th>...</th>\n      <td>...</td>\n      <td>...</td>\n      <td>...</td>\n      <td>...</td>\n    </tr>\n    <tr>\n      <th>2021-03-25</th>\n      <td>25.99</td>\n      <td>25.43</td>\n      <td>24.85</td>\n      <td>26.58</td>\n    </tr>\n    <tr>\n      <th>2021-03-26</th>\n      <td>26.13</td>\n      <td>25.47</td>\n      <td>24.88</td>\n      <td>26.77</td>\n    </tr>\n    <tr>\n      <th>2021-03-29</th>\n      <td>26.18</td>\n      <td>25.52</td>\n      <td>24.86</td>\n      <td>26.87</td>\n    </tr>\n    <tr>\n      <th>2021-03-30</th>\n      <td>26.25</td>\n      <td>25.55</td>\n      <td>24.84</td>\n      <td>26.98</td>\n    </tr>\n    <tr>\n      <th>2021-03-31</th>\n      <td>26.30</td>\n      <td>25.63</td>\n      <td>24.90</td>\n      <td>27.09</td>\n    </tr>\n  </tbody>\n</table>\n<p>74 rows × 4 columns</p>\n</div>"
          },
          "metadata": {},
          "execution_count": 14
        }
      ]
    },
    {
      "cell_type": "code",
      "metadata": {
        "id": "UakHO2En5zZ6"
      },
      "source": [
        "search_results = investpy.search_quotes(text='IE00BMVB5P51', n_results=2)\n",
        "data = search_results[0].retrieve_historical_data(from_date='31/01/2020', to_date='31/01/2030')\n",
        "data"
      ],
      "execution_count": 15,
      "outputs": [
        {
          "output_type": "execute_result",
          "data": {
            "text/plain": [
              "            Open  High   Low  Close  Volume\n",
              "Date                                       \n",
              "2020-12-11 25.05 25.05 24.89  24.94    1000\n",
              "2020-12-14 25.20 25.20 25.01  25.01    1039\n",
              "2020-12-15 25.06 25.06 25.00  25.01     485\n",
              "2020-12-16 25.10 25.17 25.08  25.17    1000\n",
              "2020-12-17 25.19 25.27 25.19  25.23    2985\n",
              "...          ...   ...   ...    ...     ...\n",
              "2021-03-25 26.00 26.04 25.92  25.99     564\n",
              "2021-03-26 26.13 26.13 26.08  26.13     542\n",
              "2021-03-29 26.18 26.25 26.17  26.18    1204\n",
              "2021-03-30 26.24 26.28 26.21  26.25      45\n",
              "2021-03-31 26.23 26.32 26.23  26.30      10\n",
              "\n",
              "[74 rows x 5 columns]"
            ],
            "text/html": "<div>\n<style scoped>\n    .dataframe tbody tr th:only-of-type {\n        vertical-align: middle;\n    }\n\n    .dataframe tbody tr th {\n        vertical-align: top;\n    }\n\n    .dataframe thead th {\n        text-align: right;\n    }\n</style>\n<table border=\"1\" class=\"dataframe\">\n  <thead>\n    <tr style=\"text-align: right;\">\n      <th></th>\n      <th>Open</th>\n      <th>High</th>\n      <th>Low</th>\n      <th>Close</th>\n      <th>Volume</th>\n    </tr>\n    <tr>\n      <th>Date</th>\n      <th></th>\n      <th></th>\n      <th></th>\n      <th></th>\n      <th></th>\n    </tr>\n  </thead>\n  <tbody>\n    <tr>\n      <th>2020-12-11</th>\n      <td>25.05</td>\n      <td>25.05</td>\n      <td>24.89</td>\n      <td>24.94</td>\n      <td>1000</td>\n    </tr>\n    <tr>\n      <th>2020-12-14</th>\n      <td>25.20</td>\n      <td>25.20</td>\n      <td>25.01</td>\n      <td>25.01</td>\n      <td>1039</td>\n    </tr>\n    <tr>\n      <th>2020-12-15</th>\n      <td>25.06</td>\n      <td>25.06</td>\n      <td>25.00</td>\n      <td>25.01</td>\n      <td>485</td>\n    </tr>\n    <tr>\n      <th>2020-12-16</th>\n      <td>25.10</td>\n      <td>25.17</td>\n      <td>25.08</td>\n      <td>25.17</td>\n      <td>1000</td>\n    </tr>\n    <tr>\n      <th>2020-12-17</th>\n      <td>25.19</td>\n      <td>25.27</td>\n      <td>25.19</td>\n      <td>25.23</td>\n      <td>2985</td>\n    </tr>\n    <tr>\n      <th>...</th>\n      <td>...</td>\n      <td>...</td>\n      <td>...</td>\n      <td>...</td>\n      <td>...</td>\n    </tr>\n    <tr>\n      <th>2021-03-25</th>\n      <td>26.00</td>\n      <td>26.04</td>\n      <td>25.92</td>\n      <td>25.99</td>\n      <td>564</td>\n    </tr>\n    <tr>\n      <th>2021-03-26</th>\n      <td>26.13</td>\n      <td>26.13</td>\n      <td>26.08</td>\n      <td>26.13</td>\n      <td>542</td>\n    </tr>\n    <tr>\n      <th>2021-03-29</th>\n      <td>26.18</td>\n      <td>26.25</td>\n      <td>26.17</td>\n      <td>26.18</td>\n      <td>1204</td>\n    </tr>\n    <tr>\n      <th>2021-03-30</th>\n      <td>26.24</td>\n      <td>26.28</td>\n      <td>26.21</td>\n      <td>26.25</td>\n      <td>45</td>\n    </tr>\n    <tr>\n      <th>2021-03-31</th>\n      <td>26.23</td>\n      <td>26.32</td>\n      <td>26.23</td>\n      <td>26.30</td>\n      <td>10</td>\n    </tr>\n  </tbody>\n</table>\n<p>74 rows × 5 columns</p>\n</div>"
          },
          "metadata": {},
          "execution_count": 15
        }
      ]
    },
    {
      "cell_type": "code",
      "metadata": {
        "colab": {
          "base_uri": "https://localhost:8080/"
        },
        "id": "SA8d61Ob6ObG",
        "outputId": "07d33eef-08cf-4544-9a8a-e383a1d2e947"
      },
      "source": [
        "print(data)"
      ],
      "execution_count": 16,
      "outputs": [
        {
          "output_type": "stream",
          "name": "stdout",
          "text": [
            "            Open  High   Low  Close  Volume\nDate                                       \n2020-12-11 25.05 25.05 24.89  24.94    1000\n2020-12-14 25.20 25.20 25.01  25.01    1039\n2020-12-15 25.06 25.06 25.00  25.01     485\n2020-12-16 25.10 25.17 25.08  25.17    1000\n2020-12-17 25.19 25.27 25.19  25.23    2985\n...          ...   ...   ...    ...     ...\n2021-03-25 26.00 26.04 25.92  25.99     564\n2021-03-26 26.13 26.13 26.08  26.13     542\n2021-03-29 26.18 26.25 26.17  26.18    1204\n2021-03-30 26.24 26.28 26.21  26.25      45\n2021-03-31 26.23 26.32 26.23  26.30      10\n\n[74 rows x 5 columns]\n"
          ]
        }
      ]
    },
    {
      "cell_type": "code",
      "metadata": {
        "id": "51QwNmsslxgP"
      },
      "source": [
        "pl.ichart(round(pl.normalize(data_total), 2), title='Vanguard LifeStrategy',\n",
        "          yticksuffix= '€', yTitle='Valorização por cada 100 €uros investidos', colab=False)"
      ],
      "execution_count": 18,
      "outputs": [
        {
          "output_type": "display_data",
          "data": {
            "application/vnd.plotly.v1+json": {
              "config": {
                "plotlyServerURL": "https://plot.ly"
              },
              "data": [
                {
                  "line": {
                    "color": "royalblue",
                    "width": 1.3
                  },
                  "mode": "lines",
                  "name": "V60A",
                  "type": "scatter",
                  "x": [
                    "2020-12-11T00:00:00",
                    "2020-12-14T00:00:00",
                    "2020-12-15T00:00:00",
                    "2020-12-16T00:00:00",
                    "2020-12-17T00:00:00",
                    "2020-12-18T00:00:00",
                    "2020-12-21T00:00:00",
                    "2020-12-22T00:00:00",
                    "2020-12-23T00:00:00",
                    "2020-12-28T00:00:00",
                    "2020-12-29T00:00:00",
                    "2020-12-30T00:00:00",
                    "2021-01-04T00:00:00",
                    "2021-01-05T00:00:00",
                    "2021-01-06T00:00:00",
                    "2021-01-07T00:00:00",
                    "2021-01-08T00:00:00",
                    "2021-01-11T00:00:00",
                    "2021-01-12T00:00:00",
                    "2021-01-13T00:00:00",
                    "2021-01-14T00:00:00",
                    "2021-01-15T00:00:00",
                    "2021-01-18T00:00:00",
                    "2021-01-19T00:00:00",
                    "2021-01-20T00:00:00",
                    "2021-01-21T00:00:00",
                    "2021-01-22T00:00:00",
                    "2021-01-25T00:00:00",
                    "2021-01-26T00:00:00",
                    "2021-01-27T00:00:00",
                    "2021-01-28T00:00:00",
                    "2021-01-29T00:00:00",
                    "2021-02-01T00:00:00",
                    "2021-02-02T00:00:00",
                    "2021-02-03T00:00:00",
                    "2021-02-04T00:00:00",
                    "2021-02-05T00:00:00",
                    "2021-02-08T00:00:00",
                    "2021-02-10T00:00:00",
                    "2021-02-11T00:00:00",
                    "2021-02-12T00:00:00",
                    "2021-02-15T00:00:00",
                    "2021-02-16T00:00:00",
                    "2021-02-17T00:00:00",
                    "2021-02-18T00:00:00",
                    "2021-02-19T00:00:00",
                    "2021-02-22T00:00:00",
                    "2021-02-23T00:00:00",
                    "2021-02-24T00:00:00",
                    "2021-02-25T00:00:00",
                    "2021-02-26T00:00:00",
                    "2021-03-01T00:00:00",
                    "2021-03-02T00:00:00",
                    "2021-03-03T00:00:00",
                    "2021-03-04T00:00:00",
                    "2021-03-05T00:00:00",
                    "2021-03-08T00:00:00",
                    "2021-03-09T00:00:00",
                    "2021-03-10T00:00:00",
                    "2021-03-11T00:00:00",
                    "2021-03-12T00:00:00",
                    "2021-03-15T00:00:00",
                    "2021-03-16T00:00:00",
                    "2021-03-17T00:00:00",
                    "2021-03-18T00:00:00",
                    "2021-03-19T00:00:00",
                    "2021-03-22T00:00:00",
                    "2021-03-23T00:00:00",
                    "2021-03-24T00:00:00",
                    "2021-03-25T00:00:00",
                    "2021-03-26T00:00:00",
                    "2021-03-29T00:00:00",
                    "2021-03-30T00:00:00",
                    "2021-03-31T00:00:00"
                  ],
                  "y": [
                    100,
                    100.28,
                    100.28,
                    100.92,
                    101.16,
                    100.92,
                    100.24,
                    100.84,
                    101,
                    101.52,
                    101.76,
                    101.72,
                    101.24,
                    101.44,
                    101.88,
                    102.09,
                    102.81,
                    103.01,
                    102.85,
                    103.17,
                    103.57,
                    103.05,
                    103.29,
                    103.05,
                    103.97,
                    103.89,
                    103.37,
                    103.41,
                    103.57,
                    102.77,
                    102.69,
                    101.48,
                    102.25,
                    103.33,
                    103.45,
                    103.93,
                    104.17,
                    104.53,
                    104.29,
                    104.69,
                    104.77,
                    105.21,
                    104.85,
                    104.77,
                    104.25,
                    104.45,
                    103.65,
                    103.17,
                    103.53,
                    102.69,
                    102.25,
                    103.57,
                    103.33,
                    103.09,
                    102.69,
                    101.92,
                    103.49,
                    103.77,
                    103.93,
                    104.49,
                    104.05,
                    104.37,
                    104.89,
                    104.37,
                    104.53,
                    104.25,
                    104.41,
                    104.57,
                    104.45,
                    104.21,
                    104.77,
                    104.97,
                    105.25,
                    105.45
                  ]
                },
                {
                  "line": {
                    "color": "darkorange",
                    "width": 1.3
                  },
                  "mode": "lines",
                  "name": "V40A",
                  "type": "scatter",
                  "x": [
                    "2020-12-11T00:00:00",
                    "2020-12-14T00:00:00",
                    "2020-12-15T00:00:00",
                    "2020-12-16T00:00:00",
                    "2020-12-17T00:00:00",
                    "2020-12-18T00:00:00",
                    "2020-12-21T00:00:00",
                    "2020-12-22T00:00:00",
                    "2020-12-23T00:00:00",
                    "2020-12-28T00:00:00",
                    "2020-12-29T00:00:00",
                    "2020-12-30T00:00:00",
                    "2021-01-04T00:00:00",
                    "2021-01-05T00:00:00",
                    "2021-01-06T00:00:00",
                    "2021-01-07T00:00:00",
                    "2021-01-08T00:00:00",
                    "2021-01-11T00:00:00",
                    "2021-01-12T00:00:00",
                    "2021-01-13T00:00:00",
                    "2021-01-14T00:00:00",
                    "2021-01-15T00:00:00",
                    "2021-01-18T00:00:00",
                    "2021-01-19T00:00:00",
                    "2021-01-20T00:00:00",
                    "2021-01-21T00:00:00",
                    "2021-01-22T00:00:00",
                    "2021-01-25T00:00:00",
                    "2021-01-26T00:00:00",
                    "2021-01-27T00:00:00",
                    "2021-01-28T00:00:00",
                    "2021-01-29T00:00:00",
                    "2021-02-01T00:00:00",
                    "2021-02-02T00:00:00",
                    "2021-02-03T00:00:00",
                    "2021-02-04T00:00:00",
                    "2021-02-05T00:00:00",
                    "2021-02-08T00:00:00",
                    "2021-02-10T00:00:00",
                    "2021-02-11T00:00:00",
                    "2021-02-12T00:00:00",
                    "2021-02-15T00:00:00",
                    "2021-02-16T00:00:00",
                    "2021-02-17T00:00:00",
                    "2021-02-18T00:00:00",
                    "2021-02-19T00:00:00",
                    "2021-02-22T00:00:00",
                    "2021-02-23T00:00:00",
                    "2021-02-24T00:00:00",
                    "2021-02-25T00:00:00",
                    "2021-02-26T00:00:00",
                    "2021-03-01T00:00:00",
                    "2021-03-02T00:00:00",
                    "2021-03-03T00:00:00",
                    "2021-03-04T00:00:00",
                    "2021-03-05T00:00:00",
                    "2021-03-08T00:00:00",
                    "2021-03-09T00:00:00",
                    "2021-03-10T00:00:00",
                    "2021-03-11T00:00:00",
                    "2021-03-12T00:00:00",
                    "2021-03-15T00:00:00",
                    "2021-03-16T00:00:00",
                    "2021-03-17T00:00:00",
                    "2021-03-18T00:00:00",
                    "2021-03-19T00:00:00",
                    "2021-03-22T00:00:00",
                    "2021-03-23T00:00:00",
                    "2021-03-24T00:00:00",
                    "2021-03-25T00:00:00",
                    "2021-03-26T00:00:00",
                    "2021-03-29T00:00:00",
                    "2021-03-30T00:00:00",
                    "2021-03-31T00:00:00"
                  ],
                  "y": [
                    100,
                    100.36,
                    100.24,
                    100.56,
                    100.72,
                    100.6,
                    100.12,
                    100.44,
                    100.64,
                    101.12,
                    101.36,
                    101.56,
                    100.88,
                    100.8,
                    100.96,
                    101.24,
                    101.64,
                    101.76,
                    101.72,
                    101.88,
                    102.24,
                    101.8,
                    101.88,
                    102.04,
                    102.36,
                    102.2,
                    101.8,
                    101.92,
                    101.96,
                    101.64,
                    101.32,
                    100.72,
                    100.96,
                    101.76,
                    101.88,
                    102.12,
                    102.36,
                    102.44,
                    102.36,
                    102.68,
                    102.64,
                    102.8,
                    102.48,
                    102.44,
                    102,
                    102.12,
                    101.56,
                    101,
                    101.32,
                    100.6,
                    100.2,
                    101.32,
                    101.2,
                    100.92,
                    100.64,
                    100.04,
                    101.04,
                    101.32,
                    101.56,
                    101.88,
                    101.32,
                    101.6,
                    102.08,
                    101.6,
                    101.56,
                    101.44,
                    101.56,
                    101.72,
                    101.88,
                    101.64,
                    101.8,
                    102,
                    102.12,
                    102.44
                  ]
                },
                {
                  "line": {
                    "color": "dimgrey",
                    "width": 1.3
                  },
                  "mode": "lines",
                  "name": "V20A",
                  "type": "scatter",
                  "x": [
                    "2020-12-11T00:00:00",
                    "2020-12-14T00:00:00",
                    "2020-12-15T00:00:00",
                    "2020-12-16T00:00:00",
                    "2020-12-17T00:00:00",
                    "2020-12-18T00:00:00",
                    "2020-12-21T00:00:00",
                    "2020-12-22T00:00:00",
                    "2020-12-23T00:00:00",
                    "2020-12-28T00:00:00",
                    "2020-12-29T00:00:00",
                    "2020-12-30T00:00:00",
                    "2021-01-04T00:00:00",
                    "2021-01-05T00:00:00",
                    "2021-01-06T00:00:00",
                    "2021-01-07T00:00:00",
                    "2021-01-08T00:00:00",
                    "2021-01-11T00:00:00",
                    "2021-01-12T00:00:00",
                    "2021-01-13T00:00:00",
                    "2021-01-14T00:00:00",
                    "2021-01-15T00:00:00",
                    "2021-01-18T00:00:00",
                    "2021-01-19T00:00:00",
                    "2021-01-20T00:00:00",
                    "2021-01-21T00:00:00",
                    "2021-01-22T00:00:00",
                    "2021-01-25T00:00:00",
                    "2021-01-26T00:00:00",
                    "2021-01-27T00:00:00",
                    "2021-01-28T00:00:00",
                    "2021-01-29T00:00:00",
                    "2021-02-01T00:00:00",
                    "2021-02-02T00:00:00",
                    "2021-02-03T00:00:00",
                    "2021-02-04T00:00:00",
                    "2021-02-05T00:00:00",
                    "2021-02-08T00:00:00",
                    "2021-02-10T00:00:00",
                    "2021-02-11T00:00:00",
                    "2021-02-12T00:00:00",
                    "2021-02-15T00:00:00",
                    "2021-02-16T00:00:00",
                    "2021-02-17T00:00:00",
                    "2021-02-18T00:00:00",
                    "2021-02-19T00:00:00",
                    "2021-02-22T00:00:00",
                    "2021-02-23T00:00:00",
                    "2021-02-24T00:00:00",
                    "2021-02-25T00:00:00",
                    "2021-02-26T00:00:00",
                    "2021-03-01T00:00:00",
                    "2021-03-02T00:00:00",
                    "2021-03-03T00:00:00",
                    "2021-03-04T00:00:00",
                    "2021-03-05T00:00:00",
                    "2021-03-08T00:00:00",
                    "2021-03-09T00:00:00",
                    "2021-03-10T00:00:00",
                    "2021-03-11T00:00:00",
                    "2021-03-12T00:00:00",
                    "2021-03-15T00:00:00",
                    "2021-03-16T00:00:00",
                    "2021-03-17T00:00:00",
                    "2021-03-18T00:00:00",
                    "2021-03-19T00:00:00",
                    "2021-03-22T00:00:00",
                    "2021-03-23T00:00:00",
                    "2021-03-24T00:00:00",
                    "2021-03-25T00:00:00",
                    "2021-03-26T00:00:00",
                    "2021-03-29T00:00:00",
                    "2021-03-30T00:00:00",
                    "2021-03-31T00:00:00"
                  ],
                  "y": [
                    100,
                    100,
                    100,
                    100.04,
                    100.28,
                    100.16,
                    99.8,
                    100.04,
                    99.88,
                    100.36,
                    100.48,
                    100.44,
                    100.56,
                    100.4,
                    100.4,
                    100.24,
                    100.56,
                    100.48,
                    100.24,
                    100.64,
                    100.88,
                    100.48,
                    100.48,
                    100.64,
                    100.8,
                    100.84,
                    100.52,
                    100.68,
                    100.72,
                    100.6,
                    100.48,
                    99.96,
                    100.2,
                    100.32,
                    100.36,
                    100.4,
                    100.36,
                    100.52,
                    100.48,
                    100.64,
                    100.48,
                    100.48,
                    100.2,
                    100.28,
                    99.92,
                    99.72,
                    99.44,
                    99.16,
                    99.16,
                    98.52,
                    98.37,
                    99.08,
                    99.12,
                    98.8,
                    98.68,
                    98.25,
                    98.68,
                    98.92,
                    99.04,
                    99.28,
                    98.76,
                    98.96,
                    99.24,
                    98.8,
                    98.68,
                    98.68,
                    98.92,
                    99.04,
                    99.08,
                    99.08,
                    99.2,
                    99.12,
                    99.04,
                    99.28
                  ]
                },
                {
                  "line": {
                    "color": "rgb(86, 53, 171)",
                    "width": 1.3
                  },
                  "mode": "lines",
                  "name": "V80A",
                  "type": "scatter",
                  "x": [
                    "2020-12-11T00:00:00",
                    "2020-12-14T00:00:00",
                    "2020-12-15T00:00:00",
                    "2020-12-16T00:00:00",
                    "2020-12-17T00:00:00",
                    "2020-12-18T00:00:00",
                    "2020-12-21T00:00:00",
                    "2020-12-22T00:00:00",
                    "2020-12-23T00:00:00",
                    "2020-12-28T00:00:00",
                    "2020-12-29T00:00:00",
                    "2020-12-30T00:00:00",
                    "2021-01-04T00:00:00",
                    "2021-01-05T00:00:00",
                    "2021-01-06T00:00:00",
                    "2021-01-07T00:00:00",
                    "2021-01-08T00:00:00",
                    "2021-01-11T00:00:00",
                    "2021-01-12T00:00:00",
                    "2021-01-13T00:00:00",
                    "2021-01-14T00:00:00",
                    "2021-01-15T00:00:00",
                    "2021-01-18T00:00:00",
                    "2021-01-19T00:00:00",
                    "2021-01-20T00:00:00",
                    "2021-01-21T00:00:00",
                    "2021-01-22T00:00:00",
                    "2021-01-25T00:00:00",
                    "2021-01-26T00:00:00",
                    "2021-01-27T00:00:00",
                    "2021-01-28T00:00:00",
                    "2021-01-29T00:00:00",
                    "2021-02-01T00:00:00",
                    "2021-02-02T00:00:00",
                    "2021-02-03T00:00:00",
                    "2021-02-04T00:00:00",
                    "2021-02-05T00:00:00",
                    "2021-02-08T00:00:00",
                    "2021-02-10T00:00:00",
                    "2021-02-11T00:00:00",
                    "2021-02-12T00:00:00",
                    "2021-02-15T00:00:00",
                    "2021-02-16T00:00:00",
                    "2021-02-17T00:00:00",
                    "2021-02-18T00:00:00",
                    "2021-02-19T00:00:00",
                    "2021-02-22T00:00:00",
                    "2021-02-23T00:00:00",
                    "2021-02-24T00:00:00",
                    "2021-02-25T00:00:00",
                    "2021-02-26T00:00:00",
                    "2021-03-01T00:00:00",
                    "2021-03-02T00:00:00",
                    "2021-03-03T00:00:00",
                    "2021-03-04T00:00:00",
                    "2021-03-05T00:00:00",
                    "2021-03-08T00:00:00",
                    "2021-03-09T00:00:00",
                    "2021-03-10T00:00:00",
                    "2021-03-11T00:00:00",
                    "2021-03-12T00:00:00",
                    "2021-03-15T00:00:00",
                    "2021-03-16T00:00:00",
                    "2021-03-17T00:00:00",
                    "2021-03-18T00:00:00",
                    "2021-03-19T00:00:00",
                    "2021-03-22T00:00:00",
                    "2021-03-23T00:00:00",
                    "2021-03-24T00:00:00",
                    "2021-03-25T00:00:00",
                    "2021-03-26T00:00:00",
                    "2021-03-29T00:00:00",
                    "2021-03-30T00:00:00",
                    "2021-03-31T00:00:00"
                  ],
                  "y": [
                    100,
                    100.44,
                    100.28,
                    100.68,
                    101.08,
                    100.8,
                    100,
                    100.72,
                    101,
                    101.88,
                    102.2,
                    102.2,
                    101.24,
                    101.32,
                    102.44,
                    102.6,
                    103.41,
                    104.01,
                    103.97,
                    104.13,
                    104.61,
                    103.73,
                    104.05,
                    104.21,
                    105.25,
                    105.13,
                    104.37,
                    104.25,
                    104.77,
                    103.49,
                    103.53,
                    102.12,
                    102.76,
                    104.69,
                    104.85,
                    105.49,
                    105.81,
                    106.25,
                    105.81,
                    106.37,
                    106.65,
                    107.33,
                    107.09,
                    106.81,
                    106.05,
                    106.45,
                    105.37,
                    104.57,
                    105.29,
                    104.49,
                    103.41,
                    105.49,
                    105.09,
                    104.81,
                    104.29,
                    103.25,
                    105.61,
                    105.89,
                    106.09,
                    106.73,
                    106.41,
                    106.73,
                    107.57,
                    107.05,
                    107.17,
                    106.77,
                    106.89,
                    107.09,
                    106.85,
                    106.49,
                    107.25,
                    107.65,
                    108.09,
                    108.53
                  ]
                }
              ],
              "layout": {
                "annotations": [
                  {
                    "font": {
                      "color": "rgb(150,150,150)",
                      "family": "Arial",
                      "size": 12
                    },
                    "showarrow": false,
                    "text": "",
                    "x": 0.5,
                    "xanchor": "center",
                    "xref": "paper",
                    "y": "-0.125",
                    "yanchor": "top",
                    "yref": "paper"
                  }
                ],
                "height": 500,
                "hovermode": "x",
                "paper_bgcolor": "#F5F6F9",
                "plot_bgcolor": "#F5F6F9",
                "showlegend": true,
                "template": {
                  "data": {
                    "bar": [
                      {
                        "error_x": {
                          "color": "#2a3f5f"
                        },
                        "error_y": {
                          "color": "#2a3f5f"
                        },
                        "marker": {
                          "line": {
                            "color": "#E5ECF6",
                            "width": 0.5
                          }
                        },
                        "type": "bar"
                      }
                    ],
                    "barpolar": [
                      {
                        "marker": {
                          "line": {
                            "color": "#E5ECF6",
                            "width": 0.5
                          }
                        },
                        "type": "barpolar"
                      }
                    ],
                    "carpet": [
                      {
                        "aaxis": {
                          "endlinecolor": "#2a3f5f",
                          "gridcolor": "white",
                          "linecolor": "white",
                          "minorgridcolor": "white",
                          "startlinecolor": "#2a3f5f"
                        },
                        "baxis": {
                          "endlinecolor": "#2a3f5f",
                          "gridcolor": "white",
                          "linecolor": "white",
                          "minorgridcolor": "white",
                          "startlinecolor": "#2a3f5f"
                        },
                        "type": "carpet"
                      }
                    ],
                    "choropleth": [
                      {
                        "colorbar": {
                          "outlinewidth": 0,
                          "ticks": ""
                        },
                        "type": "choropleth"
                      }
                    ],
                    "contour": [
                      {
                        "colorbar": {
                          "outlinewidth": 0,
                          "ticks": ""
                        },
                        "colorscale": [
                          [
                            0,
                            "#0d0887"
                          ],
                          [
                            0.1111111111111111,
                            "#46039f"
                          ],
                          [
                            0.2222222222222222,
                            "#7201a8"
                          ],
                          [
                            0.3333333333333333,
                            "#9c179e"
                          ],
                          [
                            0.4444444444444444,
                            "#bd3786"
                          ],
                          [
                            0.5555555555555556,
                            "#d8576b"
                          ],
                          [
                            0.6666666666666666,
                            "#ed7953"
                          ],
                          [
                            0.7777777777777778,
                            "#fb9f3a"
                          ],
                          [
                            0.8888888888888888,
                            "#fdca26"
                          ],
                          [
                            1,
                            "#f0f921"
                          ]
                        ],
                        "type": "contour"
                      }
                    ],
                    "contourcarpet": [
                      {
                        "colorbar": {
                          "outlinewidth": 0,
                          "ticks": ""
                        },
                        "type": "contourcarpet"
                      }
                    ],
                    "heatmap": [
                      {
                        "colorbar": {
                          "outlinewidth": 0,
                          "ticks": ""
                        },
                        "colorscale": [
                          [
                            0,
                            "#0d0887"
                          ],
                          [
                            0.1111111111111111,
                            "#46039f"
                          ],
                          [
                            0.2222222222222222,
                            "#7201a8"
                          ],
                          [
                            0.3333333333333333,
                            "#9c179e"
                          ],
                          [
                            0.4444444444444444,
                            "#bd3786"
                          ],
                          [
                            0.5555555555555556,
                            "#d8576b"
                          ],
                          [
                            0.6666666666666666,
                            "#ed7953"
                          ],
                          [
                            0.7777777777777778,
                            "#fb9f3a"
                          ],
                          [
                            0.8888888888888888,
                            "#fdca26"
                          ],
                          [
                            1,
                            "#f0f921"
                          ]
                        ],
                        "type": "heatmap"
                      }
                    ],
                    "heatmapgl": [
                      {
                        "colorbar": {
                          "outlinewidth": 0,
                          "ticks": ""
                        },
                        "colorscale": [
                          [
                            0,
                            "#0d0887"
                          ],
                          [
                            0.1111111111111111,
                            "#46039f"
                          ],
                          [
                            0.2222222222222222,
                            "#7201a8"
                          ],
                          [
                            0.3333333333333333,
                            "#9c179e"
                          ],
                          [
                            0.4444444444444444,
                            "#bd3786"
                          ],
                          [
                            0.5555555555555556,
                            "#d8576b"
                          ],
                          [
                            0.6666666666666666,
                            "#ed7953"
                          ],
                          [
                            0.7777777777777778,
                            "#fb9f3a"
                          ],
                          [
                            0.8888888888888888,
                            "#fdca26"
                          ],
                          [
                            1,
                            "#f0f921"
                          ]
                        ],
                        "type": "heatmapgl"
                      }
                    ],
                    "histogram": [
                      {
                        "marker": {
                          "colorbar": {
                            "outlinewidth": 0,
                            "ticks": ""
                          }
                        },
                        "type": "histogram"
                      }
                    ],
                    "histogram2d": [
                      {
                        "colorbar": {
                          "outlinewidth": 0,
                          "ticks": ""
                        },
                        "colorscale": [
                          [
                            0,
                            "#0d0887"
                          ],
                          [
                            0.1111111111111111,
                            "#46039f"
                          ],
                          [
                            0.2222222222222222,
                            "#7201a8"
                          ],
                          [
                            0.3333333333333333,
                            "#9c179e"
                          ],
                          [
                            0.4444444444444444,
                            "#bd3786"
                          ],
                          [
                            0.5555555555555556,
                            "#d8576b"
                          ],
                          [
                            0.6666666666666666,
                            "#ed7953"
                          ],
                          [
                            0.7777777777777778,
                            "#fb9f3a"
                          ],
                          [
                            0.8888888888888888,
                            "#fdca26"
                          ],
                          [
                            1,
                            "#f0f921"
                          ]
                        ],
                        "type": "histogram2d"
                      }
                    ],
                    "histogram2dcontour": [
                      {
                        "colorbar": {
                          "outlinewidth": 0,
                          "ticks": ""
                        },
                        "colorscale": [
                          [
                            0,
                            "#0d0887"
                          ],
                          [
                            0.1111111111111111,
                            "#46039f"
                          ],
                          [
                            0.2222222222222222,
                            "#7201a8"
                          ],
                          [
                            0.3333333333333333,
                            "#9c179e"
                          ],
                          [
                            0.4444444444444444,
                            "#bd3786"
                          ],
                          [
                            0.5555555555555556,
                            "#d8576b"
                          ],
                          [
                            0.6666666666666666,
                            "#ed7953"
                          ],
                          [
                            0.7777777777777778,
                            "#fb9f3a"
                          ],
                          [
                            0.8888888888888888,
                            "#fdca26"
                          ],
                          [
                            1,
                            "#f0f921"
                          ]
                        ],
                        "type": "histogram2dcontour"
                      }
                    ],
                    "mesh3d": [
                      {
                        "colorbar": {
                          "outlinewidth": 0,
                          "ticks": ""
                        },
                        "type": "mesh3d"
                      }
                    ],
                    "parcoords": [
                      {
                        "line": {
                          "colorbar": {
                            "outlinewidth": 0,
                            "ticks": ""
                          }
                        },
                        "type": "parcoords"
                      }
                    ],
                    "pie": [
                      {
                        "automargin": true,
                        "type": "pie"
                      }
                    ],
                    "scatter": [
                      {
                        "marker": {
                          "colorbar": {
                            "outlinewidth": 0,
                            "ticks": ""
                          }
                        },
                        "type": "scatter"
                      }
                    ],
                    "scatter3d": [
                      {
                        "line": {
                          "colorbar": {
                            "outlinewidth": 0,
                            "ticks": ""
                          }
                        },
                        "marker": {
                          "colorbar": {
                            "outlinewidth": 0,
                            "ticks": ""
                          }
                        },
                        "type": "scatter3d"
                      }
                    ],
                    "scattercarpet": [
                      {
                        "marker": {
                          "colorbar": {
                            "outlinewidth": 0,
                            "ticks": ""
                          }
                        },
                        "type": "scattercarpet"
                      }
                    ],
                    "scattergeo": [
                      {
                        "marker": {
                          "colorbar": {
                            "outlinewidth": 0,
                            "ticks": ""
                          }
                        },
                        "type": "scattergeo"
                      }
                    ],
                    "scattergl": [
                      {
                        "marker": {
                          "colorbar": {
                            "outlinewidth": 0,
                            "ticks": ""
                          }
                        },
                        "type": "scattergl"
                      }
                    ],
                    "scattermapbox": [
                      {
                        "marker": {
                          "colorbar": {
                            "outlinewidth": 0,
                            "ticks": ""
                          }
                        },
                        "type": "scattermapbox"
                      }
                    ],
                    "scatterpolar": [
                      {
                        "marker": {
                          "colorbar": {
                            "outlinewidth": 0,
                            "ticks": ""
                          }
                        },
                        "type": "scatterpolar"
                      }
                    ],
                    "scatterpolargl": [
                      {
                        "marker": {
                          "colorbar": {
                            "outlinewidth": 0,
                            "ticks": ""
                          }
                        },
                        "type": "scatterpolargl"
                      }
                    ],
                    "scatterternary": [
                      {
                        "marker": {
                          "colorbar": {
                            "outlinewidth": 0,
                            "ticks": ""
                          }
                        },
                        "type": "scatterternary"
                      }
                    ],
                    "surface": [
                      {
                        "colorbar": {
                          "outlinewidth": 0,
                          "ticks": ""
                        },
                        "colorscale": [
                          [
                            0,
                            "#0d0887"
                          ],
                          [
                            0.1111111111111111,
                            "#46039f"
                          ],
                          [
                            0.2222222222222222,
                            "#7201a8"
                          ],
                          [
                            0.3333333333333333,
                            "#9c179e"
                          ],
                          [
                            0.4444444444444444,
                            "#bd3786"
                          ],
                          [
                            0.5555555555555556,
                            "#d8576b"
                          ],
                          [
                            0.6666666666666666,
                            "#ed7953"
                          ],
                          [
                            0.7777777777777778,
                            "#fb9f3a"
                          ],
                          [
                            0.8888888888888888,
                            "#fdca26"
                          ],
                          [
                            1,
                            "#f0f921"
                          ]
                        ],
                        "type": "surface"
                      }
                    ],
                    "table": [
                      {
                        "cells": {
                          "fill": {
                            "color": "#EBF0F8"
                          },
                          "line": {
                            "color": "white"
                          }
                        },
                        "header": {
                          "fill": {
                            "color": "#C8D4E3"
                          },
                          "line": {
                            "color": "white"
                          }
                        },
                        "type": "table"
                      }
                    ]
                  },
                  "layout": {
                    "annotationdefaults": {
                      "arrowcolor": "#2a3f5f",
                      "arrowhead": 0,
                      "arrowwidth": 1
                    },
                    "autotypenumbers": "strict",
                    "coloraxis": {
                      "colorbar": {
                        "outlinewidth": 0,
                        "ticks": ""
                      }
                    },
                    "colorscale": {
                      "diverging": [
                        [
                          0,
                          "#8e0152"
                        ],
                        [
                          0.1,
                          "#c51b7d"
                        ],
                        [
                          0.2,
                          "#de77ae"
                        ],
                        [
                          0.3,
                          "#f1b6da"
                        ],
                        [
                          0.4,
                          "#fde0ef"
                        ],
                        [
                          0.5,
                          "#f7f7f7"
                        ],
                        [
                          0.6,
                          "#e6f5d0"
                        ],
                        [
                          0.7,
                          "#b8e186"
                        ],
                        [
                          0.8,
                          "#7fbc41"
                        ],
                        [
                          0.9,
                          "#4d9221"
                        ],
                        [
                          1,
                          "#276419"
                        ]
                      ],
                      "sequential": [
                        [
                          0,
                          "#0d0887"
                        ],
                        [
                          0.1111111111111111,
                          "#46039f"
                        ],
                        [
                          0.2222222222222222,
                          "#7201a8"
                        ],
                        [
                          0.3333333333333333,
                          "#9c179e"
                        ],
                        [
                          0.4444444444444444,
                          "#bd3786"
                        ],
                        [
                          0.5555555555555556,
                          "#d8576b"
                        ],
                        [
                          0.6666666666666666,
                          "#ed7953"
                        ],
                        [
                          0.7777777777777778,
                          "#fb9f3a"
                        ],
                        [
                          0.8888888888888888,
                          "#fdca26"
                        ],
                        [
                          1,
                          "#f0f921"
                        ]
                      ],
                      "sequentialminus": [
                        [
                          0,
                          "#0d0887"
                        ],
                        [
                          0.1111111111111111,
                          "#46039f"
                        ],
                        [
                          0.2222222222222222,
                          "#7201a8"
                        ],
                        [
                          0.3333333333333333,
                          "#9c179e"
                        ],
                        [
                          0.4444444444444444,
                          "#bd3786"
                        ],
                        [
                          0.5555555555555556,
                          "#d8576b"
                        ],
                        [
                          0.6666666666666666,
                          "#ed7953"
                        ],
                        [
                          0.7777777777777778,
                          "#fb9f3a"
                        ],
                        [
                          0.8888888888888888,
                          "#fdca26"
                        ],
                        [
                          1,
                          "#f0f921"
                        ]
                      ]
                    },
                    "colorway": [
                      "#636efa",
                      "#EF553B",
                      "#00cc96",
                      "#ab63fa",
                      "#FFA15A",
                      "#19d3f3",
                      "#FF6692",
                      "#B6E880",
                      "#FF97FF",
                      "#FECB52"
                    ],
                    "font": {
                      "color": "#2a3f5f"
                    },
                    "geo": {
                      "bgcolor": "white",
                      "lakecolor": "white",
                      "landcolor": "#E5ECF6",
                      "showlakes": true,
                      "showland": true,
                      "subunitcolor": "white"
                    },
                    "hoverlabel": {
                      "align": "left"
                    },
                    "hovermode": "closest",
                    "mapbox": {
                      "style": "light"
                    },
                    "paper_bgcolor": "white",
                    "plot_bgcolor": "#E5ECF6",
                    "polar": {
                      "angularaxis": {
                        "gridcolor": "white",
                        "linecolor": "white",
                        "ticks": ""
                      },
                      "bgcolor": "#E5ECF6",
                      "radialaxis": {
                        "gridcolor": "white",
                        "linecolor": "white",
                        "ticks": ""
                      }
                    },
                    "scene": {
                      "xaxis": {
                        "backgroundcolor": "#E5ECF6",
                        "gridcolor": "white",
                        "gridwidth": 2,
                        "linecolor": "white",
                        "showbackground": true,
                        "ticks": "",
                        "zerolinecolor": "white"
                      },
                      "yaxis": {
                        "backgroundcolor": "#E5ECF6",
                        "gridcolor": "white",
                        "gridwidth": 2,
                        "linecolor": "white",
                        "showbackground": true,
                        "ticks": "",
                        "zerolinecolor": "white"
                      },
                      "zaxis": {
                        "backgroundcolor": "#E5ECF6",
                        "gridcolor": "white",
                        "gridwidth": 2,
                        "linecolor": "white",
                        "showbackground": true,
                        "ticks": "",
                        "zerolinecolor": "white"
                      }
                    },
                    "shapedefaults": {
                      "line": {
                        "color": "#2a3f5f"
                      }
                    },
                    "ternary": {
                      "aaxis": {
                        "gridcolor": "white",
                        "linecolor": "white",
                        "ticks": ""
                      },
                      "baxis": {
                        "gridcolor": "white",
                        "linecolor": "white",
                        "ticks": ""
                      },
                      "bgcolor": "#E5ECF6",
                      "caxis": {
                        "gridcolor": "white",
                        "linecolor": "white",
                        "ticks": ""
                      }
                    },
                    "title": {
                      "x": 0.05
                    },
                    "xaxis": {
                      "automargin": true,
                      "gridcolor": "white",
                      "linecolor": "white",
                      "ticks": "",
                      "title": {
                        "standoff": 15
                      },
                      "zerolinecolor": "white",
                      "zerolinewidth": 2
                    },
                    "yaxis": {
                      "automargin": true,
                      "gridcolor": "white",
                      "linecolor": "white",
                      "ticks": "",
                      "title": {
                        "standoff": 15
                      },
                      "zerolinecolor": "white",
                      "zerolinewidth": 2
                    }
                  }
                },
                "title": {
                  "text": "Vanguard LifeStrategy",
                  "x": 0.5
                },
                "width": 950,
                "xaxis": {
                  "gridcolor": "#E1E5ED",
                  "showgrid": true,
                  "tickfont": {
                    "color": "#4D5663"
                  },
                  "tickformat": "",
                  "tickprefix": "",
                  "ticksuffix": "",
                  "title": {
                    "font": {
                      "color": "#4D5663"
                    },
                    "text": ""
                  },
                  "zerolinecolor": "#E1E5ED"
                },
                "yaxis": {
                  "gridcolor": "#E1E5ED",
                  "showgrid": true,
                  "tickfont": {
                    "color": "#4D5663"
                  },
                  "tickformat": "",
                  "tickprefix": "",
                  "ticksuffix": "€",
                  "title": {
                    "text": "Valorização por cada 100 €uros investidos"
                  },
                  "zerolinecolor": "#E1E5ED"
                }
              }
            },
            "text/html": "<div>                            <div id=\"24b15edd-05cc-4e1e-a960-21dad4e07665\" class=\"plotly-graph-div\" style=\"height:500px; width:950px;\"></div>            <script type=\"text/javascript\">                require([\"plotly\"], function(Plotly) {                    window.PLOTLYENV=window.PLOTLYENV || {};                                    if (document.getElementById(\"24b15edd-05cc-4e1e-a960-21dad4e07665\")) {                    Plotly.newPlot(                        \"24b15edd-05cc-4e1e-a960-21dad4e07665\",                        [{\"line\": {\"color\": \"royalblue\", \"width\": 1.3}, \"mode\": \"lines\", \"name\": \"V60A\", \"type\": \"scatter\", \"x\": [\"2020-12-11T00:00:00\", \"2020-12-14T00:00:00\", \"2020-12-15T00:00:00\", \"2020-12-16T00:00:00\", \"2020-12-17T00:00:00\", \"2020-12-18T00:00:00\", \"2020-12-21T00:00:00\", \"2020-12-22T00:00:00\", \"2020-12-23T00:00:00\", \"2020-12-28T00:00:00\", \"2020-12-29T00:00:00\", \"2020-12-30T00:00:00\", \"2021-01-04T00:00:00\", \"2021-01-05T00:00:00\", \"2021-01-06T00:00:00\", \"2021-01-07T00:00:00\", \"2021-01-08T00:00:00\", \"2021-01-11T00:00:00\", \"2021-01-12T00:00:00\", \"2021-01-13T00:00:00\", \"2021-01-14T00:00:00\", \"2021-01-15T00:00:00\", \"2021-01-18T00:00:00\", \"2021-01-19T00:00:00\", \"2021-01-20T00:00:00\", \"2021-01-21T00:00:00\", \"2021-01-22T00:00:00\", \"2021-01-25T00:00:00\", \"2021-01-26T00:00:00\", \"2021-01-27T00:00:00\", \"2021-01-28T00:00:00\", \"2021-01-29T00:00:00\", \"2021-02-01T00:00:00\", \"2021-02-02T00:00:00\", \"2021-02-03T00:00:00\", \"2021-02-04T00:00:00\", \"2021-02-05T00:00:00\", \"2021-02-08T00:00:00\", \"2021-02-10T00:00:00\", \"2021-02-11T00:00:00\", \"2021-02-12T00:00:00\", \"2021-02-15T00:00:00\", \"2021-02-16T00:00:00\", \"2021-02-17T00:00:00\", \"2021-02-18T00:00:00\", \"2021-02-19T00:00:00\", \"2021-02-22T00:00:00\", \"2021-02-23T00:00:00\", \"2021-02-24T00:00:00\", \"2021-02-25T00:00:00\", \"2021-02-26T00:00:00\", \"2021-03-01T00:00:00\", \"2021-03-02T00:00:00\", \"2021-03-03T00:00:00\", \"2021-03-04T00:00:00\", \"2021-03-05T00:00:00\", \"2021-03-08T00:00:00\", \"2021-03-09T00:00:00\", \"2021-03-10T00:00:00\", \"2021-03-11T00:00:00\", \"2021-03-12T00:00:00\", \"2021-03-15T00:00:00\", \"2021-03-16T00:00:00\", \"2021-03-17T00:00:00\", \"2021-03-18T00:00:00\", \"2021-03-19T00:00:00\", \"2021-03-22T00:00:00\", \"2021-03-23T00:00:00\", \"2021-03-24T00:00:00\", \"2021-03-25T00:00:00\", \"2021-03-26T00:00:00\", \"2021-03-29T00:00:00\", \"2021-03-30T00:00:00\", \"2021-03-31T00:00:00\"], \"y\": [100.0, 100.28, 100.28, 100.92, 101.16, 100.92, 100.24, 100.84, 101.0, 101.52, 101.76, 101.72, 101.24, 101.44, 101.88, 102.09, 102.81, 103.01, 102.85, 103.17, 103.57, 103.05, 103.29, 103.05, 103.97, 103.89, 103.37, 103.41, 103.57, 102.77, 102.69, 101.48, 102.25, 103.33, 103.45, 103.93, 104.17, 104.53, 104.29, 104.69, 104.77, 105.21, 104.85, 104.77, 104.25, 104.45, 103.65, 103.17, 103.53, 102.69, 102.25, 103.57, 103.33, 103.09, 102.69, 101.92, 103.49, 103.77, 103.93, 104.49, 104.05, 104.37, 104.89, 104.37, 104.53, 104.25, 104.41, 104.57, 104.45, 104.21, 104.77, 104.97, 105.25, 105.45]}, {\"line\": {\"color\": \"darkorange\", \"width\": 1.3}, \"mode\": \"lines\", \"name\": \"V40A\", \"type\": \"scatter\", \"x\": [\"2020-12-11T00:00:00\", \"2020-12-14T00:00:00\", \"2020-12-15T00:00:00\", \"2020-12-16T00:00:00\", \"2020-12-17T00:00:00\", \"2020-12-18T00:00:00\", \"2020-12-21T00:00:00\", \"2020-12-22T00:00:00\", \"2020-12-23T00:00:00\", \"2020-12-28T00:00:00\", \"2020-12-29T00:00:00\", \"2020-12-30T00:00:00\", \"2021-01-04T00:00:00\", \"2021-01-05T00:00:00\", \"2021-01-06T00:00:00\", \"2021-01-07T00:00:00\", \"2021-01-08T00:00:00\", \"2021-01-11T00:00:00\", \"2021-01-12T00:00:00\", \"2021-01-13T00:00:00\", \"2021-01-14T00:00:00\", \"2021-01-15T00:00:00\", \"2021-01-18T00:00:00\", \"2021-01-19T00:00:00\", \"2021-01-20T00:00:00\", \"2021-01-21T00:00:00\", \"2021-01-22T00:00:00\", \"2021-01-25T00:00:00\", \"2021-01-26T00:00:00\", \"2021-01-27T00:00:00\", \"2021-01-28T00:00:00\", \"2021-01-29T00:00:00\", \"2021-02-01T00:00:00\", \"2021-02-02T00:00:00\", \"2021-02-03T00:00:00\", \"2021-02-04T00:00:00\", \"2021-02-05T00:00:00\", \"2021-02-08T00:00:00\", \"2021-02-10T00:00:00\", \"2021-02-11T00:00:00\", \"2021-02-12T00:00:00\", \"2021-02-15T00:00:00\", \"2021-02-16T00:00:00\", \"2021-02-17T00:00:00\", \"2021-02-18T00:00:00\", \"2021-02-19T00:00:00\", \"2021-02-22T00:00:00\", \"2021-02-23T00:00:00\", \"2021-02-24T00:00:00\", \"2021-02-25T00:00:00\", \"2021-02-26T00:00:00\", \"2021-03-01T00:00:00\", \"2021-03-02T00:00:00\", \"2021-03-03T00:00:00\", \"2021-03-04T00:00:00\", \"2021-03-05T00:00:00\", \"2021-03-08T00:00:00\", \"2021-03-09T00:00:00\", \"2021-03-10T00:00:00\", \"2021-03-11T00:00:00\", \"2021-03-12T00:00:00\", \"2021-03-15T00:00:00\", \"2021-03-16T00:00:00\", \"2021-03-17T00:00:00\", \"2021-03-18T00:00:00\", \"2021-03-19T00:00:00\", \"2021-03-22T00:00:00\", \"2021-03-23T00:00:00\", \"2021-03-24T00:00:00\", \"2021-03-25T00:00:00\", \"2021-03-26T00:00:00\", \"2021-03-29T00:00:00\", \"2021-03-30T00:00:00\", \"2021-03-31T00:00:00\"], \"y\": [100.0, 100.36, 100.24, 100.56, 100.72, 100.6, 100.12, 100.44, 100.64, 101.12, 101.36, 101.56, 100.88, 100.8, 100.96, 101.24, 101.64, 101.76, 101.72, 101.88, 102.24, 101.8, 101.88, 102.04, 102.36, 102.2, 101.8, 101.92, 101.96, 101.64, 101.32, 100.72, 100.96, 101.76, 101.88, 102.12, 102.36, 102.44, 102.36, 102.68, 102.64, 102.8, 102.48, 102.44, 102.0, 102.12, 101.56, 101.0, 101.32, 100.6, 100.2, 101.32, 101.2, 100.92, 100.64, 100.04, 101.04, 101.32, 101.56, 101.88, 101.32, 101.6, 102.08, 101.6, 101.56, 101.44, 101.56, 101.72, 101.88, 101.64, 101.8, 102.0, 102.12, 102.44]}, {\"line\": {\"color\": \"dimgrey\", \"width\": 1.3}, \"mode\": \"lines\", \"name\": \"V20A\", \"type\": \"scatter\", \"x\": [\"2020-12-11T00:00:00\", \"2020-12-14T00:00:00\", \"2020-12-15T00:00:00\", \"2020-12-16T00:00:00\", \"2020-12-17T00:00:00\", \"2020-12-18T00:00:00\", \"2020-12-21T00:00:00\", \"2020-12-22T00:00:00\", \"2020-12-23T00:00:00\", \"2020-12-28T00:00:00\", \"2020-12-29T00:00:00\", \"2020-12-30T00:00:00\", \"2021-01-04T00:00:00\", \"2021-01-05T00:00:00\", \"2021-01-06T00:00:00\", \"2021-01-07T00:00:00\", \"2021-01-08T00:00:00\", \"2021-01-11T00:00:00\", \"2021-01-12T00:00:00\", \"2021-01-13T00:00:00\", \"2021-01-14T00:00:00\", \"2021-01-15T00:00:00\", \"2021-01-18T00:00:00\", \"2021-01-19T00:00:00\", \"2021-01-20T00:00:00\", \"2021-01-21T00:00:00\", \"2021-01-22T00:00:00\", \"2021-01-25T00:00:00\", \"2021-01-26T00:00:00\", \"2021-01-27T00:00:00\", \"2021-01-28T00:00:00\", \"2021-01-29T00:00:00\", \"2021-02-01T00:00:00\", \"2021-02-02T00:00:00\", \"2021-02-03T00:00:00\", \"2021-02-04T00:00:00\", \"2021-02-05T00:00:00\", \"2021-02-08T00:00:00\", \"2021-02-10T00:00:00\", \"2021-02-11T00:00:00\", \"2021-02-12T00:00:00\", \"2021-02-15T00:00:00\", \"2021-02-16T00:00:00\", \"2021-02-17T00:00:00\", \"2021-02-18T00:00:00\", \"2021-02-19T00:00:00\", \"2021-02-22T00:00:00\", \"2021-02-23T00:00:00\", \"2021-02-24T00:00:00\", \"2021-02-25T00:00:00\", \"2021-02-26T00:00:00\", \"2021-03-01T00:00:00\", \"2021-03-02T00:00:00\", \"2021-03-03T00:00:00\", \"2021-03-04T00:00:00\", \"2021-03-05T00:00:00\", \"2021-03-08T00:00:00\", \"2021-03-09T00:00:00\", \"2021-03-10T00:00:00\", \"2021-03-11T00:00:00\", \"2021-03-12T00:00:00\", \"2021-03-15T00:00:00\", \"2021-03-16T00:00:00\", \"2021-03-17T00:00:00\", \"2021-03-18T00:00:00\", \"2021-03-19T00:00:00\", \"2021-03-22T00:00:00\", \"2021-03-23T00:00:00\", \"2021-03-24T00:00:00\", \"2021-03-25T00:00:00\", \"2021-03-26T00:00:00\", \"2021-03-29T00:00:00\", \"2021-03-30T00:00:00\", \"2021-03-31T00:00:00\"], \"y\": [100.0, 100.0, 100.0, 100.04, 100.28, 100.16, 99.8, 100.04, 99.88, 100.36, 100.48, 100.44, 100.56, 100.4, 100.4, 100.24, 100.56, 100.48, 100.24, 100.64, 100.88, 100.48, 100.48, 100.64, 100.8, 100.84, 100.52, 100.68, 100.72, 100.6, 100.48, 99.96, 100.2, 100.32, 100.36, 100.4, 100.36, 100.52, 100.48, 100.64, 100.48, 100.48, 100.2, 100.28, 99.92, 99.72, 99.44, 99.16, 99.16, 98.52, 98.37, 99.08, 99.12, 98.8, 98.68, 98.25, 98.68, 98.92, 99.04, 99.28, 98.76, 98.96, 99.24, 98.8, 98.68, 98.68, 98.92, 99.04, 99.08, 99.08, 99.2, 99.12, 99.04, 99.28]}, {\"line\": {\"color\": \"rgb(86, 53, 171)\", \"width\": 1.3}, \"mode\": \"lines\", \"name\": \"V80A\", \"type\": \"scatter\", \"x\": [\"2020-12-11T00:00:00\", \"2020-12-14T00:00:00\", \"2020-12-15T00:00:00\", \"2020-12-16T00:00:00\", \"2020-12-17T00:00:00\", \"2020-12-18T00:00:00\", \"2020-12-21T00:00:00\", \"2020-12-22T00:00:00\", \"2020-12-23T00:00:00\", \"2020-12-28T00:00:00\", \"2020-12-29T00:00:00\", \"2020-12-30T00:00:00\", \"2021-01-04T00:00:00\", \"2021-01-05T00:00:00\", \"2021-01-06T00:00:00\", \"2021-01-07T00:00:00\", \"2021-01-08T00:00:00\", \"2021-01-11T00:00:00\", \"2021-01-12T00:00:00\", \"2021-01-13T00:00:00\", \"2021-01-14T00:00:00\", \"2021-01-15T00:00:00\", \"2021-01-18T00:00:00\", \"2021-01-19T00:00:00\", \"2021-01-20T00:00:00\", \"2021-01-21T00:00:00\", \"2021-01-22T00:00:00\", \"2021-01-25T00:00:00\", \"2021-01-26T00:00:00\", \"2021-01-27T00:00:00\", \"2021-01-28T00:00:00\", \"2021-01-29T00:00:00\", \"2021-02-01T00:00:00\", \"2021-02-02T00:00:00\", \"2021-02-03T00:00:00\", \"2021-02-04T00:00:00\", \"2021-02-05T00:00:00\", \"2021-02-08T00:00:00\", \"2021-02-10T00:00:00\", \"2021-02-11T00:00:00\", \"2021-02-12T00:00:00\", \"2021-02-15T00:00:00\", \"2021-02-16T00:00:00\", \"2021-02-17T00:00:00\", \"2021-02-18T00:00:00\", \"2021-02-19T00:00:00\", \"2021-02-22T00:00:00\", \"2021-02-23T00:00:00\", \"2021-02-24T00:00:00\", \"2021-02-25T00:00:00\", \"2021-02-26T00:00:00\", \"2021-03-01T00:00:00\", \"2021-03-02T00:00:00\", \"2021-03-03T00:00:00\", \"2021-03-04T00:00:00\", \"2021-03-05T00:00:00\", \"2021-03-08T00:00:00\", \"2021-03-09T00:00:00\", \"2021-03-10T00:00:00\", \"2021-03-11T00:00:00\", \"2021-03-12T00:00:00\", \"2021-03-15T00:00:00\", \"2021-03-16T00:00:00\", \"2021-03-17T00:00:00\", \"2021-03-18T00:00:00\", \"2021-03-19T00:00:00\", \"2021-03-22T00:00:00\", \"2021-03-23T00:00:00\", \"2021-03-24T00:00:00\", \"2021-03-25T00:00:00\", \"2021-03-26T00:00:00\", \"2021-03-29T00:00:00\", \"2021-03-30T00:00:00\", \"2021-03-31T00:00:00\"], \"y\": [100.0, 100.44, 100.28, 100.68, 101.08, 100.8, 100.0, 100.72, 101.0, 101.88, 102.2, 102.2, 101.24, 101.32, 102.44, 102.6, 103.41, 104.01, 103.97, 104.13, 104.61, 103.73, 104.05, 104.21, 105.25, 105.13, 104.37, 104.25, 104.77, 103.49, 103.53, 102.12, 102.76, 104.69, 104.85, 105.49, 105.81, 106.25, 105.81, 106.37, 106.65, 107.33, 107.09, 106.81, 106.05, 106.45, 105.37, 104.57, 105.29, 104.49, 103.41, 105.49, 105.09, 104.81, 104.29, 103.25, 105.61, 105.89, 106.09, 106.73, 106.41, 106.73, 107.57, 107.05, 107.17, 106.77, 106.89, 107.09, 106.85, 106.49, 107.25, 107.65, 108.09, 108.53]}],                        {\"annotations\": [{\"font\": {\"color\": \"rgb(150,150,150)\", \"family\": \"Arial\", \"size\": 12}, \"showarrow\": false, \"text\": \"\", \"x\": 0.5, \"xanchor\": \"center\", \"xref\": \"paper\", \"y\": \"-0.125\", \"yanchor\": \"top\", \"yref\": \"paper\"}], \"height\": 500, \"hovermode\": \"x\", \"paper_bgcolor\": \"#F5F6F9\", \"plot_bgcolor\": \"#F5F6F9\", \"showlegend\": true, \"template\": {\"data\": {\"bar\": [{\"error_x\": {\"color\": \"#2a3f5f\"}, \"error_y\": {\"color\": \"#2a3f5f\"}, \"marker\": {\"line\": {\"color\": \"#E5ECF6\", \"width\": 0.5}}, \"type\": \"bar\"}], \"barpolar\": [{\"marker\": {\"line\": {\"color\": \"#E5ECF6\", \"width\": 0.5}}, \"type\": \"barpolar\"}], \"carpet\": [{\"aaxis\": {\"endlinecolor\": \"#2a3f5f\", \"gridcolor\": \"white\", \"linecolor\": \"white\", \"minorgridcolor\": \"white\", \"startlinecolor\": \"#2a3f5f\"}, \"baxis\": {\"endlinecolor\": \"#2a3f5f\", \"gridcolor\": \"white\", \"linecolor\": \"white\", \"minorgridcolor\": \"white\", \"startlinecolor\": \"#2a3f5f\"}, \"type\": \"carpet\"}], \"choropleth\": [{\"colorbar\": {\"outlinewidth\": 0, \"ticks\": \"\"}, \"type\": \"choropleth\"}], \"contour\": [{\"colorbar\": {\"outlinewidth\": 0, \"ticks\": \"\"}, \"colorscale\": [[0.0, \"#0d0887\"], [0.1111111111111111, \"#46039f\"], [0.2222222222222222, \"#7201a8\"], [0.3333333333333333, \"#9c179e\"], [0.4444444444444444, \"#bd3786\"], [0.5555555555555556, \"#d8576b\"], [0.6666666666666666, \"#ed7953\"], [0.7777777777777778, \"#fb9f3a\"], [0.8888888888888888, \"#fdca26\"], [1.0, \"#f0f921\"]], \"type\": \"contour\"}], \"contourcarpet\": [{\"colorbar\": {\"outlinewidth\": 0, \"ticks\": \"\"}, \"type\": \"contourcarpet\"}], \"heatmap\": [{\"colorbar\": {\"outlinewidth\": 0, \"ticks\": \"\"}, \"colorscale\": [[0.0, \"#0d0887\"], [0.1111111111111111, \"#46039f\"], [0.2222222222222222, \"#7201a8\"], [0.3333333333333333, \"#9c179e\"], [0.4444444444444444, \"#bd3786\"], [0.5555555555555556, \"#d8576b\"], [0.6666666666666666, \"#ed7953\"], [0.7777777777777778, \"#fb9f3a\"], [0.8888888888888888, \"#fdca26\"], [1.0, \"#f0f921\"]], \"type\": \"heatmap\"}], \"heatmapgl\": [{\"colorbar\": {\"outlinewidth\": 0, \"ticks\": \"\"}, \"colorscale\": [[0.0, \"#0d0887\"], [0.1111111111111111, \"#46039f\"], [0.2222222222222222, \"#7201a8\"], [0.3333333333333333, \"#9c179e\"], [0.4444444444444444, \"#bd3786\"], [0.5555555555555556, \"#d8576b\"], [0.6666666666666666, \"#ed7953\"], [0.7777777777777778, \"#fb9f3a\"], [0.8888888888888888, \"#fdca26\"], [1.0, \"#f0f921\"]], \"type\": \"heatmapgl\"}], \"histogram\": [{\"marker\": {\"colorbar\": {\"outlinewidth\": 0, \"ticks\": \"\"}}, \"type\": \"histogram\"}], \"histogram2d\": [{\"colorbar\": {\"outlinewidth\": 0, \"ticks\": \"\"}, \"colorscale\": [[0.0, \"#0d0887\"], [0.1111111111111111, \"#46039f\"], [0.2222222222222222, \"#7201a8\"], [0.3333333333333333, \"#9c179e\"], [0.4444444444444444, \"#bd3786\"], [0.5555555555555556, \"#d8576b\"], [0.6666666666666666, \"#ed7953\"], [0.7777777777777778, \"#fb9f3a\"], [0.8888888888888888, \"#fdca26\"], [1.0, \"#f0f921\"]], \"type\": \"histogram2d\"}], \"histogram2dcontour\": [{\"colorbar\": {\"outlinewidth\": 0, \"ticks\": \"\"}, \"colorscale\": [[0.0, \"#0d0887\"], [0.1111111111111111, \"#46039f\"], [0.2222222222222222, \"#7201a8\"], [0.3333333333333333, \"#9c179e\"], [0.4444444444444444, \"#bd3786\"], [0.5555555555555556, \"#d8576b\"], [0.6666666666666666, \"#ed7953\"], [0.7777777777777778, \"#fb9f3a\"], [0.8888888888888888, \"#fdca26\"], [1.0, \"#f0f921\"]], \"type\": \"histogram2dcontour\"}], \"mesh3d\": [{\"colorbar\": {\"outlinewidth\": 0, \"ticks\": \"\"}, \"type\": \"mesh3d\"}], \"parcoords\": [{\"line\": {\"colorbar\": {\"outlinewidth\": 0, \"ticks\": \"\"}}, \"type\": \"parcoords\"}], \"pie\": [{\"automargin\": true, \"type\": \"pie\"}], \"scatter\": [{\"marker\": {\"colorbar\": {\"outlinewidth\": 0, \"ticks\": \"\"}}, \"type\": \"scatter\"}], \"scatter3d\": [{\"line\": {\"colorbar\": {\"outlinewidth\": 0, \"ticks\": \"\"}}, \"marker\": {\"colorbar\": {\"outlinewidth\": 0, \"ticks\": \"\"}}, \"type\": \"scatter3d\"}], \"scattercarpet\": [{\"marker\": {\"colorbar\": {\"outlinewidth\": 0, \"ticks\": \"\"}}, \"type\": \"scattercarpet\"}], \"scattergeo\": [{\"marker\": {\"colorbar\": {\"outlinewidth\": 0, \"ticks\": \"\"}}, \"type\": \"scattergeo\"}], \"scattergl\": [{\"marker\": {\"colorbar\": {\"outlinewidth\": 0, \"ticks\": \"\"}}, \"type\": \"scattergl\"}], \"scattermapbox\": [{\"marker\": {\"colorbar\": {\"outlinewidth\": 0, \"ticks\": \"\"}}, \"type\": \"scattermapbox\"}], \"scatterpolar\": [{\"marker\": {\"colorbar\": {\"outlinewidth\": 0, \"ticks\": \"\"}}, \"type\": \"scatterpolar\"}], \"scatterpolargl\": [{\"marker\": {\"colorbar\": {\"outlinewidth\": 0, \"ticks\": \"\"}}, \"type\": \"scatterpolargl\"}], \"scatterternary\": [{\"marker\": {\"colorbar\": {\"outlinewidth\": 0, \"ticks\": \"\"}}, \"type\": \"scatterternary\"}], \"surface\": [{\"colorbar\": {\"outlinewidth\": 0, \"ticks\": \"\"}, \"colorscale\": [[0.0, \"#0d0887\"], [0.1111111111111111, \"#46039f\"], [0.2222222222222222, \"#7201a8\"], [0.3333333333333333, \"#9c179e\"], [0.4444444444444444, \"#bd3786\"], [0.5555555555555556, \"#d8576b\"], [0.6666666666666666, \"#ed7953\"], [0.7777777777777778, \"#fb9f3a\"], [0.8888888888888888, \"#fdca26\"], [1.0, \"#f0f921\"]], \"type\": \"surface\"}], \"table\": [{\"cells\": {\"fill\": {\"color\": \"#EBF0F8\"}, \"line\": {\"color\": \"white\"}}, \"header\": {\"fill\": {\"color\": \"#C8D4E3\"}, \"line\": {\"color\": \"white\"}}, \"type\": \"table\"}]}, \"layout\": {\"annotationdefaults\": {\"arrowcolor\": \"#2a3f5f\", \"arrowhead\": 0, \"arrowwidth\": 1}, \"autotypenumbers\": \"strict\", \"coloraxis\": {\"colorbar\": {\"outlinewidth\": 0, \"ticks\": \"\"}}, \"colorscale\": {\"diverging\": [[0, \"#8e0152\"], [0.1, \"#c51b7d\"], [0.2, \"#de77ae\"], [0.3, \"#f1b6da\"], [0.4, \"#fde0ef\"], [0.5, \"#f7f7f7\"], [0.6, \"#e6f5d0\"], [0.7, \"#b8e186\"], [0.8, \"#7fbc41\"], [0.9, \"#4d9221\"], [1, \"#276419\"]], \"sequential\": [[0.0, \"#0d0887\"], [0.1111111111111111, \"#46039f\"], [0.2222222222222222, \"#7201a8\"], [0.3333333333333333, \"#9c179e\"], [0.4444444444444444, \"#bd3786\"], [0.5555555555555556, \"#d8576b\"], [0.6666666666666666, \"#ed7953\"], [0.7777777777777778, \"#fb9f3a\"], [0.8888888888888888, \"#fdca26\"], [1.0, \"#f0f921\"]], \"sequentialminus\": [[0.0, \"#0d0887\"], [0.1111111111111111, \"#46039f\"], [0.2222222222222222, \"#7201a8\"], [0.3333333333333333, \"#9c179e\"], [0.4444444444444444, \"#bd3786\"], [0.5555555555555556, \"#d8576b\"], [0.6666666666666666, \"#ed7953\"], [0.7777777777777778, \"#fb9f3a\"], [0.8888888888888888, \"#fdca26\"], [1.0, \"#f0f921\"]]}, \"colorway\": [\"#636efa\", \"#EF553B\", \"#00cc96\", \"#ab63fa\", \"#FFA15A\", \"#19d3f3\", \"#FF6692\", \"#B6E880\", \"#FF97FF\", \"#FECB52\"], \"font\": {\"color\": \"#2a3f5f\"}, \"geo\": {\"bgcolor\": \"white\", \"lakecolor\": \"white\", \"landcolor\": \"#E5ECF6\", \"showlakes\": true, \"showland\": true, \"subunitcolor\": \"white\"}, \"hoverlabel\": {\"align\": \"left\"}, \"hovermode\": \"closest\", \"mapbox\": {\"style\": \"light\"}, \"paper_bgcolor\": \"white\", \"plot_bgcolor\": \"#E5ECF6\", \"polar\": {\"angularaxis\": {\"gridcolor\": \"white\", \"linecolor\": \"white\", \"ticks\": \"\"}, \"bgcolor\": \"#E5ECF6\", \"radialaxis\": {\"gridcolor\": \"white\", \"linecolor\": \"white\", \"ticks\": \"\"}}, \"scene\": {\"xaxis\": {\"backgroundcolor\": \"#E5ECF6\", \"gridcolor\": \"white\", \"gridwidth\": 2, \"linecolor\": \"white\", \"showbackground\": true, \"ticks\": \"\", \"zerolinecolor\": \"white\"}, \"yaxis\": {\"backgroundcolor\": \"#E5ECF6\", \"gridcolor\": \"white\", \"gridwidth\": 2, \"linecolor\": \"white\", \"showbackground\": true, \"ticks\": \"\", \"zerolinecolor\": \"white\"}, \"zaxis\": {\"backgroundcolor\": \"#E5ECF6\", \"gridcolor\": \"white\", \"gridwidth\": 2, \"linecolor\": \"white\", \"showbackground\": true, \"ticks\": \"\", \"zerolinecolor\": \"white\"}}, \"shapedefaults\": {\"line\": {\"color\": \"#2a3f5f\"}}, \"ternary\": {\"aaxis\": {\"gridcolor\": \"white\", \"linecolor\": \"white\", \"ticks\": \"\"}, \"baxis\": {\"gridcolor\": \"white\", \"linecolor\": \"white\", \"ticks\": \"\"}, \"bgcolor\": \"#E5ECF6\", \"caxis\": {\"gridcolor\": \"white\", \"linecolor\": \"white\", \"ticks\": \"\"}}, \"title\": {\"x\": 0.05}, \"xaxis\": {\"automargin\": true, \"gridcolor\": \"white\", \"linecolor\": \"white\", \"ticks\": \"\", \"title\": {\"standoff\": 15}, \"zerolinecolor\": \"white\", \"zerolinewidth\": 2}, \"yaxis\": {\"automargin\": true, \"gridcolor\": \"white\", \"linecolor\": \"white\", \"ticks\": \"\", \"title\": {\"standoff\": 15}, \"zerolinecolor\": \"white\", \"zerolinewidth\": 2}}}, \"title\": {\"text\": \"Vanguard LifeStrategy\", \"x\": 0.5}, \"width\": 950, \"xaxis\": {\"gridcolor\": \"#E1E5ED\", \"showgrid\": true, \"tickfont\": {\"color\": \"#4D5663\"}, \"tickformat\": \"\", \"tickprefix\": \"\", \"ticksuffix\": \"\", \"title\": {\"font\": {\"color\": \"#4D5663\"}, \"text\": \"\"}, \"zerolinecolor\": \"#E1E5ED\"}, \"yaxis\": {\"gridcolor\": \"#E1E5ED\", \"showgrid\": true, \"tickfont\": {\"color\": \"#4D5663\"}, \"tickformat\": \"\", \"tickprefix\": \"\", \"ticksuffix\": \"\\u20ac\", \"title\": {\"text\": \"Valoriza\\u00e7\\u00e3o por cada 100 \\u20acuros investidos\"}, \"zerolinecolor\": \"#E1E5ED\"}},                        {\"responsive\": true}                    ).then(function(){\n                            \nvar gd = document.getElementById('24b15edd-05cc-4e1e-a960-21dad4e07665');\nvar x = new MutationObserver(function (mutations, observer) {{\n        var display = window.getComputedStyle(gd).display;\n        if (!display || display === 'none') {{\n            console.log([gd, 'removed!']);\n            Plotly.purge(gd);\n            observer.disconnect();\n        }}\n}});\n\n// Listen for the removal of the full notebook cells\nvar notebookContainer = gd.closest('#notebook-container');\nif (notebookContainer) {{\n    x.observe(notebookContainer, {childList: true});\n}}\n\n// Listen for the clearing of the current output cell\nvar outputEl = gd.closest('.output');\nif (outputEl) {{\n    x.observe(outputEl, {childList: true});\n}}\n\n                        })                };                });            </script>        </div>"
          },
          "metadata": {}
        }
      ]
    },
    {
      "cell_type": "code",
      "metadata": {
        "id": "r4WgJIvFkcJi"
      },
      "source": [
        "data_total = pl.merge_time_series(data_total, fundos, 'inner')"
      ],
      "execution_count": 20,
      "outputs": []
    },
    {
      "cell_type": "code",
      "metadata": {
        "id": "Q6uX4sezk_-V"
      },
      "source": [
        "data_total_norm = pl.normalize(data_total)"
      ],
      "execution_count": 21,
      "outputs": []
    },
    {
      "cell_type": "code",
      "metadata": {
        "id": "c3zMh2fCfjMI"
      },
      "source": [
        "pl.ichart(round(data_total_norm, 2), title='Vanguard LifeStrategy VS PPR SMART',\n",
        "          yticksuffix= '€', yTitle='Valorização por cada 100 €uros investidos', colab=False)"
      ],
      "execution_count": 22,
      "outputs": [
        {
          "output_type": "display_data",
          "data": {
            "application/vnd.plotly.v1+json": {
              "config": {
                "plotlyServerURL": "https://plot.ly"
              },
              "data": [
                {
                  "line": {
                    "color": "royalblue",
                    "width": 1.3
                  },
                  "mode": "lines",
                  "name": "V60A",
                  "type": "scatter",
                  "x": [
                    "2021-01-06T00:00:00",
                    "2021-01-08T00:00:00",
                    "2021-01-11T00:00:00",
                    "2021-01-12T00:00:00",
                    "2021-01-13T00:00:00",
                    "2021-01-14T00:00:00",
                    "2021-01-15T00:00:00",
                    "2021-01-18T00:00:00",
                    "2021-01-20T00:00:00",
                    "2021-01-21T00:00:00",
                    "2021-01-22T00:00:00",
                    "2021-01-25T00:00:00",
                    "2021-01-26T00:00:00",
                    "2021-01-27T00:00:00",
                    "2021-01-28T00:00:00",
                    "2021-01-29T00:00:00",
                    "2021-02-01T00:00:00",
                    "2021-02-02T00:00:00",
                    "2021-02-03T00:00:00",
                    "2021-02-04T00:00:00",
                    "2021-02-05T00:00:00",
                    "2021-02-08T00:00:00",
                    "2021-02-10T00:00:00",
                    "2021-02-11T00:00:00",
                    "2021-02-15T00:00:00",
                    "2021-02-16T00:00:00",
                    "2021-02-17T00:00:00",
                    "2021-02-18T00:00:00",
                    "2021-02-19T00:00:00",
                    "2021-02-22T00:00:00",
                    "2021-02-23T00:00:00",
                    "2021-02-24T00:00:00",
                    "2021-02-25T00:00:00",
                    "2021-02-26T00:00:00",
                    "2021-03-01T00:00:00",
                    "2021-03-02T00:00:00",
                    "2021-03-03T00:00:00",
                    "2021-03-04T00:00:00",
                    "2021-03-05T00:00:00",
                    "2021-03-08T00:00:00",
                    "2021-03-09T00:00:00",
                    "2021-03-10T00:00:00",
                    "2021-03-11T00:00:00",
                    "2021-03-12T00:00:00",
                    "2021-03-15T00:00:00",
                    "2021-03-16T00:00:00",
                    "2021-03-17T00:00:00",
                    "2021-03-18T00:00:00",
                    "2021-03-19T00:00:00",
                    "2021-03-22T00:00:00",
                    "2021-03-23T00:00:00",
                    "2021-03-24T00:00:00",
                    "2021-03-25T00:00:00",
                    "2021-03-26T00:00:00",
                    "2021-03-29T00:00:00"
                  ],
                  "y": [
                    100,
                    100.91,
                    101.1,
                    100.94,
                    101.26,
                    101.65,
                    101.14,
                    101.38,
                    102.05,
                    101.97,
                    101.46,
                    101.5,
                    101.65,
                    100.87,
                    100.79,
                    99.61,
                    100.35,
                    101.42,
                    101.53,
                    102.01,
                    102.24,
                    102.6,
                    102.36,
                    102.75,
                    103.27,
                    102.91,
                    102.83,
                    102.32,
                    102.52,
                    101.73,
                    101.26,
                    101.61,
                    100.79,
                    100.35,
                    101.65,
                    101.42,
                    101.18,
                    100.79,
                    100.04,
                    101.57,
                    101.85,
                    102.01,
                    102.56,
                    102.13,
                    102.44,
                    102.95,
                    102.44,
                    102.6,
                    102.32,
                    102.48,
                    102.64,
                    102.52,
                    102.28,
                    102.83,
                    103.03
                  ]
                },
                {
                  "line": {
                    "color": "darkorange",
                    "width": 1.3
                  },
                  "mode": "lines",
                  "name": "V40A",
                  "type": "scatter",
                  "x": [
                    "2021-01-06T00:00:00",
                    "2021-01-08T00:00:00",
                    "2021-01-11T00:00:00",
                    "2021-01-12T00:00:00",
                    "2021-01-13T00:00:00",
                    "2021-01-14T00:00:00",
                    "2021-01-15T00:00:00",
                    "2021-01-18T00:00:00",
                    "2021-01-20T00:00:00",
                    "2021-01-21T00:00:00",
                    "2021-01-22T00:00:00",
                    "2021-01-25T00:00:00",
                    "2021-01-26T00:00:00",
                    "2021-01-27T00:00:00",
                    "2021-01-28T00:00:00",
                    "2021-01-29T00:00:00",
                    "2021-02-01T00:00:00",
                    "2021-02-02T00:00:00",
                    "2021-02-03T00:00:00",
                    "2021-02-04T00:00:00",
                    "2021-02-05T00:00:00",
                    "2021-02-08T00:00:00",
                    "2021-02-10T00:00:00",
                    "2021-02-11T00:00:00",
                    "2021-02-15T00:00:00",
                    "2021-02-16T00:00:00",
                    "2021-02-17T00:00:00",
                    "2021-02-18T00:00:00",
                    "2021-02-19T00:00:00",
                    "2021-02-22T00:00:00",
                    "2021-02-23T00:00:00",
                    "2021-02-24T00:00:00",
                    "2021-02-25T00:00:00",
                    "2021-02-26T00:00:00",
                    "2021-03-01T00:00:00",
                    "2021-03-02T00:00:00",
                    "2021-03-03T00:00:00",
                    "2021-03-04T00:00:00",
                    "2021-03-05T00:00:00",
                    "2021-03-08T00:00:00",
                    "2021-03-09T00:00:00",
                    "2021-03-10T00:00:00",
                    "2021-03-11T00:00:00",
                    "2021-03-12T00:00:00",
                    "2021-03-15T00:00:00",
                    "2021-03-16T00:00:00",
                    "2021-03-17T00:00:00",
                    "2021-03-18T00:00:00",
                    "2021-03-19T00:00:00",
                    "2021-03-22T00:00:00",
                    "2021-03-23T00:00:00",
                    "2021-03-24T00:00:00",
                    "2021-03-25T00:00:00",
                    "2021-03-26T00:00:00",
                    "2021-03-29T00:00:00"
                  ],
                  "y": [
                    100,
                    100.67,
                    100.79,
                    100.75,
                    100.91,
                    101.27,
                    100.83,
                    100.91,
                    101.39,
                    101.23,
                    100.83,
                    100.95,
                    100.99,
                    100.67,
                    100.36,
                    99.76,
                    100,
                    100.79,
                    100.91,
                    101.15,
                    101.39,
                    101.46,
                    101.39,
                    101.7,
                    101.82,
                    101.5,
                    101.46,
                    101.03,
                    101.15,
                    100.59,
                    100.04,
                    100.36,
                    99.64,
                    99.25,
                    100.36,
                    100.24,
                    99.96,
                    99.68,
                    99.09,
                    100.08,
                    100.36,
                    100.59,
                    100.91,
                    100.36,
                    100.63,
                    101.11,
                    100.63,
                    100.59,
                    100.48,
                    100.59,
                    100.75,
                    100.91,
                    100.67,
                    100.83,
                    101.03
                  ]
                },
                {
                  "line": {
                    "color": "dimgrey",
                    "width": 1.3
                  },
                  "mode": "lines",
                  "name": "V20A",
                  "type": "scatter",
                  "x": [
                    "2021-01-06T00:00:00",
                    "2021-01-08T00:00:00",
                    "2021-01-11T00:00:00",
                    "2021-01-12T00:00:00",
                    "2021-01-13T00:00:00",
                    "2021-01-14T00:00:00",
                    "2021-01-15T00:00:00",
                    "2021-01-18T00:00:00",
                    "2021-01-20T00:00:00",
                    "2021-01-21T00:00:00",
                    "2021-01-22T00:00:00",
                    "2021-01-25T00:00:00",
                    "2021-01-26T00:00:00",
                    "2021-01-27T00:00:00",
                    "2021-01-28T00:00:00",
                    "2021-01-29T00:00:00",
                    "2021-02-01T00:00:00",
                    "2021-02-02T00:00:00",
                    "2021-02-03T00:00:00",
                    "2021-02-04T00:00:00",
                    "2021-02-05T00:00:00",
                    "2021-02-08T00:00:00",
                    "2021-02-10T00:00:00",
                    "2021-02-11T00:00:00",
                    "2021-02-15T00:00:00",
                    "2021-02-16T00:00:00",
                    "2021-02-17T00:00:00",
                    "2021-02-18T00:00:00",
                    "2021-02-19T00:00:00",
                    "2021-02-22T00:00:00",
                    "2021-02-23T00:00:00",
                    "2021-02-24T00:00:00",
                    "2021-02-25T00:00:00",
                    "2021-02-26T00:00:00",
                    "2021-03-01T00:00:00",
                    "2021-03-02T00:00:00",
                    "2021-03-03T00:00:00",
                    "2021-03-04T00:00:00",
                    "2021-03-05T00:00:00",
                    "2021-03-08T00:00:00",
                    "2021-03-09T00:00:00",
                    "2021-03-10T00:00:00",
                    "2021-03-11T00:00:00",
                    "2021-03-12T00:00:00",
                    "2021-03-15T00:00:00",
                    "2021-03-16T00:00:00",
                    "2021-03-17T00:00:00",
                    "2021-03-18T00:00:00",
                    "2021-03-19T00:00:00",
                    "2021-03-22T00:00:00",
                    "2021-03-23T00:00:00",
                    "2021-03-24T00:00:00",
                    "2021-03-25T00:00:00",
                    "2021-03-26T00:00:00",
                    "2021-03-29T00:00:00"
                  ],
                  "y": [
                    100,
                    100.16,
                    100.08,
                    99.84,
                    100.24,
                    100.48,
                    100.08,
                    100.08,
                    100.4,
                    100.44,
                    100.12,
                    100.28,
                    100.32,
                    100.2,
                    100.08,
                    99.56,
                    99.8,
                    99.92,
                    99.96,
                    100,
                    99.96,
                    100.12,
                    100.08,
                    100.24,
                    100.08,
                    99.8,
                    99.88,
                    99.52,
                    99.32,
                    99.05,
                    98.77,
                    98.77,
                    98.13,
                    97.97,
                    98.69,
                    98.73,
                    98.41,
                    98.29,
                    97.86,
                    98.29,
                    98.53,
                    98.65,
                    98.89,
                    98.37,
                    98.57,
                    98.85,
                    98.41,
                    98.29,
                    98.29,
                    98.53,
                    98.65,
                    98.69,
                    98.69,
                    98.81,
                    98.73
                  ]
                },
                {
                  "line": {
                    "color": "rgb(86, 53, 171)",
                    "width": 1.3
                  },
                  "mode": "lines",
                  "name": "V80A",
                  "type": "scatter",
                  "x": [
                    "2021-01-06T00:00:00",
                    "2021-01-08T00:00:00",
                    "2021-01-11T00:00:00",
                    "2021-01-12T00:00:00",
                    "2021-01-13T00:00:00",
                    "2021-01-14T00:00:00",
                    "2021-01-15T00:00:00",
                    "2021-01-18T00:00:00",
                    "2021-01-20T00:00:00",
                    "2021-01-21T00:00:00",
                    "2021-01-22T00:00:00",
                    "2021-01-25T00:00:00",
                    "2021-01-26T00:00:00",
                    "2021-01-27T00:00:00",
                    "2021-01-28T00:00:00",
                    "2021-01-29T00:00:00",
                    "2021-02-01T00:00:00",
                    "2021-02-02T00:00:00",
                    "2021-02-03T00:00:00",
                    "2021-02-04T00:00:00",
                    "2021-02-05T00:00:00",
                    "2021-02-08T00:00:00",
                    "2021-02-10T00:00:00",
                    "2021-02-11T00:00:00",
                    "2021-02-15T00:00:00",
                    "2021-02-16T00:00:00",
                    "2021-02-17T00:00:00",
                    "2021-02-18T00:00:00",
                    "2021-02-19T00:00:00",
                    "2021-02-22T00:00:00",
                    "2021-02-23T00:00:00",
                    "2021-02-24T00:00:00",
                    "2021-02-25T00:00:00",
                    "2021-02-26T00:00:00",
                    "2021-03-01T00:00:00",
                    "2021-03-02T00:00:00",
                    "2021-03-03T00:00:00",
                    "2021-03-04T00:00:00",
                    "2021-03-05T00:00:00",
                    "2021-03-08T00:00:00",
                    "2021-03-09T00:00:00",
                    "2021-03-10T00:00:00",
                    "2021-03-11T00:00:00",
                    "2021-03-12T00:00:00",
                    "2021-03-15T00:00:00",
                    "2021-03-16T00:00:00",
                    "2021-03-17T00:00:00",
                    "2021-03-18T00:00:00",
                    "2021-03-19T00:00:00",
                    "2021-03-22T00:00:00",
                    "2021-03-23T00:00:00",
                    "2021-03-24T00:00:00",
                    "2021-03-25T00:00:00",
                    "2021-03-26T00:00:00",
                    "2021-03-29T00:00:00"
                  ],
                  "y": [
                    100,
                    100.94,
                    101.53,
                    101.49,
                    101.64,
                    102.11,
                    101.25,
                    101.56,
                    102.74,
                    102.62,
                    101.88,
                    101.76,
                    102.27,
                    101.02,
                    101.06,
                    99.69,
                    100.31,
                    102.19,
                    102.35,
                    102.97,
                    103.29,
                    103.72,
                    103.29,
                    103.83,
                    104.77,
                    104.54,
                    104.26,
                    103.52,
                    103.91,
                    102.85,
                    102.07,
                    102.78,
                    101.99,
                    100.94,
                    102.97,
                    102.58,
                    102.31,
                    101.8,
                    100.78,
                    103.09,
                    103.36,
                    103.56,
                    104.18,
                    103.87,
                    104.18,
                    105.01,
                    104.5,
                    104.61,
                    104.22,
                    104.34,
                    104.54,
                    104.3,
                    103.95,
                    104.69,
                    105.08
                  ]
                },
                {
                  "line": {
                    "color": "rgb(44, 160, 44)",
                    "width": 1.3
                  },
                  "mode": "lines",
                  "name": "Conservador",
                  "type": "scatter",
                  "x": [
                    "2021-01-06T00:00:00",
                    "2021-01-08T00:00:00",
                    "2021-01-11T00:00:00",
                    "2021-01-12T00:00:00",
                    "2021-01-13T00:00:00",
                    "2021-01-14T00:00:00",
                    "2021-01-15T00:00:00",
                    "2021-01-18T00:00:00",
                    "2021-01-20T00:00:00",
                    "2021-01-21T00:00:00",
                    "2021-01-22T00:00:00",
                    "2021-01-25T00:00:00",
                    "2021-01-26T00:00:00",
                    "2021-01-27T00:00:00",
                    "2021-01-28T00:00:00",
                    "2021-01-29T00:00:00",
                    "2021-02-01T00:00:00",
                    "2021-02-02T00:00:00",
                    "2021-02-03T00:00:00",
                    "2021-02-04T00:00:00",
                    "2021-02-05T00:00:00",
                    "2021-02-08T00:00:00",
                    "2021-02-10T00:00:00",
                    "2021-02-11T00:00:00",
                    "2021-02-15T00:00:00",
                    "2021-02-16T00:00:00",
                    "2021-02-17T00:00:00",
                    "2021-02-18T00:00:00",
                    "2021-02-19T00:00:00",
                    "2021-02-22T00:00:00",
                    "2021-02-23T00:00:00",
                    "2021-02-24T00:00:00",
                    "2021-02-25T00:00:00",
                    "2021-02-26T00:00:00",
                    "2021-03-01T00:00:00",
                    "2021-03-02T00:00:00",
                    "2021-03-03T00:00:00",
                    "2021-03-04T00:00:00",
                    "2021-03-05T00:00:00",
                    "2021-03-08T00:00:00",
                    "2021-03-09T00:00:00",
                    "2021-03-10T00:00:00",
                    "2021-03-11T00:00:00",
                    "2021-03-12T00:00:00",
                    "2021-03-15T00:00:00",
                    "2021-03-16T00:00:00",
                    "2021-03-17T00:00:00",
                    "2021-03-18T00:00:00",
                    "2021-03-19T00:00:00",
                    "2021-03-22T00:00:00",
                    "2021-03-23T00:00:00",
                    "2021-03-24T00:00:00",
                    "2021-03-25T00:00:00",
                    "2021-03-26T00:00:00",
                    "2021-03-29T00:00:00"
                  ],
                  "y": [
                    100,
                    100.2,
                    100.2,
                    100.2,
                    100.2,
                    100.2,
                    100.2,
                    100,
                    100.4,
                    100.2,
                    100,
                    100.2,
                    100.2,
                    100,
                    100.2,
                    99.8,
                    100,
                    100.2,
                    100.4,
                    100.4,
                    100.4,
                    100.6,
                    100.6,
                    100.8,
                    100.6,
                    100.2,
                    100.2,
                    100,
                    100,
                    99.8,
                    99.4,
                    99.4,
                    99,
                    98.6,
                    99.4,
                    99.4,
                    99.2,
                    99,
                    98.6,
                    99,
                    99.2,
                    99.2,
                    99.6,
                    99.2,
                    99.4,
                    99.6,
                    99.2,
                    99.2,
                    99,
                    99.2,
                    99.4,
                    99.4,
                    99.6,
                    99.6,
                    99.4
                  ]
                },
                {
                  "line": {
                    "color": "rgb(214, 39, 40)",
                    "width": 1.3
                  },
                  "mode": "lines",
                  "name": "Moderado",
                  "type": "scatter",
                  "x": [
                    "2021-01-06T00:00:00",
                    "2021-01-08T00:00:00",
                    "2021-01-11T00:00:00",
                    "2021-01-12T00:00:00",
                    "2021-01-13T00:00:00",
                    "2021-01-14T00:00:00",
                    "2021-01-15T00:00:00",
                    "2021-01-18T00:00:00",
                    "2021-01-20T00:00:00",
                    "2021-01-21T00:00:00",
                    "2021-01-22T00:00:00",
                    "2021-01-25T00:00:00",
                    "2021-01-26T00:00:00",
                    "2021-01-27T00:00:00",
                    "2021-01-28T00:00:00",
                    "2021-01-29T00:00:00",
                    "2021-02-01T00:00:00",
                    "2021-02-02T00:00:00",
                    "2021-02-03T00:00:00",
                    "2021-02-04T00:00:00",
                    "2021-02-05T00:00:00",
                    "2021-02-08T00:00:00",
                    "2021-02-10T00:00:00",
                    "2021-02-11T00:00:00",
                    "2021-02-15T00:00:00",
                    "2021-02-16T00:00:00",
                    "2021-02-17T00:00:00",
                    "2021-02-18T00:00:00",
                    "2021-02-19T00:00:00",
                    "2021-02-22T00:00:00",
                    "2021-02-23T00:00:00",
                    "2021-02-24T00:00:00",
                    "2021-02-25T00:00:00",
                    "2021-02-26T00:00:00",
                    "2021-03-01T00:00:00",
                    "2021-03-02T00:00:00",
                    "2021-03-03T00:00:00",
                    "2021-03-04T00:00:00",
                    "2021-03-05T00:00:00",
                    "2021-03-08T00:00:00",
                    "2021-03-09T00:00:00",
                    "2021-03-10T00:00:00",
                    "2021-03-11T00:00:00",
                    "2021-03-12T00:00:00",
                    "2021-03-15T00:00:00",
                    "2021-03-16T00:00:00",
                    "2021-03-17T00:00:00",
                    "2021-03-18T00:00:00",
                    "2021-03-19T00:00:00",
                    "2021-03-22T00:00:00",
                    "2021-03-23T00:00:00",
                    "2021-03-24T00:00:00",
                    "2021-03-25T00:00:00",
                    "2021-03-26T00:00:00",
                    "2021-03-29T00:00:00"
                  ],
                  "y": [
                    100,
                    100.6,
                    100.4,
                    100.4,
                    100.6,
                    100.8,
                    100.4,
                    100.4,
                    101,
                    100.8,
                    100.6,
                    100.6,
                    100.6,
                    100,
                    100.2,
                    99,
                    99.6,
                    100.4,
                    100.4,
                    100.8,
                    100.8,
                    100.8,
                    100.8,
                    101.2,
                    101.6,
                    101.2,
                    101,
                    100.6,
                    100.6,
                    100.2,
                    99.8,
                    100,
                    99.4,
                    98.8,
                    100,
                    99.8,
                    99.8,
                    99.4,
                    99,
                    99.8,
                    100.2,
                    100.4,
                    100.8,
                    100.2,
                    100.4,
                    100.8,
                    100.4,
                    100.4,
                    100.4,
                    100.4,
                    100.4,
                    100.4,
                    100.4,
                    100.8,
                    100.8
                  ]
                },
                {
                  "line": {
                    "color": "#ffd166",
                    "width": 1.3
                  },
                  "mode": "lines",
                  "name": "Dinâmico",
                  "type": "scatter",
                  "x": [
                    "2021-01-06T00:00:00",
                    "2021-01-08T00:00:00",
                    "2021-01-11T00:00:00",
                    "2021-01-12T00:00:00",
                    "2021-01-13T00:00:00",
                    "2021-01-14T00:00:00",
                    "2021-01-15T00:00:00",
                    "2021-01-18T00:00:00",
                    "2021-01-20T00:00:00",
                    "2021-01-21T00:00:00",
                    "2021-01-22T00:00:00",
                    "2021-01-25T00:00:00",
                    "2021-01-26T00:00:00",
                    "2021-01-27T00:00:00",
                    "2021-01-28T00:00:00",
                    "2021-01-29T00:00:00",
                    "2021-02-01T00:00:00",
                    "2021-02-02T00:00:00",
                    "2021-02-03T00:00:00",
                    "2021-02-04T00:00:00",
                    "2021-02-05T00:00:00",
                    "2021-02-08T00:00:00",
                    "2021-02-10T00:00:00",
                    "2021-02-11T00:00:00",
                    "2021-02-15T00:00:00",
                    "2021-02-16T00:00:00",
                    "2021-02-17T00:00:00",
                    "2021-02-18T00:00:00",
                    "2021-02-19T00:00:00",
                    "2021-02-22T00:00:00",
                    "2021-02-23T00:00:00",
                    "2021-02-24T00:00:00",
                    "2021-02-25T00:00:00",
                    "2021-02-26T00:00:00",
                    "2021-03-01T00:00:00",
                    "2021-03-02T00:00:00",
                    "2021-03-03T00:00:00",
                    "2021-03-04T00:00:00",
                    "2021-03-05T00:00:00",
                    "2021-03-08T00:00:00",
                    "2021-03-09T00:00:00",
                    "2021-03-10T00:00:00",
                    "2021-03-11T00:00:00",
                    "2021-03-12T00:00:00",
                    "2021-03-15T00:00:00",
                    "2021-03-16T00:00:00",
                    "2021-03-17T00:00:00",
                    "2021-03-18T00:00:00",
                    "2021-03-19T00:00:00",
                    "2021-03-22T00:00:00",
                    "2021-03-23T00:00:00",
                    "2021-03-24T00:00:00",
                    "2021-03-25T00:00:00",
                    "2021-03-26T00:00:00",
                    "2021-03-29T00:00:00"
                  ],
                  "y": [
                    100,
                    101,
                    100.8,
                    100.8,
                    101,
                    101.6,
                    101,
                    101,
                    101.6,
                    101.6,
                    101.2,
                    101.2,
                    101.4,
                    100.6,
                    100.8,
                    99,
                    100,
                    101.4,
                    101.6,
                    102,
                    102.2,
                    102.4,
                    102.2,
                    102.6,
                    103.4,
                    103,
                    103,
                    102.2,
                    102.6,
                    101.6,
                    101.4,
                    101.6,
                    100.8,
                    100.2,
                    101.8,
                    101.6,
                    101.4,
                    101,
                    100.6,
                    102,
                    102.4,
                    102.6,
                    103,
                    102.8,
                    103,
                    103.4,
                    103,
                    103.2,
                    102.8,
                    103,
                    103,
                    102.8,
                    102.8,
                    103.4,
                    103.6
                  ]
                }
              ],
              "layout": {
                "annotations": [
                  {
                    "font": {
                      "color": "rgb(150,150,150)",
                      "family": "Arial",
                      "size": 12
                    },
                    "showarrow": false,
                    "text": "",
                    "x": 0.5,
                    "xanchor": "center",
                    "xref": "paper",
                    "y": "-0.125",
                    "yanchor": "top",
                    "yref": "paper"
                  }
                ],
                "height": 500,
                "hovermode": "x",
                "paper_bgcolor": "#F5F6F9",
                "plot_bgcolor": "#F5F6F9",
                "showlegend": true,
                "template": {
                  "data": {
                    "bar": [
                      {
                        "error_x": {
                          "color": "#2a3f5f"
                        },
                        "error_y": {
                          "color": "#2a3f5f"
                        },
                        "marker": {
                          "line": {
                            "color": "#E5ECF6",
                            "width": 0.5
                          }
                        },
                        "type": "bar"
                      }
                    ],
                    "barpolar": [
                      {
                        "marker": {
                          "line": {
                            "color": "#E5ECF6",
                            "width": 0.5
                          }
                        },
                        "type": "barpolar"
                      }
                    ],
                    "carpet": [
                      {
                        "aaxis": {
                          "endlinecolor": "#2a3f5f",
                          "gridcolor": "white",
                          "linecolor": "white",
                          "minorgridcolor": "white",
                          "startlinecolor": "#2a3f5f"
                        },
                        "baxis": {
                          "endlinecolor": "#2a3f5f",
                          "gridcolor": "white",
                          "linecolor": "white",
                          "minorgridcolor": "white",
                          "startlinecolor": "#2a3f5f"
                        },
                        "type": "carpet"
                      }
                    ],
                    "choropleth": [
                      {
                        "colorbar": {
                          "outlinewidth": 0,
                          "ticks": ""
                        },
                        "type": "choropleth"
                      }
                    ],
                    "contour": [
                      {
                        "colorbar": {
                          "outlinewidth": 0,
                          "ticks": ""
                        },
                        "colorscale": [
                          [
                            0,
                            "#0d0887"
                          ],
                          [
                            0.1111111111111111,
                            "#46039f"
                          ],
                          [
                            0.2222222222222222,
                            "#7201a8"
                          ],
                          [
                            0.3333333333333333,
                            "#9c179e"
                          ],
                          [
                            0.4444444444444444,
                            "#bd3786"
                          ],
                          [
                            0.5555555555555556,
                            "#d8576b"
                          ],
                          [
                            0.6666666666666666,
                            "#ed7953"
                          ],
                          [
                            0.7777777777777778,
                            "#fb9f3a"
                          ],
                          [
                            0.8888888888888888,
                            "#fdca26"
                          ],
                          [
                            1,
                            "#f0f921"
                          ]
                        ],
                        "type": "contour"
                      }
                    ],
                    "contourcarpet": [
                      {
                        "colorbar": {
                          "outlinewidth": 0,
                          "ticks": ""
                        },
                        "type": "contourcarpet"
                      }
                    ],
                    "heatmap": [
                      {
                        "colorbar": {
                          "outlinewidth": 0,
                          "ticks": ""
                        },
                        "colorscale": [
                          [
                            0,
                            "#0d0887"
                          ],
                          [
                            0.1111111111111111,
                            "#46039f"
                          ],
                          [
                            0.2222222222222222,
                            "#7201a8"
                          ],
                          [
                            0.3333333333333333,
                            "#9c179e"
                          ],
                          [
                            0.4444444444444444,
                            "#bd3786"
                          ],
                          [
                            0.5555555555555556,
                            "#d8576b"
                          ],
                          [
                            0.6666666666666666,
                            "#ed7953"
                          ],
                          [
                            0.7777777777777778,
                            "#fb9f3a"
                          ],
                          [
                            0.8888888888888888,
                            "#fdca26"
                          ],
                          [
                            1,
                            "#f0f921"
                          ]
                        ],
                        "type": "heatmap"
                      }
                    ],
                    "heatmapgl": [
                      {
                        "colorbar": {
                          "outlinewidth": 0,
                          "ticks": ""
                        },
                        "colorscale": [
                          [
                            0,
                            "#0d0887"
                          ],
                          [
                            0.1111111111111111,
                            "#46039f"
                          ],
                          [
                            0.2222222222222222,
                            "#7201a8"
                          ],
                          [
                            0.3333333333333333,
                            "#9c179e"
                          ],
                          [
                            0.4444444444444444,
                            "#bd3786"
                          ],
                          [
                            0.5555555555555556,
                            "#d8576b"
                          ],
                          [
                            0.6666666666666666,
                            "#ed7953"
                          ],
                          [
                            0.7777777777777778,
                            "#fb9f3a"
                          ],
                          [
                            0.8888888888888888,
                            "#fdca26"
                          ],
                          [
                            1,
                            "#f0f921"
                          ]
                        ],
                        "type": "heatmapgl"
                      }
                    ],
                    "histogram": [
                      {
                        "marker": {
                          "colorbar": {
                            "outlinewidth": 0,
                            "ticks": ""
                          }
                        },
                        "type": "histogram"
                      }
                    ],
                    "histogram2d": [
                      {
                        "colorbar": {
                          "outlinewidth": 0,
                          "ticks": ""
                        },
                        "colorscale": [
                          [
                            0,
                            "#0d0887"
                          ],
                          [
                            0.1111111111111111,
                            "#46039f"
                          ],
                          [
                            0.2222222222222222,
                            "#7201a8"
                          ],
                          [
                            0.3333333333333333,
                            "#9c179e"
                          ],
                          [
                            0.4444444444444444,
                            "#bd3786"
                          ],
                          [
                            0.5555555555555556,
                            "#d8576b"
                          ],
                          [
                            0.6666666666666666,
                            "#ed7953"
                          ],
                          [
                            0.7777777777777778,
                            "#fb9f3a"
                          ],
                          [
                            0.8888888888888888,
                            "#fdca26"
                          ],
                          [
                            1,
                            "#f0f921"
                          ]
                        ],
                        "type": "histogram2d"
                      }
                    ],
                    "histogram2dcontour": [
                      {
                        "colorbar": {
                          "outlinewidth": 0,
                          "ticks": ""
                        },
                        "colorscale": [
                          [
                            0,
                            "#0d0887"
                          ],
                          [
                            0.1111111111111111,
                            "#46039f"
                          ],
                          [
                            0.2222222222222222,
                            "#7201a8"
                          ],
                          [
                            0.3333333333333333,
                            "#9c179e"
                          ],
                          [
                            0.4444444444444444,
                            "#bd3786"
                          ],
                          [
                            0.5555555555555556,
                            "#d8576b"
                          ],
                          [
                            0.6666666666666666,
                            "#ed7953"
                          ],
                          [
                            0.7777777777777778,
                            "#fb9f3a"
                          ],
                          [
                            0.8888888888888888,
                            "#fdca26"
                          ],
                          [
                            1,
                            "#f0f921"
                          ]
                        ],
                        "type": "histogram2dcontour"
                      }
                    ],
                    "mesh3d": [
                      {
                        "colorbar": {
                          "outlinewidth": 0,
                          "ticks": ""
                        },
                        "type": "mesh3d"
                      }
                    ],
                    "parcoords": [
                      {
                        "line": {
                          "colorbar": {
                            "outlinewidth": 0,
                            "ticks": ""
                          }
                        },
                        "type": "parcoords"
                      }
                    ],
                    "pie": [
                      {
                        "automargin": true,
                        "type": "pie"
                      }
                    ],
                    "scatter": [
                      {
                        "marker": {
                          "colorbar": {
                            "outlinewidth": 0,
                            "ticks": ""
                          }
                        },
                        "type": "scatter"
                      }
                    ],
                    "scatter3d": [
                      {
                        "line": {
                          "colorbar": {
                            "outlinewidth": 0,
                            "ticks": ""
                          }
                        },
                        "marker": {
                          "colorbar": {
                            "outlinewidth": 0,
                            "ticks": ""
                          }
                        },
                        "type": "scatter3d"
                      }
                    ],
                    "scattercarpet": [
                      {
                        "marker": {
                          "colorbar": {
                            "outlinewidth": 0,
                            "ticks": ""
                          }
                        },
                        "type": "scattercarpet"
                      }
                    ],
                    "scattergeo": [
                      {
                        "marker": {
                          "colorbar": {
                            "outlinewidth": 0,
                            "ticks": ""
                          }
                        },
                        "type": "scattergeo"
                      }
                    ],
                    "scattergl": [
                      {
                        "marker": {
                          "colorbar": {
                            "outlinewidth": 0,
                            "ticks": ""
                          }
                        },
                        "type": "scattergl"
                      }
                    ],
                    "scattermapbox": [
                      {
                        "marker": {
                          "colorbar": {
                            "outlinewidth": 0,
                            "ticks": ""
                          }
                        },
                        "type": "scattermapbox"
                      }
                    ],
                    "scatterpolar": [
                      {
                        "marker": {
                          "colorbar": {
                            "outlinewidth": 0,
                            "ticks": ""
                          }
                        },
                        "type": "scatterpolar"
                      }
                    ],
                    "scatterpolargl": [
                      {
                        "marker": {
                          "colorbar": {
                            "outlinewidth": 0,
                            "ticks": ""
                          }
                        },
                        "type": "scatterpolargl"
                      }
                    ],
                    "scatterternary": [
                      {
                        "marker": {
                          "colorbar": {
                            "outlinewidth": 0,
                            "ticks": ""
                          }
                        },
                        "type": "scatterternary"
                      }
                    ],
                    "surface": [
                      {
                        "colorbar": {
                          "outlinewidth": 0,
                          "ticks": ""
                        },
                        "colorscale": [
                          [
                            0,
                            "#0d0887"
                          ],
                          [
                            0.1111111111111111,
                            "#46039f"
                          ],
                          [
                            0.2222222222222222,
                            "#7201a8"
                          ],
                          [
                            0.3333333333333333,
                            "#9c179e"
                          ],
                          [
                            0.4444444444444444,
                            "#bd3786"
                          ],
                          [
                            0.5555555555555556,
                            "#d8576b"
                          ],
                          [
                            0.6666666666666666,
                            "#ed7953"
                          ],
                          [
                            0.7777777777777778,
                            "#fb9f3a"
                          ],
                          [
                            0.8888888888888888,
                            "#fdca26"
                          ],
                          [
                            1,
                            "#f0f921"
                          ]
                        ],
                        "type": "surface"
                      }
                    ],
                    "table": [
                      {
                        "cells": {
                          "fill": {
                            "color": "#EBF0F8"
                          },
                          "line": {
                            "color": "white"
                          }
                        },
                        "header": {
                          "fill": {
                            "color": "#C8D4E3"
                          },
                          "line": {
                            "color": "white"
                          }
                        },
                        "type": "table"
                      }
                    ]
                  },
                  "layout": {
                    "annotationdefaults": {
                      "arrowcolor": "#2a3f5f",
                      "arrowhead": 0,
                      "arrowwidth": 1
                    },
                    "autotypenumbers": "strict",
                    "coloraxis": {
                      "colorbar": {
                        "outlinewidth": 0,
                        "ticks": ""
                      }
                    },
                    "colorscale": {
                      "diverging": [
                        [
                          0,
                          "#8e0152"
                        ],
                        [
                          0.1,
                          "#c51b7d"
                        ],
                        [
                          0.2,
                          "#de77ae"
                        ],
                        [
                          0.3,
                          "#f1b6da"
                        ],
                        [
                          0.4,
                          "#fde0ef"
                        ],
                        [
                          0.5,
                          "#f7f7f7"
                        ],
                        [
                          0.6,
                          "#e6f5d0"
                        ],
                        [
                          0.7,
                          "#b8e186"
                        ],
                        [
                          0.8,
                          "#7fbc41"
                        ],
                        [
                          0.9,
                          "#4d9221"
                        ],
                        [
                          1,
                          "#276419"
                        ]
                      ],
                      "sequential": [
                        [
                          0,
                          "#0d0887"
                        ],
                        [
                          0.1111111111111111,
                          "#46039f"
                        ],
                        [
                          0.2222222222222222,
                          "#7201a8"
                        ],
                        [
                          0.3333333333333333,
                          "#9c179e"
                        ],
                        [
                          0.4444444444444444,
                          "#bd3786"
                        ],
                        [
                          0.5555555555555556,
                          "#d8576b"
                        ],
                        [
                          0.6666666666666666,
                          "#ed7953"
                        ],
                        [
                          0.7777777777777778,
                          "#fb9f3a"
                        ],
                        [
                          0.8888888888888888,
                          "#fdca26"
                        ],
                        [
                          1,
                          "#f0f921"
                        ]
                      ],
                      "sequentialminus": [
                        [
                          0,
                          "#0d0887"
                        ],
                        [
                          0.1111111111111111,
                          "#46039f"
                        ],
                        [
                          0.2222222222222222,
                          "#7201a8"
                        ],
                        [
                          0.3333333333333333,
                          "#9c179e"
                        ],
                        [
                          0.4444444444444444,
                          "#bd3786"
                        ],
                        [
                          0.5555555555555556,
                          "#d8576b"
                        ],
                        [
                          0.6666666666666666,
                          "#ed7953"
                        ],
                        [
                          0.7777777777777778,
                          "#fb9f3a"
                        ],
                        [
                          0.8888888888888888,
                          "#fdca26"
                        ],
                        [
                          1,
                          "#f0f921"
                        ]
                      ]
                    },
                    "colorway": [
                      "#636efa",
                      "#EF553B",
                      "#00cc96",
                      "#ab63fa",
                      "#FFA15A",
                      "#19d3f3",
                      "#FF6692",
                      "#B6E880",
                      "#FF97FF",
                      "#FECB52"
                    ],
                    "font": {
                      "color": "#2a3f5f"
                    },
                    "geo": {
                      "bgcolor": "white",
                      "lakecolor": "white",
                      "landcolor": "#E5ECF6",
                      "showlakes": true,
                      "showland": true,
                      "subunitcolor": "white"
                    },
                    "hoverlabel": {
                      "align": "left"
                    },
                    "hovermode": "closest",
                    "mapbox": {
                      "style": "light"
                    },
                    "paper_bgcolor": "white",
                    "plot_bgcolor": "#E5ECF6",
                    "polar": {
                      "angularaxis": {
                        "gridcolor": "white",
                        "linecolor": "white",
                        "ticks": ""
                      },
                      "bgcolor": "#E5ECF6",
                      "radialaxis": {
                        "gridcolor": "white",
                        "linecolor": "white",
                        "ticks": ""
                      }
                    },
                    "scene": {
                      "xaxis": {
                        "backgroundcolor": "#E5ECF6",
                        "gridcolor": "white",
                        "gridwidth": 2,
                        "linecolor": "white",
                        "showbackground": true,
                        "ticks": "",
                        "zerolinecolor": "white"
                      },
                      "yaxis": {
                        "backgroundcolor": "#E5ECF6",
                        "gridcolor": "white",
                        "gridwidth": 2,
                        "linecolor": "white",
                        "showbackground": true,
                        "ticks": "",
                        "zerolinecolor": "white"
                      },
                      "zaxis": {
                        "backgroundcolor": "#E5ECF6",
                        "gridcolor": "white",
                        "gridwidth": 2,
                        "linecolor": "white",
                        "showbackground": true,
                        "ticks": "",
                        "zerolinecolor": "white"
                      }
                    },
                    "shapedefaults": {
                      "line": {
                        "color": "#2a3f5f"
                      }
                    },
                    "ternary": {
                      "aaxis": {
                        "gridcolor": "white",
                        "linecolor": "white",
                        "ticks": ""
                      },
                      "baxis": {
                        "gridcolor": "white",
                        "linecolor": "white",
                        "ticks": ""
                      },
                      "bgcolor": "#E5ECF6",
                      "caxis": {
                        "gridcolor": "white",
                        "linecolor": "white",
                        "ticks": ""
                      }
                    },
                    "title": {
                      "x": 0.05
                    },
                    "xaxis": {
                      "automargin": true,
                      "gridcolor": "white",
                      "linecolor": "white",
                      "ticks": "",
                      "title": {
                        "standoff": 15
                      },
                      "zerolinecolor": "white",
                      "zerolinewidth": 2
                    },
                    "yaxis": {
                      "automargin": true,
                      "gridcolor": "white",
                      "linecolor": "white",
                      "ticks": "",
                      "title": {
                        "standoff": 15
                      },
                      "zerolinecolor": "white",
                      "zerolinewidth": 2
                    }
                  }
                },
                "title": {
                  "text": "Vanguard LifeStrategy VS PPR SMART",
                  "x": 0.5
                },
                "width": 950,
                "xaxis": {
                  "gridcolor": "#E1E5ED",
                  "showgrid": true,
                  "tickfont": {
                    "color": "#4D5663"
                  },
                  "tickformat": "",
                  "tickprefix": "",
                  "ticksuffix": "",
                  "title": {
                    "font": {
                      "color": "#4D5663"
                    },
                    "text": ""
                  },
                  "zerolinecolor": "#E1E5ED"
                },
                "yaxis": {
                  "gridcolor": "#E1E5ED",
                  "showgrid": true,
                  "tickfont": {
                    "color": "#4D5663"
                  },
                  "tickformat": "",
                  "tickprefix": "",
                  "ticksuffix": "€",
                  "title": {
                    "text": "Valorização por cada 100 €uros investidos"
                  },
                  "zerolinecolor": "#E1E5ED"
                }
              }
            },
            "text/html": "<div>                            <div id=\"d7ef1197-16bf-407f-a47f-2a18bcc81d35\" class=\"plotly-graph-div\" style=\"height:500px; width:950px;\"></div>            <script type=\"text/javascript\">                require([\"plotly\"], function(Plotly) {                    window.PLOTLYENV=window.PLOTLYENV || {};                                    if (document.getElementById(\"d7ef1197-16bf-407f-a47f-2a18bcc81d35\")) {                    Plotly.newPlot(                        \"d7ef1197-16bf-407f-a47f-2a18bcc81d35\",                        [{\"line\": {\"color\": \"royalblue\", \"width\": 1.3}, \"mode\": \"lines\", \"name\": \"V60A\", \"type\": \"scatter\", \"x\": [\"2021-01-06T00:00:00\", \"2021-01-08T00:00:00\", \"2021-01-11T00:00:00\", \"2021-01-12T00:00:00\", \"2021-01-13T00:00:00\", \"2021-01-14T00:00:00\", \"2021-01-15T00:00:00\", \"2021-01-18T00:00:00\", \"2021-01-20T00:00:00\", \"2021-01-21T00:00:00\", \"2021-01-22T00:00:00\", \"2021-01-25T00:00:00\", \"2021-01-26T00:00:00\", \"2021-01-27T00:00:00\", \"2021-01-28T00:00:00\", \"2021-01-29T00:00:00\", \"2021-02-01T00:00:00\", \"2021-02-02T00:00:00\", \"2021-02-03T00:00:00\", \"2021-02-04T00:00:00\", \"2021-02-05T00:00:00\", \"2021-02-08T00:00:00\", \"2021-02-10T00:00:00\", \"2021-02-11T00:00:00\", \"2021-02-15T00:00:00\", \"2021-02-16T00:00:00\", \"2021-02-17T00:00:00\", \"2021-02-18T00:00:00\", \"2021-02-19T00:00:00\", \"2021-02-22T00:00:00\", \"2021-02-23T00:00:00\", \"2021-02-24T00:00:00\", \"2021-02-25T00:00:00\", \"2021-02-26T00:00:00\", \"2021-03-01T00:00:00\", \"2021-03-02T00:00:00\", \"2021-03-03T00:00:00\", \"2021-03-04T00:00:00\", \"2021-03-05T00:00:00\", \"2021-03-08T00:00:00\", \"2021-03-09T00:00:00\", \"2021-03-10T00:00:00\", \"2021-03-11T00:00:00\", \"2021-03-12T00:00:00\", \"2021-03-15T00:00:00\", \"2021-03-16T00:00:00\", \"2021-03-17T00:00:00\", \"2021-03-18T00:00:00\", \"2021-03-19T00:00:00\", \"2021-03-22T00:00:00\", \"2021-03-23T00:00:00\", \"2021-03-24T00:00:00\", \"2021-03-25T00:00:00\", \"2021-03-26T00:00:00\", \"2021-03-29T00:00:00\"], \"y\": [100.0, 100.91, 101.1, 100.94, 101.26, 101.65, 101.14, 101.38, 102.05, 101.97, 101.46, 101.5, 101.65, 100.87, 100.79, 99.61, 100.35, 101.42, 101.53, 102.01, 102.24, 102.6, 102.36, 102.75, 103.27, 102.91, 102.83, 102.32, 102.52, 101.73, 101.26, 101.61, 100.79, 100.35, 101.65, 101.42, 101.18, 100.79, 100.04, 101.57, 101.85, 102.01, 102.56, 102.13, 102.44, 102.95, 102.44, 102.6, 102.32, 102.48, 102.64, 102.52, 102.28, 102.83, 103.03]}, {\"line\": {\"color\": \"darkorange\", \"width\": 1.3}, \"mode\": \"lines\", \"name\": \"V40A\", \"type\": \"scatter\", \"x\": [\"2021-01-06T00:00:00\", \"2021-01-08T00:00:00\", \"2021-01-11T00:00:00\", \"2021-01-12T00:00:00\", \"2021-01-13T00:00:00\", \"2021-01-14T00:00:00\", \"2021-01-15T00:00:00\", \"2021-01-18T00:00:00\", \"2021-01-20T00:00:00\", \"2021-01-21T00:00:00\", \"2021-01-22T00:00:00\", \"2021-01-25T00:00:00\", \"2021-01-26T00:00:00\", \"2021-01-27T00:00:00\", \"2021-01-28T00:00:00\", \"2021-01-29T00:00:00\", \"2021-02-01T00:00:00\", \"2021-02-02T00:00:00\", \"2021-02-03T00:00:00\", \"2021-02-04T00:00:00\", \"2021-02-05T00:00:00\", \"2021-02-08T00:00:00\", \"2021-02-10T00:00:00\", \"2021-02-11T00:00:00\", \"2021-02-15T00:00:00\", \"2021-02-16T00:00:00\", \"2021-02-17T00:00:00\", \"2021-02-18T00:00:00\", \"2021-02-19T00:00:00\", \"2021-02-22T00:00:00\", \"2021-02-23T00:00:00\", \"2021-02-24T00:00:00\", \"2021-02-25T00:00:00\", \"2021-02-26T00:00:00\", \"2021-03-01T00:00:00\", \"2021-03-02T00:00:00\", \"2021-03-03T00:00:00\", \"2021-03-04T00:00:00\", \"2021-03-05T00:00:00\", \"2021-03-08T00:00:00\", \"2021-03-09T00:00:00\", \"2021-03-10T00:00:00\", \"2021-03-11T00:00:00\", \"2021-03-12T00:00:00\", \"2021-03-15T00:00:00\", \"2021-03-16T00:00:00\", \"2021-03-17T00:00:00\", \"2021-03-18T00:00:00\", \"2021-03-19T00:00:00\", \"2021-03-22T00:00:00\", \"2021-03-23T00:00:00\", \"2021-03-24T00:00:00\", \"2021-03-25T00:00:00\", \"2021-03-26T00:00:00\", \"2021-03-29T00:00:00\"], \"y\": [100.0, 100.67, 100.79, 100.75, 100.91, 101.27, 100.83, 100.91, 101.39, 101.23, 100.83, 100.95, 100.99, 100.67, 100.36, 99.76, 100.0, 100.79, 100.91, 101.15, 101.39, 101.46, 101.39, 101.7, 101.82, 101.5, 101.46, 101.03, 101.15, 100.59, 100.04, 100.36, 99.64, 99.25, 100.36, 100.24, 99.96, 99.68, 99.09, 100.08, 100.36, 100.59, 100.91, 100.36, 100.63, 101.11, 100.63, 100.59, 100.48, 100.59, 100.75, 100.91, 100.67, 100.83, 101.03]}, {\"line\": {\"color\": \"dimgrey\", \"width\": 1.3}, \"mode\": \"lines\", \"name\": \"V20A\", \"type\": \"scatter\", \"x\": [\"2021-01-06T00:00:00\", \"2021-01-08T00:00:00\", \"2021-01-11T00:00:00\", \"2021-01-12T00:00:00\", \"2021-01-13T00:00:00\", \"2021-01-14T00:00:00\", \"2021-01-15T00:00:00\", \"2021-01-18T00:00:00\", \"2021-01-20T00:00:00\", \"2021-01-21T00:00:00\", \"2021-01-22T00:00:00\", \"2021-01-25T00:00:00\", \"2021-01-26T00:00:00\", \"2021-01-27T00:00:00\", \"2021-01-28T00:00:00\", \"2021-01-29T00:00:00\", \"2021-02-01T00:00:00\", \"2021-02-02T00:00:00\", \"2021-02-03T00:00:00\", \"2021-02-04T00:00:00\", \"2021-02-05T00:00:00\", \"2021-02-08T00:00:00\", \"2021-02-10T00:00:00\", \"2021-02-11T00:00:00\", \"2021-02-15T00:00:00\", \"2021-02-16T00:00:00\", \"2021-02-17T00:00:00\", \"2021-02-18T00:00:00\", \"2021-02-19T00:00:00\", \"2021-02-22T00:00:00\", \"2021-02-23T00:00:00\", \"2021-02-24T00:00:00\", \"2021-02-25T00:00:00\", \"2021-02-26T00:00:00\", \"2021-03-01T00:00:00\", \"2021-03-02T00:00:00\", \"2021-03-03T00:00:00\", \"2021-03-04T00:00:00\", \"2021-03-05T00:00:00\", \"2021-03-08T00:00:00\", \"2021-03-09T00:00:00\", \"2021-03-10T00:00:00\", \"2021-03-11T00:00:00\", \"2021-03-12T00:00:00\", \"2021-03-15T00:00:00\", \"2021-03-16T00:00:00\", \"2021-03-17T00:00:00\", \"2021-03-18T00:00:00\", \"2021-03-19T00:00:00\", \"2021-03-22T00:00:00\", \"2021-03-23T00:00:00\", \"2021-03-24T00:00:00\", \"2021-03-25T00:00:00\", \"2021-03-26T00:00:00\", \"2021-03-29T00:00:00\"], \"y\": [100.0, 100.16, 100.08, 99.84, 100.24, 100.48, 100.08, 100.08, 100.4, 100.44, 100.12, 100.28, 100.32, 100.2, 100.08, 99.56, 99.8, 99.92, 99.96, 100.0, 99.96, 100.12, 100.08, 100.24, 100.08, 99.8, 99.88, 99.52, 99.32, 99.05, 98.77, 98.77, 98.13, 97.97, 98.69, 98.73, 98.41, 98.29, 97.86, 98.29, 98.53, 98.65, 98.89, 98.37, 98.57, 98.85, 98.41, 98.29, 98.29, 98.53, 98.65, 98.69, 98.69, 98.81, 98.73]}, {\"line\": {\"color\": \"rgb(86, 53, 171)\", \"width\": 1.3}, \"mode\": \"lines\", \"name\": \"V80A\", \"type\": \"scatter\", \"x\": [\"2021-01-06T00:00:00\", \"2021-01-08T00:00:00\", \"2021-01-11T00:00:00\", \"2021-01-12T00:00:00\", \"2021-01-13T00:00:00\", \"2021-01-14T00:00:00\", \"2021-01-15T00:00:00\", \"2021-01-18T00:00:00\", \"2021-01-20T00:00:00\", \"2021-01-21T00:00:00\", \"2021-01-22T00:00:00\", \"2021-01-25T00:00:00\", \"2021-01-26T00:00:00\", \"2021-01-27T00:00:00\", \"2021-01-28T00:00:00\", \"2021-01-29T00:00:00\", \"2021-02-01T00:00:00\", \"2021-02-02T00:00:00\", \"2021-02-03T00:00:00\", \"2021-02-04T00:00:00\", \"2021-02-05T00:00:00\", \"2021-02-08T00:00:00\", \"2021-02-10T00:00:00\", \"2021-02-11T00:00:00\", \"2021-02-15T00:00:00\", \"2021-02-16T00:00:00\", \"2021-02-17T00:00:00\", \"2021-02-18T00:00:00\", \"2021-02-19T00:00:00\", \"2021-02-22T00:00:00\", \"2021-02-23T00:00:00\", \"2021-02-24T00:00:00\", \"2021-02-25T00:00:00\", \"2021-02-26T00:00:00\", \"2021-03-01T00:00:00\", \"2021-03-02T00:00:00\", \"2021-03-03T00:00:00\", \"2021-03-04T00:00:00\", \"2021-03-05T00:00:00\", \"2021-03-08T00:00:00\", \"2021-03-09T00:00:00\", \"2021-03-10T00:00:00\", \"2021-03-11T00:00:00\", \"2021-03-12T00:00:00\", \"2021-03-15T00:00:00\", \"2021-03-16T00:00:00\", \"2021-03-17T00:00:00\", \"2021-03-18T00:00:00\", \"2021-03-19T00:00:00\", \"2021-03-22T00:00:00\", \"2021-03-23T00:00:00\", \"2021-03-24T00:00:00\", \"2021-03-25T00:00:00\", \"2021-03-26T00:00:00\", \"2021-03-29T00:00:00\"], \"y\": [100.0, 100.94, 101.53, 101.49, 101.64, 102.11, 101.25, 101.56, 102.74, 102.62, 101.88, 101.76, 102.27, 101.02, 101.06, 99.69, 100.31, 102.19, 102.35, 102.97, 103.29, 103.72, 103.29, 103.83, 104.77, 104.54, 104.26, 103.52, 103.91, 102.85, 102.07, 102.78, 101.99, 100.94, 102.97, 102.58, 102.31, 101.8, 100.78, 103.09, 103.36, 103.56, 104.18, 103.87, 104.18, 105.01, 104.5, 104.61, 104.22, 104.34, 104.54, 104.3, 103.95, 104.69, 105.08]}, {\"line\": {\"color\": \"rgb(44, 160, 44)\", \"width\": 1.3}, \"mode\": \"lines\", \"name\": \"Conservador\", \"type\": \"scatter\", \"x\": [\"2021-01-06T00:00:00\", \"2021-01-08T00:00:00\", \"2021-01-11T00:00:00\", \"2021-01-12T00:00:00\", \"2021-01-13T00:00:00\", \"2021-01-14T00:00:00\", \"2021-01-15T00:00:00\", \"2021-01-18T00:00:00\", \"2021-01-20T00:00:00\", \"2021-01-21T00:00:00\", \"2021-01-22T00:00:00\", \"2021-01-25T00:00:00\", \"2021-01-26T00:00:00\", \"2021-01-27T00:00:00\", \"2021-01-28T00:00:00\", \"2021-01-29T00:00:00\", \"2021-02-01T00:00:00\", \"2021-02-02T00:00:00\", \"2021-02-03T00:00:00\", \"2021-02-04T00:00:00\", \"2021-02-05T00:00:00\", \"2021-02-08T00:00:00\", \"2021-02-10T00:00:00\", \"2021-02-11T00:00:00\", \"2021-02-15T00:00:00\", \"2021-02-16T00:00:00\", \"2021-02-17T00:00:00\", \"2021-02-18T00:00:00\", \"2021-02-19T00:00:00\", \"2021-02-22T00:00:00\", \"2021-02-23T00:00:00\", \"2021-02-24T00:00:00\", \"2021-02-25T00:00:00\", \"2021-02-26T00:00:00\", \"2021-03-01T00:00:00\", \"2021-03-02T00:00:00\", \"2021-03-03T00:00:00\", \"2021-03-04T00:00:00\", \"2021-03-05T00:00:00\", \"2021-03-08T00:00:00\", \"2021-03-09T00:00:00\", \"2021-03-10T00:00:00\", \"2021-03-11T00:00:00\", \"2021-03-12T00:00:00\", \"2021-03-15T00:00:00\", \"2021-03-16T00:00:00\", \"2021-03-17T00:00:00\", \"2021-03-18T00:00:00\", \"2021-03-19T00:00:00\", \"2021-03-22T00:00:00\", \"2021-03-23T00:00:00\", \"2021-03-24T00:00:00\", \"2021-03-25T00:00:00\", \"2021-03-26T00:00:00\", \"2021-03-29T00:00:00\"], \"y\": [100.0, 100.2, 100.2, 100.2, 100.2, 100.2, 100.2, 100.0, 100.4, 100.2, 100.0, 100.2, 100.2, 100.0, 100.2, 99.8, 100.0, 100.2, 100.4, 100.4, 100.4, 100.6, 100.6, 100.8, 100.6, 100.2, 100.2, 100.0, 100.0, 99.8, 99.4, 99.4, 99.0, 98.6, 99.4, 99.4, 99.2, 99.0, 98.6, 99.0, 99.2, 99.2, 99.6, 99.2, 99.4, 99.6, 99.2, 99.2, 99.0, 99.2, 99.4, 99.4, 99.6, 99.6, 99.4]}, {\"line\": {\"color\": \"rgb(214, 39, 40)\", \"width\": 1.3}, \"mode\": \"lines\", \"name\": \"Moderado\", \"type\": \"scatter\", \"x\": [\"2021-01-06T00:00:00\", \"2021-01-08T00:00:00\", \"2021-01-11T00:00:00\", \"2021-01-12T00:00:00\", \"2021-01-13T00:00:00\", \"2021-01-14T00:00:00\", \"2021-01-15T00:00:00\", \"2021-01-18T00:00:00\", \"2021-01-20T00:00:00\", \"2021-01-21T00:00:00\", \"2021-01-22T00:00:00\", \"2021-01-25T00:00:00\", \"2021-01-26T00:00:00\", \"2021-01-27T00:00:00\", \"2021-01-28T00:00:00\", \"2021-01-29T00:00:00\", \"2021-02-01T00:00:00\", \"2021-02-02T00:00:00\", \"2021-02-03T00:00:00\", \"2021-02-04T00:00:00\", \"2021-02-05T00:00:00\", \"2021-02-08T00:00:00\", \"2021-02-10T00:00:00\", \"2021-02-11T00:00:00\", \"2021-02-15T00:00:00\", \"2021-02-16T00:00:00\", \"2021-02-17T00:00:00\", \"2021-02-18T00:00:00\", \"2021-02-19T00:00:00\", \"2021-02-22T00:00:00\", \"2021-02-23T00:00:00\", \"2021-02-24T00:00:00\", \"2021-02-25T00:00:00\", \"2021-02-26T00:00:00\", \"2021-03-01T00:00:00\", \"2021-03-02T00:00:00\", \"2021-03-03T00:00:00\", \"2021-03-04T00:00:00\", \"2021-03-05T00:00:00\", \"2021-03-08T00:00:00\", \"2021-03-09T00:00:00\", \"2021-03-10T00:00:00\", \"2021-03-11T00:00:00\", \"2021-03-12T00:00:00\", \"2021-03-15T00:00:00\", \"2021-03-16T00:00:00\", \"2021-03-17T00:00:00\", \"2021-03-18T00:00:00\", \"2021-03-19T00:00:00\", \"2021-03-22T00:00:00\", \"2021-03-23T00:00:00\", \"2021-03-24T00:00:00\", \"2021-03-25T00:00:00\", \"2021-03-26T00:00:00\", \"2021-03-29T00:00:00\"], \"y\": [100.0, 100.6, 100.4, 100.4, 100.6, 100.8, 100.4, 100.4, 101.0, 100.8, 100.6, 100.6, 100.6, 100.0, 100.2, 99.0, 99.6, 100.4, 100.4, 100.8, 100.8, 100.8, 100.8, 101.2, 101.6, 101.2, 101.0, 100.6, 100.6, 100.2, 99.8, 100.0, 99.4, 98.8, 100.0, 99.8, 99.8, 99.4, 99.0, 99.8, 100.2, 100.4, 100.8, 100.2, 100.4, 100.8, 100.4, 100.4, 100.4, 100.4, 100.4, 100.4, 100.4, 100.8, 100.8]}, {\"line\": {\"color\": \"#ffd166\", \"width\": 1.3}, \"mode\": \"lines\", \"name\": \"Din\\u00e2mico\", \"type\": \"scatter\", \"x\": [\"2021-01-06T00:00:00\", \"2021-01-08T00:00:00\", \"2021-01-11T00:00:00\", \"2021-01-12T00:00:00\", \"2021-01-13T00:00:00\", \"2021-01-14T00:00:00\", \"2021-01-15T00:00:00\", \"2021-01-18T00:00:00\", \"2021-01-20T00:00:00\", \"2021-01-21T00:00:00\", \"2021-01-22T00:00:00\", \"2021-01-25T00:00:00\", \"2021-01-26T00:00:00\", \"2021-01-27T00:00:00\", \"2021-01-28T00:00:00\", \"2021-01-29T00:00:00\", \"2021-02-01T00:00:00\", \"2021-02-02T00:00:00\", \"2021-02-03T00:00:00\", \"2021-02-04T00:00:00\", \"2021-02-05T00:00:00\", \"2021-02-08T00:00:00\", \"2021-02-10T00:00:00\", \"2021-02-11T00:00:00\", \"2021-02-15T00:00:00\", \"2021-02-16T00:00:00\", \"2021-02-17T00:00:00\", \"2021-02-18T00:00:00\", \"2021-02-19T00:00:00\", \"2021-02-22T00:00:00\", \"2021-02-23T00:00:00\", \"2021-02-24T00:00:00\", \"2021-02-25T00:00:00\", \"2021-02-26T00:00:00\", \"2021-03-01T00:00:00\", \"2021-03-02T00:00:00\", \"2021-03-03T00:00:00\", \"2021-03-04T00:00:00\", \"2021-03-05T00:00:00\", \"2021-03-08T00:00:00\", \"2021-03-09T00:00:00\", \"2021-03-10T00:00:00\", \"2021-03-11T00:00:00\", \"2021-03-12T00:00:00\", \"2021-03-15T00:00:00\", \"2021-03-16T00:00:00\", \"2021-03-17T00:00:00\", \"2021-03-18T00:00:00\", \"2021-03-19T00:00:00\", \"2021-03-22T00:00:00\", \"2021-03-23T00:00:00\", \"2021-03-24T00:00:00\", \"2021-03-25T00:00:00\", \"2021-03-26T00:00:00\", \"2021-03-29T00:00:00\"], \"y\": [100.0, 101.0, 100.8, 100.8, 101.0, 101.6, 101.0, 101.0, 101.6, 101.6, 101.2, 101.2, 101.4, 100.6, 100.8, 99.0, 100.0, 101.4, 101.6, 102.0, 102.2, 102.4, 102.2, 102.6, 103.4, 103.0, 103.0, 102.2, 102.6, 101.6, 101.4, 101.6, 100.8, 100.2, 101.8, 101.6, 101.4, 101.0, 100.6, 102.0, 102.4, 102.6, 103.0, 102.8, 103.0, 103.4, 103.0, 103.2, 102.8, 103.0, 103.0, 102.8, 102.8, 103.4, 103.6]}],                        {\"annotations\": [{\"font\": {\"color\": \"rgb(150,150,150)\", \"family\": \"Arial\", \"size\": 12}, \"showarrow\": false, \"text\": \"\", \"x\": 0.5, \"xanchor\": \"center\", \"xref\": \"paper\", \"y\": \"-0.125\", \"yanchor\": \"top\", \"yref\": \"paper\"}], \"height\": 500, \"hovermode\": \"x\", \"paper_bgcolor\": \"#F5F6F9\", \"plot_bgcolor\": \"#F5F6F9\", \"showlegend\": true, \"template\": {\"data\": {\"bar\": [{\"error_x\": {\"color\": \"#2a3f5f\"}, \"error_y\": {\"color\": \"#2a3f5f\"}, \"marker\": {\"line\": {\"color\": \"#E5ECF6\", \"width\": 0.5}}, \"type\": \"bar\"}], \"barpolar\": [{\"marker\": {\"line\": {\"color\": \"#E5ECF6\", \"width\": 0.5}}, \"type\": \"barpolar\"}], \"carpet\": [{\"aaxis\": {\"endlinecolor\": \"#2a3f5f\", \"gridcolor\": \"white\", \"linecolor\": \"white\", \"minorgridcolor\": \"white\", \"startlinecolor\": \"#2a3f5f\"}, \"baxis\": {\"endlinecolor\": \"#2a3f5f\", \"gridcolor\": \"white\", \"linecolor\": \"white\", \"minorgridcolor\": \"white\", \"startlinecolor\": \"#2a3f5f\"}, \"type\": \"carpet\"}], \"choropleth\": [{\"colorbar\": {\"outlinewidth\": 0, \"ticks\": \"\"}, \"type\": \"choropleth\"}], \"contour\": [{\"colorbar\": {\"outlinewidth\": 0, \"ticks\": \"\"}, \"colorscale\": [[0.0, \"#0d0887\"], [0.1111111111111111, \"#46039f\"], [0.2222222222222222, \"#7201a8\"], [0.3333333333333333, \"#9c179e\"], [0.4444444444444444, \"#bd3786\"], [0.5555555555555556, \"#d8576b\"], [0.6666666666666666, \"#ed7953\"], [0.7777777777777778, \"#fb9f3a\"], [0.8888888888888888, \"#fdca26\"], [1.0, \"#f0f921\"]], \"type\": \"contour\"}], \"contourcarpet\": [{\"colorbar\": {\"outlinewidth\": 0, \"ticks\": \"\"}, \"type\": \"contourcarpet\"}], \"heatmap\": [{\"colorbar\": {\"outlinewidth\": 0, \"ticks\": \"\"}, \"colorscale\": [[0.0, \"#0d0887\"], [0.1111111111111111, \"#46039f\"], [0.2222222222222222, \"#7201a8\"], [0.3333333333333333, \"#9c179e\"], [0.4444444444444444, \"#bd3786\"], [0.5555555555555556, \"#d8576b\"], [0.6666666666666666, \"#ed7953\"], [0.7777777777777778, \"#fb9f3a\"], [0.8888888888888888, \"#fdca26\"], [1.0, \"#f0f921\"]], \"type\": \"heatmap\"}], \"heatmapgl\": [{\"colorbar\": {\"outlinewidth\": 0, \"ticks\": \"\"}, \"colorscale\": [[0.0, \"#0d0887\"], [0.1111111111111111, \"#46039f\"], [0.2222222222222222, \"#7201a8\"], [0.3333333333333333, \"#9c179e\"], [0.4444444444444444, \"#bd3786\"], [0.5555555555555556, \"#d8576b\"], [0.6666666666666666, \"#ed7953\"], [0.7777777777777778, \"#fb9f3a\"], [0.8888888888888888, \"#fdca26\"], [1.0, \"#f0f921\"]], \"type\": \"heatmapgl\"}], \"histogram\": [{\"marker\": {\"colorbar\": {\"outlinewidth\": 0, \"ticks\": \"\"}}, \"type\": \"histogram\"}], \"histogram2d\": [{\"colorbar\": {\"outlinewidth\": 0, \"ticks\": \"\"}, \"colorscale\": [[0.0, \"#0d0887\"], [0.1111111111111111, \"#46039f\"], [0.2222222222222222, \"#7201a8\"], [0.3333333333333333, \"#9c179e\"], [0.4444444444444444, \"#bd3786\"], [0.5555555555555556, \"#d8576b\"], [0.6666666666666666, \"#ed7953\"], [0.7777777777777778, \"#fb9f3a\"], [0.8888888888888888, \"#fdca26\"], [1.0, \"#f0f921\"]], \"type\": \"histogram2d\"}], \"histogram2dcontour\": [{\"colorbar\": {\"outlinewidth\": 0, \"ticks\": \"\"}, \"colorscale\": [[0.0, \"#0d0887\"], [0.1111111111111111, \"#46039f\"], [0.2222222222222222, \"#7201a8\"], [0.3333333333333333, \"#9c179e\"], [0.4444444444444444, \"#bd3786\"], [0.5555555555555556, \"#d8576b\"], [0.6666666666666666, \"#ed7953\"], [0.7777777777777778, \"#fb9f3a\"], [0.8888888888888888, \"#fdca26\"], [1.0, \"#f0f921\"]], \"type\": \"histogram2dcontour\"}], \"mesh3d\": [{\"colorbar\": {\"outlinewidth\": 0, \"ticks\": \"\"}, \"type\": \"mesh3d\"}], \"parcoords\": [{\"line\": {\"colorbar\": {\"outlinewidth\": 0, \"ticks\": \"\"}}, \"type\": \"parcoords\"}], \"pie\": [{\"automargin\": true, \"type\": \"pie\"}], \"scatter\": [{\"marker\": {\"colorbar\": {\"outlinewidth\": 0, \"ticks\": \"\"}}, \"type\": \"scatter\"}], \"scatter3d\": [{\"line\": {\"colorbar\": {\"outlinewidth\": 0, \"ticks\": \"\"}}, \"marker\": {\"colorbar\": {\"outlinewidth\": 0, \"ticks\": \"\"}}, \"type\": \"scatter3d\"}], \"scattercarpet\": [{\"marker\": {\"colorbar\": {\"outlinewidth\": 0, \"ticks\": \"\"}}, \"type\": \"scattercarpet\"}], \"scattergeo\": [{\"marker\": {\"colorbar\": {\"outlinewidth\": 0, \"ticks\": \"\"}}, \"type\": \"scattergeo\"}], \"scattergl\": [{\"marker\": {\"colorbar\": {\"outlinewidth\": 0, \"ticks\": \"\"}}, \"type\": \"scattergl\"}], \"scattermapbox\": [{\"marker\": {\"colorbar\": {\"outlinewidth\": 0, \"ticks\": \"\"}}, \"type\": \"scattermapbox\"}], \"scatterpolar\": [{\"marker\": {\"colorbar\": {\"outlinewidth\": 0, \"ticks\": \"\"}}, \"type\": \"scatterpolar\"}], \"scatterpolargl\": [{\"marker\": {\"colorbar\": {\"outlinewidth\": 0, \"ticks\": \"\"}}, \"type\": \"scatterpolargl\"}], \"scatterternary\": [{\"marker\": {\"colorbar\": {\"outlinewidth\": 0, \"ticks\": \"\"}}, \"type\": \"scatterternary\"}], \"surface\": [{\"colorbar\": {\"outlinewidth\": 0, \"ticks\": \"\"}, \"colorscale\": [[0.0, \"#0d0887\"], [0.1111111111111111, \"#46039f\"], [0.2222222222222222, \"#7201a8\"], [0.3333333333333333, \"#9c179e\"], [0.4444444444444444, \"#bd3786\"], [0.5555555555555556, \"#d8576b\"], [0.6666666666666666, \"#ed7953\"], [0.7777777777777778, \"#fb9f3a\"], [0.8888888888888888, \"#fdca26\"], [1.0, \"#f0f921\"]], \"type\": \"surface\"}], \"table\": [{\"cells\": {\"fill\": {\"color\": \"#EBF0F8\"}, \"line\": {\"color\": \"white\"}}, \"header\": {\"fill\": {\"color\": \"#C8D4E3\"}, \"line\": {\"color\": \"white\"}}, \"type\": \"table\"}]}, \"layout\": {\"annotationdefaults\": {\"arrowcolor\": \"#2a3f5f\", \"arrowhead\": 0, \"arrowwidth\": 1}, \"autotypenumbers\": \"strict\", \"coloraxis\": {\"colorbar\": {\"outlinewidth\": 0, \"ticks\": \"\"}}, \"colorscale\": {\"diverging\": [[0, \"#8e0152\"], [0.1, \"#c51b7d\"], [0.2, \"#de77ae\"], [0.3, \"#f1b6da\"], [0.4, \"#fde0ef\"], [0.5, \"#f7f7f7\"], [0.6, \"#e6f5d0\"], [0.7, \"#b8e186\"], [0.8, \"#7fbc41\"], [0.9, \"#4d9221\"], [1, \"#276419\"]], \"sequential\": [[0.0, \"#0d0887\"], [0.1111111111111111, \"#46039f\"], [0.2222222222222222, \"#7201a8\"], [0.3333333333333333, \"#9c179e\"], [0.4444444444444444, \"#bd3786\"], [0.5555555555555556, \"#d8576b\"], [0.6666666666666666, \"#ed7953\"], [0.7777777777777778, \"#fb9f3a\"], [0.8888888888888888, \"#fdca26\"], [1.0, \"#f0f921\"]], \"sequentialminus\": [[0.0, \"#0d0887\"], [0.1111111111111111, \"#46039f\"], [0.2222222222222222, \"#7201a8\"], [0.3333333333333333, \"#9c179e\"], [0.4444444444444444, \"#bd3786\"], [0.5555555555555556, \"#d8576b\"], [0.6666666666666666, \"#ed7953\"], [0.7777777777777778, \"#fb9f3a\"], [0.8888888888888888, \"#fdca26\"], [1.0, \"#f0f921\"]]}, \"colorway\": [\"#636efa\", \"#EF553B\", \"#00cc96\", \"#ab63fa\", \"#FFA15A\", \"#19d3f3\", \"#FF6692\", \"#B6E880\", \"#FF97FF\", \"#FECB52\"], \"font\": {\"color\": \"#2a3f5f\"}, \"geo\": {\"bgcolor\": \"white\", \"lakecolor\": \"white\", \"landcolor\": \"#E5ECF6\", \"showlakes\": true, \"showland\": true, \"subunitcolor\": \"white\"}, \"hoverlabel\": {\"align\": \"left\"}, \"hovermode\": \"closest\", \"mapbox\": {\"style\": \"light\"}, \"paper_bgcolor\": \"white\", \"plot_bgcolor\": \"#E5ECF6\", \"polar\": {\"angularaxis\": {\"gridcolor\": \"white\", \"linecolor\": \"white\", \"ticks\": \"\"}, \"bgcolor\": \"#E5ECF6\", \"radialaxis\": {\"gridcolor\": \"white\", \"linecolor\": \"white\", \"ticks\": \"\"}}, \"scene\": {\"xaxis\": {\"backgroundcolor\": \"#E5ECF6\", \"gridcolor\": \"white\", \"gridwidth\": 2, \"linecolor\": \"white\", \"showbackground\": true, \"ticks\": \"\", \"zerolinecolor\": \"white\"}, \"yaxis\": {\"backgroundcolor\": \"#E5ECF6\", \"gridcolor\": \"white\", \"gridwidth\": 2, \"linecolor\": \"white\", \"showbackground\": true, \"ticks\": \"\", \"zerolinecolor\": \"white\"}, \"zaxis\": {\"backgroundcolor\": \"#E5ECF6\", \"gridcolor\": \"white\", \"gridwidth\": 2, \"linecolor\": \"white\", \"showbackground\": true, \"ticks\": \"\", \"zerolinecolor\": \"white\"}}, \"shapedefaults\": {\"line\": {\"color\": \"#2a3f5f\"}}, \"ternary\": {\"aaxis\": {\"gridcolor\": \"white\", \"linecolor\": \"white\", \"ticks\": \"\"}, \"baxis\": {\"gridcolor\": \"white\", \"linecolor\": \"white\", \"ticks\": \"\"}, \"bgcolor\": \"#E5ECF6\", \"caxis\": {\"gridcolor\": \"white\", \"linecolor\": \"white\", \"ticks\": \"\"}}, \"title\": {\"x\": 0.05}, \"xaxis\": {\"automargin\": true, \"gridcolor\": \"white\", \"linecolor\": \"white\", \"ticks\": \"\", \"title\": {\"standoff\": 15}, \"zerolinecolor\": \"white\", \"zerolinewidth\": 2}, \"yaxis\": {\"automargin\": true, \"gridcolor\": \"white\", \"linecolor\": \"white\", \"ticks\": \"\", \"title\": {\"standoff\": 15}, \"zerolinecolor\": \"white\", \"zerolinewidth\": 2}}}, \"title\": {\"text\": \"Vanguard LifeStrategy VS PPR SMART\", \"x\": 0.5}, \"width\": 950, \"xaxis\": {\"gridcolor\": \"#E1E5ED\", \"showgrid\": true, \"tickfont\": {\"color\": \"#4D5663\"}, \"tickformat\": \"\", \"tickprefix\": \"\", \"ticksuffix\": \"\", \"title\": {\"font\": {\"color\": \"#4D5663\"}, \"text\": \"\"}, \"zerolinecolor\": \"#E1E5ED\"}, \"yaxis\": {\"gridcolor\": \"#E1E5ED\", \"showgrid\": true, \"tickfont\": {\"color\": \"#4D5663\"}, \"tickformat\": \"\", \"tickprefix\": \"\", \"ticksuffix\": \"\\u20ac\", \"title\": {\"text\": \"Valoriza\\u00e7\\u00e3o por cada 100 \\u20acuros investidos\"}, \"zerolinecolor\": \"#E1E5ED\"}},                        {\"responsive\": true}                    ).then(function(){\n                            \nvar gd = document.getElementById('d7ef1197-16bf-407f-a47f-2a18bcc81d35');\nvar x = new MutationObserver(function (mutations, observer) {{\n        var display = window.getComputedStyle(gd).display;\n        if (!display || display === 'none') {{\n            console.log([gd, 'removed!']);\n            Plotly.purge(gd);\n            observer.disconnect();\n        }}\n}});\n\n// Listen for the removal of the full notebook cells\nvar notebookContainer = gd.closest('#notebook-container');\nif (notebookContainer) {{\n    x.observe(notebookContainer, {childList: true});\n}}\n\n// Listen for the clearing of the current output cell\nvar outputEl = gd.closest('.output');\nif (outputEl) {{\n    x.observe(outputEl, {childList: true});\n}}\n\n                        })                };                });            </script>        </div>"
          },
          "metadata": {}
        }
      ]
    },
    {
      "cell_type": "code",
      "metadata": {
        "id": "QydPC7aRlHgt"
      },
      "source": [
        "pl.ichart(round(pl.compute_drawdowns(data_total_norm * 100), 2), yticksuffix='%',\n",
        "          title='Drawdowns', colab=False)"
      ],
      "execution_count": 23,
      "outputs": [
        {
          "output_type": "display_data",
          "data": {
            "application/vnd.plotly.v1+json": {
              "config": {
                "plotlyServerURL": "https://plot.ly"
              },
              "data": [
                {
                  "line": {
                    "color": "royalblue",
                    "width": 1.3
                  },
                  "mode": "lines",
                  "name": "V60A",
                  "type": "scatter",
                  "x": [
                    "2021-01-06T00:00:00",
                    "2021-01-08T00:00:00",
                    "2021-01-11T00:00:00",
                    "2021-01-12T00:00:00",
                    "2021-01-13T00:00:00",
                    "2021-01-14T00:00:00",
                    "2021-01-15T00:00:00",
                    "2021-01-18T00:00:00",
                    "2021-01-20T00:00:00",
                    "2021-01-21T00:00:00",
                    "2021-01-22T00:00:00",
                    "2021-01-25T00:00:00",
                    "2021-01-26T00:00:00",
                    "2021-01-27T00:00:00",
                    "2021-01-28T00:00:00",
                    "2021-01-29T00:00:00",
                    "2021-02-01T00:00:00",
                    "2021-02-02T00:00:00",
                    "2021-02-03T00:00:00",
                    "2021-02-04T00:00:00",
                    "2021-02-05T00:00:00",
                    "2021-02-08T00:00:00",
                    "2021-02-10T00:00:00",
                    "2021-02-11T00:00:00",
                    "2021-02-15T00:00:00",
                    "2021-02-16T00:00:00",
                    "2021-02-17T00:00:00",
                    "2021-02-18T00:00:00",
                    "2021-02-19T00:00:00",
                    "2021-02-22T00:00:00",
                    "2021-02-23T00:00:00",
                    "2021-02-24T00:00:00",
                    "2021-02-25T00:00:00",
                    "2021-02-26T00:00:00",
                    "2021-03-01T00:00:00",
                    "2021-03-02T00:00:00",
                    "2021-03-03T00:00:00",
                    "2021-03-04T00:00:00",
                    "2021-03-05T00:00:00",
                    "2021-03-08T00:00:00",
                    "2021-03-09T00:00:00",
                    "2021-03-10T00:00:00",
                    "2021-03-11T00:00:00",
                    "2021-03-12T00:00:00",
                    "2021-03-15T00:00:00",
                    "2021-03-16T00:00:00",
                    "2021-03-17T00:00:00",
                    "2021-03-18T00:00:00",
                    "2021-03-19T00:00:00",
                    "2021-03-22T00:00:00",
                    "2021-03-23T00:00:00",
                    "2021-03-24T00:00:00",
                    "2021-03-25T00:00:00",
                    "2021-03-26T00:00:00",
                    "2021-03-29T00:00:00"
                  ],
                  "y": [
                    0,
                    0,
                    0,
                    -0.16,
                    0,
                    0,
                    -0.5,
                    -0.27,
                    0,
                    -0.08,
                    -0.58,
                    -0.54,
                    -0.39,
                    -1.16,
                    -1.23,
                    -2.39,
                    -1.66,
                    -0.62,
                    -0.5,
                    -0.04,
                    0,
                    0,
                    -0.23,
                    0,
                    0,
                    -0.34,
                    -0.42,
                    -0.91,
                    -0.72,
                    -1.49,
                    -1.94,
                    -1.6,
                    -2.4,
                    -2.82,
                    -1.56,
                    -1.79,
                    -2.02,
                    -2.4,
                    -3.12,
                    -1.64,
                    -1.37,
                    -1.22,
                    -0.69,
                    -1.11,
                    -0.8,
                    -0.3,
                    -0.8,
                    -0.65,
                    -0.91,
                    -0.76,
                    -0.61,
                    -0.72,
                    -0.95,
                    -0.42,
                    -0.23
                  ]
                },
                {
                  "line": {
                    "color": "darkorange",
                    "width": 1.3
                  },
                  "mode": "lines",
                  "name": "V40A",
                  "type": "scatter",
                  "x": [
                    "2021-01-06T00:00:00",
                    "2021-01-08T00:00:00",
                    "2021-01-11T00:00:00",
                    "2021-01-12T00:00:00",
                    "2021-01-13T00:00:00",
                    "2021-01-14T00:00:00",
                    "2021-01-15T00:00:00",
                    "2021-01-18T00:00:00",
                    "2021-01-20T00:00:00",
                    "2021-01-21T00:00:00",
                    "2021-01-22T00:00:00",
                    "2021-01-25T00:00:00",
                    "2021-01-26T00:00:00",
                    "2021-01-27T00:00:00",
                    "2021-01-28T00:00:00",
                    "2021-01-29T00:00:00",
                    "2021-02-01T00:00:00",
                    "2021-02-02T00:00:00",
                    "2021-02-03T00:00:00",
                    "2021-02-04T00:00:00",
                    "2021-02-05T00:00:00",
                    "2021-02-08T00:00:00",
                    "2021-02-10T00:00:00",
                    "2021-02-11T00:00:00",
                    "2021-02-15T00:00:00",
                    "2021-02-16T00:00:00",
                    "2021-02-17T00:00:00",
                    "2021-02-18T00:00:00",
                    "2021-02-19T00:00:00",
                    "2021-02-22T00:00:00",
                    "2021-02-23T00:00:00",
                    "2021-02-24T00:00:00",
                    "2021-02-25T00:00:00",
                    "2021-02-26T00:00:00",
                    "2021-03-01T00:00:00",
                    "2021-03-02T00:00:00",
                    "2021-03-03T00:00:00",
                    "2021-03-04T00:00:00",
                    "2021-03-05T00:00:00",
                    "2021-03-08T00:00:00",
                    "2021-03-09T00:00:00",
                    "2021-03-10T00:00:00",
                    "2021-03-11T00:00:00",
                    "2021-03-12T00:00:00",
                    "2021-03-15T00:00:00",
                    "2021-03-16T00:00:00",
                    "2021-03-17T00:00:00",
                    "2021-03-18T00:00:00",
                    "2021-03-19T00:00:00",
                    "2021-03-22T00:00:00",
                    "2021-03-23T00:00:00",
                    "2021-03-24T00:00:00",
                    "2021-03-25T00:00:00",
                    "2021-03-26T00:00:00",
                    "2021-03-29T00:00:00"
                  ],
                  "y": [
                    0,
                    0,
                    0,
                    -0.04,
                    0,
                    0,
                    -0.43,
                    -0.35,
                    0,
                    -0.16,
                    -0.55,
                    -0.43,
                    -0.39,
                    -0.7,
                    -1.02,
                    -1.6,
                    -1.37,
                    -0.59,
                    -0.47,
                    -0.23,
                    0,
                    0,
                    -0.08,
                    0,
                    0,
                    -0.31,
                    -0.35,
                    -0.78,
                    -0.66,
                    -1.21,
                    -1.75,
                    -1.44,
                    -2.14,
                    -2.53,
                    -1.44,
                    -1.56,
                    -1.83,
                    -2.1,
                    -2.68,
                    -1.71,
                    -1.44,
                    -1.21,
                    -0.89,
                    -1.44,
                    -1.17,
                    -0.7,
                    -1.17,
                    -1.21,
                    -1.32,
                    -1.21,
                    -1.05,
                    -0.89,
                    -1.13,
                    -0.97,
                    -0.78
                  ]
                },
                {
                  "line": {
                    "color": "dimgrey",
                    "width": 1.3
                  },
                  "mode": "lines",
                  "name": "V20A",
                  "type": "scatter",
                  "x": [
                    "2021-01-06T00:00:00",
                    "2021-01-08T00:00:00",
                    "2021-01-11T00:00:00",
                    "2021-01-12T00:00:00",
                    "2021-01-13T00:00:00",
                    "2021-01-14T00:00:00",
                    "2021-01-15T00:00:00",
                    "2021-01-18T00:00:00",
                    "2021-01-20T00:00:00",
                    "2021-01-21T00:00:00",
                    "2021-01-22T00:00:00",
                    "2021-01-25T00:00:00",
                    "2021-01-26T00:00:00",
                    "2021-01-27T00:00:00",
                    "2021-01-28T00:00:00",
                    "2021-01-29T00:00:00",
                    "2021-02-01T00:00:00",
                    "2021-02-02T00:00:00",
                    "2021-02-03T00:00:00",
                    "2021-02-04T00:00:00",
                    "2021-02-05T00:00:00",
                    "2021-02-08T00:00:00",
                    "2021-02-10T00:00:00",
                    "2021-02-11T00:00:00",
                    "2021-02-15T00:00:00",
                    "2021-02-16T00:00:00",
                    "2021-02-17T00:00:00",
                    "2021-02-18T00:00:00",
                    "2021-02-19T00:00:00",
                    "2021-02-22T00:00:00",
                    "2021-02-23T00:00:00",
                    "2021-02-24T00:00:00",
                    "2021-02-25T00:00:00",
                    "2021-02-26T00:00:00",
                    "2021-03-01T00:00:00",
                    "2021-03-02T00:00:00",
                    "2021-03-03T00:00:00",
                    "2021-03-04T00:00:00",
                    "2021-03-05T00:00:00",
                    "2021-03-08T00:00:00",
                    "2021-03-09T00:00:00",
                    "2021-03-10T00:00:00",
                    "2021-03-11T00:00:00",
                    "2021-03-12T00:00:00",
                    "2021-03-15T00:00:00",
                    "2021-03-16T00:00:00",
                    "2021-03-17T00:00:00",
                    "2021-03-18T00:00:00",
                    "2021-03-19T00:00:00",
                    "2021-03-22T00:00:00",
                    "2021-03-23T00:00:00",
                    "2021-03-24T00:00:00",
                    "2021-03-25T00:00:00",
                    "2021-03-26T00:00:00",
                    "2021-03-29T00:00:00"
                  ],
                  "y": [
                    0,
                    0,
                    -0.08,
                    -0.32,
                    0,
                    0,
                    -0.4,
                    -0.4,
                    -0.08,
                    -0.04,
                    -0.36,
                    -0.2,
                    -0.16,
                    -0.28,
                    -0.4,
                    -0.91,
                    -0.67,
                    -0.55,
                    -0.51,
                    -0.47,
                    -0.51,
                    -0.36,
                    -0.4,
                    -0.24,
                    -0.4,
                    -0.67,
                    -0.59,
                    -0.95,
                    -1.15,
                    -1.42,
                    -1.7,
                    -1.7,
                    -2.33,
                    -2.49,
                    -1.78,
                    -1.74,
                    -2.06,
                    -2.17,
                    -2.61,
                    -2.17,
                    -1.94,
                    -1.82,
                    -1.58,
                    -2.09,
                    -1.9,
                    -1.62,
                    -2.06,
                    -2.17,
                    -2.17,
                    -1.94,
                    -1.82,
                    -1.78,
                    -1.78,
                    -1.66,
                    -1.74
                  ]
                },
                {
                  "line": {
                    "color": "rgb(86, 53, 171)",
                    "width": 1.3
                  },
                  "mode": "lines",
                  "name": "V80A",
                  "type": "scatter",
                  "x": [
                    "2021-01-06T00:00:00",
                    "2021-01-08T00:00:00",
                    "2021-01-11T00:00:00",
                    "2021-01-12T00:00:00",
                    "2021-01-13T00:00:00",
                    "2021-01-14T00:00:00",
                    "2021-01-15T00:00:00",
                    "2021-01-18T00:00:00",
                    "2021-01-20T00:00:00",
                    "2021-01-21T00:00:00",
                    "2021-01-22T00:00:00",
                    "2021-01-25T00:00:00",
                    "2021-01-26T00:00:00",
                    "2021-01-27T00:00:00",
                    "2021-01-28T00:00:00",
                    "2021-01-29T00:00:00",
                    "2021-02-01T00:00:00",
                    "2021-02-02T00:00:00",
                    "2021-02-03T00:00:00",
                    "2021-02-04T00:00:00",
                    "2021-02-05T00:00:00",
                    "2021-02-08T00:00:00",
                    "2021-02-10T00:00:00",
                    "2021-02-11T00:00:00",
                    "2021-02-15T00:00:00",
                    "2021-02-16T00:00:00",
                    "2021-02-17T00:00:00",
                    "2021-02-18T00:00:00",
                    "2021-02-19T00:00:00",
                    "2021-02-22T00:00:00",
                    "2021-02-23T00:00:00",
                    "2021-02-24T00:00:00",
                    "2021-02-25T00:00:00",
                    "2021-02-26T00:00:00",
                    "2021-03-01T00:00:00",
                    "2021-03-02T00:00:00",
                    "2021-03-03T00:00:00",
                    "2021-03-04T00:00:00",
                    "2021-03-05T00:00:00",
                    "2021-03-08T00:00:00",
                    "2021-03-09T00:00:00",
                    "2021-03-10T00:00:00",
                    "2021-03-11T00:00:00",
                    "2021-03-12T00:00:00",
                    "2021-03-15T00:00:00",
                    "2021-03-16T00:00:00",
                    "2021-03-17T00:00:00",
                    "2021-03-18T00:00:00",
                    "2021-03-19T00:00:00",
                    "2021-03-22T00:00:00",
                    "2021-03-23T00:00:00",
                    "2021-03-24T00:00:00",
                    "2021-03-25T00:00:00",
                    "2021-03-26T00:00:00",
                    "2021-03-29T00:00:00"
                  ],
                  "y": [
                    0,
                    0,
                    0,
                    -0.04,
                    0,
                    0,
                    -0.84,
                    -0.54,
                    0,
                    -0.11,
                    -0.84,
                    -0.95,
                    -0.46,
                    -1.67,
                    -1.64,
                    -2.97,
                    -2.36,
                    -0.53,
                    -0.38,
                    0,
                    0,
                    0,
                    -0.41,
                    0,
                    0,
                    -0.22,
                    -0.49,
                    -1.19,
                    -0.82,
                    -1.83,
                    -2.58,
                    -1.9,
                    -2.65,
                    -3.66,
                    -1.72,
                    -2.09,
                    -2.35,
                    -2.84,
                    -3.81,
                    -1.61,
                    -1.34,
                    -1.16,
                    -0.56,
                    -0.86,
                    -0.56,
                    0,
                    -0.48,
                    -0.37,
                    -0.74,
                    -0.63,
                    -0.45,
                    -0.67,
                    -1.01,
                    -0.3,
                    0
                  ]
                },
                {
                  "line": {
                    "color": "rgb(44, 160, 44)",
                    "width": 1.3
                  },
                  "mode": "lines",
                  "name": "Conservador",
                  "type": "scatter",
                  "x": [
                    "2021-01-06T00:00:00",
                    "2021-01-08T00:00:00",
                    "2021-01-11T00:00:00",
                    "2021-01-12T00:00:00",
                    "2021-01-13T00:00:00",
                    "2021-01-14T00:00:00",
                    "2021-01-15T00:00:00",
                    "2021-01-18T00:00:00",
                    "2021-01-20T00:00:00",
                    "2021-01-21T00:00:00",
                    "2021-01-22T00:00:00",
                    "2021-01-25T00:00:00",
                    "2021-01-26T00:00:00",
                    "2021-01-27T00:00:00",
                    "2021-01-28T00:00:00",
                    "2021-01-29T00:00:00",
                    "2021-02-01T00:00:00",
                    "2021-02-02T00:00:00",
                    "2021-02-03T00:00:00",
                    "2021-02-04T00:00:00",
                    "2021-02-05T00:00:00",
                    "2021-02-08T00:00:00",
                    "2021-02-10T00:00:00",
                    "2021-02-11T00:00:00",
                    "2021-02-15T00:00:00",
                    "2021-02-16T00:00:00",
                    "2021-02-17T00:00:00",
                    "2021-02-18T00:00:00",
                    "2021-02-19T00:00:00",
                    "2021-02-22T00:00:00",
                    "2021-02-23T00:00:00",
                    "2021-02-24T00:00:00",
                    "2021-02-25T00:00:00",
                    "2021-02-26T00:00:00",
                    "2021-03-01T00:00:00",
                    "2021-03-02T00:00:00",
                    "2021-03-03T00:00:00",
                    "2021-03-04T00:00:00",
                    "2021-03-05T00:00:00",
                    "2021-03-08T00:00:00",
                    "2021-03-09T00:00:00",
                    "2021-03-10T00:00:00",
                    "2021-03-11T00:00:00",
                    "2021-03-12T00:00:00",
                    "2021-03-15T00:00:00",
                    "2021-03-16T00:00:00",
                    "2021-03-17T00:00:00",
                    "2021-03-18T00:00:00",
                    "2021-03-19T00:00:00",
                    "2021-03-22T00:00:00",
                    "2021-03-23T00:00:00",
                    "2021-03-24T00:00:00",
                    "2021-03-25T00:00:00",
                    "2021-03-26T00:00:00",
                    "2021-03-29T00:00:00"
                  ],
                  "y": [
                    0,
                    0,
                    0,
                    0,
                    0,
                    0,
                    0,
                    -0.2,
                    0,
                    -0.2,
                    -0.4,
                    -0.2,
                    -0.2,
                    -0.4,
                    -0.2,
                    -0.6,
                    -0.4,
                    -0.2,
                    0,
                    0,
                    0,
                    0,
                    0,
                    0,
                    -0.2,
                    -0.6,
                    -0.6,
                    -0.79,
                    -0.79,
                    -0.99,
                    -1.39,
                    -1.39,
                    -1.79,
                    -2.18,
                    -1.39,
                    -1.39,
                    -1.59,
                    -1.79,
                    -2.18,
                    -1.79,
                    -1.59,
                    -1.59,
                    -1.19,
                    -1.59,
                    -1.39,
                    -1.19,
                    -1.59,
                    -1.59,
                    -1.79,
                    -1.59,
                    -1.39,
                    -1.39,
                    -1.19,
                    -1.19,
                    -1.39
                  ]
                },
                {
                  "line": {
                    "color": "rgb(214, 39, 40)",
                    "width": 1.3
                  },
                  "mode": "lines",
                  "name": "Moderado",
                  "type": "scatter",
                  "x": [
                    "2021-01-06T00:00:00",
                    "2021-01-08T00:00:00",
                    "2021-01-11T00:00:00",
                    "2021-01-12T00:00:00",
                    "2021-01-13T00:00:00",
                    "2021-01-14T00:00:00",
                    "2021-01-15T00:00:00",
                    "2021-01-18T00:00:00",
                    "2021-01-20T00:00:00",
                    "2021-01-21T00:00:00",
                    "2021-01-22T00:00:00",
                    "2021-01-25T00:00:00",
                    "2021-01-26T00:00:00",
                    "2021-01-27T00:00:00",
                    "2021-01-28T00:00:00",
                    "2021-01-29T00:00:00",
                    "2021-02-01T00:00:00",
                    "2021-02-02T00:00:00",
                    "2021-02-03T00:00:00",
                    "2021-02-04T00:00:00",
                    "2021-02-05T00:00:00",
                    "2021-02-08T00:00:00",
                    "2021-02-10T00:00:00",
                    "2021-02-11T00:00:00",
                    "2021-02-15T00:00:00",
                    "2021-02-16T00:00:00",
                    "2021-02-17T00:00:00",
                    "2021-02-18T00:00:00",
                    "2021-02-19T00:00:00",
                    "2021-02-22T00:00:00",
                    "2021-02-23T00:00:00",
                    "2021-02-24T00:00:00",
                    "2021-02-25T00:00:00",
                    "2021-02-26T00:00:00",
                    "2021-03-01T00:00:00",
                    "2021-03-02T00:00:00",
                    "2021-03-03T00:00:00",
                    "2021-03-04T00:00:00",
                    "2021-03-05T00:00:00",
                    "2021-03-08T00:00:00",
                    "2021-03-09T00:00:00",
                    "2021-03-10T00:00:00",
                    "2021-03-11T00:00:00",
                    "2021-03-12T00:00:00",
                    "2021-03-15T00:00:00",
                    "2021-03-16T00:00:00",
                    "2021-03-17T00:00:00",
                    "2021-03-18T00:00:00",
                    "2021-03-19T00:00:00",
                    "2021-03-22T00:00:00",
                    "2021-03-23T00:00:00",
                    "2021-03-24T00:00:00",
                    "2021-03-25T00:00:00",
                    "2021-03-26T00:00:00",
                    "2021-03-29T00:00:00"
                  ],
                  "y": [
                    0,
                    0,
                    -0.2,
                    -0.2,
                    0,
                    0,
                    -0.4,
                    -0.4,
                    0,
                    -0.2,
                    -0.4,
                    -0.4,
                    -0.4,
                    -0.99,
                    -0.79,
                    -1.98,
                    -1.39,
                    -0.59,
                    -0.59,
                    -0.2,
                    -0.2,
                    -0.2,
                    -0.2,
                    0,
                    0,
                    -0.39,
                    -0.59,
                    -0.98,
                    -0.98,
                    -1.38,
                    -1.77,
                    -1.57,
                    -2.17,
                    -2.76,
                    -1.57,
                    -1.77,
                    -1.77,
                    -2.17,
                    -2.56,
                    -1.77,
                    -1.38,
                    -1.18,
                    -0.79,
                    -1.38,
                    -1.18,
                    -0.79,
                    -1.18,
                    -1.18,
                    -1.18,
                    -1.18,
                    -1.18,
                    -1.18,
                    -1.18,
                    -0.79,
                    -0.79
                  ]
                },
                {
                  "line": {
                    "color": "#ffd166",
                    "width": 1.3
                  },
                  "mode": "lines",
                  "name": "Dinâmico",
                  "type": "scatter",
                  "x": [
                    "2021-01-06T00:00:00",
                    "2021-01-08T00:00:00",
                    "2021-01-11T00:00:00",
                    "2021-01-12T00:00:00",
                    "2021-01-13T00:00:00",
                    "2021-01-14T00:00:00",
                    "2021-01-15T00:00:00",
                    "2021-01-18T00:00:00",
                    "2021-01-20T00:00:00",
                    "2021-01-21T00:00:00",
                    "2021-01-22T00:00:00",
                    "2021-01-25T00:00:00",
                    "2021-01-26T00:00:00",
                    "2021-01-27T00:00:00",
                    "2021-01-28T00:00:00",
                    "2021-01-29T00:00:00",
                    "2021-02-01T00:00:00",
                    "2021-02-02T00:00:00",
                    "2021-02-03T00:00:00",
                    "2021-02-04T00:00:00",
                    "2021-02-05T00:00:00",
                    "2021-02-08T00:00:00",
                    "2021-02-10T00:00:00",
                    "2021-02-11T00:00:00",
                    "2021-02-15T00:00:00",
                    "2021-02-16T00:00:00",
                    "2021-02-17T00:00:00",
                    "2021-02-18T00:00:00",
                    "2021-02-19T00:00:00",
                    "2021-02-22T00:00:00",
                    "2021-02-23T00:00:00",
                    "2021-02-24T00:00:00",
                    "2021-02-25T00:00:00",
                    "2021-02-26T00:00:00",
                    "2021-03-01T00:00:00",
                    "2021-03-02T00:00:00",
                    "2021-03-03T00:00:00",
                    "2021-03-04T00:00:00",
                    "2021-03-05T00:00:00",
                    "2021-03-08T00:00:00",
                    "2021-03-09T00:00:00",
                    "2021-03-10T00:00:00",
                    "2021-03-11T00:00:00",
                    "2021-03-12T00:00:00",
                    "2021-03-15T00:00:00",
                    "2021-03-16T00:00:00",
                    "2021-03-17T00:00:00",
                    "2021-03-18T00:00:00",
                    "2021-03-19T00:00:00",
                    "2021-03-22T00:00:00",
                    "2021-03-23T00:00:00",
                    "2021-03-24T00:00:00",
                    "2021-03-25T00:00:00",
                    "2021-03-26T00:00:00",
                    "2021-03-29T00:00:00"
                  ],
                  "y": [
                    0,
                    0,
                    -0.2,
                    -0.2,
                    0,
                    0,
                    -0.59,
                    -0.59,
                    0,
                    0,
                    -0.39,
                    -0.39,
                    -0.2,
                    -0.98,
                    -0.79,
                    -2.56,
                    -1.57,
                    -0.2,
                    0,
                    0,
                    0,
                    0,
                    -0.2,
                    0,
                    0,
                    -0.39,
                    -0.39,
                    -1.16,
                    -0.77,
                    -1.74,
                    -1.93,
                    -1.74,
                    -2.51,
                    -3.09,
                    -1.55,
                    -1.74,
                    -1.93,
                    -2.32,
                    -2.71,
                    -1.35,
                    -0.97,
                    -0.77,
                    -0.39,
                    -0.58,
                    -0.39,
                    0,
                    -0.39,
                    -0.19,
                    -0.58,
                    -0.39,
                    -0.39,
                    -0.58,
                    -0.58,
                    0,
                    0
                  ]
                }
              ],
              "layout": {
                "annotations": [
                  {
                    "font": {
                      "color": "rgb(150,150,150)",
                      "family": "Arial",
                      "size": 12
                    },
                    "showarrow": false,
                    "text": "",
                    "x": 0.5,
                    "xanchor": "center",
                    "xref": "paper",
                    "y": "-0.125",
                    "yanchor": "top",
                    "yref": "paper"
                  }
                ],
                "height": 500,
                "hovermode": "x",
                "paper_bgcolor": "#F5F6F9",
                "plot_bgcolor": "#F5F6F9",
                "showlegend": true,
                "template": {
                  "data": {
                    "bar": [
                      {
                        "error_x": {
                          "color": "#2a3f5f"
                        },
                        "error_y": {
                          "color": "#2a3f5f"
                        },
                        "marker": {
                          "line": {
                            "color": "#E5ECF6",
                            "width": 0.5
                          }
                        },
                        "type": "bar"
                      }
                    ],
                    "barpolar": [
                      {
                        "marker": {
                          "line": {
                            "color": "#E5ECF6",
                            "width": 0.5
                          }
                        },
                        "type": "barpolar"
                      }
                    ],
                    "carpet": [
                      {
                        "aaxis": {
                          "endlinecolor": "#2a3f5f",
                          "gridcolor": "white",
                          "linecolor": "white",
                          "minorgridcolor": "white",
                          "startlinecolor": "#2a3f5f"
                        },
                        "baxis": {
                          "endlinecolor": "#2a3f5f",
                          "gridcolor": "white",
                          "linecolor": "white",
                          "minorgridcolor": "white",
                          "startlinecolor": "#2a3f5f"
                        },
                        "type": "carpet"
                      }
                    ],
                    "choropleth": [
                      {
                        "colorbar": {
                          "outlinewidth": 0,
                          "ticks": ""
                        },
                        "type": "choropleth"
                      }
                    ],
                    "contour": [
                      {
                        "colorbar": {
                          "outlinewidth": 0,
                          "ticks": ""
                        },
                        "colorscale": [
                          [
                            0,
                            "#0d0887"
                          ],
                          [
                            0.1111111111111111,
                            "#46039f"
                          ],
                          [
                            0.2222222222222222,
                            "#7201a8"
                          ],
                          [
                            0.3333333333333333,
                            "#9c179e"
                          ],
                          [
                            0.4444444444444444,
                            "#bd3786"
                          ],
                          [
                            0.5555555555555556,
                            "#d8576b"
                          ],
                          [
                            0.6666666666666666,
                            "#ed7953"
                          ],
                          [
                            0.7777777777777778,
                            "#fb9f3a"
                          ],
                          [
                            0.8888888888888888,
                            "#fdca26"
                          ],
                          [
                            1,
                            "#f0f921"
                          ]
                        ],
                        "type": "contour"
                      }
                    ],
                    "contourcarpet": [
                      {
                        "colorbar": {
                          "outlinewidth": 0,
                          "ticks": ""
                        },
                        "type": "contourcarpet"
                      }
                    ],
                    "heatmap": [
                      {
                        "colorbar": {
                          "outlinewidth": 0,
                          "ticks": ""
                        },
                        "colorscale": [
                          [
                            0,
                            "#0d0887"
                          ],
                          [
                            0.1111111111111111,
                            "#46039f"
                          ],
                          [
                            0.2222222222222222,
                            "#7201a8"
                          ],
                          [
                            0.3333333333333333,
                            "#9c179e"
                          ],
                          [
                            0.4444444444444444,
                            "#bd3786"
                          ],
                          [
                            0.5555555555555556,
                            "#d8576b"
                          ],
                          [
                            0.6666666666666666,
                            "#ed7953"
                          ],
                          [
                            0.7777777777777778,
                            "#fb9f3a"
                          ],
                          [
                            0.8888888888888888,
                            "#fdca26"
                          ],
                          [
                            1,
                            "#f0f921"
                          ]
                        ],
                        "type": "heatmap"
                      }
                    ],
                    "heatmapgl": [
                      {
                        "colorbar": {
                          "outlinewidth": 0,
                          "ticks": ""
                        },
                        "colorscale": [
                          [
                            0,
                            "#0d0887"
                          ],
                          [
                            0.1111111111111111,
                            "#46039f"
                          ],
                          [
                            0.2222222222222222,
                            "#7201a8"
                          ],
                          [
                            0.3333333333333333,
                            "#9c179e"
                          ],
                          [
                            0.4444444444444444,
                            "#bd3786"
                          ],
                          [
                            0.5555555555555556,
                            "#d8576b"
                          ],
                          [
                            0.6666666666666666,
                            "#ed7953"
                          ],
                          [
                            0.7777777777777778,
                            "#fb9f3a"
                          ],
                          [
                            0.8888888888888888,
                            "#fdca26"
                          ],
                          [
                            1,
                            "#f0f921"
                          ]
                        ],
                        "type": "heatmapgl"
                      }
                    ],
                    "histogram": [
                      {
                        "marker": {
                          "colorbar": {
                            "outlinewidth": 0,
                            "ticks": ""
                          }
                        },
                        "type": "histogram"
                      }
                    ],
                    "histogram2d": [
                      {
                        "colorbar": {
                          "outlinewidth": 0,
                          "ticks": ""
                        },
                        "colorscale": [
                          [
                            0,
                            "#0d0887"
                          ],
                          [
                            0.1111111111111111,
                            "#46039f"
                          ],
                          [
                            0.2222222222222222,
                            "#7201a8"
                          ],
                          [
                            0.3333333333333333,
                            "#9c179e"
                          ],
                          [
                            0.4444444444444444,
                            "#bd3786"
                          ],
                          [
                            0.5555555555555556,
                            "#d8576b"
                          ],
                          [
                            0.6666666666666666,
                            "#ed7953"
                          ],
                          [
                            0.7777777777777778,
                            "#fb9f3a"
                          ],
                          [
                            0.8888888888888888,
                            "#fdca26"
                          ],
                          [
                            1,
                            "#f0f921"
                          ]
                        ],
                        "type": "histogram2d"
                      }
                    ],
                    "histogram2dcontour": [
                      {
                        "colorbar": {
                          "outlinewidth": 0,
                          "ticks": ""
                        },
                        "colorscale": [
                          [
                            0,
                            "#0d0887"
                          ],
                          [
                            0.1111111111111111,
                            "#46039f"
                          ],
                          [
                            0.2222222222222222,
                            "#7201a8"
                          ],
                          [
                            0.3333333333333333,
                            "#9c179e"
                          ],
                          [
                            0.4444444444444444,
                            "#bd3786"
                          ],
                          [
                            0.5555555555555556,
                            "#d8576b"
                          ],
                          [
                            0.6666666666666666,
                            "#ed7953"
                          ],
                          [
                            0.7777777777777778,
                            "#fb9f3a"
                          ],
                          [
                            0.8888888888888888,
                            "#fdca26"
                          ],
                          [
                            1,
                            "#f0f921"
                          ]
                        ],
                        "type": "histogram2dcontour"
                      }
                    ],
                    "mesh3d": [
                      {
                        "colorbar": {
                          "outlinewidth": 0,
                          "ticks": ""
                        },
                        "type": "mesh3d"
                      }
                    ],
                    "parcoords": [
                      {
                        "line": {
                          "colorbar": {
                            "outlinewidth": 0,
                            "ticks": ""
                          }
                        },
                        "type": "parcoords"
                      }
                    ],
                    "pie": [
                      {
                        "automargin": true,
                        "type": "pie"
                      }
                    ],
                    "scatter": [
                      {
                        "marker": {
                          "colorbar": {
                            "outlinewidth": 0,
                            "ticks": ""
                          }
                        },
                        "type": "scatter"
                      }
                    ],
                    "scatter3d": [
                      {
                        "line": {
                          "colorbar": {
                            "outlinewidth": 0,
                            "ticks": ""
                          }
                        },
                        "marker": {
                          "colorbar": {
                            "outlinewidth": 0,
                            "ticks": ""
                          }
                        },
                        "type": "scatter3d"
                      }
                    ],
                    "scattercarpet": [
                      {
                        "marker": {
                          "colorbar": {
                            "outlinewidth": 0,
                            "ticks": ""
                          }
                        },
                        "type": "scattercarpet"
                      }
                    ],
                    "scattergeo": [
                      {
                        "marker": {
                          "colorbar": {
                            "outlinewidth": 0,
                            "ticks": ""
                          }
                        },
                        "type": "scattergeo"
                      }
                    ],
                    "scattergl": [
                      {
                        "marker": {
                          "colorbar": {
                            "outlinewidth": 0,
                            "ticks": ""
                          }
                        },
                        "type": "scattergl"
                      }
                    ],
                    "scattermapbox": [
                      {
                        "marker": {
                          "colorbar": {
                            "outlinewidth": 0,
                            "ticks": ""
                          }
                        },
                        "type": "scattermapbox"
                      }
                    ],
                    "scatterpolar": [
                      {
                        "marker": {
                          "colorbar": {
                            "outlinewidth": 0,
                            "ticks": ""
                          }
                        },
                        "type": "scatterpolar"
                      }
                    ],
                    "scatterpolargl": [
                      {
                        "marker": {
                          "colorbar": {
                            "outlinewidth": 0,
                            "ticks": ""
                          }
                        },
                        "type": "scatterpolargl"
                      }
                    ],
                    "scatterternary": [
                      {
                        "marker": {
                          "colorbar": {
                            "outlinewidth": 0,
                            "ticks": ""
                          }
                        },
                        "type": "scatterternary"
                      }
                    ],
                    "surface": [
                      {
                        "colorbar": {
                          "outlinewidth": 0,
                          "ticks": ""
                        },
                        "colorscale": [
                          [
                            0,
                            "#0d0887"
                          ],
                          [
                            0.1111111111111111,
                            "#46039f"
                          ],
                          [
                            0.2222222222222222,
                            "#7201a8"
                          ],
                          [
                            0.3333333333333333,
                            "#9c179e"
                          ],
                          [
                            0.4444444444444444,
                            "#bd3786"
                          ],
                          [
                            0.5555555555555556,
                            "#d8576b"
                          ],
                          [
                            0.6666666666666666,
                            "#ed7953"
                          ],
                          [
                            0.7777777777777778,
                            "#fb9f3a"
                          ],
                          [
                            0.8888888888888888,
                            "#fdca26"
                          ],
                          [
                            1,
                            "#f0f921"
                          ]
                        ],
                        "type": "surface"
                      }
                    ],
                    "table": [
                      {
                        "cells": {
                          "fill": {
                            "color": "#EBF0F8"
                          },
                          "line": {
                            "color": "white"
                          }
                        },
                        "header": {
                          "fill": {
                            "color": "#C8D4E3"
                          },
                          "line": {
                            "color": "white"
                          }
                        },
                        "type": "table"
                      }
                    ]
                  },
                  "layout": {
                    "annotationdefaults": {
                      "arrowcolor": "#2a3f5f",
                      "arrowhead": 0,
                      "arrowwidth": 1
                    },
                    "autotypenumbers": "strict",
                    "coloraxis": {
                      "colorbar": {
                        "outlinewidth": 0,
                        "ticks": ""
                      }
                    },
                    "colorscale": {
                      "diverging": [
                        [
                          0,
                          "#8e0152"
                        ],
                        [
                          0.1,
                          "#c51b7d"
                        ],
                        [
                          0.2,
                          "#de77ae"
                        ],
                        [
                          0.3,
                          "#f1b6da"
                        ],
                        [
                          0.4,
                          "#fde0ef"
                        ],
                        [
                          0.5,
                          "#f7f7f7"
                        ],
                        [
                          0.6,
                          "#e6f5d0"
                        ],
                        [
                          0.7,
                          "#b8e186"
                        ],
                        [
                          0.8,
                          "#7fbc41"
                        ],
                        [
                          0.9,
                          "#4d9221"
                        ],
                        [
                          1,
                          "#276419"
                        ]
                      ],
                      "sequential": [
                        [
                          0,
                          "#0d0887"
                        ],
                        [
                          0.1111111111111111,
                          "#46039f"
                        ],
                        [
                          0.2222222222222222,
                          "#7201a8"
                        ],
                        [
                          0.3333333333333333,
                          "#9c179e"
                        ],
                        [
                          0.4444444444444444,
                          "#bd3786"
                        ],
                        [
                          0.5555555555555556,
                          "#d8576b"
                        ],
                        [
                          0.6666666666666666,
                          "#ed7953"
                        ],
                        [
                          0.7777777777777778,
                          "#fb9f3a"
                        ],
                        [
                          0.8888888888888888,
                          "#fdca26"
                        ],
                        [
                          1,
                          "#f0f921"
                        ]
                      ],
                      "sequentialminus": [
                        [
                          0,
                          "#0d0887"
                        ],
                        [
                          0.1111111111111111,
                          "#46039f"
                        ],
                        [
                          0.2222222222222222,
                          "#7201a8"
                        ],
                        [
                          0.3333333333333333,
                          "#9c179e"
                        ],
                        [
                          0.4444444444444444,
                          "#bd3786"
                        ],
                        [
                          0.5555555555555556,
                          "#d8576b"
                        ],
                        [
                          0.6666666666666666,
                          "#ed7953"
                        ],
                        [
                          0.7777777777777778,
                          "#fb9f3a"
                        ],
                        [
                          0.8888888888888888,
                          "#fdca26"
                        ],
                        [
                          1,
                          "#f0f921"
                        ]
                      ]
                    },
                    "colorway": [
                      "#636efa",
                      "#EF553B",
                      "#00cc96",
                      "#ab63fa",
                      "#FFA15A",
                      "#19d3f3",
                      "#FF6692",
                      "#B6E880",
                      "#FF97FF",
                      "#FECB52"
                    ],
                    "font": {
                      "color": "#2a3f5f"
                    },
                    "geo": {
                      "bgcolor": "white",
                      "lakecolor": "white",
                      "landcolor": "#E5ECF6",
                      "showlakes": true,
                      "showland": true,
                      "subunitcolor": "white"
                    },
                    "hoverlabel": {
                      "align": "left"
                    },
                    "hovermode": "closest",
                    "mapbox": {
                      "style": "light"
                    },
                    "paper_bgcolor": "white",
                    "plot_bgcolor": "#E5ECF6",
                    "polar": {
                      "angularaxis": {
                        "gridcolor": "white",
                        "linecolor": "white",
                        "ticks": ""
                      },
                      "bgcolor": "#E5ECF6",
                      "radialaxis": {
                        "gridcolor": "white",
                        "linecolor": "white",
                        "ticks": ""
                      }
                    },
                    "scene": {
                      "xaxis": {
                        "backgroundcolor": "#E5ECF6",
                        "gridcolor": "white",
                        "gridwidth": 2,
                        "linecolor": "white",
                        "showbackground": true,
                        "ticks": "",
                        "zerolinecolor": "white"
                      },
                      "yaxis": {
                        "backgroundcolor": "#E5ECF6",
                        "gridcolor": "white",
                        "gridwidth": 2,
                        "linecolor": "white",
                        "showbackground": true,
                        "ticks": "",
                        "zerolinecolor": "white"
                      },
                      "zaxis": {
                        "backgroundcolor": "#E5ECF6",
                        "gridcolor": "white",
                        "gridwidth": 2,
                        "linecolor": "white",
                        "showbackground": true,
                        "ticks": "",
                        "zerolinecolor": "white"
                      }
                    },
                    "shapedefaults": {
                      "line": {
                        "color": "#2a3f5f"
                      }
                    },
                    "ternary": {
                      "aaxis": {
                        "gridcolor": "white",
                        "linecolor": "white",
                        "ticks": ""
                      },
                      "baxis": {
                        "gridcolor": "white",
                        "linecolor": "white",
                        "ticks": ""
                      },
                      "bgcolor": "#E5ECF6",
                      "caxis": {
                        "gridcolor": "white",
                        "linecolor": "white",
                        "ticks": ""
                      }
                    },
                    "title": {
                      "x": 0.05
                    },
                    "xaxis": {
                      "automargin": true,
                      "gridcolor": "white",
                      "linecolor": "white",
                      "ticks": "",
                      "title": {
                        "standoff": 15
                      },
                      "zerolinecolor": "white",
                      "zerolinewidth": 2
                    },
                    "yaxis": {
                      "automargin": true,
                      "gridcolor": "white",
                      "linecolor": "white",
                      "ticks": "",
                      "title": {
                        "standoff": 15
                      },
                      "zerolinecolor": "white",
                      "zerolinewidth": 2
                    }
                  }
                },
                "title": {
                  "text": "Drawdowns",
                  "x": 0.5
                },
                "width": 950,
                "xaxis": {
                  "gridcolor": "#E1E5ED",
                  "showgrid": true,
                  "tickfont": {
                    "color": "#4D5663"
                  },
                  "tickformat": "",
                  "tickprefix": "",
                  "ticksuffix": "",
                  "title": {
                    "font": {
                      "color": "#4D5663"
                    },
                    "text": ""
                  },
                  "zerolinecolor": "#E1E5ED"
                },
                "yaxis": {
                  "gridcolor": "#E1E5ED",
                  "showgrid": true,
                  "tickfont": {
                    "color": "#4D5663"
                  },
                  "tickformat": "",
                  "tickprefix": "",
                  "ticksuffix": "%",
                  "title": {
                    "text": ""
                  },
                  "zerolinecolor": "#E1E5ED"
                }
              }
            },
            "text/html": "<div>                            <div id=\"f6c02555-c974-4920-86f3-fce9a5dd7b1b\" class=\"plotly-graph-div\" style=\"height:500px; width:950px;\"></div>            <script type=\"text/javascript\">                require([\"plotly\"], function(Plotly) {                    window.PLOTLYENV=window.PLOTLYENV || {};                                    if (document.getElementById(\"f6c02555-c974-4920-86f3-fce9a5dd7b1b\")) {                    Plotly.newPlot(                        \"f6c02555-c974-4920-86f3-fce9a5dd7b1b\",                        [{\"line\": {\"color\": \"royalblue\", \"width\": 1.3}, \"mode\": \"lines\", \"name\": \"V60A\", \"type\": \"scatter\", \"x\": [\"2021-01-06T00:00:00\", \"2021-01-08T00:00:00\", \"2021-01-11T00:00:00\", \"2021-01-12T00:00:00\", \"2021-01-13T00:00:00\", \"2021-01-14T00:00:00\", \"2021-01-15T00:00:00\", \"2021-01-18T00:00:00\", \"2021-01-20T00:00:00\", \"2021-01-21T00:00:00\", \"2021-01-22T00:00:00\", \"2021-01-25T00:00:00\", \"2021-01-26T00:00:00\", \"2021-01-27T00:00:00\", \"2021-01-28T00:00:00\", \"2021-01-29T00:00:00\", \"2021-02-01T00:00:00\", \"2021-02-02T00:00:00\", \"2021-02-03T00:00:00\", \"2021-02-04T00:00:00\", \"2021-02-05T00:00:00\", \"2021-02-08T00:00:00\", \"2021-02-10T00:00:00\", \"2021-02-11T00:00:00\", \"2021-02-15T00:00:00\", \"2021-02-16T00:00:00\", \"2021-02-17T00:00:00\", \"2021-02-18T00:00:00\", \"2021-02-19T00:00:00\", \"2021-02-22T00:00:00\", \"2021-02-23T00:00:00\", \"2021-02-24T00:00:00\", \"2021-02-25T00:00:00\", \"2021-02-26T00:00:00\", \"2021-03-01T00:00:00\", \"2021-03-02T00:00:00\", \"2021-03-03T00:00:00\", \"2021-03-04T00:00:00\", \"2021-03-05T00:00:00\", \"2021-03-08T00:00:00\", \"2021-03-09T00:00:00\", \"2021-03-10T00:00:00\", \"2021-03-11T00:00:00\", \"2021-03-12T00:00:00\", \"2021-03-15T00:00:00\", \"2021-03-16T00:00:00\", \"2021-03-17T00:00:00\", \"2021-03-18T00:00:00\", \"2021-03-19T00:00:00\", \"2021-03-22T00:00:00\", \"2021-03-23T00:00:00\", \"2021-03-24T00:00:00\", \"2021-03-25T00:00:00\", \"2021-03-26T00:00:00\", \"2021-03-29T00:00:00\"], \"y\": [0.0, 0.0, 0.0, -0.16, 0.0, 0.0, -0.5, -0.27, 0.0, -0.08, -0.58, -0.54, -0.39, -1.16, -1.23, -2.39, -1.66, -0.62, -0.5, -0.04, 0.0, 0.0, -0.23, 0.0, 0.0, -0.34, -0.42, -0.91, -0.72, -1.49, -1.94, -1.6, -2.4, -2.82, -1.56, -1.79, -2.02, -2.4, -3.12, -1.64, -1.37, -1.22, -0.69, -1.11, -0.8, -0.3, -0.8, -0.65, -0.91, -0.76, -0.61, -0.72, -0.95, -0.42, -0.23]}, {\"line\": {\"color\": \"darkorange\", \"width\": 1.3}, \"mode\": \"lines\", \"name\": \"V40A\", \"type\": \"scatter\", \"x\": [\"2021-01-06T00:00:00\", \"2021-01-08T00:00:00\", \"2021-01-11T00:00:00\", \"2021-01-12T00:00:00\", \"2021-01-13T00:00:00\", \"2021-01-14T00:00:00\", \"2021-01-15T00:00:00\", \"2021-01-18T00:00:00\", \"2021-01-20T00:00:00\", \"2021-01-21T00:00:00\", \"2021-01-22T00:00:00\", \"2021-01-25T00:00:00\", \"2021-01-26T00:00:00\", \"2021-01-27T00:00:00\", \"2021-01-28T00:00:00\", \"2021-01-29T00:00:00\", \"2021-02-01T00:00:00\", \"2021-02-02T00:00:00\", \"2021-02-03T00:00:00\", \"2021-02-04T00:00:00\", \"2021-02-05T00:00:00\", \"2021-02-08T00:00:00\", \"2021-02-10T00:00:00\", \"2021-02-11T00:00:00\", \"2021-02-15T00:00:00\", \"2021-02-16T00:00:00\", \"2021-02-17T00:00:00\", \"2021-02-18T00:00:00\", \"2021-02-19T00:00:00\", \"2021-02-22T00:00:00\", \"2021-02-23T00:00:00\", \"2021-02-24T00:00:00\", \"2021-02-25T00:00:00\", \"2021-02-26T00:00:00\", \"2021-03-01T00:00:00\", \"2021-03-02T00:00:00\", \"2021-03-03T00:00:00\", \"2021-03-04T00:00:00\", \"2021-03-05T00:00:00\", \"2021-03-08T00:00:00\", \"2021-03-09T00:00:00\", \"2021-03-10T00:00:00\", \"2021-03-11T00:00:00\", \"2021-03-12T00:00:00\", \"2021-03-15T00:00:00\", \"2021-03-16T00:00:00\", \"2021-03-17T00:00:00\", \"2021-03-18T00:00:00\", \"2021-03-19T00:00:00\", \"2021-03-22T00:00:00\", \"2021-03-23T00:00:00\", \"2021-03-24T00:00:00\", \"2021-03-25T00:00:00\", \"2021-03-26T00:00:00\", \"2021-03-29T00:00:00\"], \"y\": [0.0, 0.0, 0.0, -0.04, 0.0, 0.0, -0.43, -0.35, 0.0, -0.16, -0.55, -0.43, -0.39, -0.7, -1.02, -1.6, -1.37, -0.59, -0.47, -0.23, 0.0, 0.0, -0.08, 0.0, 0.0, -0.31, -0.35, -0.78, -0.66, -1.21, -1.75, -1.44, -2.14, -2.53, -1.44, -1.56, -1.83, -2.1, -2.68, -1.71, -1.44, -1.21, -0.89, -1.44, -1.17, -0.7, -1.17, -1.21, -1.32, -1.21, -1.05, -0.89, -1.13, -0.97, -0.78]}, {\"line\": {\"color\": \"dimgrey\", \"width\": 1.3}, \"mode\": \"lines\", \"name\": \"V20A\", \"type\": \"scatter\", \"x\": [\"2021-01-06T00:00:00\", \"2021-01-08T00:00:00\", \"2021-01-11T00:00:00\", \"2021-01-12T00:00:00\", \"2021-01-13T00:00:00\", \"2021-01-14T00:00:00\", \"2021-01-15T00:00:00\", \"2021-01-18T00:00:00\", \"2021-01-20T00:00:00\", \"2021-01-21T00:00:00\", \"2021-01-22T00:00:00\", \"2021-01-25T00:00:00\", \"2021-01-26T00:00:00\", \"2021-01-27T00:00:00\", \"2021-01-28T00:00:00\", \"2021-01-29T00:00:00\", \"2021-02-01T00:00:00\", \"2021-02-02T00:00:00\", \"2021-02-03T00:00:00\", \"2021-02-04T00:00:00\", \"2021-02-05T00:00:00\", \"2021-02-08T00:00:00\", \"2021-02-10T00:00:00\", \"2021-02-11T00:00:00\", \"2021-02-15T00:00:00\", \"2021-02-16T00:00:00\", \"2021-02-17T00:00:00\", \"2021-02-18T00:00:00\", \"2021-02-19T00:00:00\", \"2021-02-22T00:00:00\", \"2021-02-23T00:00:00\", \"2021-02-24T00:00:00\", \"2021-02-25T00:00:00\", \"2021-02-26T00:00:00\", \"2021-03-01T00:00:00\", \"2021-03-02T00:00:00\", \"2021-03-03T00:00:00\", \"2021-03-04T00:00:00\", \"2021-03-05T00:00:00\", \"2021-03-08T00:00:00\", \"2021-03-09T00:00:00\", \"2021-03-10T00:00:00\", \"2021-03-11T00:00:00\", \"2021-03-12T00:00:00\", \"2021-03-15T00:00:00\", \"2021-03-16T00:00:00\", \"2021-03-17T00:00:00\", \"2021-03-18T00:00:00\", \"2021-03-19T00:00:00\", \"2021-03-22T00:00:00\", \"2021-03-23T00:00:00\", \"2021-03-24T00:00:00\", \"2021-03-25T00:00:00\", \"2021-03-26T00:00:00\", \"2021-03-29T00:00:00\"], \"y\": [0.0, 0.0, -0.08, -0.32, 0.0, 0.0, -0.4, -0.4, -0.08, -0.04, -0.36, -0.2, -0.16, -0.28, -0.4, -0.91, -0.67, -0.55, -0.51, -0.47, -0.51, -0.36, -0.4, -0.24, -0.4, -0.67, -0.59, -0.95, -1.15, -1.42, -1.7, -1.7, -2.33, -2.49, -1.78, -1.74, -2.06, -2.17, -2.61, -2.17, -1.94, -1.82, -1.58, -2.09, -1.9, -1.62, -2.06, -2.17, -2.17, -1.94, -1.82, -1.78, -1.78, -1.66, -1.74]}, {\"line\": {\"color\": \"rgb(86, 53, 171)\", \"width\": 1.3}, \"mode\": \"lines\", \"name\": \"V80A\", \"type\": \"scatter\", \"x\": [\"2021-01-06T00:00:00\", \"2021-01-08T00:00:00\", \"2021-01-11T00:00:00\", \"2021-01-12T00:00:00\", \"2021-01-13T00:00:00\", \"2021-01-14T00:00:00\", \"2021-01-15T00:00:00\", \"2021-01-18T00:00:00\", \"2021-01-20T00:00:00\", \"2021-01-21T00:00:00\", \"2021-01-22T00:00:00\", \"2021-01-25T00:00:00\", \"2021-01-26T00:00:00\", \"2021-01-27T00:00:00\", \"2021-01-28T00:00:00\", \"2021-01-29T00:00:00\", \"2021-02-01T00:00:00\", \"2021-02-02T00:00:00\", \"2021-02-03T00:00:00\", \"2021-02-04T00:00:00\", \"2021-02-05T00:00:00\", \"2021-02-08T00:00:00\", \"2021-02-10T00:00:00\", \"2021-02-11T00:00:00\", \"2021-02-15T00:00:00\", \"2021-02-16T00:00:00\", \"2021-02-17T00:00:00\", \"2021-02-18T00:00:00\", \"2021-02-19T00:00:00\", \"2021-02-22T00:00:00\", \"2021-02-23T00:00:00\", \"2021-02-24T00:00:00\", \"2021-02-25T00:00:00\", \"2021-02-26T00:00:00\", \"2021-03-01T00:00:00\", \"2021-03-02T00:00:00\", \"2021-03-03T00:00:00\", \"2021-03-04T00:00:00\", \"2021-03-05T00:00:00\", \"2021-03-08T00:00:00\", \"2021-03-09T00:00:00\", \"2021-03-10T00:00:00\", \"2021-03-11T00:00:00\", \"2021-03-12T00:00:00\", \"2021-03-15T00:00:00\", \"2021-03-16T00:00:00\", \"2021-03-17T00:00:00\", \"2021-03-18T00:00:00\", \"2021-03-19T00:00:00\", \"2021-03-22T00:00:00\", \"2021-03-23T00:00:00\", \"2021-03-24T00:00:00\", \"2021-03-25T00:00:00\", \"2021-03-26T00:00:00\", \"2021-03-29T00:00:00\"], \"y\": [0.0, 0.0, 0.0, -0.04, 0.0, 0.0, -0.84, -0.54, 0.0, -0.11, -0.84, -0.95, -0.46, -1.67, -1.64, -2.97, -2.36, -0.53, -0.38, 0.0, 0.0, 0.0, -0.41, 0.0, 0.0, -0.22, -0.49, -1.19, -0.82, -1.83, -2.58, -1.9, -2.65, -3.66, -1.72, -2.09, -2.35, -2.84, -3.81, -1.61, -1.34, -1.16, -0.56, -0.86, -0.56, 0.0, -0.48, -0.37, -0.74, -0.63, -0.45, -0.67, -1.01, -0.3, 0.0]}, {\"line\": {\"color\": \"rgb(44, 160, 44)\", \"width\": 1.3}, \"mode\": \"lines\", \"name\": \"Conservador\", \"type\": \"scatter\", \"x\": [\"2021-01-06T00:00:00\", \"2021-01-08T00:00:00\", \"2021-01-11T00:00:00\", \"2021-01-12T00:00:00\", \"2021-01-13T00:00:00\", \"2021-01-14T00:00:00\", \"2021-01-15T00:00:00\", \"2021-01-18T00:00:00\", \"2021-01-20T00:00:00\", \"2021-01-21T00:00:00\", \"2021-01-22T00:00:00\", \"2021-01-25T00:00:00\", \"2021-01-26T00:00:00\", \"2021-01-27T00:00:00\", \"2021-01-28T00:00:00\", \"2021-01-29T00:00:00\", \"2021-02-01T00:00:00\", \"2021-02-02T00:00:00\", \"2021-02-03T00:00:00\", \"2021-02-04T00:00:00\", \"2021-02-05T00:00:00\", \"2021-02-08T00:00:00\", \"2021-02-10T00:00:00\", \"2021-02-11T00:00:00\", \"2021-02-15T00:00:00\", \"2021-02-16T00:00:00\", \"2021-02-17T00:00:00\", \"2021-02-18T00:00:00\", \"2021-02-19T00:00:00\", \"2021-02-22T00:00:00\", \"2021-02-23T00:00:00\", \"2021-02-24T00:00:00\", \"2021-02-25T00:00:00\", \"2021-02-26T00:00:00\", \"2021-03-01T00:00:00\", \"2021-03-02T00:00:00\", \"2021-03-03T00:00:00\", \"2021-03-04T00:00:00\", \"2021-03-05T00:00:00\", \"2021-03-08T00:00:00\", \"2021-03-09T00:00:00\", \"2021-03-10T00:00:00\", \"2021-03-11T00:00:00\", \"2021-03-12T00:00:00\", \"2021-03-15T00:00:00\", \"2021-03-16T00:00:00\", \"2021-03-17T00:00:00\", \"2021-03-18T00:00:00\", \"2021-03-19T00:00:00\", \"2021-03-22T00:00:00\", \"2021-03-23T00:00:00\", \"2021-03-24T00:00:00\", \"2021-03-25T00:00:00\", \"2021-03-26T00:00:00\", \"2021-03-29T00:00:00\"], \"y\": [0.0, 0.0, 0.0, 0.0, 0.0, 0.0, 0.0, -0.2, 0.0, -0.2, -0.4, -0.2, -0.2, -0.4, -0.2, -0.6, -0.4, -0.2, 0.0, 0.0, 0.0, 0.0, 0.0, 0.0, -0.2, -0.6, -0.6, -0.79, -0.79, -0.99, -1.39, -1.39, -1.79, -2.18, -1.39, -1.39, -1.59, -1.79, -2.18, -1.79, -1.59, -1.59, -1.19, -1.59, -1.39, -1.19, -1.59, -1.59, -1.79, -1.59, -1.39, -1.39, -1.19, -1.19, -1.39]}, {\"line\": {\"color\": \"rgb(214, 39, 40)\", \"width\": 1.3}, \"mode\": \"lines\", \"name\": \"Moderado\", \"type\": \"scatter\", \"x\": [\"2021-01-06T00:00:00\", \"2021-01-08T00:00:00\", \"2021-01-11T00:00:00\", \"2021-01-12T00:00:00\", \"2021-01-13T00:00:00\", \"2021-01-14T00:00:00\", \"2021-01-15T00:00:00\", \"2021-01-18T00:00:00\", \"2021-01-20T00:00:00\", \"2021-01-21T00:00:00\", \"2021-01-22T00:00:00\", \"2021-01-25T00:00:00\", \"2021-01-26T00:00:00\", \"2021-01-27T00:00:00\", \"2021-01-28T00:00:00\", \"2021-01-29T00:00:00\", \"2021-02-01T00:00:00\", \"2021-02-02T00:00:00\", \"2021-02-03T00:00:00\", \"2021-02-04T00:00:00\", \"2021-02-05T00:00:00\", \"2021-02-08T00:00:00\", \"2021-02-10T00:00:00\", \"2021-02-11T00:00:00\", \"2021-02-15T00:00:00\", \"2021-02-16T00:00:00\", \"2021-02-17T00:00:00\", \"2021-02-18T00:00:00\", \"2021-02-19T00:00:00\", \"2021-02-22T00:00:00\", \"2021-02-23T00:00:00\", \"2021-02-24T00:00:00\", \"2021-02-25T00:00:00\", \"2021-02-26T00:00:00\", \"2021-03-01T00:00:00\", \"2021-03-02T00:00:00\", \"2021-03-03T00:00:00\", \"2021-03-04T00:00:00\", \"2021-03-05T00:00:00\", \"2021-03-08T00:00:00\", \"2021-03-09T00:00:00\", \"2021-03-10T00:00:00\", \"2021-03-11T00:00:00\", \"2021-03-12T00:00:00\", \"2021-03-15T00:00:00\", \"2021-03-16T00:00:00\", \"2021-03-17T00:00:00\", \"2021-03-18T00:00:00\", \"2021-03-19T00:00:00\", \"2021-03-22T00:00:00\", \"2021-03-23T00:00:00\", \"2021-03-24T00:00:00\", \"2021-03-25T00:00:00\", \"2021-03-26T00:00:00\", \"2021-03-29T00:00:00\"], \"y\": [0.0, 0.0, -0.2, -0.2, 0.0, 0.0, -0.4, -0.4, 0.0, -0.2, -0.4, -0.4, -0.4, -0.99, -0.79, -1.98, -1.39, -0.59, -0.59, -0.2, -0.2, -0.2, -0.2, 0.0, 0.0, -0.39, -0.59, -0.98, -0.98, -1.38, -1.77, -1.57, -2.17, -2.76, -1.57, -1.77, -1.77, -2.17, -2.56, -1.77, -1.38, -1.18, -0.79, -1.38, -1.18, -0.79, -1.18, -1.18, -1.18, -1.18, -1.18, -1.18, -1.18, -0.79, -0.79]}, {\"line\": {\"color\": \"#ffd166\", \"width\": 1.3}, \"mode\": \"lines\", \"name\": \"Din\\u00e2mico\", \"type\": \"scatter\", \"x\": [\"2021-01-06T00:00:00\", \"2021-01-08T00:00:00\", \"2021-01-11T00:00:00\", \"2021-01-12T00:00:00\", \"2021-01-13T00:00:00\", \"2021-01-14T00:00:00\", \"2021-01-15T00:00:00\", \"2021-01-18T00:00:00\", \"2021-01-20T00:00:00\", \"2021-01-21T00:00:00\", \"2021-01-22T00:00:00\", \"2021-01-25T00:00:00\", \"2021-01-26T00:00:00\", \"2021-01-27T00:00:00\", \"2021-01-28T00:00:00\", \"2021-01-29T00:00:00\", \"2021-02-01T00:00:00\", \"2021-02-02T00:00:00\", \"2021-02-03T00:00:00\", \"2021-02-04T00:00:00\", \"2021-02-05T00:00:00\", \"2021-02-08T00:00:00\", \"2021-02-10T00:00:00\", \"2021-02-11T00:00:00\", \"2021-02-15T00:00:00\", \"2021-02-16T00:00:00\", \"2021-02-17T00:00:00\", \"2021-02-18T00:00:00\", \"2021-02-19T00:00:00\", \"2021-02-22T00:00:00\", \"2021-02-23T00:00:00\", \"2021-02-24T00:00:00\", \"2021-02-25T00:00:00\", \"2021-02-26T00:00:00\", \"2021-03-01T00:00:00\", \"2021-03-02T00:00:00\", \"2021-03-03T00:00:00\", \"2021-03-04T00:00:00\", \"2021-03-05T00:00:00\", \"2021-03-08T00:00:00\", \"2021-03-09T00:00:00\", \"2021-03-10T00:00:00\", \"2021-03-11T00:00:00\", \"2021-03-12T00:00:00\", \"2021-03-15T00:00:00\", \"2021-03-16T00:00:00\", \"2021-03-17T00:00:00\", \"2021-03-18T00:00:00\", \"2021-03-19T00:00:00\", \"2021-03-22T00:00:00\", \"2021-03-23T00:00:00\", \"2021-03-24T00:00:00\", \"2021-03-25T00:00:00\", \"2021-03-26T00:00:00\", \"2021-03-29T00:00:00\"], \"y\": [0.0, 0.0, -0.2, -0.2, 0.0, 0.0, -0.59, -0.59, 0.0, 0.0, -0.39, -0.39, -0.2, -0.98, -0.79, -2.56, -1.57, -0.2, 0.0, 0.0, 0.0, 0.0, -0.2, 0.0, 0.0, -0.39, -0.39, -1.16, -0.77, -1.74, -1.93, -1.74, -2.51, -3.09, -1.55, -1.74, -1.93, -2.32, -2.71, -1.35, -0.97, -0.77, -0.39, -0.58, -0.39, 0.0, -0.39, -0.19, -0.58, -0.39, -0.39, -0.58, -0.58, 0.0, 0.0]}],                        {\"annotations\": [{\"font\": {\"color\": \"rgb(150,150,150)\", \"family\": \"Arial\", \"size\": 12}, \"showarrow\": false, \"text\": \"\", \"x\": 0.5, \"xanchor\": \"center\", \"xref\": \"paper\", \"y\": \"-0.125\", \"yanchor\": \"top\", \"yref\": \"paper\"}], \"height\": 500, \"hovermode\": \"x\", \"paper_bgcolor\": \"#F5F6F9\", \"plot_bgcolor\": \"#F5F6F9\", \"showlegend\": true, \"template\": {\"data\": {\"bar\": [{\"error_x\": {\"color\": \"#2a3f5f\"}, \"error_y\": {\"color\": \"#2a3f5f\"}, \"marker\": {\"line\": {\"color\": \"#E5ECF6\", \"width\": 0.5}}, \"type\": \"bar\"}], \"barpolar\": [{\"marker\": {\"line\": {\"color\": \"#E5ECF6\", \"width\": 0.5}}, \"type\": \"barpolar\"}], \"carpet\": [{\"aaxis\": {\"endlinecolor\": \"#2a3f5f\", \"gridcolor\": \"white\", \"linecolor\": \"white\", \"minorgridcolor\": \"white\", \"startlinecolor\": \"#2a3f5f\"}, \"baxis\": {\"endlinecolor\": \"#2a3f5f\", \"gridcolor\": \"white\", \"linecolor\": \"white\", \"minorgridcolor\": \"white\", \"startlinecolor\": \"#2a3f5f\"}, \"type\": \"carpet\"}], \"choropleth\": [{\"colorbar\": {\"outlinewidth\": 0, \"ticks\": \"\"}, \"type\": \"choropleth\"}], \"contour\": [{\"colorbar\": {\"outlinewidth\": 0, \"ticks\": \"\"}, \"colorscale\": [[0.0, \"#0d0887\"], [0.1111111111111111, \"#46039f\"], [0.2222222222222222, \"#7201a8\"], [0.3333333333333333, \"#9c179e\"], [0.4444444444444444, \"#bd3786\"], [0.5555555555555556, \"#d8576b\"], [0.6666666666666666, \"#ed7953\"], [0.7777777777777778, \"#fb9f3a\"], [0.8888888888888888, \"#fdca26\"], [1.0, \"#f0f921\"]], \"type\": \"contour\"}], \"contourcarpet\": [{\"colorbar\": {\"outlinewidth\": 0, \"ticks\": \"\"}, \"type\": \"contourcarpet\"}], \"heatmap\": [{\"colorbar\": {\"outlinewidth\": 0, \"ticks\": \"\"}, \"colorscale\": [[0.0, \"#0d0887\"], [0.1111111111111111, \"#46039f\"], [0.2222222222222222, \"#7201a8\"], [0.3333333333333333, \"#9c179e\"], [0.4444444444444444, \"#bd3786\"], [0.5555555555555556, \"#d8576b\"], [0.6666666666666666, \"#ed7953\"], [0.7777777777777778, \"#fb9f3a\"], [0.8888888888888888, \"#fdca26\"], [1.0, \"#f0f921\"]], \"type\": \"heatmap\"}], \"heatmapgl\": [{\"colorbar\": {\"outlinewidth\": 0, \"ticks\": \"\"}, \"colorscale\": [[0.0, \"#0d0887\"], [0.1111111111111111, \"#46039f\"], [0.2222222222222222, \"#7201a8\"], [0.3333333333333333, \"#9c179e\"], [0.4444444444444444, \"#bd3786\"], [0.5555555555555556, \"#d8576b\"], [0.6666666666666666, \"#ed7953\"], [0.7777777777777778, \"#fb9f3a\"], [0.8888888888888888, \"#fdca26\"], [1.0, \"#f0f921\"]], \"type\": \"heatmapgl\"}], \"histogram\": [{\"marker\": {\"colorbar\": {\"outlinewidth\": 0, \"ticks\": \"\"}}, \"type\": \"histogram\"}], \"histogram2d\": [{\"colorbar\": {\"outlinewidth\": 0, \"ticks\": \"\"}, \"colorscale\": [[0.0, \"#0d0887\"], [0.1111111111111111, \"#46039f\"], [0.2222222222222222, \"#7201a8\"], [0.3333333333333333, \"#9c179e\"], [0.4444444444444444, \"#bd3786\"], [0.5555555555555556, \"#d8576b\"], [0.6666666666666666, \"#ed7953\"], [0.7777777777777778, \"#fb9f3a\"], [0.8888888888888888, \"#fdca26\"], [1.0, \"#f0f921\"]], \"type\": \"histogram2d\"}], \"histogram2dcontour\": [{\"colorbar\": {\"outlinewidth\": 0, \"ticks\": \"\"}, \"colorscale\": [[0.0, \"#0d0887\"], [0.1111111111111111, \"#46039f\"], [0.2222222222222222, \"#7201a8\"], [0.3333333333333333, \"#9c179e\"], [0.4444444444444444, \"#bd3786\"], [0.5555555555555556, \"#d8576b\"], [0.6666666666666666, \"#ed7953\"], [0.7777777777777778, \"#fb9f3a\"], [0.8888888888888888, \"#fdca26\"], [1.0, \"#f0f921\"]], \"type\": \"histogram2dcontour\"}], \"mesh3d\": [{\"colorbar\": {\"outlinewidth\": 0, \"ticks\": \"\"}, \"type\": \"mesh3d\"}], \"parcoords\": [{\"line\": {\"colorbar\": {\"outlinewidth\": 0, \"ticks\": \"\"}}, \"type\": \"parcoords\"}], \"pie\": [{\"automargin\": true, \"type\": \"pie\"}], \"scatter\": [{\"marker\": {\"colorbar\": {\"outlinewidth\": 0, \"ticks\": \"\"}}, \"type\": \"scatter\"}], \"scatter3d\": [{\"line\": {\"colorbar\": {\"outlinewidth\": 0, \"ticks\": \"\"}}, \"marker\": {\"colorbar\": {\"outlinewidth\": 0, \"ticks\": \"\"}}, \"type\": \"scatter3d\"}], \"scattercarpet\": [{\"marker\": {\"colorbar\": {\"outlinewidth\": 0, \"ticks\": \"\"}}, \"type\": \"scattercarpet\"}], \"scattergeo\": [{\"marker\": {\"colorbar\": {\"outlinewidth\": 0, \"ticks\": \"\"}}, \"type\": \"scattergeo\"}], \"scattergl\": [{\"marker\": {\"colorbar\": {\"outlinewidth\": 0, \"ticks\": \"\"}}, \"type\": \"scattergl\"}], \"scattermapbox\": [{\"marker\": {\"colorbar\": {\"outlinewidth\": 0, \"ticks\": \"\"}}, \"type\": \"scattermapbox\"}], \"scatterpolar\": [{\"marker\": {\"colorbar\": {\"outlinewidth\": 0, \"ticks\": \"\"}}, \"type\": \"scatterpolar\"}], \"scatterpolargl\": [{\"marker\": {\"colorbar\": {\"outlinewidth\": 0, \"ticks\": \"\"}}, \"type\": \"scatterpolargl\"}], \"scatterternary\": [{\"marker\": {\"colorbar\": {\"outlinewidth\": 0, \"ticks\": \"\"}}, \"type\": \"scatterternary\"}], \"surface\": [{\"colorbar\": {\"outlinewidth\": 0, \"ticks\": \"\"}, \"colorscale\": [[0.0, \"#0d0887\"], [0.1111111111111111, \"#46039f\"], [0.2222222222222222, \"#7201a8\"], [0.3333333333333333, \"#9c179e\"], [0.4444444444444444, \"#bd3786\"], [0.5555555555555556, \"#d8576b\"], [0.6666666666666666, \"#ed7953\"], [0.7777777777777778, \"#fb9f3a\"], [0.8888888888888888, \"#fdca26\"], [1.0, \"#f0f921\"]], \"type\": \"surface\"}], \"table\": [{\"cells\": {\"fill\": {\"color\": \"#EBF0F8\"}, \"line\": {\"color\": \"white\"}}, \"header\": {\"fill\": {\"color\": \"#C8D4E3\"}, \"line\": {\"color\": \"white\"}}, \"type\": \"table\"}]}, \"layout\": {\"annotationdefaults\": {\"arrowcolor\": \"#2a3f5f\", \"arrowhead\": 0, \"arrowwidth\": 1}, \"autotypenumbers\": \"strict\", \"coloraxis\": {\"colorbar\": {\"outlinewidth\": 0, \"ticks\": \"\"}}, \"colorscale\": {\"diverging\": [[0, \"#8e0152\"], [0.1, \"#c51b7d\"], [0.2, \"#de77ae\"], [0.3, \"#f1b6da\"], [0.4, \"#fde0ef\"], [0.5, \"#f7f7f7\"], [0.6, \"#e6f5d0\"], [0.7, \"#b8e186\"], [0.8, \"#7fbc41\"], [0.9, \"#4d9221\"], [1, \"#276419\"]], \"sequential\": [[0.0, \"#0d0887\"], [0.1111111111111111, \"#46039f\"], [0.2222222222222222, \"#7201a8\"], [0.3333333333333333, \"#9c179e\"], [0.4444444444444444, \"#bd3786\"], [0.5555555555555556, \"#d8576b\"], [0.6666666666666666, \"#ed7953\"], [0.7777777777777778, \"#fb9f3a\"], [0.8888888888888888, \"#fdca26\"], [1.0, \"#f0f921\"]], \"sequentialminus\": [[0.0, \"#0d0887\"], [0.1111111111111111, \"#46039f\"], [0.2222222222222222, \"#7201a8\"], [0.3333333333333333, \"#9c179e\"], [0.4444444444444444, \"#bd3786\"], [0.5555555555555556, \"#d8576b\"], [0.6666666666666666, \"#ed7953\"], [0.7777777777777778, \"#fb9f3a\"], [0.8888888888888888, \"#fdca26\"], [1.0, \"#f0f921\"]]}, \"colorway\": [\"#636efa\", \"#EF553B\", \"#00cc96\", \"#ab63fa\", \"#FFA15A\", \"#19d3f3\", \"#FF6692\", \"#B6E880\", \"#FF97FF\", \"#FECB52\"], \"font\": {\"color\": \"#2a3f5f\"}, \"geo\": {\"bgcolor\": \"white\", \"lakecolor\": \"white\", \"landcolor\": \"#E5ECF6\", \"showlakes\": true, \"showland\": true, \"subunitcolor\": \"white\"}, \"hoverlabel\": {\"align\": \"left\"}, \"hovermode\": \"closest\", \"mapbox\": {\"style\": \"light\"}, \"paper_bgcolor\": \"white\", \"plot_bgcolor\": \"#E5ECF6\", \"polar\": {\"angularaxis\": {\"gridcolor\": \"white\", \"linecolor\": \"white\", \"ticks\": \"\"}, \"bgcolor\": \"#E5ECF6\", \"radialaxis\": {\"gridcolor\": \"white\", \"linecolor\": \"white\", \"ticks\": \"\"}}, \"scene\": {\"xaxis\": {\"backgroundcolor\": \"#E5ECF6\", \"gridcolor\": \"white\", \"gridwidth\": 2, \"linecolor\": \"white\", \"showbackground\": true, \"ticks\": \"\", \"zerolinecolor\": \"white\"}, \"yaxis\": {\"backgroundcolor\": \"#E5ECF6\", \"gridcolor\": \"white\", \"gridwidth\": 2, \"linecolor\": \"white\", \"showbackground\": true, \"ticks\": \"\", \"zerolinecolor\": \"white\"}, \"zaxis\": {\"backgroundcolor\": \"#E5ECF6\", \"gridcolor\": \"white\", \"gridwidth\": 2, \"linecolor\": \"white\", \"showbackground\": true, \"ticks\": \"\", \"zerolinecolor\": \"white\"}}, \"shapedefaults\": {\"line\": {\"color\": \"#2a3f5f\"}}, \"ternary\": {\"aaxis\": {\"gridcolor\": \"white\", \"linecolor\": \"white\", \"ticks\": \"\"}, \"baxis\": {\"gridcolor\": \"white\", \"linecolor\": \"white\", \"ticks\": \"\"}, \"bgcolor\": \"#E5ECF6\", \"caxis\": {\"gridcolor\": \"white\", \"linecolor\": \"white\", \"ticks\": \"\"}}, \"title\": {\"x\": 0.05}, \"xaxis\": {\"automargin\": true, \"gridcolor\": \"white\", \"linecolor\": \"white\", \"ticks\": \"\", \"title\": {\"standoff\": 15}, \"zerolinecolor\": \"white\", \"zerolinewidth\": 2}, \"yaxis\": {\"automargin\": true, \"gridcolor\": \"white\", \"linecolor\": \"white\", \"ticks\": \"\", \"title\": {\"standoff\": 15}, \"zerolinecolor\": \"white\", \"zerolinewidth\": 2}}}, \"title\": {\"text\": \"Drawdowns\", \"x\": 0.5}, \"width\": 950, \"xaxis\": {\"gridcolor\": \"#E1E5ED\", \"showgrid\": true, \"tickfont\": {\"color\": \"#4D5663\"}, \"tickformat\": \"\", \"tickprefix\": \"\", \"ticksuffix\": \"\", \"title\": {\"font\": {\"color\": \"#4D5663\"}, \"text\": \"\"}, \"zerolinecolor\": \"#E1E5ED\"}, \"yaxis\": {\"gridcolor\": \"#E1E5ED\", \"showgrid\": true, \"tickfont\": {\"color\": \"#4D5663\"}, \"tickformat\": \"\", \"tickprefix\": \"\", \"ticksuffix\": \"%\", \"title\": {\"text\": \"\"}, \"zerolinecolor\": \"#E1E5ED\"}},                        {\"responsive\": true}                    ).then(function(){\n                            \nvar gd = document.getElementById('f6c02555-c974-4920-86f3-fce9a5dd7b1b');\nvar x = new MutationObserver(function (mutations, observer) {{\n        var display = window.getComputedStyle(gd).display;\n        if (!display || display === 'none') {{\n            console.log([gd, 'removed!']);\n            Plotly.purge(gd);\n            observer.disconnect();\n        }}\n}});\n\n// Listen for the removal of the full notebook cells\nvar notebookContainer = gd.closest('#notebook-container');\nif (notebookContainer) {{\n    x.observe(notebookContainer, {childList: true});\n}}\n\n// Listen for the clearing of the current output cell\nvar outputEl = gd.closest('.output');\nif (outputEl) {{\n    x.observe(outputEl, {childList: true});\n}}\n\n                        })                };                });            </script>        </div>"
          },
          "metadata": {}
        }
      ]
    },
    {
      "cell_type": "code",
      "execution_count": 51,
      "metadata": {},
      "outputs": [
        {
          "output_type": "display_data",
          "data": {
            "text/plain": "<IPython.core.display.Markdown object>",
            "text/markdown": "**Performance from 2021-01-06 to 2021-03-29 (≈ 0.2 years)**"
          },
          "metadata": {}
        },
        {
          "output_type": "execute_result",
          "data": {
            "text/plain": [
              "             Return StdDev  Sharpe  Max DD   MAR\n",
              "Conservador  -0.60%  4.04%   -0.65  -2.18% -1.20\n",
              "V20A         -1.27%  4.27%   -1.28  -2.61% -2.10"
            ],
            "text/html": "<div>\n<style scoped>\n    .dataframe tbody tr th:only-of-type {\n        vertical-align: middle;\n    }\n\n    .dataframe tbody tr th {\n        vertical-align: top;\n    }\n\n    .dataframe thead th {\n        text-align: right;\n    }\n</style>\n<table border=\"1\" class=\"dataframe\">\n  <thead>\n    <tr style=\"text-align: right;\">\n      <th></th>\n      <th>Return</th>\n      <th>StdDev</th>\n      <th>Sharpe</th>\n      <th>Max DD</th>\n      <th>MAR</th>\n    </tr>\n  </thead>\n  <tbody>\n    <tr>\n      <th>Conservador</th>\n      <td>-0.60%</td>\n      <td>4.04%</td>\n      <td>-0.65</td>\n      <td>-2.18%</td>\n      <td>-1.20</td>\n    </tr>\n    <tr>\n      <th>V20A</th>\n      <td>-1.27%</td>\n      <td>4.27%</td>\n      <td>-1.28</td>\n      <td>-2.61%</td>\n      <td>-2.10</td>\n    </tr>\n  </tbody>\n</table>\n</div>"
          },
          "metadata": {},
          "execution_count": 51
        }
      ],
      "source": [
        "pl.compute_performance_table(data_total_norm[['Conservador', 'V20A']]).drop('CAGR', axis=1)"
      ]
    },
    {
      "cell_type": "code",
      "execution_count": 53,
      "metadata": {},
      "outputs": [
        {
          "output_type": "display_data",
          "data": {
            "text/plain": "<IPython.core.display.Markdown object>",
            "text/markdown": "**Performance from 2021-01-06 to 2021-03-29 (≈ 0.2 years)**"
          },
          "metadata": {}
        },
        {
          "output_type": "execute_result",
          "data": {
            "text/plain": [
              "         Return StdDev  Sharpe  Max DD  MAR\n",
              "V40A      1.03%  6.31%    0.73  -2.68% 1.72\n",
              "Moderado  0.80%  6.73%    0.53  -2.76% 1.29"
            ],
            "text/html": "<div>\n<style scoped>\n    .dataframe tbody tr th:only-of-type {\n        vertical-align: middle;\n    }\n\n    .dataframe tbody tr th {\n        vertical-align: top;\n    }\n\n    .dataframe thead th {\n        text-align: right;\n    }\n</style>\n<table border=\"1\" class=\"dataframe\">\n  <thead>\n    <tr style=\"text-align: right;\">\n      <th></th>\n      <th>Return</th>\n      <th>StdDev</th>\n      <th>Sharpe</th>\n      <th>Max DD</th>\n      <th>MAR</th>\n    </tr>\n  </thead>\n  <tbody>\n    <tr>\n      <th>V40A</th>\n      <td>1.03%</td>\n      <td>6.31%</td>\n      <td>0.73</td>\n      <td>-2.68%</td>\n      <td>1.72</td>\n    </tr>\n    <tr>\n      <th>Moderado</th>\n      <td>0.80%</td>\n      <td>6.73%</td>\n      <td>0.53</td>\n      <td>-2.76%</td>\n      <td>1.29</td>\n    </tr>\n  </tbody>\n</table>\n</div>"
          },
          "metadata": {},
          "execution_count": 53
        }
      ],
      "source": [
        "pl.compute_performance_table(data_total_norm[['V40A', 'Moderado']]).drop('CAGR', axis=1)"
      ]
    },
    {
      "cell_type": "code",
      "execution_count": 54,
      "metadata": {},
      "outputs": [
        {
          "output_type": "display_data",
          "data": {
            "text/plain": "<IPython.core.display.Markdown object>",
            "text/markdown": "**Performance from 2021-01-06 to 2021-03-29 (≈ 0.2 years)**"
          },
          "metadata": {}
        },
        {
          "output_type": "execute_result",
          "data": {
            "text/plain": [
              "         Return StdDev  Sharpe  Max DD  MAR\n",
              "V60A      3.03%  8.50%    1.65  -3.12% 4.49\n",
              "Dinâmico  3.60%  9.54%    1.76  -3.09% 5.44"
            ],
            "text/html": "<div>\n<style scoped>\n    .dataframe tbody tr th:only-of-type {\n        vertical-align: middle;\n    }\n\n    .dataframe tbody tr th {\n        vertical-align: top;\n    }\n\n    .dataframe thead th {\n        text-align: right;\n    }\n</style>\n<table border=\"1\" class=\"dataframe\">\n  <thead>\n    <tr style=\"text-align: right;\">\n      <th></th>\n      <th>Return</th>\n      <th>StdDev</th>\n      <th>Sharpe</th>\n      <th>Max DD</th>\n      <th>MAR</th>\n    </tr>\n  </thead>\n  <tbody>\n    <tr>\n      <th>V60A</th>\n      <td>3.03%</td>\n      <td>8.50%</td>\n      <td>1.65</td>\n      <td>-3.12%</td>\n      <td>4.49</td>\n    </tr>\n    <tr>\n      <th>Dinâmico</th>\n      <td>3.60%</td>\n      <td>9.54%</td>\n      <td>1.76</td>\n      <td>-3.09%</td>\n      <td>5.44</td>\n    </tr>\n  </tbody>\n</table>\n</div>"
          },
          "metadata": {},
          "execution_count": 54
        }
      ],
      "source": [
        "pl.compute_performance_table(data_total_norm[['V60A', 'Dinâmico']]).drop('CAGR', axis=1)"
      ]
    },
    {
      "cell_type": "code",
      "execution_count": 55,
      "metadata": {},
      "outputs": [
        {
          "output_type": "display_data",
          "data": {
            "text/plain": "<IPython.core.display.Markdown object>",
            "text/markdown": "**Performance from 2021-01-06 to 2021-03-29 (≈ 0.2 years)**"
          },
          "metadata": {}
        },
        {
          "output_type": "execute_result",
          "data": {
            "text/plain": [
              "     Return  StdDev  Sharpe  Max DD  MAR\n",
              "V80A  5.08%  12.11%    2.01  -3.81% 6.40"
            ],
            "text/html": "<div>\n<style scoped>\n    .dataframe tbody tr th:only-of-type {\n        vertical-align: middle;\n    }\n\n    .dataframe tbody tr th {\n        vertical-align: top;\n    }\n\n    .dataframe thead th {\n        text-align: right;\n    }\n</style>\n<table border=\"1\" class=\"dataframe\">\n  <thead>\n    <tr style=\"text-align: right;\">\n      <th></th>\n      <th>Return</th>\n      <th>StdDev</th>\n      <th>Sharpe</th>\n      <th>Max DD</th>\n      <th>MAR</th>\n    </tr>\n  </thead>\n  <tbody>\n    <tr>\n      <th>V80A</th>\n      <td>5.08%</td>\n      <td>12.11%</td>\n      <td>2.01</td>\n      <td>-3.81%</td>\n      <td>6.40</td>\n    </tr>\n  </tbody>\n</table>\n</div>"
          },
          "metadata": {},
          "execution_count": 55
        }
      ],
      "source": [
        "pl.compute_performance_table(data_total_norm[['V80A']]).drop('CAGR', axis=1)"
      ]
    },
    {
      "cell_type": "code",
      "metadata": {
        "id": "zUHplrh8dBIN"
      },
      "source": [
        "search_results = investpy.search_quotes(text='IE00BMVB5M21', n_results=2)\n",
        "print(search_results[1])\n",
        "data = search_results[1].retrieve_historical_data(from_date='31/01/2020', to_date='31/01/2030')[['Close']]\n",
        "data.columns=['V40A']\n",
        "data"
      ],
      "execution_count": 56,
      "outputs": [
        {
          "output_type": "stream",
          "name": "stdout",
          "text": [
            "{\"id_\": 1168623, \"name\": \"Vanguard LifeStrategy 40% Equity UCITS ETF (EUR) Accumulating\", \"symbol\": \"V40A\", \"country\": \"germany\", \"tag\": \"/etfs/v40a\", \"pair_type\": \"etfs\", \"exchange\": \"Xetra\"}\n"
          ]
        },
        {
          "output_type": "execute_result",
          "data": {
            "text/plain": [
              "            V40A\n",
              "Date            \n",
              "2020-12-11 24.99\n",
              "2020-12-14 25.07\n",
              "2020-12-15 25.07\n",
              "2020-12-16 25.15\n",
              "2020-12-17 25.19\n",
              "...          ...\n",
              "2021-03-25 25.43\n",
              "2021-03-26 25.50\n",
              "2021-03-29 25.52\n",
              "2021-03-30 25.55\n",
              "2021-03-31 25.59\n",
              "\n",
              "[75 rows x 1 columns]"
            ],
            "text/html": "<div>\n<style scoped>\n    .dataframe tbody tr th:only-of-type {\n        vertical-align: middle;\n    }\n\n    .dataframe tbody tr th {\n        vertical-align: top;\n    }\n\n    .dataframe thead th {\n        text-align: right;\n    }\n</style>\n<table border=\"1\" class=\"dataframe\">\n  <thead>\n    <tr style=\"text-align: right;\">\n      <th></th>\n      <th>V40A</th>\n    </tr>\n    <tr>\n      <th>Date</th>\n      <th></th>\n    </tr>\n  </thead>\n  <tbody>\n    <tr>\n      <th>2020-12-11</th>\n      <td>24.99</td>\n    </tr>\n    <tr>\n      <th>2020-12-14</th>\n      <td>25.07</td>\n    </tr>\n    <tr>\n      <th>2020-12-15</th>\n      <td>25.07</td>\n    </tr>\n    <tr>\n      <th>2020-12-16</th>\n      <td>25.15</td>\n    </tr>\n    <tr>\n      <th>2020-12-17</th>\n      <td>25.19</td>\n    </tr>\n    <tr>\n      <th>...</th>\n      <td>...</td>\n    </tr>\n    <tr>\n      <th>2021-03-25</th>\n      <td>25.43</td>\n    </tr>\n    <tr>\n      <th>2021-03-26</th>\n      <td>25.50</td>\n    </tr>\n    <tr>\n      <th>2021-03-29</th>\n      <td>25.52</td>\n    </tr>\n    <tr>\n      <th>2021-03-30</th>\n      <td>25.55</td>\n    </tr>\n    <tr>\n      <th>2021-03-31</th>\n      <td>25.59</td>\n    </tr>\n  </tbody>\n</table>\n<p>75 rows × 1 columns</p>\n</div>"
          },
          "metadata": {},
          "execution_count": 56
        }
      ]
    },
    {
      "cell_type": "code",
      "metadata": {
        "id": "Jj1cEQRheg2r"
      },
      "source": [
        "import pandas as pd\n",
        "\n",
        "# Downloading funds and creating quotes and returns dataframes\n",
        "Begin = '2000-03-10'\n",
        "# End = '2017-08-20' # Só activas se quiseres que acabe num dia especifíco \n",
        "\n",
        "MSid = ['F000016BE4', 'F000016BE5', 'F000016BE6', 'F0GBR057ZA'] #175\n",
        "\n",
        "Nomes = ['Conservador', 'Moderado', 'Dinâmico', 'AR'] # 175\n",
        "\n",
        "fundos = pd.DataFrame()\n",
        "\n",
        "# Download\n",
        "for ticker in MSid:\n",
        "    try:\n",
        "        url = \"https://lt.morningstar.com/api/rest.svc/timeseries_price/2nhcdckzon?id=\" + str(ticker) + \"&currencyId=BAS&idtype=Morningstar&frequency=daily&startDate=\" + Begin + \"&outputType=CSV\"\n",
        "        fundo = pd.read_csv(url, sep = \";\" , index_col = 'date', parse_dates = True)\n",
        "        fundo =  fundo.drop('Unnamed: 2', 1)\n",
        "        fundos = fundos.merge(fundo, left_index = True, right_index = True, how='outer')\n",
        "    except:\n",
        "        print('Download of fund ' + ticker + ' failed')\n",
        "        \n",
        "fundos.columns = Nomes\n",
        "fundos = fundos.dropna()\n",
        "fundos = pl.normalize(fundos)"
      ],
      "execution_count": 25,
      "outputs": []
    },
    {
      "cell_type": "code",
      "metadata": {
        "id": "JqJSedrcxjmg"
      },
      "source": [
        "pl.ichart(round(fundos, 2), title='AR PPR VS PPR SMART desde 2021-01-06', yticksuffix= '€', yTitle='Valorização por cada 100 €uros investidos', colab=False)"
      ],
      "execution_count": null,
      "outputs": []
    },
    {
      "cell_type": "code",
      "metadata": {
        "id": "5uq8soPWQK-V"
      },
      "source": [
        "import investpy\n",
        "search_results = investpy.search_quotes(text='LU0114721508', n_results=2)\n",
        "print(search_results[0])"
      ],
      "execution_count": 27,
      "outputs": [
        {
          "output_type": "stream",
          "name": "stdout",
          "text": [
            "{\"id_\": 1039129, \"name\": \"Fidelity Funds - Global Consumer Industries Fund A-dist-eur\", \"symbol\": \"0P00000EDH\", \"country\": \"luxembourg\", \"tag\": \"/funds/global-consumer-industries-fund-a-e\", \"pair_type\": \"funds\", \"exchange\": \"Luxembourg\"}\n"
          ]
        }
      ]
    },
    {
      "cell_type": "code",
      "metadata": {
        "id": "IrMZwEXgQK2c"
      },
      "source": [
        "# Downloading funds and creating quotes and returns dataframes\n",
        "Begin = '2000-03-10'\n",
        "# End = '2017-08-20' # Só activas se quiseres que acabe num dia especifíco \n",
        "\n",
        "Tickers = ['IPO.US']\n",
        "ETF_Tickers =['IPO']\n",
        "\n",
        "ETFs2 = pd.DataFrame()\n",
        "\n",
        "# Download\n",
        "for ticker in Tickers:\n",
        "    try:\n",
        "        url = \"https://eodhistoricaldata.com/api/eod/\" + str(ticker) + \"?api_token=5c982bff80deb2.22427269&period=d.\"\n",
        "        ETF = pd.read_csv(url, index_col = 'Date', parse_dates = True)[['Adjusted_close']].iloc[:-1, :]\n",
        "        ETFs2 = ETFs2.merge(ETF, left_index = True, right_index = True, how='outer')\n",
        "    except:\n",
        "        print('Download of fund ' + ticker + ' failed')\n",
        "    \n",
        "ETFs2.columns = ETF_Tickers\n",
        "ETFs2 = ETFs2.fillna(method='ffill')\n",
        "ETFs2 = ETFs2.replace(to_replace=0, method='ffill')\n",
        "\n",
        "ETFs2 = ETFs2.loc['2000-07-07':]"
      ],
      "execution_count": 28,
      "outputs": []
    },
    {
      "cell_type": "code",
      "metadata": {
        "id": "-4FeND5qQK5Q"
      },
      "source": [
        "IPO = ETFs2.copy()"
      ],
      "execution_count": 29,
      "outputs": []
    },
    {
      "cell_type": "code",
      "metadata": {
        "id": "ru7QDwuRujbJ"
      },
      "source": [
        "pl.ichart(IPO)"
      ],
      "execution_count": 30,
      "outputs": [
        {
          "output_type": "display_data",
          "data": {
            "text/html": "<html>\n<head><meta charset=\"utf-8\" /></head>\n<body>\n    <div>            <script src=\"https://cdnjs.cloudflare.com/ajax/libs/mathjax/2.7.5/MathJax.js?config=TeX-AMS-MML_SVG\"></script><script type=\"text/javascript\">if (window.MathJax) {MathJax.Hub.Config({SVG: {font: \"STIX-Web\"}});}</script>                <script type=\"text/javascript\">window.PlotlyConfig = {MathJaxConfig: 'local'};</script>\n        <script src=\"https://cdn.plot.ly/plotly-latest.min.js\"></script>                <div id=\"e70d267a-2c70-4123-a706-edc162f53c7c\" class=\"plotly-graph-div\" style=\"height:500px; width:950px;\"></div>            <script type=\"text/javascript\">                                    window.PLOTLYENV=window.PLOTLYENV || {};                                    if (document.getElementById(\"e70d267a-2c70-4123-a706-edc162f53c7c\")) {                    Plotly.newPlot(                        \"e70d267a-2c70-4123-a706-edc162f53c7c\",                        [{\"line\": {\"color\": \"royalblue\", \"width\": 1.3}, \"mode\": \"lines\", \"name\": \"IPO\", \"type\": \"scatter\", \"x\": [\"2013-10-21\", \"2013-10-22\", \"2013-10-23\", \"2013-10-24\", \"2013-10-25\", \"2013-10-28\", \"2013-10-29\", \"2013-10-30\", \"2013-10-31\", \"2013-11-01\", \"2013-11-04\", \"2013-11-05\", \"2013-11-06\", \"2013-11-07\", \"2013-11-08\", \"2013-11-11\", \"2013-11-12\", \"2013-11-13\", \"2013-11-14\", \"2013-11-15\", \"2013-11-18\", \"2013-11-19\", \"2013-11-20\", \"2013-11-21\", \"2013-11-22\", \"2013-11-25\", \"2013-11-26\", \"2013-11-27\", \"2013-11-29\", \"2013-12-02\", \"2013-12-03\", \"2013-12-04\", \"2013-12-05\", \"2013-12-06\", \"2013-12-09\", \"2013-12-10\", \"2013-12-11\", \"2013-12-12\", \"2013-12-13\", \"2013-12-16\", \"2013-12-17\", \"2013-12-18\", \"2013-12-19\", \"2013-12-20\", \"2013-12-23\", \"2013-12-24\", \"2013-12-26\", \"2013-12-27\", \"2013-12-30\", \"2013-12-31\", \"2014-01-02\", \"2014-01-03\", \"2014-01-06\", \"2014-01-07\", \"2014-01-08\", \"2014-01-09\", \"2014-01-10\", \"2014-01-13\", \"2014-01-14\", \"2014-01-15\", \"2014-01-16\", \"2014-01-17\", \"2014-01-21\", \"2014-01-22\", \"2014-01-23\", \"2014-01-24\", \"2014-01-27\", \"2014-01-28\", \"2014-01-29\", \"2014-01-30\", \"2014-01-31\", \"2014-02-03\", \"2014-02-04\", \"2014-02-05\", \"2014-02-06\", \"2014-02-07\", \"2014-02-10\", \"2014-02-11\", \"2014-02-12\", \"2014-02-13\", \"2014-02-14\", \"2014-02-18\", \"2014-02-19\", \"2014-02-20\", \"2014-02-21\", \"2014-02-24\", \"2014-02-25\", \"2014-02-26\", \"2014-02-27\", \"2014-02-28\", \"2014-03-03\", \"2014-03-04\", \"2014-03-05\", \"2014-03-06\", \"2014-03-07\", \"2014-03-10\", \"2014-03-11\", \"2014-03-12\", \"2014-03-13\", \"2014-03-14\", \"2014-03-17\", \"2014-03-18\", \"2014-03-19\", \"2014-03-20\", \"2014-03-21\", \"2014-03-24\", \"2014-03-25\", \"2014-03-26\", \"2014-03-27\", \"2014-03-28\", \"2014-03-31\", \"2014-04-01\", \"2014-04-02\", \"2014-04-03\", \"2014-04-04\", \"2014-04-07\", \"2014-04-08\", \"2014-04-09\", \"2014-04-10\", \"2014-04-11\", \"2014-04-14\", \"2014-04-15\", \"2014-04-16\", \"2014-04-17\", \"2014-04-21\", \"2014-04-22\", \"2014-04-23\", \"2014-04-24\", \"2014-04-25\", \"2014-04-28\", \"2014-04-29\", \"2014-04-30\", \"2014-05-01\", \"2014-05-02\", \"2014-05-05\", \"2014-05-06\", \"2014-05-07\", \"2014-05-08\", \"2014-05-09\", \"2014-05-12\", \"2014-05-13\", \"2014-05-14\", \"2014-05-15\", \"2014-05-16\", \"2014-05-19\", \"2014-05-20\", \"2014-05-21\", \"2014-05-22\", \"2014-05-23\", \"2014-05-27\", \"2014-05-28\", \"2014-05-29\", \"2014-05-30\", \"2014-06-02\", \"2014-06-03\", \"2014-06-04\", \"2014-06-05\", \"2014-06-06\", \"2014-06-09\", \"2014-06-10\", \"2014-06-11\", \"2014-06-12\", \"2014-06-13\", \"2014-06-16\", \"2014-06-17\", \"2014-06-18\", \"2014-06-19\", \"2014-06-20\", \"2014-06-23\", \"2014-06-24\", \"2014-06-25\", \"2014-06-26\", \"2014-06-27\", \"2014-06-30\", \"2014-07-01\", \"2014-07-02\", \"2014-07-03\", \"2014-07-07\", \"2014-07-08\", \"2014-07-09\", \"2014-07-10\", \"2014-07-11\", \"2014-07-14\", \"2014-07-15\", \"2014-07-16\", \"2014-07-17\", \"2014-07-18\", \"2014-07-21\", \"2014-07-22\", \"2014-07-23\", \"2014-07-24\", \"2014-07-25\", \"2014-07-28\", \"2014-07-29\", \"2014-07-30\", \"2014-07-31\", \"2014-08-01\", \"2014-08-04\", \"2014-08-05\", \"2014-08-06\", \"2014-08-07\", \"2014-08-08\", \"2014-08-11\", \"2014-08-12\", \"2014-08-13\", \"2014-08-14\", \"2014-08-15\", \"2014-08-18\", \"2014-08-19\", \"2014-08-20\", \"2014-08-21\", \"2014-08-22\", \"2014-08-25\", \"2014-08-26\", \"2014-08-27\", \"2014-08-28\", \"2014-08-29\", \"2014-09-02\", \"2014-09-03\", \"2014-09-04\", \"2014-09-05\", \"2014-09-08\", \"2014-09-09\", \"2014-09-10\", \"2014-09-11\", \"2014-09-12\", \"2014-09-15\", \"2014-09-16\", \"2014-09-17\", \"2014-09-18\", \"2014-09-19\", \"2014-09-22\", \"2014-09-23\", \"2014-09-24\", \"2014-09-25\", \"2014-09-26\", \"2014-09-29\", \"2014-09-30\", \"2014-10-01\", \"2014-10-02\", \"2014-10-03\", \"2014-10-06\", \"2014-10-07\", \"2014-10-08\", \"2014-10-09\", \"2014-10-10\", \"2014-10-13\", \"2014-10-14\", \"2014-10-15\", \"2014-10-16\", \"2014-10-17\", \"2014-10-20\", \"2014-10-21\", \"2014-10-22\", \"2014-10-23\", \"2014-10-24\", \"2014-10-27\", \"2014-10-28\", \"2014-10-29\", \"2014-10-30\", \"2014-10-31\", \"2014-11-03\", \"2014-11-04\", \"2014-11-05\", \"2014-11-06\", \"2014-11-07\", \"2014-11-10\", \"2014-11-11\", \"2014-11-12\", \"2014-11-13\", \"2014-11-14\", \"2014-11-17\", \"2014-11-18\", \"2014-11-19\", \"2014-11-20\", \"2014-11-21\", \"2014-11-24\", \"2014-11-25\", \"2014-11-26\", \"2014-11-28\", \"2014-12-01\", \"2014-12-02\", \"2014-12-03\", \"2014-12-04\", \"2014-12-05\", \"2014-12-08\", \"2014-12-09\", \"2014-12-10\", \"2014-12-11\", \"2014-12-12\", \"2014-12-15\", \"2014-12-16\", \"2014-12-17\", \"2014-12-18\", \"2014-12-19\", \"2014-12-22\", \"2014-12-23\", \"2014-12-24\", \"2014-12-26\", \"2014-12-29\", \"2014-12-30\", \"2014-12-31\", \"2015-01-02\", \"2015-01-05\", \"2015-01-06\", \"2015-01-07\", \"2015-01-08\", \"2015-01-09\", \"2015-01-12\", \"2015-01-13\", \"2015-01-14\", \"2015-01-15\", \"2015-01-16\", \"2015-01-20\", \"2015-01-21\", \"2015-01-22\", \"2015-01-23\", \"2015-01-26\", \"2015-01-27\", \"2015-01-28\", \"2015-01-29\", \"2015-01-30\", \"2015-02-02\", \"2015-02-03\", \"2015-02-04\", \"2015-02-05\", \"2015-02-06\", \"2015-02-09\", \"2015-02-10\", \"2015-02-11\", \"2015-02-12\", \"2015-02-13\", \"2015-02-17\", \"2015-02-18\", \"2015-02-19\", \"2015-02-20\", \"2015-02-23\", \"2015-02-24\", \"2015-02-25\", \"2015-02-26\", \"2015-02-27\", \"2015-03-02\", \"2015-03-03\", \"2015-03-04\", \"2015-03-05\", \"2015-03-06\", \"2015-03-09\", \"2015-03-10\", \"2015-03-11\", \"2015-03-12\", \"2015-03-13\", \"2015-03-16\", \"2015-03-17\", \"2015-03-18\", \"2015-03-19\", \"2015-03-20\", \"2015-03-23\", \"2015-03-24\", \"2015-03-25\", \"2015-03-26\", \"2015-03-27\", \"2015-03-30\", \"2015-03-31\", \"2015-04-01\", \"2015-04-02\", \"2015-04-06\", \"2015-04-07\", \"2015-04-08\", \"2015-04-09\", \"2015-04-10\", \"2015-04-13\", \"2015-04-14\", \"2015-04-15\", \"2015-04-16\", \"2015-04-17\", \"2015-04-20\", \"2015-04-21\", \"2015-04-22\", \"2015-04-23\", \"2015-04-24\", \"2015-04-27\", \"2015-04-28\", \"2015-04-29\", \"2015-04-30\", \"2015-05-01\", \"2015-05-04\", \"2015-05-05\", \"2015-05-06\", \"2015-05-07\", \"2015-05-08\", \"2015-05-11\", \"2015-05-12\", \"2015-05-13\", \"2015-05-14\", \"2015-05-15\", \"2015-05-18\", \"2015-05-19\", \"2015-05-20\", \"2015-05-21\", \"2015-05-22\", \"2015-05-26\", \"2015-05-27\", \"2015-05-28\", \"2015-05-29\", \"2015-06-01\", \"2015-06-02\", \"2015-06-03\", \"2015-06-04\", \"2015-06-05\", \"2015-06-08\", \"2015-06-09\", \"2015-06-10\", \"2015-06-11\", \"2015-06-12\", \"2015-06-15\", \"2015-06-16\", \"2015-06-17\", \"2015-06-18\", \"2015-06-19\", \"2015-06-22\", \"2015-06-23\", \"2015-06-24\", \"2015-06-25\", \"2015-06-26\", \"2015-06-29\", \"2015-06-30\", \"2015-07-01\", \"2015-07-02\", \"2015-07-06\", \"2015-07-07\", \"2015-07-08\", \"2015-07-09\", \"2015-07-10\", \"2015-07-13\", \"2015-07-14\", \"2015-07-15\", \"2015-07-16\", \"2015-07-17\", \"2015-07-20\", \"2015-07-21\", \"2015-07-22\", \"2015-07-23\", \"2015-07-24\", \"2015-07-27\", \"2015-07-28\", \"2015-07-29\", \"2015-07-30\", \"2015-07-31\", \"2015-08-03\", \"2015-08-04\", \"2015-08-05\", \"2015-08-06\", \"2015-08-07\", \"2015-08-10\", \"2015-08-11\", \"2015-08-12\", \"2015-08-13\", \"2015-08-14\", \"2015-08-17\", \"2015-08-18\", \"2015-08-19\", \"2015-08-20\", \"2015-08-21\", \"2015-08-24\", \"2015-08-25\", \"2015-08-26\", \"2015-08-27\", \"2015-08-28\", \"2015-08-31\", \"2015-09-01\", \"2015-09-02\", \"2015-09-03\", \"2015-09-04\", \"2015-09-08\", \"2015-09-09\", \"2015-09-10\", \"2015-09-11\", \"2015-09-14\", \"2015-09-15\", \"2015-09-16\", \"2015-09-17\", \"2015-09-18\", \"2015-09-21\", \"2015-09-22\", \"2015-09-23\", \"2015-09-24\", \"2015-09-25\", \"2015-09-28\", \"2015-09-29\", \"2015-09-30\", \"2015-10-01\", \"2015-10-02\", \"2015-10-05\", \"2015-10-06\", \"2015-10-07\", \"2015-10-08\", \"2015-10-09\", \"2015-10-12\", \"2015-10-13\", \"2015-10-14\", \"2015-10-15\", \"2015-10-16\", \"2015-10-19\", \"2015-10-20\", \"2015-10-21\", \"2015-10-22\", \"2015-10-23\", \"2015-10-26\", \"2015-10-27\", \"2015-10-28\", \"2015-10-29\", \"2015-10-30\", \"2015-11-02\", \"2015-11-03\", \"2015-11-04\", \"2015-11-05\", \"2015-11-06\", \"2015-11-09\", \"2015-11-10\", \"2015-11-11\", \"2015-11-12\", \"2015-11-13\", \"2015-11-16\", \"2015-11-17\", \"2015-11-18\", \"2015-11-19\", \"2015-11-20\", \"2015-11-23\", \"2015-11-24\", \"2015-11-25\", \"2015-11-27\", \"2015-11-30\", \"2015-12-01\", \"2015-12-02\", \"2015-12-03\", \"2015-12-04\", \"2015-12-07\", \"2015-12-08\", \"2015-12-09\", \"2015-12-10\", \"2015-12-11\", \"2015-12-14\", \"2015-12-15\", \"2015-12-16\", \"2015-12-17\", \"2015-12-18\", \"2015-12-21\", \"2015-12-22\", \"2015-12-23\", \"2015-12-24\", \"2015-12-28\", \"2015-12-29\", \"2015-12-30\", \"2015-12-31\", \"2016-01-04\", \"2016-01-05\", \"2016-01-06\", \"2016-01-07\", \"2016-01-08\", \"2016-01-11\", \"2016-01-12\", \"2016-01-13\", \"2016-01-14\", \"2016-01-15\", \"2016-01-19\", \"2016-01-20\", \"2016-01-21\", \"2016-01-22\", \"2016-01-25\", \"2016-01-26\", \"2016-01-27\", \"2016-01-28\", \"2016-01-29\", \"2016-02-01\", \"2016-02-02\", \"2016-02-03\", \"2016-02-04\", \"2016-02-05\", \"2016-02-08\", \"2016-02-09\", \"2016-02-10\", \"2016-02-11\", \"2016-02-12\", \"2016-02-16\", \"2016-02-17\", \"2016-02-18\", \"2016-02-19\", \"2016-02-22\", \"2016-02-23\", \"2016-02-24\", \"2016-02-25\", \"2016-02-26\", \"2016-02-29\", \"2016-03-01\", \"2016-03-02\", \"2016-03-03\", \"2016-03-04\", \"2016-03-07\", \"2016-03-08\", \"2016-03-09\", \"2016-03-10\", \"2016-03-11\", \"2016-03-14\", \"2016-03-15\", \"2016-03-16\", \"2016-03-17\", \"2016-03-18\", \"2016-03-21\", \"2016-03-22\", \"2016-03-23\", \"2016-03-24\", \"2016-03-28\", \"2016-03-29\", \"2016-03-30\", \"2016-03-31\", \"2016-04-01\", \"2016-04-04\", \"2016-04-05\", \"2016-04-06\", \"2016-04-07\", \"2016-04-08\", \"2016-04-11\", \"2016-04-12\", \"2016-04-13\", \"2016-04-14\", \"2016-04-15\", \"2016-04-18\", \"2016-04-19\", \"2016-04-20\", \"2016-04-21\", \"2016-04-22\", \"2016-04-25\", \"2016-04-26\", \"2016-04-27\", \"2016-04-28\", \"2016-04-29\", \"2016-05-02\", \"2016-05-03\", \"2016-05-04\", \"2016-05-05\", \"2016-05-06\", \"2016-05-09\", \"2016-05-10\", \"2016-05-11\", \"2016-05-12\", \"2016-05-13\", \"2016-05-16\", \"2016-05-17\", \"2016-05-18\", \"2016-05-19\", \"2016-05-20\", \"2016-05-23\", \"2016-05-24\", \"2016-05-25\", \"2016-05-26\", \"2016-05-27\", \"2016-05-31\", \"2016-06-01\", \"2016-06-02\", \"2016-06-03\", \"2016-06-06\", \"2016-06-07\", \"2016-06-08\", \"2016-06-09\", \"2016-06-10\", \"2016-06-13\", \"2016-06-14\", \"2016-06-15\", \"2016-06-16\", \"2016-06-17\", \"2016-06-20\", \"2016-06-21\", \"2016-06-22\", \"2016-06-23\", \"2016-06-24\", \"2016-06-27\", \"2016-06-28\", \"2016-06-29\", \"2016-06-30\", \"2016-07-01\", \"2016-07-05\", \"2016-07-06\", \"2016-07-07\", \"2016-07-08\", \"2016-07-11\", \"2016-07-12\", \"2016-07-13\", \"2016-07-14\", \"2016-07-15\", \"2016-07-18\", \"2016-07-19\", \"2016-07-20\", \"2016-07-21\", \"2016-07-22\", \"2016-07-25\", \"2016-07-26\", \"2016-07-27\", \"2016-07-28\", \"2016-07-29\", \"2016-08-01\", \"2016-08-02\", \"2016-08-03\", \"2016-08-04\", \"2016-08-05\", \"2016-08-08\", \"2016-08-09\", \"2016-08-10\", \"2016-08-11\", \"2016-08-12\", \"2016-08-15\", \"2016-08-16\", \"2016-08-17\", \"2016-08-18\", \"2016-08-19\", \"2016-08-22\", \"2016-08-23\", \"2016-08-24\", \"2016-08-25\", \"2016-08-26\", \"2016-08-29\", \"2016-08-30\", \"2016-08-31\", \"2016-09-01\", \"2016-09-02\", \"2016-09-06\", \"2016-09-07\", \"2016-09-08\", \"2016-09-12\", \"2016-09-13\", \"2016-09-14\", \"2016-09-15\", \"2016-09-16\", \"2016-09-20\", \"2016-09-21\", \"2016-09-22\", \"2016-09-23\", \"2016-09-26\", \"2016-09-27\", \"2016-09-28\", \"2016-09-29\", \"2016-09-30\", \"2016-10-03\", \"2016-10-04\", \"2016-10-05\", \"2016-10-06\", \"2016-10-07\", \"2016-10-10\", \"2016-10-11\", \"2016-10-12\", \"2016-10-13\", \"2016-10-14\", \"2016-10-17\", \"2016-10-18\", \"2016-10-19\", \"2016-10-20\", \"2016-10-21\", \"2016-10-24\", \"2016-10-25\", \"2016-10-26\", \"2016-10-27\", \"2016-10-28\", \"2016-11-01\", \"2016-11-02\", \"2016-11-03\", \"2016-11-04\", \"2016-11-07\", \"2016-11-08\", \"2016-11-09\", \"2016-11-10\", \"2016-11-11\", \"2016-11-14\", \"2016-11-15\", \"2016-11-16\", \"2016-11-17\", \"2016-11-18\", \"2016-11-21\", \"2016-11-23\", \"2016-11-25\", \"2016-11-28\", \"2016-11-29\", \"2016-11-30\", \"2016-12-01\", \"2016-12-02\", \"2016-12-05\", \"2016-12-06\", \"2016-12-07\", \"2016-12-08\", \"2016-12-09\", \"2016-12-12\", \"2016-12-13\", \"2016-12-14\", \"2016-12-15\", \"2016-12-19\", \"2016-12-20\", \"2016-12-21\", \"2016-12-22\", \"2016-12-23\", \"2016-12-27\", \"2016-12-28\", \"2016-12-29\", \"2016-12-30\", \"2017-01-03\", \"2017-01-04\", \"2017-01-05\", \"2017-01-06\", \"2017-01-09\", \"2017-01-10\", \"2017-01-11\", \"2017-01-12\", \"2017-01-13\", \"2017-01-17\", \"2017-01-18\", \"2017-01-19\", \"2017-01-20\", \"2017-01-23\", \"2017-01-24\", \"2017-01-25\", \"2017-01-26\", \"2017-01-27\", \"2017-01-30\", \"2017-01-31\", \"2017-02-01\", \"2017-02-02\", \"2017-02-03\", \"2017-02-06\", \"2017-02-07\", \"2017-02-08\", \"2017-02-09\", \"2017-02-10\", \"2017-02-13\", \"2017-02-14\", \"2017-02-15\", \"2017-02-16\", \"2017-02-17\", \"2017-02-21\", \"2017-02-22\", \"2017-02-23\", \"2017-02-24\", \"2017-02-27\", \"2017-02-28\", \"2017-03-01\", \"2017-03-02\", \"2017-03-03\", \"2017-03-06\", \"2017-03-07\", \"2017-03-08\", \"2017-03-09\", \"2017-03-10\", \"2017-03-13\", \"2017-03-14\", \"2017-03-15\", \"2017-03-16\", \"2017-03-17\", \"2017-03-20\", \"2017-03-21\", \"2017-03-22\", \"2017-03-23\", \"2017-03-24\", \"2017-03-27\", \"2017-03-28\", \"2017-03-29\", \"2017-03-30\", \"2017-03-31\", \"2017-04-03\", \"2017-04-04\", \"2017-04-05\", \"2017-04-06\", \"2017-04-07\", \"2017-04-10\", \"2017-04-11\", \"2017-04-13\", \"2017-04-17\", \"2017-04-18\", \"2017-04-19\", \"2017-04-20\", \"2017-04-21\", \"2017-04-24\", \"2017-04-25\", \"2017-04-26\", \"2017-04-27\", \"2017-04-28\", \"2017-05-01\", \"2017-05-02\", \"2017-05-03\", \"2017-05-04\", \"2017-05-05\", \"2017-05-08\", \"2017-05-09\", \"2017-05-10\", \"2017-05-11\", \"2017-05-12\", \"2017-05-15\", \"2017-05-16\", \"2017-05-17\", \"2017-05-18\", \"2017-05-19\", \"2017-05-22\", \"2017-05-23\", \"2017-05-24\", \"2017-05-25\", \"2017-05-26\", \"2017-05-30\", \"2017-05-31\", \"2017-06-01\", \"2017-06-02\", \"2017-06-05\", \"2017-06-06\", \"2017-06-07\", \"2017-06-08\", \"2017-06-09\", \"2017-06-12\", \"2017-06-13\", \"2017-06-14\", \"2017-06-15\", \"2017-06-16\", \"2017-06-19\", \"2017-06-20\", \"2017-06-21\", \"2017-06-22\", \"2017-06-23\", \"2017-06-26\", \"2017-06-27\", \"2017-06-28\", \"2017-06-29\", \"2017-06-30\", \"2017-07-03\", \"2017-07-05\", \"2017-07-06\", \"2017-07-07\", \"2017-07-10\", \"2017-07-11\", \"2017-07-12\", \"2017-07-13\", \"2017-07-14\", \"2017-07-17\", \"2017-07-18\", \"2017-07-19\", \"2017-07-20\", \"2017-07-21\", \"2017-07-24\", \"2017-07-25\", \"2017-07-26\", \"2017-07-27\", \"2017-07-28\", \"2017-07-31\", \"2017-08-01\", \"2017-08-02\", \"2017-08-03\", \"2017-08-07\", \"2017-08-08\", \"2017-08-09\", \"2017-08-10\", \"2017-08-11\", \"2017-08-14\", \"2017-08-15\", \"2017-08-16\", \"2017-08-17\", \"2017-08-18\", \"2017-08-21\", \"2017-08-22\", \"2017-08-23\", \"2017-08-24\", \"2017-08-25\", \"2017-08-28\", \"2017-08-29\", \"2017-08-30\", \"2017-08-31\", \"2017-09-01\", \"2017-09-05\", \"2017-09-06\", \"2017-09-07\", \"2017-09-08\", \"2017-09-11\", \"2017-09-12\", \"2017-09-13\", \"2017-09-14\", \"2017-09-15\", \"2017-09-18\", \"2017-09-19\", \"2017-09-20\", \"2017-09-21\", \"2017-09-22\", \"2017-09-25\", \"2017-09-26\", \"2017-09-27\", \"2017-09-28\", \"2017-09-29\", \"2017-10-02\", \"2017-10-03\", \"2017-10-04\", \"2017-10-05\", \"2017-10-06\", \"2017-10-09\", \"2017-10-10\", \"2017-10-11\", \"2017-10-12\", \"2017-10-13\", \"2017-10-16\", \"2017-10-18\", \"2017-10-19\", \"2017-10-20\", \"2017-10-23\", \"2017-10-24\", \"2017-10-25\", \"2017-10-26\", \"2017-10-27\", \"2017-10-30\", \"2017-10-31\", \"2017-11-01\", \"2017-11-02\", \"2017-11-03\", \"2017-11-06\", \"2017-11-07\", \"2017-11-08\", \"2017-11-09\", \"2017-11-10\", \"2017-11-13\", \"2017-11-14\", \"2017-11-15\", \"2017-11-16\", \"2017-11-17\", \"2017-11-20\", \"2017-11-21\", \"2017-11-22\", \"2017-11-24\", \"2017-11-27\", \"2017-11-28\", \"2017-11-29\", \"2017-11-30\", \"2017-12-01\", \"2017-12-04\", \"2017-12-05\", \"2017-12-06\", \"2017-12-07\", \"2017-12-08\", \"2017-12-11\", \"2017-12-12\", \"2017-12-13\", \"2017-12-14\", \"2017-12-15\", \"2017-12-18\", \"2017-12-19\", \"2017-12-20\", \"2017-12-21\", \"2017-12-22\", \"2017-12-26\", \"2017-12-27\", \"2017-12-28\", \"2017-12-29\", \"2018-01-02\", \"2018-01-03\", \"2018-01-04\", \"2018-01-05\", \"2018-01-08\", \"2018-01-09\", \"2018-01-10\", \"2018-01-11\", \"2018-01-12\", \"2018-01-16\", \"2018-01-17\", \"2018-01-18\", \"2018-01-19\", \"2018-01-22\", \"2018-01-23\", \"2018-01-24\", \"2018-01-25\", \"2018-01-26\", \"2018-01-29\", \"2018-01-30\", \"2018-01-31\", \"2018-02-01\", \"2018-02-02\", \"2018-02-05\", \"2018-02-06\", \"2018-02-07\", \"2018-02-08\", \"2018-02-09\", \"2018-02-12\", \"2018-02-13\", \"2018-02-14\", \"2018-02-15\", \"2018-02-16\", \"2018-02-20\", \"2018-02-21\", \"2018-02-22\", \"2018-02-23\", \"2018-02-26\", \"2018-02-27\", \"2018-02-28\", \"2018-03-01\", \"2018-03-02\", \"2018-03-05\", \"2018-03-06\", \"2018-03-07\", \"2018-03-08\", \"2018-03-09\", \"2018-03-12\", \"2018-03-13\", \"2018-03-14\", \"2018-03-15\", \"2018-03-16\", \"2018-03-19\", \"2018-03-20\", \"2018-03-21\", \"2018-03-22\", \"2018-03-23\", \"2018-03-26\", \"2018-03-27\", \"2018-03-28\", \"2018-03-29\", \"2018-04-02\", \"2018-04-03\", \"2018-04-04\", \"2018-04-05\", \"2018-04-06\", \"2018-04-09\", \"2018-04-10\", \"2018-04-11\", \"2018-04-12\", \"2018-04-13\", \"2018-04-16\", \"2018-04-17\", \"2018-04-18\", \"2018-04-19\", \"2018-04-20\", \"2018-04-23\", \"2018-04-24\", \"2018-04-25\", \"2018-04-26\", \"2018-04-27\", \"2018-04-30\", \"2018-05-01\", \"2018-05-02\", \"2018-05-03\", \"2018-05-04\", \"2018-05-07\", \"2018-05-08\", \"2018-05-09\", \"2018-05-10\", \"2018-05-11\", \"2018-05-14\", \"2018-05-15\", \"2018-05-16\", \"2018-05-17\", \"2018-05-21\", \"2018-05-22\", \"2018-05-23\", \"2018-05-24\", \"2018-05-25\", \"2018-05-29\", \"2018-05-30\", \"2018-05-31\", \"2018-06-01\", \"2018-06-04\", \"2018-06-05\", \"2018-06-06\", \"2018-06-07\", \"2018-06-08\", \"2018-06-11\", \"2018-06-12\", \"2018-06-13\", \"2018-06-14\", \"2018-06-15\", \"2018-06-18\", \"2018-06-19\", \"2018-06-20\", \"2018-06-21\", \"2018-06-22\", \"2018-06-25\", \"2018-06-26\", \"2018-06-27\", \"2018-06-28\", \"2018-06-29\", \"2018-07-02\", \"2018-07-03\", \"2018-07-05\", \"2018-07-06\", \"2018-07-09\", \"2018-07-10\", \"2018-07-11\", \"2018-07-12\", \"2018-07-13\", \"2018-07-16\", \"2018-07-17\", \"2018-07-18\", \"2018-07-19\", \"2018-07-20\", \"2018-07-23\", \"2018-07-24\", \"2018-07-25\", \"2018-07-26\", \"2018-07-27\", \"2018-07-30\", \"2018-07-31\", \"2018-08-01\", \"2018-08-02\", \"2018-08-03\", \"2018-08-06\", \"2018-08-07\", \"2018-08-08\", \"2018-08-09\", \"2018-08-10\", \"2018-08-13\", \"2018-08-14\", \"2018-08-15\", \"2018-08-16\", \"2018-08-17\", \"2018-08-20\", \"2018-08-21\", \"2018-08-22\", \"2018-08-23\", \"2018-08-24\", \"2018-08-27\", \"2018-08-28\", \"2018-08-29\", \"2018-08-30\", \"2018-08-31\", \"2018-09-04\", \"2018-09-05\", \"2018-09-06\", \"2018-09-07\", \"2018-09-10\", \"2018-09-11\", \"2018-09-12\", \"2018-09-13\", \"2018-09-14\", \"2018-09-17\", \"2018-09-18\", \"2018-09-19\", \"2018-09-20\", \"2018-09-21\", \"2018-09-24\", \"2018-09-25\", \"2018-09-26\", \"2018-09-27\", \"2018-09-28\", \"2018-10-01\", \"2018-10-02\", \"2018-10-03\", \"2018-10-04\", \"2018-10-05\", \"2018-10-08\", \"2018-10-09\", \"2018-10-10\", \"2018-10-11\", \"2018-10-12\", \"2018-10-15\", \"2018-10-16\", \"2018-10-17\", \"2018-10-18\", \"2018-10-19\", \"2018-10-22\", \"2018-10-23\", \"2018-10-24\", \"2018-10-25\", \"2018-10-26\", \"2018-10-29\", \"2018-10-30\", \"2018-10-31\", \"2018-11-01\", \"2018-11-02\", \"2018-11-05\", \"2018-11-06\", \"2018-11-07\", \"2018-11-08\", \"2018-11-09\", \"2018-11-12\", \"2018-11-13\", \"2018-11-14\", \"2018-11-15\", \"2018-11-16\", \"2018-11-19\", \"2018-11-20\", \"2018-11-21\", \"2018-11-26\", \"2018-11-27\", \"2018-11-28\", \"2018-11-29\", \"2018-11-30\", \"2018-12-03\", \"2018-12-04\", \"2018-12-06\", \"2018-12-07\", \"2018-12-10\", \"2018-12-11\", \"2018-12-12\", \"2018-12-13\", \"2018-12-14\", \"2018-12-17\", \"2018-12-18\", \"2018-12-19\", \"2018-12-20\", \"2018-12-21\", \"2018-12-24\", \"2018-12-26\", \"2018-12-27\", \"2018-12-28\", \"2018-12-31\", \"2019-01-02\", \"2019-01-03\", \"2019-01-04\", \"2019-01-07\", \"2019-01-08\", \"2019-01-09\", \"2019-01-10\", \"2019-01-11\", \"2019-01-14\", \"2019-01-15\", \"2019-01-16\", \"2019-01-17\", \"2019-01-18\", \"2019-01-22\", \"2019-01-23\", \"2019-01-24\", \"2019-01-25\", \"2019-01-28\", \"2019-01-29\", \"2019-01-30\", \"2019-01-31\", \"2019-02-01\", \"2019-02-04\", \"2019-02-05\", \"2019-02-06\", \"2019-02-07\", \"2019-02-08\", \"2019-02-11\", \"2019-02-12\", \"2019-02-13\", \"2019-02-14\", \"2019-02-15\", \"2019-02-19\", \"2019-02-20\", \"2019-02-21\", \"2019-02-22\", \"2019-02-25\", \"2019-02-26\", \"2019-02-27\", \"2019-02-28\", \"2019-03-01\", \"2019-03-04\", \"2019-03-05\", \"2019-03-06\", \"2019-03-07\", \"2019-03-08\", \"2019-03-11\", \"2019-03-12\", \"2019-03-13\", \"2019-03-14\", \"2019-03-15\", \"2019-03-18\", \"2019-03-19\", \"2019-03-20\", \"2019-03-21\", \"2019-03-22\", \"2019-03-25\", \"2019-03-26\", \"2019-03-27\", \"2019-03-28\", \"2019-03-29\", \"2019-04-01\", \"2019-04-02\", \"2019-04-03\", \"2019-04-04\", \"2019-04-05\", \"2019-04-08\", \"2019-04-09\", \"2019-04-10\", \"2019-04-11\", \"2019-04-12\", \"2019-04-15\", \"2019-04-16\", \"2019-04-17\", \"2019-04-18\", \"2019-04-22\", \"2019-04-23\", \"2019-04-24\", \"2019-04-25\", \"2019-04-26\", \"2019-04-29\", \"2019-04-30\", \"2019-05-01\", \"2019-05-02\", \"2019-05-03\", \"2019-05-06\", \"2019-05-07\", \"2019-05-08\", \"2019-05-09\", \"2019-05-10\", \"2019-05-13\", \"2019-05-14\", \"2019-05-15\", \"2019-05-16\", \"2019-05-17\", \"2019-05-20\", \"2019-05-21\", \"2019-05-22\", \"2019-05-23\", \"2019-05-24\", \"2019-05-28\", \"2019-05-29\", \"2019-05-30\", \"2019-05-31\", \"2019-06-03\", \"2019-06-04\", \"2019-06-05\", \"2019-06-06\", \"2019-06-07\", \"2019-06-10\", \"2019-06-11\", \"2019-06-12\", \"2019-06-13\", \"2019-06-14\", \"2019-06-17\", \"2019-06-18\", \"2019-06-19\", \"2019-06-20\", \"2019-06-21\", \"2019-06-24\", \"2019-06-25\", \"2019-06-26\", \"2019-06-27\", \"2019-06-28\", \"2019-07-01\", \"2019-07-02\", \"2019-07-03\", \"2019-07-05\", \"2019-07-08\", \"2019-07-09\", \"2019-07-10\", \"2019-07-11\", \"2019-07-12\", \"2019-07-15\", \"2019-07-16\", \"2019-07-17\", \"2019-07-18\", \"2019-07-19\", \"2019-07-22\", \"2019-07-23\", \"2019-07-24\", \"2019-07-25\", \"2019-07-26\", \"2019-07-29\", \"2019-07-30\", \"2019-07-31\", \"2019-08-01\", \"2019-08-02\", \"2019-08-05\", \"2019-08-06\", \"2019-08-07\", \"2019-08-08\", \"2019-08-09\", \"2019-08-12\", \"2019-08-13\", \"2019-08-14\", \"2019-08-15\", \"2019-08-16\", \"2019-08-19\", \"2019-08-20\", \"2019-08-21\", \"2019-08-22\", \"2019-08-23\", \"2019-08-26\", \"2019-08-27\", \"2019-08-28\", \"2019-08-29\", \"2019-08-30\", \"2019-09-03\", \"2019-09-04\", \"2019-09-05\", \"2019-09-06\", \"2019-09-09\", \"2019-09-10\", \"2019-09-11\", \"2019-09-12\", \"2019-09-13\", \"2019-09-16\", \"2019-09-17\", \"2019-09-18\", \"2019-09-19\", \"2019-09-20\", \"2019-09-23\", \"2019-09-24\", \"2019-09-25\", \"2019-09-26\", \"2019-09-27\", \"2019-09-30\", \"2019-10-01\", \"2019-10-02\", \"2019-10-03\", \"2019-10-04\", \"2019-10-07\", \"2019-10-08\", \"2019-10-09\", \"2019-10-10\", \"2019-10-11\", \"2019-10-14\", \"2019-10-15\", \"2019-10-16\", \"2019-10-17\", \"2019-10-18\", \"2019-10-21\", \"2019-10-22\", \"2019-10-23\", \"2019-10-24\", \"2019-10-25\", \"2019-10-28\", \"2019-10-29\", \"2019-10-30\", \"2019-10-31\", \"2019-11-01\", \"2019-11-04\", \"2019-11-05\", \"2019-11-06\", \"2019-11-07\", \"2019-11-08\", \"2019-11-11\", \"2019-11-12\", \"2019-11-13\", \"2019-11-14\", \"2019-11-15\", \"2019-11-18\", \"2019-11-19\", \"2019-11-20\", \"2019-11-21\", \"2019-11-22\", \"2019-11-25\", \"2019-11-26\", \"2019-11-27\", \"2019-11-29\", \"2019-12-02\", \"2019-12-03\", \"2019-12-04\", \"2019-12-05\", \"2019-12-06\", \"2019-12-09\", \"2019-12-10\", \"2019-12-11\", \"2019-12-12\", \"2019-12-13\", \"2019-12-16\", \"2019-12-17\", \"2019-12-18\", \"2019-12-19\", \"2019-12-20\", \"2019-12-23\", \"2019-12-24\", \"2019-12-26\", \"2019-12-27\", \"2019-12-30\", \"2019-12-31\", \"2020-01-02\", \"2020-01-03\", \"2020-01-06\", \"2020-01-07\", \"2020-01-08\", \"2020-01-09\", \"2020-01-10\", \"2020-01-13\", \"2020-01-14\", \"2020-01-15\", \"2020-01-16\", \"2020-01-17\", \"2020-01-21\", \"2020-01-22\", \"2020-01-23\", \"2020-01-24\", \"2020-01-27\", \"2020-01-28\", \"2020-01-29\", \"2020-01-30\", \"2020-01-31\", \"2020-02-03\", \"2020-02-04\", \"2020-02-05\", \"2020-02-06\", \"2020-02-07\", \"2020-02-10\", \"2020-02-11\", \"2020-02-12\", \"2020-02-13\", \"2020-02-14\", \"2020-02-18\", \"2020-02-19\", \"2020-02-20\", \"2020-02-21\", \"2020-02-24\", \"2020-02-25\", \"2020-02-26\", \"2020-02-27\", \"2020-02-28\", \"2020-03-02\", \"2020-03-03\", \"2020-03-04\", \"2020-03-05\", \"2020-03-06\", \"2020-03-09\", \"2020-03-10\", \"2020-03-11\", \"2020-03-12\", \"2020-03-13\", \"2020-03-16\", \"2020-03-17\", \"2020-03-18\", \"2020-03-19\", \"2020-03-20\", \"2020-03-23\", \"2020-03-24\", \"2020-03-25\", \"2020-03-26\", \"2020-03-27\", \"2020-03-30\", \"2020-03-31\", \"2020-04-01\", \"2020-04-02\", \"2020-04-03\", \"2020-04-06\", \"2020-04-07\", \"2020-04-08\", \"2020-04-09\", \"2020-04-13\", \"2020-04-14\", \"2020-04-15\", \"2020-04-16\", \"2020-04-17\", \"2020-04-20\", \"2020-04-21\", \"2020-04-22\", \"2020-04-23\", \"2020-04-24\", \"2020-04-27\", \"2020-04-28\", \"2020-04-29\", \"2020-04-30\", \"2020-05-01\", \"2020-05-04\", \"2020-05-05\", \"2020-05-06\", \"2020-05-07\", \"2020-05-08\", \"2020-05-11\", \"2020-05-12\", \"2020-05-13\", \"2020-05-14\", \"2020-05-15\", \"2020-05-18\", \"2020-05-19\", \"2020-05-20\", \"2020-05-21\", \"2020-05-22\", \"2020-05-26\", \"2020-05-27\", \"2020-05-28\", \"2020-05-29\", \"2020-06-01\", \"2020-06-02\", \"2020-06-03\", \"2020-06-04\", \"2020-06-05\", \"2020-06-08\", \"2020-06-09\", \"2020-06-10\", \"2020-06-11\", \"2020-06-12\", \"2020-06-15\", \"2020-06-16\", \"2020-06-17\", \"2020-06-18\", \"2020-06-19\", \"2020-06-22\", \"2020-06-23\", \"2020-06-24\", \"2020-06-25\", \"2020-06-26\", \"2020-06-29\", \"2020-06-30\", \"2020-07-01\", \"2020-07-02\", \"2020-07-06\", \"2020-07-07\", \"2020-07-08\", \"2020-07-09\", \"2020-07-10\", \"2020-07-13\", \"2020-07-14\", \"2020-07-15\", \"2020-07-16\", \"2020-07-17\", \"2020-07-20\", \"2020-07-21\", \"2020-07-22\", \"2020-07-23\", \"2020-07-24\", \"2020-07-27\", \"2020-07-28\", \"2020-07-29\", \"2020-07-30\", \"2020-07-31\", \"2020-08-03\", \"2020-08-04\", \"2020-08-05\", \"2020-08-06\", \"2020-08-07\", \"2020-08-10\", \"2020-08-11\", \"2020-08-12\", \"2020-08-13\", \"2020-08-14\", \"2020-08-17\", \"2020-08-18\", \"2020-08-19\", \"2020-08-20\", \"2020-08-21\", \"2020-08-24\", \"2020-08-25\", \"2020-08-26\", \"2020-08-27\", \"2020-08-28\", \"2020-08-31\", \"2020-09-01\", \"2020-09-02\", \"2020-09-03\", \"2020-09-04\", \"2020-09-08\", \"2020-09-09\", \"2020-09-10\", \"2020-09-11\", \"2020-09-14\", \"2020-09-15\", \"2020-09-16\", \"2020-09-17\", \"2020-09-18\", \"2020-09-21\", \"2020-09-22\", \"2020-09-23\", \"2020-09-24\", \"2020-09-25\", \"2020-09-28\", \"2020-09-29\", \"2020-09-30\", \"2020-10-01\", \"2020-10-02\", \"2020-10-05\", \"2020-10-06\", \"2020-10-07\", \"2020-10-08\", \"2020-10-09\", \"2020-10-12\", \"2020-10-13\", \"2020-10-14\", \"2020-10-15\", \"2020-10-16\", \"2020-10-19\", \"2020-10-20\", \"2020-10-21\", \"2020-10-22\", \"2020-10-23\", \"2020-10-26\", \"2020-10-27\", \"2020-10-28\", \"2020-10-29\", \"2020-10-30\", \"2020-11-02\", \"2020-11-03\", \"2020-11-04\", \"2020-11-05\", \"2020-11-06\", \"2020-11-09\", \"2020-11-10\", \"2020-11-11\", \"2020-11-12\", \"2020-11-13\", \"2020-11-16\", \"2020-11-17\", \"2020-11-18\", \"2020-11-19\", \"2020-11-20\", \"2020-11-23\", \"2020-11-24\", \"2020-11-25\", \"2020-11-27\", \"2020-11-30\", \"2020-12-01\", \"2020-12-02\", \"2020-12-03\", \"2020-12-04\", \"2020-12-07\", \"2020-12-08\", \"2020-12-09\", \"2020-12-10\", \"2020-12-11\", \"2020-12-14\", \"2020-12-15\", \"2020-12-16\", \"2020-12-17\", \"2020-12-18\", \"2020-12-21\", \"2020-12-22\", \"2020-12-23\", \"2020-12-24\", \"2020-12-28\", \"2020-12-29\", \"2020-12-30\", \"2020-12-31\", \"2021-01-04\", \"2021-01-05\", \"2021-01-06\", \"2021-01-07\", \"2021-01-08\", \"2021-01-11\", \"2021-01-12\", \"2021-01-13\", \"2021-01-14\", \"2021-01-15\", \"2021-01-19\", \"2021-01-20\", \"2021-01-21\", \"2021-01-22\", \"2021-01-25\", \"2021-01-26\", \"2021-01-27\", \"2021-01-28\", \"2021-01-29\", \"2021-02-01\", \"2021-02-02\", \"2021-02-03\", \"2021-02-04\", \"2021-02-05\", \"2021-02-08\", \"2021-02-09\", \"2021-02-10\", \"2021-02-11\", \"2021-02-12\", \"2021-02-16\", \"2021-02-17\", \"2021-02-18\", \"2021-02-19\", \"2021-02-22\", \"2021-02-23\", \"2021-02-24\", \"2021-02-25\", \"2021-02-26\", \"2021-03-01\", \"2021-03-02\", \"2021-03-03\", \"2021-03-04\", \"2021-03-05\", \"2021-03-08\", \"2021-03-09\", \"2021-03-10\", \"2021-03-11\", \"2021-03-12\", \"2021-03-15\", \"2021-03-16\", \"2021-03-17\", \"2021-03-18\", \"2021-03-19\", \"2021-03-22\", \"2021-03-23\", \"2021-03-24\", \"2021-03-25\", \"2021-03-26\", \"2021-03-29\", \"2021-03-30\"], \"y\": [19.6904, 19.723, 19.5701, 19.8087, 19.7418, 19.5224, 19.4554, 19.4172, 19.3792, 19.2455, 19.4554, 19.5549, 19.5127, 18.9782, 19.1837, 19.2359, 19.2455, 19.4938, 19.6654, 19.8469, 19.4172, 19.2751, 19.2264, 19.4649, 19.6752, 19.5224, 19.7324, 19.8469, 19.8567, 19.724, 19.5607, 19.6655, 19.7514, 19.7324, 19.8469, 20.0245, 19.6752, 19.8765, 20.0759, 20.2193, 20.2576, 20.5248, 20.3662, 20.4882, 20.8166, 20.878, 20.9887, 20.8071, 20.683000000000003, 20.8838, 20.7897, 20.8838, 20.9121, 21.0548, 20.9694, 20.9017, 21.0728, 20.6733, 21.0062, 21.1608, 21.2848, 21.0937, 21.1702, 21.2332, 21.0948, 20.576, 20.3774, 20.6428, 20.3017, 20.9405, 20.9121, 20.4825, 20.7058, 20.6064, 20.6571, 21.0555, 21.0689, 21.1798, 21.2753, 21.6192, 21.7338, 21.8467, 21.7434, 21.8964, 21.9058, 22.116, 22.0967, 22.2401, 22.5839, 22.5077, 22.2781, 22.5649, 22.6318, 22.6041, 22.4311, 22.3835, 22.2117, 22.2781, 21.9438, 21.9533, 22.0967, 22.2401, 22.1348, 22.0872, 21.9115, 21.473000000000003, 21.5114, 21.1097, 21.1001, 21.1891, 21.3105, 21.7405, 21.6641, 21.1097, 20.6606, 20.2595, 20.4408, 20.9281, 20.2595, 19.9248, 20.0683, 20.230999999999998, 20.4633, 20.6128, 20.6606, 21.0143, 20.7464, 20.5939, 20.1828, 19.9957, 20.2705, 20.2784, 20.4599, 20.4891, 20.4599, 20.1545, 19.7814, 19.6765, 19.6476, 20.1753, 20.0491, 19.9534, 19.7527, 19.8865, 20.0491, 19.9381, 20.0587, 20.1504, 20.2688, 20.5026, 20.5468, 20.5459, 20.393, 20.3677, 20.418, 20.5889, 20.7598, 20.8709, 20.9682, 21.0908, 21.1001, 21.0718, 21.1479, 21.2727, 21.4634, 21.6128, 21.5552, 21.5751, 21.7378, 21.5275, 21.6613, 21.824, 21.7972, 21.9098, 22.0936, 22.0057, 22.025, 21.6867, 21.1734, 21.2786, 21.1926, 21.1888, 21.2796, 21.0586, 21.135, 20.8385, 21.1159, 21.2499, 21.3648, 21.3745, 21.5379, 21.4219, 21.3455, 21.3649, 21.8048, 21.3832, 21.1274, 21.3464, 21.0776, 21.0011, 20.9628, 21.0948, 21.2882, 21.2403, 21.355999999999998, 21.47, 21.518, 21.6857, 21.843000000000004, 21.9386, 21.893, 22.0153, 22.0451, 22.2449, 22.2927, 22.2831, 22.486, 22.614, 22.4744, 22.3543, 22.5511, 22.733, 22.5511, 22.7233, 22.7805, 22.6031, 22.1395, 22.3584, 22.4457, 22.4782, 22.5613, 22.1687, 22.0348, 22.1879, 21.8338, 21.9973, 22.092, 21.9973, 21.4986, 21.7402, 21.989, 21.872, 21.6038, 21.8419, 21.4889, 20.8079, 20.2831, 20.3309, 20.4267, 20.666, 20.9435, 21.1925, 21.6516, 21.336, 21.7161, 21.8242, 21.7646, 21.9198, 21.6806, 21.8254, 22.006, 22.0825, 22.1209, 22.1209, 22.3986, 22.5168, 22.5573, 22.676, 22.8458, 22.5899, 22.7909, 22.7189, 22.7601, 22.5133, 22.6818, 22.8291, 23.0015, 22.8484, 22.9622, 22.7716, 22.2549, 22.4606, 22.5993, 22.427, 22.3602, 22.0626, 22.2403, 21.8242, 21.9216, 21.853, 21.6038, 21.441, 21.9485, 22.3601, 22.5523, 22.7054, 22.6178, 22.7307, 22.7355, 22.653000000000002, 22.4416, 22.3353, 22.2362, 21.9229, 22.0407, 22.0797, 22.5399, 22.5788, 22.2461, 22.1972, 22.109, 21.6313, 21.8536, 21.9327, 22.0308, 22.3635, 22.4126, 22.6473, 22.4907, 22.099, 21.9112, 21.6933, 21.649, 22.3341, 22.3831, 22.5689, 22.7745, 22.6767, 22.8941, 23.1018, 23.4009, 23.4891, 23.5225, 23.5967, 23.714000000000002, 23.7728, 23.6066, 23.576999999999998, 23.6553, 23.7435, 23.5868, 23.6849, 23.625, 23.6652, 23.724, 23.4205, 23.5007, 23.22, 23.2637, 23.538, 23.3423, 23.636, 23.7337, 23.9979, 24.0626, 24.1257, 24.0574, 24.1746, 23.7889, 23.7244, 23.8615, 23.9749, 23.9102, 23.7144, 23.8016, 23.9494, 24.0864, 24.3804, 24.3696, 24.3705, 24.3704, 24.3019, 24.5373, 24.5908, 24.1552, 24.298000000000002, 24.4096, 24.4586, 24.5487, 24.5859, 24.5076, 24.1539, 23.7439, 23.5675, 23.6469, 23.6852, 23.3365, 23.3451, 23.6203, 23.9005, 23.8712, 23.8563, 23.9004, 24.0278, 24.0375, 24.0278, 24.1432, 24.2223, 24.3457, 24.4289, 24.1946, 24.2238, 24.236, 24.1158, 24.2822, 24.2324, 24.3863, 24.2061, 24.3805, 24.1713, 24.1657, 24.2628, 24.2769, 24.2911, 24.2238, 24.2725, 24.3019, 24.4489, 24.4389, 24.3804, 24.3313, 24.1257, 24.1747, 23.9309, 23.384, 23.6459, 23.6645, 23.5481, 23.3248, 23.3817, 22.9409, 23.2774, 23.4794, 23.822, 24.0082, 23.822, 23.9912, 24.0278, 24.0375, 24.0152, 24.105999999999998, 23.9691, 23.7047, 23.2055, 23.558000000000003, 23.558000000000003, 23.5481, 23.5409, 23.3031, 23.2995, 23.2884, 22.9018, 22.7354, 23.0976, 22.6108, 22.421999999999997, 22.4414, 22.5298, 22.7062, 22.5888, 22.3144, 21.5409, 21.1, 20.4147, 20.3758, 20.8137, 21.3746, 21.4724, 21.3547, 20.6891, 20.8554, 21.0121, 20.5892, 20.8359, 20.826, 20.6696, 20.6596, 20.6047, 20.787, 21.0512, 21.2724, 20.8848, 20.6991, 20.1563, 20.0721, 19.9839, 19.6708, 18.956, 18.9265, 19.4849, 19.4162, 20.0624, 20.4246, 20.1948, 20.6469, 20.776999999999997, 20.9533, 20.9043, 20.701999999999998, 20.6008, 20.9238, 21.0218, 21.1197, 20.9631, 20.6008, 20.6499, 21.0805, 21.061, 21.1157, 21.433000000000003, 21.0351, 21.0218, 21.3155, 21.4624, 21.5213, 21.3058, 21.3199, 21.1444, 21.1, 20.9043, 20.6891, 20.3855, 20.5079, 20.4637, 20.7182, 20.7083, 20.8161, 20.9461, 20.9582, 21.0905, 21.0512, 21.0805, 21.2275, 21.1825, 20.6991, 20.8947, 20.6951, 20.6991, 20.444000000000003, 20.6203, 19.9938, 19.9345, 20.2092, 20.5617, 20.3266, 20.0344, 20.0641, 20.25, 20.5734, 20.6027, 20.3579, 20.6223, 20.3874, 20.4683, 19.8681, 19.8191, 19.4175, 18.8606, 18.6239, 18.3325, 18.405, 17.9087, 18.035999999999998, 17.6149, 17.4678, 17.3404, 17.3714, 17.7561, 17.517, 17.5267, 17.1543, 17.0746, 17.2327, 17.3109, 17.0001, 16.5234, 16.9878, 16.4782, 15.763, 15.8023, 16.0363, 15.5595, 15.9296, 16.6268, 17.1372, 16.9975, 17.1444, 17.4578, 17.1464, 17.0464, 17.2053, 17.5169, 17.6244, 17.8912, 18.1928, 18.1731, 18.3889, 18.4437, 18.035999999999998, 18.1046, 18.0557, 18.5365, 18.415, 18.1192, 18.2905, 18.4576, 18.5932, 18.7078, 18.7802, 18.4329, 18.2953, 18.4037, 18.7176, 18.8008, 18.9236, 19.0439, 19.012, 18.7078, 19.0416, 18.8353, 18.8646, 19.004, 19.0904, 19.5124, 19.5831, 19.577, 19.6351, 19.7188, 19.9051, 19.8362, 19.8806, 19.7227, 19.7334, 19.851, 19.9101, 19.6008, 19.668, 19.3062, 19.0805, 19.0804, 19.0581, 19.0316, 19.2592, 19.1208, 18.8646, 18.8068, 19.0611, 18.9686, 19.0316, 19.0022, 19.2418, 19.2964, 19.5124, 19.4297, 19.4879, 19.6891, 19.8265, 19.7871, 19.7871, 19.6696, 19.9101, 19.8911, 19.867, 19.6866, 19.2523, 19.083, 18.7027, 18.747, 18.6293, 18.6887, 19.0522, 19.0326, 18.9045, 19.2094, 18.4463, 17.7747, 17.9918, 18.608, 18.8851, 18.9392, 18.7377, 18.7289, 18.8508, 19.1601, 19.4943, 19.6153, 19.5239, 19.6221, 19.573, 19.7107, 19.6417, 19.8481, 19.8219, 19.9072, 19.8294, 19.8481, 19.9169, 19.9071, 19.8972, 19.8283, 19.6121, 19.8087, 19.9756, 20.1036, 20.2067, 20.1723, 20.0298, 20.2214, 20.3885, 20.6538, 20.3886, 20.2193, 20.3689, 20.3904, 20.3789, 20.5997, 20.4365, 20.3393, 20.3689, 20.4573, 20.5112, 20.5562, 20.4799, 20.7215, 20.7618, 20.87, 20.8405, 20.4768, 20.074, 20.1329, 20.3393, 20.3867, 20.3472, 20.554000000000002, 20.9276, 20.9276, 20.7016, 20.8984, 20.9276, 20.6523, 20.8293, 20.7111, 20.6718, 20.8193, 20.7702, 20.5798, 20.7309, 20.3274, 20.2823, 20.1899, 20.2312, 20.1642, 20.3472, 20.4357, 20.4837, 20.554000000000002, 20.6817, 20.5334, 20.2979, 20.1552, 19.9241, 19.805999999999997, 19.6879, 19.2355, 19.4025, 19.7967, 19.7764, 19.9724, 20.1023, 20.1226, 20.1666, 20.4028, 20.3867, 20.5046, 20.554000000000002, 20.662, 20.603, 20.6807, 20.5123, 20.4702, 20.4769, 20.3374, 20.1494, 20.239, 20.4261, 20.5639, 20.8183, 20.7999, 20.6122, 20.5416, 20.4001, 20.3669, 20.485, 20.5453, 20.5402, 20.3867, 20.4653, 20.6612, 20.4751, 20.416, 20.3374, 20.4849, 20.8588, 20.9326, 21.0163, 21.0883, 21.0016, 21.0655, 21.0069, 21.1737, 21.0852, 21.1837, 21.2031, 21.3442, 21.2229, 21.5031, 21.6122, 21.4054, 21.3513, 21.0417, 21.0753, 21.0847, 21.2304, 21.449, 21.2868, 21.2911, 21.1427, 21.5476, 21.6952, 21.8427, 22.0396, 22.3026, 22.1477, 22.2479, 22.4429, 22.4111, 22.4429, 22.3643, 22.4527, 22.2353, 22.476999999999997, 22.2348, 22.3108, 22.1212, 22.0036, 22.0387, 21.9647, 22.0887, 22.1176, 21.9584, 22.0494, 22.2147, 22.3073, 22.2086, 21.8736, 22.0016, 22.2301, 22.3029, 22.4251, 22.5925, 22.701, 22.7099, 22.7699, 22.5738, 22.5923, 22.301, 22.3759, 22.4153, 22.4854, 22.4056, 22.2616, 22.4547, 22.4841, 22.691, 22.9175, 22.8809, 23.1442, 23.2917, 23.3805, 23.4525, 23.4394, 23.6151, 23.7833, 23.5182, 23.878, 24.2077, 24.2732, 24.385, 24.5426, 24.2227, 24.2767, 24.6608, 24.6401, 24.0994, 24.1652, 24.2669, 24.4678, 24.4835, 24.6903, 24.7692, 24.8083, 24.7299, 24.7888, 25.2811, 25.4486, 25.36, 25.4243, 25.3404, 25.3798, 25.0499, 24.7493, 24.9464, 24.8874, 24.7741, 24.705, 25.1201, 24.8136, 24.7741, 24.9308, 24.9223, 24.951999999999998, 24.705, 25.0114, 24.6458, 24.7544, 24.5863, 24.6479, 24.4184, 24.6239, 24.631999999999998, 24.7643, 25.0258, 24.9848, 25.2304, 25.268, 25.2287, 25.5178, 25.5253, 25.4364, 25.5646, 25.8108, 25.846, 25.5354, 25.5067, 25.4518, 25.6535, 25.1943, 25.3365, 25.47, 25.4065, 25.3425, 24.9543, 25.0607, 25.2964, 25.1498, 25.2584, 25.1695, 25.1027, 24.9895, 25.2556, 25.3475, 25.4363, 25.4956, 25.5253, 25.5127, 25.6931, 25.7919, 25.9996, 25.8118, 25.9996, 25.8908, 25.6931, 26.05, 26.0983, 25.9205, 25.9896, 25.9076, 26.1141, 26.2734, 26.0472, 26.0792, 26.1634, 25.8379, 25.9262, 26.211, 26.0806, 26.2969, 26.4795, 26.5737, 26.5786, 26.8259, 26.7864, 26.839000000000002, 27.0178, 27.2042, 27.2019, 27.1473, 27.2213, 27.1273, 26.9247, 27.5032, 27.2263, 27.3896, 27.1919, 27.2808, 27.4221, 27.4885, 27.7258, 27.7158, 27.3118, 27.4686, 27.6314, 27.2158, 27.1204, 27.0335, 27.2019, 27.0534, 26.905, 26.9058, 27.3598, 27.634, 27.8444, 28.1212, 28.3585, 28.5464, 27.7849, 27.9234, 27.3104, 27.4838, 27.2907, 27.1324, 27.1829, 27.1919, 27.4241, 27.5527, 27.7748, 27.7215, 27.5892, 27.4763, 27.5873, 27.8047, 27.6367, 27.6763, 27.8824, 27.9106, 27.9531, 27.8937, 27.9769, 27.8927, 28.0925, 28.23, 28.1608, 28.1973, 28.1045, 28.1608, 28.1212, 28.3793, 28.3387, 27.9975, 28.245, 28.3326, 28.4278, 28.5351, 28.8539, 28.8106, 28.6057, 28.5078, 28.3882, 27.9885, 28.0164, 28.2004, 27.6731, 26.8259, 26.9051, 28.0816, 27.3113, 26.974, 27.4389, 27.429000000000002, 28.0164, 28.5465, 28.8207, 28.5068, 28.5365, 28.2014, 28.4178, 28.5054, 28.1519, 28.0816, 27.8899, 28.3388, 28.711, 29.0803, 29.1397, 29.386999999999997, 29.4715, 29.7232, 29.5238, 29.5254, 29.2482, 29.2622, 28.8923, 28.9318, 29.2336, 28.7943, 28.2647, 28.6745, 28.3384, 28.0697, 28.416999999999998, 27.7738, 27.9024, 27.9737, 28.1499, 27.9183, 27.7194, 28.1107, 28.0014, 28.2548, 28.1399, 28.2388, 28.5806, 28.8823, 28.6943, 28.6119, 28.7144, 28.244, 28.061, 28.3777, 28.299, 28.3281, 28.3972, 28.1301, 27.7881, 27.8728, 27.9566, 27.7638, 28.1509, 28.6002, 28.5558, 28.436999999999998, 28.3181, 28.5062, 28.5558, 28.5853, 28.7022, 28.4972, 28.6495, 28.7042, 28.4567, 28.9139, 28.8229, 29.3278, 29.595, 29.8623, 30.0406, 29.7336, 29.7336, 30.3673, 30.5353, 30.6244, 31.1084, 31.1667, 31.364, 30.7796, 30.9681, 30.4126, 30.3133, 29.4512, 29.8779, 29.143, 29.4603, 29.5199, 29.3315, 29.6587, 29.7382, 30.0652, 30.3138, 30.2143, 30.0458, 30.611, 30.4924, 30.4323, 30.7746, 30.7538, 30.5713, 30.5811, 30.6209, 30.1582, 30.4323, 30.5861, 30.4523, 29.1938, 29.3016, 29.4802, 29.4851, 29.4008, 29.877, 30.0059, 29.7381, 30.4623, 30.2638, 29.9562, 30.0059, 29.4405, 29.7777, 29.748, 29.7579, 30.1546, 30.0754, 30.115, 30.4026, 30.8027, 30.7155, 30.7399, 30.4205, 30.482, 30.269000000000002, 29.866999999999997, 29.6216, 29.866999999999997, 30.0555, 30.1943, 30.1896, 30.5018, 30.4812, 29.8337, 30.1446, 30.0123, 30.4911, 30.2804, 30.0031, 30.1116, 30.0923, 30.0223, 30.052, 29.8337, 29.14, 29.4068, 28.7716, 28.3152, 28.1665, 28.0373, 26.638, 26.409000000000002, 27.0945, 27.2631, 27.7396, 27.551, 26.9158, 26.3997, 26.4941, 26.3997, 25.2188, 25.7546, 25.2385, 24.6232, 25.5065, 26.2359, 26.6181, 26.4295, 26.295, 26.4768, 27.2671, 27.1444, 26.6578, 25.8103, 25.8439, 25.8035, 26.1517, 26.0425, 25.0103, 24.6034, 25.313000000000002, 25.6057, 25.5085, 25.5463, 26.2824, 26.1357, 26.3919, 25.5561, 25.5498, 24.921, 24.781999999999996, 24.781999999999996, 24.9706, 24.7721, 24.3354, 23.3934, 23.601, 23.1743, 22.6483, 21.8046, 21.5358, 22.7079, 22.6979, 22.8072, 23.0849, 23.1146, 22.7389, 23.6308, 24.38, 24.7522, 25.0242, 25.1373, 25.1195, 25.0103, 25.229, 25.3279, 25.8242, 26.3204, 25.7845, 25.8142, 26.1812, 26.7769, 26.5932, 26.4933, 26.756999999999998, 27.2334, 27.305999999999997, 27.6255, 27.9058, 27.8389, 27.5411, 27.7248, 27.811, 28.2706, 28.5631, 28.6674, 28.6999, 29.1608, 29.4764, 29.0003, 29.6252, 29.9478, 29.7941, 30.4156, 30.0967, 30.5979, 30.2704, 30.3398, 30.0025, 29.4098, 29.1191, 30.0719, 30.0818, 30.0223, 30.3151, 30.3467, 30.4382, 30.9486, 30.7297, 31.2512, 30.1764, 30.1829, 30.2823, 29.9142, 30.2127, 30.3374, 30.8292, 30.879, 31.0249, 30.6005, 30.7297, 30.5905, 30.511, 30.7198, 30.6775, 30.889, 30.6502, 30.521, 30.1231, 29.8547, 30.0933, 30.619, 30.6203, 30.5713, 30.8722, 31.2468, 31.2072, 30.879, 30.9082, 31.5055, 31.4558, 30.7297, 30.6701, 30.7994, 30.889, 29.5625, 30.1617, 30.5905, 31.0778, 30.6562, 30.3718, 30.6615, 30.5508, 29.9939, 30.3009, 30.1927, 29.8547, 29.9142, 29.5596, 29.1784, 30.0436, 30.2818, 30.4613, 30.7795, 31.0182, 30.7795, 30.9684, 31.3265, 31.0666, 31.3253, 31.793000000000003, 32.1114, 32.2805, 32.0417, 31.5799, 30.8377, 30.6685, 31.186, 31.4247, 31.4845, 31.6536, 31.881999999999998, 31.9919, 31.8526, 32.2009, 32.2905, 32.5193, 32.4597, 32.7184, 32.6288, 32.4398, 32.41, 32.1699, 32.4, 32.4298, 32.8776, 32.7383, 33.3254, 32.7284, 32.5691, 32.2293, 31.6935, 31.5641, 30.3302, 30.5347, 30.6685, 31.9323, 31.1461, 30.6785, 31.0068, 29.8724, 29.8924, 30.5491, 30.6187, 30.3203, 30.7482, 30.7282, 29.9521, 30.2774, 30.0655, 29.9819, 30.6287, 30.4695, 30.0914, 30.6586, 30.7979, 30.8277, 30.2903, 30.0417, 30.4596, 30.4695, 30.2605, 30.3899, 30.7581, 30.2705, 30.2506, 29.8625, 29.554000000000002, 28.5888, 28.7978, 28.5689, 27.8127, 28.0315, 27.7529, 27.4643, 28.141, 28.3499, 28.4396, 27.8226, 28.1012, 27.9619, 28.4495, 28.3699, 28.6585, 28.3101, 28.4196, 27.7927, 28.2803, 27.8226, 28.0216, 28.4694, 28.8973, 29.7033, 29.3756, 29.8533, 29.4943, 29.7331, 29.8476, 29.4147, 29.1859, 28.956999999999997, 29.2038, 29.1958, 29.4645, 29.6336, 29.7232, 30.2736, 30.2008, 30.2008, 30.1909, 30.2506, 30.6486, 31.0566, 31.2841, 31.3751, 31.2428, 30.3401, 30.5677, 30.6727, 30.4414, 30.5663, 30.3203, 30.173000000000002, 30.128, 30.1212, 30.045, 30.5237, 30.5636, 30.5536, 30.8228, 30.8727, 30.8627, 31.0576, 31.2567, 31.0721, 30.8686, 31.0223, 31.6006, 31.5857, 31.7303, 31.9596, 32.2488, 32.4482, 32.4981, 32.6577, 32.9069, 33.2161, 33.4155, 33.2659, 33.8144, 33.7944, 33.7346, 33.1862, 32.6477, 33.1762, 33.0864, 33.236, 32.6876, 33.3058, 34.0936, 33.5152, 33.6648, 34.0836, 34.4027, 34.652, 34.7118, 34.5722, 34.6321, 34.672, 35.0409, 34.9911, 34.6121, 33.5551, 32.6776, 32.6178, 31.4211, 31.2117, 32.0793, 31.4311, 32.4283, 31.5508, 30.5337, 27.4623, 28.7587, 26.9039, 23.9922, 25.458000000000002, 22.3368, 23.0249, 21.559, 23.2343, 23.41, 23.39, 25.38, 25.65, 27.03, 26.32, 26.62, 26.34, 25.32, 24.5, 24.02, 25.87, 25.77, 26.71, 27.21, 27.36, 28.33, 28.45, 28.44, 29.31, 29.894000000000002, 28.8537, 29.6755, 29.57, 30.11, 30.6701, 30.4, 31.37, 30.86, 29.89, 30.2259, 30.5901, 31.07, 32.36, 33.23, 33.9, 33.28, 32.97, 33.24, 33.8289, 34.83, 34.95, 35.57, 35.46, 36.07, 35.54, 35.36, 35.13, 36.73, 37.48, 37.9, 38.58, 37.69, 37.84, 38.68, 38.38, 38.55, 36.52, 37.4, 38.93, 39.61, 40.05, 40.93, 41.32, 41.34, 41.72, 40.57, 41.09, 40.1, 39.76, 40.44, 40.84, 41.43, 42.04, 42.76, 44.0, 44.59, 44.25, 42.74, 42.65, 43.18, 42.36, 42.9, 44.16, 43.68, 43.45, 42.31, 41.58, 42.48, 42.57, 43.22, 43.26, 44.32, 45.95, 46.12, 46.46, 46.27, 44.48, 43.66, 42.68, 43.16, 43.54, 43.13, 44.25, 44.92, 44.9, 45.94, 45.36, 45.06, 45.91, 47.23, 47.26, 47.71, 48.44, 51.65, 50.85, 47.93, 47.16, 46.09, 47.74, 47.4, 47.54, 48.99, 49.5, 49.53, 49.32, 49.88, 50.38, 51.34, 50.62, 49.36, 51.38, 51.65, 51.85, 52.28, 53.39, 52.76, 53.59, 53.37, 54.71, 54.81, 55.9, 56.5, 57.32, 56.55, 55.87, 55.97, 55.9, 55.46, 54.1, 54.6, 54.48, 53.31, 54.09, 52.39, 52.67, 50.68, 50.81, 51.54, 54.69, 56.2, 56.91, 54.54, 52.54, 54.58, 55.38, 55.31, 56.14, 56.24, 56.17, 57.11, 57.93, 58.71, 58.31, 60.47, 62.6, 64.48, 62.37, 62.44, 64.18, 65.07, 65.68, 66.76, 64.7, 66.31, 65.62, 65.28, 65.26, 65.29, 66.61, 67.27, 68.15, 69.79, 69.15, 68.44, 65.22, 64.85, 65.57, 64.49, 63.73, 65.01, 63.23, 66.49, 66.94, 66.84, 69.09, 69.69, 69.52, 68.27, 69.15, 69.69, 69.9, 70.83, 71.18, 69.4, 67.56, 68.56, 68.06, 69.25, 70.38, 70.77, 72.5, 74.12, 74.0, 74.8, 75.77, 75.98, 76.13, 75.38, 73.73, 72.68, 73.43, 69.83, 69.38, 69.06, 65.88, 66.79, 69.4, 67.82, 64.65, 62.0, 62.03, 59.15, 63.05, 62.92, 66.02, 65.59, 66.31, 65.04, 65.37, 62.41, 64.14, 64.01, 63.12, 60.05, 60.39, 60.85, 59.71, 60.17]}],                        {\"annotations\": [{\"font\": {\"color\": \"rgb(150,150,150)\", \"family\": \"Arial\", \"size\": 12}, \"showarrow\": false, \"text\": \"\", \"x\": 0.5, \"xanchor\": \"center\", \"xref\": \"paper\", \"y\": \"-0.125\", \"yanchor\": \"top\", \"yref\": \"paper\"}], \"height\": 500, \"hovermode\": \"x\", \"paper_bgcolor\": \"#F5F6F9\", \"plot_bgcolor\": \"#F5F6F9\", \"showlegend\": true, \"template\": {\"data\": {\"bar\": [{\"error_x\": {\"color\": \"#2a3f5f\"}, \"error_y\": {\"color\": \"#2a3f5f\"}, \"marker\": {\"line\": {\"color\": \"#E5ECF6\", \"width\": 0.5}}, \"type\": \"bar\"}], \"barpolar\": [{\"marker\": {\"line\": {\"color\": \"#E5ECF6\", \"width\": 0.5}}, \"type\": \"barpolar\"}], \"carpet\": [{\"aaxis\": {\"endlinecolor\": \"#2a3f5f\", \"gridcolor\": \"white\", \"linecolor\": \"white\", \"minorgridcolor\": \"white\", \"startlinecolor\": \"#2a3f5f\"}, \"baxis\": {\"endlinecolor\": \"#2a3f5f\", \"gridcolor\": \"white\", \"linecolor\": \"white\", \"minorgridcolor\": \"white\", \"startlinecolor\": \"#2a3f5f\"}, \"type\": \"carpet\"}], \"choropleth\": [{\"colorbar\": {\"outlinewidth\": 0, \"ticks\": \"\"}, \"type\": \"choropleth\"}], \"contour\": [{\"colorbar\": {\"outlinewidth\": 0, \"ticks\": \"\"}, \"colorscale\": [[0.0, \"#0d0887\"], [0.1111111111111111, \"#46039f\"], [0.2222222222222222, \"#7201a8\"], [0.3333333333333333, \"#9c179e\"], [0.4444444444444444, \"#bd3786\"], [0.5555555555555556, \"#d8576b\"], [0.6666666666666666, \"#ed7953\"], [0.7777777777777778, \"#fb9f3a\"], [0.8888888888888888, \"#fdca26\"], [1.0, \"#f0f921\"]], \"type\": \"contour\"}], \"contourcarpet\": [{\"colorbar\": {\"outlinewidth\": 0, \"ticks\": \"\"}, \"type\": \"contourcarpet\"}], \"heatmap\": [{\"colorbar\": {\"outlinewidth\": 0, \"ticks\": \"\"}, \"colorscale\": [[0.0, \"#0d0887\"], [0.1111111111111111, \"#46039f\"], [0.2222222222222222, \"#7201a8\"], [0.3333333333333333, \"#9c179e\"], [0.4444444444444444, \"#bd3786\"], [0.5555555555555556, \"#d8576b\"], [0.6666666666666666, \"#ed7953\"], [0.7777777777777778, \"#fb9f3a\"], [0.8888888888888888, \"#fdca26\"], [1.0, \"#f0f921\"]], \"type\": \"heatmap\"}], \"heatmapgl\": [{\"colorbar\": {\"outlinewidth\": 0, \"ticks\": \"\"}, \"colorscale\": [[0.0, \"#0d0887\"], [0.1111111111111111, \"#46039f\"], [0.2222222222222222, \"#7201a8\"], [0.3333333333333333, \"#9c179e\"], [0.4444444444444444, \"#bd3786\"], [0.5555555555555556, \"#d8576b\"], [0.6666666666666666, \"#ed7953\"], [0.7777777777777778, \"#fb9f3a\"], [0.8888888888888888, \"#fdca26\"], [1.0, \"#f0f921\"]], \"type\": \"heatmapgl\"}], \"histogram\": [{\"marker\": {\"colorbar\": {\"outlinewidth\": 0, \"ticks\": \"\"}}, \"type\": \"histogram\"}], \"histogram2d\": [{\"colorbar\": {\"outlinewidth\": 0, \"ticks\": \"\"}, \"colorscale\": [[0.0, \"#0d0887\"], [0.1111111111111111, \"#46039f\"], [0.2222222222222222, \"#7201a8\"], [0.3333333333333333, \"#9c179e\"], [0.4444444444444444, \"#bd3786\"], [0.5555555555555556, \"#d8576b\"], [0.6666666666666666, \"#ed7953\"], [0.7777777777777778, \"#fb9f3a\"], [0.8888888888888888, \"#fdca26\"], [1.0, \"#f0f921\"]], \"type\": \"histogram2d\"}], \"histogram2dcontour\": [{\"colorbar\": {\"outlinewidth\": 0, \"ticks\": \"\"}, \"colorscale\": [[0.0, \"#0d0887\"], [0.1111111111111111, \"#46039f\"], [0.2222222222222222, \"#7201a8\"], [0.3333333333333333, \"#9c179e\"], [0.4444444444444444, \"#bd3786\"], [0.5555555555555556, \"#d8576b\"], [0.6666666666666666, \"#ed7953\"], [0.7777777777777778, \"#fb9f3a\"], [0.8888888888888888, \"#fdca26\"], [1.0, \"#f0f921\"]], \"type\": \"histogram2dcontour\"}], \"mesh3d\": [{\"colorbar\": {\"outlinewidth\": 0, \"ticks\": \"\"}, \"type\": \"mesh3d\"}], \"parcoords\": [{\"line\": {\"colorbar\": {\"outlinewidth\": 0, \"ticks\": \"\"}}, \"type\": \"parcoords\"}], \"pie\": [{\"automargin\": true, \"type\": \"pie\"}], \"scatter\": [{\"marker\": {\"colorbar\": {\"outlinewidth\": 0, \"ticks\": \"\"}}, \"type\": \"scatter\"}], \"scatter3d\": [{\"line\": {\"colorbar\": {\"outlinewidth\": 0, \"ticks\": \"\"}}, \"marker\": {\"colorbar\": {\"outlinewidth\": 0, \"ticks\": \"\"}}, \"type\": \"scatter3d\"}], \"scattercarpet\": [{\"marker\": {\"colorbar\": {\"outlinewidth\": 0, \"ticks\": \"\"}}, \"type\": \"scattercarpet\"}], \"scattergeo\": [{\"marker\": {\"colorbar\": {\"outlinewidth\": 0, \"ticks\": \"\"}}, \"type\": \"scattergeo\"}], \"scattergl\": [{\"marker\": {\"colorbar\": {\"outlinewidth\": 0, \"ticks\": \"\"}}, \"type\": \"scattergl\"}], \"scattermapbox\": [{\"marker\": {\"colorbar\": {\"outlinewidth\": 0, \"ticks\": \"\"}}, \"type\": \"scattermapbox\"}], \"scatterpolar\": [{\"marker\": {\"colorbar\": {\"outlinewidth\": 0, \"ticks\": \"\"}}, \"type\": \"scatterpolar\"}], \"scatterpolargl\": [{\"marker\": {\"colorbar\": {\"outlinewidth\": 0, \"ticks\": \"\"}}, \"type\": \"scatterpolargl\"}], \"scatterternary\": [{\"marker\": {\"colorbar\": {\"outlinewidth\": 0, \"ticks\": \"\"}}, \"type\": \"scatterternary\"}], \"surface\": [{\"colorbar\": {\"outlinewidth\": 0, \"ticks\": \"\"}, \"colorscale\": [[0.0, \"#0d0887\"], [0.1111111111111111, \"#46039f\"], [0.2222222222222222, \"#7201a8\"], [0.3333333333333333, \"#9c179e\"], [0.4444444444444444, \"#bd3786\"], [0.5555555555555556, \"#d8576b\"], [0.6666666666666666, \"#ed7953\"], [0.7777777777777778, \"#fb9f3a\"], [0.8888888888888888, \"#fdca26\"], [1.0, \"#f0f921\"]], \"type\": \"surface\"}], \"table\": [{\"cells\": {\"fill\": {\"color\": \"#EBF0F8\"}, \"line\": {\"color\": \"white\"}}, \"header\": {\"fill\": {\"color\": \"#C8D4E3\"}, \"line\": {\"color\": \"white\"}}, \"type\": \"table\"}]}, \"layout\": {\"annotationdefaults\": {\"arrowcolor\": \"#2a3f5f\", \"arrowhead\": 0, \"arrowwidth\": 1}, \"autotypenumbers\": \"strict\", \"coloraxis\": {\"colorbar\": {\"outlinewidth\": 0, \"ticks\": \"\"}}, \"colorscale\": {\"diverging\": [[0, \"#8e0152\"], [0.1, \"#c51b7d\"], [0.2, \"#de77ae\"], [0.3, \"#f1b6da\"], [0.4, \"#fde0ef\"], [0.5, \"#f7f7f7\"], [0.6, \"#e6f5d0\"], [0.7, \"#b8e186\"], [0.8, \"#7fbc41\"], [0.9, \"#4d9221\"], [1, \"#276419\"]], \"sequential\": [[0.0, \"#0d0887\"], [0.1111111111111111, \"#46039f\"], [0.2222222222222222, \"#7201a8\"], [0.3333333333333333, \"#9c179e\"], [0.4444444444444444, \"#bd3786\"], [0.5555555555555556, \"#d8576b\"], [0.6666666666666666, \"#ed7953\"], [0.7777777777777778, \"#fb9f3a\"], [0.8888888888888888, \"#fdca26\"], [1.0, \"#f0f921\"]], \"sequentialminus\": [[0.0, \"#0d0887\"], [0.1111111111111111, \"#46039f\"], [0.2222222222222222, \"#7201a8\"], [0.3333333333333333, \"#9c179e\"], [0.4444444444444444, \"#bd3786\"], [0.5555555555555556, \"#d8576b\"], [0.6666666666666666, \"#ed7953\"], [0.7777777777777778, \"#fb9f3a\"], [0.8888888888888888, \"#fdca26\"], [1.0, \"#f0f921\"]]}, \"colorway\": [\"#636efa\", \"#EF553B\", \"#00cc96\", \"#ab63fa\", \"#FFA15A\", \"#19d3f3\", \"#FF6692\", \"#B6E880\", \"#FF97FF\", \"#FECB52\"], \"font\": {\"color\": \"#2a3f5f\"}, \"geo\": {\"bgcolor\": \"white\", \"lakecolor\": \"white\", \"landcolor\": \"#E5ECF6\", \"showlakes\": true, \"showland\": true, \"subunitcolor\": \"white\"}, \"hoverlabel\": {\"align\": \"left\"}, \"hovermode\": \"closest\", \"mapbox\": {\"style\": \"light\"}, \"paper_bgcolor\": \"white\", \"plot_bgcolor\": \"#E5ECF6\", \"polar\": {\"angularaxis\": {\"gridcolor\": \"white\", \"linecolor\": \"white\", \"ticks\": \"\"}, \"bgcolor\": \"#E5ECF6\", \"radialaxis\": {\"gridcolor\": \"white\", \"linecolor\": \"white\", \"ticks\": \"\"}}, \"scene\": {\"xaxis\": {\"backgroundcolor\": \"#E5ECF6\", \"gridcolor\": \"white\", \"gridwidth\": 2, \"linecolor\": \"white\", \"showbackground\": true, \"ticks\": \"\", \"zerolinecolor\": \"white\"}, \"yaxis\": {\"backgroundcolor\": \"#E5ECF6\", \"gridcolor\": \"white\", \"gridwidth\": 2, \"linecolor\": \"white\", \"showbackground\": true, \"ticks\": \"\", \"zerolinecolor\": \"white\"}, \"zaxis\": {\"backgroundcolor\": \"#E5ECF6\", \"gridcolor\": \"white\", \"gridwidth\": 2, \"linecolor\": \"white\", \"showbackground\": true, \"ticks\": \"\", \"zerolinecolor\": \"white\"}}, \"shapedefaults\": {\"line\": {\"color\": \"#2a3f5f\"}}, \"ternary\": {\"aaxis\": {\"gridcolor\": \"white\", \"linecolor\": \"white\", \"ticks\": \"\"}, \"baxis\": {\"gridcolor\": \"white\", \"linecolor\": \"white\", \"ticks\": \"\"}, \"bgcolor\": \"#E5ECF6\", \"caxis\": {\"gridcolor\": \"white\", \"linecolor\": \"white\", \"ticks\": \"\"}}, \"title\": {\"x\": 0.05}, \"xaxis\": {\"automargin\": true, \"gridcolor\": \"white\", \"linecolor\": \"white\", \"ticks\": \"\", \"title\": {\"standoff\": 15}, \"zerolinecolor\": \"white\", \"zerolinewidth\": 2}, \"yaxis\": {\"automargin\": true, \"gridcolor\": \"white\", \"linecolor\": \"white\", \"ticks\": \"\", \"title\": {\"standoff\": 15}, \"zerolinecolor\": \"white\", \"zerolinewidth\": 2}}}, \"title\": {\"text\": \"\", \"x\": 0.5}, \"width\": 950, \"xaxis\": {\"gridcolor\": \"#E1E5ED\", \"showgrid\": true, \"tickfont\": {\"color\": \"#4D5663\"}, \"tickformat\": \"\", \"tickprefix\": \"\", \"ticksuffix\": \"\", \"title\": {\"font\": {\"color\": \"#4D5663\"}, \"text\": \"\"}, \"zerolinecolor\": \"#E1E5ED\"}, \"yaxis\": {\"gridcolor\": \"#E1E5ED\", \"showgrid\": true, \"tickfont\": {\"color\": \"#4D5663\"}, \"tickformat\": \"\", \"tickprefix\": \"\", \"ticksuffix\": \"\", \"title\": {\"text\": \"\"}, \"zerolinecolor\": \"#E1E5ED\"}},                        {\"responsive\": true}                    ).then(function(){\n                            \nvar gd = document.getElementById('e70d267a-2c70-4123-a706-edc162f53c7c');\nvar x = new MutationObserver(function (mutations, observer) {{\n        var display = window.getComputedStyle(gd).display;\n        if (!display || display === 'none') {{\n            console.log([gd, 'removed!']);\n            Plotly.purge(gd);\n            observer.disconnect();\n        }}\n}});\n\n// Listen for the removal of the full notebook cells\nvar notebookContainer = gd.closest('#notebook-container');\nif (notebookContainer) {{\n    x.observe(notebookContainer, {childList: true});\n}}\n\n// Listen for the clearing of the current output cell\nvar outputEl = gd.closest('.output');\nif (outputEl) {{\n    x.observe(outputEl, {childList: true});\n}}\n\n                        })                };                            </script>        </div>\n</body>\n</html>"
          },
          "metadata": {}
        }
      ]
    },
    {
      "cell_type": "code",
      "metadata": {
        "id": "m026ewRvQNqk"
      },
      "source": [
        "pl.ichart(round(pl.compute_drawdowns(IPO), 2), colors=['darkorange'], yticksuffix='%')   "
      ],
      "execution_count": 31,
      "outputs": [
        {
          "output_type": "display_data",
          "data": {
            "text/html": "<html>\n<head><meta charset=\"utf-8\" /></head>\n<body>\n    <div>            <script src=\"https://cdnjs.cloudflare.com/ajax/libs/mathjax/2.7.5/MathJax.js?config=TeX-AMS-MML_SVG\"></script><script type=\"text/javascript\">if (window.MathJax) {MathJax.Hub.Config({SVG: {font: \"STIX-Web\"}});}</script>                <script type=\"text/javascript\">window.PlotlyConfig = {MathJaxConfig: 'local'};</script>\n        <script src=\"https://cdn.plot.ly/plotly-latest.min.js\"></script>                <div id=\"9edcac37-c02b-476e-aad5-d343117aff35\" class=\"plotly-graph-div\" style=\"height:500px; width:950px;\"></div>            <script type=\"text/javascript\">                                    window.PLOTLYENV=window.PLOTLYENV || {};                                    if (document.getElementById(\"9edcac37-c02b-476e-aad5-d343117aff35\")) {                    Plotly.newPlot(                        \"9edcac37-c02b-476e-aad5-d343117aff35\",                        [{\"line\": {\"color\": \"darkorange\", \"width\": 1.3}, \"mode\": \"lines\", \"name\": \"IPO\", \"type\": \"scatter\", \"x\": [\"2013-10-21\", \"2013-10-22\", \"2013-10-23\", \"2013-10-24\", \"2013-10-25\", \"2013-10-28\", \"2013-10-29\", \"2013-10-30\", \"2013-10-31\", \"2013-11-01\", \"2013-11-04\", \"2013-11-05\", \"2013-11-06\", \"2013-11-07\", \"2013-11-08\", \"2013-11-11\", \"2013-11-12\", \"2013-11-13\", \"2013-11-14\", \"2013-11-15\", \"2013-11-18\", \"2013-11-19\", \"2013-11-20\", \"2013-11-21\", \"2013-11-22\", \"2013-11-25\", \"2013-11-26\", \"2013-11-27\", \"2013-11-29\", \"2013-12-02\", \"2013-12-03\", \"2013-12-04\", \"2013-12-05\", \"2013-12-06\", \"2013-12-09\", \"2013-12-10\", \"2013-12-11\", \"2013-12-12\", \"2013-12-13\", \"2013-12-16\", \"2013-12-17\", \"2013-12-18\", \"2013-12-19\", \"2013-12-20\", \"2013-12-23\", \"2013-12-24\", \"2013-12-26\", \"2013-12-27\", \"2013-12-30\", \"2013-12-31\", \"2014-01-02\", \"2014-01-03\", \"2014-01-06\", \"2014-01-07\", \"2014-01-08\", \"2014-01-09\", \"2014-01-10\", \"2014-01-13\", \"2014-01-14\", \"2014-01-15\", \"2014-01-16\", \"2014-01-17\", \"2014-01-21\", \"2014-01-22\", \"2014-01-23\", \"2014-01-24\", \"2014-01-27\", \"2014-01-28\", \"2014-01-29\", \"2014-01-30\", \"2014-01-31\", \"2014-02-03\", \"2014-02-04\", \"2014-02-05\", \"2014-02-06\", \"2014-02-07\", \"2014-02-10\", \"2014-02-11\", \"2014-02-12\", \"2014-02-13\", \"2014-02-14\", \"2014-02-18\", \"2014-02-19\", \"2014-02-20\", \"2014-02-21\", \"2014-02-24\", \"2014-02-25\", \"2014-02-26\", \"2014-02-27\", \"2014-02-28\", \"2014-03-03\", \"2014-03-04\", \"2014-03-05\", \"2014-03-06\", \"2014-03-07\", \"2014-03-10\", \"2014-03-11\", \"2014-03-12\", \"2014-03-13\", \"2014-03-14\", \"2014-03-17\", \"2014-03-18\", \"2014-03-19\", \"2014-03-20\", \"2014-03-21\", \"2014-03-24\", \"2014-03-25\", \"2014-03-26\", \"2014-03-27\", \"2014-03-28\", \"2014-03-31\", \"2014-04-01\", \"2014-04-02\", \"2014-04-03\", \"2014-04-04\", \"2014-04-07\", \"2014-04-08\", \"2014-04-09\", \"2014-04-10\", \"2014-04-11\", \"2014-04-14\", \"2014-04-15\", \"2014-04-16\", \"2014-04-17\", \"2014-04-21\", \"2014-04-22\", \"2014-04-23\", \"2014-04-24\", \"2014-04-25\", \"2014-04-28\", \"2014-04-29\", \"2014-04-30\", \"2014-05-01\", \"2014-05-02\", \"2014-05-05\", \"2014-05-06\", \"2014-05-07\", \"2014-05-08\", \"2014-05-09\", \"2014-05-12\", \"2014-05-13\", \"2014-05-14\", \"2014-05-15\", \"2014-05-16\", \"2014-05-19\", \"2014-05-20\", \"2014-05-21\", \"2014-05-22\", \"2014-05-23\", \"2014-05-27\", \"2014-05-28\", \"2014-05-29\", \"2014-05-30\", \"2014-06-02\", \"2014-06-03\", \"2014-06-04\", \"2014-06-05\", \"2014-06-06\", \"2014-06-09\", \"2014-06-10\", \"2014-06-11\", \"2014-06-12\", \"2014-06-13\", \"2014-06-16\", \"2014-06-17\", \"2014-06-18\", \"2014-06-19\", \"2014-06-20\", \"2014-06-23\", \"2014-06-24\", \"2014-06-25\", \"2014-06-26\", \"2014-06-27\", \"2014-06-30\", \"2014-07-01\", \"2014-07-02\", \"2014-07-03\", \"2014-07-07\", \"2014-07-08\", \"2014-07-09\", \"2014-07-10\", \"2014-07-11\", \"2014-07-14\", \"2014-07-15\", \"2014-07-16\", \"2014-07-17\", \"2014-07-18\", \"2014-07-21\", \"2014-07-22\", \"2014-07-23\", \"2014-07-24\", \"2014-07-25\", \"2014-07-28\", \"2014-07-29\", \"2014-07-30\", \"2014-07-31\", \"2014-08-01\", \"2014-08-04\", \"2014-08-05\", \"2014-08-06\", \"2014-08-07\", \"2014-08-08\", \"2014-08-11\", \"2014-08-12\", \"2014-08-13\", \"2014-08-14\", \"2014-08-15\", \"2014-08-18\", \"2014-08-19\", \"2014-08-20\", \"2014-08-21\", \"2014-08-22\", \"2014-08-25\", \"2014-08-26\", \"2014-08-27\", \"2014-08-28\", \"2014-08-29\", \"2014-09-02\", \"2014-09-03\", \"2014-09-04\", \"2014-09-05\", \"2014-09-08\", \"2014-09-09\", \"2014-09-10\", \"2014-09-11\", \"2014-09-12\", \"2014-09-15\", \"2014-09-16\", \"2014-09-17\", \"2014-09-18\", \"2014-09-19\", \"2014-09-22\", \"2014-09-23\", \"2014-09-24\", \"2014-09-25\", \"2014-09-26\", \"2014-09-29\", \"2014-09-30\", \"2014-10-01\", \"2014-10-02\", \"2014-10-03\", \"2014-10-06\", \"2014-10-07\", \"2014-10-08\", \"2014-10-09\", \"2014-10-10\", \"2014-10-13\", \"2014-10-14\", \"2014-10-15\", \"2014-10-16\", \"2014-10-17\", \"2014-10-20\", \"2014-10-21\", \"2014-10-22\", \"2014-10-23\", \"2014-10-24\", \"2014-10-27\", \"2014-10-28\", \"2014-10-29\", \"2014-10-30\", \"2014-10-31\", \"2014-11-03\", \"2014-11-04\", \"2014-11-05\", \"2014-11-06\", \"2014-11-07\", \"2014-11-10\", \"2014-11-11\", \"2014-11-12\", \"2014-11-13\", \"2014-11-14\", \"2014-11-17\", \"2014-11-18\", \"2014-11-19\", \"2014-11-20\", \"2014-11-21\", \"2014-11-24\", \"2014-11-25\", \"2014-11-26\", \"2014-11-28\", \"2014-12-01\", \"2014-12-02\", \"2014-12-03\", \"2014-12-04\", \"2014-12-05\", \"2014-12-08\", \"2014-12-09\", \"2014-12-10\", \"2014-12-11\", \"2014-12-12\", \"2014-12-15\", \"2014-12-16\", \"2014-12-17\", \"2014-12-18\", \"2014-12-19\", \"2014-12-22\", \"2014-12-23\", \"2014-12-24\", \"2014-12-26\", \"2014-12-29\", \"2014-12-30\", \"2014-12-31\", \"2015-01-02\", \"2015-01-05\", \"2015-01-06\", \"2015-01-07\", \"2015-01-08\", \"2015-01-09\", \"2015-01-12\", \"2015-01-13\", \"2015-01-14\", \"2015-01-15\", \"2015-01-16\", \"2015-01-20\", \"2015-01-21\", \"2015-01-22\", \"2015-01-23\", \"2015-01-26\", \"2015-01-27\", \"2015-01-28\", \"2015-01-29\", \"2015-01-30\", \"2015-02-02\", \"2015-02-03\", \"2015-02-04\", \"2015-02-05\", \"2015-02-06\", \"2015-02-09\", \"2015-02-10\", \"2015-02-11\", \"2015-02-12\", \"2015-02-13\", \"2015-02-17\", \"2015-02-18\", \"2015-02-19\", \"2015-02-20\", \"2015-02-23\", \"2015-02-24\", \"2015-02-25\", \"2015-02-26\", \"2015-02-27\", \"2015-03-02\", \"2015-03-03\", \"2015-03-04\", \"2015-03-05\", \"2015-03-06\", \"2015-03-09\", \"2015-03-10\", \"2015-03-11\", \"2015-03-12\", \"2015-03-13\", \"2015-03-16\", \"2015-03-17\", \"2015-03-18\", \"2015-03-19\", \"2015-03-20\", \"2015-03-23\", \"2015-03-24\", \"2015-03-25\", \"2015-03-26\", \"2015-03-27\", \"2015-03-30\", \"2015-03-31\", \"2015-04-01\", \"2015-04-02\", \"2015-04-06\", \"2015-04-07\", \"2015-04-08\", \"2015-04-09\", \"2015-04-10\", \"2015-04-13\", \"2015-04-14\", \"2015-04-15\", \"2015-04-16\", \"2015-04-17\", \"2015-04-20\", \"2015-04-21\", \"2015-04-22\", \"2015-04-23\", \"2015-04-24\", \"2015-04-27\", \"2015-04-28\", \"2015-04-29\", \"2015-04-30\", \"2015-05-01\", \"2015-05-04\", \"2015-05-05\", \"2015-05-06\", \"2015-05-07\", \"2015-05-08\", \"2015-05-11\", \"2015-05-12\", \"2015-05-13\", \"2015-05-14\", \"2015-05-15\", \"2015-05-18\", \"2015-05-19\", \"2015-05-20\", \"2015-05-21\", \"2015-05-22\", \"2015-05-26\", \"2015-05-27\", \"2015-05-28\", \"2015-05-29\", \"2015-06-01\", \"2015-06-02\", \"2015-06-03\", \"2015-06-04\", \"2015-06-05\", \"2015-06-08\", \"2015-06-09\", \"2015-06-10\", \"2015-06-11\", \"2015-06-12\", \"2015-06-15\", \"2015-06-16\", \"2015-06-17\", \"2015-06-18\", \"2015-06-19\", \"2015-06-22\", \"2015-06-23\", \"2015-06-24\", \"2015-06-25\", \"2015-06-26\", \"2015-06-29\", \"2015-06-30\", \"2015-07-01\", \"2015-07-02\", \"2015-07-06\", \"2015-07-07\", \"2015-07-08\", \"2015-07-09\", \"2015-07-10\", \"2015-07-13\", \"2015-07-14\", \"2015-07-15\", \"2015-07-16\", \"2015-07-17\", \"2015-07-20\", \"2015-07-21\", \"2015-07-22\", \"2015-07-23\", \"2015-07-24\", \"2015-07-27\", \"2015-07-28\", \"2015-07-29\", \"2015-07-30\", \"2015-07-31\", \"2015-08-03\", \"2015-08-04\", \"2015-08-05\", \"2015-08-06\", \"2015-08-07\", \"2015-08-10\", \"2015-08-11\", \"2015-08-12\", \"2015-08-13\", \"2015-08-14\", \"2015-08-17\", \"2015-08-18\", \"2015-08-19\", \"2015-08-20\", \"2015-08-21\", \"2015-08-24\", \"2015-08-25\", \"2015-08-26\", \"2015-08-27\", \"2015-08-28\", \"2015-08-31\", \"2015-09-01\", \"2015-09-02\", \"2015-09-03\", \"2015-09-04\", \"2015-09-08\", \"2015-09-09\", \"2015-09-10\", \"2015-09-11\", \"2015-09-14\", \"2015-09-15\", \"2015-09-16\", \"2015-09-17\", \"2015-09-18\", \"2015-09-21\", \"2015-09-22\", \"2015-09-23\", \"2015-09-24\", \"2015-09-25\", \"2015-09-28\", \"2015-09-29\", \"2015-09-30\", \"2015-10-01\", \"2015-10-02\", \"2015-10-05\", \"2015-10-06\", \"2015-10-07\", \"2015-10-08\", \"2015-10-09\", \"2015-10-12\", \"2015-10-13\", \"2015-10-14\", \"2015-10-15\", \"2015-10-16\", \"2015-10-19\", \"2015-10-20\", \"2015-10-21\", \"2015-10-22\", \"2015-10-23\", \"2015-10-26\", \"2015-10-27\", \"2015-10-28\", \"2015-10-29\", \"2015-10-30\", \"2015-11-02\", \"2015-11-03\", \"2015-11-04\", \"2015-11-05\", \"2015-11-06\", \"2015-11-09\", \"2015-11-10\", \"2015-11-11\", \"2015-11-12\", \"2015-11-13\", \"2015-11-16\", \"2015-11-17\", \"2015-11-18\", \"2015-11-19\", \"2015-11-20\", \"2015-11-23\", \"2015-11-24\", \"2015-11-25\", \"2015-11-27\", \"2015-11-30\", \"2015-12-01\", \"2015-12-02\", \"2015-12-03\", \"2015-12-04\", \"2015-12-07\", \"2015-12-08\", \"2015-12-09\", \"2015-12-10\", \"2015-12-11\", \"2015-12-14\", \"2015-12-15\", \"2015-12-16\", \"2015-12-17\", \"2015-12-18\", \"2015-12-21\", \"2015-12-22\", \"2015-12-23\", \"2015-12-24\", \"2015-12-28\", \"2015-12-29\", \"2015-12-30\", \"2015-12-31\", \"2016-01-04\", \"2016-01-05\", \"2016-01-06\", \"2016-01-07\", \"2016-01-08\", \"2016-01-11\", \"2016-01-12\", \"2016-01-13\", \"2016-01-14\", \"2016-01-15\", \"2016-01-19\", \"2016-01-20\", \"2016-01-21\", \"2016-01-22\", \"2016-01-25\", \"2016-01-26\", \"2016-01-27\", \"2016-01-28\", \"2016-01-29\", \"2016-02-01\", \"2016-02-02\", \"2016-02-03\", \"2016-02-04\", \"2016-02-05\", \"2016-02-08\", \"2016-02-09\", \"2016-02-10\", \"2016-02-11\", \"2016-02-12\", \"2016-02-16\", \"2016-02-17\", \"2016-02-18\", \"2016-02-19\", \"2016-02-22\", \"2016-02-23\", \"2016-02-24\", \"2016-02-25\", \"2016-02-26\", \"2016-02-29\", \"2016-03-01\", \"2016-03-02\", \"2016-03-03\", \"2016-03-04\", \"2016-03-07\", \"2016-03-08\", \"2016-03-09\", \"2016-03-10\", \"2016-03-11\", \"2016-03-14\", \"2016-03-15\", \"2016-03-16\", \"2016-03-17\", \"2016-03-18\", \"2016-03-21\", \"2016-03-22\", \"2016-03-23\", \"2016-03-24\", \"2016-03-28\", \"2016-03-29\", \"2016-03-30\", \"2016-03-31\", \"2016-04-01\", \"2016-04-04\", \"2016-04-05\", \"2016-04-06\", \"2016-04-07\", \"2016-04-08\", \"2016-04-11\", \"2016-04-12\", \"2016-04-13\", \"2016-04-14\", \"2016-04-15\", \"2016-04-18\", \"2016-04-19\", \"2016-04-20\", \"2016-04-21\", \"2016-04-22\", \"2016-04-25\", \"2016-04-26\", \"2016-04-27\", \"2016-04-28\", \"2016-04-29\", \"2016-05-02\", \"2016-05-03\", \"2016-05-04\", \"2016-05-05\", \"2016-05-06\", \"2016-05-09\", \"2016-05-10\", \"2016-05-11\", \"2016-05-12\", \"2016-05-13\", \"2016-05-16\", \"2016-05-17\", \"2016-05-18\", \"2016-05-19\", \"2016-05-20\", \"2016-05-23\", \"2016-05-24\", \"2016-05-25\", \"2016-05-26\", \"2016-05-27\", \"2016-05-31\", \"2016-06-01\", \"2016-06-02\", \"2016-06-03\", \"2016-06-06\", \"2016-06-07\", \"2016-06-08\", \"2016-06-09\", \"2016-06-10\", \"2016-06-13\", \"2016-06-14\", \"2016-06-15\", \"2016-06-16\", \"2016-06-17\", \"2016-06-20\", \"2016-06-21\", \"2016-06-22\", \"2016-06-23\", \"2016-06-24\", \"2016-06-27\", \"2016-06-28\", \"2016-06-29\", \"2016-06-30\", \"2016-07-01\", \"2016-07-05\", \"2016-07-06\", \"2016-07-07\", \"2016-07-08\", \"2016-07-11\", \"2016-07-12\", \"2016-07-13\", \"2016-07-14\", \"2016-07-15\", \"2016-07-18\", \"2016-07-19\", \"2016-07-20\", \"2016-07-21\", \"2016-07-22\", \"2016-07-25\", \"2016-07-26\", \"2016-07-27\", \"2016-07-28\", \"2016-07-29\", \"2016-08-01\", \"2016-08-02\", \"2016-08-03\", \"2016-08-04\", \"2016-08-05\", \"2016-08-08\", \"2016-08-09\", \"2016-08-10\", \"2016-08-11\", \"2016-08-12\", \"2016-08-15\", \"2016-08-16\", \"2016-08-17\", \"2016-08-18\", \"2016-08-19\", \"2016-08-22\", \"2016-08-23\", \"2016-08-24\", \"2016-08-25\", \"2016-08-26\", \"2016-08-29\", \"2016-08-30\", \"2016-08-31\", \"2016-09-01\", \"2016-09-02\", \"2016-09-06\", \"2016-09-07\", \"2016-09-08\", \"2016-09-12\", \"2016-09-13\", \"2016-09-14\", \"2016-09-15\", \"2016-09-16\", \"2016-09-20\", \"2016-09-21\", \"2016-09-22\", \"2016-09-23\", \"2016-09-26\", \"2016-09-27\", \"2016-09-28\", \"2016-09-29\", \"2016-09-30\", \"2016-10-03\", \"2016-10-04\", \"2016-10-05\", \"2016-10-06\", \"2016-10-07\", \"2016-10-10\", \"2016-10-11\", \"2016-10-12\", \"2016-10-13\", \"2016-10-14\", \"2016-10-17\", \"2016-10-18\", \"2016-10-19\", \"2016-10-20\", \"2016-10-21\", \"2016-10-24\", \"2016-10-25\", \"2016-10-26\", \"2016-10-27\", \"2016-10-28\", \"2016-11-01\", \"2016-11-02\", \"2016-11-03\", \"2016-11-04\", \"2016-11-07\", \"2016-11-08\", \"2016-11-09\", \"2016-11-10\", \"2016-11-11\", \"2016-11-14\", \"2016-11-15\", \"2016-11-16\", \"2016-11-17\", \"2016-11-18\", \"2016-11-21\", \"2016-11-23\", \"2016-11-25\", \"2016-11-28\", \"2016-11-29\", \"2016-11-30\", \"2016-12-01\", \"2016-12-02\", \"2016-12-05\", \"2016-12-06\", \"2016-12-07\", \"2016-12-08\", \"2016-12-09\", \"2016-12-12\", \"2016-12-13\", \"2016-12-14\", \"2016-12-15\", \"2016-12-19\", \"2016-12-20\", \"2016-12-21\", \"2016-12-22\", \"2016-12-23\", \"2016-12-27\", \"2016-12-28\", \"2016-12-29\", \"2016-12-30\", \"2017-01-03\", \"2017-01-04\", \"2017-01-05\", \"2017-01-06\", \"2017-01-09\", \"2017-01-10\", \"2017-01-11\", \"2017-01-12\", \"2017-01-13\", \"2017-01-17\", \"2017-01-18\", \"2017-01-19\", \"2017-01-20\", \"2017-01-23\", \"2017-01-24\", \"2017-01-25\", \"2017-01-26\", \"2017-01-27\", \"2017-01-30\", \"2017-01-31\", \"2017-02-01\", \"2017-02-02\", \"2017-02-03\", \"2017-02-06\", \"2017-02-07\", \"2017-02-08\", \"2017-02-09\", \"2017-02-10\", \"2017-02-13\", \"2017-02-14\", \"2017-02-15\", \"2017-02-16\", \"2017-02-17\", \"2017-02-21\", \"2017-02-22\", \"2017-02-23\", \"2017-02-24\", \"2017-02-27\", \"2017-02-28\", \"2017-03-01\", \"2017-03-02\", \"2017-03-03\", \"2017-03-06\", \"2017-03-07\", \"2017-03-08\", \"2017-03-09\", \"2017-03-10\", \"2017-03-13\", \"2017-03-14\", \"2017-03-15\", \"2017-03-16\", \"2017-03-17\", \"2017-03-20\", \"2017-03-21\", \"2017-03-22\", \"2017-03-23\", \"2017-03-24\", \"2017-03-27\", \"2017-03-28\", \"2017-03-29\", \"2017-03-30\", \"2017-03-31\", \"2017-04-03\", \"2017-04-04\", \"2017-04-05\", \"2017-04-06\", \"2017-04-07\", \"2017-04-10\", \"2017-04-11\", \"2017-04-13\", \"2017-04-17\", \"2017-04-18\", \"2017-04-19\", \"2017-04-20\", \"2017-04-21\", \"2017-04-24\", \"2017-04-25\", \"2017-04-26\", \"2017-04-27\", \"2017-04-28\", \"2017-05-01\", \"2017-05-02\", \"2017-05-03\", \"2017-05-04\", \"2017-05-05\", \"2017-05-08\", \"2017-05-09\", \"2017-05-10\", \"2017-05-11\", \"2017-05-12\", \"2017-05-15\", \"2017-05-16\", \"2017-05-17\", \"2017-05-18\", \"2017-05-19\", \"2017-05-22\", \"2017-05-23\", \"2017-05-24\", \"2017-05-25\", \"2017-05-26\", \"2017-05-30\", \"2017-05-31\", \"2017-06-01\", \"2017-06-02\", \"2017-06-05\", \"2017-06-06\", \"2017-06-07\", \"2017-06-08\", \"2017-06-09\", \"2017-06-12\", \"2017-06-13\", \"2017-06-14\", \"2017-06-15\", \"2017-06-16\", \"2017-06-19\", \"2017-06-20\", \"2017-06-21\", \"2017-06-22\", \"2017-06-23\", \"2017-06-26\", \"2017-06-27\", \"2017-06-28\", \"2017-06-29\", \"2017-06-30\", \"2017-07-03\", \"2017-07-05\", \"2017-07-06\", \"2017-07-07\", \"2017-07-10\", \"2017-07-11\", \"2017-07-12\", \"2017-07-13\", \"2017-07-14\", \"2017-07-17\", \"2017-07-18\", \"2017-07-19\", \"2017-07-20\", \"2017-07-21\", \"2017-07-24\", \"2017-07-25\", \"2017-07-26\", \"2017-07-27\", \"2017-07-28\", \"2017-07-31\", \"2017-08-01\", \"2017-08-02\", \"2017-08-03\", \"2017-08-07\", \"2017-08-08\", \"2017-08-09\", \"2017-08-10\", \"2017-08-11\", \"2017-08-14\", \"2017-08-15\", \"2017-08-16\", \"2017-08-17\", \"2017-08-18\", \"2017-08-21\", \"2017-08-22\", \"2017-08-23\", \"2017-08-24\", \"2017-08-25\", \"2017-08-28\", \"2017-08-29\", \"2017-08-30\", \"2017-08-31\", \"2017-09-01\", \"2017-09-05\", \"2017-09-06\", \"2017-09-07\", \"2017-09-08\", \"2017-09-11\", \"2017-09-12\", \"2017-09-13\", \"2017-09-14\", \"2017-09-15\", \"2017-09-18\", \"2017-09-19\", \"2017-09-20\", \"2017-09-21\", \"2017-09-22\", \"2017-09-25\", \"2017-09-26\", \"2017-09-27\", \"2017-09-28\", \"2017-09-29\", \"2017-10-02\", \"2017-10-03\", \"2017-10-04\", \"2017-10-05\", \"2017-10-06\", \"2017-10-09\", \"2017-10-10\", \"2017-10-11\", \"2017-10-12\", \"2017-10-13\", \"2017-10-16\", \"2017-10-18\", \"2017-10-19\", \"2017-10-20\", \"2017-10-23\", \"2017-10-24\", \"2017-10-25\", \"2017-10-26\", \"2017-10-27\", \"2017-10-30\", \"2017-10-31\", \"2017-11-01\", \"2017-11-02\", \"2017-11-03\", \"2017-11-06\", \"2017-11-07\", \"2017-11-08\", \"2017-11-09\", \"2017-11-10\", \"2017-11-13\", \"2017-11-14\", \"2017-11-15\", \"2017-11-16\", \"2017-11-17\", \"2017-11-20\", \"2017-11-21\", \"2017-11-22\", \"2017-11-24\", \"2017-11-27\", \"2017-11-28\", \"2017-11-29\", \"2017-11-30\", \"2017-12-01\", \"2017-12-04\", \"2017-12-05\", \"2017-12-06\", \"2017-12-07\", \"2017-12-08\", \"2017-12-11\", \"2017-12-12\", \"2017-12-13\", \"2017-12-14\", \"2017-12-15\", \"2017-12-18\", \"2017-12-19\", \"2017-12-20\", \"2017-12-21\", \"2017-12-22\", \"2017-12-26\", \"2017-12-27\", \"2017-12-28\", \"2017-12-29\", \"2018-01-02\", \"2018-01-03\", \"2018-01-04\", \"2018-01-05\", \"2018-01-08\", \"2018-01-09\", \"2018-01-10\", \"2018-01-11\", \"2018-01-12\", \"2018-01-16\", \"2018-01-17\", \"2018-01-18\", \"2018-01-19\", \"2018-01-22\", \"2018-01-23\", \"2018-01-24\", \"2018-01-25\", \"2018-01-26\", \"2018-01-29\", \"2018-01-30\", \"2018-01-31\", \"2018-02-01\", \"2018-02-02\", \"2018-02-05\", \"2018-02-06\", \"2018-02-07\", \"2018-02-08\", \"2018-02-09\", \"2018-02-12\", \"2018-02-13\", \"2018-02-14\", \"2018-02-15\", \"2018-02-16\", \"2018-02-20\", \"2018-02-21\", \"2018-02-22\", \"2018-02-23\", \"2018-02-26\", \"2018-02-27\", \"2018-02-28\", \"2018-03-01\", \"2018-03-02\", \"2018-03-05\", \"2018-03-06\", \"2018-03-07\", \"2018-03-08\", \"2018-03-09\", \"2018-03-12\", \"2018-03-13\", \"2018-03-14\", \"2018-03-15\", \"2018-03-16\", \"2018-03-19\", \"2018-03-20\", \"2018-03-21\", \"2018-03-22\", \"2018-03-23\", \"2018-03-26\", \"2018-03-27\", \"2018-03-28\", \"2018-03-29\", \"2018-04-02\", \"2018-04-03\", \"2018-04-04\", \"2018-04-05\", \"2018-04-06\", \"2018-04-09\", \"2018-04-10\", \"2018-04-11\", \"2018-04-12\", \"2018-04-13\", \"2018-04-16\", \"2018-04-17\", \"2018-04-18\", \"2018-04-19\", \"2018-04-20\", \"2018-04-23\", \"2018-04-24\", \"2018-04-25\", \"2018-04-26\", \"2018-04-27\", \"2018-04-30\", \"2018-05-01\", \"2018-05-02\", \"2018-05-03\", \"2018-05-04\", \"2018-05-07\", \"2018-05-08\", \"2018-05-09\", \"2018-05-10\", \"2018-05-11\", \"2018-05-14\", \"2018-05-15\", \"2018-05-16\", \"2018-05-17\", \"2018-05-21\", \"2018-05-22\", \"2018-05-23\", \"2018-05-24\", \"2018-05-25\", \"2018-05-29\", \"2018-05-30\", \"2018-05-31\", \"2018-06-01\", \"2018-06-04\", \"2018-06-05\", \"2018-06-06\", \"2018-06-07\", \"2018-06-08\", \"2018-06-11\", \"2018-06-12\", \"2018-06-13\", \"2018-06-14\", \"2018-06-15\", \"2018-06-18\", \"2018-06-19\", \"2018-06-20\", \"2018-06-21\", \"2018-06-22\", \"2018-06-25\", \"2018-06-26\", \"2018-06-27\", \"2018-06-28\", \"2018-06-29\", \"2018-07-02\", \"2018-07-03\", \"2018-07-05\", \"2018-07-06\", \"2018-07-09\", \"2018-07-10\", \"2018-07-11\", \"2018-07-12\", \"2018-07-13\", \"2018-07-16\", \"2018-07-17\", \"2018-07-18\", \"2018-07-19\", \"2018-07-20\", \"2018-07-23\", \"2018-07-24\", \"2018-07-25\", \"2018-07-26\", \"2018-07-27\", \"2018-07-30\", \"2018-07-31\", \"2018-08-01\", \"2018-08-02\", \"2018-08-03\", \"2018-08-06\", \"2018-08-07\", \"2018-08-08\", \"2018-08-09\", \"2018-08-10\", \"2018-08-13\", \"2018-08-14\", \"2018-08-15\", \"2018-08-16\", \"2018-08-17\", \"2018-08-20\", \"2018-08-21\", \"2018-08-22\", \"2018-08-23\", \"2018-08-24\", \"2018-08-27\", \"2018-08-28\", \"2018-08-29\", \"2018-08-30\", \"2018-08-31\", \"2018-09-04\", \"2018-09-05\", \"2018-09-06\", \"2018-09-07\", \"2018-09-10\", \"2018-09-11\", \"2018-09-12\", \"2018-09-13\", \"2018-09-14\", \"2018-09-17\", \"2018-09-18\", \"2018-09-19\", \"2018-09-20\", \"2018-09-21\", \"2018-09-24\", \"2018-09-25\", \"2018-09-26\", \"2018-09-27\", \"2018-09-28\", \"2018-10-01\", \"2018-10-02\", \"2018-10-03\", \"2018-10-04\", \"2018-10-05\", \"2018-10-08\", \"2018-10-09\", \"2018-10-10\", \"2018-10-11\", \"2018-10-12\", \"2018-10-15\", \"2018-10-16\", \"2018-10-17\", \"2018-10-18\", \"2018-10-19\", \"2018-10-22\", \"2018-10-23\", \"2018-10-24\", \"2018-10-25\", \"2018-10-26\", \"2018-10-29\", \"2018-10-30\", \"2018-10-31\", \"2018-11-01\", \"2018-11-02\", \"2018-11-05\", \"2018-11-06\", \"2018-11-07\", \"2018-11-08\", \"2018-11-09\", \"2018-11-12\", \"2018-11-13\", \"2018-11-14\", \"2018-11-15\", \"2018-11-16\", \"2018-11-19\", \"2018-11-20\", \"2018-11-21\", \"2018-11-26\", \"2018-11-27\", \"2018-11-28\", \"2018-11-29\", \"2018-11-30\", \"2018-12-03\", \"2018-12-04\", \"2018-12-06\", \"2018-12-07\", \"2018-12-10\", \"2018-12-11\", \"2018-12-12\", \"2018-12-13\", \"2018-12-14\", \"2018-12-17\", \"2018-12-18\", \"2018-12-19\", \"2018-12-20\", \"2018-12-21\", \"2018-12-24\", \"2018-12-26\", \"2018-12-27\", \"2018-12-28\", \"2018-12-31\", \"2019-01-02\", \"2019-01-03\", \"2019-01-04\", \"2019-01-07\", \"2019-01-08\", \"2019-01-09\", \"2019-01-10\", \"2019-01-11\", \"2019-01-14\", \"2019-01-15\", \"2019-01-16\", \"2019-01-17\", \"2019-01-18\", \"2019-01-22\", \"2019-01-23\", \"2019-01-24\", \"2019-01-25\", \"2019-01-28\", \"2019-01-29\", \"2019-01-30\", \"2019-01-31\", \"2019-02-01\", \"2019-02-04\", \"2019-02-05\", \"2019-02-06\", \"2019-02-07\", \"2019-02-08\", \"2019-02-11\", \"2019-02-12\", \"2019-02-13\", \"2019-02-14\", \"2019-02-15\", \"2019-02-19\", \"2019-02-20\", \"2019-02-21\", \"2019-02-22\", \"2019-02-25\", \"2019-02-26\", \"2019-02-27\", \"2019-02-28\", \"2019-03-01\", \"2019-03-04\", \"2019-03-05\", \"2019-03-06\", \"2019-03-07\", \"2019-03-08\", \"2019-03-11\", \"2019-03-12\", \"2019-03-13\", \"2019-03-14\", \"2019-03-15\", \"2019-03-18\", \"2019-03-19\", \"2019-03-20\", \"2019-03-21\", \"2019-03-22\", \"2019-03-25\", \"2019-03-26\", \"2019-03-27\", \"2019-03-28\", \"2019-03-29\", \"2019-04-01\", \"2019-04-02\", \"2019-04-03\", \"2019-04-04\", \"2019-04-05\", \"2019-04-08\", \"2019-04-09\", \"2019-04-10\", \"2019-04-11\", \"2019-04-12\", \"2019-04-15\", \"2019-04-16\", \"2019-04-17\", \"2019-04-18\", \"2019-04-22\", \"2019-04-23\", \"2019-04-24\", \"2019-04-25\", \"2019-04-26\", \"2019-04-29\", \"2019-04-30\", \"2019-05-01\", \"2019-05-02\", \"2019-05-03\", \"2019-05-06\", \"2019-05-07\", \"2019-05-08\", \"2019-05-09\", \"2019-05-10\", \"2019-05-13\", \"2019-05-14\", \"2019-05-15\", \"2019-05-16\", \"2019-05-17\", \"2019-05-20\", \"2019-05-21\", \"2019-05-22\", \"2019-05-23\", \"2019-05-24\", \"2019-05-28\", \"2019-05-29\", \"2019-05-30\", \"2019-05-31\", \"2019-06-03\", \"2019-06-04\", \"2019-06-05\", \"2019-06-06\", \"2019-06-07\", \"2019-06-10\", \"2019-06-11\", \"2019-06-12\", \"2019-06-13\", \"2019-06-14\", \"2019-06-17\", \"2019-06-18\", \"2019-06-19\", \"2019-06-20\", \"2019-06-21\", \"2019-06-24\", \"2019-06-25\", \"2019-06-26\", \"2019-06-27\", \"2019-06-28\", \"2019-07-01\", \"2019-07-02\", \"2019-07-03\", \"2019-07-05\", \"2019-07-08\", \"2019-07-09\", \"2019-07-10\", \"2019-07-11\", \"2019-07-12\", \"2019-07-15\", \"2019-07-16\", \"2019-07-17\", \"2019-07-18\", \"2019-07-19\", \"2019-07-22\", \"2019-07-23\", \"2019-07-24\", \"2019-07-25\", \"2019-07-26\", \"2019-07-29\", \"2019-07-30\", \"2019-07-31\", \"2019-08-01\", \"2019-08-02\", \"2019-08-05\", \"2019-08-06\", \"2019-08-07\", \"2019-08-08\", \"2019-08-09\", \"2019-08-12\", \"2019-08-13\", \"2019-08-14\", \"2019-08-15\", \"2019-08-16\", \"2019-08-19\", \"2019-08-20\", \"2019-08-21\", \"2019-08-22\", \"2019-08-23\", \"2019-08-26\", \"2019-08-27\", \"2019-08-28\", \"2019-08-29\", \"2019-08-30\", \"2019-09-03\", \"2019-09-04\", \"2019-09-05\", \"2019-09-06\", \"2019-09-09\", \"2019-09-10\", \"2019-09-11\", \"2019-09-12\", \"2019-09-13\", \"2019-09-16\", \"2019-09-17\", \"2019-09-18\", \"2019-09-19\", \"2019-09-20\", \"2019-09-23\", \"2019-09-24\", \"2019-09-25\", \"2019-09-26\", \"2019-09-27\", \"2019-09-30\", \"2019-10-01\", \"2019-10-02\", \"2019-10-03\", \"2019-10-04\", \"2019-10-07\", \"2019-10-08\", \"2019-10-09\", \"2019-10-10\", \"2019-10-11\", \"2019-10-14\", \"2019-10-15\", \"2019-10-16\", \"2019-10-17\", \"2019-10-18\", \"2019-10-21\", \"2019-10-22\", \"2019-10-23\", \"2019-10-24\", \"2019-10-25\", \"2019-10-28\", \"2019-10-29\", \"2019-10-30\", \"2019-10-31\", \"2019-11-01\", \"2019-11-04\", \"2019-11-05\", \"2019-11-06\", \"2019-11-07\", \"2019-11-08\", \"2019-11-11\", \"2019-11-12\", \"2019-11-13\", \"2019-11-14\", \"2019-11-15\", \"2019-11-18\", \"2019-11-19\", \"2019-11-20\", \"2019-11-21\", \"2019-11-22\", \"2019-11-25\", \"2019-11-26\", \"2019-11-27\", \"2019-11-29\", \"2019-12-02\", \"2019-12-03\", \"2019-12-04\", \"2019-12-05\", \"2019-12-06\", \"2019-12-09\", \"2019-12-10\", \"2019-12-11\", \"2019-12-12\", \"2019-12-13\", \"2019-12-16\", \"2019-12-17\", \"2019-12-18\", \"2019-12-19\", \"2019-12-20\", \"2019-12-23\", \"2019-12-24\", \"2019-12-26\", \"2019-12-27\", \"2019-12-30\", \"2019-12-31\", \"2020-01-02\", \"2020-01-03\", \"2020-01-06\", \"2020-01-07\", \"2020-01-08\", \"2020-01-09\", \"2020-01-10\", \"2020-01-13\", \"2020-01-14\", \"2020-01-15\", \"2020-01-16\", \"2020-01-17\", \"2020-01-21\", \"2020-01-22\", \"2020-01-23\", \"2020-01-24\", \"2020-01-27\", \"2020-01-28\", \"2020-01-29\", \"2020-01-30\", \"2020-01-31\", \"2020-02-03\", \"2020-02-04\", \"2020-02-05\", \"2020-02-06\", \"2020-02-07\", \"2020-02-10\", \"2020-02-11\", \"2020-02-12\", \"2020-02-13\", \"2020-02-14\", \"2020-02-18\", \"2020-02-19\", \"2020-02-20\", \"2020-02-21\", \"2020-02-24\", \"2020-02-25\", \"2020-02-26\", \"2020-02-27\", \"2020-02-28\", \"2020-03-02\", \"2020-03-03\", \"2020-03-04\", \"2020-03-05\", \"2020-03-06\", \"2020-03-09\", \"2020-03-10\", \"2020-03-11\", \"2020-03-12\", \"2020-03-13\", \"2020-03-16\", \"2020-03-17\", \"2020-03-18\", \"2020-03-19\", \"2020-03-20\", \"2020-03-23\", \"2020-03-24\", \"2020-03-25\", \"2020-03-26\", \"2020-03-27\", \"2020-03-30\", \"2020-03-31\", \"2020-04-01\", \"2020-04-02\", \"2020-04-03\", \"2020-04-06\", \"2020-04-07\", \"2020-04-08\", \"2020-04-09\", \"2020-04-13\", \"2020-04-14\", \"2020-04-15\", \"2020-04-16\", \"2020-04-17\", \"2020-04-20\", \"2020-04-21\", \"2020-04-22\", \"2020-04-23\", \"2020-04-24\", \"2020-04-27\", \"2020-04-28\", \"2020-04-29\", \"2020-04-30\", \"2020-05-01\", \"2020-05-04\", \"2020-05-05\", \"2020-05-06\", \"2020-05-07\", \"2020-05-08\", \"2020-05-11\", \"2020-05-12\", \"2020-05-13\", \"2020-05-14\", \"2020-05-15\", \"2020-05-18\", \"2020-05-19\", \"2020-05-20\", \"2020-05-21\", \"2020-05-22\", \"2020-05-26\", \"2020-05-27\", \"2020-05-28\", \"2020-05-29\", \"2020-06-01\", \"2020-06-02\", \"2020-06-03\", \"2020-06-04\", \"2020-06-05\", \"2020-06-08\", \"2020-06-09\", \"2020-06-10\", \"2020-06-11\", \"2020-06-12\", \"2020-06-15\", \"2020-06-16\", \"2020-06-17\", \"2020-06-18\", \"2020-06-19\", \"2020-06-22\", \"2020-06-23\", \"2020-06-24\", \"2020-06-25\", \"2020-06-26\", \"2020-06-29\", \"2020-06-30\", \"2020-07-01\", \"2020-07-02\", \"2020-07-06\", \"2020-07-07\", \"2020-07-08\", \"2020-07-09\", \"2020-07-10\", \"2020-07-13\", \"2020-07-14\", \"2020-07-15\", \"2020-07-16\", \"2020-07-17\", \"2020-07-20\", \"2020-07-21\", \"2020-07-22\", \"2020-07-23\", \"2020-07-24\", \"2020-07-27\", \"2020-07-28\", \"2020-07-29\", \"2020-07-30\", \"2020-07-31\", \"2020-08-03\", \"2020-08-04\", \"2020-08-05\", \"2020-08-06\", \"2020-08-07\", \"2020-08-10\", \"2020-08-11\", \"2020-08-12\", \"2020-08-13\", \"2020-08-14\", \"2020-08-17\", \"2020-08-18\", \"2020-08-19\", \"2020-08-20\", \"2020-08-21\", \"2020-08-24\", \"2020-08-25\", \"2020-08-26\", \"2020-08-27\", \"2020-08-28\", \"2020-08-31\", \"2020-09-01\", \"2020-09-02\", \"2020-09-03\", \"2020-09-04\", \"2020-09-08\", \"2020-09-09\", \"2020-09-10\", \"2020-09-11\", \"2020-09-14\", \"2020-09-15\", \"2020-09-16\", \"2020-09-17\", \"2020-09-18\", \"2020-09-21\", \"2020-09-22\", \"2020-09-23\", \"2020-09-24\", \"2020-09-25\", \"2020-09-28\", \"2020-09-29\", \"2020-09-30\", \"2020-10-01\", \"2020-10-02\", \"2020-10-05\", \"2020-10-06\", \"2020-10-07\", \"2020-10-08\", \"2020-10-09\", \"2020-10-12\", \"2020-10-13\", \"2020-10-14\", \"2020-10-15\", \"2020-10-16\", \"2020-10-19\", \"2020-10-20\", \"2020-10-21\", \"2020-10-22\", \"2020-10-23\", \"2020-10-26\", \"2020-10-27\", \"2020-10-28\", \"2020-10-29\", \"2020-10-30\", \"2020-11-02\", \"2020-11-03\", \"2020-11-04\", \"2020-11-05\", \"2020-11-06\", \"2020-11-09\", \"2020-11-10\", \"2020-11-11\", \"2020-11-12\", \"2020-11-13\", \"2020-11-16\", \"2020-11-17\", \"2020-11-18\", \"2020-11-19\", \"2020-11-20\", \"2020-11-23\", \"2020-11-24\", \"2020-11-25\", \"2020-11-27\", \"2020-11-30\", \"2020-12-01\", \"2020-12-02\", \"2020-12-03\", \"2020-12-04\", \"2020-12-07\", \"2020-12-08\", \"2020-12-09\", \"2020-12-10\", \"2020-12-11\", \"2020-12-14\", \"2020-12-15\", \"2020-12-16\", \"2020-12-17\", \"2020-12-18\", \"2020-12-21\", \"2020-12-22\", \"2020-12-23\", \"2020-12-24\", \"2020-12-28\", \"2020-12-29\", \"2020-12-30\", \"2020-12-31\", \"2021-01-04\", \"2021-01-05\", \"2021-01-06\", \"2021-01-07\", \"2021-01-08\", \"2021-01-11\", \"2021-01-12\", \"2021-01-13\", \"2021-01-14\", \"2021-01-15\", \"2021-01-19\", \"2021-01-20\", \"2021-01-21\", \"2021-01-22\", \"2021-01-25\", \"2021-01-26\", \"2021-01-27\", \"2021-01-28\", \"2021-01-29\", \"2021-02-01\", \"2021-02-02\", \"2021-02-03\", \"2021-02-04\", \"2021-02-05\", \"2021-02-08\", \"2021-02-09\", \"2021-02-10\", \"2021-02-11\", \"2021-02-12\", \"2021-02-16\", \"2021-02-17\", \"2021-02-18\", \"2021-02-19\", \"2021-02-22\", \"2021-02-23\", \"2021-02-24\", \"2021-02-25\", \"2021-02-26\", \"2021-03-01\", \"2021-03-02\", \"2021-03-03\", \"2021-03-04\", \"2021-03-05\", \"2021-03-08\", \"2021-03-09\", \"2021-03-10\", \"2021-03-11\", \"2021-03-12\", \"2021-03-15\", \"2021-03-16\", \"2021-03-17\", \"2021-03-18\", \"2021-03-19\", \"2021-03-22\", \"2021-03-23\", \"2021-03-24\", \"2021-03-25\", \"2021-03-26\", \"2021-03-29\", \"2021-03-30\"], \"y\": [0.0, 0.0, -0.78, 0.0, -0.34, -1.45, -1.78, -1.98, -2.17, -2.84, -1.78, -1.28, -1.49, -4.19, -3.16, -2.89, -2.84, -1.59, -0.72, 0.0, -2.17, -2.88, -3.13, -1.92, -0.87, -1.64, -0.58, 0.0, 0.0, -0.67, -1.49, -0.96, -0.53, -0.63, -0.05, 0.0, -1.74, -0.74, 0.0, 0.0, 0.0, 0.0, -0.77, -0.18, 0.0, 0.0, 0.0, -0.87, -1.46, -0.5, -0.95, -0.5, -0.36, 0.0, -0.41, -0.73, 0.0, -1.9, -0.32, 0.0, 0.0, -0.9, -0.54, -0.24, -0.89, -3.33, -4.26, -3.02, -4.62, -1.62, -1.75, -3.77, -2.72, -3.19, -2.95, -1.08, -1.01, -0.49, -0.04, 0.0, 0.0, 0.0, -0.47, 0.0, 0.0, 0.0, -0.09, 0.0, 0.0, -0.34, -1.35, -0.08, 0.0, -0.12, -0.89, -1.1, -1.86, -1.56, -3.04, -3.0, -2.36, -1.73, -2.2, -2.41, -3.18, -5.12, -4.95, -6.73, -6.77, -6.37, -5.84, -3.94, -4.28, -6.73, -8.71, -10.48, -9.68, -7.53, -10.48, -11.96, -11.33, -10.61, -9.58, -8.92, -8.71, -7.15, -8.33, -9.0, -10.82, -11.65, -10.43, -10.4, -9.6, -9.47, -9.6, -10.95, -12.59, -13.06, -13.19, -10.85, -11.41, -11.83, -12.72, -12.13, -11.41, -11.9, -11.37, -10.96, -10.44, -9.41, -9.21, -9.22, -9.89, -10.0, -9.78, -9.03, -8.27, -7.78, -7.35, -6.81, -6.77, -6.89, -6.56, -6.01, -5.16, -4.5, -4.76, -4.67, -3.95, -4.88, -4.29, -3.57, -3.69, -3.19, -2.38, -2.77, -2.68, -4.18, -6.44, -5.98, -6.36, -6.38, -5.97, -6.95, -6.61, -7.92, -6.7, -6.11, -5.6, -5.56, -4.83, -5.35, -5.68, -5.6, -3.65, -5.52, -6.65, -5.68, -6.87, -7.21, -7.37, -6.79, -5.94, -6.15, -5.64, -5.13, -4.92, -4.18, -3.49, -3.06, -3.26, -2.72, -2.59, -1.71, -1.5, -1.54, -0.64, -0.08, -0.7, -1.23, -0.36, 0.0, -0.8, -0.04, 0.0, -0.78, -2.81, -1.85, -1.47, -1.33, -0.96, -2.69, -3.27, -2.6, -4.16, -3.44, -3.02, -3.44, -5.63, -4.57, -3.47, -3.99, -5.17, -4.12, -5.67, -8.66, -10.96, -10.75, -10.33, -9.28, -8.06, -6.97, -4.96, -6.34, -4.67, -4.2, -4.46, -3.78, -4.83, -4.19, -3.4, -3.06, -2.9, -2.9, -1.68, -1.16, -0.98, -0.46, 0.0, -1.12, -0.24, -0.56, -0.38, -1.46, -0.72, -0.07, 0.0, -0.67, -0.17, -1.0, -3.25, -2.35, -1.75, -2.5, -2.79, -4.08, -3.31, -5.12, -4.69, -4.99, -6.08, -6.78, -4.58, -2.79, -1.95, -1.29, -1.67, -1.18, -1.16, -1.52, -2.43, -2.9, -3.33, -4.69, -4.18, -4.01, -2.01, -1.84, -3.28, -3.5, -3.88, -5.96, -4.99, -4.65, -4.22, -2.77, -2.56, -1.54, -2.22, -3.92, -4.74, -5.69, -5.88, -2.9, -2.69, -1.88, -0.99, -1.41, -0.47, 0.0, 0.0, 0.0, 0.0, 0.0, 0.0, 0.0, -0.7, -0.82, -0.49, -0.12, -0.78, -0.37, -0.62, -0.45, -0.21, -1.48, -1.14, -2.33, -2.14, -0.99, -1.81, -0.58, -0.16, 0.0, 0.0, 0.0, -0.28, 0.0, -1.6, -1.86, -1.3, -0.83, -1.09, -1.9, -1.54, -0.93, -0.36, 0.0, -0.04, -0.04, -0.04, -0.32, 0.0, 0.0, -1.77, -1.19, -0.74, -0.54, -0.17, -0.02, -0.34, -1.78, -3.44, -4.16, -3.84, -3.68, -5.1, -5.07, -3.95, -2.81, -2.93, -2.99, -2.81, -2.29, -2.25, -2.29, -1.82, -1.5, -1.0, -0.66, -1.61, -1.49, -1.44, -1.93, -1.25, -1.46, -0.83, -1.56, -0.86, -1.71, -1.73, -1.33, -1.28, -1.22, -1.49, -1.29, -1.17, -0.58, -0.62, -0.86, -1.06, -1.89, -1.69, -2.68, -4.91, -3.84, -3.77, -4.24, -5.15, -4.92, -6.71, -5.34, -4.52, -3.13, -2.37, -3.13, -2.44, -2.29, -2.25, -2.34, -1.97, -2.53, -3.6, -5.63, -4.2, -4.2, -4.24, -4.27, -5.24, -5.25, -5.3, -6.87, -7.55, -6.07, -8.05, -8.82, -8.74, -8.38, -7.66, -8.14, -9.26, -12.4, -14.2, -16.98, -17.14, -15.36, -13.08, -12.68, -13.16, -15.87, -15.19, -14.55, -16.27, -15.27, -15.31, -15.95, -15.99, -16.21, -15.47, -14.39, -13.49, -15.07, -15.83, -18.03, -18.38, -18.73, -20.01, -22.91, -23.03, -20.76, -21.04, -18.42, -16.94, -17.88, -16.04, -15.51, -14.79, -14.99, -15.81, -16.23, -14.91, -14.51, -14.12, -14.75, -16.23, -16.03, -14.27, -14.35, -14.13, -12.84, -14.46, -14.51, -13.32, -12.72, -12.48, -13.36, -13.3, -14.01, -14.2, -14.99, -15.87, -17.1, -16.6, -16.78, -15.75, -15.79, -15.35, -14.82, -14.77, -14.23, -14.39, -14.27, -13.68, -13.86, -15.83, -15.03, -15.84, -15.83, -16.86, -16.15, -18.69, -18.94, -17.82, -16.38, -17.34, -18.53, -18.41, -17.65, -16.34, -16.22, -17.21, -16.14, -17.09, -16.76, -19.21, -19.4, -21.04, -23.3, -24.26, -25.45, -25.15, -27.17, -26.66, -28.37, -28.97, -29.48, -29.36, -27.79, -28.77, -28.73, -30.24, -30.57, -29.92, -29.6, -30.87, -32.81, -30.92, -32.99, -35.9, -35.74, -34.79, -36.73, -35.22, -32.39, -30.31, -30.88, -30.28, -29.01, -30.27, -30.68, -30.03, -28.77, -28.33, -27.24, -26.02, -26.1, -25.22, -25.0, -26.66, -26.38, -26.58, -24.62, -25.11, -26.32, -25.62, -24.94, -24.39, -23.92, -23.63, -25.04, -25.6, -25.16, -23.88, -23.55, -23.05, -22.56, -22.69, -23.92, -22.57, -23.41, -23.29, -22.72, -22.37, -20.65, -20.36, -20.39, -20.15, -19.81, -19.05, -19.33, -19.15, -19.8, -19.75, -19.27, -19.03, -20.29, -20.02, -21.49, -22.41, -22.41, -22.5, -22.61, -21.68, -22.24, -23.29, -23.52, -22.49, -22.86, -22.61, -22.73, -21.75, -21.53, -20.65, -20.99, -20.75, -19.93, -19.37, -19.53, -19.53, -20.01, -19.03, -19.11, -19.21, -19.94, -21.71, -22.4, -23.94, -23.76, -24.24, -24.0, -22.52, -22.6, -23.12, -21.88, -24.99, -27.72, -26.84, -24.33, -23.2, -22.98, -23.8, -23.84, -23.34, -22.08, -20.73, -20.23, -20.6, -20.21, -20.41, -19.85, -20.13, -19.29, -19.39, -19.05, -19.36, -19.29, -19.01, -19.05, -19.09, -19.37, -20.25, -19.45, -18.77, -18.25, -17.83, -17.97, -18.55, -17.77, -17.09, -16.01, -17.09, -17.78, -17.17, -17.08, -17.13, -16.23, -16.89, -17.29, -17.17, -16.81, -16.59, -16.41, -16.72, -15.73, -15.57, -15.13, -15.25, -16.73, -18.37, -18.13, -17.29, -17.1, -17.26, -16.42, -14.9, -14.9, -15.82, -15.02, -14.9, -16.02, -15.3, -15.78, -15.94, -15.34, -15.54, -16.31, -15.7, -17.34, -17.52, -17.9, -17.73, -18.0, -17.26, -16.9, -16.7, -16.42, -15.9, -16.5, -17.46, -18.04, -18.98, -19.46, -19.94, -21.78, -21.1, -19.5, -19.58, -18.78, -18.25, -18.17, -17.99, -17.03, -17.1, -16.62, -16.42, -15.98, -16.22, -15.9, -16.59, -16.76, -16.73, -17.3, -18.06, -17.7, -16.94, -16.38, -15.34, -15.42, -16.18, -16.47, -17.04, -17.18, -16.7, -16.45, -16.47, -17.1, -16.78, -15.98, -16.74, -16.98, -17.3, -16.7, -15.18, -14.88, -14.54, -14.24, -14.6, -14.34, -14.57, -13.9, -14.26, -13.86, -13.78, -13.2, -13.7, -12.56, -12.11, -12.95, -13.17, -14.43, -14.3, -14.26, -13.67, -12.78, -13.44, -13.42, -14.02, -12.38, -11.78, -11.18, -10.37, -9.31, -9.94, -9.53, -8.73, -8.86, -8.73, -9.05, -8.69, -9.58, -8.6, -9.58, -9.27, -10.04, -10.52, -10.38, -10.68, -10.17, -10.06, -10.7, -10.33, -9.66, -9.29, -9.69, -11.05, -10.53, -9.6, -9.3, -8.81, -8.13, -7.68, -7.65, -7.4, -8.2, -8.13, -9.31, -9.01, -8.85, -8.56, -8.89, -9.47, -8.69, -8.57, -7.73, -6.8, -6.95, -5.88, -5.28, -4.92, -4.63, -4.68, -3.97, -3.28, -4.36, -2.9, -1.56, -1.29, -0.84, -0.2, -1.5, -1.28, 0.0, -0.08, -2.28, -2.01, -1.6, -0.78, -0.72, 0.0, 0.0, 0.0, -0.32, -0.08, 0.0, 0.0, -0.35, -0.1, -0.43, -0.27, -1.57, -2.75, -1.97, -2.21, -2.65, -2.92, -1.29, -2.5, -2.65, -2.03, -2.07, -1.95, -2.92, -1.72, -3.15, -2.73, -3.39, -3.15, -4.05, -3.24, -3.21, -2.69, -1.66, -1.82, -0.86, -0.71, -0.86, 0.0, 0.0, -0.35, 0.0, 0.0, 0.0, -1.2, -1.31, -1.53, -0.74, -2.52, -1.97, -1.45, -1.7, -1.95, -3.45, -3.04, -2.13, -2.69, -2.27, -2.62, -2.88, -3.31, -2.28, -1.93, -1.59, -1.36, -1.24, -1.29, -0.59, -0.21, 0.0, -0.72, 0.0, -0.42, -1.18, 0.0, 0.0, -0.68, -0.42, -0.73, 0.0, 0.0, -0.86, -0.74, -0.42, -1.66, -1.32, -0.24, -0.73, 0.0, 0.0, 0.0, 0.0, 0.0, -0.15, 0.0, 0.0, 0.0, -0.01, -0.21, 0.0, -0.35, -1.09, 0.0, -1.01, -0.41, -1.13, -0.81, -0.29, -0.05, 0.0, -0.04, -1.49, -0.93, -0.34, -1.84, -2.18, -2.5, -1.89, -2.43, -2.96, -2.96, -1.32, -0.33, 0.0, 0.0, 0.0, 0.0, -2.67, -2.18, -4.33, -3.72, -4.4, -4.95, -4.78, -4.74, -3.93, -3.48, -2.7, -2.89, -3.35, -3.75, -3.36, -2.6, -3.19, -3.05, -2.33, -2.23, -2.08, -2.29, -1.99, -2.29, -1.59, -1.11, -1.35, -1.22, -1.55, -1.35, -1.49, -0.59, -0.73, -1.92, -1.06, -0.75, -0.42, -0.04, 0.0, -0.15, -0.86, -1.2, -1.61, -3.0, -2.9, -2.26, -4.09, -7.03, -6.75, -2.68, -5.35, -6.52, -4.9, -4.94, -2.9, -1.07, -0.12, -1.2, -1.1, -2.26, -1.51, -1.21, -2.43, -2.68, -3.34, -1.79, -0.5, 0.0, 0.0, 0.0, 0.0, 0.0, -0.67, -0.67, -1.6, -1.55, -2.8, -2.66, -1.65, -3.13, -4.91, -3.53, -4.66, -5.56, -4.39, -6.56, -6.13, -5.89, -5.29, -6.07, -6.74, -5.43, -5.79, -4.94, -5.33, -4.99, -3.84, -2.83, -3.46, -3.74, -3.39, -4.98, -5.59, -4.53, -4.79, -4.69, -4.46, -5.36, -6.51, -6.23, -5.94, -6.59, -5.29, -3.78, -3.93, -4.33, -4.73, -4.09, -3.93, -3.83, -3.44, -4.12, -3.61, -3.43, -4.26, -2.72, -3.03, -1.33, -0.43, 0.0, 0.0, -1.02, -1.02, 0.0, 0.0, 0.0, 0.0, 0.0, 0.0, -1.86, -1.26, -3.03, -3.35, -6.1, -4.74, -7.08, -6.07, -5.88, -6.48, -5.44, -5.18, -4.14, -3.35, -3.67, -4.2, -2.4, -2.78, -2.97, -1.88, -1.95, -2.53, -2.5, -2.37, -3.84, -2.97, -2.48, -2.91, -6.92, -6.58, -6.01, -5.99, -6.26, -4.74, -4.33, -5.18, -2.87, -3.51, -4.49, -4.33, -6.13, -5.06, -5.15, -5.12, -3.86, -4.11, -3.98, -3.07, -1.79, -2.07, -1.99, -3.01, -2.81, -3.49, -4.77, -5.56, -4.77, -4.17, -3.73, -3.74, -2.75, -2.81, -4.88, -3.89, -4.31, -2.78, -3.45, -4.34, -3.99, -4.05, -4.28, -4.18, -4.88, -7.09, -6.24, -8.27, -9.72, -10.19, -10.61, -15.07, -15.8, -13.61, -13.08, -11.56, -12.16, -14.18, -15.83, -15.53, -15.83, -19.59, -17.88, -19.53, -21.49, -18.68, -16.35, -15.13, -15.73, -16.16, -15.58, -13.06, -13.45, -15.01, -17.71, -17.6, -17.73, -16.62, -16.97, -20.26, -21.56, -19.29, -18.36, -18.67, -18.55, -16.2, -16.67, -15.85, -18.52, -18.54, -20.54, -20.99, -20.99, -20.38, -21.02, -22.41, -25.41, -24.75, -26.11, -27.79, -30.48, -31.34, -27.6, -27.63, -27.28, -26.4, -26.3, -27.5, -24.66, -22.27, -21.08, -20.21, -19.85, -19.91, -20.26, -19.56, -19.25, -17.66, -16.08, -17.79, -17.69, -16.52, -14.63, -15.21, -15.53, -14.69, -13.17, -12.94, -11.92, -11.03, -11.24, -12.19, -11.6, -11.33, -9.86, -8.93, -8.6, -8.49, -7.02, -6.02, -7.54, -5.54, -4.52, -5.01, -3.02, -4.04, -2.44, -3.49, -3.27, -4.34, -6.23, -7.16, -4.12, -4.09, -4.28, -3.34, -3.24, -2.95, -1.32, -2.02, -0.36, -3.79, -3.77, -3.45, -4.62, -3.67, -3.27, -1.71, -1.55, -1.08, -2.43, -2.02, -2.47, -2.72, -2.05, -2.19, -1.51, -2.28, -2.69, -3.96, -4.81, -4.05, -2.38, -2.37, -2.53, -1.57, -0.37, -0.5, -1.55, -1.45, 0.0, -0.16, -2.46, -2.65, -2.24, -1.96, -6.17, -4.27, -2.9, -1.36, -2.7, -3.6, -2.68, -3.03, -4.8, -3.82, -4.17, -5.24, -5.05, -6.18, -7.39, -4.64, -3.88, -3.31, -2.3, -1.55, -2.3, -1.7, -0.57, -1.39, -0.57, 0.0, 0.0, 0.0, -0.74, -2.17, -4.47, -4.99, -3.39, -2.65, -2.47, -1.94, -1.23, -0.89, -1.33, -0.25, 0.0, 0.0, -0.18, 0.0, -0.27, -0.85, -0.94, -1.68, -0.97, -0.88, 0.0, -0.42, 0.0, -1.79, -2.27, -3.29, -4.9, -5.29, -8.99, -8.37, -7.97, -4.18, -6.54, -7.94, -6.96, -10.36, -10.3, -8.33, -8.12, -9.02, -7.73, -7.79, -10.12, -9.15, -9.78, -10.03, -8.09, -8.57, -9.7, -8.0, -7.58, -7.49, -9.11, -9.85, -8.6, -8.57, -9.2, -8.81, -7.7, -9.17, -9.23, -10.39, -11.32, -14.21, -13.59, -14.27, -16.54, -15.89, -16.72, -17.59, -15.56, -14.93, -14.66, -16.51, -15.68, -16.09, -14.63, -14.87, -14.0, -15.05, -14.72, -16.6, -15.14, -16.51, -15.92, -14.57, -13.29, -10.87, -11.85, -10.42, -11.5, -10.78, -10.44, -11.73, -12.42, -13.11, -12.37, -12.39, -11.59, -11.08, -10.81, -9.16, -9.38, -9.38, -9.41, -9.23, -8.03, -6.81, -6.13, -5.85, -6.25, -8.96, -8.28, -7.96, -8.65, -8.28, -9.02, -9.46, -9.59, -9.61, -9.84, -8.41, -8.29, -8.32, -7.51, -7.36, -7.39, -6.81, -6.21, -6.76, -7.37, -6.91, -5.18, -5.22, -4.79, -4.1, -3.23, -2.63, -2.48, -2.0, -1.26, -0.33, 0.0, -0.45, 0.0, -0.06, -0.24, -1.86, -3.45, -1.89, -2.15, -1.71, -3.33, -1.5, 0.0, -1.7, -1.26, -0.03, 0.0, 0.0, 0.0, -0.4, -0.23, -0.11, 0.0, -0.14, -1.22, -4.24, -6.74, -6.92, -10.33, -10.93, -8.45, -10.3, -7.46, -9.96, -12.86, -21.63, -17.93, -23.22, -31.53, -27.35, -36.26, -34.29, -38.47, -33.69, -33.19, -33.25, -27.57, -26.8, -22.86, -24.89, -24.03, -24.83, -27.74, -30.08, -31.45, -26.17, -26.46, -23.77, -22.35, -21.92, -19.15, -18.81, -18.84, -16.35, -14.69, -17.66, -15.31, -15.61, -14.07, -12.47, -13.24, -10.48, -11.93, -14.7, -13.74, -12.7, -11.33, -7.65, -5.17, -3.26, -5.03, -5.91, -5.14, -3.46, -0.6, -0.26, 0.0, -0.31, 0.0, -1.47, -1.97, -2.61, 0.0, 0.0, 0.0, 0.0, -2.31, -1.92, 0.0, -0.78, -0.34, -5.58, -3.31, 0.0, 0.0, 0.0, 0.0, 0.0, 0.0, 0.0, -2.76, -1.51, -3.88, -4.7, -3.07, -2.11, -0.7, 0.0, 0.0, 0.0, 0.0, -0.76, -4.15, -4.35, -3.16, -5.0, -3.79, -0.96, -2.04, -2.56, -5.11, -6.75, -4.73, -4.53, -3.07, -2.98, -0.61, 0.0, 0.0, 0.0, -0.41, -4.26, -6.03, -8.14, -7.1, -6.28, -7.17, -4.76, -3.31, -3.36, -1.12, -2.37, -3.01, -1.18, 0.0, 0.0, 0.0, 0.0, 0.0, -1.55, -7.2, -8.69, -10.76, -7.57, -8.23, -7.96, -5.15, -4.16, -4.1, -4.51, -3.43, -2.46, -0.6, -1.99, -4.43, -0.52, 0.0, 0.0, 0.0, 0.0, -1.18, 0.0, -0.41, 0.0, 0.0, 0.0, 0.0, 0.0, -1.34, -2.53, -2.36, -2.48, -3.24, -5.62, -4.75, -4.95, -7.0, -5.64, -8.6, -8.11, -11.58, -11.36, -10.08, -4.59, -1.95, -0.72, -4.85, -8.34, -4.78, -3.38, -3.51, -2.06, -1.88, -2.01, -0.37, 0.0, 0.0, -0.68, 0.0, 0.0, 0.0, -3.27, -3.16, -0.47, 0.0, 0.0, 0.0, -3.09, -0.67, -1.71, -2.22, -2.25, -2.2, -0.22, 0.0, 0.0, 0.0, -0.92, -1.93, -6.55, -7.08, -6.05, -7.59, -8.68, -6.85, -9.4, -4.73, -4.08, -4.23, -1.0, -0.14, -0.39, -2.18, -0.92, -0.14, 0.0, 0.0, 0.0, -2.5, -5.09, -3.68, -4.38, -2.71, -1.12, -0.58, 0.0, 0.0, -0.16, 0.0, 0.0, 0.0, 0.0, -0.99, -3.15, -4.53, -3.55, -8.28, -8.87, -9.29, -13.46, -12.27, -8.84, -10.92, -15.08, -18.56, -18.52, -22.3, -17.18, -17.35, -13.28, -13.84, -12.9, -14.57, -14.13, -18.02, -15.75, -15.92, -17.09, -21.12, -20.68, -20.07, -21.57, -20.96]}],                        {\"annotations\": [{\"font\": {\"color\": \"rgb(150,150,150)\", \"family\": \"Arial\", \"size\": 12}, \"showarrow\": false, \"text\": \"\", \"x\": 0.5, \"xanchor\": \"center\", \"xref\": \"paper\", \"y\": \"-0.125\", \"yanchor\": \"top\", \"yref\": \"paper\"}], \"height\": 500, \"hovermode\": \"x\", \"paper_bgcolor\": \"#F5F6F9\", \"plot_bgcolor\": \"#F5F6F9\", \"showlegend\": true, \"template\": {\"data\": {\"bar\": [{\"error_x\": {\"color\": \"#2a3f5f\"}, \"error_y\": {\"color\": \"#2a3f5f\"}, \"marker\": {\"line\": {\"color\": \"#E5ECF6\", \"width\": 0.5}}, \"type\": \"bar\"}], \"barpolar\": [{\"marker\": {\"line\": {\"color\": \"#E5ECF6\", \"width\": 0.5}}, \"type\": \"barpolar\"}], \"carpet\": [{\"aaxis\": {\"endlinecolor\": \"#2a3f5f\", \"gridcolor\": \"white\", \"linecolor\": \"white\", \"minorgridcolor\": \"white\", \"startlinecolor\": \"#2a3f5f\"}, \"baxis\": {\"endlinecolor\": \"#2a3f5f\", \"gridcolor\": \"white\", \"linecolor\": \"white\", \"minorgridcolor\": \"white\", \"startlinecolor\": \"#2a3f5f\"}, \"type\": \"carpet\"}], \"choropleth\": [{\"colorbar\": {\"outlinewidth\": 0, \"ticks\": \"\"}, \"type\": \"choropleth\"}], \"contour\": [{\"colorbar\": {\"outlinewidth\": 0, \"ticks\": \"\"}, \"colorscale\": [[0.0, \"#0d0887\"], [0.1111111111111111, \"#46039f\"], [0.2222222222222222, \"#7201a8\"], [0.3333333333333333, \"#9c179e\"], [0.4444444444444444, \"#bd3786\"], [0.5555555555555556, \"#d8576b\"], [0.6666666666666666, \"#ed7953\"], [0.7777777777777778, \"#fb9f3a\"], [0.8888888888888888, \"#fdca26\"], [1.0, \"#f0f921\"]], \"type\": \"contour\"}], \"contourcarpet\": [{\"colorbar\": {\"outlinewidth\": 0, \"ticks\": \"\"}, \"type\": \"contourcarpet\"}], \"heatmap\": [{\"colorbar\": {\"outlinewidth\": 0, \"ticks\": \"\"}, \"colorscale\": [[0.0, \"#0d0887\"], [0.1111111111111111, \"#46039f\"], [0.2222222222222222, \"#7201a8\"], [0.3333333333333333, \"#9c179e\"], [0.4444444444444444, \"#bd3786\"], [0.5555555555555556, \"#d8576b\"], [0.6666666666666666, \"#ed7953\"], [0.7777777777777778, \"#fb9f3a\"], [0.8888888888888888, \"#fdca26\"], [1.0, \"#f0f921\"]], \"type\": \"heatmap\"}], \"heatmapgl\": [{\"colorbar\": {\"outlinewidth\": 0, \"ticks\": \"\"}, \"colorscale\": [[0.0, \"#0d0887\"], [0.1111111111111111, \"#46039f\"], [0.2222222222222222, \"#7201a8\"], [0.3333333333333333, \"#9c179e\"], [0.4444444444444444, \"#bd3786\"], [0.5555555555555556, \"#d8576b\"], [0.6666666666666666, \"#ed7953\"], [0.7777777777777778, \"#fb9f3a\"], [0.8888888888888888, \"#fdca26\"], [1.0, \"#f0f921\"]], \"type\": \"heatmapgl\"}], \"histogram\": [{\"marker\": {\"colorbar\": {\"outlinewidth\": 0, \"ticks\": \"\"}}, \"type\": \"histogram\"}], \"histogram2d\": [{\"colorbar\": {\"outlinewidth\": 0, \"ticks\": \"\"}, \"colorscale\": [[0.0, \"#0d0887\"], [0.1111111111111111, \"#46039f\"], [0.2222222222222222, \"#7201a8\"], [0.3333333333333333, \"#9c179e\"], [0.4444444444444444, \"#bd3786\"], [0.5555555555555556, \"#d8576b\"], [0.6666666666666666, \"#ed7953\"], [0.7777777777777778, \"#fb9f3a\"], [0.8888888888888888, \"#fdca26\"], [1.0, \"#f0f921\"]], \"type\": \"histogram2d\"}], \"histogram2dcontour\": [{\"colorbar\": {\"outlinewidth\": 0, \"ticks\": \"\"}, \"colorscale\": [[0.0, \"#0d0887\"], [0.1111111111111111, \"#46039f\"], [0.2222222222222222, \"#7201a8\"], [0.3333333333333333, \"#9c179e\"], [0.4444444444444444, \"#bd3786\"], [0.5555555555555556, \"#d8576b\"], [0.6666666666666666, \"#ed7953\"], [0.7777777777777778, \"#fb9f3a\"], [0.8888888888888888, \"#fdca26\"], [1.0, \"#f0f921\"]], \"type\": \"histogram2dcontour\"}], \"mesh3d\": [{\"colorbar\": {\"outlinewidth\": 0, \"ticks\": \"\"}, \"type\": \"mesh3d\"}], \"parcoords\": [{\"line\": {\"colorbar\": {\"outlinewidth\": 0, \"ticks\": \"\"}}, \"type\": \"parcoords\"}], \"pie\": [{\"automargin\": true, \"type\": \"pie\"}], \"scatter\": [{\"marker\": {\"colorbar\": {\"outlinewidth\": 0, \"ticks\": \"\"}}, \"type\": \"scatter\"}], \"scatter3d\": [{\"line\": {\"colorbar\": {\"outlinewidth\": 0, \"ticks\": \"\"}}, \"marker\": {\"colorbar\": {\"outlinewidth\": 0, \"ticks\": \"\"}}, \"type\": \"scatter3d\"}], \"scattercarpet\": [{\"marker\": {\"colorbar\": {\"outlinewidth\": 0, \"ticks\": \"\"}}, \"type\": \"scattercarpet\"}], \"scattergeo\": [{\"marker\": {\"colorbar\": {\"outlinewidth\": 0, \"ticks\": \"\"}}, \"type\": \"scattergeo\"}], \"scattergl\": [{\"marker\": {\"colorbar\": {\"outlinewidth\": 0, \"ticks\": \"\"}}, \"type\": \"scattergl\"}], \"scattermapbox\": [{\"marker\": {\"colorbar\": {\"outlinewidth\": 0, \"ticks\": \"\"}}, \"type\": \"scattermapbox\"}], \"scatterpolar\": [{\"marker\": {\"colorbar\": {\"outlinewidth\": 0, \"ticks\": \"\"}}, \"type\": \"scatterpolar\"}], \"scatterpolargl\": [{\"marker\": {\"colorbar\": {\"outlinewidth\": 0, \"ticks\": \"\"}}, \"type\": \"scatterpolargl\"}], \"scatterternary\": [{\"marker\": {\"colorbar\": {\"outlinewidth\": 0, \"ticks\": \"\"}}, \"type\": \"scatterternary\"}], \"surface\": [{\"colorbar\": {\"outlinewidth\": 0, \"ticks\": \"\"}, \"colorscale\": [[0.0, \"#0d0887\"], [0.1111111111111111, \"#46039f\"], [0.2222222222222222, \"#7201a8\"], [0.3333333333333333, \"#9c179e\"], [0.4444444444444444, \"#bd3786\"], [0.5555555555555556, \"#d8576b\"], [0.6666666666666666, \"#ed7953\"], [0.7777777777777778, \"#fb9f3a\"], [0.8888888888888888, \"#fdca26\"], [1.0, \"#f0f921\"]], \"type\": \"surface\"}], \"table\": [{\"cells\": {\"fill\": {\"color\": \"#EBF0F8\"}, \"line\": {\"color\": \"white\"}}, \"header\": {\"fill\": {\"color\": \"#C8D4E3\"}, \"line\": {\"color\": \"white\"}}, \"type\": \"table\"}]}, \"layout\": {\"annotationdefaults\": {\"arrowcolor\": \"#2a3f5f\", \"arrowhead\": 0, \"arrowwidth\": 1}, \"autotypenumbers\": \"strict\", \"coloraxis\": {\"colorbar\": {\"outlinewidth\": 0, \"ticks\": \"\"}}, \"colorscale\": {\"diverging\": [[0, \"#8e0152\"], [0.1, \"#c51b7d\"], [0.2, \"#de77ae\"], [0.3, \"#f1b6da\"], [0.4, \"#fde0ef\"], [0.5, \"#f7f7f7\"], [0.6, \"#e6f5d0\"], [0.7, \"#b8e186\"], [0.8, \"#7fbc41\"], [0.9, \"#4d9221\"], [1, \"#276419\"]], \"sequential\": [[0.0, \"#0d0887\"], [0.1111111111111111, \"#46039f\"], [0.2222222222222222, \"#7201a8\"], [0.3333333333333333, \"#9c179e\"], [0.4444444444444444, \"#bd3786\"], [0.5555555555555556, \"#d8576b\"], [0.6666666666666666, \"#ed7953\"], [0.7777777777777778, \"#fb9f3a\"], [0.8888888888888888, \"#fdca26\"], [1.0, \"#f0f921\"]], \"sequentialminus\": [[0.0, \"#0d0887\"], [0.1111111111111111, \"#46039f\"], [0.2222222222222222, \"#7201a8\"], [0.3333333333333333, \"#9c179e\"], [0.4444444444444444, \"#bd3786\"], [0.5555555555555556, \"#d8576b\"], [0.6666666666666666, \"#ed7953\"], [0.7777777777777778, \"#fb9f3a\"], [0.8888888888888888, \"#fdca26\"], [1.0, \"#f0f921\"]]}, \"colorway\": [\"#636efa\", \"#EF553B\", \"#00cc96\", \"#ab63fa\", \"#FFA15A\", \"#19d3f3\", \"#FF6692\", \"#B6E880\", \"#FF97FF\", \"#FECB52\"], \"font\": {\"color\": \"#2a3f5f\"}, \"geo\": {\"bgcolor\": \"white\", \"lakecolor\": \"white\", \"landcolor\": \"#E5ECF6\", \"showlakes\": true, \"showland\": true, \"subunitcolor\": \"white\"}, \"hoverlabel\": {\"align\": \"left\"}, \"hovermode\": \"closest\", \"mapbox\": {\"style\": \"light\"}, \"paper_bgcolor\": \"white\", \"plot_bgcolor\": \"#E5ECF6\", \"polar\": {\"angularaxis\": {\"gridcolor\": \"white\", \"linecolor\": \"white\", \"ticks\": \"\"}, \"bgcolor\": \"#E5ECF6\", \"radialaxis\": {\"gridcolor\": \"white\", \"linecolor\": \"white\", \"ticks\": \"\"}}, \"scene\": {\"xaxis\": {\"backgroundcolor\": \"#E5ECF6\", \"gridcolor\": \"white\", \"gridwidth\": 2, \"linecolor\": \"white\", \"showbackground\": true, \"ticks\": \"\", \"zerolinecolor\": \"white\"}, \"yaxis\": {\"backgroundcolor\": \"#E5ECF6\", \"gridcolor\": \"white\", \"gridwidth\": 2, \"linecolor\": \"white\", \"showbackground\": true, \"ticks\": \"\", \"zerolinecolor\": \"white\"}, \"zaxis\": {\"backgroundcolor\": \"#E5ECF6\", \"gridcolor\": \"white\", \"gridwidth\": 2, \"linecolor\": \"white\", \"showbackground\": true, \"ticks\": \"\", \"zerolinecolor\": \"white\"}}, \"shapedefaults\": {\"line\": {\"color\": \"#2a3f5f\"}}, \"ternary\": {\"aaxis\": {\"gridcolor\": \"white\", \"linecolor\": \"white\", \"ticks\": \"\"}, \"baxis\": {\"gridcolor\": \"white\", \"linecolor\": \"white\", \"ticks\": \"\"}, \"bgcolor\": \"#E5ECF6\", \"caxis\": {\"gridcolor\": \"white\", \"linecolor\": \"white\", \"ticks\": \"\"}}, \"title\": {\"x\": 0.05}, \"xaxis\": {\"automargin\": true, \"gridcolor\": \"white\", \"linecolor\": \"white\", \"ticks\": \"\", \"title\": {\"standoff\": 15}, \"zerolinecolor\": \"white\", \"zerolinewidth\": 2}, \"yaxis\": {\"automargin\": true, \"gridcolor\": \"white\", \"linecolor\": \"white\", \"ticks\": \"\", \"title\": {\"standoff\": 15}, \"zerolinecolor\": \"white\", \"zerolinewidth\": 2}}}, \"title\": {\"text\": \"\", \"x\": 0.5}, \"width\": 950, \"xaxis\": {\"gridcolor\": \"#E1E5ED\", \"showgrid\": true, \"tickfont\": {\"color\": \"#4D5663\"}, \"tickformat\": \"\", \"tickprefix\": \"\", \"ticksuffix\": \"\", \"title\": {\"font\": {\"color\": \"#4D5663\"}, \"text\": \"\"}, \"zerolinecolor\": \"#E1E5ED\"}, \"yaxis\": {\"gridcolor\": \"#E1E5ED\", \"showgrid\": true, \"tickfont\": {\"color\": \"#4D5663\"}, \"tickformat\": \"\", \"tickprefix\": \"\", \"ticksuffix\": \"%\", \"title\": {\"text\": \"\"}, \"zerolinecolor\": \"#E1E5ED\"}},                        {\"responsive\": true}                    ).then(function(){\n                            \nvar gd = document.getElementById('9edcac37-c02b-476e-aad5-d343117aff35');\nvar x = new MutationObserver(function (mutations, observer) {{\n        var display = window.getComputedStyle(gd).display;\n        if (!display || display === 'none') {{\n            console.log([gd, 'removed!']);\n            Plotly.purge(gd);\n            observer.disconnect();\n        }}\n}});\n\n// Listen for the removal of the full notebook cells\nvar notebookContainer = gd.closest('#notebook-container');\nif (notebookContainer) {{\n    x.observe(notebookContainer, {childList: true});\n}}\n\n// Listen for the clearing of the current output cell\nvar outputEl = gd.closest('.output');\nif (outputEl) {{\n    x.observe(outputEl, {childList: true});\n}}\n\n                        })                };                            </script>        </div>\n</body>\n</html>"
          },
          "metadata": {}
        }
      ]
    },
    {
      "cell_type": "code",
      "metadata": {
        "id": "2KqSRmLneeK-"
      },
      "source": [
        "pl.compute_performance_table(IPO)"
      ],
      "execution_count": 32,
      "outputs": [
        {
          "output_type": "display_data",
          "data": {
            "text/plain": "<IPython.core.display.Markdown object>",
            "text/markdown": "**Performance from 2013-10-21 to 2021-03-30 (≈ 7.4 years)**"
          },
          "metadata": {}
        },
        {
          "output_type": "execute_result",
          "data": {
            "text/plain": [
              "       CAGR   Return  StdDev  Sharpe   Max DD  MAR\n",
              "IPO  16.18%  205.58%  23.76%    0.68  -38.47% 0.42"
            ],
            "text/html": "<div>\n<style scoped>\n    .dataframe tbody tr th:only-of-type {\n        vertical-align: middle;\n    }\n\n    .dataframe tbody tr th {\n        vertical-align: top;\n    }\n\n    .dataframe thead th {\n        text-align: right;\n    }\n</style>\n<table border=\"1\" class=\"dataframe\">\n  <thead>\n    <tr style=\"text-align: right;\">\n      <th></th>\n      <th>CAGR</th>\n      <th>Return</th>\n      <th>StdDev</th>\n      <th>Sharpe</th>\n      <th>Max DD</th>\n      <th>MAR</th>\n    </tr>\n  </thead>\n  <tbody>\n    <tr>\n      <th>IPO</th>\n      <td>16.18%</td>\n      <td>205.58%</td>\n      <td>23.76%</td>\n      <td>0.68</td>\n      <td>-38.47%</td>\n      <td>0.42</td>\n    </tr>\n  </tbody>\n</table>\n</div>"
          },
          "metadata": {},
          "execution_count": 32
        }
      ]
    },
    {
      "cell_type": "code",
      "metadata": {
        "id": "wkRSF8yMeqfa"
      },
      "source": [
        "IPO.index = pd.to_datetime(IPO.index)\n",
        "pl.compute_yearly_returns(IPO, style='chart');"
      ],
      "execution_count": 33,
      "outputs": [
        {
          "output_type": "display_data",
          "data": {
            "text/plain": "<Figure size 810x108 with 1 Axes>",
            "image/svg+xml": "<?xml version=\"1.0\" encoding=\"utf-8\" standalone=\"no\"?>\r\n<!DOCTYPE svg PUBLIC \"-//W3C//DTD SVG 1.1//EN\"\r\n  \"http://www.w3.org/Graphics/SVG/1.1/DTD/svg11.dtd\">\r\n<!-- Created with matplotlib (https://matplotlib.org/) -->\r\n<svg height=\"126.674688pt\" version=\"1.1\" viewBox=\"0 0 658.295312 126.674688\" width=\"658.295312pt\" xmlns=\"http://www.w3.org/2000/svg\" xmlns:xlink=\"http://www.w3.org/1999/xlink\">\r\n <defs>\r\n  <style type=\"text/css\">\r\n*{stroke-linecap:butt;stroke-linejoin:round;}\r\n  </style>\r\n </defs>\r\n <g id=\"figure_1\">\r\n  <g id=\"patch_1\">\r\n   <path d=\"M 0 126.674688 \r\nL 658.295312 126.674688 \r\nL 658.295312 -0 \r\nL 0 -0 \r\nz\r\n\" style=\"fill:#ffffff;\"/>\r\n  </g>\r\n  <g id=\"axes_1\">\r\n   <g id=\"patch_2\">\r\n    <path d=\"M 23.345313 103.329375 \r\nL 651.095312 103.329375 \r\nL 651.095312 21.789375 \r\nL 23.345313 21.789375 \r\nz\r\n\" style=\"fill:#eaeaf2;\"/>\r\n   </g>\r\n   <g id=\"matplotlib.axis_1\">\r\n    <g id=\"xtick_1\">\r\n     <g id=\"line2d_1\"/>\r\n     <g id=\"text_1\">\r\n      <!-- 2013 -->\r\n      <defs>\r\n       <path d=\"M 50.34375 8.453125 \r\nL 50.34375 0 \r\nL 3.03125 0 \r\nQ 2.9375 3.171875 4.046875 6.109375 \r\nQ 5.859375 10.9375 9.828125 15.625 \r\nQ 13.8125 20.3125 21.34375 26.46875 \r\nQ 33.015625 36.03125 37.109375 41.625 \r\nQ 41.21875 47.21875 41.21875 52.203125 \r\nQ 41.21875 57.421875 37.46875 61 \r\nQ 33.734375 64.59375 27.734375 64.59375 \r\nQ 21.390625 64.59375 17.578125 60.78125 \r\nQ 13.765625 56.984375 13.71875 50.25 \r\nL 4.6875 51.171875 \r\nQ 5.609375 61.28125 11.65625 66.578125 \r\nQ 17.71875 71.875 27.9375 71.875 \r\nQ 38.234375 71.875 44.234375 66.15625 \r\nQ 50.25 60.453125 50.25 52 \r\nQ 50.25 47.703125 48.484375 43.546875 \r\nQ 46.734375 39.40625 42.65625 34.8125 \r\nQ 38.578125 30.21875 29.109375 22.21875 \r\nQ 21.1875 15.578125 18.9375 13.203125 \r\nQ 16.703125 10.84375 15.234375 8.453125 \r\nz\r\n\" id=\"ArialMT-50\"/>\r\n       <path d=\"M 4.15625 35.296875 \r\nQ 4.15625 48 6.765625 55.734375 \r\nQ 9.375 63.484375 14.515625 67.671875 \r\nQ 19.671875 71.875 27.484375 71.875 \r\nQ 33.25 71.875 37.59375 69.546875 \r\nQ 41.9375 67.234375 44.765625 62.859375 \r\nQ 47.609375 58.5 49.21875 52.21875 \r\nQ 50.828125 45.953125 50.828125 35.296875 \r\nQ 50.828125 22.703125 48.234375 14.96875 \r\nQ 45.65625 7.234375 40.5 3 \r\nQ 35.359375 -1.21875 27.484375 -1.21875 \r\nQ 17.140625 -1.21875 11.234375 6.203125 \r\nQ 4.15625 15.140625 4.15625 35.296875 \r\nz\r\nM 13.1875 35.296875 \r\nQ 13.1875 17.671875 17.3125 11.828125 \r\nQ 21.4375 6 27.484375 6 \r\nQ 33.546875 6 37.671875 11.859375 \r\nQ 41.796875 17.71875 41.796875 35.296875 \r\nQ 41.796875 52.984375 37.671875 58.78125 \r\nQ 33.546875 64.59375 27.390625 64.59375 \r\nQ 21.34375 64.59375 17.71875 59.46875 \r\nQ 13.1875 52.9375 13.1875 35.296875 \r\nz\r\n\" id=\"ArialMT-48\"/>\r\n       <path d=\"M 37.25 0 \r\nL 28.46875 0 \r\nL 28.46875 56 \r\nQ 25.296875 52.984375 20.140625 49.953125 \r\nQ 14.984375 46.921875 10.890625 45.40625 \r\nL 10.890625 53.90625 \r\nQ 18.265625 57.375 23.78125 62.296875 \r\nQ 29.296875 67.234375 31.59375 71.875 \r\nL 37.25 71.875 \r\nz\r\n\" id=\"ArialMT-49\"/>\r\n       <path d=\"M 4.203125 18.890625 \r\nL 12.984375 20.0625 \r\nQ 14.5 12.59375 18.140625 9.296875 \r\nQ 21.78125 6 27 6 \r\nQ 33.203125 6 37.46875 10.296875 \r\nQ 41.75 14.59375 41.75 20.953125 \r\nQ 41.75 27 37.796875 30.921875 \r\nQ 33.84375 34.859375 27.734375 34.859375 \r\nQ 25.25 34.859375 21.53125 33.890625 \r\nL 22.515625 41.609375 \r\nQ 23.390625 41.5 23.921875 41.5 \r\nQ 29.546875 41.5 34.03125 44.421875 \r\nQ 38.53125 47.359375 38.53125 53.46875 \r\nQ 38.53125 58.296875 35.25 61.46875 \r\nQ 31.984375 64.65625 26.8125 64.65625 \r\nQ 21.6875 64.65625 18.265625 61.421875 \r\nQ 14.84375 58.203125 13.875 51.765625 \r\nL 5.078125 53.328125 \r\nQ 6.6875 62.15625 12.390625 67.015625 \r\nQ 18.109375 71.875 26.609375 71.875 \r\nQ 32.46875 71.875 37.390625 69.359375 \r\nQ 42.328125 66.84375 44.9375 62.5 \r\nQ 47.5625 58.15625 47.5625 53.265625 \r\nQ 47.5625 48.640625 45.0625 44.828125 \r\nQ 42.578125 41.015625 37.703125 38.765625 \r\nQ 44.046875 37.3125 47.5625 32.6875 \r\nQ 51.078125 28.078125 51.078125 21.140625 \r\nQ 51.078125 11.765625 44.234375 5.25 \r\nQ 37.40625 -1.265625 26.953125 -1.265625 \r\nQ 17.53125 -1.265625 11.296875 4.34375 \r\nQ 5.078125 9.96875 4.203125 18.890625 \r\nz\r\n\" id=\"ArialMT-51\"/>\r\n      </defs>\r\n      <g style=\"fill:#262626;\" transform=\"translate(47.098438 117.487188)scale(0.1 -0.1)\">\r\n       <use xlink:href=\"#ArialMT-50\"/>\r\n       <use x=\"55.615234\" xlink:href=\"#ArialMT-48\"/>\r\n       <use x=\"111.230469\" xlink:href=\"#ArialMT-49\"/>\r\n       <use x=\"166.845703\" xlink:href=\"#ArialMT-51\"/>\r\n      </g>\r\n     </g>\r\n    </g>\r\n    <g id=\"xtick_2\">\r\n     <g id=\"line2d_2\"/>\r\n     <g id=\"text_2\">\r\n      <!-- 2014 -->\r\n      <defs>\r\n       <path d=\"M 32.328125 0 \r\nL 32.328125 17.140625 \r\nL 1.265625 17.140625 \r\nL 1.265625 25.203125 \r\nL 33.9375 71.578125 \r\nL 41.109375 71.578125 \r\nL 41.109375 25.203125 \r\nL 50.78125 25.203125 \r\nL 50.78125 17.140625 \r\nL 41.109375 17.140625 \r\nL 41.109375 0 \r\nz\r\nM 32.328125 25.203125 \r\nL 32.328125 57.46875 \r\nL 9.90625 25.203125 \r\nz\r\n\" id=\"ArialMT-52\"/>\r\n      </defs>\r\n      <g style=\"fill:#262626;\" transform=\"translate(116.848438 117.487188)scale(0.1 -0.1)\">\r\n       <use xlink:href=\"#ArialMT-50\"/>\r\n       <use x=\"55.615234\" xlink:href=\"#ArialMT-48\"/>\r\n       <use x=\"111.230469\" xlink:href=\"#ArialMT-49\"/>\r\n       <use x=\"166.845703\" xlink:href=\"#ArialMT-52\"/>\r\n      </g>\r\n     </g>\r\n    </g>\r\n    <g id=\"xtick_3\">\r\n     <g id=\"line2d_3\"/>\r\n     <g id=\"text_3\">\r\n      <!-- 2015 -->\r\n      <defs>\r\n       <path d=\"M 4.15625 18.75 \r\nL 13.375 19.53125 \r\nQ 14.40625 12.796875 18.140625 9.390625 \r\nQ 21.875 6 27.15625 6 \r\nQ 33.5 6 37.890625 10.78125 \r\nQ 42.28125 15.578125 42.28125 23.484375 \r\nQ 42.28125 31 38.0625 35.34375 \r\nQ 33.84375 39.703125 27 39.703125 \r\nQ 22.75 39.703125 19.328125 37.765625 \r\nQ 15.921875 35.84375 13.96875 32.765625 \r\nL 5.71875 33.84375 \r\nL 12.640625 70.609375 \r\nL 48.25 70.609375 \r\nL 48.25 62.203125 \r\nL 19.671875 62.203125 \r\nL 15.828125 42.96875 \r\nQ 22.265625 47.46875 29.34375 47.46875 \r\nQ 38.71875 47.46875 45.15625 40.96875 \r\nQ 51.609375 34.46875 51.609375 24.265625 \r\nQ 51.609375 14.546875 45.953125 7.46875 \r\nQ 39.0625 -1.21875 27.15625 -1.21875 \r\nQ 17.390625 -1.21875 11.203125 4.25 \r\nQ 5.03125 9.71875 4.15625 18.75 \r\nz\r\n\" id=\"ArialMT-53\"/>\r\n      </defs>\r\n      <g style=\"fill:#262626;\" transform=\"translate(186.598438 117.487188)scale(0.1 -0.1)\">\r\n       <use xlink:href=\"#ArialMT-50\"/>\r\n       <use x=\"55.615234\" xlink:href=\"#ArialMT-48\"/>\r\n       <use x=\"111.230469\" xlink:href=\"#ArialMT-49\"/>\r\n       <use x=\"166.845703\" xlink:href=\"#ArialMT-53\"/>\r\n      </g>\r\n     </g>\r\n    </g>\r\n    <g id=\"xtick_4\">\r\n     <g id=\"line2d_4\"/>\r\n     <g id=\"text_4\">\r\n      <!-- 2016 -->\r\n      <defs>\r\n       <path d=\"M 49.75 54.046875 \r\nL 41.015625 53.375 \r\nQ 39.84375 58.546875 37.703125 60.890625 \r\nQ 34.125 64.65625 28.90625 64.65625 \r\nQ 24.703125 64.65625 21.53125 62.3125 \r\nQ 17.390625 59.28125 14.984375 53.46875 \r\nQ 12.59375 47.65625 12.5 36.921875 \r\nQ 15.671875 41.75 20.265625 44.09375 \r\nQ 24.859375 46.4375 29.890625 46.4375 \r\nQ 38.671875 46.4375 44.84375 39.96875 \r\nQ 51.03125 33.5 51.03125 23.25 \r\nQ 51.03125 16.5 48.125 10.71875 \r\nQ 45.21875 4.9375 40.140625 1.859375 \r\nQ 35.0625 -1.21875 28.609375 -1.21875 \r\nQ 17.625 -1.21875 10.6875 6.859375 \r\nQ 3.765625 14.9375 3.765625 33.5 \r\nQ 3.765625 54.25 11.421875 63.671875 \r\nQ 18.109375 71.875 29.4375 71.875 \r\nQ 37.890625 71.875 43.28125 67.140625 \r\nQ 48.6875 62.40625 49.75 54.046875 \r\nz\r\nM 13.875 23.1875 \r\nQ 13.875 18.65625 15.796875 14.5 \r\nQ 17.71875 10.359375 21.1875 8.171875 \r\nQ 24.65625 6 28.46875 6 \r\nQ 34.03125 6 38.03125 10.484375 \r\nQ 42.046875 14.984375 42.046875 22.703125 \r\nQ 42.046875 30.125 38.078125 34.390625 \r\nQ 34.125 38.671875 28.125 38.671875 \r\nQ 22.171875 38.671875 18.015625 34.390625 \r\nQ 13.875 30.125 13.875 23.1875 \r\nz\r\n\" id=\"ArialMT-54\"/>\r\n      </defs>\r\n      <g style=\"fill:#262626;\" transform=\"translate(256.348437 117.487188)scale(0.1 -0.1)\">\r\n       <use xlink:href=\"#ArialMT-50\"/>\r\n       <use x=\"55.615234\" xlink:href=\"#ArialMT-48\"/>\r\n       <use x=\"111.230469\" xlink:href=\"#ArialMT-49\"/>\r\n       <use x=\"166.845703\" xlink:href=\"#ArialMT-54\"/>\r\n      </g>\r\n     </g>\r\n    </g>\r\n    <g id=\"xtick_5\">\r\n     <g id=\"line2d_5\"/>\r\n     <g id=\"text_5\">\r\n      <!-- 2017 -->\r\n      <defs>\r\n       <path d=\"M 4.734375 62.203125 \r\nL 4.734375 70.65625 \r\nL 51.078125 70.65625 \r\nL 51.078125 63.8125 \r\nQ 44.234375 56.546875 37.515625 44.484375 \r\nQ 30.8125 32.421875 27.15625 19.671875 \r\nQ 24.515625 10.6875 23.78125 0 \r\nL 14.75 0 \r\nQ 14.890625 8.453125 18.0625 20.40625 \r\nQ 21.234375 32.375 27.171875 43.484375 \r\nQ 33.109375 54.59375 39.796875 62.203125 \r\nz\r\n\" id=\"ArialMT-55\"/>\r\n      </defs>\r\n      <g style=\"fill:#262626;\" transform=\"translate(326.098437 117.487188)scale(0.1 -0.1)\">\r\n       <use xlink:href=\"#ArialMT-50\"/>\r\n       <use x=\"55.615234\" xlink:href=\"#ArialMT-48\"/>\r\n       <use x=\"111.230469\" xlink:href=\"#ArialMT-49\"/>\r\n       <use x=\"166.845703\" xlink:href=\"#ArialMT-55\"/>\r\n      </g>\r\n     </g>\r\n    </g>\r\n    <g id=\"xtick_6\">\r\n     <g id=\"line2d_6\"/>\r\n     <g id=\"text_6\">\r\n      <!-- 2018 -->\r\n      <defs>\r\n       <path d=\"M 17.671875 38.8125 \r\nQ 12.203125 40.828125 9.5625 44.53125 \r\nQ 6.9375 48.25 6.9375 53.421875 \r\nQ 6.9375 61.234375 12.546875 66.546875 \r\nQ 18.171875 71.875 27.484375 71.875 \r\nQ 36.859375 71.875 42.578125 66.421875 \r\nQ 48.296875 60.984375 48.296875 53.171875 \r\nQ 48.296875 48.1875 45.671875 44.5 \r\nQ 43.0625 40.828125 37.75 38.8125 \r\nQ 44.34375 36.671875 47.78125 31.875 \r\nQ 51.21875 27.09375 51.21875 20.453125 \r\nQ 51.21875 11.28125 44.71875 5.03125 \r\nQ 38.234375 -1.21875 27.640625 -1.21875 \r\nQ 17.046875 -1.21875 10.546875 5.046875 \r\nQ 4.046875 11.328125 4.046875 20.703125 \r\nQ 4.046875 27.6875 7.59375 32.390625 \r\nQ 11.140625 37.109375 17.671875 38.8125 \r\nz\r\nM 15.921875 53.71875 \r\nQ 15.921875 48.640625 19.1875 45.40625 \r\nQ 22.46875 42.1875 27.6875 42.1875 \r\nQ 32.765625 42.1875 36.015625 45.375 \r\nQ 39.265625 48.578125 39.265625 53.21875 \r\nQ 39.265625 58.0625 35.90625 61.359375 \r\nQ 32.5625 64.65625 27.59375 64.65625 \r\nQ 22.5625 64.65625 19.234375 61.421875 \r\nQ 15.921875 58.203125 15.921875 53.71875 \r\nz\r\nM 13.09375 20.65625 \r\nQ 13.09375 16.890625 14.875 13.375 \r\nQ 16.65625 9.859375 20.171875 7.921875 \r\nQ 23.6875 6 27.734375 6 \r\nQ 34.03125 6 38.125 10.046875 \r\nQ 42.234375 14.109375 42.234375 20.359375 \r\nQ 42.234375 26.703125 38.015625 30.859375 \r\nQ 33.796875 35.015625 27.4375 35.015625 \r\nQ 21.234375 35.015625 17.15625 30.90625 \r\nQ 13.09375 26.8125 13.09375 20.65625 \r\nz\r\n\" id=\"ArialMT-56\"/>\r\n      </defs>\r\n      <g style=\"fill:#262626;\" transform=\"translate(395.848437 117.487188)scale(0.1 -0.1)\">\r\n       <use xlink:href=\"#ArialMT-50\"/>\r\n       <use x=\"55.615234\" xlink:href=\"#ArialMT-48\"/>\r\n       <use x=\"111.230469\" xlink:href=\"#ArialMT-49\"/>\r\n       <use x=\"166.845703\" xlink:href=\"#ArialMT-56\"/>\r\n      </g>\r\n     </g>\r\n    </g>\r\n    <g id=\"xtick_7\">\r\n     <g id=\"line2d_7\"/>\r\n     <g id=\"text_7\">\r\n      <!-- 2019 -->\r\n      <defs>\r\n       <path d=\"M 5.46875 16.546875 \r\nL 13.921875 17.328125 \r\nQ 14.984375 11.375 18.015625 8.6875 \r\nQ 21.046875 6 25.78125 6 \r\nQ 29.828125 6 32.875 7.859375 \r\nQ 35.9375 9.71875 37.890625 12.8125 \r\nQ 39.84375 15.921875 41.15625 21.1875 \r\nQ 42.484375 26.46875 42.484375 31.9375 \r\nQ 42.484375 32.515625 42.4375 33.6875 \r\nQ 39.796875 29.5 35.234375 26.875 \r\nQ 30.671875 24.265625 25.34375 24.265625 \r\nQ 16.453125 24.265625 10.296875 30.703125 \r\nQ 4.15625 37.15625 4.15625 47.703125 \r\nQ 4.15625 58.59375 10.578125 65.234375 \r\nQ 17 71.875 26.65625 71.875 \r\nQ 33.640625 71.875 39.421875 68.109375 \r\nQ 45.21875 64.359375 48.21875 57.390625 \r\nQ 51.21875 50.4375 51.21875 37.25 \r\nQ 51.21875 23.53125 48.234375 15.40625 \r\nQ 45.265625 7.28125 39.375 3.03125 \r\nQ 33.5 -1.21875 25.59375 -1.21875 \r\nQ 17.1875 -1.21875 11.859375 3.4375 \r\nQ 6.546875 8.109375 5.46875 16.546875 \r\nz\r\nM 41.453125 48.140625 \r\nQ 41.453125 55.71875 37.421875 60.15625 \r\nQ 33.40625 64.59375 27.734375 64.59375 \r\nQ 21.875 64.59375 17.53125 59.8125 \r\nQ 13.1875 55.03125 13.1875 47.40625 \r\nQ 13.1875 40.578125 17.3125 36.296875 \r\nQ 21.4375 32.03125 27.484375 32.03125 \r\nQ 33.59375 32.03125 37.515625 36.296875 \r\nQ 41.453125 40.578125 41.453125 48.140625 \r\nz\r\n\" id=\"ArialMT-57\"/>\r\n      </defs>\r\n      <g style=\"fill:#262626;\" transform=\"translate(465.598437 117.487188)scale(0.1 -0.1)\">\r\n       <use xlink:href=\"#ArialMT-50\"/>\r\n       <use x=\"55.615234\" xlink:href=\"#ArialMT-48\"/>\r\n       <use x=\"111.230469\" xlink:href=\"#ArialMT-49\"/>\r\n       <use x=\"166.845703\" xlink:href=\"#ArialMT-57\"/>\r\n      </g>\r\n     </g>\r\n    </g>\r\n    <g id=\"xtick_8\">\r\n     <g id=\"line2d_8\"/>\r\n     <g id=\"text_8\">\r\n      <!-- 2020 -->\r\n      <g style=\"fill:#262626;\" transform=\"translate(535.348437 117.487188)scale(0.1 -0.1)\">\r\n       <use xlink:href=\"#ArialMT-50\"/>\r\n       <use x=\"55.615234\" xlink:href=\"#ArialMT-48\"/>\r\n       <use x=\"111.230469\" xlink:href=\"#ArialMT-50\"/>\r\n       <use x=\"166.845703\" xlink:href=\"#ArialMT-48\"/>\r\n      </g>\r\n     </g>\r\n    </g>\r\n    <g id=\"xtick_9\">\r\n     <g id=\"line2d_9\"/>\r\n     <g id=\"text_9\">\r\n      <!-- 2021 -->\r\n      <g style=\"fill:#262626;\" transform=\"translate(605.098437 117.487188)scale(0.1 -0.1)\">\r\n       <use xlink:href=\"#ArialMT-50\"/>\r\n       <use x=\"55.615234\" xlink:href=\"#ArialMT-48\"/>\r\n       <use x=\"111.230469\" xlink:href=\"#ArialMT-50\"/>\r\n       <use x=\"166.845703\" xlink:href=\"#ArialMT-49\"/>\r\n      </g>\r\n     </g>\r\n    </g>\r\n   </g>\r\n   <g id=\"matplotlib.axis_2\">\r\n    <g id=\"ytick_1\">\r\n     <g id=\"line2d_10\"/>\r\n     <g id=\"text_10\">\r\n      <!-- IPO -->\r\n      <defs>\r\n       <path d=\"M 9.328125 0 \r\nL 9.328125 71.578125 \r\nL 18.796875 71.578125 \r\nL 18.796875 0 \r\nz\r\n\" id=\"ArialMT-73\"/>\r\n       <path d=\"M 7.71875 0 \r\nL 7.71875 71.578125 \r\nL 34.71875 71.578125 \r\nQ 41.84375 71.578125 45.609375 70.90625 \r\nQ 50.875 70.015625 54.4375 67.546875 \r\nQ 58.015625 65.09375 60.1875 60.640625 \r\nQ 62.359375 56.203125 62.359375 50.875 \r\nQ 62.359375 41.75 56.546875 35.421875 \r\nQ 50.734375 29.109375 35.546875 29.109375 \r\nL 17.1875 29.109375 \r\nL 17.1875 0 \r\nz\r\nM 17.1875 37.546875 \r\nL 35.6875 37.546875 \r\nQ 44.875 37.546875 48.734375 40.96875 \r\nQ 52.59375 44.390625 52.59375 50.59375 \r\nQ 52.59375 55.078125 50.3125 58.265625 \r\nQ 48.046875 61.46875 44.34375 62.5 \r\nQ 41.9375 63.140625 35.5 63.140625 \r\nL 17.1875 63.140625 \r\nz\r\n\" id=\"ArialMT-80\"/>\r\n       <path d=\"M 4.828125 34.859375 \r\nQ 4.828125 52.6875 14.390625 62.765625 \r\nQ 23.96875 72.859375 39.109375 72.859375 \r\nQ 49.03125 72.859375 56.984375 68.109375 \r\nQ 64.9375 63.375 69.109375 54.90625 \r\nQ 73.296875 46.4375 73.296875 35.6875 \r\nQ 73.296875 24.8125 68.890625 16.21875 \r\nQ 64.5 7.625 56.4375 3.203125 \r\nQ 48.390625 -1.21875 39.0625 -1.21875 \r\nQ 28.953125 -1.21875 20.984375 3.65625 \r\nQ 13.03125 8.546875 8.921875 16.984375 \r\nQ 4.828125 25.4375 4.828125 34.859375 \r\nz\r\nM 14.59375 34.71875 \r\nQ 14.59375 21.78125 21.546875 14.328125 \r\nQ 28.515625 6.890625 39.015625 6.890625 \r\nQ 49.703125 6.890625 56.609375 14.40625 \r\nQ 63.53125 21.921875 63.53125 35.75 \r\nQ 63.53125 44.484375 60.578125 51 \r\nQ 57.625 57.515625 51.921875 61.109375 \r\nQ 46.234375 64.703125 39.15625 64.703125 \r\nQ 29.109375 64.703125 21.84375 57.78125 \r\nQ 14.59375 50.875 14.59375 34.71875 \r\nz\r\n\" id=\"ArialMT-79\"/>\r\n      </defs>\r\n      <g style=\"fill:#262626;\" transform=\"translate(14.357813 76.207031)rotate(-90)scale(0.1 -0.1)\">\r\n       <use xlink:href=\"#ArialMT-73\"/>\r\n       <use x=\"27.783203\" xlink:href=\"#ArialMT-80\"/>\r\n       <use x=\"94.482422\" xlink:href=\"#ArialMT-79\"/>\r\n      </g>\r\n     </g>\r\n    </g>\r\n   </g>\r\n   <g id=\"QuadMesh_1\">\r\n    <path clip-path=\"url(#pdba428a5f8)\" d=\"M 23.345313 21.789375 \r\nL 93.095313 21.789375 \r\nL 93.095313 103.329375 \r\nL 23.345313 103.329375 \r\nL 23.345313 21.789375 \r\n\" style=\"fill:#f5fbb2;stroke:#ffffff;stroke-width:0.2;\"/>\r\n    <path clip-path=\"url(#pdba428a5f8)\" d=\"M 93.095313 21.789375 \r\nL 162.845313 21.789375 \r\nL 162.845313 103.329375 \r\nL 93.095313 103.329375 \r\nL 93.095313 21.789375 \r\n\" style=\"fill:#f2faae;stroke:#ffffff;stroke-width:0.2;\"/>\r\n    <path clip-path=\"url(#pdba428a5f8)\" d=\"M 162.845313 21.789375 \r\nL 232.595313 21.789375 \r\nL 232.595313 103.329375 \r\nL 162.845313 103.329375 \r\nL 162.845313 21.789375 \r\n\" style=\"fill:#fff3ac;stroke:#ffffff;stroke-width:0.2;\"/>\r\n    <path clip-path=\"url(#pdba428a5f8)\" d=\"M 232.595313 21.789375 \r\nL 302.345312 21.789375 \r\nL 302.345312 103.329375 \r\nL 232.595313 103.329375 \r\nL 232.595313 21.789375 \r\n\" style=\"fill:#fffdbc;stroke:#ffffff;stroke-width:0.2;\"/>\r\n    <path clip-path=\"url(#pdba428a5f8)\" d=\"M 302.345312 21.789375 \r\nL 372.095312 21.789375 \r\nL 372.095312 103.329375 \r\nL 302.345312 103.329375 \r\nL 302.345312 21.789375 \r\n\" style=\"fill:#b3df72;stroke:#ffffff;stroke-width:0.2;\"/>\r\n    <path clip-path=\"url(#pdba428a5f8)\" d=\"M 372.095312 21.789375 \r\nL 441.845312 21.789375 \r\nL 441.845312 103.329375 \r\nL 372.095312 103.329375 \r\nL 372.095312 21.789375 \r\n\" style=\"fill:#fee695;stroke:#ffffff;stroke-width:0.2;\"/>\r\n    <path clip-path=\"url(#pdba428a5f8)\" d=\"M 441.845312 21.789375 \r\nL 511.595312 21.789375 \r\nL 511.595312 103.329375 \r\nL 441.845312 103.329375 \r\nL 441.845312 21.789375 \r\n\" style=\"fill:#bbe278;stroke:#ffffff;stroke-width:0.2;\"/>\r\n    <path clip-path=\"url(#pdba428a5f8)\" d=\"M 511.595312 21.789375 \r\nL 581.345312 21.789375 \r\nL 581.345312 103.329375 \r\nL 511.595312 103.329375 \r\nL 511.595312 21.789375 \r\n\" style=\"fill:#006837;stroke:#ffffff;stroke-width:0.2;\"/>\r\n    <path clip-path=\"url(#pdba428a5f8)\" d=\"M 581.345312 21.789375 \r\nL 651.095312 21.789375 \r\nL 651.095312 103.329375 \r\nL 581.345312 103.329375 \r\nL 581.345312 21.789375 \r\n\" style=\"fill:#fff5ae;stroke:#ffffff;stroke-width:0.2;\"/>\r\n   </g>\r\n   <g id=\"text_11\">\r\n    <!-- 6.06% -->\r\n    <defs>\r\n     <path d=\"M 9.078125 0 \r\nL 9.078125 10.015625 \r\nL 19.09375 10.015625 \r\nL 19.09375 0 \r\nz\r\n\" id=\"ArialMT-46\"/>\r\n     <path d=\"M 5.8125 54.390625 \r\nQ 5.8125 62.0625 9.671875 67.421875 \r\nQ 13.53125 72.796875 20.84375 72.796875 \r\nQ 27.59375 72.796875 32 67.984375 \r\nQ 36.421875 63.1875 36.421875 53.859375 \r\nQ 36.421875 44.78125 31.953125 39.875 \r\nQ 27.484375 34.96875 20.953125 34.96875 \r\nQ 14.453125 34.96875 10.125 39.796875 \r\nQ 5.8125 44.625 5.8125 54.390625 \r\nz\r\nM 21.09375 66.75 \r\nQ 17.828125 66.75 15.65625 63.90625 \r\nQ 13.484375 61.078125 13.484375 53.515625 \r\nQ 13.484375 46.625 15.671875 43.8125 \r\nQ 17.875 41.015625 21.09375 41.015625 \r\nQ 24.421875 41.015625 26.59375 43.84375 \r\nQ 28.765625 46.6875 28.765625 54.203125 \r\nQ 28.765625 61.140625 26.5625 63.9375 \r\nQ 24.359375 66.75 21.09375 66.75 \r\nz\r\nM 21.140625 -2.640625 \r\nL 60.296875 72.796875 \r\nL 67.4375 72.796875 \r\nL 28.421875 -2.640625 \r\nz\r\nM 52.09375 16.796875 \r\nQ 52.09375 24.515625 55.953125 29.859375 \r\nQ 59.8125 35.203125 67.1875 35.203125 \r\nQ 73.921875 35.203125 78.34375 30.390625 \r\nQ 82.765625 25.59375 82.765625 16.265625 \r\nQ 82.765625 7.171875 78.296875 2.265625 \r\nQ 73.828125 -2.640625 67.234375 -2.640625 \r\nQ 60.75 -2.640625 56.421875 2.21875 \r\nQ 52.09375 7.078125 52.09375 16.796875 \r\nz\r\nM 67.4375 29.15625 \r\nQ 64.109375 29.15625 61.9375 26.3125 \r\nQ 59.765625 23.484375 59.765625 15.921875 \r\nQ 59.765625 9.078125 61.953125 6.25 \r\nQ 64.15625 3.421875 67.390625 3.421875 \r\nQ 70.75 3.421875 72.921875 6.25 \r\nQ 75.09375 9.078125 75.09375 16.609375 \r\nQ 75.09375 23.53125 72.890625 26.34375 \r\nQ 70.703125 29.15625 67.4375 29.15625 \r\nz\r\n\" id=\"ArialMT-37\"/>\r\n    </defs>\r\n    <g style=\"fill:#262626;\" transform=\"translate(44.04375 65.144531)scale(0.1 -0.1)\">\r\n     <use xlink:href=\"#ArialMT-54\"/>\r\n     <use x=\"55.615234\" xlink:href=\"#ArialMT-46\"/>\r\n     <use x=\"83.398438\" xlink:href=\"#ArialMT-48\"/>\r\n     <use x=\"139.013672\" xlink:href=\"#ArialMT-54\"/>\r\n     <use x=\"194.628906\" xlink:href=\"#ArialMT-37\"/>\r\n    </g>\r\n   </g>\r\n   <g id=\"text_12\">\r\n    <!-- 6.95% -->\r\n    <g style=\"fill:#262626;\" transform=\"translate(113.79375 65.144531)scale(0.1 -0.1)\">\r\n     <use xlink:href=\"#ArialMT-54\"/>\r\n     <use x=\"55.615234\" xlink:href=\"#ArialMT-46\"/>\r\n     <use x=\"83.398438\" xlink:href=\"#ArialMT-57\"/>\r\n     <use x=\"139.013672\" xlink:href=\"#ArialMT-53\"/>\r\n     <use x=\"194.628906\" xlink:href=\"#ArialMT-37\"/>\r\n    </g>\r\n   </g>\r\n   <g id=\"text_13\">\r\n    <!-- -8.36% -->\r\n    <defs>\r\n     <path d=\"M 3.171875 21.484375 \r\nL 3.171875 30.328125 \r\nL 30.171875 30.328125 \r\nL 30.171875 21.484375 \r\nz\r\n\" id=\"ArialMT-45\"/>\r\n    </defs>\r\n    <g style=\"fill:#262626;\" transform=\"translate(181.878906 65.144531)scale(0.1 -0.1)\">\r\n     <use xlink:href=\"#ArialMT-45\"/>\r\n     <use x=\"33.300781\" xlink:href=\"#ArialMT-56\"/>\r\n     <use x=\"88.916016\" xlink:href=\"#ArialMT-46\"/>\r\n     <use x=\"116.699219\" xlink:href=\"#ArialMT-51\"/>\r\n     <use x=\"172.314453\" xlink:href=\"#ArialMT-54\"/>\r\n     <use x=\"227.929688\" xlink:href=\"#ArialMT-37\"/>\r\n    </g>\r\n   </g>\r\n   <g id=\"text_14\">\r\n    <!-- -0.64% -->\r\n    <g style=\"fill:#262626;\" transform=\"translate(251.628906 65.144531)scale(0.1 -0.1)\">\r\n     <use xlink:href=\"#ArialMT-45\"/>\r\n     <use x=\"33.300781\" xlink:href=\"#ArialMT-48\"/>\r\n     <use x=\"88.916016\" xlink:href=\"#ArialMT-46\"/>\r\n     <use x=\"116.699219\" xlink:href=\"#ArialMT-54\"/>\r\n     <use x=\"172.314453\" xlink:href=\"#ArialMT-52\"/>\r\n     <use x=\"227.929688\" xlink:href=\"#ArialMT-37\"/>\r\n    </g>\r\n   </g>\r\n   <g id=\"text_15\">\r\n    <!-- 37.15% -->\r\n    <g style=\"fill:#262626;\" transform=\"translate(320.263281 65.144531)scale(0.1 -0.1)\">\r\n     <use xlink:href=\"#ArialMT-51\"/>\r\n     <use x=\"55.615234\" xlink:href=\"#ArialMT-55\"/>\r\n     <use x=\"111.230469\" xlink:href=\"#ArialMT-46\"/>\r\n     <use x=\"139.013672\" xlink:href=\"#ArialMT-49\"/>\r\n     <use x=\"194.628906\" xlink:href=\"#ArialMT-53\"/>\r\n     <use x=\"250.244141\" xlink:href=\"#ArialMT-37\"/>\r\n    </g>\r\n   </g>\r\n   <g id=\"text_16\">\r\n    <!-- -17.24% -->\r\n    <g style=\"fill:#262626;\" transform=\"translate(388.348437 65.144531)scale(0.1 -0.1)\">\r\n     <use xlink:href=\"#ArialMT-45\"/>\r\n     <use x=\"33.300781\" xlink:href=\"#ArialMT-49\"/>\r\n     <use x=\"88.916016\" xlink:href=\"#ArialMT-55\"/>\r\n     <use x=\"144.53125\" xlink:href=\"#ArialMT-46\"/>\r\n     <use x=\"172.314453\" xlink:href=\"#ArialMT-50\"/>\r\n     <use x=\"227.929688\" xlink:href=\"#ArialMT-52\"/>\r\n     <use x=\"283.544922\" xlink:href=\"#ArialMT-37\"/>\r\n    </g>\r\n   </g>\r\n   <g id=\"text_17\">\r\n    <!-- 34.38% -->\r\n    <g style=\"fill:#262626;\" transform=\"translate(459.763281 65.144531)scale(0.1 -0.1)\">\r\n     <use xlink:href=\"#ArialMT-51\"/>\r\n     <use x=\"55.615234\" xlink:href=\"#ArialMT-52\"/>\r\n     <use x=\"111.230469\" xlink:href=\"#ArialMT-46\"/>\r\n     <use x=\"139.013672\" xlink:href=\"#ArialMT-51\"/>\r\n     <use x=\"194.628906\" xlink:href=\"#ArialMT-56\"/>\r\n     <use x=\"250.244141\" xlink:href=\"#ArialMT-37\"/>\r\n    </g>\r\n   </g>\r\n   <g id=\"text_18\">\r\n    <!-- 107.88% -->\r\n    <g style=\"fill:#ffffff;\" transform=\"translate(526.732813 65.144531)scale(0.1 -0.1)\">\r\n     <use xlink:href=\"#ArialMT-49\"/>\r\n     <use x=\"55.615234\" xlink:href=\"#ArialMT-48\"/>\r\n     <use x=\"111.230469\" xlink:href=\"#ArialMT-55\"/>\r\n     <use x=\"166.845703\" xlink:href=\"#ArialMT-46\"/>\r\n     <use x=\"194.628906\" xlink:href=\"#ArialMT-56\"/>\r\n     <use x=\"250.244141\" xlink:href=\"#ArialMT-56\"/>\r\n     <use x=\"305.859375\" xlink:href=\"#ArialMT-37\"/>\r\n    </g>\r\n   </g>\r\n   <g id=\"text_19\">\r\n    <!-- -6.70% -->\r\n    <g style=\"fill:#262626;\" transform=\"translate(600.378906 65.144531)scale(0.1 -0.1)\">\r\n     <use xlink:href=\"#ArialMT-45\"/>\r\n     <use x=\"33.300781\" xlink:href=\"#ArialMT-54\"/>\r\n     <use x=\"88.916016\" xlink:href=\"#ArialMT-46\"/>\r\n     <use x=\"116.699219\" xlink:href=\"#ArialMT-55\"/>\r\n     <use x=\"172.314453\" xlink:href=\"#ArialMT-48\"/>\r\n     <use x=\"227.929688\" xlink:href=\"#ArialMT-37\"/>\r\n    </g>\r\n   </g>\r\n   <g id=\"text_20\">\r\n    <!-- Yearly Returns -->\r\n    <defs>\r\n     <path d=\"M 27.875 0 \r\nL 27.875 30.328125 \r\nL 0.296875 71.578125 \r\nL 11.8125 71.578125 \r\nL 25.921875 50 \r\nQ 29.828125 43.953125 33.203125 37.890625 \r\nQ 36.421875 43.5 41.015625 50.53125 \r\nL 54.890625 71.578125 \r\nL 65.921875 71.578125 \r\nL 37.359375 30.328125 \r\nL 37.359375 0 \r\nz\r\n\" id=\"ArialMT-89\"/>\r\n     <path d=\"M 42.09375 16.703125 \r\nL 51.171875 15.578125 \r\nQ 49.03125 7.625 43.21875 3.21875 \r\nQ 37.40625 -1.171875 28.375 -1.171875 \r\nQ 17 -1.171875 10.328125 5.828125 \r\nQ 3.65625 12.84375 3.65625 25.484375 \r\nQ 3.65625 38.578125 10.390625 45.796875 \r\nQ 17.140625 53.03125 27.875 53.03125 \r\nQ 38.28125 53.03125 44.875 45.953125 \r\nQ 51.46875 38.875 51.46875 26.03125 \r\nQ 51.46875 25.25 51.421875 23.6875 \r\nL 12.75 23.6875 \r\nQ 13.234375 15.140625 17.578125 10.59375 \r\nQ 21.921875 6.0625 28.421875 6.0625 \r\nQ 33.25 6.0625 36.671875 8.59375 \r\nQ 40.09375 11.140625 42.09375 16.703125 \r\nz\r\nM 13.234375 30.90625 \r\nL 42.1875 30.90625 \r\nQ 41.609375 37.453125 38.875 40.71875 \r\nQ 34.671875 45.796875 27.984375 45.796875 \r\nQ 21.921875 45.796875 17.796875 41.75 \r\nQ 13.671875 37.703125 13.234375 30.90625 \r\nz\r\n\" id=\"ArialMT-101\"/>\r\n     <path d=\"M 40.4375 6.390625 \r\nQ 35.546875 2.25 31.03125 0.53125 \r\nQ 26.515625 -1.171875 21.34375 -1.171875 \r\nQ 12.796875 -1.171875 8.203125 3 \r\nQ 3.609375 7.171875 3.609375 13.671875 \r\nQ 3.609375 17.484375 5.34375 20.625 \r\nQ 7.078125 23.78125 9.890625 25.6875 \r\nQ 12.703125 27.59375 16.21875 28.5625 \r\nQ 18.796875 29.25 24.03125 29.890625 \r\nQ 34.671875 31.15625 39.703125 32.90625 \r\nQ 39.75 34.71875 39.75 35.203125 \r\nQ 39.75 40.578125 37.25 42.78125 \r\nQ 33.890625 45.75 27.25 45.75 \r\nQ 21.046875 45.75 18.09375 43.578125 \r\nQ 15.140625 41.40625 13.71875 35.890625 \r\nL 5.125 37.0625 \r\nQ 6.296875 42.578125 8.984375 45.96875 \r\nQ 11.671875 49.359375 16.75 51.1875 \r\nQ 21.828125 53.03125 28.515625 53.03125 \r\nQ 35.15625 53.03125 39.296875 51.46875 \r\nQ 43.453125 49.90625 45.40625 47.53125 \r\nQ 47.359375 45.171875 48.140625 41.546875 \r\nQ 48.578125 39.3125 48.578125 33.453125 \r\nL 48.578125 21.734375 \r\nQ 48.578125 9.46875 49.140625 6.21875 \r\nQ 49.703125 2.984375 51.375 0 \r\nL 42.1875 0 \r\nQ 40.828125 2.734375 40.4375 6.390625 \r\nz\r\nM 39.703125 26.03125 \r\nQ 34.90625 24.078125 25.34375 22.703125 \r\nQ 19.921875 21.921875 17.671875 20.9375 \r\nQ 15.4375 19.96875 14.203125 18.09375 \r\nQ 12.984375 16.21875 12.984375 13.921875 \r\nQ 12.984375 10.40625 15.640625 8.0625 \r\nQ 18.3125 5.71875 23.4375 5.71875 \r\nQ 28.515625 5.71875 32.46875 7.9375 \r\nQ 36.421875 10.15625 38.28125 14.015625 \r\nQ 39.703125 17 39.703125 22.796875 \r\nz\r\n\" id=\"ArialMT-97\"/>\r\n     <path d=\"M 6.5 0 \r\nL 6.5 51.859375 \r\nL 14.40625 51.859375 \r\nL 14.40625 44 \r\nQ 17.4375 49.515625 20 51.265625 \r\nQ 22.5625 53.03125 25.640625 53.03125 \r\nQ 30.078125 53.03125 34.671875 50.203125 \r\nL 31.640625 42.046875 \r\nQ 28.421875 43.953125 25.203125 43.953125 \r\nQ 22.3125 43.953125 20.015625 42.21875 \r\nQ 17.71875 40.484375 16.75 37.40625 \r\nQ 15.28125 32.71875 15.28125 27.15625 \r\nL 15.28125 0 \r\nz\r\n\" id=\"ArialMT-114\"/>\r\n     <path d=\"M 6.390625 0 \r\nL 6.390625 71.578125 \r\nL 15.1875 71.578125 \r\nL 15.1875 0 \r\nz\r\n\" id=\"ArialMT-108\"/>\r\n     <path d=\"M 6.203125 -19.96875 \r\nL 5.21875 -11.71875 \r\nQ 8.109375 -12.5 10.25 -12.5 \r\nQ 13.1875 -12.5 14.9375 -11.515625 \r\nQ 16.703125 -10.546875 17.828125 -8.796875 \r\nQ 18.65625 -7.46875 20.515625 -2.25 \r\nQ 20.75 -1.515625 21.296875 -0.09375 \r\nL 1.609375 51.859375 \r\nL 11.078125 51.859375 \r\nL 21.875 21.828125 \r\nQ 23.96875 16.109375 25.640625 9.8125 \r\nQ 27.15625 15.875 29.25 21.625 \r\nL 40.328125 51.859375 \r\nL 49.125 51.859375 \r\nL 29.390625 -0.875 \r\nQ 26.21875 -9.421875 24.46875 -12.640625 \r\nQ 22.125 -17 19.09375 -19.015625 \r\nQ 16.0625 -21.046875 11.859375 -21.046875 \r\nQ 9.328125 -21.046875 6.203125 -19.96875 \r\nz\r\n\" id=\"ArialMT-121\"/>\r\n     <path id=\"ArialMT-32\"/>\r\n     <path d=\"M 7.859375 0 \r\nL 7.859375 71.578125 \r\nL 39.59375 71.578125 \r\nQ 49.171875 71.578125 54.140625 69.640625 \r\nQ 59.125 67.71875 62.109375 62.828125 \r\nQ 65.09375 57.953125 65.09375 52.046875 \r\nQ 65.09375 44.4375 60.15625 39.203125 \r\nQ 55.21875 33.984375 44.921875 32.5625 \r\nQ 48.6875 30.765625 50.640625 29 \r\nQ 54.78125 25.203125 58.5 19.484375 \r\nL 70.953125 0 \r\nL 59.03125 0 \r\nL 49.5625 14.890625 \r\nQ 45.40625 21.34375 42.71875 24.75 \r\nQ 40.046875 28.171875 37.921875 29.53125 \r\nQ 35.796875 30.90625 33.59375 31.453125 \r\nQ 31.984375 31.78125 28.328125 31.78125 \r\nL 17.328125 31.78125 \r\nL 17.328125 0 \r\nz\r\nM 17.328125 39.984375 \r\nL 37.703125 39.984375 \r\nQ 44.1875 39.984375 47.84375 41.328125 \r\nQ 51.515625 42.671875 53.421875 45.625 \r\nQ 55.328125 48.578125 55.328125 52.046875 \r\nQ 55.328125 57.125 51.640625 60.390625 \r\nQ 47.953125 63.671875 39.984375 63.671875 \r\nL 17.328125 63.671875 \r\nz\r\n\" id=\"ArialMT-82\"/>\r\n     <path d=\"M 25.78125 7.859375 \r\nL 27.046875 0.09375 \r\nQ 23.34375 -0.6875 20.40625 -0.6875 \r\nQ 15.625 -0.6875 12.984375 0.828125 \r\nQ 10.359375 2.34375 9.28125 4.8125 \r\nQ 8.203125 7.28125 8.203125 15.1875 \r\nL 8.203125 45.015625 \r\nL 1.765625 45.015625 \r\nL 1.765625 51.859375 \r\nL 8.203125 51.859375 \r\nL 8.203125 64.703125 \r\nL 16.9375 69.96875 \r\nL 16.9375 51.859375 \r\nL 25.78125 51.859375 \r\nL 25.78125 45.015625 \r\nL 16.9375 45.015625 \r\nL 16.9375 14.703125 \r\nQ 16.9375 10.9375 17.40625 9.859375 \r\nQ 17.875 8.796875 18.921875 8.15625 \r\nQ 19.96875 7.515625 21.921875 7.515625 \r\nQ 23.390625 7.515625 25.78125 7.859375 \r\nz\r\n\" id=\"ArialMT-116\"/>\r\n     <path d=\"M 40.578125 0 \r\nL 40.578125 7.625 \r\nQ 34.515625 -1.171875 24.125 -1.171875 \r\nQ 19.53125 -1.171875 15.546875 0.578125 \r\nQ 11.578125 2.34375 9.640625 5 \r\nQ 7.71875 7.671875 6.9375 11.53125 \r\nQ 6.390625 14.109375 6.390625 19.734375 \r\nL 6.390625 51.859375 \r\nL 15.1875 51.859375 \r\nL 15.1875 23.09375 \r\nQ 15.1875 16.21875 15.71875 13.8125 \r\nQ 16.546875 10.359375 19.234375 8.375 \r\nQ 21.921875 6.390625 25.875 6.390625 \r\nQ 29.828125 6.390625 33.296875 8.421875 \r\nQ 36.765625 10.453125 38.203125 13.9375 \r\nQ 39.65625 17.4375 39.65625 24.078125 \r\nL 39.65625 51.859375 \r\nL 48.4375 51.859375 \r\nL 48.4375 0 \r\nz\r\n\" id=\"ArialMT-117\"/>\r\n     <path d=\"M 6.59375 0 \r\nL 6.59375 51.859375 \r\nL 14.5 51.859375 \r\nL 14.5 44.484375 \r\nQ 20.21875 53.03125 31 53.03125 \r\nQ 35.6875 53.03125 39.625 51.34375 \r\nQ 43.5625 49.65625 45.515625 46.921875 \r\nQ 47.46875 44.1875 48.25 40.4375 \r\nQ 48.734375 37.984375 48.734375 31.890625 \r\nL 48.734375 0 \r\nL 39.9375 0 \r\nL 39.9375 31.546875 \r\nQ 39.9375 36.921875 38.90625 39.578125 \r\nQ 37.890625 42.234375 35.28125 43.8125 \r\nQ 32.671875 45.40625 29.15625 45.40625 \r\nQ 23.53125 45.40625 19.453125 41.84375 \r\nQ 15.375 38.28125 15.375 28.328125 \r\nL 15.375 0 \r\nz\r\n\" id=\"ArialMT-110\"/>\r\n     <path d=\"M 3.078125 15.484375 \r\nL 11.765625 16.84375 \r\nQ 12.5 11.625 15.84375 8.84375 \r\nQ 19.1875 6.0625 25.203125 6.0625 \r\nQ 31.25 6.0625 34.171875 8.515625 \r\nQ 37.109375 10.984375 37.109375 14.3125 \r\nQ 37.109375 17.28125 34.515625 19 \r\nQ 32.71875 20.171875 25.53125 21.96875 \r\nQ 15.875 24.421875 12.140625 26.203125 \r\nQ 8.40625 27.984375 6.46875 31.125 \r\nQ 4.546875 34.28125 4.546875 38.09375 \r\nQ 4.546875 41.546875 6.125 44.5 \r\nQ 7.71875 47.46875 10.453125 49.421875 \r\nQ 12.5 50.921875 16.03125 51.96875 \r\nQ 19.578125 53.03125 23.640625 53.03125 \r\nQ 29.734375 53.03125 34.34375 51.265625 \r\nQ 38.96875 49.515625 41.15625 46.5 \r\nQ 43.359375 43.5 44.1875 38.484375 \r\nL 35.59375 37.3125 \r\nQ 35.015625 41.3125 32.203125 43.546875 \r\nQ 29.390625 45.796875 24.265625 45.796875 \r\nQ 18.21875 45.796875 15.625 43.796875 \r\nQ 13.03125 41.796875 13.03125 39.109375 \r\nQ 13.03125 37.40625 14.109375 36.03125 \r\nQ 15.1875 34.625 17.484375 33.6875 \r\nQ 18.796875 33.203125 25.25 31.453125 \r\nQ 34.578125 28.953125 38.25 27.359375 \r\nQ 41.9375 25.78125 44.03125 22.75 \r\nQ 46.140625 19.734375 46.140625 15.234375 \r\nQ 46.140625 10.84375 43.578125 6.953125 \r\nQ 41.015625 3.078125 36.171875 0.953125 \r\nQ 31.34375 -1.171875 25.25 -1.171875 \r\nQ 15.140625 -1.171875 9.84375 3.03125 \r\nQ 4.546875 7.234375 3.078125 15.484375 \r\nz\r\n\" id=\"ArialMT-115\"/>\r\n    </defs>\r\n    <g style=\"fill:#262626;\" transform=\"translate(298.087187 15.789375)scale(0.12 -0.12)\">\r\n     <use xlink:href=\"#ArialMT-89\"/>\r\n     <use x=\"57.574219\" xlink:href=\"#ArialMT-101\"/>\r\n     <use x=\"113.189453\" xlink:href=\"#ArialMT-97\"/>\r\n     <use x=\"168.804688\" xlink:href=\"#ArialMT-114\"/>\r\n     <use x=\"202.105469\" xlink:href=\"#ArialMT-108\"/>\r\n     <use x=\"224.322266\" xlink:href=\"#ArialMT-121\"/>\r\n     <use x=\"274.322266\" xlink:href=\"#ArialMT-32\"/>\r\n     <use x=\"302.105469\" xlink:href=\"#ArialMT-82\"/>\r\n     <use x=\"374.322266\" xlink:href=\"#ArialMT-101\"/>\r\n     <use x=\"429.9375\" xlink:href=\"#ArialMT-116\"/>\r\n     <use x=\"457.720703\" xlink:href=\"#ArialMT-117\"/>\r\n     <use x=\"513.335938\" xlink:href=\"#ArialMT-114\"/>\r\n     <use x=\"546.636719\" xlink:href=\"#ArialMT-110\"/>\r\n     <use x=\"602.251953\" xlink:href=\"#ArialMT-115\"/>\r\n    </g>\r\n   </g>\r\n  </g>\r\n </g>\r\n <defs>\r\n  <clipPath id=\"pdba428a5f8\">\r\n   <rect height=\"81.54\" width=\"627.75\" x=\"23.345313\" y=\"21.789375\"/>\r\n  </clipPath>\r\n </defs>\r\n</svg>\r\n",
            "image/png": "[encoded data removed]"
          },
          "metadata": {}
        }
      ]
    },
    {
      "cell_type": "code",
      "metadata": {
        "id": "0Y7ZVTZ-fjXc"
      },
      "source": [
        "# Downloading funds and creating quotes and returns dataframes\n",
        "Begin = '2000-03-10'\n",
        "# End = '2017-08-20' # Só activas se quiseres que acabe num dia especifíco \n",
        "\n",
        "Tickers = ['PFF.US']\n",
        "ETF_Tickers =['PFF']\n",
        "\n",
        "ETFs2 = pd.DataFrame()\n",
        "\n",
        "# Download\n",
        "for ticker in Tickers:\n",
        "    try:\n",
        "        url = \"https://eodhistoricaldata.com/api/eod/\" + str(ticker) + \"?api_token=5c982bff80deb2.22427269&period=d.\"\n",
        "        ETF = pd.read_csv(url, index_col = 'Date', parse_dates = True)[['Adjusted_close']].iloc[:-1, :]\n",
        "        ETFs2 = ETFs2.merge(ETF, left_index = True, right_index = True, how='outer')\n",
        "    except:\n",
        "        print('Download of fund ' + ticker + ' failed')\n",
        "    \n",
        "ETFs2.columns = ETF_Tickers\n",
        "ETFs2 = ETFs2.fillna(method='ffill')\n",
        "ETFs2 = ETFs2.replace(to_replace=0, method='ffill')\n",
        "\n",
        "ETFs2 = ETFs2.loc['2010':'2019']\n",
        "PFF = ETFs2.copy()"
      ],
      "execution_count": 34,
      "outputs": []
    },
    {
      "cell_type": "code",
      "metadata": {
        "id": "Ut8tSpuTwB4l"
      },
      "source": [
        "pl.ichart(PFF)"
      ],
      "execution_count": 35,
      "outputs": [
        {
          "output_type": "display_data",
          "data": {
            "text/html": "<html>\n<head><meta charset=\"utf-8\" /></head>\n<body>\n    <div>            <script src=\"https://cdnjs.cloudflare.com/ajax/libs/mathjax/2.7.5/MathJax.js?config=TeX-AMS-MML_SVG\"></script><script type=\"text/javascript\">if (window.MathJax) {MathJax.Hub.Config({SVG: {font: \"STIX-Web\"}});}</script>                <script type=\"text/javascript\">window.PlotlyConfig = {MathJaxConfig: 'local'};</script>\n        <script src=\"https://cdn.plot.ly/plotly-latest.min.js\"></script>                <div id=\"f1f1c027-61eb-4bc7-abf2-6aca3c44289c\" class=\"plotly-graph-div\" style=\"height:500px; width:950px;\"></div>            <script type=\"text/javascript\">                                    window.PLOTLYENV=window.PLOTLYENV || {};                                    if (document.getElementById(\"f1f1c027-61eb-4bc7-abf2-6aca3c44289c\")) {                    Plotly.newPlot(                        \"f1f1c027-61eb-4bc7-abf2-6aca3c44289c\",                        [{\"line\": {\"color\": \"royalblue\", \"width\": 1.3}, \"mode\": \"lines\", \"name\": \"PFF\", \"type\": \"scatter\", \"x\": [\"2010-01-04\", \"2010-01-05\", \"2010-01-06\", \"2010-01-07\", \"2010-01-08\", \"2010-01-11\", \"2010-01-12\", \"2010-01-13\", \"2010-01-14\", \"2010-01-15\", \"2010-01-19\", \"2010-01-20\", \"2010-01-21\", \"2010-01-22\", \"2010-01-25\", \"2010-01-26\", \"2010-01-27\", \"2010-01-28\", \"2010-01-29\", \"2010-02-01\", \"2010-02-02\", \"2010-02-03\", \"2010-02-04\", \"2010-02-05\", \"2010-02-08\", \"2010-02-09\", \"2010-02-10\", \"2010-02-11\", \"2010-02-12\", \"2010-02-16\", \"2010-02-17\", \"2010-02-18\", \"2010-02-19\", \"2010-02-22\", \"2010-02-23\", \"2010-02-24\", \"2010-02-25\", \"2010-02-26\", \"2010-03-01\", \"2010-03-02\", \"2010-03-03\", \"2010-03-04\", \"2010-03-05\", \"2010-03-08\", \"2010-03-09\", \"2010-03-10\", \"2010-03-11\", \"2010-03-12\", \"2010-03-15\", \"2010-03-16\", \"2010-03-17\", \"2010-03-18\", \"2010-03-19\", \"2010-03-22\", \"2010-03-23\", \"2010-03-24\", \"2010-03-25\", \"2010-03-26\", \"2010-03-29\", \"2010-03-30\", \"2010-03-31\", \"2010-04-01\", \"2010-04-05\", \"2010-04-06\", \"2010-04-07\", \"2010-04-08\", \"2010-04-09\", \"2010-04-12\", \"2010-04-13\", \"2010-04-14\", \"2010-04-15\", \"2010-04-16\", \"2010-04-19\", \"2010-04-20\", \"2010-04-21\", \"2010-04-22\", \"2010-04-23\", \"2010-04-26\", \"2010-04-27\", \"2010-04-28\", \"2010-04-29\", \"2010-04-30\", \"2010-05-03\", \"2010-05-04\", \"2010-05-05\", \"2010-05-06\", \"2010-05-07\", \"2010-05-10\", \"2010-05-11\", \"2010-05-12\", \"2010-05-13\", \"2010-05-14\", \"2010-05-17\", \"2010-05-18\", \"2010-05-19\", \"2010-05-20\", \"2010-05-21\", \"2010-05-24\", \"2010-05-25\", \"2010-05-26\", \"2010-05-27\", \"2010-05-28\", \"2010-06-01\", \"2010-06-02\", \"2010-06-03\", \"2010-06-04\", \"2010-06-07\", \"2010-06-08\", \"2010-06-09\", \"2010-06-10\", \"2010-06-11\", \"2010-06-14\", \"2010-06-15\", \"2010-06-16\", \"2010-06-17\", \"2010-06-18\", \"2010-06-21\", \"2010-06-22\", \"2010-06-23\", \"2010-06-24\", \"2010-06-25\", \"2010-06-28\", \"2010-06-29\", \"2010-06-30\", \"2010-07-01\", \"2010-07-02\", \"2010-07-06\", \"2010-07-07\", \"2010-07-08\", \"2010-07-09\", \"2010-07-12\", \"2010-07-13\", \"2010-07-14\", \"2010-07-15\", \"2010-07-16\", \"2010-07-19\", \"2010-07-20\", \"2010-07-21\", \"2010-07-22\", \"2010-07-23\", \"2010-07-26\", \"2010-07-27\", \"2010-07-28\", \"2010-07-29\", \"2010-07-30\", \"2010-08-02\", \"2010-08-03\", \"2010-08-04\", \"2010-08-05\", \"2010-08-06\", \"2010-08-09\", \"2010-08-10\", \"2010-08-11\", \"2010-08-12\", \"2010-08-13\", \"2010-08-16\", \"2010-08-17\", \"2010-08-18\", \"2010-08-19\", \"2010-08-20\", \"2010-08-23\", \"2010-08-24\", \"2010-08-25\", \"2010-08-26\", \"2010-08-27\", \"2010-08-30\", \"2010-08-31\", \"2010-09-01\", \"2010-09-02\", \"2010-09-03\", \"2010-09-07\", \"2010-09-08\", \"2010-09-09\", \"2010-09-10\", \"2010-09-13\", \"2010-09-14\", \"2010-09-15\", \"2010-09-16\", \"2010-09-17\", \"2010-09-20\", \"2010-09-21\", \"2010-09-22\", \"2010-09-23\", \"2010-09-24\", \"2010-09-27\", \"2010-09-28\", \"2010-09-29\", \"2010-09-30\", \"2010-10-01\", \"2010-10-04\", \"2010-10-05\", \"2010-10-06\", \"2010-10-07\", \"2010-10-08\", \"2010-10-11\", \"2010-10-12\", \"2010-10-13\", \"2010-10-14\", \"2010-10-15\", \"2010-10-18\", \"2010-10-19\", \"2010-10-20\", \"2010-10-21\", \"2010-10-22\", \"2010-10-25\", \"2010-10-26\", \"2010-10-27\", \"2010-10-28\", \"2010-10-29\", \"2010-11-01\", \"2010-11-02\", \"2010-11-03\", \"2010-11-04\", \"2010-11-05\", \"2010-11-08\", \"2010-11-09\", \"2010-11-10\", \"2010-11-11\", \"2010-11-12\", \"2010-11-15\", \"2010-11-16\", \"2010-11-17\", \"2010-11-18\", \"2010-11-19\", \"2010-11-22\", \"2010-11-23\", \"2010-11-24\", \"2010-11-26\", \"2010-11-29\", \"2010-11-30\", \"2010-12-01\", \"2010-12-02\", \"2010-12-03\", \"2010-12-06\", \"2010-12-07\", \"2010-12-08\", \"2010-12-09\", \"2010-12-10\", \"2010-12-13\", \"2010-12-14\", \"2010-12-15\", \"2010-12-16\", \"2010-12-17\", \"2010-12-20\", \"2010-12-21\", \"2010-12-22\", \"2010-12-23\", \"2010-12-27\", \"2010-12-28\", \"2010-12-29\", \"2010-12-30\", \"2010-12-31\", \"2011-01-03\", \"2011-01-04\", \"2011-01-05\", \"2011-01-06\", \"2011-01-07\", \"2011-01-10\", \"2011-01-11\", \"2011-01-12\", \"2011-01-13\", \"2011-01-14\", \"2011-01-18\", \"2011-01-19\", \"2011-01-20\", \"2011-01-21\", \"2011-01-24\", \"2011-01-25\", \"2011-01-26\", \"2011-01-27\", \"2011-01-28\", \"2011-01-31\", \"2011-02-01\", \"2011-02-02\", \"2011-02-03\", \"2011-02-04\", \"2011-02-07\", \"2011-02-08\", \"2011-02-09\", \"2011-02-10\", \"2011-02-11\", \"2011-02-14\", \"2011-02-15\", \"2011-02-16\", \"2011-02-17\", \"2011-02-18\", \"2011-02-22\", \"2011-02-23\", \"2011-02-24\", \"2011-02-25\", \"2011-02-28\", \"2011-03-01\", \"2011-03-02\", \"2011-03-03\", \"2011-03-04\", \"2011-03-07\", \"2011-03-08\", \"2011-03-09\", \"2011-03-10\", \"2011-03-11\", \"2011-03-14\", \"2011-03-15\", \"2011-03-16\", \"2011-03-17\", \"2011-03-18\", \"2011-03-21\", \"2011-03-22\", \"2011-03-23\", \"2011-03-24\", \"2011-03-25\", \"2011-03-28\", \"2011-03-29\", \"2011-03-30\", \"2011-03-31\", \"2011-04-01\", \"2011-04-04\", \"2011-04-05\", \"2011-04-06\", \"2011-04-07\", \"2011-04-08\", \"2011-04-11\", \"2011-04-12\", \"2011-04-13\", \"2011-04-14\", \"2011-04-15\", \"2011-04-18\", \"2011-04-19\", \"2011-04-20\", \"2011-04-21\", \"2011-04-25\", \"2011-04-26\", \"2011-04-27\", \"2011-04-28\", \"2011-04-29\", \"2011-05-02\", \"2011-05-03\", \"2011-05-04\", \"2011-05-05\", \"2011-05-06\", \"2011-05-09\", \"2011-05-10\", \"2011-05-11\", \"2011-05-12\", \"2011-05-13\", \"2011-05-16\", \"2011-05-17\", \"2011-05-18\", \"2011-05-19\", \"2011-05-20\", \"2011-05-23\", \"2011-05-24\", \"2011-05-25\", \"2011-05-26\", \"2011-05-27\", \"2011-05-31\", \"2011-06-01\", \"2011-06-02\", \"2011-06-03\", \"2011-06-06\", \"2011-06-07\", \"2011-06-08\", \"2011-06-09\", \"2011-06-10\", \"2011-06-13\", \"2011-06-14\", \"2011-06-15\", \"2011-06-16\", \"2011-06-17\", \"2011-06-20\", \"2011-06-21\", \"2011-06-22\", \"2011-06-23\", \"2011-06-24\", \"2011-06-27\", \"2011-06-28\", \"2011-06-29\", \"2011-06-30\", \"2011-07-01\", \"2011-07-05\", \"2011-07-06\", \"2011-07-07\", \"2011-07-08\", \"2011-07-11\", \"2011-07-12\", \"2011-07-13\", \"2011-07-14\", \"2011-07-15\", \"2011-07-18\", \"2011-07-19\", \"2011-07-20\", \"2011-07-21\", \"2011-07-22\", \"2011-07-25\", \"2011-07-26\", \"2011-07-27\", \"2011-07-28\", \"2011-07-29\", \"2011-08-01\", \"2011-08-02\", \"2011-08-03\", \"2011-08-04\", \"2011-08-05\", \"2011-08-08\", \"2011-08-09\", \"2011-08-10\", \"2011-08-11\", \"2011-08-12\", \"2011-08-15\", \"2011-08-16\", \"2011-08-17\", \"2011-08-18\", \"2011-08-19\", \"2011-08-22\", \"2011-08-23\", \"2011-08-24\", \"2011-08-25\", \"2011-08-26\", \"2011-08-29\", \"2011-08-30\", \"2011-08-31\", \"2011-09-01\", \"2011-09-02\", \"2011-09-06\", \"2011-09-07\", \"2011-09-08\", \"2011-09-09\", \"2011-09-12\", \"2011-09-13\", \"2011-09-14\", \"2011-09-15\", \"2011-09-16\", \"2011-09-19\", \"2011-09-20\", \"2011-09-21\", \"2011-09-22\", \"2011-09-23\", \"2011-09-26\", \"2011-09-27\", \"2011-09-28\", \"2011-09-29\", \"2011-09-30\", \"2011-10-03\", \"2011-10-04\", \"2011-10-05\", \"2011-10-06\", \"2011-10-07\", \"2011-10-10\", \"2011-10-11\", \"2011-10-12\", \"2011-10-13\", \"2011-10-14\", \"2011-10-17\", \"2011-10-18\", \"2011-10-19\", \"2011-10-20\", \"2011-10-21\", \"2011-10-24\", \"2011-10-25\", \"2011-10-26\", \"2011-10-27\", \"2011-10-28\", \"2011-10-31\", \"2011-11-01\", \"2011-11-02\", \"2011-11-03\", \"2011-11-04\", \"2011-11-07\", \"2011-11-08\", \"2011-11-09\", \"2011-11-10\", \"2011-11-11\", \"2011-11-14\", \"2011-11-15\", \"2011-11-16\", \"2011-11-17\", \"2011-11-18\", \"2011-11-21\", \"2011-11-22\", \"2011-11-23\", \"2011-11-25\", \"2011-11-28\", \"2011-11-29\", \"2011-11-30\", \"2011-12-01\", \"2011-12-02\", \"2011-12-05\", \"2011-12-06\", \"2011-12-07\", \"2011-12-08\", \"2011-12-09\", \"2011-12-12\", \"2011-12-13\", \"2011-12-14\", \"2011-12-15\", \"2011-12-16\", \"2011-12-19\", \"2011-12-20\", \"2011-12-21\", \"2011-12-22\", \"2011-12-23\", \"2011-12-27\", \"2011-12-28\", \"2011-12-29\", \"2011-12-30\", \"2012-01-03\", \"2012-01-04\", \"2012-01-05\", \"2012-01-06\", \"2012-01-09\", \"2012-01-10\", \"2012-01-11\", \"2012-01-12\", \"2012-01-13\", \"2012-01-17\", \"2012-01-18\", \"2012-01-19\", \"2012-01-20\", \"2012-01-23\", \"2012-01-24\", \"2012-01-25\", \"2012-01-26\", \"2012-01-27\", \"2012-01-30\", \"2012-01-31\", \"2012-02-01\", \"2012-02-02\", \"2012-02-03\", \"2012-02-06\", \"2012-02-07\", \"2012-02-08\", \"2012-02-09\", \"2012-02-10\", \"2012-02-13\", \"2012-02-14\", \"2012-02-15\", \"2012-02-16\", \"2012-02-17\", \"2012-02-21\", \"2012-02-22\", \"2012-02-23\", \"2012-02-24\", \"2012-02-27\", \"2012-02-28\", \"2012-02-29\", \"2012-03-01\", \"2012-03-02\", \"2012-03-05\", \"2012-03-06\", \"2012-03-07\", \"2012-03-08\", \"2012-03-09\", \"2012-03-12\", \"2012-03-13\", \"2012-03-14\", \"2012-03-15\", \"2012-03-16\", \"2012-03-19\", \"2012-03-20\", \"2012-03-21\", \"2012-03-22\", \"2012-03-23\", \"2012-03-26\", \"2012-03-27\", \"2012-03-28\", \"2012-03-29\", \"2012-03-30\", \"2012-04-02\", \"2012-04-03\", \"2012-04-04\", \"2012-04-05\", \"2012-04-09\", \"2012-04-10\", \"2012-04-11\", \"2012-04-12\", \"2012-04-13\", \"2012-04-16\", \"2012-04-17\", \"2012-04-18\", \"2012-04-19\", \"2012-04-20\", \"2012-04-23\", \"2012-04-24\", \"2012-04-25\", \"2012-04-26\", \"2012-04-27\", \"2012-04-30\", \"2012-05-01\", \"2012-05-02\", \"2012-05-03\", \"2012-05-04\", \"2012-05-07\", \"2012-05-08\", \"2012-05-09\", \"2012-05-10\", \"2012-05-11\", \"2012-05-14\", \"2012-05-15\", \"2012-05-16\", \"2012-05-17\", \"2012-05-18\", \"2012-05-21\", \"2012-05-22\", \"2012-05-23\", \"2012-05-24\", \"2012-05-25\", \"2012-05-29\", \"2012-05-30\", \"2012-05-31\", \"2012-06-01\", \"2012-06-04\", \"2012-06-05\", \"2012-06-06\", \"2012-06-07\", \"2012-06-08\", \"2012-06-11\", \"2012-06-12\", \"2012-06-13\", \"2012-06-14\", \"2012-06-15\", \"2012-06-18\", \"2012-06-19\", \"2012-06-20\", \"2012-06-21\", \"2012-06-22\", \"2012-06-25\", \"2012-06-26\", \"2012-06-27\", \"2012-06-28\", \"2012-06-29\", \"2012-07-02\", \"2012-07-03\", \"2012-07-05\", \"2012-07-06\", \"2012-07-09\", \"2012-07-10\", \"2012-07-11\", \"2012-07-12\", \"2012-07-13\", \"2012-07-16\", \"2012-07-17\", \"2012-07-18\", \"2012-07-19\", \"2012-07-20\", \"2012-07-23\", \"2012-07-24\", \"2012-07-25\", \"2012-07-26\", \"2012-07-27\", \"2012-07-30\", \"2012-07-31\", \"2012-08-01\", \"2012-08-02\", \"2012-08-03\", \"2012-08-06\", \"2012-08-07\", \"2012-08-08\", \"2012-08-09\", \"2012-08-10\", \"2012-08-13\", \"2012-08-14\", \"2012-08-15\", \"2012-08-16\", \"2012-08-17\", \"2012-08-20\", \"2012-08-21\", \"2012-08-22\", \"2012-08-23\", \"2012-08-24\", \"2012-08-27\", \"2012-08-28\", \"2012-08-29\", \"2012-08-30\", \"2012-08-31\", \"2012-09-04\", \"2012-09-05\", \"2012-09-06\", \"2012-09-07\", \"2012-09-10\", \"2012-09-11\", \"2012-09-12\", \"2012-09-13\", \"2012-09-14\", \"2012-09-17\", \"2012-09-18\", \"2012-09-19\", \"2012-09-20\", \"2012-09-21\", \"2012-09-24\", \"2012-09-25\", \"2012-09-26\", \"2012-09-27\", \"2012-09-28\", \"2012-10-01\", \"2012-10-02\", \"2012-10-03\", \"2012-10-04\", \"2012-10-05\", \"2012-10-08\", \"2012-10-09\", \"2012-10-10\", \"2012-10-11\", \"2012-10-12\", \"2012-10-15\", \"2012-10-16\", \"2012-10-17\", \"2012-10-18\", \"2012-10-19\", \"2012-10-22\", \"2012-10-23\", \"2012-10-24\", \"2012-10-25\", \"2012-10-26\", \"2012-10-31\", \"2012-11-01\", \"2012-11-02\", \"2012-11-05\", \"2012-11-06\", \"2012-11-07\", \"2012-11-08\", \"2012-11-09\", \"2012-11-12\", \"2012-11-13\", \"2012-11-14\", \"2012-11-15\", \"2012-11-16\", \"2012-11-19\", \"2012-11-20\", \"2012-11-21\", \"2012-11-23\", \"2012-11-26\", \"2012-11-27\", \"2012-11-28\", \"2012-11-29\", \"2012-11-30\", \"2012-12-03\", \"2012-12-04\", \"2012-12-05\", \"2012-12-06\", \"2012-12-07\", \"2012-12-10\", \"2012-12-11\", \"2012-12-12\", \"2012-12-13\", \"2012-12-14\", \"2012-12-17\", \"2012-12-18\", \"2012-12-19\", \"2012-12-20\", \"2012-12-21\", \"2012-12-24\", \"2012-12-26\", \"2012-12-27\", \"2012-12-28\", \"2012-12-31\", \"2013-01-02\", \"2013-01-03\", \"2013-01-04\", \"2013-01-07\", \"2013-01-08\", \"2013-01-09\", \"2013-01-10\", \"2013-01-11\", \"2013-01-14\", \"2013-01-15\", \"2013-01-16\", \"2013-01-17\", \"2013-01-18\", \"2013-01-22\", \"2013-01-23\", \"2013-01-24\", \"2013-01-25\", \"2013-01-28\", \"2013-01-29\", \"2013-01-30\", \"2013-01-31\", \"2013-02-01\", \"2013-02-04\", \"2013-02-05\", \"2013-02-06\", \"2013-02-07\", \"2013-02-08\", \"2013-02-11\", \"2013-02-12\", \"2013-02-13\", \"2013-02-14\", \"2013-02-15\", \"2013-02-19\", \"2013-02-20\", \"2013-02-21\", \"2013-02-22\", \"2013-02-25\", \"2013-02-26\", \"2013-02-27\", \"2013-02-28\", \"2013-03-01\", \"2013-03-04\", \"2013-03-05\", \"2013-03-06\", \"2013-03-07\", \"2013-03-08\", \"2013-03-11\", \"2013-03-12\", \"2013-03-13\", \"2013-03-14\", \"2013-03-15\", \"2013-03-18\", \"2013-03-19\", \"2013-03-20\", \"2013-03-21\", \"2013-03-22\", \"2013-03-25\", \"2013-03-26\", \"2013-03-27\", \"2013-03-28\", \"2013-04-01\", \"2013-04-02\", \"2013-04-03\", \"2013-04-04\", \"2013-04-05\", \"2013-04-08\", \"2013-04-09\", \"2013-04-10\", \"2013-04-11\", \"2013-04-12\", \"2013-04-15\", \"2013-04-16\", \"2013-04-17\", \"2013-04-18\", \"2013-04-19\", \"2013-04-22\", \"2013-04-23\", \"2013-04-24\", \"2013-04-25\", \"2013-04-26\", \"2013-04-29\", \"2013-04-30\", \"2013-05-01\", \"2013-05-02\", \"2013-05-03\", \"2013-05-06\", \"2013-05-07\", \"2013-05-08\", \"2013-05-09\", \"2013-05-10\", \"2013-05-13\", \"2013-05-14\", \"2013-05-15\", \"2013-05-16\", \"2013-05-17\", \"2013-05-20\", \"2013-05-21\", \"2013-05-22\", \"2013-05-23\", \"2013-05-24\", \"2013-05-28\", \"2013-05-29\", \"2013-05-30\", \"2013-05-31\", \"2013-06-03\", \"2013-06-04\", \"2013-06-05\", \"2013-06-06\", \"2013-06-07\", \"2013-06-10\", \"2013-06-11\", \"2013-06-12\", \"2013-06-13\", \"2013-06-14\", \"2013-06-17\", \"2013-06-18\", \"2013-06-19\", \"2013-06-20\", \"2013-06-21\", \"2013-06-24\", \"2013-06-25\", \"2013-06-26\", \"2013-06-27\", \"2013-06-28\", \"2013-07-01\", \"2013-07-02\", \"2013-07-03\", \"2013-07-05\", \"2013-07-08\", \"2013-07-09\", \"2013-07-10\", \"2013-07-11\", \"2013-07-12\", \"2013-07-15\", \"2013-07-16\", \"2013-07-17\", \"2013-07-18\", \"2013-07-19\", \"2013-07-22\", \"2013-07-23\", \"2013-07-24\", \"2013-07-25\", \"2013-07-26\", \"2013-07-29\", \"2013-07-30\", \"2013-07-31\", \"2013-08-01\", \"2013-08-02\", \"2013-08-05\", \"2013-08-06\", \"2013-08-07\", \"2013-08-08\", \"2013-08-09\", \"2013-08-12\", \"2013-08-13\", \"2013-08-14\", \"2013-08-15\", \"2013-08-16\", \"2013-08-19\", \"2013-08-20\", \"2013-08-21\", \"2013-08-22\", \"2013-08-23\", \"2013-08-26\", \"2013-08-27\", \"2013-08-28\", \"2013-08-29\", \"2013-08-30\", \"2013-09-03\", \"2013-09-04\", \"2013-09-05\", \"2013-09-06\", \"2013-09-09\", \"2013-09-10\", \"2013-09-11\", \"2013-09-12\", \"2013-09-13\", \"2013-09-16\", \"2013-09-17\", \"2013-09-18\", \"2013-09-19\", \"2013-09-20\", \"2013-09-23\", \"2013-09-24\", \"2013-09-25\", \"2013-09-26\", \"2013-09-27\", \"2013-09-30\", \"2013-10-01\", \"2013-10-02\", \"2013-10-03\", \"2013-10-04\", \"2013-10-07\", \"2013-10-08\", \"2013-10-09\", \"2013-10-10\", \"2013-10-11\", \"2013-10-14\", \"2013-10-15\", \"2013-10-16\", \"2013-10-17\", \"2013-10-18\", \"2013-10-21\", \"2013-10-22\", \"2013-10-23\", \"2013-10-24\", \"2013-10-25\", \"2013-10-28\", \"2013-10-29\", \"2013-10-30\", \"2013-10-31\", \"2013-11-01\", \"2013-11-04\", \"2013-11-05\", \"2013-11-06\", \"2013-11-07\", \"2013-11-08\", \"2013-11-11\", \"2013-11-12\", \"2013-11-13\", \"2013-11-14\", \"2013-11-15\", \"2013-11-18\", \"2013-11-19\", \"2013-11-20\", \"2013-11-21\", \"2013-11-22\", \"2013-11-25\", \"2013-11-26\", \"2013-11-27\", \"2013-11-29\", \"2013-12-02\", \"2013-12-03\", \"2013-12-04\", \"2013-12-05\", \"2013-12-06\", \"2013-12-09\", \"2013-12-10\", \"2013-12-11\", \"2013-12-12\", \"2013-12-13\", \"2013-12-16\", \"2013-12-17\", \"2013-12-18\", \"2013-12-19\", \"2013-12-20\", \"2013-12-23\", \"2013-12-24\", \"2013-12-26\", \"2013-12-27\", \"2013-12-30\", \"2013-12-31\", \"2014-01-02\", \"2014-01-03\", \"2014-01-06\", \"2014-01-07\", \"2014-01-08\", \"2014-01-09\", \"2014-01-10\", \"2014-01-13\", \"2014-01-14\", \"2014-01-15\", \"2014-01-16\", \"2014-01-17\", \"2014-01-21\", \"2014-01-22\", \"2014-01-23\", \"2014-01-24\", \"2014-01-27\", \"2014-01-28\", \"2014-01-29\", \"2014-01-30\", \"2014-01-31\", \"2014-02-03\", \"2014-02-04\", \"2014-02-05\", \"2014-02-06\", \"2014-02-07\", \"2014-02-10\", \"2014-02-11\", \"2014-02-12\", \"2014-02-13\", \"2014-02-14\", \"2014-02-18\", \"2014-02-19\", \"2014-02-20\", \"2014-02-21\", \"2014-02-24\", \"2014-02-25\", \"2014-02-26\", \"2014-02-27\", \"2014-02-28\", \"2014-03-03\", \"2014-03-04\", \"2014-03-05\", \"2014-03-06\", \"2014-03-07\", \"2014-03-10\", \"2014-03-11\", \"2014-03-12\", \"2014-03-13\", \"2014-03-14\", \"2014-03-17\", \"2014-03-18\", \"2014-03-19\", \"2014-03-20\", \"2014-03-21\", \"2014-03-24\", \"2014-03-25\", \"2014-03-26\", \"2014-03-27\", \"2014-03-28\", \"2014-03-31\", \"2014-04-01\", \"2014-04-02\", \"2014-04-03\", \"2014-04-04\", \"2014-04-07\", \"2014-04-08\", \"2014-04-09\", \"2014-04-10\", \"2014-04-11\", \"2014-04-14\", \"2014-04-15\", \"2014-04-16\", \"2014-04-17\", \"2014-04-21\", \"2014-04-22\", \"2014-04-23\", \"2014-04-24\", \"2014-04-25\", \"2014-04-28\", \"2014-04-29\", \"2014-04-30\", \"2014-05-01\", \"2014-05-02\", \"2014-05-05\", \"2014-05-06\", \"2014-05-07\", \"2014-05-08\", \"2014-05-09\", \"2014-05-12\", \"2014-05-13\", \"2014-05-14\", \"2014-05-15\", \"2014-05-16\", \"2014-05-19\", \"2014-05-20\", \"2014-05-21\", \"2014-05-22\", \"2014-05-23\", \"2014-05-27\", \"2014-05-28\", \"2014-05-29\", \"2014-05-30\", \"2014-06-02\", \"2014-06-03\", \"2014-06-04\", \"2014-06-05\", \"2014-06-06\", \"2014-06-09\", \"2014-06-10\", \"2014-06-11\", \"2014-06-12\", \"2014-06-13\", \"2014-06-16\", \"2014-06-17\", \"2014-06-18\", \"2014-06-19\", \"2014-06-20\", \"2014-06-23\", \"2014-06-24\", \"2014-06-25\", \"2014-06-26\", \"2014-06-27\", \"2014-06-30\", \"2014-07-01\", \"2014-07-02\", \"2014-07-03\", \"2014-07-07\", \"2014-07-08\", \"2014-07-09\", \"2014-07-10\", \"2014-07-11\", \"2014-07-14\", \"2014-07-15\", \"2014-07-16\", \"2014-07-17\", \"2014-07-18\", \"2014-07-21\", \"2014-07-22\", \"2014-07-23\", \"2014-07-24\", \"2014-07-25\", \"2014-07-28\", \"2014-07-29\", \"2014-07-30\", \"2014-07-31\", \"2014-08-01\", \"2014-08-04\", \"2014-08-05\", \"2014-08-06\", \"2014-08-07\", \"2014-08-08\", \"2014-08-11\", \"2014-08-12\", \"2014-08-13\", \"2014-08-14\", \"2014-08-15\", \"2014-08-18\", \"2014-08-19\", \"2014-08-20\", \"2014-08-21\", \"2014-08-22\", \"2014-08-25\", \"2014-08-26\", \"2014-08-27\", \"2014-08-28\", \"2014-08-29\", \"2014-09-02\", \"2014-09-03\", \"2014-09-04\", \"2014-09-05\", \"2014-09-08\", \"2014-09-09\", \"2014-09-10\", \"2014-09-11\", \"2014-09-12\", \"2014-09-15\", \"2014-09-16\", \"2014-09-17\", \"2014-09-18\", \"2014-09-19\", \"2014-09-22\", \"2014-09-23\", \"2014-09-24\", \"2014-09-25\", \"2014-09-26\", \"2014-09-29\", \"2014-09-30\", \"2014-10-01\", \"2014-10-02\", \"2014-10-03\", \"2014-10-06\", \"2014-10-07\", \"2014-10-08\", \"2014-10-09\", \"2014-10-10\", \"2014-10-13\", \"2014-10-14\", \"2014-10-15\", \"2014-10-16\", \"2014-10-17\", \"2014-10-20\", \"2014-10-21\", \"2014-10-22\", \"2014-10-23\", \"2014-10-24\", \"2014-10-27\", \"2014-10-28\", \"2014-10-29\", \"2014-10-30\", \"2014-10-31\", \"2014-11-03\", \"2014-11-04\", \"2014-11-05\", \"2014-11-06\", \"2014-11-07\", \"2014-11-10\", \"2014-11-11\", \"2014-11-12\", \"2014-11-13\", \"2014-11-14\", \"2014-11-17\", \"2014-11-18\", \"2014-11-19\", \"2014-11-20\", \"2014-11-21\", \"2014-11-24\", \"2014-11-25\", \"2014-11-26\", \"2014-11-28\", \"2014-12-01\", \"2014-12-02\", \"2014-12-03\", \"2014-12-04\", \"2014-12-05\", \"2014-12-08\", \"2014-12-09\", \"2014-12-10\", \"2014-12-11\", \"2014-12-12\", \"2014-12-15\", \"2014-12-16\", \"2014-12-17\", \"2014-12-18\", \"2014-12-19\", \"2014-12-22\", \"2014-12-23\", \"2014-12-24\", \"2014-12-26\", \"2014-12-29\", \"2014-12-30\", \"2014-12-31\", \"2015-01-02\", \"2015-01-05\", \"2015-01-06\", \"2015-01-07\", \"2015-01-08\", \"2015-01-09\", \"2015-01-12\", \"2015-01-13\", \"2015-01-14\", \"2015-01-15\", \"2015-01-16\", \"2015-01-20\", \"2015-01-21\", \"2015-01-22\", \"2015-01-23\", \"2015-01-26\", \"2015-01-27\", \"2015-01-28\", \"2015-01-29\", \"2015-01-30\", \"2015-02-02\", \"2015-02-03\", \"2015-02-04\", \"2015-02-05\", \"2015-02-06\", \"2015-02-09\", \"2015-02-10\", \"2015-02-11\", \"2015-02-12\", \"2015-02-13\", \"2015-02-17\", \"2015-02-18\", \"2015-02-19\", \"2015-02-20\", \"2015-02-23\", \"2015-02-24\", \"2015-02-25\", \"2015-02-26\", \"2015-02-27\", \"2015-03-02\", \"2015-03-03\", \"2015-03-04\", \"2015-03-05\", \"2015-03-06\", \"2015-03-09\", \"2015-03-10\", \"2015-03-11\", \"2015-03-12\", \"2015-03-13\", \"2015-03-16\", \"2015-03-17\", \"2015-03-18\", \"2015-03-19\", \"2015-03-20\", \"2015-03-23\", \"2015-03-24\", \"2015-03-25\", \"2015-03-26\", \"2015-03-27\", \"2015-03-30\", \"2015-03-31\", \"2015-04-01\", \"2015-04-02\", \"2015-04-06\", \"2015-04-07\", \"2015-04-08\", \"2015-04-09\", \"2015-04-10\", \"2015-04-13\", \"2015-04-14\", \"2015-04-15\", \"2015-04-16\", \"2015-04-17\", \"2015-04-20\", \"2015-04-21\", \"2015-04-22\", \"2015-04-23\", \"2015-04-24\", \"2015-04-27\", \"2015-04-28\", \"2015-04-29\", \"2015-04-30\", \"2015-05-01\", \"2015-05-04\", \"2015-05-05\", \"2015-05-06\", \"2015-05-07\", \"2015-05-08\", \"2015-05-11\", \"2015-05-12\", \"2015-05-13\", \"2015-05-14\", \"2015-05-15\", \"2015-05-18\", \"2015-05-19\", \"2015-05-20\", \"2015-05-21\", \"2015-05-22\", \"2015-05-26\", \"2015-05-27\", \"2015-05-28\", \"2015-05-29\", \"2015-06-01\", \"2015-06-02\", \"2015-06-03\", \"2015-06-04\", \"2015-06-05\", \"2015-06-08\", \"2015-06-09\", \"2015-06-10\", \"2015-06-11\", \"2015-06-12\", \"2015-06-15\", \"2015-06-16\", \"2015-06-17\", \"2015-06-18\", \"2015-06-19\", \"2015-06-22\", \"2015-06-23\", \"2015-06-24\", \"2015-06-25\", \"2015-06-26\", \"2015-06-29\", \"2015-06-30\", \"2015-07-01\", \"2015-07-02\", \"2015-07-06\", \"2015-07-07\", \"2015-07-08\", \"2015-07-09\", \"2015-07-10\", \"2015-07-13\", \"2015-07-14\", \"2015-07-15\", \"2015-07-16\", \"2015-07-17\", \"2015-07-20\", \"2015-07-21\", \"2015-07-22\", \"2015-07-23\", \"2015-07-24\", \"2015-07-27\", \"2015-07-28\", \"2015-07-29\", \"2015-07-30\", \"2015-07-31\", \"2015-08-03\", \"2015-08-04\", \"2015-08-05\", \"2015-08-06\", \"2015-08-07\", \"2015-08-10\", \"2015-08-11\", \"2015-08-12\", \"2015-08-13\", \"2015-08-14\", \"2015-08-17\", \"2015-08-18\", \"2015-08-19\", \"2015-08-20\", \"2015-08-21\", \"2015-08-24\", \"2015-08-25\", \"2015-08-26\", \"2015-08-27\", \"2015-08-28\", \"2015-08-31\", \"2015-09-01\", \"2015-09-02\", \"2015-09-03\", \"2015-09-04\", \"2015-09-08\", \"2015-09-09\", \"2015-09-10\", \"2015-09-11\", \"2015-09-14\", \"2015-09-15\", \"2015-09-16\", \"2015-09-17\", \"2015-09-18\", \"2015-09-21\", \"2015-09-22\", \"2015-09-23\", \"2015-09-24\", \"2015-09-25\", \"2015-09-28\", \"2015-09-29\", \"2015-09-30\", \"2015-10-01\", \"2015-10-02\", \"2015-10-05\", \"2015-10-06\", \"2015-10-07\", \"2015-10-08\", \"2015-10-09\", \"2015-10-12\", \"2015-10-13\", \"2015-10-14\", \"2015-10-15\", \"2015-10-16\", \"2015-10-19\", \"2015-10-20\", \"2015-10-21\", \"2015-10-22\", \"2015-10-23\", \"2015-10-26\", \"2015-10-27\", \"2015-10-28\", \"2015-10-29\", \"2015-10-30\", \"2015-11-02\", \"2015-11-03\", \"2015-11-04\", \"2015-11-05\", \"2015-11-06\", \"2015-11-09\", \"2015-11-10\", \"2015-11-11\", \"2015-11-12\", \"2015-11-13\", \"2015-11-16\", \"2015-11-17\", \"2015-11-18\", \"2015-11-19\", \"2015-11-20\", \"2015-11-23\", \"2015-11-24\", \"2015-11-25\", \"2015-11-27\", \"2015-11-30\", \"2015-12-01\", \"2015-12-02\", \"2015-12-03\", \"2015-12-04\", \"2015-12-07\", \"2015-12-08\", \"2015-12-09\", \"2015-12-10\", \"2015-12-11\", \"2015-12-14\", \"2015-12-15\", \"2015-12-16\", \"2015-12-17\", \"2015-12-18\", \"2015-12-21\", \"2015-12-22\", \"2015-12-23\", \"2015-12-24\", \"2015-12-28\", \"2015-12-29\", \"2015-12-30\", \"2015-12-31\", \"2016-01-04\", \"2016-01-05\", \"2016-01-06\", \"2016-01-07\", \"2016-01-08\", \"2016-01-11\", \"2016-01-12\", \"2016-01-13\", \"2016-01-14\", \"2016-01-15\", \"2016-01-19\", \"2016-01-20\", \"2016-01-21\", \"2016-01-22\", \"2016-01-25\", \"2016-01-26\", \"2016-01-27\", \"2016-01-28\", \"2016-01-29\", \"2016-02-01\", \"2016-02-02\", \"2016-02-03\", \"2016-02-04\", \"2016-02-05\", \"2016-02-08\", \"2016-02-09\", \"2016-02-10\", \"2016-02-11\", \"2016-02-12\", \"2016-02-16\", \"2016-02-17\", \"2016-02-18\", \"2016-02-19\", \"2016-02-22\", \"2016-02-23\", \"2016-02-24\", \"2016-02-25\", \"2016-02-26\", \"2016-02-29\", \"2016-03-01\", \"2016-03-02\", \"2016-03-03\", \"2016-03-04\", \"2016-03-07\", \"2016-03-08\", \"2016-03-09\", \"2016-03-10\", \"2016-03-11\", \"2016-03-14\", \"2016-03-15\", \"2016-03-16\", \"2016-03-17\", \"2016-03-18\", \"2016-03-21\", \"2016-03-22\", \"2016-03-23\", \"2016-03-24\", \"2016-03-28\", \"2016-03-29\", \"2016-03-30\", \"2016-03-31\", \"2016-04-01\", \"2016-04-04\", \"2016-04-05\", \"2016-04-06\", \"2016-04-07\", \"2016-04-08\", \"2016-04-11\", \"2016-04-12\", \"2016-04-13\", \"2016-04-14\", \"2016-04-15\", \"2016-04-18\", \"2016-04-19\", \"2016-04-20\", \"2016-04-21\", \"2016-04-22\", \"2016-04-25\", \"2016-04-26\", \"2016-04-27\", \"2016-04-28\", \"2016-04-29\", \"2016-05-02\", \"2016-05-03\", \"2016-05-04\", \"2016-05-05\", \"2016-05-06\", \"2016-05-09\", \"2016-05-10\", \"2016-05-11\", \"2016-05-12\", \"2016-05-13\", \"2016-05-16\", \"2016-05-17\", \"2016-05-18\", \"2016-05-19\", \"2016-05-20\", \"2016-05-23\", \"2016-05-24\", \"2016-05-25\", \"2016-05-26\", \"2016-05-27\", \"2016-05-31\", \"2016-06-01\", \"2016-06-02\", \"2016-06-03\", \"2016-06-06\", \"2016-06-07\", \"2016-06-08\", \"2016-06-09\", \"2016-06-10\", \"2016-06-13\", \"2016-06-14\", \"2016-06-15\", \"2016-06-16\", \"2016-06-17\", \"2016-06-20\", \"2016-06-21\", \"2016-06-22\", \"2016-06-23\", \"2016-06-24\", \"2016-06-27\", \"2016-06-28\", \"2016-06-29\", \"2016-06-30\", \"2016-07-01\", \"2016-07-05\", \"2016-07-06\", \"2016-07-07\", \"2016-07-08\", \"2016-07-11\", \"2016-07-12\", \"2016-07-13\", \"2016-07-14\", \"2016-07-15\", \"2016-07-18\", \"2016-07-19\", \"2016-07-20\", \"2016-07-21\", \"2016-07-22\", \"2016-07-25\", \"2016-07-26\", \"2016-07-27\", \"2016-07-28\", \"2016-07-29\", \"2016-08-01\", \"2016-08-02\", \"2016-08-03\", \"2016-08-04\", \"2016-08-05\", \"2016-08-08\", \"2016-08-09\", \"2016-08-10\", \"2016-08-11\", \"2016-08-12\", \"2016-08-15\", \"2016-08-16\", \"2016-08-17\", \"2016-08-18\", \"2016-08-19\", \"2016-08-22\", \"2016-08-23\", \"2016-08-24\", \"2016-08-25\", \"2016-08-26\", \"2016-08-29\", \"2016-08-30\", \"2016-08-31\", \"2016-09-01\", \"2016-09-02\", \"2016-09-06\", \"2016-09-07\", \"2016-09-08\", \"2016-09-09\", \"2016-09-12\", \"2016-09-13\", \"2016-09-14\", \"2016-09-15\", \"2016-09-16\", \"2016-09-19\", \"2016-09-20\", \"2016-09-21\", \"2016-09-22\", \"2016-09-23\", \"2016-09-26\", \"2016-09-27\", \"2016-09-28\", \"2016-09-29\", \"2016-09-30\", \"2016-10-03\", \"2016-10-04\", \"2016-10-05\", \"2016-10-06\", \"2016-10-07\", \"2016-10-10\", \"2016-10-11\", \"2016-10-12\", \"2016-10-13\", \"2016-10-14\", \"2016-10-17\", \"2016-10-18\", \"2016-10-19\", \"2016-10-20\", \"2016-10-21\", \"2016-10-24\", \"2016-10-25\", \"2016-10-26\", \"2016-10-27\", \"2016-10-28\", \"2016-10-31\", \"2016-11-01\", \"2016-11-02\", \"2016-11-03\", \"2016-11-04\", \"2016-11-07\", \"2016-11-08\", \"2016-11-09\", \"2016-11-10\", \"2016-11-11\", \"2016-11-14\", \"2016-11-15\", \"2016-11-16\", \"2016-11-17\", \"2016-11-18\", \"2016-11-21\", \"2016-11-22\", \"2016-11-23\", \"2016-11-25\", \"2016-11-28\", \"2016-11-29\", \"2016-11-30\", \"2016-12-01\", \"2016-12-02\", \"2016-12-05\", \"2016-12-06\", \"2016-12-07\", \"2016-12-08\", \"2016-12-09\", \"2016-12-12\", \"2016-12-13\", \"2016-12-14\", \"2016-12-15\", \"2016-12-16\", \"2016-12-19\", \"2016-12-20\", \"2016-12-21\", \"2016-12-22\", \"2016-12-23\", \"2016-12-27\", \"2016-12-28\", \"2016-12-29\", \"2016-12-30\", \"2017-01-03\", \"2017-01-04\", \"2017-01-05\", \"2017-01-06\", \"2017-01-09\", \"2017-01-10\", \"2017-01-11\", \"2017-01-12\", \"2017-01-13\", \"2017-01-17\", \"2017-01-18\", \"2017-01-19\", \"2017-01-20\", \"2017-01-23\", \"2017-01-24\", \"2017-01-25\", \"2017-01-26\", \"2017-01-27\", \"2017-01-30\", \"2017-01-31\", \"2017-02-01\", \"2017-02-02\", \"2017-02-03\", \"2017-02-06\", \"2017-02-07\", \"2017-02-08\", \"2017-02-09\", \"2017-02-10\", \"2017-02-13\", \"2017-02-14\", \"2017-02-15\", \"2017-02-16\", \"2017-02-17\", \"2017-02-21\", \"2017-02-22\", \"2017-02-23\", \"2017-02-24\", \"2017-02-27\", \"2017-02-28\", \"2017-03-01\", \"2017-03-02\", \"2017-03-03\", \"2017-03-06\", \"2017-03-07\", \"2017-03-08\", \"2017-03-09\", \"2017-03-10\", \"2017-03-13\", \"2017-03-14\", \"2017-03-15\", \"2017-03-16\", \"2017-03-17\", \"2017-03-20\", \"2017-03-21\", \"2017-03-22\", \"2017-03-23\", \"2017-03-24\", \"2017-03-27\", \"2017-03-28\", \"2017-03-29\", \"2017-03-30\", \"2017-03-31\", \"2017-04-03\", \"2017-04-04\", \"2017-04-05\", \"2017-04-06\", \"2017-04-07\", \"2017-04-10\", \"2017-04-11\", \"2017-04-12\", \"2017-04-13\", \"2017-04-17\", \"2017-04-18\", \"2017-04-19\", \"2017-04-20\", \"2017-04-21\", \"2017-04-24\", \"2017-04-25\", \"2017-04-26\", \"2017-04-27\", \"2017-04-28\", \"2017-05-01\", \"2017-05-02\", \"2017-05-03\", \"2017-05-04\", \"2017-05-05\", \"2017-05-08\", \"2017-05-09\", \"2017-05-10\", \"2017-05-11\", \"2017-05-12\", \"2017-05-15\", \"2017-05-16\", \"2017-05-17\", \"2017-05-18\", \"2017-05-19\", \"2017-05-22\", \"2017-05-23\", \"2017-05-24\", \"2017-05-25\", \"2017-05-26\", \"2017-05-30\", \"2017-05-31\", \"2017-06-01\", \"2017-06-02\", \"2017-06-05\", \"2017-06-06\", \"2017-06-07\", \"2017-06-08\", \"2017-06-09\", \"2017-06-12\", \"2017-06-13\", \"2017-06-14\", \"2017-06-15\", \"2017-06-16\", \"2017-06-19\", \"2017-06-20\", \"2017-06-21\", \"2017-06-22\", \"2017-06-23\", \"2017-06-26\", \"2017-06-27\", \"2017-06-28\", \"2017-06-29\", \"2017-06-30\", \"2017-07-03\", \"2017-07-05\", \"2017-07-06\", \"2017-07-07\", \"2017-07-10\", \"2017-07-11\", \"2017-07-12\", \"2017-07-13\", \"2017-07-14\", \"2017-07-17\", \"2017-07-18\", \"2017-07-19\", \"2017-07-20\", \"2017-07-21\", \"2017-07-24\", \"2017-07-25\", \"2017-07-26\", \"2017-07-27\", \"2017-07-28\", \"2017-07-31\", \"2017-08-01\", \"2017-08-02\", \"2017-08-03\", \"2017-08-04\", \"2017-08-07\", \"2017-08-08\", \"2017-08-09\", \"2017-08-10\", \"2017-08-11\", \"2017-08-14\", \"2017-08-15\", \"2017-08-16\", \"2017-08-17\", \"2017-08-18\", \"2017-08-21\", \"2017-08-22\", \"2017-08-23\", \"2017-08-24\", \"2017-08-25\", \"2017-08-28\", \"2017-08-29\", \"2017-08-30\", \"2017-08-31\", \"2017-09-01\", \"2017-09-05\", \"2017-09-06\", \"2017-09-07\", \"2017-09-08\", \"2017-09-11\", \"2017-09-12\", \"2017-09-13\", \"2017-09-14\", \"2017-09-15\", \"2017-09-18\", \"2017-09-19\", \"2017-09-20\", \"2017-09-21\", \"2017-09-22\", \"2017-09-25\", \"2017-09-26\", \"2017-09-27\", \"2017-09-28\", \"2017-09-29\", \"2017-10-02\", \"2017-10-03\", \"2017-10-04\", \"2017-10-05\", \"2017-10-06\", \"2017-10-09\", \"2017-10-10\", \"2017-10-11\", \"2017-10-12\", \"2017-10-13\", \"2017-10-16\", \"2017-10-17\", \"2017-10-18\", \"2017-10-19\", \"2017-10-20\", \"2017-10-23\", \"2017-10-24\", \"2017-10-25\", \"2017-10-26\", \"2017-10-27\", \"2017-10-30\", \"2017-10-31\", \"2017-11-01\", \"2017-11-02\", \"2017-11-03\", \"2017-11-06\", \"2017-11-07\", \"2017-11-08\", \"2017-11-09\", \"2017-11-10\", \"2017-11-13\", \"2017-11-14\", \"2017-11-15\", \"2017-11-16\", \"2017-11-17\", \"2017-11-20\", \"2017-11-21\", \"2017-11-22\", \"2017-11-24\", \"2017-11-27\", \"2017-11-28\", \"2017-11-29\", \"2017-11-30\", \"2017-12-01\", \"2017-12-04\", \"2017-12-05\", \"2017-12-06\", \"2017-12-07\", \"2017-12-08\", \"2017-12-11\", \"2017-12-12\", \"2017-12-13\", \"2017-12-14\", \"2017-12-15\", \"2017-12-18\", \"2017-12-19\", \"2017-12-20\", \"2017-12-21\", \"2017-12-22\", \"2017-12-26\", \"2017-12-27\", \"2017-12-28\", \"2017-12-29\", \"2018-01-02\", \"2018-01-03\", \"2018-01-04\", \"2018-01-05\", \"2018-01-08\", \"2018-01-09\", \"2018-01-10\", \"2018-01-11\", \"2018-01-12\", \"2018-01-16\", \"2018-01-17\", \"2018-01-18\", \"2018-01-19\", \"2018-01-22\", \"2018-01-23\", \"2018-01-24\", \"2018-01-25\", \"2018-01-26\", \"2018-01-29\", \"2018-01-30\", \"2018-01-31\", \"2018-02-01\", \"2018-02-02\", \"2018-02-05\", \"2018-02-06\", \"2018-02-07\", \"2018-02-08\", \"2018-02-09\", \"2018-02-12\", \"2018-02-13\", \"2018-02-14\", \"2018-02-15\", \"2018-02-16\", \"2018-02-20\", \"2018-02-21\", \"2018-02-22\", \"2018-02-23\", \"2018-02-26\", \"2018-02-27\", \"2018-02-28\", \"2018-03-01\", \"2018-03-02\", \"2018-03-05\", \"2018-03-06\", \"2018-03-07\", \"2018-03-08\", \"2018-03-09\", \"2018-03-12\", \"2018-03-13\", \"2018-03-14\", \"2018-03-15\", \"2018-03-16\", \"2018-03-19\", \"2018-03-20\", \"2018-03-21\", \"2018-03-22\", \"2018-03-23\", \"2018-03-26\", \"2018-03-27\", \"2018-03-28\", \"2018-03-29\", \"2018-04-02\", \"2018-04-03\", \"2018-04-04\", \"2018-04-05\", \"2018-04-06\", \"2018-04-09\", \"2018-04-10\", \"2018-04-11\", \"2018-04-12\", \"2018-04-13\", \"2018-04-16\", \"2018-04-17\", \"2018-04-18\", \"2018-04-19\", \"2018-04-20\", \"2018-04-23\", \"2018-04-24\", \"2018-04-25\", \"2018-04-26\", \"2018-04-27\", \"2018-04-30\", \"2018-05-01\", \"2018-05-02\", \"2018-05-03\", \"2018-05-04\", \"2018-05-07\", \"2018-05-08\", \"2018-05-09\", \"2018-05-10\", \"2018-05-11\", \"2018-05-14\", \"2018-05-15\", \"2018-05-16\", \"2018-05-17\", \"2018-05-18\", \"2018-05-21\", \"2018-05-22\", \"2018-05-23\", \"2018-05-24\", \"2018-05-25\", \"2018-05-29\", \"2018-05-30\", \"2018-05-31\", \"2018-06-01\", \"2018-06-04\", \"2018-06-05\", \"2018-06-06\", \"2018-06-07\", \"2018-06-08\", \"2018-06-11\", \"2018-06-12\", \"2018-06-13\", \"2018-06-14\", \"2018-06-15\", \"2018-06-18\", \"2018-06-19\", \"2018-06-20\", \"2018-06-21\", \"2018-06-22\", \"2018-06-25\", \"2018-06-26\", \"2018-06-27\", \"2018-06-28\", \"2018-06-29\", \"2018-07-02\", \"2018-07-03\", \"2018-07-05\", \"2018-07-06\", \"2018-07-09\", \"2018-07-10\", \"2018-07-11\", \"2018-07-12\", \"2018-07-13\", \"2018-07-16\", \"2018-07-17\", \"2018-07-18\", \"2018-07-19\", \"2018-07-20\", \"2018-07-23\", \"2018-07-24\", \"2018-07-25\", \"2018-07-26\", \"2018-07-27\", \"2018-07-30\", \"2018-07-31\", \"2018-08-01\", \"2018-08-02\", \"2018-08-03\", \"2018-08-06\", \"2018-08-07\", \"2018-08-08\", \"2018-08-09\", \"2018-08-10\", \"2018-08-13\", \"2018-08-14\", \"2018-08-15\", \"2018-08-16\", \"2018-08-17\", \"2018-08-20\", \"2018-08-21\", \"2018-08-22\", \"2018-08-23\", \"2018-08-24\", \"2018-08-27\", \"2018-08-28\", \"2018-08-29\", \"2018-08-30\", \"2018-08-31\", \"2018-09-04\", \"2018-09-05\", \"2018-09-06\", \"2018-09-07\", \"2018-09-10\", \"2018-09-11\", \"2018-09-12\", \"2018-09-13\", \"2018-09-14\", \"2018-09-17\", \"2018-09-18\", \"2018-09-19\", \"2018-09-20\", \"2018-09-21\", \"2018-09-24\", \"2018-09-25\", \"2018-09-26\", \"2018-09-27\", \"2018-09-28\", \"2018-10-01\", \"2018-10-02\", \"2018-10-03\", \"2018-10-04\", \"2018-10-05\", \"2018-10-08\", \"2018-10-09\", \"2018-10-10\", \"2018-10-11\", \"2018-10-12\", \"2018-10-15\", \"2018-10-16\", \"2018-10-17\", \"2018-10-18\", \"2018-10-19\", \"2018-10-22\", \"2018-10-23\", \"2018-10-24\", \"2018-10-25\", \"2018-10-26\", \"2018-10-29\", \"2018-10-30\", \"2018-10-31\", \"2018-11-01\", \"2018-11-02\", \"2018-11-05\", \"2018-11-06\", \"2018-11-07\", \"2018-11-08\", \"2018-11-09\", \"2018-11-12\", \"2018-11-13\", \"2018-11-14\", \"2018-11-15\", \"2018-11-16\", \"2018-11-19\", \"2018-11-20\", \"2018-11-21\", \"2018-11-23\", \"2018-11-26\", \"2018-11-27\", \"2018-11-28\", \"2018-11-29\", \"2018-11-30\", \"2018-12-03\", \"2018-12-04\", \"2018-12-06\", \"2018-12-07\", \"2018-12-10\", \"2018-12-11\", \"2018-12-12\", \"2018-12-13\", \"2018-12-14\", \"2018-12-17\", \"2018-12-18\", \"2018-12-19\", \"2018-12-20\", \"2018-12-21\", \"2018-12-24\", \"2018-12-26\", \"2018-12-27\", \"2018-12-28\", \"2018-12-31\"], \"y\": [18.9348, 19.0273, 19.14, 19.1969, 19.1914, 19.3003, 19.3097, 19.4325, 19.5151, 19.51, 19.4943, 19.4591, 19.3512, 19.1558, 19.1605, 19.1759, 19.1747, 19.0787, 19.0171, 19.1876, 19.3268, 19.3168, 19.1051, 19.0173, 18.9912, 19.0739, 19.1465, 19.2082, 19.1876, 19.3168, 19.4559, 19.4916, 19.5335, 19.5436, 19.5589, 19.6059, 19.6669, 19.7195, 19.7912, 19.9313, 19.8951, 19.9622, 20.0354, 20.0198, 20.0608, 20.1065, 20.1388, 20.2576, 20.2315, 20.3095, 20.4132, 20.3606, 20.315, 20.3462, 20.3714, 20.3252, 20.2213, 20.2167, 20.2266, 20.1642, 20.0715, 20.1227, 20.0862, 20.0808, 20.0757, 20.0911, 20.0911, 20.1328, 20.1853, 20.2318, 20.2664, 20.1227, 20.0757, 20.1746, 20.2375, 20.2891, 20.2735, 20.2268, 20.0862, 20.0757, 20.1488, 20.0808, 20.1482, 19.9698, 19.5872, 18.3483, 18.8555, 19.3513, 19.4451, 19.5296, 19.5872, 19.3615, 19.1835, 19.0416, 18.8319, 18.365, 18.6267, 18.8528, 18.7344, 18.9155, 19.2196, 19.2088, 19.2125, 19.3916, 19.4182, 19.1906, 19.1906, 19.17, 19.2172, 19.3499, 19.5129, 19.5291, 19.6926, 19.6, 19.6186, 19.6505, 19.5872, 19.5606, 19.5393, 19.5502, 19.6346, 19.6873, 19.4495, 19.5716, 19.5963, 19.6497, 19.6789, 19.8201, 19.9951, 20.0483, 20.0325, 20.1915, 20.2614, 20.2874, 20.2291, 20.3296, 20.3834, 20.4151, 20.575, 20.6279, 20.8299, 20.8566, 20.7928, 20.862, 20.9207, 20.9784, 20.9896, 21.1069, 21.1556, 21.2086, 21.2624, 21.2035, 21.1872, 21.247, 21.391, 21.2947, 21.388, 21.4504, 21.3641, 21.3594, 21.3753, 21.241, 21.2897, 21.3058, 21.4069, 21.4182, 21.401999999999997, 21.4757, 21.4434, 21.5029, 21.4922, 21.5352, 21.5193, 21.5511, 21.579, 21.4922, 21.5081, 21.4866, 21.4812, 21.5892, 21.5407, 21.5407, 21.5193, 21.5511, 21.4922, 21.4649, 21.4922, 21.4812, 21.4968, 21.4151, 21.4473, 21.4369, 21.4747, 21.5186, 21.5374, 21.5568, 21.616, 21.566999999999997, 21.4044, 21.3929, 21.3439, 21.3662, 21.3771, 21.4582, 21.4422, 21.4696, 21.4287, 21.4882, 21.5129, 21.5444, 21.4838, 21.5166, 21.6418, 21.6586, 21.6258, 21.6538, 21.6699, 21.6477, 21.6038, 21.6038, 21.4621, 21.4457, 21.5493, 21.5658, 21.4402, 21.3857, 21.4621, 21.4677, 21.4021, 21.3802, 21.4442, 21.4497, 21.4772, 21.4329, 21.4604, 21.421999999999997, 21.4879, 21.4994, 21.4994, 21.3402, 21.2685, 21.2467, 21.281999999999996, 21.1252, 21.1751, 21.1857, 21.2139, 21.2467, 21.2562, 21.3611, 21.3558, 21.4387, 21.4719, 21.4997, 21.4799, 21.5047, 21.4828, 21.5161, 21.5094, 21.549, 21.5822, 21.5383, 21.5161, 21.5214, 21.5102, 21.5547, 21.549, 21.5822, 21.5929, 21.6427, 21.5439, 21.5929, 21.655, 21.6432, 21.6992, 21.7321, 21.7268, 21.7654, 21.7715, 21.7993, 21.866, 21.8716, 21.8601, 21.9492, 21.9213, 21.9939, 21.8546, 21.8432, 21.8267, 21.8716, 21.9492, 21.8873, 21.9596, 22.0332, 22.0663, 21.976999999999997, 22.0381, 22.0603, 22.0161, 22.0497, 22.0161, 21.976999999999997, 21.9205, 21.9044, 21.9878, 22.0268, 22.0468, 22.0718, 22.0603, 22.0939, 22.0997, 22.0939, 22.1383, 22.1611, 22.2371, 22.2371, 22.2876, 22.2821, 22.2147, 22.2429, 22.1863, 22.1359, 22.1302, 22.1249, 22.1302, 22.0965, 22.180999999999997, 22.2429, 22.293000000000003, 22.3328, 22.3773, 22.4227, 22.4564, 22.5123, 22.4714, 22.4992, 22.5219, 22.4648, 22.4936, 22.5389, 22.5955, 22.607, 22.6292, 22.6575, 22.6266, 22.6521, 22.6458, 22.6631, 22.6458, 22.612, 22.612, 22.618000000000002, 22.6013, 22.6351, 22.6458, 22.5787, 22.5109, 22.4934, 22.4368, 22.4368, 22.3685, 22.3517, 22.3174, 22.3004, 22.3628, 22.2778, 22.0677, 22.206999999999997, 22.2264, 22.2892, 22.3064, 22.3004, 22.2722, 22.2552, 22.3971, 22.4309, 22.522, 22.5371, 22.565, 22.5482, 22.5937, 22.5826, 22.4743, 22.3997, 22.4682, 22.4167, 22.4396, 22.2891, 22.3137, 22.3544, 22.4447, 22.4795, 22.3768, 22.3828, 22.2512, 22.1769, 22.0969, 22.2358, 22.195999999999998, 22.2532, 21.6561, 21.2428, 19.2219, 20.5824, 20.5597, 21.0596, 21.2655, 21.5416, 21.4952, 21.506999999999998, 21.1679, 21.0934, 20.9384, 20.8816, 21.0596, 21.2945, 21.4268, 21.701999999999998, 21.7307, 21.6847, 21.7007, 21.5848, 21.4415, 21.6602, 21.5099, 21.3889, 21.0197, 21.0817, 21.151999999999997, 21.3831, 21.32, 21.1927, 21.1693, 20.8985, 20.6034, 20.607, 20.5752, 20.8001, 20.6792, 20.8001, 20.5577, 20.1288, 19.9531, 20.1574, 20.5349, 20.6104, 20.8079, 20.8891, 21.0751, 20.9763, 20.9644, 20.9355, 21.0692, 21.0865, 21.1331, 21.3073, 21.4348, 21.3596, 21.4636, 21.8411, 21.8704, 21.6613, 21.3142, 21.4835, 21.5421, 21.6179, 21.605999999999998, 21.6294, 21.3203, 21.366999999999997, 21.5362, 21.4253, 21.4778, 21.3203, 21.25, 21.2849, 21.1217, 21.0457, 20.795, 20.8647, 20.9637, 20.8513, 20.9815, 20.8995, 20.9988, 21.1809, 21.221999999999998, 21.1875, 21.0632, 21.1926, 21.1219, 21.1511, 20.987, 20.9988, 20.8933, 20.8461, 20.8751, 20.9166, 21.1045, 21.1104, 20.8755, 20.8824, 20.923000000000002, 21.0054, 21.1944, 21.3831, 21.678, 21.7074, 21.8196, 21.9724, 21.9492, 22.0376, 21.9724, 21.9789, 22.0966, 22.173000000000002, 22.2617, 22.2793, 22.2739, 22.3387, 22.4092, 22.4859, 22.4441, 22.4919, 22.5844, 22.6371, 22.7434, 22.7613, 22.796999999999997, 22.8384, 22.8384, 22.7434, 22.8443, 22.8443, 22.886, 22.9217, 22.975, 22.9695, 22.9985, 23.0402, 23.0578, 23.0994, 23.1704, 23.1763, 23.1994, 23.2472, 23.1696, 22.9735, 23.0152, 23.1398, 23.1814, 23.2408, 23.3185, 23.235, 23.1696, 23.2174, 23.2207, 23.1825, 23.1941, 23.1757, 23.2053, 23.2472, 23.2296, 23.2472, 23.1814, 23.2174, 23.2339, 23.2394, 23.1438, 23.1799, 23.1379, 23.0008, 22.9529, 23.1502, 23.1321, 23.1799, 23.2098, 23.1502, 23.12, 23.0545, 23.0844, 23.12, 23.1859, 23.1917, 23.2455, 23.2694, 23.3035, 23.2673, 23.2975, 23.2975, 23.3218, 23.3218, 23.2616, 23.2735, 23.1773, 23.0155, 22.9557, 22.9308, 22.565, 22.3489, 22.691, 22.9252, 22.9375, 23.0275, 23.0756, 23.1961, 23.0573, 22.9969, 22.848000000000003, 22.8898, 22.9806, 23.0895, 23.0773, 23.1133, 23.0208, 23.1074, 23.1296, 23.1889, 23.2161, 23.2702, 23.3245, 23.3729, 23.2947, 23.3489, 23.3729, 23.415, 23.4635, 23.5355, 23.5537, 23.6423, 23.7208, 23.7515, 23.7699, 23.7267, 23.6909, 23.7332, 23.7208, 23.7816, 23.8545, 23.8545, 23.8844, 23.9028, 23.909000000000002, 23.8545, 23.7515, 23.7573, 23.8299, 23.897, 23.9211, 23.909000000000002, 23.8538, 23.9209, 23.9937, 24.0186, 24.0525, 24.0735, 24.1225, 24.1105, 24.0798, 24.0798, 24.0854, 24.0921, 24.1345, 24.1105, 24.1159, 24.1159, 24.1225, 24.1345, 24.1652, 24.1712, 24.2381, 24.2381, 24.2627, 24.2633, 24.2938, 24.3491, 24.4285, 24.4102, 24.398000000000003, 24.4714, 24.49, 24.502, 24.4654, 24.502, 24.502, 24.5085, 24.49, 24.3856, 24.4349, 24.4349, 24.4594, 24.4407, 24.5043, 24.5225, 24.5415, 24.590999999999998, 24.6337, 24.6237, 24.5661, 24.6155, 24.6955, 24.6772, 24.6833, 24.7139, 24.7327, 24.7882, 24.72, 24.6772, 24.6524, 24.6155, 24.6028, 24.6093, 24.6889, 24.7645, 24.7458, 24.7518, 24.7706, 24.6777, 24.5844, 24.6031, 24.6591, 24.6216, 24.3426, 24.2562, 24.4792, 24.5844, 24.5965, 24.5911, 24.6342, 24.628, 24.6714, 24.6964, 24.7269, 24.7335, 24.6615, 24.6796, 24.6668, 24.6731, 24.6858, 24.6668, 24.6735, 24.7108, 24.6552, 24.642, 24.6114, 24.6668, 24.7233, 24.7356, 24.6858, 24.6922, 24.7108, 24.6983, 24.7608, 24.8298, 24.9048, 24.968000000000004, 25.0803, 25.0679, 25.0864, 25.1556, 25.1685, 25.1992, 25.1685, 25.1869, 25.1618, 25.1992, 25.2876, 25.2876, 25.2743, 25.2312, 25.2689, 25.2181, 25.206, 25.1618, 25.1618, 25.1944, 25.1629, 25.2003, 25.2075, 25.2194, 25.2194, 25.2194, 25.2509, 25.2573, 25.2509, 25.2636, 25.2701, 25.2462, 25.2449, 25.2636, 25.2701, 25.3203, 25.3457, 25.2952, 25.3254, 25.3458, 25.3899, 25.3964, 25.4025, 25.4025, 25.4281, 25.4216, 25.4529, 25.4848, 25.5035, 25.4911, 25.4848, 25.5348, 25.5287, 25.5413, 25.5413, 25.5479, 25.4974, 25.5792, 25.5574, 25.5889, 25.5574, 25.5383, 25.5515, 25.5322, 25.5515, 25.5638, 25.6146, 25.6146, 25.5763, 25.6522, 25.6586, 25.6714, 25.6522, 25.5701, 25.6522, 25.684, 25.7098, 25.7415, 25.8233, 25.8494, 25.8338, 25.9464, 25.9783, 25.9908, 26.08, 26.1439, 26.1309, 26.1246, 26.0867, 26.0099, 25.9464, 25.9523, 26.0546, 26.0675, 26.0675, 26.0353, 25.9464, 25.997, 25.9654, 25.8381, 25.9209, 25.6791, 25.4768, 25.4645, 25.3109, 25.3687, 25.4575, 25.3744, 25.0165, 24.7483, 25.0551, 25.2596, 25.3238, 25.3815, 25.1511, 24.7735, 24.7289, 24.3837, 24.5886, 24.8954, 25.0618, 25.1126, 25.1116, 25.0216, 24.9255, 24.7009, 24.6877, 24.7395, 24.8483, 25.0216, 25.0026, 25.0921, 25.0284, 25.0666, 25.0795, 25.189, 25.0988, 25.1629, 25.073, 24.945, 24.9957, 24.8483, 24.8421, 24.9763, 24.8167, 24.8361, 24.796999999999997, 24.7068, 24.6877, 24.6681, 24.6753, 24.7332, 24.6424, 24.4557, 24.275, 24.1529, 23.8757, 23.9981, 24.0046, 24.1917, 24.4104, 24.3529, 24.3202, 24.3781, 24.3915, 24.4298, 24.3701, 24.4351, 24.3124, 24.3373, 24.3765, 24.3635, 24.4477, 24.3322, 24.3833, 24.39, 24.4211, 24.6842, 24.5709, 24.5323, 24.5059, 24.5253, 24.5643, 24.6163, 24.4997, 24.5964, 24.5053, 24.5123, 24.4729, 24.5123, 24.4341, 24.3889, 24.3689, 24.447, 24.4864, 24.4534, 24.3689, 24.4273, 24.6097, 24.746, 24.6812, 24.8112, 24.9019, 24.8112, 24.7918, 24.7783, 24.8173, 24.7918, 24.824, 24.8384, 24.826, 24.767, 24.7603, 24.7992, 24.6951, 24.7275, 24.656, 24.7016, 24.7409, 24.7732, 24.7473, 24.7212, 24.6627, 24.7343, 24.9039, 24.8321, 24.8716, 24.8648, 24.9039, 24.888, 24.8291, 24.7436, 24.6126, 24.6256, 24.6586, 24.6781, 24.54, 24.4879, 24.5863, 24.6256, 24.5863, 24.5991, 24.5991, 24.6188, 24.5928, 24.6059, 24.5087, 24.4686, 24.5954, 24.5817, 24.7285, 24.8755, 25.0222, 24.9756, 25.0155, 25.1025, 25.23, 25.2024, 25.2355, 25.23, 25.3161, 25.3829, 25.3228, 25.3698, 25.3161, 25.23, 25.1958, 25.3095, 25.2554, 25.3497, 25.3095, 25.2626, 25.3161, 25.3229, 25.3297, 25.383000000000003, 25.424, 25.491, 25.4975, 25.5777, 25.6378, 25.732, 25.7589, 25.7657, 25.7788, 25.7589, 25.7388, 25.7788, 25.8201, 25.8866, 25.8664, 25.92, 25.8931, 25.9331, 25.8798, 25.8865, 25.8998, 25.9474, 26.0079, 26.0818, 26.1632, 26.1971, 26.143, 26.156, 26.2242, 26.2581, 26.2581, 26.247, 26.2709, 26.2979, 26.3384, 26.4427, 26.4019, 26.3815, 26.4087, 26.3886, 26.4019, 26.4492, 26.429000000000002, 26.4492, 26.4629, 26.5176, 26.5241, 26.5176, 26.4767, 26.5306, 26.5176, 26.5576, 26.6119, 26.6733, 26.7342, 26.8224, 26.8441, 26.8848, 26.9257, 26.8914, 26.9185, 26.9325, 26.9185, 26.9257, 26.9391, 26.9933, 26.9873, 27.021, 27.0482, 27.0346, 27.0277, 26.9594, 26.9529, 27.0346, 27.089000000000002, 27.1571, 27.1571, 27.1388, 26.954, 26.8577, 26.9062, 26.968000000000004, 26.9883, 26.9129, 26.9266, 26.9814, 26.954, 27.0021, 27.076999999999998, 27.1457, 27.1595, 27.1798, 27.1935, 27.2005, 27.2414, 27.2825, 27.3234, 27.3234, 27.3601, 27.3808, 27.2773, 27.2709, 27.3118, 27.3601, 27.3191, 27.4563, 27.4494, 27.4356, 27.4286, 27.2773, 27.4149, 27.3739, 27.3601, 27.3739, 27.4013, 27.4286, 27.4215, 27.4356, 27.3808, 27.1877, 27.1348, 27.0516, 27.0173, 27.0797, 27.2455, 27.2311, 27.266, 27.3144, 27.3901, 27.4662, 27.487, 27.5631, 27.5496, 27.5423, 27.5563, 27.5528, 27.5981, 27.6392, 27.6598, 27.6739, 27.6739, 27.570999999999998, 27.5576, 27.3354, 27.3976, 27.3418, 27.2933, 27.2933, 27.2865, 27.224, 27.2657, 27.2451, 27.3213, 27.3904, 27.426, 27.3696, 27.3418, 27.3354, 27.2727, 27.3767, 27.4115, 27.4463, 27.3767, 27.4115, 27.4115, 27.4467, 27.3977, 27.5166, 27.3977, 27.3626, 27.3137, 27.4048, 27.4326, 27.4535, 27.4955, 27.5302, 27.6005, 27.614, 27.6353, 27.6698, 27.6698, 27.7052, 27.684, 27.7187, 27.7396, 27.7738, 27.7946, 27.7665, 27.7805, 27.851, 27.865, 27.8857, 27.9139, 27.9003, 27.949, 27.9909, 27.998, 27.9632, 27.9697, 27.9843, 28.0054, 28.0261, 28.0962, 28.0824, 27.9346, 27.998, 27.8923, 27.73, 27.7516, 27.7937, 27.7937, 27.7161, 27.7585, 27.6885, 27.604, 27.4768, 27.6598, 27.7376, 27.8431, 27.836, 27.8221, 27.813000000000002, 27.8695, 27.9269, 28.0119, 28.0477, 28.1688, 28.0621, 28.0905, 28.1543, 28.1901, 28.2115, 28.1901, 28.1616, 28.1048, 28.112, 28.2115, 28.1975, 28.2398, 28.2968, 28.3178, 28.3962, 28.4174, 28.4532, 28.4319, 28.4174, 28.5084, 28.5084, 28.4802, 28.5231, 28.4228, 28.4514, 28.4372, 28.5084, 28.5301, 28.5799, 28.4875, 28.3874, 28.4159, 28.4659, 28.5301, 28.5733, 28.6158, 28.6376, 28.6945, 28.6945, 28.7235, 28.73, 28.7445, 28.4861, 28.4216, 28.4649, 28.5581, 28.5294, 28.5151, 28.5508, 28.5437, 28.6516, 28.6372, 28.7378, 28.766, 28.766, 28.766, 28.7516, 28.7596, 28.7805, 28.7805, 28.7776, 28.8064, 28.7842, 28.8064, 28.8565, 28.8493, 28.8423, 28.8206, 28.8423, 28.9217, 28.8784, 28.7698, 28.7481, 28.7992, 28.8138, 28.8565, 28.8638, 28.8351, 28.8493, 28.8064, 28.7842, 28.7291, 28.750999999999998, 28.6354, 28.2587, 28.4039, 28.6498, 28.4687, 28.5702, 28.7075, 28.8454, 28.8377, 28.7728, 28.7226, 28.7946, 28.8454, 28.8598, 28.8529, 28.8887, 28.8743, 28.7804, 28.7665, 28.8024, 28.7599, 28.8068, 28.7081, 28.6939, 28.6283, 28.6069, 28.6357, 28.5919, 28.6357, 28.6863, 28.6211, 28.5411, 28.5411, 28.5776, 28.599, 28.599, 28.599, 28.5919, 28.4391, 28.4902, 28.5265, 28.5721, 28.5208, 28.5429, 28.426, 28.4988, 28.55, 28.638, 28.6813, 28.747, 28.8715, 28.8641, 28.8791, 28.8641, 28.7835, 28.7625, 28.7408, 28.7104, 28.8059, 28.7835, 28.8202, 28.8791, 28.8937, 28.8682, 28.89, 28.8756, 28.8537, 28.9563, 28.9563, 28.9563, 28.9341, 28.941999999999997, 28.9488, 28.9047, 28.8386, 28.7874, 28.6406, 28.0902, 28.2663, 28.4349, 28.6332, 28.7062, 28.6625, 28.5617, 28.6354, 28.6721, 28.6574, 28.7166, 28.6645, 28.6277, 28.6501, 28.6277, 28.5911, 28.6721, 28.7242, 28.6574, 28.6574, 28.6132, 28.6132, 28.6797, 28.6868, 28.4878, 28.3702, 28.4657, 28.4143, 28.4735, 28.6661, 28.6808, 28.7101, 28.7408, 28.7324, 28.7324, 28.7408, 28.7773, 28.8587, 28.955, 28.903000000000002, 28.896, 28.9474, 28.9998, 28.9998, 29.0069, 29.0069, 29.0513, 29.0216, 29.0812, 29.1854, 29.1633, 29.2074, 29.2227, 28.9923, 28.9999, 29.0738, 29.148000000000003, 29.0738, 29.0738, 29.0292, 29.0368, 29.0368, 29.0591, 29.0883, 29.1036, 29.1854, 29.2599, 29.3415, 29.2745, 29.3352, 29.2008, 29.0883, 29.1332, 29.0142, 28.9544, 28.9319, 28.9094, 28.73, 28.2228, 28.4243, 28.6106, 28.73, 28.6931, 28.8049, 28.8801, 29.0142, 29.1101, 29.1101, 29.1932, 29.2684, 29.246, 29.3813, 29.4113, 29.3437, 29.1553, 29.2385, 29.0805, 29.0576, 28.8696, 28.8842, 28.7714, 28.7337, 28.561, 28.6133, 28.7638, 28.6361, 28.6662, 28.7422, 28.7864, 28.96, 29.0539, 28.9785, 28.9329, 28.826999999999998, 28.6453, 28.1011, 27.8516, 28.0256, 27.4204, 27.6552, 28.1388, 28.4563, 28.5925, 28.6381, 28.5777, 28.6153, 28.6832, 28.8876, 28.8952, 28.9785, 29.0672, 29.0215, 29.0521, 29.0597, 29.1051, 29.0748, 29.1504, 29.1504, 29.3256, 29.3027, 29.1963, 29.28, 29.3332, 29.3864, 29.3634, 29.4317, 29.4168, 29.4624, 29.5536, 29.6073, 29.6373, 29.6677, 29.4787, 29.4098, 29.3333, 29.3333, 29.2569, 29.3946, 29.4555, 29.5091, 29.5701, 29.5779, 29.6084, 29.6084, 29.7457, 29.7761, 29.7609, 29.8145, 29.7384, 29.8219, 29.9059, 29.8831, 29.9291, 29.9614, 29.8771, 29.9074, 29.8384, 29.9153, 29.9995, 30.0683, 30.0842, 30.046, 30.1072, 30.1993, 30.2377, 30.1072, 30.0611, 30.0611, 30.2223, 30.2377, 30.2837, 30.2911, 30.3221, 30.3912, 30.4421, 30.4352, 30.589000000000002, 30.5736, 30.5424, 30.5424, 30.5272, 30.4352, 30.365, 30.2807, 30.3036, 30.3115, 30.4352, 30.5968, 30.5813, 30.589000000000002, 30.6353, 30.4268, 30.2268, 30.5658, 30.6428, 30.7507, 30.6891, 30.5658, 30.615, 30.646, 30.7466, 30.8084, 30.9167, 30.9322, 30.94, 31.0253, 31.0097, 31.0174, 30.9713, 30.9653, 31.0253, 31.0174, 31.0484, 31.0952, 31.1027, 31.1799, 31.1645, 31.0862, 31.0785, 31.1718, 31.2106, 31.2807, 31.3276, 31.2807, 31.2573, 31.2186, 31.1404, 31.0942, 31.1404, 31.156, 31.1018, 31.1487, 31.1877, 31.1404, 31.1487, 31.1877, 31.2341, 31.2186, 31.1877, 31.1256, 31.2114, 31.2507, 31.2266, 31.2507, 30.8753, 30.9768, 30.7271, 30.781999999999996, 30.8052, 30.7352, 30.7352, 30.7895, 30.9305, 31.0943, 31.1097, 30.9536, 31.0004, 31.0786, 30.7192, 30.8523, 30.8506, 30.7642, 30.7487, 30.7404, 30.7248, 30.772, 30.5369, 30.3638, 30.3958, 30.4893, 30.4893, 30.7404, 30.7874, 30.8035, 30.8741, 30.8974, 30.9445, 30.8506, 30.7404, 30.6074, 30.5524, 30.5041, 30.189, 29.9764, 30.0552, 30.1338, 30.0552, 29.8895, 29.4561, 29.4249, 28.9833, 29.5195, 29.7632, 29.5351, 29.2828, 29.471999999999998, 29.6926, 29.6218, 29.6847, 29.6374, 29.6769, 29.5351, 29.3468, 29.3151, 29.3623, 29.4179, 29.4814, 29.4734, 29.4022, 29.2598, 29.2992, 29.2205, 29.3226, 29.3944, 29.5129, 29.5685, 29.6556, 29.7137, 29.738000000000003, 29.5863, 29.555, 29.5707, 29.6261, 29.8575, 30.2156, 30.1918, 30.1761, 30.1357, 30.2632, 30.4062, 30.335, 30.3429, 30.2393, 30.2553, 29.9843, 30.0563, 30.1761, 30.2315, 30.1281, 30.2553, 30.2315, 30.2393, 30.335, 30.3281, 30.4561, 30.5364, 30.5921, 30.6084, 30.8003, 30.7522, 30.7765, 30.8081, 30.8081, 30.8482, 30.8003, 30.8081, 30.8081, 30.8242, 30.9363, 31.0001, 31.0326, 30.9685, 30.8808, 30.8243, 30.8564, 30.8564, 30.7601, 30.5268, 30.3742, 30.4787, 30.4946, 30.4946, 30.8243, 30.8808, 30.929000000000002, 30.8977, 30.8003, 30.8243, 30.9208, 30.929000000000002, 30.9609, 31.0254, 31.0497, 31.0898, 31.1218, 31.3246, 31.3083, 31.1952, 31.3246, 31.2839, 31.389, 31.3324, 31.3324, 31.291999999999998, 31.4051, 31.4051, 31.3565, 31.3973, 31.4618, 31.4941, 31.47, 31.4941, 31.5264, 31.5264, 31.5751, 31.5875, 31.6197, 31.5309, 31.5957, 31.6118, 31.5551, 31.5714, 31.5144, 31.5792, 31.6034, 31.6197, 31.5221, 31.456999999999997, 31.4658, 31.5792, 31.6197, 31.6279, 31.6525, 31.7336, 31.6603, 31.701, 31.7103, 31.7999, 31.7346, 31.7021, 31.6612, 31.7182, 31.645, 31.6775, 31.7511, 31.7672, 31.7917, 31.7999, 31.8817, 31.8406, 31.8243, 31.8978, 31.939, 31.9957, 31.9225, 31.9794, 31.8733, 31.955, 31.906, 32.0447, 31.945, 31.9695, 32.0106, 31.9534, 32.0188, 31.9618, 32.0106, 32.0026, 32.0683, 32.1091, 32.1171, 32.2073, 32.1911, 32.0759, 32.158, 32.1091, 32.1826, 32.1665, 32.2708, 32.2295, 32.2295, 32.1968, 32.2295, 32.1309, 32.0816, 31.7933, 31.8013, 31.9659, 32.0155, 32.0402, 31.9004, 31.9168, 31.8919, 31.9248, 31.9334, 31.9743, 31.9785, 32.0155, 31.9868, 32.024, 32.1473, 32.111999999999995, 32.104, 32.1699, 32.1202, 32.054, 32.1533, 32.1948, 32.1287, 32.145, 32.178000000000004, 32.1615, 32.1367, 32.1202, 32.111999999999995, 32.0787, 32.145, 32.1367, 32.0873, 32.0873, 32.0951, 32.0083, 32.0002, 31.9915, 31.9666, 31.8254, 31.8341, 31.9004, 31.9083, 31.9915, 32.025, 31.975, 31.9666, 31.941999999999997, 31.9835, 32.0581, 32.0747, 32.0581, 31.916999999999998, 31.9083, 31.9915, 31.9083, 31.975, 31.9594, 31.9671, 31.9714, 31.9174, 31.9424, 32.001, 31.9504, 31.8841, 31.9007, 31.8587, 31.8672, 31.9424, 32.0425, 32.1593, 32.1761, 32.235, 32.2595, 32.268, 32.235, 32.1845, 32.193000000000005, 32.2704, 32.2451, 32.2451, 32.2704, 32.3375, 32.3375, 32.3125, 32.1951, 32.1027, 32.086, 32.2029, 32.1613, 32.135999999999996, 32.1111, 32.1273, 32.0599, 32.025999999999996, 32.0765, 32.0346, 32.025999999999996, 31.8493, 31.9081, 31.9337, 31.9421, 32.001, 32.0853, 32.025999999999996, 32.1273, 32.0684, 31.9842, 31.9169, 31.799, 31.9251, 31.9169, 32.001, 31.9592, 31.9421, 31.8833, 31.6141, 31.479, 31.6474, 31.4776, 31.2579, 31.1987, 31.2579, 31.3259, 31.1059, 31.1484, 31.2331, 31.2241, 31.1649, 31.2331, 31.3514, 31.3679, 31.3766, 31.4356, 31.537, 31.6558, 31.6892, 31.7315, 31.6994, 31.6573, 31.7843, 31.8611, 31.912, 31.9288, 31.9034, 31.8864, 31.9375, 31.9545, 31.9885, 31.9969, 31.9632, 31.8695, 31.9288, 31.826999999999998, 31.7932, 31.7932, 31.7674, 31.8441, 31.9034, 31.8071, 31.6879, 31.6963, 31.7733, 31.7388, 31.7733, 31.8242, 31.8242, 31.7815, 31.7134, 31.7733, 31.8242, 31.8582, 31.8329, 31.8155, 31.7815, 31.7134, 31.5851, 31.611, 31.6537, 31.6791, 31.6967, 31.6624, 31.6967, 31.714000000000002, 31.7652, 31.6967, 31.6967, 31.7483, 31.7741, 31.7995, 31.6453, 31.6708, 31.6624, 31.6883, 31.6708, 31.6795, 31.7483, 31.8508, 31.8596, 31.9111, 31.9369, 31.9369, 32.0521, 32.1643, 32.2335, 32.2676, 32.3108, 32.3281, 32.3364, 32.3108, 32.2676, 32.3451, 32.3886, 32.3537, 32.3886, 32.3451, 32.3281, 32.3798, 32.3451, 32.3886, 32.3626, 32.4227, 32.5002, 32.6728, 32.7714, 32.8494, 32.9185, 32.8929, 32.9103, 32.815, 32.815, 32.6329, 32.571999999999996, 32.5201, 32.4942, 32.6069, 32.6934, 32.6504, 32.6589, 32.7111, 32.7021, 32.571999999999996, 32.5463, 32.5638, 32.5083, 32.5255, 32.6125, 32.63, 32.6211, 32.595, 32.5255, 32.4991, 32.4819, 32.5516, 32.5341, 32.6125, 32.691, 32.7605, 32.7952, 32.7605, 32.7345, 32.8649, 32.8649, 32.9346, 32.9953, 32.9259, 33.0215, 32.7793, 32.6307, 32.5955, 32.4297, 32.5343, 32.5691, 32.6044, 32.578, 32.6395, 32.5608, 32.5257, 32.412, 32.4297, 32.4731, 32.4382, 32.385999999999996, 32.3596, 32.3941, 32.4557, 32.2002, 32.1126, 31.9021, 31.6472, 31.6472, 31.6998, 31.7966, 31.5511, 31.5244, 31.4716, 31.5244, 31.5858, 31.6033, 31.6738, 31.7879, 31.8142, 31.7175, 31.6033, 31.7966, 31.6912, 31.7175, 31.6998, 31.7265, 31.7585, 31.6439, 31.6439, 31.732, 31.8024, 31.829, 31.8377, 31.6882, 31.6614, 31.5821, 31.4585, 31.5295, 31.3441, 31.0972, 31.2647, 31.1853, 31.1766, 31.1237, 31.1589, 31.0797, 31.0178, 31.0146, 30.8817, 30.7399, 30.7756, 30.7756, 30.8286, 30.7756, 30.6867, 30.6074, 30.43, 30.3475, 30.3029, 30.1243, 29.9992, 29.8123, 29.9992, 29.9548, 30.2493, 30.5437]}],                        {\"annotations\": [{\"font\": {\"color\": \"rgb(150,150,150)\", \"family\": \"Arial\", \"size\": 12}, \"showarrow\": false, \"text\": \"\", \"x\": 0.5, \"xanchor\": \"center\", \"xref\": \"paper\", \"y\": \"-0.125\", \"yanchor\": \"top\", \"yref\": \"paper\"}], \"height\": 500, \"hovermode\": \"x\", \"paper_bgcolor\": \"#F5F6F9\", \"plot_bgcolor\": \"#F5F6F9\", \"showlegend\": true, \"template\": {\"data\": {\"bar\": [{\"error_x\": {\"color\": \"#2a3f5f\"}, \"error_y\": {\"color\": \"#2a3f5f\"}, \"marker\": {\"line\": {\"color\": \"#E5ECF6\", \"width\": 0.5}}, \"type\": \"bar\"}], \"barpolar\": [{\"marker\": {\"line\": {\"color\": \"#E5ECF6\", \"width\": 0.5}}, \"type\": \"barpolar\"}], \"carpet\": [{\"aaxis\": {\"endlinecolor\": \"#2a3f5f\", \"gridcolor\": \"white\", \"linecolor\": \"white\", \"minorgridcolor\": \"white\", \"startlinecolor\": \"#2a3f5f\"}, \"baxis\": {\"endlinecolor\": \"#2a3f5f\", \"gridcolor\": \"white\", \"linecolor\": \"white\", \"minorgridcolor\": \"white\", \"startlinecolor\": \"#2a3f5f\"}, \"type\": \"carpet\"}], \"choropleth\": [{\"colorbar\": {\"outlinewidth\": 0, \"ticks\": \"\"}, \"type\": \"choropleth\"}], \"contour\": [{\"colorbar\": {\"outlinewidth\": 0, \"ticks\": \"\"}, \"colorscale\": [[0.0, \"#0d0887\"], [0.1111111111111111, \"#46039f\"], [0.2222222222222222, \"#7201a8\"], [0.3333333333333333, \"#9c179e\"], [0.4444444444444444, \"#bd3786\"], [0.5555555555555556, \"#d8576b\"], [0.6666666666666666, \"#ed7953\"], [0.7777777777777778, \"#fb9f3a\"], [0.8888888888888888, \"#fdca26\"], [1.0, \"#f0f921\"]], \"type\": \"contour\"}], \"contourcarpet\": [{\"colorbar\": {\"outlinewidth\": 0, \"ticks\": \"\"}, \"type\": \"contourcarpet\"}], \"heatmap\": [{\"colorbar\": {\"outlinewidth\": 0, \"ticks\": \"\"}, \"colorscale\": [[0.0, \"#0d0887\"], [0.1111111111111111, \"#46039f\"], [0.2222222222222222, \"#7201a8\"], [0.3333333333333333, \"#9c179e\"], [0.4444444444444444, \"#bd3786\"], [0.5555555555555556, \"#d8576b\"], [0.6666666666666666, \"#ed7953\"], [0.7777777777777778, \"#fb9f3a\"], [0.8888888888888888, \"#fdca26\"], [1.0, \"#f0f921\"]], \"type\": \"heatmap\"}], \"heatmapgl\": [{\"colorbar\": {\"outlinewidth\": 0, \"ticks\": \"\"}, \"colorscale\": [[0.0, \"#0d0887\"], [0.1111111111111111, \"#46039f\"], [0.2222222222222222, \"#7201a8\"], [0.3333333333333333, \"#9c179e\"], [0.4444444444444444, \"#bd3786\"], [0.5555555555555556, \"#d8576b\"], [0.6666666666666666, \"#ed7953\"], [0.7777777777777778, \"#fb9f3a\"], [0.8888888888888888, \"#fdca26\"], [1.0, \"#f0f921\"]], \"type\": \"heatmapgl\"}], \"histogram\": [{\"marker\": {\"colorbar\": {\"outlinewidth\": 0, \"ticks\": \"\"}}, \"type\": \"histogram\"}], \"histogram2d\": [{\"colorbar\": {\"outlinewidth\": 0, \"ticks\": \"\"}, \"colorscale\": [[0.0, \"#0d0887\"], [0.1111111111111111, \"#46039f\"], [0.2222222222222222, \"#7201a8\"], [0.3333333333333333, \"#9c179e\"], [0.4444444444444444, \"#bd3786\"], [0.5555555555555556, \"#d8576b\"], [0.6666666666666666, \"#ed7953\"], [0.7777777777777778, \"#fb9f3a\"], [0.8888888888888888, \"#fdca26\"], [1.0, \"#f0f921\"]], \"type\": \"histogram2d\"}], \"histogram2dcontour\": [{\"colorbar\": {\"outlinewidth\": 0, \"ticks\": \"\"}, \"colorscale\": [[0.0, \"#0d0887\"], [0.1111111111111111, \"#46039f\"], [0.2222222222222222, \"#7201a8\"], [0.3333333333333333, \"#9c179e\"], [0.4444444444444444, \"#bd3786\"], [0.5555555555555556, \"#d8576b\"], [0.6666666666666666, \"#ed7953\"], [0.7777777777777778, \"#fb9f3a\"], [0.8888888888888888, \"#fdca26\"], [1.0, \"#f0f921\"]], \"type\": \"histogram2dcontour\"}], \"mesh3d\": [{\"colorbar\": {\"outlinewidth\": 0, \"ticks\": \"\"}, \"type\": \"mesh3d\"}], \"parcoords\": [{\"line\": {\"colorbar\": {\"outlinewidth\": 0, \"ticks\": \"\"}}, \"type\": \"parcoords\"}], \"pie\": [{\"automargin\": true, \"type\": \"pie\"}], \"scatter\": [{\"marker\": {\"colorbar\": {\"outlinewidth\": 0, \"ticks\": \"\"}}, \"type\": \"scatter\"}], \"scatter3d\": [{\"line\": {\"colorbar\": {\"outlinewidth\": 0, \"ticks\": \"\"}}, \"marker\": {\"colorbar\": {\"outlinewidth\": 0, \"ticks\": \"\"}}, \"type\": \"scatter3d\"}], \"scattercarpet\": [{\"marker\": {\"colorbar\": {\"outlinewidth\": 0, \"ticks\": \"\"}}, \"type\": \"scattercarpet\"}], \"scattergeo\": [{\"marker\": {\"colorbar\": {\"outlinewidth\": 0, \"ticks\": \"\"}}, \"type\": \"scattergeo\"}], \"scattergl\": [{\"marker\": {\"colorbar\": {\"outlinewidth\": 0, \"ticks\": \"\"}}, \"type\": \"scattergl\"}], \"scattermapbox\": [{\"marker\": {\"colorbar\": {\"outlinewidth\": 0, \"ticks\": \"\"}}, \"type\": \"scattermapbox\"}], \"scatterpolar\": [{\"marker\": {\"colorbar\": {\"outlinewidth\": 0, \"ticks\": \"\"}}, \"type\": \"scatterpolar\"}], \"scatterpolargl\": [{\"marker\": {\"colorbar\": {\"outlinewidth\": 0, \"ticks\": \"\"}}, \"type\": \"scatterpolargl\"}], \"scatterternary\": [{\"marker\": {\"colorbar\": {\"outlinewidth\": 0, \"ticks\": \"\"}}, \"type\": \"scatterternary\"}], \"surface\": [{\"colorbar\": {\"outlinewidth\": 0, \"ticks\": \"\"}, \"colorscale\": [[0.0, \"#0d0887\"], [0.1111111111111111, \"#46039f\"], [0.2222222222222222, \"#7201a8\"], [0.3333333333333333, \"#9c179e\"], [0.4444444444444444, \"#bd3786\"], [0.5555555555555556, \"#d8576b\"], [0.6666666666666666, \"#ed7953\"], [0.7777777777777778, \"#fb9f3a\"], [0.8888888888888888, \"#fdca26\"], [1.0, \"#f0f921\"]], \"type\": \"surface\"}], \"table\": [{\"cells\": {\"fill\": {\"color\": \"#EBF0F8\"}, \"line\": {\"color\": \"white\"}}, \"header\": {\"fill\": {\"color\": \"#C8D4E3\"}, \"line\": {\"color\": \"white\"}}, \"type\": \"table\"}]}, \"layout\": {\"annotationdefaults\": {\"arrowcolor\": \"#2a3f5f\", \"arrowhead\": 0, \"arrowwidth\": 1}, \"autotypenumbers\": \"strict\", \"coloraxis\": {\"colorbar\": {\"outlinewidth\": 0, \"ticks\": \"\"}}, \"colorscale\": {\"diverging\": [[0, \"#8e0152\"], [0.1, \"#c51b7d\"], [0.2, \"#de77ae\"], [0.3, \"#f1b6da\"], [0.4, \"#fde0ef\"], [0.5, \"#f7f7f7\"], [0.6, \"#e6f5d0\"], [0.7, \"#b8e186\"], [0.8, \"#7fbc41\"], [0.9, \"#4d9221\"], [1, \"#276419\"]], \"sequential\": [[0.0, \"#0d0887\"], [0.1111111111111111, \"#46039f\"], [0.2222222222222222, \"#7201a8\"], [0.3333333333333333, \"#9c179e\"], [0.4444444444444444, \"#bd3786\"], [0.5555555555555556, \"#d8576b\"], [0.6666666666666666, \"#ed7953\"], [0.7777777777777778, \"#fb9f3a\"], [0.8888888888888888, \"#fdca26\"], [1.0, \"#f0f921\"]], \"sequentialminus\": [[0.0, \"#0d0887\"], [0.1111111111111111, \"#46039f\"], [0.2222222222222222, \"#7201a8\"], [0.3333333333333333, \"#9c179e\"], [0.4444444444444444, \"#bd3786\"], [0.5555555555555556, \"#d8576b\"], [0.6666666666666666, \"#ed7953\"], [0.7777777777777778, \"#fb9f3a\"], [0.8888888888888888, \"#fdca26\"], [1.0, \"#f0f921\"]]}, \"colorway\": [\"#636efa\", \"#EF553B\", \"#00cc96\", \"#ab63fa\", \"#FFA15A\", \"#19d3f3\", \"#FF6692\", \"#B6E880\", \"#FF97FF\", \"#FECB52\"], \"font\": {\"color\": \"#2a3f5f\"}, \"geo\": {\"bgcolor\": \"white\", \"lakecolor\": \"white\", \"landcolor\": \"#E5ECF6\", \"showlakes\": true, \"showland\": true, \"subunitcolor\": \"white\"}, \"hoverlabel\": {\"align\": \"left\"}, \"hovermode\": \"closest\", \"mapbox\": {\"style\": \"light\"}, \"paper_bgcolor\": \"white\", \"plot_bgcolor\": \"#E5ECF6\", \"polar\": {\"angularaxis\": {\"gridcolor\": \"white\", \"linecolor\": \"white\", \"ticks\": \"\"}, \"bgcolor\": \"#E5ECF6\", \"radialaxis\": {\"gridcolor\": \"white\", \"linecolor\": \"white\", \"ticks\": \"\"}}, \"scene\": {\"xaxis\": {\"backgroundcolor\": \"#E5ECF6\", \"gridcolor\": \"white\", \"gridwidth\": 2, \"linecolor\": \"white\", \"showbackground\": true, \"ticks\": \"\", \"zerolinecolor\": \"white\"}, \"yaxis\": {\"backgroundcolor\": \"#E5ECF6\", \"gridcolor\": \"white\", \"gridwidth\": 2, \"linecolor\": \"white\", \"showbackground\": true, \"ticks\": \"\", \"zerolinecolor\": \"white\"}, \"zaxis\": {\"backgroundcolor\": \"#E5ECF6\", \"gridcolor\": \"white\", \"gridwidth\": 2, \"linecolor\": \"white\", \"showbackground\": true, \"ticks\": \"\", \"zerolinecolor\": \"white\"}}, \"shapedefaults\": {\"line\": {\"color\": \"#2a3f5f\"}}, \"ternary\": {\"aaxis\": {\"gridcolor\": \"white\", \"linecolor\": \"white\", \"ticks\": \"\"}, \"baxis\": {\"gridcolor\": \"white\", \"linecolor\": \"white\", \"ticks\": \"\"}, \"bgcolor\": \"#E5ECF6\", \"caxis\": {\"gridcolor\": \"white\", \"linecolor\": \"white\", \"ticks\": \"\"}}, \"title\": {\"x\": 0.05}, \"xaxis\": {\"automargin\": true, \"gridcolor\": \"white\", \"linecolor\": \"white\", \"ticks\": \"\", \"title\": {\"standoff\": 15}, \"zerolinecolor\": \"white\", \"zerolinewidth\": 2}, \"yaxis\": {\"automargin\": true, \"gridcolor\": \"white\", \"linecolor\": \"white\", \"ticks\": \"\", \"title\": {\"standoff\": 15}, \"zerolinecolor\": \"white\", \"zerolinewidth\": 2}}}, \"title\": {\"text\": \"\", \"x\": 0.5}, \"width\": 950, \"xaxis\": {\"gridcolor\": \"#E1E5ED\", \"showgrid\": true, \"tickfont\": {\"color\": \"#4D5663\"}, \"tickformat\": \"\", \"tickprefix\": \"\", \"ticksuffix\": \"\", \"title\": {\"font\": {\"color\": \"#4D5663\"}, \"text\": \"\"}, \"zerolinecolor\": \"#E1E5ED\"}, \"yaxis\": {\"gridcolor\": \"#E1E5ED\", \"showgrid\": true, \"tickfont\": {\"color\": \"#4D5663\"}, \"tickformat\": \"\", \"tickprefix\": \"\", \"ticksuffix\": \"\", \"title\": {\"text\": \"\"}, \"zerolinecolor\": \"#E1E5ED\"}},                        {\"responsive\": true}                    ).then(function(){\n                            \nvar gd = document.getElementById('f1f1c027-61eb-4bc7-abf2-6aca3c44289c');\nvar x = new MutationObserver(function (mutations, observer) {{\n        var display = window.getComputedStyle(gd).display;\n        if (!display || display === 'none') {{\n            console.log([gd, 'removed!']);\n            Plotly.purge(gd);\n            observer.disconnect();\n        }}\n}});\n\n// Listen for the removal of the full notebook cells\nvar notebookContainer = gd.closest('#notebook-container');\nif (notebookContainer) {{\n    x.observe(notebookContainer, {childList: true});\n}}\n\n// Listen for the clearing of the current output cell\nvar outputEl = gd.closest('.output');\nif (outputEl) {{\n    x.observe(outputEl, {childList: true});\n}}\n\n                        })                };                            </script>        </div>\n</body>\n</html>"
          },
          "metadata": {}
        }
      ]
    },
    {
      "cell_type": "code",
      "metadata": {
        "id": "H166KRugwDfp"
      },
      "source": [
        "pl.ichart(round(pl.compute_drawdowns(PFF), 2), colors=['darkorange'], yticksuffix='%')"
      ],
      "execution_count": 36,
      "outputs": [
        {
          "output_type": "display_data",
          "data": {
            "text/html": "<html>\n<head><meta charset=\"utf-8\" /></head>\n<body>\n    <div>            <script src=\"https://cdnjs.cloudflare.com/ajax/libs/mathjax/2.7.5/MathJax.js?config=TeX-AMS-MML_SVG\"></script><script type=\"text/javascript\">if (window.MathJax) {MathJax.Hub.Config({SVG: {font: \"STIX-Web\"}});}</script>                <script type=\"text/javascript\">window.PlotlyConfig = {MathJaxConfig: 'local'};</script>\n        <script src=\"https://cdn.plot.ly/plotly-latest.min.js\"></script>                <div id=\"ee5df026-dbdd-4cbc-9b2a-c83a4458850f\" class=\"plotly-graph-div\" style=\"height:500px; width:950px;\"></div>            <script type=\"text/javascript\">                                    window.PLOTLYENV=window.PLOTLYENV || {};                                    if (document.getElementById(\"ee5df026-dbdd-4cbc-9b2a-c83a4458850f\")) {                    Plotly.newPlot(                        \"ee5df026-dbdd-4cbc-9b2a-c83a4458850f\",                        [{\"line\": {\"color\": \"darkorange\", \"width\": 1.3}, \"mode\": \"lines\", \"name\": \"PFF\", \"type\": \"scatter\", \"x\": [\"2010-01-04\", \"2010-01-05\", \"2010-01-06\", \"2010-01-07\", \"2010-01-08\", \"2010-01-11\", \"2010-01-12\", \"2010-01-13\", \"2010-01-14\", \"2010-01-15\", \"2010-01-19\", \"2010-01-20\", \"2010-01-21\", \"2010-01-22\", \"2010-01-25\", \"2010-01-26\", \"2010-01-27\", \"2010-01-28\", \"2010-01-29\", \"2010-02-01\", \"2010-02-02\", \"2010-02-03\", \"2010-02-04\", \"2010-02-05\", \"2010-02-08\", \"2010-02-09\", \"2010-02-10\", \"2010-02-11\", \"2010-02-12\", \"2010-02-16\", \"2010-02-17\", \"2010-02-18\", \"2010-02-19\", \"2010-02-22\", \"2010-02-23\", \"2010-02-24\", \"2010-02-25\", \"2010-02-26\", \"2010-03-01\", \"2010-03-02\", \"2010-03-03\", \"2010-03-04\", \"2010-03-05\", \"2010-03-08\", \"2010-03-09\", \"2010-03-10\", \"2010-03-11\", \"2010-03-12\", \"2010-03-15\", \"2010-03-16\", \"2010-03-17\", \"2010-03-18\", \"2010-03-19\", \"2010-03-22\", \"2010-03-23\", \"2010-03-24\", \"2010-03-25\", \"2010-03-26\", \"2010-03-29\", \"2010-03-30\", \"2010-03-31\", \"2010-04-01\", \"2010-04-05\", \"2010-04-06\", \"2010-04-07\", \"2010-04-08\", \"2010-04-09\", \"2010-04-12\", \"2010-04-13\", \"2010-04-14\", \"2010-04-15\", \"2010-04-16\", \"2010-04-19\", \"2010-04-20\", \"2010-04-21\", \"2010-04-22\", \"2010-04-23\", \"2010-04-26\", \"2010-04-27\", \"2010-04-28\", \"2010-04-29\", \"2010-04-30\", \"2010-05-03\", \"2010-05-04\", \"2010-05-05\", \"2010-05-06\", \"2010-05-07\", \"2010-05-10\", \"2010-05-11\", \"2010-05-12\", \"2010-05-13\", \"2010-05-14\", \"2010-05-17\", \"2010-05-18\", \"2010-05-19\", \"2010-05-20\", \"2010-05-21\", \"2010-05-24\", \"2010-05-25\", \"2010-05-26\", \"2010-05-27\", \"2010-05-28\", \"2010-06-01\", \"2010-06-02\", \"2010-06-03\", \"2010-06-04\", \"2010-06-07\", \"2010-06-08\", \"2010-06-09\", \"2010-06-10\", \"2010-06-11\", \"2010-06-14\", \"2010-06-15\", \"2010-06-16\", \"2010-06-17\", \"2010-06-18\", \"2010-06-21\", \"2010-06-22\", \"2010-06-23\", \"2010-06-24\", \"2010-06-25\", \"2010-06-28\", \"2010-06-29\", \"2010-06-30\", \"2010-07-01\", \"2010-07-02\", \"2010-07-06\", \"2010-07-07\", \"2010-07-08\", \"2010-07-09\", \"2010-07-12\", \"2010-07-13\", \"2010-07-14\", \"2010-07-15\", \"2010-07-16\", \"2010-07-19\", \"2010-07-20\", \"2010-07-21\", \"2010-07-22\", \"2010-07-23\", \"2010-07-26\", \"2010-07-27\", \"2010-07-28\", \"2010-07-29\", \"2010-07-30\", \"2010-08-02\", \"2010-08-03\", \"2010-08-04\", \"2010-08-05\", \"2010-08-06\", \"2010-08-09\", \"2010-08-10\", \"2010-08-11\", \"2010-08-12\", \"2010-08-13\", \"2010-08-16\", \"2010-08-17\", \"2010-08-18\", \"2010-08-19\", \"2010-08-20\", \"2010-08-23\", \"2010-08-24\", \"2010-08-25\", \"2010-08-26\", \"2010-08-27\", \"2010-08-30\", \"2010-08-31\", \"2010-09-01\", \"2010-09-02\", \"2010-09-03\", \"2010-09-07\", \"2010-09-08\", \"2010-09-09\", \"2010-09-10\", \"2010-09-13\", \"2010-09-14\", \"2010-09-15\", \"2010-09-16\", \"2010-09-17\", \"2010-09-20\", \"2010-09-21\", \"2010-09-22\", \"2010-09-23\", \"2010-09-24\", \"2010-09-27\", \"2010-09-28\", \"2010-09-29\", \"2010-09-30\", \"2010-10-01\", \"2010-10-04\", \"2010-10-05\", \"2010-10-06\", \"2010-10-07\", \"2010-10-08\", \"2010-10-11\", \"2010-10-12\", \"2010-10-13\", \"2010-10-14\", \"2010-10-15\", \"2010-10-18\", \"2010-10-19\", \"2010-10-20\", \"2010-10-21\", \"2010-10-22\", \"2010-10-25\", \"2010-10-26\", \"2010-10-27\", \"2010-10-28\", \"2010-10-29\", \"2010-11-01\", \"2010-11-02\", \"2010-11-03\", \"2010-11-04\", \"2010-11-05\", \"2010-11-08\", \"2010-11-09\", \"2010-11-10\", \"2010-11-11\", \"2010-11-12\", \"2010-11-15\", \"2010-11-16\", \"2010-11-17\", \"2010-11-18\", \"2010-11-19\", \"2010-11-22\", \"2010-11-23\", \"2010-11-24\", \"2010-11-26\", \"2010-11-29\", \"2010-11-30\", \"2010-12-01\", \"2010-12-02\", \"2010-12-03\", \"2010-12-06\", \"2010-12-07\", \"2010-12-08\", \"2010-12-09\", \"2010-12-10\", \"2010-12-13\", \"2010-12-14\", \"2010-12-15\", \"2010-12-16\", \"2010-12-17\", \"2010-12-20\", \"2010-12-21\", \"2010-12-22\", \"2010-12-23\", \"2010-12-27\", \"2010-12-28\", \"2010-12-29\", \"2010-12-30\", \"2010-12-31\", \"2011-01-03\", \"2011-01-04\", \"2011-01-05\", \"2011-01-06\", \"2011-01-07\", \"2011-01-10\", \"2011-01-11\", \"2011-01-12\", \"2011-01-13\", \"2011-01-14\", \"2011-01-18\", \"2011-01-19\", \"2011-01-20\", \"2011-01-21\", \"2011-01-24\", \"2011-01-25\", \"2011-01-26\", \"2011-01-27\", \"2011-01-28\", \"2011-01-31\", \"2011-02-01\", \"2011-02-02\", \"2011-02-03\", \"2011-02-04\", \"2011-02-07\", \"2011-02-08\", \"2011-02-09\", \"2011-02-10\", \"2011-02-11\", \"2011-02-14\", \"2011-02-15\", \"2011-02-16\", \"2011-02-17\", \"2011-02-18\", \"2011-02-22\", \"2011-02-23\", \"2011-02-24\", \"2011-02-25\", \"2011-02-28\", \"2011-03-01\", \"2011-03-02\", \"2011-03-03\", \"2011-03-04\", \"2011-03-07\", \"2011-03-08\", \"2011-03-09\", \"2011-03-10\", \"2011-03-11\", \"2011-03-14\", \"2011-03-15\", \"2011-03-16\", \"2011-03-17\", \"2011-03-18\", \"2011-03-21\", \"2011-03-22\", \"2011-03-23\", \"2011-03-24\", \"2011-03-25\", \"2011-03-28\", \"2011-03-29\", \"2011-03-30\", \"2011-03-31\", \"2011-04-01\", \"2011-04-04\", \"2011-04-05\", \"2011-04-06\", \"2011-04-07\", \"2011-04-08\", \"2011-04-11\", \"2011-04-12\", \"2011-04-13\", \"2011-04-14\", \"2011-04-15\", \"2011-04-18\", \"2011-04-19\", \"2011-04-20\", \"2011-04-21\", \"2011-04-25\", \"2011-04-26\", \"2011-04-27\", \"2011-04-28\", \"2011-04-29\", \"2011-05-02\", \"2011-05-03\", \"2011-05-04\", \"2011-05-05\", \"2011-05-06\", \"2011-05-09\", \"2011-05-10\", \"2011-05-11\", \"2011-05-12\", \"2011-05-13\", \"2011-05-16\", \"2011-05-17\", \"2011-05-18\", \"2011-05-19\", \"2011-05-20\", \"2011-05-23\", \"2011-05-24\", \"2011-05-25\", \"2011-05-26\", \"2011-05-27\", \"2011-05-31\", \"2011-06-01\", \"2011-06-02\", \"2011-06-03\", \"2011-06-06\", \"2011-06-07\", \"2011-06-08\", \"2011-06-09\", \"2011-06-10\", \"2011-06-13\", \"2011-06-14\", \"2011-06-15\", \"2011-06-16\", \"2011-06-17\", \"2011-06-20\", \"2011-06-21\", \"2011-06-22\", \"2011-06-23\", \"2011-06-24\", \"2011-06-27\", \"2011-06-28\", \"2011-06-29\", \"2011-06-30\", \"2011-07-01\", \"2011-07-05\", \"2011-07-06\", \"2011-07-07\", \"2011-07-08\", \"2011-07-11\", \"2011-07-12\", \"2011-07-13\", \"2011-07-14\", \"2011-07-15\", \"2011-07-18\", \"2011-07-19\", \"2011-07-20\", \"2011-07-21\", \"2011-07-22\", \"2011-07-25\", \"2011-07-26\", \"2011-07-27\", \"2011-07-28\", \"2011-07-29\", \"2011-08-01\", \"2011-08-02\", \"2011-08-03\", \"2011-08-04\", \"2011-08-05\", \"2011-08-08\", \"2011-08-09\", \"2011-08-10\", \"2011-08-11\", \"2011-08-12\", \"2011-08-15\", \"2011-08-16\", \"2011-08-17\", \"2011-08-18\", \"2011-08-19\", \"2011-08-22\", \"2011-08-23\", \"2011-08-24\", \"2011-08-25\", \"2011-08-26\", \"2011-08-29\", \"2011-08-30\", \"2011-08-31\", \"2011-09-01\", \"2011-09-02\", \"2011-09-06\", \"2011-09-07\", \"2011-09-08\", \"2011-09-09\", \"2011-09-12\", \"2011-09-13\", \"2011-09-14\", \"2011-09-15\", \"2011-09-16\", \"2011-09-19\", \"2011-09-20\", \"2011-09-21\", \"2011-09-22\", \"2011-09-23\", \"2011-09-26\", \"2011-09-27\", \"2011-09-28\", \"2011-09-29\", \"2011-09-30\", \"2011-10-03\", \"2011-10-04\", \"2011-10-05\", \"2011-10-06\", \"2011-10-07\", \"2011-10-10\", \"2011-10-11\", \"2011-10-12\", \"2011-10-13\", \"2011-10-14\", \"2011-10-17\", \"2011-10-18\", \"2011-10-19\", \"2011-10-20\", \"2011-10-21\", \"2011-10-24\", \"2011-10-25\", \"2011-10-26\", \"2011-10-27\", \"2011-10-28\", \"2011-10-31\", \"2011-11-01\", \"2011-11-02\", \"2011-11-03\", \"2011-11-04\", \"2011-11-07\", \"2011-11-08\", \"2011-11-09\", \"2011-11-10\", \"2011-11-11\", \"2011-11-14\", \"2011-11-15\", \"2011-11-16\", \"2011-11-17\", \"2011-11-18\", \"2011-11-21\", \"2011-11-22\", \"2011-11-23\", \"2011-11-25\", \"2011-11-28\", \"2011-11-29\", \"2011-11-30\", \"2011-12-01\", \"2011-12-02\", \"2011-12-05\", \"2011-12-06\", \"2011-12-07\", \"2011-12-08\", \"2011-12-09\", \"2011-12-12\", \"2011-12-13\", \"2011-12-14\", \"2011-12-15\", \"2011-12-16\", \"2011-12-19\", \"2011-12-20\", \"2011-12-21\", \"2011-12-22\", \"2011-12-23\", \"2011-12-27\", \"2011-12-28\", \"2011-12-29\", \"2011-12-30\", \"2012-01-03\", \"2012-01-04\", \"2012-01-05\", \"2012-01-06\", \"2012-01-09\", \"2012-01-10\", \"2012-01-11\", \"2012-01-12\", \"2012-01-13\", \"2012-01-17\", \"2012-01-18\", \"2012-01-19\", \"2012-01-20\", \"2012-01-23\", \"2012-01-24\", \"2012-01-25\", \"2012-01-26\", \"2012-01-27\", \"2012-01-30\", \"2012-01-31\", \"2012-02-01\", \"2012-02-02\", \"2012-02-03\", \"2012-02-06\", \"2012-02-07\", \"2012-02-08\", \"2012-02-09\", \"2012-02-10\", \"2012-02-13\", \"2012-02-14\", \"2012-02-15\", \"2012-02-16\", \"2012-02-17\", \"2012-02-21\", \"2012-02-22\", \"2012-02-23\", \"2012-02-24\", \"2012-02-27\", \"2012-02-28\", \"2012-02-29\", \"2012-03-01\", \"2012-03-02\", \"2012-03-05\", \"2012-03-06\", \"2012-03-07\", \"2012-03-08\", \"2012-03-09\", \"2012-03-12\", \"2012-03-13\", \"2012-03-14\", \"2012-03-15\", \"2012-03-16\", \"2012-03-19\", \"2012-03-20\", \"2012-03-21\", \"2012-03-22\", \"2012-03-23\", \"2012-03-26\", \"2012-03-27\", \"2012-03-28\", \"2012-03-29\", \"2012-03-30\", \"2012-04-02\", \"2012-04-03\", \"2012-04-04\", \"2012-04-05\", \"2012-04-09\", \"2012-04-10\", \"2012-04-11\", \"2012-04-12\", \"2012-04-13\", \"2012-04-16\", \"2012-04-17\", \"2012-04-18\", \"2012-04-19\", \"2012-04-20\", \"2012-04-23\", \"2012-04-24\", \"2012-04-25\", \"2012-04-26\", \"2012-04-27\", \"2012-04-30\", \"2012-05-01\", \"2012-05-02\", \"2012-05-03\", \"2012-05-04\", \"2012-05-07\", \"2012-05-08\", \"2012-05-09\", \"2012-05-10\", \"2012-05-11\", \"2012-05-14\", \"2012-05-15\", \"2012-05-16\", \"2012-05-17\", \"2012-05-18\", \"2012-05-21\", \"2012-05-22\", \"2012-05-23\", \"2012-05-24\", \"2012-05-25\", \"2012-05-29\", \"2012-05-30\", \"2012-05-31\", \"2012-06-01\", \"2012-06-04\", \"2012-06-05\", \"2012-06-06\", \"2012-06-07\", \"2012-06-08\", \"2012-06-11\", \"2012-06-12\", \"2012-06-13\", \"2012-06-14\", \"2012-06-15\", \"2012-06-18\", \"2012-06-19\", \"2012-06-20\", \"2012-06-21\", \"2012-06-22\", \"2012-06-25\", \"2012-06-26\", \"2012-06-27\", \"2012-06-28\", \"2012-06-29\", \"2012-07-02\", \"2012-07-03\", \"2012-07-05\", \"2012-07-06\", \"2012-07-09\", \"2012-07-10\", \"2012-07-11\", \"2012-07-12\", \"2012-07-13\", \"2012-07-16\", \"2012-07-17\", \"2012-07-18\", \"2012-07-19\", \"2012-07-20\", \"2012-07-23\", \"2012-07-24\", \"2012-07-25\", \"2012-07-26\", \"2012-07-27\", \"2012-07-30\", \"2012-07-31\", \"2012-08-01\", \"2012-08-02\", \"2012-08-03\", \"2012-08-06\", \"2012-08-07\", \"2012-08-08\", \"2012-08-09\", \"2012-08-10\", \"2012-08-13\", \"2012-08-14\", \"2012-08-15\", \"2012-08-16\", \"2012-08-17\", \"2012-08-20\", \"2012-08-21\", \"2012-08-22\", \"2012-08-23\", \"2012-08-24\", \"2012-08-27\", \"2012-08-28\", \"2012-08-29\", \"2012-08-30\", \"2012-08-31\", \"2012-09-04\", \"2012-09-05\", \"2012-09-06\", \"2012-09-07\", \"2012-09-10\", \"2012-09-11\", \"2012-09-12\", \"2012-09-13\", \"2012-09-14\", \"2012-09-17\", \"2012-09-18\", \"2012-09-19\", \"2012-09-20\", \"2012-09-21\", \"2012-09-24\", \"2012-09-25\", \"2012-09-26\", \"2012-09-27\", \"2012-09-28\", \"2012-10-01\", \"2012-10-02\", \"2012-10-03\", \"2012-10-04\", \"2012-10-05\", \"2012-10-08\", \"2012-10-09\", \"2012-10-10\", \"2012-10-11\", \"2012-10-12\", \"2012-10-15\", \"2012-10-16\", \"2012-10-17\", \"2012-10-18\", \"2012-10-19\", \"2012-10-22\", \"2012-10-23\", \"2012-10-24\", \"2012-10-25\", \"2012-10-26\", \"2012-10-31\", \"2012-11-01\", \"2012-11-02\", \"2012-11-05\", \"2012-11-06\", \"2012-11-07\", \"2012-11-08\", \"2012-11-09\", \"2012-11-12\", \"2012-11-13\", \"2012-11-14\", \"2012-11-15\", \"2012-11-16\", \"2012-11-19\", \"2012-11-20\", \"2012-11-21\", \"2012-11-23\", \"2012-11-26\", \"2012-11-27\", \"2012-11-28\", \"2012-11-29\", \"2012-11-30\", \"2012-12-03\", \"2012-12-04\", \"2012-12-05\", \"2012-12-06\", \"2012-12-07\", \"2012-12-10\", \"2012-12-11\", \"2012-12-12\", \"2012-12-13\", \"2012-12-14\", \"2012-12-17\", \"2012-12-18\", \"2012-12-19\", \"2012-12-20\", \"2012-12-21\", \"2012-12-24\", \"2012-12-26\", \"2012-12-27\", \"2012-12-28\", \"2012-12-31\", \"2013-01-02\", \"2013-01-03\", \"2013-01-04\", \"2013-01-07\", \"2013-01-08\", \"2013-01-09\", \"2013-01-10\", \"2013-01-11\", \"2013-01-14\", \"2013-01-15\", \"2013-01-16\", \"2013-01-17\", \"2013-01-18\", \"2013-01-22\", \"2013-01-23\", \"2013-01-24\", \"2013-01-25\", \"2013-01-28\", \"2013-01-29\", \"2013-01-30\", \"2013-01-31\", \"2013-02-01\", \"2013-02-04\", \"2013-02-05\", \"2013-02-06\", \"2013-02-07\", \"2013-02-08\", \"2013-02-11\", \"2013-02-12\", \"2013-02-13\", \"2013-02-14\", \"2013-02-15\", \"2013-02-19\", \"2013-02-20\", \"2013-02-21\", \"2013-02-22\", \"2013-02-25\", \"2013-02-26\", \"2013-02-27\", \"2013-02-28\", \"2013-03-01\", \"2013-03-04\", \"2013-03-05\", \"2013-03-06\", \"2013-03-07\", \"2013-03-08\", \"2013-03-11\", \"2013-03-12\", \"2013-03-13\", \"2013-03-14\", \"2013-03-15\", \"2013-03-18\", \"2013-03-19\", \"2013-03-20\", \"2013-03-21\", \"2013-03-22\", \"2013-03-25\", \"2013-03-26\", \"2013-03-27\", \"2013-03-28\", \"2013-04-01\", \"2013-04-02\", \"2013-04-03\", \"2013-04-04\", \"2013-04-05\", \"2013-04-08\", \"2013-04-09\", \"2013-04-10\", \"2013-04-11\", \"2013-04-12\", \"2013-04-15\", \"2013-04-16\", \"2013-04-17\", \"2013-04-18\", \"2013-04-19\", \"2013-04-22\", \"2013-04-23\", \"2013-04-24\", \"2013-04-25\", \"2013-04-26\", \"2013-04-29\", \"2013-04-30\", \"2013-05-01\", \"2013-05-02\", \"2013-05-03\", \"2013-05-06\", \"2013-05-07\", \"2013-05-08\", \"2013-05-09\", \"2013-05-10\", \"2013-05-13\", \"2013-05-14\", \"2013-05-15\", \"2013-05-16\", \"2013-05-17\", \"2013-05-20\", \"2013-05-21\", \"2013-05-22\", \"2013-05-23\", \"2013-05-24\", \"2013-05-28\", \"2013-05-29\", \"2013-05-30\", \"2013-05-31\", \"2013-06-03\", \"2013-06-04\", \"2013-06-05\", \"2013-06-06\", \"2013-06-07\", \"2013-06-10\", \"2013-06-11\", \"2013-06-12\", \"2013-06-13\", \"2013-06-14\", \"2013-06-17\", \"2013-06-18\", \"2013-06-19\", \"2013-06-20\", \"2013-06-21\", \"2013-06-24\", \"2013-06-25\", \"2013-06-26\", \"2013-06-27\", \"2013-06-28\", \"2013-07-01\", \"2013-07-02\", \"2013-07-03\", \"2013-07-05\", \"2013-07-08\", \"2013-07-09\", \"2013-07-10\", \"2013-07-11\", \"2013-07-12\", \"2013-07-15\", \"2013-07-16\", \"2013-07-17\", \"2013-07-18\", \"2013-07-19\", \"2013-07-22\", \"2013-07-23\", \"2013-07-24\", \"2013-07-25\", \"2013-07-26\", \"2013-07-29\", \"2013-07-30\", \"2013-07-31\", \"2013-08-01\", \"2013-08-02\", \"2013-08-05\", \"2013-08-06\", \"2013-08-07\", \"2013-08-08\", \"2013-08-09\", \"2013-08-12\", \"2013-08-13\", \"2013-08-14\", \"2013-08-15\", \"2013-08-16\", \"2013-08-19\", \"2013-08-20\", \"2013-08-21\", \"2013-08-22\", \"2013-08-23\", \"2013-08-26\", \"2013-08-27\", \"2013-08-28\", \"2013-08-29\", \"2013-08-30\", \"2013-09-03\", \"2013-09-04\", \"2013-09-05\", \"2013-09-06\", \"2013-09-09\", \"2013-09-10\", \"2013-09-11\", \"2013-09-12\", \"2013-09-13\", \"2013-09-16\", \"2013-09-17\", \"2013-09-18\", \"2013-09-19\", \"2013-09-20\", \"2013-09-23\", \"2013-09-24\", \"2013-09-25\", \"2013-09-26\", \"2013-09-27\", \"2013-09-30\", \"2013-10-01\", \"2013-10-02\", \"2013-10-03\", \"2013-10-04\", \"2013-10-07\", \"2013-10-08\", \"2013-10-09\", \"2013-10-10\", \"2013-10-11\", \"2013-10-14\", \"2013-10-15\", \"2013-10-16\", \"2013-10-17\", \"2013-10-18\", \"2013-10-21\", \"2013-10-22\", \"2013-10-23\", \"2013-10-24\", \"2013-10-25\", \"2013-10-28\", \"2013-10-29\", \"2013-10-30\", \"2013-10-31\", \"2013-11-01\", \"2013-11-04\", \"2013-11-05\", \"2013-11-06\", \"2013-11-07\", \"2013-11-08\", \"2013-11-11\", \"2013-11-12\", \"2013-11-13\", \"2013-11-14\", \"2013-11-15\", \"2013-11-18\", \"2013-11-19\", \"2013-11-20\", \"2013-11-21\", \"2013-11-22\", \"2013-11-25\", \"2013-11-26\", \"2013-11-27\", \"2013-11-29\", \"2013-12-02\", \"2013-12-03\", \"2013-12-04\", \"2013-12-05\", \"2013-12-06\", \"2013-12-09\", \"2013-12-10\", \"2013-12-11\", \"2013-12-12\", \"2013-12-13\", \"2013-12-16\", \"2013-12-17\", \"2013-12-18\", \"2013-12-19\", \"2013-12-20\", \"2013-12-23\", \"2013-12-24\", \"2013-12-26\", \"2013-12-27\", \"2013-12-30\", \"2013-12-31\", \"2014-01-02\", \"2014-01-03\", \"2014-01-06\", \"2014-01-07\", \"2014-01-08\", \"2014-01-09\", \"2014-01-10\", \"2014-01-13\", \"2014-01-14\", \"2014-01-15\", \"2014-01-16\", \"2014-01-17\", \"2014-01-21\", \"2014-01-22\", \"2014-01-23\", \"2014-01-24\", \"2014-01-27\", \"2014-01-28\", \"2014-01-29\", \"2014-01-30\", \"2014-01-31\", \"2014-02-03\", \"2014-02-04\", \"2014-02-05\", \"2014-02-06\", \"2014-02-07\", \"2014-02-10\", \"2014-02-11\", \"2014-02-12\", \"2014-02-13\", \"2014-02-14\", \"2014-02-18\", \"2014-02-19\", \"2014-02-20\", \"2014-02-21\", \"2014-02-24\", \"2014-02-25\", \"2014-02-26\", \"2014-02-27\", \"2014-02-28\", \"2014-03-03\", \"2014-03-04\", \"2014-03-05\", \"2014-03-06\", \"2014-03-07\", \"2014-03-10\", \"2014-03-11\", \"2014-03-12\", \"2014-03-13\", \"2014-03-14\", \"2014-03-17\", \"2014-03-18\", \"2014-03-19\", \"2014-03-20\", \"2014-03-21\", \"2014-03-24\", \"2014-03-25\", \"2014-03-26\", \"2014-03-27\", \"2014-03-28\", \"2014-03-31\", \"2014-04-01\", \"2014-04-02\", \"2014-04-03\", \"2014-04-04\", \"2014-04-07\", \"2014-04-08\", \"2014-04-09\", \"2014-04-10\", \"2014-04-11\", \"2014-04-14\", \"2014-04-15\", \"2014-04-16\", \"2014-04-17\", \"2014-04-21\", \"2014-04-22\", \"2014-04-23\", \"2014-04-24\", \"2014-04-25\", \"2014-04-28\", \"2014-04-29\", \"2014-04-30\", \"2014-05-01\", \"2014-05-02\", \"2014-05-05\", \"2014-05-06\", \"2014-05-07\", \"2014-05-08\", \"2014-05-09\", \"2014-05-12\", \"2014-05-13\", \"2014-05-14\", \"2014-05-15\", \"2014-05-16\", \"2014-05-19\", \"2014-05-20\", \"2014-05-21\", \"2014-05-22\", \"2014-05-23\", \"2014-05-27\", \"2014-05-28\", \"2014-05-29\", \"2014-05-30\", \"2014-06-02\", \"2014-06-03\", \"2014-06-04\", \"2014-06-05\", \"2014-06-06\", \"2014-06-09\", \"2014-06-10\", \"2014-06-11\", \"2014-06-12\", \"2014-06-13\", \"2014-06-16\", \"2014-06-17\", \"2014-06-18\", \"2014-06-19\", \"2014-06-20\", \"2014-06-23\", \"2014-06-24\", \"2014-06-25\", \"2014-06-26\", \"2014-06-27\", \"2014-06-30\", \"2014-07-01\", \"2014-07-02\", \"2014-07-03\", \"2014-07-07\", \"2014-07-08\", \"2014-07-09\", \"2014-07-10\", \"2014-07-11\", \"2014-07-14\", \"2014-07-15\", \"2014-07-16\", \"2014-07-17\", \"2014-07-18\", \"2014-07-21\", \"2014-07-22\", \"2014-07-23\", \"2014-07-24\", \"2014-07-25\", \"2014-07-28\", \"2014-07-29\", \"2014-07-30\", \"2014-07-31\", \"2014-08-01\", \"2014-08-04\", \"2014-08-05\", \"2014-08-06\", \"2014-08-07\", \"2014-08-08\", \"2014-08-11\", \"2014-08-12\", \"2014-08-13\", \"2014-08-14\", \"2014-08-15\", \"2014-08-18\", \"2014-08-19\", \"2014-08-20\", \"2014-08-21\", \"2014-08-22\", \"2014-08-25\", \"2014-08-26\", \"2014-08-27\", \"2014-08-28\", \"2014-08-29\", \"2014-09-02\", \"2014-09-03\", \"2014-09-04\", \"2014-09-05\", \"2014-09-08\", \"2014-09-09\", \"2014-09-10\", \"2014-09-11\", \"2014-09-12\", \"2014-09-15\", \"2014-09-16\", \"2014-09-17\", \"2014-09-18\", \"2014-09-19\", \"2014-09-22\", \"2014-09-23\", \"2014-09-24\", \"2014-09-25\", \"2014-09-26\", \"2014-09-29\", \"2014-09-30\", \"2014-10-01\", \"2014-10-02\", \"2014-10-03\", \"2014-10-06\", \"2014-10-07\", \"2014-10-08\", \"2014-10-09\", \"2014-10-10\", \"2014-10-13\", \"2014-10-14\", \"2014-10-15\", \"2014-10-16\", \"2014-10-17\", \"2014-10-20\", \"2014-10-21\", \"2014-10-22\", \"2014-10-23\", \"2014-10-24\", \"2014-10-27\", \"2014-10-28\", \"2014-10-29\", \"2014-10-30\", \"2014-10-31\", \"2014-11-03\", \"2014-11-04\", \"2014-11-05\", \"2014-11-06\", \"2014-11-07\", \"2014-11-10\", \"2014-11-11\", \"2014-11-12\", \"2014-11-13\", \"2014-11-14\", \"2014-11-17\", \"2014-11-18\", \"2014-11-19\", \"2014-11-20\", \"2014-11-21\", \"2014-11-24\", \"2014-11-25\", \"2014-11-26\", \"2014-11-28\", \"2014-12-01\", \"2014-12-02\", \"2014-12-03\", \"2014-12-04\", \"2014-12-05\", \"2014-12-08\", \"2014-12-09\", \"2014-12-10\", \"2014-12-11\", \"2014-12-12\", \"2014-12-15\", \"2014-12-16\", \"2014-12-17\", \"2014-12-18\", \"2014-12-19\", \"2014-12-22\", \"2014-12-23\", \"2014-12-24\", \"2014-12-26\", \"2014-12-29\", \"2014-12-30\", \"2014-12-31\", \"2015-01-02\", \"2015-01-05\", \"2015-01-06\", \"2015-01-07\", \"2015-01-08\", \"2015-01-09\", \"2015-01-12\", \"2015-01-13\", \"2015-01-14\", \"2015-01-15\", \"2015-01-16\", \"2015-01-20\", \"2015-01-21\", \"2015-01-22\", \"2015-01-23\", \"2015-01-26\", \"2015-01-27\", \"2015-01-28\", \"2015-01-29\", \"2015-01-30\", \"2015-02-02\", \"2015-02-03\", \"2015-02-04\", \"2015-02-05\", \"2015-02-06\", \"2015-02-09\", \"2015-02-10\", \"2015-02-11\", \"2015-02-12\", \"2015-02-13\", \"2015-02-17\", \"2015-02-18\", \"2015-02-19\", \"2015-02-20\", \"2015-02-23\", \"2015-02-24\", \"2015-02-25\", \"2015-02-26\", \"2015-02-27\", \"2015-03-02\", \"2015-03-03\", \"2015-03-04\", \"2015-03-05\", \"2015-03-06\", \"2015-03-09\", \"2015-03-10\", \"2015-03-11\", \"2015-03-12\", \"2015-03-13\", \"2015-03-16\", \"2015-03-17\", \"2015-03-18\", \"2015-03-19\", \"2015-03-20\", \"2015-03-23\", \"2015-03-24\", \"2015-03-25\", \"2015-03-26\", \"2015-03-27\", \"2015-03-30\", \"2015-03-31\", \"2015-04-01\", \"2015-04-02\", \"2015-04-06\", \"2015-04-07\", \"2015-04-08\", \"2015-04-09\", \"2015-04-10\", \"2015-04-13\", \"2015-04-14\", \"2015-04-15\", \"2015-04-16\", \"2015-04-17\", \"2015-04-20\", \"2015-04-21\", \"2015-04-22\", \"2015-04-23\", \"2015-04-24\", \"2015-04-27\", \"2015-04-28\", \"2015-04-29\", \"2015-04-30\", \"2015-05-01\", \"2015-05-04\", \"2015-05-05\", \"2015-05-06\", \"2015-05-07\", \"2015-05-08\", \"2015-05-11\", \"2015-05-12\", \"2015-05-13\", \"2015-05-14\", \"2015-05-15\", \"2015-05-18\", \"2015-05-19\", \"2015-05-20\", \"2015-05-21\", \"2015-05-22\", \"2015-05-26\", \"2015-05-27\", \"2015-05-28\", \"2015-05-29\", \"2015-06-01\", \"2015-06-02\", \"2015-06-03\", \"2015-06-04\", \"2015-06-05\", \"2015-06-08\", \"2015-06-09\", \"2015-06-10\", \"2015-06-11\", \"2015-06-12\", \"2015-06-15\", \"2015-06-16\", \"2015-06-17\", \"2015-06-18\", \"2015-06-19\", \"2015-06-22\", \"2015-06-23\", \"2015-06-24\", \"2015-06-25\", \"2015-06-26\", \"2015-06-29\", \"2015-06-30\", \"2015-07-01\", \"2015-07-02\", \"2015-07-06\", \"2015-07-07\", \"2015-07-08\", \"2015-07-09\", \"2015-07-10\", \"2015-07-13\", \"2015-07-14\", \"2015-07-15\", \"2015-07-16\", \"2015-07-17\", \"2015-07-20\", \"2015-07-21\", \"2015-07-22\", \"2015-07-23\", \"2015-07-24\", \"2015-07-27\", \"2015-07-28\", \"2015-07-29\", \"2015-07-30\", \"2015-07-31\", \"2015-08-03\", \"2015-08-04\", \"2015-08-05\", \"2015-08-06\", \"2015-08-07\", \"2015-08-10\", \"2015-08-11\", \"2015-08-12\", \"2015-08-13\", \"2015-08-14\", \"2015-08-17\", \"2015-08-18\", \"2015-08-19\", \"2015-08-20\", \"2015-08-21\", \"2015-08-24\", \"2015-08-25\", \"2015-08-26\", \"2015-08-27\", \"2015-08-28\", \"2015-08-31\", \"2015-09-01\", \"2015-09-02\", \"2015-09-03\", \"2015-09-04\", \"2015-09-08\", \"2015-09-09\", \"2015-09-10\", \"2015-09-11\", \"2015-09-14\", \"2015-09-15\", \"2015-09-16\", \"2015-09-17\", \"2015-09-18\", \"2015-09-21\", \"2015-09-22\", \"2015-09-23\", \"2015-09-24\", \"2015-09-25\", \"2015-09-28\", \"2015-09-29\", \"2015-09-30\", \"2015-10-01\", \"2015-10-02\", \"2015-10-05\", \"2015-10-06\", \"2015-10-07\", \"2015-10-08\", \"2015-10-09\", \"2015-10-12\", \"2015-10-13\", \"2015-10-14\", \"2015-10-15\", \"2015-10-16\", \"2015-10-19\", \"2015-10-20\", \"2015-10-21\", \"2015-10-22\", \"2015-10-23\", \"2015-10-26\", \"2015-10-27\", \"2015-10-28\", \"2015-10-29\", \"2015-10-30\", \"2015-11-02\", \"2015-11-03\", \"2015-11-04\", \"2015-11-05\", \"2015-11-06\", \"2015-11-09\", \"2015-11-10\", \"2015-11-11\", \"2015-11-12\", \"2015-11-13\", \"2015-11-16\", \"2015-11-17\", \"2015-11-18\", \"2015-11-19\", \"2015-11-20\", \"2015-11-23\", \"2015-11-24\", \"2015-11-25\", \"2015-11-27\", \"2015-11-30\", \"2015-12-01\", \"2015-12-02\", \"2015-12-03\", \"2015-12-04\", \"2015-12-07\", \"2015-12-08\", \"2015-12-09\", \"2015-12-10\", \"2015-12-11\", \"2015-12-14\", \"2015-12-15\", \"2015-12-16\", \"2015-12-17\", \"2015-12-18\", \"2015-12-21\", \"2015-12-22\", \"2015-12-23\", \"2015-12-24\", \"2015-12-28\", \"2015-12-29\", \"2015-12-30\", \"2015-12-31\", \"2016-01-04\", \"2016-01-05\", \"2016-01-06\", \"2016-01-07\", \"2016-01-08\", \"2016-01-11\", \"2016-01-12\", \"2016-01-13\", \"2016-01-14\", \"2016-01-15\", \"2016-01-19\", \"2016-01-20\", \"2016-01-21\", \"2016-01-22\", \"2016-01-25\", \"2016-01-26\", \"2016-01-27\", \"2016-01-28\", \"2016-01-29\", \"2016-02-01\", \"2016-02-02\", \"2016-02-03\", \"2016-02-04\", \"2016-02-05\", \"2016-02-08\", \"2016-02-09\", \"2016-02-10\", \"2016-02-11\", \"2016-02-12\", \"2016-02-16\", \"2016-02-17\", \"2016-02-18\", \"2016-02-19\", \"2016-02-22\", \"2016-02-23\", \"2016-02-24\", \"2016-02-25\", \"2016-02-26\", \"2016-02-29\", \"2016-03-01\", \"2016-03-02\", \"2016-03-03\", \"2016-03-04\", \"2016-03-07\", \"2016-03-08\", \"2016-03-09\", \"2016-03-10\", \"2016-03-11\", \"2016-03-14\", \"2016-03-15\", \"2016-03-16\", \"2016-03-17\", \"2016-03-18\", \"2016-03-21\", \"2016-03-22\", \"2016-03-23\", \"2016-03-24\", \"2016-03-28\", \"2016-03-29\", \"2016-03-30\", \"2016-03-31\", \"2016-04-01\", \"2016-04-04\", \"2016-04-05\", \"2016-04-06\", \"2016-04-07\", \"2016-04-08\", \"2016-04-11\", \"2016-04-12\", \"2016-04-13\", \"2016-04-14\", \"2016-04-15\", \"2016-04-18\", \"2016-04-19\", \"2016-04-20\", \"2016-04-21\", \"2016-04-22\", \"2016-04-25\", \"2016-04-26\", \"2016-04-27\", \"2016-04-28\", \"2016-04-29\", \"2016-05-02\", \"2016-05-03\", \"2016-05-04\", \"2016-05-05\", \"2016-05-06\", \"2016-05-09\", \"2016-05-10\", \"2016-05-11\", \"2016-05-12\", \"2016-05-13\", \"2016-05-16\", \"2016-05-17\", \"2016-05-18\", \"2016-05-19\", \"2016-05-20\", \"2016-05-23\", \"2016-05-24\", \"2016-05-25\", \"2016-05-26\", \"2016-05-27\", \"2016-05-31\", \"2016-06-01\", \"2016-06-02\", \"2016-06-03\", \"2016-06-06\", \"2016-06-07\", \"2016-06-08\", \"2016-06-09\", \"2016-06-10\", \"2016-06-13\", \"2016-06-14\", \"2016-06-15\", \"2016-06-16\", \"2016-06-17\", \"2016-06-20\", \"2016-06-21\", \"2016-06-22\", \"2016-06-23\", \"2016-06-24\", \"2016-06-27\", \"2016-06-28\", \"2016-06-29\", \"2016-06-30\", \"2016-07-01\", \"2016-07-05\", \"2016-07-06\", \"2016-07-07\", \"2016-07-08\", \"2016-07-11\", \"2016-07-12\", \"2016-07-13\", \"2016-07-14\", \"2016-07-15\", \"2016-07-18\", \"2016-07-19\", \"2016-07-20\", \"2016-07-21\", \"2016-07-22\", \"2016-07-25\", \"2016-07-26\", \"2016-07-27\", \"2016-07-28\", \"2016-07-29\", \"2016-08-01\", \"2016-08-02\", \"2016-08-03\", \"2016-08-04\", \"2016-08-05\", \"2016-08-08\", \"2016-08-09\", \"2016-08-10\", \"2016-08-11\", \"2016-08-12\", \"2016-08-15\", \"2016-08-16\", \"2016-08-17\", \"2016-08-18\", \"2016-08-19\", \"2016-08-22\", \"2016-08-23\", \"2016-08-24\", \"2016-08-25\", \"2016-08-26\", \"2016-08-29\", \"2016-08-30\", \"2016-08-31\", \"2016-09-01\", \"2016-09-02\", \"2016-09-06\", \"2016-09-07\", \"2016-09-08\", \"2016-09-09\", \"2016-09-12\", \"2016-09-13\", \"2016-09-14\", \"2016-09-15\", \"2016-09-16\", \"2016-09-19\", \"2016-09-20\", \"2016-09-21\", \"2016-09-22\", \"2016-09-23\", \"2016-09-26\", \"2016-09-27\", \"2016-09-28\", \"2016-09-29\", \"2016-09-30\", \"2016-10-03\", \"2016-10-04\", \"2016-10-05\", \"2016-10-06\", \"2016-10-07\", \"2016-10-10\", \"2016-10-11\", \"2016-10-12\", \"2016-10-13\", \"2016-10-14\", \"2016-10-17\", \"2016-10-18\", \"2016-10-19\", \"2016-10-20\", \"2016-10-21\", \"2016-10-24\", \"2016-10-25\", \"2016-10-26\", \"2016-10-27\", \"2016-10-28\", \"2016-10-31\", \"2016-11-01\", \"2016-11-02\", \"2016-11-03\", \"2016-11-04\", \"2016-11-07\", \"2016-11-08\", \"2016-11-09\", \"2016-11-10\", \"2016-11-11\", \"2016-11-14\", \"2016-11-15\", \"2016-11-16\", \"2016-11-17\", \"2016-11-18\", \"2016-11-21\", \"2016-11-22\", \"2016-11-23\", \"2016-11-25\", \"2016-11-28\", \"2016-11-29\", \"2016-11-30\", \"2016-12-01\", \"2016-12-02\", \"2016-12-05\", \"2016-12-06\", \"2016-12-07\", \"2016-12-08\", \"2016-12-09\", \"2016-12-12\", \"2016-12-13\", \"2016-12-14\", \"2016-12-15\", \"2016-12-16\", \"2016-12-19\", \"2016-12-20\", \"2016-12-21\", \"2016-12-22\", \"2016-12-23\", \"2016-12-27\", \"2016-12-28\", \"2016-12-29\", \"2016-12-30\", \"2017-01-03\", \"2017-01-04\", \"2017-01-05\", \"2017-01-06\", \"2017-01-09\", \"2017-01-10\", \"2017-01-11\", \"2017-01-12\", \"2017-01-13\", \"2017-01-17\", \"2017-01-18\", \"2017-01-19\", \"2017-01-20\", \"2017-01-23\", \"2017-01-24\", \"2017-01-25\", \"2017-01-26\", \"2017-01-27\", \"2017-01-30\", \"2017-01-31\", \"2017-02-01\", \"2017-02-02\", \"2017-02-03\", \"2017-02-06\", \"2017-02-07\", \"2017-02-08\", \"2017-02-09\", \"2017-02-10\", \"2017-02-13\", \"2017-02-14\", \"2017-02-15\", \"2017-02-16\", \"2017-02-17\", \"2017-02-21\", \"2017-02-22\", \"2017-02-23\", \"2017-02-24\", \"2017-02-27\", \"2017-02-28\", \"2017-03-01\", \"2017-03-02\", \"2017-03-03\", \"2017-03-06\", \"2017-03-07\", \"2017-03-08\", \"2017-03-09\", \"2017-03-10\", \"2017-03-13\", \"2017-03-14\", \"2017-03-15\", \"2017-03-16\", \"2017-03-17\", \"2017-03-20\", \"2017-03-21\", \"2017-03-22\", \"2017-03-23\", \"2017-03-24\", \"2017-03-27\", \"2017-03-28\", \"2017-03-29\", \"2017-03-30\", \"2017-03-31\", \"2017-04-03\", \"2017-04-04\", \"2017-04-05\", \"2017-04-06\", \"2017-04-07\", \"2017-04-10\", \"2017-04-11\", \"2017-04-12\", \"2017-04-13\", \"2017-04-17\", \"2017-04-18\", \"2017-04-19\", \"2017-04-20\", \"2017-04-21\", \"2017-04-24\", \"2017-04-25\", \"2017-04-26\", \"2017-04-27\", \"2017-04-28\", \"2017-05-01\", \"2017-05-02\", \"2017-05-03\", \"2017-05-04\", \"2017-05-05\", \"2017-05-08\", \"2017-05-09\", \"2017-05-10\", \"2017-05-11\", \"2017-05-12\", \"2017-05-15\", \"2017-05-16\", \"2017-05-17\", \"2017-05-18\", \"2017-05-19\", \"2017-05-22\", \"2017-05-23\", \"2017-05-24\", \"2017-05-25\", \"2017-05-26\", \"2017-05-30\", \"2017-05-31\", \"2017-06-01\", \"2017-06-02\", \"2017-06-05\", \"2017-06-06\", \"2017-06-07\", \"2017-06-08\", \"2017-06-09\", \"2017-06-12\", \"2017-06-13\", \"2017-06-14\", \"2017-06-15\", \"2017-06-16\", \"2017-06-19\", \"2017-06-20\", \"2017-06-21\", \"2017-06-22\", \"2017-06-23\", \"2017-06-26\", \"2017-06-27\", \"2017-06-28\", \"2017-06-29\", \"2017-06-30\", \"2017-07-03\", \"2017-07-05\", \"2017-07-06\", \"2017-07-07\", \"2017-07-10\", \"2017-07-11\", \"2017-07-12\", \"2017-07-13\", \"2017-07-14\", \"2017-07-17\", \"2017-07-18\", \"2017-07-19\", \"2017-07-20\", \"2017-07-21\", \"2017-07-24\", \"2017-07-25\", \"2017-07-26\", \"2017-07-27\", \"2017-07-28\", \"2017-07-31\", \"2017-08-01\", \"2017-08-02\", \"2017-08-03\", \"2017-08-04\", \"2017-08-07\", \"2017-08-08\", \"2017-08-09\", \"2017-08-10\", \"2017-08-11\", \"2017-08-14\", \"2017-08-15\", \"2017-08-16\", \"2017-08-17\", \"2017-08-18\", \"2017-08-21\", \"2017-08-22\", \"2017-08-23\", \"2017-08-24\", \"2017-08-25\", \"2017-08-28\", \"2017-08-29\", \"2017-08-30\", \"2017-08-31\", \"2017-09-01\", \"2017-09-05\", \"2017-09-06\", \"2017-09-07\", \"2017-09-08\", \"2017-09-11\", \"2017-09-12\", \"2017-09-13\", \"2017-09-14\", \"2017-09-15\", \"2017-09-18\", \"2017-09-19\", \"2017-09-20\", \"2017-09-21\", \"2017-09-22\", \"2017-09-25\", \"2017-09-26\", \"2017-09-27\", \"2017-09-28\", \"2017-09-29\", \"2017-10-02\", \"2017-10-03\", \"2017-10-04\", \"2017-10-05\", \"2017-10-06\", \"2017-10-09\", \"2017-10-10\", \"2017-10-11\", \"2017-10-12\", \"2017-10-13\", \"2017-10-16\", \"2017-10-17\", \"2017-10-18\", \"2017-10-19\", \"2017-10-20\", \"2017-10-23\", \"2017-10-24\", \"2017-10-25\", \"2017-10-26\", \"2017-10-27\", \"2017-10-30\", \"2017-10-31\", \"2017-11-01\", \"2017-11-02\", \"2017-11-03\", \"2017-11-06\", \"2017-11-07\", \"2017-11-08\", \"2017-11-09\", \"2017-11-10\", \"2017-11-13\", \"2017-11-14\", \"2017-11-15\", \"2017-11-16\", \"2017-11-17\", \"2017-11-20\", \"2017-11-21\", \"2017-11-22\", \"2017-11-24\", \"2017-11-27\", \"2017-11-28\", \"2017-11-29\", \"2017-11-30\", \"2017-12-01\", \"2017-12-04\", \"2017-12-05\", \"2017-12-06\", \"2017-12-07\", \"2017-12-08\", \"2017-12-11\", \"2017-12-12\", \"2017-12-13\", \"2017-12-14\", \"2017-12-15\", \"2017-12-18\", \"2017-12-19\", \"2017-12-20\", \"2017-12-21\", \"2017-12-22\", \"2017-12-26\", \"2017-12-27\", \"2017-12-28\", \"2017-12-29\", \"2018-01-02\", \"2018-01-03\", \"2018-01-04\", \"2018-01-05\", \"2018-01-08\", \"2018-01-09\", \"2018-01-10\", \"2018-01-11\", \"2018-01-12\", \"2018-01-16\", \"2018-01-17\", \"2018-01-18\", \"2018-01-19\", \"2018-01-22\", \"2018-01-23\", \"2018-01-24\", \"2018-01-25\", \"2018-01-26\", \"2018-01-29\", \"2018-01-30\", \"2018-01-31\", \"2018-02-01\", \"2018-02-02\", \"2018-02-05\", \"2018-02-06\", \"2018-02-07\", \"2018-02-08\", \"2018-02-09\", \"2018-02-12\", \"2018-02-13\", \"2018-02-14\", \"2018-02-15\", \"2018-02-16\", \"2018-02-20\", \"2018-02-21\", \"2018-02-22\", \"2018-02-23\", \"2018-02-26\", \"2018-02-27\", \"2018-02-28\", \"2018-03-01\", \"2018-03-02\", \"2018-03-05\", \"2018-03-06\", \"2018-03-07\", \"2018-03-08\", \"2018-03-09\", \"2018-03-12\", \"2018-03-13\", \"2018-03-14\", \"2018-03-15\", \"2018-03-16\", \"2018-03-19\", \"2018-03-20\", \"2018-03-21\", \"2018-03-22\", \"2018-03-23\", \"2018-03-26\", \"2018-03-27\", \"2018-03-28\", \"2018-03-29\", \"2018-04-02\", \"2018-04-03\", \"2018-04-04\", \"2018-04-05\", \"2018-04-06\", \"2018-04-09\", \"2018-04-10\", \"2018-04-11\", \"2018-04-12\", \"2018-04-13\", \"2018-04-16\", \"2018-04-17\", \"2018-04-18\", \"2018-04-19\", \"2018-04-20\", \"2018-04-23\", \"2018-04-24\", \"2018-04-25\", \"2018-04-26\", \"2018-04-27\", \"2018-04-30\", \"2018-05-01\", \"2018-05-02\", \"2018-05-03\", \"2018-05-04\", \"2018-05-07\", \"2018-05-08\", \"2018-05-09\", \"2018-05-10\", \"2018-05-11\", \"2018-05-14\", \"2018-05-15\", \"2018-05-16\", \"2018-05-17\", \"2018-05-18\", \"2018-05-21\", \"2018-05-22\", \"2018-05-23\", \"2018-05-24\", \"2018-05-25\", \"2018-05-29\", \"2018-05-30\", \"2018-05-31\", \"2018-06-01\", \"2018-06-04\", \"2018-06-05\", \"2018-06-06\", \"2018-06-07\", \"2018-06-08\", \"2018-06-11\", \"2018-06-12\", \"2018-06-13\", \"2018-06-14\", \"2018-06-15\", \"2018-06-18\", \"2018-06-19\", \"2018-06-20\", \"2018-06-21\", \"2018-06-22\", \"2018-06-25\", \"2018-06-26\", \"2018-06-27\", \"2018-06-28\", \"2018-06-29\", \"2018-07-02\", \"2018-07-03\", \"2018-07-05\", \"2018-07-06\", \"2018-07-09\", \"2018-07-10\", \"2018-07-11\", \"2018-07-12\", \"2018-07-13\", \"2018-07-16\", \"2018-07-17\", \"2018-07-18\", \"2018-07-19\", \"2018-07-20\", \"2018-07-23\", \"2018-07-24\", \"2018-07-25\", \"2018-07-26\", \"2018-07-27\", \"2018-07-30\", \"2018-07-31\", \"2018-08-01\", \"2018-08-02\", \"2018-08-03\", \"2018-08-06\", \"2018-08-07\", \"2018-08-08\", \"2018-08-09\", \"2018-08-10\", \"2018-08-13\", \"2018-08-14\", \"2018-08-15\", \"2018-08-16\", \"2018-08-17\", \"2018-08-20\", \"2018-08-21\", \"2018-08-22\", \"2018-08-23\", \"2018-08-24\", \"2018-08-27\", \"2018-08-28\", \"2018-08-29\", \"2018-08-30\", \"2018-08-31\", \"2018-09-04\", \"2018-09-05\", \"2018-09-06\", \"2018-09-07\", \"2018-09-10\", \"2018-09-11\", \"2018-09-12\", \"2018-09-13\", \"2018-09-14\", \"2018-09-17\", \"2018-09-18\", \"2018-09-19\", \"2018-09-20\", \"2018-09-21\", \"2018-09-24\", \"2018-09-25\", \"2018-09-26\", \"2018-09-27\", \"2018-09-28\", \"2018-10-01\", \"2018-10-02\", \"2018-10-03\", \"2018-10-04\", \"2018-10-05\", \"2018-10-08\", \"2018-10-09\", \"2018-10-10\", \"2018-10-11\", \"2018-10-12\", \"2018-10-15\", \"2018-10-16\", \"2018-10-17\", \"2018-10-18\", \"2018-10-19\", \"2018-10-22\", \"2018-10-23\", \"2018-10-24\", \"2018-10-25\", \"2018-10-26\", \"2018-10-29\", \"2018-10-30\", \"2018-10-31\", \"2018-11-01\", \"2018-11-02\", \"2018-11-05\", \"2018-11-06\", \"2018-11-07\", \"2018-11-08\", \"2018-11-09\", \"2018-11-12\", \"2018-11-13\", \"2018-11-14\", \"2018-11-15\", \"2018-11-16\", \"2018-11-19\", \"2018-11-20\", \"2018-11-21\", \"2018-11-23\", \"2018-11-26\", \"2018-11-27\", \"2018-11-28\", \"2018-11-29\", \"2018-11-30\", \"2018-12-03\", \"2018-12-04\", \"2018-12-06\", \"2018-12-07\", \"2018-12-10\", \"2018-12-11\", \"2018-12-12\", \"2018-12-13\", \"2018-12-14\", \"2018-12-17\", \"2018-12-18\", \"2018-12-19\", \"2018-12-20\", \"2018-12-21\", \"2018-12-24\", \"2018-12-26\", \"2018-12-27\", \"2018-12-28\", \"2018-12-31\"], \"y\": [0.0, 0.0, 0.0, 0.0, -0.03, 0.0, 0.0, 0.0, 0.0, -0.03, -0.11, -0.29, -0.84, -1.84, -1.82, -1.74, -1.74, -2.24, -2.55, -1.68, -0.96, -1.02, -2.1, -2.55, -2.68, -2.26, -1.89, -1.57, -1.68, -1.02, -0.3, -0.12, 0.0, 0.0, 0.0, 0.0, 0.0, 0.0, 0.0, 0.0, -0.18, 0.0, 0.0, -0.08, 0.0, 0.0, 0.0, 0.0, -0.13, 0.0, 0.0, -0.26, -0.48, -0.33, -0.2, -0.43, -0.94, -0.96, -0.91, -1.22, -1.67, -1.42, -1.6, -1.63, -1.65, -1.58, -1.58, -1.37, -1.12, -0.89, -0.72, -1.42, -1.65, -1.17, -0.86, -0.61, -0.68, -0.91, -1.6, -1.65, -1.3, -1.63, -1.3, -2.17, -4.05, -10.12, -7.63, -5.2, -4.74, -4.33, -4.05, -5.15, -6.02, -6.72, -7.75, -10.03, -8.75, -7.64, -8.22, -7.34, -5.85, -5.9, -5.88, -5.0, -4.87, -5.99, -5.99, -6.09, -5.86, -5.21, -4.41, -4.33, -3.53, -3.98, -3.89, -3.74, -4.05, -4.18, -4.28, -4.23, -3.81, -3.56, -4.72, -4.12, -4.0, -3.74, -3.6, -2.91, -2.05, -1.79, -1.86, -1.09, -0.74, -0.62, -0.9, -0.41, -0.15, 0.0, 0.0, 0.0, 0.0, 0.0, -0.31, 0.0, 0.0, 0.0, 0.0, 0.0, 0.0, 0.0, 0.0, -0.28, -0.35, -0.07, 0.0, -0.45, -0.01, 0.0, -0.4, -0.42, -0.35, -0.98, -0.75, -0.67, -0.2, -0.15, -0.23, 0.0, -0.15, 0.0, -0.05, 0.0, -0.07, 0.0, 0.0, -0.4, -0.33, -0.43, -0.45, 0.0, -0.22, -0.22, -0.32, -0.18, -0.45, -0.58, -0.45, -0.5, -0.43, -0.81, -0.66, -0.71, -0.53, -0.33, -0.24, -0.15, 0.0, -0.23, -0.98, -1.03, -1.26, -1.16, -1.11, -0.73, -0.8, -0.68, -0.87, -0.59, -0.48, -0.33, -0.61, -0.46, 0.0, 0.0, -0.15, -0.02, 0.0, -0.1, -0.31, -0.31, -0.96, -1.03, -0.56, -0.48, -1.06, -1.31, -0.96, -0.93, -1.24, -1.34, -1.04, -1.02, -0.89, -1.09, -0.97, -1.14, -0.84, -0.79, -0.79, -1.52, -1.85, -1.95, -1.79, -2.51, -2.28, -2.23, -2.1, -1.95, -1.91, -1.43, -1.45, -1.07, -0.91, -0.79, -0.88, -0.76, -0.86, -0.71, -0.74, -0.56, -0.4, -0.61, -0.71, -0.69, -0.74, -0.53, -0.56, -0.4, -0.36, -0.13, -0.58, -0.36, -0.07, -0.12, 0.0, 0.0, -0.02, 0.0, 0.0, 0.0, 0.0, 0.0, -0.05, 0.0, -0.13, 0.0, -0.63, -0.69, -0.76, -0.56, -0.2, -0.48, -0.16, 0.0, 0.0, -0.4, -0.13, -0.03, -0.23, -0.08, -0.23, -0.4, -0.66, -0.73, -0.36, -0.18, -0.09, 0.0, -0.05, 0.0, 0.0, -0.03, 0.0, 0.0, 0.0, 0.0, 0.0, -0.02, -0.33, -0.2, -0.45, -0.68, -0.71, -0.73, -0.71, -0.86, -0.48, -0.2, 0.0, 0.0, 0.0, 0.0, 0.0, 0.0, -0.18, -0.06, 0.0, -0.25, -0.13, 0.0, 0.0, 0.0, 0.0, 0.0, -0.14, -0.02, -0.05, 0.0, -0.08, -0.23, -0.23, -0.2, -0.27, -0.12, -0.08, -0.37, -0.67, -0.75, -1.0, -1.0, -1.3, -1.37, -1.53, -1.6, -1.33, -1.7, -2.63, -2.01, -1.93, -1.65, -1.57, -1.6, -1.72, -1.8, -1.17, -1.02, -0.62, -0.56, -0.43, -0.51, -0.31, -0.36, -0.83, -1.16, -0.86, -1.09, -0.99, -1.65, -1.54, -1.36, -0.96, -0.81, -1.26, -1.24, -1.82, -2.15, -2.5, -1.89, -2.06, -1.81, -4.44, -6.27, -15.18, -9.18, -9.28, -7.08, -6.17, -4.95, -5.15, -5.1, -6.6, -6.93, -7.61, -7.86, -7.08, -6.04, -5.46, -4.24, -4.11, -4.32, -4.25, -4.76, -5.39, -4.43, -5.09, -5.62, -7.25, -6.98, -6.67, -5.65, -5.93, -6.49, -6.59, -7.79, -9.09, -9.07, -9.21, -8.22, -8.75, -8.22, -9.29, -11.18, -11.96, -11.06, -9.39, -9.06, -8.19, -7.83, -7.01, -7.44, -7.5, -7.62, -7.03, -6.96, -6.75, -5.98, -5.42, -5.75, -5.29, -3.63, -3.5, -4.42, -5.95, -5.2, -4.95, -4.61, -4.66, -4.56, -5.93, -5.72, -4.97, -5.46, -5.23, -5.93, -6.24, -6.08, -6.8, -7.14, -8.24, -7.94, -7.5, -7.99, -7.42, -7.78, -7.34, -6.54, -6.36, -6.51, -7.06, -6.49, -6.8, -6.67, -7.4, -7.34, -7.81, -8.02, -7.89, -7.71, -6.88, -6.85, -7.89, -7.86, -7.68, -7.31, -6.48, -5.65, -4.35, -4.22, -3.72, -3.05, -3.15, -2.76, -3.05, -3.02, -2.5, -2.16, -1.77, -1.69, -1.72, -1.43, -1.12, -0.78, -0.97, -0.76, -0.35, -0.11, 0.0, 0.0, 0.0, 0.0, 0.0, -0.42, 0.0, 0.0, 0.0, 0.0, 0.0, -0.02, 0.0, 0.0, 0.0, 0.0, 0.0, 0.0, 0.0, 0.0, -0.33, -1.18, -1.0, -0.46, -0.28, -0.03, 0.0, -0.36, -0.64, -0.43, -0.42, -0.58, -0.53, -0.61, -0.49, -0.31, -0.38, -0.31, -0.59, -0.43, -0.36, -0.34, -0.75, -0.59, -0.77, -1.36, -1.57, -0.72, -0.8, -0.59, -0.47, -0.72, -0.85, -1.13, -1.0, -0.85, -0.57, -0.54, -0.31, -0.21, -0.06, -0.22, -0.09, -0.09, 0.0, 0.0, -0.26, -0.21, -0.62, -1.31, -1.57, -1.68, -3.25, -4.17, -2.7, -1.7, -1.65, -1.26, -1.06, -0.54, -1.13, -1.39, -2.03, -1.85, -1.46, -1.0, -1.05, -0.89, -1.29, -0.92, -0.82, -0.57, -0.45, -0.22, 0.0, 0.0, -0.33, -0.1, 0.0, 0.0, 0.0, 0.0, 0.0, 0.0, 0.0, 0.0, 0.0, -0.18, -0.33, -0.15, -0.21, 0.0, 0.0, 0.0, 0.0, 0.0, 0.0, -0.23, -0.66, -0.63, -0.33, -0.05, 0.0, -0.05, -0.28, -0.0, 0.0, 0.0, 0.0, 0.0, 0.0, -0.05, -0.18, -0.18, -0.15, -0.13, 0.0, -0.1, -0.08, -0.08, -0.05, 0.0, 0.0, 0.0, 0.0, 0.0, 0.0, 0.0, 0.0, 0.0, 0.0, -0.07, -0.12, 0.0, 0.0, 0.0, -0.15, 0.0, 0.0, 0.0, -0.08, -0.5, -0.3, -0.3, -0.2, -0.28, -0.02, 0.0, 0.0, 0.0, 0.0, -0.04, -0.27, -0.07, 0.0, -0.07, -0.05, 0.0, 0.0, 0.0, -0.28, -0.45, -0.55, -0.7, -0.75, -0.72, -0.4, -0.1, -0.17, -0.15, -0.07, -0.45, -0.82, -0.75, -0.52, -0.67, -1.8, -2.15, -1.25, -0.82, -0.77, -0.8, -0.62, -0.65, -0.47, -0.37, -0.25, -0.22, -0.51, -0.44, -0.49, -0.46, -0.41, -0.49, -0.46, -0.31, -0.54, -0.59, -0.71, -0.49, -0.26, -0.21, -0.41, -0.39, -0.31, -0.36, -0.11, 0.0, 0.0, 0.0, 0.0, -0.05, 0.0, 0.0, 0.0, 0.0, -0.12, -0.05, -0.15, 0.0, 0.0, 0.0, -0.05, -0.22, -0.07, -0.27, -0.32, -0.5, -0.5, -0.37, -0.49, -0.35, -0.32, -0.27, -0.27, -0.27, -0.15, -0.12, -0.15, -0.09, -0.07, -0.16, -0.17, -0.09, -0.07, 0.0, 0.0, -0.2, -0.08, 0.0, 0.0, 0.0, 0.0, 0.0, 0.0, -0.03, 0.0, 0.0, 0.0, -0.05, -0.07, 0.0, -0.02, 0.0, 0.0, 0.0, -0.2, 0.0, -0.09, 0.0, -0.12, -0.2, -0.15, -0.22, -0.15, -0.1, 0.0, 0.0, -0.15, 0.0, 0.0, 0.0, -0.07, -0.39, -0.07, 0.0, 0.0, 0.0, 0.0, 0.0, -0.06, 0.0, 0.0, 0.0, 0.0, 0.0, -0.05, -0.07, -0.22, -0.51, -0.76, -0.73, -0.34, -0.29, -0.29, -0.42, -0.76, -0.56, -0.68, -1.17, -0.85, -1.78, -2.55, -2.6, -3.19, -2.97, -2.63, -2.94, -4.31, -5.34, -4.16, -3.38, -3.14, -2.92, -3.8, -5.24, -5.41, -6.73, -5.95, -4.78, -4.14, -3.94, -3.95, -4.29, -4.66, -5.52, -5.57, -5.37, -4.96, -4.29, -4.37, -4.02, -4.27, -4.12, -4.07, -3.65, -4.0, -3.75, -4.1, -4.59, -4.39, -4.96, -4.98, -4.47, -5.08, -5.0, -5.15, -5.5, -5.57, -5.64, -5.62, -5.4, -5.74, -6.46, -7.15, -7.62, -8.68, -8.21, -8.18, -7.47, -6.63, -6.85, -6.98, -6.75, -6.7, -6.56, -6.78, -6.54, -7.01, -6.91, -6.76, -6.81, -6.49, -6.93, -6.73, -6.71, -6.59, -5.58, -6.02, -6.16, -6.27, -6.19, -6.04, -5.84, -6.29, -5.92, -6.27, -6.24, -6.39, -6.24, -6.54, -6.71, -6.79, -6.49, -6.34, -6.47, -6.79, -6.57, -5.87, -5.35, -5.59, -5.1, -4.75, -5.1, -5.17, -5.22, -5.07, -5.17, -5.05, -4.99, -5.04, -5.27, -5.29, -5.14, -5.54, -5.42, -5.69, -5.52, -5.37, -5.24, -5.34, -5.44, -5.67, -5.39, -4.74, -5.02, -4.87, -4.89, -4.74, -4.8, -5.03, -5.36, -5.86, -5.81, -5.68, -5.61, -6.13, -6.33, -5.96, -5.81, -5.96, -5.91, -5.91, -5.83, -5.93, -5.88, -6.25, -6.41, -5.92, -5.98, -5.41, -4.85, -4.29, -4.47, -4.32, -3.98, -3.5, -3.6, -3.47, -3.5, -3.17, -2.91, -3.14, -2.96, -3.17, -3.5, -3.63, -3.19, -3.4, -3.04, -3.19, -3.37, -3.17, -3.14, -3.11, -2.91, -2.75, -2.5, -2.47, -2.17, -1.94, -1.58, -1.47, -1.45, -1.4, -1.47, -1.55, -1.4, -1.24, -0.98, -1.06, -0.86, -0.96, -0.81, -1.01, -0.98, -0.93, -0.75, -0.52, -0.24, 0.0, 0.0, -0.21, -0.16, 0.0, 0.0, 0.0, -0.04, 0.0, 0.0, 0.0, 0.0, -0.15, -0.23, -0.13, -0.2, -0.15, 0.0, -0.08, 0.0, 0.0, 0.0, 0.0, -0.02, -0.18, 0.0, -0.05, 0.0, 0.0, 0.0, 0.0, 0.0, 0.0, 0.0, 0.0, -0.13, -0.03, 0.0, -0.05, -0.03, 0.0, 0.0, -0.02, 0.0, 0.0, -0.05, -0.08, -0.33, -0.35, -0.05, 0.0, 0.0, 0.0, -0.07, -0.75, -1.1, -0.92, -0.7, -0.62, -0.9, -0.85, -0.65, -0.75, -0.57, -0.29, -0.04, 0.0, 0.0, 0.0, 0.0, 0.0, 0.0, 0.0, 0.0, 0.0, 0.0, -0.38, -0.4, -0.25, -0.08, -0.23, 0.0, -0.03, -0.08, -0.1, -0.65, -0.15, -0.3, -0.35, -0.3, -0.2, -0.1, -0.13, -0.08, -0.27, -0.98, -1.17, -1.47, -1.6, -1.37, -0.77, -0.82, -0.69, -0.52, -0.24, 0.0, 0.0, 0.0, -0.05, -0.08, -0.02, -0.04, 0.0, 0.0, 0.0, 0.0, 0.0, -0.37, -0.42, -1.22, -1.0, -1.2, -1.38, -1.38, -1.4, -1.63, -1.48, -1.55, -1.27, -1.02, -0.9, -1.1, -1.2, -1.22, -1.45, -1.07, -0.95, -0.82, -1.07, -0.95, -0.95, -0.82, -1.0, -0.57, -1.0, -1.12, -1.3, -0.97, -0.87, -0.8, -0.64, -0.52, -0.27, -0.22, -0.14, -0.01, -0.01, 0.0, -0.08, 0.0, 0.0, 0.0, 0.0, -0.1, -0.05, 0.0, 0.0, 0.0, 0.0, -0.05, 0.0, 0.0, 0.0, -0.12, -0.1, -0.05, 0.0, 0.0, 0.0, -0.05, -0.58, -0.35, -0.73, -1.3, -1.23, -1.08, -1.08, -1.35, -1.2, -1.45, -1.75, -2.2, -1.55, -1.28, -0.9, -0.93, -0.98, -1.01, -0.81, -0.6, -0.3, -0.17, 0.0, -0.38, -0.28, -0.05, 0.0, 0.0, -0.08, -0.18, -0.38, -0.35, 0.0, -0.05, 0.0, 0.0, 0.0, 0.0, 0.0, 0.0, -0.07, -0.13, 0.0, 0.0, -0.1, 0.0, -0.35, -0.25, -0.3, -0.05, 0.0, 0.0, -0.32, -0.67, -0.57, -0.4, -0.17, -0.02, 0.0, 0.0, 0.0, 0.0, 0.0, 0.0, 0.0, -0.9, -1.12, -0.97, -0.65, -0.75, -0.8, -0.67, -0.7, -0.32, -0.37, -0.02, 0.0, 0.0, 0.0, -0.05, -0.02, 0.0, 0.0, -0.01, 0.0, -0.08, 0.0, 0.0, -0.02, -0.05, -0.12, -0.05, 0.0, -0.15, -0.53, -0.6, -0.42, -0.37, -0.23, -0.2, -0.3, -0.25, -0.4, -0.48, -0.67, -0.59, -0.99, -2.29, -1.79, -0.94, -1.57, -1.22, -0.74, -0.26, -0.29, -0.51, -0.69, -0.44, -0.26, -0.21, -0.24, -0.11, -0.16, -0.49, -0.54, -0.41, -0.56, -0.4, -0.74, -0.79, -1.01, -1.09, -0.99, -1.14, -0.99, -0.81, -1.04, -1.32, -1.32, -1.19, -1.12, -1.12, -1.12, -1.14, -1.67, -1.49, -1.37, -1.21, -1.39, -1.31, -1.71, -1.46, -1.29, -0.98, -0.83, -0.6, -0.17, -0.2, -0.15, -0.2, -0.48, -0.55, -0.63, -0.73, -0.4, -0.48, -0.35, -0.15, -0.1, -0.18, -0.11, -0.16, -0.24, 0.0, 0.0, 0.0, -0.08, -0.05, -0.03, -0.18, -0.41, -0.58, -1.09, -2.99, -2.38, -1.8, -1.12, -0.86, -1.01, -1.36, -1.11, -0.98, -1.03, -0.83, -1.01, -1.13, -1.06, -1.13, -1.26, -0.98, -0.8, -1.03, -1.03, -1.18, -1.18, -0.96, -0.93, -1.62, -2.02, -1.69, -1.87, -1.67, -1.0, -0.95, -0.85, -0.74, -0.77, -0.77, -0.74, -0.62, -0.34, -0.0, -0.18, -0.21, -0.03, 0.0, 0.0, 0.0, 0.0, 0.0, -0.1, 0.0, 0.0, -0.08, 0.0, 0.0, -0.79, -0.76, -0.51, -0.26, -0.51, -0.51, -0.66, -0.64, -0.64, -0.56, -0.46, -0.41, -0.13, 0.0, 0.0, -0.23, -0.02, -0.48, -0.86, -0.71, -1.12, -1.32, -1.4, -1.47, -2.08, -3.81, -3.13, -2.49, -2.08, -2.21, -1.83, -1.57, -1.12, -0.79, -0.79, -0.51, -0.25, -0.33, 0.0, 0.0, -0.23, -0.87, -0.59, -1.12, -1.2, -1.84, -1.79, -2.18, -2.3, -2.89, -2.71, -2.2, -2.64, -2.53, -2.27, -2.12, -1.53, -1.22, -1.47, -1.63, -1.99, -2.6, -4.45, -5.3, -4.71, -6.77, -5.97, -4.33, -3.25, -2.78, -2.63, -2.83, -2.71, -2.48, -1.78, -1.75, -1.47, -1.17, -1.33, -1.22, -1.2, -1.04, -1.14, -0.89, -0.89, -0.29, -0.37, -0.73, -0.45, -0.27, -0.08, -0.16, 0.0, -0.05, 0.0, 0.0, 0.0, 0.0, 0.0, -0.64, -0.87, -1.13, -1.13, -1.38, -0.92, -0.72, -0.53, -0.33, -0.3, -0.2, -0.2, 0.0, 0.0, -0.05, 0.0, -0.26, 0.0, 0.0, -0.08, 0.0, 0.0, -0.28, -0.18, -0.41, -0.15, 0.0, 0.0, 0.0, -0.13, 0.0, 0.0, 0.0, -0.43, -0.58, -0.58, -0.05, 0.0, 0.0, 0.0, 0.0, 0.0, 0.0, -0.02, 0.0, -0.05, -0.15, -0.15, -0.2, -0.5, -0.73, -1.01, -0.93, -0.91, -0.5, 0.0, -0.05, -0.03, 0.0, -0.68, -1.33, -0.23, 0.0, 0.0, -0.2, -0.6, -0.44, -0.34, -0.01, 0.0, 0.0, 0.0, 0.0, 0.0, -0.05, -0.03, -0.17, -0.19, 0.0, -0.03, 0.0, 0.0, 0.0, 0.0, -0.05, -0.3, -0.33, -0.03, 0.0, 0.0, 0.0, -0.15, -0.22, -0.35, -0.6, -0.75, -0.6, -0.55, -0.72, -0.57, -0.45, -0.6, -0.57, -0.45, -0.3, -0.35, -0.45, -0.64, -0.37, -0.25, -0.32, -0.25, -1.44, -1.12, -1.92, -1.74, -1.67, -1.89, -1.89, -1.72, -1.27, -0.74, -0.7, -1.19, -1.04, -0.79, -1.94, -1.52, -1.52, -1.8, -1.85, -1.87, -1.92, -1.77, -2.52, -3.08, -2.97, -2.68, -2.68, -1.87, -1.72, -1.67, -1.45, -1.37, -1.22, -1.52, -1.87, -2.3, -2.47, -2.63, -3.63, -4.31, -4.06, -3.81, -4.06, -4.59, -5.97, -6.07, -7.48, -5.77, -4.99, -5.72, -6.53, -5.92, -5.22, -5.45, -5.24, -5.4, -5.27, -5.72, -6.32, -6.42, -6.27, -6.1, -5.89, -5.92, -6.15, -6.6, -6.47, -6.73, -6.4, -6.17, -5.79, -5.62, -5.34, -5.15, -5.07, -5.56, -5.66, -5.61, -5.43, -4.69, -3.55, -3.63, -3.68, -3.8, -3.4, -2.94, -3.17, -3.14, -3.47, -3.42, -4.29, -4.06, -3.68, -3.5, -3.83, -3.42, -3.5, -3.47, -3.17, -3.19, -2.78, -2.53, -2.35, -2.3, -1.68, -1.84, -1.76, -1.66, -1.66, -1.53, -1.68, -1.66, -1.66, -1.61, -1.25, -1.05, -0.94, -1.15, -1.43, -1.61, -1.5, -1.5, -1.81, -2.56, -3.04, -2.71, -2.66, -2.66, -1.61, -1.43, -1.27, -1.37, -1.68, -1.61, -1.3, -1.27, -1.17, -0.96, -0.89, -0.76, -0.66, -0.01, -0.06, -0.42, -0.01, -0.14, 0.0, -0.18, -0.18, -0.31, 0.0, 0.0, -0.15, -0.02, 0.0, 0.0, -0.08, 0.0, 0.0, 0.0, 0.0, 0.0, 0.0, -0.28, -0.08, -0.02, -0.2, -0.15, -0.33, -0.13, -0.05, 0.0, -0.31, -0.51, -0.49, -0.13, 0.0, 0.0, 0.0, 0.0, -0.23, -0.1, -0.07, 0.0, -0.21, -0.31, -0.44, -0.26, -0.49, -0.38, -0.15, -0.1, -0.03, 0.0, 0.0, -0.13, -0.18, 0.0, 0.0, 0.0, -0.23, -0.05, -0.38, -0.13, -0.28, 0.0, -0.31, -0.23, -0.11, -0.28, -0.08, -0.26, -0.11, -0.13, 0.0, 0.0, 0.0, 0.0, -0.05, -0.41, -0.15, -0.3, -0.08, -0.13, 0.0, -0.13, -0.13, -0.23, -0.13, -0.43, -0.59, -1.48, -1.45, -0.94, -0.79, -0.71, -1.15, -1.1, -1.17, -1.07, -1.05, -0.92, -0.91, -0.79, -0.88, -0.76, -0.38, -0.49, -0.52, -0.31, -0.47, -0.67, -0.36, -0.24, -0.44, -0.39, -0.29, -0.34, -0.42, -0.47, -0.49, -0.6, -0.39, -0.42, -0.57, -0.57, -0.54, -0.81, -0.84, -0.87, -0.94, -1.38, -1.35, -1.15, -1.12, -0.87, -0.76, -0.92, -0.94, -1.02, -0.89, -0.66, -0.61, -0.66, -1.1, -1.12, -0.87, -1.12, -0.92, -0.96, -0.94, -0.93, -1.1, -1.02, -0.84, -0.99, -1.2, -1.15, -1.28, -1.25, -1.02, -0.71, -0.35, -0.29, -0.11, -0.04, -0.01, -0.11, -0.27, -0.24, -0.0, -0.08, -0.08, -0.0, 0.0, 0.0, -0.08, -0.44, -0.73, -0.78, -0.42, -0.54, -0.62, -0.7, -0.65, -0.86, -0.96, -0.81, -0.94, -0.96, -1.51, -1.33, -1.25, -1.22, -1.04, -0.78, -0.96, -0.65, -0.83, -1.09, -1.3, -1.67, -1.28, -1.3, -1.04, -1.17, -1.22, -1.4, -2.24, -2.65, -2.13, -2.66, -3.34, -3.52, -3.34, -3.13, -3.81, -3.68, -3.42, -3.44, -3.63, -3.42, -3.05, -3.0, -2.97, -2.79, -2.48, -2.11, -2.0, -1.87, -1.97, -2.1, -1.71, -1.47, -1.32, -1.26, -1.34, -1.39, -1.24, -1.18, -1.08, -1.05, -1.16, -1.45, -1.26, -1.58, -1.68, -1.68, -1.76, -1.53, -1.34, -1.64, -2.01, -1.98, -1.74, -1.85, -1.74, -1.59, -1.59, -1.72, -1.93, -1.74, -1.59, -1.48, -1.56, -1.61, -1.72, -1.93, -2.33, -2.25, -2.11, -2.04, -1.98, -2.09, -1.98, -1.93, -1.77, -1.98, -1.98, -1.82, -1.74, -1.66, -2.14, -2.06, -2.09, -2.01, -2.06, -2.03, -1.82, -1.51, -1.48, -1.32, -1.24, -1.24, -0.88, -0.54, -0.32, -0.22, -0.08, -0.03, -0.0, -0.08, -0.22, 0.0, 0.0, -0.11, 0.0, -0.13, -0.19, -0.03, -0.13, 0.0, -0.08, 0.0, 0.0, 0.0, 0.0, 0.0, 0.0, -0.08, -0.02, -0.31, -0.31, -0.87, -1.05, -1.21, -1.29, -0.95, -0.68, -0.81, -0.79, -0.63, -0.66, -1.05, -1.13, -1.08, -1.25, -1.19, -0.93, -0.88, -0.9, -0.98, -1.19, -1.27, -1.33, -1.11, -1.17, -0.93, -0.69, -0.48, -0.37, -0.48, -0.56, -0.16, -0.16, 0.0, 0.0, -0.21, 0.0, -0.73, -1.18, -1.29, -1.79, -1.48, -1.37, -1.26, -1.34, -1.16, -1.4, -1.5, -1.85, -1.79, -1.66, -1.77, -1.92, -2.0, -1.9, -1.71, -2.49, -2.75, -3.39, -4.16, -4.16, -4.0, -3.71, -4.45, -4.53, -4.69, -4.53, -4.35, -4.29, -4.08, -3.74, -3.66, -3.95, -4.29, -3.71, -4.03, -3.95, -4.0, -3.92, -3.82, -4.17, -4.17, -3.91, -3.69, -3.61, -3.58, -4.04, -4.12, -4.36, -4.73, -4.52, -5.08, -5.83, -5.32, -5.56, -5.59, -5.75, -5.64, -5.88, -6.07, -6.08, -6.48, -6.91, -6.8, -6.8, -6.64, -6.8, -7.07, -7.31, -7.85, -8.1, -8.23, -8.77, -9.15, -9.72, -9.15, -9.29, -8.4, -7.5]}],                        {\"annotations\": [{\"font\": {\"color\": \"rgb(150,150,150)\", \"family\": \"Arial\", \"size\": 12}, \"showarrow\": false, \"text\": \"\", \"x\": 0.5, \"xanchor\": \"center\", \"xref\": \"paper\", \"y\": \"-0.125\", \"yanchor\": \"top\", \"yref\": \"paper\"}], \"height\": 500, \"hovermode\": \"x\", \"paper_bgcolor\": \"#F5F6F9\", \"plot_bgcolor\": \"#F5F6F9\", \"showlegend\": true, \"template\": {\"data\": {\"bar\": [{\"error_x\": {\"color\": \"#2a3f5f\"}, \"error_y\": {\"color\": \"#2a3f5f\"}, \"marker\": {\"line\": {\"color\": \"#E5ECF6\", \"width\": 0.5}}, \"type\": \"bar\"}], \"barpolar\": [{\"marker\": {\"line\": {\"color\": \"#E5ECF6\", \"width\": 0.5}}, \"type\": \"barpolar\"}], \"carpet\": [{\"aaxis\": {\"endlinecolor\": \"#2a3f5f\", \"gridcolor\": \"white\", \"linecolor\": \"white\", \"minorgridcolor\": \"white\", \"startlinecolor\": \"#2a3f5f\"}, \"baxis\": {\"endlinecolor\": \"#2a3f5f\", \"gridcolor\": \"white\", \"linecolor\": \"white\", \"minorgridcolor\": \"white\", \"startlinecolor\": \"#2a3f5f\"}, \"type\": \"carpet\"}], \"choropleth\": [{\"colorbar\": {\"outlinewidth\": 0, \"ticks\": \"\"}, \"type\": \"choropleth\"}], \"contour\": [{\"colorbar\": {\"outlinewidth\": 0, \"ticks\": \"\"}, \"colorscale\": [[0.0, \"#0d0887\"], [0.1111111111111111, \"#46039f\"], [0.2222222222222222, \"#7201a8\"], [0.3333333333333333, \"#9c179e\"], [0.4444444444444444, \"#bd3786\"], [0.5555555555555556, \"#d8576b\"], [0.6666666666666666, \"#ed7953\"], [0.7777777777777778, \"#fb9f3a\"], [0.8888888888888888, \"#fdca26\"], [1.0, \"#f0f921\"]], \"type\": \"contour\"}], \"contourcarpet\": [{\"colorbar\": {\"outlinewidth\": 0, \"ticks\": \"\"}, \"type\": \"contourcarpet\"}], \"heatmap\": [{\"colorbar\": {\"outlinewidth\": 0, \"ticks\": \"\"}, \"colorscale\": [[0.0, \"#0d0887\"], [0.1111111111111111, \"#46039f\"], [0.2222222222222222, \"#7201a8\"], [0.3333333333333333, \"#9c179e\"], [0.4444444444444444, \"#bd3786\"], [0.5555555555555556, \"#d8576b\"], [0.6666666666666666, \"#ed7953\"], [0.7777777777777778, \"#fb9f3a\"], [0.8888888888888888, \"#fdca26\"], [1.0, \"#f0f921\"]], \"type\": \"heatmap\"}], \"heatmapgl\": [{\"colorbar\": {\"outlinewidth\": 0, \"ticks\": \"\"}, \"colorscale\": [[0.0, \"#0d0887\"], [0.1111111111111111, \"#46039f\"], [0.2222222222222222, \"#7201a8\"], [0.3333333333333333, \"#9c179e\"], [0.4444444444444444, \"#bd3786\"], [0.5555555555555556, \"#d8576b\"], [0.6666666666666666, \"#ed7953\"], [0.7777777777777778, \"#fb9f3a\"], [0.8888888888888888, \"#fdca26\"], [1.0, \"#f0f921\"]], \"type\": \"heatmapgl\"}], \"histogram\": [{\"marker\": {\"colorbar\": {\"outlinewidth\": 0, \"ticks\": \"\"}}, \"type\": \"histogram\"}], \"histogram2d\": [{\"colorbar\": {\"outlinewidth\": 0, \"ticks\": \"\"}, \"colorscale\": [[0.0, \"#0d0887\"], [0.1111111111111111, \"#46039f\"], [0.2222222222222222, \"#7201a8\"], [0.3333333333333333, \"#9c179e\"], [0.4444444444444444, \"#bd3786\"], [0.5555555555555556, \"#d8576b\"], [0.6666666666666666, \"#ed7953\"], [0.7777777777777778, \"#fb9f3a\"], [0.8888888888888888, \"#fdca26\"], [1.0, \"#f0f921\"]], \"type\": \"histogram2d\"}], \"histogram2dcontour\": [{\"colorbar\": {\"outlinewidth\": 0, \"ticks\": \"\"}, \"colorscale\": [[0.0, \"#0d0887\"], [0.1111111111111111, \"#46039f\"], [0.2222222222222222, \"#7201a8\"], [0.3333333333333333, \"#9c179e\"], [0.4444444444444444, \"#bd3786\"], [0.5555555555555556, \"#d8576b\"], [0.6666666666666666, \"#ed7953\"], [0.7777777777777778, \"#fb9f3a\"], [0.8888888888888888, \"#fdca26\"], [1.0, \"#f0f921\"]], \"type\": \"histogram2dcontour\"}], \"mesh3d\": [{\"colorbar\": {\"outlinewidth\": 0, \"ticks\": \"\"}, \"type\": \"mesh3d\"}], \"parcoords\": [{\"line\": {\"colorbar\": {\"outlinewidth\": 0, \"ticks\": \"\"}}, \"type\": \"parcoords\"}], \"pie\": [{\"automargin\": true, \"type\": \"pie\"}], \"scatter\": [{\"marker\": {\"colorbar\": {\"outlinewidth\": 0, \"ticks\": \"\"}}, \"type\": \"scatter\"}], \"scatter3d\": [{\"line\": {\"colorbar\": {\"outlinewidth\": 0, \"ticks\": \"\"}}, \"marker\": {\"colorbar\": {\"outlinewidth\": 0, \"ticks\": \"\"}}, \"type\": \"scatter3d\"}], \"scattercarpet\": [{\"marker\": {\"colorbar\": {\"outlinewidth\": 0, \"ticks\": \"\"}}, \"type\": \"scattercarpet\"}], \"scattergeo\": [{\"marker\": {\"colorbar\": {\"outlinewidth\": 0, \"ticks\": \"\"}}, \"type\": \"scattergeo\"}], \"scattergl\": [{\"marker\": {\"colorbar\": {\"outlinewidth\": 0, \"ticks\": \"\"}}, \"type\": \"scattergl\"}], \"scattermapbox\": [{\"marker\": {\"colorbar\": {\"outlinewidth\": 0, \"ticks\": \"\"}}, \"type\": \"scattermapbox\"}], \"scatterpolar\": [{\"marker\": {\"colorbar\": {\"outlinewidth\": 0, \"ticks\": \"\"}}, \"type\": \"scatterpolar\"}], \"scatterpolargl\": [{\"marker\": {\"colorbar\": {\"outlinewidth\": 0, \"ticks\": \"\"}}, \"type\": \"scatterpolargl\"}], \"scatterternary\": [{\"marker\": {\"colorbar\": {\"outlinewidth\": 0, \"ticks\": \"\"}}, \"type\": \"scatterternary\"}], \"surface\": [{\"colorbar\": {\"outlinewidth\": 0, \"ticks\": \"\"}, \"colorscale\": [[0.0, \"#0d0887\"], [0.1111111111111111, \"#46039f\"], [0.2222222222222222, \"#7201a8\"], [0.3333333333333333, \"#9c179e\"], [0.4444444444444444, \"#bd3786\"], [0.5555555555555556, \"#d8576b\"], [0.6666666666666666, \"#ed7953\"], [0.7777777777777778, \"#fb9f3a\"], [0.8888888888888888, \"#fdca26\"], [1.0, \"#f0f921\"]], \"type\": \"surface\"}], \"table\": [{\"cells\": {\"fill\": {\"color\": \"#EBF0F8\"}, \"line\": {\"color\": \"white\"}}, \"header\": {\"fill\": {\"color\": \"#C8D4E3\"}, \"line\": {\"color\": \"white\"}}, \"type\": \"table\"}]}, \"layout\": {\"annotationdefaults\": {\"arrowcolor\": \"#2a3f5f\", \"arrowhead\": 0, \"arrowwidth\": 1}, \"autotypenumbers\": \"strict\", \"coloraxis\": {\"colorbar\": {\"outlinewidth\": 0, \"ticks\": \"\"}}, \"colorscale\": {\"diverging\": [[0, \"#8e0152\"], [0.1, \"#c51b7d\"], [0.2, \"#de77ae\"], [0.3, \"#f1b6da\"], [0.4, \"#fde0ef\"], [0.5, \"#f7f7f7\"], [0.6, \"#e6f5d0\"], [0.7, \"#b8e186\"], [0.8, \"#7fbc41\"], [0.9, \"#4d9221\"], [1, \"#276419\"]], \"sequential\": [[0.0, \"#0d0887\"], [0.1111111111111111, \"#46039f\"], [0.2222222222222222, \"#7201a8\"], [0.3333333333333333, \"#9c179e\"], [0.4444444444444444, \"#bd3786\"], [0.5555555555555556, \"#d8576b\"], [0.6666666666666666, \"#ed7953\"], [0.7777777777777778, \"#fb9f3a\"], [0.8888888888888888, \"#fdca26\"], [1.0, \"#f0f921\"]], \"sequentialminus\": [[0.0, \"#0d0887\"], [0.1111111111111111, \"#46039f\"], [0.2222222222222222, \"#7201a8\"], [0.3333333333333333, \"#9c179e\"], [0.4444444444444444, \"#bd3786\"], [0.5555555555555556, \"#d8576b\"], [0.6666666666666666, \"#ed7953\"], [0.7777777777777778, \"#fb9f3a\"], [0.8888888888888888, \"#fdca26\"], [1.0, \"#f0f921\"]]}, \"colorway\": [\"#636efa\", \"#EF553B\", \"#00cc96\", \"#ab63fa\", \"#FFA15A\", \"#19d3f3\", \"#FF6692\", \"#B6E880\", \"#FF97FF\", \"#FECB52\"], \"font\": {\"color\": \"#2a3f5f\"}, \"geo\": {\"bgcolor\": \"white\", \"lakecolor\": \"white\", \"landcolor\": \"#E5ECF6\", \"showlakes\": true, \"showland\": true, \"subunitcolor\": \"white\"}, \"hoverlabel\": {\"align\": \"left\"}, \"hovermode\": \"closest\", \"mapbox\": {\"style\": \"light\"}, \"paper_bgcolor\": \"white\", \"plot_bgcolor\": \"#E5ECF6\", \"polar\": {\"angularaxis\": {\"gridcolor\": \"white\", \"linecolor\": \"white\", \"ticks\": \"\"}, \"bgcolor\": \"#E5ECF6\", \"radialaxis\": {\"gridcolor\": \"white\", \"linecolor\": \"white\", \"ticks\": \"\"}}, \"scene\": {\"xaxis\": {\"backgroundcolor\": \"#E5ECF6\", \"gridcolor\": \"white\", \"gridwidth\": 2, \"linecolor\": \"white\", \"showbackground\": true, \"ticks\": \"\", \"zerolinecolor\": \"white\"}, \"yaxis\": {\"backgroundcolor\": \"#E5ECF6\", \"gridcolor\": \"white\", \"gridwidth\": 2, \"linecolor\": \"white\", \"showbackground\": true, \"ticks\": \"\", \"zerolinecolor\": \"white\"}, \"zaxis\": {\"backgroundcolor\": \"#E5ECF6\", \"gridcolor\": \"white\", \"gridwidth\": 2, \"linecolor\": \"white\", \"showbackground\": true, \"ticks\": \"\", \"zerolinecolor\": \"white\"}}, \"shapedefaults\": {\"line\": {\"color\": \"#2a3f5f\"}}, \"ternary\": {\"aaxis\": {\"gridcolor\": \"white\", \"linecolor\": \"white\", \"ticks\": \"\"}, \"baxis\": {\"gridcolor\": \"white\", \"linecolor\": \"white\", \"ticks\": \"\"}, \"bgcolor\": \"#E5ECF6\", \"caxis\": {\"gridcolor\": \"white\", \"linecolor\": \"white\", \"ticks\": \"\"}}, \"title\": {\"x\": 0.05}, \"xaxis\": {\"automargin\": true, \"gridcolor\": \"white\", \"linecolor\": \"white\", \"ticks\": \"\", \"title\": {\"standoff\": 15}, \"zerolinecolor\": \"white\", \"zerolinewidth\": 2}, \"yaxis\": {\"automargin\": true, \"gridcolor\": \"white\", \"linecolor\": \"white\", \"ticks\": \"\", \"title\": {\"standoff\": 15}, \"zerolinecolor\": \"white\", \"zerolinewidth\": 2}}}, \"title\": {\"text\": \"\", \"x\": 0.5}, \"width\": 950, \"xaxis\": {\"gridcolor\": \"#E1E5ED\", \"showgrid\": true, \"tickfont\": {\"color\": \"#4D5663\"}, \"tickformat\": \"\", \"tickprefix\": \"\", \"ticksuffix\": \"\", \"title\": {\"font\": {\"color\": \"#4D5663\"}, \"text\": \"\"}, \"zerolinecolor\": \"#E1E5ED\"}, \"yaxis\": {\"gridcolor\": \"#E1E5ED\", \"showgrid\": true, \"tickfont\": {\"color\": \"#4D5663\"}, \"tickformat\": \"\", \"tickprefix\": \"\", \"ticksuffix\": \"%\", \"title\": {\"text\": \"\"}, \"zerolinecolor\": \"#E1E5ED\"}},                        {\"responsive\": true}                    ).then(function(){\n                            \nvar gd = document.getElementById('ee5df026-dbdd-4cbc-9b2a-c83a4458850f');\nvar x = new MutationObserver(function (mutations, observer) {{\n        var display = window.getComputedStyle(gd).display;\n        if (!display || display === 'none') {{\n            console.log([gd, 'removed!']);\n            Plotly.purge(gd);\n            observer.disconnect();\n        }}\n}});\n\n// Listen for the removal of the full notebook cells\nvar notebookContainer = gd.closest('#notebook-container');\nif (notebookContainer) {{\n    x.observe(notebookContainer, {childList: true});\n}}\n\n// Listen for the clearing of the current output cell\nvar outputEl = gd.closest('.output');\nif (outputEl) {{\n    x.observe(outputEl, {childList: true});\n}}\n\n                        })                };                            </script>        </div>\n</body>\n</html>"
          },
          "metadata": {}
        }
      ]
    },
    {
      "cell_type": "code",
      "metadata": {
        "id": "HXrH2afbwNJR"
      },
      "source": [
        "pl.compute_performance_table(PFF)"
      ],
      "execution_count": 37,
      "outputs": [
        {
          "output_type": "display_data",
          "data": {
            "text/plain": "<IPython.core.display.Markdown object>",
            "text/markdown": "**Performance from 2010-01-04 to 2018-12-31 (≈ 9.0 years)**"
          },
          "metadata": {}
        },
        {
          "output_type": "execute_result",
          "data": {
            "text/plain": [
              "      CAGR  Return StdDev  Sharpe   Max DD  MAR\n",
              "PFF  5.46%  61.31%  7.59%    0.72  -15.18% 0.36"
            ],
            "text/html": "<div>\n<style scoped>\n    .dataframe tbody tr th:only-of-type {\n        vertical-align: middle;\n    }\n\n    .dataframe tbody tr th {\n        vertical-align: top;\n    }\n\n    .dataframe thead th {\n        text-align: right;\n    }\n</style>\n<table border=\"1\" class=\"dataframe\">\n  <thead>\n    <tr style=\"text-align: right;\">\n      <th></th>\n      <th>CAGR</th>\n      <th>Return</th>\n      <th>StdDev</th>\n      <th>Sharpe</th>\n      <th>Max DD</th>\n      <th>MAR</th>\n    </tr>\n  </thead>\n  <tbody>\n    <tr>\n      <th>PFF</th>\n      <td>5.46%</td>\n      <td>61.31%</td>\n      <td>7.59%</td>\n      <td>0.72</td>\n      <td>-15.18%</td>\n      <td>0.36</td>\n    </tr>\n  </tbody>\n</table>\n</div>"
          },
          "metadata": {},
          "execution_count": 37
        }
      ]
    },
    {
      "cell_type": "code",
      "metadata": {
        "id": "X9nmIxDvwR_h"
      },
      "source": [
        "# PFF.index = pd.to_datetime(PFF.index)\n",
        "# pl.compute_yearly_returns(PFF, style='chart');"
      ],
      "execution_count": 38,
      "outputs": []
    },
    {
      "cell_type": "code",
      "metadata": {
        "id": "-LfsVBrVwXLd"
      },
      "source": [
        "init = 100000\n",
        "ref = 30000\n",
        "tx = 0.05\n",
        "years = 15"
      ],
      "execution_count": 39,
      "outputs": []
    },
    {
      "cell_type": "code",
      "metadata": {
        "id": "5BPTdGAd7WnD"
      },
      "source": [
        "%time\n",
        "for tx in np.arange(0.0, 0.2, 0.0001):\n",
        "    value = init\n",
        "    for i in range(1, 16):\n",
        "        # print(i)\n",
        "        value = value * ((1 + tx)) + ref\n",
        "    if value > 1000000:\n",
        "        print(tx)\n",
        "        break"
      ],
      "execution_count": 40,
      "outputs": [
        {
          "output_type": "stream",
          "name": "stdout",
          "text": [
            "Wall time: 0 ns\n0.0669\n"
          ]
        }
      ]
    },
    {
      "cell_type": "code",
      "metadata": {
        "id": "KxFx6WrfIpZR"
      },
      "source": [
        "init = 100000\n",
        "ref = 30000\n",
        "years = 15\n",
        "tx= 0.0668\n",
        "\n",
        "value = init\n",
        "\n",
        "for i in range(1, 16):\n",
        "    # print(i)\n",
        "    value = value * ((1 + tx)) + ref\n",
        "\n",
        "print(value)"
      ],
      "execution_count": 41,
      "outputs": [
        {
          "output_type": "stream",
          "name": "stdout",
          "text": [
            "999329.7324495681\n"
          ]
        }
      ]
    },
    {
      "cell_type": "code",
      "metadata": {
        "id": "IakvlxKuD8Yg"
      },
      "source": [
        "CF = 1000000\n",
        "PV = 100000\n",
        "N = 15"
      ],
      "execution_count": 42,
      "outputs": []
    },
    {
      "cell_type": "code",
      "metadata": {
        "id": "0nF3iFGn_kGl"
      },
      "source": [
        "((FCF/PV)**(1/N))-1"
      ],
      "execution_count": 43,
      "outputs": [
        {
          "output_type": "error",
          "ename": "NameError",
          "evalue": "name 'FCF' is not defined",
          "traceback": [
            "\u001b[1;31m---------------------------------------------------------------------------\u001b[0m",
            "\u001b[1;31mNameError\u001b[0m                                 Traceback (most recent call last)",
            "\u001b[1;32m<ipython-input-43-9f003f97253e>\u001b[0m in \u001b[0;36m<module>\u001b[1;34m\u001b[0m\n\u001b[1;32m----> 1\u001b[1;33m \u001b[1;33m(\u001b[0m\u001b[1;33m(\u001b[0m\u001b[0mFCF\u001b[0m\u001b[1;33m/\u001b[0m\u001b[0mPV\u001b[0m\u001b[1;33m)\u001b[0m\u001b[1;33m**\u001b[0m\u001b[1;33m(\u001b[0m\u001b[1;36m1\u001b[0m\u001b[1;33m/\u001b[0m\u001b[0mN\u001b[0m\u001b[1;33m)\u001b[0m\u001b[1;33m)\u001b[0m\u001b[1;33m-\u001b[0m\u001b[1;36m1\u001b[0m\u001b[1;33m\u001b[0m\u001b[1;33m\u001b[0m\u001b[0m\n\u001b[0m",
            "\u001b[1;31mNameError\u001b[0m: name 'FCF' is not defined"
          ]
        }
      ]
    },
    {
      "cell_type": "code",
      "metadata": {
        "id": "xH36V_OWEI98"
      },
      "source": [
        "value = 100000  * ((1 + tx)) + 30000"
      ],
      "execution_count": null,
      "outputs": []
    },
    {
      "cell_type": "code",
      "metadata": {
        "id": "s0heMdl9GW1_"
      },
      "source": [],
      "execution_count": null,
      "outputs": []
    },
    {
      "cell_type": "code",
      "execution_count": null,
      "metadata": {},
      "outputs": [],
      "source": []
    }
  ]
}
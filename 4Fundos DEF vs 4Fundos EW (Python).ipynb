{
 "cells": [
  {
   "cell_type": "markdown",
   "metadata": {},
   "source": [
    "A Carteira 4Fundos DEF é composta por:\n",
    "\n",
    "    * 15% Fidelity Global Cnsmr Inds A-Dis-EUR LU0114721508\n",
    "    * 15% GS Glb SmCp CORE® Eq E EUR Acc Close LU0245181838\n",
    "    * 15% M&G Optimal Income Euro A-H Acc GB00B1VMCY93\n",
    "    * 55% PIMCO GIS Global Bond E Acc EUR H IE00B11XZ103\n",
    "\n",
    "A Carteira 4Fundos EW é composta por:\n",
    "\n",
    "    * 25% Fidelity Global Cnsmr Inds A-Dis-EUR LU0114721508\n",
    "    * 25% GS Glb SmCp CORE® Eq E EUR Acc Close LU0245181838\n",
    "    * 25% M&G Optimal Income Euro A-H Acc GB00B1VMCY93\n",
    "    * 25% PIMCO GIS Global Bond E Acc EUR H IE00B11XZ103"
   ]
  },
  {
   "cell_type": "code",
   "execution_count": 1,
   "metadata": {},
   "outputs": [
    {
     "ename": "ImportError",
     "evalue": "\nThe plotly.plotly module is deprecated,\nplease install the chart-studio package and use the\nchart_studio.plotly module instead. \n",
     "output_type": "error",
     "traceback": [
      "\u001b[1;31m---------------------------------------------------------------------------\u001b[0m",
      "\u001b[1;31mImportError\u001b[0m                               Traceback (most recent call last)",
      "\u001b[1;32m<ipython-input-1-d23f70796b0f>\u001b[0m in \u001b[0;36m<module>\u001b[1;34m\u001b[0m\n\u001b[0;32m      5\u001b[0m \u001b[1;32mimport\u001b[0m \u001b[0mseaborn\u001b[0m \u001b[1;32mas\u001b[0m \u001b[0msns\u001b[0m\u001b[1;33m\u001b[0m\u001b[1;33m\u001b[0m\u001b[0m\n\u001b[0;32m      6\u001b[0m \u001b[1;32mimport\u001b[0m \u001b[0mtime\u001b[0m\u001b[1;33m\u001b[0m\u001b[1;33m\u001b[0m\u001b[0m\n\u001b[1;32m----> 7\u001b[1;33m \u001b[1;32mimport\u001b[0m \u001b[0mplotly\u001b[0m\u001b[1;33m.\u001b[0m\u001b[0mplotly\u001b[0m \u001b[1;32mas\u001b[0m \u001b[0mpy\u001b[0m\u001b[1;33m\u001b[0m\u001b[1;33m\u001b[0m\u001b[0m\n\u001b[0m\u001b[0;32m      8\u001b[0m \u001b[1;32mimport\u001b[0m \u001b[0mplotly\u001b[0m\u001b[1;33m\u001b[0m\u001b[1;33m\u001b[0m\u001b[0m\n\u001b[0;32m      9\u001b[0m \u001b[1;33m\u001b[0m\u001b[0m\n",
      "\u001b[1;32m~\\Anaconda3\\lib\\site-packages\\plotly\\plotly\\__init__.py\u001b[0m in \u001b[0;36m<module>\u001b[1;34m\u001b[0m\n\u001b[0;32m      2\u001b[0m \u001b[1;32mfrom\u001b[0m \u001b[0m_plotly_future_\u001b[0m \u001b[1;32mimport\u001b[0m \u001b[0m_chart_studio_error\u001b[0m\u001b[1;33m\u001b[0m\u001b[1;33m\u001b[0m\u001b[0m\n\u001b[0;32m      3\u001b[0m \u001b[1;33m\u001b[0m\u001b[0m\n\u001b[1;32m----> 4\u001b[1;33m \u001b[0m_chart_studio_error\u001b[0m\u001b[1;33m(\u001b[0m\u001b[1;34m\"plotly\"\u001b[0m\u001b[1;33m)\u001b[0m\u001b[1;33m\u001b[0m\u001b[1;33m\u001b[0m\u001b[0m\n\u001b[0m",
      "\u001b[1;32m~\\Anaconda3\\lib\\site-packages\\_plotly_future_\\__init__.py\u001b[0m in \u001b[0;36m_chart_studio_error\u001b[1;34m(submodule)\u001b[0m\n\u001b[0;32m     47\u001b[0m \u001b[0mchart_studio\u001b[0m\u001b[1;33m.\u001b[0m\u001b[1;33m{\u001b[0m\u001b[0msubmodule\u001b[0m\u001b[1;33m}\u001b[0m \u001b[0mmodule\u001b[0m \u001b[0minstead\u001b[0m\u001b[1;33m.\u001b[0m\u001b[1;33m\u001b[0m\u001b[1;33m\u001b[0m\u001b[0m\n\u001b[0;32m     48\u001b[0m \"\"\".format(\n\u001b[1;32m---> 49\u001b[1;33m             \u001b[0msubmodule\u001b[0m\u001b[1;33m=\u001b[0m\u001b[0msubmodule\u001b[0m\u001b[1;33m\u001b[0m\u001b[1;33m\u001b[0m\u001b[0m\n\u001b[0m\u001b[0;32m     50\u001b[0m         )\n\u001b[0;32m     51\u001b[0m     )\n",
      "\u001b[1;31mImportError\u001b[0m: \nThe plotly.plotly module is deprecated,\nplease install the chart-studio package and use the\nchart_studio.plotly module instead. \n"
     ]
    }
   ],
   "source": [
    "# importing libraries\n",
    "import numpy as np\n",
    "import pandas as pd\n",
    "import matplotlib.pyplot as plt\n",
    "import seaborn as sns\n",
    "import time\n",
    "import plotly.plotly as py\n",
    "import plotly\n",
    "\n",
    "from matplotlib.ticker import FuncFormatter\n",
    "from pandas.tseries.offsets import BDay\n",
    "from plotly.offline import download_plotlyjs, init_notebook_mode, plot, iplot\n",
    "\n",
    "# Setting pandas dataframe display options\n",
    "pd.set_option('display.width', 800)\n",
    "pd.set_option('max_colwidth', 800)\n",
    "pd.set_option(\"display.max_rows\", 20)\n",
    "\n",
    "# Set matplotlib style\n",
    "plt.style.use('seaborn')\n",
    "\n",
    "# Set plotly offline\n",
    "init_notebook_mode(connected=True)"
   ]
  },
  {
   "cell_type": "code",
   "execution_count": null,
   "metadata": {},
   "outputs": [],
   "source": [
    "%%capture\n",
    "import cufflinks as cf\n",
    "cf.go_offline()"
   ]
  },
  {
   "cell_type": "code",
   "execution_count": null,
   "metadata": {},
   "outputs": [],
   "source": [
    "#### Functions ####\n",
    "def compute_drawdowns(dataframe):\n",
    "    \"\"\"\n",
    "    Function to compute drawdowns of a timeseries\n",
    "    \"\"\"\n",
    "    return (dataframe / dataframe.cummax() -1) * 100"
   ]
  },
  {
   "cell_type": "code",
   "execution_count": null,
   "metadata": {},
   "outputs": [],
   "source": [
    "# Downloading funds and creating quotes and returns dataframes\n",
    "Begin = \"2015-01-02\"\n",
    "# End = '2017-08-20' # Só activas se quiseres que acabe num dia especifíco \n",
    "\n",
    "MSid = ['F0GBR04EAN', 'F000000FH0', 'F0000007LD', \"F0GBR06T61\"]\n",
    "Nomes = ['FCI','GS_SC', 'MG_OI', 'PimcoGB']\n",
    "fundos = pd.DataFrame()\n",
    "\n",
    "# Conversão de datetime\n",
    "conv = time.strptime(Begin,\"%Y-%m-%d\") \n",
    "start_date = time.strftime(\"%m/%d/%Y\",conv)\n",
    "\n",
    "# Download\n",
    "for ticker in MSid:\n",
    "    url = \"https://lt.morningstar.com/api/rest.svc/timeseries_price/okhysb8aoh?id=\" + str(ticker) + \"&currencyId=BAS&idtype=Morningstar&frequency=daily&startDate=\" + start_date + \"&outputType=CSV\"\n",
    "    fundo = pd.read_csv(url, sep = \";\" , index_col = 'date', parse_dates = True)\n",
    "    fundo =  fundo.drop('Unnamed: 2', 1)\n",
    "    fundos = fundos.merge(fundo, left_index = True, right_index = True, how='outer')\n",
    "    \n",
    "fundos.columns = Nomes\n",
    "fundos = fundos.fillna(method='ffill')\n",
    "\n",
    "# Filtering dataframe from Begin to END\n",
    "# fundos = fundos.loc[:End] # Só activas se quiseres que acabe num dia especifíco"
   ]
  },
  {
   "cell_type": "code",
   "execution_count": null,
   "metadata": {},
   "outputs": [],
   "source": [
    "#### Normalization to 100 ####\n",
    "fundos_norm = fundos.div(fundos.iloc[0]).mul(100)"
   ]
  },
  {
   "cell_type": "code",
   "execution_count": null,
   "metadata": {},
   "outputs": [],
   "source": [
    "fundos_norm.iplot(kind='scatter',yTitle='Valor por cada 100€ investidos', title='Performance dos fundos')"
   ]
  },
  {
   "cell_type": "code",
   "execution_count": null,
   "metadata": {},
   "outputs": [],
   "source": [
    "### weights ####\n",
    "weights1 = np.array([0.15, 0.15, 0.15, 0.55])\n",
    "weights2 = np.array([0.25, 0.25, 0.25, 0.25])\n",
    "\n",
    "#### Fazer um dataframe vazio ####\n",
    "novos_portfolios = fundos.copy().drop(fundos[:len(fundos.columns) - 1], axis=1)\n",
    "\n",
    "### Calculate Portfolio value with linear algebra ####\n",
    "novos_portfolios['4Fundos DEF'] = np.dot(fundos_norm, weights1) # weights1 * quotes1\n",
    "novos_portfolios['4Fundos EW']  = np.dot(fundos_norm, weights2) # weights2 * quotes2"
   ]
  },
  {
   "cell_type": "code",
   "execution_count": null,
   "metadata": {},
   "outputs": [],
   "source": [
    "novos_portfolios.iplot(kind='scatter',yTitle='Valor por cada 100€ investidos', title='4Fundos DEF vs 4Fundos EW')"
   ]
  },
  {
   "cell_type": "code",
   "execution_count": null,
   "metadata": {},
   "outputs": [],
   "source": [
    "#### Computing Drawdowns ####\n",
    "DD = round(compute_drawdowns(novos_portfolios), 2)\n",
    "\n",
    "DD.iplot(kind='scatter', title='Drawdown dos portfolios', yTitle='Percentagem')"
   ]
  },
  {
   "cell_type": "code",
   "execution_count": null,
   "metadata": {},
   "outputs": [],
   "source": [
    "#### Returns ####\n",
    "returns = novos_portfolios.pct_change()"
   ]
  },
  {
   "cell_type": "code",
   "execution_count": null,
   "metadata": {},
   "outputs": [],
   "source": [
    "##### Correlation (bonus: Seaborn heatmap)####\n",
    "Pcorr_matrix = returns.corr()\n",
    "\n",
    "# Normal heatmap\n",
    "fig, ax = plt.subplots()\n",
    "fig.set_size_inches(4, 3) # 68%\n",
    "sns.heatmap(Pcorr_matrix, annot = True, cmap = \"coolwarm\", linewidths=.2, vmin = -0.5)\n",
    "plt.yticks(rotation=360)\n",
    "plt.title('Correlation Matrix')\n",
    "plt.show()"
   ]
  },
  {
   "cell_type": "code",
   "execution_count": null,
   "metadata": {},
   "outputs": [],
   "source": [
    "# Resampling to yearly (business year)\n",
    "yearly_quotes = novos_portfolios.resample('BA').last()\n",
    "\n",
    "# Adding first quote (only if start is in the middle of the year)\n",
    "yearly_quotes = pd.concat([novos_portfolios.first('D'), yearly_quotes])\n",
    "\n",
    "# Returns ### Falta trabalho para automatizar #####\n",
    "yearly_returns = yearly_quotes.pct_change().mul(100).transpose().iloc[:, 1:]\n",
    "yearly_returns.columns = [np.arange(2015, 2018)]\n",
    "\n",
    "# Yearly returns heatmap\n",
    "fig, ax = plt.subplots()\n",
    "fig.set_size_inches(5, 3) # 68%\n",
    "heatmap = sns.heatmap(yearly_returns, annot=True, cmap=\"RdYlGn\", linewidths=.2, fmt=\".2f\", cbar=False, center=0)\n",
    "for t in heatmap.texts: t.set_text(t.get_text() + \"%\")\n",
    "plt.title('Yearly Returns')\n",
    "plt.yticks(rotation=360)\n",
    "plt.show()"
   ]
  },
  {
   "cell_type": "markdown",
   "metadata": {},
   "source": [
    "** Notes: ** Portfolios without rebalancing"
   ]
  },
  {
   "cell_type": "code",
   "execution_count": null,
   "metadata": {
    "collapsed": true,
    "jupyter": {
     "outputs_hidden": true
    }
   },
   "outputs": [],
   "source": []
  }
 ],
 "metadata": {
  "kernelspec": {
   "display_name": "Python 3",
   "language": "python",
   "name": "python3"
  },
  "language_info": {
   "codemirror_mode": {
    "name": "ipython",
    "version": 3
   },
   "file_extension": ".py",
   "mimetype": "text/x-python",
   "name": "python",
   "nbconvert_exporter": "python",
   "pygments_lexer": "ipython3",
   "version": "3.8.3"
  }
 },
 "nbformat": 4,
 "nbformat_minor": 4
}

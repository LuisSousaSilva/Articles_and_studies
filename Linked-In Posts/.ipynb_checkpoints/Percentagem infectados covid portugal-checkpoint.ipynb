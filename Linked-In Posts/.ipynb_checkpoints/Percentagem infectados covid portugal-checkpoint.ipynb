{
 "cells": [
  {
   "cell_type": "code",
   "execution_count": 17,
   "metadata": {
    "id": "ZK9wOWFhMFr8"
   },
   "outputs": [],
   "source": [
    "import pandas as pd\r\n",
    "import PortfolioLab as pl"
   ]
  },
  {
   "cell_type": "code",
   "execution_count": null,
   "metadata": {
    "id": "Ze_sdg4_KcoP"
   },
   "outputs": [],
   "source": [
    "data = pd.read_csv('https://covid.ourworldindata.org/data/owid-covid-data.csv',\r\n",
    "                   index_col='date', parse_dates=True)"
   ]
  },
  {
   "cell_type": "code",
   "execution_count": null,
   "metadata": {
    "id": "yrF_i6KbKk8x"
   },
   "outputs": [],
   "source": [
    "infections_portugal = data[data['location']=='Portugal'][['total_cases', 'population']].dropna()"
   ]
  },
  {
   "cell_type": "code",
   "execution_count": null,
   "metadata": {
    "id": "cB0HlgYtKtnO"
   },
   "outputs": [],
   "source": [
    "infections_portugal['Percentage'] = (infections_portugal['total_cases'] / infections_portugal['population']) *100"
   ]
  },
  {
   "cell_type": "code",
   "execution_count": null,
   "metadata": {
    "colab": {
     "base_uri": "https://localhost:8080/",
     "height": 517
    },
    "id": "W1ysroxELdpO",
    "outputId": "6571dbf2-dc2d-4723-f9ff-f9b683c4b952"
   },
   "outputs": [],
   "source": [
    "pl.ichart(round(infections_portugal[['Percentage']], 2), yticksuffix= \"%\", showlegend=False,\r\n",
    "          title='Percentagem de portugueses que já esteve infectado com Covid 19')"
   ]
  },
  {
   "cell_type": "code",
   "execution_count": null,
   "metadata": {
    "colab": {
     "base_uri": "https://localhost:8080/",
     "height": 38
    },
    "id": "RWw2D5O3LnYl",
    "outputId": "88aa9804-93c8-428e-feb3-b8c70e309a8a"
   },
   "outputs": [],
   "source": [
    "from IPython.display import display\r\n",
    "from IPython.display import HTML\r\n",
    "import IPython.core.display as di # Example: di.display_html('<h3>%s:</h3>' % str, raw=True)\r\n",
    "\r\n",
    "# This line will hide code by default when the notebook is exported as HTML\r\n",
    "di.display_html('<script>jQuery(function() {if (jQuery(\"body.notebook_app\").length == 0) { jQuery(\".input_area\").toggle(); jQuery(\".prompt\").toggle();}});</script>', raw=True)\r\n",
    "\r\n",
    "# This line will add a button to toggle visibility of code blocks, for use with the HTML export version\r\n",
    "di.display_html('''<button onclick=\"jQuery('.input_area').toggle(); jQuery('.prompt').toggle();\">Código ON/OFF</button>''', raw=True)"
   ]
  },
  {
   "cell_type": "code",
   "execution_count": null,
   "metadata": {
    "id": "OoQOynvCNaV4"
   },
   "outputs": [],
   "source": []
  }
 ],
 "metadata": {
  "colab": {
   "collapsed_sections": [],
   "name": "Percentagem_infectados_covid_portugal.ipynb",
   "provenance": []
  },
  "kernelspec": {
   "display_name": "Python 3",
   "language": "python",
   "name": "python3"
  },
  "language_info": {
   "codemirror_mode": {
    "name": "ipython",
    "version": 3
   },
   "file_extension": ".py",
   "mimetype": "text/x-python",
   "name": "python",
   "nbconvert_exporter": "python",
   "pygments_lexer": "ipython3",
   "version": "3.8.3"
  }
 },
 "nbformat": 4,
 "nbformat_minor": 4
}

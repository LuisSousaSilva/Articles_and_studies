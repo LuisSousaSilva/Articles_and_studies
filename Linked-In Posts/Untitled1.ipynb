{
 "cells": [
  {
   "cell_type": "code",
   "execution_count": 4,
   "metadata": {},
   "outputs": [],
   "source": [
    "import wolframalpha"
   ]
  },
  {
   "cell_type": "code",
   "execution_count": 22,
   "metadata": {},
   "outputs": [
    {
     "name": "stdin",
     "output_type": "stream",
     "text": [
      "Question:  Portugal GDP per capita\n"
     ]
    },
    {
     "name": "stdout",
     "output_type": "stream",
     "text": [
      "$23145 per year per person (world rank: 57th) (2019 estimate)\n"
     ]
    }
   ],
   "source": [
    "# Taking input from user \n",
    "question = input('Question: ') \n",
    "  \n",
    "# App id obtained by the above steps \n",
    "app_id = '74ATQQ-WX764PT8Q9' \n",
    "  \n",
    "# Instance of wolf ram alpha  \n",
    "# client class \n",
    "client = wolframalpha.Client(app_id) \n",
    "  \n",
    "# Stores the response from  \n",
    "# wolf ram alpha \n",
    "res = client.query(question) \n",
    "  \n",
    "# Includes only text from the response \n",
    "answer = next(res.results).text \n",
    "  \n",
    "print(answer) "
   ]
  },
  {
   "cell_type": "code",
   "execution_count": 23,
   "metadata": {},
   "outputs": [
    {
     "data": {
      "text/plain": [
       "<generator object Result.results.<locals>.<genexpr> at 0x000001FBB15FFBA0>"
      ]
     },
     "execution_count": 23,
     "metadata": {},
     "output_type": "execute_result"
    }
   ],
   "source": [
    "res.results"
   ]
  },
  {
   "cell_type": "code",
   "execution_count": null,
   "metadata": {},
   "outputs": [],
   "source": []
  }
 ],
 "metadata": {
  "kernelspec": {
   "display_name": "Python 3",
   "language": "python",
   "name": "python3"
  },
  "language_info": {
   "codemirror_mode": {
    "name": "ipython",
    "version": 3
   },
   "file_extension": ".py",
   "mimetype": "text/x-python",
   "name": "python",
   "nbconvert_exporter": "python",
   "pygments_lexer": "ipython3",
   "version": "3.8.3"
  }
 },
 "nbformat": 4,
 "nbformat_minor": 4
}

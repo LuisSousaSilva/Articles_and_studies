{
 "cells": [
  {
   "cell_type": "code",
   "execution_count": 1,
   "metadata": {},
   "outputs": [
    {
     "data": {
      "text/html": [
       "        <script type=\"text/javascript\">\n",
       "        window.PlotlyConfig = {MathJaxConfig: 'local'};\n",
       "        if (window.MathJax) {MathJax.Hub.Config({SVG: {font: \"STIX-Web\"}});}\n",
       "        if (typeof require !== 'undefined') {\n",
       "        require.undef(\"plotly\");\n",
       "        requirejs.config({\n",
       "            paths: {\n",
       "                'plotly': ['https://cdn.plot.ly/plotly-latest.min']\n",
       "            }\n",
       "        });\n",
       "        require(['plotly'], function(Plotly) {\n",
       "            window._Plotly = Plotly;\n",
       "        });\n",
       "        }\n",
       "        </script>\n",
       "        "
      ]
     },
     "metadata": {},
     "output_type": "display_data"
    },
    {
     "data": {
      "text/html": [
       "        <script type=\"text/javascript\">\n",
       "        window.PlotlyConfig = {MathJaxConfig: 'local'};\n",
       "        if (window.MathJax) {MathJax.Hub.Config({SVG: {font: \"STIX-Web\"}});}\n",
       "        if (typeof require !== 'undefined') {\n",
       "        require.undef(\"plotly\");\n",
       "        requirejs.config({\n",
       "            paths: {\n",
       "                'plotly': ['https://cdn.plot.ly/plotly-latest.min']\n",
       "            }\n",
       "        });\n",
       "        require(['plotly'], function(Plotly) {\n",
       "            window._Plotly = Plotly;\n",
       "        });\n",
       "        }\n",
       "        </script>\n",
       "        "
      ]
     },
     "metadata": {},
     "output_type": "display_data"
    },
    {
     "data": {
      "text/html": [
       "        <script type=\"text/javascript\">\n",
       "        window.PlotlyConfig = {MathJaxConfig: 'local'};\n",
       "        if (window.MathJax) {MathJax.Hub.Config({SVG: {font: \"STIX-Web\"}});}\n",
       "        if (typeof require !== 'undefined') {\n",
       "        require.undef(\"plotly\");\n",
       "        requirejs.config({\n",
       "            paths: {\n",
       "                'plotly': ['https://cdn.plot.ly/plotly-latest.min']\n",
       "            }\n",
       "        });\n",
       "        require(['plotly'], function(Plotly) {\n",
       "            window._Plotly = Plotly;\n",
       "        });\n",
       "        }\n",
       "        </script>\n",
       "        "
      ]
     },
     "metadata": {},
     "output_type": "display_data"
    },
    {
     "ename": "AttributeError",
     "evalue": "module 'PortfolioLab' has no attribute 'read_xlsl_MSCI'",
     "output_type": "error",
     "traceback": [
      "\u001b[1;31m---------------------------------------------------------------------------\u001b[0m",
      "\u001b[1;31mAttributeError\u001b[0m                            Traceback (most recent call last)",
      "\u001b[1;32m<ipython-input-1-213b8cb575f6>\u001b[0m in \u001b[0;36m<module>\u001b[1;34m\u001b[0m\n\u001b[0;32m      8\u001b[0m \u001b[1;33m\u001b[0m\u001b[0m\n\u001b[0;32m      9\u001b[0m \u001b[1;31m### Nova célula ###\u001b[0m\u001b[1;33m\u001b[0m\u001b[1;33m\u001b[0m\u001b[1;33m\u001b[0m\u001b[0m\n\u001b[1;32m---> 10\u001b[1;33m MSCIs = pl.read_xlsl_MSCI(tickers=['MSCI_World_EUR', 'MSCI_EM_EUR'], \n\u001b[0m\u001b[0;32m     11\u001b[0m                           nomes=['World €', 'EM €'])\n\u001b[0;32m     12\u001b[0m \u001b[1;33m\u001b[0m\u001b[0m\n",
      "\u001b[1;31mAttributeError\u001b[0m: module 'PortfolioLab' has no attribute 'read_xlsl_MSCI'"
     ]
    }
   ],
   "source": [
    "# Import libraries\n",
    "import PortfolioLab as pl\n",
    "import cufflinks as cf\n",
    "import pandas as pd\n",
    "\n",
    "# Set cufflinks offline\n",
    "cf.go_offline()\n",
    "\n",
    "### Nova célula ###\n",
    "MSCIs = pl.read_xls_MSCI(tickers=['MSCI_World_EUR', 'MSCI_EM_EUR'], \n",
    "                          nomes=['World €', 'EM €'])\n",
    "\n",
    "### Nova célula ###\n",
    "MSCIs.iplot(dimensions=pl.dimensions,\n",
    "            title= 'MSCI World € vs MSCI EM €',\n",
    "            yTitle='Valorização por cada 100 €uros investidos')\n",
    "\n",
    "### Nova célula ###\n",
    "DD = pl.compute_drawdowns(MSCIs)\n",
    "DD.iplot(dimensions=pl.dimensions)\n",
    "\n",
    "### Nova célula ###\n",
    "# Compute Performance table\n",
    "pl.compute_performance_table(MSCIs, freq='months')"
   ]
  },
  {
   "cell_type": "markdown",
   "metadata": {},
   "source": [
    "# Parte nova"
   ]
  },
  {
   "cell_type": "markdown",
   "metadata": {},
   "source": [
    "Neste post vamos calcular retornos por anos civis. Algo que não é mais do que uma simples função: compute_yearly_returns()\n",
    "\n",
    "A função tem as seguintes opções. A normal start e end, que são úteis para fazer mais que um quadro quando são muitos anos **e** a função style. A função style pode ser \"table\" (que é a que está por defeito) ou chart. Caso a opção chart seja escolhida um gráfico seaborn heatmap colorido é feito, em vez do quadro \"normal\"."
   ]
  },
  {
   "cell_type": "code",
   "execution_count": null,
   "metadata": {},
   "outputs": [],
   "source": [
    "returns_until_2008 = pl.compute_yearly_returns(MSCIs, end='2008', title='Yearly Returns from 1998 to 2008')\n",
    "returns_until_2008"
   ]
  },
  {
   "cell_type": "code",
   "execution_count": null,
   "metadata": {},
   "outputs": [],
   "source": [
    "returns_after_2008 = pl.compute_yearly_returns(MSCIs, start='2009', title='Yearly Returns since 2009')\n",
    "returns_after_2008"
   ]
  },
  {
   "cell_type": "code",
   "execution_count": null,
   "metadata": {},
   "outputs": [],
   "source": [
    "returns_until_2008 = pl.compute_yearly_returns(MSCIs, style='chart', end='2008', title='Yearly Returns from 1998 to 2008')\n",
    "returns_until_2008;"
   ]
  },
  {
   "cell_type": "code",
   "execution_count": null,
   "metadata": {},
   "outputs": [],
   "source": [
    "returns_after_2008 = pl.compute_yearly_returns(MSCIs, style='chart', start='2009', title='Yearly Returns since 2009')\n",
    "returns_after_2008;"
   ]
  },
  {
   "cell_type": "markdown",
   "metadata": {},
   "source": [
    "As opções não se ficam por aqui. Podem escolher números coloridos na tabela com a opção **color=True** e por último a opção **style='string'**, que é a ideal para gravar em ficheiro .CSV e ser lido por outro software como R por exemplo."
   ]
  },
  {
   "cell_type": "code",
   "execution_count": null,
   "metadata": {},
   "outputs": [],
   "source": [
    "pl.compute_yearly_returns(MSCIs, end='2008', title='Yearly Returns from 1998 to 2008', color=True)"
   ]
  },
  {
   "cell_type": "code",
   "execution_count": null,
   "metadata": {},
   "outputs": [],
   "source": [
    "returns_after_2008 = pl.compute_yearly_returns(MSCIs, start='2009', title='Yearly Returns since 2009', color=True)\n",
    "returns_after_2008"
   ]
  },
  {
   "cell_type": "code",
   "execution_count": null,
   "metadata": {},
   "outputs": [],
   "source": [
    "# Opção String para fazer um ficheiro .CSV com o simbolo de % já embutido\n",
    "returns_after_2008 = pl.compute_yearly_returns(MSCIs, start='2009', title='Yearly Returns since 2009', style='string')\n",
    "returns_after_2008"
   ]
  },
  {
   "cell_type": "code",
   "execution_count": null,
   "metadata": {},
   "outputs": [],
   "source": []
  }
 ],
 "metadata": {
  "kernelspec": {
   "display_name": "Python 3",
   "language": "python",
   "name": "python3"
  },
  "language_info": {
   "codemirror_mode": {
    "name": "ipython",
    "version": 3
   },
   "file_extension": ".py",
   "mimetype": "text/x-python",
   "name": "python",
   "nbconvert_exporter": "python",
   "pygments_lexer": "ipython3",
   "version": "3.8.3"
  }
 },
 "nbformat": 4,
 "nbformat_minor": 4
}

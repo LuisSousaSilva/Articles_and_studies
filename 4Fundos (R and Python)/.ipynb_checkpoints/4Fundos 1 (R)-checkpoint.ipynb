{
 "cells": [
  {
   "cell_type": "markdown",
   "metadata": {},
   "source": [
    "**A Carteira 4Fundos DEF é composta por:**\n",
    "\n",
    "  * _15% Fidelity Global Cnsmr Inds A-Dis-EUR LU0114721508_\n",
    "  * _15% GS Glb SmCp CORE® Eq E EUR Acc Close LU0245181838_\n",
    "  * _15% M&G Optimal Income Euro A-H Acc GB00B1VMCY93_\n",
    "  * _55% PIMCO GIS Global Bond E Acc EUR H IE00B11XZ103_\n",
    "\n",
    "**A Carteira 4Fundos EW é composta por:**\n",
    "\n",
    "  * _25% Fidelity Global Cnsmr Inds A-Dis-EUR LU0114721508_\n",
    "  * _25% GS Glb SmCp CORE® Eq E EUR Acc Close LU0245181838_\n",
    "  * _25% M&G Optimal Income Euro A-H Acc GB00B1VMCY93_\n",
    "  * _25% PIMCO GIS Global Bond E Acc EUR H IE00B11XZ103_\n",
    "\n",
    "**A Carteira 4Fundos AGR é composta por:**\n",
    "\n",
    "  * _40% Fidelity Global Cnsmr Inds A-Dis-EUR LU0114721508_\n",
    "  * _40% GS Glb SmCp CORE® Eq E EUR Acc Close LU0245181838_\n",
    "  * _10% M&G Optimal Income Euro A-H Acc GB00B1VMCY93_\n",
    "  * _10% PIMCO GIS Global Bond E Acc EUR H IE00B11XZ103_"
   ]
  },
  {
   "cell_type": "code",
   "execution_count": 6,
   "metadata": {},
   "outputs": [],
   "source": [
    "suppressMessages(library(PerformanceAnalytics))\n",
    "suppressMessages(library(lubridate))\n",
    "suppressMessages(library(quantmod))\n",
    "suppressMessages(library(stringr))\n",
    "suppressMessages(library(dplyr))\n",
    "suppressMessages(library(SIT))"
   ]
  },
  {
   "cell_type": "code",
   "execution_count": 26,
   "metadata": {},
   "outputs": [],
   "source": [
    "########### Carregar todas as bibliotecas necessárias ##########\n",
    "options(warn=-1)\n",
    "\n",
    "suppressMessages(library(PerformanceAnalytics))\n",
    "suppressMessages(library(PortfolioAnalytics))\n",
    "suppressMessages(library(quantmod))\n",
    "suppressMessages(library(formattable))\n",
    "suppressMessages(library(tseries))\n",
    "suppressMessages(library(DT))\n",
    "\n",
    "options(warn=0)\n",
    "################## Carregar as minhas funções ##################\n",
    "display <- function(dataframe) {\n",
    "    print(rbind(head(dataframe, 3), tail(dataframe, 3)))\n",
    "}\n",
    "\n",
    "xts_to_dataframe <- function(dataframe) {\n",
    "  data.frame(date=index(dataframe), coredata(dataframe))\n",
    "}\n",
    "\n",
    "dataframe_to_xts <- function(dataframe) {\n",
    "  xts(data.frame(lapply(dataframe, as.numeric),\n",
    "                 stringsAsFactors = FALSE),\n",
    "      order.by = dataframe[, 1])[, -1]\n",
    "}\n",
    "\n",
    "quotes_to_numeric <- function(dataframe) {\n",
    "  cbind(dataframe[1],\n",
    "        data.frame(lapply(dataframe[-1], as.numeric)))\n",
    "}\n",
    "\n",
    "compute_returns.xts <- function(dataframe) {\n",
    "  xts(apply(dataframe, 2, FUN = Return.calculate),\n",
    "      order.by = index(dataframe))[-1 ,]\n",
    "}\n",
    "\n",
    "quotes_loader <- function(x, Begin=\"1999-12-31\", End=\"2100-12-31\", locf=TRUE,\n",
    "                          normalize=TRUE, xts = FALSE, returns = FALSE) {\n",
    "\n",
    "  # Import CSV\n",
    "  Quotes <- read.csv('C:/Users/Luis/Google Drive/_GitHub/Carteiras_Clientes/Cotacoes_diarias.csv')\n",
    "  \n",
    "  # Date column as dates\n",
    "  Quotes$Date <- as.Date(Quotes$Date, format = \"%Y-%m-%d\")\n",
    "  \n",
    "  # Select only desired funds\n",
    "  Quotes <- Quotes[c('Date', x)]\n",
    "  \n",
    "  # Filtering Quotes by Dates\n",
    "  Quotes <- na.omit(subset(Quotes, Date >= Begin & Date <= End))\n",
    "  \n",
    "  \n",
    "  # Assigning Quotes to environment\n",
    "  assign('Quotes', Quotes, envir = .GlobalEnv)\n",
    "  \n",
    "  if (xts) {\n",
    "    Quotes.xts <- dataframe_to_xts(Quotes)\n",
    "    # Assign Fundos.xts to environment\n",
    "    assign('Quotes.xts', Quotes.xts, envir = .GlobalEnv)\n",
    "    \n",
    "  }\n",
    "  \n",
    "    # Create returns if TRUE\n",
    "  if (returns) {\n",
    "    # Get Returns dataframe\n",
    "    Returns.xts <- compute_returns.xts(Quotes.xts)\n",
    "    # Assign Fundos.xts to environment\n",
    "    assign('Returns.xts', Returns.xts, envir = .GlobalEnv)\n",
    "    \n",
    "  }\n",
    "}"
   ]
  },
  {
   "cell_type": "code",
   "execution_count": 27,
   "metadata": {},
   "outputs": [],
   "source": [
    "ISINs  <- c('LU0114721508', 'LU0245181838', 'LU1670724373', \"IE00B11XZ103\")#, 'F0GBR04E6R', 'F00000Q8QC', 'F00000NGSG', 'F0GBR06T6F')\n",
    "Nomes <- c('FCI', 'GS_SC', 'MG_OI', 'PimcoGB') #, 'MFS_GE', 'JupiterDB', 'InvescoSC', 'PimcoIG')"
   ]
  },
  {
   "cell_type": "code",
   "execution_count": 28,
   "metadata": {},
   "outputs": [],
   "source": [
    "#### Begin_End #### \n",
    "From <- \"2007-04-20\" # Data de início\n",
    "To   <- toString(today()) # Data de Fim\n",
    "\n",
    "Begin_End <- paste(From, \"/\", To) # Data de início e fim juntos para xts"
   ]
  },
  {
   "cell_type": "code",
   "execution_count": 29,
   "metadata": {},
   "outputs": [],
   "source": [
    "# Download dos fundos\n",
    "quotes_loader(ISINs, xts=TRUE)\n",
    "\n",
    "Fundos.xts = Quotes.xts"
   ]
  },
  {
   "cell_type": "code",
   "execution_count": 30,
   "metadata": {},
   "outputs": [
    {
     "data": {
      "text/html": [
       "<ol class=list-inline>\n",
       "\t<li>'Begin_End'</li>\n",
       "\t<li>'compute_returns.xts'</li>\n",
       "\t<li>'dataframe_to_xts'</li>\n",
       "\t<li>'display'</li>\n",
       "\t<li>'F000000FH0'</li>\n",
       "\t<li>'F0GBR04EAN'</li>\n",
       "\t<li>'From'</li>\n",
       "\t<li>'getFI_best'</li>\n",
       "\t<li>'ISINs'</li>\n",
       "\t<li>'MSid'</li>\n",
       "\t<li>'Nomes'</li>\n",
       "\t<li>'Quotes'</li>\n",
       "\t<li>'Quotes.xts'</li>\n",
       "\t<li>'quotes_loader'</li>\n",
       "\t<li>'quotes_to_numeric'</li>\n",
       "\t<li>'To'</li>\n",
       "\t<li>'xts_to_dataframe'</li>\n",
       "</ol>\n"
      ],
      "text/latex": [
       "\\begin{enumerate*}\n",
       "\\item 'Begin\\_End'\n",
       "\\item 'compute\\_returns.xts'\n",
       "\\item 'dataframe\\_to\\_xts'\n",
       "\\item 'display'\n",
       "\\item 'F000000FH0'\n",
       "\\item 'F0GBR04EAN'\n",
       "\\item 'From'\n",
       "\\item 'getFI\\_best'\n",
       "\\item 'ISINs'\n",
       "\\item 'MSid'\n",
       "\\item 'Nomes'\n",
       "\\item 'Quotes'\n",
       "\\item 'Quotes.xts'\n",
       "\\item 'quotes\\_loader'\n",
       "\\item 'quotes\\_to\\_numeric'\n",
       "\\item 'To'\n",
       "\\item 'xts\\_to\\_dataframe'\n",
       "\\end{enumerate*}\n"
      ],
      "text/markdown": [
       "1. 'Begin_End'\n",
       "2. 'compute_returns.xts'\n",
       "3. 'dataframe_to_xts'\n",
       "4. 'display'\n",
       "5. 'F000000FH0'\n",
       "6. 'F0GBR04EAN'\n",
       "7. 'From'\n",
       "8. 'getFI_best'\n",
       "9. 'ISINs'\n",
       "10. 'MSid'\n",
       "11. 'Nomes'\n",
       "12. 'Quotes'\n",
       "13. 'Quotes.xts'\n",
       "14. 'quotes_loader'\n",
       "15. 'quotes_to_numeric'\n",
       "16. 'To'\n",
       "17. 'xts_to_dataframe'\n",
       "\n",
       "\n"
      ],
      "text/plain": [
       " [1] \"Begin_End\"           \"compute_returns.xts\" \"dataframe_to_xts\"   \n",
       " [4] \"display\"             \"F000000FH0\"          \"F0GBR04EAN\"         \n",
       " [7] \"From\"                \"getFI_best\"          \"ISINs\"              \n",
       "[10] \"MSid\"                \"Nomes\"               \"Quotes\"             \n",
       "[13] \"Quotes.xts\"          \"quotes_loader\"       \"quotes_to_numeric\"  \n",
       "[16] \"To\"                  \"xts_to_dataframe\"   "
      ]
     },
     "metadata": {},
     "output_type": "display_data"
    }
   ],
   "source": [
    "ls()"
   ]
  },
  {
   "cell_type": "code",
   "execution_count": 31,
   "metadata": {},
   "outputs": [],
   "source": []
  },
  {
   "cell_type": "code",
   "execution_count": 32,
   "metadata": {},
   "outputs": [
    {
     "data": {
      "text/plain": [
       "           LU0114721508 LU0245181838 LU1670724373 IE00B11XZ103\n",
       "2019-04-18        60.95        20.98        10.28        24.16\n",
       "2019-04-19        60.92        20.98        10.28        24.16\n",
       "2019-04-22        60.83        20.98        10.28        24.13\n",
       "2019-04-23        61.40        21.22        10.28        24.15\n",
       "2019-04-24        61.50        21.24        10.28        24.20\n",
       "2019-04-25        61.62        21.24        10.28        24.20"
      ]
     },
     "metadata": {},
     "output_type": "display_data"
    }
   ],
   "source": [
    "tail(Fundos.xts)"
   ]
  },
  {
   "cell_type": "code",
   "execution_count": 33,
   "metadata": {},
   "outputs": [],
   "source": [
    "# Get Returns dataframe\n",
    "Returns <- xts(apply(Fundos.xts, 2, FUN = Return.calculate),order.by = index(Fundos.xts))[-1 ,]\n",
    "\n",
    "# Naming the columns in Returns\n",
    "colnames(Returns) <- Nomes"
   ]
  },
  {
   "cell_type": "code",
   "execution_count": 34,
   "metadata": {},
   "outputs": [],
   "source": [
    "### Portfolio Weights ####\n",
    "P1_weights <- c(0.15, 0.15, 0.15, 0.55)\n",
    "P2_weights <- c(0.25, 0.25, 0.25, 0.25)\n",
    "P3_weights <- c(0.40, 0.40, 0.10, 0.10)"
   ]
  },
  {
   "cell_type": "code",
   "execution_count": 35,
   "metadata": {},
   "outputs": [],
   "source": [
    "#### Portfolios ####\n",
    "Portfolio_1 <- Return.portfolio(Returns,\n",
    "                                weights = P1_weights,\n",
    "                                verbose = TRUE,\n",
    "                                rebalance_on =  \"years\",\n",
    "                                value = 100)\n",
    "\n",
    "#### Portfolios ####\n",
    "Portfolio_2 <- Return.portfolio(Returns,\n",
    "                                weights = P2_weights,\n",
    "                                verbose = TRUE,\n",
    "                                rebalance_on =  \"years\",\n",
    "                                value = 100)\n",
    "\n",
    "#### Portfolios ####\n",
    "Portfolio_3 <- Return.portfolio(Returns,\n",
    "                                weights = P3_weights,\n",
    "                                verbose = TRUE,\n",
    "                                rebalance_on =  \"years\",\n",
    "                                value = 100)"
   ]
  },
  {
   "cell_type": "code",
   "execution_count": 36,
   "metadata": {},
   "outputs": [],
   "source": [
    "# Cálculos\n",
    "Portfolio1 <- xts(round(rowSums(Portfolio_1$EOP.Value), 2), order.by = index(Fundos.xts[-1 ,]))\n",
    "Portfolio2 <- xts(round(rowSums(Portfolio_2$EOP.Value), 2), order.by = index(Fundos.xts[-1 ,]))\n",
    "Portfolio3 <- xts(round(rowSums(Portfolio_3$EOP.Value), 2), order.by = index(Fundos.xts[-1 ,]))"
   ]
  },
  {
   "cell_type": "code",
   "execution_count": 37,
   "metadata": {},
   "outputs": [],
   "source": [
    "Portfolios <- cbind(Portfolio1, Portfolio2, Portfolio3)\n",
    "colnames(Portfolios) <- c('4Fundos DEF', '4Fundos EW', '4Fundos AGR')"
   ]
  },
  {
   "cell_type": "code",
   "execution_count": 38,
   "metadata": {},
   "outputs": [
    {
     "data": {
      "text/plain": [
       "           4Fundos DEF 4Fundos EW 4Fundos AGR\n",
       "2019-04-18      194.85     219.05      237.84\n",
       "2019-04-19      194.83     219.02      237.80\n",
       "2019-04-22      194.66     218.87      237.62\n",
       "2019-04-23      195.41     220.13      239.67\n",
       "2019-04-24      195.71     220.39      239.97\n",
       "2019-04-25      195.77     220.50      240.16"
      ]
     },
     "metadata": {},
     "output_type": "display_data"
    }
   ],
   "source": [
    "tail(Portfolios)"
   ]
  },
  {
   "cell_type": "code",
   "execution_count": 39,
   "metadata": {},
   "outputs": [],
   "source": [
    "# Exportar Portfolios \n",
    "write.csv(as.data.frame(Portfolios), 'Portfolios.csv')"
   ]
  },
  {
   "cell_type": "code",
   "execution_count": 41,
   "metadata": {},
   "outputs": [],
   "source": [
    "#write.csv(as.data.frame(Portfolios), '~/Jupyter/SGC/Portfolios.csv')"
   ]
  },
  {
   "cell_type": "code",
   "execution_count": 42,
   "metadata": {},
   "outputs": [
    {
     "data": {
      "text/html": [
       "<table>\n",
       "<thead><tr><th></th><th scope=col>FCI</th><th scope=col>GS_SC</th><th scope=col>MG_OI</th><th scope=col>PimcoGB</th></tr></thead>\n",
       "<tbody>\n",
       "\t<tr><th scope=row>FCI</th><td>1.00 </td><td> 0.65</td><td>0.07 </td><td> 0.01</td></tr>\n",
       "\t<tr><th scope=row>GS_SC</th><td>0.65 </td><td> 1.00</td><td>0.04 </td><td>-0.09</td></tr>\n",
       "\t<tr><th scope=row>MG_OI</th><td>0.07 </td><td> 0.04</td><td>1.00 </td><td> 0.28</td></tr>\n",
       "\t<tr><th scope=row>PimcoGB</th><td>0.01 </td><td>-0.09</td><td>0.28 </td><td> 1.00</td></tr>\n",
       "</tbody>\n",
       "</table>\n"
      ],
      "text/latex": [
       "\\begin{tabular}{r|llll}\n",
       "  & FCI & GS\\_SC & MG\\_OI & PimcoGB\\\\\n",
       "\\hline\n",
       "\tFCI & 1.00  &  0.65 & 0.07  &  0.01\\\\\n",
       "\tGS\\_SC & 0.65  &  1.00 & 0.04  & -0.09\\\\\n",
       "\tMG\\_OI & 0.07  &  0.04 & 1.00  &  0.28\\\\\n",
       "\tPimcoGB & 0.01  & -0.09 & 0.28  &  1.00\\\\\n",
       "\\end{tabular}\n"
      ],
      "text/markdown": [
       "\n",
       "| <!--/--> | FCI | GS_SC | MG_OI | PimcoGB |\n",
       "|---|---|---|---|---|\n",
       "| FCI | 1.00  |  0.65 | 0.07  |  0.01 |\n",
       "| GS_SC | 0.65  |  1.00 | 0.04  | -0.09 |\n",
       "| MG_OI | 0.07  |  0.04 | 1.00  |  0.28 |\n",
       "| PimcoGB | 0.01  | -0.09 | 0.28  |  1.00 |\n",
       "\n"
      ],
      "text/plain": [
       "        FCI  GS_SC MG_OI PimcoGB\n",
       "FCI     1.00  0.65 0.07   0.01  \n",
       "GS_SC   0.65  1.00 0.04  -0.09  \n",
       "MG_OI   0.07  0.04 1.00   0.28  \n",
       "PimcoGB 0.01 -0.09 0.28   1.00  "
      ]
     },
     "metadata": {},
     "output_type": "display_data"
    }
   ],
   "source": [
    "#colnames(Returns) <- Nomes\n",
    "Corr_Matrix <- round(cor(Returns),2)\n",
    "Corr_Matrix"
   ]
  },
  {
   "cell_type": "code",
   "execution_count": 43,
   "metadata": {},
   "outputs": [],
   "source": [
    "# Exportar Matrix de correlação \n",
    "write.csv(as.data.frame(Corr_Matrix), 'Corr_Matrix.csv')"
   ]
  },
  {
   "cell_type": "code",
   "execution_count": 44,
   "metadata": {},
   "outputs": [],
   "source": [
    "Preturns <- xts(apply(Portfolios, 2, FUN = Return.calculate),order.by = index(Portfolios))[-1, ]"
   ]
  },
  {
   "cell_type": "code",
   "execution_count": 45,
   "metadata": {},
   "outputs": [
    {
     "data": {
      "text/plain": [
       "             4Fundos DEF   4Fundos EW  4Fundos AGR\n",
       "2007-04-24 -0.0013970662 -0.003192975 -0.005387609\n",
       "2007-04-25  0.0006995103  0.002002002  0.003510884\n",
       "2007-04-26  0.0005991612  0.001998002  0.003598561\n",
       "2007-04-27 -0.0008982036 -0.001595214 -0.002589641\n",
       "2007-04-30  0.0002996704 -0.001298183 -0.002796085\n",
       "2007-05-01 -0.0009986020 -0.001099890 -0.001602243"
      ]
     },
     "metadata": {},
     "output_type": "display_data"
    }
   ],
   "source": [
    "head(Preturns)"
   ]
  },
  {
   "cell_type": "code",
   "execution_count": 46,
   "metadata": {},
   "outputs": [],
   "source": [
    "DD_DEF <- table.Drawdowns(Preturns[, 1])\n",
    "DD_EW  <- table.Drawdowns(Preturns[, 2])\n",
    "DD_AGR <- table.Drawdowns(Preturns[, 3])"
   ]
  },
  {
   "cell_type": "code",
   "execution_count": 47,
   "metadata": {},
   "outputs": [],
   "source": [
    "DD_DEF['Depth'] <- DD_DEF['Depth'] * 100\n",
    "DD_EW ['Depth'] <- DD_EW ['Depth'] * 100\n",
    "DD_AGR['Depth'] <- DD_AGR['Depth'] * 100"
   ]
  },
  {
   "cell_type": "code",
   "execution_count": 48,
   "metadata": {},
   "outputs": [
    {
     "data": {
      "text/html": [
       "<table>\n",
       "<thead><tr><th scope=col>From</th><th scope=col>Trough</th><th scope=col>To</th><th scope=col>Depth</th><th scope=col>Length</th><th scope=col>To Trough</th><th scope=col>Recovery</th></tr></thead>\n",
       "<tbody>\n",
       "\t<tr><td>2007-06-04</td><td>2009-03-09</td><td>2009-10-07</td><td>-20.91    </td><td>615       </td><td>463       </td><td>152       </td></tr>\n",
       "\t<tr><td>2015-04-16</td><td>2016-02-11</td><td>2016-08-05</td><td> -8.94    </td><td>342       </td><td>216       </td><td>126       </td></tr>\n",
       "\t<tr><td>2018-08-13</td><td>2018-12-24</td><td>2019-03-29</td><td> -6.84    </td><td>165       </td><td> 96       </td><td> 69       </td></tr>\n",
       "\t<tr><td>2013-05-20</td><td>2013-06-24</td><td>2013-11-14</td><td> -6.03    </td><td>130       </td><td> 26       </td><td>104       </td></tr>\n",
       "\t<tr><td>2011-07-12</td><td>2011-08-22</td><td>2011-12-16</td><td> -4.08    </td><td>114       </td><td> 30       </td><td> 84       </td></tr>\n",
       "</tbody>\n",
       "</table>\n"
      ],
      "text/latex": [
       "\\begin{tabular}{r|lllllll}\n",
       " From & Trough & To & Depth & Length & To Trough & Recovery\\\\\n",
       "\\hline\n",
       "\t 2007-06-04 & 2009-03-09 & 2009-10-07 & -20.91     & 615        & 463        & 152       \\\\\n",
       "\t 2015-04-16 & 2016-02-11 & 2016-08-05 &  -8.94     & 342        & 216        & 126       \\\\\n",
       "\t 2018-08-13 & 2018-12-24 & 2019-03-29 &  -6.84     & 165        &  96        &  69       \\\\\n",
       "\t 2013-05-20 & 2013-06-24 & 2013-11-14 &  -6.03     & 130        &  26        & 104       \\\\\n",
       "\t 2011-07-12 & 2011-08-22 & 2011-12-16 &  -4.08     & 114        &  30        &  84       \\\\\n",
       "\\end{tabular}\n"
      ],
      "text/markdown": [
       "\n",
       "| From | Trough | To | Depth | Length | To Trough | Recovery |\n",
       "|---|---|---|---|---|---|---|\n",
       "| 2007-06-04 | 2009-03-09 | 2009-10-07 | -20.91     | 615        | 463        | 152        |\n",
       "| 2015-04-16 | 2016-02-11 | 2016-08-05 |  -8.94     | 342        | 216        | 126        |\n",
       "| 2018-08-13 | 2018-12-24 | 2019-03-29 |  -6.84     | 165        |  96        |  69        |\n",
       "| 2013-05-20 | 2013-06-24 | 2013-11-14 |  -6.03     | 130        |  26        | 104        |\n",
       "| 2011-07-12 | 2011-08-22 | 2011-12-16 |  -4.08     | 114        |  30        |  84        |\n",
       "\n"
      ],
      "text/plain": [
       "  From       Trough     To         Depth  Length To Trough Recovery\n",
       "1 2007-06-04 2009-03-09 2009-10-07 -20.91 615    463       152     \n",
       "2 2015-04-16 2016-02-11 2016-08-05  -8.94 342    216       126     \n",
       "3 2018-08-13 2018-12-24 2019-03-29  -6.84 165     96        69     \n",
       "4 2013-05-20 2013-06-24 2013-11-14  -6.03 130     26       104     \n",
       "5 2011-07-12 2011-08-22 2011-12-16  -4.08 114     30        84     "
      ]
     },
     "metadata": {},
     "output_type": "display_data"
    }
   ],
   "source": [
    "DD_DEF"
   ]
  },
  {
   "cell_type": "code",
   "execution_count": 49,
   "metadata": {},
   "outputs": [
    {
     "data": {
      "text/html": [
       "<table>\n",
       "<thead><tr><th scope=col>From</th><th scope=col>Trough</th><th scope=col>To</th><th scope=col>Depth</th><th scope=col>Length</th><th scope=col>To Trough</th><th scope=col>Recovery</th></tr></thead>\n",
       "<tbody>\n",
       "\t<tr><td>2007-06-04</td><td>2009-03-09</td><td>2010-03-04</td><td>-30.56    </td><td>722       </td><td>463       </td><td>259       </td></tr>\n",
       "\t<tr><td>2015-04-14</td><td>2016-02-11</td><td>2016-11-24</td><td>-12.72    </td><td>423       </td><td>218       </td><td>205       </td></tr>\n",
       "\t<tr><td>2018-06-18</td><td>2018-12-24</td><td>2019-04-03</td><td>-10.39    </td><td>209       </td><td>137       </td><td> 72       </td></tr>\n",
       "\t<tr><td>2011-07-12</td><td>2011-08-22</td><td>2012-01-03</td><td> -7.91    </td><td>127       </td><td> 30       </td><td> 97       </td></tr>\n",
       "\t<tr><td>2013-05-21</td><td>2013-06-24</td><td>2013-10-24</td><td> -7.01    </td><td>114       </td><td> 25       </td><td> 89       </td></tr>\n",
       "</tbody>\n",
       "</table>\n"
      ],
      "text/latex": [
       "\\begin{tabular}{r|lllllll}\n",
       " From & Trough & To & Depth & Length & To Trough & Recovery\\\\\n",
       "\\hline\n",
       "\t 2007-06-04 & 2009-03-09 & 2010-03-04 & -30.56     & 722        & 463        & 259       \\\\\n",
       "\t 2015-04-14 & 2016-02-11 & 2016-11-24 & -12.72     & 423        & 218        & 205       \\\\\n",
       "\t 2018-06-18 & 2018-12-24 & 2019-04-03 & -10.39     & 209        & 137        &  72       \\\\\n",
       "\t 2011-07-12 & 2011-08-22 & 2012-01-03 &  -7.91     & 127        &  30        &  97       \\\\\n",
       "\t 2013-05-21 & 2013-06-24 & 2013-10-24 &  -7.01     & 114        &  25        &  89       \\\\\n",
       "\\end{tabular}\n"
      ],
      "text/markdown": [
       "\n",
       "| From | Trough | To | Depth | Length | To Trough | Recovery |\n",
       "|---|---|---|---|---|---|---|\n",
       "| 2007-06-04 | 2009-03-09 | 2010-03-04 | -30.56     | 722        | 463        | 259        |\n",
       "| 2015-04-14 | 2016-02-11 | 2016-11-24 | -12.72     | 423        | 218        | 205        |\n",
       "| 2018-06-18 | 2018-12-24 | 2019-04-03 | -10.39     | 209        | 137        |  72        |\n",
       "| 2011-07-12 | 2011-08-22 | 2012-01-03 |  -7.91     | 127        |  30        |  97        |\n",
       "| 2013-05-21 | 2013-06-24 | 2013-10-24 |  -7.01     | 114        |  25        |  89        |\n",
       "\n"
      ],
      "text/plain": [
       "  From       Trough     To         Depth  Length To Trough Recovery\n",
       "1 2007-06-04 2009-03-09 2010-03-04 -30.56 722    463       259     \n",
       "2 2015-04-14 2016-02-11 2016-11-24 -12.72 423    218       205     \n",
       "3 2018-06-18 2018-12-24 2019-04-03 -10.39 209    137        72     \n",
       "4 2011-07-12 2011-08-22 2012-01-03  -7.91 127     30        97     \n",
       "5 2013-05-21 2013-06-24 2013-10-24  -7.01 114     25        89     "
      ]
     },
     "metadata": {},
     "output_type": "display_data"
    }
   ],
   "source": [
    "DD_EW"
   ]
  },
  {
   "cell_type": "code",
   "execution_count": 50,
   "metadata": {},
   "outputs": [
    {
     "data": {
      "text/html": [
       "<table>\n",
       "<thead><tr><th scope=col>From</th><th scope=col>Trough</th><th scope=col>To</th><th scope=col>Depth</th><th scope=col>Length</th><th scope=col>To Trough</th><th scope=col>Recovery</th></tr></thead>\n",
       "<tbody>\n",
       "\t<tr><td>2007-06-04</td><td>2009-03-09</td><td>2010-11-26</td><td>-43.91    </td><td>914       </td><td>463       </td><td>451       </td></tr>\n",
       "\t<tr><td>2015-04-14</td><td>2016-02-11</td><td>2016-12-08</td><td>-17.50    </td><td>433       </td><td>218       </td><td>215       </td></tr>\n",
       "\t<tr><td>2018-06-15</td><td>2018-12-24</td><td>2019-04-12</td><td>-15.18    </td><td>217       </td><td>138       </td><td> 79       </td></tr>\n",
       "\t<tr><td>2011-01-12</td><td>2011-08-22</td><td>2012-01-17</td><td>-13.40    </td><td>267       </td><td>160       </td><td>107       </td></tr>\n",
       "\t<tr><td>2013-05-21</td><td>2013-06-24</td><td>2013-10-18</td><td> -8.45    </td><td>110       </td><td> 25       </td><td> 85       </td></tr>\n",
       "</tbody>\n",
       "</table>\n"
      ],
      "text/latex": [
       "\\begin{tabular}{r|lllllll}\n",
       " From & Trough & To & Depth & Length & To Trough & Recovery\\\\\n",
       "\\hline\n",
       "\t 2007-06-04 & 2009-03-09 & 2010-11-26 & -43.91     & 914        & 463        & 451       \\\\\n",
       "\t 2015-04-14 & 2016-02-11 & 2016-12-08 & -17.50     & 433        & 218        & 215       \\\\\n",
       "\t 2018-06-15 & 2018-12-24 & 2019-04-12 & -15.18     & 217        & 138        &  79       \\\\\n",
       "\t 2011-01-12 & 2011-08-22 & 2012-01-17 & -13.40     & 267        & 160        & 107       \\\\\n",
       "\t 2013-05-21 & 2013-06-24 & 2013-10-18 &  -8.45     & 110        &  25        &  85       \\\\\n",
       "\\end{tabular}\n"
      ],
      "text/markdown": [
       "\n",
       "| From | Trough | To | Depth | Length | To Trough | Recovery |\n",
       "|---|---|---|---|---|---|---|\n",
       "| 2007-06-04 | 2009-03-09 | 2010-11-26 | -43.91     | 914        | 463        | 451        |\n",
       "| 2015-04-14 | 2016-02-11 | 2016-12-08 | -17.50     | 433        | 218        | 215        |\n",
       "| 2018-06-15 | 2018-12-24 | 2019-04-12 | -15.18     | 217        | 138        |  79        |\n",
       "| 2011-01-12 | 2011-08-22 | 2012-01-17 | -13.40     | 267        | 160        | 107        |\n",
       "| 2013-05-21 | 2013-06-24 | 2013-10-18 |  -8.45     | 110        |  25        |  85        |\n",
       "\n"
      ],
      "text/plain": [
       "  From       Trough     To         Depth  Length To Trough Recovery\n",
       "1 2007-06-04 2009-03-09 2010-11-26 -43.91 914    463       451     \n",
       "2 2015-04-14 2016-02-11 2016-12-08 -17.50 433    218       215     \n",
       "3 2018-06-15 2018-12-24 2019-04-12 -15.18 217    138        79     \n",
       "4 2011-01-12 2011-08-22 2012-01-17 -13.40 267    160       107     \n",
       "5 2013-05-21 2013-06-24 2013-10-18  -8.45 110     25        85     "
      ]
     },
     "metadata": {},
     "output_type": "display_data"
    }
   ],
   "source": [
    "DD_AGR"
   ]
  },
  {
   "cell_type": "code",
   "execution_count": 51,
   "metadata": {},
   "outputs": [],
   "source": [
    "# Passar as tabelas de Drawdowns para .csv\n",
    "write.csv(as.data.frame(DD_DEF), 'DD_DEF.csv')\n",
    "write.csv(as.data.frame(DD_EW) , 'DD_EW.csv' )\n",
    "write.csv(as.data.frame(DD_AGR), 'DD_AGR.csv')"
   ]
  },
  {
   "cell_type": "code",
   "execution_count": 52,
   "metadata": {},
   "outputs": [],
   "source": [
    "Nomes_fundos <- c('4Fundos DEF', '4Fundos EW', '4Fundos AGR')\n",
    "Portfolios.df <- data.frame(Portfolios)\n",
    "colnames(Portfolios.df) <- Nomes_fundos\n",
    "rownames(Portfolios.df) <- ymd(rownames(Portfolios.df))"
   ]
  },
  {
   "cell_type": "code",
   "execution_count": 53,
   "metadata": {},
   "outputs": [
    {
     "data": {
      "text/html": [
       "<table>\n",
       "<thead><tr><th></th><th scope=col>4Fundos DEF</th><th scope=col>4Fundos EW</th><th scope=col>4Fundos AGR</th></tr></thead>\n",
       "<tbody>\n",
       "\t<tr><th scope=row>2019-04-18</th><td>194.85</td><td>219.05</td><td>237.84</td></tr>\n",
       "\t<tr><th scope=row>2019-04-19</th><td>194.83</td><td>219.02</td><td>237.80</td></tr>\n",
       "\t<tr><th scope=row>2019-04-22</th><td>194.66</td><td>218.87</td><td>237.62</td></tr>\n",
       "\t<tr><th scope=row>2019-04-23</th><td>195.41</td><td>220.13</td><td>239.67</td></tr>\n",
       "\t<tr><th scope=row>2019-04-24</th><td>195.71</td><td>220.39</td><td>239.97</td></tr>\n",
       "\t<tr><th scope=row>2019-04-25</th><td>195.77</td><td>220.50</td><td>240.16</td></tr>\n",
       "</tbody>\n",
       "</table>\n"
      ],
      "text/latex": [
       "\\begin{tabular}{r|lll}\n",
       "  & 4Fundos DEF & 4Fundos EW & 4Fundos AGR\\\\\n",
       "\\hline\n",
       "\t2019-04-18 & 194.85 & 219.05 & 237.84\\\\\n",
       "\t2019-04-19 & 194.83 & 219.02 & 237.80\\\\\n",
       "\t2019-04-22 & 194.66 & 218.87 & 237.62\\\\\n",
       "\t2019-04-23 & 195.41 & 220.13 & 239.67\\\\\n",
       "\t2019-04-24 & 195.71 & 220.39 & 239.97\\\\\n",
       "\t2019-04-25 & 195.77 & 220.50 & 240.16\\\\\n",
       "\\end{tabular}\n"
      ],
      "text/markdown": [
       "\n",
       "| <!--/--> | 4Fundos DEF | 4Fundos EW | 4Fundos AGR |\n",
       "|---|---|---|---|\n",
       "| 2019-04-18 | 194.85 | 219.05 | 237.84 |\n",
       "| 2019-04-19 | 194.83 | 219.02 | 237.80 |\n",
       "| 2019-04-22 | 194.66 | 218.87 | 237.62 |\n",
       "| 2019-04-23 | 195.41 | 220.13 | 239.67 |\n",
       "| 2019-04-24 | 195.71 | 220.39 | 239.97 |\n",
       "| 2019-04-25 | 195.77 | 220.50 | 240.16 |\n",
       "\n"
      ],
      "text/plain": [
       "           4Fundos DEF 4Fundos EW 4Fundos AGR\n",
       "2019-04-18 194.85      219.05     237.84     \n",
       "2019-04-19 194.83      219.02     237.80     \n",
       "2019-04-22 194.66      218.87     237.62     \n",
       "2019-04-23 195.41      220.13     239.67     \n",
       "2019-04-24 195.71      220.39     239.97     \n",
       "2019-04-25 195.77      220.50     240.16     "
      ]
     },
     "metadata": {},
     "output_type": "display_data"
    }
   ],
   "source": [
    "tail(Portfolios.df)"
   ]
  },
  {
   "cell_type": "code",
   "execution_count": 54,
   "metadata": {},
   "outputs": [],
   "source": [
    "filter.df.date <- function (df, years=0, months=0, days=0, previous.row=F)\n",
    "{\n",
    "  last_date <- ymd(rownames(tail(df, 1)))\n",
    "  \n",
    "  year.nr  <- year(last_date)\n",
    "  month.nr <- month(last_date)\n",
    "  day.nr   <- day(last_date)\n",
    "  \n",
    "  if (month.nr == 1 & months != 0){\n",
    "    month.nr = 13\n",
    "  }\n",
    "  \n",
    "  if (day.nr == 1 & days != 0 & month.nr %in% c(1, 3, 5, 7, 8, 10, 12)){\n",
    "    day.nr = 31\n",
    "    month.nr = month.nr - 1\n",
    "  }\n",
    "  \n",
    "  if (day.nr == 1 & days != 0 & month.nr %in% c(4, 6, 9, 11)){\n",
    "    day.nr = 32\n",
    "    month.nr = month.nr - 1\n",
    "  }\n",
    "  \n",
    "  if (day.nr == 1 & days != 0 & month.nr %in% c(2)){\n",
    "    day.nr = 29\n",
    "    month.nr = month.nr - 1\n",
    "  }\n",
    "\n",
    "  new_date <- ymd(str_replace_all(paste(year.nr - years,'-',\n",
    "                                        month.nr - months, '-',\n",
    "                                        day.nr - days),\n",
    "                                  fixed(' '), ''))\n",
    "  \n",
    "  if (previous.row == TRUE){\n",
    "    new.df <- rbind(tail(subset(df, rownames(df) < new_date), 1),\n",
    "                    subset(df, rownames(df) >= new_date))\n",
    "    return(new.df)\n",
    "  }\n",
    "  \n",
    "  if (previous.row == FALSE){\n",
    "    return(subset(df, rownames(df) >= new_date))\n",
    "  }\n",
    "}"
   ]
  },
  {
   "cell_type": "code",
   "execution_count": 55,
   "metadata": {},
   "outputs": [],
   "source": [
    "one_year.df  <- filter.df.date(Portfolios.df, years=1)\n",
    "one_year.xts <- xts(one_year.df, order.by = ymd(rownames(one_year.df)))\n",
    "one_year.xts.ret <- xts(apply(one_year.xts, 2, FUN=Return.calculate), order.by = index(one_year.xts))[-1, ]"
   ]
  },
  {
   "cell_type": "code",
   "execution_count": 56,
   "metadata": {},
   "outputs": [
    {
     "data": {
      "text/html": [
       "<table>\n",
       "<thead><tr><th></th><th scope=col>4Fundos DEF</th><th scope=col>4Fundos EW</th><th scope=col>4Fundos AGR</th></tr></thead>\n",
       "<tbody>\n",
       "\t<tr><th scope=row>2018-04-25</th><td>186.81</td><td>205.66</td><td>216.59</td></tr>\n",
       "\t<tr><th scope=row>2018-04-26</th><td>187.53</td><td>206.74</td><td>218.30</td></tr>\n",
       "\t<tr><th scope=row>2018-04-27</th><td>188.13</td><td>207.67</td><td>219.73</td></tr>\n",
       "\t<tr><th scope=row>2018-04-30</th><td>188.07</td><td>207.56</td><td>219.62</td></tr>\n",
       "\t<tr><th scope=row>2018-05-01</th><td>187.69</td><td>207.09</td><td>218.92</td></tr>\n",
       "\t<tr><th scope=row>2018-05-02</th><td>188.16</td><td>208.01</td><td>220.57</td></tr>\n",
       "</tbody>\n",
       "</table>\n"
      ],
      "text/latex": [
       "\\begin{tabular}{r|lll}\n",
       "  & 4Fundos DEF & 4Fundos EW & 4Fundos AGR\\\\\n",
       "\\hline\n",
       "\t2018-04-25 & 186.81 & 205.66 & 216.59\\\\\n",
       "\t2018-04-26 & 187.53 & 206.74 & 218.30\\\\\n",
       "\t2018-04-27 & 188.13 & 207.67 & 219.73\\\\\n",
       "\t2018-04-30 & 188.07 & 207.56 & 219.62\\\\\n",
       "\t2018-05-01 & 187.69 & 207.09 & 218.92\\\\\n",
       "\t2018-05-02 & 188.16 & 208.01 & 220.57\\\\\n",
       "\\end{tabular}\n"
      ],
      "text/markdown": [
       "\n",
       "| <!--/--> | 4Fundos DEF | 4Fundos EW | 4Fundos AGR |\n",
       "|---|---|---|---|\n",
       "| 2018-04-25 | 186.81 | 205.66 | 216.59 |\n",
       "| 2018-04-26 | 187.53 | 206.74 | 218.30 |\n",
       "| 2018-04-27 | 188.13 | 207.67 | 219.73 |\n",
       "| 2018-04-30 | 188.07 | 207.56 | 219.62 |\n",
       "| 2018-05-01 | 187.69 | 207.09 | 218.92 |\n",
       "| 2018-05-02 | 188.16 | 208.01 | 220.57 |\n",
       "\n"
      ],
      "text/plain": [
       "           4Fundos DEF 4Fundos EW 4Fundos AGR\n",
       "2018-04-25 186.81      205.66     216.59     \n",
       "2018-04-26 187.53      206.74     218.30     \n",
       "2018-04-27 188.13      207.67     219.73     \n",
       "2018-04-30 188.07      207.56     219.62     \n",
       "2018-05-01 187.69      207.09     218.92     \n",
       "2018-05-02 188.16      208.01     220.57     "
      ]
     },
     "metadata": {},
     "output_type": "display_data"
    }
   ],
   "source": [
    "head(one_year.df)"
   ]
  },
  {
   "cell_type": "code",
   "execution_count": 57,
   "metadata": {},
   "outputs": [
    {
     "data": {
      "text/html": [
       "<table>\n",
       "<thead><tr><th></th><th scope=col>4Fundos DEF</th><th scope=col>4Fundos EW</th><th scope=col>4Fundos AGR</th></tr></thead>\n",
       "<tbody>\n",
       "\t<tr><th scope=row>2019-04-18</th><td>194.85</td><td>219.05</td><td>237.84</td></tr>\n",
       "\t<tr><th scope=row>2019-04-19</th><td>194.83</td><td>219.02</td><td>237.80</td></tr>\n",
       "\t<tr><th scope=row>2019-04-22</th><td>194.66</td><td>218.87</td><td>237.62</td></tr>\n",
       "\t<tr><th scope=row>2019-04-23</th><td>195.41</td><td>220.13</td><td>239.67</td></tr>\n",
       "\t<tr><th scope=row>2019-04-24</th><td>195.71</td><td>220.39</td><td>239.97</td></tr>\n",
       "\t<tr><th scope=row>2019-04-25</th><td>195.77</td><td>220.50</td><td>240.16</td></tr>\n",
       "</tbody>\n",
       "</table>\n"
      ],
      "text/latex": [
       "\\begin{tabular}{r|lll}\n",
       "  & 4Fundos DEF & 4Fundos EW & 4Fundos AGR\\\\\n",
       "\\hline\n",
       "\t2019-04-18 & 194.85 & 219.05 & 237.84\\\\\n",
       "\t2019-04-19 & 194.83 & 219.02 & 237.80\\\\\n",
       "\t2019-04-22 & 194.66 & 218.87 & 237.62\\\\\n",
       "\t2019-04-23 & 195.41 & 220.13 & 239.67\\\\\n",
       "\t2019-04-24 & 195.71 & 220.39 & 239.97\\\\\n",
       "\t2019-04-25 & 195.77 & 220.50 & 240.16\\\\\n",
       "\\end{tabular}\n"
      ],
      "text/markdown": [
       "\n",
       "| <!--/--> | 4Fundos DEF | 4Fundos EW | 4Fundos AGR |\n",
       "|---|---|---|---|\n",
       "| 2019-04-18 | 194.85 | 219.05 | 237.84 |\n",
       "| 2019-04-19 | 194.83 | 219.02 | 237.80 |\n",
       "| 2019-04-22 | 194.66 | 218.87 | 237.62 |\n",
       "| 2019-04-23 | 195.41 | 220.13 | 239.67 |\n",
       "| 2019-04-24 | 195.71 | 220.39 | 239.97 |\n",
       "| 2019-04-25 | 195.77 | 220.50 | 240.16 |\n",
       "\n"
      ],
      "text/plain": [
       "           4Fundos DEF 4Fundos EW 4Fundos AGR\n",
       "2019-04-18 194.85      219.05     237.84     \n",
       "2019-04-19 194.83      219.02     237.80     \n",
       "2019-04-22 194.66      218.87     237.62     \n",
       "2019-04-23 195.41      220.13     239.67     \n",
       "2019-04-24 195.71      220.39     239.97     \n",
       "2019-04-25 195.77      220.50     240.16     "
      ]
     },
     "metadata": {},
     "output_type": "display_data"
    }
   ],
   "source": [
    "tail(one_year.df)"
   ]
  },
  {
   "cell_type": "code",
   "execution_count": 58,
   "metadata": {},
   "outputs": [],
   "source": [
    "cagr_one_year <- round((((tail(one_year.df, 1) / head(one_year.df, 1))) - 1) * 100, 2)\n",
    "rownames(cagr_one_year) <- 'CAGR'\n",
    "\n",
    "one_year_sd <- round(t(apply(one_year.xts.ret, 2, FUN=StdDev.annualized)) * 100, 2)\n",
    "one_year_sharpe <- cagr_one_year / one_year_sd"
   ]
  },
  {
   "cell_type": "code",
   "execution_count": 59,
   "metadata": {},
   "outputs": [],
   "source": [
    "three_years.df  <- filter.df.date(Portfolios.df, years=3, previous.row=T)\n",
    "three_years.xts <- xts(three_years.df, order.by = ymd(rownames(three_years.df)))\n",
    "three_years.xts.ret <- xts(apply(three_years.xts, 2, FUN=Return.calculate), order.by = index(three_years.xts))[-1, ]"
   ]
  },
  {
   "cell_type": "code",
   "execution_count": 60,
   "metadata": {},
   "outputs": [
    {
     "data": {
      "text/html": [
       "<table>\n",
       "<thead><tr><th></th><th scope=col>4Fundos DEF</th><th scope=col>4Fundos EW</th><th scope=col>4Fundos AGR</th></tr></thead>\n",
       "<tbody>\n",
       "\t<tr><th scope=row>2016-04-22</th><td>173.34</td><td>183.21</td><td>185.47</td></tr>\n",
       "\t<tr><th scope=row>2016-04-25</th><td>172.99</td><td>182.80</td><td>184.85</td></tr>\n",
       "\t<tr><th scope=row>2016-04-26</th><td>173.12</td><td>183.04</td><td>184.86</td></tr>\n",
       "\t<tr><th scope=row>2016-04-27</th><td>173.42</td><td>183.40</td><td>185.32</td></tr>\n",
       "\t<tr><th scope=row>2016-04-28</th><td>173.61</td><td>183.43</td><td>185.17</td></tr>\n",
       "\t<tr><th scope=row>2016-04-29</th><td>172.76</td><td>181.92</td><td>182.75</td></tr>\n",
       "</tbody>\n",
       "</table>\n"
      ],
      "text/latex": [
       "\\begin{tabular}{r|lll}\n",
       "  & 4Fundos DEF & 4Fundos EW & 4Fundos AGR\\\\\n",
       "\\hline\n",
       "\t2016-04-22 & 173.34 & 183.21 & 185.47\\\\\n",
       "\t2016-04-25 & 172.99 & 182.80 & 184.85\\\\\n",
       "\t2016-04-26 & 173.12 & 183.04 & 184.86\\\\\n",
       "\t2016-04-27 & 173.42 & 183.40 & 185.32\\\\\n",
       "\t2016-04-28 & 173.61 & 183.43 & 185.17\\\\\n",
       "\t2016-04-29 & 172.76 & 181.92 & 182.75\\\\\n",
       "\\end{tabular}\n"
      ],
      "text/markdown": [
       "\n",
       "| <!--/--> | 4Fundos DEF | 4Fundos EW | 4Fundos AGR |\n",
       "|---|---|---|---|\n",
       "| 2016-04-22 | 173.34 | 183.21 | 185.47 |\n",
       "| 2016-04-25 | 172.99 | 182.80 | 184.85 |\n",
       "| 2016-04-26 | 173.12 | 183.04 | 184.86 |\n",
       "| 2016-04-27 | 173.42 | 183.40 | 185.32 |\n",
       "| 2016-04-28 | 173.61 | 183.43 | 185.17 |\n",
       "| 2016-04-29 | 172.76 | 181.92 | 182.75 |\n",
       "\n"
      ],
      "text/plain": [
       "           4Fundos DEF 4Fundos EW 4Fundos AGR\n",
       "2016-04-22 173.34      183.21     185.47     \n",
       "2016-04-25 172.99      182.80     184.85     \n",
       "2016-04-26 173.12      183.04     184.86     \n",
       "2016-04-27 173.42      183.40     185.32     \n",
       "2016-04-28 173.61      183.43     185.17     \n",
       "2016-04-29 172.76      181.92     182.75     "
      ]
     },
     "metadata": {},
     "output_type": "display_data"
    }
   ],
   "source": [
    "head(three_years.df)"
   ]
  },
  {
   "cell_type": "code",
   "execution_count": 61,
   "metadata": {},
   "outputs": [],
   "source": [
    "cagr_three_years <- round((((tail(three_years.df, 1) / head(three_years.df, 1)) ^ (1/3)) - 1) * 100, 2)\n",
    "rownames(cagr_three_years) <- 'CAGR'\n",
    "\n",
    "three_years_sd <- round(t(apply(three_years.xts.ret, 2, FUN=StdDev.annualized)) * 100, 2)\n",
    "three_years_sharpe <- cagr_three_years / three_years_sd"
   ]
  },
  {
   "cell_type": "code",
   "execution_count": 62,
   "metadata": {},
   "outputs": [],
   "source": [
    "five_years.df  <- filter.df.date(Portfolios.df, years=5, previous.row=T)\n",
    "five_years.xts <- xts(five_years.df, order.by = ymd(rownames(five_years.df)))\n",
    "five_years.xts.ret <- xts(apply(five_years.xts, 2, FUN=Return.calculate), order.by = index(five_years.xts))[-1, ]\n",
    "\n",
    "cagr_five_years <- round((((tail(five_years.df, 1) / head(five_years.df, 1)) ^ (1/5)) - 1) * 100, 2)\n",
    "rownames(cagr_five_years) <- 'CAGR'\n",
    "\n",
    "five_years_sd <- round(t(apply(five_years.xts.ret, 2, FUN=StdDev.annualized)) * 100, 2)\n",
    "five_years_sharpe <- cagr_five_years / five_years_sd"
   ]
  },
  {
   "cell_type": "code",
   "execution_count": 63,
   "metadata": {},
   "outputs": [
    {
     "data": {
      "text/html": [
       "<table>\n",
       "<thead><tr><th></th><th scope=col>4Fundos DEF</th><th scope=col>4Fundos EW</th><th scope=col>4Fundos AGR</th></tr></thead>\n",
       "<tbody>\n",
       "\t<tr><th scope=row>2014-04-24</th><td>153.34</td><td>156.58</td><td>149.03</td></tr>\n",
       "\t<tr><th scope=row>2014-04-25</th><td>152.79</td><td>155.74</td><td>147.74</td></tr>\n",
       "\t<tr><th scope=row>2014-04-28</th><td>152.65</td><td>155.51</td><td>147.39</td></tr>\n",
       "\t<tr><th scope=row>2014-04-29</th><td>152.98</td><td>155.96</td><td>148.09</td></tr>\n",
       "\t<tr><th scope=row>2014-04-30</th><td>153.05</td><td>155.98</td><td>148.03</td></tr>\n",
       "\t<tr><th scope=row>2014-05-01</th><td>153.18</td><td>156.16</td><td>148.23</td></tr>\n",
       "</tbody>\n",
       "</table>\n"
      ],
      "text/latex": [
       "\\begin{tabular}{r|lll}\n",
       "  & 4Fundos DEF & 4Fundos EW & 4Fundos AGR\\\\\n",
       "\\hline\n",
       "\t2014-04-24 & 153.34 & 156.58 & 149.03\\\\\n",
       "\t2014-04-25 & 152.79 & 155.74 & 147.74\\\\\n",
       "\t2014-04-28 & 152.65 & 155.51 & 147.39\\\\\n",
       "\t2014-04-29 & 152.98 & 155.96 & 148.09\\\\\n",
       "\t2014-04-30 & 153.05 & 155.98 & 148.03\\\\\n",
       "\t2014-05-01 & 153.18 & 156.16 & 148.23\\\\\n",
       "\\end{tabular}\n"
      ],
      "text/markdown": [
       "\n",
       "| <!--/--> | 4Fundos DEF | 4Fundos EW | 4Fundos AGR |\n",
       "|---|---|---|---|\n",
       "| 2014-04-24 | 153.34 | 156.58 | 149.03 |\n",
       "| 2014-04-25 | 152.79 | 155.74 | 147.74 |\n",
       "| 2014-04-28 | 152.65 | 155.51 | 147.39 |\n",
       "| 2014-04-29 | 152.98 | 155.96 | 148.09 |\n",
       "| 2014-04-30 | 153.05 | 155.98 | 148.03 |\n",
       "| 2014-05-01 | 153.18 | 156.16 | 148.23 |\n",
       "\n"
      ],
      "text/plain": [
       "           4Fundos DEF 4Fundos EW 4Fundos AGR\n",
       "2014-04-24 153.34      156.58     149.03     \n",
       "2014-04-25 152.79      155.74     147.74     \n",
       "2014-04-28 152.65      155.51     147.39     \n",
       "2014-04-29 152.98      155.96     148.09     \n",
       "2014-04-30 153.05      155.98     148.03     \n",
       "2014-05-01 153.18      156.16     148.23     "
      ]
     },
     "metadata": {},
     "output_type": "display_data"
    }
   ],
   "source": [
    "head(five_years.df)"
   ]
  },
  {
   "cell_type": "code",
   "execution_count": 64,
   "metadata": {},
   "outputs": [],
   "source": [
    "ten_years.df  <- filter.df.date(Portfolios.df, years=10, previous.row=T)\n",
    "ten_years.xts <- xts(ten_years.df, order.by = ymd(rownames(ten_years.df)))\n",
    "ten_years.xts.ret <- xts(apply(ten_years.xts, 2, FUN=Return.calculate), order.by = index(ten_years.xts))[-1, ]\n",
    "\n",
    "cagr_ten_years <- round((((tail(ten_years.df, 1) / head(ten_years.df, 1)) ^ (1/10)) - 1) * 100, 2)\n",
    "rownames(cagr_ten_years) <- 'CAGR'\n",
    "\n",
    "ten_years_sd <- round(t(apply(ten_years.xts.ret, 2, FUN=StdDev.annualized)) * 100, 2)\n",
    "ten_years_sharpe <- cagr_ten_years / ten_years_sd"
   ]
  },
  {
   "cell_type": "code",
   "execution_count": 65,
   "metadata": {},
   "outputs": [
    {
     "data": {
      "text/html": [
       "<table>\n",
       "<thead><tr><th></th><th scope=col>4Fundos DEF</th><th scope=col>4Fundos EW</th><th scope=col>4Fundos AGR</th></tr></thead>\n",
       "<tbody>\n",
       "\t<tr><th scope=row>2009-04-24</th><td>86.28</td><td>79.14</td><td>68.13</td></tr>\n",
       "\t<tr><th scope=row>2009-04-27</th><td>86.59</td><td>79.44</td><td>68.40</td></tr>\n",
       "\t<tr><th scope=row>2009-04-28</th><td>86.64</td><td>79.38</td><td>68.18</td></tr>\n",
       "\t<tr><th scope=row>2009-04-29</th><td>86.94</td><td>79.79</td><td>68.69</td></tr>\n",
       "\t<tr><th scope=row>2009-04-30</th><td>87.32</td><td>80.29</td><td>69.28</td></tr>\n",
       "\t<tr><th scope=row>2009-05-01</th><td>87.33</td><td>80.21</td><td>69.07</td></tr>\n",
       "</tbody>\n",
       "</table>\n"
      ],
      "text/latex": [
       "\\begin{tabular}{r|lll}\n",
       "  & 4Fundos DEF & 4Fundos EW & 4Fundos AGR\\\\\n",
       "\\hline\n",
       "\t2009-04-24 & 86.28 & 79.14 & 68.13\\\\\n",
       "\t2009-04-27 & 86.59 & 79.44 & 68.40\\\\\n",
       "\t2009-04-28 & 86.64 & 79.38 & 68.18\\\\\n",
       "\t2009-04-29 & 86.94 & 79.79 & 68.69\\\\\n",
       "\t2009-04-30 & 87.32 & 80.29 & 69.28\\\\\n",
       "\t2009-05-01 & 87.33 & 80.21 & 69.07\\\\\n",
       "\\end{tabular}\n"
      ],
      "text/markdown": [
       "\n",
       "| <!--/--> | 4Fundos DEF | 4Fundos EW | 4Fundos AGR |\n",
       "|---|---|---|---|\n",
       "| 2009-04-24 | 86.28 | 79.14 | 68.13 |\n",
       "| 2009-04-27 | 86.59 | 79.44 | 68.40 |\n",
       "| 2009-04-28 | 86.64 | 79.38 | 68.18 |\n",
       "| 2009-04-29 | 86.94 | 79.79 | 68.69 |\n",
       "| 2009-04-30 | 87.32 | 80.29 | 69.28 |\n",
       "| 2009-05-01 | 87.33 | 80.21 | 69.07 |\n",
       "\n"
      ],
      "text/plain": [
       "           4Fundos DEF 4Fundos EW 4Fundos AGR\n",
       "2009-04-24 86.28       79.14      68.13      \n",
       "2009-04-27 86.59       79.44      68.40      \n",
       "2009-04-28 86.64       79.38      68.18      \n",
       "2009-04-29 86.94       79.79      68.69      \n",
       "2009-04-30 87.32       80.29      69.28      \n",
       "2009-05-01 87.33       80.21      69.07      "
      ]
     },
     "metadata": {},
     "output_type": "display_data"
    }
   ],
   "source": [
    "head(ten_years.df)"
   ]
  },
  {
   "cell_type": "code",
   "execution_count": 66,
   "metadata": {},
   "outputs": [],
   "source": [
    "one_year_pt <- round(rbind(cagr_one_year, one_year_sd, one_year_sharpe), 2)\n",
    "rownames(one_year_pt) <- c('CAGR', 'Std.dev', 'Sharpe')"
   ]
  },
  {
   "cell_type": "code",
   "execution_count": 67,
   "metadata": {},
   "outputs": [],
   "source": [
    "three_years_pt <- round(rbind(cagr_one_year, one_year_sd, one_year_sharpe), 2)\n",
    "rownames(one_year_pt) <- c('CAGR', 'Std.dev', 'Sharpe')"
   ]
  },
  {
   "cell_type": "code",
   "execution_count": 68,
   "metadata": {},
   "outputs": [],
   "source": [
    "three_years_pt <- round(rbind(cagr_three_years, three_years_sd, three_years_sharpe), 2)\n",
    "rownames(three_years_pt) <- c('CAGR', 'Std.dev', 'Sharpe')"
   ]
  },
  {
   "cell_type": "code",
   "execution_count": 69,
   "metadata": {},
   "outputs": [],
   "source": [
    "five_years_pt <- round(rbind(cagr_five_years, five_years_sd, five_years_sharpe), 2)\n",
    "rownames(five_years_pt) <- c('CAGR', 'Std.dev', 'Sharpe')"
   ]
  },
  {
   "cell_type": "code",
   "execution_count": 70,
   "metadata": {},
   "outputs": [],
   "source": [
    "ten_years_pt <- round(rbind(cagr_ten_years, ten_years_sd, ten_years_sharpe), 2)\n",
    "rownames(ten_years_pt) <- c('CAGR', 'Std.dev', 'Sharpe')"
   ]
  },
  {
   "cell_type": "code",
   "execution_count": 71,
   "metadata": {},
   "outputs": [],
   "source": [
    "# Passar as tabelas de performance para .csv\n",
    "write.csv(as.data.frame(one_year_pt), 'one_year_pt.csv')\n",
    "write.csv(as.data.frame(three_years_pt), 'three_years_pt.csv')\n",
    "write.csv(as.data.frame(five_years_pt), 'five_years_pt.csv')\n",
    "write.csv(as.data.frame(ten_years_pt), 'ten_years_pt.csv')"
   ]
  },
  {
   "cell_type": "code",
   "execution_count": 72,
   "metadata": {},
   "outputs": [],
   "source": [
    "one_year_rolling <- round(data.frame(ROC(Portfolios.df, n = 262, type = \"discrete\") * 100), 2)\n",
    "colnames(one_year_rolling) <- Nomes_fundos"
   ]
  },
  {
   "cell_type": "code",
   "execution_count": 73,
   "metadata": {},
   "outputs": [
    {
     "data": {
      "text/html": [
       "<table>\n",
       "<thead><tr><th></th><th scope=col>4Fundos DEF</th><th scope=col>4Fundos EW</th><th scope=col>4Fundos AGR</th></tr></thead>\n",
       "<tbody>\n",
       "\t<tr><th scope=row>2019-04-18</th><td>3.42 </td><td>5.54 </td><td> 8.51</td></tr>\n",
       "\t<tr><th scope=row>2019-04-19</th><td>3.69 </td><td>5.87 </td><td> 8.96</td></tr>\n",
       "\t<tr><th scope=row>2019-04-22</th><td>3.70 </td><td>5.84 </td><td> 8.94</td></tr>\n",
       "\t<tr><th scope=row>2019-04-23</th><td>4.18 </td><td>6.47 </td><td> 9.78</td></tr>\n",
       "\t<tr><th scope=row>2019-04-24</th><td>4.62 </td><td>7.04 </td><td>10.51</td></tr>\n",
       "\t<tr><th scope=row>2019-04-25</th><td>4.80 </td><td>7.22 </td><td>10.88</td></tr>\n",
       "</tbody>\n",
       "</table>\n"
      ],
      "text/latex": [
       "\\begin{tabular}{r|lll}\n",
       "  & 4Fundos DEF & 4Fundos EW & 4Fundos AGR\\\\\n",
       "\\hline\n",
       "\t2019-04-18 & 3.42  & 5.54  &  8.51\\\\\n",
       "\t2019-04-19 & 3.69  & 5.87  &  8.96\\\\\n",
       "\t2019-04-22 & 3.70  & 5.84  &  8.94\\\\\n",
       "\t2019-04-23 & 4.18  & 6.47  &  9.78\\\\\n",
       "\t2019-04-24 & 4.62  & 7.04  & 10.51\\\\\n",
       "\t2019-04-25 & 4.80  & 7.22  & 10.88\\\\\n",
       "\\end{tabular}\n"
      ],
      "text/markdown": [
       "\n",
       "| <!--/--> | 4Fundos DEF | 4Fundos EW | 4Fundos AGR |\n",
       "|---|---|---|---|\n",
       "| 2019-04-18 | 3.42  | 5.54  |  8.51 |\n",
       "| 2019-04-19 | 3.69  | 5.87  |  8.96 |\n",
       "| 2019-04-22 | 3.70  | 5.84  |  8.94 |\n",
       "| 2019-04-23 | 4.18  | 6.47  |  9.78 |\n",
       "| 2019-04-24 | 4.62  | 7.04  | 10.51 |\n",
       "| 2019-04-25 | 4.80  | 7.22  | 10.88 |\n",
       "\n"
      ],
      "text/plain": [
       "           4Fundos DEF 4Fundos EW 4Fundos AGR\n",
       "2019-04-18 3.42        5.54        8.51      \n",
       "2019-04-19 3.69        5.87        8.96      \n",
       "2019-04-22 3.70        5.84        8.94      \n",
       "2019-04-23 4.18        6.47        9.78      \n",
       "2019-04-24 4.62        7.04       10.51      \n",
       "2019-04-25 4.80        7.22       10.88      "
      ]
     },
     "metadata": {},
     "output_type": "display_data"
    }
   ],
   "source": [
    "tail(one_year_rolling)"
   ]
  },
  {
   "cell_type": "code",
   "execution_count": 74,
   "metadata": {},
   "outputs": [
    {
     "data": {
      "text/html": [
       "<table>\n",
       "<thead><tr><th></th><th scope=col>4Fundos DEF</th><th scope=col>4Fundos EW</th><th scope=col>4Fundos AGR</th></tr></thead>\n",
       "<tbody>\n",
       "\t<tr><th scope=row>CAGR</th><td>4.80 </td><td>7.22 </td><td>10.88</td></tr>\n",
       "\t<tr><th scope=row>Std.dev</th><td>3.83 </td><td>6.18 </td><td> 9.59</td></tr>\n",
       "\t<tr><th scope=row>Sharpe</th><td>1.25 </td><td>1.17 </td><td> 1.13</td></tr>\n",
       "</tbody>\n",
       "</table>\n"
      ],
      "text/latex": [
       "\\begin{tabular}{r|lll}\n",
       "  & 4Fundos DEF & 4Fundos EW & 4Fundos AGR\\\\\n",
       "\\hline\n",
       "\tCAGR & 4.80  & 7.22  & 10.88\\\\\n",
       "\tStd.dev & 3.83  & 6.18  &  9.59\\\\\n",
       "\tSharpe & 1.25  & 1.17  &  1.13\\\\\n",
       "\\end{tabular}\n"
      ],
      "text/markdown": [
       "\n",
       "| <!--/--> | 4Fundos DEF | 4Fundos EW | 4Fundos AGR |\n",
       "|---|---|---|---|\n",
       "| CAGR | 4.80  | 7.22  | 10.88 |\n",
       "| Std.dev | 3.83  | 6.18  |  9.59 |\n",
       "| Sharpe | 1.25  | 1.17  |  1.13 |\n",
       "\n"
      ],
      "text/plain": [
       "        4Fundos DEF 4Fundos EW 4Fundos AGR\n",
       "CAGR    4.80        7.22       10.88      \n",
       "Std.dev 3.83        6.18        9.59      \n",
       "Sharpe  1.25        1.17        1.13      "
      ]
     },
     "metadata": {},
     "output_type": "display_data"
    }
   ],
   "source": [
    "one_year_pt"
   ]
  },
  {
   "cell_type": "code",
   "execution_count": 75,
   "metadata": {},
   "outputs": [],
   "source": [
    "three_years_rolling <- data.frame(ROC(Portfolios.df, n = 261 * 3, type = \"discrete\"))\n",
    "three_years_rolling <- round(((((1 + three_years_rolling) ^ (1/3)) - 1 ) * 100), 2)\n",
    "colnames(three_years_rolling) <- Nomes_fundos"
   ]
  },
  {
   "cell_type": "code",
   "execution_count": 76,
   "metadata": {},
   "outputs": [
    {
     "data": {
      "text/html": [
       "<table>\n",
       "<thead><tr><th></th><th scope=col>4Fundos DEF</th><th scope=col>4Fundos EW</th><th scope=col>4Fundos AGR</th></tr></thead>\n",
       "<tbody>\n",
       "\t<tr><th scope=row>2019-04-18</th><td>3.92</td><td>6.11</td><td>8.58</td></tr>\n",
       "\t<tr><th scope=row>2019-04-19</th><td>3.98</td><td>6.16</td><td>8.66</td></tr>\n",
       "\t<tr><th scope=row>2019-04-22</th><td>3.94</td><td>6.11</td><td>8.61</td></tr>\n",
       "\t<tr><th scope=row>2019-04-23</th><td>4.15</td><td>6.39</td><td>9.04</td></tr>\n",
       "\t<tr><th scope=row>2019-04-24</th><td>4.17</td><td>6.39</td><td>9.09</td></tr>\n",
       "\t<tr><th scope=row>2019-04-25</th><td>4.12</td><td>6.33</td><td>9.03</td></tr>\n",
       "</tbody>\n",
       "</table>\n"
      ],
      "text/latex": [
       "\\begin{tabular}{r|lll}\n",
       "  & 4Fundos DEF & 4Fundos EW & 4Fundos AGR\\\\\n",
       "\\hline\n",
       "\t2019-04-18 & 3.92 & 6.11 & 8.58\\\\\n",
       "\t2019-04-19 & 3.98 & 6.16 & 8.66\\\\\n",
       "\t2019-04-22 & 3.94 & 6.11 & 8.61\\\\\n",
       "\t2019-04-23 & 4.15 & 6.39 & 9.04\\\\\n",
       "\t2019-04-24 & 4.17 & 6.39 & 9.09\\\\\n",
       "\t2019-04-25 & 4.12 & 6.33 & 9.03\\\\\n",
       "\\end{tabular}\n"
      ],
      "text/markdown": [
       "\n",
       "| <!--/--> | 4Fundos DEF | 4Fundos EW | 4Fundos AGR |\n",
       "|---|---|---|---|\n",
       "| 2019-04-18 | 3.92 | 6.11 | 8.58 |\n",
       "| 2019-04-19 | 3.98 | 6.16 | 8.66 |\n",
       "| 2019-04-22 | 3.94 | 6.11 | 8.61 |\n",
       "| 2019-04-23 | 4.15 | 6.39 | 9.04 |\n",
       "| 2019-04-24 | 4.17 | 6.39 | 9.09 |\n",
       "| 2019-04-25 | 4.12 | 6.33 | 9.03 |\n",
       "\n"
      ],
      "text/plain": [
       "           4Fundos DEF 4Fundos EW 4Fundos AGR\n",
       "2019-04-18 3.92        6.11       8.58       \n",
       "2019-04-19 3.98        6.16       8.66       \n",
       "2019-04-22 3.94        6.11       8.61       \n",
       "2019-04-23 4.15        6.39       9.04       \n",
       "2019-04-24 4.17        6.39       9.09       \n",
       "2019-04-25 4.12        6.33       9.03       "
      ]
     },
     "metadata": {},
     "output_type": "display_data"
    }
   ],
   "source": [
    "tail(three_years_rolling)"
   ]
  },
  {
   "cell_type": "code",
   "execution_count": 77,
   "metadata": {},
   "outputs": [
    {
     "data": {
      "text/html": [
       "<table>\n",
       "<thead><tr><th></th><th scope=col>4Fundos DEF</th><th scope=col>4Fundos EW</th><th scope=col>4Fundos AGR</th></tr></thead>\n",
       "<tbody>\n",
       "\t<tr><th scope=row>CAGR</th><td>4.14</td><td>6.37</td><td>9.00</td></tr>\n",
       "\t<tr><th scope=row>Std.dev</th><td>3.56</td><td>5.68</td><td>8.78</td></tr>\n",
       "\t<tr><th scope=row>Sharpe</th><td>1.16</td><td>1.12</td><td>1.03</td></tr>\n",
       "</tbody>\n",
       "</table>\n"
      ],
      "text/latex": [
       "\\begin{tabular}{r|lll}\n",
       "  & 4Fundos DEF & 4Fundos EW & 4Fundos AGR\\\\\n",
       "\\hline\n",
       "\tCAGR & 4.14 & 6.37 & 9.00\\\\\n",
       "\tStd.dev & 3.56 & 5.68 & 8.78\\\\\n",
       "\tSharpe & 1.16 & 1.12 & 1.03\\\\\n",
       "\\end{tabular}\n"
      ],
      "text/markdown": [
       "\n",
       "| <!--/--> | 4Fundos DEF | 4Fundos EW | 4Fundos AGR |\n",
       "|---|---|---|---|\n",
       "| CAGR | 4.14 | 6.37 | 9.00 |\n",
       "| Std.dev | 3.56 | 5.68 | 8.78 |\n",
       "| Sharpe | 1.16 | 1.12 | 1.03 |\n",
       "\n"
      ],
      "text/plain": [
       "        4Fundos DEF 4Fundos EW 4Fundos AGR\n",
       "CAGR    4.14        6.37       9.00       \n",
       "Std.dev 3.56        5.68       8.78       \n",
       "Sharpe  1.16        1.12       1.03       "
      ]
     },
     "metadata": {},
     "output_type": "display_data"
    }
   ],
   "source": [
    "three_years_pt"
   ]
  },
  {
   "cell_type": "code",
   "execution_count": 78,
   "metadata": {},
   "outputs": [],
   "source": [
    "five_years_rolling <- data.frame(ROC(Portfolios.df, n = 261 * 5, type = \"discrete\"))\n",
    "five_years_rolling <- round(((((1 + five_years_rolling) ^ (1/5)) - 1 ) * 100), 2)\n",
    "colnames(five_years_rolling) <- Nomes_fundos"
   ]
  },
  {
   "cell_type": "code",
   "execution_count": 79,
   "metadata": {},
   "outputs": [
    {
     "data": {
      "text/html": [
       "<table>\n",
       "<thead><tr><th></th><th scope=col>4Fundos DEF</th><th scope=col>4Fundos EW</th><th scope=col>4Fundos AGR</th></tr></thead>\n",
       "<tbody>\n",
       "\t<tr><th scope=row>2019-04-18</th><td>4.97 </td><td>7.03 </td><td> 9.94</td></tr>\n",
       "\t<tr><th scope=row>2019-04-19</th><td>4.89 </td><td>6.92 </td><td> 9.76</td></tr>\n",
       "\t<tr><th scope=row>2019-04-22</th><td>4.90 </td><td>6.95 </td><td> 9.82</td></tr>\n",
       "\t<tr><th scope=row>2019-04-23</th><td>4.97 </td><td>7.05 </td><td> 9.97</td></tr>\n",
       "\t<tr><th scope=row>2019-04-24</th><td>5.08 </td><td>7.19 </td><td>10.19</td></tr>\n",
       "\t<tr><th scope=row>2019-04-25</th><td>5.10 </td><td>7.23 </td><td>10.26</td></tr>\n",
       "</tbody>\n",
       "</table>\n"
      ],
      "text/latex": [
       "\\begin{tabular}{r|lll}\n",
       "  & 4Fundos DEF & 4Fundos EW & 4Fundos AGR\\\\\n",
       "\\hline\n",
       "\t2019-04-18 & 4.97  & 7.03  &  9.94\\\\\n",
       "\t2019-04-19 & 4.89  & 6.92  &  9.76\\\\\n",
       "\t2019-04-22 & 4.90  & 6.95  &  9.82\\\\\n",
       "\t2019-04-23 & 4.97  & 7.05  &  9.97\\\\\n",
       "\t2019-04-24 & 5.08  & 7.19  & 10.19\\\\\n",
       "\t2019-04-25 & 5.10  & 7.23  & 10.26\\\\\n",
       "\\end{tabular}\n"
      ],
      "text/markdown": [
       "\n",
       "| <!--/--> | 4Fundos DEF | 4Fundos EW | 4Fundos AGR |\n",
       "|---|---|---|---|\n",
       "| 2019-04-18 | 4.97  | 7.03  |  9.94 |\n",
       "| 2019-04-19 | 4.89  | 6.92  |  9.76 |\n",
       "| 2019-04-22 | 4.90  | 6.95  |  9.82 |\n",
       "| 2019-04-23 | 4.97  | 7.05  |  9.97 |\n",
       "| 2019-04-24 | 5.08  | 7.19  | 10.19 |\n",
       "| 2019-04-25 | 5.10  | 7.23  | 10.26 |\n",
       "\n"
      ],
      "text/plain": [
       "           4Fundos DEF 4Fundos EW 4Fundos AGR\n",
       "2019-04-18 4.97        7.03        9.94      \n",
       "2019-04-19 4.89        6.92        9.76      \n",
       "2019-04-22 4.90        6.95        9.82      \n",
       "2019-04-23 4.97        7.05        9.97      \n",
       "2019-04-24 5.08        7.19       10.19      \n",
       "2019-04-25 5.10        7.23       10.26      "
      ]
     },
     "metadata": {},
     "output_type": "display_data"
    }
   ],
   "source": [
    "tail(five_years_rolling)"
   ]
  },
  {
   "cell_type": "code",
   "execution_count": 80,
   "metadata": {},
   "outputs": [
    {
     "data": {
      "text/html": [
       "<table>\n",
       "<thead><tr><th></th><th scope=col>4Fundos DEF</th><th scope=col>4Fundos EW</th><th scope=col>4Fundos AGR</th></tr></thead>\n",
       "<tbody>\n",
       "\t<tr><th scope=row>CAGR</th><td>5.01 </td><td>7.09 </td><td>10.01</td></tr>\n",
       "\t<tr><th scope=row>Std.dev</th><td>4.39 </td><td>6.82 </td><td>10.49</td></tr>\n",
       "\t<tr><th scope=row>Sharpe</th><td>1.14 </td><td>1.04 </td><td> 0.95</td></tr>\n",
       "</tbody>\n",
       "</table>\n"
      ],
      "text/latex": [
       "\\begin{tabular}{r|lll}\n",
       "  & 4Fundos DEF & 4Fundos EW & 4Fundos AGR\\\\\n",
       "\\hline\n",
       "\tCAGR & 5.01  & 7.09  & 10.01\\\\\n",
       "\tStd.dev & 4.39  & 6.82  & 10.49\\\\\n",
       "\tSharpe & 1.14  & 1.04  &  0.95\\\\\n",
       "\\end{tabular}\n"
      ],
      "text/markdown": [
       "\n",
       "| <!--/--> | 4Fundos DEF | 4Fundos EW | 4Fundos AGR |\n",
       "|---|---|---|---|\n",
       "| CAGR | 5.01  | 7.09  | 10.01 |\n",
       "| Std.dev | 4.39  | 6.82  | 10.49 |\n",
       "| Sharpe | 1.14  | 1.04  |  0.95 |\n",
       "\n"
      ],
      "text/plain": [
       "        4Fundos DEF 4Fundos EW 4Fundos AGR\n",
       "CAGR    5.01        7.09       10.01      \n",
       "Std.dev 4.39        6.82       10.49      \n",
       "Sharpe  1.14        1.04        0.95      "
      ]
     },
     "metadata": {},
     "output_type": "display_data"
    }
   ],
   "source": [
    "five_years_pt"
   ]
  },
  {
   "cell_type": "code",
   "execution_count": 81,
   "metadata": {},
   "outputs": [],
   "source": [
    "ten_years_rolling <- data.frame(ROC(Portfolios.df, n = 261 * 10, type = \"discrete\"))\n",
    "ten_years_rolling <- round(((((1 + ten_years_rolling) ^ (1/10)) - 1 ) * 100), 2)\n",
    "colnames(ten_years_rolling) <- Nomes_fundos"
   ]
  },
  {
   "cell_type": "code",
   "execution_count": 82,
   "metadata": {},
   "outputs": [
    {
     "data": {
      "text/html": [
       "<table>\n",
       "<thead><tr><th></th><th scope=col>4Fundos DEF</th><th scope=col>4Fundos EW</th><th scope=col>4Fundos AGR</th></tr></thead>\n",
       "<tbody>\n",
       "\t<tr><th scope=row>2019-04-18</th><td>8.44 </td><td>10.68</td><td>13.31</td></tr>\n",
       "\t<tr><th scope=row>2019-04-19</th><td>8.40 </td><td>10.63</td><td>13.22</td></tr>\n",
       "\t<tr><th scope=row>2019-04-22</th><td>8.35 </td><td>10.55</td><td>13.12</td></tr>\n",
       "\t<tr><th scope=row>2019-04-23</th><td>8.39 </td><td>10.62</td><td>13.25</td></tr>\n",
       "\t<tr><th scope=row>2019-04-24</th><td>8.37 </td><td>10.58</td><td>13.17</td></tr>\n",
       "\t<tr><th scope=row>2019-04-25</th><td>8.30 </td><td>10.48</td><td>13.03</td></tr>\n",
       "</tbody>\n",
       "</table>\n"
      ],
      "text/latex": [
       "\\begin{tabular}{r|lll}\n",
       "  & 4Fundos DEF & 4Fundos EW & 4Fundos AGR\\\\\n",
       "\\hline\n",
       "\t2019-04-18 & 8.44  & 10.68 & 13.31\\\\\n",
       "\t2019-04-19 & 8.40  & 10.63 & 13.22\\\\\n",
       "\t2019-04-22 & 8.35  & 10.55 & 13.12\\\\\n",
       "\t2019-04-23 & 8.39  & 10.62 & 13.25\\\\\n",
       "\t2019-04-24 & 8.37  & 10.58 & 13.17\\\\\n",
       "\t2019-04-25 & 8.30  & 10.48 & 13.03\\\\\n",
       "\\end{tabular}\n"
      ],
      "text/markdown": [
       "\n",
       "| <!--/--> | 4Fundos DEF | 4Fundos EW | 4Fundos AGR |\n",
       "|---|---|---|---|\n",
       "| 2019-04-18 | 8.44  | 10.68 | 13.31 |\n",
       "| 2019-04-19 | 8.40  | 10.63 | 13.22 |\n",
       "| 2019-04-22 | 8.35  | 10.55 | 13.12 |\n",
       "| 2019-04-23 | 8.39  | 10.62 | 13.25 |\n",
       "| 2019-04-24 | 8.37  | 10.58 | 13.17 |\n",
       "| 2019-04-25 | 8.30  | 10.48 | 13.03 |\n",
       "\n"
      ],
      "text/plain": [
       "           4Fundos DEF 4Fundos EW 4Fundos AGR\n",
       "2019-04-18 8.44        10.68      13.31      \n",
       "2019-04-19 8.40        10.63      13.22      \n",
       "2019-04-22 8.35        10.55      13.12      \n",
       "2019-04-23 8.39        10.62      13.25      \n",
       "2019-04-24 8.37        10.58      13.17      \n",
       "2019-04-25 8.30        10.48      13.03      "
      ]
     },
     "metadata": {},
     "output_type": "display_data"
    }
   ],
   "source": [
    "tail(ten_years_rolling)"
   ]
  },
  {
   "cell_type": "code",
   "execution_count": 83,
   "metadata": {},
   "outputs": [
    {
     "data": {
      "text/html": [
       "<table>\n",
       "<thead><tr><th></th><th scope=col>4Fundos DEF</th><th scope=col>4Fundos EW</th><th scope=col>4Fundos AGR</th></tr></thead>\n",
       "<tbody>\n",
       "\t<tr><th scope=row>CAGR</th><td>8.54 </td><td>10.79</td><td>13.43</td></tr>\n",
       "\t<tr><th scope=row>Std.dev</th><td>4.17 </td><td> 6.51</td><td>10.11</td></tr>\n",
       "\t<tr><th scope=row>Sharpe</th><td>2.05 </td><td> 1.66</td><td> 1.33</td></tr>\n",
       "</tbody>\n",
       "</table>\n"
      ],
      "text/latex": [
       "\\begin{tabular}{r|lll}\n",
       "  & 4Fundos DEF & 4Fundos EW & 4Fundos AGR\\\\\n",
       "\\hline\n",
       "\tCAGR & 8.54  & 10.79 & 13.43\\\\\n",
       "\tStd.dev & 4.17  &  6.51 & 10.11\\\\\n",
       "\tSharpe & 2.05  &  1.66 &  1.33\\\\\n",
       "\\end{tabular}\n"
      ],
      "text/markdown": [
       "\n",
       "| <!--/--> | 4Fundos DEF | 4Fundos EW | 4Fundos AGR |\n",
       "|---|---|---|---|\n",
       "| CAGR | 8.54  | 10.79 | 13.43 |\n",
       "| Std.dev | 4.17  |  6.51 | 10.11 |\n",
       "| Sharpe | 2.05  |  1.66 |  1.33 |\n",
       "\n"
      ],
      "text/plain": [
       "        4Fundos DEF 4Fundos EW 4Fundos AGR\n",
       "CAGR    8.54        10.79      13.43      \n",
       "Std.dev 4.17         6.51      10.11      \n",
       "Sharpe  2.05         1.66       1.33      "
      ]
     },
     "metadata": {},
     "output_type": "display_data"
    }
   ],
   "source": [
    "ten_years_pt"
   ]
  },
  {
   "cell_type": "code",
   "execution_count": 84,
   "metadata": {},
   "outputs": [],
   "source": [
    "# write .csv of rolling returns per year\n",
    "write.csv(as.data.frame(one_year_rolling), 'one_year_rolling.csv')\n",
    "write.csv(as.data.frame(three_years_rolling), 'three_years_rolling.csv')\n",
    "write.csv(as.data.frame(five_years_rolling), 'five_years_rolling.csv')\n",
    "write.csv(as.data.frame(ten_years_rolling), 'ten_years_rolling.csv')"
   ]
  },
  {
   "cell_type": "code",
   "execution_count": 85,
   "metadata": {},
   "outputs": [],
   "source": [
    "def_rolling <- cbind(one_year_rolling[, 1], three_years_rolling[, 1],\n",
    "                     five_years_rolling[, 1],ten_years_rolling[, 1])\n",
    "years <- c('1 Ano', '3 Anos', '5 Anos', '10 Anos')\n",
    "colnames(def_rolling) <- years"
   ]
  },
  {
   "cell_type": "code",
   "execution_count": 86,
   "metadata": {},
   "outputs": [
    {
     "data": {
      "text/html": [
       "<table>\n",
       "<thead><tr><th></th><th scope=col>1 Ano</th><th scope=col>3 Anos</th><th scope=col>5 Anos</th><th scope=col>10 Anos</th></tr></thead>\n",
       "<tbody>\n",
       "\t<tr><th scope=row>[3139,]</th><td>3.42</td><td>3.92</td><td>4.97</td><td>8.44</td></tr>\n",
       "\t<tr><th scope=row>[3140,]</th><td>3.69</td><td>3.98</td><td>4.89</td><td>8.40</td></tr>\n",
       "\t<tr><th scope=row>[3141,]</th><td>3.70</td><td>3.94</td><td>4.90</td><td>8.35</td></tr>\n",
       "\t<tr><th scope=row>[3142,]</th><td>4.18</td><td>4.15</td><td>4.97</td><td>8.39</td></tr>\n",
       "\t<tr><th scope=row>[3143,]</th><td>4.62</td><td>4.17</td><td>5.08</td><td>8.37</td></tr>\n",
       "\t<tr><th scope=row>[3144,]</th><td>4.80</td><td>4.12</td><td>5.10</td><td>8.30</td></tr>\n",
       "</tbody>\n",
       "</table>\n"
      ],
      "text/latex": [
       "\\begin{tabular}{r|llll}\n",
       "  & 1 Ano & 3 Anos & 5 Anos & 10 Anos\\\\\n",
       "\\hline\n",
       "\t{[}3139,{]} & 3.42 & 3.92 & 4.97 & 8.44\\\\\n",
       "\t{[}3140,{]} & 3.69 & 3.98 & 4.89 & 8.40\\\\\n",
       "\t{[}3141,{]} & 3.70 & 3.94 & 4.90 & 8.35\\\\\n",
       "\t{[}3142,{]} & 4.18 & 4.15 & 4.97 & 8.39\\\\\n",
       "\t{[}3143,{]} & 4.62 & 4.17 & 5.08 & 8.37\\\\\n",
       "\t{[}3144,{]} & 4.80 & 4.12 & 5.10 & 8.30\\\\\n",
       "\\end{tabular}\n"
      ],
      "text/markdown": [
       "\n",
       "| <!--/--> | 1 Ano | 3 Anos | 5 Anos | 10 Anos |\n",
       "|---|---|---|---|---|\n",
       "| [3139,] | 3.42 | 3.92 | 4.97 | 8.44 |\n",
       "| [3140,] | 3.69 | 3.98 | 4.89 | 8.40 |\n",
       "| [3141,] | 3.70 | 3.94 | 4.90 | 8.35 |\n",
       "| [3142,] | 4.18 | 4.15 | 4.97 | 8.39 |\n",
       "| [3143,] | 4.62 | 4.17 | 5.08 | 8.37 |\n",
       "| [3144,] | 4.80 | 4.12 | 5.10 | 8.30 |\n",
       "\n"
      ],
      "text/plain": [
       "        1 Ano 3 Anos 5 Anos 10 Anos\n",
       "[3139,] 3.42  3.92   4.97   8.44   \n",
       "[3140,] 3.69  3.98   4.89   8.40   \n",
       "[3141,] 3.70  3.94   4.90   8.35   \n",
       "[3142,] 4.18  4.15   4.97   8.39   \n",
       "[3143,] 4.62  4.17   5.08   8.37   \n",
       "[3144,] 4.80  4.12   5.10   8.30   "
      ]
     },
     "metadata": {},
     "output_type": "display_data"
    }
   ],
   "source": [
    "tail(def_rolling)"
   ]
  },
  {
   "cell_type": "code",
   "execution_count": 87,
   "metadata": {},
   "outputs": [],
   "source": [
    "ew_rolling <- cbind(one_year_rolling[, 2], three_years_rolling[, 2],\n",
    "                     five_years_rolling[, 2],ten_years_rolling[, 2])\n",
    "colnames(ew_rolling) <- years"
   ]
  },
  {
   "cell_type": "code",
   "execution_count": 88,
   "metadata": {},
   "outputs": [],
   "source": [
    "agr_rolling <- cbind(one_year_rolling[, 3], three_years_rolling[, 3],\n",
    "                      five_years_rolling[, 3],ten_years_rolling[, 3])\n",
    "colnames(agr_rolling) <- years"
   ]
  },
  {
   "cell_type": "code",
   "execution_count": 89,
   "metadata": {},
   "outputs": [],
   "source": [
    "# write .csv of rolling returns per portfolio\n",
    "write.csv(as.data.frame(def_rolling), 'def_rolling.csv')\n",
    "write.csv(as.data.frame(ew_rolling),  'ew_rolling.csv')\n",
    "write.csv(as.data.frame(agr_rolling), 'agr_rolling.csv')"
   ]
  },
  {
   "cell_type": "code",
   "execution_count": null,
   "metadata": {},
   "outputs": [],
   "source": []
  },
  {
   "cell_type": "code",
   "execution_count": 90,
   "metadata": {},
   "outputs": [],
   "source": [
    "today <-ymd('2017-10-04')\n",
    "dob   <-ymd('2007-04-23')"
   ]
  },
  {
   "cell_type": "code",
   "execution_count": 91,
   "metadata": {},
   "outputs": [
    {
     "data": {
      "text/html": [
       "10.4360902255639"
      ],
      "text/latex": [
       "10.4360902255639"
      ],
      "text/markdown": [
       "10.4360902255639"
      ],
      "text/plain": [
       "[1] 10.43609"
      ]
     },
     "metadata": {},
     "output_type": "display_data"
    }
   ],
   "source": [
    "as.numeric(difftime(today, dob, unit=\"weeks\"))/52.25"
   ]
  },
  {
   "cell_type": "code",
   "execution_count": 92,
   "metadata": {},
   "outputs": [
    {
     "data": {
      "text/html": [
       "<ol class=list-inline>\n",
       "\t<li>3144</li>\n",
       "\t<li>3</li>\n",
       "</ol>\n"
      ],
      "text/latex": [
       "\\begin{enumerate*}\n",
       "\\item 3144\n",
       "\\item 3\n",
       "\\end{enumerate*}\n"
      ],
      "text/markdown": [
       "1. 3144\n",
       "2. 3\n",
       "\n",
       "\n"
      ],
      "text/plain": [
       "[1] 3144    3"
      ]
     },
     "metadata": {},
     "output_type": "display_data"
    }
   ],
   "source": [
    "dim(one_year_rolling)"
   ]
  },
  {
   "cell_type": "code",
   "execution_count": 93,
   "metadata": {},
   "outputs": [
    {
     "data": {
      "text/html": [
       "261.400576368876"
      ],
      "text/latex": [
       "261.400576368876"
      ],
      "text/markdown": [
       "261.400576368876"
      ],
      "text/plain": [
       "[1] 261.4006"
      ]
     },
     "metadata": {},
     "output_type": "display_data"
    }
   ],
   "source": [
    "2728 / 10.4360902255639"
   ]
  },
  {
   "cell_type": "code",
   "execution_count": 94,
   "metadata": {},
   "outputs": [
    {
     "data": {
      "text/html": [
       "'data.frame'"
      ],
      "text/latex": [
       "'data.frame'"
      ],
      "text/markdown": [
       "'data.frame'"
      ],
      "text/plain": [
       "[1] \"data.frame\""
      ]
     },
     "metadata": {},
     "output_type": "display_data"
    }
   ],
   "source": [
    "class(one_year_rolling)"
   ]
  },
  {
   "cell_type": "code",
   "execution_count": 95,
   "metadata": {},
   "outputs": [
    {
     "data": {
      "text/html": [
       "<table>\n",
       "<thead><tr><th></th><th scope=col>4Fundos DEF</th><th scope=col>4Fundos EW</th><th scope=col>4Fundos AGR</th></tr></thead>\n",
       "<tbody>\n",
       "\t<tr><th scope=row>2019-04-22</th><td>194.66</td><td>218.87</td><td>237.62</td></tr>\n",
       "\t<tr><th scope=row>2019-04-23</th><td>195.41</td><td>220.13</td><td>239.67</td></tr>\n",
       "\t<tr><th scope=row>2019-04-24</th><td>195.71</td><td>220.39</td><td>239.97</td></tr>\n",
       "\t<tr><th scope=row>2019-04-25</th><td>195.77</td><td>220.50</td><td>240.16</td></tr>\n",
       "</tbody>\n",
       "</table>\n"
      ],
      "text/latex": [
       "\\begin{tabular}{r|lll}\n",
       "  & 4Fundos DEF & 4Fundos EW & 4Fundos AGR\\\\\n",
       "\\hline\n",
       "\t2019-04-22 & 194.66 & 218.87 & 237.62\\\\\n",
       "\t2019-04-23 & 195.41 & 220.13 & 239.67\\\\\n",
       "\t2019-04-24 & 195.71 & 220.39 & 239.97\\\\\n",
       "\t2019-04-25 & 195.77 & 220.50 & 240.16\\\\\n",
       "\\end{tabular}\n"
      ],
      "text/markdown": [
       "\n",
       "| <!--/--> | 4Fundos DEF | 4Fundos EW | 4Fundos AGR |\n",
       "|---|---|---|---|\n",
       "| 2019-04-22 | 194.66 | 218.87 | 237.62 |\n",
       "| 2019-04-23 | 195.41 | 220.13 | 239.67 |\n",
       "| 2019-04-24 | 195.71 | 220.39 | 239.97 |\n",
       "| 2019-04-25 | 195.77 | 220.50 | 240.16 |\n",
       "\n"
      ],
      "text/plain": [
       "           4Fundos DEF 4Fundos EW 4Fundos AGR\n",
       "2019-04-22 194.66      218.87     237.62     \n",
       "2019-04-23 195.41      220.13     239.67     \n",
       "2019-04-24 195.71      220.39     239.97     \n",
       "2019-04-25 195.77      220.50     240.16     "
      ]
     },
     "metadata": {},
     "output_type": "display_data"
    }
   ],
   "source": [
    "filter.df.date(five_years.df, days=5)"
   ]
  },
  {
   "cell_type": "code",
   "execution_count": null,
   "metadata": {},
   "outputs": [],
   "source": []
  }
 ],
 "metadata": {
  "kernelspec": {
   "display_name": "R",
   "language": "R",
   "name": "ir"
  },
  "language_info": {
   "codemirror_mode": "r",
   "file_extension": ".r",
   "mimetype": "text/x-r-source",
   "name": "R",
   "pygments_lexer": "r",
   "version": "3.5.2"
  }
 },
 "nbformat": 4,
 "nbformat_minor": 2
}

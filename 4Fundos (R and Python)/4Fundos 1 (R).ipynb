{
 "cells": [
  {
   "cell_type": "markdown",
   "metadata": {},
   "source": [
    "**A Carteira 4Fundos DEF é composta por:**\n",
    "\n",
    "  * _15% Fidelity Global Cnsmr Inds A-Dis-EUR LU0114721508_\n",
    "  * _15% GS Glb SmCp CORE® Eq E EUR Acc Close LU0245181838_\n",
    "  * _15% M&G Optimal Income Euro A-H Acc GB00B1VMCY93_\n",
    "  * _55% PIMCO GIS Global Bond E Acc EUR H IE00B11XZ103_\n",
    "\n",
    "**A Carteira 4Fundos EW é composta por:**\n",
    "\n",
    "  * _25% Fidelity Global Cnsmr Inds A-Dis-EUR LU0114721508_\n",
    "  * _25% GS Glb SmCp CORE® Eq E EUR Acc Close LU0245181838_\n",
    "  * _25% M&G Optimal Income Euro A-H Acc GB00B1VMCY93_\n",
    "  * _25% PIMCO GIS Global Bond E Acc EUR H IE00B11XZ103_\n",
    "\n",
    "**A Carteira 4Fundos AGR é composta por:**\n",
    "\n",
    "  * _40% Fidelity Global Cnsmr Inds A-Dis-EUR LU0114721508_\n",
    "  * _40% GS Glb SmCp CORE® Eq E EUR Acc Close LU0245181838_\n",
    "  * _10% M&G Optimal Income Euro A-H Acc GB00B1VMCY93_\n",
    "  * _10% PIMCO GIS Global Bond E Acc EUR H IE00B11XZ103_"
   ]
  },
  {
   "cell_type": "code",
   "execution_count": 234,
   "metadata": {},
   "outputs": [],
   "source": [
    "suppressMessages(library(PerformanceAnalytics))\n",
    "suppressMessages(library(lubridate))\n",
    "suppressMessages(library(quantmod))\n",
    "suppressMessages(library(stringr))\n",
    "suppressMessages(library(dplyr))\n",
    "suppressMessages(library(SIT))"
   ]
  },
  {
   "cell_type": "code",
   "execution_count": 235,
   "metadata": {},
   "outputs": [],
   "source": [
    "########### Carregar todas as bibliotecas necessárias ##########\n",
    "options(warn=-1)\n",
    "\n",
    "suppressMessages(library(PerformanceAnalytics))\n",
    "suppressMessages(library(PortfolioAnalytics))\n",
    "suppressMessages(library(quantmod))\n",
    "suppressMessages(library(formattable))\n",
    "suppressMessages(library(tseries))\n",
    "suppressMessages(library(DT))\n",
    "\n",
    "options(warn=0)\n",
    "################## Carregar as minhas funções ##################\n",
    "display <- function(dataframe) {\n",
    "    print(rbind(head(dataframe, 3), tail(dataframe, 3)))\n",
    "}\n",
    "\n",
    "xts_to_dataframe <- function(dataframe) {\n",
    "  data.frame(date=index(dataframe), coredata(dataframe))\n",
    "}\n",
    "\n",
    "dataframe_to_xts <- function(dataframe) {\n",
    "  xts(data.frame(lapply(dataframe, as.numeric),\n",
    "                 stringsAsFactors = FALSE),\n",
    "      order.by = dataframe[, 1])[, -1]\n",
    "}\n",
    "\n",
    "quotes_to_numeric <- function(dataframe) {\n",
    "  cbind(dataframe[1],\n",
    "        data.frame(lapply(dataframe[-1], as.numeric)))\n",
    "}\n",
    "\n",
    "compute_returns.xts <- function(dataframe) {\n",
    "  xts(apply(dataframe, 2, FUN = Return.calculate),\n",
    "      order.by = index(dataframe))[-1 ,]\n",
    "}\n",
    "\n",
    "quotes_loader <- function(x, Begin=\"1999-12-31\", End=\"2100-12-31\", locf=TRUE,\n",
    "                          normalize=TRUE, xts = FALSE, returns = FALSE) {\n",
    "\n",
    "  # Import CSV\n",
    "  Quotes <- read.csv('C:/Users/Luis/Google Drive/_GitHub/Carteiras_Clientes/Cotacoes_diarias.csv')\n",
    "  \n",
    "  # Date column as dates\n",
    "  Quotes$Date <- as.Date(Quotes$Date, format = \"%Y-%m-%d\")\n",
    "  \n",
    "  # Select only desired funds\n",
    "  Quotes <- Quotes[c('Date', x)]\n",
    "  \n",
    "  # Filtering Quotes by Dates\n",
    "  Quotes <- na.omit(subset(Quotes, Date >= Begin & Date <= End))\n",
    "  \n",
    "  \n",
    "  # Assigning Quotes to environment\n",
    "  assign('Quotes', Quotes, envir = .GlobalEnv)\n",
    "  \n",
    "  if (xts) {\n",
    "    Quotes.xts <- dataframe_to_xts(Quotes)\n",
    "    # Assign Fundos.xts to environment\n",
    "    assign('Quotes.xts', Quotes.xts, envir = .GlobalEnv)\n",
    "    \n",
    "  }\n",
    "  \n",
    "    # Create returns if TRUE\n",
    "  if (returns) {\n",
    "    # Get Returns dataframe\n",
    "    Returns.xts <- compute_returns.xts(Quotes.xts)\n",
    "    # Assign Fundos.xts to environment\n",
    "    assign('Returns.xts', Returns.xts, envir = .GlobalEnv)\n",
    "    \n",
    "  }\n",
    "}"
   ]
  },
  {
   "cell_type": "code",
   "execution_count": 236,
   "metadata": {},
   "outputs": [],
   "source": [
    "ISINs  <- c('LU0114721508', 'LU0245181838', 'LU1670724373', \"IE00B11XZ103\")#, 'F0GBR04E6R', 'F00000Q8QC', 'F00000NGSG', 'F0GBR06T6F')\n",
    "Nomes <- c('FCI', 'GS_SC', 'MG_OI', 'PimcoGB') #, 'MFS_GE', 'JupiterDB', 'InvescoSC', 'PimcoIG')"
   ]
  },
  {
   "cell_type": "code",
   "execution_count": 237,
   "metadata": {},
   "outputs": [],
   "source": [
    "#### Begin_End #### \n",
    "From <- \"2007-04-20\" # Data de início\n",
    "To   <- toString(today()) # Data de Fim\n",
    "\n",
    "Begin_End <- paste(From, \"/\", To) # Data de início e fim juntos para xts"
   ]
  },
  {
   "cell_type": "code",
   "execution_count": 238,
   "metadata": {},
   "outputs": [],
   "source": [
    "# Download dos fundos\n",
    "quotes_loader(ISINs, xts=TRUE)\n",
    "\n",
    "Fundos.xts = Quotes.xts"
   ]
  },
  {
   "cell_type": "code",
   "execution_count": 239,
   "metadata": {},
   "outputs": [
    {
     "data": {
      "text/html": [
       "<ol class=list-inline>\n",
       "\t<li>'agr_rolling'</li>\n",
       "\t<li>'Begin_End'</li>\n",
       "\t<li>'cagr_five_years'</li>\n",
       "\t<li>'cagr_one_year'</li>\n",
       "\t<li>'cagr_ten_years'</li>\n",
       "\t<li>'cagr_three_years'</li>\n",
       "\t<li>'compute_returns.xts'</li>\n",
       "\t<li>'Corr_Matrix'</li>\n",
       "\t<li>'dataframe_to_xts'</li>\n",
       "\t<li>'DD_AGR'</li>\n",
       "\t<li>'DD_DEF'</li>\n",
       "\t<li>'DD_EW'</li>\n",
       "\t<li>'def_rolling'</li>\n",
       "\t<li>'display'</li>\n",
       "\t<li>'dob'</li>\n",
       "\t<li>'ew_rolling'</li>\n",
       "\t<li>'F000000FH0'</li>\n",
       "\t<li>'F0GBR04EAN'</li>\n",
       "\t<li>'filter.df.date'</li>\n",
       "\t<li>'five_years.df'</li>\n",
       "\t<li>'five_years.xts'</li>\n",
       "\t<li>'five_years.xts.ret'</li>\n",
       "\t<li>'five_years_pt'</li>\n",
       "\t<li>'five_years_rolling'</li>\n",
       "\t<li>'five_years_sd'</li>\n",
       "\t<li>'five_years_sharpe'</li>\n",
       "\t<li>'From'</li>\n",
       "\t<li>'Fundos.xts'</li>\n",
       "\t<li>'getFI_best'</li>\n",
       "\t<li>'ISINs'</li>\n",
       "\t<li>'MSid'</li>\n",
       "\t<li>'Nomes'</li>\n",
       "\t<li>'Nomes_fundos'</li>\n",
       "\t<li>'one_year.df'</li>\n",
       "\t<li>'one_year.xts'</li>\n",
       "\t<li>'one_year.xts.ret'</li>\n",
       "\t<li>'one_year_pt'</li>\n",
       "\t<li>'one_year_rolling'</li>\n",
       "\t<li>'one_year_sd'</li>\n",
       "\t<li>'one_year_sharpe'</li>\n",
       "\t<li>'P1_weights'</li>\n",
       "\t<li>'P2_weights'</li>\n",
       "\t<li>'P3_weights'</li>\n",
       "\t<li>'Portfolio_1'</li>\n",
       "\t<li>'Portfolio_2'</li>\n",
       "\t<li>'Portfolio_3'</li>\n",
       "\t<li>'Portfolio1'</li>\n",
       "\t<li>'Portfolio2'</li>\n",
       "\t<li>'Portfolio3'</li>\n",
       "\t<li>'Portfolios'</li>\n",
       "\t<li>'Portfolios.df'</li>\n",
       "\t<li>'Preturns'</li>\n",
       "\t<li>'Quotes'</li>\n",
       "\t<li>'Quotes.xts'</li>\n",
       "\t<li>'quotes_loader'</li>\n",
       "\t<li>'quotes_to_numeric'</li>\n",
       "\t<li>'Returns'</li>\n",
       "\t<li>'ten_years.df'</li>\n",
       "\t<li>'ten_years.xts'</li>\n",
       "\t<li>'ten_years.xts.ret'</li>\n",
       "\t<li>'ten_years_pt'</li>\n",
       "\t<li>'ten_years_rolling'</li>\n",
       "\t<li>'ten_years_sd'</li>\n",
       "\t<li>'ten_years_sharpe'</li>\n",
       "\t<li>'three_years.df'</li>\n",
       "\t<li>'three_years.xts'</li>\n",
       "\t<li>'three_years.xts.ret'</li>\n",
       "\t<li>'three_years_pt'</li>\n",
       "\t<li>'three_years_rolling'</li>\n",
       "\t<li>'three_years_sd'</li>\n",
       "\t<li>'three_years_sharpe'</li>\n",
       "\t<li>'To'</li>\n",
       "\t<li>'today'</li>\n",
       "\t<li>'xts_to_dataframe'</li>\n",
       "\t<li>'years'</li>\n",
       "</ol>\n"
      ],
      "text/latex": [
       "\\begin{enumerate*}\n",
       "\\item 'agr\\_rolling'\n",
       "\\item 'Begin\\_End'\n",
       "\\item 'cagr\\_five\\_years'\n",
       "\\item 'cagr\\_one\\_year'\n",
       "\\item 'cagr\\_ten\\_years'\n",
       "\\item 'cagr\\_three\\_years'\n",
       "\\item 'compute\\_returns.xts'\n",
       "\\item 'Corr\\_Matrix'\n",
       "\\item 'dataframe\\_to\\_xts'\n",
       "\\item 'DD\\_AGR'\n",
       "\\item 'DD\\_DEF'\n",
       "\\item 'DD\\_EW'\n",
       "\\item 'def\\_rolling'\n",
       "\\item 'display'\n",
       "\\item 'dob'\n",
       "\\item 'ew\\_rolling'\n",
       "\\item 'F000000FH0'\n",
       "\\item 'F0GBR04EAN'\n",
       "\\item 'filter.df.date'\n",
       "\\item 'five\\_years.df'\n",
       "\\item 'five\\_years.xts'\n",
       "\\item 'five\\_years.xts.ret'\n",
       "\\item 'five\\_years\\_pt'\n",
       "\\item 'five\\_years\\_rolling'\n",
       "\\item 'five\\_years\\_sd'\n",
       "\\item 'five\\_years\\_sharpe'\n",
       "\\item 'From'\n",
       "\\item 'Fundos.xts'\n",
       "\\item 'getFI\\_best'\n",
       "\\item 'ISINs'\n",
       "\\item 'MSid'\n",
       "\\item 'Nomes'\n",
       "\\item 'Nomes\\_fundos'\n",
       "\\item 'one\\_year.df'\n",
       "\\item 'one\\_year.xts'\n",
       "\\item 'one\\_year.xts.ret'\n",
       "\\item 'one\\_year\\_pt'\n",
       "\\item 'one\\_year\\_rolling'\n",
       "\\item 'one\\_year\\_sd'\n",
       "\\item 'one\\_year\\_sharpe'\n",
       "\\item 'P1\\_weights'\n",
       "\\item 'P2\\_weights'\n",
       "\\item 'P3\\_weights'\n",
       "\\item 'Portfolio\\_1'\n",
       "\\item 'Portfolio\\_2'\n",
       "\\item 'Portfolio\\_3'\n",
       "\\item 'Portfolio1'\n",
       "\\item 'Portfolio2'\n",
       "\\item 'Portfolio3'\n",
       "\\item 'Portfolios'\n",
       "\\item 'Portfolios.df'\n",
       "\\item 'Preturns'\n",
       "\\item 'Quotes'\n",
       "\\item 'Quotes.xts'\n",
       "\\item 'quotes\\_loader'\n",
       "\\item 'quotes\\_to\\_numeric'\n",
       "\\item 'Returns'\n",
       "\\item 'ten\\_years.df'\n",
       "\\item 'ten\\_years.xts'\n",
       "\\item 'ten\\_years.xts.ret'\n",
       "\\item 'ten\\_years\\_pt'\n",
       "\\item 'ten\\_years\\_rolling'\n",
       "\\item 'ten\\_years\\_sd'\n",
       "\\item 'ten\\_years\\_sharpe'\n",
       "\\item 'three\\_years.df'\n",
       "\\item 'three\\_years.xts'\n",
       "\\item 'three\\_years.xts.ret'\n",
       "\\item 'three\\_years\\_pt'\n",
       "\\item 'three\\_years\\_rolling'\n",
       "\\item 'three\\_years\\_sd'\n",
       "\\item 'three\\_years\\_sharpe'\n",
       "\\item 'To'\n",
       "\\item 'today'\n",
       "\\item 'xts\\_to\\_dataframe'\n",
       "\\item 'years'\n",
       "\\end{enumerate*}\n"
      ],
      "text/markdown": [
       "1. 'agr_rolling'\n",
       "2. 'Begin_End'\n",
       "3. 'cagr_five_years'\n",
       "4. 'cagr_one_year'\n",
       "5. 'cagr_ten_years'\n",
       "6. 'cagr_three_years'\n",
       "7. 'compute_returns.xts'\n",
       "8. 'Corr_Matrix'\n",
       "9. 'dataframe_to_xts'\n",
       "10. 'DD_AGR'\n",
       "11. 'DD_DEF'\n",
       "12. 'DD_EW'\n",
       "13. 'def_rolling'\n",
       "14. 'display'\n",
       "15. 'dob'\n",
       "16. 'ew_rolling'\n",
       "17. 'F000000FH0'\n",
       "18. 'F0GBR04EAN'\n",
       "19. 'filter.df.date'\n",
       "20. 'five_years.df'\n",
       "21. 'five_years.xts'\n",
       "22. 'five_years.xts.ret'\n",
       "23. 'five_years_pt'\n",
       "24. 'five_years_rolling'\n",
       "25. 'five_years_sd'\n",
       "26. 'five_years_sharpe'\n",
       "27. 'From'\n",
       "28. 'Fundos.xts'\n",
       "29. 'getFI_best'\n",
       "30. 'ISINs'\n",
       "31. 'MSid'\n",
       "32. 'Nomes'\n",
       "33. 'Nomes_fundos'\n",
       "34. 'one_year.df'\n",
       "35. 'one_year.xts'\n",
       "36. 'one_year.xts.ret'\n",
       "37. 'one_year_pt'\n",
       "38. 'one_year_rolling'\n",
       "39. 'one_year_sd'\n",
       "40. 'one_year_sharpe'\n",
       "41. 'P1_weights'\n",
       "42. 'P2_weights'\n",
       "43. 'P3_weights'\n",
       "44. 'Portfolio_1'\n",
       "45. 'Portfolio_2'\n",
       "46. 'Portfolio_3'\n",
       "47. 'Portfolio1'\n",
       "48. 'Portfolio2'\n",
       "49. 'Portfolio3'\n",
       "50. 'Portfolios'\n",
       "51. 'Portfolios.df'\n",
       "52. 'Preturns'\n",
       "53. 'Quotes'\n",
       "54. 'Quotes.xts'\n",
       "55. 'quotes_loader'\n",
       "56. 'quotes_to_numeric'\n",
       "57. 'Returns'\n",
       "58. 'ten_years.df'\n",
       "59. 'ten_years.xts'\n",
       "60. 'ten_years.xts.ret'\n",
       "61. 'ten_years_pt'\n",
       "62. 'ten_years_rolling'\n",
       "63. 'ten_years_sd'\n",
       "64. 'ten_years_sharpe'\n",
       "65. 'three_years.df'\n",
       "66. 'three_years.xts'\n",
       "67. 'three_years.xts.ret'\n",
       "68. 'three_years_pt'\n",
       "69. 'three_years_rolling'\n",
       "70. 'three_years_sd'\n",
       "71. 'three_years_sharpe'\n",
       "72. 'To'\n",
       "73. 'today'\n",
       "74. 'xts_to_dataframe'\n",
       "75. 'years'\n",
       "\n",
       "\n"
      ],
      "text/plain": [
       " [1] \"agr_rolling\"         \"Begin_End\"           \"cagr_five_years\"    \n",
       " [4] \"cagr_one_year\"       \"cagr_ten_years\"      \"cagr_three_years\"   \n",
       " [7] \"compute_returns.xts\" \"Corr_Matrix\"         \"dataframe_to_xts\"   \n",
       "[10] \"DD_AGR\"              \"DD_DEF\"              \"DD_EW\"              \n",
       "[13] \"def_rolling\"         \"display\"             \"dob\"                \n",
       "[16] \"ew_rolling\"          \"F000000FH0\"          \"F0GBR04EAN\"         \n",
       "[19] \"filter.df.date\"      \"five_years.df\"       \"five_years.xts\"     \n",
       "[22] \"five_years.xts.ret\"  \"five_years_pt\"       \"five_years_rolling\" \n",
       "[25] \"five_years_sd\"       \"five_years_sharpe\"   \"From\"               \n",
       "[28] \"Fundos.xts\"          \"getFI_best\"          \"ISINs\"              \n",
       "[31] \"MSid\"                \"Nomes\"               \"Nomes_fundos\"       \n",
       "[34] \"one_year.df\"         \"one_year.xts\"        \"one_year.xts.ret\"   \n",
       "[37] \"one_year_pt\"         \"one_year_rolling\"    \"one_year_sd\"        \n",
       "[40] \"one_year_sharpe\"     \"P1_weights\"          \"P2_weights\"         \n",
       "[43] \"P3_weights\"          \"Portfolio_1\"         \"Portfolio_2\"        \n",
       "[46] \"Portfolio_3\"         \"Portfolio1\"          \"Portfolio2\"         \n",
       "[49] \"Portfolio3\"          \"Portfolios\"          \"Portfolios.df\"      \n",
       "[52] \"Preturns\"            \"Quotes\"              \"Quotes.xts\"         \n",
       "[55] \"quotes_loader\"       \"quotes_to_numeric\"   \"Returns\"            \n",
       "[58] \"ten_years.df\"        \"ten_years.xts\"       \"ten_years.xts.ret\"  \n",
       "[61] \"ten_years_pt\"        \"ten_years_rolling\"   \"ten_years_sd\"       \n",
       "[64] \"ten_years_sharpe\"    \"three_years.df\"      \"three_years.xts\"    \n",
       "[67] \"three_years.xts.ret\" \"three_years_pt\"      \"three_years_rolling\"\n",
       "[70] \"three_years_sd\"      \"three_years_sharpe\"  \"To\"                 \n",
       "[73] \"today\"               \"xts_to_dataframe\"    \"years\"              "
      ]
     },
     "metadata": {},
     "output_type": "display_data"
    }
   ],
   "source": [
    "ls()"
   ]
  },
  {
   "cell_type": "code",
   "execution_count": null,
   "metadata": {},
   "outputs": [],
   "source": []
  },
  {
   "cell_type": "code",
   "execution_count": 240,
   "metadata": {},
   "outputs": [
    {
     "data": {
      "text/plain": [
       "           LU0114721508 LU0245181838 LU1670724373 IE00B11XZ103\n",
       "2019-04-26        61.84        21.36        10.26        24.22\n",
       "2019-04-29        61.95        21.41        10.27        24.20\n",
       "2019-04-30        61.75        21.27        10.28        24.21\n",
       "2019-05-01        61.91        21.27        10.28        24.21\n",
       "2019-05-02        61.34        21.16        10.28        24.17\n",
       "2019-05-03        62.28        21.16        10.28        24.20"
      ]
     },
     "metadata": {},
     "output_type": "display_data"
    }
   ],
   "source": [
    "tail(Fundos.xts)"
   ]
  },
  {
   "cell_type": "code",
   "execution_count": 241,
   "metadata": {},
   "outputs": [],
   "source": [
    "# Get Returns dataframe\n",
    "Returns <- xts(apply(Fundos.xts, 2, FUN = Return.calculate),order.by = index(Fundos.xts))[-1 ,]\n",
    "\n",
    "# Naming the columns in Returns\n",
    "colnames(Returns) <- Nomes"
   ]
  },
  {
   "cell_type": "code",
   "execution_count": 242,
   "metadata": {},
   "outputs": [],
   "source": [
    "### Portfolio Weights ####\n",
    "P1_weights <- c(0.15, 0.15, 0.15, 0.55)\n",
    "P2_weights <- c(0.25, 0.25, 0.25, 0.25)\n",
    "P3_weights <- c(0.40, 0.40, 0.10, 0.10)"
   ]
  },
  {
   "cell_type": "code",
   "execution_count": 243,
   "metadata": {},
   "outputs": [],
   "source": [
    "#### Portfolios ####\n",
    "Portfolio_1 <- Return.portfolio(Returns,\n",
    "                                weights = P1_weights,\n",
    "                                verbose = TRUE,\n",
    "                                rebalance_on =  \"years\",\n",
    "                                value = 100)\n",
    "\n",
    "#### Portfolios ####\n",
    "Portfolio_2 <- Return.portfolio(Returns,\n",
    "                                weights = P2_weights,\n",
    "                                verbose = TRUE,\n",
    "                                rebalance_on =  \"years\",\n",
    "                                value = 100)\n",
    "\n",
    "#### Portfolios ####\n",
    "Portfolio_3 <- Return.portfolio(Returns,\n",
    "                                weights = P3_weights,\n",
    "                                verbose = TRUE,\n",
    "                                rebalance_on =  \"years\",\n",
    "                                value = 100)"
   ]
  },
  {
   "cell_type": "code",
   "execution_count": 244,
   "metadata": {},
   "outputs": [],
   "source": [
    "# Cálculos\n",
    "Portfolio1 <- xts(round(rowSums(Portfolio_1$EOP.Value), 2), order.by = index(Fundos.xts[-1 ,]))\n",
    "Portfolio2 <- xts(round(rowSums(Portfolio_2$EOP.Value), 2), order.by = index(Fundos.xts[-1 ,]))\n",
    "Portfolio3 <- xts(round(rowSums(Portfolio_3$EOP.Value), 2), order.by = index(Fundos.xts[-1 ,]))"
   ]
  },
  {
   "cell_type": "code",
   "execution_count": 245,
   "metadata": {},
   "outputs": [],
   "source": [
    "Portfolios <- cbind(Portfolio1, Portfolio2, Portfolio3)\n",
    "colnames(Portfolios) <- c('4Fundos DEF', '4Fundos EW', '4Fundos AGR')"
   ]
  },
  {
   "cell_type": "code",
   "execution_count": 246,
   "metadata": {},
   "outputs": [
    {
     "data": {
      "text/plain": [
       "           4Fundos DEF 4Fundos EW 4Fundos AGR\n",
       "2019-04-26      196.10     220.99      241.05\n",
       "2019-04-29      196.18     221.24      241.46\n",
       "2019-04-30      195.93     220.73      240.52\n",
       "2019-05-01      196.01     220.89      240.78\n",
       "2019-05-02      195.37     219.95      239.31\n",
       "2019-05-03      196.00     220.92      240.86"
      ]
     },
     "metadata": {},
     "output_type": "display_data"
    }
   ],
   "source": [
    "tail(Portfolios)"
   ]
  },
  {
   "cell_type": "code",
   "execution_count": 247,
   "metadata": {},
   "outputs": [],
   "source": [
    "# Exportar Portfolios \n",
    "write.csv(as.data.frame(Portfolios), 'Portfolios.csv')"
   ]
  },
  {
   "cell_type": "code",
   "execution_count": 248,
   "metadata": {},
   "outputs": [],
   "source": [
    "#write.csv(as.data.frame(Portfolios), '~/Jupyter/SGC/Portfolios.csv')"
   ]
  },
  {
   "cell_type": "code",
   "execution_count": 249,
   "metadata": {},
   "outputs": [
    {
     "data": {
      "text/html": [
       "<table>\n",
       "<thead><tr><th></th><th scope=col>FCI</th><th scope=col>GS_SC</th><th scope=col>MG_OI</th><th scope=col>PimcoGB</th></tr></thead>\n",
       "<tbody>\n",
       "\t<tr><th scope=row>FCI</th><td>1.00 </td><td> 0.65</td><td>0.07 </td><td> 0.01</td></tr>\n",
       "\t<tr><th scope=row>GS_SC</th><td>0.65 </td><td> 1.00</td><td>0.04 </td><td>-0.09</td></tr>\n",
       "\t<tr><th scope=row>MG_OI</th><td>0.07 </td><td> 0.04</td><td>1.00 </td><td> 0.28</td></tr>\n",
       "\t<tr><th scope=row>PimcoGB</th><td>0.01 </td><td>-0.09</td><td>0.28 </td><td> 1.00</td></tr>\n",
       "</tbody>\n",
       "</table>\n"
      ],
      "text/latex": [
       "\\begin{tabular}{r|llll}\n",
       "  & FCI & GS\\_SC & MG\\_OI & PimcoGB\\\\\n",
       "\\hline\n",
       "\tFCI & 1.00  &  0.65 & 0.07  &  0.01\\\\\n",
       "\tGS\\_SC & 0.65  &  1.00 & 0.04  & -0.09\\\\\n",
       "\tMG\\_OI & 0.07  &  0.04 & 1.00  &  0.28\\\\\n",
       "\tPimcoGB & 0.01  & -0.09 & 0.28  &  1.00\\\\\n",
       "\\end{tabular}\n"
      ],
      "text/markdown": [
       "\n",
       "| <!--/--> | FCI | GS_SC | MG_OI | PimcoGB |\n",
       "|---|---|---|---|---|\n",
       "| FCI | 1.00  |  0.65 | 0.07  |  0.01 |\n",
       "| GS_SC | 0.65  |  1.00 | 0.04  | -0.09 |\n",
       "| MG_OI | 0.07  |  0.04 | 1.00  |  0.28 |\n",
       "| PimcoGB | 0.01  | -0.09 | 0.28  |  1.00 |\n",
       "\n"
      ],
      "text/plain": [
       "        FCI  GS_SC MG_OI PimcoGB\n",
       "FCI     1.00  0.65 0.07   0.01  \n",
       "GS_SC   0.65  1.00 0.04  -0.09  \n",
       "MG_OI   0.07  0.04 1.00   0.28  \n",
       "PimcoGB 0.01 -0.09 0.28   1.00  "
      ]
     },
     "metadata": {},
     "output_type": "display_data"
    }
   ],
   "source": [
    "#colnames(Returns) <- Nomes\n",
    "Corr_Matrix <- round(cor(Returns),2)\n",
    "Corr_Matrix"
   ]
  },
  {
   "cell_type": "code",
   "execution_count": 250,
   "metadata": {},
   "outputs": [],
   "source": [
    "# Exportar Matrix de correlação \n",
    "write.csv(as.data.frame(Corr_Matrix), 'Corr_Matrix.csv')"
   ]
  },
  {
   "cell_type": "code",
   "execution_count": 251,
   "metadata": {},
   "outputs": [],
   "source": [
    "Preturns <- xts(apply(Portfolios, 2, FUN = Return.calculate),order.by = index(Portfolios))[-1, ]"
   ]
  },
  {
   "cell_type": "code",
   "execution_count": 252,
   "metadata": {},
   "outputs": [
    {
     "data": {
      "text/plain": [
       "             4Fundos DEF   4Fundos EW  4Fundos AGR\n",
       "2007-04-24 -0.0013970662 -0.003192975 -0.005387609\n",
       "2007-04-25  0.0006995103  0.002002002  0.003510884\n",
       "2007-04-26  0.0005991612  0.001998002  0.003598561\n",
       "2007-04-27 -0.0008982036 -0.001595214 -0.002589641\n",
       "2007-04-30  0.0002996704 -0.001298183 -0.002796085\n",
       "2007-05-01 -0.0009986020 -0.001099890 -0.001602243"
      ]
     },
     "metadata": {},
     "output_type": "display_data"
    }
   ],
   "source": [
    "head(Preturns)"
   ]
  },
  {
   "cell_type": "code",
   "execution_count": 253,
   "metadata": {},
   "outputs": [],
   "source": [
    "DD_DEF <- table.Drawdowns(Preturns[, 1])\n",
    "DD_EW  <- table.Drawdowns(Preturns[, 2])\n",
    "DD_AGR <- table.Drawdowns(Preturns[, 3])"
   ]
  },
  {
   "cell_type": "code",
   "execution_count": 254,
   "metadata": {},
   "outputs": [],
   "source": [
    "DD_DEF['Depth'] <- DD_DEF['Depth'] * 100\n",
    "DD_EW ['Depth'] <- DD_EW ['Depth'] * 100\n",
    "DD_AGR['Depth'] <- DD_AGR['Depth'] * 100"
   ]
  },
  {
   "cell_type": "code",
   "execution_count": 255,
   "metadata": {},
   "outputs": [
    {
     "data": {
      "text/html": [
       "<table>\n",
       "<thead><tr><th scope=col>From</th><th scope=col>Trough</th><th scope=col>To</th><th scope=col>Depth</th><th scope=col>Length</th><th scope=col>To Trough</th><th scope=col>Recovery</th></tr></thead>\n",
       "<tbody>\n",
       "\t<tr><td>2007-06-04</td><td>2009-03-09</td><td>2009-10-07</td><td>-20.91    </td><td>615       </td><td>463       </td><td>152       </td></tr>\n",
       "\t<tr><td>2015-04-16</td><td>2016-02-11</td><td>2016-08-05</td><td> -8.94    </td><td>342       </td><td>216       </td><td>126       </td></tr>\n",
       "\t<tr><td>2018-08-13</td><td>2018-12-24</td><td>2019-03-29</td><td> -6.84    </td><td>165       </td><td> 96       </td><td> 69       </td></tr>\n",
       "\t<tr><td>2013-05-20</td><td>2013-06-24</td><td>2013-11-14</td><td> -6.03    </td><td>130       </td><td> 26       </td><td>104       </td></tr>\n",
       "\t<tr><td>2011-07-12</td><td>2011-08-22</td><td>2011-12-16</td><td> -4.08    </td><td>114       </td><td> 30       </td><td> 84       </td></tr>\n",
       "</tbody>\n",
       "</table>\n"
      ],
      "text/latex": [
       "\\begin{tabular}{r|lllllll}\n",
       " From & Trough & To & Depth & Length & To Trough & Recovery\\\\\n",
       "\\hline\n",
       "\t 2007-06-04 & 2009-03-09 & 2009-10-07 & -20.91     & 615        & 463        & 152       \\\\\n",
       "\t 2015-04-16 & 2016-02-11 & 2016-08-05 &  -8.94     & 342        & 216        & 126       \\\\\n",
       "\t 2018-08-13 & 2018-12-24 & 2019-03-29 &  -6.84     & 165        &  96        &  69       \\\\\n",
       "\t 2013-05-20 & 2013-06-24 & 2013-11-14 &  -6.03     & 130        &  26        & 104       \\\\\n",
       "\t 2011-07-12 & 2011-08-22 & 2011-12-16 &  -4.08     & 114        &  30        &  84       \\\\\n",
       "\\end{tabular}\n"
      ],
      "text/markdown": [
       "\n",
       "| From | Trough | To | Depth | Length | To Trough | Recovery |\n",
       "|---|---|---|---|---|---|---|\n",
       "| 2007-06-04 | 2009-03-09 | 2009-10-07 | -20.91     | 615        | 463        | 152        |\n",
       "| 2015-04-16 | 2016-02-11 | 2016-08-05 |  -8.94     | 342        | 216        | 126        |\n",
       "| 2018-08-13 | 2018-12-24 | 2019-03-29 |  -6.84     | 165        |  96        |  69        |\n",
       "| 2013-05-20 | 2013-06-24 | 2013-11-14 |  -6.03     | 130        |  26        | 104        |\n",
       "| 2011-07-12 | 2011-08-22 | 2011-12-16 |  -4.08     | 114        |  30        |  84        |\n",
       "\n"
      ],
      "text/plain": [
       "  From       Trough     To         Depth  Length To Trough Recovery\n",
       "1 2007-06-04 2009-03-09 2009-10-07 -20.91 615    463       152     \n",
       "2 2015-04-16 2016-02-11 2016-08-05  -8.94 342    216       126     \n",
       "3 2018-08-13 2018-12-24 2019-03-29  -6.84 165     96        69     \n",
       "4 2013-05-20 2013-06-24 2013-11-14  -6.03 130     26       104     \n",
       "5 2011-07-12 2011-08-22 2011-12-16  -4.08 114     30        84     "
      ]
     },
     "metadata": {},
     "output_type": "display_data"
    }
   ],
   "source": [
    "DD_DEF"
   ]
  },
  {
   "cell_type": "code",
   "execution_count": 256,
   "metadata": {},
   "outputs": [
    {
     "data": {
      "text/html": [
       "<table>\n",
       "<thead><tr><th scope=col>From</th><th scope=col>Trough</th><th scope=col>To</th><th scope=col>Depth</th><th scope=col>Length</th><th scope=col>To Trough</th><th scope=col>Recovery</th></tr></thead>\n",
       "<tbody>\n",
       "\t<tr><td>2007-06-04</td><td>2009-03-09</td><td>2010-03-04</td><td>-30.56    </td><td>722       </td><td>463       </td><td>259       </td></tr>\n",
       "\t<tr><td>2015-04-14</td><td>2016-02-11</td><td>2016-11-24</td><td>-12.72    </td><td>423       </td><td>218       </td><td>205       </td></tr>\n",
       "\t<tr><td>2018-06-18</td><td>2018-12-24</td><td>2019-04-03</td><td>-10.39    </td><td>209       </td><td>137       </td><td> 72       </td></tr>\n",
       "\t<tr><td>2011-07-12</td><td>2011-08-22</td><td>2012-01-03</td><td> -7.91    </td><td>127       </td><td> 30       </td><td> 97       </td></tr>\n",
       "\t<tr><td>2013-05-21</td><td>2013-06-24</td><td>2013-10-24</td><td> -7.01    </td><td>114       </td><td> 25       </td><td> 89       </td></tr>\n",
       "</tbody>\n",
       "</table>\n"
      ],
      "text/latex": [
       "\\begin{tabular}{r|lllllll}\n",
       " From & Trough & To & Depth & Length & To Trough & Recovery\\\\\n",
       "\\hline\n",
       "\t 2007-06-04 & 2009-03-09 & 2010-03-04 & -30.56     & 722        & 463        & 259       \\\\\n",
       "\t 2015-04-14 & 2016-02-11 & 2016-11-24 & -12.72     & 423        & 218        & 205       \\\\\n",
       "\t 2018-06-18 & 2018-12-24 & 2019-04-03 & -10.39     & 209        & 137        &  72       \\\\\n",
       "\t 2011-07-12 & 2011-08-22 & 2012-01-03 &  -7.91     & 127        &  30        &  97       \\\\\n",
       "\t 2013-05-21 & 2013-06-24 & 2013-10-24 &  -7.01     & 114        &  25        &  89       \\\\\n",
       "\\end{tabular}\n"
      ],
      "text/markdown": [
       "\n",
       "| From | Trough | To | Depth | Length | To Trough | Recovery |\n",
       "|---|---|---|---|---|---|---|\n",
       "| 2007-06-04 | 2009-03-09 | 2010-03-04 | -30.56     | 722        | 463        | 259        |\n",
       "| 2015-04-14 | 2016-02-11 | 2016-11-24 | -12.72     | 423        | 218        | 205        |\n",
       "| 2018-06-18 | 2018-12-24 | 2019-04-03 | -10.39     | 209        | 137        |  72        |\n",
       "| 2011-07-12 | 2011-08-22 | 2012-01-03 |  -7.91     | 127        |  30        |  97        |\n",
       "| 2013-05-21 | 2013-06-24 | 2013-10-24 |  -7.01     | 114        |  25        |  89        |\n",
       "\n"
      ],
      "text/plain": [
       "  From       Trough     To         Depth  Length To Trough Recovery\n",
       "1 2007-06-04 2009-03-09 2010-03-04 -30.56 722    463       259     \n",
       "2 2015-04-14 2016-02-11 2016-11-24 -12.72 423    218       205     \n",
       "3 2018-06-18 2018-12-24 2019-04-03 -10.39 209    137        72     \n",
       "4 2011-07-12 2011-08-22 2012-01-03  -7.91 127     30        97     \n",
       "5 2013-05-21 2013-06-24 2013-10-24  -7.01 114     25        89     "
      ]
     },
     "metadata": {},
     "output_type": "display_data"
    }
   ],
   "source": [
    "DD_EW"
   ]
  },
  {
   "cell_type": "code",
   "execution_count": 257,
   "metadata": {},
   "outputs": [
    {
     "data": {
      "text/html": [
       "<table>\n",
       "<thead><tr><th scope=col>From</th><th scope=col>Trough</th><th scope=col>To</th><th scope=col>Depth</th><th scope=col>Length</th><th scope=col>To Trough</th><th scope=col>Recovery</th></tr></thead>\n",
       "<tbody>\n",
       "\t<tr><td>2007-06-04</td><td>2009-03-09</td><td>2010-11-26</td><td>-43.91    </td><td>914       </td><td>463       </td><td>451       </td></tr>\n",
       "\t<tr><td>2015-04-14</td><td>2016-02-11</td><td>2016-12-08</td><td>-17.50    </td><td>433       </td><td>218       </td><td>215       </td></tr>\n",
       "\t<tr><td>2018-06-15</td><td>2018-12-24</td><td>2019-04-12</td><td>-15.18    </td><td>217       </td><td>138       </td><td> 79       </td></tr>\n",
       "\t<tr><td>2011-01-12</td><td>2011-08-22</td><td>2012-01-17</td><td>-13.40    </td><td>267       </td><td>160       </td><td>107       </td></tr>\n",
       "\t<tr><td>2013-05-21</td><td>2013-06-24</td><td>2013-10-18</td><td> -8.45    </td><td>110       </td><td> 25       </td><td> 85       </td></tr>\n",
       "</tbody>\n",
       "</table>\n"
      ],
      "text/latex": [
       "\\begin{tabular}{r|lllllll}\n",
       " From & Trough & To & Depth & Length & To Trough & Recovery\\\\\n",
       "\\hline\n",
       "\t 2007-06-04 & 2009-03-09 & 2010-11-26 & -43.91     & 914        & 463        & 451       \\\\\n",
       "\t 2015-04-14 & 2016-02-11 & 2016-12-08 & -17.50     & 433        & 218        & 215       \\\\\n",
       "\t 2018-06-15 & 2018-12-24 & 2019-04-12 & -15.18     & 217        & 138        &  79       \\\\\n",
       "\t 2011-01-12 & 2011-08-22 & 2012-01-17 & -13.40     & 267        & 160        & 107       \\\\\n",
       "\t 2013-05-21 & 2013-06-24 & 2013-10-18 &  -8.45     & 110        &  25        &  85       \\\\\n",
       "\\end{tabular}\n"
      ],
      "text/markdown": [
       "\n",
       "| From | Trough | To | Depth | Length | To Trough | Recovery |\n",
       "|---|---|---|---|---|---|---|\n",
       "| 2007-06-04 | 2009-03-09 | 2010-11-26 | -43.91     | 914        | 463        | 451        |\n",
       "| 2015-04-14 | 2016-02-11 | 2016-12-08 | -17.50     | 433        | 218        | 215        |\n",
       "| 2018-06-15 | 2018-12-24 | 2019-04-12 | -15.18     | 217        | 138        |  79        |\n",
       "| 2011-01-12 | 2011-08-22 | 2012-01-17 | -13.40     | 267        | 160        | 107        |\n",
       "| 2013-05-21 | 2013-06-24 | 2013-10-18 |  -8.45     | 110        |  25        |  85        |\n",
       "\n"
      ],
      "text/plain": [
       "  From       Trough     To         Depth  Length To Trough Recovery\n",
       "1 2007-06-04 2009-03-09 2010-11-26 -43.91 914    463       451     \n",
       "2 2015-04-14 2016-02-11 2016-12-08 -17.50 433    218       215     \n",
       "3 2018-06-15 2018-12-24 2019-04-12 -15.18 217    138        79     \n",
       "4 2011-01-12 2011-08-22 2012-01-17 -13.40 267    160       107     \n",
       "5 2013-05-21 2013-06-24 2013-10-18  -8.45 110     25        85     "
      ]
     },
     "metadata": {},
     "output_type": "display_data"
    }
   ],
   "source": [
    "DD_AGR"
   ]
  },
  {
   "cell_type": "code",
   "execution_count": 258,
   "metadata": {},
   "outputs": [],
   "source": [
    "# Passar as tabelas de Drawdowns para .csv\n",
    "write.csv(as.data.frame(DD_DEF), 'DD_DEF.csv')\n",
    "write.csv(as.data.frame(DD_EW) , 'DD_EW.csv' )\n",
    "write.csv(as.data.frame(DD_AGR), 'DD_AGR.csv')"
   ]
  },
  {
   "cell_type": "code",
   "execution_count": 259,
   "metadata": {},
   "outputs": [],
   "source": [
    "Nomes_fundos <- c('4Fundos DEF', '4Fundos EW', '4Fundos AGR')\n",
    "Portfolios.df <- data.frame(Portfolios)\n",
    "colnames(Portfolios.df) <- Nomes_fundos\n",
    "rownames(Portfolios.df) <- ymd(rownames(Portfolios.df))"
   ]
  },
  {
   "cell_type": "code",
   "execution_count": 260,
   "metadata": {},
   "outputs": [
    {
     "data": {
      "text/html": [
       "<table>\n",
       "<thead><tr><th></th><th scope=col>4Fundos DEF</th><th scope=col>4Fundos EW</th><th scope=col>4Fundos AGR</th></tr></thead>\n",
       "<tbody>\n",
       "\t<tr><th scope=row>2019-04-26</th><td>196.10</td><td>220.99</td><td>241.05</td></tr>\n",
       "\t<tr><th scope=row>2019-04-29</th><td>196.18</td><td>221.24</td><td>241.46</td></tr>\n",
       "\t<tr><th scope=row>2019-04-30</th><td>195.93</td><td>220.73</td><td>240.52</td></tr>\n",
       "\t<tr><th scope=row>2019-05-01</th><td>196.01</td><td>220.89</td><td>240.78</td></tr>\n",
       "\t<tr><th scope=row>2019-05-02</th><td>195.37</td><td>219.95</td><td>239.31</td></tr>\n",
       "\t<tr><th scope=row>2019-05-03</th><td>196.00</td><td>220.92</td><td>240.86</td></tr>\n",
       "</tbody>\n",
       "</table>\n"
      ],
      "text/latex": [
       "\\begin{tabular}{r|lll}\n",
       "  & 4Fundos DEF & 4Fundos EW & 4Fundos AGR\\\\\n",
       "\\hline\n",
       "\t2019-04-26 & 196.10 & 220.99 & 241.05\\\\\n",
       "\t2019-04-29 & 196.18 & 221.24 & 241.46\\\\\n",
       "\t2019-04-30 & 195.93 & 220.73 & 240.52\\\\\n",
       "\t2019-05-01 & 196.01 & 220.89 & 240.78\\\\\n",
       "\t2019-05-02 & 195.37 & 219.95 & 239.31\\\\\n",
       "\t2019-05-03 & 196.00 & 220.92 & 240.86\\\\\n",
       "\\end{tabular}\n"
      ],
      "text/markdown": [
       "\n",
       "| <!--/--> | 4Fundos DEF | 4Fundos EW | 4Fundos AGR |\n",
       "|---|---|---|---|\n",
       "| 2019-04-26 | 196.10 | 220.99 | 241.05 |\n",
       "| 2019-04-29 | 196.18 | 221.24 | 241.46 |\n",
       "| 2019-04-30 | 195.93 | 220.73 | 240.52 |\n",
       "| 2019-05-01 | 196.01 | 220.89 | 240.78 |\n",
       "| 2019-05-02 | 195.37 | 219.95 | 239.31 |\n",
       "| 2019-05-03 | 196.00 | 220.92 | 240.86 |\n",
       "\n"
      ],
      "text/plain": [
       "           4Fundos DEF 4Fundos EW 4Fundos AGR\n",
       "2019-04-26 196.10      220.99     241.05     \n",
       "2019-04-29 196.18      221.24     241.46     \n",
       "2019-04-30 195.93      220.73     240.52     \n",
       "2019-05-01 196.01      220.89     240.78     \n",
       "2019-05-02 195.37      219.95     239.31     \n",
       "2019-05-03 196.00      220.92     240.86     "
      ]
     },
     "metadata": {},
     "output_type": "display_data"
    }
   ],
   "source": [
    "tail(Portfolios.df)"
   ]
  },
  {
   "cell_type": "code",
   "execution_count": 261,
   "metadata": {},
   "outputs": [],
   "source": [
    "filter.df.date <- function (df, years=0, months=0, days=0, previous.row=F)\n",
    "{\n",
    "  last_date <- ymd(rownames(tail(df, 1)))\n",
    "  \n",
    "  year.nr  <- year(last_date)\n",
    "  month.nr <- month(last_date)\n",
    "  day.nr   <- day(last_date)\n",
    "  \n",
    "  if (month.nr == 1 & months != 0){\n",
    "    month.nr = 13\n",
    "  }\n",
    "  \n",
    "  if (day.nr == 1 & days != 0 & month.nr %in% c(1, 3, 5, 7, 8, 10, 12)){\n",
    "    day.nr = 31\n",
    "    month.nr = month.nr - 1\n",
    "  }\n",
    "  \n",
    "  if (day.nr == 1 & days != 0 & month.nr %in% c(4, 6, 9, 11)){\n",
    "    day.nr = 32\n",
    "    month.nr = month.nr - 1\n",
    "  }\n",
    "  \n",
    "  if (day.nr == 1 & days != 0 & month.nr %in% c(2)){\n",
    "    day.nr = 29\n",
    "    month.nr = month.nr - 1\n",
    "  }\n",
    "\n",
    "  new_date <- ymd(str_replace_all(paste(year.nr - years,'-',\n",
    "                                        month.nr - months, '-',\n",
    "                                        day.nr - days),\n",
    "                                  fixed(' '), ''))\n",
    "  \n",
    "  if (previous.row == TRUE){\n",
    "    new.df <- rbind(tail(subset(df, rownames(df) < new_date), 1),\n",
    "                    subset(df, rownames(df) >= new_date))\n",
    "    return(new.df)\n",
    "  }\n",
    "  \n",
    "  if (previous.row == FALSE){\n",
    "    return(subset(df, rownames(df) >= new_date))\n",
    "  }\n",
    "}"
   ]
  },
  {
   "cell_type": "code",
   "execution_count": 262,
   "metadata": {},
   "outputs": [],
   "source": [
    "one_year.df  <- filter.df.date(Portfolios.df, years=1)\n",
    "one_year.xts <- xts(one_year.df, order.by = ymd(rownames(one_year.df)))\n",
    "one_year.xts.ret <- xts(apply(one_year.xts, 2, FUN=Return.calculate), order.by = index(one_year.xts))[-1, ]"
   ]
  },
  {
   "cell_type": "code",
   "execution_count": 263,
   "metadata": {},
   "outputs": [
    {
     "data": {
      "text/html": [
       "<table>\n",
       "<thead><tr><th></th><th scope=col>4Fundos DEF</th><th scope=col>4Fundos EW</th><th scope=col>4Fundos AGR</th></tr></thead>\n",
       "<tbody>\n",
       "\t<tr><th scope=row>2018-05-03</th><td>187.84</td><td>207.37</td><td>219.47</td></tr>\n",
       "\t<tr><th scope=row>2018-05-04</th><td>188.56</td><td>208.69</td><td>221.81</td></tr>\n",
       "\t<tr><th scope=row>2018-05-07</th><td>188.81</td><td>209.08</td><td>222.45</td></tr>\n",
       "\t<tr><th scope=row>2018-05-08</th><td>189.10</td><td>209.83</td><td>223.88</td></tr>\n",
       "\t<tr><th scope=row>2018-05-09</th><td>189.20</td><td>210.08</td><td>224.39</td></tr>\n",
       "\t<tr><th scope=row>2018-05-10</th><td>189.43</td><td>210.39</td><td>224.79</td></tr>\n",
       "</tbody>\n",
       "</table>\n"
      ],
      "text/latex": [
       "\\begin{tabular}{r|lll}\n",
       "  & 4Fundos DEF & 4Fundos EW & 4Fundos AGR\\\\\n",
       "\\hline\n",
       "\t2018-05-03 & 187.84 & 207.37 & 219.47\\\\\n",
       "\t2018-05-04 & 188.56 & 208.69 & 221.81\\\\\n",
       "\t2018-05-07 & 188.81 & 209.08 & 222.45\\\\\n",
       "\t2018-05-08 & 189.10 & 209.83 & 223.88\\\\\n",
       "\t2018-05-09 & 189.20 & 210.08 & 224.39\\\\\n",
       "\t2018-05-10 & 189.43 & 210.39 & 224.79\\\\\n",
       "\\end{tabular}\n"
      ],
      "text/markdown": [
       "\n",
       "| <!--/--> | 4Fundos DEF | 4Fundos EW | 4Fundos AGR |\n",
       "|---|---|---|---|\n",
       "| 2018-05-03 | 187.84 | 207.37 | 219.47 |\n",
       "| 2018-05-04 | 188.56 | 208.69 | 221.81 |\n",
       "| 2018-05-07 | 188.81 | 209.08 | 222.45 |\n",
       "| 2018-05-08 | 189.10 | 209.83 | 223.88 |\n",
       "| 2018-05-09 | 189.20 | 210.08 | 224.39 |\n",
       "| 2018-05-10 | 189.43 | 210.39 | 224.79 |\n",
       "\n"
      ],
      "text/plain": [
       "           4Fundos DEF 4Fundos EW 4Fundos AGR\n",
       "2018-05-03 187.84      207.37     219.47     \n",
       "2018-05-04 188.56      208.69     221.81     \n",
       "2018-05-07 188.81      209.08     222.45     \n",
       "2018-05-08 189.10      209.83     223.88     \n",
       "2018-05-09 189.20      210.08     224.39     \n",
       "2018-05-10 189.43      210.39     224.79     "
      ]
     },
     "metadata": {},
     "output_type": "display_data"
    }
   ],
   "source": [
    "head(one_year.df)"
   ]
  },
  {
   "cell_type": "code",
   "execution_count": 264,
   "metadata": {},
   "outputs": [
    {
     "data": {
      "text/html": [
       "<table>\n",
       "<thead><tr><th></th><th scope=col>4Fundos DEF</th><th scope=col>4Fundos EW</th><th scope=col>4Fundos AGR</th></tr></thead>\n",
       "<tbody>\n",
       "\t<tr><th scope=row>2019-04-26</th><td>196.10</td><td>220.99</td><td>241.05</td></tr>\n",
       "\t<tr><th scope=row>2019-04-29</th><td>196.18</td><td>221.24</td><td>241.46</td></tr>\n",
       "\t<tr><th scope=row>2019-04-30</th><td>195.93</td><td>220.73</td><td>240.52</td></tr>\n",
       "\t<tr><th scope=row>2019-05-01</th><td>196.01</td><td>220.89</td><td>240.78</td></tr>\n",
       "\t<tr><th scope=row>2019-05-02</th><td>195.37</td><td>219.95</td><td>239.31</td></tr>\n",
       "\t<tr><th scope=row>2019-05-03</th><td>196.00</td><td>220.92</td><td>240.86</td></tr>\n",
       "</tbody>\n",
       "</table>\n"
      ],
      "text/latex": [
       "\\begin{tabular}{r|lll}\n",
       "  & 4Fundos DEF & 4Fundos EW & 4Fundos AGR\\\\\n",
       "\\hline\n",
       "\t2019-04-26 & 196.10 & 220.99 & 241.05\\\\\n",
       "\t2019-04-29 & 196.18 & 221.24 & 241.46\\\\\n",
       "\t2019-04-30 & 195.93 & 220.73 & 240.52\\\\\n",
       "\t2019-05-01 & 196.01 & 220.89 & 240.78\\\\\n",
       "\t2019-05-02 & 195.37 & 219.95 & 239.31\\\\\n",
       "\t2019-05-03 & 196.00 & 220.92 & 240.86\\\\\n",
       "\\end{tabular}\n"
      ],
      "text/markdown": [
       "\n",
       "| <!--/--> | 4Fundos DEF | 4Fundos EW | 4Fundos AGR |\n",
       "|---|---|---|---|\n",
       "| 2019-04-26 | 196.10 | 220.99 | 241.05 |\n",
       "| 2019-04-29 | 196.18 | 221.24 | 241.46 |\n",
       "| 2019-04-30 | 195.93 | 220.73 | 240.52 |\n",
       "| 2019-05-01 | 196.01 | 220.89 | 240.78 |\n",
       "| 2019-05-02 | 195.37 | 219.95 | 239.31 |\n",
       "| 2019-05-03 | 196.00 | 220.92 | 240.86 |\n",
       "\n"
      ],
      "text/plain": [
       "           4Fundos DEF 4Fundos EW 4Fundos AGR\n",
       "2019-04-26 196.10      220.99     241.05     \n",
       "2019-04-29 196.18      221.24     241.46     \n",
       "2019-04-30 195.93      220.73     240.52     \n",
       "2019-05-01 196.01      220.89     240.78     \n",
       "2019-05-02 195.37      219.95     239.31     \n",
       "2019-05-03 196.00      220.92     240.86     "
      ]
     },
     "metadata": {},
     "output_type": "display_data"
    }
   ],
   "source": [
    "tail(one_year.df)"
   ]
  },
  {
   "cell_type": "code",
   "execution_count": 265,
   "metadata": {},
   "outputs": [],
   "source": [
    "cagr_one_year <- round((((tail(one_year.df, 1) / head(one_year.df, 1))) - 1) * 100, 2)\n",
    "rownames(cagr_one_year) <- 'CAGR'\n",
    "\n",
    "one_year_sd <- round(t(apply(one_year.xts.ret, 2, FUN=StdDev.annualized)) * 100, 2)\n",
    "one_year_sharpe <- cagr_one_year / one_year_sd"
   ]
  },
  {
   "cell_type": "code",
   "execution_count": 266,
   "metadata": {},
   "outputs": [],
   "source": [
    "three_years.df  <- filter.df.date(Portfolios.df, years=3, previous.row=T)\n",
    "three_years.xts <- xts(three_years.df, order.by = ymd(rownames(three_years.df)))\n",
    "three_years.xts.ret <- xts(apply(three_years.xts, 2, FUN=Return.calculate), order.by = index(three_years.xts))[-1, ]"
   ]
  },
  {
   "cell_type": "code",
   "execution_count": 267,
   "metadata": {},
   "outputs": [
    {
     "data": {
      "text/html": [
       "<table>\n",
       "<thead><tr><th></th><th scope=col>4Fundos DEF</th><th scope=col>4Fundos EW</th><th scope=col>4Fundos AGR</th></tr></thead>\n",
       "<tbody>\n",
       "\t<tr><th scope=row>2016-05-02</th><td>172.77</td><td>181.99</td><td>182.89</td></tr>\n",
       "\t<tr><th scope=row>2016-05-03</th><td>172.19</td><td>180.74</td><td>181.10</td></tr>\n",
       "\t<tr><th scope=row>2016-05-04</th><td>171.99</td><td>180.44</td><td>180.77</td></tr>\n",
       "\t<tr><th scope=row>2016-05-05</th><td>172.21</td><td>180.73</td><td>181.31</td></tr>\n",
       "\t<tr><th scope=row>2016-05-06</th><td>172.34</td><td>180.96</td><td>181.69</td></tr>\n",
       "\t<tr><th scope=row>2016-05-09</th><td>172.56</td><td>181.34</td><td>182.38</td></tr>\n",
       "</tbody>\n",
       "</table>\n"
      ],
      "text/latex": [
       "\\begin{tabular}{r|lll}\n",
       "  & 4Fundos DEF & 4Fundos EW & 4Fundos AGR\\\\\n",
       "\\hline\n",
       "\t2016-05-02 & 172.77 & 181.99 & 182.89\\\\\n",
       "\t2016-05-03 & 172.19 & 180.74 & 181.10\\\\\n",
       "\t2016-05-04 & 171.99 & 180.44 & 180.77\\\\\n",
       "\t2016-05-05 & 172.21 & 180.73 & 181.31\\\\\n",
       "\t2016-05-06 & 172.34 & 180.96 & 181.69\\\\\n",
       "\t2016-05-09 & 172.56 & 181.34 & 182.38\\\\\n",
       "\\end{tabular}\n"
      ],
      "text/markdown": [
       "\n",
       "| <!--/--> | 4Fundos DEF | 4Fundos EW | 4Fundos AGR |\n",
       "|---|---|---|---|\n",
       "| 2016-05-02 | 172.77 | 181.99 | 182.89 |\n",
       "| 2016-05-03 | 172.19 | 180.74 | 181.10 |\n",
       "| 2016-05-04 | 171.99 | 180.44 | 180.77 |\n",
       "| 2016-05-05 | 172.21 | 180.73 | 181.31 |\n",
       "| 2016-05-06 | 172.34 | 180.96 | 181.69 |\n",
       "| 2016-05-09 | 172.56 | 181.34 | 182.38 |\n",
       "\n"
      ],
      "text/plain": [
       "           4Fundos DEF 4Fundos EW 4Fundos AGR\n",
       "2016-05-02 172.77      181.99     182.89     \n",
       "2016-05-03 172.19      180.74     181.10     \n",
       "2016-05-04 171.99      180.44     180.77     \n",
       "2016-05-05 172.21      180.73     181.31     \n",
       "2016-05-06 172.34      180.96     181.69     \n",
       "2016-05-09 172.56      181.34     182.38     "
      ]
     },
     "metadata": {},
     "output_type": "display_data"
    }
   ],
   "source": [
    "head(three_years.df)"
   ]
  },
  {
   "cell_type": "code",
   "execution_count": 268,
   "metadata": {},
   "outputs": [],
   "source": [
    "cagr_three_years <- round((((tail(three_years.df, 1) / head(three_years.df, 1)) ^ (1/3)) - 1) * 100, 2)\n",
    "rownames(cagr_three_years) <- 'CAGR'\n",
    "\n",
    "three_years_sd <- round(t(apply(three_years.xts.ret, 2, FUN=StdDev.annualized)) * 100, 2)\n",
    "three_years_sharpe <- cagr_three_years / three_years_sd"
   ]
  },
  {
   "cell_type": "code",
   "execution_count": 269,
   "metadata": {},
   "outputs": [],
   "source": [
    "five_years.df  <- filter.df.date(Portfolios.df, years=5, previous.row=T)\n",
    "five_years.xts <- xts(five_years.df, order.by = ymd(rownames(five_years.df)))\n",
    "five_years.xts.ret <- xts(apply(five_years.xts, 2, FUN=Return.calculate), order.by = index(five_years.xts))[-1, ]\n",
    "\n",
    "cagr_five_years <- round((((tail(five_years.df, 1) / head(five_years.df, 1)) ^ (1/5)) - 1) * 100, 2)\n",
    "rownames(cagr_five_years) <- 'CAGR'\n",
    "\n",
    "five_years_sd <- round(t(apply(five_years.xts.ret, 2, FUN=StdDev.annualized)) * 100, 2)\n",
    "five_years_sharpe <- cagr_five_years / five_years_sd"
   ]
  },
  {
   "cell_type": "code",
   "execution_count": 270,
   "metadata": {},
   "outputs": [
    {
     "data": {
      "text/html": [
       "<table>\n",
       "<thead><tr><th></th><th scope=col>4Fundos DEF</th><th scope=col>4Fundos EW</th><th scope=col>4Fundos AGR</th></tr></thead>\n",
       "<tbody>\n",
       "\t<tr><th scope=row>2014-05-02</th><td>153.59</td><td>156.73</td><td>149.00</td></tr>\n",
       "\t<tr><th scope=row>2014-05-05</th><td>153.56</td><td>156.67</td><td>148.91</td></tr>\n",
       "\t<tr><th scope=row>2014-05-06</th><td>153.22</td><td>155.95</td><td>147.74</td></tr>\n",
       "\t<tr><th scope=row>2014-05-07</th><td>153.23</td><td>155.87</td><td>147.58</td></tr>\n",
       "\t<tr><th scope=row>2014-05-08</th><td>153.70</td><td>156.48</td><td>148.38</td></tr>\n",
       "\t<tr><th scope=row>2014-05-09</th><td>153.85</td><td>156.78</td><td>148.81</td></tr>\n",
       "</tbody>\n",
       "</table>\n"
      ],
      "text/latex": [
       "\\begin{tabular}{r|lll}\n",
       "  & 4Fundos DEF & 4Fundos EW & 4Fundos AGR\\\\\n",
       "\\hline\n",
       "\t2014-05-02 & 153.59 & 156.73 & 149.00\\\\\n",
       "\t2014-05-05 & 153.56 & 156.67 & 148.91\\\\\n",
       "\t2014-05-06 & 153.22 & 155.95 & 147.74\\\\\n",
       "\t2014-05-07 & 153.23 & 155.87 & 147.58\\\\\n",
       "\t2014-05-08 & 153.70 & 156.48 & 148.38\\\\\n",
       "\t2014-05-09 & 153.85 & 156.78 & 148.81\\\\\n",
       "\\end{tabular}\n"
      ],
      "text/markdown": [
       "\n",
       "| <!--/--> | 4Fundos DEF | 4Fundos EW | 4Fundos AGR |\n",
       "|---|---|---|---|\n",
       "| 2014-05-02 | 153.59 | 156.73 | 149.00 |\n",
       "| 2014-05-05 | 153.56 | 156.67 | 148.91 |\n",
       "| 2014-05-06 | 153.22 | 155.95 | 147.74 |\n",
       "| 2014-05-07 | 153.23 | 155.87 | 147.58 |\n",
       "| 2014-05-08 | 153.70 | 156.48 | 148.38 |\n",
       "| 2014-05-09 | 153.85 | 156.78 | 148.81 |\n",
       "\n"
      ],
      "text/plain": [
       "           4Fundos DEF 4Fundos EW 4Fundos AGR\n",
       "2014-05-02 153.59      156.73     149.00     \n",
       "2014-05-05 153.56      156.67     148.91     \n",
       "2014-05-06 153.22      155.95     147.74     \n",
       "2014-05-07 153.23      155.87     147.58     \n",
       "2014-05-08 153.70      156.48     148.38     \n",
       "2014-05-09 153.85      156.78     148.81     "
      ]
     },
     "metadata": {},
     "output_type": "display_data"
    }
   ],
   "source": [
    "head(five_years.df)"
   ]
  },
  {
   "cell_type": "code",
   "execution_count": 271,
   "metadata": {},
   "outputs": [],
   "source": [
    "ten_years.df  <- filter.df.date(Portfolios.df, years=10, previous.row=T)\n",
    "ten_years.xts <- xts(ten_years.df, order.by = ymd(rownames(ten_years.df)))\n",
    "ten_years.xts.ret <- xts(apply(ten_years.xts, 2, FUN=Return.calculate), order.by = index(ten_years.xts))[-1, ]\n",
    "\n",
    "cagr_ten_years <- round((((tail(ten_years.df, 1) / head(ten_years.df, 1)) ^ (1/10)) - 1) * 100, 2)\n",
    "rownames(cagr_ten_years) <- 'CAGR'\n",
    "\n",
    "ten_years_sd <- round(t(apply(ten_years.xts.ret, 2, FUN=StdDev.annualized)) * 100, 2)\n",
    "ten_years_sharpe <- cagr_ten_years / ten_years_sd"
   ]
  },
  {
   "cell_type": "code",
   "execution_count": 272,
   "metadata": {},
   "outputs": [
    {
     "data": {
      "text/html": [
       "<table>\n",
       "<thead><tr><th></th><th scope=col>4Fundos DEF</th><th scope=col>4Fundos EW</th><th scope=col>4Fundos AGR</th></tr></thead>\n",
       "<tbody>\n",
       "\t<tr><th scope=row>2009-05-01</th><td>87.33</td><td>80.21</td><td>69.07</td></tr>\n",
       "\t<tr><th scope=row>2009-05-04</th><td>87.59</td><td>80.60</td><td>69.62</td></tr>\n",
       "\t<tr><th scope=row>2009-05-05</th><td>88.20</td><td>81.38</td><td>70.56</td></tr>\n",
       "\t<tr><th scope=row>2009-05-06</th><td>88.61</td><td>81.86</td><td>71.08</td></tr>\n",
       "\t<tr><th scope=row>2009-05-07</th><td>88.44</td><td>81.57</td><td>70.54</td></tr>\n",
       "\t<tr><th scope=row>2009-05-08</th><td>89.09</td><td>82.14</td><td>71.09</td></tr>\n",
       "</tbody>\n",
       "</table>\n"
      ],
      "text/latex": [
       "\\begin{tabular}{r|lll}\n",
       "  & 4Fundos DEF & 4Fundos EW & 4Fundos AGR\\\\\n",
       "\\hline\n",
       "\t2009-05-01 & 87.33 & 80.21 & 69.07\\\\\n",
       "\t2009-05-04 & 87.59 & 80.60 & 69.62\\\\\n",
       "\t2009-05-05 & 88.20 & 81.38 & 70.56\\\\\n",
       "\t2009-05-06 & 88.61 & 81.86 & 71.08\\\\\n",
       "\t2009-05-07 & 88.44 & 81.57 & 70.54\\\\\n",
       "\t2009-05-08 & 89.09 & 82.14 & 71.09\\\\\n",
       "\\end{tabular}\n"
      ],
      "text/markdown": [
       "\n",
       "| <!--/--> | 4Fundos DEF | 4Fundos EW | 4Fundos AGR |\n",
       "|---|---|---|---|\n",
       "| 2009-05-01 | 87.33 | 80.21 | 69.07 |\n",
       "| 2009-05-04 | 87.59 | 80.60 | 69.62 |\n",
       "| 2009-05-05 | 88.20 | 81.38 | 70.56 |\n",
       "| 2009-05-06 | 88.61 | 81.86 | 71.08 |\n",
       "| 2009-05-07 | 88.44 | 81.57 | 70.54 |\n",
       "| 2009-05-08 | 89.09 | 82.14 | 71.09 |\n",
       "\n"
      ],
      "text/plain": [
       "           4Fundos DEF 4Fundos EW 4Fundos AGR\n",
       "2009-05-01 87.33       80.21      69.07      \n",
       "2009-05-04 87.59       80.60      69.62      \n",
       "2009-05-05 88.20       81.38      70.56      \n",
       "2009-05-06 88.61       81.86      71.08      \n",
       "2009-05-07 88.44       81.57      70.54      \n",
       "2009-05-08 89.09       82.14      71.09      "
      ]
     },
     "metadata": {},
     "output_type": "display_data"
    }
   ],
   "source": [
    "head(ten_years.df)"
   ]
  },
  {
   "cell_type": "code",
   "execution_count": 273,
   "metadata": {},
   "outputs": [],
   "source": [
    "one_year_pt <- round(rbind(cagr_one_year, one_year_sd, one_year_sharpe), 2)\n",
    "rownames(one_year_pt) <- c('CAGR', 'Std.dev', 'Sharpe')"
   ]
  },
  {
   "cell_type": "code",
   "execution_count": 274,
   "metadata": {},
   "outputs": [],
   "source": [
    "three_years_pt <- round(rbind(cagr_one_year, one_year_sd, one_year_sharpe), 2)\n",
    "rownames(one_year_pt) <- c('CAGR', 'Std.dev', 'Sharpe')"
   ]
  },
  {
   "cell_type": "code",
   "execution_count": 275,
   "metadata": {},
   "outputs": [],
   "source": [
    "three_years_pt <- round(rbind(cagr_three_years, three_years_sd, three_years_sharpe), 2)\n",
    "rownames(three_years_pt) <- c('CAGR', 'Std.dev', 'Sharpe')"
   ]
  },
  {
   "cell_type": "code",
   "execution_count": 276,
   "metadata": {},
   "outputs": [],
   "source": [
    "five_years_pt <- round(rbind(cagr_five_years, five_years_sd, five_years_sharpe), 2)\n",
    "rownames(five_years_pt) <- c('CAGR', 'Std.dev', 'Sharpe')"
   ]
  },
  {
   "cell_type": "code",
   "execution_count": 277,
   "metadata": {},
   "outputs": [],
   "source": [
    "ten_years_pt <- round(rbind(cagr_ten_years, ten_years_sd, ten_years_sharpe), 2)\n",
    "rownames(ten_years_pt) <- c('CAGR', 'Std.dev', 'Sharpe')"
   ]
  },
  {
   "cell_type": "code",
   "execution_count": 278,
   "metadata": {},
   "outputs": [],
   "source": [
    "# Passar as tabelas de performance para .csv\n",
    "write.csv(as.data.frame(one_year_pt), 'one_year_pt.csv')\n",
    "write.csv(as.data.frame(three_years_pt), 'three_years_pt.csv')\n",
    "write.csv(as.data.frame(five_years_pt), 'five_years_pt.csv')\n",
    "write.csv(as.data.frame(ten_years_pt), 'ten_years_pt.csv')"
   ]
  },
  {
   "cell_type": "code",
   "execution_count": 279,
   "metadata": {},
   "outputs": [],
   "source": [
    "one_year_rolling <- round(data.frame(ROC(Portfolios.df, n = 262, type = \"discrete\") * 100), 2)\n",
    "colnames(one_year_rolling) <- Nomes_fundos"
   ]
  },
  {
   "cell_type": "code",
   "execution_count": 280,
   "metadata": {},
   "outputs": [
    {
     "data": {
      "text/html": [
       "<table>\n",
       "<thead><tr><th></th><th scope=col>4Fundos DEF</th><th scope=col>4Fundos EW</th><th scope=col>4Fundos AGR</th></tr></thead>\n",
       "<tbody>\n",
       "\t<tr><th scope=row>2019-04-26</th><td>4.57 </td><td>6.89 </td><td>10.42</td></tr>\n",
       "\t<tr><th scope=row>2019-04-29</th><td>4.28 </td><td>6.53 </td><td> 9.89</td></tr>\n",
       "\t<tr><th scope=row>2019-04-30</th><td>4.18 </td><td>6.35 </td><td> 9.52</td></tr>\n",
       "\t<tr><th scope=row>2019-05-01</th><td>4.43 </td><td>6.66 </td><td> 9.99</td></tr>\n",
       "\t<tr><th scope=row>2019-05-02</th><td>3.83 </td><td>5.74 </td><td> 8.50</td></tr>\n",
       "\t<tr><th scope=row>2019-05-03</th><td>4.34 </td><td>6.53 </td><td> 9.75</td></tr>\n",
       "</tbody>\n",
       "</table>\n"
      ],
      "text/latex": [
       "\\begin{tabular}{r|lll}\n",
       "  & 4Fundos DEF & 4Fundos EW & 4Fundos AGR\\\\\n",
       "\\hline\n",
       "\t2019-04-26 & 4.57  & 6.89  & 10.42\\\\\n",
       "\t2019-04-29 & 4.28  & 6.53  &  9.89\\\\\n",
       "\t2019-04-30 & 4.18  & 6.35  &  9.52\\\\\n",
       "\t2019-05-01 & 4.43  & 6.66  &  9.99\\\\\n",
       "\t2019-05-02 & 3.83  & 5.74  &  8.50\\\\\n",
       "\t2019-05-03 & 4.34  & 6.53  &  9.75\\\\\n",
       "\\end{tabular}\n"
      ],
      "text/markdown": [
       "\n",
       "| <!--/--> | 4Fundos DEF | 4Fundos EW | 4Fundos AGR |\n",
       "|---|---|---|---|\n",
       "| 2019-04-26 | 4.57  | 6.89  | 10.42 |\n",
       "| 2019-04-29 | 4.28  | 6.53  |  9.89 |\n",
       "| 2019-04-30 | 4.18  | 6.35  |  9.52 |\n",
       "| 2019-05-01 | 4.43  | 6.66  |  9.99 |\n",
       "| 2019-05-02 | 3.83  | 5.74  |  8.50 |\n",
       "| 2019-05-03 | 4.34  | 6.53  |  9.75 |\n",
       "\n"
      ],
      "text/plain": [
       "           4Fundos DEF 4Fundos EW 4Fundos AGR\n",
       "2019-04-26 4.57        6.89       10.42      \n",
       "2019-04-29 4.28        6.53        9.89      \n",
       "2019-04-30 4.18        6.35        9.52      \n",
       "2019-05-01 4.43        6.66        9.99      \n",
       "2019-05-02 3.83        5.74        8.50      \n",
       "2019-05-03 4.34        6.53        9.75      "
      ]
     },
     "metadata": {},
     "output_type": "display_data"
    }
   ],
   "source": [
    "tail(one_year_rolling)"
   ]
  },
  {
   "cell_type": "code",
   "execution_count": 281,
   "metadata": {},
   "outputs": [
    {
     "data": {
      "text/html": [
       "<table>\n",
       "<thead><tr><th></th><th scope=col>4Fundos DEF</th><th scope=col>4Fundos EW</th><th scope=col>4Fundos AGR</th></tr></thead>\n",
       "<tbody>\n",
       "\t<tr><th scope=row>CAGR</th><td>4.34</td><td>6.53</td><td>9.75</td></tr>\n",
       "\t<tr><th scope=row>Std.dev</th><td>3.82</td><td>6.16</td><td>9.55</td></tr>\n",
       "\t<tr><th scope=row>Sharpe</th><td>1.14</td><td>1.06</td><td>1.02</td></tr>\n",
       "</tbody>\n",
       "</table>\n"
      ],
      "text/latex": [
       "\\begin{tabular}{r|lll}\n",
       "  & 4Fundos DEF & 4Fundos EW & 4Fundos AGR\\\\\n",
       "\\hline\n",
       "\tCAGR & 4.34 & 6.53 & 9.75\\\\\n",
       "\tStd.dev & 3.82 & 6.16 & 9.55\\\\\n",
       "\tSharpe & 1.14 & 1.06 & 1.02\\\\\n",
       "\\end{tabular}\n"
      ],
      "text/markdown": [
       "\n",
       "| <!--/--> | 4Fundos DEF | 4Fundos EW | 4Fundos AGR |\n",
       "|---|---|---|---|\n",
       "| CAGR | 4.34 | 6.53 | 9.75 |\n",
       "| Std.dev | 3.82 | 6.16 | 9.55 |\n",
       "| Sharpe | 1.14 | 1.06 | 1.02 |\n",
       "\n"
      ],
      "text/plain": [
       "        4Fundos DEF 4Fundos EW 4Fundos AGR\n",
       "CAGR    4.34        6.53       9.75       \n",
       "Std.dev 3.82        6.16       9.55       \n",
       "Sharpe  1.14        1.06       1.02       "
      ]
     },
     "metadata": {},
     "output_type": "display_data"
    }
   ],
   "source": [
    "one_year_pt"
   ]
  },
  {
   "cell_type": "code",
   "execution_count": 282,
   "metadata": {},
   "outputs": [],
   "source": [
    "three_years_rolling <- data.frame(ROC(Portfolios.df, n = 261 * 3, type = \"discrete\"))\n",
    "three_years_rolling <- round(((((1 + three_years_rolling) ^ (1/3)) - 1 ) * 100), 2)\n",
    "colnames(three_years_rolling) <- Nomes_fundos"
   ]
  },
  {
   "cell_type": "code",
   "execution_count": 283,
   "metadata": {},
   "outputs": [
    {
     "data": {
      "text/html": [
       "<table>\n",
       "<thead><tr><th></th><th scope=col>4Fundos DEF</th><th scope=col>4Fundos EW</th><th scope=col>4Fundos AGR</th></tr></thead>\n",
       "<tbody>\n",
       "\t<tr><th scope=row>2019-04-26</th><td>4.14</td><td>6.41</td><td>9.19</td></tr>\n",
       "\t<tr><th scope=row>2019-04-29</th><td>4.33</td><td>6.74</td><td>9.73</td></tr>\n",
       "\t<tr><th scope=row>2019-04-30</th><td>4.28</td><td>6.64</td><td>9.56</td></tr>\n",
       "\t<tr><th scope=row>2019-05-01</th><td>4.41</td><td>6.92</td><td>9.96</td></tr>\n",
       "\t<tr><th scope=row>2019-05-02</th><td>4.34</td><td>6.82</td><td>9.80</td></tr>\n",
       "\t<tr><th scope=row>2019-05-03</th><td>4.41</td><td>6.92</td><td>9.93</td></tr>\n",
       "</tbody>\n",
       "</table>\n"
      ],
      "text/latex": [
       "\\begin{tabular}{r|lll}\n",
       "  & 4Fundos DEF & 4Fundos EW & 4Fundos AGR\\\\\n",
       "\\hline\n",
       "\t2019-04-26 & 4.14 & 6.41 & 9.19\\\\\n",
       "\t2019-04-29 & 4.33 & 6.74 & 9.73\\\\\n",
       "\t2019-04-30 & 4.28 & 6.64 & 9.56\\\\\n",
       "\t2019-05-01 & 4.41 & 6.92 & 9.96\\\\\n",
       "\t2019-05-02 & 4.34 & 6.82 & 9.80\\\\\n",
       "\t2019-05-03 & 4.41 & 6.92 & 9.93\\\\\n",
       "\\end{tabular}\n"
      ],
      "text/markdown": [
       "\n",
       "| <!--/--> | 4Fundos DEF | 4Fundos EW | 4Fundos AGR |\n",
       "|---|---|---|---|\n",
       "| 2019-04-26 | 4.14 | 6.41 | 9.19 |\n",
       "| 2019-04-29 | 4.33 | 6.74 | 9.73 |\n",
       "| 2019-04-30 | 4.28 | 6.64 | 9.56 |\n",
       "| 2019-05-01 | 4.41 | 6.92 | 9.96 |\n",
       "| 2019-05-02 | 4.34 | 6.82 | 9.80 |\n",
       "| 2019-05-03 | 4.41 | 6.92 | 9.93 |\n",
       "\n"
      ],
      "text/plain": [
       "           4Fundos DEF 4Fundos EW 4Fundos AGR\n",
       "2019-04-26 4.14        6.41       9.19       \n",
       "2019-04-29 4.33        6.74       9.73       \n",
       "2019-04-30 4.28        6.64       9.56       \n",
       "2019-05-01 4.41        6.92       9.96       \n",
       "2019-05-02 4.34        6.82       9.80       \n",
       "2019-05-03 4.41        6.92       9.93       "
      ]
     },
     "metadata": {},
     "output_type": "display_data"
    }
   ],
   "source": [
    "tail(three_years_rolling)"
   ]
  },
  {
   "cell_type": "code",
   "execution_count": 284,
   "metadata": {},
   "outputs": [
    {
     "data": {
      "text/html": [
       "<table>\n",
       "<thead><tr><th></th><th scope=col>4Fundos DEF</th><th scope=col>4Fundos EW</th><th scope=col>4Fundos AGR</th></tr></thead>\n",
       "<tbody>\n",
       "\t<tr><th scope=row>CAGR</th><td>4.29</td><td>6.67</td><td>9.61</td></tr>\n",
       "\t<tr><th scope=row>Std.dev</th><td>3.56</td><td>5.67</td><td>8.76</td></tr>\n",
       "\t<tr><th scope=row>Sharpe</th><td>1.21</td><td>1.18</td><td>1.10</td></tr>\n",
       "</tbody>\n",
       "</table>\n"
      ],
      "text/latex": [
       "\\begin{tabular}{r|lll}\n",
       "  & 4Fundos DEF & 4Fundos EW & 4Fundos AGR\\\\\n",
       "\\hline\n",
       "\tCAGR & 4.29 & 6.67 & 9.61\\\\\n",
       "\tStd.dev & 3.56 & 5.67 & 8.76\\\\\n",
       "\tSharpe & 1.21 & 1.18 & 1.10\\\\\n",
       "\\end{tabular}\n"
      ],
      "text/markdown": [
       "\n",
       "| <!--/--> | 4Fundos DEF | 4Fundos EW | 4Fundos AGR |\n",
       "|---|---|---|---|\n",
       "| CAGR | 4.29 | 6.67 | 9.61 |\n",
       "| Std.dev | 3.56 | 5.67 | 8.76 |\n",
       "| Sharpe | 1.21 | 1.18 | 1.10 |\n",
       "\n"
      ],
      "text/plain": [
       "        4Fundos DEF 4Fundos EW 4Fundos AGR\n",
       "CAGR    4.29        6.67       9.61       \n",
       "Std.dev 3.56        5.67       8.76       \n",
       "Sharpe  1.21        1.18       1.10       "
      ]
     },
     "metadata": {},
     "output_type": "display_data"
    }
   ],
   "source": [
    "three_years_pt"
   ]
  },
  {
   "cell_type": "code",
   "execution_count": 285,
   "metadata": {},
   "outputs": [],
   "source": [
    "five_years_rolling <- data.frame(ROC(Portfolios.df, n = 261 * 5, type = \"discrete\"))\n",
    "five_years_rolling <- round(((((1 + five_years_rolling) ^ (1/5)) - 1 ) * 100), 2)\n",
    "colnames(five_years_rolling) <- Nomes_fundos"
   ]
  },
  {
   "cell_type": "code",
   "execution_count": 286,
   "metadata": {},
   "outputs": [
    {
     "data": {
      "text/html": [
       "<table>\n",
       "<thead><tr><th></th><th scope=col>4Fundos DEF</th><th scope=col>4Fundos EW</th><th scope=col>4Fundos AGR</th></tr></thead>\n",
       "<tbody>\n",
       "\t<tr><th scope=row>2019-04-26</th><td>5.09 </td><td>7.22 </td><td>10.23</td></tr>\n",
       "\t<tr><th scope=row>2019-04-29</th><td>5.09 </td><td>7.24 </td><td>10.28</td></tr>\n",
       "\t<tr><th scope=row>2019-04-30</th><td>5.05 </td><td>7.17 </td><td>10.16</td></tr>\n",
       "\t<tr><th scope=row>2019-05-01</th><td>5.00 </td><td>7.10 </td><td>10.07</td></tr>\n",
       "\t<tr><th scope=row>2019-05-02</th><td>4.93 </td><td>7.02 </td><td> 9.95</td></tr>\n",
       "\t<tr><th scope=row>2019-05-03</th><td>5.05 </td><td>7.21 </td><td>10.27</td></tr>\n",
       "</tbody>\n",
       "</table>\n"
      ],
      "text/latex": [
       "\\begin{tabular}{r|lll}\n",
       "  & 4Fundos DEF & 4Fundos EW & 4Fundos AGR\\\\\n",
       "\\hline\n",
       "\t2019-04-26 & 5.09  & 7.22  & 10.23\\\\\n",
       "\t2019-04-29 & 5.09  & 7.24  & 10.28\\\\\n",
       "\t2019-04-30 & 5.05  & 7.17  & 10.16\\\\\n",
       "\t2019-05-01 & 5.00  & 7.10  & 10.07\\\\\n",
       "\t2019-05-02 & 4.93  & 7.02  &  9.95\\\\\n",
       "\t2019-05-03 & 5.05  & 7.21  & 10.27\\\\\n",
       "\\end{tabular}\n"
      ],
      "text/markdown": [
       "\n",
       "| <!--/--> | 4Fundos DEF | 4Fundos EW | 4Fundos AGR |\n",
       "|---|---|---|---|\n",
       "| 2019-04-26 | 5.09  | 7.22  | 10.23 |\n",
       "| 2019-04-29 | 5.09  | 7.24  | 10.28 |\n",
       "| 2019-04-30 | 5.05  | 7.17  | 10.16 |\n",
       "| 2019-05-01 | 5.00  | 7.10  | 10.07 |\n",
       "| 2019-05-02 | 4.93  | 7.02  |  9.95 |\n",
       "| 2019-05-03 | 5.05  | 7.21  | 10.27 |\n",
       "\n"
      ],
      "text/plain": [
       "           4Fundos DEF 4Fundos EW 4Fundos AGR\n",
       "2019-04-26 5.09        7.22       10.23      \n",
       "2019-04-29 5.09        7.24       10.28      \n",
       "2019-04-30 5.05        7.17       10.16      \n",
       "2019-05-01 5.00        7.10       10.07      \n",
       "2019-05-02 4.93        7.02        9.95      \n",
       "2019-05-03 5.05        7.21       10.27      "
      ]
     },
     "metadata": {},
     "output_type": "display_data"
    }
   ],
   "source": [
    "tail(five_years_rolling)"
   ]
  },
  {
   "cell_type": "code",
   "execution_count": 287,
   "metadata": {},
   "outputs": [
    {
     "data": {
      "text/html": [
       "<table>\n",
       "<thead><tr><th></th><th scope=col>4Fundos DEF</th><th scope=col>4Fundos EW</th><th scope=col>4Fundos AGR</th></tr></thead>\n",
       "<tbody>\n",
       "\t<tr><th scope=row>CAGR</th><td>5.00 </td><td>7.11 </td><td>10.08</td></tr>\n",
       "\t<tr><th scope=row>Std.dev</th><td>4.39 </td><td>6.82 </td><td>10.49</td></tr>\n",
       "\t<tr><th scope=row>Sharpe</th><td>1.14 </td><td>1.04 </td><td> 0.96</td></tr>\n",
       "</tbody>\n",
       "</table>\n"
      ],
      "text/latex": [
       "\\begin{tabular}{r|lll}\n",
       "  & 4Fundos DEF & 4Fundos EW & 4Fundos AGR\\\\\n",
       "\\hline\n",
       "\tCAGR & 5.00  & 7.11  & 10.08\\\\\n",
       "\tStd.dev & 4.39  & 6.82  & 10.49\\\\\n",
       "\tSharpe & 1.14  & 1.04  &  0.96\\\\\n",
       "\\end{tabular}\n"
      ],
      "text/markdown": [
       "\n",
       "| <!--/--> | 4Fundos DEF | 4Fundos EW | 4Fundos AGR |\n",
       "|---|---|---|---|\n",
       "| CAGR | 5.00  | 7.11  | 10.08 |\n",
       "| Std.dev | 4.39  | 6.82  | 10.49 |\n",
       "| Sharpe | 1.14  | 1.04  |  0.96 |\n",
       "\n"
      ],
      "text/plain": [
       "        4Fundos DEF 4Fundos EW 4Fundos AGR\n",
       "CAGR    5.00        7.11       10.08      \n",
       "Std.dev 4.39        6.82       10.49      \n",
       "Sharpe  1.14        1.04        0.96      "
      ]
     },
     "metadata": {},
     "output_type": "display_data"
    }
   ],
   "source": [
    "five_years_pt"
   ]
  },
  {
   "cell_type": "code",
   "execution_count": 288,
   "metadata": {},
   "outputs": [],
   "source": [
    "ten_years_rolling <- data.frame(ROC(Portfolios.df, n = 261 * 10, type = \"discrete\"))\n",
    "ten_years_rolling <- round(((((1 + ten_years_rolling) ^ (1/10)) - 1 ) * 100), 2)\n",
    "colnames(ten_years_rolling) <- Nomes_fundos"
   ]
  },
  {
   "cell_type": "code",
   "execution_count": 289,
   "metadata": {},
   "outputs": [
    {
     "data": {
      "text/html": [
       "<table>\n",
       "<thead><tr><th></th><th scope=col>4Fundos DEF</th><th scope=col>4Fundos EW</th><th scope=col>4Fundos AGR</th></tr></thead>\n",
       "<tbody>\n",
       "\t<tr><th scope=row>2019-04-26</th><td>8.27 </td><td>10.44</td><td>12.99</td></tr>\n",
       "\t<tr><th scope=row>2019-04-29</th><td>8.29 </td><td>10.49</td><td>13.09</td></tr>\n",
       "\t<tr><th scope=row>2019-04-30</th><td>8.20 </td><td>10.39</td><td>12.96</td></tr>\n",
       "\t<tr><th scope=row>2019-05-01</th><td>8.23 </td><td>10.48</td><td>13.13</td></tr>\n",
       "\t<tr><th scope=row>2019-05-02</th><td>8.20 </td><td>10.45</td><td>13.10</td></tr>\n",
       "\t<tr><th scope=row>2019-05-03</th><td>8.26 </td><td>10.57</td><td>13.34</td></tr>\n",
       "</tbody>\n",
       "</table>\n"
      ],
      "text/latex": [
       "\\begin{tabular}{r|lll}\n",
       "  & 4Fundos DEF & 4Fundos EW & 4Fundos AGR\\\\\n",
       "\\hline\n",
       "\t2019-04-26 & 8.27  & 10.44 & 12.99\\\\\n",
       "\t2019-04-29 & 8.29  & 10.49 & 13.09\\\\\n",
       "\t2019-04-30 & 8.20  & 10.39 & 12.96\\\\\n",
       "\t2019-05-01 & 8.23  & 10.48 & 13.13\\\\\n",
       "\t2019-05-02 & 8.20  & 10.45 & 13.10\\\\\n",
       "\t2019-05-03 & 8.26  & 10.57 & 13.34\\\\\n",
       "\\end{tabular}\n"
      ],
      "text/markdown": [
       "\n",
       "| <!--/--> | 4Fundos DEF | 4Fundos EW | 4Fundos AGR |\n",
       "|---|---|---|---|\n",
       "| 2019-04-26 | 8.27  | 10.44 | 12.99 |\n",
       "| 2019-04-29 | 8.29  | 10.49 | 13.09 |\n",
       "| 2019-04-30 | 8.20  | 10.39 | 12.96 |\n",
       "| 2019-05-01 | 8.23  | 10.48 | 13.13 |\n",
       "| 2019-05-02 | 8.20  | 10.45 | 13.10 |\n",
       "| 2019-05-03 | 8.26  | 10.57 | 13.34 |\n",
       "\n"
      ],
      "text/plain": [
       "           4Fundos DEF 4Fundos EW 4Fundos AGR\n",
       "2019-04-26 8.27        10.44      12.99      \n",
       "2019-04-29 8.29        10.49      13.09      \n",
       "2019-04-30 8.20        10.39      12.96      \n",
       "2019-05-01 8.23        10.48      13.13      \n",
       "2019-05-02 8.20        10.45      13.10      \n",
       "2019-05-03 8.26        10.57      13.34      "
      ]
     },
     "metadata": {},
     "output_type": "display_data"
    }
   ],
   "source": [
    "tail(ten_years_rolling)"
   ]
  },
  {
   "cell_type": "code",
   "execution_count": 290,
   "metadata": {},
   "outputs": [
    {
     "data": {
      "text/html": [
       "<table>\n",
       "<thead><tr><th></th><th scope=col>4Fundos DEF</th><th scope=col>4Fundos EW</th><th scope=col>4Fundos AGR</th></tr></thead>\n",
       "<tbody>\n",
       "\t<tr><th scope=row>CAGR</th><td>8.42 </td><td>10.66</td><td>13.30</td></tr>\n",
       "\t<tr><th scope=row>Std.dev</th><td>4.17 </td><td> 6.51</td><td>10.11</td></tr>\n",
       "\t<tr><th scope=row>Sharpe</th><td>2.02 </td><td> 1.64</td><td> 1.32</td></tr>\n",
       "</tbody>\n",
       "</table>\n"
      ],
      "text/latex": [
       "\\begin{tabular}{r|lll}\n",
       "  & 4Fundos DEF & 4Fundos EW & 4Fundos AGR\\\\\n",
       "\\hline\n",
       "\tCAGR & 8.42  & 10.66 & 13.30\\\\\n",
       "\tStd.dev & 4.17  &  6.51 & 10.11\\\\\n",
       "\tSharpe & 2.02  &  1.64 &  1.32\\\\\n",
       "\\end{tabular}\n"
      ],
      "text/markdown": [
       "\n",
       "| <!--/--> | 4Fundos DEF | 4Fundos EW | 4Fundos AGR |\n",
       "|---|---|---|---|\n",
       "| CAGR | 8.42  | 10.66 | 13.30 |\n",
       "| Std.dev | 4.17  |  6.51 | 10.11 |\n",
       "| Sharpe | 2.02  |  1.64 |  1.32 |\n",
       "\n"
      ],
      "text/plain": [
       "        4Fundos DEF 4Fundos EW 4Fundos AGR\n",
       "CAGR    8.42        10.66      13.30      \n",
       "Std.dev 4.17         6.51      10.11      \n",
       "Sharpe  2.02         1.64       1.32      "
      ]
     },
     "metadata": {},
     "output_type": "display_data"
    }
   ],
   "source": [
    "ten_years_pt"
   ]
  },
  {
   "cell_type": "code",
   "execution_count": 291,
   "metadata": {},
   "outputs": [],
   "source": [
    "# write .csv of rolling returns per year\n",
    "write.csv(as.data.frame(one_year_rolling), 'one_year_rolling.csv')\n",
    "write.csv(as.data.frame(three_years_rolling), 'three_years_rolling.csv')\n",
    "write.csv(as.data.frame(five_years_rolling), 'five_years_rolling.csv')\n",
    "write.csv(as.data.frame(ten_years_rolling), 'ten_years_rolling.csv')"
   ]
  },
  {
   "cell_type": "code",
   "execution_count": 292,
   "metadata": {},
   "outputs": [],
   "source": [
    "def_rolling <- cbind(one_year_rolling[, 1], three_years_rolling[, 1],\n",
    "                     five_years_rolling[, 1],ten_years_rolling[, 1])\n",
    "years <- c('1 Ano', '3 Anos', '5 Anos', '10 Anos')\n",
    "colnames(def_rolling) <- years"
   ]
  },
  {
   "cell_type": "code",
   "execution_count": 293,
   "metadata": {},
   "outputs": [
    {
     "data": {
      "text/html": [
       "<table>\n",
       "<thead><tr><th></th><th scope=col>1 Ano</th><th scope=col>3 Anos</th><th scope=col>5 Anos</th><th scope=col>10 Anos</th></tr></thead>\n",
       "<tbody>\n",
       "\t<tr><th scope=row>[3145,]</th><td>4.57</td><td>4.14</td><td>5.09</td><td>8.27</td></tr>\n",
       "\t<tr><th scope=row>[3146,]</th><td>4.28</td><td>4.33</td><td>5.09</td><td>8.29</td></tr>\n",
       "\t<tr><th scope=row>[3147,]</th><td>4.18</td><td>4.28</td><td>5.05</td><td>8.20</td></tr>\n",
       "\t<tr><th scope=row>[3148,]</th><td>4.43</td><td>4.41</td><td>5.00</td><td>8.23</td></tr>\n",
       "\t<tr><th scope=row>[3149,]</th><td>3.83</td><td>4.34</td><td>4.93</td><td>8.20</td></tr>\n",
       "\t<tr><th scope=row>[3150,]</th><td>4.34</td><td>4.41</td><td>5.05</td><td>8.26</td></tr>\n",
       "</tbody>\n",
       "</table>\n"
      ],
      "text/latex": [
       "\\begin{tabular}{r|llll}\n",
       "  & 1 Ano & 3 Anos & 5 Anos & 10 Anos\\\\\n",
       "\\hline\n",
       "\t{[}3145,{]} & 4.57 & 4.14 & 5.09 & 8.27\\\\\n",
       "\t{[}3146,{]} & 4.28 & 4.33 & 5.09 & 8.29\\\\\n",
       "\t{[}3147,{]} & 4.18 & 4.28 & 5.05 & 8.20\\\\\n",
       "\t{[}3148,{]} & 4.43 & 4.41 & 5.00 & 8.23\\\\\n",
       "\t{[}3149,{]} & 3.83 & 4.34 & 4.93 & 8.20\\\\\n",
       "\t{[}3150,{]} & 4.34 & 4.41 & 5.05 & 8.26\\\\\n",
       "\\end{tabular}\n"
      ],
      "text/markdown": [
       "\n",
       "| <!--/--> | 1 Ano | 3 Anos | 5 Anos | 10 Anos |\n",
       "|---|---|---|---|---|\n",
       "| [3145,] | 4.57 | 4.14 | 5.09 | 8.27 |\n",
       "| [3146,] | 4.28 | 4.33 | 5.09 | 8.29 |\n",
       "| [3147,] | 4.18 | 4.28 | 5.05 | 8.20 |\n",
       "| [3148,] | 4.43 | 4.41 | 5.00 | 8.23 |\n",
       "| [3149,] | 3.83 | 4.34 | 4.93 | 8.20 |\n",
       "| [3150,] | 4.34 | 4.41 | 5.05 | 8.26 |\n",
       "\n"
      ],
      "text/plain": [
       "        1 Ano 3 Anos 5 Anos 10 Anos\n",
       "[3145,] 4.57  4.14   5.09   8.27   \n",
       "[3146,] 4.28  4.33   5.09   8.29   \n",
       "[3147,] 4.18  4.28   5.05   8.20   \n",
       "[3148,] 4.43  4.41   5.00   8.23   \n",
       "[3149,] 3.83  4.34   4.93   8.20   \n",
       "[3150,] 4.34  4.41   5.05   8.26   "
      ]
     },
     "metadata": {},
     "output_type": "display_data"
    }
   ],
   "source": [
    "tail(def_rolling)"
   ]
  },
  {
   "cell_type": "code",
   "execution_count": 294,
   "metadata": {},
   "outputs": [],
   "source": [
    "ew_rolling <- cbind(one_year_rolling[, 2], three_years_rolling[, 2],\n",
    "                     five_years_rolling[, 2],ten_years_rolling[, 2])\n",
    "colnames(ew_rolling) <- years"
   ]
  },
  {
   "cell_type": "code",
   "execution_count": 295,
   "metadata": {},
   "outputs": [],
   "source": [
    "agr_rolling <- cbind(one_year_rolling[, 3], three_years_rolling[, 3],\n",
    "                      five_years_rolling[, 3],ten_years_rolling[, 3])\n",
    "colnames(agr_rolling) <- years"
   ]
  },
  {
   "cell_type": "code",
   "execution_count": 296,
   "metadata": {},
   "outputs": [],
   "source": [
    "# write .csv of rolling returns per portfolio\n",
    "write.csv(as.data.frame(def_rolling), 'def_rolling.csv')\n",
    "write.csv(as.data.frame(ew_rolling),  'ew_rolling.csv')\n",
    "write.csv(as.data.frame(agr_rolling), 'agr_rolling.csv')"
   ]
  },
  {
   "cell_type": "code",
   "execution_count": null,
   "metadata": {},
   "outputs": [],
   "source": []
  },
  {
   "cell_type": "code",
   "execution_count": 297,
   "metadata": {},
   "outputs": [],
   "source": [
    "today <-ymd('2017-10-04')\n",
    "dob   <-ymd('2007-04-23')"
   ]
  },
  {
   "cell_type": "code",
   "execution_count": 298,
   "metadata": {},
   "outputs": [
    {
     "data": {
      "text/html": [
       "10.4360902255639"
      ],
      "text/latex": [
       "10.4360902255639"
      ],
      "text/markdown": [
       "10.4360902255639"
      ],
      "text/plain": [
       "[1] 10.43609"
      ]
     },
     "metadata": {},
     "output_type": "display_data"
    }
   ],
   "source": [
    "as.numeric(difftime(today, dob, unit=\"weeks\"))/52.25"
   ]
  },
  {
   "cell_type": "code",
   "execution_count": 299,
   "metadata": {},
   "outputs": [
    {
     "data": {
      "text/html": [
       "<ol class=list-inline>\n",
       "\t<li>3150</li>\n",
       "\t<li>3</li>\n",
       "</ol>\n"
      ],
      "text/latex": [
       "\\begin{enumerate*}\n",
       "\\item 3150\n",
       "\\item 3\n",
       "\\end{enumerate*}\n"
      ],
      "text/markdown": [
       "1. 3150\n",
       "2. 3\n",
       "\n",
       "\n"
      ],
      "text/plain": [
       "[1] 3150    3"
      ]
     },
     "metadata": {},
     "output_type": "display_data"
    }
   ],
   "source": [
    "dim(one_year_rolling)"
   ]
  },
  {
   "cell_type": "code",
   "execution_count": 300,
   "metadata": {},
   "outputs": [
    {
     "data": {
      "text/html": [
       "261.400576368876"
      ],
      "text/latex": [
       "261.400576368876"
      ],
      "text/markdown": [
       "261.400576368876"
      ],
      "text/plain": [
       "[1] 261.4006"
      ]
     },
     "metadata": {},
     "output_type": "display_data"
    }
   ],
   "source": [
    "2728 / 10.4360902255639"
   ]
  },
  {
   "cell_type": "code",
   "execution_count": 301,
   "metadata": {},
   "outputs": [
    {
     "data": {
      "text/html": [
       "'data.frame'"
      ],
      "text/latex": [
       "'data.frame'"
      ],
      "text/markdown": [
       "'data.frame'"
      ],
      "text/plain": [
       "[1] \"data.frame\""
      ]
     },
     "metadata": {},
     "output_type": "display_data"
    }
   ],
   "source": [
    "class(one_year_rolling)"
   ]
  },
  {
   "cell_type": "code",
   "execution_count": 302,
   "metadata": {},
   "outputs": [
    {
     "data": {
      "text/html": [
       "<table>\n",
       "<thead><tr><th></th><th scope=col>4Fundos DEF</th><th scope=col>4Fundos EW</th><th scope=col>4Fundos AGR</th></tr></thead>\n",
       "<tbody>\n",
       "\t<tr><th scope=row>2019-05-02</th><td>195.37</td><td>219.95</td><td>239.31</td></tr>\n",
       "\t<tr><th scope=row>2019-05-03</th><td>196.00</td><td>220.92</td><td>240.86</td></tr>\n",
       "</tbody>\n",
       "</table>\n"
      ],
      "text/latex": [
       "\\begin{tabular}{r|lll}\n",
       "  & 4Fundos DEF & 4Fundos EW & 4Fundos AGR\\\\\n",
       "\\hline\n",
       "\t2019-05-02 & 195.37 & 219.95 & 239.31\\\\\n",
       "\t2019-05-03 & 196.00 & 220.92 & 240.86\\\\\n",
       "\\end{tabular}\n"
      ],
      "text/markdown": [
       "\n",
       "| <!--/--> | 4Fundos DEF | 4Fundos EW | 4Fundos AGR |\n",
       "|---|---|---|---|\n",
       "| 2019-05-02 | 195.37 | 219.95 | 239.31 |\n",
       "| 2019-05-03 | 196.00 | 220.92 | 240.86 |\n",
       "\n"
      ],
      "text/plain": [
       "           4Fundos DEF 4Fundos EW 4Fundos AGR\n",
       "2019-05-02 195.37      219.95     239.31     \n",
       "2019-05-03 196.00      220.92     240.86     "
      ]
     },
     "metadata": {},
     "output_type": "display_data"
    }
   ],
   "source": [
    "filter.df.date(five_years.df, days=5)"
   ]
  },
  {
   "cell_type": "code",
   "execution_count": null,
   "metadata": {},
   "outputs": [],
   "source": []
  }
 ],
 "metadata": {
  "kernelspec": {
   "display_name": "R",
   "language": "R",
   "name": "ir"
  },
  "language_info": {
   "codemirror_mode": "r",
   "file_extension": ".r",
   "mimetype": "text/x-r-source",
   "name": "R",
   "pygments_lexer": "r",
   "version": "3.5.2"
  }
 },
 "nbformat": 4,
 "nbformat_minor": 2
}

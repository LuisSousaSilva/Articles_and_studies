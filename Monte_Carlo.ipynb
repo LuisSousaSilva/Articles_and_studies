{
 "cells": [
  {
   "cell_type": "markdown",
   "metadata": {
    "kernel": "SoS"
   },
   "source": [
    "<a><img style=\"float: right;\" src=\"https://i.ibb.co/1qVSNwH/FP.png\" alt=\"FP\" border=\"0\"></a>"
   ]
  },
  {
   "cell_type": "code",
   "execution_count": null,
   "metadata": {
    "kernel": "SoS"
   },
   "outputs": [],
   "source": [
    "%matplotlib inline\n",
    "\n",
    "# importing libraries\n",
    "import matplotlib.pyplot as plt\n",
    "import plotly.graph_objs as go\n",
    "import plotly.offline as py\n",
    "import cufflinks as cf\n",
    "import seaborn as sns\n",
    "import pandas as pd\n",
    "import numpy as np\n",
    "import quandl\n",
    "import plotly\n",
    "import time\n",
    "\n",
    "from plotly.offline import download_plotlyjs, init_notebook_mode, plot, iplot\n",
    "from IPython.display import Markdown, display\n",
    "from matplotlib.ticker import FuncFormatter\n",
    "from pandas.core.base import PandasObject\n",
    "from datetime import datetime\n",
    "\n",
    "# Setting pandas dataframe display options\n",
    "pd.set_option(\"display.max_rows\", 20)\n",
    "pd.set_option('display.width', 800)\n",
    "pd.set_option('max_colwidth', 800)\n",
    "\n",
    "pd.options.display.float_format = '{:,.2f}'.format\n",
    "\n",
    "# Set plotly offline\n",
    "init_notebook_mode(connected=True)\n",
    "\n",
    "# Set matplotlib style\n",
    "plt.style.use('seaborn')\n",
    "\n",
    "# Set cufflinks offline\n",
    "cf.go_offline()\n",
    "\n",
    "# Defining today's Date\n",
    "from datetime import date\n",
    "today = date.today()\n",
    "\n",
    "#### Functions ####\n",
    "def compute_growth_rate(dataframe, initial_value=100, initial_cost=0, ending_cost=0):\n",
    "    initial_cost = initial_cost / 100\n",
    "    ending_cost  = ending_cost / 100\n",
    "    \n",
    "    GR = ((1 + dataframe.pct_change()).cumprod()) * (initial_value * (1 - initial_cost))\n",
    "    GR.iloc[0]  = initial_value * (1 - initial_cost)\n",
    "    GR.iloc[-1] = GR.iloc[-1] * (1 * (1 - ending_cost))\n",
    "    return GR \n",
    "\n",
    "def compute_drawdowns(dataframe):\n",
    "    '''\n",
    "    Function to compute drawdowns of a timeseries\n",
    "    given a dataframe of prices\n",
    "    '''\n",
    "    return (dataframe / dataframe.cummax() -1) * 100\n",
    "\n",
    "def compute_return(dataframe):\n",
    "    '''\n",
    "    Function to compute drawdowns of a timeseries\n",
    "    given a dataframe of prices\n",
    "    '''\n",
    "    return (dataframe.iloc[-1] / dataframe.iloc[0] -1) * 100\n",
    "    \n",
    "def compute_max_DD(dataframe):\n",
    "    return compute_drawdowns(dataframe).min()\n",
    "\n",
    "def compute_cagr(dataframe, years=0, investment_value=0):\n",
    "    '''\n",
    "    Function to calculate CAGR given a dataframe of prices\n",
    "    '''\n",
    "    years = len(pd.date_range(dataframe.index[0], dataframe.index[-1], freq='D')) / 365\n",
    "    \n",
    "    if investment_value == 0:\n",
    "        return (dataframe.iloc[-1].div(dataframe.iloc[0]).pow(1 / years)).sub(1).mul(100)\n",
    "    else:\n",
    "        return (dataframe.iloc[-1].div(investment_value).pow(1 / years)).sub(1).mul(100)\n",
    "\n",
    "def compute_mar(dataframe):\n",
    "    '''\n",
    "    Function to calculate mar: Return Over Maximum Drawdown\n",
    "    given a dataframe of prices\n",
    "    '''\n",
    "    return compute_cagr(dataframe).div(compute_drawdowns(dataframe).min().abs())\n",
    "\n",
    "def compute_StdDev(dataframe, freq='days'):    \n",
    "    '''\n",
    "    Function to calculate annualized standart deviation\n",
    "    given a dataframe of prices. It takes into account the\n",
    "    frequency of the data.\n",
    "    '''    \n",
    "    if freq == 'days':\n",
    "        return dataframe.pct_change().std().mul((np.sqrt(252))).mul(100)\n",
    "    if freq == 'months':\n",
    "        return dataframe.pct_change().std().mul((np.sqrt(12))).mul(100)\n",
    "\n",
    "def compute_sharpe(dataframe, years=0, freq='days'):    \n",
    "    '''\n",
    "    Function to calculate the sharpe ratio given a dataframe of prices.\n",
    "    '''    \n",
    "    return compute_cagr(dataframe, years).div(compute_StdDev(dataframe, freq))\n",
    "\n",
    "def compute_return(dataframe, investment_value=0):\n",
    "    '''\n",
    "    Function to compute drawdowns of a timeseries\n",
    "    given a dataframe of prices\n",
    "    '''\n",
    "    if investment_value == 0:\n",
    "        return(dataframe.iloc[-1] / dataframe.iloc[0] -1) * 100\n",
    "    else:\n",
    "        return(dataframe.iloc[-1] / investment_value -1) * 100\n",
    "\n",
    "def compute_performance_table(dataframe, years='si', freq='days', investment_value=0):    \n",
    "    '''\n",
    "    Function to calculate a performance table given a dataframe of prices.\n",
    "    Takes into account the frequency of the data.\n",
    "    ''' \n",
    "    \n",
    "    if years == 'si':\n",
    "        years = len(pd.date_range(dataframe.index[0], dataframe.index[-1], freq='D')) / 365\n",
    "        \n",
    "        df = pd.DataFrame([compute_return(dataframe, investment_value), compute_cagr(dataframe, years, investment_value), compute_StdDev(dataframe, freq),\n",
    "                           compute_sharpe(dataframe, years, freq), compute_max_DD(dataframe), compute_mar(dataframe)])\n",
    "        df.index = ['Return', 'CAGR', 'StdDev', 'Sharpe', 'Max DD', 'MAR']\n",
    "        \n",
    "        df = round(df.transpose(), 2)\n",
    "        \n",
    "        # Colocar percentagens\n",
    "        df['Return'] = (df['Return'] / 100).apply('{:.2%}'.format)\n",
    "        df['CAGR'] = (df['CAGR'] / 100).apply('{:.2%}'.format)\n",
    "        df['StdDev'] = (df['StdDev'] / 100).apply('{:.2%}'.format)\n",
    "        df['Max DD'] = (df['Max DD'] / 100).apply('{:.2%}'.format)\n",
    "        \n",
    "        # Return object\n",
    "        return df\n",
    "    \n",
    "    else:\n",
    "        df = pd.DataFrame([compute_return(dataframe, investment_value), compute_cagr(dataframe, years, investment_value), compute_StdDev(dataframe, freq),\n",
    "                           compute_sharpe(dataframe, years, freq), compute_max_DD(dataframe), compute_mar(dataframe)])\n",
    "        df.index = ['CAGR', 'StdDev', 'Sharpe', 'Max DD', 'MAR']\n",
    "        \n",
    "        df = round(df.transpose(), 2)\n",
    "        \n",
    "        # Colocar percentagens\n",
    "        df['Return'] = (df['Return'] / 100).apply('{:.2%}'.format)\n",
    "        df['CAGR'] = (df['CAGR'] / 100).apply('{:.2%}'.format)\n",
    "        df['StdDev'] = (df['StdDev'] / 100).apply('{:.2%}'.format)\n",
    "        \n",
    "        # Return object\n",
    "        return df\n",
    "\n",
    "def compute_time_period(timestamp_1, timestamp_2):\n",
    "    \n",
    "    year = timestamp_1.year - timestamp_2.year\n",
    "    month = timestamp_1.month - timestamp_2.month\n",
    "    day = timestamp_1.day - timestamp_2.day\n",
    "    \n",
    "    if month < 0:\n",
    "        year = year - 1\n",
    "        month = 12 + month\n",
    "    \n",
    "    if day < 0:\n",
    "        day = - day\n",
    "        \n",
    "    # Returns datetime object in years, month, days\n",
    "    return(str(year) + ' Years ' + str(month) + ' Months ' + str(day) + ' Days')\n",
    "\n",
    "def filter_by_date(dataframe, years=0, previous_row=False):\n",
    "    \n",
    "    last_date = dataframe.tail(1).index\n",
    "    year_nr = last_date.year.values[0]\n",
    "    month_nr = last_date.month.values[0]\n",
    "    day_nr = last_date.day.values[0]\n",
    "            \n",
    "    new_date = str(year_nr - years) + '-' + str(month_nr) + '-' + str(day_nr)\n",
    "    \n",
    "    if previous_row == False:\n",
    "        return dataframe.loc[new_date:]\n",
    "    \n",
    "    elif previous_row == True:\n",
    "        return pd.concat([dataframe.loc[:new_date].tail(1), dataframe.loc[new_date:]])\n",
    "    \n",
    "def get(quotes):\n",
    "\n",
    "    # resample quotes to business month\n",
    "    monthly_quotes = quotes.resample('BM').last()\n",
    "    \n",
    "    # get monthly returns\n",
    "    returns = monthly_quotes.pct_change()\n",
    "\n",
    "    # get close / first column if given DataFrame\n",
    "    if isinstance(returns, pd.DataFrame):\n",
    "        returns.columns = map(str.lower, returns.columns)\n",
    "        if len(returns.columns) > 1 and 'close' in returns.columns:\n",
    "            returns = returns['close']\n",
    "        else:\n",
    "            returns = returns[returns.columns[0]]\n",
    "\n",
    "    # get returnsframe\n",
    "    returns = pd.DataFrame(data={'Retornos': returns})\n",
    "    returns['Ano'] = returns.index.strftime('%Y')\n",
    "    returns['Mês'] = returns.index.strftime('%b')\n",
    "\n",
    "    # make pivot table\n",
    "    returns = returns.pivot('Ano', 'Mês', 'Retornos').fillna(0)\n",
    "\n",
    "    # order columns by month\n",
    "    returns = returns[['Jan', 'Feb', 'Mar', 'Apr', 'May', 'Jun',  'Jul', 'Aug', 'Sep', 'Oct', 'Nov', 'Dec']]\n",
    "\n",
    "    return returns\n",
    "\n",
    "def plot(returns,\n",
    "         title=\"Monthly Returns (%)\",\n",
    "         title_color=\"black\",\n",
    "         title_size=12,\n",
    "         annot_size=10,\n",
    "         figsize=None,\n",
    "         cmap='RdYlGn',\n",
    "         cbar=False,\n",
    "         square=False):\n",
    "\n",
    "    returns = get(returns)\n",
    "    returns *= 100\n",
    "    \n",
    "    if figsize is None:\n",
    "        size = list(plt.gcf().get_size_inches()) \n",
    "        figsize = (size[0], size[0] // 2)\n",
    "        plt.close()\n",
    "\n",
    "    fig, ax = plt.subplots(figsize=figsize)\n",
    "    ax = sns.heatmap(returns, ax=ax, annot=True,\n",
    "                     annot_kws={\"size\": annot_size}, fmt=\"0.2f\", linewidths=0.4, center=0,\n",
    "                     square=square, cbar=cbar, cmap=cmap)\n",
    "    ax.set_title(title, fontsize=title_size, color=title_color, fontweight=\"bold\")\n",
    "\n",
    "    fig.subplots_adjust(hspace=0)\n",
    "    plt.yticks(rotation=0)\n",
    "    plt.show()\n",
    "    plt.close()\n",
    "\n",
    "\n",
    "PandasObject.get_returns_heatmap = get\n",
    "PandasObject.plot_returns_heatmap = plot\n",
    "\n",
    "def calendarize(returns):\n",
    "    \n",
    "    '''\n",
    "    The calendarize function is an slight adaption of ranaroussi's monthly-returns-heatmap \n",
    "    You can find it here: https://github.com/ranaroussi/monthly-returns-heatmap/\n",
    "    \n",
    "    It turns monthly data into a 12 columns(months) and yearly row seaborn heatmap\n",
    "    '''\n",
    "    \n",
    "    # get close / first column if given DataFrame\n",
    "    if isinstance(returns, pd.DataFrame):\n",
    "        returns.columns = map(str.lower, returns.columns)\n",
    "        if len(returns.columns) > 1 and 'close' in returns.columns:\n",
    "            returns = returns['close']\n",
    "        else:\n",
    "            returns = returns[returns.columns[0]]\n",
    "\n",
    "    # get returnsframe\n",
    "    returns = pd.DataFrame(data={'Retornos': returns})\n",
    "    returns['Ano'] = returns.index.strftime('%Y')\n",
    "    returns['Mês'] = returns.index.strftime('%b')\n",
    "\n",
    "    # make pivot table\n",
    "    returns = returns.pivot('Ano', 'Mês', 'Retornos').fillna(0)\n",
    "\n",
    "    # order columns by month\n",
    "    returns = returns[['Jan', 'Feb', 'Mar', 'Apr', 'May', 'Jun',  'Jul', 'Aug', 'Sep', 'Oct', 'Nov', 'Dec']]\n",
    "\n",
    "    return returns\n",
    "\n",
    "def plotly_table(df, width=990, height=500, columnwidth=[25], title=None , index=True, header=True,\n",
    "                 header_alignment=['center'],  header_line_color='rgb(100, 100, 100)', header_font_size=[12],\n",
    "                 header_font_color=['rgb(45, 45, 45)'], header_fill_color=['rgb(200, 200, 200)'],\n",
    "                 cells_alignment=['center'], cells_line_color=['rgb(200, 200, 200)'], cells_font_size=[11], \n",
    "                 cells_font_color=['rgb(45, 45, 45)'], cells_fill_color=['rgb(245, 245, 245)','white' ]):\n",
    "    \n",
    "    # Making the header bold and conditional  \n",
    "        if (header == False and index == False):            \n",
    "            lst = list(df.columns[0 + i] for i in range(len(df.columns)))  \n",
    "            header = [[i] for i in lst]\n",
    "            header =  list([str( '<b>' + header[0 + i][0] + '</b>') for i in range(len(df.columns))])\n",
    "            header = [[i] for i in header]\n",
    "            header.pop(0)\n",
    "            header =  [[]] + header\n",
    "            \n",
    "            trace = go.Table(\n",
    "                columnwidth = columnwidth,\n",
    "                    header=dict(values=header,\n",
    "                              line = dict(color=header_line_color),\n",
    "                              align = header_alignment,\n",
    "                              font = dict(color=header_font_color, size=header_font_size),\n",
    "                              height = 22,\n",
    "                              fill = dict(color=header_fill_color)),\n",
    "            \n",
    "            cells=dict(values=df.transpose().values.tolist(),                       \n",
    "                       line=dict(color=cells_line_color),\n",
    "                       align = cells_alignment,\n",
    "                       height = 22,\n",
    "                       font = dict(color=cells_font_color, size=cells_font_size),\n",
    "                       fill = dict(color = [cells_fill_color * len(df.index)]),\n",
    "                      ),      \n",
    "        )\n",
    "              \n",
    "        # Making the header bold and conditional  \n",
    "        if (header == True and index == True):            \n",
    "            lst = list(df.columns[0 + i] for i in range(len(df.columns)))  \n",
    "            header = [[i] for i in lst]\n",
    "            header =  list([str( '<b>' + header[0 + i][0] + '</b>') for i in range(len(df.columns))])\n",
    "            header = [[i] for i in header]\n",
    "            header = [['']] + header\n",
    "            \n",
    "            # Making the index Bold\n",
    "            lst_i = list(df.index[0 + i] for i in range(len(df.index)))\n",
    "            index = [[i] for i in lst_i]\n",
    "            index =  list([[ '<b>' + str(index[0 + i][0]) + '</b>' for i in range(len(df.index))]])\n",
    "            \n",
    "            trace = go.Table(\n",
    "                columnwidth = columnwidth,\n",
    "                    header=dict(values=header,\n",
    "                              line = dict(color=header_line_color),\n",
    "                              align = header_alignment,\n",
    "                              font = dict(color=header_font_color, size=header_font_size),\n",
    "                              height = 22,\n",
    "                              fill = dict(color=header_fill_color)),\n",
    "            \n",
    "            cells=dict(values=index + df.transpose().values.tolist(),                       \n",
    "                       line=dict(color=cells_line_color),\n",
    "                       align = cells_alignment,\n",
    "                       height = 22,\n",
    "                       font = dict(color=cells_font_color, size=cells_font_size),\n",
    "                       fill = dict(color = [cells_fill_color * len(df.index)]),\n",
    "                      ),      \n",
    "        )\n",
    "            \n",
    "        # Making the header bold and conditional  \n",
    "        if (header == False and index == True):            \n",
    "            lst = list(df.columns[0 + i] for i in range(len(df.columns)))  \n",
    "            header = [[i] for i in lst]\n",
    "            header =  list([str( '<b>' + header[0 + i][0] + '</b>') for i in range(len(df.columns))])\n",
    "            header = [[i] for i in header]\n",
    "            header = [[]] + header\n",
    "            \n",
    "            lst_i = list(df.index[0 + i] for i in range(len(df.index)))\n",
    "            index = [[i] for i in lst_i]\n",
    "            index =  list([[ '<b>' + str(index[0 + i][0]) + '</b>' for i in range(len(df.index))]])\n",
    "            \n",
    "            trace = go.Table(\n",
    "                columnwidth = columnwidth,\n",
    "                    header=dict(values=header,\n",
    "                              line = dict(color=header_line_color),\n",
    "                              align = header_alignment,\n",
    "                              font = dict(color=header_font_color, size=header_font_size),\n",
    "                              height = 22,\n",
    "                              fill = dict(color=header_fill_color)),\n",
    "            \n",
    "            cells=dict(values=index + df.transpose().values.tolist(),                       \n",
    "                       line=dict(color=cells_line_color),\n",
    "                       align = cells_alignment,\n",
    "                       height = 22,\n",
    "                       font = dict(color=cells_font_color, size=cells_font_size),\n",
    "                       fill = dict(color = [cells_fill_color * len(df.index)]),\n",
    "                      ),      \n",
    "        )\n",
    "            \n",
    "        # Making the header bold and conditional  \n",
    "        if (header == True and index == False):            \n",
    "            lst = list(df.columns[0 + i] for i in range(len(df.columns)))  \n",
    "            header = [[i] for i in lst]\n",
    "            header =  list([str( '<b>' + header[0 + i][0] + '</b>') for i in range(len(df.columns))])\n",
    "            header = [[i] for i in header]\n",
    "            header = header\n",
    "            \n",
    "            trace = go.Table(\n",
    "                columnwidth = columnwidth,\n",
    "                    header=dict(values=header,\n",
    "                              line = dict(color=header_line_color),\n",
    "                              align = header_alignment,\n",
    "                              font = dict(color=header_font_color, size=header_font_size),\n",
    "                              height = 22,\n",
    "                              fill = dict(color=header_fill_color)),\n",
    "            \n",
    "            cells=dict(values=df.transpose().values.tolist(),                       \n",
    "                       line=dict(color=cells_line_color),\n",
    "                       align = cells_alignment,\n",
    "                       height = 22,\n",
    "                       font = dict(color=cells_font_color, size=cells_font_size),\n",
    "                       fill = dict(color = [cells_fill_color * len(df.index)]),\n",
    "                      ),      \n",
    "        )\n",
    "        \n",
    "        if title == None:\n",
    "            layout = go.Layout(\n",
    "                autosize=False,\n",
    "                height=height,\n",
    "                width=width,\n",
    "                margin=dict (l=0, r=0, b=0, t=0, pad=0),\n",
    "            )\n",
    "        else:\n",
    "                layout = go.Layout(\n",
    "                    autosize=False,\n",
    "                    height=height,\n",
    "                    width=width,\n",
    "                    title=title,\n",
    "                    margin=dict( l=0, r=0, b=0, t=25, pad=0),\n",
    "                )\n",
    "\n",
    "        data = [trace]\n",
    "        fig = go.Figure(data=data, layout=layout)\n",
    "        py.iplot(fig, show_link=False, config={'modeBarButtonsToRemove': ['sendDataToCloud','hoverCompareCartesian'],\n",
    "                                               'displayModeBar': False})\n",
    "\n",
    "def compute_portfolio(quotes, weights):\n",
    "    \n",
    "    # Anos do Portfolio\n",
    "    Years = quotes.index.year.unique()\n",
    "\n",
    "    # Dicionário com Dataframes anuais das cotações dos quotes\n",
    "    Years_dict = {}\n",
    "    k = 0\n",
    "\n",
    "    for Year in Years:\n",
    "        # Dynamically create key\n",
    "        key = Year\n",
    "        # Calculate value\n",
    "        value = quotes.loc[str(Year)]\n",
    "        # Insert in dictionary\n",
    "        Years_dict[key] = value\n",
    "        # Counter\n",
    "        k += 1\n",
    "\n",
    "    # Dicionário com Dataframes anuais das cotações dos quotes\n",
    "    Quotes_dict = {}\n",
    "    Portfolio_dict = {}\n",
    "\n",
    "    k = 0    \n",
    "    \n",
    "    for Year in Years:\n",
    "        \n",
    "        n = 0\n",
    "        \n",
    "        #Setting Portfolio to be a Global Variable\n",
    "        global Portfolio\n",
    "        \n",
    "        # Dynamically create key\n",
    "        key = Year\n",
    "\n",
    "        # Calculate value\n",
    "        if (Year-1) in Years:\n",
    "            value = Years_dict[Year].append(Years_dict[Year-1].iloc[[-1]]).sort_index()\n",
    "        else:\n",
    "            value = Years_dict[Year].append(Years_dict[Year].iloc[[-1]]).sort_index()\n",
    "\n",
    "        # Set beginning value to 100\n",
    "        value = (value / value.iloc[0]) * 100\n",
    "        # \n",
    "        for column in value.columns:\n",
    "            value[column] = value[column] * weights[n]\n",
    "            n +=1\n",
    "        \n",
    "        # Get Returns\n",
    "        Returns = value.pct_change()\n",
    "        # Calculating Portfolio Value\n",
    "        value['Portfolio'] = value.sum(axis=1)\n",
    "\n",
    "        # Creating Weights_EOP empty DataFrame\n",
    "        Weights_EOP = pd.DataFrame()\n",
    "        # Calculating End Of Period weights\n",
    "        for Name in Nomes:\n",
    "            Weights_EOP[Name] = value[Name] / value['Portfolio']\n",
    "        # Calculating Beginning Of Period weights\n",
    "        Weights_BOP = Weights_EOP.shift(periods=1)\n",
    "\n",
    "        # Calculatins Portfolio Value\n",
    "        Portfolio = pd.DataFrame(Weights_BOP.multiply(Returns).sum(axis=1))\n",
    "        Portfolio.columns=['Simple']\n",
    "        # Transformar os simple returns em log returns \n",
    "        Portfolio['Log'] = np.log(Portfolio['Simple'] + 1)\n",
    "        # Cumsum() dos log returns para obter o preço do Portfolio \n",
    "        Portfolio['Price'] = 100*np.exp(np.nan_to_num(Portfolio['Log'].cumsum()))\n",
    "        Portfolio['Price'] = Portfolio['Price']   \n",
    "\n",
    "        # Insert in dictionaries\n",
    "        Quotes_dict[key] = value\n",
    "        Portfolio_dict[key] = Portfolio\n",
    "        # Counter\n",
    "        k += 1\n",
    "\n",
    "    # Making an empty Dataframe for Portfolio data\n",
    "    Portfolio = pd.DataFrame()\n",
    "\n",
    "    for Year in Years:\n",
    "        Portfolio = pd.concat([Portfolio, Portfolio_dict[Year]['Log']])\n",
    "\n",
    "    # Delete repeated index values in Portfolio    \n",
    "    Portfolio.drop_duplicates(keep='last')\n",
    "\n",
    "    # Naming the column of log returns 'Log'\n",
    "    Portfolio.columns= ['Log']\n",
    "\n",
    "    # Cumsum() dos log returns para obter o preço do Portfolio \n",
    "    Portfolio['Price'] = 100*np.exp(np.nan_to_num(Portfolio['Log'].cumsum()))\n",
    "        \n",
    "    # Round Portfolio to 2 decimals and eliminate returns\n",
    "    Portfolio = pd.DataFrame(round(Portfolio['Price'], 2))\n",
    "\n",
    "    # Naming the column of Portfolio as 'Portfolio'\n",
    "    Portfolio.columns= ['Portfolio']\n",
    "\n",
    "    # Delete repeated days\n",
    "    #Portfolio = Portfolio.loc[~Portfolio.index.duplicated(keep='first')]\n",
    "\n",
    "    return Portfolio\n",
    "    \n",
    "# Multi_period_return (in CAGR)\n",
    "def multi_period_return(df, years = 1, days=252):\n",
    "    shifted = df.shift(days * years)\n",
    "    One_year = (((1 + (df - shifted) / shifted) ** (1 / years))-1)  * 100\n",
    "    return One_year\n",
    "\n",
    "def compute_drawdowns_i(dataframe):\n",
    "    '''\n",
    "    Function to compute drawdowns based on \n",
    "    the inicial value of a timeseries\n",
    "    given a dataframe of prices\n",
    "    '''\n",
    "    return (dataframe / 100 -1) * 100\n",
    "        \n",
    "def print_title(string):\n",
    "    display(Markdown('**' + string + '**'))\n",
    "    \n",
    "def all_percent(df):\n",
    "    for column in df.columns:\n",
    "        df[column] = df[column].apply( lambda x : str(x) + '%')\n",
    "        return df\n",
    "\n",
    "def preview(df):\n",
    "    return pd.concat([df.head(3), df.tail(3)])\n",
    "\n",
    "dimensions=(990, 500)\n",
    "\n",
    "colorz = ['royalblue', 'orange', 'dimgrey', 'darkorchid']\n",
    "\n",
    "class color:\n",
    "   PURPLE = '\\033[95m'\n",
    "   CYAN = '\\033[96m'\n",
    "   DARKCYAN = '\\033[36m'\n",
    "   BLUE = '\\033[94m'\n",
    "   GREEN = '\\033[92m'\n",
    "   YELLOW = '\\033[93m'\n",
    "   RED = '\\033[91m'\n",
    "   BOLD = '\\033[1m'\n",
    "   UNDERLINE = '\\033[4m'\n",
    "   END = '\\033[0m'\n",
    "\n",
    "### print color.BOLD + 'Hello World !' + color.END\n",
    "\n",
    "##################################################\n",
    "### Begin of compute_drawdowns_table function ####\n",
    "##################################################\n",
    "\n",
    "### Função auxiliar 1\n",
    "def compute_time_period(timestamp_1, timestamp_2):\n",
    "    \n",
    "    year = timestamp_1.year - timestamp_2.year\n",
    "    month = timestamp_1.month - timestamp_2.month\n",
    "    day = timestamp_1.day - timestamp_2.day\n",
    "    \n",
    "    if month < 0:\n",
    "        year = year - 1\n",
    "        month = 12 + month\n",
    "    \n",
    "    if day == 0:\n",
    "        day = - day\n",
    "        \n",
    "    if day < 0:\n",
    "        month =  month - 1\n",
    "        if timestamp_1.month not in [1, 3, 5, 7, 8, 10, 12]:\n",
    "            day = 31 + day\n",
    "        else:\n",
    "            day = 30 + day        \n",
    "        \n",
    "    # Returns datetime object in years, month, days\n",
    "    return(str(year) + ' Years, ' + str(month) + ' Months, ' + str(day) + ' Days')\n",
    "\n",
    "### Função auxiliar 2\n",
    "def compute_drawdowns_periods(df):\n",
    "    \n",
    "    # Input: df of max points in drawdowns (where dd == 0)\n",
    "    \n",
    "    drawdown_periods = list()\n",
    "\n",
    "    for i in range(0, len(df.index)):\n",
    "      \n",
    "        drawdown_periods.append(compute_time_period(df.index[i], df.index[i - 1]))\n",
    "    \n",
    "    drawdown_periods = pd.DataFrame(drawdown_periods)\n",
    "    \n",
    "    return (drawdown_periods)\n",
    "\n",
    "\n",
    "### Função auxiliar 3\n",
    "def compute_max_drawdown_in_period(prices, timestamp_1, timestamp_2):\n",
    "    \n",
    "    df = prices[timestamp_1:timestamp_2]\n",
    "    \n",
    "    max_dd = compute_max_DD(df)\n",
    "    \n",
    "    return max_dd\n",
    "\n",
    "### Função auxiliar 4\n",
    "def compute_drawdowns_min(df, prices):\n",
    "    \n",
    "    # Input: df of max points in drawdowns (where dd == 0)\n",
    "    \n",
    "    drawdowns_min = list()\n",
    "\n",
    "    for i in range(0, len(df.index) - 1):\n",
    "      \n",
    "        drawdowns_min.append(compute_max_drawdown_in_period(prices, df.index[i], df.index[i + 1]))\n",
    "    \n",
    "    drawdowns_min = pd.DataFrame(drawdowns_min)\n",
    "    \n",
    "    return(drawdowns_min)\n",
    "\n",
    "### Função principal\n",
    "def compute_drawdowns_table(prices, number=5):\n",
    "\n",
    "    # input: df of prices\n",
    "    dd = compute_drawdowns(prices)\n",
    "    \n",
    "    max_points = dd[dd == 0].dropna()\n",
    "        \n",
    "    data = [0.0] \n",
    "  \n",
    "    # Create the pandas DataFrame\n",
    "    new_data = pd.DataFrame(data, columns = ['New_data'])\n",
    "\n",
    "    new_data['Date'] = prices.index.max()\n",
    "\n",
    "    new_data.set_index('Date', inplace=True)\n",
    "\n",
    "    max_points = pd.DataFrame(pd.concat([max_points, new_data], axis=1).iloc[:, 0])\n",
    "    \n",
    "    dp = compute_drawdowns_periods(max_points)\n",
    "        \n",
    "    dp.set_index(max_points.index, inplace=True)\n",
    "    \n",
    "    df = pd.concat([max_points, dp], axis=1)\n",
    "    \n",
    "    df.index.name = 'Date'\n",
    "    \n",
    "    df.reset_index(inplace=True)\n",
    "    \n",
    "    df['End'] = df['Date'].shift(-1)\n",
    "    \n",
    "    df[0] = df[0].shift(-1)\n",
    "    \n",
    "    df['values'] = round(compute_drawdowns_min(max_points, prices), 2)\n",
    "    \n",
    "    df = df.sort_values(by='values')\n",
    "    \n",
    "    df['Number'] = range(1, len(df) + 1)\n",
    "    \n",
    "    df.reset_index(inplace=True)\n",
    "    \n",
    "    df.columns = [['index', 'Begin', 'point', 'Length', 'End', 'Depth', 'Number']]\n",
    "    \n",
    "    df = df[['Begin', 'End', 'Depth', 'Length']].head(number)\n",
    "    \n",
    "    df.iloc[:, 2] = df.iloc[:, 2].apply( lambda x : str(x) + '%')\n",
    "    \n",
    "    df.set_index(np.arange(1, number + 1), inplace=True)\n",
    "               \n",
    "    for index, row in df['End'].iterrows():\n",
    "        \n",
    "        if ( (row[0] == prices.index.max())):# & (prices.iloc[-1][0] < prices.max()) ):\n",
    "            \n",
    "            df.iloc[index-1, 1] = float('NaN')\n",
    "\n",
    "    return(df)\n",
    "\n",
    "################################################\n",
    "### End of compute_drawdowns_table function ####\n",
    "################################################\n",
    "\n",
    "def compute_r2(x, y, k=1):\n",
    "    xpoly = np.column_stack([x**i for i in range(k+1)])    \n",
    "    return sm.OLS(y, xpoly).fit().rsquared\n",
    "\n",
    "def compute_r2_table(df, benchmark):\n",
    "\n",
    "# df of prices\n",
    "\n",
    "    lista = []\n",
    "\n",
    "    for i in np.arange(0, len(df.columns)):\n",
    "        lista.append(compute_r2(benchmark, df.iloc[: , i]))\n",
    "             \n",
    "    Dataframe = pd.DataFrame(lista)\n",
    "    \n",
    "    Dataframe.index = df.columns\n",
    "    \n",
    "    Dataframe.columns = [benchmark.name]\n",
    "    \n",
    "    return(round(Dataframe.transpose(), 3))\n",
    "\n",
    "colors = ['royalblue',            # 1 - royalblue\n",
    "          'dimgrey',              # 2 - dimgrey\n",
    "          'rgb(255, 153, 51)',    # 3 - orange\n",
    "          'indigo',               # 4 - Indigo\n",
    "          'rgb(219, 64, 82)',     # 5 - Red\n",
    "          'rgb(0, 128, 128)',     # 6 - Teal\n",
    "          '#191970',              # 7 - Navy\n",
    "          'rgb(128, 128, 0)',     # 8 - Olive\n",
    "          '#00BFFF',              # 9 - Water Blue\n",
    "          'rgb(128, 177, 211)']   # 10 - Blueish"
   ]
  },
  {
   "cell_type": "code",
   "execution_count": null,
   "metadata": {
    "kernel": "SoS"
   },
   "outputs": [],
   "source": [
    "from pandas_datareader import data as pdr\n",
    "\n",
    "import yfinance as yf\n",
    "yf.pdr_override() # <== that's all it takes :-)\n",
    "\n",
    "# download quotes\n",
    "tickers = ['TLT', 'SPY']\n",
    "Quotes = pd.DataFrame()\n",
    "# Start ='2002-12-15'\n",
    "# End = \"2013-03-20\"\n",
    "\n",
    "for ticker in tickers:\n",
    "#     Quotes[ticker] = pdr.get_data_yahoo(ticker, start=Start, end=End)['Adj Close']\n",
    "    Quotes[ticker] = pdr.get_data_yahoo(ticker)['Adj Close']\n",
    "    \n",
    "fundos = Quotes.dropna().copy()\n",
    "fundos = compute_growth_rate(fundos)"
   ]
  },
  {
   "cell_type": "markdown",
   "metadata": {
    "kernel": "SoS"
   },
   "source": [
    "**Dica:** A interactividade dos gráficos da plotly permite:\n",
    "\n",
    "    . Zoom (mantenham o clique e arrastem o cursor em simultâneo, em cima do gráfico);\n",
    "    . Tem uma lista de opções que aparece se forem com o cursor ao canto superior direito;\n",
    "    . Façam duplo clique no gráfico ou seleccionem a opção Autoscale/Reset Axes para voltar ao normal;\n",
    "    . Alterem a opção de 'Compare data on hoover' para 'Show closest data on hoover' se vos for mais conveniente;\n",
    "    . Se clicarem num nome na legenda esse fundo desaparece (clicando de novo ele volta a apetecer)."
   ]
  },
  {
   "cell_type": "code",
   "execution_count": null,
   "metadata": {
    "kernel": "SoS"
   },
   "outputs": [],
   "source": [
    "# Making Color Palette\n",
    "Palette = ['rgb(255, 153, 51)',     # 1 - orange\n",
    "            'royalblue',            # 2 - Royalblue\n",
    "            '#708090',              # 3 - Grey\n",
    "            'rgb(128, 0, 128)',     # 4 - Indigo\n",
    "            'rgb(219, 64, 82)',     # 5 - Red\n",
    "            'rgb(0, 128, 128)',     # 6 - Teal\n",
    "            '#191970',              # 7 - Navy\n",
    "            'rgb(128, 128, 0)',     # 8 - Olive\n",
    "            '#00BFFF',              # 9 - Water Blue\n",
    "            'rgb(128, 177, 211)']   # 10 - \n",
    "\n",
    "round(fundos, 2).iplot(title='Performance dos fundos', yTitle='Valor de cada €100 investidos', color=Palette, dimensions=dimensions)"
   ]
  },
  {
   "cell_type": "markdown",
   "metadata": {
    "kernel": "SoS"
   },
   "source": [
    "# Standard Dev"
   ]
  },
  {
   "cell_type": "code",
   "execution_count": null,
   "metadata": {
    "kernel": "SoS"
   },
   "outputs": [],
   "source": [
    "log_returns = (np.log(fundos) - np.log(fundos.shift(1))).dropna()\n",
    "returns = fundos.pct_change()\n",
    "end_return = np.array(fundos.iloc[-1])"
   ]
  },
  {
   "cell_type": "code",
   "execution_count": null,
   "metadata": {
    "kernel": "SoS"
   },
   "outputs": [],
   "source": [
    "# weights = np.repeat(1/len(fundos.columns), len(fundos.columns))\n",
    "weights = np.array([0.3, 0.7])\n",
    "cov = returns.cov()\n",
    "cov_log = log_returns.cov()\n",
    "end_return = (fundos.iloc[-1] - 100) / 100"
   ]
  },
  {
   "cell_type": "code",
   "execution_count": null,
   "metadata": {},
   "outputs": [],
   "source": [
    "preview(fundos)"
   ]
  },
  {
   "cell_type": "code",
   "execution_count": null,
   "metadata": {},
   "outputs": [],
   "source": [
    "correlation = returns.corr().iloc[:, 1][0]"
   ]
  },
  {
   "cell_type": "code",
   "execution_count": null,
   "metadata": {},
   "outputs": [],
   "source": [
    "weights"
   ]
  },
  {
   "cell_type": "code",
   "execution_count": null,
   "metadata": {
    "kernel": "SoS"
   },
   "outputs": [],
   "source": [
    "# É simplesmente outra notação de multiplicação de matrizes. Esta não me estraga o indíce da série temporal\n",
    "# Fico com as datas na mesma\n",
    "Portfolio = pd.DataFrame(weights @ fundos.T) "
   ]
  },
  {
   "cell_type": "code",
   "execution_count": null,
   "metadata": {
    "kernel": "SoS"
   },
   "outputs": [],
   "source": [
    "preview(Portfolio)"
   ]
  },
  {
   "cell_type": "code",
   "execution_count": null,
   "metadata": {},
   "outputs": [],
   "source": [
    "# Returns\n",
    "returns = Portfolio.pct_change().dropna()\n",
    "\n",
    "# Returns Standard Deviation\n",
    "returns_std = returns.std()\n",
    "\n",
    "# Annualized Returns\n",
    "annualized_returns = returns_std * (np.sqrt(252)) * 100\n",
    "\n",
    "# Display\n",
    "annualized_returns[0]"
   ]
  },
  {
   "cell_type": "code",
   "execution_count": null,
   "metadata": {},
   "outputs": [],
   "source": [
    "np.sqrt((weights.T @ cov @ weights)) * np.sqrt(252) * 100"
   ]
  },
  {
   "cell_type": "code",
   "execution_count": null,
   "metadata": {},
   "outputs": [],
   "source": [
    "# Usar a fórmula completa\n",
    "TLT_std = fundos['TLT'].pct_change().dropna().std()\n",
    "SPY_std = fundos['SPY'].pct_change().dropna().std()\n",
    "w1 = weights[0]\n",
    "w2 = weights[1]\n",
    "\n",
    "(((w1**2) * (TLT_std**2) + (w2**2) * (SPY_std**2) + (2*w1*w2 * TLT_std*SPY_std * correlation)) ** 0.5) * (252 ** 0.5) * 100"
   ]
  },
  {
   "cell_type": "code",
   "execution_count": null,
   "metadata": {},
   "outputs": [],
   "source": [
    "TLT_std"
   ]
  },
  {
   "cell_type": "code",
   "execution_count": null,
   "metadata": {},
   "outputs": [],
   "source": [
    "SPY_std"
   ]
  },
  {
   "cell_type": "markdown",
   "metadata": {
    "kernel": "SoS"
   },
   "source": [
    "# Monte Carlo Simulation"
   ]
  },
  {
   "cell_type": "code",
   "execution_count": null,
   "metadata": {},
   "outputs": [],
   "source": [
    "from numpy.linalg import multi_dot\n",
    "from numba import jit\n",
    "import random\n",
    "import numba"
   ]
  },
  {
   "cell_type": "code",
   "execution_count": null,
   "metadata": {},
   "outputs": [],
   "source": [
    "fundos.shape[1]"
   ]
  },
  {
   "cell_type": "code",
   "execution_count": null,
   "metadata": {},
   "outputs": [],
   "source": [
    "%%time\n",
    "\n",
    "# Calculate Years of investment\n",
    "years = len(pd.date_range(fundos.index[0], fundos.index[-1], freq='D')) / 365\n",
    "\n",
    "np.random.seed(0)\n",
    "\n",
    "# Standard Deviations\n",
    "desvios_padroes_all = []\n",
    "returns_matrix = []\n",
    "weights_fmc = []\n",
    "weights_fmc2 = []\n",
    "\n",
    "\n",
    "for i in range(0, 5):\n",
    "    weights_rw = np.random.rand(1000, fundos.shape[1])\n",
    "    weights_rw = np.array(weights_rw / np.matrix(weights_rw.sum(axis=1)).T)\n",
    "    weights_fmc = np.append(weights_fmc, weights_rw)\n",
    "    desvios_padroes = np.diagonal((multi_dot([weights_rw, cov, weights_rw.T])))\n",
    "    desvios_padroes_all = np.append(desvios_padroes_all, desvios_padroes)\n",
    "    returns = np.dot((end_return), np.transpose(weights_rw))\n",
    "    returns_matrix = np.append(returns_matrix, returns)\n",
    "\n",
    "returns_matrix = ((((returns_matrix + 1))) ** (1 / years) - 1) * 100\n",
    "desvios_padroes_all = np.sqrt(np.array(desvios_padroes_all)) * (np.sqrt(252)) * 100\n",
    "sharpe_matrix = np.divide(returns_matrix, desvios_padroes_all)\n",
    "weights_fmc2  = np.array_split(weights_fmc, len(sharpe_matrix))\n",
    "\n",
    "fast_monte_carlo = pd.DataFrame({\n",
    "                                'Retornos': returns_matrix,\n",
    "                                'StdDev':desvios_padroes_all,\n",
    "                                'Sharpe': sharpe_matrix,\n",
    "                                'Pesos': weights_fmc2\n",
    "                                })"
   ]
  },
  {
   "cell_type": "code",
   "execution_count": null,
   "metadata": {},
   "outputs": [],
   "source": [
    "2 + 2"
   ]
  },
  {
   "cell_type": "code",
   "execution_count": null,
   "metadata": {},
   "outputs": [],
   "source": [
    "len(fast_monte_carlo)"
   ]
  },
  {
   "cell_type": "code",
   "execution_count": null,
   "metadata": {},
   "outputs": [],
   "source": [
    "preview(fast_monte_carlo)"
   ]
  },
  {
   "cell_type": "code",
   "execution_count": null,
   "metadata": {
    "kernel": "SoS"
   },
   "outputs": [],
   "source": [
    "# Ploting on a graph\n",
    "plt.figure(figsize=(12, 6.8))\n",
    "plt.scatter(x = desvios_padroes_all, y = returns_matrix, c = sharpe_matrix,  cmap = 'viridis_r', s = 1)\n",
    "plt.colorbar(label='Racio de Sharpe')\n",
    "plt.ylabel(\"Retorno\")\n",
    "plt.xlabel(\"Volatilidade\")\n",
    "plt.title('Simulação de Monte Carlo')\n",
    "plt.show()"
   ]
  },
  {
   "cell_type": "code",
   "execution_count": null,
   "metadata": {
    "kernel": "SoS"
   },
   "outputs": [],
   "source": [
    "%%time\n",
    "\n",
    "#### Returns ####\n",
    "returns = (fundos / fundos.shift(1)) - 1\n",
    "\n",
    "#### Normalization to 100 #####\n",
    "fundos_norm = (fundos / fundos.iloc[0] * 100)\n",
    "\n",
    "# Calculate Years of investment\n",
    "years = len(pd.date_range(fundos_norm.index[0], fundos_norm.index[-1], freq='D')) / 365\n",
    "\n",
    "#### Setting seed for pseudo random number generator ###\n",
    "np.random.seed(0)\n",
    "\n",
    "#### Markowitz's Efficient Frontier ####\n",
    "cov_matrix = returns.cov() * 252\n",
    "corr_matrix = returns.corr()\n",
    "\n",
    "num_assets = len(fundos.columns)\n",
    "\n",
    "pfolio_returns = []\n",
    "pfolio_volatilities = []\n",
    "pfolio_weights = []\n",
    "nportfolios = len(fast_monte_carlo)\n",
    "\n",
    "def simulation(n):\n",
    "    for x in range (nportfolios):\n",
    "            weights = np.random.random(num_assets)\n",
    "            weights /= np.sum(weights)\n",
    "            portfolio = np.dot(fundos_norm, weights)                                \n",
    "            pfolio_weights.append(weights)\n",
    "            pfolio_returns.append((((portfolio[-1] / portfolio[0]) ** (1 / years)) -1) * 100)\n",
    "            pfolio_volatilities.append((np.std(np.diff(portfolio) / portfolio[:-1] * 100)) * (np.sqrt(252)))\n",
    "\n",
    "simulation(nportfolios)\n",
    "                \n",
    "pfolio_returns = np.array(pfolio_returns)\n",
    "pfolio_volatilities = np.array(pfolio_volatilities)\n",
    "\n",
    "# Making a dataframe with the values\n",
    "portfolios = pd.DataFrame({\"Return\": pfolio_returns,\n",
    "                           \"Volatility\": pfolio_volatilities})\n",
    "\n",
    "#### Adding Sharpe and weights to portfolios dataframe ####\n",
    "portfolios[\"Sharpe\"] = portfolios[\"Return\"] / portfolios[\"Volatility\"]\n",
    "portfolios[\"Weights\"] = pfolio_weights\n",
    "Sharpe_array = np.array(portfolios['Sharpe'])"
   ]
  },
  {
   "cell_type": "code",
   "execution_count": null,
   "metadata": {},
   "outputs": [],
   "source": [
    "len(portfolios)"
   ]
  },
  {
   "cell_type": "code",
   "execution_count": null,
   "metadata": {},
   "outputs": [],
   "source": [
    "28.7 / (2 * 60 + 25)"
   ]
  },
  {
   "cell_type": "code",
   "execution_count": null,
   "metadata": {
    "kernel": "SoS"
   },
   "outputs": [],
   "source": [
    "# Ploting on a graph\n",
    "plt.figure(figsize=(12, 6.8))\n",
    "plt.scatter(x = portfolios[\"Volatility\"], y = portfolios[\"Return\"], c = Sharpe_array,  cmap = 'viridis_r', s = 1)\n",
    "plt.colorbar(label='Racio de Sharpe')\n",
    "plt.ylabel(\"Retorno\")\n",
    "plt.xlabel(\"Volatilidade\")\n",
    "plt.title('Simulação de Monte Carlo com ' + str(len(portfolios) // 1000) + ' mil portfolios com pesos aleatórios')\n",
    "plt.show()"
   ]
  },
  {
   "cell_type": "code",
   "execution_count": null,
   "metadata": {},
   "outputs": [],
   "source": [
    "portfolios.head(3)"
   ]
  },
  {
   "cell_type": "code",
   "execution_count": null,
   "metadata": {},
   "outputs": [],
   "source": [
    "fast_monte_carlo.head(3)"
   ]
  },
  {
   "cell_type": "code",
   "execution_count": null,
   "metadata": {},
   "outputs": [],
   "source": [
    "portfolios.iloc[portfolios['Return'].idxmax()]"
   ]
  },
  {
   "cell_type": "code",
   "execution_count": null,
   "metadata": {},
   "outputs": [],
   "source": [
    "fast_monte_carlo.iloc[fast_monte_carlo['Retornos'].idxmax()]"
   ]
  },
  {
   "cell_type": "code",
   "execution_count": null,
   "metadata": {},
   "outputs": [],
   "source": [
    "portfolios.iloc[portfolios['Volatility'].idxmin()]"
   ]
  },
  {
   "cell_type": "code",
   "execution_count": null,
   "metadata": {},
   "outputs": [],
   "source": [
    "fast_monte_carlo.iloc[fast_monte_carlo['StdDev'].idxmin()]"
   ]
  },
  {
   "cell_type": "code",
   "execution_count": null,
   "metadata": {},
   "outputs": [],
   "source": [
    "portfolios.iloc[portfolios['Sharpe'].idxmax()]"
   ]
  },
  {
   "cell_type": "code",
   "execution_count": null,
   "metadata": {},
   "outputs": [],
   "source": [
    "fast_monte_carlo.iloc[fast_monte_carlo['Sharpe'].idxmax()]"
   ]
  },
  {
   "cell_type": "code",
   "execution_count": null,
   "metadata": {},
   "outputs": [],
   "source": []
  },
  {
   "cell_type": "code",
   "execution_count": null,
   "metadata": {},
   "outputs": [],
   "source": []
  },
  {
   "cell_type": "code",
   "execution_count": null,
   "metadata": {},
   "outputs": [],
   "source": []
  },
  {
   "cell_type": "code",
   "execution_count": null,
   "metadata": {},
   "outputs": [],
   "source": []
  },
  {
   "cell_type": "markdown",
   "metadata": {},
   "source": [
    "# Monte Carlo With Markov Chains"
   ]
  },
  {
   "cell_type": "code",
   "execution_count": 1,
   "metadata": {},
   "outputs": [
    {
     "data": {
      "text/html": [
       "        <script type=\"text/javascript\">\n",
       "        window.PlotlyConfig = {MathJaxConfig: 'local'};\n",
       "        if (window.MathJax) {MathJax.Hub.Config({SVG: {font: \"STIX-Web\"}});}\n",
       "        if (typeof require !== 'undefined') {\n",
       "        require.undef(\"plotly\");\n",
       "        requirejs.config({\n",
       "            paths: {\n",
       "                'plotly': ['https://cdn.plot.ly/plotly-latest.min']\n",
       "            }\n",
       "        });\n",
       "        require(['plotly'], function(Plotly) {\n",
       "            window._Plotly = Plotly;\n",
       "        });\n",
       "        }\n",
       "        </script>\n",
       "        "
      ]
     },
     "metadata": {},
     "output_type": "display_data"
    },
    {
     "data": {
      "text/html": [
       "        <script type=\"text/javascript\">\n",
       "        window.PlotlyConfig = {MathJaxConfig: 'local'};\n",
       "        if (window.MathJax) {MathJax.Hub.Config({SVG: {font: \"STIX-Web\"}});}\n",
       "        if (typeof require !== 'undefined') {\n",
       "        require.undef(\"plotly\");\n",
       "        requirejs.config({\n",
       "            paths: {\n",
       "                'plotly': ['https://cdn.plot.ly/plotly-latest.min']\n",
       "            }\n",
       "        });\n",
       "        require(['plotly'], function(Plotly) {\n",
       "            window._Plotly = Plotly;\n",
       "        });\n",
       "        }\n",
       "        </script>\n",
       "        "
      ]
     },
     "metadata": {},
     "output_type": "display_data"
    }
   ],
   "source": [
    "%matplotlib inline\n",
    "\n",
    "# importing libraries\n",
    "import matplotlib.pyplot as plt\n",
    "import plotly.graph_objs as go\n",
    "import plotly.offline as py\n",
    "import cufflinks as cf\n",
    "import seaborn as sns\n",
    "import pandas as pd\n",
    "import numpy as np\n",
    "import quandl\n",
    "import plotly\n",
    "import time\n",
    "\n",
    "from plotly.offline import download_plotlyjs, init_notebook_mode, plot, iplot\n",
    "from IPython.display import Markdown, display\n",
    "from matplotlib.ticker import FuncFormatter\n",
    "from pandas.core.base import PandasObject\n",
    "from datetime import datetime\n",
    "\n",
    "# Setting pandas dataframe display options\n",
    "pd.set_option(\"display.max_rows\", 20)\n",
    "pd.set_option('display.width', 800)\n",
    "pd.set_option('max_colwidth', 800)\n",
    "\n",
    "# Set plotly offline\n",
    "init_notebook_mode(connected=True)\n",
    "\n",
    "# Set matplotlib style\n",
    "plt.style.use('seaborn')\n",
    "\n",
    "# Set cufflinks offline\n",
    "cf.go_offline()\n",
    "\n",
    "# Defining today's Date\n",
    "from datetime import date\n",
    "today = date.today()"
   ]
  },
  {
   "cell_type": "code",
   "execution_count": 2,
   "metadata": {},
   "outputs": [
    {
     "data": {
      "text/html": [
       "        <script type=\"text/javascript\">\n",
       "        window.PlotlyConfig = {MathJaxConfig: 'local'};\n",
       "        if (window.MathJax) {MathJax.Hub.Config({SVG: {font: \"STIX-Web\"}});}\n",
       "        if (typeof require !== 'undefined') {\n",
       "        require.undef(\"plotly\");\n",
       "        requirejs.config({\n",
       "            paths: {\n",
       "                'plotly': ['https://cdn.plot.ly/plotly-latest.min']\n",
       "            }\n",
       "        });\n",
       "        require(['plotly'], function(Plotly) {\n",
       "            window._Plotly = Plotly;\n",
       "        });\n",
       "        }\n",
       "        </script>\n",
       "        "
      ]
     },
     "metadata": {},
     "output_type": "display_data"
    },
    {
     "data": {
      "text/html": [
       "        <script type=\"text/javascript\">\n",
       "        window.PlotlyConfig = {MathJaxConfig: 'local'};\n",
       "        if (window.MathJax) {MathJax.Hub.Config({SVG: {font: \"STIX-Web\"}});}\n",
       "        if (typeof require !== 'undefined') {\n",
       "        require.undef(\"plotly\");\n",
       "        requirejs.config({\n",
       "            paths: {\n",
       "                'plotly': ['https://cdn.plot.ly/plotly-latest.min']\n",
       "            }\n",
       "        });\n",
       "        require(['plotly'], function(Plotly) {\n",
       "            window._Plotly = Plotly;\n",
       "        });\n",
       "        }\n",
       "        </script>\n",
       "        "
      ]
     },
     "metadata": {},
     "output_type": "display_data"
    }
   ],
   "source": [
    "import numpy as np\n",
    "import seaborn as sns\n",
    "import PortfolioLab as pl\n",
    "import pandas as pd"
   ]
  },
  {
   "cell_type": "code",
   "execution_count": 3,
   "metadata": {},
   "outputs": [
    {
     "name": "stdout",
     "output_type": "stream",
     "text": [
      "[*********************100%***********************]  1 of 1 completed\n"
     ]
    },
    {
     "data": {
      "text/html": [
       "<div>\n",
       "<style scoped>\n",
       "    .dataframe tbody tr th:only-of-type {\n",
       "        vertical-align: middle;\n",
       "    }\n",
       "\n",
       "    .dataframe tbody tr th {\n",
       "        vertical-align: top;\n",
       "    }\n",
       "\n",
       "    .dataframe thead th {\n",
       "        text-align: right;\n",
       "    }\n",
       "</style>\n",
       "<table border=\"1\" class=\"dataframe\">\n",
       "  <thead>\n",
       "    <tr style=\"text-align: right;\">\n",
       "      <th></th>\n",
       "      <th>Close</th>\n",
       "    </tr>\n",
       "    <tr>\n",
       "      <th>Date</th>\n",
       "      <th></th>\n",
       "    </tr>\n",
       "  </thead>\n",
       "  <tbody>\n",
       "    <tr>\n",
       "      <th>2000-01-03</th>\n",
       "      <td>1,455.22</td>\n",
       "    </tr>\n",
       "    <tr>\n",
       "      <th>2000-01-04</th>\n",
       "      <td>1,399.42</td>\n",
       "    </tr>\n",
       "    <tr>\n",
       "      <th>2000-01-05</th>\n",
       "      <td>1,402.11</td>\n",
       "    </tr>\n",
       "    <tr>\n",
       "      <th>2000-01-06</th>\n",
       "      <td>1,403.45</td>\n",
       "    </tr>\n",
       "    <tr>\n",
       "      <th>2000-01-07</th>\n",
       "      <td>1,441.47</td>\n",
       "    </tr>\n",
       "    <tr>\n",
       "      <th>...</th>\n",
       "      <td>...</td>\n",
       "    </tr>\n",
       "    <tr>\n",
       "      <th>2021-01-05</th>\n",
       "      <td>3,726.86</td>\n",
       "    </tr>\n",
       "    <tr>\n",
       "      <th>2021-01-06</th>\n",
       "      <td>3,748.14</td>\n",
       "    </tr>\n",
       "    <tr>\n",
       "      <th>2021-01-07</th>\n",
       "      <td>3,803.79</td>\n",
       "    </tr>\n",
       "    <tr>\n",
       "      <th>2021-01-08</th>\n",
       "      <td>3,824.68</td>\n",
       "    </tr>\n",
       "    <tr>\n",
       "      <th>2021-01-11</th>\n",
       "      <td>3,802.21</td>\n",
       "    </tr>\n",
       "  </tbody>\n",
       "</table>\n",
       "<p>5290 rows × 1 columns</p>\n",
       "</div>"
      ],
      "text/plain": [
       "              Close\n",
       "Date               \n",
       "2000-01-03 1,455.22\n",
       "2000-01-04 1,399.42\n",
       "2000-01-05 1,402.11\n",
       "2000-01-06 1,403.45\n",
       "2000-01-07 1,441.47\n",
       "...             ...\n",
       "2021-01-05 3,726.86\n",
       "2021-01-06 3,748.14\n",
       "2021-01-07 3,803.79\n",
       "2021-01-08 3,824.68\n",
       "2021-01-11 3,802.21\n",
       "\n",
       "[5290 rows x 1 columns]"
      ]
     },
     "execution_count": 3,
     "metadata": {},
     "output_type": "execute_result"
    }
   ],
   "source": [
    "import yfinance as yf\n",
    "SP = yf.download(\"^GSPC\", start=\"2000-01-03\", end=\"2021-04-30\")[['Close']]\n",
    "SP"
   ]
  },
  {
   "cell_type": "code",
   "execution_count": 4,
   "metadata": {},
   "outputs": [
    {
     "data": {
      "text/plain": [
       "Close   0.17\n",
       "dtype: float64"
      ]
     },
     "execution_count": 4,
     "metadata": {},
     "output_type": "execute_result"
    }
   ],
   "source": [
    "mstd = SP.resample('A').last().pct_change().std(ddof=0)\n",
    "mstd"
   ]
  },
  {
   "cell_type": "code",
   "execution_count": 5,
   "metadata": {},
   "outputs": [
    {
     "data": {
      "text/plain": [
       "Close   0.07\n",
       "dtype: float64"
      ]
     },
     "execution_count": 5,
     "metadata": {},
     "output_type": "execute_result"
    }
   ],
   "source": [
    "mret = SP.resample('A').last().pct_change().mean()\n",
    "mret"
   ]
  },
  {
   "cell_type": "code",
   "execution_count": 6,
   "metadata": {},
   "outputs": [
    {
     "data": {
      "text/plain": [
       "0.034641016151377546"
      ]
     },
     "execution_count": 6,
     "metadata": {},
     "output_type": "execute_result"
    }
   ],
   "source": [
    "0.01 * np.sqrt(12)"
   ]
  },
  {
   "cell_type": "code",
   "execution_count": 7,
   "metadata": {},
   "outputs": [
    {
     "name": "stdout",
     "output_type": "stream",
     "text": [
      "Wall time: 8.98 ms\n"
     ]
    }
   ],
   "source": [
    "%%time\n",
    "data = np.random.normal(loc=mret, scale=mstd, size=[12*21, 1000])"
   ]
  },
  {
   "cell_type": "code",
   "execution_count": 8,
   "metadata": {},
   "outputs": [
    {
     "data": {
      "image/png": "[encoded data removed]",
      "text/plain": [
       "<Figure size 576x396 with 1 Axes>"
      ]
     },
     "metadata": {},
     "output_type": "display_data"
    }
   ],
   "source": [
    "sns.distplot(data);"
   ]
  },
  {
   "cell_type": "code",
   "execution_count": 9,
   "metadata": {},
   "outputs": [],
   "source": [
    "time_series = pl.compute_time_series(pd.DataFrame(data)) * 14.5\n",
    "# time_series.plot(legend=False);"
   ]
  },
  {
   "cell_type": "code",
   "execution_count": 10,
   "metadata": {},
   "outputs": [
    {
     "data": {
      "text/html": [
       "<div>\n",
       "<style scoped>\n",
       "    .dataframe tbody tr th:only-of-type {\n",
       "        vertical-align: middle;\n",
       "    }\n",
       "\n",
       "    .dataframe tbody tr th {\n",
       "        vertical-align: top;\n",
       "    }\n",
       "\n",
       "    .dataframe thead th {\n",
       "        text-align: right;\n",
       "    }\n",
       "</style>\n",
       "<table border=\"1\" class=\"dataframe\">\n",
       "  <thead>\n",
       "    <tr style=\"text-align: right;\">\n",
       "      <th></th>\n",
       "      <th>0</th>\n",
       "      <th>1</th>\n",
       "      <th>2</th>\n",
       "      <th>3</th>\n",
       "      <th>4</th>\n",
       "      <th>5</th>\n",
       "      <th>6</th>\n",
       "      <th>7</th>\n",
       "      <th>8</th>\n",
       "      <th>9</th>\n",
       "      <th>...</th>\n",
       "      <th>990</th>\n",
       "      <th>991</th>\n",
       "      <th>992</th>\n",
       "      <th>993</th>\n",
       "      <th>994</th>\n",
       "      <th>995</th>\n",
       "      <th>996</th>\n",
       "      <th>997</th>\n",
       "      <th>998</th>\n",
       "      <th>999</th>\n",
       "    </tr>\n",
       "  </thead>\n",
       "  <tbody>\n",
       "    <tr>\n",
       "      <th>0</th>\n",
       "      <td>1,591.41</td>\n",
       "      <td>1,037.89</td>\n",
       "      <td>1,336.20</td>\n",
       "      <td>1,851.46</td>\n",
       "      <td>1,381.31</td>\n",
       "      <td>1,781.59</td>\n",
       "      <td>1,498.10</td>\n",
       "      <td>1,233.09</td>\n",
       "      <td>1,534.98</td>\n",
       "      <td>1,581.67</td>\n",
       "      <td>...</td>\n",
       "      <td>1,477.89</td>\n",
       "      <td>1,556.36</td>\n",
       "      <td>1,629.67</td>\n",
       "      <td>1,584.55</td>\n",
       "      <td>1,230.86</td>\n",
       "      <td>1,766.93</td>\n",
       "      <td>1,454.33</td>\n",
       "      <td>1,730.39</td>\n",
       "      <td>1,782.57</td>\n",
       "      <td>1,070.51</td>\n",
       "    </tr>\n",
       "    <tr>\n",
       "      <th>1</th>\n",
       "      <td>1,593.83</td>\n",
       "      <td>1,279.17</td>\n",
       "      <td>1,593.98</td>\n",
       "      <td>1,739.81</td>\n",
       "      <td>1,399.14</td>\n",
       "      <td>1,876.73</td>\n",
       "      <td>1,307.12</td>\n",
       "      <td>1,215.36</td>\n",
       "      <td>1,675.64</td>\n",
       "      <td>1,940.87</td>\n",
       "      <td>...</td>\n",
       "      <td>1,223.33</td>\n",
       "      <td>1,500.86</td>\n",
       "      <td>1,863.50</td>\n",
       "      <td>1,683.41</td>\n",
       "      <td>1,416.01</td>\n",
       "      <td>1,308.03</td>\n",
       "      <td>1,311.01</td>\n",
       "      <td>1,584.33</td>\n",
       "      <td>1,470.20</td>\n",
       "      <td>1,088.69</td>\n",
       "    </tr>\n",
       "    <tr>\n",
       "      <th>2</th>\n",
       "      <td>1,906.94</td>\n",
       "      <td>1,208.67</td>\n",
       "      <td>1,612.26</td>\n",
       "      <td>1,884.42</td>\n",
       "      <td>1,536.95</td>\n",
       "      <td>2,281.72</td>\n",
       "      <td>1,202.45</td>\n",
       "      <td>1,465.50</td>\n",
       "      <td>1,703.50</td>\n",
       "      <td>1,690.54</td>\n",
       "      <td>...</td>\n",
       "      <td>1,069.03</td>\n",
       "      <td>1,841.45</td>\n",
       "      <td>2,317.06</td>\n",
       "      <td>1,647.01</td>\n",
       "      <td>1,583.75</td>\n",
       "      <td>1,665.09</td>\n",
       "      <td>1,133.69</td>\n",
       "      <td>1,473.36</td>\n",
       "      <td>1,320.25</td>\n",
       "      <td>999.44</td>\n",
       "    </tr>\n",
       "    <tr>\n",
       "      <th>3</th>\n",
       "      <td>2,504.77</td>\n",
       "      <td>1,163.34</td>\n",
       "      <td>1,519.04</td>\n",
       "      <td>2,040.37</td>\n",
       "      <td>1,795.08</td>\n",
       "      <td>3,202.62</td>\n",
       "      <td>1,104.24</td>\n",
       "      <td>1,438.44</td>\n",
       "      <td>1,535.08</td>\n",
       "      <td>1,518.72</td>\n",
       "      <td>...</td>\n",
       "      <td>946.74</td>\n",
       "      <td>1,860.91</td>\n",
       "      <td>2,315.37</td>\n",
       "      <td>1,412.12</td>\n",
       "      <td>1,832.34</td>\n",
       "      <td>1,410.07</td>\n",
       "      <td>1,309.04</td>\n",
       "      <td>1,739.82</td>\n",
       "      <td>1,091.93</td>\n",
       "      <td>1,499.50</td>\n",
       "    </tr>\n",
       "    <tr>\n",
       "      <th>4</th>\n",
       "      <td>2,304.48</td>\n",
       "      <td>1,385.48</td>\n",
       "      <td>1,608.68</td>\n",
       "      <td>1,733.04</td>\n",
       "      <td>1,940.76</td>\n",
       "      <td>4,155.59</td>\n",
       "      <td>1,637.59</td>\n",
       "      <td>1,332.90</td>\n",
       "      <td>1,008.36</td>\n",
       "      <td>1,514.13</td>\n",
       "      <td>...</td>\n",
       "      <td>988.40</td>\n",
       "      <td>2,071.06</td>\n",
       "      <td>2,809.40</td>\n",
       "      <td>1,718.80</td>\n",
       "      <td>2,226.17</td>\n",
       "      <td>1,822.55</td>\n",
       "      <td>1,622.73</td>\n",
       "      <td>1,833.23</td>\n",
       "      <td>999.48</td>\n",
       "      <td>1,493.91</td>\n",
       "    </tr>\n",
       "    <tr>\n",
       "      <th>...</th>\n",
       "      <td>...</td>\n",
       "      <td>...</td>\n",
       "      <td>...</td>\n",
       "      <td>...</td>\n",
       "      <td>...</td>\n",
       "      <td>...</td>\n",
       "      <td>...</td>\n",
       "      <td>...</td>\n",
       "      <td>...</td>\n",
       "      <td>...</td>\n",
       "      <td>...</td>\n",
       "      <td>...</td>\n",
       "      <td>...</td>\n",
       "      <td>...</td>\n",
       "      <td>...</td>\n",
       "      <td>...</td>\n",
       "      <td>...</td>\n",
       "      <td>...</td>\n",
       "      <td>...</td>\n",
       "      <td>...</td>\n",
       "      <td>...</td>\n",
       "    </tr>\n",
       "    <tr>\n",
       "      <th>247</th>\n",
       "      <td>14,841,662,043.55</td>\n",
       "      <td>9,654,256,905.46</td>\n",
       "      <td>8,830,783,212.79</td>\n",
       "      <td>30,599,038,667.77</td>\n",
       "      <td>63,600,209.42</td>\n",
       "      <td>89,145,951.03</td>\n",
       "      <td>3,575,160.11</td>\n",
       "      <td>3,190,496,959.28</td>\n",
       "      <td>158,552,032.77</td>\n",
       "      <td>22,126,348.09</td>\n",
       "      <td>...</td>\n",
       "      <td>689,041,843.58</td>\n",
       "      <td>5,188,979,747.84</td>\n",
       "      <td>16,505,058,160.31</td>\n",
       "      <td>188,731,468.47</td>\n",
       "      <td>293,607,028.76</td>\n",
       "      <td>66,592,733.29</td>\n",
       "      <td>1,270,351,360.51</td>\n",
       "      <td>84,103,905.60</td>\n",
       "      <td>869,744,952.38</td>\n",
       "      <td>15,385,478,547.13</td>\n",
       "    </tr>\n",
       "    <tr>\n",
       "      <th>248</th>\n",
       "      <td>11,160,110,020.99</td>\n",
       "      <td>8,471,739,084.09</td>\n",
       "      <td>11,806,147,229.69</td>\n",
       "      <td>27,418,475,394.30</td>\n",
       "      <td>78,153,627.16</td>\n",
       "      <td>88,526,058.72</td>\n",
       "      <td>4,528,100.29</td>\n",
       "      <td>4,160,485,101.78</td>\n",
       "      <td>199,039,763.85</td>\n",
       "      <td>22,135,832.84</td>\n",
       "      <td>...</td>\n",
       "      <td>951,269,623.59</td>\n",
       "      <td>4,805,740,827.57</td>\n",
       "      <td>18,165,896,964.69</td>\n",
       "      <td>228,361,220.14</td>\n",
       "      <td>307,993,820.28</td>\n",
       "      <td>82,101,201.87</td>\n",
       "      <td>1,178,154,911.42</td>\n",
       "      <td>83,402,132.66</td>\n",
       "      <td>937,272,544.59</td>\n",
       "      <td>18,988,585,924.67</td>\n",
       "    </tr>\n",
       "    <tr>\n",
       "      <th>249</th>\n",
       "      <td>10,355,949,477.91</td>\n",
       "      <td>8,684,217,475.17</td>\n",
       "      <td>12,279,285,795.98</td>\n",
       "      <td>29,900,636,439.47</td>\n",
       "      <td>92,931,242.17</td>\n",
       "      <td>87,014,521.58</td>\n",
       "      <td>6,337,041.91</td>\n",
       "      <td>4,180,171,981.88</td>\n",
       "      <td>205,880,800.56</td>\n",
       "      <td>18,155,814.41</td>\n",
       "      <td>...</td>\n",
       "      <td>1,268,206,066.01</td>\n",
       "      <td>4,870,943,209.13</td>\n",
       "      <td>15,930,119,957.08</td>\n",
       "      <td>295,948,266.94</td>\n",
       "      <td>319,433,168.93</td>\n",
       "      <td>81,270,527.16</td>\n",
       "      <td>1,097,919,027.26</td>\n",
       "      <td>75,578,628.36</td>\n",
       "      <td>846,239,915.99</td>\n",
       "      <td>20,662,393,976.83</td>\n",
       "    </tr>\n",
       "    <tr>\n",
       "      <th>250</th>\n",
       "      <td>9,881,690,634.75</td>\n",
       "      <td>10,719,203,393.36</td>\n",
       "      <td>13,382,813,321.79</td>\n",
       "      <td>29,441,005,482.17</td>\n",
       "      <td>81,107,258.02</td>\n",
       "      <td>98,517,789.29</td>\n",
       "      <td>7,184,330.58</td>\n",
       "      <td>3,895,195,393.23</td>\n",
       "      <td>238,221,662.67</td>\n",
       "      <td>21,311,990.84</td>\n",
       "      <td>...</td>\n",
       "      <td>1,123,690,662.02</td>\n",
       "      <td>4,156,292,395.14</td>\n",
       "      <td>12,836,679,867.90</td>\n",
       "      <td>309,435,629.95</td>\n",
       "      <td>357,061,423.58</td>\n",
       "      <td>68,806,345.62</td>\n",
       "      <td>1,364,940,885.69</td>\n",
       "      <td>105,693,753.33</td>\n",
       "      <td>788,382,626.32</td>\n",
       "      <td>18,900,749,125.66</td>\n",
       "    </tr>\n",
       "    <tr>\n",
       "      <th>251</th>\n",
       "      <td>9,112,085,794.86</td>\n",
       "      <td>10,621,202,342.09</td>\n",
       "      <td>18,952,604,844.44</td>\n",
       "      <td>27,314,112,152.78</td>\n",
       "      <td>88,665,638.68</td>\n",
       "      <td>101,152,830.07</td>\n",
       "      <td>7,208,817.86</td>\n",
       "      <td>4,541,878,800.37</td>\n",
       "      <td>229,665,758.22</td>\n",
       "      <td>19,669,990.81</td>\n",
       "      <td>...</td>\n",
       "      <td>1,341,990,499.04</td>\n",
       "      <td>5,727,303,593.79</td>\n",
       "      <td>8,909,978,081.63</td>\n",
       "      <td>325,657,761.52</td>\n",
       "      <td>336,700,520.12</td>\n",
       "      <td>67,545,983.12</td>\n",
       "      <td>1,523,529,326.86</td>\n",
       "      <td>105,160,822.57</td>\n",
       "      <td>803,608,577.02</td>\n",
       "      <td>17,218,178,950.76</td>\n",
       "    </tr>\n",
       "  </tbody>\n",
       "</table>\n",
       "<p>252 rows × 1000 columns</p>\n",
       "</div>"
      ],
      "text/plain": [
       "                  0                 1                 2                 3             4              5            6                7              8             9    ...              990              991               992            993            994           995              996            997            998               999\n",
       "0            1,591.41          1,037.89          1,336.20          1,851.46      1,381.31       1,781.59     1,498.10         1,233.09       1,534.98      1,581.67  ...         1,477.89         1,556.36          1,629.67       1,584.55       1,230.86      1,766.93         1,454.33       1,730.39       1,782.57          1,070.51\n",
       "1            1,593.83          1,279.17          1,593.98          1,739.81      1,399.14       1,876.73     1,307.12         1,215.36       1,675.64      1,940.87  ...         1,223.33         1,500.86          1,863.50       1,683.41       1,416.01      1,308.03         1,311.01       1,584.33       1,470.20          1,088.69\n",
       "2            1,906.94          1,208.67          1,612.26          1,884.42      1,536.95       2,281.72     1,202.45         1,465.50       1,703.50      1,690.54  ...         1,069.03         1,841.45          2,317.06       1,647.01       1,583.75      1,665.09         1,133.69       1,473.36       1,320.25            999.44\n",
       "3            2,504.77          1,163.34          1,519.04          2,040.37      1,795.08       3,202.62     1,104.24         1,438.44       1,535.08      1,518.72  ...           946.74         1,860.91          2,315.37       1,412.12       1,832.34      1,410.07         1,309.04       1,739.82       1,091.93          1,499.50\n",
       "4            2,304.48          1,385.48          1,608.68          1,733.04      1,940.76       4,155.59     1,637.59         1,332.90       1,008.36      1,514.13  ...           988.40         2,071.06          2,809.40       1,718.80       2,226.17      1,822.55         1,622.73       1,833.23         999.48          1,493.91\n",
       "..                ...               ...               ...               ...           ...            ...          ...              ...            ...           ...  ...              ...              ...               ...            ...            ...           ...              ...            ...            ...               ...\n",
       "247 14,841,662,043.55  9,654,256,905.46  8,830,783,212.79 30,599,038,667.77 63,600,209.42  89,145,951.03 3,575,160.11 3,190,496,959.28 158,552,032.77 22,126,348.09  ...   689,041,843.58 5,188,979,747.84 16,505,058,160.31 188,731,468.47 293,607,028.76 66,592,733.29 1,270,351,360.51  84,103,905.60 869,744,952.38 15,385,478,547.13\n",
       "248 11,160,110,020.99  8,471,739,084.09 11,806,147,229.69 27,418,475,394.30 78,153,627.16  88,526,058.72 4,528,100.29 4,160,485,101.78 199,039,763.85 22,135,832.84  ...   951,269,623.59 4,805,740,827.57 18,165,896,964.69 228,361,220.14 307,993,820.28 82,101,201.87 1,178,154,911.42  83,402,132.66 937,272,544.59 18,988,585,924.67\n",
       "249 10,355,949,477.91  8,684,217,475.17 12,279,285,795.98 29,900,636,439.47 92,931,242.17  87,014,521.58 6,337,041.91 4,180,171,981.88 205,880,800.56 18,155,814.41  ... 1,268,206,066.01 4,870,943,209.13 15,930,119,957.08 295,948,266.94 319,433,168.93 81,270,527.16 1,097,919,027.26  75,578,628.36 846,239,915.99 20,662,393,976.83\n",
       "250  9,881,690,634.75 10,719,203,393.36 13,382,813,321.79 29,441,005,482.17 81,107,258.02  98,517,789.29 7,184,330.58 3,895,195,393.23 238,221,662.67 21,311,990.84  ... 1,123,690,662.02 4,156,292,395.14 12,836,679,867.90 309,435,629.95 357,061,423.58 68,806,345.62 1,364,940,885.69 105,693,753.33 788,382,626.32 18,900,749,125.66\n",
       "251  9,112,085,794.86 10,621,202,342.09 18,952,604,844.44 27,314,112,152.78 88,665,638.68 101,152,830.07 7,208,817.86 4,541,878,800.37 229,665,758.22 19,669,990.81  ... 1,341,990,499.04 5,727,303,593.79  8,909,978,081.63 325,657,761.52 336,700,520.12 67,545,983.12 1,523,529,326.86 105,160,822.57 803,608,577.02 17,218,178,950.76\n",
       "\n",
       "[252 rows x 1000 columns]"
      ]
     },
     "execution_count": 10,
     "metadata": {},
     "output_type": "execute_result"
    }
   ],
   "source": [
    "# # time_series['mean'] = time_series.mean()\n",
    "# # data = np.random.normal(loc=0.4, scale=[10], size=[12*30, 100]) / 100\n",
    "# time_series = pl.compute_time_series(pd.DataFrame(data))\n",
    "# time_series = time_series.transpose()\n",
    "# # time_series['mean'] = time_series.mean(axis=0) #ERRADO\n",
    "# # time_series['25'] = time_series.quantile(q=0.25)\n",
    "# # time_series['50'] = time_series.quantile(q=0.50)\n",
    "# # time_series['75'] = time_series.quantile(q=0.75)\n",
    "# time_series['Mean'] = time_series.mean(axis=1)\n",
    "time_series"
   ]
  },
  {
   "cell_type": "code",
   "execution_count": 11,
   "metadata": {},
   "outputs": [
    {
     "data": {
      "image/png": "[encoded data removed]",
      "text/plain": [
       "<Figure size 576x396 with 1 Axes>"
      ]
     },
     "metadata": {},
     "output_type": "display_data"
    }
   ],
   "source": [
    "time_series.mean(axis=1).plot();"
   ]
  },
  {
   "cell_type": "code",
   "execution_count": 12,
   "metadata": {},
   "outputs": [],
   "source": [
    "quantiles = pd.DataFrame(time_series.quantile(q=0.25, axis=1))\n",
    "quantiles['50'] = time_series.quantile(q=0.50, axis=1)\n",
    "quantiles['75'] = time_series.quantile(q=0.75, axis=1)\n",
    "quantiles.columns=['25% Q', '50% Q', '75% Q']\n",
    "data_chart = quantiles.iplot(dimensions=pl.dimensions, title='S&P 20 years Monte-Carlo Simulation, 10000 iterations, Quantiles', color=['red' , 'royalblue', 'green'], asFigure=True)"
   ]
  },
  {
   "cell_type": "code",
   "execution_count": 13,
   "metadata": {},
   "outputs": [
    {
     "data": {
      "application/vnd.plotly.v1+json": {
       "config": {
        "plotlyServerURL": "https://plot.ly"
       },
       "data": [
        {
         "line": {
          "color": "red"
         },
         "mode": "lines",
         "name": "25% Q",
         "type": "scatter",
         "x": [
          0,
          1,
          2,
          3,
          4,
          5,
          6,
          7,
          8,
          9,
          10,
          11,
          12,
          13,
          14,
          15,
          16,
          17,
          18,
          19,
          20,
          21,
          22,
          23,
          24,
          25,
          26,
          27,
          28,
          29,
          30,
          31,
          32,
          33,
          34,
          35,
          36,
          37,
          38,
          39,
          40,
          41,
          42,
          43,
          44,
          45,
          46,
          47,
          48,
          49,
          50,
          51,
          52,
          53,
          54,
          55,
          56,
          57,
          58,
          59,
          60,
          61,
          62,
          63,
          64,
          65,
          66,
          67,
          68,
          69,
          70,
          71,
          72,
          73,
          74,
          75,
          76,
          77,
          78,
          79,
          80,
          81,
          82,
          83,
          84,
          85,
          86,
          87,
          88,
          89,
          90,
          91,
          92,
          93,
          94,
          95,
          96,
          97,
          98,
          99,
          100,
          101,
          102,
          103,
          104,
          105,
          106,
          107,
          108,
          109,
          110,
          111,
          112,
          113,
          114,
          115,
          116,
          117,
          118,
          119,
          120,
          121,
          122,
          123,
          124,
          125,
          126,
          127,
          128,
          129,
          130,
          131,
          132,
          133,
          134,
          135,
          136,
          137,
          138,
          139,
          140,
          141,
          142,
          143,
          144,
          145,
          146,
          147,
          148,
          149,
          150,
          151,
          152,
          153,
          154,
          155,
          156,
          157,
          158,
          159,
          160,
          161,
          162,
          163,
          164,
          165,
          166,
          167,
          168,
          169,
          170,
          171,
          172,
          173,
          174,
          175,
          176,
          177,
          178,
          179,
          180,
          181,
          182,
          183,
          184,
          185,
          186,
          187,
          188,
          189,
          190,
          191,
          192,
          193,
          194,
          195,
          196,
          197,
          198,
          199,
          200,
          201,
          202,
          203,
          204,
          205,
          206,
          207,
          208,
          209,
          210,
          211,
          212,
          213,
          214,
          215,
          216,
          217,
          218,
          219,
          220,
          221,
          222,
          223,
          224,
          225,
          226,
          227,
          228,
          229,
          230,
          231,
          232,
          233,
          234,
          235,
          236,
          237,
          238,
          239,
          240,
          241,
          242,
          243,
          244,
          245,
          246,
          247,
          248,
          249,
          250,
          251
         ],
         "y": [
          1379.332114434407,
          1358.4114942570475,
          1375.1966136840695,
          1417.9374412700445,
          1459.1261806388293,
          1482.5452500751562,
          1543.8824449532992,
          1598.198397292435,
          1636.2212871064562,
          1704.3829712886145,
          1777.8721580024196,
          1838.9495965570798,
          1919.7946704512442,
          1991.5868481809728,
          2076.013597259503,
          2225.670379495706,
          2287.3379304684586,
          2325.5673404984664,
          2471.5601207117325,
          2512.489919468705,
          2659.1960348278953,
          2772.104030792705,
          2929.6050068793693,
          2979.9631799197655,
          3189.3225685895113,
          3350.4064443395837,
          3446.845701791216,
          3568.7195507934357,
          3759.403706239489,
          3896.92805886522,
          4080.3811028722066,
          4187.00944476523,
          4367.2033967338275,
          4710.575084405643,
          4798.914260699194,
          4925.002228043284,
          5025.348708675577,
          5386.775327149742,
          5602.900361134821,
          5740.457154941945,
          5782.271257069112,
          6322.8750190607025,
          6477.366113315531,
          6916.546348386686,
          7158.723332470561,
          7343.605112012965,
          7759.652734589832,
          8418.027632116737,
          8800.743981135594,
          9011.115883775456,
          9661.212805940684,
          9875.378596077144,
          10203.234771605172,
          10819.809440518646,
          11634.37007183859,
          12428.55116730815,
          13063.248533088648,
          13545.827866776863,
          14792.768781193168,
          14941.481979779977,
          15321.368939854041,
          15938.147278271777,
          17134.284364040326,
          17763.36622662885,
          18236.533600987976,
          19562.908599500304,
          19923.259418731213,
          21156.647766916045,
          22255.68191861086,
          22668.68450836433,
          23446.640042268296,
          24651.585779531913,
          25839.286911005096,
          25927.895230408834,
          26614.87191434171,
          28129.113783875688,
          29341.50436970713,
          30954.90570426733,
          33286.76306898386,
          35367.54074652109,
          36216.74163508978,
          38069.30467044295,
          39904.66706089456,
          42183.01893059242,
          44021.00420192931,
          45474.08570463919,
          47628.58649307025,
          50681.2864999273,
          53697.28179736011,
          56960.867371122135,
          61000.99330264286,
          63937.66589558802,
          68159.75666019613,
          70442.80531520379,
          76827.54402219375,
          79721.12724064254,
          82609.38946252661,
          87171.87239171947,
          92477.06098150137,
          96036.84616697115,
          104387.9974335105,
          106988.23308365163,
          111295.2302806707,
          112344.14298257,
          123113.1242791992,
          129461.01632221311,
          135383.57428886998,
          144314.72498047748,
          157988.95231882995,
          161855.157648676,
          172547.53441071295,
          175566.60961950207,
          181380.1185703113,
          189923.13441527236,
          202571.90422086054,
          206773.6167577304,
          222732.7192968289,
          232860.93169624562,
          243392.2962426609,
          254294.35419467883,
          263140.0421199756,
          261806.8892229784,
          275587.9208872733,
          294567.13155981246,
          298195.7310261812,
          321480.8473341352,
          332574.1755938373,
          338354.7398050603,
          339278.22319534805,
          361859.9475347993,
          382854.8749162665,
          411228.1548695612,
          431445.50344170665,
          456347.3761285985,
          471867.77392730664,
          488887.86785386695,
          527009.830126742,
          573844.5231979623,
          580413.7924119079,
          614971.4948132304,
          650185.6953874549,
          670345.0898360146,
          660707.0566689593,
          692702.5826691412,
          736240.9901431699,
          775180.460065719,
          807630.652173081,
          876609.0321319511,
          918515.9270626379,
          1025224.9481045278,
          1062193.115975606,
          1085824.9775389507,
          1104363.6247869364,
          1179441.4405837862,
          1292555.677904345,
          1341431.7940541266,
          1425590.1945034899,
          1478886.6590392534,
          1513498.6369064054,
          1538579.9310356355,
          1627824.589764897,
          1748826.04100123,
          1909527.1197390533,
          2026461.636416811,
          2149408.4937732047,
          2151768.652777252,
          2218762.2844986855,
          2216983.234722261,
          2389934.2459365907,
          2523674.572627812,
          2618126.3232521717,
          2760794.0551305297,
          2763560.6075098594,
          2997402.024712631,
          3210232.949634852,
          3251548.7102032793,
          3537435.407629763,
          3646860.2679856597,
          3909678.256913594,
          4297252.05233987,
          4422751.469017688,
          4526785.104959837,
          4844953.317096611,
          4886696.061903241,
          5117939.241741469,
          5534846.6981281005,
          6017616.282201935,
          6353746.5399526805,
          6547267.351819053,
          6924147.81860861,
          7389513.513229766,
          7504729.731459828,
          7565120.388163507,
          8013304.809607007,
          8508089.304485783,
          9219836.075730596,
          9818583.532049166,
          10281083.818851825,
          10495699.551830526,
          11391736.562285101,
          12164090.590699555,
          12491505.78871873,
          12891100.80174261,
          13551266.415032366,
          14196634.815527674,
          14710786.656705666,
          15745506.577485569,
          16747937.82296987,
          17319285.868678227,
          18077429.519480832,
          18445051.745671086,
          19976858.937661435,
          21149836.1071321,
          22107396.93988473,
          22711141.9138562,
          23491100.571582384,
          24618086.511256594,
          26415568.873404533,
          27886179.042308275,
          28588534.83245642,
          30471946.183370218,
          31010549.383627273,
          33540998.29613073,
          35732883.3745749,
          36554467.262713514,
          38546072.53801238,
          38849783.20991077,
          42356770.2803264,
          43167071.081232905,
          45198788.10703795,
          47093351.60026336,
          49484266.50658694,
          54407208.76477997,
          56172792.23812698,
          58360222.79362793,
          62333525.56790887,
          66699286.795387134,
          66000304.14214893,
          69970914.44077547,
          78867576.29560049,
          78632500.55762763,
          88040158.57576245,
          83894783.25900382,
          91455043.7800845,
          95437232.54081018,
          96954594.27654271,
          96807128.15906551,
          99824306.29328176,
          110689592.62554792,
          113701842.38770962,
          119214392.54498227,
          126193759.88267711
         ]
        },
        {
         "fill": "tonexty",
         "fillcolor": "rgba(255, 0, 0, 0.5)",
         "line": {
          "color": "blue"
         },
         "mode": "lines",
         "name": "50% Q",
         "type": "scatter",
         "x": [
          0,
          1,
          2,
          3,
          4,
          5,
          6,
          7,
          8,
          9,
          10,
          11,
          12,
          13,
          14,
          15,
          16,
          17,
          18,
          19,
          20,
          21,
          22,
          23,
          24,
          25,
          26,
          27,
          28,
          29,
          30,
          31,
          32,
          33,
          34,
          35,
          36,
          37,
          38,
          39,
          40,
          41,
          42,
          43,
          44,
          45,
          46,
          47,
          48,
          49,
          50,
          51,
          52,
          53,
          54,
          55,
          56,
          57,
          58,
          59,
          60,
          61,
          62,
          63,
          64,
          65,
          66,
          67,
          68,
          69,
          70,
          71,
          72,
          73,
          74,
          75,
          76,
          77,
          78,
          79,
          80,
          81,
          82,
          83,
          84,
          85,
          86,
          87,
          88,
          89,
          90,
          91,
          92,
          93,
          94,
          95,
          96,
          97,
          98,
          99,
          100,
          101,
          102,
          103,
          104,
          105,
          106,
          107,
          108,
          109,
          110,
          111,
          112,
          113,
          114,
          115,
          116,
          117,
          118,
          119,
          120,
          121,
          122,
          123,
          124,
          125,
          126,
          127,
          128,
          129,
          130,
          131,
          132,
          133,
          134,
          135,
          136,
          137,
          138,
          139,
          140,
          141,
          142,
          143,
          144,
          145,
          146,
          147,
          148,
          149,
          150,
          151,
          152,
          153,
          154,
          155,
          156,
          157,
          158,
          159,
          160,
          161,
          162,
          163,
          164,
          165,
          166,
          167,
          168,
          169,
          170,
          171,
          172,
          173,
          174,
          175,
          176,
          177,
          178,
          179,
          180,
          181,
          182,
          183,
          184,
          185,
          186,
          187,
          188,
          189,
          190,
          191,
          192,
          193,
          194,
          195,
          196,
          197,
          198,
          199,
          200,
          201,
          202,
          203,
          204,
          205,
          206,
          207,
          208,
          209,
          210,
          211,
          212,
          213,
          214,
          215,
          216,
          217,
          218,
          219,
          220,
          221,
          222,
          223,
          224,
          225,
          226,
          227,
          228,
          229,
          230,
          231,
          232,
          233,
          234,
          235,
          236,
          237,
          238,
          239,
          240,
          241,
          242,
          243,
          244,
          245,
          246,
          247,
          248,
          249,
          250,
          251
         ],
         "y": [
          1541.5804308121783,
          1616.3450859454615,
          1688.2202855628818,
          1777.1458659411387,
          1855.526265155779,
          1944.2135649960564,
          2057.664536532314,
          2180.6730307458947,
          2311.7102716960317,
          2404.8488930324424,
          2516.9578583780612,
          2706.000896989442,
          2842.8692337205443,
          3081.7215640114473,
          3182.0053064636304,
          3339.9995818622046,
          3527.398627562655,
          3723.8235217956553,
          3981.808099606552,
          4158.507936572978,
          4363.513545473055,
          4627.7759862756575,
          4928.064446722262,
          5098.283575504927,
          5281.062917775761,
          5600.572031017135,
          5877.951864324825,
          6264.552699335251,
          6633.818863771337,
          6868.117469737725,
          7476.0967106865755,
          7781.935985093748,
          8194.52085316656,
          8468.106869918643,
          9256.753817925528,
          9337.269583978637,
          10018.825730906934,
          10506.710516994302,
          11149.63168606181,
          11710.609125246358,
          12082.497107081439,
          12720.550980391195,
          13016.58959268783,
          13884.37520650692,
          14817.853392156418,
          15524.837401598594,
          16419.955501058575,
          17596.916115636668,
          18397.10922800152,
          19444.9227993897,
          20703.86951671159,
          21818.764909160716,
          23076.253283790225,
          23734.79814301625,
          24607.163759084684,
          25575.19700141411,
          27844.31618711359,
          29448.847841039147,
          30387.556011653076,
          31936.41448948948,
          34208.58833256166,
          37777.792864836825,
          38699.547187032884,
          40598.960329204565,
          42521.65315565864,
          43970.90142923915,
          46392.40043009934,
          48174.491194898015,
          49509.225679555595,
          52671.36582081094,
          55560.442761113314,
          58570.41020629067,
          62578.650290959005,
          64144.878070162114,
          67068.57667648747,
          73039.46613503105,
          78481.03994885285,
          80940.28511254833,
          89326.86504579615,
          96474.61785086071,
          100848.5862884366,
          102831.3336699308,
          110420.16989951723,
          113265.69104721452,
          121061.49064693236,
          130686.94502281329,
          138061.29636388458,
          147736.5702607655,
          155009.7051689843,
          163718.60297339718,
          170909.8551950393,
          178578.05847986546,
          182496.2488090956,
          189940.77718834684,
          201037.635865291,
          209770.21495874703,
          215552.18791593885,
          234481.58622705465,
          245149.5344355866,
          264114.88863476284,
          278672.1113579955,
          284746.5689975694,
          305245.2628804301,
          326023.28240766225,
          343577.0590616713,
          370552.20582612127,
          378919.28439757903,
          396874.13118905795,
          421267.10359003616,
          442147.9101938945,
          461718.74801090243,
          499252.83685170196,
          535406.0727579435,
          558209.8186681123,
          581865.8772047972,
          639123.4943445551,
          663975.1734487338,
          692207.5553850748,
          724305.8630530154,
          754131.2242303574,
          772291.880760541,
          801321.2790858129,
          858060.2835707215,
          913305.762981834,
          952135.5039872786,
          1022646.6631487313,
          1117999.835719564,
          1201658.342322452,
          1289535.3172025797,
          1360665.0858559832,
          1446750.5314686126,
          1462111.6964277588,
          1496702.0735930938,
          1611997.7388527072,
          1645509.5126838414,
          1808213.3956870418,
          1962018.5008136118,
          2031069.73060697,
          2128346.9905289095,
          2152414.097645849,
          2259337.502169348,
          2307566.122297241,
          2415715.591209235,
          2575745.3144887257,
          2725429.879334653,
          2862936.2816368574,
          2977399.311306926,
          3189342.8223224543,
          3391113.6544506983,
          3524402.433305601,
          3765093.266488718,
          3979051.120253305,
          4074431.720037507,
          4252733.479467026,
          4416895.046248773,
          4770713.500332292,
          4856073.615555352,
          5253675.625579054,
          5367503.857160814,
          5775179.972265406,
          6334078.012000621,
          6737103.767657163,
          7133049.228064897,
          7227127.209873056,
          7968521.374897554,
          8531935.185562281,
          8712447.182135724,
          9229934.344153382,
          9599616.682891846,
          10388938.405076694,
          10901100.948878568,
          11430379.387213103,
          12552875.351892682,
          13220800.352054432,
          14306507.081931885,
          14997305.521712847,
          15152047.623680167,
          16261073.80321666,
          16507213.871379986,
          17764372.685006797,
          18345555.32570695,
          19644002.618154958,
          20736039.15230031,
          21217684.60548263,
          23173050.819235753,
          23995064.74444268,
          23858192.454825748,
          25358068.938741438,
          26720285.97551126,
          28863049.316782065,
          30502060.726768784,
          33071287.397803653,
          35113763.68801111,
          35735888.12364819,
          38285894.25559035,
          41109179.46986758,
          44273555.72268376,
          43661816.92861746,
          46784663.25471203,
          48445681.61419673,
          49272003.021488465,
          54189072.87989806,
          56694000.398052216,
          61205673.99883725,
          65939566.334006555,
          70658848.64479873,
          72479155.81432706,
          76748143.04396239,
          80336853.28235452,
          85456252.51573093,
          88405112.41983092,
          93582689.86284521,
          102644039.29336146,
          104090539.51826805,
          111612862.34850591,
          114860732.61156145,
          121783441.63581482,
          130801197.85035461,
          132151332.77621606,
          136676286.34806353,
          144551114.51084822,
          150187387.54897305,
          162899340.3583972,
          165934941.01442626,
          173074165.64916688,
          188371638.7501191,
          193977585.28604603,
          204559539.18633038,
          222312570.03580707,
          230129338.26072037,
          245555828.09321907,
          241905499.48103893,
          251820527.58736295,
          264666946.25901914,
          285904839.1402903,
          304677798.3730891,
          305771291.80503356,
          319889858.9983479,
          339826543.41792476,
          371942016.7865945,
          397092507.5583516,
          395012415.84962094,
          407528638.77832794,
          428598471.4359555,
          452022902.0760467,
          492371115.0334553,
          512252240.3918885,
          559069697.5503418,
          596513146.2994325,
          589822777.6105196,
          642790183.8694179,
          700990896.204171
         ]
        },
        {
         "fill": "tonexty",
         "line": {
          "color": "green"
         },
         "mode": "lines",
         "name": "75% Q",
         "type": "scatter",
         "x": [
          0,
          1,
          2,
          3,
          4,
          5,
          6,
          7,
          8,
          9,
          10,
          11,
          12,
          13,
          14,
          15,
          16,
          17,
          18,
          19,
          20,
          21,
          22,
          23,
          24,
          25,
          26,
          27,
          28,
          29,
          30,
          31,
          32,
          33,
          34,
          35,
          36,
          37,
          38,
          39,
          40,
          41,
          42,
          43,
          44,
          45,
          46,
          47,
          48,
          49,
          50,
          51,
          52,
          53,
          54,
          55,
          56,
          57,
          58,
          59,
          60,
          61,
          62,
          63,
          64,
          65,
          66,
          67,
          68,
          69,
          70,
          71,
          72,
          73,
          74,
          75,
          76,
          77,
          78,
          79,
          80,
          81,
          82,
          83,
          84,
          85,
          86,
          87,
          88,
          89,
          90,
          91,
          92,
          93,
          94,
          95,
          96,
          97,
          98,
          99,
          100,
          101,
          102,
          103,
          104,
          105,
          106,
          107,
          108,
          109,
          110,
          111,
          112,
          113,
          114,
          115,
          116,
          117,
          118,
          119,
          120,
          121,
          122,
          123,
          124,
          125,
          126,
          127,
          128,
          129,
          130,
          131,
          132,
          133,
          134,
          135,
          136,
          137,
          138,
          139,
          140,
          141,
          142,
          143,
          144,
          145,
          146,
          147,
          148,
          149,
          150,
          151,
          152,
          153,
          154,
          155,
          156,
          157,
          158,
          159,
          160,
          161,
          162,
          163,
          164,
          165,
          166,
          167,
          168,
          169,
          170,
          171,
          172,
          173,
          174,
          175,
          176,
          177,
          178,
          179,
          180,
          181,
          182,
          183,
          184,
          185,
          186,
          187,
          188,
          189,
          190,
          191,
          192,
          193,
          194,
          195,
          196,
          197,
          198,
          199,
          200,
          201,
          202,
          203,
          204,
          205,
          206,
          207,
          208,
          209,
          210,
          211,
          212,
          213,
          214,
          215,
          216,
          217,
          218,
          219,
          220,
          221,
          222,
          223,
          224,
          225,
          226,
          227,
          228,
          229,
          230,
          231,
          232,
          233,
          234,
          235,
          236,
          237,
          238,
          239,
          240,
          241,
          242,
          243,
          244,
          245,
          246,
          247,
          248,
          249,
          250,
          251
         ],
         "y": [
          1710.6909153013557,
          1870.852979585917,
          1985.3250859174873,
          2196.460121035114,
          2393.467511359077,
          2485.679254756282,
          2699.308885188862,
          2896.509403898661,
          3153.5092006069435,
          3330.1075919518507,
          3587.4306263680987,
          3918.5696940719417,
          4225.972824459693,
          4520.731831352157,
          4814.057766059184,
          5199.171463062388,
          5502.567725794802,
          5850.33719864997,
          6177.9799601892955,
          6467.893563597243,
          6868.327238150669,
          7414.593780942463,
          7905.97526803863,
          8229.900882548092,
          8889.416698094086,
          9600.4369257442,
          10290.007855278407,
          11060.7852825834,
          11788.552600298644,
          12189.000057179172,
          12973.225548551985,
          13994.931526378208,
          15220.438919593413,
          16400.43067755337,
          16411.905284313394,
          17711.27813951108,
          19145.06878629572,
          20269.363607585005,
          22210.071968784192,
          23579.248944497922,
          25000.711127232502,
          25742.438790742955,
          27689.066082709447,
          29211.496680422006,
          30275.58086003519,
          32245.622897557198,
          34114.031135283,
          36012.66369206041,
          37346.390831368066,
          40746.94683121038,
          43349.59577339016,
          46113.05047327212,
          49170.290434553055,
          50953.26082868163,
          54571.30017798869,
          58574.14639731478,
          61164.692563042365,
          65982.73318035586,
          68461.10940573373,
          72581.96103602847,
          76727.8453219513,
          83547.23040306129,
          84898.12051675524,
          90628.35685429806,
          100362.25606746561,
          102961.81765125332,
          110350.53470691705,
          116495.08027721947,
          124071.2035449319,
          132730.17396751198,
          140162.85987047828,
          144227.08777569496,
          153362.33077351036,
          162279.45103052477,
          170270.63017871015,
          186594.6028917411,
          197214.73962405277,
          207927.91851116205,
          217719.54295322043,
          235005.15458254027,
          250171.72805179615,
          263023.3636320793,
          272490.32481117407,
          288319.936378587,
          308686.0044404775,
          341003.4125268196,
          347087.9956828445,
          371169.9540747165,
          400248.0783843588,
          418620.67285143776,
          441371.24332845677,
          479035.6326302341,
          500491.0679805693,
          535012.6813894277,
          568659.1300359925,
          596259.4321966921,
          638458.7478798215,
          673295.1122845792,
          755725.1397303613,
          812214.9418322854,
          881677.9252316405,
          936351.6817738281,
          969619.6621823849,
          1014801.8064683662,
          1051137.8584324932,
          1118700.5529849264,
          1204988.2447496888,
          1254825.4046297204,
          1319958.4937825026,
          1433405.3845418019,
          1515724.7075798349,
          1598303.0366277932,
          1717868.541211549,
          1806798.3817760218,
          1945040.8067910245,
          2047388.2288449118,
          2184611.2777273674,
          2207371.7988070534,
          2396064.593194315,
          2510685.1074398975,
          2766694.142171829,
          2918625.4596459866,
          3311265.1041905726,
          3487676.6040041754,
          3550867.4414602276,
          3654205.576795097,
          3855896.433663843,
          3875842.836608829,
          4165418.120156917,
          4422457.671713017,
          4803316.53796762,
          5030343.317327769,
          5429973.797710756,
          5699724.400426757,
          5859754.427556898,
          6162749.857817022,
          6649982.470677134,
          7121887.109052482,
          7545018.361313465,
          7774782.702935491,
          7896796.545293726,
          8744493.02114542,
          9611763.998526033,
          9833549.387024298,
          10420465.306970371,
          10888111.349675868,
          11926508.236229647,
          12896454.866023077,
          13594388.802718973,
          14294907.348187257,
          16047900.013336187,
          16289851.925629327,
          16688337.677996188,
          18063473.582578152,
          19267720.2271352,
          20084195.452441465,
          21121375.856296904,
          22405468.71189476,
          22968425.971804418,
          24110003.85606596,
          27238882.06859491,
          29113048.821858276,
          29557974.05341137,
          31521088.701267287,
          33485335.846946526,
          34155701.344906345,
          38058199.36980535,
          40821766.8338768,
          42855209.585214466,
          46883696.962358326,
          49772599.27598894,
          51604424.59149159,
          55503786.166794516,
          55694469.47051938,
          57882707.35007405,
          62901428.089723095,
          69078862.7684571,
          73404053.02586207,
          80459513.9983698,
          83107775.20201023,
          83961920.70593879,
          89791371.02979052,
          96125566.90559712,
          99093613.15843323,
          98234180.27792968,
          113511906.00486916,
          116968134.0339802,
          127431193.4415596,
          136446678.11134475,
          146168123.65604532,
          159715132.8796242,
          174779944.10954773,
          190856528.20960242,
          198127366.60064116,
          203462824.81544864,
          217935710.18201563,
          232942111.58977038,
          255037653.44557616,
          267924185.12370875,
          267469800.10150278,
          278945596.2376754,
          307211233.3130052,
          311014834.99981505,
          331237928.31276286,
          361347720.6752049,
          362679876.6698334,
          395790299.5562594,
          424692676.1230092,
          443978228.62259674,
          462771213.7430078,
          496006739.41208994,
          522796179.6020781,
          566956921.712214,
          572156850.7221004,
          591858584.9064474,
          643084810.4854316,
          694740868.9593413,
          675475541.5628327,
          750289929.395412,
          763882310.0338689,
          801669102.0622652,
          889034784.5464463,
          898131358.5481322,
          957039377.1303637,
          997175471.5130873,
          1068074111.6626652,
          1131511269.4418044,
          1191391577.8885431,
          1246783128.3137605,
          1331972354.8669538,
          1391293838.719346,
          1437938241.9889917,
          1594783666.3873127,
          1697649984.9322448,
          1757915898.8160074,
          1912174916.3487225,
          2032052203.3077004,
          2104415502.629034,
          2186595471.0565577,
          2289639400.643157,
          2418238685.61244,
          2553333945.9408035,
          2698082652.1649065,
          2816061724.1881065,
          3023920802.335705,
          3115521623.203337,
          3147652845.7271175,
          3469091668.410082,
          3740291894.9877834,
          3920414168.669036,
          4136518063.1124325,
          4573334834.04917
         ]
        }
       ],
       "layout": {
        "autosize": false,
        "height": 500,
        "margin": {
         "b": 100,
         "l": 50,
         "pad": 4,
         "r": 50,
         "t": 100
        },
        "paper_bgcolor": "whitesmoke",
        "template": {
         "data": {
          "bar": [
           {
            "error_x": {
             "color": "#2a3f5f"
            },
            "error_y": {
             "color": "#2a3f5f"
            },
            "marker": {
             "line": {
              "color": "#E5ECF6",
              "width": 0.5
             }
            },
            "type": "bar"
           }
          ],
          "barpolar": [
           {
            "marker": {
             "line": {
              "color": "#E5ECF6",
              "width": 0.5
             }
            },
            "type": "barpolar"
           }
          ],
          "carpet": [
           {
            "aaxis": {
             "endlinecolor": "#2a3f5f",
             "gridcolor": "white",
             "linecolor": "white",
             "minorgridcolor": "white",
             "startlinecolor": "#2a3f5f"
            },
            "baxis": {
             "endlinecolor": "#2a3f5f",
             "gridcolor": "white",
             "linecolor": "white",
             "minorgridcolor": "white",
             "startlinecolor": "#2a3f5f"
            },
            "type": "carpet"
           }
          ],
          "choropleth": [
           {
            "colorbar": {
             "outlinewidth": 0,
             "ticks": ""
            },
            "type": "choropleth"
           }
          ],
          "contour": [
           {
            "colorbar": {
             "outlinewidth": 0,
             "ticks": ""
            },
            "colorscale": [
             [
              0,
              "#0d0887"
             ],
             [
              0.1111111111111111,
              "#46039f"
             ],
             [
              0.2222222222222222,
              "#7201a8"
             ],
             [
              0.3333333333333333,
              "#9c179e"
             ],
             [
              0.4444444444444444,
              "#bd3786"
             ],
             [
              0.5555555555555556,
              "#d8576b"
             ],
             [
              0.6666666666666666,
              "#ed7953"
             ],
             [
              0.7777777777777778,
              "#fb9f3a"
             ],
             [
              0.8888888888888888,
              "#fdca26"
             ],
             [
              1,
              "#f0f921"
             ]
            ],
            "type": "contour"
           }
          ],
          "contourcarpet": [
           {
            "colorbar": {
             "outlinewidth": 0,
             "ticks": ""
            },
            "type": "contourcarpet"
           }
          ],
          "heatmap": [
           {
            "colorbar": {
             "outlinewidth": 0,
             "ticks": ""
            },
            "colorscale": [
             [
              0,
              "#0d0887"
             ],
             [
              0.1111111111111111,
              "#46039f"
             ],
             [
              0.2222222222222222,
              "#7201a8"
             ],
             [
              0.3333333333333333,
              "#9c179e"
             ],
             [
              0.4444444444444444,
              "#bd3786"
             ],
             [
              0.5555555555555556,
              "#d8576b"
             ],
             [
              0.6666666666666666,
              "#ed7953"
             ],
             [
              0.7777777777777778,
              "#fb9f3a"
             ],
             [
              0.8888888888888888,
              "#fdca26"
             ],
             [
              1,
              "#f0f921"
             ]
            ],
            "type": "heatmap"
           }
          ],
          "heatmapgl": [
           {
            "colorbar": {
             "outlinewidth": 0,
             "ticks": ""
            },
            "colorscale": [
             [
              0,
              "#0d0887"
             ],
             [
              0.1111111111111111,
              "#46039f"
             ],
             [
              0.2222222222222222,
              "#7201a8"
             ],
             [
              0.3333333333333333,
              "#9c179e"
             ],
             [
              0.4444444444444444,
              "#bd3786"
             ],
             [
              0.5555555555555556,
              "#d8576b"
             ],
             [
              0.6666666666666666,
              "#ed7953"
             ],
             [
              0.7777777777777778,
              "#fb9f3a"
             ],
             [
              0.8888888888888888,
              "#fdca26"
             ],
             [
              1,
              "#f0f921"
             ]
            ],
            "type": "heatmapgl"
           }
          ],
          "histogram": [
           {
            "marker": {
             "colorbar": {
              "outlinewidth": 0,
              "ticks": ""
             }
            },
            "type": "histogram"
           }
          ],
          "histogram2d": [
           {
            "colorbar": {
             "outlinewidth": 0,
             "ticks": ""
            },
            "colorscale": [
             [
              0,
              "#0d0887"
             ],
             [
              0.1111111111111111,
              "#46039f"
             ],
             [
              0.2222222222222222,
              "#7201a8"
             ],
             [
              0.3333333333333333,
              "#9c179e"
             ],
             [
              0.4444444444444444,
              "#bd3786"
             ],
             [
              0.5555555555555556,
              "#d8576b"
             ],
             [
              0.6666666666666666,
              "#ed7953"
             ],
             [
              0.7777777777777778,
              "#fb9f3a"
             ],
             [
              0.8888888888888888,
              "#fdca26"
             ],
             [
              1,
              "#f0f921"
             ]
            ],
            "type": "histogram2d"
           }
          ],
          "histogram2dcontour": [
           {
            "colorbar": {
             "outlinewidth": 0,
             "ticks": ""
            },
            "colorscale": [
             [
              0,
              "#0d0887"
             ],
             [
              0.1111111111111111,
              "#46039f"
             ],
             [
              0.2222222222222222,
              "#7201a8"
             ],
             [
              0.3333333333333333,
              "#9c179e"
             ],
             [
              0.4444444444444444,
              "#bd3786"
             ],
             [
              0.5555555555555556,
              "#d8576b"
             ],
             [
              0.6666666666666666,
              "#ed7953"
             ],
             [
              0.7777777777777778,
              "#fb9f3a"
             ],
             [
              0.8888888888888888,
              "#fdca26"
             ],
             [
              1,
              "#f0f921"
             ]
            ],
            "type": "histogram2dcontour"
           }
          ],
          "mesh3d": [
           {
            "colorbar": {
             "outlinewidth": 0,
             "ticks": ""
            },
            "type": "mesh3d"
           }
          ],
          "parcoords": [
           {
            "line": {
             "colorbar": {
              "outlinewidth": 0,
              "ticks": ""
             }
            },
            "type": "parcoords"
           }
          ],
          "pie": [
           {
            "automargin": true,
            "type": "pie"
           }
          ],
          "scatter": [
           {
            "marker": {
             "colorbar": {
              "outlinewidth": 0,
              "ticks": ""
             }
            },
            "type": "scatter"
           }
          ],
          "scatter3d": [
           {
            "line": {
             "colorbar": {
              "outlinewidth": 0,
              "ticks": ""
             }
            },
            "marker": {
             "colorbar": {
              "outlinewidth": 0,
              "ticks": ""
             }
            },
            "type": "scatter3d"
           }
          ],
          "scattercarpet": [
           {
            "marker": {
             "colorbar": {
              "outlinewidth": 0,
              "ticks": ""
             }
            },
            "type": "scattercarpet"
           }
          ],
          "scattergeo": [
           {
            "marker": {
             "colorbar": {
              "outlinewidth": 0,
              "ticks": ""
             }
            },
            "type": "scattergeo"
           }
          ],
          "scattergl": [
           {
            "marker": {
             "colorbar": {
              "outlinewidth": 0,
              "ticks": ""
             }
            },
            "type": "scattergl"
           }
          ],
          "scattermapbox": [
           {
            "marker": {
             "colorbar": {
              "outlinewidth": 0,
              "ticks": ""
             }
            },
            "type": "scattermapbox"
           }
          ],
          "scatterpolar": [
           {
            "marker": {
             "colorbar": {
              "outlinewidth": 0,
              "ticks": ""
             }
            },
            "type": "scatterpolar"
           }
          ],
          "scatterpolargl": [
           {
            "marker": {
             "colorbar": {
              "outlinewidth": 0,
              "ticks": ""
             }
            },
            "type": "scatterpolargl"
           }
          ],
          "scatterternary": [
           {
            "marker": {
             "colorbar": {
              "outlinewidth": 0,
              "ticks": ""
             }
            },
            "type": "scatterternary"
           }
          ],
          "surface": [
           {
            "colorbar": {
             "outlinewidth": 0,
             "ticks": ""
            },
            "colorscale": [
             [
              0,
              "#0d0887"
             ],
             [
              0.1111111111111111,
              "#46039f"
             ],
             [
              0.2222222222222222,
              "#7201a8"
             ],
             [
              0.3333333333333333,
              "#9c179e"
             ],
             [
              0.4444444444444444,
              "#bd3786"
             ],
             [
              0.5555555555555556,
              "#d8576b"
             ],
             [
              0.6666666666666666,
              "#ed7953"
             ],
             [
              0.7777777777777778,
              "#fb9f3a"
             ],
             [
              0.8888888888888888,
              "#fdca26"
             ],
             [
              1,
              "#f0f921"
             ]
            ],
            "type": "surface"
           }
          ],
          "table": [
           {
            "cells": {
             "fill": {
              "color": "#EBF0F8"
             },
             "line": {
              "color": "white"
             }
            },
            "header": {
             "fill": {
              "color": "#C8D4E3"
             },
             "line": {
              "color": "white"
             }
            },
            "type": "table"
           }
          ]
         },
         "layout": {
          "annotationdefaults": {
           "arrowcolor": "#2a3f5f",
           "arrowhead": 0,
           "arrowwidth": 1
          },
          "autotypenumbers": "strict",
          "coloraxis": {
           "colorbar": {
            "outlinewidth": 0,
            "ticks": ""
           }
          },
          "colorscale": {
           "diverging": [
            [
             0,
             "#8e0152"
            ],
            [
             0.1,
             "#c51b7d"
            ],
            [
             0.2,
             "#de77ae"
            ],
            [
             0.3,
             "#f1b6da"
            ],
            [
             0.4,
             "#fde0ef"
            ],
            [
             0.5,
             "#f7f7f7"
            ],
            [
             0.6,
             "#e6f5d0"
            ],
            [
             0.7,
             "#b8e186"
            ],
            [
             0.8,
             "#7fbc41"
            ],
            [
             0.9,
             "#4d9221"
            ],
            [
             1,
             "#276419"
            ]
           ],
           "sequential": [
            [
             0,
             "#0d0887"
            ],
            [
             0.1111111111111111,
             "#46039f"
            ],
            [
             0.2222222222222222,
             "#7201a8"
            ],
            [
             0.3333333333333333,
             "#9c179e"
            ],
            [
             0.4444444444444444,
             "#bd3786"
            ],
            [
             0.5555555555555556,
             "#d8576b"
            ],
            [
             0.6666666666666666,
             "#ed7953"
            ],
            [
             0.7777777777777778,
             "#fb9f3a"
            ],
            [
             0.8888888888888888,
             "#fdca26"
            ],
            [
             1,
             "#f0f921"
            ]
           ],
           "sequentialminus": [
            [
             0,
             "#0d0887"
            ],
            [
             0.1111111111111111,
             "#46039f"
            ],
            [
             0.2222222222222222,
             "#7201a8"
            ],
            [
             0.3333333333333333,
             "#9c179e"
            ],
            [
             0.4444444444444444,
             "#bd3786"
            ],
            [
             0.5555555555555556,
             "#d8576b"
            ],
            [
             0.6666666666666666,
             "#ed7953"
            ],
            [
             0.7777777777777778,
             "#fb9f3a"
            ],
            [
             0.8888888888888888,
             "#fdca26"
            ],
            [
             1,
             "#f0f921"
            ]
           ]
          },
          "colorway": [
           "#636efa",
           "#EF553B",
           "#00cc96",
           "#ab63fa",
           "#FFA15A",
           "#19d3f3",
           "#FF6692",
           "#B6E880",
           "#FF97FF",
           "#FECB52"
          ],
          "font": {
           "color": "#2a3f5f"
          },
          "geo": {
           "bgcolor": "white",
           "lakecolor": "white",
           "landcolor": "#E5ECF6",
           "showlakes": true,
           "showland": true,
           "subunitcolor": "white"
          },
          "hoverlabel": {
           "align": "left"
          },
          "hovermode": "closest",
          "mapbox": {
           "style": "light"
          },
          "paper_bgcolor": "white",
          "plot_bgcolor": "#E5ECF6",
          "polar": {
           "angularaxis": {
            "gridcolor": "white",
            "linecolor": "white",
            "ticks": ""
           },
           "bgcolor": "#E5ECF6",
           "radialaxis": {
            "gridcolor": "white",
            "linecolor": "white",
            "ticks": ""
           }
          },
          "scene": {
           "xaxis": {
            "backgroundcolor": "#E5ECF6",
            "gridcolor": "white",
            "gridwidth": 2,
            "linecolor": "white",
            "showbackground": true,
            "ticks": "",
            "zerolinecolor": "white"
           },
           "yaxis": {
            "backgroundcolor": "#E5ECF6",
            "gridcolor": "white",
            "gridwidth": 2,
            "linecolor": "white",
            "showbackground": true,
            "ticks": "",
            "zerolinecolor": "white"
           },
           "zaxis": {
            "backgroundcolor": "#E5ECF6",
            "gridcolor": "white",
            "gridwidth": 2,
            "linecolor": "white",
            "showbackground": true,
            "ticks": "",
            "zerolinecolor": "white"
           }
          },
          "shapedefaults": {
           "line": {
            "color": "#2a3f5f"
           }
          },
          "ternary": {
           "aaxis": {
            "gridcolor": "white",
            "linecolor": "white",
            "ticks": ""
           },
           "baxis": {
            "gridcolor": "white",
            "linecolor": "white",
            "ticks": ""
           },
           "bgcolor": "#E5ECF6",
           "caxis": {
            "gridcolor": "white",
            "linecolor": "white",
            "ticks": ""
           }
          },
          "title": {
           "x": 0.05
          },
          "xaxis": {
           "automargin": true,
           "gridcolor": "white",
           "linecolor": "white",
           "ticks": "",
           "title": {
            "standoff": 15
           },
           "zerolinecolor": "white",
           "zerolinewidth": 2
          },
          "yaxis": {
           "automargin": true,
           "gridcolor": "white",
           "linecolor": "white",
           "ticks": "",
           "title": {
            "standoff": 15
           },
           "zerolinecolor": "white",
           "zerolinewidth": 2
          }
         }
        },
        "title": {
         "text": "S&P 20 years Monte-Carlo Simulation, 10000 iterations, Quantiles"
        },
        "width": 1000,
        "xaxis": {
         "autorange": true,
         "range": [
          0,
          251
         ],
         "type": "linear"
        },
        "yaxis": {
         "autorange": true,
         "range": [
          -254072723.5683766,
          4827408916.02904
         ],
         "type": "linear"
        }
       }
      },
      "image/png": "[encoded data removed]",
      "text/html": [
       "<div>                            <div id=\"98e00735-75cc-4d24-ac23-160927327175\" class=\"plotly-graph-div\" style=\"height:500px; width:1000px;\"></div>            <script type=\"text/javascript\">                require([\"plotly\"], function(Plotly) {                    window.PLOTLYENV=window.PLOTLYENV || {};                                    if (document.getElementById(\"98e00735-75cc-4d24-ac23-160927327175\")) {                    Plotly.newPlot(                        \"98e00735-75cc-4d24-ac23-160927327175\",                        [{\"line\": {\"color\": \"red\"}, \"mode\": \"lines\", \"name\": \"25% Q\", \"type\": \"scatter\", \"x\": [0, 1, 2, 3, 4, 5, 6, 7, 8, 9, 10, 11, 12, 13, 14, 15, 16, 17, 18, 19, 20, 21, 22, 23, 24, 25, 26, 27, 28, 29, 30, 31, 32, 33, 34, 35, 36, 37, 38, 39, 40, 41, 42, 43, 44, 45, 46, 47, 48, 49, 50, 51, 52, 53, 54, 55, 56, 57, 58, 59, 60, 61, 62, 63, 64, 65, 66, 67, 68, 69, 70, 71, 72, 73, 74, 75, 76, 77, 78, 79, 80, 81, 82, 83, 84, 85, 86, 87, 88, 89, 90, 91, 92, 93, 94, 95, 96, 97, 98, 99, 100, 101, 102, 103, 104, 105, 106, 107, 108, 109, 110, 111, 112, 113, 114, 115, 116, 117, 118, 119, 120, 121, 122, 123, 124, 125, 126, 127, 128, 129, 130, 131, 132, 133, 134, 135, 136, 137, 138, 139, 140, 141, 142, 143, 144, 145, 146, 147, 148, 149, 150, 151, 152, 153, 154, 155, 156, 157, 158, 159, 160, 161, 162, 163, 164, 165, 166, 167, 168, 169, 170, 171, 172, 173, 174, 175, 176, 177, 178, 179, 180, 181, 182, 183, 184, 185, 186, 187, 188, 189, 190, 191, 192, 193, 194, 195, 196, 197, 198, 199, 200, 201, 202, 203, 204, 205, 206, 207, 208, 209, 210, 211, 212, 213, 214, 215, 216, 217, 218, 219, 220, 221, 222, 223, 224, 225, 226, 227, 228, 229, 230, 231, 232, 233, 234, 235, 236, 237, 238, 239, 240, 241, 242, 243, 244, 245, 246, 247, 248, 249, 250, 251], \"y\": [1379.332114434407, 1358.4114942570475, 1375.1966136840695, 1417.9374412700445, 1459.1261806388293, 1482.5452500751562, 1543.8824449532992, 1598.198397292435, 1636.2212871064562, 1704.3829712886145, 1777.8721580024196, 1838.9495965570798, 1919.7946704512442, 1991.5868481809728, 2076.013597259503, 2225.670379495706, 2287.3379304684586, 2325.5673404984664, 2471.5601207117325, 2512.489919468705, 2659.1960348278953, 2772.104030792705, 2929.6050068793693, 2979.9631799197655, 3189.3225685895113, 3350.4064443395837, 3446.845701791216, 3568.7195507934357, 3759.403706239489, 3896.92805886522, 4080.3811028722066, 4187.00944476523, 4367.2033967338275, 4710.575084405643, 4798.914260699194, 4925.002228043284, 5025.348708675577, 5386.775327149742, 5602.900361134821, 5740.457154941945, 5782.271257069112, 6322.8750190607025, 6477.366113315531, 6916.546348386686, 7158.723332470561, 7343.605112012965, 7759.652734589832, 8418.027632116737, 8800.743981135594, 9011.115883775456, 9661.212805940684, 9875.378596077144, 10203.234771605172, 10819.809440518646, 11634.37007183859, 12428.55116730815, 13063.248533088648, 13545.827866776863, 14792.768781193168, 14941.481979779977, 15321.368939854041, 15938.147278271777, 17134.284364040326, 17763.36622662885, 18236.533600987976, 19562.908599500304, 19923.259418731213, 21156.647766916045, 22255.68191861086, 22668.68450836433, 23446.640042268296, 24651.585779531913, 25839.286911005096, 25927.895230408834, 26614.87191434171, 28129.113783875688, 29341.50436970713, 30954.90570426733, 33286.76306898386, 35367.54074652109, 36216.74163508978, 38069.30467044295, 39904.66706089456, 42183.01893059242, 44021.00420192931, 45474.08570463919, 47628.58649307025, 50681.2864999273, 53697.28179736011, 56960.867371122135, 61000.99330264286, 63937.66589558802, 68159.75666019613, 70442.80531520379, 76827.54402219375, 79721.12724064254, 82609.38946252661, 87171.87239171947, 92477.06098150137, 96036.84616697115, 104387.9974335105, 106988.23308365163, 111295.2302806707, 112344.14298257, 123113.1242791992, 129461.01632221311, 135383.57428886998, 144314.72498047748, 157988.95231882995, 161855.157648676, 172547.53441071295, 175566.60961950207, 181380.1185703113, 189923.13441527236, 202571.90422086054, 206773.6167577304, 222732.7192968289, 232860.93169624562, 243392.2962426609, 254294.35419467883, 263140.0421199756, 261806.8892229784, 275587.9208872733, 294567.13155981246, 298195.7310261812, 321480.8473341352, 332574.1755938373, 338354.7398050603, 339278.22319534805, 361859.9475347993, 382854.8749162665, 411228.1548695612, 431445.50344170665, 456347.3761285985, 471867.77392730664, 488887.86785386695, 527009.830126742, 573844.5231979623, 580413.7924119079, 614971.4948132304, 650185.6953874549, 670345.0898360146, 660707.0566689593, 692702.5826691412, 736240.9901431699, 775180.460065719, 807630.652173081, 876609.0321319511, 918515.9270626379, 1025224.9481045278, 1062193.115975606, 1085824.9775389507, 1104363.6247869364, 1179441.4405837862, 1292555.677904345, 1341431.7940541266, 1425590.1945034899, 1478886.6590392534, 1513498.6369064054, 1538579.9310356355, 1627824.589764897, 1748826.04100123, 1909527.1197390533, 2026461.636416811, 2149408.4937732047, 2151768.652777252, 2218762.2844986855, 2216983.234722261, 2389934.2459365907, 2523674.572627812, 2618126.3232521717, 2760794.0551305297, 2763560.6075098594, 2997402.024712631, 3210232.949634852, 3251548.7102032793, 3537435.407629763, 3646860.2679856597, 3909678.256913594, 4297252.05233987, 4422751.469017688, 4526785.104959837, 4844953.317096611, 4886696.061903241, 5117939.241741469, 5534846.6981281005, 6017616.282201935, 6353746.5399526805, 6547267.351819053, 6924147.81860861, 7389513.513229766, 7504729.731459828, 7565120.388163507, 8013304.809607007, 8508089.304485783, 9219836.075730596, 9818583.532049166, 10281083.818851825, 10495699.551830526, 11391736.562285101, 12164090.590699555, 12491505.78871873, 12891100.80174261, 13551266.415032366, 14196634.815527674, 14710786.656705666, 15745506.577485569, 16747937.82296987, 17319285.868678227, 18077429.519480832, 18445051.745671086, 19976858.937661435, 21149836.1071321, 22107396.93988473, 22711141.9138562, 23491100.571582384, 24618086.511256594, 26415568.873404533, 27886179.042308275, 28588534.83245642, 30471946.183370218, 31010549.383627273, 33540998.29613073, 35732883.3745749, 36554467.262713514, 38546072.53801238, 38849783.20991077, 42356770.2803264, 43167071.081232905, 45198788.10703795, 47093351.60026336, 49484266.50658694, 54407208.76477997, 56172792.23812698, 58360222.79362793, 62333525.56790887, 66699286.795387134, 66000304.14214893, 69970914.44077547, 78867576.29560049, 78632500.55762763, 88040158.57576245, 83894783.25900382, 91455043.7800845, 95437232.54081018, 96954594.27654271, 96807128.15906551, 99824306.29328176, 110689592.62554792, 113701842.38770962, 119214392.54498227, 126193759.88267711]}, {\"fill\": \"tonexty\", \"fillcolor\": \"rgba(255, 0, 0, 0.5)\", \"line\": {\"color\": \"blue\"}, \"mode\": \"lines\", \"name\": \"50% Q\", \"type\": \"scatter\", \"x\": [0, 1, 2, 3, 4, 5, 6, 7, 8, 9, 10, 11, 12, 13, 14, 15, 16, 17, 18, 19, 20, 21, 22, 23, 24, 25, 26, 27, 28, 29, 30, 31, 32, 33, 34, 35, 36, 37, 38, 39, 40, 41, 42, 43, 44, 45, 46, 47, 48, 49, 50, 51, 52, 53, 54, 55, 56, 57, 58, 59, 60, 61, 62, 63, 64, 65, 66, 67, 68, 69, 70, 71, 72, 73, 74, 75, 76, 77, 78, 79, 80, 81, 82, 83, 84, 85, 86, 87, 88, 89, 90, 91, 92, 93, 94, 95, 96, 97, 98, 99, 100, 101, 102, 103, 104, 105, 106, 107, 108, 109, 110, 111, 112, 113, 114, 115, 116, 117, 118, 119, 120, 121, 122, 123, 124, 125, 126, 127, 128, 129, 130, 131, 132, 133, 134, 135, 136, 137, 138, 139, 140, 141, 142, 143, 144, 145, 146, 147, 148, 149, 150, 151, 152, 153, 154, 155, 156, 157, 158, 159, 160, 161, 162, 163, 164, 165, 166, 167, 168, 169, 170, 171, 172, 173, 174, 175, 176, 177, 178, 179, 180, 181, 182, 183, 184, 185, 186, 187, 188, 189, 190, 191, 192, 193, 194, 195, 196, 197, 198, 199, 200, 201, 202, 203, 204, 205, 206, 207, 208, 209, 210, 211, 212, 213, 214, 215, 216, 217, 218, 219, 220, 221, 222, 223, 224, 225, 226, 227, 228, 229, 230, 231, 232, 233, 234, 235, 236, 237, 238, 239, 240, 241, 242, 243, 244, 245, 246, 247, 248, 249, 250, 251], \"y\": [1541.5804308121783, 1616.3450859454615, 1688.2202855628818, 1777.1458659411387, 1855.526265155779, 1944.2135649960564, 2057.664536532314, 2180.6730307458947, 2311.7102716960317, 2404.8488930324424, 2516.9578583780612, 2706.000896989442, 2842.8692337205443, 3081.7215640114473, 3182.0053064636304, 3339.9995818622046, 3527.398627562655, 3723.8235217956553, 3981.808099606552, 4158.507936572978, 4363.513545473055, 4627.7759862756575, 4928.064446722262, 5098.283575504927, 5281.062917775761, 5600.572031017135, 5877.951864324825, 6264.552699335251, 6633.818863771337, 6868.117469737725, 7476.0967106865755, 7781.935985093748, 8194.52085316656, 8468.106869918643, 9256.753817925528, 9337.269583978637, 10018.825730906934, 10506.710516994302, 11149.63168606181, 11710.609125246358, 12082.497107081439, 12720.550980391195, 13016.58959268783, 13884.37520650692, 14817.853392156418, 15524.837401598594, 16419.955501058575, 17596.916115636668, 18397.10922800152, 19444.9227993897, 20703.86951671159, 21818.764909160716, 23076.253283790225, 23734.79814301625, 24607.163759084684, 25575.19700141411, 27844.31618711359, 29448.847841039147, 30387.556011653076, 31936.41448948948, 34208.58833256166, 37777.792864836825, 38699.547187032884, 40598.960329204565, 42521.65315565864, 43970.90142923915, 46392.40043009934, 48174.491194898015, 49509.225679555595, 52671.36582081094, 55560.442761113314, 58570.41020629067, 62578.650290959005, 64144.878070162114, 67068.57667648747, 73039.46613503105, 78481.03994885285, 80940.28511254833, 89326.86504579615, 96474.61785086071, 100848.5862884366, 102831.3336699308, 110420.16989951723, 113265.69104721452, 121061.49064693236, 130686.94502281329, 138061.29636388458, 147736.5702607655, 155009.7051689843, 163718.60297339718, 170909.8551950393, 178578.05847986546, 182496.2488090956, 189940.77718834684, 201037.635865291, 209770.21495874703, 215552.18791593885, 234481.58622705465, 245149.5344355866, 264114.88863476284, 278672.1113579955, 284746.5689975694, 305245.2628804301, 326023.28240766225, 343577.0590616713, 370552.20582612127, 378919.28439757903, 396874.13118905795, 421267.10359003616, 442147.9101938945, 461718.74801090243, 499252.83685170196, 535406.0727579435, 558209.8186681123, 581865.8772047972, 639123.4943445551, 663975.1734487338, 692207.5553850748, 724305.8630530154, 754131.2242303574, 772291.880760541, 801321.2790858129, 858060.2835707215, 913305.762981834, 952135.5039872786, 1022646.6631487313, 1117999.835719564, 1201658.342322452, 1289535.3172025797, 1360665.0858559832, 1446750.5314686126, 1462111.6964277588, 1496702.0735930938, 1611997.7388527072, 1645509.5126838414, 1808213.3956870418, 1962018.5008136118, 2031069.73060697, 2128346.9905289095, 2152414.097645849, 2259337.502169348, 2307566.122297241, 2415715.591209235, 2575745.3144887257, 2725429.879334653, 2862936.2816368574, 2977399.311306926, 3189342.8223224543, 3391113.6544506983, 3524402.433305601, 3765093.266488718, 3979051.120253305, 4074431.720037507, 4252733.479467026, 4416895.046248773, 4770713.500332292, 4856073.615555352, 5253675.625579054, 5367503.857160814, 5775179.972265406, 6334078.012000621, 6737103.767657163, 7133049.228064897, 7227127.209873056, 7968521.374897554, 8531935.185562281, 8712447.182135724, 9229934.344153382, 9599616.682891846, 10388938.405076694, 10901100.948878568, 11430379.387213103, 12552875.351892682, 13220800.352054432, 14306507.081931885, 14997305.521712847, 15152047.623680167, 16261073.80321666, 16507213.871379986, 17764372.685006797, 18345555.32570695, 19644002.618154958, 20736039.15230031, 21217684.60548263, 23173050.819235753, 23995064.74444268, 23858192.454825748, 25358068.938741438, 26720285.97551126, 28863049.316782065, 30502060.726768784, 33071287.397803653, 35113763.68801111, 35735888.12364819, 38285894.25559035, 41109179.46986758, 44273555.72268376, 43661816.92861746, 46784663.25471203, 48445681.61419673, 49272003.021488465, 54189072.87989806, 56694000.398052216, 61205673.99883725, 65939566.334006555, 70658848.64479873, 72479155.81432706, 76748143.04396239, 80336853.28235452, 85456252.51573093, 88405112.41983092, 93582689.86284521, 102644039.29336146, 104090539.51826805, 111612862.34850591, 114860732.61156145, 121783441.63581482, 130801197.85035461, 132151332.77621606, 136676286.34806353, 144551114.51084822, 150187387.54897305, 162899340.3583972, 165934941.01442626, 173074165.64916688, 188371638.7501191, 193977585.28604603, 204559539.18633038, 222312570.03580707, 230129338.26072037, 245555828.09321907, 241905499.48103893, 251820527.58736295, 264666946.25901914, 285904839.1402903, 304677798.3730891, 305771291.80503356, 319889858.9983479, 339826543.41792476, 371942016.7865945, 397092507.5583516, 395012415.84962094, 407528638.77832794, 428598471.4359555, 452022902.0760467, 492371115.0334553, 512252240.3918885, 559069697.5503418, 596513146.2994325, 589822777.6105196, 642790183.8694179, 700990896.204171]}, {\"fill\": \"tonexty\", \"line\": {\"color\": \"green\"}, \"mode\": \"lines\", \"name\": \"75% Q\", \"type\": \"scatter\", \"x\": [0, 1, 2, 3, 4, 5, 6, 7, 8, 9, 10, 11, 12, 13, 14, 15, 16, 17, 18, 19, 20, 21, 22, 23, 24, 25, 26, 27, 28, 29, 30, 31, 32, 33, 34, 35, 36, 37, 38, 39, 40, 41, 42, 43, 44, 45, 46, 47, 48, 49, 50, 51, 52, 53, 54, 55, 56, 57, 58, 59, 60, 61, 62, 63, 64, 65, 66, 67, 68, 69, 70, 71, 72, 73, 74, 75, 76, 77, 78, 79, 80, 81, 82, 83, 84, 85, 86, 87, 88, 89, 90, 91, 92, 93, 94, 95, 96, 97, 98, 99, 100, 101, 102, 103, 104, 105, 106, 107, 108, 109, 110, 111, 112, 113, 114, 115, 116, 117, 118, 119, 120, 121, 122, 123, 124, 125, 126, 127, 128, 129, 130, 131, 132, 133, 134, 135, 136, 137, 138, 139, 140, 141, 142, 143, 144, 145, 146, 147, 148, 149, 150, 151, 152, 153, 154, 155, 156, 157, 158, 159, 160, 161, 162, 163, 164, 165, 166, 167, 168, 169, 170, 171, 172, 173, 174, 175, 176, 177, 178, 179, 180, 181, 182, 183, 184, 185, 186, 187, 188, 189, 190, 191, 192, 193, 194, 195, 196, 197, 198, 199, 200, 201, 202, 203, 204, 205, 206, 207, 208, 209, 210, 211, 212, 213, 214, 215, 216, 217, 218, 219, 220, 221, 222, 223, 224, 225, 226, 227, 228, 229, 230, 231, 232, 233, 234, 235, 236, 237, 238, 239, 240, 241, 242, 243, 244, 245, 246, 247, 248, 249, 250, 251], \"y\": [1710.6909153013557, 1870.852979585917, 1985.3250859174873, 2196.460121035114, 2393.467511359077, 2485.679254756282, 2699.308885188862, 2896.509403898661, 3153.5092006069435, 3330.1075919518507, 3587.4306263680987, 3918.5696940719417, 4225.972824459693, 4520.731831352157, 4814.057766059184, 5199.171463062388, 5502.567725794802, 5850.33719864997, 6177.9799601892955, 6467.893563597243, 6868.327238150669, 7414.593780942463, 7905.97526803863, 8229.900882548092, 8889.416698094086, 9600.4369257442, 10290.007855278407, 11060.7852825834, 11788.552600298644, 12189.000057179172, 12973.225548551985, 13994.931526378208, 15220.438919593413, 16400.43067755337, 16411.905284313394, 17711.27813951108, 19145.06878629572, 20269.363607585005, 22210.071968784192, 23579.248944497922, 25000.711127232502, 25742.438790742955, 27689.066082709447, 29211.496680422006, 30275.58086003519, 32245.622897557198, 34114.031135283, 36012.66369206041, 37346.390831368066, 40746.94683121038, 43349.59577339016, 46113.05047327212, 49170.290434553055, 50953.26082868163, 54571.30017798869, 58574.14639731478, 61164.692563042365, 65982.73318035586, 68461.10940573373, 72581.96103602847, 76727.8453219513, 83547.23040306129, 84898.12051675524, 90628.35685429806, 100362.25606746561, 102961.81765125332, 110350.53470691705, 116495.08027721947, 124071.2035449319, 132730.17396751198, 140162.85987047828, 144227.08777569496, 153362.33077351036, 162279.45103052477, 170270.63017871015, 186594.6028917411, 197214.73962405277, 207927.91851116205, 217719.54295322043, 235005.15458254027, 250171.72805179615, 263023.3636320793, 272490.32481117407, 288319.936378587, 308686.0044404775, 341003.4125268196, 347087.9956828445, 371169.9540747165, 400248.0783843588, 418620.67285143776, 441371.24332845677, 479035.6326302341, 500491.0679805693, 535012.6813894277, 568659.1300359925, 596259.4321966921, 638458.7478798215, 673295.1122845792, 755725.1397303613, 812214.9418322854, 881677.9252316405, 936351.6817738281, 969619.6621823849, 1014801.8064683662, 1051137.8584324932, 1118700.5529849264, 1204988.2447496888, 1254825.4046297204, 1319958.4937825026, 1433405.3845418019, 1515724.7075798349, 1598303.0366277932, 1717868.541211549, 1806798.3817760218, 1945040.8067910245, 2047388.2288449118, 2184611.2777273674, 2207371.7988070534, 2396064.593194315, 2510685.1074398975, 2766694.142171829, 2918625.4596459866, 3311265.1041905726, 3487676.6040041754, 3550867.4414602276, 3654205.576795097, 3855896.433663843, 3875842.836608829, 4165418.120156917, 4422457.671713017, 4803316.53796762, 5030343.317327769, 5429973.797710756, 5699724.400426757, 5859754.427556898, 6162749.857817022, 6649982.470677134, 7121887.109052482, 7545018.361313465, 7774782.702935491, 7896796.545293726, 8744493.02114542, 9611763.998526033, 9833549.387024298, 10420465.306970371, 10888111.349675868, 11926508.236229647, 12896454.866023077, 13594388.802718973, 14294907.348187257, 16047900.013336187, 16289851.925629327, 16688337.677996188, 18063473.582578152, 19267720.2271352, 20084195.452441465, 21121375.856296904, 22405468.71189476, 22968425.971804418, 24110003.85606596, 27238882.06859491, 29113048.821858276, 29557974.05341137, 31521088.701267287, 33485335.846946526, 34155701.344906345, 38058199.36980535, 40821766.8338768, 42855209.585214466, 46883696.962358326, 49772599.27598894, 51604424.59149159, 55503786.166794516, 55694469.47051938, 57882707.35007405, 62901428.089723095, 69078862.7684571, 73404053.02586207, 80459513.9983698, 83107775.20201023, 83961920.70593879, 89791371.02979052, 96125566.90559712, 99093613.15843323, 98234180.27792968, 113511906.00486916, 116968134.0339802, 127431193.4415596, 136446678.11134475, 146168123.65604532, 159715132.8796242, 174779944.10954773, 190856528.20960242, 198127366.60064116, 203462824.81544864, 217935710.18201563, 232942111.58977038, 255037653.44557616, 267924185.12370875, 267469800.10150278, 278945596.2376754, 307211233.3130052, 311014834.99981505, 331237928.31276286, 361347720.6752049, 362679876.6698334, 395790299.5562594, 424692676.1230092, 443978228.62259674, 462771213.7430078, 496006739.41208994, 522796179.6020781, 566956921.712214, 572156850.7221004, 591858584.9064474, 643084810.4854316, 694740868.9593413, 675475541.5628327, 750289929.395412, 763882310.0338689, 801669102.0622652, 889034784.5464463, 898131358.5481322, 957039377.1303637, 997175471.5130873, 1068074111.6626652, 1131511269.4418044, 1191391577.8885431, 1246783128.3137605, 1331972354.8669538, 1391293838.719346, 1437938241.9889917, 1594783666.3873127, 1697649984.9322448, 1757915898.8160074, 1912174916.3487225, 2032052203.3077004, 2104415502.629034, 2186595471.0565577, 2289639400.643157, 2418238685.61244, 2553333945.9408035, 2698082652.1649065, 2816061724.1881065, 3023920802.335705, 3115521623.203337, 3147652845.7271175, 3469091668.410082, 3740291894.9877834, 3920414168.669036, 4136518063.1124325, 4573334834.04917]}],                        {\"autosize\": false, \"height\": 500, \"margin\": {\"b\": 100, \"l\": 50, \"pad\": 4, \"r\": 50, \"t\": 100}, \"paper_bgcolor\": \"whitesmoke\", \"template\": {\"data\": {\"bar\": [{\"error_x\": {\"color\": \"#2a3f5f\"}, \"error_y\": {\"color\": \"#2a3f5f\"}, \"marker\": {\"line\": {\"color\": \"#E5ECF6\", \"width\": 0.5}}, \"type\": \"bar\"}], \"barpolar\": [{\"marker\": {\"line\": {\"color\": \"#E5ECF6\", \"width\": 0.5}}, \"type\": \"barpolar\"}], \"carpet\": [{\"aaxis\": {\"endlinecolor\": \"#2a3f5f\", \"gridcolor\": \"white\", \"linecolor\": \"white\", \"minorgridcolor\": \"white\", \"startlinecolor\": \"#2a3f5f\"}, \"baxis\": {\"endlinecolor\": \"#2a3f5f\", \"gridcolor\": \"white\", \"linecolor\": \"white\", \"minorgridcolor\": \"white\", \"startlinecolor\": \"#2a3f5f\"}, \"type\": \"carpet\"}], \"choropleth\": [{\"colorbar\": {\"outlinewidth\": 0, \"ticks\": \"\"}, \"type\": \"choropleth\"}], \"contour\": [{\"colorbar\": {\"outlinewidth\": 0, \"ticks\": \"\"}, \"colorscale\": [[0.0, \"#0d0887\"], [0.1111111111111111, \"#46039f\"], [0.2222222222222222, \"#7201a8\"], [0.3333333333333333, \"#9c179e\"], [0.4444444444444444, \"#bd3786\"], [0.5555555555555556, \"#d8576b\"], [0.6666666666666666, \"#ed7953\"], [0.7777777777777778, \"#fb9f3a\"], [0.8888888888888888, \"#fdca26\"], [1.0, \"#f0f921\"]], \"type\": \"contour\"}], \"contourcarpet\": [{\"colorbar\": {\"outlinewidth\": 0, \"ticks\": \"\"}, \"type\": \"contourcarpet\"}], \"heatmap\": [{\"colorbar\": {\"outlinewidth\": 0, \"ticks\": \"\"}, \"colorscale\": [[0.0, \"#0d0887\"], [0.1111111111111111, \"#46039f\"], [0.2222222222222222, \"#7201a8\"], [0.3333333333333333, \"#9c179e\"], [0.4444444444444444, \"#bd3786\"], [0.5555555555555556, \"#d8576b\"], [0.6666666666666666, \"#ed7953\"], [0.7777777777777778, \"#fb9f3a\"], [0.8888888888888888, \"#fdca26\"], [1.0, \"#f0f921\"]], \"type\": \"heatmap\"}], \"heatmapgl\": [{\"colorbar\": {\"outlinewidth\": 0, \"ticks\": \"\"}, \"colorscale\": [[0.0, \"#0d0887\"], [0.1111111111111111, \"#46039f\"], [0.2222222222222222, \"#7201a8\"], [0.3333333333333333, \"#9c179e\"], [0.4444444444444444, \"#bd3786\"], [0.5555555555555556, \"#d8576b\"], [0.6666666666666666, \"#ed7953\"], [0.7777777777777778, \"#fb9f3a\"], [0.8888888888888888, \"#fdca26\"], [1.0, \"#f0f921\"]], \"type\": \"heatmapgl\"}], \"histogram\": [{\"marker\": {\"colorbar\": {\"outlinewidth\": 0, \"ticks\": \"\"}}, \"type\": \"histogram\"}], \"histogram2d\": [{\"colorbar\": {\"outlinewidth\": 0, \"ticks\": \"\"}, \"colorscale\": [[0.0, \"#0d0887\"], [0.1111111111111111, \"#46039f\"], [0.2222222222222222, \"#7201a8\"], [0.3333333333333333, \"#9c179e\"], [0.4444444444444444, \"#bd3786\"], [0.5555555555555556, \"#d8576b\"], [0.6666666666666666, \"#ed7953\"], [0.7777777777777778, \"#fb9f3a\"], [0.8888888888888888, \"#fdca26\"], [1.0, \"#f0f921\"]], \"type\": \"histogram2d\"}], \"histogram2dcontour\": [{\"colorbar\": {\"outlinewidth\": 0, \"ticks\": \"\"}, \"colorscale\": [[0.0, \"#0d0887\"], [0.1111111111111111, \"#46039f\"], [0.2222222222222222, \"#7201a8\"], [0.3333333333333333, \"#9c179e\"], [0.4444444444444444, \"#bd3786\"], [0.5555555555555556, \"#d8576b\"], [0.6666666666666666, \"#ed7953\"], [0.7777777777777778, \"#fb9f3a\"], [0.8888888888888888, \"#fdca26\"], [1.0, \"#f0f921\"]], \"type\": \"histogram2dcontour\"}], \"mesh3d\": [{\"colorbar\": {\"outlinewidth\": 0, \"ticks\": \"\"}, \"type\": \"mesh3d\"}], \"parcoords\": [{\"line\": {\"colorbar\": {\"outlinewidth\": 0, \"ticks\": \"\"}}, \"type\": \"parcoords\"}], \"pie\": [{\"automargin\": true, \"type\": \"pie\"}], \"scatter\": [{\"marker\": {\"colorbar\": {\"outlinewidth\": 0, \"ticks\": \"\"}}, \"type\": \"scatter\"}], \"scatter3d\": [{\"line\": {\"colorbar\": {\"outlinewidth\": 0, \"ticks\": \"\"}}, \"marker\": {\"colorbar\": {\"outlinewidth\": 0, \"ticks\": \"\"}}, \"type\": \"scatter3d\"}], \"scattercarpet\": [{\"marker\": {\"colorbar\": {\"outlinewidth\": 0, \"ticks\": \"\"}}, \"type\": \"scattercarpet\"}], \"scattergeo\": [{\"marker\": {\"colorbar\": {\"outlinewidth\": 0, \"ticks\": \"\"}}, \"type\": \"scattergeo\"}], \"scattergl\": [{\"marker\": {\"colorbar\": {\"outlinewidth\": 0, \"ticks\": \"\"}}, \"type\": \"scattergl\"}], \"scattermapbox\": [{\"marker\": {\"colorbar\": {\"outlinewidth\": 0, \"ticks\": \"\"}}, \"type\": \"scattermapbox\"}], \"scatterpolar\": [{\"marker\": {\"colorbar\": {\"outlinewidth\": 0, \"ticks\": \"\"}}, \"type\": \"scatterpolar\"}], \"scatterpolargl\": [{\"marker\": {\"colorbar\": {\"outlinewidth\": 0, \"ticks\": \"\"}}, \"type\": \"scatterpolargl\"}], \"scatterternary\": [{\"marker\": {\"colorbar\": {\"outlinewidth\": 0, \"ticks\": \"\"}}, \"type\": \"scatterternary\"}], \"surface\": [{\"colorbar\": {\"outlinewidth\": 0, \"ticks\": \"\"}, \"colorscale\": [[0.0, \"#0d0887\"], [0.1111111111111111, \"#46039f\"], [0.2222222222222222, \"#7201a8\"], [0.3333333333333333, \"#9c179e\"], [0.4444444444444444, \"#bd3786\"], [0.5555555555555556, \"#d8576b\"], [0.6666666666666666, \"#ed7953\"], [0.7777777777777778, \"#fb9f3a\"], [0.8888888888888888, \"#fdca26\"], [1.0, \"#f0f921\"]], \"type\": \"surface\"}], \"table\": [{\"cells\": {\"fill\": {\"color\": \"#EBF0F8\"}, \"line\": {\"color\": \"white\"}}, \"header\": {\"fill\": {\"color\": \"#C8D4E3\"}, \"line\": {\"color\": \"white\"}}, \"type\": \"table\"}]}, \"layout\": {\"annotationdefaults\": {\"arrowcolor\": \"#2a3f5f\", \"arrowhead\": 0, \"arrowwidth\": 1}, \"autotypenumbers\": \"strict\", \"coloraxis\": {\"colorbar\": {\"outlinewidth\": 0, \"ticks\": \"\"}}, \"colorscale\": {\"diverging\": [[0, \"#8e0152\"], [0.1, \"#c51b7d\"], [0.2, \"#de77ae\"], [0.3, \"#f1b6da\"], [0.4, \"#fde0ef\"], [0.5, \"#f7f7f7\"], [0.6, \"#e6f5d0\"], [0.7, \"#b8e186\"], [0.8, \"#7fbc41\"], [0.9, \"#4d9221\"], [1, \"#276419\"]], \"sequential\": [[0.0, \"#0d0887\"], [0.1111111111111111, \"#46039f\"], [0.2222222222222222, \"#7201a8\"], [0.3333333333333333, \"#9c179e\"], [0.4444444444444444, \"#bd3786\"], [0.5555555555555556, \"#d8576b\"], [0.6666666666666666, \"#ed7953\"], [0.7777777777777778, \"#fb9f3a\"], [0.8888888888888888, \"#fdca26\"], [1.0, \"#f0f921\"]], \"sequentialminus\": [[0.0, \"#0d0887\"], [0.1111111111111111, \"#46039f\"], [0.2222222222222222, \"#7201a8\"], [0.3333333333333333, \"#9c179e\"], [0.4444444444444444, \"#bd3786\"], [0.5555555555555556, \"#d8576b\"], [0.6666666666666666, \"#ed7953\"], [0.7777777777777778, \"#fb9f3a\"], [0.8888888888888888, \"#fdca26\"], [1.0, \"#f0f921\"]]}, \"colorway\": [\"#636efa\", \"#EF553B\", \"#00cc96\", \"#ab63fa\", \"#FFA15A\", \"#19d3f3\", \"#FF6692\", \"#B6E880\", \"#FF97FF\", \"#FECB52\"], \"font\": {\"color\": \"#2a3f5f\"}, \"geo\": {\"bgcolor\": \"white\", \"lakecolor\": \"white\", \"landcolor\": \"#E5ECF6\", \"showlakes\": true, \"showland\": true, \"subunitcolor\": \"white\"}, \"hoverlabel\": {\"align\": \"left\"}, \"hovermode\": \"closest\", \"mapbox\": {\"style\": \"light\"}, \"paper_bgcolor\": \"white\", \"plot_bgcolor\": \"#E5ECF6\", \"polar\": {\"angularaxis\": {\"gridcolor\": \"white\", \"linecolor\": \"white\", \"ticks\": \"\"}, \"bgcolor\": \"#E5ECF6\", \"radialaxis\": {\"gridcolor\": \"white\", \"linecolor\": \"white\", \"ticks\": \"\"}}, \"scene\": {\"xaxis\": {\"backgroundcolor\": \"#E5ECF6\", \"gridcolor\": \"white\", \"gridwidth\": 2, \"linecolor\": \"white\", \"showbackground\": true, \"ticks\": \"\", \"zerolinecolor\": \"white\"}, \"yaxis\": {\"backgroundcolor\": \"#E5ECF6\", \"gridcolor\": \"white\", \"gridwidth\": 2, \"linecolor\": \"white\", \"showbackground\": true, \"ticks\": \"\", \"zerolinecolor\": \"white\"}, \"zaxis\": {\"backgroundcolor\": \"#E5ECF6\", \"gridcolor\": \"white\", \"gridwidth\": 2, \"linecolor\": \"white\", \"showbackground\": true, \"ticks\": \"\", \"zerolinecolor\": \"white\"}}, \"shapedefaults\": {\"line\": {\"color\": \"#2a3f5f\"}}, \"ternary\": {\"aaxis\": {\"gridcolor\": \"white\", \"linecolor\": \"white\", \"ticks\": \"\"}, \"baxis\": {\"gridcolor\": \"white\", \"linecolor\": \"white\", \"ticks\": \"\"}, \"bgcolor\": \"#E5ECF6\", \"caxis\": {\"gridcolor\": \"white\", \"linecolor\": \"white\", \"ticks\": \"\"}}, \"title\": {\"x\": 0.05}, \"xaxis\": {\"automargin\": true, \"gridcolor\": \"white\", \"linecolor\": \"white\", \"ticks\": \"\", \"title\": {\"standoff\": 15}, \"zerolinecolor\": \"white\", \"zerolinewidth\": 2}, \"yaxis\": {\"automargin\": true, \"gridcolor\": \"white\", \"linecolor\": \"white\", \"ticks\": \"\", \"title\": {\"standoff\": 15}, \"zerolinecolor\": \"white\", \"zerolinewidth\": 2}}}, \"title\": {\"text\": \"S&P 20 years Monte-Carlo Simulation, 10000 iterations, Quantiles\"}, \"width\": 1000},                        {\"responsive\": true}                    ).then(function(){\n",
       "                            \n",
       "var gd = document.getElementById('98e00735-75cc-4d24-ac23-160927327175');\n",
       "var x = new MutationObserver(function (mutations, observer) {{\n",
       "        var display = window.getComputedStyle(gd).display;\n",
       "        if (!display || display === 'none') {{\n",
       "            console.log([gd, 'removed!']);\n",
       "            Plotly.purge(gd);\n",
       "            observer.disconnect();\n",
       "        }}\n",
       "}});\n",
       "\n",
       "// Listen for the removal of the full notebook cells\n",
       "var notebookContainer = gd.closest('#notebook-container');\n",
       "if (notebookContainer) {{\n",
       "    x.observe(notebookContainer, {childList: true});\n",
       "}}\n",
       "\n",
       "// Listen for the clearing of the current output cell\n",
       "var outputEl = gd.closest('.output');\n",
       "if (outputEl) {{\n",
       "    x.observe(outputEl, {childList: true});\n",
       "}}\n",
       "\n",
       "                        })                };                });            </script>        </div>"
      ]
     },
     "metadata": {},
     "output_type": "display_data"
    },
    {
     "name": "stdout",
     "output_type": "stream",
     "text": [
      "Wall time: 21 ms\n"
     ]
    }
   ],
   "source": [
    "%%time\n",
    "\n",
    "import plotly.graph_objects as go\n",
    "\n",
    "fig = go.Figure()\n",
    "fig.add_trace(go.Scatter(y=quantiles['25% Q'], x=quantiles.index,\n",
    "    fill=None,\n",
    "    mode='lines',\n",
    "    line_color='red',\n",
    "    name=\"25% Q\"\n",
    "    ))\n",
    "fig.add_trace(go.Scatter(y=quantiles['50% Q'], x=quantiles.index,\n",
    "    fill='tonexty',\n",
    "    mode='lines',\n",
    "    line_color='blue',\n",
    "    fillcolor='rgba(255, 0, 0, 0.5)',\n",
    "    name=\"50% Q\"\n",
    "    ))\n",
    "fig.add_trace(go.Scatter(y=quantiles['75% Q'], x=quantiles.index,\n",
    "    fill='tonexty',\n",
    "    mode='lines',\n",
    "    line_color='green',\n",
    "    name=\"75% Q\"\n",
    "    ))\n",
    "fig.update_layout(\n",
    "    title='S&P 20 years Monte-Carlo Simulation, 10000 iterations, Quantiles',\n",
    "    autosize=False,\n",
    "    width=1000,\n",
    "    height=500,\n",
    "    margin=dict(\n",
    "        l=50,\n",
    "        r=50,\n",
    "        b=100,\n",
    "        t=100,\n",
    "        pad=4\n",
    "    ),\n",
    "    paper_bgcolor=\"whitesmoke\",\n",
    ")\n",
    "\n",
    "fig.show()"
   ]
  },
  {
   "cell_type": "code",
   "execution_count": 14,
   "metadata": {},
   "outputs": [
    {
     "data": {
      "image/png": "[encoded data removed]",
      "text/plain": [
       "<Figure size 576x396 with 1 Axes>"
      ]
     },
     "metadata": {},
     "output_type": "display_data"
    }
   ],
   "source": [
    "time_series.quantile(q=0.25, axis=1).plot(title='25% Quantile');"
   ]
  },
  {
   "cell_type": "code",
   "execution_count": 15,
   "metadata": {},
   "outputs": [
    {
     "data": {
      "image/png": "[encoded data removed]",
      "text/plain": [
       "<Figure size 576x396 with 1 Axes>"
      ]
     },
     "metadata": {},
     "output_type": "display_data"
    }
   ],
   "source": [
    "time_series.quantile(q=0.50, axis=1).plot();"
   ]
  },
  {
   "cell_type": "code",
   "execution_count": 16,
   "metadata": {},
   "outputs": [
    {
     "data": {
      "image/png": "[encoded data removed]",
      "text/plain": [
       "<Figure size 576x396 with 1 Axes>"
      ]
     },
     "metadata": {},
     "output_type": "display_data"
    }
   ],
   "source": [
    "time_series.quantile(q=0.75, axis=1).plot();"
   ]
  },
  {
   "cell_type": "code",
   "execution_count": null,
   "metadata": {},
   "outputs": [],
   "source": []
  },
  {
   "cell_type": "code",
   "execution_count": null,
   "metadata": {},
   "outputs": [],
   "source": []
  },
  {
   "cell_type": "code",
   "execution_count": 18,
   "metadata": {},
   "outputs": [
    {
     "data": {
      "text/plain": [
       "0   101.13\n",
       "dtype: float64"
      ]
     },
     "execution_count": 18,
     "metadata": {},
     "output_type": "execute_result"
    }
   ],
   "source": [
    "pd.DataFrame(([105.56,97.54,95.87,99.89,102.40,103.71,102.23,98.13,103.38,102.56])).mean()"
   ]
  },
  {
   "cell_type": "code",
   "execution_count": 19,
   "metadata": {},
   "outputs": [
    {
     "data": {
      "text/plain": [
       "101.051"
      ]
     },
     "execution_count": 19,
     "metadata": {},
     "output_type": "execute_result"
    }
   ],
   "source": [
    "np.mean([106.51,97.53,95.91,98.67,98.55,109.58,100.80,96.46,105.67,100.83])"
   ]
  },
  {
   "cell_type": "code",
   "execution_count": 20,
   "metadata": {},
   "outputs": [
    {
     "data": {
      "text/plain": [
       "Close   0.07\n",
       "dtype: float64"
      ]
     },
     "execution_count": 20,
     "metadata": {},
     "output_type": "execute_result"
    }
   ],
   "source": [
    "mret"
   ]
  },
  {
   "cell_type": "code",
   "execution_count": 34,
   "metadata": {},
   "outputs": [
    {
     "name": "stdout",
     "output_type": "stream",
     "text": [
      "Wall time: 59.8 ms\n"
     ]
    }
   ],
   "source": [
    "%%time\n",
    "data = np.random.normal(loc=0.041, scale=0.041, size=[30, 10000])\n",
    "time_series = pl.compute_time_series(pd.DataFrame(data)) * 5\n",
    "quantiles = pd.DataFrame(time_series.quantile(q=0.20, axis=1))\n",
    "# quantiles['20'] = time_series.quantile(q=0.20, axis=1)\n",
    "quantiles['40'] = time_series.quantile(q=0.40, axis=1)\n",
    "quantiles['60'] = time_series.quantile(q=0.60, axis=1)\n",
    "quantiles['80'] = time_series.quantile(q=0.80, axis=1)\n",
    "quantiles.columns=['20Q', '40Q', '60Q', '80Q']\n",
    "\n",
    "dates = np.arange(2021, 2021+30)\n",
    "quantiles.set_index(dates, inplace=True)"
   ]
  },
  {
   "cell_type": "code",
   "execution_count": 40,
   "metadata": {},
   "outputs": [],
   "source": [
    "first_row = pd.DataFrame(np.array([[500, 500, 500, 500]]),\n",
    "                        columns=['20Q','40Q','60Q','80Q'], index=['2020'])"
   ]
  },
  {
   "cell_type": "code",
   "execution_count": 42,
   "metadata": {},
   "outputs": [
    {
     "data": {
      "text/html": [
       "<div>\n",
       "<style scoped>\n",
       "    .dataframe tbody tr th:only-of-type {\n",
       "        vertical-align: middle;\n",
       "    }\n",
       "\n",
       "    .dataframe tbody tr th {\n",
       "        vertical-align: top;\n",
       "    }\n",
       "\n",
       "    .dataframe thead th {\n",
       "        text-align: right;\n",
       "    }\n",
       "</style>\n",
       "<table border=\"1\" class=\"dataframe\">\n",
       "  <thead>\n",
       "    <tr style=\"text-align: right;\">\n",
       "      <th></th>\n",
       "      <th>20Q</th>\n",
       "      <th>40Q</th>\n",
       "      <th>60Q</th>\n",
       "      <th>80Q</th>\n",
       "    </tr>\n",
       "  </thead>\n",
       "  <tbody>\n",
       "    <tr>\n",
       "      <th>2020</th>\n",
       "      <td>500.00</td>\n",
       "      <td>500.00</td>\n",
       "      <td>500.00</td>\n",
       "      <td>500.00</td>\n",
       "    </tr>\n",
       "    <tr>\n",
       "      <th>2021</th>\n",
       "      <td>502.97</td>\n",
       "      <td>515.14</td>\n",
       "      <td>526.00</td>\n",
       "      <td>537.92</td>\n",
       "    </tr>\n",
       "    <tr>\n",
       "      <th>2022</th>\n",
       "      <td>516.06</td>\n",
       "      <td>534.11</td>\n",
       "      <td>549.05</td>\n",
       "      <td>566.94</td>\n",
       "    </tr>\n",
       "    <tr>\n",
       "      <th>2023</th>\n",
       "      <td>531.56</td>\n",
       "      <td>553.52</td>\n",
       "      <td>572.78</td>\n",
       "      <td>595.54</td>\n",
       "    </tr>\n",
       "    <tr>\n",
       "      <th>2024</th>\n",
       "      <td>548.07</td>\n",
       "      <td>574.12</td>\n",
       "      <td>597.17</td>\n",
       "      <td>625.57</td>\n",
       "    </tr>\n",
       "    <tr>\n",
       "      <th>...</th>\n",
       "      <td>...</td>\n",
       "      <td>...</td>\n",
       "      <td>...</td>\n",
       "      <td>...</td>\n",
       "    </tr>\n",
       "    <tr>\n",
       "      <th>2046</th>\n",
       "      <td>1,179.13</td>\n",
       "      <td>1,323.80</td>\n",
       "      <td>1,466.28</td>\n",
       "      <td>1,654.73</td>\n",
       "    </tr>\n",
       "    <tr>\n",
       "      <th>2047</th>\n",
       "      <td>1,224.05</td>\n",
       "      <td>1,376.43</td>\n",
       "      <td>1,529.37</td>\n",
       "      <td>1,731.22</td>\n",
       "    </tr>\n",
       "    <tr>\n",
       "      <th>2048</th>\n",
       "      <td>1,266.51</td>\n",
       "      <td>1,430.87</td>\n",
       "      <td>1,589.38</td>\n",
       "      <td>1,808.57</td>\n",
       "    </tr>\n",
       "    <tr>\n",
       "      <th>2049</th>\n",
       "      <td>1,313.98</td>\n",
       "      <td>1,488.83</td>\n",
       "      <td>1,657.65</td>\n",
       "      <td>1,884.57</td>\n",
       "    </tr>\n",
       "    <tr>\n",
       "      <th>2050</th>\n",
       "      <td>1,362.04</td>\n",
       "      <td>1,544.04</td>\n",
       "      <td>1,725.53</td>\n",
       "      <td>1,968.61</td>\n",
       "    </tr>\n",
       "  </tbody>\n",
       "</table>\n",
       "<p>31 rows × 4 columns</p>\n",
       "</div>"
      ],
      "text/plain": [
       "          20Q      40Q      60Q      80Q\n",
       "2020   500.00   500.00   500.00   500.00\n",
       "2021   502.97   515.14   526.00   537.92\n",
       "2022   516.06   534.11   549.05   566.94\n",
       "2023   531.56   553.52   572.78   595.54\n",
       "2024   548.07   574.12   597.17   625.57\n",
       "...       ...      ...      ...      ...\n",
       "2046 1,179.13 1,323.80 1,466.28 1,654.73\n",
       "2047 1,224.05 1,376.43 1,529.37 1,731.22\n",
       "2048 1,266.51 1,430.87 1,589.38 1,808.57\n",
       "2049 1,313.98 1,488.83 1,657.65 1,884.57\n",
       "2050 1,362.04 1,544.04 1,725.53 1,968.61\n",
       "\n",
       "[31 rows x 4 columns]"
      ]
     },
     "execution_count": 42,
     "metadata": {},
     "output_type": "execute_result"
    }
   ],
   "source": [
    "pd.concat([first_row, quantiles])"
   ]
  },
  {
   "cell_type": "code",
   "execution_count": 22,
   "metadata": {},
   "outputs": [
    {
     "data": {
      "application/vnd.plotly.v1+json": {
       "config": {
        "plotlyServerURL": "https://plot.ly"
       },
       "data": [
        {
         "line": {
          "color": "red"
         },
         "mode": "lines",
         "name": "20Q",
         "type": "scatter",
         "x": [
          2021,
          2022,
          2023,
          2024,
          2025,
          2026,
          2027,
          2028,
          2029,
          2030,
          2031,
          2032,
          2033,
          2034,
          2035,
          2036,
          2037,
          2038,
          2039,
          2040,
          2041,
          2042,
          2043,
          2044,
          2045,
          2046,
          2047,
          2048,
          2049,
          2050
         ],
         "y": [
          503.0484960337012,
          515.633950814013,
          530.5609815308013,
          546.9198971185144,
          564.2382456452199,
          582.41261888071,
          602.3925370305883,
          623.1958509333213,
          644.0265229688312,
          666.2660729581219,
          689.2011461032329,
          711.9341464928958,
          738.579917571716,
          765.2562810249494,
          793.6464961028003,
          820.6444468230266,
          849.6709104546052,
          880.4939740786181,
          910.6864371013412,
          944.7854450351178,
          981.6106639329337,
          1015.9762093519255,
          1054.3590794882368,
          1092.4861498148034,
          1131.2425875155836,
          1170.9713271890337,
          1214.6838503330475,
          1259.672380677203,
          1307.3905607879067,
          1356.3566735960337
         ]
        },
        {
         "fill": "tonexty",
         "fillcolor": "rgba(255, 0, 0, 0.4)",
         "line": {
          "color": "royalblue"
         },
         "mode": "lines",
         "name": "40Q",
         "type": "scatter",
         "x": [
          2021,
          2022,
          2023,
          2024,
          2025,
          2026,
          2027,
          2028,
          2029,
          2030,
          2031,
          2032,
          2033,
          2034,
          2035,
          2036,
          2037,
          2038,
          2039,
          2040,
          2041,
          2042,
          2043,
          2044,
          2045,
          2046,
          2047,
          2048,
          2049,
          2050
         ],
         "y": [
          515.0407809637086,
          533.0291009418422,
          553.2457268574237,
          574.0597754607797,
          594.8225517353466,
          617.5740259826537,
          641.6211627158059,
          666.450668172047,
          691.5723174203243,
          718.6976061938402,
          745.8246591490542,
          775.3313218371261,
          805.1990667303496,
          834.8901966162393,
          868.5585057014496,
          902.91940440601,
          936.9206961081308,
          974.0589378159555,
          1011.7888363619115,
          1051.2300862539453,
          1092.7339265578685,
          1134.9750912335735,
          1178.1988236409375,
          1227.3692344731485,
          1271.9110820954502,
          1318.4813638831536,
          1372.0394740027737,
          1424.8016344615062,
          1483.7064643902481,
          1545.5131551771865
         ]
        },
        {
         "fill": "tonexty",
         "fillcolor": "rgba(65, 105, 225, 0.6)",
         "line": {
          "color": "royalblue"
         },
         "mode": "lines",
         "name": "60Q",
         "type": "scatter",
         "x": [
          2021,
          2022,
          2023,
          2024,
          2025,
          2026,
          2027,
          2028,
          2029,
          2030,
          2031,
          2032,
          2033,
          2034,
          2035,
          2036,
          2037,
          2038,
          2039,
          2040,
          2041,
          2042,
          2043,
          2044,
          2045,
          2046,
          2047,
          2048,
          2049,
          2050
         ],
         "y": [
          525.5551993303942,
          548.9290401780562,
          572.9522211812708,
          597.4089409970333,
          622.8703493828979,
          649.0196429738461,
          675.6017516082869,
          703.9723275546673,
          734.7108475666412,
          766.6045277946314,
          798.4986729151999,
          831.3436401280371,
          865.8172673814017,
          901.1770734190892,
          937.9010968781781,
          976.5377433460003,
          1018.6071101347944,
          1060.192604033894,
          1104.3303651091194,
          1150.7345914763807,
          1199.0597915983722,
          1248.6351513481327,
          1296.6934793632759,
          1351.3761793862363,
          1406.3138744205914,
          1465.1695661305434,
          1524.0746793315034,
          1586.793833243346,
          1650.6409264456288,
          1720.5310811791574
         ]
        },
        {
         "fill": "tonexty",
         "fillcolor": "rgba(0,128,0, 0.4)",
         "line": {
          "color": "rgb(0,128,0)"
         },
         "mode": "lines",
         "name": "80Q",
         "type": "scatter",
         "x": [
          2021,
          2022,
          2023,
          2024,
          2025,
          2026,
          2027,
          2028,
          2029,
          2030,
          2031,
          2032,
          2033,
          2034,
          2035,
          2036,
          2037,
          2038,
          2039,
          2040,
          2041,
          2042,
          2043,
          2044,
          2045,
          2046,
          2047,
          2048,
          2049,
          2050
         ],
         "y": [
          537.6808729469399,
          567.2053924093741,
          596.3598334457336,
          625.8175906777711,
          655.5696403253253,
          685.9605685088379,
          717.5255801963017,
          751.3478617976623,
          786.7741275726399,
          823.5529727674927,
          861.2053785290867,
          900.6157547302986,
          939.7639999583623,
          983.4457910577827,
          1026.8203887972543,
          1074.3415817875716,
          1120.2318704374086,
          1167.9096971806937,
          1224.3760809500802,
          1275.8434347831285,
          1330.3386764665117,
          1390.5679630623877,
          1452.1314447205114,
          1515.543453713666,
          1582.2541816217847,
          1652.3092946456916,
          1725.2080542941526,
          1797.5375014893432,
          1877.7185614722473,
          1954.7726703625258
         ]
        }
       ],
       "layout": {
        "autosize": false,
        "height": 500,
        "margin": {
         "b": 100,
         "l": 50,
         "pad": 4,
         "r": 50,
         "t": 100
        },
        "paper_bgcolor": "whitesmoke",
        "template": {
         "data": {
          "bar": [
           {
            "error_x": {
             "color": "#2a3f5f"
            },
            "error_y": {
             "color": "#2a3f5f"
            },
            "marker": {
             "line": {
              "color": "#E5ECF6",
              "width": 0.5
             }
            },
            "type": "bar"
           }
          ],
          "barpolar": [
           {
            "marker": {
             "line": {
              "color": "#E5ECF6",
              "width": 0.5
             }
            },
            "type": "barpolar"
           }
          ],
          "carpet": [
           {
            "aaxis": {
             "endlinecolor": "#2a3f5f",
             "gridcolor": "white",
             "linecolor": "white",
             "minorgridcolor": "white",
             "startlinecolor": "#2a3f5f"
            },
            "baxis": {
             "endlinecolor": "#2a3f5f",
             "gridcolor": "white",
             "linecolor": "white",
             "minorgridcolor": "white",
             "startlinecolor": "#2a3f5f"
            },
            "type": "carpet"
           }
          ],
          "choropleth": [
           {
            "colorbar": {
             "outlinewidth": 0,
             "ticks": ""
            },
            "type": "choropleth"
           }
          ],
          "contour": [
           {
            "colorbar": {
             "outlinewidth": 0,
             "ticks": ""
            },
            "colorscale": [
             [
              0,
              "#0d0887"
             ],
             [
              0.1111111111111111,
              "#46039f"
             ],
             [
              0.2222222222222222,
              "#7201a8"
             ],
             [
              0.3333333333333333,
              "#9c179e"
             ],
             [
              0.4444444444444444,
              "#bd3786"
             ],
             [
              0.5555555555555556,
              "#d8576b"
             ],
             [
              0.6666666666666666,
              "#ed7953"
             ],
             [
              0.7777777777777778,
              "#fb9f3a"
             ],
             [
              0.8888888888888888,
              "#fdca26"
             ],
             [
              1,
              "#f0f921"
             ]
            ],
            "type": "contour"
           }
          ],
          "contourcarpet": [
           {
            "colorbar": {
             "outlinewidth": 0,
             "ticks": ""
            },
            "type": "contourcarpet"
           }
          ],
          "heatmap": [
           {
            "colorbar": {
             "outlinewidth": 0,
             "ticks": ""
            },
            "colorscale": [
             [
              0,
              "#0d0887"
             ],
             [
              0.1111111111111111,
              "#46039f"
             ],
             [
              0.2222222222222222,
              "#7201a8"
             ],
             [
              0.3333333333333333,
              "#9c179e"
             ],
             [
              0.4444444444444444,
              "#bd3786"
             ],
             [
              0.5555555555555556,
              "#d8576b"
             ],
             [
              0.6666666666666666,
              "#ed7953"
             ],
             [
              0.7777777777777778,
              "#fb9f3a"
             ],
             [
              0.8888888888888888,
              "#fdca26"
             ],
             [
              1,
              "#f0f921"
             ]
            ],
            "type": "heatmap"
           }
          ],
          "heatmapgl": [
           {
            "colorbar": {
             "outlinewidth": 0,
             "ticks": ""
            },
            "colorscale": [
             [
              0,
              "#0d0887"
             ],
             [
              0.1111111111111111,
              "#46039f"
             ],
             [
              0.2222222222222222,
              "#7201a8"
             ],
             [
              0.3333333333333333,
              "#9c179e"
             ],
             [
              0.4444444444444444,
              "#bd3786"
             ],
             [
              0.5555555555555556,
              "#d8576b"
             ],
             [
              0.6666666666666666,
              "#ed7953"
             ],
             [
              0.7777777777777778,
              "#fb9f3a"
             ],
             [
              0.8888888888888888,
              "#fdca26"
             ],
             [
              1,
              "#f0f921"
             ]
            ],
            "type": "heatmapgl"
           }
          ],
          "histogram": [
           {
            "marker": {
             "colorbar": {
              "outlinewidth": 0,
              "ticks": ""
             }
            },
            "type": "histogram"
           }
          ],
          "histogram2d": [
           {
            "colorbar": {
             "outlinewidth": 0,
             "ticks": ""
            },
            "colorscale": [
             [
              0,
              "#0d0887"
             ],
             [
              0.1111111111111111,
              "#46039f"
             ],
             [
              0.2222222222222222,
              "#7201a8"
             ],
             [
              0.3333333333333333,
              "#9c179e"
             ],
             [
              0.4444444444444444,
              "#bd3786"
             ],
             [
              0.5555555555555556,
              "#d8576b"
             ],
             [
              0.6666666666666666,
              "#ed7953"
             ],
             [
              0.7777777777777778,
              "#fb9f3a"
             ],
             [
              0.8888888888888888,
              "#fdca26"
             ],
             [
              1,
              "#f0f921"
             ]
            ],
            "type": "histogram2d"
           }
          ],
          "histogram2dcontour": [
           {
            "colorbar": {
             "outlinewidth": 0,
             "ticks": ""
            },
            "colorscale": [
             [
              0,
              "#0d0887"
             ],
             [
              0.1111111111111111,
              "#46039f"
             ],
             [
              0.2222222222222222,
              "#7201a8"
             ],
             [
              0.3333333333333333,
              "#9c179e"
             ],
             [
              0.4444444444444444,
              "#bd3786"
             ],
             [
              0.5555555555555556,
              "#d8576b"
             ],
             [
              0.6666666666666666,
              "#ed7953"
             ],
             [
              0.7777777777777778,
              "#fb9f3a"
             ],
             [
              0.8888888888888888,
              "#fdca26"
             ],
             [
              1,
              "#f0f921"
             ]
            ],
            "type": "histogram2dcontour"
           }
          ],
          "mesh3d": [
           {
            "colorbar": {
             "outlinewidth": 0,
             "ticks": ""
            },
            "type": "mesh3d"
           }
          ],
          "parcoords": [
           {
            "line": {
             "colorbar": {
              "outlinewidth": 0,
              "ticks": ""
             }
            },
            "type": "parcoords"
           }
          ],
          "pie": [
           {
            "automargin": true,
            "type": "pie"
           }
          ],
          "scatter": [
           {
            "marker": {
             "colorbar": {
              "outlinewidth": 0,
              "ticks": ""
             }
            },
            "type": "scatter"
           }
          ],
          "scatter3d": [
           {
            "line": {
             "colorbar": {
              "outlinewidth": 0,
              "ticks": ""
             }
            },
            "marker": {
             "colorbar": {
              "outlinewidth": 0,
              "ticks": ""
             }
            },
            "type": "scatter3d"
           }
          ],
          "scattercarpet": [
           {
            "marker": {
             "colorbar": {
              "outlinewidth": 0,
              "ticks": ""
             }
            },
            "type": "scattercarpet"
           }
          ],
          "scattergeo": [
           {
            "marker": {
             "colorbar": {
              "outlinewidth": 0,
              "ticks": ""
             }
            },
            "type": "scattergeo"
           }
          ],
          "scattergl": [
           {
            "marker": {
             "colorbar": {
              "outlinewidth": 0,
              "ticks": ""
             }
            },
            "type": "scattergl"
           }
          ],
          "scattermapbox": [
           {
            "marker": {
             "colorbar": {
              "outlinewidth": 0,
              "ticks": ""
             }
            },
            "type": "scattermapbox"
           }
          ],
          "scatterpolar": [
           {
            "marker": {
             "colorbar": {
              "outlinewidth": 0,
              "ticks": ""
             }
            },
            "type": "scatterpolar"
           }
          ],
          "scatterpolargl": [
           {
            "marker": {
             "colorbar": {
              "outlinewidth": 0,
              "ticks": ""
             }
            },
            "type": "scatterpolargl"
           }
          ],
          "scatterternary": [
           {
            "marker": {
             "colorbar": {
              "outlinewidth": 0,
              "ticks": ""
             }
            },
            "type": "scatterternary"
           }
          ],
          "surface": [
           {
            "colorbar": {
             "outlinewidth": 0,
             "ticks": ""
            },
            "colorscale": [
             [
              0,
              "#0d0887"
             ],
             [
              0.1111111111111111,
              "#46039f"
             ],
             [
              0.2222222222222222,
              "#7201a8"
             ],
             [
              0.3333333333333333,
              "#9c179e"
             ],
             [
              0.4444444444444444,
              "#bd3786"
             ],
             [
              0.5555555555555556,
              "#d8576b"
             ],
             [
              0.6666666666666666,
              "#ed7953"
             ],
             [
              0.7777777777777778,
              "#fb9f3a"
             ],
             [
              0.8888888888888888,
              "#fdca26"
             ],
             [
              1,
              "#f0f921"
             ]
            ],
            "type": "surface"
           }
          ],
          "table": [
           {
            "cells": {
             "fill": {
              "color": "#EBF0F8"
             },
             "line": {
              "color": "white"
             }
            },
            "header": {
             "fill": {
              "color": "#C8D4E3"
             },
             "line": {
              "color": "white"
             }
            },
            "type": "table"
           }
          ]
         },
         "layout": {
          "annotationdefaults": {
           "arrowcolor": "#2a3f5f",
           "arrowhead": 0,
           "arrowwidth": 1
          },
          "autotypenumbers": "strict",
          "coloraxis": {
           "colorbar": {
            "outlinewidth": 0,
            "ticks": ""
           }
          },
          "colorscale": {
           "diverging": [
            [
             0,
             "#8e0152"
            ],
            [
             0.1,
             "#c51b7d"
            ],
            [
             0.2,
             "#de77ae"
            ],
            [
             0.3,
             "#f1b6da"
            ],
            [
             0.4,
             "#fde0ef"
            ],
            [
             0.5,
             "#f7f7f7"
            ],
            [
             0.6,
             "#e6f5d0"
            ],
            [
             0.7,
             "#b8e186"
            ],
            [
             0.8,
             "#7fbc41"
            ],
            [
             0.9,
             "#4d9221"
            ],
            [
             1,
             "#276419"
            ]
           ],
           "sequential": [
            [
             0,
             "#0d0887"
            ],
            [
             0.1111111111111111,
             "#46039f"
            ],
            [
             0.2222222222222222,
             "#7201a8"
            ],
            [
             0.3333333333333333,
             "#9c179e"
            ],
            [
             0.4444444444444444,
             "#bd3786"
            ],
            [
             0.5555555555555556,
             "#d8576b"
            ],
            [
             0.6666666666666666,
             "#ed7953"
            ],
            [
             0.7777777777777778,
             "#fb9f3a"
            ],
            [
             0.8888888888888888,
             "#fdca26"
            ],
            [
             1,
             "#f0f921"
            ]
           ],
           "sequentialminus": [
            [
             0,
             "#0d0887"
            ],
            [
             0.1111111111111111,
             "#46039f"
            ],
            [
             0.2222222222222222,
             "#7201a8"
            ],
            [
             0.3333333333333333,
             "#9c179e"
            ],
            [
             0.4444444444444444,
             "#bd3786"
            ],
            [
             0.5555555555555556,
             "#d8576b"
            ],
            [
             0.6666666666666666,
             "#ed7953"
            ],
            [
             0.7777777777777778,
             "#fb9f3a"
            ],
            [
             0.8888888888888888,
             "#fdca26"
            ],
            [
             1,
             "#f0f921"
            ]
           ]
          },
          "colorway": [
           "#636efa",
           "#EF553B",
           "#00cc96",
           "#ab63fa",
           "#FFA15A",
           "#19d3f3",
           "#FF6692",
           "#B6E880",
           "#FF97FF",
           "#FECB52"
          ],
          "font": {
           "color": "#2a3f5f"
          },
          "geo": {
           "bgcolor": "white",
           "lakecolor": "white",
           "landcolor": "#E5ECF6",
           "showlakes": true,
           "showland": true,
           "subunitcolor": "white"
          },
          "hoverlabel": {
           "align": "left"
          },
          "hovermode": "closest",
          "mapbox": {
           "style": "light"
          },
          "paper_bgcolor": "white",
          "plot_bgcolor": "#E5ECF6",
          "polar": {
           "angularaxis": {
            "gridcolor": "white",
            "linecolor": "white",
            "ticks": ""
           },
           "bgcolor": "#E5ECF6",
           "radialaxis": {
            "gridcolor": "white",
            "linecolor": "white",
            "ticks": ""
           }
          },
          "scene": {
           "xaxis": {
            "backgroundcolor": "#E5ECF6",
            "gridcolor": "white",
            "gridwidth": 2,
            "linecolor": "white",
            "showbackground": true,
            "ticks": "",
            "zerolinecolor": "white"
           },
           "yaxis": {
            "backgroundcolor": "#E5ECF6",
            "gridcolor": "white",
            "gridwidth": 2,
            "linecolor": "white",
            "showbackground": true,
            "ticks": "",
            "zerolinecolor": "white"
           },
           "zaxis": {
            "backgroundcolor": "#E5ECF6",
            "gridcolor": "white",
            "gridwidth": 2,
            "linecolor": "white",
            "showbackground": true,
            "ticks": "",
            "zerolinecolor": "white"
           }
          },
          "shapedefaults": {
           "line": {
            "color": "#2a3f5f"
           }
          },
          "ternary": {
           "aaxis": {
            "gridcolor": "white",
            "linecolor": "white",
            "ticks": ""
           },
           "baxis": {
            "gridcolor": "white",
            "linecolor": "white",
            "ticks": ""
           },
           "bgcolor": "#E5ECF6",
           "caxis": {
            "gridcolor": "white",
            "linecolor": "white",
            "ticks": ""
           }
          },
          "title": {
           "x": 0.05
          },
          "xaxis": {
           "automargin": true,
           "gridcolor": "white",
           "linecolor": "white",
           "ticks": "",
           "title": {
            "standoff": 15
           },
           "zerolinecolor": "white",
           "zerolinewidth": 2
          },
          "yaxis": {
           "automargin": true,
           "gridcolor": "white",
           "linecolor": "white",
           "ticks": "",
           "title": {
            "standoff": 15
           },
           "zerolinecolor": "white",
           "zerolinewidth": 2
          }
         }
        },
        "title": {
         "text": "Simulação equivalente ao SMART Moderado (desvio padrão realista de 7%), 10000 iterações, 30 anos"
        },
        "width": 1000,
        "xaxis": {
         "autorange": true,
         "range": [
          2021,
          2050
         ],
         "type": "linear"
        },
        "yaxis": {
         "autorange": true,
         "range": [
          422.3971530154332,
          2035.424013380794
         ],
         "type": "linear"
        }
       }
      },
      "image/png": "[encoded data removed]",
      "text/html": [
       "<div>                            <div id=\"134331c6-b672-4909-b9b5-ec4978c8ad66\" class=\"plotly-graph-div\" style=\"height:500px; width:1000px;\"></div>            <script type=\"text/javascript\">                require([\"plotly\"], function(Plotly) {                    window.PLOTLYENV=window.PLOTLYENV || {};                                    if (document.getElementById(\"134331c6-b672-4909-b9b5-ec4978c8ad66\")) {                    Plotly.newPlot(                        \"134331c6-b672-4909-b9b5-ec4978c8ad66\",                        [{\"line\": {\"color\": \"red\"}, \"mode\": \"lines\", \"name\": \"20Q\", \"type\": \"scatter\", \"x\": [2021, 2022, 2023, 2024, 2025, 2026, 2027, 2028, 2029, 2030, 2031, 2032, 2033, 2034, 2035, 2036, 2037, 2038, 2039, 2040, 2041, 2042, 2043, 2044, 2045, 2046, 2047, 2048, 2049, 2050], \"y\": [503.0484960337012, 515.633950814013, 530.5609815308013, 546.9198971185144, 564.2382456452199, 582.41261888071, 602.3925370305883, 623.1958509333213, 644.0265229688312, 666.2660729581219, 689.2011461032329, 711.9341464928958, 738.579917571716, 765.2562810249494, 793.6464961028003, 820.6444468230266, 849.6709104546052, 880.4939740786181, 910.6864371013412, 944.7854450351178, 981.6106639329337, 1015.9762093519255, 1054.3590794882368, 1092.4861498148034, 1131.2425875155836, 1170.9713271890337, 1214.6838503330475, 1259.672380677203, 1307.3905607879067, 1356.3566735960337]}, {\"fill\": \"tonexty\", \"fillcolor\": \"rgba(255, 0, 0, 0.4)\", \"line\": {\"color\": \"royalblue\"}, \"mode\": \"lines\", \"name\": \"40Q\", \"type\": \"scatter\", \"x\": [2021, 2022, 2023, 2024, 2025, 2026, 2027, 2028, 2029, 2030, 2031, 2032, 2033, 2034, 2035, 2036, 2037, 2038, 2039, 2040, 2041, 2042, 2043, 2044, 2045, 2046, 2047, 2048, 2049, 2050], \"y\": [515.0407809637086, 533.0291009418422, 553.2457268574237, 574.0597754607797, 594.8225517353466, 617.5740259826537, 641.6211627158059, 666.450668172047, 691.5723174203243, 718.6976061938402, 745.8246591490542, 775.3313218371261, 805.1990667303496, 834.8901966162393, 868.5585057014496, 902.91940440601, 936.9206961081308, 974.0589378159555, 1011.7888363619115, 1051.2300862539453, 1092.7339265578685, 1134.9750912335735, 1178.1988236409375, 1227.3692344731485, 1271.9110820954502, 1318.4813638831536, 1372.0394740027737, 1424.8016344615062, 1483.7064643902481, 1545.5131551771865]}, {\"fill\": \"tonexty\", \"fillcolor\": \"rgba(65, 105, 225, 0.6)\", \"line\": {\"color\": \"royalblue\"}, \"mode\": \"lines\", \"name\": \"60Q\", \"type\": \"scatter\", \"x\": [2021, 2022, 2023, 2024, 2025, 2026, 2027, 2028, 2029, 2030, 2031, 2032, 2033, 2034, 2035, 2036, 2037, 2038, 2039, 2040, 2041, 2042, 2043, 2044, 2045, 2046, 2047, 2048, 2049, 2050], \"y\": [525.5551993303942, 548.9290401780562, 572.9522211812708, 597.4089409970333, 622.8703493828979, 649.0196429738461, 675.6017516082869, 703.9723275546673, 734.7108475666412, 766.6045277946314, 798.4986729151999, 831.3436401280371, 865.8172673814017, 901.1770734190892, 937.9010968781781, 976.5377433460003, 1018.6071101347944, 1060.192604033894, 1104.3303651091194, 1150.7345914763807, 1199.0597915983722, 1248.6351513481327, 1296.6934793632759, 1351.3761793862363, 1406.3138744205914, 1465.1695661305434, 1524.0746793315034, 1586.793833243346, 1650.6409264456288, 1720.5310811791574]}, {\"fill\": \"tonexty\", \"fillcolor\": \"rgba(0,128,0, 0.4)\", \"line\": {\"color\": \"rgb(0,128,0)\"}, \"mode\": \"lines\", \"name\": \"80Q\", \"type\": \"scatter\", \"x\": [2021, 2022, 2023, 2024, 2025, 2026, 2027, 2028, 2029, 2030, 2031, 2032, 2033, 2034, 2035, 2036, 2037, 2038, 2039, 2040, 2041, 2042, 2043, 2044, 2045, 2046, 2047, 2048, 2049, 2050], \"y\": [537.6808729469399, 567.2053924093741, 596.3598334457336, 625.8175906777711, 655.5696403253253, 685.9605685088379, 717.5255801963017, 751.3478617976623, 786.7741275726399, 823.5529727674927, 861.2053785290867, 900.6157547302986, 939.7639999583623, 983.4457910577827, 1026.8203887972543, 1074.3415817875716, 1120.2318704374086, 1167.9096971806937, 1224.3760809500802, 1275.8434347831285, 1330.3386764665117, 1390.5679630623877, 1452.1314447205114, 1515.543453713666, 1582.2541816217847, 1652.3092946456916, 1725.2080542941526, 1797.5375014893432, 1877.7185614722473, 1954.7726703625258]}],                        {\"autosize\": false, \"height\": 500, \"margin\": {\"b\": 100, \"l\": 50, \"pad\": 4, \"r\": 50, \"t\": 100}, \"paper_bgcolor\": \"whitesmoke\", \"template\": {\"data\": {\"bar\": [{\"error_x\": {\"color\": \"#2a3f5f\"}, \"error_y\": {\"color\": \"#2a3f5f\"}, \"marker\": {\"line\": {\"color\": \"#E5ECF6\", \"width\": 0.5}}, \"type\": \"bar\"}], \"barpolar\": [{\"marker\": {\"line\": {\"color\": \"#E5ECF6\", \"width\": 0.5}}, \"type\": \"barpolar\"}], \"carpet\": [{\"aaxis\": {\"endlinecolor\": \"#2a3f5f\", \"gridcolor\": \"white\", \"linecolor\": \"white\", \"minorgridcolor\": \"white\", \"startlinecolor\": \"#2a3f5f\"}, \"baxis\": {\"endlinecolor\": \"#2a3f5f\", \"gridcolor\": \"white\", \"linecolor\": \"white\", \"minorgridcolor\": \"white\", \"startlinecolor\": \"#2a3f5f\"}, \"type\": \"carpet\"}], \"choropleth\": [{\"colorbar\": {\"outlinewidth\": 0, \"ticks\": \"\"}, \"type\": \"choropleth\"}], \"contour\": [{\"colorbar\": {\"outlinewidth\": 0, \"ticks\": \"\"}, \"colorscale\": [[0.0, \"#0d0887\"], [0.1111111111111111, \"#46039f\"], [0.2222222222222222, \"#7201a8\"], [0.3333333333333333, \"#9c179e\"], [0.4444444444444444, \"#bd3786\"], [0.5555555555555556, \"#d8576b\"], [0.6666666666666666, \"#ed7953\"], [0.7777777777777778, \"#fb9f3a\"], [0.8888888888888888, \"#fdca26\"], [1.0, \"#f0f921\"]], \"type\": \"contour\"}], \"contourcarpet\": [{\"colorbar\": {\"outlinewidth\": 0, \"ticks\": \"\"}, \"type\": \"contourcarpet\"}], \"heatmap\": [{\"colorbar\": {\"outlinewidth\": 0, \"ticks\": \"\"}, \"colorscale\": [[0.0, \"#0d0887\"], [0.1111111111111111, \"#46039f\"], [0.2222222222222222, \"#7201a8\"], [0.3333333333333333, \"#9c179e\"], [0.4444444444444444, \"#bd3786\"], [0.5555555555555556, \"#d8576b\"], [0.6666666666666666, \"#ed7953\"], [0.7777777777777778, \"#fb9f3a\"], [0.8888888888888888, \"#fdca26\"], [1.0, \"#f0f921\"]], \"type\": \"heatmap\"}], \"heatmapgl\": [{\"colorbar\": {\"outlinewidth\": 0, \"ticks\": \"\"}, \"colorscale\": [[0.0, \"#0d0887\"], [0.1111111111111111, \"#46039f\"], [0.2222222222222222, \"#7201a8\"], [0.3333333333333333, \"#9c179e\"], [0.4444444444444444, \"#bd3786\"], [0.5555555555555556, \"#d8576b\"], [0.6666666666666666, \"#ed7953\"], [0.7777777777777778, \"#fb9f3a\"], [0.8888888888888888, \"#fdca26\"], [1.0, \"#f0f921\"]], \"type\": \"heatmapgl\"}], \"histogram\": [{\"marker\": {\"colorbar\": {\"outlinewidth\": 0, \"ticks\": \"\"}}, \"type\": \"histogram\"}], \"histogram2d\": [{\"colorbar\": {\"outlinewidth\": 0, \"ticks\": \"\"}, \"colorscale\": [[0.0, \"#0d0887\"], [0.1111111111111111, \"#46039f\"], [0.2222222222222222, \"#7201a8\"], [0.3333333333333333, \"#9c179e\"], [0.4444444444444444, \"#bd3786\"], [0.5555555555555556, \"#d8576b\"], [0.6666666666666666, \"#ed7953\"], [0.7777777777777778, \"#fb9f3a\"], [0.8888888888888888, \"#fdca26\"], [1.0, \"#f0f921\"]], \"type\": \"histogram2d\"}], \"histogram2dcontour\": [{\"colorbar\": {\"outlinewidth\": 0, \"ticks\": \"\"}, \"colorscale\": [[0.0, \"#0d0887\"], [0.1111111111111111, \"#46039f\"], [0.2222222222222222, \"#7201a8\"], [0.3333333333333333, \"#9c179e\"], [0.4444444444444444, \"#bd3786\"], [0.5555555555555556, \"#d8576b\"], [0.6666666666666666, \"#ed7953\"], [0.7777777777777778, \"#fb9f3a\"], [0.8888888888888888, \"#fdca26\"], [1.0, \"#f0f921\"]], \"type\": \"histogram2dcontour\"}], \"mesh3d\": [{\"colorbar\": {\"outlinewidth\": 0, \"ticks\": \"\"}, \"type\": \"mesh3d\"}], \"parcoords\": [{\"line\": {\"colorbar\": {\"outlinewidth\": 0, \"ticks\": \"\"}}, \"type\": \"parcoords\"}], \"pie\": [{\"automargin\": true, \"type\": \"pie\"}], \"scatter\": [{\"marker\": {\"colorbar\": {\"outlinewidth\": 0, \"ticks\": \"\"}}, \"type\": \"scatter\"}], \"scatter3d\": [{\"line\": {\"colorbar\": {\"outlinewidth\": 0, \"ticks\": \"\"}}, \"marker\": {\"colorbar\": {\"outlinewidth\": 0, \"ticks\": \"\"}}, \"type\": \"scatter3d\"}], \"scattercarpet\": [{\"marker\": {\"colorbar\": {\"outlinewidth\": 0, \"ticks\": \"\"}}, \"type\": \"scattercarpet\"}], \"scattergeo\": [{\"marker\": {\"colorbar\": {\"outlinewidth\": 0, \"ticks\": \"\"}}, \"type\": \"scattergeo\"}], \"scattergl\": [{\"marker\": {\"colorbar\": {\"outlinewidth\": 0, \"ticks\": \"\"}}, \"type\": \"scattergl\"}], \"scattermapbox\": [{\"marker\": {\"colorbar\": {\"outlinewidth\": 0, \"ticks\": \"\"}}, \"type\": \"scattermapbox\"}], \"scatterpolar\": [{\"marker\": {\"colorbar\": {\"outlinewidth\": 0, \"ticks\": \"\"}}, \"type\": \"scatterpolar\"}], \"scatterpolargl\": [{\"marker\": {\"colorbar\": {\"outlinewidth\": 0, \"ticks\": \"\"}}, \"type\": \"scatterpolargl\"}], \"scatterternary\": [{\"marker\": {\"colorbar\": {\"outlinewidth\": 0, \"ticks\": \"\"}}, \"type\": \"scatterternary\"}], \"surface\": [{\"colorbar\": {\"outlinewidth\": 0, \"ticks\": \"\"}, \"colorscale\": [[0.0, \"#0d0887\"], [0.1111111111111111, \"#46039f\"], [0.2222222222222222, \"#7201a8\"], [0.3333333333333333, \"#9c179e\"], [0.4444444444444444, \"#bd3786\"], [0.5555555555555556, \"#d8576b\"], [0.6666666666666666, \"#ed7953\"], [0.7777777777777778, \"#fb9f3a\"], [0.8888888888888888, \"#fdca26\"], [1.0, \"#f0f921\"]], \"type\": \"surface\"}], \"table\": [{\"cells\": {\"fill\": {\"color\": \"#EBF0F8\"}, \"line\": {\"color\": \"white\"}}, \"header\": {\"fill\": {\"color\": \"#C8D4E3\"}, \"line\": {\"color\": \"white\"}}, \"type\": \"table\"}]}, \"layout\": {\"annotationdefaults\": {\"arrowcolor\": \"#2a3f5f\", \"arrowhead\": 0, \"arrowwidth\": 1}, \"autotypenumbers\": \"strict\", \"coloraxis\": {\"colorbar\": {\"outlinewidth\": 0, \"ticks\": \"\"}}, \"colorscale\": {\"diverging\": [[0, \"#8e0152\"], [0.1, \"#c51b7d\"], [0.2, \"#de77ae\"], [0.3, \"#f1b6da\"], [0.4, \"#fde0ef\"], [0.5, \"#f7f7f7\"], [0.6, \"#e6f5d0\"], [0.7, \"#b8e186\"], [0.8, \"#7fbc41\"], [0.9, \"#4d9221\"], [1, \"#276419\"]], \"sequential\": [[0.0, \"#0d0887\"], [0.1111111111111111, \"#46039f\"], [0.2222222222222222, \"#7201a8\"], [0.3333333333333333, \"#9c179e\"], [0.4444444444444444, \"#bd3786\"], [0.5555555555555556, \"#d8576b\"], [0.6666666666666666, \"#ed7953\"], [0.7777777777777778, \"#fb9f3a\"], [0.8888888888888888, \"#fdca26\"], [1.0, \"#f0f921\"]], \"sequentialminus\": [[0.0, \"#0d0887\"], [0.1111111111111111, \"#46039f\"], [0.2222222222222222, \"#7201a8\"], [0.3333333333333333, \"#9c179e\"], [0.4444444444444444, \"#bd3786\"], [0.5555555555555556, \"#d8576b\"], [0.6666666666666666, \"#ed7953\"], [0.7777777777777778, \"#fb9f3a\"], [0.8888888888888888, \"#fdca26\"], [1.0, \"#f0f921\"]]}, \"colorway\": [\"#636efa\", \"#EF553B\", \"#00cc96\", \"#ab63fa\", \"#FFA15A\", \"#19d3f3\", \"#FF6692\", \"#B6E880\", \"#FF97FF\", \"#FECB52\"], \"font\": {\"color\": \"#2a3f5f\"}, \"geo\": {\"bgcolor\": \"white\", \"lakecolor\": \"white\", \"landcolor\": \"#E5ECF6\", \"showlakes\": true, \"showland\": true, \"subunitcolor\": \"white\"}, \"hoverlabel\": {\"align\": \"left\"}, \"hovermode\": \"closest\", \"mapbox\": {\"style\": \"light\"}, \"paper_bgcolor\": \"white\", \"plot_bgcolor\": \"#E5ECF6\", \"polar\": {\"angularaxis\": {\"gridcolor\": \"white\", \"linecolor\": \"white\", \"ticks\": \"\"}, \"bgcolor\": \"#E5ECF6\", \"radialaxis\": {\"gridcolor\": \"white\", \"linecolor\": \"white\", \"ticks\": \"\"}}, \"scene\": {\"xaxis\": {\"backgroundcolor\": \"#E5ECF6\", \"gridcolor\": \"white\", \"gridwidth\": 2, \"linecolor\": \"white\", \"showbackground\": true, \"ticks\": \"\", \"zerolinecolor\": \"white\"}, \"yaxis\": {\"backgroundcolor\": \"#E5ECF6\", \"gridcolor\": \"white\", \"gridwidth\": 2, \"linecolor\": \"white\", \"showbackground\": true, \"ticks\": \"\", \"zerolinecolor\": \"white\"}, \"zaxis\": {\"backgroundcolor\": \"#E5ECF6\", \"gridcolor\": \"white\", \"gridwidth\": 2, \"linecolor\": \"white\", \"showbackground\": true, \"ticks\": \"\", \"zerolinecolor\": \"white\"}}, \"shapedefaults\": {\"line\": {\"color\": \"#2a3f5f\"}}, \"ternary\": {\"aaxis\": {\"gridcolor\": \"white\", \"linecolor\": \"white\", \"ticks\": \"\"}, \"baxis\": {\"gridcolor\": \"white\", \"linecolor\": \"white\", \"ticks\": \"\"}, \"bgcolor\": \"#E5ECF6\", \"caxis\": {\"gridcolor\": \"white\", \"linecolor\": \"white\", \"ticks\": \"\"}}, \"title\": {\"x\": 0.05}, \"xaxis\": {\"automargin\": true, \"gridcolor\": \"white\", \"linecolor\": \"white\", \"ticks\": \"\", \"title\": {\"standoff\": 15}, \"zerolinecolor\": \"white\", \"zerolinewidth\": 2}, \"yaxis\": {\"automargin\": true, \"gridcolor\": \"white\", \"linecolor\": \"white\", \"ticks\": \"\", \"title\": {\"standoff\": 15}, \"zerolinecolor\": \"white\", \"zerolinewidth\": 2}}}, \"title\": {\"text\": \"Simula\\u00e7\\u00e3o equivalente ao SMART Moderado (desvio padr\\u00e3o realista de 7%), 10000 itera\\u00e7\\u00f5es, 30 anos\"}, \"width\": 1000},                        {\"responsive\": true}                    ).then(function(){\n",
       "                            \n",
       "var gd = document.getElementById('134331c6-b672-4909-b9b5-ec4978c8ad66');\n",
       "var x = new MutationObserver(function (mutations, observer) {{\n",
       "        var display = window.getComputedStyle(gd).display;\n",
       "        if (!display || display === 'none') {{\n",
       "            console.log([gd, 'removed!']);\n",
       "            Plotly.purge(gd);\n",
       "            observer.disconnect();\n",
       "        }}\n",
       "}});\n",
       "\n",
       "// Listen for the removal of the full notebook cells\n",
       "var notebookContainer = gd.closest('#notebook-container');\n",
       "if (notebookContainer) {{\n",
       "    x.observe(notebookContainer, {childList: true});\n",
       "}}\n",
       "\n",
       "// Listen for the clearing of the current output cell\n",
       "var outputEl = gd.closest('.output');\n",
       "if (outputEl) {{\n",
       "    x.observe(outputEl, {childList: true});\n",
       "}}\n",
       "\n",
       "                        })                };                });            </script>        </div>"
      ]
     },
     "metadata": {},
     "output_type": "display_data"
    }
   ],
   "source": [
    "fig = go.Figure()\n",
    "fig.add_trace(go.Scatter(y=quantiles['20Q'], x=quantiles.index,\n",
    "    fill=None,\n",
    "    mode='lines',\n",
    "    line_color='red',\n",
    "    name=\"20Q\"\n",
    "    ))\n",
    "fig.add_trace(go.Scatter(y=quantiles['40Q'], x=quantiles.index,\n",
    "    fill='tonexty',\n",
    "    mode='lines',\n",
    "    line_color='royalblue',\n",
    "    fillcolor='rgba(255, 0, 0, 0.4)',\n",
    "    name=\"40Q\"\n",
    "    ))\n",
    "fig.add_trace(go.Scatter(y=quantiles['60Q'], x=quantiles.index,\n",
    "    fill='tonexty',\n",
    "    mode='lines',\n",
    "    line_color='royalblue',\n",
    "    fillcolor='rgba(65, 105, 225, 0.6)',\n",
    "    name=\"60Q\"\n",
    "    ))\n",
    "fig.add_trace(go.Scatter(y=quantiles['80Q'], x=quantiles.index,\n",
    "    fill='tonexty',\n",
    "    mode='lines',\n",
    "    line_color='rgb(0,128,0)',\n",
    "    fillcolor='rgba(0,128,0, 0.4)',\n",
    "    name=\"80Q\"\n",
    "    ))\n",
    "fig.update_layout(\n",
    "    title='Simulação equivalente ao SMART Moderado (desvio padrão realista de 7%), 10000 iterações, 30 anos',\n",
    "    autosize=False,\n",
    "    width=1000,\n",
    "    height=500,\n",
    "    margin=dict(\n",
    "        l=50,\n",
    "        r=50,\n",
    "        b=100,\n",
    "        t=100,\n",
    "        pad=4\n",
    "    ),\n",
    "    paper_bgcolor=\"whitesmoke\",\n",
    ")\n",
    "\n",
    "fig.show()"
   ]
  },
  {
   "cell_type": "markdown",
   "metadata": {},
   "source": [
    "# Reforços anuais"
   ]
  },
  {
   "cell_type": "code",
   "execution_count": 23,
   "metadata": {},
   "outputs": [
    {
     "name": "stdout",
     "output_type": "stream",
     "text": [
      "Wall time: 250 ms\n"
     ]
    }
   ],
   "source": [
    "%%time\n",
    "data = np.random.normal(loc=0.041, scale=0.072, size=[30, 10000])\n",
    "time_series = pl.compute_time_series(pd.DataFrame(data)) * 5\n",
    "reforços = pl.compute_time_series(pd.DataFrame(data)) * 6\n",
    "\n",
    "lista = []\n",
    "\n",
    "for i in np.arange(0, len(time_series)):\n",
    "    reforço = reforços.copy()\n",
    "    reforço = reforço.shift(periods=i)\n",
    "    reforço = reforço.replace(np.nan, 0)\n",
    "    lista.append(reforço)\n",
    "\n",
    "for i in np.arange(1, len(time_series)):\n",
    "    time_series = time_series + lista[i]\n",
    "    \n",
    "quantiles = pd.DataFrame(time_series.quantile(q=0.20, axis=1))\n",
    "quantiles['40'] = time_series.quantile(q=0.40, axis=1)\n",
    "quantiles['60'] = time_series.quantile(q=0.60, axis=1)\n",
    "quantiles['80'] = time_series.quantile(q=0.80, axis=1)\n",
    "quantiles.columns=['20Q', '40Q', '60Q', '80Q']"
   ]
  },
  {
   "cell_type": "code",
   "execution_count": 24,
   "metadata": {},
   "outputs": [
    {
     "data": {
      "application/vnd.plotly.v1+json": {
       "config": {
        "plotlyServerURL": "https://plot.ly"
       },
       "data": [
        {
         "line": {
          "color": "red"
         },
         "mode": "lines",
         "name": "20Q",
         "type": "scatter",
         "x": [
          0,
          1,
          2,
          3,
          4,
          5,
          6,
          7,
          8,
          9,
          10,
          11,
          12,
          13,
          14,
          15,
          16,
          17,
          18,
          19,
          20,
          21,
          22,
          23,
          24,
          25,
          26,
          27,
          28,
          29
         ],
         "y": [
          490.47198028620386,
          1091.2017000648168,
          1705.7145916736067,
          2333.5100561299328,
          2976.3377092720884,
          3635.5180744218696,
          4319.945315404568,
          5025.127158017237,
          5743.165781085807,
          6483.377114082648,
          7257.991644013421,
          8050.07514726069,
          8860.796656231132,
          9702.31945471679,
          10576.123912192923,
          11476.817698754661,
          12403.662635593355,
          13352.65606114278,
          14331.250311719023,
          15340.37086271707,
          16401.10707982902,
          17473.763351307134,
          18584.901952825177,
          19737.901861546554,
          20934.369262171815,
          22192.020434605707,
          23487.16296519372,
          24817.464718800256,
          26180.258099723877,
          27582.445306782167
         ]
        },
        {
         "fill": "tonexty",
         "fillcolor": "rgba(255, 0, 0, 0.5)",
         "line": {
          "color": "royalblue"
         },
         "mode": "lines",
         "name": "40Q",
         "type": "scatter",
         "x": [
          0,
          1,
          2,
          3,
          4,
          5,
          6,
          7,
          8,
          9,
          10,
          11,
          12,
          13,
          14,
          15,
          16,
          17,
          18,
          19,
          20,
          21,
          22,
          23,
          24,
          25,
          26,
          27,
          28,
          29
         ],
         "y": [
          511.19522945515973,
          1143.1785441689549,
          1795.9771650017442,
          2468.392445385547,
          3164.2222298601964,
          3887.166891819691,
          4640.689909724462,
          5414.635476617088,
          6213.399449281218,
          7042.804957678814,
          7904.833496371574,
          8800.551294265008,
          9731.979453471125,
          10697.633242687949,
          11692.320336007677,
          12738.650638245817,
          13809.048453767922,
          14928.604605928442,
          16090.126338711088,
          17280.064941614626,
          18502.82415888305,
          19788.111856354193,
          21117.80251440149,
          22501.90165663205,
          23927.184382658932,
          25434.21432671244,
          26950.007244220436,
          28558.19400416663,
          30227.93936048811,
          31951.464763264186
         ]
        },
        {
         "fill": "tonexty",
         "line": {
          "color": "royalblue"
         },
         "mode": "lines",
         "name": "60Q",
         "type": "scatter",
         "x": [
          0,
          1,
          2,
          3,
          4,
          5,
          6,
          7,
          8,
          9,
          10,
          11,
          12,
          13,
          14,
          15,
          16,
          17,
          18,
          19,
          20,
          21,
          22,
          23,
          24,
          25,
          26,
          27,
          28,
          29
         ],
         "y": [
          529.1655685133064,
          1186.61557870948,
          1872.6904345168637,
          2589.9616427382102,
          3336.5102057689437,
          4112.9312401074485,
          4920.487723293306,
          5766.0831221137305,
          6644.49945152286,
          7562.664574902203,
          8518.667283004466,
          9510.296859705195,
          10541.49325735648,
          11609.246567416492,
          12730.11533084614,
          13902.483843151585,
          15121.569839495642,
          16392.862137353884,
          17714.978422101354,
          19072.986976409844,
          20498.519443395984,
          22003.333718615497,
          23546.296191681446,
          25154.077237149744,
          26831.390337549572,
          28556.190131724048,
          30379.278072123685,
          32273.958923366383,
          34251.28877505814,
          36291.28251157047
         ]
        },
        {
         "fill": "tonexty",
         "line": {
          "color": "green"
         },
         "mode": "lines",
         "name": "80Q",
         "type": "scatter",
         "x": [
          0,
          1,
          2,
          3,
          4,
          5,
          6,
          7,
          8,
          9,
          10,
          11,
          12,
          13,
          14,
          15,
          16,
          17,
          18,
          19,
          20,
          21,
          22,
          23,
          24,
          25,
          26,
          27,
          28,
          29
         ],
         "y": [
          550.0679491004877,
          1239.0796446589827,
          1965.6152940160805,
          2733.0353407745188,
          3535.3652826315238,
          4387.313269433252,
          5277.101182485459,
          6217.287943977454,
          7201.036218642443,
          8231.871532690007,
          9294.827768881236,
          10422.35401183552,
          11606.122620843398,
          12832.002829630048,
          14114.84443498871,
          15455.682949633418,
          16857.62329387247,
          18310.292127414123,
          19839.860745086746,
          21466.87874880591,
          23146.42188057613,
          24924.687207086186,
          26757.432853000235,
          28663.173299141232,
          30657.57269709868,
          32771.779864365126,
          34982.841210449296,
          37334.477546241964,
          39729.75535945248,
          42226.48307333175
         ]
        }
       ],
       "layout": {
        "autosize": false,
        "height": 500,
        "margin": {
         "b": 100,
         "l": 50,
         "pad": 4,
         "r": 50,
         "t": 100
        },
        "paper_bgcolor": "whitesmoke",
        "template": {
         "data": {
          "bar": [
           {
            "error_x": {
             "color": "#2a3f5f"
            },
            "error_y": {
             "color": "#2a3f5f"
            },
            "marker": {
             "line": {
              "color": "#E5ECF6",
              "width": 0.5
             }
            },
            "type": "bar"
           }
          ],
          "barpolar": [
           {
            "marker": {
             "line": {
              "color": "#E5ECF6",
              "width": 0.5
             }
            },
            "type": "barpolar"
           }
          ],
          "carpet": [
           {
            "aaxis": {
             "endlinecolor": "#2a3f5f",
             "gridcolor": "white",
             "linecolor": "white",
             "minorgridcolor": "white",
             "startlinecolor": "#2a3f5f"
            },
            "baxis": {
             "endlinecolor": "#2a3f5f",
             "gridcolor": "white",
             "linecolor": "white",
             "minorgridcolor": "white",
             "startlinecolor": "#2a3f5f"
            },
            "type": "carpet"
           }
          ],
          "choropleth": [
           {
            "colorbar": {
             "outlinewidth": 0,
             "ticks": ""
            },
            "type": "choropleth"
           }
          ],
          "contour": [
           {
            "colorbar": {
             "outlinewidth": 0,
             "ticks": ""
            },
            "colorscale": [
             [
              0,
              "#0d0887"
             ],
             [
              0.1111111111111111,
              "#46039f"
             ],
             [
              0.2222222222222222,
              "#7201a8"
             ],
             [
              0.3333333333333333,
              "#9c179e"
             ],
             [
              0.4444444444444444,
              "#bd3786"
             ],
             [
              0.5555555555555556,
              "#d8576b"
             ],
             [
              0.6666666666666666,
              "#ed7953"
             ],
             [
              0.7777777777777778,
              "#fb9f3a"
             ],
             [
              0.8888888888888888,
              "#fdca26"
             ],
             [
              1,
              "#f0f921"
             ]
            ],
            "type": "contour"
           }
          ],
          "contourcarpet": [
           {
            "colorbar": {
             "outlinewidth": 0,
             "ticks": ""
            },
            "type": "contourcarpet"
           }
          ],
          "heatmap": [
           {
            "colorbar": {
             "outlinewidth": 0,
             "ticks": ""
            },
            "colorscale": [
             [
              0,
              "#0d0887"
             ],
             [
              0.1111111111111111,
              "#46039f"
             ],
             [
              0.2222222222222222,
              "#7201a8"
             ],
             [
              0.3333333333333333,
              "#9c179e"
             ],
             [
              0.4444444444444444,
              "#bd3786"
             ],
             [
              0.5555555555555556,
              "#d8576b"
             ],
             [
              0.6666666666666666,
              "#ed7953"
             ],
             [
              0.7777777777777778,
              "#fb9f3a"
             ],
             [
              0.8888888888888888,
              "#fdca26"
             ],
             [
              1,
              "#f0f921"
             ]
            ],
            "type": "heatmap"
           }
          ],
          "heatmapgl": [
           {
            "colorbar": {
             "outlinewidth": 0,
             "ticks": ""
            },
            "colorscale": [
             [
              0,
              "#0d0887"
             ],
             [
              0.1111111111111111,
              "#46039f"
             ],
             [
              0.2222222222222222,
              "#7201a8"
             ],
             [
              0.3333333333333333,
              "#9c179e"
             ],
             [
              0.4444444444444444,
              "#bd3786"
             ],
             [
              0.5555555555555556,
              "#d8576b"
             ],
             [
              0.6666666666666666,
              "#ed7953"
             ],
             [
              0.7777777777777778,
              "#fb9f3a"
             ],
             [
              0.8888888888888888,
              "#fdca26"
             ],
             [
              1,
              "#f0f921"
             ]
            ],
            "type": "heatmapgl"
           }
          ],
          "histogram": [
           {
            "marker": {
             "colorbar": {
              "outlinewidth": 0,
              "ticks": ""
             }
            },
            "type": "histogram"
           }
          ],
          "histogram2d": [
           {
            "colorbar": {
             "outlinewidth": 0,
             "ticks": ""
            },
            "colorscale": [
             [
              0,
              "#0d0887"
             ],
             [
              0.1111111111111111,
              "#46039f"
             ],
             [
              0.2222222222222222,
              "#7201a8"
             ],
             [
              0.3333333333333333,
              "#9c179e"
             ],
             [
              0.4444444444444444,
              "#bd3786"
             ],
             [
              0.5555555555555556,
              "#d8576b"
             ],
             [
              0.6666666666666666,
              "#ed7953"
             ],
             [
              0.7777777777777778,
              "#fb9f3a"
             ],
             [
              0.8888888888888888,
              "#fdca26"
             ],
             [
              1,
              "#f0f921"
             ]
            ],
            "type": "histogram2d"
           }
          ],
          "histogram2dcontour": [
           {
            "colorbar": {
             "outlinewidth": 0,
             "ticks": ""
            },
            "colorscale": [
             [
              0,
              "#0d0887"
             ],
             [
              0.1111111111111111,
              "#46039f"
             ],
             [
              0.2222222222222222,
              "#7201a8"
             ],
             [
              0.3333333333333333,
              "#9c179e"
             ],
             [
              0.4444444444444444,
              "#bd3786"
             ],
             [
              0.5555555555555556,
              "#d8576b"
             ],
             [
              0.6666666666666666,
              "#ed7953"
             ],
             [
              0.7777777777777778,
              "#fb9f3a"
             ],
             [
              0.8888888888888888,
              "#fdca26"
             ],
             [
              1,
              "#f0f921"
             ]
            ],
            "type": "histogram2dcontour"
           }
          ],
          "mesh3d": [
           {
            "colorbar": {
             "outlinewidth": 0,
             "ticks": ""
            },
            "type": "mesh3d"
           }
          ],
          "parcoords": [
           {
            "line": {
             "colorbar": {
              "outlinewidth": 0,
              "ticks": ""
             }
            },
            "type": "parcoords"
           }
          ],
          "pie": [
           {
            "automargin": true,
            "type": "pie"
           }
          ],
          "scatter": [
           {
            "marker": {
             "colorbar": {
              "outlinewidth": 0,
              "ticks": ""
             }
            },
            "type": "scatter"
           }
          ],
          "scatter3d": [
           {
            "line": {
             "colorbar": {
              "outlinewidth": 0,
              "ticks": ""
             }
            },
            "marker": {
             "colorbar": {
              "outlinewidth": 0,
              "ticks": ""
             }
            },
            "type": "scatter3d"
           }
          ],
          "scattercarpet": [
           {
            "marker": {
             "colorbar": {
              "outlinewidth": 0,
              "ticks": ""
             }
            },
            "type": "scattercarpet"
           }
          ],
          "scattergeo": [
           {
            "marker": {
             "colorbar": {
              "outlinewidth": 0,
              "ticks": ""
             }
            },
            "type": "scattergeo"
           }
          ],
          "scattergl": [
           {
            "marker": {
             "colorbar": {
              "outlinewidth": 0,
              "ticks": ""
             }
            },
            "type": "scattergl"
           }
          ],
          "scattermapbox": [
           {
            "marker": {
             "colorbar": {
              "outlinewidth": 0,
              "ticks": ""
             }
            },
            "type": "scattermapbox"
           }
          ],
          "scatterpolar": [
           {
            "marker": {
             "colorbar": {
              "outlinewidth": 0,
              "ticks": ""
             }
            },
            "type": "scatterpolar"
           }
          ],
          "scatterpolargl": [
           {
            "marker": {
             "colorbar": {
              "outlinewidth": 0,
              "ticks": ""
             }
            },
            "type": "scatterpolargl"
           }
          ],
          "scatterternary": [
           {
            "marker": {
             "colorbar": {
              "outlinewidth": 0,
              "ticks": ""
             }
            },
            "type": "scatterternary"
           }
          ],
          "surface": [
           {
            "colorbar": {
             "outlinewidth": 0,
             "ticks": ""
            },
            "colorscale": [
             [
              0,
              "#0d0887"
             ],
             [
              0.1111111111111111,
              "#46039f"
             ],
             [
              0.2222222222222222,
              "#7201a8"
             ],
             [
              0.3333333333333333,
              "#9c179e"
             ],
             [
              0.4444444444444444,
              "#bd3786"
             ],
             [
              0.5555555555555556,
              "#d8576b"
             ],
             [
              0.6666666666666666,
              "#ed7953"
             ],
             [
              0.7777777777777778,
              "#fb9f3a"
             ],
             [
              0.8888888888888888,
              "#fdca26"
             ],
             [
              1,
              "#f0f921"
             ]
            ],
            "type": "surface"
           }
          ],
          "table": [
           {
            "cells": {
             "fill": {
              "color": "#EBF0F8"
             },
             "line": {
              "color": "white"
             }
            },
            "header": {
             "fill": {
              "color": "#C8D4E3"
             },
             "line": {
              "color": "white"
             }
            },
            "type": "table"
           }
          ]
         },
         "layout": {
          "annotationdefaults": {
           "arrowcolor": "#2a3f5f",
           "arrowhead": 0,
           "arrowwidth": 1
          },
          "autotypenumbers": "strict",
          "coloraxis": {
           "colorbar": {
            "outlinewidth": 0,
            "ticks": ""
           }
          },
          "colorscale": {
           "diverging": [
            [
             0,
             "#8e0152"
            ],
            [
             0.1,
             "#c51b7d"
            ],
            [
             0.2,
             "#de77ae"
            ],
            [
             0.3,
             "#f1b6da"
            ],
            [
             0.4,
             "#fde0ef"
            ],
            [
             0.5,
             "#f7f7f7"
            ],
            [
             0.6,
             "#e6f5d0"
            ],
            [
             0.7,
             "#b8e186"
            ],
            [
             0.8,
             "#7fbc41"
            ],
            [
             0.9,
             "#4d9221"
            ],
            [
             1,
             "#276419"
            ]
           ],
           "sequential": [
            [
             0,
             "#0d0887"
            ],
            [
             0.1111111111111111,
             "#46039f"
            ],
            [
             0.2222222222222222,
             "#7201a8"
            ],
            [
             0.3333333333333333,
             "#9c179e"
            ],
            [
             0.4444444444444444,
             "#bd3786"
            ],
            [
             0.5555555555555556,
             "#d8576b"
            ],
            [
             0.6666666666666666,
             "#ed7953"
            ],
            [
             0.7777777777777778,
             "#fb9f3a"
            ],
            [
             0.8888888888888888,
             "#fdca26"
            ],
            [
             1,
             "#f0f921"
            ]
           ],
           "sequentialminus": [
            [
             0,
             "#0d0887"
            ],
            [
             0.1111111111111111,
             "#46039f"
            ],
            [
             0.2222222222222222,
             "#7201a8"
            ],
            [
             0.3333333333333333,
             "#9c179e"
            ],
            [
             0.4444444444444444,
             "#bd3786"
            ],
            [
             0.5555555555555556,
             "#d8576b"
            ],
            [
             0.6666666666666666,
             "#ed7953"
            ],
            [
             0.7777777777777778,
             "#fb9f3a"
            ],
            [
             0.8888888888888888,
             "#fdca26"
            ],
            [
             1,
             "#f0f921"
            ]
           ]
          },
          "colorway": [
           "#636efa",
           "#EF553B",
           "#00cc96",
           "#ab63fa",
           "#FFA15A",
           "#19d3f3",
           "#FF6692",
           "#B6E880",
           "#FF97FF",
           "#FECB52"
          ],
          "font": {
           "color": "#2a3f5f"
          },
          "geo": {
           "bgcolor": "white",
           "lakecolor": "white",
           "landcolor": "#E5ECF6",
           "showlakes": true,
           "showland": true,
           "subunitcolor": "white"
          },
          "hoverlabel": {
           "align": "left"
          },
          "hovermode": "closest",
          "mapbox": {
           "style": "light"
          },
          "paper_bgcolor": "white",
          "plot_bgcolor": "#E5ECF6",
          "polar": {
           "angularaxis": {
            "gridcolor": "white",
            "linecolor": "white",
            "ticks": ""
           },
           "bgcolor": "#E5ECF6",
           "radialaxis": {
            "gridcolor": "white",
            "linecolor": "white",
            "ticks": ""
           }
          },
          "scene": {
           "xaxis": {
            "backgroundcolor": "#E5ECF6",
            "gridcolor": "white",
            "gridwidth": 2,
            "linecolor": "white",
            "showbackground": true,
            "ticks": "",
            "zerolinecolor": "white"
           },
           "yaxis": {
            "backgroundcolor": "#E5ECF6",
            "gridcolor": "white",
            "gridwidth": 2,
            "linecolor": "white",
            "showbackground": true,
            "ticks": "",
            "zerolinecolor": "white"
           },
           "zaxis": {
            "backgroundcolor": "#E5ECF6",
            "gridcolor": "white",
            "gridwidth": 2,
            "linecolor": "white",
            "showbackground": true,
            "ticks": "",
            "zerolinecolor": "white"
           }
          },
          "shapedefaults": {
           "line": {
            "color": "#2a3f5f"
           }
          },
          "ternary": {
           "aaxis": {
            "gridcolor": "white",
            "linecolor": "white",
            "ticks": ""
           },
           "baxis": {
            "gridcolor": "white",
            "linecolor": "white",
            "ticks": ""
           },
           "bgcolor": "#E5ECF6",
           "caxis": {
            "gridcolor": "white",
            "linecolor": "white",
            "ticks": ""
           }
          },
          "title": {
           "x": 0.05
          },
          "xaxis": {
           "automargin": true,
           "gridcolor": "white",
           "linecolor": "white",
           "ticks": "",
           "title": {
            "standoff": 15
           },
           "zerolinecolor": "white",
           "zerolinewidth": 2
          },
          "yaxis": {
           "automargin": true,
           "gridcolor": "white",
           "linecolor": "white",
           "ticks": "",
           "title": {
            "standoff": 15
           },
           "zerolinecolor": "white",
           "zerolinewidth": 2
          }
         }
        },
        "title": {
         "text": "Simulação equivalente ao SMART Moderado, 10000 iterações, 30 anos"
        },
        "width": 1000,
        "xaxis": {
         "autorange": true,
         "range": [
          0,
          29
         ],
         "type": "linear"
        },
        "yaxis": {
         "autorange": true,
         "range": [
          -1828.195302660771,
          44545.150356278726
         ],
         "type": "linear"
        }
       }
      },
      "image/png": "[encoded data removed]",
      "text/html": [
       "<div>                            <div id=\"306a8506-e7dc-4838-bd48-d35f2775d889\" class=\"plotly-graph-div\" style=\"height:500px; width:1000px;\"></div>            <script type=\"text/javascript\">                require([\"plotly\"], function(Plotly) {                    window.PLOTLYENV=window.PLOTLYENV || {};                                    if (document.getElementById(\"306a8506-e7dc-4838-bd48-d35f2775d889\")) {                    Plotly.newPlot(                        \"306a8506-e7dc-4838-bd48-d35f2775d889\",                        [{\"line\": {\"color\": \"red\"}, \"mode\": \"lines\", \"name\": \"20Q\", \"type\": \"scatter\", \"x\": [0, 1, 2, 3, 4, 5, 6, 7, 8, 9, 10, 11, 12, 13, 14, 15, 16, 17, 18, 19, 20, 21, 22, 23, 24, 25, 26, 27, 28, 29], \"y\": [490.47198028620386, 1091.2017000648168, 1705.7145916736067, 2333.5100561299328, 2976.3377092720884, 3635.5180744218696, 4319.945315404568, 5025.127158017237, 5743.165781085807, 6483.377114082648, 7257.991644013421, 8050.07514726069, 8860.796656231132, 9702.31945471679, 10576.123912192923, 11476.817698754661, 12403.662635593355, 13352.65606114278, 14331.250311719023, 15340.37086271707, 16401.10707982902, 17473.763351307134, 18584.901952825177, 19737.901861546554, 20934.369262171815, 22192.020434605707, 23487.16296519372, 24817.464718800256, 26180.258099723877, 27582.445306782167]}, {\"fill\": \"tonexty\", \"fillcolor\": \"rgba(255, 0, 0, 0.5)\", \"line\": {\"color\": \"royalblue\"}, \"mode\": \"lines\", \"name\": \"40Q\", \"type\": \"scatter\", \"x\": [0, 1, 2, 3, 4, 5, 6, 7, 8, 9, 10, 11, 12, 13, 14, 15, 16, 17, 18, 19, 20, 21, 22, 23, 24, 25, 26, 27, 28, 29], \"y\": [511.19522945515973, 1143.1785441689549, 1795.9771650017442, 2468.392445385547, 3164.2222298601964, 3887.166891819691, 4640.689909724462, 5414.635476617088, 6213.399449281218, 7042.804957678814, 7904.833496371574, 8800.551294265008, 9731.979453471125, 10697.633242687949, 11692.320336007677, 12738.650638245817, 13809.048453767922, 14928.604605928442, 16090.126338711088, 17280.064941614626, 18502.82415888305, 19788.111856354193, 21117.80251440149, 22501.90165663205, 23927.184382658932, 25434.21432671244, 26950.007244220436, 28558.19400416663, 30227.93936048811, 31951.464763264186]}, {\"fill\": \"tonexty\", \"line\": {\"color\": \"royalblue\"}, \"mode\": \"lines\", \"name\": \"60Q\", \"type\": \"scatter\", \"x\": [0, 1, 2, 3, 4, 5, 6, 7, 8, 9, 10, 11, 12, 13, 14, 15, 16, 17, 18, 19, 20, 21, 22, 23, 24, 25, 26, 27, 28, 29], \"y\": [529.1655685133064, 1186.61557870948, 1872.6904345168637, 2589.9616427382102, 3336.5102057689437, 4112.9312401074485, 4920.487723293306, 5766.0831221137305, 6644.49945152286, 7562.664574902203, 8518.667283004466, 9510.296859705195, 10541.49325735648, 11609.246567416492, 12730.11533084614, 13902.483843151585, 15121.569839495642, 16392.862137353884, 17714.978422101354, 19072.986976409844, 20498.519443395984, 22003.333718615497, 23546.296191681446, 25154.077237149744, 26831.390337549572, 28556.190131724048, 30379.278072123685, 32273.958923366383, 34251.28877505814, 36291.28251157047]}, {\"fill\": \"tonexty\", \"line\": {\"color\": \"green\"}, \"mode\": \"lines\", \"name\": \"80Q\", \"type\": \"scatter\", \"x\": [0, 1, 2, 3, 4, 5, 6, 7, 8, 9, 10, 11, 12, 13, 14, 15, 16, 17, 18, 19, 20, 21, 22, 23, 24, 25, 26, 27, 28, 29], \"y\": [550.0679491004877, 1239.0796446589827, 1965.6152940160805, 2733.0353407745188, 3535.3652826315238, 4387.313269433252, 5277.101182485459, 6217.287943977454, 7201.036218642443, 8231.871532690007, 9294.827768881236, 10422.35401183552, 11606.122620843398, 12832.002829630048, 14114.84443498871, 15455.682949633418, 16857.62329387247, 18310.292127414123, 19839.860745086746, 21466.87874880591, 23146.42188057613, 24924.687207086186, 26757.432853000235, 28663.173299141232, 30657.57269709868, 32771.779864365126, 34982.841210449296, 37334.477546241964, 39729.75535945248, 42226.48307333175]}],                        {\"autosize\": false, \"height\": 500, \"margin\": {\"b\": 100, \"l\": 50, \"pad\": 4, \"r\": 50, \"t\": 100}, \"paper_bgcolor\": \"whitesmoke\", \"template\": {\"data\": {\"bar\": [{\"error_x\": {\"color\": \"#2a3f5f\"}, \"error_y\": {\"color\": \"#2a3f5f\"}, \"marker\": {\"line\": {\"color\": \"#E5ECF6\", \"width\": 0.5}}, \"type\": \"bar\"}], \"barpolar\": [{\"marker\": {\"line\": {\"color\": \"#E5ECF6\", \"width\": 0.5}}, \"type\": \"barpolar\"}], \"carpet\": [{\"aaxis\": {\"endlinecolor\": \"#2a3f5f\", \"gridcolor\": \"white\", \"linecolor\": \"white\", \"minorgridcolor\": \"white\", \"startlinecolor\": \"#2a3f5f\"}, \"baxis\": {\"endlinecolor\": \"#2a3f5f\", \"gridcolor\": \"white\", \"linecolor\": \"white\", \"minorgridcolor\": \"white\", \"startlinecolor\": \"#2a3f5f\"}, \"type\": \"carpet\"}], \"choropleth\": [{\"colorbar\": {\"outlinewidth\": 0, \"ticks\": \"\"}, \"type\": \"choropleth\"}], \"contour\": [{\"colorbar\": {\"outlinewidth\": 0, \"ticks\": \"\"}, \"colorscale\": [[0.0, \"#0d0887\"], [0.1111111111111111, \"#46039f\"], [0.2222222222222222, \"#7201a8\"], [0.3333333333333333, \"#9c179e\"], [0.4444444444444444, \"#bd3786\"], [0.5555555555555556, \"#d8576b\"], [0.6666666666666666, \"#ed7953\"], [0.7777777777777778, \"#fb9f3a\"], [0.8888888888888888, \"#fdca26\"], [1.0, \"#f0f921\"]], \"type\": \"contour\"}], \"contourcarpet\": [{\"colorbar\": {\"outlinewidth\": 0, \"ticks\": \"\"}, \"type\": \"contourcarpet\"}], \"heatmap\": [{\"colorbar\": {\"outlinewidth\": 0, \"ticks\": \"\"}, \"colorscale\": [[0.0, \"#0d0887\"], [0.1111111111111111, \"#46039f\"], [0.2222222222222222, \"#7201a8\"], [0.3333333333333333, \"#9c179e\"], [0.4444444444444444, \"#bd3786\"], [0.5555555555555556, \"#d8576b\"], [0.6666666666666666, \"#ed7953\"], [0.7777777777777778, \"#fb9f3a\"], [0.8888888888888888, \"#fdca26\"], [1.0, \"#f0f921\"]], \"type\": \"heatmap\"}], \"heatmapgl\": [{\"colorbar\": {\"outlinewidth\": 0, \"ticks\": \"\"}, \"colorscale\": [[0.0, \"#0d0887\"], [0.1111111111111111, \"#46039f\"], [0.2222222222222222, \"#7201a8\"], [0.3333333333333333, \"#9c179e\"], [0.4444444444444444, \"#bd3786\"], [0.5555555555555556, \"#d8576b\"], [0.6666666666666666, \"#ed7953\"], [0.7777777777777778, \"#fb9f3a\"], [0.8888888888888888, \"#fdca26\"], [1.0, \"#f0f921\"]], \"type\": \"heatmapgl\"}], \"histogram\": [{\"marker\": {\"colorbar\": {\"outlinewidth\": 0, \"ticks\": \"\"}}, \"type\": \"histogram\"}], \"histogram2d\": [{\"colorbar\": {\"outlinewidth\": 0, \"ticks\": \"\"}, \"colorscale\": [[0.0, \"#0d0887\"], [0.1111111111111111, \"#46039f\"], [0.2222222222222222, \"#7201a8\"], [0.3333333333333333, \"#9c179e\"], [0.4444444444444444, \"#bd3786\"], [0.5555555555555556, \"#d8576b\"], [0.6666666666666666, \"#ed7953\"], [0.7777777777777778, \"#fb9f3a\"], [0.8888888888888888, \"#fdca26\"], [1.0, \"#f0f921\"]], \"type\": \"histogram2d\"}], \"histogram2dcontour\": [{\"colorbar\": {\"outlinewidth\": 0, \"ticks\": \"\"}, \"colorscale\": [[0.0, \"#0d0887\"], [0.1111111111111111, \"#46039f\"], [0.2222222222222222, \"#7201a8\"], [0.3333333333333333, \"#9c179e\"], [0.4444444444444444, \"#bd3786\"], [0.5555555555555556, \"#d8576b\"], [0.6666666666666666, \"#ed7953\"], [0.7777777777777778, \"#fb9f3a\"], [0.8888888888888888, \"#fdca26\"], [1.0, \"#f0f921\"]], \"type\": \"histogram2dcontour\"}], \"mesh3d\": [{\"colorbar\": {\"outlinewidth\": 0, \"ticks\": \"\"}, \"type\": \"mesh3d\"}], \"parcoords\": [{\"line\": {\"colorbar\": {\"outlinewidth\": 0, \"ticks\": \"\"}}, \"type\": \"parcoords\"}], \"pie\": [{\"automargin\": true, \"type\": \"pie\"}], \"scatter\": [{\"marker\": {\"colorbar\": {\"outlinewidth\": 0, \"ticks\": \"\"}}, \"type\": \"scatter\"}], \"scatter3d\": [{\"line\": {\"colorbar\": {\"outlinewidth\": 0, \"ticks\": \"\"}}, \"marker\": {\"colorbar\": {\"outlinewidth\": 0, \"ticks\": \"\"}}, \"type\": \"scatter3d\"}], \"scattercarpet\": [{\"marker\": {\"colorbar\": {\"outlinewidth\": 0, \"ticks\": \"\"}}, \"type\": \"scattercarpet\"}], \"scattergeo\": [{\"marker\": {\"colorbar\": {\"outlinewidth\": 0, \"ticks\": \"\"}}, \"type\": \"scattergeo\"}], \"scattergl\": [{\"marker\": {\"colorbar\": {\"outlinewidth\": 0, \"ticks\": \"\"}}, \"type\": \"scattergl\"}], \"scattermapbox\": [{\"marker\": {\"colorbar\": {\"outlinewidth\": 0, \"ticks\": \"\"}}, \"type\": \"scattermapbox\"}], \"scatterpolar\": [{\"marker\": {\"colorbar\": {\"outlinewidth\": 0, \"ticks\": \"\"}}, \"type\": \"scatterpolar\"}], \"scatterpolargl\": [{\"marker\": {\"colorbar\": {\"outlinewidth\": 0, \"ticks\": \"\"}}, \"type\": \"scatterpolargl\"}], \"scatterternary\": [{\"marker\": {\"colorbar\": {\"outlinewidth\": 0, \"ticks\": \"\"}}, \"type\": \"scatterternary\"}], \"surface\": [{\"colorbar\": {\"outlinewidth\": 0, \"ticks\": \"\"}, \"colorscale\": [[0.0, \"#0d0887\"], [0.1111111111111111, \"#46039f\"], [0.2222222222222222, \"#7201a8\"], [0.3333333333333333, \"#9c179e\"], [0.4444444444444444, \"#bd3786\"], [0.5555555555555556, \"#d8576b\"], [0.6666666666666666, \"#ed7953\"], [0.7777777777777778, \"#fb9f3a\"], [0.8888888888888888, \"#fdca26\"], [1.0, \"#f0f921\"]], \"type\": \"surface\"}], \"table\": [{\"cells\": {\"fill\": {\"color\": \"#EBF0F8\"}, \"line\": {\"color\": \"white\"}}, \"header\": {\"fill\": {\"color\": \"#C8D4E3\"}, \"line\": {\"color\": \"white\"}}, \"type\": \"table\"}]}, \"layout\": {\"annotationdefaults\": {\"arrowcolor\": \"#2a3f5f\", \"arrowhead\": 0, \"arrowwidth\": 1}, \"autotypenumbers\": \"strict\", \"coloraxis\": {\"colorbar\": {\"outlinewidth\": 0, \"ticks\": \"\"}}, \"colorscale\": {\"diverging\": [[0, \"#8e0152\"], [0.1, \"#c51b7d\"], [0.2, \"#de77ae\"], [0.3, \"#f1b6da\"], [0.4, \"#fde0ef\"], [0.5, \"#f7f7f7\"], [0.6, \"#e6f5d0\"], [0.7, \"#b8e186\"], [0.8, \"#7fbc41\"], [0.9, \"#4d9221\"], [1, \"#276419\"]], \"sequential\": [[0.0, \"#0d0887\"], [0.1111111111111111, \"#46039f\"], [0.2222222222222222, \"#7201a8\"], [0.3333333333333333, \"#9c179e\"], [0.4444444444444444, \"#bd3786\"], [0.5555555555555556, \"#d8576b\"], [0.6666666666666666, \"#ed7953\"], [0.7777777777777778, \"#fb9f3a\"], [0.8888888888888888, \"#fdca26\"], [1.0, \"#f0f921\"]], \"sequentialminus\": [[0.0, \"#0d0887\"], [0.1111111111111111, \"#46039f\"], [0.2222222222222222, \"#7201a8\"], [0.3333333333333333, \"#9c179e\"], [0.4444444444444444, \"#bd3786\"], [0.5555555555555556, \"#d8576b\"], [0.6666666666666666, \"#ed7953\"], [0.7777777777777778, \"#fb9f3a\"], [0.8888888888888888, \"#fdca26\"], [1.0, \"#f0f921\"]]}, \"colorway\": [\"#636efa\", \"#EF553B\", \"#00cc96\", \"#ab63fa\", \"#FFA15A\", \"#19d3f3\", \"#FF6692\", \"#B6E880\", \"#FF97FF\", \"#FECB52\"], \"font\": {\"color\": \"#2a3f5f\"}, \"geo\": {\"bgcolor\": \"white\", \"lakecolor\": \"white\", \"landcolor\": \"#E5ECF6\", \"showlakes\": true, \"showland\": true, \"subunitcolor\": \"white\"}, \"hoverlabel\": {\"align\": \"left\"}, \"hovermode\": \"closest\", \"mapbox\": {\"style\": \"light\"}, \"paper_bgcolor\": \"white\", \"plot_bgcolor\": \"#E5ECF6\", \"polar\": {\"angularaxis\": {\"gridcolor\": \"white\", \"linecolor\": \"white\", \"ticks\": \"\"}, \"bgcolor\": \"#E5ECF6\", \"radialaxis\": {\"gridcolor\": \"white\", \"linecolor\": \"white\", \"ticks\": \"\"}}, \"scene\": {\"xaxis\": {\"backgroundcolor\": \"#E5ECF6\", \"gridcolor\": \"white\", \"gridwidth\": 2, \"linecolor\": \"white\", \"showbackground\": true, \"ticks\": \"\", \"zerolinecolor\": \"white\"}, \"yaxis\": {\"backgroundcolor\": \"#E5ECF6\", \"gridcolor\": \"white\", \"gridwidth\": 2, \"linecolor\": \"white\", \"showbackground\": true, \"ticks\": \"\", \"zerolinecolor\": \"white\"}, \"zaxis\": {\"backgroundcolor\": \"#E5ECF6\", \"gridcolor\": \"white\", \"gridwidth\": 2, \"linecolor\": \"white\", \"showbackground\": true, \"ticks\": \"\", \"zerolinecolor\": \"white\"}}, \"shapedefaults\": {\"line\": {\"color\": \"#2a3f5f\"}}, \"ternary\": {\"aaxis\": {\"gridcolor\": \"white\", \"linecolor\": \"white\", \"ticks\": \"\"}, \"baxis\": {\"gridcolor\": \"white\", \"linecolor\": \"white\", \"ticks\": \"\"}, \"bgcolor\": \"#E5ECF6\", \"caxis\": {\"gridcolor\": \"white\", \"linecolor\": \"white\", \"ticks\": \"\"}}, \"title\": {\"x\": 0.05}, \"xaxis\": {\"automargin\": true, \"gridcolor\": \"white\", \"linecolor\": \"white\", \"ticks\": \"\", \"title\": {\"standoff\": 15}, \"zerolinecolor\": \"white\", \"zerolinewidth\": 2}, \"yaxis\": {\"automargin\": true, \"gridcolor\": \"white\", \"linecolor\": \"white\", \"ticks\": \"\", \"title\": {\"standoff\": 15}, \"zerolinecolor\": \"white\", \"zerolinewidth\": 2}}}, \"title\": {\"text\": \"Simula\\u00e7\\u00e3o equivalente ao SMART Moderado, 10000 itera\\u00e7\\u00f5es, 30 anos\"}, \"width\": 1000},                        {\"responsive\": true}                    ).then(function(){\n",
       "                            \n",
       "var gd = document.getElementById('306a8506-e7dc-4838-bd48-d35f2775d889');\n",
       "var x = new MutationObserver(function (mutations, observer) {{\n",
       "        var display = window.getComputedStyle(gd).display;\n",
       "        if (!display || display === 'none') {{\n",
       "            console.log([gd, 'removed!']);\n",
       "            Plotly.purge(gd);\n",
       "            observer.disconnect();\n",
       "        }}\n",
       "}});\n",
       "\n",
       "// Listen for the removal of the full notebook cells\n",
       "var notebookContainer = gd.closest('#notebook-container');\n",
       "if (notebookContainer) {{\n",
       "    x.observe(notebookContainer, {childList: true});\n",
       "}}\n",
       "\n",
       "// Listen for the clearing of the current output cell\n",
       "var outputEl = gd.closest('.output');\n",
       "if (outputEl) {{\n",
       "    x.observe(outputEl, {childList: true});\n",
       "}}\n",
       "\n",
       "                        })                };                });            </script>        </div>"
      ]
     },
     "metadata": {},
     "output_type": "display_data"
    }
   ],
   "source": [
    "fig = go.Figure()\n",
    "fig.add_trace(go.Scatter(y=quantiles['20Q'], x=quantiles.index,\n",
    "    fill=None,\n",
    "    mode='lines',\n",
    "    line_color='red',\n",
    "    name=\"20Q\"\n",
    "    ))\n",
    "fig.add_trace(go.Scatter(y=quantiles['40Q'], x=quantiles.index,\n",
    "    fill='tonexty',\n",
    "    mode='lines',\n",
    "    line_color='royalblue',\n",
    "    fillcolor='rgba(255, 0, 0, 0.5)',\n",
    "    name=\"40Q\"\n",
    "    ))\n",
    "fig.add_trace(go.Scatter(y=quantiles['60Q'], x=quantiles.index,\n",
    "    fill='tonexty',\n",
    "    mode='lines',\n",
    "    line_color='royalblue',\n",
    "    name=\"60Q\"\n",
    "    ))\n",
    "fig.add_trace(go.Scatter(y=quantiles['80Q'], x=quantiles.index,\n",
    "    fill='tonexty',\n",
    "    mode='lines',\n",
    "    line_color='green',\n",
    "    name=\"80Q\"\n",
    "    ))\n",
    "fig.update_layout(\n",
    "    title='Simulação equivalente ao SMART Moderado, 10000 iterações, 30 anos',\n",
    "    autosize=False,\n",
    "    width=1000,\n",
    "    height=500,\n",
    "    margin=dict(\n",
    "        l=50,\n",
    "        r=50,\n",
    "        b=100,\n",
    "        t=100,\n",
    "        pad=4\n",
    "    ),\n",
    "    paper_bgcolor=\"whitesmoke\",\n",
    ")\n",
    "\n",
    "fig.show()"
   ]
  },
  {
   "cell_type": "markdown",
   "metadata": {},
   "source": [
    "# Reforços mensais"
   ]
  },
  {
   "cell_type": "code",
   "execution_count": 25,
   "metadata": {},
   "outputs": [
    {
     "name": "stdout",
     "output_type": "stream",
     "text": [
      "Wall time: 37.9 s\n"
     ]
    }
   ],
   "source": [
    "%%time\n",
    "data = np.random.normal(loc=0.0034, scale=0.021, size=[30 * 12, 10000])\n",
    "time_series = pl.compute_time_series(pd.DataFrame(data)) * 5\n",
    "reforços = pl.compute_time_series(pd.DataFrame(data)) * 0.5\n",
    "\n",
    "lista = []\n",
    "\n",
    "for i in np.arange(0, len(time_series)):\n",
    "    reforço = reforços.copy()\n",
    "    reforço = reforço.shift(periods=i)\n",
    "    reforço = reforço.replace(np.nan, 0)\n",
    "    lista.append(reforço)\n",
    "\n",
    "for i in np.arange(1, len(time_series)):\n",
    "    time_series = time_series + lista[i]\n",
    "    \n",
    "quantiles = pd.DataFrame(time_series.quantile(q=0.20, axis=1))\n",
    "quantiles['40'] = time_series.quantile(q=0.40, axis=1)\n",
    "quantiles['60'] = time_series.quantile(q=0.60, axis=1)\n",
    "quantiles['80'] = time_series.quantile(q=0.80, axis=1)\n",
    "quantiles.columns=['20Q', '40Q', '60Q', '80Q']\n",
    "\n",
    "# quantiles.set_index(dates, inplace=True)\n",
    "# quantiles"
   ]
  },
  {
   "cell_type": "code",
   "execution_count": 26,
   "metadata": {},
   "outputs": [],
   "source": [
    "import numpy as np\n",
    "import numba\n",
    "from numba import jit"
   ]
  },
  {
   "cell_type": "code",
   "execution_count": 27,
   "metadata": {},
   "outputs": [
    {
     "name": "stdout",
     "output_type": "stream",
     "text": [
      "0.50.1\n"
     ]
    }
   ],
   "source": [
    "print(numba.__version__)"
   ]
  },
  {
   "cell_type": "code",
   "execution_count": 28,
   "metadata": {},
   "outputs": [
    {
     "name": "stdout",
     "output_type": "stream",
     "text": [
      "[[ 49.21781814  51.09423906  50.50563865 ...  50.19711546  50.22272474\n",
      "   50.46250668]\n",
      " [ 49.74229493  50.89523895  49.89299475 ...  49.24827415  49.50869711\n",
      "   50.94925448]\n",
      " [ 49.89031403  51.82104694  49.20851994 ...  50.08906776  49.87014899\n",
      "   51.52235778]\n",
      " ...\n",
      " [177.97430338 189.16979264  89.72502673 ... 125.18902286 212.8756085\n",
      "  121.93844467]\n",
      " [179.34089251 188.06368059  89.2862952  ... 125.80743476 212.74970532\n",
      "  120.85900237]\n",
      " [183.28884779 191.39862671  86.3735082  ... 123.33936667 214.80503737\n",
      "  117.59584281]]\n",
      "[[ 49.21781814  51.09423906  50.50563865 ...  50.19711546  50.22272474\n",
      "   50.46250668]\n",
      " [ 49.74229493  50.89523895  49.89299475 ...  49.24827415  49.50869711\n",
      "   50.94925448]\n",
      " [ 49.89031403  51.82104694  49.20851994 ...  50.08906776  49.87014899\n",
      "   51.52235778]\n",
      " ...\n",
      " [177.97430338 189.16979264  89.72502673 ... 125.18902286 212.8756085\n",
      "  121.93844467]\n",
      " [179.34089251 188.06368059  89.2862952  ... 125.80743476 212.74970532\n",
      "  120.85900237]\n",
      " [183.28884779 191.39862671  86.3735082  ... 123.33936667 214.80503737\n",
      "  117.59584281]]\n",
      "[[ 49.21781814  51.09423906  50.50563865 ...  50.19711546  50.22272474\n",
      "   50.46250668]\n",
      " [ 49.74229493  50.89523895  49.89299475 ...  49.24827415  49.50869711\n",
      "   50.94925448]\n",
      " [ 49.89031403  51.82104694  49.20851994 ...  50.08906776  49.87014899\n",
      "   51.52235778]\n",
      " ...\n",
      " [177.97430338 189.16979264  89.72502673 ... 125.18902286 212.8756085\n",
      "  121.93844467]\n",
      " [179.34089251 188.06368059  89.2862952  ... 125.80743476 212.74970532\n",
      "  120.85900237]\n",
      " [183.28884779 191.39862671  86.3735082  ... 123.33936667 214.80503737\n",
      "  117.59584281]]\n",
      "0.002992391586303711\n"
     ]
    }
   ],
   "source": [
    "import time\n",
    "\n",
    "start = time.time()\n",
    "\n",
    "# @jit(nopython=True)\n",
    "def make_reforços():\n",
    "    for i in np.arange(0, 3):\n",
    "        reforço = reforços.values\n",
    "        print(reforço)\n",
    "#         reforço = reforço.shift(periods=i)\n",
    "#         reforço = reforço.replace(np.nan, 0)\n",
    "#         lista.append(reforço)\n",
    "        \n",
    "make_reforços()\n",
    "    \n",
    "end = time.time()\n",
    "print(end - start)"
   ]
  },
  {
   "cell_type": "code",
   "execution_count": 29,
   "metadata": {},
   "outputs": [
    {
     "data": {
      "text/plain": [
       "pandas.core.frame.DataFrame"
      ]
     },
     "execution_count": 29,
     "metadata": {},
     "output_type": "execute_result"
    }
   ],
   "source": [
    "type(reforço)"
   ]
  },
  {
   "cell_type": "code",
   "execution_count": null,
   "metadata": {},
   "outputs": [],
   "source": []
  },
  {
   "cell_type": "code",
   "execution_count": null,
   "metadata": {},
   "outputs": [],
   "source": []
  },
  {
   "cell_type": "code",
   "execution_count": null,
   "metadata": {},
   "outputs": [],
   "source": []
  },
  {
   "cell_type": "code",
   "execution_count": 30,
   "metadata": {},
   "outputs": [
    {
     "name": "stdout",
     "output_type": "stream",
     "text": [
      "Wall time: 0 ns\n"
     ]
    }
   ],
   "source": [
    "%time\n",
    "\n",
    "for i in np.arange(0, 50):\n",
    "    reforço = reforços.copy()\n",
    "    reforço = reforço.shift(periods=i)\n",
    "    reforço = reforço.replace(np.nan, 0)\n",
    "    lista.append(reforço)"
   ]
  },
  {
   "cell_type": "code",
   "execution_count": null,
   "metadata": {},
   "outputs": [],
   "source": []
  },
  {
   "cell_type": "code",
   "execution_count": 31,
   "metadata": {},
   "outputs": [
    {
     "data": {
      "application/vnd.plotly.v1+json": {
       "config": {
        "plotlyServerURL": "https://plot.ly"
       },
       "data": [
        {
         "line": {
          "color": "red"
         },
         "mode": "lines",
         "name": "20Q",
         "type": "scatter",
         "x": [
          0,
          1,
          2,
          3,
          4,
          5,
          6,
          7,
          8,
          9,
          10,
          11,
          12,
          13,
          14,
          15,
          16,
          17,
          18,
          19,
          20,
          21,
          22,
          23,
          24,
          25,
          26,
          27,
          28,
          29,
          30,
          31,
          32,
          33,
          34,
          35,
          36,
          37,
          38,
          39,
          40,
          41,
          42,
          43,
          44,
          45,
          46,
          47,
          48,
          49,
          50,
          51,
          52,
          53,
          54,
          55,
          56,
          57,
          58,
          59,
          60,
          61,
          62,
          63,
          64,
          65,
          66,
          67,
          68,
          69,
          70,
          71,
          72,
          73,
          74,
          75,
          76,
          77,
          78,
          79,
          80,
          81,
          82,
          83,
          84,
          85,
          86,
          87,
          88,
          89,
          90,
          91,
          92,
          93,
          94,
          95,
          96,
          97,
          98,
          99,
          100,
          101,
          102,
          103,
          104,
          105,
          106,
          107,
          108,
          109,
          110,
          111,
          112,
          113,
          114,
          115,
          116,
          117,
          118,
          119,
          120,
          121,
          122,
          123,
          124,
          125,
          126,
          127,
          128,
          129,
          130,
          131,
          132,
          133,
          134,
          135,
          136,
          137,
          138,
          139,
          140,
          141,
          142,
          143,
          144,
          145,
          146,
          147,
          148,
          149,
          150,
          151,
          152,
          153,
          154,
          155,
          156,
          157,
          158,
          159,
          160,
          161,
          162,
          163,
          164,
          165,
          166,
          167,
          168,
          169,
          170,
          171,
          172,
          173,
          174,
          175,
          176,
          177,
          178,
          179,
          180,
          181,
          182,
          183,
          184,
          185,
          186,
          187,
          188,
          189,
          190,
          191,
          192,
          193,
          194,
          195,
          196,
          197,
          198,
          199,
          200,
          201,
          202,
          203,
          204,
          205,
          206,
          207,
          208,
          209,
          210,
          211,
          212,
          213,
          214,
          215,
          216,
          217,
          218,
          219,
          220,
          221,
          222,
          223,
          224,
          225,
          226,
          227,
          228,
          229,
          230,
          231,
          232,
          233,
          234,
          235,
          236,
          237,
          238,
          239,
          240,
          241,
          242,
          243,
          244,
          245,
          246,
          247,
          248,
          249,
          250,
          251,
          252,
          253,
          254,
          255,
          256,
          257,
          258,
          259,
          260,
          261,
          262,
          263,
          264,
          265,
          266,
          267,
          268,
          269,
          270,
          271,
          272,
          273,
          274,
          275,
          276,
          277,
          278,
          279,
          280,
          281,
          282,
          283,
          284,
          285,
          286,
          287,
          288,
          289,
          290,
          291,
          292,
          293,
          294,
          295,
          296,
          297,
          298,
          299,
          300,
          301,
          302,
          303,
          304,
          305,
          306,
          307,
          308,
          309,
          310,
          311,
          312,
          313,
          314,
          315,
          316,
          317,
          318,
          319,
          320,
          321,
          322,
          323,
          324,
          325,
          326,
          327,
          328,
          329,
          330,
          331,
          332,
          333,
          334,
          335,
          336,
          337,
          338,
          339,
          340,
          341,
          342,
          343,
          344,
          345,
          346,
          347,
          348,
          349,
          350,
          351,
          352,
          353,
          354,
          355,
          356,
          357,
          358,
          359
         ],
         "y": [
          492.8800650105418,
          540.2448974161507,
          588.1816904603343,
          637.2692314697038,
          685.7381809225935,
          734.7005184245955,
          783.6367637993186,
          833.284321183449,
          882.9522510184161,
          932.1673809734115,
          981.6016073347228,
          1030.6447963636833,
          1080.7763804720933,
          1130.3903990903673,
          1180.6850538456677,
          1229.9570272092642,
          1280.1220469981306,
          1330.7621881064952,
          1380.8542909436942,
          1431.735155205858,
          1481.8677254943036,
          1531.1321703706335,
          1581.907858630056,
          1633.1362221032145,
          1684.6646992307985,
          1735.0109069905277,
          1785.3461781900464,
          1837.1274559794642,
          1888.5078347507633,
          1939.7608378137988,
          1990.095383003008,
          2041.874253476342,
          2093.8410863257714,
          2145.723971527292,
          2197.6595044669975,
          2249.3188032788066,
          2301.5900379670907,
          2352.308606623275,
          2404.3277800317765,
          2457.0934877578075,
          2508.804824059905,
          2562.3654069376466,
          2615.1733473521867,
          2667.186013861224,
          2720.368012103674,
          2772.9419003387975,
          2826.6933193583222,
          2881.464367832352,
          2934.7428480975054,
          2989.024186890607,
          3043.236287892185,
          3097.0930154820867,
          3151.6482527518965,
          3204.1717007827997,
          3257.2151995312142,
          3313.564137195126,
          3365.3491535632165,
          3419.480518254445,
          3475.188099544621,
          3527.425651640516,
          3582.974138634167,
          3638.8767507341754,
          3694.705165921222,
          3750.409928160208,
          3805.0628132248567,
          3860.299208033265,
          3917.640648347179,
          3973.6967796579443,
          4031.65736589796,
          4086.436000699523,
          4141.917370431215,
          4199.529577012526,
          4255.792200101495,
          4314.955390560621,
          4370.778062626303,
          4427.181677594276,
          4483.47567563942,
          4542.258860149355,
          4601.238327517232,
          4660.625342091134,
          4715.761276969807,
          4775.67140231035,
          4832.812775224741,
          4893.31249280556,
          4949.767180891914,
          5011.241745744148,
          5069.915975049034,
          5128.102327816547,
          5185.0049276326345,
          5244.450088254614,
          5303.851250223114,
          5363.919535144583,
          5424.00682361373,
          5483.860940425977,
          5542.096557556538,
          5601.958357241063,
          5660.824888947793,
          5721.994620924384,
          5781.594891472108,
          5841.920989200588,
          5900.42859120508,
          5960.435543877366,
          6023.676159805491,
          6084.0511395552485,
          6144.951366206487,
          6208.097307463915,
          6270.709113659937,
          6331.805358578391,
          6395.899723962322,
          6456.039207249402,
          6519.993900204223,
          6583.144180947615,
          6642.185907906267,
          6703.491183211654,
          6766.085252557513,
          6830.483339207303,
          6895.575696755548,
          6961.191567184583,
          7022.794535921872,
          7087.671504838668,
          7150.166158413327,
          7211.33099711952,
          7275.209288712037,
          7339.062323861746,
          7404.239692652937,
          7469.07329100805,
          7532.019534044081,
          7599.72837236733,
          7666.017460525931,
          7731.596582435577,
          7796.364745784416,
          7859.7881599321645,
          7928.322750221535,
          7996.747418957526,
          8063.041978081264,
          8130.041872921156,
          8193.35936667463,
          8265.07309275043,
          8332.822059586842,
          8398.08791984165,
          8463.89153141705,
          8534.377115829857,
          8599.71165639239,
          8669.4433170468,
          8737.910048641692,
          8805.002098434941,
          8875.00838986117,
          8939.69596914178,
          9007.200239024412,
          9073.555543250342,
          9142.865945669342,
          9212.64520704279,
          9280.815447689289,
          9353.141221201842,
          9422.428233056322,
          9495.807147420108,
          9560.54246983081,
          9631.343421184549,
          9699.068999649277,
          9768.03089406521,
          9842.657128692028,
          9914.88892329394,
          9984.983787185523,
          10060.621748810569,
          10132.401531044707,
          10208.653800626724,
          10278.274491868488,
          10349.418218345829,
          10421.451015018984,
          10492.880334047539,
          10565.505647718996,
          10639.192287619837,
          10710.934893878566,
          10781.591867051746,
          10856.205296898845,
          10929.159985766513,
          11004.54420535889,
          11075.422095940741,
          11150.868758244418,
          11227.137958884521,
          11301.188509035179,
          11375.254797707954,
          11448.680771468313,
          11527.360720127925,
          11605.628353532422,
          11677.316624444084,
          11753.84171104666,
          11829.086020907213,
          11898.40303470613,
          11972.802161846954,
          12050.351329341229,
          12122.349670464748,
          12195.69449161955,
          12274.405076003995,
          12350.121154846485,
          12433.176932440294,
          12510.023331948547,
          12593.172544032028,
          12672.152445319922,
          12743.604308657195,
          12819.007922088755,
          12894.384198622061,
          12971.726014329066,
          13046.975881215998,
          13130.444795254753,
          13205.885969996943,
          13287.918126719087,
          13363.73971636616,
          13439.703707018101,
          13526.06117833504,
          13599.805229470105,
          13675.321334446522,
          13761.33526282775,
          13836.692630509444,
          13921.374861951746,
          14000.293698910195,
          14087.371372110885,
          14169.442576365258,
          14253.565501685824,
          14333.605769156153,
          14415.692792222695,
          14498.418705649427,
          14578.015764204058,
          14657.912146807204,
          14744.895626882771,
          14825.858502985087,
          14906.311505225438,
          14993.357099925073,
          15071.411883057306,
          15158.722865970247,
          15249.118117960625,
          15334.415583244054,
          15420.080324938448,
          15505.933079010589,
          15595.632424561576,
          15689.909647189867,
          15771.08041252978,
          15862.05682495855,
          15944.06354145416,
          16032.384607967651,
          16122.950859174209,
          16215.744619473426,
          16303.916049369469,
          16388.931175591213,
          16470.980580204476,
          16554.367077948446,
          16640.69254031737,
          16733.255297704243,
          16823.513165072076,
          16911.789448930216,
          17001.634823462817,
          17095.135542971577,
          17179.419064160218,
          17273.17925406117,
          17362.084638856693,
          17455.20259499919,
          17548.275173043294,
          17637.495773188315,
          17731.45506367425,
          17822.299377777836,
          17909.259588910154,
          17997.83344897963,
          18096.952220921445,
          18203.268782050458,
          18291.19374709539,
          18390.36902115326,
          18485.487967858026,
          18578.44334837653,
          18670.27478298435,
          18762.990204190537,
          18858.36563863566,
          18964.54859425828,
          19054.67158438962,
          19145.67984314385,
          19243.999644533553,
          19334.75939424008,
          19440.360489999723,
          19545.717850082627,
          19640.067676624014,
          19739.14296092224,
          19828.80844405734,
          19930.910897692975,
          20014.34061104003,
          20108.544154145355,
          20199.305709634675,
          20297.923200036133,
          20397.94685236176,
          20501.60959063209,
          20598.058473574998,
          20695.858720451633,
          20795.834645506595,
          20894.917368183767,
          21002.453231388903,
          21096.591138112424,
          21197.763836667902,
          21301.86569249207,
          21394.996761860497,
          21499.516876199083,
          21600.069231930735,
          21704.081134659536,
          21808.711810720328,
          21916.942582301126,
          22028.571819869925,
          22128.829045037055,
          22235.303600515348,
          22346.34075396041,
          22448.06202244475,
          22549.162284844635,
          22656.121429094455,
          22776.543260739207,
          22870.844537953206,
          22985.549033135096,
          23088.38186661361,
          23186.754125880172,
          23295.24990604009,
          23394.53978025639,
          23489.686722859286,
          23601.838826709572,
          23708.4911764943,
          23816.2320120598,
          23918.03851065796,
          24033.004328562245,
          24136.3967942066,
          24244.54153282723,
          24361.54226016203,
          24482.754205017503,
          24588.30752957763,
          24698.35363598537,
          24811.557401661732,
          24920.13908175268,
          25035.67352930936,
          25154.166464085265,
          25266.804802105587,
          25383.947755952548,
          25498.753521338505,
          25610.75506294435,
          25725.526520735915,
          25844.914412668048,
          25940.717337914757,
          26060.12268665564,
          26171.06464919464,
          26281.663672140385,
          26403.937124228272,
          26513.496373038874,
          26643.217013796875,
          26762.869460913233,
          26891.57649802376,
          27009.931783473105,
          27117.977049821122,
          27241.21258284955,
          27363.90368649479,
          27484.3595498092,
          27598.498281765394,
          27712.81326822631,
          27833.661333843673,
          27951.06680558812,
          28061.830585407202,
          28167.887995724966,
          28283.091529986585,
          28407.064557686575
         ]
        },
        {
         "fill": "tonexty",
         "fillcolor": "rgba(255, 0, 0, 0.5)",
         "line": {
          "color": "royalblue"
         },
         "mode": "lines",
         "name": "40Q",
         "type": "scatter",
         "x": [
          0,
          1,
          2,
          3,
          4,
          5,
          6,
          7,
          8,
          9,
          10,
          11,
          12,
          13,
          14,
          15,
          16,
          17,
          18,
          19,
          20,
          21,
          22,
          23,
          24,
          25,
          26,
          27,
          28,
          29,
          30,
          31,
          32,
          33,
          34,
          35,
          36,
          37,
          38,
          39,
          40,
          41,
          42,
          43,
          44,
          45,
          46,
          47,
          48,
          49,
          50,
          51,
          52,
          53,
          54,
          55,
          56,
          57,
          58,
          59,
          60,
          61,
          62,
          63,
          64,
          65,
          66,
          67,
          68,
          69,
          70,
          71,
          72,
          73,
          74,
          75,
          76,
          77,
          78,
          79,
          80,
          81,
          82,
          83,
          84,
          85,
          86,
          87,
          88,
          89,
          90,
          91,
          92,
          93,
          94,
          95,
          96,
          97,
          98,
          99,
          100,
          101,
          102,
          103,
          104,
          105,
          106,
          107,
          108,
          109,
          110,
          111,
          112,
          113,
          114,
          115,
          116,
          117,
          118,
          119,
          120,
          121,
          122,
          123,
          124,
          125,
          126,
          127,
          128,
          129,
          130,
          131,
          132,
          133,
          134,
          135,
          136,
          137,
          138,
          139,
          140,
          141,
          142,
          143,
          144,
          145,
          146,
          147,
          148,
          149,
          150,
          151,
          152,
          153,
          154,
          155,
          156,
          157,
          158,
          159,
          160,
          161,
          162,
          163,
          164,
          165,
          166,
          167,
          168,
          169,
          170,
          171,
          172,
          173,
          174,
          175,
          176,
          177,
          178,
          179,
          180,
          181,
          182,
          183,
          184,
          185,
          186,
          187,
          188,
          189,
          190,
          191,
          192,
          193,
          194,
          195,
          196,
          197,
          198,
          199,
          200,
          201,
          202,
          203,
          204,
          205,
          206,
          207,
          208,
          209,
          210,
          211,
          212,
          213,
          214,
          215,
          216,
          217,
          218,
          219,
          220,
          221,
          222,
          223,
          224,
          225,
          226,
          227,
          228,
          229,
          230,
          231,
          232,
          233,
          234,
          235,
          236,
          237,
          238,
          239,
          240,
          241,
          242,
          243,
          244,
          245,
          246,
          247,
          248,
          249,
          250,
          251,
          252,
          253,
          254,
          255,
          256,
          257,
          258,
          259,
          260,
          261,
          262,
          263,
          264,
          265,
          266,
          267,
          268,
          269,
          270,
          271,
          272,
          273,
          274,
          275,
          276,
          277,
          278,
          279,
          280,
          281,
          282,
          283,
          284,
          285,
          286,
          287,
          288,
          289,
          290,
          291,
          292,
          293,
          294,
          295,
          296,
          297,
          298,
          299,
          300,
          301,
          302,
          303,
          304,
          305,
          306,
          307,
          308,
          309,
          310,
          311,
          312,
          313,
          314,
          315,
          316,
          317,
          318,
          319,
          320,
          321,
          322,
          323,
          324,
          325,
          326,
          327,
          328,
          329,
          330,
          331,
          332,
          333,
          334,
          335,
          336,
          337,
          338,
          339,
          340,
          341,
          342,
          343,
          344,
          345,
          346,
          347,
          348,
          349,
          350,
          351,
          352,
          353,
          354,
          355,
          356,
          357,
          358,
          359
         ],
         "y": [
          498.86998129944885,
          549.2839523873619,
          600.1987623881075,
          650.9937903604125,
          701.8944581696614,
          753.6189036933063,
          805.1775338468293,
          856.9959922263765,
          909.0083175913261,
          960.5669306843193,
          1012.3254955295967,
          1064.92614783513,
          1117.3223805675746,
          1169.7471996852194,
          1222.5526911668237,
          1274.9328439469416,
          1327.7377911388285,
          1381.1021680205486,
          1434.2317206498556,
          1487.525241918968,
          1540.8287776833154,
          1595.7227469625927,
          1649.568939747513,
          1704.501974680762,
          1758.3375754174208,
          1812.6125967665837,
          1868.3111461760286,
          1921.9432558108372,
          1977.0496154965685,
          2031.3558993002935,
          2087.4200473631654,
          2143.0183861979904,
          2198.3739625878316,
          2253.599950066014,
          2308.5251331769227,
          2365.200672030171,
          2421.6067925540656,
          2477.3301003421184,
          2534.395617865696,
          2589.670535112028,
          2646.853052010447,
          2703.5046383716194,
          2761.4641941674226,
          2818.96840799602,
          2878.014210362745,
          2934.9233806766088,
          2992.04962860169,
          3048.288693061164,
          3108.029206713039,
          3166.1250536619414,
          3224.7833739511652,
          3283.5951582468297,
          3342.6331249078603,
          3403.1988201246018,
          3461.3811622513686,
          3521.437388517454,
          3579.9760782158965,
          3638.695010701401,
          3700.7884010703374,
          3760.8872210287427,
          3820.9414425782224,
          3880.500448871884,
          3941.67565752852,
          4002.004966455305,
          4063.0196695034515,
          4125.603771036909,
          4187.79600868928,
          4248.3397673358,
          4311.526473796805,
          4373.4644461075895,
          4435.654082505675,
          4497.331665547663,
          4558.533809948684,
          4622.320806314112,
          4683.286717825205,
          4745.108559776156,
          4811.396384232587,
          4872.9548861698395,
          4934.369707698983,
          4999.433113992361,
          5061.984628355639,
          5128.283244198332,
          5193.349934559619,
          5257.513858061702,
          5321.533469627031,
          5390.241182229358,
          5454.158878810211,
          5517.265554699864,
          5586.120086500001,
          5651.588876928104,
          5718.752188872073,
          5782.365672251601,
          5849.377067223551,
          5916.281345858039,
          5982.940995101687,
          6050.943971178141,
          6117.265696539329,
          6184.509124868784,
          6251.502486381767,
          6320.22566782746,
          6385.446405796734,
          6453.135074727275,
          6523.936314559411,
          6590.966264250906,
          6661.234438829852,
          6728.417084525882,
          6800.3246074209255,
          6871.902150714286,
          6939.2723716130395,
          7008.231416787074,
          7079.683697478258,
          7147.578247023708,
          7217.465853069313,
          7286.697335147289,
          7360.780475893028,
          7432.563607389904,
          7504.364282451419,
          7576.207567793613,
          7650.412749386527,
          7721.673992871949,
          7794.6298387340175,
          7863.350848121463,
          7936.074009281967,
          8008.491678541502,
          8080.159825253708,
          8155.597916895353,
          8226.637287056292,
          8302.917142817805,
          8378.280564903576,
          8454.402619145378,
          8526.434026069319,
          8599.908446921898,
          8674.795812918452,
          8752.048878298961,
          8830.394778782476,
          8902.731468638067,
          8977.047664317253,
          9050.654236702958,
          9126.212000751002,
          9203.19076216656,
          9275.334523823676,
          9352.05114203463,
          9428.717961992716,
          9502.064122800333,
          9579.453921283011,
          9659.8002122894,
          9735.67885602494,
          9811.156346888036,
          9886.625478352882,
          9971.650828403626,
          10050.210726527544,
          10129.69939436083,
          10209.70748641562,
          10283.44322852444,
          10366.377574589438,
          10446.496162862237,
          10524.721803053757,
          10604.36664278818,
          10680.854418062001,
          10763.829007782544,
          10847.744191377134,
          10931.731778879033,
          11015.342770841697,
          11097.239420422933,
          11180.791415937885,
          11259.610849404547,
          11338.361892332883,
          11419.490179120867,
          11505.360659141152,
          11585.481507665747,
          11668.46252737104,
          11750.863669995935,
          11836.618512630863,
          11920.319645794238,
          12006.021410828223,
          12091.831290507147,
          12174.133419835835,
          12261.226441072024,
          12346.722459836361,
          12440.458089369591,
          12521.905752339295,
          12613.406184203077,
          12698.676967027268,
          12785.169661910117,
          12873.40590393672,
          12960.32008691031,
          13048.963359139696,
          13134.142425346967,
          13224.802521280133,
          13311.115114270851,
          13403.135277252793,
          13491.206773797405,
          13579.256396757366,
          13668.622559036048,
          13757.352020249014,
          13845.973478271222,
          13940.607245815736,
          14029.344471798915,
          14119.418187895357,
          14210.636199202534,
          14307.90806840728,
          14398.990264575685,
          14490.641763434323,
          14581.795488398804,
          14670.341039289848,
          14762.089813165636,
          14855.772159800457,
          14945.934787887018,
          15035.079638193252,
          15136.264982429577,
          15224.44401405444,
          15318.948194339133,
          15412.767340162623,
          15513.653899560246,
          15611.372664029963,
          15706.740338286912,
          15806.137399995683,
          15904.522908448203,
          16003.706364134157,
          16101.40995724535,
          16204.392007490285,
          16297.863346182701,
          16398.037886602186,
          16499.585207202275,
          16597.509522936645,
          16691.615853568925,
          16795.999012610937,
          16906.365813858236,
          16998.36635391891,
          17100.71504822351,
          17195.0574685954,
          17297.120391204597,
          17397.9972312906,
          17497.318419439755,
          17603.912612099528,
          17703.814188134573,
          17802.177151786324,
          17899.76729485284,
          17998.979192543244,
          18101.888687561797,
          18209.48207368891,
          18311.529630404886,
          18420.259476203777,
          18520.517067074765,
          18627.884728101835,
          18732.327704150037,
          18841.21723109924,
          18942.29643525149,
          19043.299385830636,
          19152.434357873215,
          19258.243704196284,
          19368.52317686565,
          19473.47490043675,
          19577.86209100094,
          19681.131892733243,
          19791.19820854595,
          19899.63002904322,
          20007.790780975887,
          20117.257910020122,
          20227.51083342301,
          20342.189712498966,
          20446.865209891,
          20559.779305914202,
          20675.42829947593,
          20786.13249475409,
          20898.876986228133,
          21012.03027274052,
          21123.088496700606,
          21248.269313292585,
          21354.572506517106,
          21472.137033106806,
          21592.761121288248,
          21696.195988472922,
          21808.561320284225,
          21927.295062856996,
          22028.50469299836,
          22145.63873070471,
          22266.56257878935,
          22386.940656323113,
          22499.6101094279,
          22618.9305905719,
          22733.61886926309,
          22842.596904732698,
          22962.065697865877,
          23086.49106026398,
          23209.44062522151,
          23329.85489918071,
          23453.113236833076,
          23570.2623860177,
          23700.19707515451,
          23813.124341244817,
          23939.569513012742,
          24060.54575900682,
          24193.171304944128,
          24312.094428726865,
          24442.10532432556,
          24567.31301802538,
          24687.07177264688,
          24805.523908181014,
          24930.0651144231,
          25056.63862852074,
          25177.031652128364,
          25302.04012746826,
          25428.349206701656,
          25565.09483962776,
          25700.09746188397,
          25829.23042460569,
          25955.07463304163,
          26086.59222763288,
          26211.133161566227,
          26335.20252175523,
          26461.06404136186,
          26591.875454450135,
          26717.11886992496,
          26845.809814761724,
          26972.85540024094,
          27098.21436881255,
          27223.49778201896,
          27347.867820680527,
          27474.779789887234,
          27598.10574198571,
          27728.544344832393,
          27856.79248832011,
          27991.344097604117,
          28126.49910078699,
          28258.339194822387,
          28391.97711307145,
          28533.295718099267,
          28681.772680934366,
          28813.829928361032,
          28945.652205058534,
          29083.073414210077,
          29212.422951858294,
          29338.18573569445,
          29485.48636825972,
          29617.320422152552,
          29752.340120117835,
          29893.089033076423,
          30023.012942682337,
          30134.328376176923,
          30278.836810670255,
          30420.006025515147,
          30556.458878912304,
          30703.707348439668,
          30832.923759672718,
          30977.72795450811,
          31117.626778344966,
          31264.078493677764,
          31407.403241448097,
          31550.319198320885,
          31697.252921673335,
          31835.48688698533,
          31973.081103822966,
          32118.2169779919,
          32266.177395924715,
          32407.232376261287,
          32558.21084529016,
          32706.5873394208,
          32853.171472958,
          33006.94960851378
         ]
        },
        {
         "fill": "tonexty",
         "line": {
          "color": "royalblue"
         },
         "mode": "lines",
         "name": "60Q",
         "type": "scatter",
         "x": [
          0,
          1,
          2,
          3,
          4,
          5,
          6,
          7,
          8,
          9,
          10,
          11,
          12,
          13,
          14,
          15,
          16,
          17,
          18,
          19,
          20,
          21,
          22,
          23,
          24,
          25,
          26,
          27,
          28,
          29,
          30,
          31,
          32,
          33,
          34,
          35,
          36,
          37,
          38,
          39,
          40,
          41,
          42,
          43,
          44,
          45,
          46,
          47,
          48,
          49,
          50,
          51,
          52,
          53,
          54,
          55,
          56,
          57,
          58,
          59,
          60,
          61,
          62,
          63,
          64,
          65,
          66,
          67,
          68,
          69,
          70,
          71,
          72,
          73,
          74,
          75,
          76,
          77,
          78,
          79,
          80,
          81,
          82,
          83,
          84,
          85,
          86,
          87,
          88,
          89,
          90,
          91,
          92,
          93,
          94,
          95,
          96,
          97,
          98,
          99,
          100,
          101,
          102,
          103,
          104,
          105,
          106,
          107,
          108,
          109,
          110,
          111,
          112,
          113,
          114,
          115,
          116,
          117,
          118,
          119,
          120,
          121,
          122,
          123,
          124,
          125,
          126,
          127,
          128,
          129,
          130,
          131,
          132,
          133,
          134,
          135,
          136,
          137,
          138,
          139,
          140,
          141,
          142,
          143,
          144,
          145,
          146,
          147,
          148,
          149,
          150,
          151,
          152,
          153,
          154,
          155,
          156,
          157,
          158,
          159,
          160,
          161,
          162,
          163,
          164,
          165,
          166,
          167,
          168,
          169,
          170,
          171,
          172,
          173,
          174,
          175,
          176,
          177,
          178,
          179,
          180,
          181,
          182,
          183,
          184,
          185,
          186,
          187,
          188,
          189,
          190,
          191,
          192,
          193,
          194,
          195,
          196,
          197,
          198,
          199,
          200,
          201,
          202,
          203,
          204,
          205,
          206,
          207,
          208,
          209,
          210,
          211,
          212,
          213,
          214,
          215,
          216,
          217,
          218,
          219,
          220,
          221,
          222,
          223,
          224,
          225,
          226,
          227,
          228,
          229,
          230,
          231,
          232,
          233,
          234,
          235,
          236,
          237,
          238,
          239,
          240,
          241,
          242,
          243,
          244,
          245,
          246,
          247,
          248,
          249,
          250,
          251,
          252,
          253,
          254,
          255,
          256,
          257,
          258,
          259,
          260,
          261,
          262,
          263,
          264,
          265,
          266,
          267,
          268,
          269,
          270,
          271,
          272,
          273,
          274,
          275,
          276,
          277,
          278,
          279,
          280,
          281,
          282,
          283,
          284,
          285,
          286,
          287,
          288,
          289,
          290,
          291,
          292,
          293,
          294,
          295,
          296,
          297,
          298,
          299,
          300,
          301,
          302,
          303,
          304,
          305,
          306,
          307,
          308,
          309,
          310,
          311,
          312,
          313,
          314,
          315,
          316,
          317,
          318,
          319,
          320,
          321,
          322,
          323,
          324,
          325,
          326,
          327,
          328,
          329,
          330,
          331,
          332,
          333,
          334,
          335,
          336,
          337,
          338,
          339,
          340,
          341,
          342,
          343,
          344,
          345,
          346,
          347,
          348,
          349,
          350,
          351,
          352,
          353,
          354,
          355,
          356,
          357,
          358,
          359
         ],
         "y": [
          504.3096510799478,
          557.3936908600155,
          610.4461699329718,
          663.6412157248262,
          717.001591578583,
          770.385951251485,
          823.9233126573689,
          877.4601857957553,
          931.5642567231394,
          985.6087348869635,
          1039.9966856260023,
          1093.942963205122,
          1149.10161544764,
          1203.6669875281166,
          1258.6710399500878,
          1315.5188098771719,
          1370.345245538604,
          1426.8435621424737,
          1482.5932236438803,
          1538.2202812732946,
          1595.171811419957,
          1650.845564083857,
          1709.3540239867336,
          1765.6974531093008,
          1823.5408305583387,
          1880.7407746292142,
          1938.143292278275,
          1996.0147298696265,
          2054.2183379340267,
          2113.8311429111973,
          2171.6649083165803,
          2229.7317186356763,
          2289.7891600172816,
          2347.7982441601553,
          2408.2380511793663,
          2466.9528789139695,
          2526.5846348426785,
          2586.355710791239,
          2646.6876812686587,
          2707.060605406767,
          2767.576097141123,
          2827.886724223068,
          2888.6417854479487,
          2950.848789749072,
          3011.0749366948294,
          3072.941427421694,
          3134.5433903276935,
          3196.4977939054015,
          3260.1078499332016,
          3323.0677831653825,
          3386.354234099558,
          3449.7453895780277,
          3514.5567364952067,
          3577.007462127467,
          3641.9395176510598,
          3705.3005417751037,
          3769.786500302541,
          3832.934480030616,
          3897.6861686381326,
          3961.531448572714,
          4028.695721277039,
          4094.4184413795424,
          4159.665893075555,
          4224.281170865014,
          4289.207453737819,
          4356.636273060034,
          4423.658081915952,
          4489.399733552104,
          4556.379140298275,
          4622.930142581242,
          4692.454721952565,
          4760.67724540678,
          4828.570565461448,
          4896.322005467945,
          4965.545222532688,
          5033.928684865452,
          5102.112647751974,
          5171.880137721673,
          5238.608899560719,
          5309.489109445778,
          5377.449785294122,
          5447.1929383188035,
          5518.813322036927,
          5588.857909354252,
          5660.417193694406,
          5729.866463763328,
          5799.251262611284,
          5872.882086894415,
          5946.8138457448385,
          6015.205428742342,
          6089.154698783179,
          6161.967476067099,
          6233.7525806578415,
          6305.987349586835,
          6377.820764363027,
          6453.432117733257,
          6528.196855965525,
          6600.598827678884,
          6674.373571716762,
          6748.176683971662,
          6824.224678493678,
          6899.009277318453,
          6975.668911120249,
          7049.952512503949,
          7128.381697450027,
          7203.228283769685,
          7280.041608627411,
          7355.563387035936,
          7434.205187178768,
          7506.567025858654,
          7584.53745511446,
          7662.474279330605,
          7737.242216959974,
          7816.201926619209,
          7895.123517911882,
          7974.239303715047,
          8055.255752886562,
          8133.944920716472,
          8208.25215411272,
          8290.516949916731,
          8372.982044044053,
          8454.580172483988,
          8533.812930553571,
          8615.197759931736,
          8694.822479740531,
          8776.234449622629,
          8854.867820927062,
          8938.607902136991,
          9020.333140941671,
          9102.14383382235,
          9184.913220564002,
          9266.526321231724,
          9351.522091735638,
          9439.501318582772,
          9523.668673918684,
          9611.418525152862,
          9695.44194540943,
          9780.367673921945,
          9865.104203090232,
          9951.010159927351,
          10038.537237186976,
          10125.057321696582,
          10205.884482419078,
          10292.443312574356,
          10377.192672138299,
          10464.654834018336,
          10552.361043238961,
          10639.498250489803,
          10726.365692161366,
          10815.66178923393,
          10905.33497206138,
          10998.133377992403,
          11083.441973412437,
          11171.62699322149,
          11266.225719384442,
          11358.615143786412,
          11445.164869843262,
          11536.482498325355,
          11622.315607519864,
          11716.570837895513,
          11808.525158240285,
          11903.21206707976,
          11995.745575488145,
          12086.187137941022,
          12178.037340485229,
          12271.663721482471,
          12359.897396298182,
          12452.726027575156,
          12546.800172446965,
          12643.91246418962,
          12735.92071170101,
          12831.069088577031,
          12928.758005227135,
          13025.340912597962,
          13120.426887197187,
          13219.466125570403,
          13316.437434668012,
          13409.854799702785,
          13507.016810235136,
          13604.855379358942,
          13706.451484866062,
          13801.501590351556,
          13898.881106559988,
          13999.969460767396,
          14104.199751770084,
          14198.869609708556,
          14306.75238484262,
          14413.686719438472,
          14516.934288026707,
          14622.486394073141,
          14718.24554556634,
          14820.475921241632,
          14925.52612770077,
          15030.512751496366,
          15130.32447849263,
          15231.411874162277,
          15335.646400399368,
          15435.173204048591,
          15550.215526931395,
          15656.595083754033,
          15759.863317872361,
          15866.940791793179,
          15968.072201448196,
          16074.203594238208,
          16185.720479334937,
          16292.171491944078,
          16398.347525605466,
          16504.96685411953,
          16613.287116080326,
          16718.929055281726,
          16829.962759584087,
          16940.040716806507,
          17049.43409571611,
          17161.0267814663,
          17271.176561910397,
          17384.111475859703,
          17494.449930815204,
          17610.575044884103,
          17719.556207680725,
          17834.15619887215,
          17936.77069039902,
          18058.777241441498,
          18175.85989723325,
          18289.472041566172,
          18403.166320682238,
          18510.857657567794,
          18622.34927389271,
          18735.76043674374,
          18848.05797384579,
          18963.811575059837,
          19082.797922536232,
          19192.146794984357,
          19312.74188586152,
          19425.62482221052,
          19541.553549196247,
          19660.129270975736,
          19783.87356867408,
          19905.52705850462,
          20030.42876537663,
          20140.048079833257,
          20280.445966224182,
          20395.625270332668,
          20531.001808430738,
          20659.3951249604,
          20777.584986227743,
          20909.58701933096,
          21021.411878904728,
          21149.426572426048,
          21269.891958156855,
          21389.31699551691,
          21513.055901917098,
          21643.227450136004,
          21762.03019708224,
          21879.789383031177,
          22009.081763267983,
          22134.280984631776,
          22260.19546698858,
          22380.190874267544,
          22512.944814985854,
          22642.892818877626,
          22787.570583961315,
          22915.620988868082,
          23043.600586710185,
          23178.080869103378,
          23310.609247899192,
          23449.526055030845,
          23577.972257177968,
          23714.991583626645,
          23842.930017282008,
          23988.21047495151,
          24124.818632308066,
          24257.884613815804,
          24380.813610356618,
          24510.546447632412,
          24642.27457222075,
          24797.32013011713,
          24940.26308220065,
          25063.237648635462,
          25203.94763323803,
          25343.890897058936,
          25491.559433409595,
          25629.367582674015,
          25764.635995586126,
          25909.4369247691,
          26042.007694901185,
          26174.45021505215,
          26317.258800558746,
          26455.483819261084,
          26587.952384855096,
          26742.41584737721,
          26880.304208596535,
          27037.522312905363,
          27182.317991850185,
          27322.45520878858,
          27459.98160688846,
          27599.60553469092,
          27753.435008785313,
          27893.459088072937,
          28035.025062976358,
          28186.200197854574,
          28336.23647904809,
          28484.25610719354,
          28630.465424645998,
          28774.383607594245,
          28929.889813637572,
          29091.40398208599,
          29249.618791131066,
          29394.19096218492,
          29554.137543280078,
          29703.53107892074,
          29853.43925152287,
          30000.91477147853,
          30156.41833260507,
          30324.431493581887,
          30475.24713302144,
          30623.232795256816,
          30780.272171325425,
          30949.201732364745,
          31095.02891706375,
          31266.18610572184,
          31430.78875758287,
          31586.394578988962,
          31742.547609335656,
          31889.33371315971,
          32061.361633949597,
          32226.91067882783,
          32378.47992841592,
          32544.798250913067,
          32703.079342787223,
          32868.33074911836,
          33025.4893939483,
          33179.97399826687,
          33352.3182306801,
          33512.61901813723,
          33669.465397069755,
          33839.990886358995,
          34016.25553667087,
          34171.771908350085,
          34334.66757433028,
          34494.868650482356,
          34665.31163111409,
          34845.653853692755,
          35013.77208941612,
          35190.63554936861,
          35359.07649312765,
          35531.87145016454,
          35702.690173761315,
          35887.055115509895,
          36054.71697327813,
          36234.50586091538,
          36411.96514752495,
          36609.76721009823,
          36774.26299184764,
          36958.462993798676,
          37145.00581928263,
          37309.36727238668,
          37496.9938058017,
          37660.05353673009,
          37843.661906975714,
          38003.635040293644
         ]
        },
        {
         "fill": "tonexty",
         "line": {
          "color": "green"
         },
         "mode": "lines",
         "name": "80Q",
         "type": "scatter",
         "x": [
          0,
          1,
          2,
          3,
          4,
          5,
          6,
          7,
          8,
          9,
          10,
          11,
          12,
          13,
          14,
          15,
          16,
          17,
          18,
          19,
          20,
          21,
          22,
          23,
          24,
          25,
          26,
          27,
          28,
          29,
          30,
          31,
          32,
          33,
          34,
          35,
          36,
          37,
          38,
          39,
          40,
          41,
          42,
          43,
          44,
          45,
          46,
          47,
          48,
          49,
          50,
          51,
          52,
          53,
          54,
          55,
          56,
          57,
          58,
          59,
          60,
          61,
          62,
          63,
          64,
          65,
          66,
          67,
          68,
          69,
          70,
          71,
          72,
          73,
          74,
          75,
          76,
          77,
          78,
          79,
          80,
          81,
          82,
          83,
          84,
          85,
          86,
          87,
          88,
          89,
          90,
          91,
          92,
          93,
          94,
          95,
          96,
          97,
          98,
          99,
          100,
          101,
          102,
          103,
          104,
          105,
          106,
          107,
          108,
          109,
          110,
          111,
          112,
          113,
          114,
          115,
          116,
          117,
          118,
          119,
          120,
          121,
          122,
          123,
          124,
          125,
          126,
          127,
          128,
          129,
          130,
          131,
          132,
          133,
          134,
          135,
          136,
          137,
          138,
          139,
          140,
          141,
          142,
          143,
          144,
          145,
          146,
          147,
          148,
          149,
          150,
          151,
          152,
          153,
          154,
          155,
          156,
          157,
          158,
          159,
          160,
          161,
          162,
          163,
          164,
          165,
          166,
          167,
          168,
          169,
          170,
          171,
          172,
          173,
          174,
          175,
          176,
          177,
          178,
          179,
          180,
          181,
          182,
          183,
          184,
          185,
          186,
          187,
          188,
          189,
          190,
          191,
          192,
          193,
          194,
          195,
          196,
          197,
          198,
          199,
          200,
          201,
          202,
          203,
          204,
          205,
          206,
          207,
          208,
          209,
          210,
          211,
          212,
          213,
          214,
          215,
          216,
          217,
          218,
          219,
          220,
          221,
          222,
          223,
          224,
          225,
          226,
          227,
          228,
          229,
          230,
          231,
          232,
          233,
          234,
          235,
          236,
          237,
          238,
          239,
          240,
          241,
          242,
          243,
          244,
          245,
          246,
          247,
          248,
          249,
          250,
          251,
          252,
          253,
          254,
          255,
          256,
          257,
          258,
          259,
          260,
          261,
          262,
          263,
          264,
          265,
          266,
          267,
          268,
          269,
          270,
          271,
          272,
          273,
          274,
          275,
          276,
          277,
          278,
          279,
          280,
          281,
          282,
          283,
          284,
          285,
          286,
          287,
          288,
          289,
          290,
          291,
          292,
          293,
          294,
          295,
          296,
          297,
          298,
          299,
          300,
          301,
          302,
          303,
          304,
          305,
          306,
          307,
          308,
          309,
          310,
          311,
          312,
          313,
          314,
          315,
          316,
          317,
          318,
          319,
          320,
          321,
          322,
          323,
          324,
          325,
          326,
          327,
          328,
          329,
          330,
          331,
          332,
          333,
          334,
          335,
          336,
          337,
          338,
          339,
          340,
          341,
          342,
          343,
          344,
          345,
          346,
          347,
          348,
          349,
          350,
          351,
          352,
          353,
          354,
          355,
          356,
          357,
          358,
          359
         ],
         "y": [
          510.5532286887897,
          566.7370482749972,
          622.5532381165885,
          678.6850724185779,
          734.2721557434166,
          790.1604221958471,
          846.7256029907882,
          903.1476408663375,
          959.6570103750555,
          1016.637594075878,
          1073.847237118111,
          1131.3806304829877,
          1189.2928823572734,
          1246.7310666077842,
          1305.2598583982574,
          1363.9123266339204,
          1422.7835205418987,
          1481.7594342206676,
          1541.083294131486,
          1600.6641761971218,
          1660.9280618973285,
          1720.9224613501358,
          1782.0215532589448,
          1842.345408982694,
          1903.1461746695313,
          1963.9655202552317,
          2025.104994491293,
          2086.6003875283786,
          2149.294664580918,
          2211.5511652614223,
          2274.1146750909516,
          2336.82624694036,
          2399.282995664283,
          2464.1251254314275,
          2528.8322368174013,
          2591.9296616594784,
          2655.836180632765,
          2720.376497307473,
          2784.6524708274674,
          2850.466918308367,
          2916.9530223890456,
          2982.9032738814262,
          3047.54777065941,
          3114.3445535479295,
          3182.1371823739582,
          3248.684549916936,
          3314.0867898441115,
          3381.6531528589444,
          3449.2523590177084,
          3517.0317647050533,
          3586.293942964542,
          3654.259059862551,
          3723.8826243501285,
          3793.6680928511455,
          3863.0660988947902,
          3933.335931977627,
          4003.076897254888,
          4076.2150671668014,
          4146.866698919039,
          4219.130689316153,
          4288.727520814284,
          4360.108623438628,
          4432.171915923643,
          4503.624977057958,
          4577.812754193271,
          4650.688552094115,
          4725.662639032263,
          4800.055073493469,
          4872.132647520012,
          4946.718122179927,
          5020.378223296193,
          5093.745689958424,
          5172.354284300325,
          5246.971136133316,
          5323.054475884142,
          5398.738693335139,
          5475.469974685283,
          5552.519574745384,
          5633.911425877046,
          5705.214075393471,
          5781.890942258385,
          5858.435730071946,
          5936.787039026829,
          6017.44985650274,
          6093.184525633579,
          6167.209568256081,
          6246.267217886648,
          6326.252178424392,
          6403.682064074746,
          6484.556440753224,
          6566.751780189465,
          6649.5065844446,
          6728.382598630393,
          6808.7787769058805,
          6895.840456064085,
          6975.069083452368,
          7055.60257472248,
          7139.399099915173,
          7222.0100525280795,
          7304.81459340862,
          7387.12937319426,
          7471.252604573265,
          7554.626537507819,
          7641.65069243142,
          7724.225116264502,
          7807.542239692935,
          7895.829891416326,
          7983.473325269546,
          8070.895827398259,
          8152.910956391352,
          8241.250797799486,
          8327.820972176358,
          8413.670169436371,
          8504.637035838814,
          8589.392881663865,
          8678.533239611555,
          8770.488656691947,
          8856.417778470874,
          8948.019631768628,
          9036.51440782995,
          9130.600154985246,
          9220.640369452665,
          9309.099553014375,
          9398.744228666961,
          9492.581422009813,
          9586.863078472308,
          9682.060383825563,
          9775.126916723906,
          9868.17599625025,
          9963.48841750202,
          10061.458183367298,
          10148.672216474697,
          10249.923688081173,
          10348.642304526651,
          10441.607448923785,
          10534.025784081281,
          10631.922460924397,
          10724.543824829647,
          10831.596119738086,
          10927.477673908292,
          11030.83033940665,
          11125.691974808353,
          11231.572057638892,
          11332.218594510452,
          11431.01728056854,
          11529.257463043681,
          11630.016538126798,
          11734.804011929693,
          11830.221442557195,
          11933.041034394375,
          12030.100129790719,
          12133.385510072369,
          12237.201640925327,
          12346.63802482754,
          12451.164175549393,
          12557.641862476208,
          12663.291999236353,
          12766.418288677301,
          12865.500740981055,
          12979.725976859809,
          13074.990969709046,
          13178.486673087844,
          13284.076913815257,
          13397.326288063048,
          13499.304914884879,
          13610.444393428908,
          13716.347714412506,
          13827.052744383345,
          13932.580129389036,
          14039.63914566235,
          14156.373759765562,
          14266.666090115094,
          14373.439757802007,
          14484.658073001217,
          14597.05290634388,
          14699.526604950379,
          14813.573230613922,
          14918.763468939414,
          15031.447742938202,
          15141.183540977678,
          15254.56646697232,
          15370.056540680895,
          15479.989935254507,
          15601.741954479294,
          15712.730569551582,
          15824.335220473564,
          15940.916820114115,
          16063.580291499717,
          16182.012724687864,
          16301.53376214551,
          16427.343749901887,
          16552.898961899944,
          16669.14135659523,
          16785.7227033421,
          16903.918102126685,
          17025.305818579094,
          17144.21389376033,
          17265.155192907063,
          17384.721051351335,
          17507.22030509251,
          17625.824056729514,
          17746.729511264417,
          17872.280639521006,
          17995.58285330112,
          18114.97099385446,
          18239.008513082907,
          18363.962297453465,
          18487.28541863311,
          18614.30957864738,
          18733.351455055665,
          18867.124984836177,
          18990.122769254274,
          19122.319002212185,
          19250.394927789413,
          19395.028373520527,
          19525.706585141405,
          19659.6263428685,
          19786.95637902571,
          19913.499908715803,
          20045.805743889592,
          20187.57169092883,
          20321.088558856198,
          20454.50595289262,
          20589.274656970905,
          20728.472588908415,
          20866.007246554305,
          21001.645482529922,
          21139.906030795184,
          21278.322904590757,
          21415.097571524708,
          21541.157091510184,
          21688.879985988722,
          21823.29200000861,
          21963.0238513754,
          22095.76674831887,
          22239.36598101866,
          22381.16066222286,
          22514.74739309404,
          22647.673278162223,
          22798.67561653824,
          22932.2938579031,
          23080.547448755216,
          23231.484351105515,
          23368.096316245465,
          23525.481348281493,
          23674.44094521238,
          23832.61992963441,
          23971.087086889416,
          24124.353143123044,
          24275.580627705014,
          24426.59879402499,
          24575.22660852023,
          24730.971583210867,
          24872.75874657261,
          25019.771315765815,
          25172.56732372585,
          25321.523180726457,
          25470.62500033355,
          25635.303789270125,
          25789.46472319513,
          25934.425467619792,
          26092.305531889655,
          26235.01044810621,
          26393.036669527333,
          26554.603767106506,
          26715.79272888036,
          26876.294666920374,
          27049.901689521128,
          27208.336624434363,
          27363.03939472791,
          27539.08652158916,
          27688.544435825184,
          27855.348494746027,
          28016.066361862777,
          28180.396837587767,
          28353.686257789806,
          28521.172857460224,
          28677.143367618268,
          28841.92688810785,
          29015.7711667053,
          29179.988242367886,
          29345.55687316478,
          29515.596967761678,
          29680.66434415444,
          29869.96636758541,
          30026.9309859503,
          30203.968245145148,
          30380.652593186565,
          30546.163081658808,
          30731.434795672827,
          30907.2908653334,
          31062.94504636236,
          31242.54514327283,
          31426.10107712514,
          31623.109381960403,
          31798.247976838,
          31982.03483315413,
          32159.407647860247,
          32334.86893553292,
          32520.83059156427,
          32701.028695436136,
          32868.95098317669,
          33050.66146525565,
          33227.741023055925,
          33413.86816434898,
          33583.90187953056,
          33757.61253833344,
          33944.305656835226,
          34116.25728561065,
          34282.15233128825,
          34471.952005036466,
          34673.811245476085,
          34826.53715106939,
          35011.64357814115,
          35195.366998035664,
          35401.224940845736,
          35593.5256218257,
          35784.42944328725,
          35977.26581531145,
          36175.01015839298,
          36377.627618023085,
          36554.84811263763,
          36740.4409356481,
          36953.77472587547,
          37136.940013588246,
          37317.07685898164,
          37534.114005500545,
          37736.11250469621,
          37985.15602013171,
          38153.99571823529,
          38369.20628114488,
          38546.93293779403,
          38735.21824303308,
          38931.22610038193,
          39122.2993018101,
          39327.5125052979,
          39540.49468453652,
          39737.21391688101,
          39930.48923093886,
          40145.40967960525,
          40330.15813948272,
          40533.9298290762,
          40745.801699567965,
          40959.10469993985,
          41163.842456341314,
          41361.98615952845,
          41587.2634233811,
          41781.74885960621,
          41990.14035583897,
          42181.668777432744,
          42392.14186386699,
          42627.79380313494,
          42832.92865818143,
          43067.429288058614,
          43273.31889688707,
          43498.814521277585,
          43710.93788173498,
          43930.980189503134,
          44131.44397537249,
          44346.388870812734
         ]
        }
       ],
       "layout": {
        "autosize": false,
        "height": 500,
        "margin": {
         "b": 100,
         "l": 50,
         "pad": 4,
         "r": 50,
         "t": 100
        },
        "paper_bgcolor": "whitesmoke",
        "template": {
         "data": {
          "bar": [
           {
            "error_x": {
             "color": "#2a3f5f"
            },
            "error_y": {
             "color": "#2a3f5f"
            },
            "marker": {
             "line": {
              "color": "#E5ECF6",
              "width": 0.5
             }
            },
            "type": "bar"
           }
          ],
          "barpolar": [
           {
            "marker": {
             "line": {
              "color": "#E5ECF6",
              "width": 0.5
             }
            },
            "type": "barpolar"
           }
          ],
          "carpet": [
           {
            "aaxis": {
             "endlinecolor": "#2a3f5f",
             "gridcolor": "white",
             "linecolor": "white",
             "minorgridcolor": "white",
             "startlinecolor": "#2a3f5f"
            },
            "baxis": {
             "endlinecolor": "#2a3f5f",
             "gridcolor": "white",
             "linecolor": "white",
             "minorgridcolor": "white",
             "startlinecolor": "#2a3f5f"
            },
            "type": "carpet"
           }
          ],
          "choropleth": [
           {
            "colorbar": {
             "outlinewidth": 0,
             "ticks": ""
            },
            "type": "choropleth"
           }
          ],
          "contour": [
           {
            "colorbar": {
             "outlinewidth": 0,
             "ticks": ""
            },
            "colorscale": [
             [
              0,
              "#0d0887"
             ],
             [
              0.1111111111111111,
              "#46039f"
             ],
             [
              0.2222222222222222,
              "#7201a8"
             ],
             [
              0.3333333333333333,
              "#9c179e"
             ],
             [
              0.4444444444444444,
              "#bd3786"
             ],
             [
              0.5555555555555556,
              "#d8576b"
             ],
             [
              0.6666666666666666,
              "#ed7953"
             ],
             [
              0.7777777777777778,
              "#fb9f3a"
             ],
             [
              0.8888888888888888,
              "#fdca26"
             ],
             [
              1,
              "#f0f921"
             ]
            ],
            "type": "contour"
           }
          ],
          "contourcarpet": [
           {
            "colorbar": {
             "outlinewidth": 0,
             "ticks": ""
            },
            "type": "contourcarpet"
           }
          ],
          "heatmap": [
           {
            "colorbar": {
             "outlinewidth": 0,
             "ticks": ""
            },
            "colorscale": [
             [
              0,
              "#0d0887"
             ],
             [
              0.1111111111111111,
              "#46039f"
             ],
             [
              0.2222222222222222,
              "#7201a8"
             ],
             [
              0.3333333333333333,
              "#9c179e"
             ],
             [
              0.4444444444444444,
              "#bd3786"
             ],
             [
              0.5555555555555556,
              "#d8576b"
             ],
             [
              0.6666666666666666,
              "#ed7953"
             ],
             [
              0.7777777777777778,
              "#fb9f3a"
             ],
             [
              0.8888888888888888,
              "#fdca26"
             ],
             [
              1,
              "#f0f921"
             ]
            ],
            "type": "heatmap"
           }
          ],
          "heatmapgl": [
           {
            "colorbar": {
             "outlinewidth": 0,
             "ticks": ""
            },
            "colorscale": [
             [
              0,
              "#0d0887"
             ],
             [
              0.1111111111111111,
              "#46039f"
             ],
             [
              0.2222222222222222,
              "#7201a8"
             ],
             [
              0.3333333333333333,
              "#9c179e"
             ],
             [
              0.4444444444444444,
              "#bd3786"
             ],
             [
              0.5555555555555556,
              "#d8576b"
             ],
             [
              0.6666666666666666,
              "#ed7953"
             ],
             [
              0.7777777777777778,
              "#fb9f3a"
             ],
             [
              0.8888888888888888,
              "#fdca26"
             ],
             [
              1,
              "#f0f921"
             ]
            ],
            "type": "heatmapgl"
           }
          ],
          "histogram": [
           {
            "marker": {
             "colorbar": {
              "outlinewidth": 0,
              "ticks": ""
             }
            },
            "type": "histogram"
           }
          ],
          "histogram2d": [
           {
            "colorbar": {
             "outlinewidth": 0,
             "ticks": ""
            },
            "colorscale": [
             [
              0,
              "#0d0887"
             ],
             [
              0.1111111111111111,
              "#46039f"
             ],
             [
              0.2222222222222222,
              "#7201a8"
             ],
             [
              0.3333333333333333,
              "#9c179e"
             ],
             [
              0.4444444444444444,
              "#bd3786"
             ],
             [
              0.5555555555555556,
              "#d8576b"
             ],
             [
              0.6666666666666666,
              "#ed7953"
             ],
             [
              0.7777777777777778,
              "#fb9f3a"
             ],
             [
              0.8888888888888888,
              "#fdca26"
             ],
             [
              1,
              "#f0f921"
             ]
            ],
            "type": "histogram2d"
           }
          ],
          "histogram2dcontour": [
           {
            "colorbar": {
             "outlinewidth": 0,
             "ticks": ""
            },
            "colorscale": [
             [
              0,
              "#0d0887"
             ],
             [
              0.1111111111111111,
              "#46039f"
             ],
             [
              0.2222222222222222,
              "#7201a8"
             ],
             [
              0.3333333333333333,
              "#9c179e"
             ],
             [
              0.4444444444444444,
              "#bd3786"
             ],
             [
              0.5555555555555556,
              "#d8576b"
             ],
             [
              0.6666666666666666,
              "#ed7953"
             ],
             [
              0.7777777777777778,
              "#fb9f3a"
             ],
             [
              0.8888888888888888,
              "#fdca26"
             ],
             [
              1,
              "#f0f921"
             ]
            ],
            "type": "histogram2dcontour"
           }
          ],
          "mesh3d": [
           {
            "colorbar": {
             "outlinewidth": 0,
             "ticks": ""
            },
            "type": "mesh3d"
           }
          ],
          "parcoords": [
           {
            "line": {
             "colorbar": {
              "outlinewidth": 0,
              "ticks": ""
             }
            },
            "type": "parcoords"
           }
          ],
          "pie": [
           {
            "automargin": true,
            "type": "pie"
           }
          ],
          "scatter": [
           {
            "marker": {
             "colorbar": {
              "outlinewidth": 0,
              "ticks": ""
             }
            },
            "type": "scatter"
           }
          ],
          "scatter3d": [
           {
            "line": {
             "colorbar": {
              "outlinewidth": 0,
              "ticks": ""
             }
            },
            "marker": {
             "colorbar": {
              "outlinewidth": 0,
              "ticks": ""
             }
            },
            "type": "scatter3d"
           }
          ],
          "scattercarpet": [
           {
            "marker": {
             "colorbar": {
              "outlinewidth": 0,
              "ticks": ""
             }
            },
            "type": "scattercarpet"
           }
          ],
          "scattergeo": [
           {
            "marker": {
             "colorbar": {
              "outlinewidth": 0,
              "ticks": ""
             }
            },
            "type": "scattergeo"
           }
          ],
          "scattergl": [
           {
            "marker": {
             "colorbar": {
              "outlinewidth": 0,
              "ticks": ""
             }
            },
            "type": "scattergl"
           }
          ],
          "scattermapbox": [
           {
            "marker": {
             "colorbar": {
              "outlinewidth": 0,
              "ticks": ""
             }
            },
            "type": "scattermapbox"
           }
          ],
          "scatterpolar": [
           {
            "marker": {
             "colorbar": {
              "outlinewidth": 0,
              "ticks": ""
             }
            },
            "type": "scatterpolar"
           }
          ],
          "scatterpolargl": [
           {
            "marker": {
             "colorbar": {
              "outlinewidth": 0,
              "ticks": ""
             }
            },
            "type": "scatterpolargl"
           }
          ],
          "scatterternary": [
           {
            "marker": {
             "colorbar": {
              "outlinewidth": 0,
              "ticks": ""
             }
            },
            "type": "scatterternary"
           }
          ],
          "surface": [
           {
            "colorbar": {
             "outlinewidth": 0,
             "ticks": ""
            },
            "colorscale": [
             [
              0,
              "#0d0887"
             ],
             [
              0.1111111111111111,
              "#46039f"
             ],
             [
              0.2222222222222222,
              "#7201a8"
             ],
             [
              0.3333333333333333,
              "#9c179e"
             ],
             [
              0.4444444444444444,
              "#bd3786"
             ],
             [
              0.5555555555555556,
              "#d8576b"
             ],
             [
              0.6666666666666666,
              "#ed7953"
             ],
             [
              0.7777777777777778,
              "#fb9f3a"
             ],
             [
              0.8888888888888888,
              "#fdca26"
             ],
             [
              1,
              "#f0f921"
             ]
            ],
            "type": "surface"
           }
          ],
          "table": [
           {
            "cells": {
             "fill": {
              "color": "#EBF0F8"
             },
             "line": {
              "color": "white"
             }
            },
            "header": {
             "fill": {
              "color": "#C8D4E3"
             },
             "line": {
              "color": "white"
             }
            },
            "type": "table"
           }
          ]
         },
         "layout": {
          "annotationdefaults": {
           "arrowcolor": "#2a3f5f",
           "arrowhead": 0,
           "arrowwidth": 1
          },
          "autotypenumbers": "strict",
          "coloraxis": {
           "colorbar": {
            "outlinewidth": 0,
            "ticks": ""
           }
          },
          "colorscale": {
           "diverging": [
            [
             0,
             "#8e0152"
            ],
            [
             0.1,
             "#c51b7d"
            ],
            [
             0.2,
             "#de77ae"
            ],
            [
             0.3,
             "#f1b6da"
            ],
            [
             0.4,
             "#fde0ef"
            ],
            [
             0.5,
             "#f7f7f7"
            ],
            [
             0.6,
             "#e6f5d0"
            ],
            [
             0.7,
             "#b8e186"
            ],
            [
             0.8,
             "#7fbc41"
            ],
            [
             0.9,
             "#4d9221"
            ],
            [
             1,
             "#276419"
            ]
           ],
           "sequential": [
            [
             0,
             "#0d0887"
            ],
            [
             0.1111111111111111,
             "#46039f"
            ],
            [
             0.2222222222222222,
             "#7201a8"
            ],
            [
             0.3333333333333333,
             "#9c179e"
            ],
            [
             0.4444444444444444,
             "#bd3786"
            ],
            [
             0.5555555555555556,
             "#d8576b"
            ],
            [
             0.6666666666666666,
             "#ed7953"
            ],
            [
             0.7777777777777778,
             "#fb9f3a"
            ],
            [
             0.8888888888888888,
             "#fdca26"
            ],
            [
             1,
             "#f0f921"
            ]
           ],
           "sequentialminus": [
            [
             0,
             "#0d0887"
            ],
            [
             0.1111111111111111,
             "#46039f"
            ],
            [
             0.2222222222222222,
             "#7201a8"
            ],
            [
             0.3333333333333333,
             "#9c179e"
            ],
            [
             0.4444444444444444,
             "#bd3786"
            ],
            [
             0.5555555555555556,
             "#d8576b"
            ],
            [
             0.6666666666666666,
             "#ed7953"
            ],
            [
             0.7777777777777778,
             "#fb9f3a"
            ],
            [
             0.8888888888888888,
             "#fdca26"
            ],
            [
             1,
             "#f0f921"
            ]
           ]
          },
          "colorway": [
           "#636efa",
           "#EF553B",
           "#00cc96",
           "#ab63fa",
           "#FFA15A",
           "#19d3f3",
           "#FF6692",
           "#B6E880",
           "#FF97FF",
           "#FECB52"
          ],
          "font": {
           "color": "#2a3f5f"
          },
          "geo": {
           "bgcolor": "white",
           "lakecolor": "white",
           "landcolor": "#E5ECF6",
           "showlakes": true,
           "showland": true,
           "subunitcolor": "white"
          },
          "hoverlabel": {
           "align": "left"
          },
          "hovermode": "closest",
          "mapbox": {
           "style": "light"
          },
          "paper_bgcolor": "white",
          "plot_bgcolor": "#E5ECF6",
          "polar": {
           "angularaxis": {
            "gridcolor": "white",
            "linecolor": "white",
            "ticks": ""
           },
           "bgcolor": "#E5ECF6",
           "radialaxis": {
            "gridcolor": "white",
            "linecolor": "white",
            "ticks": ""
           }
          },
          "scene": {
           "xaxis": {
            "backgroundcolor": "#E5ECF6",
            "gridcolor": "white",
            "gridwidth": 2,
            "linecolor": "white",
            "showbackground": true,
            "ticks": "",
            "zerolinecolor": "white"
           },
           "yaxis": {
            "backgroundcolor": "#E5ECF6",
            "gridcolor": "white",
            "gridwidth": 2,
            "linecolor": "white",
            "showbackground": true,
            "ticks": "",
            "zerolinecolor": "white"
           },
           "zaxis": {
            "backgroundcolor": "#E5ECF6",
            "gridcolor": "white",
            "gridwidth": 2,
            "linecolor": "white",
            "showbackground": true,
            "ticks": "",
            "zerolinecolor": "white"
           }
          },
          "shapedefaults": {
           "line": {
            "color": "#2a3f5f"
           }
          },
          "ternary": {
           "aaxis": {
            "gridcolor": "white",
            "linecolor": "white",
            "ticks": ""
           },
           "baxis": {
            "gridcolor": "white",
            "linecolor": "white",
            "ticks": ""
           },
           "bgcolor": "#E5ECF6",
           "caxis": {
            "gridcolor": "white",
            "linecolor": "white",
            "ticks": ""
           }
          },
          "title": {
           "x": 0.05
          },
          "xaxis": {
           "automargin": true,
           "gridcolor": "white",
           "linecolor": "white",
           "ticks": "",
           "title": {
            "standoff": 15
           },
           "zerolinecolor": "white",
           "zerolinewidth": 2
          },
          "yaxis": {
           "automargin": true,
           "gridcolor": "white",
           "linecolor": "white",
           "ticks": "",
           "title": {
            "standoff": 15
           },
           "zerolinecolor": "white",
           "zerolinewidth": 2
          }
         }
        },
        "title": {
         "text": "Simulação equivalente ao SMART Moderado, 10000 iterações, 30 anos"
        },
        "width": 1000,
        "xaxis": {
         "autorange": true,
         "range": [
          0,
          359
         ],
         "type": "linear"
        },
        "yaxis": {
         "autorange": true,
         "range": [
          -1943.4259797562468,
          46782.69491557952
         ],
         "type": "linear"
        }
       }
      },
      "image/png": "[encoded data removed]",
      "text/html": [
       "<div>                            <div id=\"f733a078-3550-47a2-933a-62b1f57d0e10\" class=\"plotly-graph-div\" style=\"height:500px; width:1000px;\"></div>            <script type=\"text/javascript\">                require([\"plotly\"], function(Plotly) {                    window.PLOTLYENV=window.PLOTLYENV || {};                                    if (document.getElementById(\"f733a078-3550-47a2-933a-62b1f57d0e10\")) {                    Plotly.newPlot(                        \"f733a078-3550-47a2-933a-62b1f57d0e10\",                        [{\"line\": {\"color\": \"red\"}, \"mode\": \"lines\", \"name\": \"20Q\", \"type\": \"scatter\", \"x\": [0, 1, 2, 3, 4, 5, 6, 7, 8, 9, 10, 11, 12, 13, 14, 15, 16, 17, 18, 19, 20, 21, 22, 23, 24, 25, 26, 27, 28, 29, 30, 31, 32, 33, 34, 35, 36, 37, 38, 39, 40, 41, 42, 43, 44, 45, 46, 47, 48, 49, 50, 51, 52, 53, 54, 55, 56, 57, 58, 59, 60, 61, 62, 63, 64, 65, 66, 67, 68, 69, 70, 71, 72, 73, 74, 75, 76, 77, 78, 79, 80, 81, 82, 83, 84, 85, 86, 87, 88, 89, 90, 91, 92, 93, 94, 95, 96, 97, 98, 99, 100, 101, 102, 103, 104, 105, 106, 107, 108, 109, 110, 111, 112, 113, 114, 115, 116, 117, 118, 119, 120, 121, 122, 123, 124, 125, 126, 127, 128, 129, 130, 131, 132, 133, 134, 135, 136, 137, 138, 139, 140, 141, 142, 143, 144, 145, 146, 147, 148, 149, 150, 151, 152, 153, 154, 155, 156, 157, 158, 159, 160, 161, 162, 163, 164, 165, 166, 167, 168, 169, 170, 171, 172, 173, 174, 175, 176, 177, 178, 179, 180, 181, 182, 183, 184, 185, 186, 187, 188, 189, 190, 191, 192, 193, 194, 195, 196, 197, 198, 199, 200, 201, 202, 203, 204, 205, 206, 207, 208, 209, 210, 211, 212, 213, 214, 215, 216, 217, 218, 219, 220, 221, 222, 223, 224, 225, 226, 227, 228, 229, 230, 231, 232, 233, 234, 235, 236, 237, 238, 239, 240, 241, 242, 243, 244, 245, 246, 247, 248, 249, 250, 251, 252, 253, 254, 255, 256, 257, 258, 259, 260, 261, 262, 263, 264, 265, 266, 267, 268, 269, 270, 271, 272, 273, 274, 275, 276, 277, 278, 279, 280, 281, 282, 283, 284, 285, 286, 287, 288, 289, 290, 291, 292, 293, 294, 295, 296, 297, 298, 299, 300, 301, 302, 303, 304, 305, 306, 307, 308, 309, 310, 311, 312, 313, 314, 315, 316, 317, 318, 319, 320, 321, 322, 323, 324, 325, 326, 327, 328, 329, 330, 331, 332, 333, 334, 335, 336, 337, 338, 339, 340, 341, 342, 343, 344, 345, 346, 347, 348, 349, 350, 351, 352, 353, 354, 355, 356, 357, 358, 359], \"y\": [492.8800650105418, 540.2448974161507, 588.1816904603343, 637.2692314697038, 685.7381809225935, 734.7005184245955, 783.6367637993186, 833.284321183449, 882.9522510184161, 932.1673809734115, 981.6016073347228, 1030.6447963636833, 1080.7763804720933, 1130.3903990903673, 1180.6850538456677, 1229.9570272092642, 1280.1220469981306, 1330.7621881064952, 1380.8542909436942, 1431.735155205858, 1481.8677254943036, 1531.1321703706335, 1581.907858630056, 1633.1362221032145, 1684.6646992307985, 1735.0109069905277, 1785.3461781900464, 1837.1274559794642, 1888.5078347507633, 1939.7608378137988, 1990.095383003008, 2041.874253476342, 2093.8410863257714, 2145.723971527292, 2197.6595044669975, 2249.3188032788066, 2301.5900379670907, 2352.308606623275, 2404.3277800317765, 2457.0934877578075, 2508.804824059905, 2562.3654069376466, 2615.1733473521867, 2667.186013861224, 2720.368012103674, 2772.9419003387975, 2826.6933193583222, 2881.464367832352, 2934.7428480975054, 2989.024186890607, 3043.236287892185, 3097.0930154820867, 3151.6482527518965, 3204.1717007827997, 3257.2151995312142, 3313.564137195126, 3365.3491535632165, 3419.480518254445, 3475.188099544621, 3527.425651640516, 3582.974138634167, 3638.8767507341754, 3694.705165921222, 3750.409928160208, 3805.0628132248567, 3860.299208033265, 3917.640648347179, 3973.6967796579443, 4031.65736589796, 4086.436000699523, 4141.917370431215, 4199.529577012526, 4255.792200101495, 4314.955390560621, 4370.778062626303, 4427.181677594276, 4483.47567563942, 4542.258860149355, 4601.238327517232, 4660.625342091134, 4715.761276969807, 4775.67140231035, 4832.812775224741, 4893.31249280556, 4949.767180891914, 5011.241745744148, 5069.915975049034, 5128.102327816547, 5185.0049276326345, 5244.450088254614, 5303.851250223114, 5363.919535144583, 5424.00682361373, 5483.860940425977, 5542.096557556538, 5601.958357241063, 5660.824888947793, 5721.994620924384, 5781.594891472108, 5841.920989200588, 5900.42859120508, 5960.435543877366, 6023.676159805491, 6084.0511395552485, 6144.951366206487, 6208.097307463915, 6270.709113659937, 6331.805358578391, 6395.899723962322, 6456.039207249402, 6519.993900204223, 6583.144180947615, 6642.185907906267, 6703.491183211654, 6766.085252557513, 6830.483339207303, 6895.575696755548, 6961.191567184583, 7022.794535921872, 7087.671504838668, 7150.166158413327, 7211.33099711952, 7275.209288712037, 7339.062323861746, 7404.239692652937, 7469.07329100805, 7532.019534044081, 7599.72837236733, 7666.017460525931, 7731.596582435577, 7796.364745784416, 7859.7881599321645, 7928.322750221535, 7996.747418957526, 8063.041978081264, 8130.041872921156, 8193.35936667463, 8265.07309275043, 8332.822059586842, 8398.08791984165, 8463.89153141705, 8534.377115829857, 8599.71165639239, 8669.4433170468, 8737.910048641692, 8805.002098434941, 8875.00838986117, 8939.69596914178, 9007.200239024412, 9073.555543250342, 9142.865945669342, 9212.64520704279, 9280.815447689289, 9353.141221201842, 9422.428233056322, 9495.807147420108, 9560.54246983081, 9631.343421184549, 9699.068999649277, 9768.03089406521, 9842.657128692028, 9914.88892329394, 9984.983787185523, 10060.621748810569, 10132.401531044707, 10208.653800626724, 10278.274491868488, 10349.418218345829, 10421.451015018984, 10492.880334047539, 10565.505647718996, 10639.192287619837, 10710.934893878566, 10781.591867051746, 10856.205296898845, 10929.159985766513, 11004.54420535889, 11075.422095940741, 11150.868758244418, 11227.137958884521, 11301.188509035179, 11375.254797707954, 11448.680771468313, 11527.360720127925, 11605.628353532422, 11677.316624444084, 11753.84171104666, 11829.086020907213, 11898.40303470613, 11972.802161846954, 12050.351329341229, 12122.349670464748, 12195.69449161955, 12274.405076003995, 12350.121154846485, 12433.176932440294, 12510.023331948547, 12593.172544032028, 12672.152445319922, 12743.604308657195, 12819.007922088755, 12894.384198622061, 12971.726014329066, 13046.975881215998, 13130.444795254753, 13205.885969996943, 13287.918126719087, 13363.73971636616, 13439.703707018101, 13526.06117833504, 13599.805229470105, 13675.321334446522, 13761.33526282775, 13836.692630509444, 13921.374861951746, 14000.293698910195, 14087.371372110885, 14169.442576365258, 14253.565501685824, 14333.605769156153, 14415.692792222695, 14498.418705649427, 14578.015764204058, 14657.912146807204, 14744.895626882771, 14825.858502985087, 14906.311505225438, 14993.357099925073, 15071.411883057306, 15158.722865970247, 15249.118117960625, 15334.415583244054, 15420.080324938448, 15505.933079010589, 15595.632424561576, 15689.909647189867, 15771.08041252978, 15862.05682495855, 15944.06354145416, 16032.384607967651, 16122.950859174209, 16215.744619473426, 16303.916049369469, 16388.931175591213, 16470.980580204476, 16554.367077948446, 16640.69254031737, 16733.255297704243, 16823.513165072076, 16911.789448930216, 17001.634823462817, 17095.135542971577, 17179.419064160218, 17273.17925406117, 17362.084638856693, 17455.20259499919, 17548.275173043294, 17637.495773188315, 17731.45506367425, 17822.299377777836, 17909.259588910154, 17997.83344897963, 18096.952220921445, 18203.268782050458, 18291.19374709539, 18390.36902115326, 18485.487967858026, 18578.44334837653, 18670.27478298435, 18762.990204190537, 18858.36563863566, 18964.54859425828, 19054.67158438962, 19145.67984314385, 19243.999644533553, 19334.75939424008, 19440.360489999723, 19545.717850082627, 19640.067676624014, 19739.14296092224, 19828.80844405734, 19930.910897692975, 20014.34061104003, 20108.544154145355, 20199.305709634675, 20297.923200036133, 20397.94685236176, 20501.60959063209, 20598.058473574998, 20695.858720451633, 20795.834645506595, 20894.917368183767, 21002.453231388903, 21096.591138112424, 21197.763836667902, 21301.86569249207, 21394.996761860497, 21499.516876199083, 21600.069231930735, 21704.081134659536, 21808.711810720328, 21916.942582301126, 22028.571819869925, 22128.829045037055, 22235.303600515348, 22346.34075396041, 22448.06202244475, 22549.162284844635, 22656.121429094455, 22776.543260739207, 22870.844537953206, 22985.549033135096, 23088.38186661361, 23186.754125880172, 23295.24990604009, 23394.53978025639, 23489.686722859286, 23601.838826709572, 23708.4911764943, 23816.2320120598, 23918.03851065796, 24033.004328562245, 24136.3967942066, 24244.54153282723, 24361.54226016203, 24482.754205017503, 24588.30752957763, 24698.35363598537, 24811.557401661732, 24920.13908175268, 25035.67352930936, 25154.166464085265, 25266.804802105587, 25383.947755952548, 25498.753521338505, 25610.75506294435, 25725.526520735915, 25844.914412668048, 25940.717337914757, 26060.12268665564, 26171.06464919464, 26281.663672140385, 26403.937124228272, 26513.496373038874, 26643.217013796875, 26762.869460913233, 26891.57649802376, 27009.931783473105, 27117.977049821122, 27241.21258284955, 27363.90368649479, 27484.3595498092, 27598.498281765394, 27712.81326822631, 27833.661333843673, 27951.06680558812, 28061.830585407202, 28167.887995724966, 28283.091529986585, 28407.064557686575]}, {\"fill\": \"tonexty\", \"fillcolor\": \"rgba(255, 0, 0, 0.5)\", \"line\": {\"color\": \"royalblue\"}, \"mode\": \"lines\", \"name\": \"40Q\", \"type\": \"scatter\", \"x\": [0, 1, 2, 3, 4, 5, 6, 7, 8, 9, 10, 11, 12, 13, 14, 15, 16, 17, 18, 19, 20, 21, 22, 23, 24, 25, 26, 27, 28, 29, 30, 31, 32, 33, 34, 35, 36, 37, 38, 39, 40, 41, 42, 43, 44, 45, 46, 47, 48, 49, 50, 51, 52, 53, 54, 55, 56, 57, 58, 59, 60, 61, 62, 63, 64, 65, 66, 67, 68, 69, 70, 71, 72, 73, 74, 75, 76, 77, 78, 79, 80, 81, 82, 83, 84, 85, 86, 87, 88, 89, 90, 91, 92, 93, 94, 95, 96, 97, 98, 99, 100, 101, 102, 103, 104, 105, 106, 107, 108, 109, 110, 111, 112, 113, 114, 115, 116, 117, 118, 119, 120, 121, 122, 123, 124, 125, 126, 127, 128, 129, 130, 131, 132, 133, 134, 135, 136, 137, 138, 139, 140, 141, 142, 143, 144, 145, 146, 147, 148, 149, 150, 151, 152, 153, 154, 155, 156, 157, 158, 159, 160, 161, 162, 163, 164, 165, 166, 167, 168, 169, 170, 171, 172, 173, 174, 175, 176, 177, 178, 179, 180, 181, 182, 183, 184, 185, 186, 187, 188, 189, 190, 191, 192, 193, 194, 195, 196, 197, 198, 199, 200, 201, 202, 203, 204, 205, 206, 207, 208, 209, 210, 211, 212, 213, 214, 215, 216, 217, 218, 219, 220, 221, 222, 223, 224, 225, 226, 227, 228, 229, 230, 231, 232, 233, 234, 235, 236, 237, 238, 239, 240, 241, 242, 243, 244, 245, 246, 247, 248, 249, 250, 251, 252, 253, 254, 255, 256, 257, 258, 259, 260, 261, 262, 263, 264, 265, 266, 267, 268, 269, 270, 271, 272, 273, 274, 275, 276, 277, 278, 279, 280, 281, 282, 283, 284, 285, 286, 287, 288, 289, 290, 291, 292, 293, 294, 295, 296, 297, 298, 299, 300, 301, 302, 303, 304, 305, 306, 307, 308, 309, 310, 311, 312, 313, 314, 315, 316, 317, 318, 319, 320, 321, 322, 323, 324, 325, 326, 327, 328, 329, 330, 331, 332, 333, 334, 335, 336, 337, 338, 339, 340, 341, 342, 343, 344, 345, 346, 347, 348, 349, 350, 351, 352, 353, 354, 355, 356, 357, 358, 359], \"y\": [498.86998129944885, 549.2839523873619, 600.1987623881075, 650.9937903604125, 701.8944581696614, 753.6189036933063, 805.1775338468293, 856.9959922263765, 909.0083175913261, 960.5669306843193, 1012.3254955295967, 1064.92614783513, 1117.3223805675746, 1169.7471996852194, 1222.5526911668237, 1274.9328439469416, 1327.7377911388285, 1381.1021680205486, 1434.2317206498556, 1487.525241918968, 1540.8287776833154, 1595.7227469625927, 1649.568939747513, 1704.501974680762, 1758.3375754174208, 1812.6125967665837, 1868.3111461760286, 1921.9432558108372, 1977.0496154965685, 2031.3558993002935, 2087.4200473631654, 2143.0183861979904, 2198.3739625878316, 2253.599950066014, 2308.5251331769227, 2365.200672030171, 2421.6067925540656, 2477.3301003421184, 2534.395617865696, 2589.670535112028, 2646.853052010447, 2703.5046383716194, 2761.4641941674226, 2818.96840799602, 2878.014210362745, 2934.9233806766088, 2992.04962860169, 3048.288693061164, 3108.029206713039, 3166.1250536619414, 3224.7833739511652, 3283.5951582468297, 3342.6331249078603, 3403.1988201246018, 3461.3811622513686, 3521.437388517454, 3579.9760782158965, 3638.695010701401, 3700.7884010703374, 3760.8872210287427, 3820.9414425782224, 3880.500448871884, 3941.67565752852, 4002.004966455305, 4063.0196695034515, 4125.603771036909, 4187.79600868928, 4248.3397673358, 4311.526473796805, 4373.4644461075895, 4435.654082505675, 4497.331665547663, 4558.533809948684, 4622.320806314112, 4683.286717825205, 4745.108559776156, 4811.396384232587, 4872.9548861698395, 4934.369707698983, 4999.433113992361, 5061.984628355639, 5128.283244198332, 5193.349934559619, 5257.513858061702, 5321.533469627031, 5390.241182229358, 5454.158878810211, 5517.265554699864, 5586.120086500001, 5651.588876928104, 5718.752188872073, 5782.365672251601, 5849.377067223551, 5916.281345858039, 5982.940995101687, 6050.943971178141, 6117.265696539329, 6184.509124868784, 6251.502486381767, 6320.22566782746, 6385.446405796734, 6453.135074727275, 6523.936314559411, 6590.966264250906, 6661.234438829852, 6728.417084525882, 6800.3246074209255, 6871.902150714286, 6939.2723716130395, 7008.231416787074, 7079.683697478258, 7147.578247023708, 7217.465853069313, 7286.697335147289, 7360.780475893028, 7432.563607389904, 7504.364282451419, 7576.207567793613, 7650.412749386527, 7721.673992871949, 7794.6298387340175, 7863.350848121463, 7936.074009281967, 8008.491678541502, 8080.159825253708, 8155.597916895353, 8226.637287056292, 8302.917142817805, 8378.280564903576, 8454.402619145378, 8526.434026069319, 8599.908446921898, 8674.795812918452, 8752.048878298961, 8830.394778782476, 8902.731468638067, 8977.047664317253, 9050.654236702958, 9126.212000751002, 9203.19076216656, 9275.334523823676, 9352.05114203463, 9428.717961992716, 9502.064122800333, 9579.453921283011, 9659.8002122894, 9735.67885602494, 9811.156346888036, 9886.625478352882, 9971.650828403626, 10050.210726527544, 10129.69939436083, 10209.70748641562, 10283.44322852444, 10366.377574589438, 10446.496162862237, 10524.721803053757, 10604.36664278818, 10680.854418062001, 10763.829007782544, 10847.744191377134, 10931.731778879033, 11015.342770841697, 11097.239420422933, 11180.791415937885, 11259.610849404547, 11338.361892332883, 11419.490179120867, 11505.360659141152, 11585.481507665747, 11668.46252737104, 11750.863669995935, 11836.618512630863, 11920.319645794238, 12006.021410828223, 12091.831290507147, 12174.133419835835, 12261.226441072024, 12346.722459836361, 12440.458089369591, 12521.905752339295, 12613.406184203077, 12698.676967027268, 12785.169661910117, 12873.40590393672, 12960.32008691031, 13048.963359139696, 13134.142425346967, 13224.802521280133, 13311.115114270851, 13403.135277252793, 13491.206773797405, 13579.256396757366, 13668.622559036048, 13757.352020249014, 13845.973478271222, 13940.607245815736, 14029.344471798915, 14119.418187895357, 14210.636199202534, 14307.90806840728, 14398.990264575685, 14490.641763434323, 14581.795488398804, 14670.341039289848, 14762.089813165636, 14855.772159800457, 14945.934787887018, 15035.079638193252, 15136.264982429577, 15224.44401405444, 15318.948194339133, 15412.767340162623, 15513.653899560246, 15611.372664029963, 15706.740338286912, 15806.137399995683, 15904.522908448203, 16003.706364134157, 16101.40995724535, 16204.392007490285, 16297.863346182701, 16398.037886602186, 16499.585207202275, 16597.509522936645, 16691.615853568925, 16795.999012610937, 16906.365813858236, 16998.36635391891, 17100.71504822351, 17195.0574685954, 17297.120391204597, 17397.9972312906, 17497.318419439755, 17603.912612099528, 17703.814188134573, 17802.177151786324, 17899.76729485284, 17998.979192543244, 18101.888687561797, 18209.48207368891, 18311.529630404886, 18420.259476203777, 18520.517067074765, 18627.884728101835, 18732.327704150037, 18841.21723109924, 18942.29643525149, 19043.299385830636, 19152.434357873215, 19258.243704196284, 19368.52317686565, 19473.47490043675, 19577.86209100094, 19681.131892733243, 19791.19820854595, 19899.63002904322, 20007.790780975887, 20117.257910020122, 20227.51083342301, 20342.189712498966, 20446.865209891, 20559.779305914202, 20675.42829947593, 20786.13249475409, 20898.876986228133, 21012.03027274052, 21123.088496700606, 21248.269313292585, 21354.572506517106, 21472.137033106806, 21592.761121288248, 21696.195988472922, 21808.561320284225, 21927.295062856996, 22028.50469299836, 22145.63873070471, 22266.56257878935, 22386.940656323113, 22499.6101094279, 22618.9305905719, 22733.61886926309, 22842.596904732698, 22962.065697865877, 23086.49106026398, 23209.44062522151, 23329.85489918071, 23453.113236833076, 23570.2623860177, 23700.19707515451, 23813.124341244817, 23939.569513012742, 24060.54575900682, 24193.171304944128, 24312.094428726865, 24442.10532432556, 24567.31301802538, 24687.07177264688, 24805.523908181014, 24930.0651144231, 25056.63862852074, 25177.031652128364, 25302.04012746826, 25428.349206701656, 25565.09483962776, 25700.09746188397, 25829.23042460569, 25955.07463304163, 26086.59222763288, 26211.133161566227, 26335.20252175523, 26461.06404136186, 26591.875454450135, 26717.11886992496, 26845.809814761724, 26972.85540024094, 27098.21436881255, 27223.49778201896, 27347.867820680527, 27474.779789887234, 27598.10574198571, 27728.544344832393, 27856.79248832011, 27991.344097604117, 28126.49910078699, 28258.339194822387, 28391.97711307145, 28533.295718099267, 28681.772680934366, 28813.829928361032, 28945.652205058534, 29083.073414210077, 29212.422951858294, 29338.18573569445, 29485.48636825972, 29617.320422152552, 29752.340120117835, 29893.089033076423, 30023.012942682337, 30134.328376176923, 30278.836810670255, 30420.006025515147, 30556.458878912304, 30703.707348439668, 30832.923759672718, 30977.72795450811, 31117.626778344966, 31264.078493677764, 31407.403241448097, 31550.319198320885, 31697.252921673335, 31835.48688698533, 31973.081103822966, 32118.2169779919, 32266.177395924715, 32407.232376261287, 32558.21084529016, 32706.5873394208, 32853.171472958, 33006.94960851378]}, {\"fill\": \"tonexty\", \"line\": {\"color\": \"royalblue\"}, \"mode\": \"lines\", \"name\": \"60Q\", \"type\": \"scatter\", \"x\": [0, 1, 2, 3, 4, 5, 6, 7, 8, 9, 10, 11, 12, 13, 14, 15, 16, 17, 18, 19, 20, 21, 22, 23, 24, 25, 26, 27, 28, 29, 30, 31, 32, 33, 34, 35, 36, 37, 38, 39, 40, 41, 42, 43, 44, 45, 46, 47, 48, 49, 50, 51, 52, 53, 54, 55, 56, 57, 58, 59, 60, 61, 62, 63, 64, 65, 66, 67, 68, 69, 70, 71, 72, 73, 74, 75, 76, 77, 78, 79, 80, 81, 82, 83, 84, 85, 86, 87, 88, 89, 90, 91, 92, 93, 94, 95, 96, 97, 98, 99, 100, 101, 102, 103, 104, 105, 106, 107, 108, 109, 110, 111, 112, 113, 114, 115, 116, 117, 118, 119, 120, 121, 122, 123, 124, 125, 126, 127, 128, 129, 130, 131, 132, 133, 134, 135, 136, 137, 138, 139, 140, 141, 142, 143, 144, 145, 146, 147, 148, 149, 150, 151, 152, 153, 154, 155, 156, 157, 158, 159, 160, 161, 162, 163, 164, 165, 166, 167, 168, 169, 170, 171, 172, 173, 174, 175, 176, 177, 178, 179, 180, 181, 182, 183, 184, 185, 186, 187, 188, 189, 190, 191, 192, 193, 194, 195, 196, 197, 198, 199, 200, 201, 202, 203, 204, 205, 206, 207, 208, 209, 210, 211, 212, 213, 214, 215, 216, 217, 218, 219, 220, 221, 222, 223, 224, 225, 226, 227, 228, 229, 230, 231, 232, 233, 234, 235, 236, 237, 238, 239, 240, 241, 242, 243, 244, 245, 246, 247, 248, 249, 250, 251, 252, 253, 254, 255, 256, 257, 258, 259, 260, 261, 262, 263, 264, 265, 266, 267, 268, 269, 270, 271, 272, 273, 274, 275, 276, 277, 278, 279, 280, 281, 282, 283, 284, 285, 286, 287, 288, 289, 290, 291, 292, 293, 294, 295, 296, 297, 298, 299, 300, 301, 302, 303, 304, 305, 306, 307, 308, 309, 310, 311, 312, 313, 314, 315, 316, 317, 318, 319, 320, 321, 322, 323, 324, 325, 326, 327, 328, 329, 330, 331, 332, 333, 334, 335, 336, 337, 338, 339, 340, 341, 342, 343, 344, 345, 346, 347, 348, 349, 350, 351, 352, 353, 354, 355, 356, 357, 358, 359], \"y\": [504.3096510799478, 557.3936908600155, 610.4461699329718, 663.6412157248262, 717.001591578583, 770.385951251485, 823.9233126573689, 877.4601857957553, 931.5642567231394, 985.6087348869635, 1039.9966856260023, 1093.942963205122, 1149.10161544764, 1203.6669875281166, 1258.6710399500878, 1315.5188098771719, 1370.345245538604, 1426.8435621424737, 1482.5932236438803, 1538.2202812732946, 1595.171811419957, 1650.845564083857, 1709.3540239867336, 1765.6974531093008, 1823.5408305583387, 1880.7407746292142, 1938.143292278275, 1996.0147298696265, 2054.2183379340267, 2113.8311429111973, 2171.6649083165803, 2229.7317186356763, 2289.7891600172816, 2347.7982441601553, 2408.2380511793663, 2466.9528789139695, 2526.5846348426785, 2586.355710791239, 2646.6876812686587, 2707.060605406767, 2767.576097141123, 2827.886724223068, 2888.6417854479487, 2950.848789749072, 3011.0749366948294, 3072.941427421694, 3134.5433903276935, 3196.4977939054015, 3260.1078499332016, 3323.0677831653825, 3386.354234099558, 3449.7453895780277, 3514.5567364952067, 3577.007462127467, 3641.9395176510598, 3705.3005417751037, 3769.786500302541, 3832.934480030616, 3897.6861686381326, 3961.531448572714, 4028.695721277039, 4094.4184413795424, 4159.665893075555, 4224.281170865014, 4289.207453737819, 4356.636273060034, 4423.658081915952, 4489.399733552104, 4556.379140298275, 4622.930142581242, 4692.454721952565, 4760.67724540678, 4828.570565461448, 4896.322005467945, 4965.545222532688, 5033.928684865452, 5102.112647751974, 5171.880137721673, 5238.608899560719, 5309.489109445778, 5377.449785294122, 5447.1929383188035, 5518.813322036927, 5588.857909354252, 5660.417193694406, 5729.866463763328, 5799.251262611284, 5872.882086894415, 5946.8138457448385, 6015.205428742342, 6089.154698783179, 6161.967476067099, 6233.7525806578415, 6305.987349586835, 6377.820764363027, 6453.432117733257, 6528.196855965525, 6600.598827678884, 6674.373571716762, 6748.176683971662, 6824.224678493678, 6899.009277318453, 6975.668911120249, 7049.952512503949, 7128.381697450027, 7203.228283769685, 7280.041608627411, 7355.563387035936, 7434.205187178768, 7506.567025858654, 7584.53745511446, 7662.474279330605, 7737.242216959974, 7816.201926619209, 7895.123517911882, 7974.239303715047, 8055.255752886562, 8133.944920716472, 8208.25215411272, 8290.516949916731, 8372.982044044053, 8454.580172483988, 8533.812930553571, 8615.197759931736, 8694.822479740531, 8776.234449622629, 8854.867820927062, 8938.607902136991, 9020.333140941671, 9102.14383382235, 9184.913220564002, 9266.526321231724, 9351.522091735638, 9439.501318582772, 9523.668673918684, 9611.418525152862, 9695.44194540943, 9780.367673921945, 9865.104203090232, 9951.010159927351, 10038.537237186976, 10125.057321696582, 10205.884482419078, 10292.443312574356, 10377.192672138299, 10464.654834018336, 10552.361043238961, 10639.498250489803, 10726.365692161366, 10815.66178923393, 10905.33497206138, 10998.133377992403, 11083.441973412437, 11171.62699322149, 11266.225719384442, 11358.615143786412, 11445.164869843262, 11536.482498325355, 11622.315607519864, 11716.570837895513, 11808.525158240285, 11903.21206707976, 11995.745575488145, 12086.187137941022, 12178.037340485229, 12271.663721482471, 12359.897396298182, 12452.726027575156, 12546.800172446965, 12643.91246418962, 12735.92071170101, 12831.069088577031, 12928.758005227135, 13025.340912597962, 13120.426887197187, 13219.466125570403, 13316.437434668012, 13409.854799702785, 13507.016810235136, 13604.855379358942, 13706.451484866062, 13801.501590351556, 13898.881106559988, 13999.969460767396, 14104.199751770084, 14198.869609708556, 14306.75238484262, 14413.686719438472, 14516.934288026707, 14622.486394073141, 14718.24554556634, 14820.475921241632, 14925.52612770077, 15030.512751496366, 15130.32447849263, 15231.411874162277, 15335.646400399368, 15435.173204048591, 15550.215526931395, 15656.595083754033, 15759.863317872361, 15866.940791793179, 15968.072201448196, 16074.203594238208, 16185.720479334937, 16292.171491944078, 16398.347525605466, 16504.96685411953, 16613.287116080326, 16718.929055281726, 16829.962759584087, 16940.040716806507, 17049.43409571611, 17161.0267814663, 17271.176561910397, 17384.111475859703, 17494.449930815204, 17610.575044884103, 17719.556207680725, 17834.15619887215, 17936.77069039902, 18058.777241441498, 18175.85989723325, 18289.472041566172, 18403.166320682238, 18510.857657567794, 18622.34927389271, 18735.76043674374, 18848.05797384579, 18963.811575059837, 19082.797922536232, 19192.146794984357, 19312.74188586152, 19425.62482221052, 19541.553549196247, 19660.129270975736, 19783.87356867408, 19905.52705850462, 20030.42876537663, 20140.048079833257, 20280.445966224182, 20395.625270332668, 20531.001808430738, 20659.3951249604, 20777.584986227743, 20909.58701933096, 21021.411878904728, 21149.426572426048, 21269.891958156855, 21389.31699551691, 21513.055901917098, 21643.227450136004, 21762.03019708224, 21879.789383031177, 22009.081763267983, 22134.280984631776, 22260.19546698858, 22380.190874267544, 22512.944814985854, 22642.892818877626, 22787.570583961315, 22915.620988868082, 23043.600586710185, 23178.080869103378, 23310.609247899192, 23449.526055030845, 23577.972257177968, 23714.991583626645, 23842.930017282008, 23988.21047495151, 24124.818632308066, 24257.884613815804, 24380.813610356618, 24510.546447632412, 24642.27457222075, 24797.32013011713, 24940.26308220065, 25063.237648635462, 25203.94763323803, 25343.890897058936, 25491.559433409595, 25629.367582674015, 25764.635995586126, 25909.4369247691, 26042.007694901185, 26174.45021505215, 26317.258800558746, 26455.483819261084, 26587.952384855096, 26742.41584737721, 26880.304208596535, 27037.522312905363, 27182.317991850185, 27322.45520878858, 27459.98160688846, 27599.60553469092, 27753.435008785313, 27893.459088072937, 28035.025062976358, 28186.200197854574, 28336.23647904809, 28484.25610719354, 28630.465424645998, 28774.383607594245, 28929.889813637572, 29091.40398208599, 29249.618791131066, 29394.19096218492, 29554.137543280078, 29703.53107892074, 29853.43925152287, 30000.91477147853, 30156.41833260507, 30324.431493581887, 30475.24713302144, 30623.232795256816, 30780.272171325425, 30949.201732364745, 31095.02891706375, 31266.18610572184, 31430.78875758287, 31586.394578988962, 31742.547609335656, 31889.33371315971, 32061.361633949597, 32226.91067882783, 32378.47992841592, 32544.798250913067, 32703.079342787223, 32868.33074911836, 33025.4893939483, 33179.97399826687, 33352.3182306801, 33512.61901813723, 33669.465397069755, 33839.990886358995, 34016.25553667087, 34171.771908350085, 34334.66757433028, 34494.868650482356, 34665.31163111409, 34845.653853692755, 35013.77208941612, 35190.63554936861, 35359.07649312765, 35531.87145016454, 35702.690173761315, 35887.055115509895, 36054.71697327813, 36234.50586091538, 36411.96514752495, 36609.76721009823, 36774.26299184764, 36958.462993798676, 37145.00581928263, 37309.36727238668, 37496.9938058017, 37660.05353673009, 37843.661906975714, 38003.635040293644]}, {\"fill\": \"tonexty\", \"line\": {\"color\": \"green\"}, \"mode\": \"lines\", \"name\": \"80Q\", \"type\": \"scatter\", \"x\": [0, 1, 2, 3, 4, 5, 6, 7, 8, 9, 10, 11, 12, 13, 14, 15, 16, 17, 18, 19, 20, 21, 22, 23, 24, 25, 26, 27, 28, 29, 30, 31, 32, 33, 34, 35, 36, 37, 38, 39, 40, 41, 42, 43, 44, 45, 46, 47, 48, 49, 50, 51, 52, 53, 54, 55, 56, 57, 58, 59, 60, 61, 62, 63, 64, 65, 66, 67, 68, 69, 70, 71, 72, 73, 74, 75, 76, 77, 78, 79, 80, 81, 82, 83, 84, 85, 86, 87, 88, 89, 90, 91, 92, 93, 94, 95, 96, 97, 98, 99, 100, 101, 102, 103, 104, 105, 106, 107, 108, 109, 110, 111, 112, 113, 114, 115, 116, 117, 118, 119, 120, 121, 122, 123, 124, 125, 126, 127, 128, 129, 130, 131, 132, 133, 134, 135, 136, 137, 138, 139, 140, 141, 142, 143, 144, 145, 146, 147, 148, 149, 150, 151, 152, 153, 154, 155, 156, 157, 158, 159, 160, 161, 162, 163, 164, 165, 166, 167, 168, 169, 170, 171, 172, 173, 174, 175, 176, 177, 178, 179, 180, 181, 182, 183, 184, 185, 186, 187, 188, 189, 190, 191, 192, 193, 194, 195, 196, 197, 198, 199, 200, 201, 202, 203, 204, 205, 206, 207, 208, 209, 210, 211, 212, 213, 214, 215, 216, 217, 218, 219, 220, 221, 222, 223, 224, 225, 226, 227, 228, 229, 230, 231, 232, 233, 234, 235, 236, 237, 238, 239, 240, 241, 242, 243, 244, 245, 246, 247, 248, 249, 250, 251, 252, 253, 254, 255, 256, 257, 258, 259, 260, 261, 262, 263, 264, 265, 266, 267, 268, 269, 270, 271, 272, 273, 274, 275, 276, 277, 278, 279, 280, 281, 282, 283, 284, 285, 286, 287, 288, 289, 290, 291, 292, 293, 294, 295, 296, 297, 298, 299, 300, 301, 302, 303, 304, 305, 306, 307, 308, 309, 310, 311, 312, 313, 314, 315, 316, 317, 318, 319, 320, 321, 322, 323, 324, 325, 326, 327, 328, 329, 330, 331, 332, 333, 334, 335, 336, 337, 338, 339, 340, 341, 342, 343, 344, 345, 346, 347, 348, 349, 350, 351, 352, 353, 354, 355, 356, 357, 358, 359], \"y\": [510.5532286887897, 566.7370482749972, 622.5532381165885, 678.6850724185779, 734.2721557434166, 790.1604221958471, 846.7256029907882, 903.1476408663375, 959.6570103750555, 1016.637594075878, 1073.847237118111, 1131.3806304829877, 1189.2928823572734, 1246.7310666077842, 1305.2598583982574, 1363.9123266339204, 1422.7835205418987, 1481.7594342206676, 1541.083294131486, 1600.6641761971218, 1660.9280618973285, 1720.9224613501358, 1782.0215532589448, 1842.345408982694, 1903.1461746695313, 1963.9655202552317, 2025.104994491293, 2086.6003875283786, 2149.294664580918, 2211.5511652614223, 2274.1146750909516, 2336.82624694036, 2399.282995664283, 2464.1251254314275, 2528.8322368174013, 2591.9296616594784, 2655.836180632765, 2720.376497307473, 2784.6524708274674, 2850.466918308367, 2916.9530223890456, 2982.9032738814262, 3047.54777065941, 3114.3445535479295, 3182.1371823739582, 3248.684549916936, 3314.0867898441115, 3381.6531528589444, 3449.2523590177084, 3517.0317647050533, 3586.293942964542, 3654.259059862551, 3723.8826243501285, 3793.6680928511455, 3863.0660988947902, 3933.335931977627, 4003.076897254888, 4076.2150671668014, 4146.866698919039, 4219.130689316153, 4288.727520814284, 4360.108623438628, 4432.171915923643, 4503.624977057958, 4577.812754193271, 4650.688552094115, 4725.662639032263, 4800.055073493469, 4872.132647520012, 4946.718122179927, 5020.378223296193, 5093.745689958424, 5172.354284300325, 5246.971136133316, 5323.054475884142, 5398.738693335139, 5475.469974685283, 5552.519574745384, 5633.911425877046, 5705.214075393471, 5781.890942258385, 5858.435730071946, 5936.787039026829, 6017.44985650274, 6093.184525633579, 6167.209568256081, 6246.267217886648, 6326.252178424392, 6403.682064074746, 6484.556440753224, 6566.751780189465, 6649.5065844446, 6728.382598630393, 6808.7787769058805, 6895.840456064085, 6975.069083452368, 7055.60257472248, 7139.399099915173, 7222.0100525280795, 7304.81459340862, 7387.12937319426, 7471.252604573265, 7554.626537507819, 7641.65069243142, 7724.225116264502, 7807.542239692935, 7895.829891416326, 7983.473325269546, 8070.895827398259, 8152.910956391352, 8241.250797799486, 8327.820972176358, 8413.670169436371, 8504.637035838814, 8589.392881663865, 8678.533239611555, 8770.488656691947, 8856.417778470874, 8948.019631768628, 9036.51440782995, 9130.600154985246, 9220.640369452665, 9309.099553014375, 9398.744228666961, 9492.581422009813, 9586.863078472308, 9682.060383825563, 9775.126916723906, 9868.17599625025, 9963.48841750202, 10061.458183367298, 10148.672216474697, 10249.923688081173, 10348.642304526651, 10441.607448923785, 10534.025784081281, 10631.922460924397, 10724.543824829647, 10831.596119738086, 10927.477673908292, 11030.83033940665, 11125.691974808353, 11231.572057638892, 11332.218594510452, 11431.01728056854, 11529.257463043681, 11630.016538126798, 11734.804011929693, 11830.221442557195, 11933.041034394375, 12030.100129790719, 12133.385510072369, 12237.201640925327, 12346.63802482754, 12451.164175549393, 12557.641862476208, 12663.291999236353, 12766.418288677301, 12865.500740981055, 12979.725976859809, 13074.990969709046, 13178.486673087844, 13284.076913815257, 13397.326288063048, 13499.304914884879, 13610.444393428908, 13716.347714412506, 13827.052744383345, 13932.580129389036, 14039.63914566235, 14156.373759765562, 14266.666090115094, 14373.439757802007, 14484.658073001217, 14597.05290634388, 14699.526604950379, 14813.573230613922, 14918.763468939414, 15031.447742938202, 15141.183540977678, 15254.56646697232, 15370.056540680895, 15479.989935254507, 15601.741954479294, 15712.730569551582, 15824.335220473564, 15940.916820114115, 16063.580291499717, 16182.012724687864, 16301.53376214551, 16427.343749901887, 16552.898961899944, 16669.14135659523, 16785.7227033421, 16903.918102126685, 17025.305818579094, 17144.21389376033, 17265.155192907063, 17384.721051351335, 17507.22030509251, 17625.824056729514, 17746.729511264417, 17872.280639521006, 17995.58285330112, 18114.97099385446, 18239.008513082907, 18363.962297453465, 18487.28541863311, 18614.30957864738, 18733.351455055665, 18867.124984836177, 18990.122769254274, 19122.319002212185, 19250.394927789413, 19395.028373520527, 19525.706585141405, 19659.6263428685, 19786.95637902571, 19913.499908715803, 20045.805743889592, 20187.57169092883, 20321.088558856198, 20454.50595289262, 20589.274656970905, 20728.472588908415, 20866.007246554305, 21001.645482529922, 21139.906030795184, 21278.322904590757, 21415.097571524708, 21541.157091510184, 21688.879985988722, 21823.29200000861, 21963.0238513754, 22095.76674831887, 22239.36598101866, 22381.16066222286, 22514.74739309404, 22647.673278162223, 22798.67561653824, 22932.2938579031, 23080.547448755216, 23231.484351105515, 23368.096316245465, 23525.481348281493, 23674.44094521238, 23832.61992963441, 23971.087086889416, 24124.353143123044, 24275.580627705014, 24426.59879402499, 24575.22660852023, 24730.971583210867, 24872.75874657261, 25019.771315765815, 25172.56732372585, 25321.523180726457, 25470.62500033355, 25635.303789270125, 25789.46472319513, 25934.425467619792, 26092.305531889655, 26235.01044810621, 26393.036669527333, 26554.603767106506, 26715.79272888036, 26876.294666920374, 27049.901689521128, 27208.336624434363, 27363.03939472791, 27539.08652158916, 27688.544435825184, 27855.348494746027, 28016.066361862777, 28180.396837587767, 28353.686257789806, 28521.172857460224, 28677.143367618268, 28841.92688810785, 29015.7711667053, 29179.988242367886, 29345.55687316478, 29515.596967761678, 29680.66434415444, 29869.96636758541, 30026.9309859503, 30203.968245145148, 30380.652593186565, 30546.163081658808, 30731.434795672827, 30907.2908653334, 31062.94504636236, 31242.54514327283, 31426.10107712514, 31623.109381960403, 31798.247976838, 31982.03483315413, 32159.407647860247, 32334.86893553292, 32520.83059156427, 32701.028695436136, 32868.95098317669, 33050.66146525565, 33227.741023055925, 33413.86816434898, 33583.90187953056, 33757.61253833344, 33944.305656835226, 34116.25728561065, 34282.15233128825, 34471.952005036466, 34673.811245476085, 34826.53715106939, 35011.64357814115, 35195.366998035664, 35401.224940845736, 35593.5256218257, 35784.42944328725, 35977.26581531145, 36175.01015839298, 36377.627618023085, 36554.84811263763, 36740.4409356481, 36953.77472587547, 37136.940013588246, 37317.07685898164, 37534.114005500545, 37736.11250469621, 37985.15602013171, 38153.99571823529, 38369.20628114488, 38546.93293779403, 38735.21824303308, 38931.22610038193, 39122.2993018101, 39327.5125052979, 39540.49468453652, 39737.21391688101, 39930.48923093886, 40145.40967960525, 40330.15813948272, 40533.9298290762, 40745.801699567965, 40959.10469993985, 41163.842456341314, 41361.98615952845, 41587.2634233811, 41781.74885960621, 41990.14035583897, 42181.668777432744, 42392.14186386699, 42627.79380313494, 42832.92865818143, 43067.429288058614, 43273.31889688707, 43498.814521277585, 43710.93788173498, 43930.980189503134, 44131.44397537249, 44346.388870812734]}],                        {\"autosize\": false, \"height\": 500, \"margin\": {\"b\": 100, \"l\": 50, \"pad\": 4, \"r\": 50, \"t\": 100}, \"paper_bgcolor\": \"whitesmoke\", \"template\": {\"data\": {\"bar\": [{\"error_x\": {\"color\": \"#2a3f5f\"}, \"error_y\": {\"color\": \"#2a3f5f\"}, \"marker\": {\"line\": {\"color\": \"#E5ECF6\", \"width\": 0.5}}, \"type\": \"bar\"}], \"barpolar\": [{\"marker\": {\"line\": {\"color\": \"#E5ECF6\", \"width\": 0.5}}, \"type\": \"barpolar\"}], \"carpet\": [{\"aaxis\": {\"endlinecolor\": \"#2a3f5f\", \"gridcolor\": \"white\", \"linecolor\": \"white\", \"minorgridcolor\": \"white\", \"startlinecolor\": \"#2a3f5f\"}, \"baxis\": {\"endlinecolor\": \"#2a3f5f\", \"gridcolor\": \"white\", \"linecolor\": \"white\", \"minorgridcolor\": \"white\", \"startlinecolor\": \"#2a3f5f\"}, \"type\": \"carpet\"}], \"choropleth\": [{\"colorbar\": {\"outlinewidth\": 0, \"ticks\": \"\"}, \"type\": \"choropleth\"}], \"contour\": [{\"colorbar\": {\"outlinewidth\": 0, \"ticks\": \"\"}, \"colorscale\": [[0.0, \"#0d0887\"], [0.1111111111111111, \"#46039f\"], [0.2222222222222222, \"#7201a8\"], [0.3333333333333333, \"#9c179e\"], [0.4444444444444444, \"#bd3786\"], [0.5555555555555556, \"#d8576b\"], [0.6666666666666666, \"#ed7953\"], [0.7777777777777778, \"#fb9f3a\"], [0.8888888888888888, \"#fdca26\"], [1.0, \"#f0f921\"]], \"type\": \"contour\"}], \"contourcarpet\": [{\"colorbar\": {\"outlinewidth\": 0, \"ticks\": \"\"}, \"type\": \"contourcarpet\"}], \"heatmap\": [{\"colorbar\": {\"outlinewidth\": 0, \"ticks\": \"\"}, \"colorscale\": [[0.0, \"#0d0887\"], [0.1111111111111111, \"#46039f\"], [0.2222222222222222, \"#7201a8\"], [0.3333333333333333, \"#9c179e\"], [0.4444444444444444, \"#bd3786\"], [0.5555555555555556, \"#d8576b\"], [0.6666666666666666, \"#ed7953\"], [0.7777777777777778, \"#fb9f3a\"], [0.8888888888888888, \"#fdca26\"], [1.0, \"#f0f921\"]], \"type\": \"heatmap\"}], \"heatmapgl\": [{\"colorbar\": {\"outlinewidth\": 0, \"ticks\": \"\"}, \"colorscale\": [[0.0, \"#0d0887\"], [0.1111111111111111, \"#46039f\"], [0.2222222222222222, \"#7201a8\"], [0.3333333333333333, \"#9c179e\"], [0.4444444444444444, \"#bd3786\"], [0.5555555555555556, \"#d8576b\"], [0.6666666666666666, \"#ed7953\"], [0.7777777777777778, \"#fb9f3a\"], [0.8888888888888888, \"#fdca26\"], [1.0, \"#f0f921\"]], \"type\": \"heatmapgl\"}], \"histogram\": [{\"marker\": {\"colorbar\": {\"outlinewidth\": 0, \"ticks\": \"\"}}, \"type\": \"histogram\"}], \"histogram2d\": [{\"colorbar\": {\"outlinewidth\": 0, \"ticks\": \"\"}, \"colorscale\": [[0.0, \"#0d0887\"], [0.1111111111111111, \"#46039f\"], [0.2222222222222222, \"#7201a8\"], [0.3333333333333333, \"#9c179e\"], [0.4444444444444444, \"#bd3786\"], [0.5555555555555556, \"#d8576b\"], [0.6666666666666666, \"#ed7953\"], [0.7777777777777778, \"#fb9f3a\"], [0.8888888888888888, \"#fdca26\"], [1.0, \"#f0f921\"]], \"type\": \"histogram2d\"}], \"histogram2dcontour\": [{\"colorbar\": {\"outlinewidth\": 0, \"ticks\": \"\"}, \"colorscale\": [[0.0, \"#0d0887\"], [0.1111111111111111, \"#46039f\"], [0.2222222222222222, \"#7201a8\"], [0.3333333333333333, \"#9c179e\"], [0.4444444444444444, \"#bd3786\"], [0.5555555555555556, \"#d8576b\"], [0.6666666666666666, \"#ed7953\"], [0.7777777777777778, \"#fb9f3a\"], [0.8888888888888888, \"#fdca26\"], [1.0, \"#f0f921\"]], \"type\": \"histogram2dcontour\"}], \"mesh3d\": [{\"colorbar\": {\"outlinewidth\": 0, \"ticks\": \"\"}, \"type\": \"mesh3d\"}], \"parcoords\": [{\"line\": {\"colorbar\": {\"outlinewidth\": 0, \"ticks\": \"\"}}, \"type\": \"parcoords\"}], \"pie\": [{\"automargin\": true, \"type\": \"pie\"}], \"scatter\": [{\"marker\": {\"colorbar\": {\"outlinewidth\": 0, \"ticks\": \"\"}}, \"type\": \"scatter\"}], \"scatter3d\": [{\"line\": {\"colorbar\": {\"outlinewidth\": 0, \"ticks\": \"\"}}, \"marker\": {\"colorbar\": {\"outlinewidth\": 0, \"ticks\": \"\"}}, \"type\": \"scatter3d\"}], \"scattercarpet\": [{\"marker\": {\"colorbar\": {\"outlinewidth\": 0, \"ticks\": \"\"}}, \"type\": \"scattercarpet\"}], \"scattergeo\": [{\"marker\": {\"colorbar\": {\"outlinewidth\": 0, \"ticks\": \"\"}}, \"type\": \"scattergeo\"}], \"scattergl\": [{\"marker\": {\"colorbar\": {\"outlinewidth\": 0, \"ticks\": \"\"}}, \"type\": \"scattergl\"}], \"scattermapbox\": [{\"marker\": {\"colorbar\": {\"outlinewidth\": 0, \"ticks\": \"\"}}, \"type\": \"scattermapbox\"}], \"scatterpolar\": [{\"marker\": {\"colorbar\": {\"outlinewidth\": 0, \"ticks\": \"\"}}, \"type\": \"scatterpolar\"}], \"scatterpolargl\": [{\"marker\": {\"colorbar\": {\"outlinewidth\": 0, \"ticks\": \"\"}}, \"type\": \"scatterpolargl\"}], \"scatterternary\": [{\"marker\": {\"colorbar\": {\"outlinewidth\": 0, \"ticks\": \"\"}}, \"type\": \"scatterternary\"}], \"surface\": [{\"colorbar\": {\"outlinewidth\": 0, \"ticks\": \"\"}, \"colorscale\": [[0.0, \"#0d0887\"], [0.1111111111111111, \"#46039f\"], [0.2222222222222222, \"#7201a8\"], [0.3333333333333333, \"#9c179e\"], [0.4444444444444444, \"#bd3786\"], [0.5555555555555556, \"#d8576b\"], [0.6666666666666666, \"#ed7953\"], [0.7777777777777778, \"#fb9f3a\"], [0.8888888888888888, \"#fdca26\"], [1.0, \"#f0f921\"]], \"type\": \"surface\"}], \"table\": [{\"cells\": {\"fill\": {\"color\": \"#EBF0F8\"}, \"line\": {\"color\": \"white\"}}, \"header\": {\"fill\": {\"color\": \"#C8D4E3\"}, \"line\": {\"color\": \"white\"}}, \"type\": \"table\"}]}, \"layout\": {\"annotationdefaults\": {\"arrowcolor\": \"#2a3f5f\", \"arrowhead\": 0, \"arrowwidth\": 1}, \"autotypenumbers\": \"strict\", \"coloraxis\": {\"colorbar\": {\"outlinewidth\": 0, \"ticks\": \"\"}}, \"colorscale\": {\"diverging\": [[0, \"#8e0152\"], [0.1, \"#c51b7d\"], [0.2, \"#de77ae\"], [0.3, \"#f1b6da\"], [0.4, \"#fde0ef\"], [0.5, \"#f7f7f7\"], [0.6, \"#e6f5d0\"], [0.7, \"#b8e186\"], [0.8, \"#7fbc41\"], [0.9, \"#4d9221\"], [1, \"#276419\"]], \"sequential\": [[0.0, \"#0d0887\"], [0.1111111111111111, \"#46039f\"], [0.2222222222222222, \"#7201a8\"], [0.3333333333333333, \"#9c179e\"], [0.4444444444444444, \"#bd3786\"], [0.5555555555555556, \"#d8576b\"], [0.6666666666666666, \"#ed7953\"], [0.7777777777777778, \"#fb9f3a\"], [0.8888888888888888, \"#fdca26\"], [1.0, \"#f0f921\"]], \"sequentialminus\": [[0.0, \"#0d0887\"], [0.1111111111111111, \"#46039f\"], [0.2222222222222222, \"#7201a8\"], [0.3333333333333333, \"#9c179e\"], [0.4444444444444444, \"#bd3786\"], [0.5555555555555556, \"#d8576b\"], [0.6666666666666666, \"#ed7953\"], [0.7777777777777778, \"#fb9f3a\"], [0.8888888888888888, \"#fdca26\"], [1.0, \"#f0f921\"]]}, \"colorway\": [\"#636efa\", \"#EF553B\", \"#00cc96\", \"#ab63fa\", \"#FFA15A\", \"#19d3f3\", \"#FF6692\", \"#B6E880\", \"#FF97FF\", \"#FECB52\"], \"font\": {\"color\": \"#2a3f5f\"}, \"geo\": {\"bgcolor\": \"white\", \"lakecolor\": \"white\", \"landcolor\": \"#E5ECF6\", \"showlakes\": true, \"showland\": true, \"subunitcolor\": \"white\"}, \"hoverlabel\": {\"align\": \"left\"}, \"hovermode\": \"closest\", \"mapbox\": {\"style\": \"light\"}, \"paper_bgcolor\": \"white\", \"plot_bgcolor\": \"#E5ECF6\", \"polar\": {\"angularaxis\": {\"gridcolor\": \"white\", \"linecolor\": \"white\", \"ticks\": \"\"}, \"bgcolor\": \"#E5ECF6\", \"radialaxis\": {\"gridcolor\": \"white\", \"linecolor\": \"white\", \"ticks\": \"\"}}, \"scene\": {\"xaxis\": {\"backgroundcolor\": \"#E5ECF6\", \"gridcolor\": \"white\", \"gridwidth\": 2, \"linecolor\": \"white\", \"showbackground\": true, \"ticks\": \"\", \"zerolinecolor\": \"white\"}, \"yaxis\": {\"backgroundcolor\": \"#E5ECF6\", \"gridcolor\": \"white\", \"gridwidth\": 2, \"linecolor\": \"white\", \"showbackground\": true, \"ticks\": \"\", \"zerolinecolor\": \"white\"}, \"zaxis\": {\"backgroundcolor\": \"#E5ECF6\", \"gridcolor\": \"white\", \"gridwidth\": 2, \"linecolor\": \"white\", \"showbackground\": true, \"ticks\": \"\", \"zerolinecolor\": \"white\"}}, \"shapedefaults\": {\"line\": {\"color\": \"#2a3f5f\"}}, \"ternary\": {\"aaxis\": {\"gridcolor\": \"white\", \"linecolor\": \"white\", \"ticks\": \"\"}, \"baxis\": {\"gridcolor\": \"white\", \"linecolor\": \"white\", \"ticks\": \"\"}, \"bgcolor\": \"#E5ECF6\", \"caxis\": {\"gridcolor\": \"white\", \"linecolor\": \"white\", \"ticks\": \"\"}}, \"title\": {\"x\": 0.05}, \"xaxis\": {\"automargin\": true, \"gridcolor\": \"white\", \"linecolor\": \"white\", \"ticks\": \"\", \"title\": {\"standoff\": 15}, \"zerolinecolor\": \"white\", \"zerolinewidth\": 2}, \"yaxis\": {\"automargin\": true, \"gridcolor\": \"white\", \"linecolor\": \"white\", \"ticks\": \"\", \"title\": {\"standoff\": 15}, \"zerolinecolor\": \"white\", \"zerolinewidth\": 2}}}, \"title\": {\"text\": \"Simula\\u00e7\\u00e3o equivalente ao SMART Moderado, 10000 itera\\u00e7\\u00f5es, 30 anos\"}, \"width\": 1000},                        {\"responsive\": true}                    ).then(function(){\n",
       "                            \n",
       "var gd = document.getElementById('f733a078-3550-47a2-933a-62b1f57d0e10');\n",
       "var x = new MutationObserver(function (mutations, observer) {{\n",
       "        var display = window.getComputedStyle(gd).display;\n",
       "        if (!display || display === 'none') {{\n",
       "            console.log([gd, 'removed!']);\n",
       "            Plotly.purge(gd);\n",
       "            observer.disconnect();\n",
       "        }}\n",
       "}});\n",
       "\n",
       "// Listen for the removal of the full notebook cells\n",
       "var notebookContainer = gd.closest('#notebook-container');\n",
       "if (notebookContainer) {{\n",
       "    x.observe(notebookContainer, {childList: true});\n",
       "}}\n",
       "\n",
       "// Listen for the clearing of the current output cell\n",
       "var outputEl = gd.closest('.output');\n",
       "if (outputEl) {{\n",
       "    x.observe(outputEl, {childList: true});\n",
       "}}\n",
       "\n",
       "                        })                };                });            </script>        </div>"
      ]
     },
     "metadata": {},
     "output_type": "display_data"
    }
   ],
   "source": [
    "fig = go.Figure()\n",
    "fig.add_trace(go.Scatter(y=quantiles['20Q'], x=quantiles.index,\n",
    "    fill=None,\n",
    "    mode='lines',\n",
    "    line_color='red',\n",
    "    name=\"20Q\"\n",
    "    ))\n",
    "fig.add_trace(go.Scatter(y=quantiles['40Q'], x=quantiles.index,\n",
    "    fill='tonexty',\n",
    "    mode='lines',\n",
    "    line_color='royalblue',\n",
    "    fillcolor='rgba(255, 0, 0, 0.5)',\n",
    "    name=\"40Q\"\n",
    "    ))\n",
    "fig.add_trace(go.Scatter(y=quantiles['60Q'], x=quantiles.index,\n",
    "    fill='tonexty',\n",
    "    mode='lines',\n",
    "    line_color='royalblue',\n",
    "    name=\"60Q\"\n",
    "    ))\n",
    "fig.add_trace(go.Scatter(y=quantiles['80Q'], x=quantiles.index,\n",
    "    fill='tonexty',\n",
    "    mode='lines',\n",
    "    line_color='green',\n",
    "    name=\"80Q\"\n",
    "    ))\n",
    "fig.update_layout(\n",
    "    title='Simulação equivalente ao SMART Moderado, 10000 iterações, 30 anos',\n",
    "    autosize=False,\n",
    "    width=1000,\n",
    "    height=500,\n",
    "    margin=dict(\n",
    "        l=50,\n",
    "        r=50,\n",
    "        b=100,\n",
    "        t=100,\n",
    "        pad=4\n",
    "    ),\n",
    "    paper_bgcolor=\"whitesmoke\",\n",
    ")\n",
    "\n",
    "fig.show()"
   ]
  },
  {
   "cell_type": "code",
   "execution_count": null,
   "metadata": {},
   "outputs": [],
   "source": []
  }
 ],
 "metadata": {
  "kernelspec": {
   "display_name": "Python 3",
   "language": "python",
   "name": "python3"
  },
  "language_info": {
   "codemirror_mode": {
    "name": "ipython",
    "version": 3
   },
   "file_extension": ".py",
   "mimetype": "text/x-python",
   "name": "python",
   "nbconvert_exporter": "python",
   "pygments_lexer": "ipython3",
   "version": "3.8.3"
  },
  "sos": {
   "kernels": [
    [
     "SoS",
     "sos",
     "",
     ""
    ]
   ],
   "version": "0.18.5"
  }
 },
 "nbformat": 4,
 "nbformat_minor": 4
}

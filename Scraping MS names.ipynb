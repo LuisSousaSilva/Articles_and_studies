{
 "cells": [
  {
   "cell_type": "code",
   "execution_count": 11,
   "metadata": {
    "kernel": "R"
   },
   "outputs": [],
   "source": [
    "library(\"rvest\")\n",
    "library(\"tidyverse\")"
   ]
  },
  {
   "cell_type": "code",
   "execution_count": 29,
   "metadata": {
    "kernel": "R"
   },
   "outputs": [
    {
     "name": "stdout",
     "output_type": "stream",
     "text": [
      "\f",
      "Ooops, parece que houve um problema com o fundo F00000MRIA \n",
      "Ooops, parece que houve um problema com o fundo F00000ND3V \n",
      "Ooops, parece que houve um problema com o fundo F00000ND3U \n",
      "Ooops, parece que houve um problema com o fundo 0P0000GEK1 \n",
      "Ooops, parece que houve um problema com o fundo F0GBR0580G \n"
     ]
    },
    {
     "ename": "ERROR",
     "evalue": "Error in write.xlsx(Fundos, \"Fundos2.xlsx\", row.names = F): could not find function \"write.xlsx\"\n",
     "output_type": "error",
     "traceback": [
      "Error in write.xlsx(Fundos, \"Fundos2.xlsx\", row.names = F): could not find function \"write.xlsx\"\nTraceback:\n"
     ]
    }
   ],
   "source": [
    "library(rvest)\n",
    "library(stringr)\n",
    "\n",
    "options(digits = 5, scipen = 100) # Setting max to five significant digits\n",
    "rm(list = ls()) # Clears the environment (R objects) \n",
    "graphics.off() # Clears Graphics/Plots\n",
    "cat(\"\\014\") # Clears the console\n",
    "\n",
    "\n",
    "#################################################################################################################################################################################################################################################\n",
    "\n",
    "\n",
    "MSid <- c('F0GBR06T61', 'F0GBR06T6F', 'F0GBR06T6D', 'F0GBR04EAN', 'F0GBR05ZUY', # 5\n",
    "        'F000000FH0', 'F0GBR04UGX', 'F0GBR04GNL', 'F0GBR04E6R', 'F00000VIK1', # 10\n",
    "        'F0GBR04SKK', 'F0GBR05XJ0', 'F0GBR04T1N', 'F0GBR057ZA', 'F00000N86D', # 15\n",
    "        'F0GBR05L20', 'F0GBR064Q5', 'F0000001V3', 'F0000001V0', 'F0000001V1', # 20\n",
    "        'F0000001V2', 'F00000PCHJ', 'F0GBR061VJ', 'F000000GMD', 'F000002FBY', # 25\n",
    "        'F0GBR04N92', 'F00000UPOP', 'F0GBR04RBZ', 'F000001ZHN', 'F00000WTML', # 30\n",
    "        'F000010L3X', 'F00000XE8F', 'F0GBR06E0A', 'F0GBR06IIX', 'F0000026XE', # 35\n",
    "        'F000000JV6', 'F0GBR04K7L', 'F0GBR04JGP', 'F00000MRIA', 'F0GBR06FVK', # 40\n",
    "        'F00000VYLS', 'F00000VYLT', 'F00000VYLU', 'F0000002SD', 'F000001WZS', # 45\n",
    "        'F00000OZ46', 'F00000OZGB', 'F0000000LE', 'F00000YJ6S', 'F00000UDC4', # 50\n",
    "        'F00000YXG6', 'F0GBR04AIK', 'F0GBR04SRH', 'F0GBR04AIU', 'F000011TN0', # 55\n",
    "        'F0GBR04SKF', 'F0GBR04G0F', 'F0GBR061V3', 'F00000T1HQ', 'F0GBR05A2X', # 60\n",
    "        'F0GBR06TSA', 'F00000PA9N', 'F00000NGKR', 'F00000T1I9', 'FOGBR05KNY', # 65\n",
    "        'F00000MIC6', 'F00000MO70', 'F0GBR04LWJ', 'FOGBR05K0E', 'F00000MO76', # 70\n",
    "        'F00000MIC3', 'F00000MIC8', 'F00000MIC1', 'F0GBR04D2G', 'F00000T4KE', # 75\n",
    "        'F00000Q8QC', 'F00000ZY64', 'F0GBR04V75', 'F0GBR06T5P', 'F00000J7E6', # 80\n",
    "        'F00000NRZS', 'F00000NGSG', 'F000000RLR', 'FOGBR05KLP', 'F0GBR04KNO', # 85\n",
    "        'F00000ND3V', 'F00000ND3U', 'F00000ND3T', 'F0GBR04KNM', 'F000000275', # 90\n",
    "        'F000000F87', 'F00000T1I8', 'F0GBR04EP3', 'F0GBR04D28', 'F00000Q4A8', # 95\n",
    "        'F0000004J1', 'F000000AVO', 'F0GBR06W8V', '0P0000GEK1', 'F000011S12', # 100\n",
    "        'F0000104Y4', 'F0000101QX', 'F0000101QW', 'F0000101QY', 'F0GBR04VDP', # 105\n",
    "        'F000002EX0', 'F0GBR04LVV', 'F000003YGQ', 'F00000YSYB', 'F00000LNTQ', # 110\n",
    "        'F00000WDSM', 'F0GBR04LVP', 'F00000UH71', 'F00000IRBH', 'F0000001NP', # 115\n",
    "        'F0GBR06T9O', 'F00000J5HW', 'F0GBR056YC', 'F000002HFH', 'F00000NY97', # 120\n",
    "        'F00000T4KE', 'F0GBR04VQR', 'F00000VDUR', 'F000003W9G', 'F00000OZZ4', # 125\n",
    "        'F00000MEJL', 'F0GBR04AFQ', 'F0GBR0580G', 'F00000TH42', 'F0GBR04EV4', # 130\n",
    "        'F00000259C')\n",
    "\n",
    "\n",
    "\n",
    "\n",
    "\n",
    "#################################################################################################################################################################################################################################################\n",
    "\n",
    "## AB_FCP ##\n",
    "AB_FCP <-\n",
    "  \"http://www.morningstar.es/es/funds/snapshot/snapshot.aspx?id=F0000020MG\"\n",
    "AB_FCP_html <- read_html(AB_FCP)\n",
    "\n",
    "AB_FCP_name <- AB_FCP_html %>% \n",
    "  html_node(\"h1\") %>%\n",
    "  html_text()\n",
    "\n",
    "AB_FCP_ISIN <- AB_FCP_html %>% \n",
    "  html_node(\"#overviewQuickstatsDiv tr:nth-child(5) .text\") %>%\n",
    "  html_text()\n",
    "\n",
    "AB_FCP <- cbind(\"F0000020MG\", AB_FCP_ISIN, AB_FCP_name)\n",
    "AB_FCP <- chartr(\".\", \",\", AB_FCP)\n",
    "Fundos <- AB_FCP\n",
    "\n",
    "## Fund ##\n",
    "for (i in MSid) {\n",
    "  tryCatch({\n",
    "  Fund <-\n",
    "    paste0(\"http://www.morningstar.es/es/funds/snapshot/snapshot.aspx?id=\",i)\n",
    "    Fund_html <- read_html(Fund)\n",
    "\n",
    "  Fund_name <- Fund_html %>%\n",
    "      html_node(\"h1\") %>%\n",
    "      html_text()\n",
    "\n",
    "   Fund_ISIN <- Fund_html %>%\n",
    "      html_node(\"#overviewQuickstatsDiv tr:nth-child(5) .text\") %>%\n",
    "      html_text()\n",
    "\n",
    "   Fund <- cbind(i, Fund_ISIN, Fund_name)\n",
    "      Fundos <- rbind(Fundos, Fund)\n",
    "    }, error=function(e){cat(\"Ooops, parece que houve um problema com o fundo\", i,\"\\n\")})\n",
    "  }\n",
    "\n",
    "\n",
    "Fundos <- sub(\"%\", \"\", Fundos)\n",
    "colnames(Fundos) <- paste(c(\"MSid\", \"ISIN\", \"Nome\"))\n",
    "\n",
    "# write.table(Fundos, \"Fundos.csv\", row.names = F, col.names = T, sep = \";\")\n",
    "write.xlsx(Fundos, \"Fundos2.xlsx\", row.names = F)"
   ]
  },
  {
   "cell_type": "code",
   "execution_count": 31,
   "metadata": {
    "kernel": "R"
   },
   "outputs": [],
   "source": [
    "write.table(Fundos, \"Fundos.csv\", row.names = F, col.names = T, sep = \";\")"
   ]
  },
  {
   "cell_type": "code",
   "execution_count": null,
   "metadata": {
    "kernel": "R"
   },
   "outputs": [],
   "source": []
  }
 ],
 "metadata": {
  "kernelspec": {
   "display_name": "SoS",
   "language": "sos",
   "name": "sos"
  },
  "language_info": {
   "codemirror_mode": "sos",
   "file_extension": ".sos",
   "mimetype": "text/x-sos",
   "name": "sos",
   "nbconvert_exporter": "sos_notebook.converter.SoS_Exporter",
   "pygments_lexer": "sos"
  },
  "sos": {
   "kernels": [
    [
     "R",
     "ir",
     "R",
     "",
     "r"
    ]
   ],
   "version": "0.21.1"
  }
 },
 "nbformat": 4,
 "nbformat_minor": 4
}

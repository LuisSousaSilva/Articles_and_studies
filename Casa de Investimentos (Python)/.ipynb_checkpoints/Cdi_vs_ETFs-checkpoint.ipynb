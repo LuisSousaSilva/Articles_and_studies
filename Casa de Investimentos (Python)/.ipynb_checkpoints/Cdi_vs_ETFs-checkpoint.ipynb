{
 "cells": [
  {
   "cell_type": "code",
   "execution_count": 17,
   "metadata": {},
   "outputs": [
    {
     "data": {
      "text/html": [
       "<script>jQuery(function() {if (jQuery(\"body.notebook_app\").length == 0) { jQuery(\".input_area\").toggle(); jQuery(\".prompt\").toggle();}});</script>"
      ]
     },
     "metadata": {},
     "output_type": "display_data"
    },
    {
     "data": {
      "text/html": [
       "<button onclick=\"jQuery('.input_area').toggle(); jQuery('.prompt').toggle();\">Código ON/OFF</button>"
      ]
     },
     "metadata": {},
     "output_type": "display_data"
    }
   ],
   "source": [
    "from IPython.display import display\n",
    "from IPython.display import HTML\n",
    "import IPython.core.display as di # Example: di.display_html('<h3>%s:</h3>' % str, raw=True)\n",
    "\n",
    "# This line will hide code by default when the notebook is exported as HTML\n",
    "di.display_html('<script>jQuery(function() {if (jQuery(\"body.notebook_app\").length == 0) { jQuery(\".input_area\").toggle(); jQuery(\".prompt\").toggle();}});</script>', raw=True)\n",
    "\n",
    "# This line will add a button to toggle visibility of code blocks, for use with the HTML export version\n",
    "di.display_html('''<button onclick=\"jQuery('.input_area').toggle(); jQuery('.prompt').toggle();\">Código ON/OFF</button>''', raw=True)"
   ]
  },
  {
   "cell_type": "code",
   "execution_count": 18,
   "metadata": {},
   "outputs": [
    {
     "data": {
      "text/html": [
       "        <script type=\"text/javascript\">\n",
       "        window.PlotlyConfig = {MathJaxConfig: 'local'};\n",
       "        if (window.MathJax) {MathJax.Hub.Config({SVG: {font: \"STIX-Web\"}});}\n",
       "        if (typeof require !== 'undefined') {\n",
       "        require.undef(\"plotly\");\n",
       "        requirejs.config({\n",
       "            paths: {\n",
       "                'plotly': ['https://cdn.plot.ly/plotly-latest.min']\n",
       "            }\n",
       "        });\n",
       "        require(['plotly'], function(Plotly) {\n",
       "            window._Plotly = Plotly;\n",
       "        });\n",
       "        }\n",
       "        </script>\n",
       "        "
      ]
     },
     "metadata": {},
     "output_type": "display_data"
    },
    {
     "data": {
      "text/html": [
       "        <script type=\"text/javascript\">\n",
       "        window.PlotlyConfig = {MathJaxConfig: 'local'};\n",
       "        if (window.MathJax) {MathJax.Hub.Config({SVG: {font: \"STIX-Web\"}});}\n",
       "        if (typeof require !== 'undefined') {\n",
       "        require.undef(\"plotly\");\n",
       "        requirejs.config({\n",
       "            paths: {\n",
       "                'plotly': ['https://cdn.plot.ly/plotly-latest.min']\n",
       "            }\n",
       "        });\n",
       "        require(['plotly'], function(Plotly) {\n",
       "            window._Plotly = Plotly;\n",
       "        });\n",
       "        }\n",
       "        </script>\n",
       "        "
      ]
     },
     "metadata": {},
     "output_type": "display_data"
    }
   ],
   "source": [
    "# importing libraries\n",
    "import matplotlib.pyplot as plt\n",
    "import plotly.graph_objs as go\n",
    "import plotly.offline as py\n",
    "import cufflinks as cf\n",
    "import datetime as dt\n",
    "import pandas as pd\n",
    "import numpy as np\n",
    "import quandl\n",
    "import plotly\n",
    "import time\n",
    "\n",
    "from plotly.offline import download_plotlyjs, init_notebook_mode, plot, iplot\n",
    "from IPython.display import Markdown, display\n",
    "from pandas.tseries.offsets import DateOffset\n",
    "from matplotlib.ticker import FuncFormatter\n",
    "from pandas.core.base import PandasObject\n",
    "from datetime import datetime\n",
    "\n",
    "# Setting pandas dataframe display options\n",
    "pd.set_option(\"display.max_rows\", 20)\n",
    "pd.set_option('display.width', 800)\n",
    "pd.set_option('max_colwidth', 800)\n",
    "\n",
    "pd.options.display.float_format = '{:,.2f}'.format\n",
    "\n",
    "# Set plotly offline\n",
    "init_notebook_mode(connected=True)\n",
    "\n",
    "# Set matplotlib style\n",
    "plt.style.use('seaborn')\n",
    "\n",
    "# Set cufflinks offline\n",
    "cf.go_offline()\n",
    "\n",
    "# Defining today's Date\n",
    "from datetime import date\n",
    "today = date.today()\n",
    "\n",
    "#### Functions ####\n",
    "def compute_growth_index(dataframe, initial_value=100, initial_cost=0, ending_cost=0):\n",
    "    initial_cost = initial_cost / 100\n",
    "    ending_cost  = ending_cost / 100\n",
    "    \n",
    "    GR = ((1 + dataframe.pct_change()).cumprod()) * (initial_value * (1 - initial_cost))\n",
    "    GR.iloc[0]  = initial_value * (1 - initial_cost)\n",
    "    GR.iloc[-1] = GR.iloc[-1] * (1 * (1 - ending_cost))\n",
    "    return GR \n",
    "\n",
    "def compute_drawdowns(dataframe):\n",
    "    '''\n",
    "    Function to compute drawdowns of a timeseries\n",
    "    given a dataframe of prices\n",
    "    '''\n",
    "    return (dataframe / dataframe.cummax() -1) * 100\n",
    "\n",
    "def compute_return(dataframe, years=''):\n",
    "    '''\n",
    "    Function to compute drawdowns of a timeseries\n",
    "    given a dataframe of prices\n",
    "    '''\n",
    "    if isinstance(years, int):\n",
    "        years = years\n",
    "        dataframe = filter_by_date(dataframe, years=years)\n",
    "        return (dataframe.iloc[-1] / dataframe.iloc[0] -1) * 100\n",
    "\n",
    "    else:\n",
    "        return (dataframe.iloc[-1] / dataframe.iloc[0] -1) * 100\n",
    "    \n",
    "def compute_max_DD(dataframe):\n",
    "    return compute_drawdowns(dataframe).min()\n",
    "\n",
    "def compute_cagr(dataframe, years=''):\n",
    "    '''\n",
    "    Function to calculate CAGR given a dataframe of prices\n",
    "    '''\n",
    "    if isinstance(years, int):\n",
    "        years = years\n",
    "        dataframe = filter_by_date(dataframe, years=years)\n",
    "        return(dataframe.iloc[-1].div(dataframe.iloc[0])).pow(1 / years).sub(1).mul(100)\n",
    "    \n",
    "    else:\n",
    "        years = len(pd.date_range(dataframe.index[0], dataframe.index[-1], freq='D')) / 365\n",
    "        \n",
    "    return(dataframe.iloc[-1].div(dataframe.iloc[0])).pow(1 / years).sub(1).mul(100)\n",
    "\n",
    "def compute_mar(dataframe):\n",
    "    '''\n",
    "    Function to calculate mar: Return Over Maximum Drawdown\n",
    "    given a dataframe of prices\n",
    "    '''\n",
    "    return compute_cagr(dataframe).div(compute_drawdowns(dataframe).min().abs())\n",
    "\n",
    "def compute_StdDev(dataframe, freq='days'):    \n",
    "    '''\n",
    "    Function to calculate annualized standart deviation\n",
    "    given a dataframe of prices. It takes into account the\n",
    "    frequency of the data.\n",
    "    '''    \n",
    "    if freq == 'days':\n",
    "        return dataframe.pct_change().std().mul((np.sqrt(252))).mul(100)\n",
    "    if freq == 'months':\n",
    "        return dataframe.pct_change().std().mul((np.sqrt(12))).mul(100)\n",
    "    if freq == 'quarters':\n",
    "        return dataframe.pct_change().std().mul((np.sqrt(4))).mul(100)\n",
    "\n",
    "def compute_sharpe(dataframe, years='', freq='days'):    \n",
    "    '''\n",
    "    Function to calculate the sharpe ratio given a dataframe of prices.\n",
    "    '''    \n",
    "    return compute_cagr(dataframe, years).div(compute_StdDev(dataframe, freq))\n",
    "\n",
    "def compute_performance_table(dataframe, years='si', freq='days'):    \n",
    "    '''\n",
    "    Function to calculate a performance table given a dataframe of prices.\n",
    "    Takes into account the frequency of the data.\n",
    "    ''' \n",
    "    \n",
    "    if years == 'si':\n",
    "        years = len(pd.date_range(dataframe.index[0], dataframe.index[-1], freq='D')) / 365.25\n",
    "        \n",
    "        df = pd.DataFrame([compute_cagr(dataframe, years), compute_return(dataframe),\n",
    "                           compute_StdDev(dataframe, freq),\n",
    "                           compute_sharpe(dataframe, years, freq), compute_max_DD(dataframe), compute_mar(dataframe)])\n",
    "        df.index = ['CAGR', 'Return', 'StdDev', 'Sharpe', 'Max DD', 'MAR']\n",
    "        \n",
    "        df = round(df.transpose(), 2)\n",
    "        \n",
    "        # Colocar percentagens\n",
    "        df['Return'] = (df['Return'] / 100).apply('{:.2%}'.format)\n",
    "        df['CAGR'] = (df['CAGR'] / 100).apply('{:.2%}'.format)\n",
    "        df['StdDev'] = (df['StdDev'] / 100).apply('{:.2%}'.format)\n",
    "        df['Max DD'] = (df['Max DD'] / 100).apply('{:.2%}'.format)\n",
    "        \n",
    "        start = str(dataframe.index[0])[0:10]\n",
    "        end   = str(dataframe.index[-1])[0:10]\n",
    "        print_title('Performance from ' + start + ' to ' + end + ' (≈ ' + str(round(years, 1)) + ' years)')\n",
    "        \n",
    "        # Return object\n",
    "        return df\n",
    "\n",
    "    if years == 'ytd':\n",
    "        \n",
    "        df = filter_by_date(dataframe, 'ytd')\n",
    "        \n",
    "        start = str(df.index[0])[0:10]\n",
    "        end   = str(df.index[-1])[0:10]\n",
    "        \n",
    "        df = pd.DataFrame([compute_ytd_cagr(dataframe), compute_ytd_return(dataframe), compute_ytd_StdDev(dataframe),\n",
    "                           compute_ytd_sharpe(dataframe), compute_ytd_max_DD(dataframe), compute_ytd_mar(dataframe)])\n",
    "        df.index = ['CAGR', 'Return', 'StdDev', 'Sharpe', 'Max DD', 'MAR']\n",
    "        \n",
    "        df = round(df.transpose(), 2)\n",
    "        \n",
    "        # Colocar percentagens\n",
    "        df['Return'] = (df['Return'] / 100).apply('{:.2%}'.format)\n",
    "        df['CAGR'] = 'N/A'\n",
    "        df['StdDev'] = (df['StdDev'] / 100).apply('{:.2%}'.format)\n",
    "        df['Max DD'] = (df['Max DD'] / 100).apply('{:.2%}'.format)\n",
    "        \n",
    "        print_title('Performance from ' + start + ' to ' + end + ' (YTD)')\n",
    "\n",
    "        # Return object\n",
    "        return df\n",
    "   \n",
    "    else:\n",
    "        dataframe = filter_by_date(dataframe, years)\n",
    "        df = pd.DataFrame([compute_cagr(dataframe, years=years), compute_return(dataframe),\n",
    "                           compute_StdDev(dataframe), compute_sharpe(dataframe),\n",
    "                           compute_max_DD(dataframe), compute_mar(dataframe)])\n",
    "        df.index = ['CAGR', 'Return', 'StdDev', 'Sharpe', 'Max DD', 'MAR']\n",
    "\n",
    "        df = round(df.transpose(), 2)\n",
    "\n",
    "        # Colocar percentagens\n",
    "        df['Return'] = (df['Return'] / 100).apply('{:.2%}'.format)\n",
    "        df['CAGR'] = (df['CAGR'] / 100).apply('{:.2%}'.format)\n",
    "        df['StdDev'] = (df['StdDev'] / 100).apply('{:.2%}'.format)\n",
    "        df['Max DD'] = (df['Max DD'] / 100).apply('{:.2%}'.format)\n",
    "        \n",
    "        start = str(dataframe.index[0])[0:10]\n",
    "        end   = str(dataframe.index[-1])[0:10]\n",
    "        \n",
    "        if years == 1:\n",
    "            print_title('Performance from ' + start + ' to ' + end + ' (' + str(years) + ' year)')\n",
    "        else:\n",
    "            print_title('Performance from ' + start + ' to ' + end + ' (' + str(years) + ' years)')\n",
    "            \n",
    "        return df\n",
    "\n",
    "def compute_time_period(timestamp_1, timestamp_2):\n",
    "    \n",
    "    year = timestamp_1.year - timestamp_2.year\n",
    "    month = timestamp_1.month - timestamp_2.month\n",
    "    day = timestamp_1.day - timestamp_2.day\n",
    "    \n",
    "    if month < 0:\n",
    "        year = year - 1\n",
    "        month = 12 + month\n",
    "    \n",
    "    if day < 0:\n",
    "        day = - day\n",
    "        \n",
    "    # Returns datetime object in years, month, days\n",
    "    return(str(year) + ' Years ' + str(month) + ' Months ' + str(day) + ' Days')\n",
    "\n",
    "def filter_by_date(dataframe, years):\n",
    "    start = dataframe.index[-1] - DateOffset(years=years)\n",
    "\n",
    "    if start in dataframe.index:    \n",
    "        pass\n",
    "    elif start < dataframe.index[0]:\n",
    "        raise ValueError(\"You seem to be selecting a date before the start of the time series\")\n",
    "    else:\n",
    "        start = str(dataframe.loc[:start].tail(1).index)[16:26]\n",
    "    \n",
    "    return dataframe.loc[start:]\n",
    "    \n",
    "def get(quotes):\n",
    "\n",
    "    # resample quotes to business month\n",
    "    monthly_quotes = quotes.resample('BM').last()\n",
    "    \n",
    "    # get monthly returns\n",
    "    returns = monthly_quotes.pct_change()\n",
    "\n",
    "    # get close / first column if given DataFrame\n",
    "    if isinstance(returns, pd.DataFrame):\n",
    "        returns.columns = map(str.lower, returns.columns)\n",
    "        if len(returns.columns) > 1 and 'close' in returns.columns:\n",
    "            returns = returns['close']\n",
    "        else:\n",
    "            returns = returns[returns.columns[0]]\n",
    "\n",
    "    # get returnsframe\n",
    "    returns = pd.DataFrame(data={'Retornos': returns})\n",
    "    returns['Ano'] = returns.index.strftime('%Y')\n",
    "    returns['Mês'] = returns.index.strftime('%b')\n",
    "\n",
    "    # make pivot table\n",
    "    returns = returns.pivot('Ano', 'Mês', 'Retornos').fillna(0)\n",
    "\n",
    "    # order columns by month\n",
    "    returns = returns[['Jan', 'Feb', 'Mar', 'Apr', 'May', 'Jun',  'Jul', 'Aug', 'Sep', 'Oct', 'Nov', 'Dec']]\n",
    "\n",
    "    return returns\n",
    "\n",
    "def plot(returns,\n",
    "         title=\"Monthly Returns (%)\",\n",
    "         title_color=\"black\",\n",
    "         title_size=12,\n",
    "         annot_size=10,\n",
    "         figsize=None,\n",
    "         cmap='RdYlGn',\n",
    "         cbar=False,\n",
    "         square=False):\n",
    "\n",
    "    returns = get(returns)\n",
    "    returns *= 100\n",
    "    \n",
    "    if figsize is None:\n",
    "        size = list(plt.gcf().get_size_inches()) \n",
    "        figsize = (size[0], size[0] // 2)\n",
    "        plt.close()\n",
    "\n",
    "    fig, ax = plt.subplots(figsize=figsize)\n",
    "    ax = sns.heatmap(returns, ax=ax, annot=True,\n",
    "                     annot_kws={\"size\": annot_size}, fmt=\"0.2f\", linewidths=0.4, center=0,\n",
    "                     square=square, cbar=cbar, cmap=cmap)\n",
    "    ax.set_title(title, fontsize=title_size, color=title_color, fontweight=\"bold\")\n",
    "\n",
    "    fig.subplots_adjust(hspace=0)\n",
    "    plt.yticks(rotation=0)\n",
    "    plt.show()\n",
    "    plt.close()\n",
    "\n",
    "\n",
    "PandasObject.get_returns_heatmap = get\n",
    "PandasObject.plot_returns_heatmap = plot\n",
    "\n",
    "def calendarize(returns):\n",
    "    \n",
    "    '''\n",
    "    The calendarize function is an slight adaption of ranaroussi's monthly-returns-heatmap \n",
    "    You can find it here: https://github.com/ranaroussi/monthly-returns-heatmap/\n",
    "    \n",
    "    It turns monthly data into a 12 columns(months) and yearly row seaborn heatmap\n",
    "    '''\n",
    "    \n",
    "    # get close / first column if given DataFrame\n",
    "    if isinstance(returns, pd.DataFrame):\n",
    "        returns.columns = map(str.lower, returns.columns)\n",
    "        if len(returns.columns) > 1 and 'close' in returns.columns:\n",
    "            returns = returns['close']\n",
    "        else:\n",
    "            returns = returns[returns.columns[0]]\n",
    "\n",
    "    # get returnsframe\n",
    "    returns = pd.DataFrame(data={'Retornos': returns})\n",
    "    returns['Ano'] = returns.index.strftime('%Y')\n",
    "    returns['Mês'] = returns.index.strftime('%b')\n",
    "\n",
    "    # make pivot table\n",
    "    returns = returns.pivot('Ano', 'Mês', 'Retornos').fillna(0)\n",
    "\n",
    "    # order columns by month\n",
    "    returns = returns[['Jan', 'Feb', 'Mar', 'Apr', 'May', 'Jun',  'Jul', 'Aug', 'Sep', 'Oct', 'Nov', 'Dec']]\n",
    "\n",
    "    return returns\n",
    "\n",
    "def plotly_table(df, width=990, height=500, columnwidth=[25], title=None , index=True, header=True,\n",
    "                 header_alignment=['center'],  header_line_color='rgb(100, 100, 100)', header_font_size=[12],\n",
    "                 header_font_color=['rgb(45, 45, 45)'], header_fill_color=['rgb(200, 200, 200)'],\n",
    "                 cells_alignment=['center'], cells_line_color=['rgb(200, 200, 200)'], cells_font_size=[11], \n",
    "                 cells_font_color=['rgb(45, 45, 45)'], cells_fill_color=['rgb(245, 245, 245)','white' ]):\n",
    "    \n",
    "    # Making the header bold and conditional  \n",
    "        if (header == False and index == False):            \n",
    "            lst = list(df.columns[0 + i] for i in range(len(df.columns)))  \n",
    "            header = [[i] for i in lst]\n",
    "            header =  list([str( '<b>' + header[0 + i][0] + '</b>') for i in range(len(df.columns))])\n",
    "            header = [[i] for i in header]\n",
    "            header.pop(0)\n",
    "            header =  [[]] + header\n",
    "            \n",
    "            trace = go.Table(\n",
    "                columnwidth = columnwidth,\n",
    "                    header=dict(values=header,\n",
    "                              line = dict(color=header_line_color),\n",
    "                              align = header_alignment,\n",
    "                              font = dict(color=header_font_color, size=header_font_size),\n",
    "                              height = 22,\n",
    "                              fill = dict(color=header_fill_color)),\n",
    "            \n",
    "            cells=dict(values=df.transpose().values.tolist(),                       \n",
    "                       line=dict(color=cells_line_color),\n",
    "                       align = cells_alignment,\n",
    "                       height = 22,\n",
    "                       font = dict(color=cells_font_color, size=cells_font_size),\n",
    "                       fill = dict(color = [cells_fill_color * len(df.index)]),\n",
    "                      ),      \n",
    "        )\n",
    "              \n",
    "        # Making the header bold and conditional  \n",
    "        if (header == True and index == True):            \n",
    "            lst = list(df.columns[0 + i] for i in range(len(df.columns)))  \n",
    "            header = [[i] for i in lst]\n",
    "            header =  list([str( '<b>' + header[0 + i][0] + '</b>') for i in range(len(df.columns))])\n",
    "            header = [[i] for i in header]\n",
    "            header = [['']] + header\n",
    "            \n",
    "            # Making the index Bold\n",
    "            lst_i = list(df.index[0 + i] for i in range(len(df.index)))\n",
    "            index = [[i] for i in lst_i]\n",
    "            index =  list([[ '<b>' + str(index[0 + i][0]) + '</b>' for i in range(len(df.index))]])\n",
    "            \n",
    "            trace = go.Table(\n",
    "                columnwidth = columnwidth,\n",
    "                    header=dict(values=header,\n",
    "                              line = dict(color=header_line_color),\n",
    "                              align = header_alignment,\n",
    "                              font = dict(color=header_font_color, size=header_font_size),\n",
    "                              height = 22,\n",
    "                              fill = dict(color=header_fill_color)),\n",
    "            \n",
    "            cells=dict(values=index + df.transpose().values.tolist(),                       \n",
    "                       line=dict(color=cells_line_color),\n",
    "                       align = cells_alignment,\n",
    "                       height = 22,\n",
    "                       font = dict(color=cells_font_color, size=cells_font_size),\n",
    "                       fill = dict(color = [cells_fill_color * len(df.index)]),\n",
    "                      ),      \n",
    "        )\n",
    "            \n",
    "        # Making the header bold and conditional  \n",
    "        if (header == False and index == True):            \n",
    "            lst = list(df.columns[0 + i] for i in range(len(df.columns)))  \n",
    "            header = [[i] for i in lst]\n",
    "            header =  list([str( '<b>' + header[0 + i][0] + '</b>') for i in range(len(df.columns))])\n",
    "            header = [[i] for i in header]\n",
    "            header = [[]] + header\n",
    "            \n",
    "            lst_i = list(df.index[0 + i] for i in range(len(df.index)))\n",
    "            index = [[i] for i in lst_i]\n",
    "            index =  list([[ '<b>' + str(index[0 + i][0]) + '</b>' for i in range(len(df.index))]])\n",
    "            \n",
    "            trace = go.Table(\n",
    "                columnwidth = columnwidth,\n",
    "                    header=dict(values=header,\n",
    "                              line = dict(color=header_line_color),\n",
    "                              align = header_alignment,\n",
    "                              font = dict(color=header_font_color, size=header_font_size),\n",
    "                              height = 22,\n",
    "                              fill = dict(color=header_fill_color)),\n",
    "            \n",
    "            cells=dict(values=index + df.transpose().values.tolist(),                       \n",
    "                       line=dict(color=cells_line_color),\n",
    "                       align = cells_alignment,\n",
    "                       height = 22,\n",
    "                       font = dict(color=cells_font_color, size=cells_font_size),\n",
    "                       fill = dict(color = [cells_fill_color * len(df.index)]),\n",
    "                      ),      \n",
    "        )\n",
    "            \n",
    "        # Making the header bold and conditional  \n",
    "        if (header == True and index == False):            \n",
    "            lst = list(df.columns[0 + i] for i in range(len(df.columns)))  \n",
    "            header = [[i] for i in lst]\n",
    "            header =  list([str( '<b>' + header[0 + i][0] + '</b>') for i in range(len(df.columns))])\n",
    "            header = [[i] for i in header]\n",
    "            header = header\n",
    "            \n",
    "            trace = go.Table(\n",
    "                columnwidth = columnwidth,\n",
    "                    header=dict(values=header,\n",
    "                              line = dict(color=header_line_color),\n",
    "                              align = header_alignment,\n",
    "                              font = dict(color=header_font_color, size=header_font_size),\n",
    "                              height = 22,\n",
    "                              fill = dict(color=header_fill_color)),\n",
    "            \n",
    "            cells=dict(values=df.transpose().values.tolist(),                       \n",
    "                       line=dict(color=cells_line_color),\n",
    "                       align = cells_alignment,\n",
    "                       height = 22,\n",
    "                       font = dict(color=cells_font_color, size=cells_font_size),\n",
    "                       fill = dict(color = [cells_fill_color * len(df.index)]),\n",
    "                      ),      \n",
    "        )\n",
    "        \n",
    "        if title == None:\n",
    "            layout = go.Layout(\n",
    "                autosize=False,\n",
    "                height=height,\n",
    "                width=width,\n",
    "                margin=dict (l=0, r=0, b=0, t=0, pad=0),\n",
    "            )\n",
    "        else:\n",
    "                layout = go.Layout(\n",
    "                    autosize=False,\n",
    "                    height=height,\n",
    "                    width=width,\n",
    "                    title=title,\n",
    "                    margin=dict( l=0, r=0, b=0, t=25, pad=0),\n",
    "                )\n",
    "\n",
    "        data = [trace]\n",
    "        fig = go.Figure(data=data, layout=layout)\n",
    "        py.iplot(fig, show_link=False, config={'modeBarButtonsToRemove': ['sendDataToCloud','hoverCompareCartesian'],\n",
    "                                               'displayModeBar': False})\n",
    "\n",
    "def compute_portfolio(quotes, weights):\n",
    "    \n",
    "    Nomes=quotes.columns\n",
    "    \n",
    "    # Anos do Portfolio\n",
    "    Years = quotes.index.year.unique()\n",
    "\n",
    "    # Dicionário com Dataframes anuais das cotações dos quotes\n",
    "    Years_dict = {}\n",
    "    k = 0\n",
    "\n",
    "    for Year in Years:\n",
    "        # Dynamically create key\n",
    "        key = Year\n",
    "        # Calculate value\n",
    "        value = quotes.loc[str(Year)]\n",
    "        # Insert in dictionary\n",
    "        Years_dict[key] = value\n",
    "        # Counter\n",
    "        k += 1\n",
    "\n",
    "    # Dicionário com Dataframes anuais das cotações dos quotes\n",
    "    Quotes_dict = {}\n",
    "    Portfolio_dict = {}\n",
    "\n",
    "    k = 0    \n",
    "    \n",
    "    for Year in Years:\n",
    "        \n",
    "        n = 0\n",
    "        \n",
    "        #Setting Portfolio to be a Global Variable\n",
    "        global Portfolio\n",
    "        \n",
    "        # Dynamically create key\n",
    "        key = Year\n",
    "\n",
    "        # Calculate value\n",
    "        if (Year-1) in Years:\n",
    "            value = Years_dict[Year].append(Years_dict[Year-1].iloc[[-1]]).sort_index()\n",
    "        else:\n",
    "            value = Years_dict[Year].append(Years_dict[Year].iloc[[-1]]).sort_index()\n",
    "\n",
    "        # Set beginning value to 100\n",
    "        value = (value / value.iloc[0]) * 100\n",
    "        # \n",
    "        for column in value.columns:\n",
    "            value[column] = value[column] * weights[n]\n",
    "            n +=1\n",
    "        \n",
    "        # Get Returns\n",
    "        Returns = value.pct_change()\n",
    "        # Calculating Portfolio Value\n",
    "        value['Portfolio'] = value.sum(axis=1)\n",
    "\n",
    "        # Creating Weights_EOP empty DataFrame\n",
    "        Weights_EOP = pd.DataFrame()\n",
    "        # Calculating End Of Period weights\n",
    "        for Name in Nomes:\n",
    "            Weights_EOP[Name] = value[Name] / value['Portfolio']\n",
    "        # Calculating Beginning Of Period weights\n",
    "        Weights_BOP = Weights_EOP.shift(periods=1)\n",
    "\n",
    "        # Calculatins Portfolio Value\n",
    "        Portfolio = pd.DataFrame(Weights_BOP.multiply(Returns).sum(axis=1))\n",
    "        Portfolio.columns=['Simple']\n",
    "        # Transformar os simple returns em log returns \n",
    "        Portfolio['Log'] = np.log(Portfolio['Simple'] + 1)\n",
    "        # Cumsum() dos log returns para obter o preço do Portfolio \n",
    "        Portfolio['Price'] = 100*np.exp(np.nan_to_num(Portfolio['Log'].cumsum()))\n",
    "        Portfolio['Price'] = Portfolio['Price']   \n",
    "\n",
    "        # Insert in dictionaries\n",
    "        Quotes_dict[key] = value\n",
    "        Portfolio_dict[key] = Portfolio\n",
    "        # Counter\n",
    "        k += 1\n",
    "\n",
    "    # Making an empty Dataframe for Portfolio data\n",
    "    Portfolio = pd.DataFrame()\n",
    "\n",
    "    for Year in Years:\n",
    "        Portfolio = pd.concat([Portfolio, Portfolio_dict[Year]['Log']])\n",
    "\n",
    "    # Delete repeated index values in Portfolio    \n",
    "    Portfolio.drop_duplicates(keep='last')\n",
    "\n",
    "    # Naming the column of log returns 'Log'\n",
    "    Portfolio.columns= ['Log']\n",
    "\n",
    "    # Cumsum() dos log returns para obter o preço do Portfolio \n",
    "    Portfolio['Price'] = 100*np.exp(np.nan_to_num(Portfolio['Log'].cumsum()))\n",
    "        \n",
    "    # Round Portfolio to 2 decimals and eliminate returns\n",
    "    Portfolio = pd.DataFrame(round(Portfolio['Price'], 2))\n",
    "\n",
    "    # Naming the column of Portfolio as 'Portfolio'\n",
    "    Portfolio.columns= ['Portfolio']\n",
    "\n",
    "    # Delete repeated days\n",
    "    Portfolio = Portfolio.loc[~Portfolio.index.duplicated(keep='first')]\n",
    "\n",
    "    return Portfolio\n",
    "    \n",
    "# Multi_period_return (in CAGR)\n",
    "def multi_period_return(df, years = 1, days=252):\n",
    "    shifted = df.shift(days * years)\n",
    "    One_year = (((1 + (df - shifted) / shifted) ** (1 / years))-1)  * 100\n",
    "    return One_year\n",
    "\n",
    "def compute_drawdowns_i(dataframe):\n",
    "    '''\n",
    "    Function to compute drawdowns based on \n",
    "    the inicial value of a timeseries\n",
    "    given a dataframe of prices\n",
    "    '''\n",
    "    return (dataframe / 100 -1) * 100\n",
    "        \n",
    "def print_title(string):\n",
    "    display(Markdown('**' + string + '**'))\n",
    "    \n",
    "def all_percent(df, rounding_value=2):\n",
    "    return round(df, rounding_value).astype(str) + '%'\n",
    "\n",
    "def preview(df):\n",
    "    df = pd.concat([df.head(3), df.tail(4)])\n",
    "    df.iloc[3] = '...'\n",
    "    return df\n",
    "\n",
    "def normalize(df):\n",
    "    df = df.dropna()\n",
    "    return (df / df.iloc[0]) * 100\n",
    "    \n",
    "dimensions=(970, 500)\n",
    "\n",
    "colorz = ['royalblue', 'orange', 'dimgrey', 'darkorchid']\n",
    "\n",
    "class color:\n",
    "   PURPLE = '\\033[95m'\n",
    "   CYAN = '\\033[96m'\n",
    "   DARKCYAN = '\\033[36m'\n",
    "   BLUE = '\\033[94m'\n",
    "   GREEN = '\\033[92m'\n",
    "   YELLOW = '\\033[93m'\n",
    "   RED = '\\033[91m'\n",
    "   BOLD = '\\033[1m'\n",
    "   UNDERLINE = '\\033[4m'\n",
    "   END = '\\033[0m'\n",
    "\n",
    "### print(color.BOLD + 'Hello World !' + color.END)\n",
    "\n",
    "##################################################\n",
    "### Begin of compute_drawdowns_table function ####\n",
    "##################################################\n",
    "\n",
    "### Função auxiliar 1\n",
    "def compute_time_period(timestamp_1, timestamp_2):\n",
    "    \n",
    "    year = timestamp_1.year - timestamp_2.year\n",
    "    month = timestamp_1.month - timestamp_2.month\n",
    "    day = timestamp_1.day - timestamp_2.day\n",
    "    \n",
    "    if month < 0:\n",
    "        year = year - 1\n",
    "        month = 12 + month\n",
    "    \n",
    "    if day == 0:\n",
    "        day = - day\n",
    "        \n",
    "    if day < 0:\n",
    "        month =  month - 1\n",
    "        if timestamp_1.month not in [1, 3, 5, 7, 8, 10, 12]:\n",
    "            day = 31 + day\n",
    "        else:\n",
    "            day = 30 + day        \n",
    "        \n",
    "    # Returns datetime object in years, month, days\n",
    "    return(str(year) + ' Years, ' + str(month) + ' Months, ' + str(day) + ' Days')\n",
    "\n",
    "### Função auxiliar 2\n",
    "def compute_drawdowns_periods(df):\n",
    "    \n",
    "    # Input: df of max points in drawdowns (where dd == 0)\n",
    "    \n",
    "    drawdown_periods = list()\n",
    "\n",
    "    for i in range(0, len(df.index)):\n",
    "      \n",
    "        drawdown_periods.append(compute_time_period(df.index[i], df.index[i - 1]))\n",
    "    \n",
    "    drawdown_periods = pd.DataFrame(drawdown_periods)\n",
    "    \n",
    "    return (drawdown_periods)\n",
    "\n",
    "\n",
    "### Função auxiliar 3\n",
    "def compute_max_drawdown_in_period(prices, timestamp_1, timestamp_2):\n",
    "    \n",
    "    df = prices[timestamp_1:timestamp_2]\n",
    "    \n",
    "    max_dd = compute_max_DD(df)\n",
    "    \n",
    "    return max_dd\n",
    "\n",
    "### Função auxiliar 4\n",
    "def compute_drawdowns_min(df, prices):\n",
    "    \n",
    "    # Input: df of max points in drawdowns (where dd == 0)\n",
    "    \n",
    "    drawdowns_min = list()\n",
    "\n",
    "    for i in range(0, len(df.index) - 1):\n",
    "      \n",
    "        drawdowns_min.append(compute_max_drawdown_in_period(prices, df.index[i], df.index[i + 1]))\n",
    "    \n",
    "    drawdowns_min = pd.DataFrame(drawdowns_min)\n",
    "    \n",
    "    return(drawdowns_min)\n",
    "\n",
    "### Função principal\n",
    "def compute_drawdowns_table(prices, number=5):\n",
    "\n",
    "    # input: df of prices\n",
    "    dd = compute_drawdowns(prices)\n",
    "    \n",
    "    max_points = dd[dd == 0].dropna()\n",
    "        \n",
    "    data = [0.0] \n",
    "  \n",
    "    # Create the pandas DataFrame\n",
    "    new_data = pd.DataFrame(data, columns = ['New_data'])\n",
    "\n",
    "    new_data['Date'] = prices.index.max()\n",
    "\n",
    "    new_data.set_index('Date', inplace=True)\n",
    "    \n",
    "    max_points = max_points.loc[~max_points.index.duplicated(keep='first')]\n",
    "\n",
    "    max_points = pd.DataFrame(pd.concat([max_points, new_data], axis=1).iloc[:, 0])\n",
    "    \n",
    "    dp = compute_drawdowns_periods(max_points)\n",
    "        \n",
    "    dp.set_index(max_points.index, inplace=True)\n",
    "    \n",
    "    df = pd.concat([max_points, dp], axis=1)\n",
    "    \n",
    "    df.index.name = 'Date'\n",
    "    \n",
    "    df.reset_index(inplace=True)\n",
    "    \n",
    "    df['End'] = df['Date'].shift(-1)\n",
    "    \n",
    "    df[0] = df[0].shift(-1)\n",
    "    \n",
    "    df['values'] = round(compute_drawdowns_min(max_points, prices), 2)\n",
    "    \n",
    "    df = df.sort_values(by='values')\n",
    "    \n",
    "    df['Number'] = range(1, len(df) + 1)\n",
    "    \n",
    "    df.reset_index(inplace=True)\n",
    "    \n",
    "    df.columns = ['index', 'Begin', 'point', 'Length', 'End', 'Depth', 'Number']\n",
    "    \n",
    "    df = df[['Begin', 'End', 'Depth', 'Length']].head(number)\n",
    "    \n",
    "    df.iloc[:, 2] = df.iloc[:, 2].apply( lambda x : str(x) + '%')\n",
    "    \n",
    "    df.set_index(np.arange(1, number + 1), inplace=True)\n",
    "\n",
    "    df['End'] = df['End'].astype(str)\n",
    "\n",
    "    df['Begin'] = df['Begin'].astype(str)\n",
    "\n",
    "    for i in range(0, len(df['End'])):\n",
    "        if df['End'].iloc[i] == str(prices.iloc[-1].name)[0:10]:\n",
    "            df['End'].iloc[i] = str('N/A')\n",
    "\n",
    "    return(df)\n",
    "\n",
    "################################################\n",
    "### End of compute_drawdowns_table function ####\n",
    "################################################\n",
    "\n",
    "def compute_r2(x, y, k=1):\n",
    "    xpoly = np.column_stack([x**i for i in range(k+1)])    \n",
    "    return sm.OLS(y, xpoly).fit().rsquared\n",
    "\n",
    "def compute_r2_table(df, benchmark):\n",
    "\n",
    "# df of prices\n",
    "\n",
    "    lista = []\n",
    "\n",
    "    for i in np.arange(0, len(df.columns)):\n",
    "        lista.append(compute_r2(benchmark, df.iloc[: , i]))\n",
    "             \n",
    "    Dataframe = pd.DataFrame(lista)\n",
    "    \n",
    "    Dataframe.index = df.columns\n",
    "    \n",
    "    Dataframe.columns = [benchmark.name]\n",
    "    \n",
    "    return(round(Dataframe.transpose(), 3))\n",
    "\n",
    "colors = ['royalblue',            # 1 - royalblue\n",
    "          'dimgrey',              # 2 - dimgrey\n",
    "          'rgb(255, 153, 51)',    # 3 - orange\n",
    "          'indigo',               # 4 - Indigo\n",
    "          'rgb(219, 64, 82)',     # 5 - Red\n",
    "          'rgb(0, 128, 128)',     # 6 - Teal\n",
    "          '#191970',              # 7 - Navy\n",
    "          'rgb(128, 128, 0)',     # 8 - Olive\n",
    "          '#00BFFF',              # 9 - Water Blue\n",
    "          'rgb(128, 177, 211)']   # 10 - Blueish\n",
    "\n",
    "def compute_costs(DataFrame, percentage, sessions_per_year=365, Nome='Price'):\n",
    "    DataFrame = pd.DataFrame(DataFrame.copy())\n",
    "    DataFrame['Custos'] = (percentage/sessions_per_year) / 100\n",
    "    DataFrame['Custos_shifted'] = DataFrame['Custos'].shift(1)\n",
    "    DataFrame['Custos_acumulados'] = DataFrame['Custos_shifted'].cumsum()\n",
    "    DataFrame[Nome] = DataFrame.iloc[ : ,0] * (1-DataFrame['Custos_acumulados'])\n",
    "    DataFrame = DataFrame[[Nome]]\n",
    "    DataFrame = DataFrame.fillna(100)\n",
    "    return DataFrame\n",
    "\n",
    "def compute_ms_performance_table(DataFrame, freq='days'):\n",
    "    nr_of_days = int(str(DataFrame.index[-1] - DataFrame.index[0])[0:4])\n",
    "\n",
    "    if nr_of_days < 365:\n",
    "        df = compute_performance_table(DataFrame, freq=freq)\n",
    "        df.index = ['S.I.']\n",
    "        df = df[['CAGR', 'Return', 'StdDev', 'Sharpe', 'Max DD', 'MAR']]\n",
    "        return df\n",
    "\n",
    "    elif nr_of_days >= 365 and nr_of_days < 365*3:\n",
    "        df0 = compute_performance_table(DataFrame)\n",
    "        df_ytd = compute_performance_table(DataFrame, years='ytd')\n",
    "        df1 = compute_performance_table(filter_by_date(DataFrame, years=1), freq=freq)\n",
    "        df = pd.concat([df0, df_ytd, df1])\n",
    "        df.index = ['S.I.', 'YTD', '1 Year']\n",
    "        df = df[['CAGR', 'Return', 'StdDev', 'Sharpe', 'Max DD', 'MAR']]\n",
    "        return df\n",
    "\n",
    "    elif nr_of_days >= 365*3 and nr_of_days < 365*5:\n",
    "        df0 = compute_performance_table(DataFrame)\n",
    "        df1 = compute_performance_table(filter_by_date(DataFrame, years=1), freq=freq)\n",
    "        df3 = compute_performance_table(filter_by_date(DataFrame, years=3), freq=freq)\n",
    "        df = pd.concat([df0, df1, df3])\n",
    "        df.index = ['S.I.', '1 Year', '3 Years']\n",
    "        df = df[['CAGR', 'Return', 'StdDev', 'Sharpe', 'Max DD', 'MAR']]\n",
    "\n",
    "        return df\n",
    "\n",
    "    elif nr_of_days >= 365*5 and nr_of_days < 365*10:\n",
    "        df0 = compute_performance_table(DataFrame)\n",
    "        df_ytd = compute_performance_table(DataFrame, years='ytd')\n",
    "        df1 = compute_performance_table(filter_by_date(DataFrame, years=1), freq=freq)\n",
    "        df3 = compute_performance_table(filter_by_date(DataFrame, years=3), freq=freq)\n",
    "        df5 = compute_performance_table(filter_by_date(DataFrame, years=5), freq=freq)\n",
    "        df = pd.concat([df0, df_ytd, df1, df3, df5])\n",
    "        df.index = ['S.I.', 'YTD', '1 Year', '3 Years', '5 Years']\n",
    "        df = df[['CAGR', 'Return', 'StdDev', 'Sharpe', 'Max DD', 'MAR']]\n",
    "\n",
    "        return df\n",
    "\n",
    "    elif nr_of_days >= 365*10 and nr_of_days < 365*15:\n",
    "        df0 = compute_performance_table(DataFrame, freq=freq)        \n",
    "        df_ytd = compute_performance_table(DataFrame, years='ytd')\n",
    "        df1 = compute_performance_table(filter_by_date(DataFrame, years=1), freq=freq)\n",
    "        df3 = compute_performance_table(filter_by_date(DataFrame, years=3), freq=freq)\n",
    "        df5 = compute_performance_table(filter_by_date(DataFrame, years=5), freq=freq)\n",
    "        df10 = compute_performance_table(filter_by_date(DataFrame, years=10), freq=freq)\n",
    "        df = pd.concat([df0, df_ytd, df1, df3, df5, df10])\n",
    "        df.index = ['S.I.', 'YTD', '1 Year', '3 Years', '5 Years', '10 Years']\n",
    "        df = df[['CAGR', 'Return', 'StdDev', 'Sharpe', 'Max DD', 'MAR']]\n",
    "\n",
    "        return df\n",
    "\n",
    "    elif nr_of_days >= 365*15 and nr_of_days < 365*20:\n",
    "        df0 = compute_performance_table(DataFrame, freq=freq)\n",
    "        df1 = compute_performance_table(filter_by_date(DataFrame, years=1), freq=freq)\n",
    "        df3 = compute_performance_table(filter_by_date(DataFrame, years=3), freq=freq)\n",
    "        df5 = compute_performance_table(filter_by_date(DataFrame, years=5), freq=freq)\n",
    "        df10 = compute_performance_table(filter_by_date(DataFrame, years=10), freq=freq)\n",
    "        df15 = compute_performance_table(filter_by_date(DataFrame, years=15), freq=freq)\n",
    "        df = pd.concat([df0, df1, df3, df5, df10, df15])\n",
    "        df.index = ['S.I.', '1 Year', '3 Years', '5 Years', '10 Years', '15 Years']\n",
    "        df = df[['CAGR', 'Return', 'StdDev', 'Sharpe', 'Max DD', 'MAR']]\n",
    "\n",
    "        return df\n",
    "\n",
    "def compute_log_returns(prices):\n",
    "    \"\"\"\n",
    "    Compute log returns for each ticker.\n",
    "    \n",
    "    INPUT\n",
    "    ----------\n",
    "    prices\n",
    "    \n",
    "    OUTPUT\n",
    "    -------\n",
    "    log_returns\n",
    "    \"\"\"\n",
    "    \n",
    "    return np.log(prices) - np.log(prices.shift())\n",
    "\n",
    "def merge_time_series(df_1, df_2, how='left'):\n",
    "    df = df_1.merge(df_2, how=how, left_index=True, right_index=True)\n",
    "    return df\n",
    "\n",
    "def compute_rolling_cagr(dataframe, years):\n",
    "    rolling_result = []\n",
    "    number = len(dataframe)\n",
    "\n",
    "    for i in np.arange(1, number + 1):\n",
    "        df = dataframe.iloc[:i]\n",
    "        df = filter_by_years(df, years=years)\n",
    "        result = (((df.iloc[-1] / df.iloc[0]) ** (1/years) - 1))\n",
    "        rolling_result.append(result[0])\n",
    "\n",
    "    final_df = pd.DataFrame(data = rolling_result, index = dataframe.index[0:number], columns = ['Ret'])\n",
    "    final_df = final_df.loc[dataframe.index[0] + pd.DateOffset(years=years):]\n",
    "    return final_df\n",
    "\n",
    "def filter_by_years(dataframe, years=0):\n",
    "    \n",
    "    last_date = dataframe.tail(1).index\n",
    "    year_nr = last_date.year.values[0]\n",
    "    month_nr = last_date.month.values[0]\n",
    "    day_nr = last_date.day.values[0]\n",
    "    \n",
    "    if month_nr == 2 and day_nr == 29 and years % 4 != 0:\n",
    "        new_date = str(year_nr - years) + '-' + str(month_nr) + '-' + str(day_nr-1)        \n",
    "    else:\n",
    "        new_date = str(year_nr - years) + '-' + str(month_nr) + '-' + str(day_nr)\n",
    "    \n",
    "    df = dataframe.loc[new_date:]\n",
    "    \n",
    "    dataframe = pd.concat([dataframe.loc[:new_date].tail(1), dataframe.loc[new_date:]])\n",
    "    # Delete repeated days\n",
    "    dataframe = dataframe.loc[~dataframe.index.duplicated(keep='first')]\n",
    "\n",
    "    return dataframe\n",
    "\n",
    "def compute_yearly_returns(dataframe):\n",
    "    # Resampling to yearly (business year)\n",
    "    yearly_quotes = dataframe.resample('BA').last()\n",
    "\n",
    "    # Adding first quote (only if start is in the middle of the year)\n",
    "    yearly_quotes = pd.concat([dataframe.iloc[:1], yearly_quotes])\n",
    "    first_year = dataframe.index[0].year - 1\n",
    "    last_year = dataframe.index[-1].year + 1\n",
    "\n",
    "    # Returns\n",
    "    yearly_returns = ((yearly_quotes / yearly_quotes.shift(1)) - 1) * 100\n",
    "    yearly_returns = yearly_returns.set_index([list(range(first_year, last_year))]).drop(first_year)\n",
    "\n",
    "    #### Inverter o sentido das rows no dataframe ####\n",
    "    yearly_returns = yearly_returns.transpose()\n",
    "    yearly_returns = round(yearly_returns, 2)\n",
    "\n",
    "    # As strings and percentages\n",
    "    yearly_returns.columns = yearly_returns.columns.map(str)\n",
    "\n",
    "    for column in yearly_returns:\n",
    "        yearly_returns[column] = yearly_returns[column].apply( lambda x : str(x) + '%')\n",
    "\n",
    "    yearly_returns.columns = ['Portfolio']\n",
    "    \n",
    "    return yearly_returns\n",
    "\n",
    "def beautify_columns(dataframe, column_numbers, symbol):\n",
    "    for column_number in column_numbers:\n",
    "        # Transformar em string\n",
    "        for i in np.arange(0, len(dataframe.index)): # Talvez faz um as.type(str) ao dataframe todo\n",
    "            dataframe.iloc[i , column_number] = \\\n",
    "            str(round(dataframe.iloc[i , column_number], 2))\n",
    "\n",
    "            # Se for 0, passar a se 0.00 + symbol\n",
    "            if dataframe.iloc[i , column_number] == '0':\n",
    "                dataframe.iloc[i , column_number] = '0.00' + symbol\n",
    "                \n",
    "            # Se só tem 1 número a seguir ao ponto acrescentar um zero\n",
    "            # (para ter duas casa decimais) e o símbolo do euro\n",
    "            if len(dataframe.iloc[i , column_number].partition('.')[2]) < 2:\n",
    "                dataframe.iloc[i , column_number] = \\\n",
    "                dataframe.iloc[i , column_number].partition('.')[0] \\\n",
    "                + dataframe.iloc[i , column_number].partition('.')[1] \\\n",
    "                + dataframe.iloc[i , column_number].partition('.')[2][0:1] \\\n",
    "                + '0' + symbol\n",
    "                \n",
    "            # Se já tem 2 duas casas decimais acrescentar só o símbolo de euro\n",
    "            if len(dataframe.iloc[i , column_number].partition('.')[2]) >= 2 \\\n",
    "            and symbol not in dataframe.iloc[i , column_number]:\n",
    "                dataframe.iloc[i , column_number] =\\\n",
    "                dataframe.iloc[i , column_number] + symbol\n",
    "                \n",
    "            # Se tem mais de 3 casas antes do ponto acrescentar uma vírgula\n",
    "            if len(dataframe.iloc[i , column_number].partition('.')[0]) > 3:\n",
    "                dataframe.iloc[i , column_number] = \\\n",
    "                dataframe.iloc[i , column_number].partition('.')[0][:-3] \\\n",
    "                + ',' \\\n",
    "                + dataframe.iloc[i , column_number].partition('.')[0][-3:] \\\n",
    "                + dataframe.iloc[i , column_number].partition('.')[1] \\\n",
    "                + dataframe.iloc[i , column_number].partition('.')[2]\n",
    "                \n",
    "            # Se tem mais de 6 casas antes do ponto fazer uma virgula de milhões\n",
    "            if len(dataframe.iloc[i , column_number].partition('.')[0]) > 7:\n",
    "                dataframe.iloc[i , column_number] =\\\n",
    "                dataframe.iloc[i , column_number].partition(',')[0][:-3] \\\n",
    "                + ',' \\\n",
    "                + dataframe.iloc[i , column_number].partition(',')[0][-3:] \\\n",
    "                + dataframe.iloc[i , column_number].partition(',')[1] \\\n",
    "                + dataframe.iloc[i , column_number].partition(',')[2]\n",
    "    \n",
    "    return dataframe\n",
    "\n",
    "def clean_dataframe(dataframe, values_to_clean):\n",
    "    for value in values_to_clean:\n",
    "        dataframe = dataframe.replace({value: '-'}, regex=True)\n",
    "        \n",
    "    return dataframe\n",
    "\n",
    "\n",
    "def ints_to_floats(dataframe):\n",
    "    # Para cada coluna da dataframe\n",
    "    for column in dataframe.columns:\n",
    "        # Se a coluna for int\n",
    "        if dataframe[column].dtype == 'int64':\n",
    "            # transforma-la em float\n",
    "            dataframe[column] = dataframe[column].astype('float')\n",
    "\n",
    "    return dataframe\n",
    "\n",
    "def merge_time_series(df_1, df_2, how='outer'):\n",
    "    df = df_1.merge(df_2, how=how, left_index=True, right_index=True)\n",
    "    return df\n",
    "\n",
    "# Criação da função para ler múltiplos ficheiros do investing.com. Inclui opção de começo e fim da análise.\n",
    "def read_csv_investing(tickers, start='1900-01-01', stop='2100-01-01'):\n",
    "    ETFs = pd.DataFrame()\n",
    "\n",
    "    # Para cada valor na variável tickers\n",
    "    for ticker in tickers:\n",
    "        # Ler o ficheiro .csv correspondente, ler as datas e seleccionar só a coluna de preços\n",
    "        ETF = pd.read_csv(ticker + '.csv', index_col='Date', parse_dates=True)[['Price']]\n",
    "        # Dar o nome do ticker à coluna para depois podermos distinguir na DataFrame\n",
    "        ETF.columns = [ticker]\n",
    "        # Usar a função merge_time_series usando a opção outer (quando são muitos ETFs aconselho\n",
    "        # sempre a função outer para não ir \"perdendo\" demasiadas cotações simplesmente porque há\n",
    "        # um ETF sem cotação nesse dia). Por outro lado a função dropna() força a começarem e \n",
    "        # acabarem no mesmo dia (para serem efectivamente comparáveis)\n",
    "        ETFs = pa.merge_time_series(ETFs, ETF, how='outer').dropna()\n",
    "\n",
    "    # Ordenar as datas para que sejam ascendentes\n",
    "    ETFs = ETFs.sort_index(ascending=True)\n",
    "    \n",
    "    # Acrescentar função de \"cortar\" a série temporal que por defeito está desde 1900 até 2100, \n",
    "    # o que basicamente é um \"atalho\" para dizer que não pretendo cortar pois esse periodo deverão\n",
    "    # apanhar quaisquer datas para as quais há ETFs do investing\n",
    "    ETFs = ETFs[start:stop]\n",
    "\n",
    "    # Fazer o growth index\n",
    "    ETFs_gi = pa.compute_growth_index(ETFs)\n",
    "\n",
    "    return ETFs_gi\n",
    "\n",
    "def compute_time_series(dataframe):\n",
    "\n",
    "#    INPUT: Dataframe of returns\n",
    "#    OUTPUT: Growth time series starting in 100\n",
    "\n",
    "    return (np.exp(np.log1p(dataframe).cumsum())) * 100"
   ]
  },
  {
   "cell_type": "markdown",
   "metadata": {},
   "source": [
    "# Análise comparativa da performance da casa de investimentos (em Braga) vs IWDA vs IS3S"
   ]
  },
  {
   "cell_type": "markdown",
   "metadata": {},
   "source": [
    "### Informação relevante:\n",
    "- **ETF MSCI World**: iShares Core MSCI World UCITS ETF USD (Acc) (EUR) | IWDA.AS - http://www.morningstar.es/es/etf/snapshot/snapshot.aspx?id=0P0000MLIH\n",
    "- **ETF MSCI World Value:** Shares Edge MSCI World Value Factor UCITS ETF USD (Acc) (EUR) | IS3S - https://www.morningstar.es/es/etf/snapshot/snapshot.aspx?id=0P00014G99\n",
    "\n",
    "Os dados de performance da casa de investimentos (com cotações) estão na homepage do site. https://www.casadeinvestimentos.pt/"
   ]
  },
  {
   "cell_type": "code",
   "execution_count": 19,
   "metadata": {},
   "outputs": [],
   "source": [
    "# print(color.BOLD +'Nota:' + color.END + 'Valores no IWDA e IS3S incluem 1% de custo de consultoria financeira. Os custos estão calculados via a \"cobrança\" de 1%/12 por cada mês.')"
   ]
  },
  {
   "cell_type": "code",
   "execution_count": 20,
   "metadata": {},
   "outputs": [],
   "source": [
    "# a = datetime.now().strftime('%Y-%m-%d %H:%M:%S')\n",
    "# print('A última vez que este script foi executado foi em:', a)"
   ]
  },
  {
   "cell_type": "code",
   "execution_count": 21,
   "metadata": {},
   "outputs": [],
   "source": [
    "#### Tens sempre de actualizar a data ####\n",
    "start='2010-10-29'\n",
    "end='2020-09-15' # Tens sempre de adicionar um mês\n",
    "\n",
    "Dates = pd.date_range(start, end, freq='BM')\n",
    "\n",
    "Prices = '''100.000 110.411\n",
    "            116.604 118.752 123.016 116.781 114.556 115.339 111.853 108.439 100.584 98.2920 102.749 104.816 \n",
    "            112.426 115.952 116.551 121.881 119.061 117.556 122.254 124.234 123.554 124.340 120.885 121.364 \n",
    "            125.532 130.232 135.959 143.857 144.127 151.659 148.258 153.665 150.113 151.051 155.760 160.146 \n",
    "            159.852 158.655 159.925 163.998 163.906 167.022 165.979 169.219 172.122 174.591 172.666 175.997 \n",
    "            179.612 185.845 195.774 198.508 195.613 195.811 189.927 189.930 175.293 167.177 180.480 185.810 \n",
    "            174.834 166.766 166.622 173.280 175.932 178.119 174.402 180.539 181.278 178.971 184.235 198.449 \n",
    "            202.728 204.302 211.057 212.515 207.906 201.025 200.547 199.029 193.841 197.241 201.734 205.130\n",
    "            207.313 211.428 206.874 200.968 206.981 208.022 208.570 210.634 210.575 210.575 196.465 191.859 175.780\n",
    "            192.949 195.145 197.559 213.666 194.952 205.048 209.965 203.702 210.551 212.410 224.429 226.671\n",
    "            223.731 202.565 160.126 178.998 183.771 187.540 184.258 199.148\n",
    "            '''.split()\n",
    "\n",
    "Cdi = pd.DataFrame(data=Prices, index=Dates, columns=['Cdi'], dtype=float)"
   ]
  },
  {
   "cell_type": "code",
   "execution_count": 22,
   "metadata": {},
   "outputs": [],
   "source": [
    "# Downloading funds and creating quotes and returns dataframes\n",
    "Begin = '2000-03-10'\n",
    "# End = '2017-08-20' # Só activas se quiseres que acabe num dia especifíco \n",
    "\n",
    "Tickers = ['IWDA.AS', 'IS3S.XETRA']\n",
    "\n",
    "ETF_Tickers =['IWDA', 'IS3S']\n",
    "\n",
    "ETFs = pd.DataFrame()\n",
    "\n",
    "# Download\n",
    "for ticker in Tickers:\n",
    "    try:\n",
    "        url = \"https://eodhistoricaldata.com/api/eod/\" + str(ticker) + \"?api_token=5c982bff80deb2.22427269&period=d.\"\n",
    "        ETF = pd.read_csv(url, index_col = 'Date', parse_dates = True)[['Adjusted_close']].iloc[:-1, :]\n",
    "        ETFs = ETFs.merge(ETF, left_index = True, right_index = True, how='outer').dropna()\n",
    "    except:\n",
    "        print('Download of fund ' + ticker + ' failed')\n",
    "    \n",
    "ETFs.columns = ETF_Tickers\n",
    "ETFs = ETFs.fillna(method='ffill')\n",
    "ETFs = ETFs.replace(to_replace=0, method='ffill')"
   ]
  },
  {
   "cell_type": "code",
   "execution_count": 23,
   "metadata": {},
   "outputs": [],
   "source": [
    "fundos = ETFs.copy()\n",
    "\n",
    "#### Normalization to 100 #####\n",
    "fundos_norm = round((fundos / fundos.iloc[0] * 100), 2)"
   ]
  },
  {
   "cell_type": "code",
   "execution_count": 24,
   "metadata": {},
   "outputs": [],
   "source": [
    "### Merge\n",
    "fundos = Cdi.merge(fundos, left_index = True, right_index = True, how='inner')\n",
    "\n",
    "#### Normalization to 100 #####\n",
    "fundos_norm = round((fundos / fundos.iloc[0] * 100), 2)\n",
    "\n",
    "# Calculate Years of investment\n",
    "years = len(pd.date_range(fundos_norm.index[0], fundos_norm.index[-1], freq='D')) / 365"
   ]
  },
  {
   "cell_type": "code",
   "execution_count": 25,
   "metadata": {},
   "outputs": [],
   "source": [
    "# ### Incluir custos ###\n",
    "# fundos_norm['IWDA'] = compute_costs(fundos_norm['IWDA'], percentage=1, sessions_per_year=12, Nome='IWDA')\n",
    "# fundos_norm['IS3S'] = compute_costs(fundos_norm['IS3S'], percentage=1, sessions_per_year=12, Nome='IS3S')"
   ]
  },
  {
   "cell_type": "markdown",
   "metadata": {},
   "source": [
    "### Análise completa, desde 31 Out 2014"
   ]
  },
  {
   "cell_type": "code",
   "execution_count": 26,
   "metadata": {},
   "outputs": [
    {
     "data": {
      "application/vnd.plotly.v1+json": {
       "config": {
        "linkText": "Export to plot.ly",
        "plotlyServerURL": "https://plot.ly",
        "showLink": true
       },
       "data": [
        {
         "line": {
          "color": "rgba(65, 105, 225, 1.0)",
          "dash": "solid",
          "shape": "linear",
          "width": 1.3
         },
         "mode": "lines",
         "name": "Cdi",
         "text": "",
         "type": "scatter",
         "x": [
          "2014-10-31",
          "2014-11-28",
          "2015-01-30",
          "2015-02-27",
          "2015-03-31",
          "2015-04-30",
          "2015-05-29",
          "2015-06-30",
          "2015-07-31",
          "2015-08-31",
          "2015-09-30",
          "2015-10-30",
          "2015-11-30",
          "2016-01-29",
          "2016-02-29",
          "2016-03-31",
          "2016-04-29",
          "2016-05-31",
          "2016-06-30",
          "2016-07-29",
          "2016-08-31",
          "2016-09-30",
          "2016-10-31",
          "2016-11-30",
          "2016-12-30",
          "2017-01-31",
          "2017-02-28",
          "2017-03-31",
          "2017-04-28",
          "2017-05-31",
          "2017-06-30",
          "2017-07-31",
          "2017-08-31",
          "2017-09-29",
          "2017-11-30",
          "2017-12-29",
          "2018-01-31",
          "2018-02-28",
          "2018-04-30",
          "2018-05-31",
          "2018-06-29",
          "2018-07-31",
          "2018-08-31",
          "2018-09-28",
          "2018-10-31",
          "2018-11-30",
          "2019-01-31",
          "2019-02-28",
          "2019-03-29",
          "2019-04-30",
          "2019-05-31",
          "2019-06-28",
          "2019-07-31",
          "2019-08-30",
          "2019-09-30",
          "2019-10-31",
          "2019-11-29",
          "2020-01-31",
          "2020-02-28",
          "2020-03-31",
          "2020-04-30",
          "2020-05-29",
          "2020-06-30",
          "2020-07-31",
          "2020-08-31"
         ],
         "y": [
          100,
          101.93,
          107.63,
          113.38,
          114.97,
          113.29,
          113.4,
          110,
          110,
          101.52,
          96.82,
          104.53,
          107.61,
          96.58,
          96.5,
          100.36,
          101.89,
          103.16,
          101.01,
          104.56,
          104.99,
          103.65,
          106.7,
          114.93,
          117.41,
          118.32,
          122.23,
          123.08,
          120.41,
          116.42,
          116.15,
          115.27,
          112.26,
          114.23,
          118.8,
          120.07,
          122.45,
          119.81,
          119.87,
          120.48,
          120.79,
          121.99,
          121.96,
          121.96,
          113.78,
          111.12,
          111.75,
          113.02,
          114.42,
          123.75,
          112.91,
          118.75,
          121.6,
          117.97,
          121.94,
          123.02,
          129.98,
          129.57,
          117.32,
          92.74,
          103.67,
          106.43,
          108.61,
          106.71,
          115.34
         ]
        },
        {
         "line": {
          "color": "rgba(105, 105, 105, 1.0)",
          "dash": "solid",
          "shape": "linear",
          "width": 1.3
         },
         "mode": "lines",
         "name": "IWDA",
         "text": "",
         "type": "scatter",
         "x": [
          "2014-10-31",
          "2014-11-28",
          "2015-01-30",
          "2015-02-27",
          "2015-03-31",
          "2015-04-30",
          "2015-05-29",
          "2015-06-30",
          "2015-07-31",
          "2015-08-31",
          "2015-09-30",
          "2015-10-30",
          "2015-11-30",
          "2016-01-29",
          "2016-02-29",
          "2016-03-31",
          "2016-04-29",
          "2016-05-31",
          "2016-06-30",
          "2016-07-29",
          "2016-08-31",
          "2016-09-30",
          "2016-10-31",
          "2016-11-30",
          "2016-12-30",
          "2017-01-31",
          "2017-02-28",
          "2017-03-31",
          "2017-04-28",
          "2017-05-31",
          "2017-06-30",
          "2017-07-31",
          "2017-08-31",
          "2017-09-29",
          "2017-11-30",
          "2017-12-29",
          "2018-01-31",
          "2018-02-28",
          "2018-04-30",
          "2018-05-31",
          "2018-06-29",
          "2018-07-31",
          "2018-08-31",
          "2018-09-28",
          "2018-10-31",
          "2018-11-30",
          "2019-01-31",
          "2019-02-28",
          "2019-03-29",
          "2019-04-30",
          "2019-05-31",
          "2019-06-28",
          "2019-07-31",
          "2019-08-30",
          "2019-09-30",
          "2019-10-31",
          "2019-11-29",
          "2020-01-31",
          "2020-02-28",
          "2020-03-31",
          "2020-04-30",
          "2020-05-29",
          "2020-06-30",
          "2020-07-31",
          "2020-08-31"
         ],
         "y": [
          100,
          102.83,
          109.69,
          116.63,
          120.17,
          118.12,
          120.14,
          115.8,
          119.3,
          109.66,
          105.83,
          115.89,
          120.44,
          107.75,
          108,
          109.31,
          109.52,
          113.99,
          112.73,
          117.15,
          117.48,
          117.56,
          118.18,
          124.59,
          127.67,
          126.93,
          133.29,
          133.93,
          133,
          131.56,
          130.26,
          129.22,
          128.14,
          131.9,
          136.12,
          137.24,
          139.35,
          136.74,
          136.92,
          141.89,
          142.18,
          145.66,
          148.54,
          149.53,
          142.24,
          142.85,
          141.25,
          146.84,
          150.47,
          155.97,
          148.53,
          154.31,
          159.93,
          157.23,
          162.39,
          162.18,
          169.32,
          172.21,
          157.31,
          140.16,
          153.45,
          157.26,
          160.09,
          159.66,
          168.97
         ]
        },
        {
         "line": {
          "color": "rgba(255, 153, 51, 1.0)",
          "dash": "solid",
          "shape": "linear",
          "width": 1.3
         },
         "mode": "lines",
         "name": "IS3S",
         "text": "",
         "type": "scatter",
         "x": [
          "2014-10-31",
          "2014-11-28",
          "2015-01-30",
          "2015-02-27",
          "2015-03-31",
          "2015-04-30",
          "2015-05-29",
          "2015-06-30",
          "2015-07-31",
          "2015-08-31",
          "2015-09-30",
          "2015-10-30",
          "2015-11-30",
          "2016-01-29",
          "2016-02-29",
          "2016-03-31",
          "2016-04-29",
          "2016-05-31",
          "2016-06-30",
          "2016-07-29",
          "2016-08-31",
          "2016-09-30",
          "2016-10-31",
          "2016-11-30",
          "2016-12-30",
          "2017-01-31",
          "2017-02-28",
          "2017-03-31",
          "2017-04-28",
          "2017-05-31",
          "2017-06-30",
          "2017-07-31",
          "2017-08-31",
          "2017-09-29",
          "2017-11-30",
          "2017-12-29",
          "2018-01-31",
          "2018-02-28",
          "2018-04-30",
          "2018-05-31",
          "2018-06-29",
          "2018-07-31",
          "2018-08-31",
          "2018-09-28",
          "2018-10-31",
          "2018-11-30",
          "2019-01-31",
          "2019-02-28",
          "2019-03-29",
          "2019-04-30",
          "2019-05-31",
          "2019-06-28",
          "2019-07-31",
          "2019-08-30",
          "2019-09-30",
          "2019-10-31",
          "2019-11-29",
          "2020-01-31",
          "2020-02-28",
          "2020-03-31",
          "2020-04-30",
          "2020-05-29",
          "2020-06-30",
          "2020-07-31",
          "2020-08-31"
         ],
         "y": [
          100,
          102.04,
          108.27,
          116.33,
          119.92,
          118.68,
          122.01,
          117.38,
          119.17,
          108.67,
          103.49,
          113.3,
          116.43,
          101.94,
          101.34,
          102.24,
          103.19,
          107.32,
          103.29,
          108.52,
          110.76,
          110.91,
          113.75,
          120.72,
          124.2,
          123.01,
          128.14,
          128.04,
          126.49,
          123.56,
          123.26,
          122.86,
          121.41,
          126.15,
          131.67,
          133.72,
          135.38,
          132.89,
          134.36,
          134.94,
          132.46,
          135.61,
          134.84,
          137.43,
          130.78,
          130.95,
          129.88,
          132.62,
          133.19,
          135.93,
          125.92,
          131.25,
          134.56,
          129.83,
          137.55,
          138.99,
          144.07,
          141.91,
          128.81,
          110.13,
          117.38,
          118.15,
          118.23,
          110.28,
          115.16
         ]
        }
       ],
       "layout": {
        "height": 500,
        "legend": {
         "bgcolor": "#F5F6F9",
         "font": {
          "color": "#4D5663"
         }
        },
        "paper_bgcolor": "#F5F6F9",
        "plot_bgcolor": "#F5F6F9",
        "template": {
         "data": {
          "bar": [
           {
            "error_x": {
             "color": "#2a3f5f"
            },
            "error_y": {
             "color": "#2a3f5f"
            },
            "marker": {
             "line": {
              "color": "#E5ECF6",
              "width": 0.5
             }
            },
            "type": "bar"
           }
          ],
          "barpolar": [
           {
            "marker": {
             "line": {
              "color": "#E5ECF6",
              "width": 0.5
             }
            },
            "type": "barpolar"
           }
          ],
          "carpet": [
           {
            "aaxis": {
             "endlinecolor": "#2a3f5f",
             "gridcolor": "white",
             "linecolor": "white",
             "minorgridcolor": "white",
             "startlinecolor": "#2a3f5f"
            },
            "baxis": {
             "endlinecolor": "#2a3f5f",
             "gridcolor": "white",
             "linecolor": "white",
             "minorgridcolor": "white",
             "startlinecolor": "#2a3f5f"
            },
            "type": "carpet"
           }
          ],
          "choropleth": [
           {
            "colorbar": {
             "outlinewidth": 0,
             "ticks": ""
            },
            "type": "choropleth"
           }
          ],
          "contour": [
           {
            "colorbar": {
             "outlinewidth": 0,
             "ticks": ""
            },
            "colorscale": [
             [
              0,
              "#0d0887"
             ],
             [
              0.1111111111111111,
              "#46039f"
             ],
             [
              0.2222222222222222,
              "#7201a8"
             ],
             [
              0.3333333333333333,
              "#9c179e"
             ],
             [
              0.4444444444444444,
              "#bd3786"
             ],
             [
              0.5555555555555556,
              "#d8576b"
             ],
             [
              0.6666666666666666,
              "#ed7953"
             ],
             [
              0.7777777777777778,
              "#fb9f3a"
             ],
             [
              0.8888888888888888,
              "#fdca26"
             ],
             [
              1,
              "#f0f921"
             ]
            ],
            "type": "contour"
           }
          ],
          "contourcarpet": [
           {
            "colorbar": {
             "outlinewidth": 0,
             "ticks": ""
            },
            "type": "contourcarpet"
           }
          ],
          "heatmap": [
           {
            "colorbar": {
             "outlinewidth": 0,
             "ticks": ""
            },
            "colorscale": [
             [
              0,
              "#0d0887"
             ],
             [
              0.1111111111111111,
              "#46039f"
             ],
             [
              0.2222222222222222,
              "#7201a8"
             ],
             [
              0.3333333333333333,
              "#9c179e"
             ],
             [
              0.4444444444444444,
              "#bd3786"
             ],
             [
              0.5555555555555556,
              "#d8576b"
             ],
             [
              0.6666666666666666,
              "#ed7953"
             ],
             [
              0.7777777777777778,
              "#fb9f3a"
             ],
             [
              0.8888888888888888,
              "#fdca26"
             ],
             [
              1,
              "#f0f921"
             ]
            ],
            "type": "heatmap"
           }
          ],
          "heatmapgl": [
           {
            "colorbar": {
             "outlinewidth": 0,
             "ticks": ""
            },
            "colorscale": [
             [
              0,
              "#0d0887"
             ],
             [
              0.1111111111111111,
              "#46039f"
             ],
             [
              0.2222222222222222,
              "#7201a8"
             ],
             [
              0.3333333333333333,
              "#9c179e"
             ],
             [
              0.4444444444444444,
              "#bd3786"
             ],
             [
              0.5555555555555556,
              "#d8576b"
             ],
             [
              0.6666666666666666,
              "#ed7953"
             ],
             [
              0.7777777777777778,
              "#fb9f3a"
             ],
             [
              0.8888888888888888,
              "#fdca26"
             ],
             [
              1,
              "#f0f921"
             ]
            ],
            "type": "heatmapgl"
           }
          ],
          "histogram": [
           {
            "marker": {
             "colorbar": {
              "outlinewidth": 0,
              "ticks": ""
             }
            },
            "type": "histogram"
           }
          ],
          "histogram2d": [
           {
            "colorbar": {
             "outlinewidth": 0,
             "ticks": ""
            },
            "colorscale": [
             [
              0,
              "#0d0887"
             ],
             [
              0.1111111111111111,
              "#46039f"
             ],
             [
              0.2222222222222222,
              "#7201a8"
             ],
             [
              0.3333333333333333,
              "#9c179e"
             ],
             [
              0.4444444444444444,
              "#bd3786"
             ],
             [
              0.5555555555555556,
              "#d8576b"
             ],
             [
              0.6666666666666666,
              "#ed7953"
             ],
             [
              0.7777777777777778,
              "#fb9f3a"
             ],
             [
              0.8888888888888888,
              "#fdca26"
             ],
             [
              1,
              "#f0f921"
             ]
            ],
            "type": "histogram2d"
           }
          ],
          "histogram2dcontour": [
           {
            "colorbar": {
             "outlinewidth": 0,
             "ticks": ""
            },
            "colorscale": [
             [
              0,
              "#0d0887"
             ],
             [
              0.1111111111111111,
              "#46039f"
             ],
             [
              0.2222222222222222,
              "#7201a8"
             ],
             [
              0.3333333333333333,
              "#9c179e"
             ],
             [
              0.4444444444444444,
              "#bd3786"
             ],
             [
              0.5555555555555556,
              "#d8576b"
             ],
             [
              0.6666666666666666,
              "#ed7953"
             ],
             [
              0.7777777777777778,
              "#fb9f3a"
             ],
             [
              0.8888888888888888,
              "#fdca26"
             ],
             [
              1,
              "#f0f921"
             ]
            ],
            "type": "histogram2dcontour"
           }
          ],
          "mesh3d": [
           {
            "colorbar": {
             "outlinewidth": 0,
             "ticks": ""
            },
            "type": "mesh3d"
           }
          ],
          "parcoords": [
           {
            "line": {
             "colorbar": {
              "outlinewidth": 0,
              "ticks": ""
             }
            },
            "type": "parcoords"
           }
          ],
          "pie": [
           {
            "automargin": true,
            "type": "pie"
           }
          ],
          "scatter": [
           {
            "marker": {
             "colorbar": {
              "outlinewidth": 0,
              "ticks": ""
             }
            },
            "type": "scatter"
           }
          ],
          "scatter3d": [
           {
            "line": {
             "colorbar": {
              "outlinewidth": 0,
              "ticks": ""
             }
            },
            "marker": {
             "colorbar": {
              "outlinewidth": 0,
              "ticks": ""
             }
            },
            "type": "scatter3d"
           }
          ],
          "scattercarpet": [
           {
            "marker": {
             "colorbar": {
              "outlinewidth": 0,
              "ticks": ""
             }
            },
            "type": "scattercarpet"
           }
          ],
          "scattergeo": [
           {
            "marker": {
             "colorbar": {
              "outlinewidth": 0,
              "ticks": ""
             }
            },
            "type": "scattergeo"
           }
          ],
          "scattergl": [
           {
            "marker": {
             "colorbar": {
              "outlinewidth": 0,
              "ticks": ""
             }
            },
            "type": "scattergl"
           }
          ],
          "scattermapbox": [
           {
            "marker": {
             "colorbar": {
              "outlinewidth": 0,
              "ticks": ""
             }
            },
            "type": "scattermapbox"
           }
          ],
          "scatterpolar": [
           {
            "marker": {
             "colorbar": {
              "outlinewidth": 0,
              "ticks": ""
             }
            },
            "type": "scatterpolar"
           }
          ],
          "scatterpolargl": [
           {
            "marker": {
             "colorbar": {
              "outlinewidth": 0,
              "ticks": ""
             }
            },
            "type": "scatterpolargl"
           }
          ],
          "scatterternary": [
           {
            "marker": {
             "colorbar": {
              "outlinewidth": 0,
              "ticks": ""
             }
            },
            "type": "scatterternary"
           }
          ],
          "surface": [
           {
            "colorbar": {
             "outlinewidth": 0,
             "ticks": ""
            },
            "colorscale": [
             [
              0,
              "#0d0887"
             ],
             [
              0.1111111111111111,
              "#46039f"
             ],
             [
              0.2222222222222222,
              "#7201a8"
             ],
             [
              0.3333333333333333,
              "#9c179e"
             ],
             [
              0.4444444444444444,
              "#bd3786"
             ],
             [
              0.5555555555555556,
              "#d8576b"
             ],
             [
              0.6666666666666666,
              "#ed7953"
             ],
             [
              0.7777777777777778,
              "#fb9f3a"
             ],
             [
              0.8888888888888888,
              "#fdca26"
             ],
             [
              1,
              "#f0f921"
             ]
            ],
            "type": "surface"
           }
          ],
          "table": [
           {
            "cells": {
             "fill": {
              "color": "#EBF0F8"
             },
             "line": {
              "color": "white"
             }
            },
            "header": {
             "fill": {
              "color": "#C8D4E3"
             },
             "line": {
              "color": "white"
             }
            },
            "type": "table"
           }
          ]
         },
         "layout": {
          "annotationdefaults": {
           "arrowcolor": "#2a3f5f",
           "arrowhead": 0,
           "arrowwidth": 1
          },
          "coloraxis": {
           "colorbar": {
            "outlinewidth": 0,
            "ticks": ""
           }
          },
          "colorscale": {
           "diverging": [
            [
             0,
             "#8e0152"
            ],
            [
             0.1,
             "#c51b7d"
            ],
            [
             0.2,
             "#de77ae"
            ],
            [
             0.3,
             "#f1b6da"
            ],
            [
             0.4,
             "#fde0ef"
            ],
            [
             0.5,
             "#f7f7f7"
            ],
            [
             0.6,
             "#e6f5d0"
            ],
            [
             0.7,
             "#b8e186"
            ],
            [
             0.8,
             "#7fbc41"
            ],
            [
             0.9,
             "#4d9221"
            ],
            [
             1,
             "#276419"
            ]
           ],
           "sequential": [
            [
             0,
             "#0d0887"
            ],
            [
             0.1111111111111111,
             "#46039f"
            ],
            [
             0.2222222222222222,
             "#7201a8"
            ],
            [
             0.3333333333333333,
             "#9c179e"
            ],
            [
             0.4444444444444444,
             "#bd3786"
            ],
            [
             0.5555555555555556,
             "#d8576b"
            ],
            [
             0.6666666666666666,
             "#ed7953"
            ],
            [
             0.7777777777777778,
             "#fb9f3a"
            ],
            [
             0.8888888888888888,
             "#fdca26"
            ],
            [
             1,
             "#f0f921"
            ]
           ],
           "sequentialminus": [
            [
             0,
             "#0d0887"
            ],
            [
             0.1111111111111111,
             "#46039f"
            ],
            [
             0.2222222222222222,
             "#7201a8"
            ],
            [
             0.3333333333333333,
             "#9c179e"
            ],
            [
             0.4444444444444444,
             "#bd3786"
            ],
            [
             0.5555555555555556,
             "#d8576b"
            ],
            [
             0.6666666666666666,
             "#ed7953"
            ],
            [
             0.7777777777777778,
             "#fb9f3a"
            ],
            [
             0.8888888888888888,
             "#fdca26"
            ],
            [
             1,
             "#f0f921"
            ]
           ]
          },
          "colorway": [
           "#636efa",
           "#EF553B",
           "#00cc96",
           "#ab63fa",
           "#FFA15A",
           "#19d3f3",
           "#FF6692",
           "#B6E880",
           "#FF97FF",
           "#FECB52"
          ],
          "font": {
           "color": "#2a3f5f"
          },
          "geo": {
           "bgcolor": "white",
           "lakecolor": "white",
           "landcolor": "#E5ECF6",
           "showlakes": true,
           "showland": true,
           "subunitcolor": "white"
          },
          "hoverlabel": {
           "align": "left"
          },
          "hovermode": "closest",
          "mapbox": {
           "style": "light"
          },
          "paper_bgcolor": "white",
          "plot_bgcolor": "#E5ECF6",
          "polar": {
           "angularaxis": {
            "gridcolor": "white",
            "linecolor": "white",
            "ticks": ""
           },
           "bgcolor": "#E5ECF6",
           "radialaxis": {
            "gridcolor": "white",
            "linecolor": "white",
            "ticks": ""
           }
          },
          "scene": {
           "xaxis": {
            "backgroundcolor": "#E5ECF6",
            "gridcolor": "white",
            "gridwidth": 2,
            "linecolor": "white",
            "showbackground": true,
            "ticks": "",
            "zerolinecolor": "white"
           },
           "yaxis": {
            "backgroundcolor": "#E5ECF6",
            "gridcolor": "white",
            "gridwidth": 2,
            "linecolor": "white",
            "showbackground": true,
            "ticks": "",
            "zerolinecolor": "white"
           },
           "zaxis": {
            "backgroundcolor": "#E5ECF6",
            "gridcolor": "white",
            "gridwidth": 2,
            "linecolor": "white",
            "showbackground": true,
            "ticks": "",
            "zerolinecolor": "white"
           }
          },
          "shapedefaults": {
           "line": {
            "color": "#2a3f5f"
           }
          },
          "ternary": {
           "aaxis": {
            "gridcolor": "white",
            "linecolor": "white",
            "ticks": ""
           },
           "baxis": {
            "gridcolor": "white",
            "linecolor": "white",
            "ticks": ""
           },
           "bgcolor": "#E5ECF6",
           "caxis": {
            "gridcolor": "white",
            "linecolor": "white",
            "ticks": ""
           }
          },
          "title": {
           "x": 0.05
          },
          "xaxis": {
           "automargin": true,
           "gridcolor": "white",
           "linecolor": "white",
           "ticks": "",
           "title": {
            "standoff": 15
           },
           "zerolinecolor": "white",
           "zerolinewidth": 2
          },
          "yaxis": {
           "automargin": true,
           "gridcolor": "white",
           "linecolor": "white",
           "ticks": "",
           "title": {
            "standoff": 15
           },
           "zerolinecolor": "white",
           "zerolinewidth": 2
          }
         }
        },
        "title": {
         "font": {
          "color": "#4D5663"
         },
         "text": "Performance dos portfolios desde 31 Out 2014"
        },
        "width": 970,
        "xaxis": {
         "autorange": true,
         "gridcolor": "#E1E5ED",
         "range": [
          "2014-10-31",
          "2020-08-31"
         ],
         "showgrid": true,
         "tickfont": {
          "color": "#4D5663"
         },
         "title": {
          "font": {
           "color": "#4D5663"
          },
          "text": ""
         },
         "type": "date",
         "zerolinecolor": "#E1E5ED"
        },
        "yaxis": {
         "autorange": true,
         "gridcolor": "#E1E5ED",
         "range": [
          88.32499999999999,
          176.625
         ],
         "showgrid": true,
         "tickfont": {
          "color": "#4D5663"
         },
         "title": {
          "font": {
           "color": "#4D5663"
          },
          "text": "Valor por cada 100€ investidos"
         },
         "type": "linear",
         "zerolinecolor": "#E1E5ED"
        }
       }
      },
      "image/png": "[encoded data removed]",
      "text/html": [
       "<div>\n",
       "        \n",
       "        \n",
       "            <div id=\"525ca411-cbe7-4352-9062-c77f4eef5bec\" class=\"plotly-graph-div\" style=\"height:500px; width:970px;\"></div>\n",
       "            <script type=\"text/javascript\">\n",
       "                require([\"plotly\"], function(Plotly) {\n",
       "                    window.PLOTLYENV=window.PLOTLYENV || {};\n",
       "                    window.PLOTLYENV.BASE_URL='https://plot.ly';\n",
       "                    \n",
       "                if (document.getElementById(\"525ca411-cbe7-4352-9062-c77f4eef5bec\")) {\n",
       "                    Plotly.newPlot(\n",
       "                        '525ca411-cbe7-4352-9062-c77f4eef5bec',\n",
       "                        [{\"line\": {\"color\": \"rgba(65, 105, 225, 1.0)\", \"dash\": \"solid\", \"shape\": \"linear\", \"width\": 1.3}, \"mode\": \"lines\", \"name\": \"Cdi\", \"text\": \"\", \"type\": \"scatter\", \"x\": [\"2014-10-31\", \"2014-11-28\", \"2015-01-30\", \"2015-02-27\", \"2015-03-31\", \"2015-04-30\", \"2015-05-29\", \"2015-06-30\", \"2015-07-31\", \"2015-08-31\", \"2015-09-30\", \"2015-10-30\", \"2015-11-30\", \"2016-01-29\", \"2016-02-29\", \"2016-03-31\", \"2016-04-29\", \"2016-05-31\", \"2016-06-30\", \"2016-07-29\", \"2016-08-31\", \"2016-09-30\", \"2016-10-31\", \"2016-11-30\", \"2016-12-30\", \"2017-01-31\", \"2017-02-28\", \"2017-03-31\", \"2017-04-28\", \"2017-05-31\", \"2017-06-30\", \"2017-07-31\", \"2017-08-31\", \"2017-09-29\", \"2017-11-30\", \"2017-12-29\", \"2018-01-31\", \"2018-02-28\", \"2018-04-30\", \"2018-05-31\", \"2018-06-29\", \"2018-07-31\", \"2018-08-31\", \"2018-09-28\", \"2018-10-31\", \"2018-11-30\", \"2019-01-31\", \"2019-02-28\", \"2019-03-29\", \"2019-04-30\", \"2019-05-31\", \"2019-06-28\", \"2019-07-31\", \"2019-08-30\", \"2019-09-30\", \"2019-10-31\", \"2019-11-29\", \"2020-01-31\", \"2020-02-28\", \"2020-03-31\", \"2020-04-30\", \"2020-05-29\", \"2020-06-30\", \"2020-07-31\", \"2020-08-31\"], \"y\": [100.0, 101.93, 107.63, 113.38, 114.97, 113.29, 113.4, 110.0, 110.0, 101.52, 96.82, 104.53, 107.61, 96.58, 96.5, 100.36, 101.89, 103.16, 101.01, 104.56, 104.99, 103.65, 106.7, 114.93, 117.41, 118.32, 122.23, 123.08, 120.41, 116.42, 116.15, 115.27, 112.26, 114.23, 118.8, 120.07, 122.45, 119.81, 119.87, 120.48, 120.79, 121.99, 121.96, 121.96, 113.78, 111.12, 111.75, 113.02, 114.42, 123.75, 112.91, 118.75, 121.6, 117.97, 121.94, 123.02, 129.98, 129.57, 117.32, 92.74, 103.67, 106.43, 108.61, 106.71, 115.34]}, {\"line\": {\"color\": \"rgba(105, 105, 105, 1.0)\", \"dash\": \"solid\", \"shape\": \"linear\", \"width\": 1.3}, \"mode\": \"lines\", \"name\": \"IWDA\", \"text\": \"\", \"type\": \"scatter\", \"x\": [\"2014-10-31\", \"2014-11-28\", \"2015-01-30\", \"2015-02-27\", \"2015-03-31\", \"2015-04-30\", \"2015-05-29\", \"2015-06-30\", \"2015-07-31\", \"2015-08-31\", \"2015-09-30\", \"2015-10-30\", \"2015-11-30\", \"2016-01-29\", \"2016-02-29\", \"2016-03-31\", \"2016-04-29\", \"2016-05-31\", \"2016-06-30\", \"2016-07-29\", \"2016-08-31\", \"2016-09-30\", \"2016-10-31\", \"2016-11-30\", \"2016-12-30\", \"2017-01-31\", \"2017-02-28\", \"2017-03-31\", \"2017-04-28\", \"2017-05-31\", \"2017-06-30\", \"2017-07-31\", \"2017-08-31\", \"2017-09-29\", \"2017-11-30\", \"2017-12-29\", \"2018-01-31\", \"2018-02-28\", \"2018-04-30\", \"2018-05-31\", \"2018-06-29\", \"2018-07-31\", \"2018-08-31\", \"2018-09-28\", \"2018-10-31\", \"2018-11-30\", \"2019-01-31\", \"2019-02-28\", \"2019-03-29\", \"2019-04-30\", \"2019-05-31\", \"2019-06-28\", \"2019-07-31\", \"2019-08-30\", \"2019-09-30\", \"2019-10-31\", \"2019-11-29\", \"2020-01-31\", \"2020-02-28\", \"2020-03-31\", \"2020-04-30\", \"2020-05-29\", \"2020-06-30\", \"2020-07-31\", \"2020-08-31\"], \"y\": [100.0, 102.83, 109.69, 116.63, 120.17, 118.12, 120.14, 115.8, 119.3, 109.66, 105.83, 115.89, 120.44, 107.75, 108.0, 109.31, 109.52, 113.99, 112.73, 117.15, 117.48, 117.56, 118.18, 124.59, 127.67, 126.93, 133.29, 133.93, 133.0, 131.56, 130.26, 129.22, 128.14, 131.9, 136.12, 137.24, 139.35, 136.74, 136.92, 141.89, 142.18, 145.66, 148.54, 149.53, 142.24, 142.85, 141.25, 146.84, 150.47, 155.97, 148.53, 154.31, 159.93, 157.23, 162.39, 162.18, 169.32, 172.21, 157.31, 140.16, 153.45, 157.26, 160.09, 159.66, 168.97]}, {\"line\": {\"color\": \"rgba(255, 153, 51, 1.0)\", \"dash\": \"solid\", \"shape\": \"linear\", \"width\": 1.3}, \"mode\": \"lines\", \"name\": \"IS3S\", \"text\": \"\", \"type\": \"scatter\", \"x\": [\"2014-10-31\", \"2014-11-28\", \"2015-01-30\", \"2015-02-27\", \"2015-03-31\", \"2015-04-30\", \"2015-05-29\", \"2015-06-30\", \"2015-07-31\", \"2015-08-31\", \"2015-09-30\", \"2015-10-30\", \"2015-11-30\", \"2016-01-29\", \"2016-02-29\", \"2016-03-31\", \"2016-04-29\", \"2016-05-31\", \"2016-06-30\", \"2016-07-29\", \"2016-08-31\", \"2016-09-30\", \"2016-10-31\", \"2016-11-30\", \"2016-12-30\", \"2017-01-31\", \"2017-02-28\", \"2017-03-31\", \"2017-04-28\", \"2017-05-31\", \"2017-06-30\", \"2017-07-31\", \"2017-08-31\", \"2017-09-29\", \"2017-11-30\", \"2017-12-29\", \"2018-01-31\", \"2018-02-28\", \"2018-04-30\", \"2018-05-31\", \"2018-06-29\", \"2018-07-31\", \"2018-08-31\", \"2018-09-28\", \"2018-10-31\", \"2018-11-30\", \"2019-01-31\", \"2019-02-28\", \"2019-03-29\", \"2019-04-30\", \"2019-05-31\", \"2019-06-28\", \"2019-07-31\", \"2019-08-30\", \"2019-09-30\", \"2019-10-31\", \"2019-11-29\", \"2020-01-31\", \"2020-02-28\", \"2020-03-31\", \"2020-04-30\", \"2020-05-29\", \"2020-06-30\", \"2020-07-31\", \"2020-08-31\"], \"y\": [100.0, 102.04, 108.27, 116.33, 119.92, 118.68, 122.01, 117.38, 119.17, 108.67, 103.49, 113.3, 116.43, 101.94, 101.34, 102.24, 103.19, 107.32, 103.29, 108.52, 110.76, 110.91, 113.75, 120.72, 124.2, 123.01, 128.14, 128.04, 126.49, 123.56, 123.26, 122.86, 121.41, 126.15, 131.67, 133.72, 135.38, 132.89, 134.36, 134.94, 132.46, 135.61, 134.84, 137.43, 130.78, 130.95, 129.88, 132.62, 133.19, 135.93, 125.92, 131.25, 134.56, 129.83, 137.55, 138.99, 144.07, 141.91, 128.81, 110.13, 117.38, 118.15, 118.23, 110.28, 115.16]}],\n",
       "                        {\"height\": 500, \"legend\": {\"bgcolor\": \"#F5F6F9\", \"font\": {\"color\": \"#4D5663\"}}, \"paper_bgcolor\": \"#F5F6F9\", \"plot_bgcolor\": \"#F5F6F9\", \"template\": {\"data\": {\"bar\": [{\"error_x\": {\"color\": \"#2a3f5f\"}, \"error_y\": {\"color\": \"#2a3f5f\"}, \"marker\": {\"line\": {\"color\": \"#E5ECF6\", \"width\": 0.5}}, \"type\": \"bar\"}], \"barpolar\": [{\"marker\": {\"line\": {\"color\": \"#E5ECF6\", \"width\": 0.5}}, \"type\": \"barpolar\"}], \"carpet\": [{\"aaxis\": {\"endlinecolor\": \"#2a3f5f\", \"gridcolor\": \"white\", \"linecolor\": \"white\", \"minorgridcolor\": \"white\", \"startlinecolor\": \"#2a3f5f\"}, \"baxis\": {\"endlinecolor\": \"#2a3f5f\", \"gridcolor\": \"white\", \"linecolor\": \"white\", \"minorgridcolor\": \"white\", \"startlinecolor\": \"#2a3f5f\"}, \"type\": \"carpet\"}], \"choropleth\": [{\"colorbar\": {\"outlinewidth\": 0, \"ticks\": \"\"}, \"type\": \"choropleth\"}], \"contour\": [{\"colorbar\": {\"outlinewidth\": 0, \"ticks\": \"\"}, \"colorscale\": [[0.0, \"#0d0887\"], [0.1111111111111111, \"#46039f\"], [0.2222222222222222, \"#7201a8\"], [0.3333333333333333, \"#9c179e\"], [0.4444444444444444, \"#bd3786\"], [0.5555555555555556, \"#d8576b\"], [0.6666666666666666, \"#ed7953\"], [0.7777777777777778, \"#fb9f3a\"], [0.8888888888888888, \"#fdca26\"], [1.0, \"#f0f921\"]], \"type\": \"contour\"}], \"contourcarpet\": [{\"colorbar\": {\"outlinewidth\": 0, \"ticks\": \"\"}, \"type\": \"contourcarpet\"}], \"heatmap\": [{\"colorbar\": {\"outlinewidth\": 0, \"ticks\": \"\"}, \"colorscale\": [[0.0, \"#0d0887\"], [0.1111111111111111, \"#46039f\"], [0.2222222222222222, \"#7201a8\"], [0.3333333333333333, \"#9c179e\"], [0.4444444444444444, \"#bd3786\"], [0.5555555555555556, \"#d8576b\"], [0.6666666666666666, \"#ed7953\"], [0.7777777777777778, \"#fb9f3a\"], [0.8888888888888888, \"#fdca26\"], [1.0, \"#f0f921\"]], \"type\": \"heatmap\"}], \"heatmapgl\": [{\"colorbar\": {\"outlinewidth\": 0, \"ticks\": \"\"}, \"colorscale\": [[0.0, \"#0d0887\"], [0.1111111111111111, \"#46039f\"], [0.2222222222222222, \"#7201a8\"], [0.3333333333333333, \"#9c179e\"], [0.4444444444444444, \"#bd3786\"], [0.5555555555555556, \"#d8576b\"], [0.6666666666666666, \"#ed7953\"], [0.7777777777777778, \"#fb9f3a\"], [0.8888888888888888, \"#fdca26\"], [1.0, \"#f0f921\"]], \"type\": \"heatmapgl\"}], \"histogram\": [{\"marker\": {\"colorbar\": {\"outlinewidth\": 0, \"ticks\": \"\"}}, \"type\": \"histogram\"}], \"histogram2d\": [{\"colorbar\": {\"outlinewidth\": 0, \"ticks\": \"\"}, \"colorscale\": [[0.0, \"#0d0887\"], [0.1111111111111111, \"#46039f\"], [0.2222222222222222, \"#7201a8\"], [0.3333333333333333, \"#9c179e\"], [0.4444444444444444, \"#bd3786\"], [0.5555555555555556, \"#d8576b\"], [0.6666666666666666, \"#ed7953\"], [0.7777777777777778, \"#fb9f3a\"], [0.8888888888888888, \"#fdca26\"], [1.0, \"#f0f921\"]], \"type\": \"histogram2d\"}], \"histogram2dcontour\": [{\"colorbar\": {\"outlinewidth\": 0, \"ticks\": \"\"}, \"colorscale\": [[0.0, \"#0d0887\"], [0.1111111111111111, \"#46039f\"], [0.2222222222222222, \"#7201a8\"], [0.3333333333333333, \"#9c179e\"], [0.4444444444444444, \"#bd3786\"], [0.5555555555555556, \"#d8576b\"], [0.6666666666666666, \"#ed7953\"], [0.7777777777777778, \"#fb9f3a\"], [0.8888888888888888, \"#fdca26\"], [1.0, \"#f0f921\"]], \"type\": \"histogram2dcontour\"}], \"mesh3d\": [{\"colorbar\": {\"outlinewidth\": 0, \"ticks\": \"\"}, \"type\": \"mesh3d\"}], \"parcoords\": [{\"line\": {\"colorbar\": {\"outlinewidth\": 0, \"ticks\": \"\"}}, \"type\": \"parcoords\"}], \"pie\": [{\"automargin\": true, \"type\": \"pie\"}], \"scatter\": [{\"marker\": {\"colorbar\": {\"outlinewidth\": 0, \"ticks\": \"\"}}, \"type\": \"scatter\"}], \"scatter3d\": [{\"line\": {\"colorbar\": {\"outlinewidth\": 0, \"ticks\": \"\"}}, \"marker\": {\"colorbar\": {\"outlinewidth\": 0, \"ticks\": \"\"}}, \"type\": \"scatter3d\"}], \"scattercarpet\": [{\"marker\": {\"colorbar\": {\"outlinewidth\": 0, \"ticks\": \"\"}}, \"type\": \"scattercarpet\"}], \"scattergeo\": [{\"marker\": {\"colorbar\": {\"outlinewidth\": 0, \"ticks\": \"\"}}, \"type\": \"scattergeo\"}], \"scattergl\": [{\"marker\": {\"colorbar\": {\"outlinewidth\": 0, \"ticks\": \"\"}}, \"type\": \"scattergl\"}], \"scattermapbox\": [{\"marker\": {\"colorbar\": {\"outlinewidth\": 0, \"ticks\": \"\"}}, \"type\": \"scattermapbox\"}], \"scatterpolar\": [{\"marker\": {\"colorbar\": {\"outlinewidth\": 0, \"ticks\": \"\"}}, \"type\": \"scatterpolar\"}], \"scatterpolargl\": [{\"marker\": {\"colorbar\": {\"outlinewidth\": 0, \"ticks\": \"\"}}, \"type\": \"scatterpolargl\"}], \"scatterternary\": [{\"marker\": {\"colorbar\": {\"outlinewidth\": 0, \"ticks\": \"\"}}, \"type\": \"scatterternary\"}], \"surface\": [{\"colorbar\": {\"outlinewidth\": 0, \"ticks\": \"\"}, \"colorscale\": [[0.0, \"#0d0887\"], [0.1111111111111111, \"#46039f\"], [0.2222222222222222, \"#7201a8\"], [0.3333333333333333, \"#9c179e\"], [0.4444444444444444, \"#bd3786\"], [0.5555555555555556, \"#d8576b\"], [0.6666666666666666, \"#ed7953\"], [0.7777777777777778, \"#fb9f3a\"], [0.8888888888888888, \"#fdca26\"], [1.0, \"#f0f921\"]], \"type\": \"surface\"}], \"table\": [{\"cells\": {\"fill\": {\"color\": \"#EBF0F8\"}, \"line\": {\"color\": \"white\"}}, \"header\": {\"fill\": {\"color\": \"#C8D4E3\"}, \"line\": {\"color\": \"white\"}}, \"type\": \"table\"}]}, \"layout\": {\"annotationdefaults\": {\"arrowcolor\": \"#2a3f5f\", \"arrowhead\": 0, \"arrowwidth\": 1}, \"coloraxis\": {\"colorbar\": {\"outlinewidth\": 0, \"ticks\": \"\"}}, \"colorscale\": {\"diverging\": [[0, \"#8e0152\"], [0.1, \"#c51b7d\"], [0.2, \"#de77ae\"], [0.3, \"#f1b6da\"], [0.4, \"#fde0ef\"], [0.5, \"#f7f7f7\"], [0.6, \"#e6f5d0\"], [0.7, \"#b8e186\"], [0.8, \"#7fbc41\"], [0.9, \"#4d9221\"], [1, \"#276419\"]], \"sequential\": [[0.0, \"#0d0887\"], [0.1111111111111111, \"#46039f\"], [0.2222222222222222, \"#7201a8\"], [0.3333333333333333, \"#9c179e\"], [0.4444444444444444, \"#bd3786\"], [0.5555555555555556, \"#d8576b\"], [0.6666666666666666, \"#ed7953\"], [0.7777777777777778, \"#fb9f3a\"], [0.8888888888888888, \"#fdca26\"], [1.0, \"#f0f921\"]], \"sequentialminus\": [[0.0, \"#0d0887\"], [0.1111111111111111, \"#46039f\"], [0.2222222222222222, \"#7201a8\"], [0.3333333333333333, \"#9c179e\"], [0.4444444444444444, \"#bd3786\"], [0.5555555555555556, \"#d8576b\"], [0.6666666666666666, \"#ed7953\"], [0.7777777777777778, \"#fb9f3a\"], [0.8888888888888888, \"#fdca26\"], [1.0, \"#f0f921\"]]}, \"colorway\": [\"#636efa\", \"#EF553B\", \"#00cc96\", \"#ab63fa\", \"#FFA15A\", \"#19d3f3\", \"#FF6692\", \"#B6E880\", \"#FF97FF\", \"#FECB52\"], \"font\": {\"color\": \"#2a3f5f\"}, \"geo\": {\"bgcolor\": \"white\", \"lakecolor\": \"white\", \"landcolor\": \"#E5ECF6\", \"showlakes\": true, \"showland\": true, \"subunitcolor\": \"white\"}, \"hoverlabel\": {\"align\": \"left\"}, \"hovermode\": \"closest\", \"mapbox\": {\"style\": \"light\"}, \"paper_bgcolor\": \"white\", \"plot_bgcolor\": \"#E5ECF6\", \"polar\": {\"angularaxis\": {\"gridcolor\": \"white\", \"linecolor\": \"white\", \"ticks\": \"\"}, \"bgcolor\": \"#E5ECF6\", \"radialaxis\": {\"gridcolor\": \"white\", \"linecolor\": \"white\", \"ticks\": \"\"}}, \"scene\": {\"xaxis\": {\"backgroundcolor\": \"#E5ECF6\", \"gridcolor\": \"white\", \"gridwidth\": 2, \"linecolor\": \"white\", \"showbackground\": true, \"ticks\": \"\", \"zerolinecolor\": \"white\"}, \"yaxis\": {\"backgroundcolor\": \"#E5ECF6\", \"gridcolor\": \"white\", \"gridwidth\": 2, \"linecolor\": \"white\", \"showbackground\": true, \"ticks\": \"\", \"zerolinecolor\": \"white\"}, \"zaxis\": {\"backgroundcolor\": \"#E5ECF6\", \"gridcolor\": \"white\", \"gridwidth\": 2, \"linecolor\": \"white\", \"showbackground\": true, \"ticks\": \"\", \"zerolinecolor\": \"white\"}}, \"shapedefaults\": {\"line\": {\"color\": \"#2a3f5f\"}}, \"ternary\": {\"aaxis\": {\"gridcolor\": \"white\", \"linecolor\": \"white\", \"ticks\": \"\"}, \"baxis\": {\"gridcolor\": \"white\", \"linecolor\": \"white\", \"ticks\": \"\"}, \"bgcolor\": \"#E5ECF6\", \"caxis\": {\"gridcolor\": \"white\", \"linecolor\": \"white\", \"ticks\": \"\"}}, \"title\": {\"x\": 0.05}, \"xaxis\": {\"automargin\": true, \"gridcolor\": \"white\", \"linecolor\": \"white\", \"ticks\": \"\", \"title\": {\"standoff\": 15}, \"zerolinecolor\": \"white\", \"zerolinewidth\": 2}, \"yaxis\": {\"automargin\": true, \"gridcolor\": \"white\", \"linecolor\": \"white\", \"ticks\": \"\", \"title\": {\"standoff\": 15}, \"zerolinecolor\": \"white\", \"zerolinewidth\": 2}}}, \"title\": {\"font\": {\"color\": \"#4D5663\"}, \"text\": \"Performance dos portfolios desde 31 Out 2014\"}, \"width\": 970, \"xaxis\": {\"gridcolor\": \"#E1E5ED\", \"showgrid\": true, \"tickfont\": {\"color\": \"#4D5663\"}, \"title\": {\"font\": {\"color\": \"#4D5663\"}, \"text\": \"\"}, \"zerolinecolor\": \"#E1E5ED\"}, \"yaxis\": {\"gridcolor\": \"#E1E5ED\", \"showgrid\": true, \"tickfont\": {\"color\": \"#4D5663\"}, \"title\": {\"font\": {\"color\": \"#4D5663\"}, \"text\": \"Valor por cada 100\\u20ac investidos\"}, \"zerolinecolor\": \"#E1E5ED\"}},\n",
       "                        {\"showLink\": true, \"linkText\": \"Export to plot.ly\", \"plotlyServerURL\": \"https://plot.ly\", \"responsive\": true}\n",
       "                    ).then(function(){\n",
       "                            \n",
       "var gd = document.getElementById('525ca411-cbe7-4352-9062-c77f4eef5bec');\n",
       "var x = new MutationObserver(function (mutations, observer) {{\n",
       "        var display = window.getComputedStyle(gd).display;\n",
       "        if (!display || display === 'none') {{\n",
       "            console.log([gd, 'removed!']);\n",
       "            Plotly.purge(gd);\n",
       "            observer.disconnect();\n",
       "        }}\n",
       "}});\n",
       "\n",
       "// Listen for the removal of the full notebook cells\n",
       "var notebookContainer = gd.closest('#notebook-container');\n",
       "if (notebookContainer) {{\n",
       "    x.observe(notebookContainer, {childList: true});\n",
       "}}\n",
       "\n",
       "// Listen for the clearing of the current output cell\n",
       "var outputEl = gd.closest('.output');\n",
       "if (outputEl) {{\n",
       "    x.observe(outputEl, {childList: true});\n",
       "}}\n",
       "\n",
       "                        })\n",
       "                };\n",
       "                });\n",
       "            </script>\n",
       "        </div>"
      ]
     },
     "metadata": {},
     "output_type": "display_data"
    }
   ],
   "source": [
    "round(fundos_norm, 2).iplot(yTitle='Valor por cada 100€ investidos', title='Performance dos portfolios desde 31 Out 2014',\n",
    "                           colors=['royalblue', 'dimgray', 'orange'], dimensions=dimensions)"
   ]
  },
  {
   "cell_type": "code",
   "execution_count": 27,
   "metadata": {},
   "outputs": [
    {
     "data": {
      "application/vnd.plotly.v1+json": {
       "config": {
        "linkText": "Export to plot.ly",
        "plotlyServerURL": "https://plot.ly",
        "showLink": true
       },
       "data": [
        {
         "line": {
          "color": "rgba(65, 105, 225, 1.0)",
          "dash": "solid",
          "shape": "linear",
          "width": 1.3
         },
         "mode": "lines",
         "name": "Cdi",
         "text": "",
         "type": "scatter",
         "x": [
          "2014-10-31",
          "2014-11-28",
          "2015-01-30",
          "2015-02-27",
          "2015-03-31",
          "2015-04-30",
          "2015-05-29",
          "2015-06-30",
          "2015-07-31",
          "2015-08-31",
          "2015-09-30",
          "2015-10-30",
          "2015-11-30",
          "2016-01-29",
          "2016-02-29",
          "2016-03-31",
          "2016-04-29",
          "2016-05-31",
          "2016-06-30",
          "2016-07-29",
          "2016-08-31",
          "2016-09-30",
          "2016-10-31",
          "2016-11-30",
          "2016-12-30",
          "2017-01-31",
          "2017-02-28",
          "2017-03-31",
          "2017-04-28",
          "2017-05-31",
          "2017-06-30",
          "2017-07-31",
          "2017-08-31",
          "2017-09-29",
          "2017-11-30",
          "2017-12-29",
          "2018-01-31",
          "2018-02-28",
          "2018-04-30",
          "2018-05-31",
          "2018-06-29",
          "2018-07-31",
          "2018-08-31",
          "2018-09-28",
          "2018-10-31",
          "2018-11-30",
          "2019-01-31",
          "2019-02-28",
          "2019-03-29",
          "2019-04-30",
          "2019-05-31",
          "2019-06-28",
          "2019-07-31",
          "2019-08-30",
          "2019-09-30",
          "2019-10-31",
          "2019-11-29",
          "2020-01-31",
          "2020-02-28",
          "2020-03-31",
          "2020-04-30",
          "2020-05-29",
          "2020-06-30",
          "2020-07-31",
          "2020-08-31"
         ],
         "y": [
          0,
          0,
          0,
          0,
          0,
          -1.46,
          -1.37,
          -4.32,
          -4.32,
          -11.7,
          -15.79,
          -9.08,
          -6.4,
          -16,
          -16.07,
          -12.71,
          -11.38,
          -10.27,
          -12.14,
          -9.05,
          -8.68,
          -9.85,
          -7.19,
          -0.03,
          0,
          0,
          0,
          0,
          -2.17,
          -5.41,
          -5.63,
          -6.35,
          -8.79,
          -7.19,
          -3.48,
          -2.45,
          -0.51,
          -2.66,
          -2.61,
          -2.11,
          -1.86,
          -0.89,
          -0.91,
          -0.91,
          -7.56,
          -9.72,
          -9.21,
          -8.17,
          -7.04,
          0,
          -8.76,
          -4.04,
          -1.74,
          -4.67,
          -1.46,
          -0.59,
          0,
          -0.32,
          -9.74,
          -28.65,
          -20.24,
          -18.12,
          -16.44,
          -17.9,
          -11.26
         ]
        },
        {
         "line": {
          "color": "rgba(105, 105, 105, 1.0)",
          "dash": "solid",
          "shape": "linear",
          "width": 1.3
         },
         "mode": "lines",
         "name": "IWDA",
         "text": "",
         "type": "scatter",
         "x": [
          "2014-10-31",
          "2014-11-28",
          "2015-01-30",
          "2015-02-27",
          "2015-03-31",
          "2015-04-30",
          "2015-05-29",
          "2015-06-30",
          "2015-07-31",
          "2015-08-31",
          "2015-09-30",
          "2015-10-30",
          "2015-11-30",
          "2016-01-29",
          "2016-02-29",
          "2016-03-31",
          "2016-04-29",
          "2016-05-31",
          "2016-06-30",
          "2016-07-29",
          "2016-08-31",
          "2016-09-30",
          "2016-10-31",
          "2016-11-30",
          "2016-12-30",
          "2017-01-31",
          "2017-02-28",
          "2017-03-31",
          "2017-04-28",
          "2017-05-31",
          "2017-06-30",
          "2017-07-31",
          "2017-08-31",
          "2017-09-29",
          "2017-11-30",
          "2017-12-29",
          "2018-01-31",
          "2018-02-28",
          "2018-04-30",
          "2018-05-31",
          "2018-06-29",
          "2018-07-31",
          "2018-08-31",
          "2018-09-28",
          "2018-10-31",
          "2018-11-30",
          "2019-01-31",
          "2019-02-28",
          "2019-03-29",
          "2019-04-30",
          "2019-05-31",
          "2019-06-28",
          "2019-07-31",
          "2019-08-30",
          "2019-09-30",
          "2019-10-31",
          "2019-11-29",
          "2020-01-31",
          "2020-02-28",
          "2020-03-31",
          "2020-04-30",
          "2020-05-29",
          "2020-06-30",
          "2020-07-31",
          "2020-08-31"
         ],
         "y": [
          0,
          0,
          0,
          0,
          0,
          -1.71,
          -0.02,
          -3.64,
          -0.72,
          -8.75,
          -11.93,
          -3.56,
          0,
          -10.54,
          -10.33,
          -9.24,
          -9.07,
          -5.36,
          -6.4,
          -2.73,
          -2.46,
          -2.39,
          -1.88,
          0,
          0,
          -0.58,
          0,
          0,
          -0.69,
          -1.77,
          -2.74,
          -3.52,
          -4.32,
          -1.52,
          0,
          0,
          0,
          -1.87,
          -1.74,
          0,
          0,
          0,
          0,
          0,
          -4.88,
          -4.47,
          -5.54,
          -1.8,
          0,
          0,
          -4.77,
          -1.06,
          0,
          -1.69,
          0,
          -0.13,
          0,
          0,
          -8.65,
          -18.61,
          -10.89,
          -8.68,
          -7.04,
          -7.29,
          -1.88
         ]
        },
        {
         "line": {
          "color": "rgba(255, 153, 51, 1.0)",
          "dash": "solid",
          "shape": "linear",
          "width": 1.3
         },
         "mode": "lines",
         "name": "IS3S",
         "text": "",
         "type": "scatter",
         "x": [
          "2014-10-31",
          "2014-11-28",
          "2015-01-30",
          "2015-02-27",
          "2015-03-31",
          "2015-04-30",
          "2015-05-29",
          "2015-06-30",
          "2015-07-31",
          "2015-08-31",
          "2015-09-30",
          "2015-10-30",
          "2015-11-30",
          "2016-01-29",
          "2016-02-29",
          "2016-03-31",
          "2016-04-29",
          "2016-05-31",
          "2016-06-30",
          "2016-07-29",
          "2016-08-31",
          "2016-09-30",
          "2016-10-31",
          "2016-11-30",
          "2016-12-30",
          "2017-01-31",
          "2017-02-28",
          "2017-03-31",
          "2017-04-28",
          "2017-05-31",
          "2017-06-30",
          "2017-07-31",
          "2017-08-31",
          "2017-09-29",
          "2017-11-30",
          "2017-12-29",
          "2018-01-31",
          "2018-02-28",
          "2018-04-30",
          "2018-05-31",
          "2018-06-29",
          "2018-07-31",
          "2018-08-31",
          "2018-09-28",
          "2018-10-31",
          "2018-11-30",
          "2019-01-31",
          "2019-02-28",
          "2019-03-29",
          "2019-04-30",
          "2019-05-31",
          "2019-06-28",
          "2019-07-31",
          "2019-08-30",
          "2019-09-30",
          "2019-10-31",
          "2019-11-29",
          "2020-01-31",
          "2020-02-28",
          "2020-03-31",
          "2020-04-30",
          "2020-05-29",
          "2020-06-30",
          "2020-07-31",
          "2020-08-31"
         ],
         "y": [
          0,
          0,
          0,
          0,
          0,
          -1.03,
          0,
          -3.79,
          -2.33,
          -10.93,
          -15.18,
          -7.14,
          -4.57,
          -16.45,
          -16.94,
          -16.2,
          -15.42,
          -12.04,
          -15.34,
          -11.06,
          -9.22,
          -9.1,
          -6.77,
          -1.06,
          0,
          -0.96,
          0,
          -0.08,
          -1.29,
          -3.57,
          -3.81,
          -4.12,
          -5.25,
          -1.55,
          0,
          0,
          0,
          -1.84,
          -0.75,
          -0.33,
          -2.16,
          0,
          -0.57,
          0,
          -4.84,
          -4.72,
          -5.49,
          -3.5,
          -3.09,
          -1.09,
          -8.38,
          -4.5,
          -2.09,
          -5.53,
          0,
          0,
          0,
          -1.5,
          -10.59,
          -23.56,
          -18.53,
          -17.99,
          -17.94,
          -23.45,
          -20.07
         ]
        }
       ],
       "layout": {
        "height": 500,
        "legend": {
         "bgcolor": "#F5F6F9",
         "font": {
          "color": "#4D5663"
         }
        },
        "paper_bgcolor": "#F5F6F9",
        "plot_bgcolor": "#F5F6F9",
        "template": {
         "data": {
          "bar": [
           {
            "error_x": {
             "color": "#2a3f5f"
            },
            "error_y": {
             "color": "#2a3f5f"
            },
            "marker": {
             "line": {
              "color": "#E5ECF6",
              "width": 0.5
             }
            },
            "type": "bar"
           }
          ],
          "barpolar": [
           {
            "marker": {
             "line": {
              "color": "#E5ECF6",
              "width": 0.5
             }
            },
            "type": "barpolar"
           }
          ],
          "carpet": [
           {
            "aaxis": {
             "endlinecolor": "#2a3f5f",
             "gridcolor": "white",
             "linecolor": "white",
             "minorgridcolor": "white",
             "startlinecolor": "#2a3f5f"
            },
            "baxis": {
             "endlinecolor": "#2a3f5f",
             "gridcolor": "white",
             "linecolor": "white",
             "minorgridcolor": "white",
             "startlinecolor": "#2a3f5f"
            },
            "type": "carpet"
           }
          ],
          "choropleth": [
           {
            "colorbar": {
             "outlinewidth": 0,
             "ticks": ""
            },
            "type": "choropleth"
           }
          ],
          "contour": [
           {
            "colorbar": {
             "outlinewidth": 0,
             "ticks": ""
            },
            "colorscale": [
             [
              0,
              "#0d0887"
             ],
             [
              0.1111111111111111,
              "#46039f"
             ],
             [
              0.2222222222222222,
              "#7201a8"
             ],
             [
              0.3333333333333333,
              "#9c179e"
             ],
             [
              0.4444444444444444,
              "#bd3786"
             ],
             [
              0.5555555555555556,
              "#d8576b"
             ],
             [
              0.6666666666666666,
              "#ed7953"
             ],
             [
              0.7777777777777778,
              "#fb9f3a"
             ],
             [
              0.8888888888888888,
              "#fdca26"
             ],
             [
              1,
              "#f0f921"
             ]
            ],
            "type": "contour"
           }
          ],
          "contourcarpet": [
           {
            "colorbar": {
             "outlinewidth": 0,
             "ticks": ""
            },
            "type": "contourcarpet"
           }
          ],
          "heatmap": [
           {
            "colorbar": {
             "outlinewidth": 0,
             "ticks": ""
            },
            "colorscale": [
             [
              0,
              "#0d0887"
             ],
             [
              0.1111111111111111,
              "#46039f"
             ],
             [
              0.2222222222222222,
              "#7201a8"
             ],
             [
              0.3333333333333333,
              "#9c179e"
             ],
             [
              0.4444444444444444,
              "#bd3786"
             ],
             [
              0.5555555555555556,
              "#d8576b"
             ],
             [
              0.6666666666666666,
              "#ed7953"
             ],
             [
              0.7777777777777778,
              "#fb9f3a"
             ],
             [
              0.8888888888888888,
              "#fdca26"
             ],
             [
              1,
              "#f0f921"
             ]
            ],
            "type": "heatmap"
           }
          ],
          "heatmapgl": [
           {
            "colorbar": {
             "outlinewidth": 0,
             "ticks": ""
            },
            "colorscale": [
             [
              0,
              "#0d0887"
             ],
             [
              0.1111111111111111,
              "#46039f"
             ],
             [
              0.2222222222222222,
              "#7201a8"
             ],
             [
              0.3333333333333333,
              "#9c179e"
             ],
             [
              0.4444444444444444,
              "#bd3786"
             ],
             [
              0.5555555555555556,
              "#d8576b"
             ],
             [
              0.6666666666666666,
              "#ed7953"
             ],
             [
              0.7777777777777778,
              "#fb9f3a"
             ],
             [
              0.8888888888888888,
              "#fdca26"
             ],
             [
              1,
              "#f0f921"
             ]
            ],
            "type": "heatmapgl"
           }
          ],
          "histogram": [
           {
            "marker": {
             "colorbar": {
              "outlinewidth": 0,
              "ticks": ""
             }
            },
            "type": "histogram"
           }
          ],
          "histogram2d": [
           {
            "colorbar": {
             "outlinewidth": 0,
             "ticks": ""
            },
            "colorscale": [
             [
              0,
              "#0d0887"
             ],
             [
              0.1111111111111111,
              "#46039f"
             ],
             [
              0.2222222222222222,
              "#7201a8"
             ],
             [
              0.3333333333333333,
              "#9c179e"
             ],
             [
              0.4444444444444444,
              "#bd3786"
             ],
             [
              0.5555555555555556,
              "#d8576b"
             ],
             [
              0.6666666666666666,
              "#ed7953"
             ],
             [
              0.7777777777777778,
              "#fb9f3a"
             ],
             [
              0.8888888888888888,
              "#fdca26"
             ],
             [
              1,
              "#f0f921"
             ]
            ],
            "type": "histogram2d"
           }
          ],
          "histogram2dcontour": [
           {
            "colorbar": {
             "outlinewidth": 0,
             "ticks": ""
            },
            "colorscale": [
             [
              0,
              "#0d0887"
             ],
             [
              0.1111111111111111,
              "#46039f"
             ],
             [
              0.2222222222222222,
              "#7201a8"
             ],
             [
              0.3333333333333333,
              "#9c179e"
             ],
             [
              0.4444444444444444,
              "#bd3786"
             ],
             [
              0.5555555555555556,
              "#d8576b"
             ],
             [
              0.6666666666666666,
              "#ed7953"
             ],
             [
              0.7777777777777778,
              "#fb9f3a"
             ],
             [
              0.8888888888888888,
              "#fdca26"
             ],
             [
              1,
              "#f0f921"
             ]
            ],
            "type": "histogram2dcontour"
           }
          ],
          "mesh3d": [
           {
            "colorbar": {
             "outlinewidth": 0,
             "ticks": ""
            },
            "type": "mesh3d"
           }
          ],
          "parcoords": [
           {
            "line": {
             "colorbar": {
              "outlinewidth": 0,
              "ticks": ""
             }
            },
            "type": "parcoords"
           }
          ],
          "pie": [
           {
            "automargin": true,
            "type": "pie"
           }
          ],
          "scatter": [
           {
            "marker": {
             "colorbar": {
              "outlinewidth": 0,
              "ticks": ""
             }
            },
            "type": "scatter"
           }
          ],
          "scatter3d": [
           {
            "line": {
             "colorbar": {
              "outlinewidth": 0,
              "ticks": ""
             }
            },
            "marker": {
             "colorbar": {
              "outlinewidth": 0,
              "ticks": ""
             }
            },
            "type": "scatter3d"
           }
          ],
          "scattercarpet": [
           {
            "marker": {
             "colorbar": {
              "outlinewidth": 0,
              "ticks": ""
             }
            },
            "type": "scattercarpet"
           }
          ],
          "scattergeo": [
           {
            "marker": {
             "colorbar": {
              "outlinewidth": 0,
              "ticks": ""
             }
            },
            "type": "scattergeo"
           }
          ],
          "scattergl": [
           {
            "marker": {
             "colorbar": {
              "outlinewidth": 0,
              "ticks": ""
             }
            },
            "type": "scattergl"
           }
          ],
          "scattermapbox": [
           {
            "marker": {
             "colorbar": {
              "outlinewidth": 0,
              "ticks": ""
             }
            },
            "type": "scattermapbox"
           }
          ],
          "scatterpolar": [
           {
            "marker": {
             "colorbar": {
              "outlinewidth": 0,
              "ticks": ""
             }
            },
            "type": "scatterpolar"
           }
          ],
          "scatterpolargl": [
           {
            "marker": {
             "colorbar": {
              "outlinewidth": 0,
              "ticks": ""
             }
            },
            "type": "scatterpolargl"
           }
          ],
          "scatterternary": [
           {
            "marker": {
             "colorbar": {
              "outlinewidth": 0,
              "ticks": ""
             }
            },
            "type": "scatterternary"
           }
          ],
          "surface": [
           {
            "colorbar": {
             "outlinewidth": 0,
             "ticks": ""
            },
            "colorscale": [
             [
              0,
              "#0d0887"
             ],
             [
              0.1111111111111111,
              "#46039f"
             ],
             [
              0.2222222222222222,
              "#7201a8"
             ],
             [
              0.3333333333333333,
              "#9c179e"
             ],
             [
              0.4444444444444444,
              "#bd3786"
             ],
             [
              0.5555555555555556,
              "#d8576b"
             ],
             [
              0.6666666666666666,
              "#ed7953"
             ],
             [
              0.7777777777777778,
              "#fb9f3a"
             ],
             [
              0.8888888888888888,
              "#fdca26"
             ],
             [
              1,
              "#f0f921"
             ]
            ],
            "type": "surface"
           }
          ],
          "table": [
           {
            "cells": {
             "fill": {
              "color": "#EBF0F8"
             },
             "line": {
              "color": "white"
             }
            },
            "header": {
             "fill": {
              "color": "#C8D4E3"
             },
             "line": {
              "color": "white"
             }
            },
            "type": "table"
           }
          ]
         },
         "layout": {
          "annotationdefaults": {
           "arrowcolor": "#2a3f5f",
           "arrowhead": 0,
           "arrowwidth": 1
          },
          "coloraxis": {
           "colorbar": {
            "outlinewidth": 0,
            "ticks": ""
           }
          },
          "colorscale": {
           "diverging": [
            [
             0,
             "#8e0152"
            ],
            [
             0.1,
             "#c51b7d"
            ],
            [
             0.2,
             "#de77ae"
            ],
            [
             0.3,
             "#f1b6da"
            ],
            [
             0.4,
             "#fde0ef"
            ],
            [
             0.5,
             "#f7f7f7"
            ],
            [
             0.6,
             "#e6f5d0"
            ],
            [
             0.7,
             "#b8e186"
            ],
            [
             0.8,
             "#7fbc41"
            ],
            [
             0.9,
             "#4d9221"
            ],
            [
             1,
             "#276419"
            ]
           ],
           "sequential": [
            [
             0,
             "#0d0887"
            ],
            [
             0.1111111111111111,
             "#46039f"
            ],
            [
             0.2222222222222222,
             "#7201a8"
            ],
            [
             0.3333333333333333,
             "#9c179e"
            ],
            [
             0.4444444444444444,
             "#bd3786"
            ],
            [
             0.5555555555555556,
             "#d8576b"
            ],
            [
             0.6666666666666666,
             "#ed7953"
            ],
            [
             0.7777777777777778,
             "#fb9f3a"
            ],
            [
             0.8888888888888888,
             "#fdca26"
            ],
            [
             1,
             "#f0f921"
            ]
           ],
           "sequentialminus": [
            [
             0,
             "#0d0887"
            ],
            [
             0.1111111111111111,
             "#46039f"
            ],
            [
             0.2222222222222222,
             "#7201a8"
            ],
            [
             0.3333333333333333,
             "#9c179e"
            ],
            [
             0.4444444444444444,
             "#bd3786"
            ],
            [
             0.5555555555555556,
             "#d8576b"
            ],
            [
             0.6666666666666666,
             "#ed7953"
            ],
            [
             0.7777777777777778,
             "#fb9f3a"
            ],
            [
             0.8888888888888888,
             "#fdca26"
            ],
            [
             1,
             "#f0f921"
            ]
           ]
          },
          "colorway": [
           "#636efa",
           "#EF553B",
           "#00cc96",
           "#ab63fa",
           "#FFA15A",
           "#19d3f3",
           "#FF6692",
           "#B6E880",
           "#FF97FF",
           "#FECB52"
          ],
          "font": {
           "color": "#2a3f5f"
          },
          "geo": {
           "bgcolor": "white",
           "lakecolor": "white",
           "landcolor": "#E5ECF6",
           "showlakes": true,
           "showland": true,
           "subunitcolor": "white"
          },
          "hoverlabel": {
           "align": "left"
          },
          "hovermode": "closest",
          "mapbox": {
           "style": "light"
          },
          "paper_bgcolor": "white",
          "plot_bgcolor": "#E5ECF6",
          "polar": {
           "angularaxis": {
            "gridcolor": "white",
            "linecolor": "white",
            "ticks": ""
           },
           "bgcolor": "#E5ECF6",
           "radialaxis": {
            "gridcolor": "white",
            "linecolor": "white",
            "ticks": ""
           }
          },
          "scene": {
           "xaxis": {
            "backgroundcolor": "#E5ECF6",
            "gridcolor": "white",
            "gridwidth": 2,
            "linecolor": "white",
            "showbackground": true,
            "ticks": "",
            "zerolinecolor": "white"
           },
           "yaxis": {
            "backgroundcolor": "#E5ECF6",
            "gridcolor": "white",
            "gridwidth": 2,
            "linecolor": "white",
            "showbackground": true,
            "ticks": "",
            "zerolinecolor": "white"
           },
           "zaxis": {
            "backgroundcolor": "#E5ECF6",
            "gridcolor": "white",
            "gridwidth": 2,
            "linecolor": "white",
            "showbackground": true,
            "ticks": "",
            "zerolinecolor": "white"
           }
          },
          "shapedefaults": {
           "line": {
            "color": "#2a3f5f"
           }
          },
          "ternary": {
           "aaxis": {
            "gridcolor": "white",
            "linecolor": "white",
            "ticks": ""
           },
           "baxis": {
            "gridcolor": "white",
            "linecolor": "white",
            "ticks": ""
           },
           "bgcolor": "#E5ECF6",
           "caxis": {
            "gridcolor": "white",
            "linecolor": "white",
            "ticks": ""
           }
          },
          "title": {
           "x": 0.05
          },
          "xaxis": {
           "automargin": true,
           "gridcolor": "white",
           "linecolor": "white",
           "ticks": "",
           "title": {
            "standoff": 15
           },
           "zerolinecolor": "white",
           "zerolinewidth": 2
          },
          "yaxis": {
           "automargin": true,
           "gridcolor": "white",
           "linecolor": "white",
           "ticks": "",
           "title": {
            "standoff": 15
           },
           "zerolinecolor": "white",
           "zerolinewidth": 2
          }
         }
        },
        "title": {
         "font": {
          "color": "#4D5663"
         },
         "text": "Drawdown dos portfolios desde 31 Out 2014"
        },
        "width": 970,
        "xaxis": {
         "autorange": true,
         "gridcolor": "#E1E5ED",
         "range": [
          "2014-10-31",
          "2020-08-31"
         ],
         "showgrid": true,
         "tickfont": {
          "color": "#4D5663"
         },
         "title": {
          "font": {
           "color": "#4D5663"
          },
          "text": ""
         },
         "type": "date",
         "zerolinecolor": "#E1E5ED"
        },
        "yaxis": {
         "autorange": true,
         "gridcolor": "#E1E5ED",
         "range": [
          -30.241666666666664,
          1.5916666666666666
         ],
         "showgrid": true,
         "tickfont": {
          "color": "#4D5663"
         },
         "title": {
          "font": {
           "color": "#4D5663"
          },
          "text": "Percentagem"
         },
         "type": "linear",
         "zerolinecolor": "#E1E5ED"
        }
       }
      },
      "image/png": "[encoded data removed]",
      "text/html": [
       "<div>\n",
       "        \n",
       "        \n",
       "            <div id=\"61487643-a972-4fca-9e2a-465e0252e7f9\" class=\"plotly-graph-div\" style=\"height:500px; width:970px;\"></div>\n",
       "            <script type=\"text/javascript\">\n",
       "                require([\"plotly\"], function(Plotly) {\n",
       "                    window.PLOTLYENV=window.PLOTLYENV || {};\n",
       "                    window.PLOTLYENV.BASE_URL='https://plot.ly';\n",
       "                    \n",
       "                if (document.getElementById(\"61487643-a972-4fca-9e2a-465e0252e7f9\")) {\n",
       "                    Plotly.newPlot(\n",
       "                        '61487643-a972-4fca-9e2a-465e0252e7f9',\n",
       "                        [{\"line\": {\"color\": \"rgba(65, 105, 225, 1.0)\", \"dash\": \"solid\", \"shape\": \"linear\", \"width\": 1.3}, \"mode\": \"lines\", \"name\": \"Cdi\", \"text\": \"\", \"type\": \"scatter\", \"x\": [\"2014-10-31\", \"2014-11-28\", \"2015-01-30\", \"2015-02-27\", \"2015-03-31\", \"2015-04-30\", \"2015-05-29\", \"2015-06-30\", \"2015-07-31\", \"2015-08-31\", \"2015-09-30\", \"2015-10-30\", \"2015-11-30\", \"2016-01-29\", \"2016-02-29\", \"2016-03-31\", \"2016-04-29\", \"2016-05-31\", \"2016-06-30\", \"2016-07-29\", \"2016-08-31\", \"2016-09-30\", \"2016-10-31\", \"2016-11-30\", \"2016-12-30\", \"2017-01-31\", \"2017-02-28\", \"2017-03-31\", \"2017-04-28\", \"2017-05-31\", \"2017-06-30\", \"2017-07-31\", \"2017-08-31\", \"2017-09-29\", \"2017-11-30\", \"2017-12-29\", \"2018-01-31\", \"2018-02-28\", \"2018-04-30\", \"2018-05-31\", \"2018-06-29\", \"2018-07-31\", \"2018-08-31\", \"2018-09-28\", \"2018-10-31\", \"2018-11-30\", \"2019-01-31\", \"2019-02-28\", \"2019-03-29\", \"2019-04-30\", \"2019-05-31\", \"2019-06-28\", \"2019-07-31\", \"2019-08-30\", \"2019-09-30\", \"2019-10-31\", \"2019-11-29\", \"2020-01-31\", \"2020-02-28\", \"2020-03-31\", \"2020-04-30\", \"2020-05-29\", \"2020-06-30\", \"2020-07-31\", \"2020-08-31\"], \"y\": [0.0, 0.0, 0.0, 0.0, 0.0, -1.46, -1.37, -4.32, -4.32, -11.7, -15.79, -9.08, -6.4, -16.0, -16.07, -12.71, -11.38, -10.27, -12.14, -9.05, -8.68, -9.85, -7.19, -0.03, 0.0, 0.0, 0.0, 0.0, -2.17, -5.41, -5.63, -6.35, -8.79, -7.19, -3.48, -2.45, -0.51, -2.66, -2.61, -2.11, -1.86, -0.89, -0.91, -0.91, -7.56, -9.72, -9.21, -8.17, -7.04, 0.0, -8.76, -4.04, -1.74, -4.67, -1.46, -0.59, 0.0, -0.32, -9.74, -28.65, -20.24, -18.12, -16.44, -17.9, -11.26]}, {\"line\": {\"color\": \"rgba(105, 105, 105, 1.0)\", \"dash\": \"solid\", \"shape\": \"linear\", \"width\": 1.3}, \"mode\": \"lines\", \"name\": \"IWDA\", \"text\": \"\", \"type\": \"scatter\", \"x\": [\"2014-10-31\", \"2014-11-28\", \"2015-01-30\", \"2015-02-27\", \"2015-03-31\", \"2015-04-30\", \"2015-05-29\", \"2015-06-30\", \"2015-07-31\", \"2015-08-31\", \"2015-09-30\", \"2015-10-30\", \"2015-11-30\", \"2016-01-29\", \"2016-02-29\", \"2016-03-31\", \"2016-04-29\", \"2016-05-31\", \"2016-06-30\", \"2016-07-29\", \"2016-08-31\", \"2016-09-30\", \"2016-10-31\", \"2016-11-30\", \"2016-12-30\", \"2017-01-31\", \"2017-02-28\", \"2017-03-31\", \"2017-04-28\", \"2017-05-31\", \"2017-06-30\", \"2017-07-31\", \"2017-08-31\", \"2017-09-29\", \"2017-11-30\", \"2017-12-29\", \"2018-01-31\", \"2018-02-28\", \"2018-04-30\", \"2018-05-31\", \"2018-06-29\", \"2018-07-31\", \"2018-08-31\", \"2018-09-28\", \"2018-10-31\", \"2018-11-30\", \"2019-01-31\", \"2019-02-28\", \"2019-03-29\", \"2019-04-30\", \"2019-05-31\", \"2019-06-28\", \"2019-07-31\", \"2019-08-30\", \"2019-09-30\", \"2019-10-31\", \"2019-11-29\", \"2020-01-31\", \"2020-02-28\", \"2020-03-31\", \"2020-04-30\", \"2020-05-29\", \"2020-06-30\", \"2020-07-31\", \"2020-08-31\"], \"y\": [0.0, 0.0, 0.0, 0.0, 0.0, -1.71, -0.02, -3.64, -0.72, -8.75, -11.93, -3.56, 0.0, -10.54, -10.33, -9.24, -9.07, -5.36, -6.4, -2.73, -2.46, -2.39, -1.88, 0.0, 0.0, -0.58, 0.0, 0.0, -0.69, -1.77, -2.74, -3.52, -4.32, -1.52, 0.0, 0.0, 0.0, -1.87, -1.74, 0.0, 0.0, 0.0, 0.0, 0.0, -4.88, -4.47, -5.54, -1.8, 0.0, 0.0, -4.77, -1.06, 0.0, -1.69, 0.0, -0.13, 0.0, 0.0, -8.65, -18.61, -10.89, -8.68, -7.04, -7.29, -1.88]}, {\"line\": {\"color\": \"rgba(255, 153, 51, 1.0)\", \"dash\": \"solid\", \"shape\": \"linear\", \"width\": 1.3}, \"mode\": \"lines\", \"name\": \"IS3S\", \"text\": \"\", \"type\": \"scatter\", \"x\": [\"2014-10-31\", \"2014-11-28\", \"2015-01-30\", \"2015-02-27\", \"2015-03-31\", \"2015-04-30\", \"2015-05-29\", \"2015-06-30\", \"2015-07-31\", \"2015-08-31\", \"2015-09-30\", \"2015-10-30\", \"2015-11-30\", \"2016-01-29\", \"2016-02-29\", \"2016-03-31\", \"2016-04-29\", \"2016-05-31\", \"2016-06-30\", \"2016-07-29\", \"2016-08-31\", \"2016-09-30\", \"2016-10-31\", \"2016-11-30\", \"2016-12-30\", \"2017-01-31\", \"2017-02-28\", \"2017-03-31\", \"2017-04-28\", \"2017-05-31\", \"2017-06-30\", \"2017-07-31\", \"2017-08-31\", \"2017-09-29\", \"2017-11-30\", \"2017-12-29\", \"2018-01-31\", \"2018-02-28\", \"2018-04-30\", \"2018-05-31\", \"2018-06-29\", \"2018-07-31\", \"2018-08-31\", \"2018-09-28\", \"2018-10-31\", \"2018-11-30\", \"2019-01-31\", \"2019-02-28\", \"2019-03-29\", \"2019-04-30\", \"2019-05-31\", \"2019-06-28\", \"2019-07-31\", \"2019-08-30\", \"2019-09-30\", \"2019-10-31\", \"2019-11-29\", \"2020-01-31\", \"2020-02-28\", \"2020-03-31\", \"2020-04-30\", \"2020-05-29\", \"2020-06-30\", \"2020-07-31\", \"2020-08-31\"], \"y\": [0.0, 0.0, 0.0, 0.0, 0.0, -1.03, 0.0, -3.79, -2.33, -10.93, -15.18, -7.14, -4.57, -16.45, -16.94, -16.2, -15.42, -12.04, -15.34, -11.06, -9.22, -9.1, -6.77, -1.06, 0.0, -0.96, 0.0, -0.08, -1.29, -3.57, -3.81, -4.12, -5.25, -1.55, 0.0, 0.0, 0.0, -1.84, -0.75, -0.33, -2.16, 0.0, -0.57, 0.0, -4.84, -4.72, -5.49, -3.5, -3.09, -1.09, -8.38, -4.5, -2.09, -5.53, 0.0, 0.0, 0.0, -1.5, -10.59, -23.56, -18.53, -17.99, -17.94, -23.45, -20.07]}],\n",
       "                        {\"height\": 500, \"legend\": {\"bgcolor\": \"#F5F6F9\", \"font\": {\"color\": \"#4D5663\"}}, \"paper_bgcolor\": \"#F5F6F9\", \"plot_bgcolor\": \"#F5F6F9\", \"template\": {\"data\": {\"bar\": [{\"error_x\": {\"color\": \"#2a3f5f\"}, \"error_y\": {\"color\": \"#2a3f5f\"}, \"marker\": {\"line\": {\"color\": \"#E5ECF6\", \"width\": 0.5}}, \"type\": \"bar\"}], \"barpolar\": [{\"marker\": {\"line\": {\"color\": \"#E5ECF6\", \"width\": 0.5}}, \"type\": \"barpolar\"}], \"carpet\": [{\"aaxis\": {\"endlinecolor\": \"#2a3f5f\", \"gridcolor\": \"white\", \"linecolor\": \"white\", \"minorgridcolor\": \"white\", \"startlinecolor\": \"#2a3f5f\"}, \"baxis\": {\"endlinecolor\": \"#2a3f5f\", \"gridcolor\": \"white\", \"linecolor\": \"white\", \"minorgridcolor\": \"white\", \"startlinecolor\": \"#2a3f5f\"}, \"type\": \"carpet\"}], \"choropleth\": [{\"colorbar\": {\"outlinewidth\": 0, \"ticks\": \"\"}, \"type\": \"choropleth\"}], \"contour\": [{\"colorbar\": {\"outlinewidth\": 0, \"ticks\": \"\"}, \"colorscale\": [[0.0, \"#0d0887\"], [0.1111111111111111, \"#46039f\"], [0.2222222222222222, \"#7201a8\"], [0.3333333333333333, \"#9c179e\"], [0.4444444444444444, \"#bd3786\"], [0.5555555555555556, \"#d8576b\"], [0.6666666666666666, \"#ed7953\"], [0.7777777777777778, \"#fb9f3a\"], [0.8888888888888888, \"#fdca26\"], [1.0, \"#f0f921\"]], \"type\": \"contour\"}], \"contourcarpet\": [{\"colorbar\": {\"outlinewidth\": 0, \"ticks\": \"\"}, \"type\": \"contourcarpet\"}], \"heatmap\": [{\"colorbar\": {\"outlinewidth\": 0, \"ticks\": \"\"}, \"colorscale\": [[0.0, \"#0d0887\"], [0.1111111111111111, \"#46039f\"], [0.2222222222222222, \"#7201a8\"], [0.3333333333333333, \"#9c179e\"], [0.4444444444444444, \"#bd3786\"], [0.5555555555555556, \"#d8576b\"], [0.6666666666666666, \"#ed7953\"], [0.7777777777777778, \"#fb9f3a\"], [0.8888888888888888, \"#fdca26\"], [1.0, \"#f0f921\"]], \"type\": \"heatmap\"}], \"heatmapgl\": [{\"colorbar\": {\"outlinewidth\": 0, \"ticks\": \"\"}, \"colorscale\": [[0.0, \"#0d0887\"], [0.1111111111111111, \"#46039f\"], [0.2222222222222222, \"#7201a8\"], [0.3333333333333333, \"#9c179e\"], [0.4444444444444444, \"#bd3786\"], [0.5555555555555556, \"#d8576b\"], [0.6666666666666666, \"#ed7953\"], [0.7777777777777778, \"#fb9f3a\"], [0.8888888888888888, \"#fdca26\"], [1.0, \"#f0f921\"]], \"type\": \"heatmapgl\"}], \"histogram\": [{\"marker\": {\"colorbar\": {\"outlinewidth\": 0, \"ticks\": \"\"}}, \"type\": \"histogram\"}], \"histogram2d\": [{\"colorbar\": {\"outlinewidth\": 0, \"ticks\": \"\"}, \"colorscale\": [[0.0, \"#0d0887\"], [0.1111111111111111, \"#46039f\"], [0.2222222222222222, \"#7201a8\"], [0.3333333333333333, \"#9c179e\"], [0.4444444444444444, \"#bd3786\"], [0.5555555555555556, \"#d8576b\"], [0.6666666666666666, \"#ed7953\"], [0.7777777777777778, \"#fb9f3a\"], [0.8888888888888888, \"#fdca26\"], [1.0, \"#f0f921\"]], \"type\": \"histogram2d\"}], \"histogram2dcontour\": [{\"colorbar\": {\"outlinewidth\": 0, \"ticks\": \"\"}, \"colorscale\": [[0.0, \"#0d0887\"], [0.1111111111111111, \"#46039f\"], [0.2222222222222222, \"#7201a8\"], [0.3333333333333333, \"#9c179e\"], [0.4444444444444444, \"#bd3786\"], [0.5555555555555556, \"#d8576b\"], [0.6666666666666666, \"#ed7953\"], [0.7777777777777778, \"#fb9f3a\"], [0.8888888888888888, \"#fdca26\"], [1.0, \"#f0f921\"]], \"type\": \"histogram2dcontour\"}], \"mesh3d\": [{\"colorbar\": {\"outlinewidth\": 0, \"ticks\": \"\"}, \"type\": \"mesh3d\"}], \"parcoords\": [{\"line\": {\"colorbar\": {\"outlinewidth\": 0, \"ticks\": \"\"}}, \"type\": \"parcoords\"}], \"pie\": [{\"automargin\": true, \"type\": \"pie\"}], \"scatter\": [{\"marker\": {\"colorbar\": {\"outlinewidth\": 0, \"ticks\": \"\"}}, \"type\": \"scatter\"}], \"scatter3d\": [{\"line\": {\"colorbar\": {\"outlinewidth\": 0, \"ticks\": \"\"}}, \"marker\": {\"colorbar\": {\"outlinewidth\": 0, \"ticks\": \"\"}}, \"type\": \"scatter3d\"}], \"scattercarpet\": [{\"marker\": {\"colorbar\": {\"outlinewidth\": 0, \"ticks\": \"\"}}, \"type\": \"scattercarpet\"}], \"scattergeo\": [{\"marker\": {\"colorbar\": {\"outlinewidth\": 0, \"ticks\": \"\"}}, \"type\": \"scattergeo\"}], \"scattergl\": [{\"marker\": {\"colorbar\": {\"outlinewidth\": 0, \"ticks\": \"\"}}, \"type\": \"scattergl\"}], \"scattermapbox\": [{\"marker\": {\"colorbar\": {\"outlinewidth\": 0, \"ticks\": \"\"}}, \"type\": \"scattermapbox\"}], \"scatterpolar\": [{\"marker\": {\"colorbar\": {\"outlinewidth\": 0, \"ticks\": \"\"}}, \"type\": \"scatterpolar\"}], \"scatterpolargl\": [{\"marker\": {\"colorbar\": {\"outlinewidth\": 0, \"ticks\": \"\"}}, \"type\": \"scatterpolargl\"}], \"scatterternary\": [{\"marker\": {\"colorbar\": {\"outlinewidth\": 0, \"ticks\": \"\"}}, \"type\": \"scatterternary\"}], \"surface\": [{\"colorbar\": {\"outlinewidth\": 0, \"ticks\": \"\"}, \"colorscale\": [[0.0, \"#0d0887\"], [0.1111111111111111, \"#46039f\"], [0.2222222222222222, \"#7201a8\"], [0.3333333333333333, \"#9c179e\"], [0.4444444444444444, \"#bd3786\"], [0.5555555555555556, \"#d8576b\"], [0.6666666666666666, \"#ed7953\"], [0.7777777777777778, \"#fb9f3a\"], [0.8888888888888888, \"#fdca26\"], [1.0, \"#f0f921\"]], \"type\": \"surface\"}], \"table\": [{\"cells\": {\"fill\": {\"color\": \"#EBF0F8\"}, \"line\": {\"color\": \"white\"}}, \"header\": {\"fill\": {\"color\": \"#C8D4E3\"}, \"line\": {\"color\": \"white\"}}, \"type\": \"table\"}]}, \"layout\": {\"annotationdefaults\": {\"arrowcolor\": \"#2a3f5f\", \"arrowhead\": 0, \"arrowwidth\": 1}, \"coloraxis\": {\"colorbar\": {\"outlinewidth\": 0, \"ticks\": \"\"}}, \"colorscale\": {\"diverging\": [[0, \"#8e0152\"], [0.1, \"#c51b7d\"], [0.2, \"#de77ae\"], [0.3, \"#f1b6da\"], [0.4, \"#fde0ef\"], [0.5, \"#f7f7f7\"], [0.6, \"#e6f5d0\"], [0.7, \"#b8e186\"], [0.8, \"#7fbc41\"], [0.9, \"#4d9221\"], [1, \"#276419\"]], \"sequential\": [[0.0, \"#0d0887\"], [0.1111111111111111, \"#46039f\"], [0.2222222222222222, \"#7201a8\"], [0.3333333333333333, \"#9c179e\"], [0.4444444444444444, \"#bd3786\"], [0.5555555555555556, \"#d8576b\"], [0.6666666666666666, \"#ed7953\"], [0.7777777777777778, \"#fb9f3a\"], [0.8888888888888888, \"#fdca26\"], [1.0, \"#f0f921\"]], \"sequentialminus\": [[0.0, \"#0d0887\"], [0.1111111111111111, \"#46039f\"], [0.2222222222222222, \"#7201a8\"], [0.3333333333333333, \"#9c179e\"], [0.4444444444444444, \"#bd3786\"], [0.5555555555555556, \"#d8576b\"], [0.6666666666666666, \"#ed7953\"], [0.7777777777777778, \"#fb9f3a\"], [0.8888888888888888, \"#fdca26\"], [1.0, \"#f0f921\"]]}, \"colorway\": [\"#636efa\", \"#EF553B\", \"#00cc96\", \"#ab63fa\", \"#FFA15A\", \"#19d3f3\", \"#FF6692\", \"#B6E880\", \"#FF97FF\", \"#FECB52\"], \"font\": {\"color\": \"#2a3f5f\"}, \"geo\": {\"bgcolor\": \"white\", \"lakecolor\": \"white\", \"landcolor\": \"#E5ECF6\", \"showlakes\": true, \"showland\": true, \"subunitcolor\": \"white\"}, \"hoverlabel\": {\"align\": \"left\"}, \"hovermode\": \"closest\", \"mapbox\": {\"style\": \"light\"}, \"paper_bgcolor\": \"white\", \"plot_bgcolor\": \"#E5ECF6\", \"polar\": {\"angularaxis\": {\"gridcolor\": \"white\", \"linecolor\": \"white\", \"ticks\": \"\"}, \"bgcolor\": \"#E5ECF6\", \"radialaxis\": {\"gridcolor\": \"white\", \"linecolor\": \"white\", \"ticks\": \"\"}}, \"scene\": {\"xaxis\": {\"backgroundcolor\": \"#E5ECF6\", \"gridcolor\": \"white\", \"gridwidth\": 2, \"linecolor\": \"white\", \"showbackground\": true, \"ticks\": \"\", \"zerolinecolor\": \"white\"}, \"yaxis\": {\"backgroundcolor\": \"#E5ECF6\", \"gridcolor\": \"white\", \"gridwidth\": 2, \"linecolor\": \"white\", \"showbackground\": true, \"ticks\": \"\", \"zerolinecolor\": \"white\"}, \"zaxis\": {\"backgroundcolor\": \"#E5ECF6\", \"gridcolor\": \"white\", \"gridwidth\": 2, \"linecolor\": \"white\", \"showbackground\": true, \"ticks\": \"\", \"zerolinecolor\": \"white\"}}, \"shapedefaults\": {\"line\": {\"color\": \"#2a3f5f\"}}, \"ternary\": {\"aaxis\": {\"gridcolor\": \"white\", \"linecolor\": \"white\", \"ticks\": \"\"}, \"baxis\": {\"gridcolor\": \"white\", \"linecolor\": \"white\", \"ticks\": \"\"}, \"bgcolor\": \"#E5ECF6\", \"caxis\": {\"gridcolor\": \"white\", \"linecolor\": \"white\", \"ticks\": \"\"}}, \"title\": {\"x\": 0.05}, \"xaxis\": {\"automargin\": true, \"gridcolor\": \"white\", \"linecolor\": \"white\", \"ticks\": \"\", \"title\": {\"standoff\": 15}, \"zerolinecolor\": \"white\", \"zerolinewidth\": 2}, \"yaxis\": {\"automargin\": true, \"gridcolor\": \"white\", \"linecolor\": \"white\", \"ticks\": \"\", \"title\": {\"standoff\": 15}, \"zerolinecolor\": \"white\", \"zerolinewidth\": 2}}}, \"title\": {\"font\": {\"color\": \"#4D5663\"}, \"text\": \"Drawdown dos portfolios desde 31 Out 2014\"}, \"width\": 970, \"xaxis\": {\"gridcolor\": \"#E1E5ED\", \"showgrid\": true, \"tickfont\": {\"color\": \"#4D5663\"}, \"title\": {\"font\": {\"color\": \"#4D5663\"}, \"text\": \"\"}, \"zerolinecolor\": \"#E1E5ED\"}, \"yaxis\": {\"gridcolor\": \"#E1E5ED\", \"showgrid\": true, \"tickfont\": {\"color\": \"#4D5663\"}, \"title\": {\"font\": {\"color\": \"#4D5663\"}, \"text\": \"Percentagem\"}, \"zerolinecolor\": \"#E1E5ED\"}},\n",
       "                        {\"showLink\": true, \"linkText\": \"Export to plot.ly\", \"plotlyServerURL\": \"https://plot.ly\", \"responsive\": true}\n",
       "                    ).then(function(){\n",
       "                            \n",
       "var gd = document.getElementById('61487643-a972-4fca-9e2a-465e0252e7f9');\n",
       "var x = new MutationObserver(function (mutations, observer) {{\n",
       "        var display = window.getComputedStyle(gd).display;\n",
       "        if (!display || display === 'none') {{\n",
       "            console.log([gd, 'removed!']);\n",
       "            Plotly.purge(gd);\n",
       "            observer.disconnect();\n",
       "        }}\n",
       "}});\n",
       "\n",
       "// Listen for the removal of the full notebook cells\n",
       "var notebookContainer = gd.closest('#notebook-container');\n",
       "if (notebookContainer) {{\n",
       "    x.observe(notebookContainer, {childList: true});\n",
       "}}\n",
       "\n",
       "// Listen for the clearing of the current output cell\n",
       "var outputEl = gd.closest('.output');\n",
       "if (outputEl) {{\n",
       "    x.observe(outputEl, {childList: true});\n",
       "}}\n",
       "\n",
       "                        })\n",
       "                };\n",
       "                });\n",
       "            </script>\n",
       "        </div>"
      ]
     },
     "metadata": {},
     "output_type": "display_data"
    }
   ],
   "source": [
    "#### Computing Drawdowns ####\n",
    "DD = round(compute_drawdowns(fundos_norm), 2)\n",
    "\n",
    "DD.iplot(kind='scatter', title='Drawdown dos portfolios desde 31 Out 2014', yTitle='Percentagem', colors=['royalblue', 'dimgray', 'orange'], dimensions=dimensions)"
   ]
  },
  {
   "cell_type": "code",
   "execution_count": 28,
   "metadata": {},
   "outputs": [
    {
     "data": {
      "image/png": "[encoded data removed]",
      "text/plain": [
       "<Figure size 432x288 with 2 Axes>"
      ]
     },
     "metadata": {},
     "output_type": "display_data"
    }
   ],
   "source": [
    "import seaborn as sns\n",
    "\n",
    "#### Returns ####\n",
    "returns = (fundos_norm / fundos_norm.shift(1)) - 1\n",
    "\n",
    "# Correlation Matrix\n",
    "fig, ax = plt.subplots()\n",
    "fig.set_size_inches(6, 4)\n",
    "\n",
    "sns.heatmap(returns.corr(), annot=True, cmap=\"coolwarm\", linewidths=.2, vmin = -1, vmax = 1, cbar=True, center=0)\n",
    "plt.yticks(rotation=360)\n",
    "plt.title('Matrix de correlação dos retornos')\n",
    "plt.show()"
   ]
  },
  {
   "cell_type": "markdown",
   "metadata": {},
   "source": [
    "### Valores de R quadrado (Coeficiente de determinação) da Casa de Investimentos"
   ]
  },
  {
   "cell_type": "code",
   "execution_count": 31,
   "metadata": {},
   "outputs": [
    {
     "data": {
      "text/html": [
       "<div>\n",
       "<style scoped>\n",
       "    .dataframe tbody tr th:only-of-type {\n",
       "        vertical-align: middle;\n",
       "    }\n",
       "\n",
       "    .dataframe tbody tr th {\n",
       "        vertical-align: top;\n",
       "    }\n",
       "\n",
       "    .dataframe thead th {\n",
       "        text-align: right;\n",
       "    }\n",
       "</style>\n",
       "<table border=\"1\" class=\"dataframe\">\n",
       "  <thead>\n",
       "    <tr style=\"text-align: right;\">\n",
       "      <th></th>\n",
       "      <th>Cdi</th>\n",
       "      <th>IWDA</th>\n",
       "      <th>IS3S</th>\n",
       "    </tr>\n",
       "  </thead>\n",
       "  <tbody>\n",
       "    <tr>\n",
       "      <th>Cdi</th>\n",
       "      <td>1.00</td>\n",
       "      <td>0.42</td>\n",
       "      <td>0.84</td>\n",
       "    </tr>\n",
       "  </tbody>\n",
       "</table>\n",
       "</div>"
      ],
      "text/plain": [
       "     Cdi  IWDA  IS3S\n",
       "Cdi 1.00  0.42  0.84"
      ]
     },
     "execution_count": 31,
     "metadata": {},
     "output_type": "execute_result"
    }
   ],
   "source": [
    "import statsmodels.api as sm\n",
    "\n",
    "compute_r2_table(fundos_norm, fundos_norm['Cdi'])"
   ]
  },
  {
   "cell_type": "markdown",
   "metadata": {},
   "source": [
    "Embora a correlação entre o retorno dos 3 activos seja semelhante o R^2 bastante superior da case de investimentos em relação ao IS3S mostra que há uma mais elevada relação da casa de investimento com o value (usando o ETF de value como proxy)."
   ]
  },
  {
   "cell_type": "markdown",
   "metadata": {},
   "source": [
    "    - R-Squared is a statistical measure of fit that indicates how much variation of a dependent variable is explained by the independent variable(s) in a regression model.\n",
    "    - In investing, R-squared is generally interpreted as the percentage of a fund or security's movements that can be explained by movements in a benchmark index.\n",
    "    - An R-squared of 100% means that all movements of a security (or other dependent variable) are completely explained by movements in the index (or the independent variable(s) you are interested in)."
   ]
  },
  {
   "cell_type": "markdown",
   "metadata": {},
   "source": [
    "### Tabela de performance desde 31 Out 2014"
   ]
  },
  {
   "cell_type": "code",
   "execution_count": 32,
   "metadata": {},
   "outputs": [
    {
     "data": {
      "text/markdown": [
       "**Performance from 2014-10-31 to 2020-08-31 (≈ 5.8 years)**"
      ],
      "text/plain": [
       "<IPython.core.display.Markdown object>"
      ]
     },
     "metadata": {},
     "output_type": "display_data"
    },
    {
     "data": {
      "text/html": [
       "<div>\n",
       "<style scoped>\n",
       "    .dataframe tbody tr th:only-of-type {\n",
       "        vertical-align: middle;\n",
       "    }\n",
       "\n",
       "    .dataframe tbody tr th {\n",
       "        vertical-align: top;\n",
       "    }\n",
       "\n",
       "    .dataframe thead th {\n",
       "        text-align: right;\n",
       "    }\n",
       "</style>\n",
       "<table border=\"1\" class=\"dataframe\">\n",
       "  <thead>\n",
       "    <tr style=\"text-align: right;\">\n",
       "      <th></th>\n",
       "      <th>CAGR</th>\n",
       "      <th>Return</th>\n",
       "      <th>StdDev</th>\n",
       "      <th>Sharpe</th>\n",
       "      <th>Max DD</th>\n",
       "      <th>MAR</th>\n",
       "    </tr>\n",
       "  </thead>\n",
       "  <tbody>\n",
       "    <tr>\n",
       "      <th>Cdi</th>\n",
       "      <td>2.47%</td>\n",
       "      <td>15.34%</td>\n",
       "      <td>17.09%</td>\n",
       "      <td>0.14</td>\n",
       "      <td>-28.65%</td>\n",
       "      <td>0.09</td>\n",
       "    </tr>\n",
       "    <tr>\n",
       "      <th>IWDA</th>\n",
       "      <td>9.40%</td>\n",
       "      <td>68.97%</td>\n",
       "      <td>13.77%</td>\n",
       "      <td>0.68</td>\n",
       "      <td>-18.61%</td>\n",
       "      <td>0.50</td>\n",
       "    </tr>\n",
       "    <tr>\n",
       "      <th>IS3S</th>\n",
       "      <td>2.45%</td>\n",
       "      <td>15.16%</td>\n",
       "      <td>15.46%</td>\n",
       "      <td>0.16</td>\n",
       "      <td>-23.56%</td>\n",
       "      <td>0.10</td>\n",
       "    </tr>\n",
       "  </tbody>\n",
       "</table>\n",
       "</div>"
      ],
      "text/plain": [
       "       CAGR  Return  StdDev  Sharpe   Max DD  MAR\n",
       "Cdi   2.47%  15.34%  17.09%    0.14  -28.65% 0.09\n",
       "IWDA  9.40%  68.97%  13.77%    0.68  -18.61% 0.50\n",
       "IS3S  2.45%  15.16%  15.46%    0.16  -23.56% 0.10"
      ]
     },
     "execution_count": 32,
     "metadata": {},
     "output_type": "execute_result"
    }
   ],
   "source": [
    "compute_performance_table(fundos_norm, freq='months')"
   ]
  },
  {
   "cell_type": "markdown",
   "metadata": {},
   "source": [
    "- **CAGR:** Retorno geométrico anualizado do portfolio;\n",
    "- **StdDev:** Desvio padrão anualizado do portfolio (quanto mais alto mais risco tem a carteira);\n",
    "- **Sharpe:** CAGR/StdDev (quanto mais alto melhor);\n",
    "- **Max DD:** Maior queda do portfolio;\n",
    "- **MAR:** CAGR/Max DD (quanto mais alto melhor)."
   ]
  },
  {
   "cell_type": "code",
   "execution_count": 33,
   "metadata": {},
   "outputs": [
    {
     "data": {
      "image/png": "[encoded data removed]",
      "text/plain": [
       "<Figure size 720x252 with 1 Axes>"
      ]
     },
     "metadata": {},
     "output_type": "display_data"
    }
   ],
   "source": [
    "# Resampling to yearly (business year)\n",
    "yearly_quotes_fundos = fundos_norm.resample('BA').last()\n",
    "\n",
    "# Adding first quote (only if start is in the middle of the year) ### Falta trabalho para automatizar #####\n",
    "yearly_quotes_fundos = pd.concat([fundos_norm.iloc[:1], yearly_quotes_fundos])\n",
    "\n",
    "# Returns\n",
    "yearly_returns_fundos = ((yearly_quotes_fundos / yearly_quotes_fundos.shift(1)) - 1) * 100\n",
    "yearly_returns_fundos = yearly_returns_fundos.set_index([list(range(fundos_norm.index[0].year - 1, fundos_norm.index[-1].year + 1))]).drop(fundos_norm.index[0].year - 1)\n",
    "\n",
    "# Inverter o sentido das rows no dataframe ####\n",
    "yearly_returns_fundos = yearly_returns_fundos / 100 # A alterar para incluir 2001\n",
    "\n",
    "# Sns heatmap\n",
    "fig, ax = plt.subplots()\n",
    "fig.set_size_inches(10, 3.5)\n",
    "\n",
    "ax = sns.heatmap(yearly_returns_fundos.transpose(), annot=True, cmap=\"RdYlGn\", linewidths=.2, cbar=False, center=0, fmt='.2%', vmax=0.25)\n",
    "plt.yticks(rotation=360)\n",
    "plt.title('Performance anual por fundo')\n",
    "plt.show()"
   ]
  },
  {
   "cell_type": "markdown",
   "metadata": {},
   "source": [
    "Performance de 2014 só diz respeito ao periodo após 31 Out 2014."
   ]
  },
  {
   "cell_type": "markdown",
   "metadata": {},
   "source": [
    "### One year performance"
   ]
  },
  {
   "cell_type": "code",
   "execution_count": 34,
   "metadata": {},
   "outputs": [
    {
     "data": {
      "text/markdown": [
       "**Performance from 2019-08-30 to 2020-08-31 (≈ 1.0 years)**"
      ],
      "text/plain": [
       "<IPython.core.display.Markdown object>"
      ]
     },
     "metadata": {},
     "output_type": "display_data"
    },
    {
     "data": {
      "text/html": [
       "<div>\n",
       "<style scoped>\n",
       "    .dataframe tbody tr th:only-of-type {\n",
       "        vertical-align: middle;\n",
       "    }\n",
       "\n",
       "    .dataframe tbody tr th {\n",
       "        vertical-align: top;\n",
       "    }\n",
       "\n",
       "    .dataframe thead th {\n",
       "        text-align: right;\n",
       "    }\n",
       "</style>\n",
       "<table border=\"1\" class=\"dataframe\">\n",
       "  <thead>\n",
       "    <tr style=\"text-align: right;\">\n",
       "      <th></th>\n",
       "      <th>CAGR</th>\n",
       "      <th>Return</th>\n",
       "      <th>StdDev</th>\n",
       "      <th>Sharpe</th>\n",
       "      <th>Max DD</th>\n",
       "      <th>MAR</th>\n",
       "    </tr>\n",
       "  </thead>\n",
       "  <tbody>\n",
       "    <tr>\n",
       "      <th>Cdi</th>\n",
       "      <td>-2.21%</td>\n",
       "      <td>-2.23%</td>\n",
       "      <td>30.81%</td>\n",
       "      <td>-0.07</td>\n",
       "      <td>-28.65%</td>\n",
       "      <td>-0.08</td>\n",
       "    </tr>\n",
       "    <tr>\n",
       "      <th>IWDA</th>\n",
       "      <td>7.40%</td>\n",
       "      <td>7.47%</td>\n",
       "      <td>20.57%</td>\n",
       "      <td>0.36</td>\n",
       "      <td>-18.61%</td>\n",
       "      <td>0.40</td>\n",
       "    </tr>\n",
       "    <tr>\n",
       "      <th>IS3S</th>\n",
       "      <td>-11.21%</td>\n",
       "      <td>-11.30%</td>\n",
       "      <td>23.18%</td>\n",
       "      <td>-0.48</td>\n",
       "      <td>-23.56%</td>\n",
       "      <td>-0.48</td>\n",
       "    </tr>\n",
       "  </tbody>\n",
       "</table>\n",
       "</div>"
      ],
      "text/plain": [
       "         CAGR   Return  StdDev  Sharpe   Max DD   MAR\n",
       "Cdi    -2.21%   -2.23%  30.81%   -0.07  -28.65% -0.08\n",
       "IWDA    7.40%    7.47%  20.57%    0.36  -18.61%  0.40\n",
       "IS3S  -11.21%  -11.30%  23.18%   -0.48  -23.56% -0.48"
      ]
     },
     "execution_count": 34,
     "metadata": {},
     "output_type": "execute_result"
    }
   ],
   "source": [
    "one_year = filter_by_date(fundos_norm, years=1)\n",
    "compute_performance_table(one_year, freq='months')"
   ]
  },
  {
   "cell_type": "markdown",
   "metadata": {},
   "source": [
    "### Three year performance"
   ]
  },
  {
   "cell_type": "code",
   "execution_count": 35,
   "metadata": {},
   "outputs": [
    {
     "data": {
      "text/markdown": [
       "**Performance from 2017-08-31 to 2020-08-31 (≈ 3.0 years)**"
      ],
      "text/plain": [
       "<IPython.core.display.Markdown object>"
      ]
     },
     "metadata": {},
     "output_type": "display_data"
    },
    {
     "data": {
      "text/html": [
       "<div>\n",
       "<style scoped>\n",
       "    .dataframe tbody tr th:only-of-type {\n",
       "        vertical-align: middle;\n",
       "    }\n",
       "\n",
       "    .dataframe tbody tr th {\n",
       "        vertical-align: top;\n",
       "    }\n",
       "\n",
       "    .dataframe thead th {\n",
       "        text-align: right;\n",
       "    }\n",
       "</style>\n",
       "<table border=\"1\" class=\"dataframe\">\n",
       "  <thead>\n",
       "    <tr style=\"text-align: right;\">\n",
       "      <th></th>\n",
       "      <th>CAGR</th>\n",
       "      <th>Return</th>\n",
       "      <th>StdDev</th>\n",
       "      <th>Sharpe</th>\n",
       "      <th>Max DD</th>\n",
       "      <th>MAR</th>\n",
       "    </tr>\n",
       "  </thead>\n",
       "  <tbody>\n",
       "    <tr>\n",
       "      <th>Cdi</th>\n",
       "      <td>0.90%</td>\n",
       "      <td>2.74%</td>\n",
       "      <td>20.23%</td>\n",
       "      <td>0.04</td>\n",
       "      <td>-28.65%</td>\n",
       "      <td>0.03</td>\n",
       "    </tr>\n",
       "    <tr>\n",
       "      <th>IWDA</th>\n",
       "      <td>9.64%</td>\n",
       "      <td>31.86%</td>\n",
       "      <td>13.84%</td>\n",
       "      <td>0.70</td>\n",
       "      <td>-18.61%</td>\n",
       "      <td>0.52</td>\n",
       "    </tr>\n",
       "    <tr>\n",
       "      <th>IS3S</th>\n",
       "      <td>-1.74%</td>\n",
       "      <td>-5.15%</td>\n",
       "      <td>15.69%</td>\n",
       "      <td>-0.11</td>\n",
       "      <td>-23.56%</td>\n",
       "      <td>-0.07</td>\n",
       "    </tr>\n",
       "  </tbody>\n",
       "</table>\n",
       "</div>"
      ],
      "text/plain": [
       "        CAGR  Return  StdDev  Sharpe   Max DD   MAR\n",
       "Cdi    0.90%   2.74%  20.23%    0.04  -28.65%  0.03\n",
       "IWDA   9.64%  31.86%  13.84%    0.70  -18.61%  0.52\n",
       "IS3S  -1.74%  -5.15%  15.69%   -0.11  -23.56% -0.07"
      ]
     },
     "execution_count": 35,
     "metadata": {},
     "output_type": "execute_result"
    }
   ],
   "source": [
    "three_years = filter_by_date(fundos_norm, years=3)\n",
    "compute_performance_table(three_years, freq='months')"
   ]
  },
  {
   "cell_type": "markdown",
   "metadata": {},
   "source": [
    "### Five year performance"
   ]
  },
  {
   "cell_type": "code",
   "execution_count": 36,
   "metadata": {},
   "outputs": [
    {
     "data": {
      "text/markdown": [
       "**Performance from 2015-08-31 to 2020-08-31 (≈ 5.0 years)**"
      ],
      "text/plain": [
       "<IPython.core.display.Markdown object>"
      ]
     },
     "metadata": {},
     "output_type": "display_data"
    },
    {
     "data": {
      "text/html": [
       "<div>\n",
       "<style scoped>\n",
       "    .dataframe tbody tr th:only-of-type {\n",
       "        vertical-align: middle;\n",
       "    }\n",
       "\n",
       "    .dataframe tbody tr th {\n",
       "        vertical-align: top;\n",
       "    }\n",
       "\n",
       "    .dataframe thead th {\n",
       "        text-align: right;\n",
       "    }\n",
       "</style>\n",
       "<table border=\"1\" class=\"dataframe\">\n",
       "  <thead>\n",
       "    <tr style=\"text-align: right;\">\n",
       "      <th></th>\n",
       "      <th>CAGR</th>\n",
       "      <th>Return</th>\n",
       "      <th>StdDev</th>\n",
       "      <th>Sharpe</th>\n",
       "      <th>Max DD</th>\n",
       "      <th>MAR</th>\n",
       "    </tr>\n",
       "  </thead>\n",
       "  <tbody>\n",
       "    <tr>\n",
       "      <th>Cdi</th>\n",
       "      <td>2.58%</td>\n",
       "      <td>13.61%</td>\n",
       "      <td>17.62%</td>\n",
       "      <td>0.15</td>\n",
       "      <td>-28.65%</td>\n",
       "      <td>0.09</td>\n",
       "    </tr>\n",
       "    <tr>\n",
       "      <th>IWDA</th>\n",
       "      <td>9.02%</td>\n",
       "      <td>54.09%</td>\n",
       "      <td>13.43%</td>\n",
       "      <td>0.67</td>\n",
       "      <td>-18.61%</td>\n",
       "      <td>0.48</td>\n",
       "    </tr>\n",
       "    <tr>\n",
       "      <th>IS3S</th>\n",
       "      <td>1.16%</td>\n",
       "      <td>5.97%</td>\n",
       "      <td>15.28%</td>\n",
       "      <td>0.08</td>\n",
       "      <td>-23.56%</td>\n",
       "      <td>0.05</td>\n",
       "    </tr>\n",
       "  </tbody>\n",
       "</table>\n",
       "</div>"
      ],
      "text/plain": [
       "       CAGR  Return  StdDev  Sharpe   Max DD  MAR\n",
       "Cdi   2.58%  13.61%  17.62%    0.15  -28.65% 0.09\n",
       "IWDA  9.02%  54.09%  13.43%    0.67  -18.61% 0.48\n",
       "IS3S  1.16%   5.97%  15.28%    0.08  -23.56% 0.05"
      ]
     },
     "execution_count": 36,
     "metadata": {},
     "output_type": "execute_result"
    }
   ],
   "source": [
    "five_years = filter_by_date(fundos_norm, years=5)\n",
    "compute_performance_table(five_years, freq='months')"
   ]
  },
  {
   "cell_type": "markdown",
   "metadata": {},
   "source": [
    "### Tabela de drawdowns da Casa de Investimentos"
   ]
  },
  {
   "cell_type": "code",
   "execution_count": 37,
   "metadata": {},
   "outputs": [
    {
     "data": {
      "text/html": [
       "<div>\n",
       "<style scoped>\n",
       "    .dataframe tbody tr th:only-of-type {\n",
       "        vertical-align: middle;\n",
       "    }\n",
       "\n",
       "    .dataframe tbody tr th {\n",
       "        vertical-align: top;\n",
       "    }\n",
       "\n",
       "    .dataframe thead th {\n",
       "        text-align: right;\n",
       "    }\n",
       "</style>\n",
       "<table border=\"1\" class=\"dataframe\">\n",
       "  <thead>\n",
       "    <tr style=\"text-align: right;\">\n",
       "      <th></th>\n",
       "      <th>Begin</th>\n",
       "      <th>End</th>\n",
       "      <th>Depth</th>\n",
       "      <th>Length</th>\n",
       "    </tr>\n",
       "  </thead>\n",
       "  <tbody>\n",
       "    <tr>\n",
       "      <th>1</th>\n",
       "      <td>2019-11-29</td>\n",
       "      <td>N/A</td>\n",
       "      <td>-28.65%</td>\n",
       "      <td>0 Years, 9 Months, 2 Days</td>\n",
       "    </tr>\n",
       "    <tr>\n",
       "      <th>2</th>\n",
       "      <td>2015-03-31</td>\n",
       "      <td>2016-12-30</td>\n",
       "      <td>-16.07%</td>\n",
       "      <td>1 Years, 8 Months, 29 Days</td>\n",
       "    </tr>\n",
       "    <tr>\n",
       "      <th>3</th>\n",
       "      <td>2017-03-31</td>\n",
       "      <td>2019-04-30</td>\n",
       "      <td>-9.72%</td>\n",
       "      <td>2 Years, 0 Months, 30 Days</td>\n",
       "    </tr>\n",
       "    <tr>\n",
       "      <th>4</th>\n",
       "      <td>2019-04-30</td>\n",
       "      <td>2019-11-29</td>\n",
       "      <td>-8.76%</td>\n",
       "      <td>0 Years, 6 Months, 30 Days</td>\n",
       "    </tr>\n",
       "    <tr>\n",
       "      <th>5</th>\n",
       "      <td>2014-10-31</td>\n",
       "      <td>2014-11-28</td>\n",
       "      <td>0.0%</td>\n",
       "      <td>0 Years, 0 Months, 28 Days</td>\n",
       "    </tr>\n",
       "  </tbody>\n",
       "</table>\n",
       "</div>"
      ],
      "text/plain": [
       "        Begin         End    Depth                      Length\n",
       "1  2019-11-29         N/A  -28.65%   0 Years, 9 Months, 2 Days\n",
       "2  2015-03-31  2016-12-30  -16.07%  1 Years, 8 Months, 29 Days\n",
       "3  2017-03-31  2019-04-30   -9.72%  2 Years, 0 Months, 30 Days\n",
       "4  2019-04-30  2019-11-29   -8.76%  0 Years, 6 Months, 30 Days\n",
       "5  2014-10-31  2014-11-28     0.0%  0 Years, 0 Months, 28 Days"
      ]
     },
     "execution_count": 37,
     "metadata": {},
     "output_type": "execute_result"
    }
   ],
   "source": [
    "compute_drawdowns_table(fundos_norm[['Cdi']])"
   ]
  },
  {
   "cell_type": "markdown",
   "metadata": {},
   "source": [
    "### Tabela de drawdowns do IWDA"
   ]
  },
  {
   "cell_type": "code",
   "execution_count": 38,
   "metadata": {},
   "outputs": [
    {
     "data": {
      "text/html": [
       "<div>\n",
       "<style scoped>\n",
       "    .dataframe tbody tr th:only-of-type {\n",
       "        vertical-align: middle;\n",
       "    }\n",
       "\n",
       "    .dataframe tbody tr th {\n",
       "        vertical-align: top;\n",
       "    }\n",
       "\n",
       "    .dataframe thead th {\n",
       "        text-align: right;\n",
       "    }\n",
       "</style>\n",
       "<table border=\"1\" class=\"dataframe\">\n",
       "  <thead>\n",
       "    <tr style=\"text-align: right;\">\n",
       "      <th></th>\n",
       "      <th>Begin</th>\n",
       "      <th>End</th>\n",
       "      <th>Depth</th>\n",
       "      <th>Length</th>\n",
       "    </tr>\n",
       "  </thead>\n",
       "  <tbody>\n",
       "    <tr>\n",
       "      <th>1</th>\n",
       "      <td>2020-01-31</td>\n",
       "      <td>N/A</td>\n",
       "      <td>-18.61%</td>\n",
       "      <td>0 Years, 7 Months, 0 Days</td>\n",
       "    </tr>\n",
       "    <tr>\n",
       "      <th>2</th>\n",
       "      <td>2015-03-31</td>\n",
       "      <td>2015-11-30</td>\n",
       "      <td>-11.93%</td>\n",
       "      <td>0 Years, 7 Months, 30 Days</td>\n",
       "    </tr>\n",
       "    <tr>\n",
       "      <th>3</th>\n",
       "      <td>2015-11-30</td>\n",
       "      <td>2016-11-30</td>\n",
       "      <td>-10.54%</td>\n",
       "      <td>1 Years, 0 Months, 0 Days</td>\n",
       "    </tr>\n",
       "    <tr>\n",
       "      <th>4</th>\n",
       "      <td>2018-09-28</td>\n",
       "      <td>2019-03-29</td>\n",
       "      <td>-5.54%</td>\n",
       "      <td>0 Years, 6 Months, 1 Days</td>\n",
       "    </tr>\n",
       "    <tr>\n",
       "      <th>5</th>\n",
       "      <td>2019-04-30</td>\n",
       "      <td>2019-07-31</td>\n",
       "      <td>-4.77%</td>\n",
       "      <td>0 Years, 3 Months, 1 Days</td>\n",
       "    </tr>\n",
       "  </tbody>\n",
       "</table>\n",
       "</div>"
      ],
      "text/plain": [
       "        Begin         End    Depth                      Length\n",
       "1  2020-01-31         N/A  -18.61%   0 Years, 7 Months, 0 Days\n",
       "2  2015-03-31  2015-11-30  -11.93%  0 Years, 7 Months, 30 Days\n",
       "3  2015-11-30  2016-11-30  -10.54%   1 Years, 0 Months, 0 Days\n",
       "4  2018-09-28  2019-03-29   -5.54%   0 Years, 6 Months, 1 Days\n",
       "5  2019-04-30  2019-07-31   -4.77%   0 Years, 3 Months, 1 Days"
      ]
     },
     "execution_count": 38,
     "metadata": {},
     "output_type": "execute_result"
    }
   ],
   "source": [
    "compute_drawdowns_table(fundos_norm[['IWDA']])"
   ]
  },
  {
   "cell_type": "markdown",
   "metadata": {},
   "source": [
    "### Tabela de drawdowns do IS3S"
   ]
  },
  {
   "cell_type": "code",
   "execution_count": 39,
   "metadata": {},
   "outputs": [
    {
     "data": {
      "text/html": [
       "<div>\n",
       "<style scoped>\n",
       "    .dataframe tbody tr th:only-of-type {\n",
       "        vertical-align: middle;\n",
       "    }\n",
       "\n",
       "    .dataframe tbody tr th {\n",
       "        vertical-align: top;\n",
       "    }\n",
       "\n",
       "    .dataframe thead th {\n",
       "        text-align: right;\n",
       "    }\n",
       "</style>\n",
       "<table border=\"1\" class=\"dataframe\">\n",
       "  <thead>\n",
       "    <tr style=\"text-align: right;\">\n",
       "      <th></th>\n",
       "      <th>Begin</th>\n",
       "      <th>End</th>\n",
       "      <th>Depth</th>\n",
       "      <th>Length</th>\n",
       "    </tr>\n",
       "  </thead>\n",
       "  <tbody>\n",
       "    <tr>\n",
       "      <th>1</th>\n",
       "      <td>2019-11-29</td>\n",
       "      <td>N/A</td>\n",
       "      <td>-23.56%</td>\n",
       "      <td>0 Years, 9 Months, 2 Days</td>\n",
       "    </tr>\n",
       "    <tr>\n",
       "      <th>2</th>\n",
       "      <td>2015-05-29</td>\n",
       "      <td>2016-12-30</td>\n",
       "      <td>-16.94%</td>\n",
       "      <td>1 Years, 7 Months, 1 Days</td>\n",
       "    </tr>\n",
       "    <tr>\n",
       "      <th>3</th>\n",
       "      <td>2018-09-28</td>\n",
       "      <td>2019-09-30</td>\n",
       "      <td>-8.38%</td>\n",
       "      <td>1 Years, 0 Months, 2 Days</td>\n",
       "    </tr>\n",
       "    <tr>\n",
       "      <th>4</th>\n",
       "      <td>2017-02-28</td>\n",
       "      <td>2017-11-30</td>\n",
       "      <td>-5.25%</td>\n",
       "      <td>0 Years, 9 Months, 2 Days</td>\n",
       "    </tr>\n",
       "    <tr>\n",
       "      <th>5</th>\n",
       "      <td>2018-01-31</td>\n",
       "      <td>2018-07-31</td>\n",
       "      <td>-2.16%</td>\n",
       "      <td>0 Years, 6 Months, 0 Days</td>\n",
       "    </tr>\n",
       "  </tbody>\n",
       "</table>\n",
       "</div>"
      ],
      "text/plain": [
       "        Begin         End    Depth                     Length\n",
       "1  2019-11-29         N/A  -23.56%  0 Years, 9 Months, 2 Days\n",
       "2  2015-05-29  2016-12-30  -16.94%  1 Years, 7 Months, 1 Days\n",
       "3  2018-09-28  2019-09-30   -8.38%  1 Years, 0 Months, 2 Days\n",
       "4  2017-02-28  2017-11-30   -5.25%  0 Years, 9 Months, 2 Days\n",
       "5  2018-01-31  2018-07-31   -2.16%  0 Years, 6 Months, 0 Days"
      ]
     },
     "execution_count": 39,
     "metadata": {},
     "output_type": "execute_result"
    }
   ],
   "source": [
    "compute_drawdowns_table(fundos_norm[['IS3S']])"
   ]
  },
  {
   "cell_type": "code",
   "execution_count": 40,
   "metadata": {},
   "outputs": [
    {
     "data": {
      "application/vnd.plotly.v1+json": {
       "config": {
        "linkText": "Export to plot.ly",
        "plotlyServerURL": "https://plot.ly",
        "showLink": true
       },
       "data": [
        {
         "line": {
          "color": "rgba(65, 105, 225, 1.0)",
          "dash": "solid",
          "shape": "linear",
          "width": 1.3
         },
         "mode": "lines",
         "name": "None",
         "text": "",
         "type": "scatter",
         "x": [
          "2014-10-31",
          "2014-11-28",
          "2015-01-30",
          "2015-02-27",
          "2015-03-31",
          "2015-04-30",
          "2015-05-29",
          "2015-06-30",
          "2015-07-31",
          "2015-08-31",
          "2015-09-30",
          "2015-10-30",
          "2015-11-30",
          "2016-01-29",
          "2016-02-29",
          "2016-03-31",
          "2016-04-29",
          "2016-05-31",
          "2016-06-30",
          "2016-07-29",
          "2016-08-31",
          "2016-09-30",
          "2016-10-31",
          "2016-11-30",
          "2016-12-30",
          "2017-01-31",
          "2017-02-28",
          "2017-03-31",
          "2017-04-28",
          "2017-05-31",
          "2017-06-30",
          "2017-07-31",
          "2017-08-31",
          "2017-09-29",
          "2017-11-30",
          "2017-12-29",
          "2018-01-31",
          "2018-02-28",
          "2018-04-30",
          "2018-05-31",
          "2018-06-29",
          "2018-07-31",
          "2018-08-31",
          "2018-09-28",
          "2018-10-31",
          "2018-11-30",
          "2019-01-31",
          "2019-02-28",
          "2019-03-29",
          "2019-04-30",
          "2019-05-31",
          "2019-06-28",
          "2019-07-31",
          "2019-08-30",
          "2019-09-30",
          "2019-10-31",
          "2019-11-29",
          "2020-01-31",
          "2020-02-28",
          "2020-03-31",
          "2020-04-30",
          "2020-05-29",
          "2020-06-30",
          "2020-07-31",
          "2020-08-31"
         ],
         "y": [
          1,
          0.999,
          0.994,
          0.975,
          0.959,
          0.955,
          0.929,
          0.937,
          0.923,
          0.934,
          0.936,
          0.923,
          0.924,
          0.947,
          0.952,
          0.982,
          0.987,
          0.961,
          0.978,
          0.964,
          0.948,
          0.935,
          0.938,
          0.952,
          0.945,
          0.962,
          0.954,
          0.961,
          0.952,
          0.942,
          0.942,
          0.938,
          0.925,
          0.906,
          0.902,
          0.898,
          0.904,
          0.902,
          0.892,
          0.893,
          0.912,
          0.9,
          0.904,
          0.887,
          0.87,
          0.849,
          0.86,
          0.852,
          0.859,
          0.91,
          0.897,
          0.905,
          0.904,
          0.909,
          0.887,
          0.885,
          0.902,
          0.913,
          0.911,
          0.842,
          0.883,
          0.901,
          0.919,
          0.968,
          1.002
         ]
        }
       ],
       "layout": {
        "height": 500,
        "legend": {
         "bgcolor": "#F5F6F9",
         "font": {
          "color": "#4D5663"
         }
        },
        "paper_bgcolor": "#F5F6F9",
        "plot_bgcolor": "#F5F6F9",
        "template": {
         "data": {
          "bar": [
           {
            "error_x": {
             "color": "#2a3f5f"
            },
            "error_y": {
             "color": "#2a3f5f"
            },
            "marker": {
             "line": {
              "color": "#E5ECF6",
              "width": 0.5
             }
            },
            "type": "bar"
           }
          ],
          "barpolar": [
           {
            "marker": {
             "line": {
              "color": "#E5ECF6",
              "width": 0.5
             }
            },
            "type": "barpolar"
           }
          ],
          "carpet": [
           {
            "aaxis": {
             "endlinecolor": "#2a3f5f",
             "gridcolor": "white",
             "linecolor": "white",
             "minorgridcolor": "white",
             "startlinecolor": "#2a3f5f"
            },
            "baxis": {
             "endlinecolor": "#2a3f5f",
             "gridcolor": "white",
             "linecolor": "white",
             "minorgridcolor": "white",
             "startlinecolor": "#2a3f5f"
            },
            "type": "carpet"
           }
          ],
          "choropleth": [
           {
            "colorbar": {
             "outlinewidth": 0,
             "ticks": ""
            },
            "type": "choropleth"
           }
          ],
          "contour": [
           {
            "colorbar": {
             "outlinewidth": 0,
             "ticks": ""
            },
            "colorscale": [
             [
              0,
              "#0d0887"
             ],
             [
              0.1111111111111111,
              "#46039f"
             ],
             [
              0.2222222222222222,
              "#7201a8"
             ],
             [
              0.3333333333333333,
              "#9c179e"
             ],
             [
              0.4444444444444444,
              "#bd3786"
             ],
             [
              0.5555555555555556,
              "#d8576b"
             ],
             [
              0.6666666666666666,
              "#ed7953"
             ],
             [
              0.7777777777777778,
              "#fb9f3a"
             ],
             [
              0.8888888888888888,
              "#fdca26"
             ],
             [
              1,
              "#f0f921"
             ]
            ],
            "type": "contour"
           }
          ],
          "contourcarpet": [
           {
            "colorbar": {
             "outlinewidth": 0,
             "ticks": ""
            },
            "type": "contourcarpet"
           }
          ],
          "heatmap": [
           {
            "colorbar": {
             "outlinewidth": 0,
             "ticks": ""
            },
            "colorscale": [
             [
              0,
              "#0d0887"
             ],
             [
              0.1111111111111111,
              "#46039f"
             ],
             [
              0.2222222222222222,
              "#7201a8"
             ],
             [
              0.3333333333333333,
              "#9c179e"
             ],
             [
              0.4444444444444444,
              "#bd3786"
             ],
             [
              0.5555555555555556,
              "#d8576b"
             ],
             [
              0.6666666666666666,
              "#ed7953"
             ],
             [
              0.7777777777777778,
              "#fb9f3a"
             ],
             [
              0.8888888888888888,
              "#fdca26"
             ],
             [
              1,
              "#f0f921"
             ]
            ],
            "type": "heatmap"
           }
          ],
          "heatmapgl": [
           {
            "colorbar": {
             "outlinewidth": 0,
             "ticks": ""
            },
            "colorscale": [
             [
              0,
              "#0d0887"
             ],
             [
              0.1111111111111111,
              "#46039f"
             ],
             [
              0.2222222222222222,
              "#7201a8"
             ],
             [
              0.3333333333333333,
              "#9c179e"
             ],
             [
              0.4444444444444444,
              "#bd3786"
             ],
             [
              0.5555555555555556,
              "#d8576b"
             ],
             [
              0.6666666666666666,
              "#ed7953"
             ],
             [
              0.7777777777777778,
              "#fb9f3a"
             ],
             [
              0.8888888888888888,
              "#fdca26"
             ],
             [
              1,
              "#f0f921"
             ]
            ],
            "type": "heatmapgl"
           }
          ],
          "histogram": [
           {
            "marker": {
             "colorbar": {
              "outlinewidth": 0,
              "ticks": ""
             }
            },
            "type": "histogram"
           }
          ],
          "histogram2d": [
           {
            "colorbar": {
             "outlinewidth": 0,
             "ticks": ""
            },
            "colorscale": [
             [
              0,
              "#0d0887"
             ],
             [
              0.1111111111111111,
              "#46039f"
             ],
             [
              0.2222222222222222,
              "#7201a8"
             ],
             [
              0.3333333333333333,
              "#9c179e"
             ],
             [
              0.4444444444444444,
              "#bd3786"
             ],
             [
              0.5555555555555556,
              "#d8576b"
             ],
             [
              0.6666666666666666,
              "#ed7953"
             ],
             [
              0.7777777777777778,
              "#fb9f3a"
             ],
             [
              0.8888888888888888,
              "#fdca26"
             ],
             [
              1,
              "#f0f921"
             ]
            ],
            "type": "histogram2d"
           }
          ],
          "histogram2dcontour": [
           {
            "colorbar": {
             "outlinewidth": 0,
             "ticks": ""
            },
            "colorscale": [
             [
              0,
              "#0d0887"
             ],
             [
              0.1111111111111111,
              "#46039f"
             ],
             [
              0.2222222222222222,
              "#7201a8"
             ],
             [
              0.3333333333333333,
              "#9c179e"
             ],
             [
              0.4444444444444444,
              "#bd3786"
             ],
             [
              0.5555555555555556,
              "#d8576b"
             ],
             [
              0.6666666666666666,
              "#ed7953"
             ],
             [
              0.7777777777777778,
              "#fb9f3a"
             ],
             [
              0.8888888888888888,
              "#fdca26"
             ],
             [
              1,
              "#f0f921"
             ]
            ],
            "type": "histogram2dcontour"
           }
          ],
          "mesh3d": [
           {
            "colorbar": {
             "outlinewidth": 0,
             "ticks": ""
            },
            "type": "mesh3d"
           }
          ],
          "parcoords": [
           {
            "line": {
             "colorbar": {
              "outlinewidth": 0,
              "ticks": ""
             }
            },
            "type": "parcoords"
           }
          ],
          "pie": [
           {
            "automargin": true,
            "type": "pie"
           }
          ],
          "scatter": [
           {
            "marker": {
             "colorbar": {
              "outlinewidth": 0,
              "ticks": ""
             }
            },
            "type": "scatter"
           }
          ],
          "scatter3d": [
           {
            "line": {
             "colorbar": {
              "outlinewidth": 0,
              "ticks": ""
             }
            },
            "marker": {
             "colorbar": {
              "outlinewidth": 0,
              "ticks": ""
             }
            },
            "type": "scatter3d"
           }
          ],
          "scattercarpet": [
           {
            "marker": {
             "colorbar": {
              "outlinewidth": 0,
              "ticks": ""
             }
            },
            "type": "scattercarpet"
           }
          ],
          "scattergeo": [
           {
            "marker": {
             "colorbar": {
              "outlinewidth": 0,
              "ticks": ""
             }
            },
            "type": "scattergeo"
           }
          ],
          "scattergl": [
           {
            "marker": {
             "colorbar": {
              "outlinewidth": 0,
              "ticks": ""
             }
            },
            "type": "scattergl"
           }
          ],
          "scattermapbox": [
           {
            "marker": {
             "colorbar": {
              "outlinewidth": 0,
              "ticks": ""
             }
            },
            "type": "scattermapbox"
           }
          ],
          "scatterpolar": [
           {
            "marker": {
             "colorbar": {
              "outlinewidth": 0,
              "ticks": ""
             }
            },
            "type": "scatterpolar"
           }
          ],
          "scatterpolargl": [
           {
            "marker": {
             "colorbar": {
              "outlinewidth": 0,
              "ticks": ""
             }
            },
            "type": "scatterpolargl"
           }
          ],
          "scatterternary": [
           {
            "marker": {
             "colorbar": {
              "outlinewidth": 0,
              "ticks": ""
             }
            },
            "type": "scatterternary"
           }
          ],
          "surface": [
           {
            "colorbar": {
             "outlinewidth": 0,
             "ticks": ""
            },
            "colorscale": [
             [
              0,
              "#0d0887"
             ],
             [
              0.1111111111111111,
              "#46039f"
             ],
             [
              0.2222222222222222,
              "#7201a8"
             ],
             [
              0.3333333333333333,
              "#9c179e"
             ],
             [
              0.4444444444444444,
              "#bd3786"
             ],
             [
              0.5555555555555556,
              "#d8576b"
             ],
             [
              0.6666666666666666,
              "#ed7953"
             ],
             [
              0.7777777777777778,
              "#fb9f3a"
             ],
             [
              0.8888888888888888,
              "#fdca26"
             ],
             [
              1,
              "#f0f921"
             ]
            ],
            "type": "surface"
           }
          ],
          "table": [
           {
            "cells": {
             "fill": {
              "color": "#EBF0F8"
             },
             "line": {
              "color": "white"
             }
            },
            "header": {
             "fill": {
              "color": "#C8D4E3"
             },
             "line": {
              "color": "white"
             }
            },
            "type": "table"
           }
          ]
         },
         "layout": {
          "annotationdefaults": {
           "arrowcolor": "#2a3f5f",
           "arrowhead": 0,
           "arrowwidth": 1
          },
          "coloraxis": {
           "colorbar": {
            "outlinewidth": 0,
            "ticks": ""
           }
          },
          "colorscale": {
           "diverging": [
            [
             0,
             "#8e0152"
            ],
            [
             0.1,
             "#c51b7d"
            ],
            [
             0.2,
             "#de77ae"
            ],
            [
             0.3,
             "#f1b6da"
            ],
            [
             0.4,
             "#fde0ef"
            ],
            [
             0.5,
             "#f7f7f7"
            ],
            [
             0.6,
             "#e6f5d0"
            ],
            [
             0.7,
             "#b8e186"
            ],
            [
             0.8,
             "#7fbc41"
            ],
            [
             0.9,
             "#4d9221"
            ],
            [
             1,
             "#276419"
            ]
           ],
           "sequential": [
            [
             0,
             "#0d0887"
            ],
            [
             0.1111111111111111,
             "#46039f"
            ],
            [
             0.2222222222222222,
             "#7201a8"
            ],
            [
             0.3333333333333333,
             "#9c179e"
            ],
            [
             0.4444444444444444,
             "#bd3786"
            ],
            [
             0.5555555555555556,
             "#d8576b"
            ],
            [
             0.6666666666666666,
             "#ed7953"
            ],
            [
             0.7777777777777778,
             "#fb9f3a"
            ],
            [
             0.8888888888888888,
             "#fdca26"
            ],
            [
             1,
             "#f0f921"
            ]
           ],
           "sequentialminus": [
            [
             0,
             "#0d0887"
            ],
            [
             0.1111111111111111,
             "#46039f"
            ],
            [
             0.2222222222222222,
             "#7201a8"
            ],
            [
             0.3333333333333333,
             "#9c179e"
            ],
            [
             0.4444444444444444,
             "#bd3786"
            ],
            [
             0.5555555555555556,
             "#d8576b"
            ],
            [
             0.6666666666666666,
             "#ed7953"
            ],
            [
             0.7777777777777778,
             "#fb9f3a"
            ],
            [
             0.8888888888888888,
             "#fdca26"
            ],
            [
             1,
             "#f0f921"
            ]
           ]
          },
          "colorway": [
           "#636efa",
           "#EF553B",
           "#00cc96",
           "#ab63fa",
           "#FFA15A",
           "#19d3f3",
           "#FF6692",
           "#B6E880",
           "#FF97FF",
           "#FECB52"
          ],
          "font": {
           "color": "#2a3f5f"
          },
          "geo": {
           "bgcolor": "white",
           "lakecolor": "white",
           "landcolor": "#E5ECF6",
           "showlakes": true,
           "showland": true,
           "subunitcolor": "white"
          },
          "hoverlabel": {
           "align": "left"
          },
          "hovermode": "closest",
          "mapbox": {
           "style": "light"
          },
          "paper_bgcolor": "white",
          "plot_bgcolor": "#E5ECF6",
          "polar": {
           "angularaxis": {
            "gridcolor": "white",
            "linecolor": "white",
            "ticks": ""
           },
           "bgcolor": "#E5ECF6",
           "radialaxis": {
            "gridcolor": "white",
            "linecolor": "white",
            "ticks": ""
           }
          },
          "scene": {
           "xaxis": {
            "backgroundcolor": "#E5ECF6",
            "gridcolor": "white",
            "gridwidth": 2,
            "linecolor": "white",
            "showbackground": true,
            "ticks": "",
            "zerolinecolor": "white"
           },
           "yaxis": {
            "backgroundcolor": "#E5ECF6",
            "gridcolor": "white",
            "gridwidth": 2,
            "linecolor": "white",
            "showbackground": true,
            "ticks": "",
            "zerolinecolor": "white"
           },
           "zaxis": {
            "backgroundcolor": "#E5ECF6",
            "gridcolor": "white",
            "gridwidth": 2,
            "linecolor": "white",
            "showbackground": true,
            "ticks": "",
            "zerolinecolor": "white"
           }
          },
          "shapedefaults": {
           "line": {
            "color": "#2a3f5f"
           }
          },
          "ternary": {
           "aaxis": {
            "gridcolor": "white",
            "linecolor": "white",
            "ticks": ""
           },
           "baxis": {
            "gridcolor": "white",
            "linecolor": "white",
            "ticks": ""
           },
           "bgcolor": "#E5ECF6",
           "caxis": {
            "gridcolor": "white",
            "linecolor": "white",
            "ticks": ""
           }
          },
          "title": {
           "x": 0.05
          },
          "xaxis": {
           "automargin": true,
           "gridcolor": "white",
           "linecolor": "white",
           "ticks": "",
           "title": {
            "standoff": 15
           },
           "zerolinecolor": "white",
           "zerolinewidth": 2
          },
          "yaxis": {
           "automargin": true,
           "gridcolor": "white",
           "linecolor": "white",
           "ticks": "",
           "title": {
            "standoff": 15
           },
           "zerolinecolor": "white",
           "zerolinewidth": 2
          }
         }
        },
        "title": {
         "font": {
          "color": "#4D5663"
         },
         "text": "Rácio entre Cdi e IS3S"
        },
        "width": 970,
        "xaxis": {
         "autorange": true,
         "gridcolor": "#E1E5ED",
         "range": [
          "2014-10-31",
          "2020-08-31"
         ],
         "showgrid": true,
         "tickfont": {
          "color": "#4D5663"
         },
         "title": {
          "font": {
           "color": "#4D5663"
          },
          "text": ""
         },
         "type": "date",
         "zerolinecolor": "#E1E5ED"
        },
        "yaxis": {
         "autorange": true,
         "gridcolor": "#E1E5ED",
         "range": [
          0.8331111111111111,
          1.010888888888889
         ],
         "showgrid": true,
         "tickfont": {
          "color": "#4D5663"
         },
         "title": {
          "font": {
           "color": "#4D5663"
          },
          "text": ""
         },
         "type": "linear",
         "zerolinecolor": "#E1E5ED"
        }
       }
      },
      "image/png": "[encoded data removed]",
      "text/html": [
       "<div>\n",
       "        \n",
       "        \n",
       "            <div id=\"eb125032-0c87-4a54-8c39-73ea469c5fb8\" class=\"plotly-graph-div\" style=\"height:500px; width:970px;\"></div>\n",
       "            <script type=\"text/javascript\">\n",
       "                require([\"plotly\"], function(Plotly) {\n",
       "                    window.PLOTLYENV=window.PLOTLYENV || {};\n",
       "                    window.PLOTLYENV.BASE_URL='https://plot.ly';\n",
       "                    \n",
       "                if (document.getElementById(\"eb125032-0c87-4a54-8c39-73ea469c5fb8\")) {\n",
       "                    Plotly.newPlot(\n",
       "                        'eb125032-0c87-4a54-8c39-73ea469c5fb8',\n",
       "                        [{\"line\": {\"color\": \"rgba(65, 105, 225, 1.0)\", \"dash\": \"solid\", \"shape\": \"linear\", \"width\": 1.3}, \"mode\": \"lines\", \"name\": \"None\", \"text\": \"\", \"type\": \"scatter\", \"x\": [\"2014-10-31\", \"2014-11-28\", \"2015-01-30\", \"2015-02-27\", \"2015-03-31\", \"2015-04-30\", \"2015-05-29\", \"2015-06-30\", \"2015-07-31\", \"2015-08-31\", \"2015-09-30\", \"2015-10-30\", \"2015-11-30\", \"2016-01-29\", \"2016-02-29\", \"2016-03-31\", \"2016-04-29\", \"2016-05-31\", \"2016-06-30\", \"2016-07-29\", \"2016-08-31\", \"2016-09-30\", \"2016-10-31\", \"2016-11-30\", \"2016-12-30\", \"2017-01-31\", \"2017-02-28\", \"2017-03-31\", \"2017-04-28\", \"2017-05-31\", \"2017-06-30\", \"2017-07-31\", \"2017-08-31\", \"2017-09-29\", \"2017-11-30\", \"2017-12-29\", \"2018-01-31\", \"2018-02-28\", \"2018-04-30\", \"2018-05-31\", \"2018-06-29\", \"2018-07-31\", \"2018-08-31\", \"2018-09-28\", \"2018-10-31\", \"2018-11-30\", \"2019-01-31\", \"2019-02-28\", \"2019-03-29\", \"2019-04-30\", \"2019-05-31\", \"2019-06-28\", \"2019-07-31\", \"2019-08-30\", \"2019-09-30\", \"2019-10-31\", \"2019-11-29\", \"2020-01-31\", \"2020-02-28\", \"2020-03-31\", \"2020-04-30\", \"2020-05-29\", \"2020-06-30\", \"2020-07-31\", \"2020-08-31\"], \"y\": [1.0, 0.999, 0.994, 0.975, 0.959, 0.955, 0.929, 0.937, 0.923, 0.934, 0.936, 0.923, 0.924, 0.947, 0.952, 0.982, 0.987, 0.961, 0.978, 0.964, 0.948, 0.935, 0.938, 0.952, 0.945, 0.962, 0.954, 0.961, 0.952, 0.942, 0.942, 0.938, 0.925, 0.906, 0.902, 0.898, 0.904, 0.902, 0.892, 0.893, 0.912, 0.9, 0.904, 0.887, 0.87, 0.849, 0.86, 0.852, 0.859, 0.91, 0.897, 0.905, 0.904, 0.909, 0.887, 0.885, 0.902, 0.913, 0.911, 0.842, 0.883, 0.901, 0.919, 0.968, 1.002]}],\n",
       "                        {\"height\": 500, \"legend\": {\"bgcolor\": \"#F5F6F9\", \"font\": {\"color\": \"#4D5663\"}}, \"paper_bgcolor\": \"#F5F6F9\", \"plot_bgcolor\": \"#F5F6F9\", \"template\": {\"data\": {\"bar\": [{\"error_x\": {\"color\": \"#2a3f5f\"}, \"error_y\": {\"color\": \"#2a3f5f\"}, \"marker\": {\"line\": {\"color\": \"#E5ECF6\", \"width\": 0.5}}, \"type\": \"bar\"}], \"barpolar\": [{\"marker\": {\"line\": {\"color\": \"#E5ECF6\", \"width\": 0.5}}, \"type\": \"barpolar\"}], \"carpet\": [{\"aaxis\": {\"endlinecolor\": \"#2a3f5f\", \"gridcolor\": \"white\", \"linecolor\": \"white\", \"minorgridcolor\": \"white\", \"startlinecolor\": \"#2a3f5f\"}, \"baxis\": {\"endlinecolor\": \"#2a3f5f\", \"gridcolor\": \"white\", \"linecolor\": \"white\", \"minorgridcolor\": \"white\", \"startlinecolor\": \"#2a3f5f\"}, \"type\": \"carpet\"}], \"choropleth\": [{\"colorbar\": {\"outlinewidth\": 0, \"ticks\": \"\"}, \"type\": \"choropleth\"}], \"contour\": [{\"colorbar\": {\"outlinewidth\": 0, \"ticks\": \"\"}, \"colorscale\": [[0.0, \"#0d0887\"], [0.1111111111111111, \"#46039f\"], [0.2222222222222222, \"#7201a8\"], [0.3333333333333333, \"#9c179e\"], [0.4444444444444444, \"#bd3786\"], [0.5555555555555556, \"#d8576b\"], [0.6666666666666666, \"#ed7953\"], [0.7777777777777778, \"#fb9f3a\"], [0.8888888888888888, \"#fdca26\"], [1.0, \"#f0f921\"]], \"type\": \"contour\"}], \"contourcarpet\": [{\"colorbar\": {\"outlinewidth\": 0, \"ticks\": \"\"}, \"type\": \"contourcarpet\"}], \"heatmap\": [{\"colorbar\": {\"outlinewidth\": 0, \"ticks\": \"\"}, \"colorscale\": [[0.0, \"#0d0887\"], [0.1111111111111111, \"#46039f\"], [0.2222222222222222, \"#7201a8\"], [0.3333333333333333, \"#9c179e\"], [0.4444444444444444, \"#bd3786\"], [0.5555555555555556, \"#d8576b\"], [0.6666666666666666, \"#ed7953\"], [0.7777777777777778, \"#fb9f3a\"], [0.8888888888888888, \"#fdca26\"], [1.0, \"#f0f921\"]], \"type\": \"heatmap\"}], \"heatmapgl\": [{\"colorbar\": {\"outlinewidth\": 0, \"ticks\": \"\"}, \"colorscale\": [[0.0, \"#0d0887\"], [0.1111111111111111, \"#46039f\"], [0.2222222222222222, \"#7201a8\"], [0.3333333333333333, \"#9c179e\"], [0.4444444444444444, \"#bd3786\"], [0.5555555555555556, \"#d8576b\"], [0.6666666666666666, \"#ed7953\"], [0.7777777777777778, \"#fb9f3a\"], [0.8888888888888888, \"#fdca26\"], [1.0, \"#f0f921\"]], \"type\": \"heatmapgl\"}], \"histogram\": [{\"marker\": {\"colorbar\": {\"outlinewidth\": 0, \"ticks\": \"\"}}, \"type\": \"histogram\"}], \"histogram2d\": [{\"colorbar\": {\"outlinewidth\": 0, \"ticks\": \"\"}, \"colorscale\": [[0.0, \"#0d0887\"], [0.1111111111111111, \"#46039f\"], [0.2222222222222222, \"#7201a8\"], [0.3333333333333333, \"#9c179e\"], [0.4444444444444444, \"#bd3786\"], [0.5555555555555556, \"#d8576b\"], [0.6666666666666666, \"#ed7953\"], [0.7777777777777778, \"#fb9f3a\"], [0.8888888888888888, \"#fdca26\"], [1.0, \"#f0f921\"]], \"type\": \"histogram2d\"}], \"histogram2dcontour\": [{\"colorbar\": {\"outlinewidth\": 0, \"ticks\": \"\"}, \"colorscale\": [[0.0, \"#0d0887\"], [0.1111111111111111, \"#46039f\"], [0.2222222222222222, \"#7201a8\"], [0.3333333333333333, \"#9c179e\"], [0.4444444444444444, \"#bd3786\"], [0.5555555555555556, \"#d8576b\"], [0.6666666666666666, \"#ed7953\"], [0.7777777777777778, \"#fb9f3a\"], [0.8888888888888888, \"#fdca26\"], [1.0, \"#f0f921\"]], \"type\": \"histogram2dcontour\"}], \"mesh3d\": [{\"colorbar\": {\"outlinewidth\": 0, \"ticks\": \"\"}, \"type\": \"mesh3d\"}], \"parcoords\": [{\"line\": {\"colorbar\": {\"outlinewidth\": 0, \"ticks\": \"\"}}, \"type\": \"parcoords\"}], \"pie\": [{\"automargin\": true, \"type\": \"pie\"}], \"scatter\": [{\"marker\": {\"colorbar\": {\"outlinewidth\": 0, \"ticks\": \"\"}}, \"type\": \"scatter\"}], \"scatter3d\": [{\"line\": {\"colorbar\": {\"outlinewidth\": 0, \"ticks\": \"\"}}, \"marker\": {\"colorbar\": {\"outlinewidth\": 0, \"ticks\": \"\"}}, \"type\": \"scatter3d\"}], \"scattercarpet\": [{\"marker\": {\"colorbar\": {\"outlinewidth\": 0, \"ticks\": \"\"}}, \"type\": \"scattercarpet\"}], \"scattergeo\": [{\"marker\": {\"colorbar\": {\"outlinewidth\": 0, \"ticks\": \"\"}}, \"type\": \"scattergeo\"}], \"scattergl\": [{\"marker\": {\"colorbar\": {\"outlinewidth\": 0, \"ticks\": \"\"}}, \"type\": \"scattergl\"}], \"scattermapbox\": [{\"marker\": {\"colorbar\": {\"outlinewidth\": 0, \"ticks\": \"\"}}, \"type\": \"scattermapbox\"}], \"scatterpolar\": [{\"marker\": {\"colorbar\": {\"outlinewidth\": 0, \"ticks\": \"\"}}, \"type\": \"scatterpolar\"}], \"scatterpolargl\": [{\"marker\": {\"colorbar\": {\"outlinewidth\": 0, \"ticks\": \"\"}}, \"type\": \"scatterpolargl\"}], \"scatterternary\": [{\"marker\": {\"colorbar\": {\"outlinewidth\": 0, \"ticks\": \"\"}}, \"type\": \"scatterternary\"}], \"surface\": [{\"colorbar\": {\"outlinewidth\": 0, \"ticks\": \"\"}, \"colorscale\": [[0.0, \"#0d0887\"], [0.1111111111111111, \"#46039f\"], [0.2222222222222222, \"#7201a8\"], [0.3333333333333333, \"#9c179e\"], [0.4444444444444444, \"#bd3786\"], [0.5555555555555556, \"#d8576b\"], [0.6666666666666666, \"#ed7953\"], [0.7777777777777778, \"#fb9f3a\"], [0.8888888888888888, \"#fdca26\"], [1.0, \"#f0f921\"]], \"type\": \"surface\"}], \"table\": [{\"cells\": {\"fill\": {\"color\": \"#EBF0F8\"}, \"line\": {\"color\": \"white\"}}, \"header\": {\"fill\": {\"color\": \"#C8D4E3\"}, \"line\": {\"color\": \"white\"}}, \"type\": \"table\"}]}, \"layout\": {\"annotationdefaults\": {\"arrowcolor\": \"#2a3f5f\", \"arrowhead\": 0, \"arrowwidth\": 1}, \"coloraxis\": {\"colorbar\": {\"outlinewidth\": 0, \"ticks\": \"\"}}, \"colorscale\": {\"diverging\": [[0, \"#8e0152\"], [0.1, \"#c51b7d\"], [0.2, \"#de77ae\"], [0.3, \"#f1b6da\"], [0.4, \"#fde0ef\"], [0.5, \"#f7f7f7\"], [0.6, \"#e6f5d0\"], [0.7, \"#b8e186\"], [0.8, \"#7fbc41\"], [0.9, \"#4d9221\"], [1, \"#276419\"]], \"sequential\": [[0.0, \"#0d0887\"], [0.1111111111111111, \"#46039f\"], [0.2222222222222222, \"#7201a8\"], [0.3333333333333333, \"#9c179e\"], [0.4444444444444444, \"#bd3786\"], [0.5555555555555556, \"#d8576b\"], [0.6666666666666666, \"#ed7953\"], [0.7777777777777778, \"#fb9f3a\"], [0.8888888888888888, \"#fdca26\"], [1.0, \"#f0f921\"]], \"sequentialminus\": [[0.0, \"#0d0887\"], [0.1111111111111111, \"#46039f\"], [0.2222222222222222, \"#7201a8\"], [0.3333333333333333, \"#9c179e\"], [0.4444444444444444, \"#bd3786\"], [0.5555555555555556, \"#d8576b\"], [0.6666666666666666, \"#ed7953\"], [0.7777777777777778, \"#fb9f3a\"], [0.8888888888888888, \"#fdca26\"], [1.0, \"#f0f921\"]]}, \"colorway\": [\"#636efa\", \"#EF553B\", \"#00cc96\", \"#ab63fa\", \"#FFA15A\", \"#19d3f3\", \"#FF6692\", \"#B6E880\", \"#FF97FF\", \"#FECB52\"], \"font\": {\"color\": \"#2a3f5f\"}, \"geo\": {\"bgcolor\": \"white\", \"lakecolor\": \"white\", \"landcolor\": \"#E5ECF6\", \"showlakes\": true, \"showland\": true, \"subunitcolor\": \"white\"}, \"hoverlabel\": {\"align\": \"left\"}, \"hovermode\": \"closest\", \"mapbox\": {\"style\": \"light\"}, \"paper_bgcolor\": \"white\", \"plot_bgcolor\": \"#E5ECF6\", \"polar\": {\"angularaxis\": {\"gridcolor\": \"white\", \"linecolor\": \"white\", \"ticks\": \"\"}, \"bgcolor\": \"#E5ECF6\", \"radialaxis\": {\"gridcolor\": \"white\", \"linecolor\": \"white\", \"ticks\": \"\"}}, \"scene\": {\"xaxis\": {\"backgroundcolor\": \"#E5ECF6\", \"gridcolor\": \"white\", \"gridwidth\": 2, \"linecolor\": \"white\", \"showbackground\": true, \"ticks\": \"\", \"zerolinecolor\": \"white\"}, \"yaxis\": {\"backgroundcolor\": \"#E5ECF6\", \"gridcolor\": \"white\", \"gridwidth\": 2, \"linecolor\": \"white\", \"showbackground\": true, \"ticks\": \"\", \"zerolinecolor\": \"white\"}, \"zaxis\": {\"backgroundcolor\": \"#E5ECF6\", \"gridcolor\": \"white\", \"gridwidth\": 2, \"linecolor\": \"white\", \"showbackground\": true, \"ticks\": \"\", \"zerolinecolor\": \"white\"}}, \"shapedefaults\": {\"line\": {\"color\": \"#2a3f5f\"}}, \"ternary\": {\"aaxis\": {\"gridcolor\": \"white\", \"linecolor\": \"white\", \"ticks\": \"\"}, \"baxis\": {\"gridcolor\": \"white\", \"linecolor\": \"white\", \"ticks\": \"\"}, \"bgcolor\": \"#E5ECF6\", \"caxis\": {\"gridcolor\": \"white\", \"linecolor\": \"white\", \"ticks\": \"\"}}, \"title\": {\"x\": 0.05}, \"xaxis\": {\"automargin\": true, \"gridcolor\": \"white\", \"linecolor\": \"white\", \"ticks\": \"\", \"title\": {\"standoff\": 15}, \"zerolinecolor\": \"white\", \"zerolinewidth\": 2}, \"yaxis\": {\"automargin\": true, \"gridcolor\": \"white\", \"linecolor\": \"white\", \"ticks\": \"\", \"title\": {\"standoff\": 15}, \"zerolinecolor\": \"white\", \"zerolinewidth\": 2}}}, \"title\": {\"font\": {\"color\": \"#4D5663\"}, \"text\": \"R\\u00e1cio entre Cdi e IS3S\"}, \"width\": 970, \"xaxis\": {\"gridcolor\": \"#E1E5ED\", \"showgrid\": true, \"tickfont\": {\"color\": \"#4D5663\"}, \"title\": {\"font\": {\"color\": \"#4D5663\"}, \"text\": \"\"}, \"zerolinecolor\": \"#E1E5ED\"}, \"yaxis\": {\"gridcolor\": \"#E1E5ED\", \"showgrid\": true, \"tickfont\": {\"color\": \"#4D5663\"}, \"title\": {\"font\": {\"color\": \"#4D5663\"}, \"text\": \"\"}, \"zerolinecolor\": \"#E1E5ED\"}},\n",
       "                        {\"showLink\": true, \"linkText\": \"Export to plot.ly\", \"plotlyServerURL\": \"https://plot.ly\", \"responsive\": true}\n",
       "                    ).then(function(){\n",
       "                            \n",
       "var gd = document.getElementById('eb125032-0c87-4a54-8c39-73ea469c5fb8');\n",
       "var x = new MutationObserver(function (mutations, observer) {{\n",
       "        var display = window.getComputedStyle(gd).display;\n",
       "        if (!display || display === 'none') {{\n",
       "            console.log([gd, 'removed!']);\n",
       "            Plotly.purge(gd);\n",
       "            observer.disconnect();\n",
       "        }}\n",
       "}});\n",
       "\n",
       "// Listen for the removal of the full notebook cells\n",
       "var notebookContainer = gd.closest('#notebook-container');\n",
       "if (notebookContainer) {{\n",
       "    x.observe(notebookContainer, {childList: true});\n",
       "}}\n",
       "\n",
       "// Listen for the clearing of the current output cell\n",
       "var outputEl = gd.closest('.output');\n",
       "if (outputEl) {{\n",
       "    x.observe(outputEl, {childList: true});\n",
       "}}\n",
       "\n",
       "                        })\n",
       "                };\n",
       "                });\n",
       "            </script>\n",
       "        </div>"
      ]
     },
     "metadata": {},
     "output_type": "display_data"
    }
   ],
   "source": [
    "round(fundos_norm['Cdi'] / fundos_norm['IS3S'], 3).iplot(yTitle='', title='Rácio entre Cdi e IS3S',  colors=['royalblue', 'orange', 'dimgray'], dimensions = dimensions)"
   ]
  },
  {
   "cell_type": "markdown",
   "metadata": {},
   "source": [
    "##### Valores mais baixo underperformance da casa de investimento face ao IS3S."
   ]
  },
  {
   "cell_type": "code",
   "execution_count": 41,
   "metadata": {},
   "outputs": [
    {
     "data": {
      "application/vnd.plotly.v1+json": {
       "config": {
        "linkText": "Export to plot.ly",
        "plotlyServerURL": "https://plot.ly",
        "showLink": true
       },
       "data": [
        {
         "line": {
          "color": "rgba(65, 105, 225, 1.0)",
          "dash": "solid",
          "shape": "linear",
          "width": 1.3
         },
         "mode": "lines",
         "name": "None",
         "text": "",
         "type": "scatter",
         "x": [
          "2014-10-31",
          "2014-11-28",
          "2015-01-30",
          "2015-02-27",
          "2015-03-31",
          "2015-04-30",
          "2015-05-29",
          "2015-06-30",
          "2015-07-31",
          "2015-08-31",
          "2015-09-30",
          "2015-10-30",
          "2015-11-30",
          "2016-01-29",
          "2016-02-29",
          "2016-03-31",
          "2016-04-29",
          "2016-05-31",
          "2016-06-30",
          "2016-07-29",
          "2016-08-31",
          "2016-09-30",
          "2016-10-31",
          "2016-11-30",
          "2016-12-30",
          "2017-01-31",
          "2017-02-28",
          "2017-03-31",
          "2017-04-28",
          "2017-05-31",
          "2017-06-30",
          "2017-07-31",
          "2017-08-31",
          "2017-09-29",
          "2017-11-30",
          "2017-12-29",
          "2018-01-31",
          "2018-02-28",
          "2018-04-30",
          "2018-05-31",
          "2018-06-29",
          "2018-07-31",
          "2018-08-31",
          "2018-09-28",
          "2018-10-31",
          "2018-11-30",
          "2019-01-31",
          "2019-02-28",
          "2019-03-29",
          "2019-04-30",
          "2019-05-31",
          "2019-06-28",
          "2019-07-31",
          "2019-08-30",
          "2019-09-30",
          "2019-10-31",
          "2019-11-29",
          "2020-01-31",
          "2020-02-28",
          "2020-03-31",
          "2020-04-30",
          "2020-05-29",
          "2020-06-30",
          "2020-07-31",
          "2020-08-31"
         ],
         "y": [
          1,
          0.991,
          0.981,
          0.972,
          0.957,
          0.959,
          0.944,
          0.95,
          0.922,
          0.926,
          0.915,
          0.902,
          0.893,
          0.896,
          0.894,
          0.918,
          0.93,
          0.905,
          0.896,
          0.893,
          0.894,
          0.882,
          0.903,
          0.922,
          0.92,
          0.932,
          0.917,
          0.919,
          0.905,
          0.885,
          0.892,
          0.892,
          0.876,
          0.866,
          0.873,
          0.875,
          0.879,
          0.876,
          0.875,
          0.849,
          0.85,
          0.837,
          0.821,
          0.816,
          0.8,
          0.778,
          0.791,
          0.77,
          0.76,
          0.793,
          0.76,
          0.77,
          0.76,
          0.75,
          0.751,
          0.759,
          0.768,
          0.752,
          0.746,
          0.662,
          0.676,
          0.677,
          0.678,
          0.668,
          0.683
         ]
        }
       ],
       "layout": {
        "height": 500,
        "legend": {
         "bgcolor": "#F5F6F9",
         "font": {
          "color": "#4D5663"
         }
        },
        "paper_bgcolor": "#F5F6F9",
        "plot_bgcolor": "#F5F6F9",
        "template": {
         "data": {
          "bar": [
           {
            "error_x": {
             "color": "#2a3f5f"
            },
            "error_y": {
             "color": "#2a3f5f"
            },
            "marker": {
             "line": {
              "color": "#E5ECF6",
              "width": 0.5
             }
            },
            "type": "bar"
           }
          ],
          "barpolar": [
           {
            "marker": {
             "line": {
              "color": "#E5ECF6",
              "width": 0.5
             }
            },
            "type": "barpolar"
           }
          ],
          "carpet": [
           {
            "aaxis": {
             "endlinecolor": "#2a3f5f",
             "gridcolor": "white",
             "linecolor": "white",
             "minorgridcolor": "white",
             "startlinecolor": "#2a3f5f"
            },
            "baxis": {
             "endlinecolor": "#2a3f5f",
             "gridcolor": "white",
             "linecolor": "white",
             "minorgridcolor": "white",
             "startlinecolor": "#2a3f5f"
            },
            "type": "carpet"
           }
          ],
          "choropleth": [
           {
            "colorbar": {
             "outlinewidth": 0,
             "ticks": ""
            },
            "type": "choropleth"
           }
          ],
          "contour": [
           {
            "colorbar": {
             "outlinewidth": 0,
             "ticks": ""
            },
            "colorscale": [
             [
              0,
              "#0d0887"
             ],
             [
              0.1111111111111111,
              "#46039f"
             ],
             [
              0.2222222222222222,
              "#7201a8"
             ],
             [
              0.3333333333333333,
              "#9c179e"
             ],
             [
              0.4444444444444444,
              "#bd3786"
             ],
             [
              0.5555555555555556,
              "#d8576b"
             ],
             [
              0.6666666666666666,
              "#ed7953"
             ],
             [
              0.7777777777777778,
              "#fb9f3a"
             ],
             [
              0.8888888888888888,
              "#fdca26"
             ],
             [
              1,
              "#f0f921"
             ]
            ],
            "type": "contour"
           }
          ],
          "contourcarpet": [
           {
            "colorbar": {
             "outlinewidth": 0,
             "ticks": ""
            },
            "type": "contourcarpet"
           }
          ],
          "heatmap": [
           {
            "colorbar": {
             "outlinewidth": 0,
             "ticks": ""
            },
            "colorscale": [
             [
              0,
              "#0d0887"
             ],
             [
              0.1111111111111111,
              "#46039f"
             ],
             [
              0.2222222222222222,
              "#7201a8"
             ],
             [
              0.3333333333333333,
              "#9c179e"
             ],
             [
              0.4444444444444444,
              "#bd3786"
             ],
             [
              0.5555555555555556,
              "#d8576b"
             ],
             [
              0.6666666666666666,
              "#ed7953"
             ],
             [
              0.7777777777777778,
              "#fb9f3a"
             ],
             [
              0.8888888888888888,
              "#fdca26"
             ],
             [
              1,
              "#f0f921"
             ]
            ],
            "type": "heatmap"
           }
          ],
          "heatmapgl": [
           {
            "colorbar": {
             "outlinewidth": 0,
             "ticks": ""
            },
            "colorscale": [
             [
              0,
              "#0d0887"
             ],
             [
              0.1111111111111111,
              "#46039f"
             ],
             [
              0.2222222222222222,
              "#7201a8"
             ],
             [
              0.3333333333333333,
              "#9c179e"
             ],
             [
              0.4444444444444444,
              "#bd3786"
             ],
             [
              0.5555555555555556,
              "#d8576b"
             ],
             [
              0.6666666666666666,
              "#ed7953"
             ],
             [
              0.7777777777777778,
              "#fb9f3a"
             ],
             [
              0.8888888888888888,
              "#fdca26"
             ],
             [
              1,
              "#f0f921"
             ]
            ],
            "type": "heatmapgl"
           }
          ],
          "histogram": [
           {
            "marker": {
             "colorbar": {
              "outlinewidth": 0,
              "ticks": ""
             }
            },
            "type": "histogram"
           }
          ],
          "histogram2d": [
           {
            "colorbar": {
             "outlinewidth": 0,
             "ticks": ""
            },
            "colorscale": [
             [
              0,
              "#0d0887"
             ],
             [
              0.1111111111111111,
              "#46039f"
             ],
             [
              0.2222222222222222,
              "#7201a8"
             ],
             [
              0.3333333333333333,
              "#9c179e"
             ],
             [
              0.4444444444444444,
              "#bd3786"
             ],
             [
              0.5555555555555556,
              "#d8576b"
             ],
             [
              0.6666666666666666,
              "#ed7953"
             ],
             [
              0.7777777777777778,
              "#fb9f3a"
             ],
             [
              0.8888888888888888,
              "#fdca26"
             ],
             [
              1,
              "#f0f921"
             ]
            ],
            "type": "histogram2d"
           }
          ],
          "histogram2dcontour": [
           {
            "colorbar": {
             "outlinewidth": 0,
             "ticks": ""
            },
            "colorscale": [
             [
              0,
              "#0d0887"
             ],
             [
              0.1111111111111111,
              "#46039f"
             ],
             [
              0.2222222222222222,
              "#7201a8"
             ],
             [
              0.3333333333333333,
              "#9c179e"
             ],
             [
              0.4444444444444444,
              "#bd3786"
             ],
             [
              0.5555555555555556,
              "#d8576b"
             ],
             [
              0.6666666666666666,
              "#ed7953"
             ],
             [
              0.7777777777777778,
              "#fb9f3a"
             ],
             [
              0.8888888888888888,
              "#fdca26"
             ],
             [
              1,
              "#f0f921"
             ]
            ],
            "type": "histogram2dcontour"
           }
          ],
          "mesh3d": [
           {
            "colorbar": {
             "outlinewidth": 0,
             "ticks": ""
            },
            "type": "mesh3d"
           }
          ],
          "parcoords": [
           {
            "line": {
             "colorbar": {
              "outlinewidth": 0,
              "ticks": ""
             }
            },
            "type": "parcoords"
           }
          ],
          "pie": [
           {
            "automargin": true,
            "type": "pie"
           }
          ],
          "scatter": [
           {
            "marker": {
             "colorbar": {
              "outlinewidth": 0,
              "ticks": ""
             }
            },
            "type": "scatter"
           }
          ],
          "scatter3d": [
           {
            "line": {
             "colorbar": {
              "outlinewidth": 0,
              "ticks": ""
             }
            },
            "marker": {
             "colorbar": {
              "outlinewidth": 0,
              "ticks": ""
             }
            },
            "type": "scatter3d"
           }
          ],
          "scattercarpet": [
           {
            "marker": {
             "colorbar": {
              "outlinewidth": 0,
              "ticks": ""
             }
            },
            "type": "scattercarpet"
           }
          ],
          "scattergeo": [
           {
            "marker": {
             "colorbar": {
              "outlinewidth": 0,
              "ticks": ""
             }
            },
            "type": "scattergeo"
           }
          ],
          "scattergl": [
           {
            "marker": {
             "colorbar": {
              "outlinewidth": 0,
              "ticks": ""
             }
            },
            "type": "scattergl"
           }
          ],
          "scattermapbox": [
           {
            "marker": {
             "colorbar": {
              "outlinewidth": 0,
              "ticks": ""
             }
            },
            "type": "scattermapbox"
           }
          ],
          "scatterpolar": [
           {
            "marker": {
             "colorbar": {
              "outlinewidth": 0,
              "ticks": ""
             }
            },
            "type": "scatterpolar"
           }
          ],
          "scatterpolargl": [
           {
            "marker": {
             "colorbar": {
              "outlinewidth": 0,
              "ticks": ""
             }
            },
            "type": "scatterpolargl"
           }
          ],
          "scatterternary": [
           {
            "marker": {
             "colorbar": {
              "outlinewidth": 0,
              "ticks": ""
             }
            },
            "type": "scatterternary"
           }
          ],
          "surface": [
           {
            "colorbar": {
             "outlinewidth": 0,
             "ticks": ""
            },
            "colorscale": [
             [
              0,
              "#0d0887"
             ],
             [
              0.1111111111111111,
              "#46039f"
             ],
             [
              0.2222222222222222,
              "#7201a8"
             ],
             [
              0.3333333333333333,
              "#9c179e"
             ],
             [
              0.4444444444444444,
              "#bd3786"
             ],
             [
              0.5555555555555556,
              "#d8576b"
             ],
             [
              0.6666666666666666,
              "#ed7953"
             ],
             [
              0.7777777777777778,
              "#fb9f3a"
             ],
             [
              0.8888888888888888,
              "#fdca26"
             ],
             [
              1,
              "#f0f921"
             ]
            ],
            "type": "surface"
           }
          ],
          "table": [
           {
            "cells": {
             "fill": {
              "color": "#EBF0F8"
             },
             "line": {
              "color": "white"
             }
            },
            "header": {
             "fill": {
              "color": "#C8D4E3"
             },
             "line": {
              "color": "white"
             }
            },
            "type": "table"
           }
          ]
         },
         "layout": {
          "annotationdefaults": {
           "arrowcolor": "#2a3f5f",
           "arrowhead": 0,
           "arrowwidth": 1
          },
          "coloraxis": {
           "colorbar": {
            "outlinewidth": 0,
            "ticks": ""
           }
          },
          "colorscale": {
           "diverging": [
            [
             0,
             "#8e0152"
            ],
            [
             0.1,
             "#c51b7d"
            ],
            [
             0.2,
             "#de77ae"
            ],
            [
             0.3,
             "#f1b6da"
            ],
            [
             0.4,
             "#fde0ef"
            ],
            [
             0.5,
             "#f7f7f7"
            ],
            [
             0.6,
             "#e6f5d0"
            ],
            [
             0.7,
             "#b8e186"
            ],
            [
             0.8,
             "#7fbc41"
            ],
            [
             0.9,
             "#4d9221"
            ],
            [
             1,
             "#276419"
            ]
           ],
           "sequential": [
            [
             0,
             "#0d0887"
            ],
            [
             0.1111111111111111,
             "#46039f"
            ],
            [
             0.2222222222222222,
             "#7201a8"
            ],
            [
             0.3333333333333333,
             "#9c179e"
            ],
            [
             0.4444444444444444,
             "#bd3786"
            ],
            [
             0.5555555555555556,
             "#d8576b"
            ],
            [
             0.6666666666666666,
             "#ed7953"
            ],
            [
             0.7777777777777778,
             "#fb9f3a"
            ],
            [
             0.8888888888888888,
             "#fdca26"
            ],
            [
             1,
             "#f0f921"
            ]
           ],
           "sequentialminus": [
            [
             0,
             "#0d0887"
            ],
            [
             0.1111111111111111,
             "#46039f"
            ],
            [
             0.2222222222222222,
             "#7201a8"
            ],
            [
             0.3333333333333333,
             "#9c179e"
            ],
            [
             0.4444444444444444,
             "#bd3786"
            ],
            [
             0.5555555555555556,
             "#d8576b"
            ],
            [
             0.6666666666666666,
             "#ed7953"
            ],
            [
             0.7777777777777778,
             "#fb9f3a"
            ],
            [
             0.8888888888888888,
             "#fdca26"
            ],
            [
             1,
             "#f0f921"
            ]
           ]
          },
          "colorway": [
           "#636efa",
           "#EF553B",
           "#00cc96",
           "#ab63fa",
           "#FFA15A",
           "#19d3f3",
           "#FF6692",
           "#B6E880",
           "#FF97FF",
           "#FECB52"
          ],
          "font": {
           "color": "#2a3f5f"
          },
          "geo": {
           "bgcolor": "white",
           "lakecolor": "white",
           "landcolor": "#E5ECF6",
           "showlakes": true,
           "showland": true,
           "subunitcolor": "white"
          },
          "hoverlabel": {
           "align": "left"
          },
          "hovermode": "closest",
          "mapbox": {
           "style": "light"
          },
          "paper_bgcolor": "white",
          "plot_bgcolor": "#E5ECF6",
          "polar": {
           "angularaxis": {
            "gridcolor": "white",
            "linecolor": "white",
            "ticks": ""
           },
           "bgcolor": "#E5ECF6",
           "radialaxis": {
            "gridcolor": "white",
            "linecolor": "white",
            "ticks": ""
           }
          },
          "scene": {
           "xaxis": {
            "backgroundcolor": "#E5ECF6",
            "gridcolor": "white",
            "gridwidth": 2,
            "linecolor": "white",
            "showbackground": true,
            "ticks": "",
            "zerolinecolor": "white"
           },
           "yaxis": {
            "backgroundcolor": "#E5ECF6",
            "gridcolor": "white",
            "gridwidth": 2,
            "linecolor": "white",
            "showbackground": true,
            "ticks": "",
            "zerolinecolor": "white"
           },
           "zaxis": {
            "backgroundcolor": "#E5ECF6",
            "gridcolor": "white",
            "gridwidth": 2,
            "linecolor": "white",
            "showbackground": true,
            "ticks": "",
            "zerolinecolor": "white"
           }
          },
          "shapedefaults": {
           "line": {
            "color": "#2a3f5f"
           }
          },
          "ternary": {
           "aaxis": {
            "gridcolor": "white",
            "linecolor": "white",
            "ticks": ""
           },
           "baxis": {
            "gridcolor": "white",
            "linecolor": "white",
            "ticks": ""
           },
           "bgcolor": "#E5ECF6",
           "caxis": {
            "gridcolor": "white",
            "linecolor": "white",
            "ticks": ""
           }
          },
          "title": {
           "x": 0.05
          },
          "xaxis": {
           "automargin": true,
           "gridcolor": "white",
           "linecolor": "white",
           "ticks": "",
           "title": {
            "standoff": 15
           },
           "zerolinecolor": "white",
           "zerolinewidth": 2
          },
          "yaxis": {
           "automargin": true,
           "gridcolor": "white",
           "linecolor": "white",
           "ticks": "",
           "title": {
            "standoff": 15
           },
           "zerolinecolor": "white",
           "zerolinewidth": 2
          }
         }
        },
        "title": {
         "font": {
          "color": "#4D5663"
         },
         "text": "Rácio entre Cdi e IWDA"
        },
        "width": 970,
        "xaxis": {
         "autorange": true,
         "gridcolor": "#E1E5ED",
         "range": [
          "2014-10-31",
          "2020-08-31"
         ],
         "showgrid": true,
         "tickfont": {
          "color": "#4D5663"
         },
         "title": {
          "font": {
           "color": "#4D5663"
          },
          "text": ""
         },
         "type": "date",
         "zerolinecolor": "#E1E5ED"
        },
        "yaxis": {
         "autorange": true,
         "gridcolor": "#E1E5ED",
         "range": [
          0.6432222222222223,
          1.0187777777777778
         ],
         "showgrid": true,
         "tickfont": {
          "color": "#4D5663"
         },
         "title": {
          "font": {
           "color": "#4D5663"
          },
          "text": ""
         },
         "type": "linear",
         "zerolinecolor": "#E1E5ED"
        }
       }
      },
      "image/png": "[encoded data removed]",
      "text/html": [
       "<div>\n",
       "        \n",
       "        \n",
       "            <div id=\"0c9a4ec5-facb-425c-a9e4-fe77daa7f1f9\" class=\"plotly-graph-div\" style=\"height:500px; width:970px;\"></div>\n",
       "            <script type=\"text/javascript\">\n",
       "                require([\"plotly\"], function(Plotly) {\n",
       "                    window.PLOTLYENV=window.PLOTLYENV || {};\n",
       "                    window.PLOTLYENV.BASE_URL='https://plot.ly';\n",
       "                    \n",
       "                if (document.getElementById(\"0c9a4ec5-facb-425c-a9e4-fe77daa7f1f9\")) {\n",
       "                    Plotly.newPlot(\n",
       "                        '0c9a4ec5-facb-425c-a9e4-fe77daa7f1f9',\n",
       "                        [{\"line\": {\"color\": \"rgba(65, 105, 225, 1.0)\", \"dash\": \"solid\", \"shape\": \"linear\", \"width\": 1.3}, \"mode\": \"lines\", \"name\": \"None\", \"text\": \"\", \"type\": \"scatter\", \"x\": [\"2014-10-31\", \"2014-11-28\", \"2015-01-30\", \"2015-02-27\", \"2015-03-31\", \"2015-04-30\", \"2015-05-29\", \"2015-06-30\", \"2015-07-31\", \"2015-08-31\", \"2015-09-30\", \"2015-10-30\", \"2015-11-30\", \"2016-01-29\", \"2016-02-29\", \"2016-03-31\", \"2016-04-29\", \"2016-05-31\", \"2016-06-30\", \"2016-07-29\", \"2016-08-31\", \"2016-09-30\", \"2016-10-31\", \"2016-11-30\", \"2016-12-30\", \"2017-01-31\", \"2017-02-28\", \"2017-03-31\", \"2017-04-28\", \"2017-05-31\", \"2017-06-30\", \"2017-07-31\", \"2017-08-31\", \"2017-09-29\", \"2017-11-30\", \"2017-12-29\", \"2018-01-31\", \"2018-02-28\", \"2018-04-30\", \"2018-05-31\", \"2018-06-29\", \"2018-07-31\", \"2018-08-31\", \"2018-09-28\", \"2018-10-31\", \"2018-11-30\", \"2019-01-31\", \"2019-02-28\", \"2019-03-29\", \"2019-04-30\", \"2019-05-31\", \"2019-06-28\", \"2019-07-31\", \"2019-08-30\", \"2019-09-30\", \"2019-10-31\", \"2019-11-29\", \"2020-01-31\", \"2020-02-28\", \"2020-03-31\", \"2020-04-30\", \"2020-05-29\", \"2020-06-30\", \"2020-07-31\", \"2020-08-31\"], \"y\": [1.0, 0.991, 0.981, 0.972, 0.957, 0.959, 0.944, 0.95, 0.922, 0.926, 0.915, 0.902, 0.893, 0.896, 0.894, 0.918, 0.93, 0.905, 0.896, 0.893, 0.894, 0.882, 0.903, 0.922, 0.92, 0.932, 0.917, 0.919, 0.905, 0.885, 0.892, 0.892, 0.876, 0.866, 0.873, 0.875, 0.879, 0.876, 0.875, 0.849, 0.85, 0.837, 0.821, 0.816, 0.8, 0.778, 0.791, 0.77, 0.76, 0.793, 0.76, 0.77, 0.76, 0.75, 0.751, 0.759, 0.768, 0.752, 0.746, 0.662, 0.676, 0.677, 0.678, 0.668, 0.683]}],\n",
       "                        {\"height\": 500, \"legend\": {\"bgcolor\": \"#F5F6F9\", \"font\": {\"color\": \"#4D5663\"}}, \"paper_bgcolor\": \"#F5F6F9\", \"plot_bgcolor\": \"#F5F6F9\", \"template\": {\"data\": {\"bar\": [{\"error_x\": {\"color\": \"#2a3f5f\"}, \"error_y\": {\"color\": \"#2a3f5f\"}, \"marker\": {\"line\": {\"color\": \"#E5ECF6\", \"width\": 0.5}}, \"type\": \"bar\"}], \"barpolar\": [{\"marker\": {\"line\": {\"color\": \"#E5ECF6\", \"width\": 0.5}}, \"type\": \"barpolar\"}], \"carpet\": [{\"aaxis\": {\"endlinecolor\": \"#2a3f5f\", \"gridcolor\": \"white\", \"linecolor\": \"white\", \"minorgridcolor\": \"white\", \"startlinecolor\": \"#2a3f5f\"}, \"baxis\": {\"endlinecolor\": \"#2a3f5f\", \"gridcolor\": \"white\", \"linecolor\": \"white\", \"minorgridcolor\": \"white\", \"startlinecolor\": \"#2a3f5f\"}, \"type\": \"carpet\"}], \"choropleth\": [{\"colorbar\": {\"outlinewidth\": 0, \"ticks\": \"\"}, \"type\": \"choropleth\"}], \"contour\": [{\"colorbar\": {\"outlinewidth\": 0, \"ticks\": \"\"}, \"colorscale\": [[0.0, \"#0d0887\"], [0.1111111111111111, \"#46039f\"], [0.2222222222222222, \"#7201a8\"], [0.3333333333333333, \"#9c179e\"], [0.4444444444444444, \"#bd3786\"], [0.5555555555555556, \"#d8576b\"], [0.6666666666666666, \"#ed7953\"], [0.7777777777777778, \"#fb9f3a\"], [0.8888888888888888, \"#fdca26\"], [1.0, \"#f0f921\"]], \"type\": \"contour\"}], \"contourcarpet\": [{\"colorbar\": {\"outlinewidth\": 0, \"ticks\": \"\"}, \"type\": \"contourcarpet\"}], \"heatmap\": [{\"colorbar\": {\"outlinewidth\": 0, \"ticks\": \"\"}, \"colorscale\": [[0.0, \"#0d0887\"], [0.1111111111111111, \"#46039f\"], [0.2222222222222222, \"#7201a8\"], [0.3333333333333333, \"#9c179e\"], [0.4444444444444444, \"#bd3786\"], [0.5555555555555556, \"#d8576b\"], [0.6666666666666666, \"#ed7953\"], [0.7777777777777778, \"#fb9f3a\"], [0.8888888888888888, \"#fdca26\"], [1.0, \"#f0f921\"]], \"type\": \"heatmap\"}], \"heatmapgl\": [{\"colorbar\": {\"outlinewidth\": 0, \"ticks\": \"\"}, \"colorscale\": [[0.0, \"#0d0887\"], [0.1111111111111111, \"#46039f\"], [0.2222222222222222, \"#7201a8\"], [0.3333333333333333, \"#9c179e\"], [0.4444444444444444, \"#bd3786\"], [0.5555555555555556, \"#d8576b\"], [0.6666666666666666, \"#ed7953\"], [0.7777777777777778, \"#fb9f3a\"], [0.8888888888888888, \"#fdca26\"], [1.0, \"#f0f921\"]], \"type\": \"heatmapgl\"}], \"histogram\": [{\"marker\": {\"colorbar\": {\"outlinewidth\": 0, \"ticks\": \"\"}}, \"type\": \"histogram\"}], \"histogram2d\": [{\"colorbar\": {\"outlinewidth\": 0, \"ticks\": \"\"}, \"colorscale\": [[0.0, \"#0d0887\"], [0.1111111111111111, \"#46039f\"], [0.2222222222222222, \"#7201a8\"], [0.3333333333333333, \"#9c179e\"], [0.4444444444444444, \"#bd3786\"], [0.5555555555555556, \"#d8576b\"], [0.6666666666666666, \"#ed7953\"], [0.7777777777777778, \"#fb9f3a\"], [0.8888888888888888, \"#fdca26\"], [1.0, \"#f0f921\"]], \"type\": \"histogram2d\"}], \"histogram2dcontour\": [{\"colorbar\": {\"outlinewidth\": 0, \"ticks\": \"\"}, \"colorscale\": [[0.0, \"#0d0887\"], [0.1111111111111111, \"#46039f\"], [0.2222222222222222, \"#7201a8\"], [0.3333333333333333, \"#9c179e\"], [0.4444444444444444, \"#bd3786\"], [0.5555555555555556, \"#d8576b\"], [0.6666666666666666, \"#ed7953\"], [0.7777777777777778, \"#fb9f3a\"], [0.8888888888888888, \"#fdca26\"], [1.0, \"#f0f921\"]], \"type\": \"histogram2dcontour\"}], \"mesh3d\": [{\"colorbar\": {\"outlinewidth\": 0, \"ticks\": \"\"}, \"type\": \"mesh3d\"}], \"parcoords\": [{\"line\": {\"colorbar\": {\"outlinewidth\": 0, \"ticks\": \"\"}}, \"type\": \"parcoords\"}], \"pie\": [{\"automargin\": true, \"type\": \"pie\"}], \"scatter\": [{\"marker\": {\"colorbar\": {\"outlinewidth\": 0, \"ticks\": \"\"}}, \"type\": \"scatter\"}], \"scatter3d\": [{\"line\": {\"colorbar\": {\"outlinewidth\": 0, \"ticks\": \"\"}}, \"marker\": {\"colorbar\": {\"outlinewidth\": 0, \"ticks\": \"\"}}, \"type\": \"scatter3d\"}], \"scattercarpet\": [{\"marker\": {\"colorbar\": {\"outlinewidth\": 0, \"ticks\": \"\"}}, \"type\": \"scattercarpet\"}], \"scattergeo\": [{\"marker\": {\"colorbar\": {\"outlinewidth\": 0, \"ticks\": \"\"}}, \"type\": \"scattergeo\"}], \"scattergl\": [{\"marker\": {\"colorbar\": {\"outlinewidth\": 0, \"ticks\": \"\"}}, \"type\": \"scattergl\"}], \"scattermapbox\": [{\"marker\": {\"colorbar\": {\"outlinewidth\": 0, \"ticks\": \"\"}}, \"type\": \"scattermapbox\"}], \"scatterpolar\": [{\"marker\": {\"colorbar\": {\"outlinewidth\": 0, \"ticks\": \"\"}}, \"type\": \"scatterpolar\"}], \"scatterpolargl\": [{\"marker\": {\"colorbar\": {\"outlinewidth\": 0, \"ticks\": \"\"}}, \"type\": \"scatterpolargl\"}], \"scatterternary\": [{\"marker\": {\"colorbar\": {\"outlinewidth\": 0, \"ticks\": \"\"}}, \"type\": \"scatterternary\"}], \"surface\": [{\"colorbar\": {\"outlinewidth\": 0, \"ticks\": \"\"}, \"colorscale\": [[0.0, \"#0d0887\"], [0.1111111111111111, \"#46039f\"], [0.2222222222222222, \"#7201a8\"], [0.3333333333333333, \"#9c179e\"], [0.4444444444444444, \"#bd3786\"], [0.5555555555555556, \"#d8576b\"], [0.6666666666666666, \"#ed7953\"], [0.7777777777777778, \"#fb9f3a\"], [0.8888888888888888, \"#fdca26\"], [1.0, \"#f0f921\"]], \"type\": \"surface\"}], \"table\": [{\"cells\": {\"fill\": {\"color\": \"#EBF0F8\"}, \"line\": {\"color\": \"white\"}}, \"header\": {\"fill\": {\"color\": \"#C8D4E3\"}, \"line\": {\"color\": \"white\"}}, \"type\": \"table\"}]}, \"layout\": {\"annotationdefaults\": {\"arrowcolor\": \"#2a3f5f\", \"arrowhead\": 0, \"arrowwidth\": 1}, \"coloraxis\": {\"colorbar\": {\"outlinewidth\": 0, \"ticks\": \"\"}}, \"colorscale\": {\"diverging\": [[0, \"#8e0152\"], [0.1, \"#c51b7d\"], [0.2, \"#de77ae\"], [0.3, \"#f1b6da\"], [0.4, \"#fde0ef\"], [0.5, \"#f7f7f7\"], [0.6, \"#e6f5d0\"], [0.7, \"#b8e186\"], [0.8, \"#7fbc41\"], [0.9, \"#4d9221\"], [1, \"#276419\"]], \"sequential\": [[0.0, \"#0d0887\"], [0.1111111111111111, \"#46039f\"], [0.2222222222222222, \"#7201a8\"], [0.3333333333333333, \"#9c179e\"], [0.4444444444444444, \"#bd3786\"], [0.5555555555555556, \"#d8576b\"], [0.6666666666666666, \"#ed7953\"], [0.7777777777777778, \"#fb9f3a\"], [0.8888888888888888, \"#fdca26\"], [1.0, \"#f0f921\"]], \"sequentialminus\": [[0.0, \"#0d0887\"], [0.1111111111111111, \"#46039f\"], [0.2222222222222222, \"#7201a8\"], [0.3333333333333333, \"#9c179e\"], [0.4444444444444444, \"#bd3786\"], [0.5555555555555556, \"#d8576b\"], [0.6666666666666666, \"#ed7953\"], [0.7777777777777778, \"#fb9f3a\"], [0.8888888888888888, \"#fdca26\"], [1.0, \"#f0f921\"]]}, \"colorway\": [\"#636efa\", \"#EF553B\", \"#00cc96\", \"#ab63fa\", \"#FFA15A\", \"#19d3f3\", \"#FF6692\", \"#B6E880\", \"#FF97FF\", \"#FECB52\"], \"font\": {\"color\": \"#2a3f5f\"}, \"geo\": {\"bgcolor\": \"white\", \"lakecolor\": \"white\", \"landcolor\": \"#E5ECF6\", \"showlakes\": true, \"showland\": true, \"subunitcolor\": \"white\"}, \"hoverlabel\": {\"align\": \"left\"}, \"hovermode\": \"closest\", \"mapbox\": {\"style\": \"light\"}, \"paper_bgcolor\": \"white\", \"plot_bgcolor\": \"#E5ECF6\", \"polar\": {\"angularaxis\": {\"gridcolor\": \"white\", \"linecolor\": \"white\", \"ticks\": \"\"}, \"bgcolor\": \"#E5ECF6\", \"radialaxis\": {\"gridcolor\": \"white\", \"linecolor\": \"white\", \"ticks\": \"\"}}, \"scene\": {\"xaxis\": {\"backgroundcolor\": \"#E5ECF6\", \"gridcolor\": \"white\", \"gridwidth\": 2, \"linecolor\": \"white\", \"showbackground\": true, \"ticks\": \"\", \"zerolinecolor\": \"white\"}, \"yaxis\": {\"backgroundcolor\": \"#E5ECF6\", \"gridcolor\": \"white\", \"gridwidth\": 2, \"linecolor\": \"white\", \"showbackground\": true, \"ticks\": \"\", \"zerolinecolor\": \"white\"}, \"zaxis\": {\"backgroundcolor\": \"#E5ECF6\", \"gridcolor\": \"white\", \"gridwidth\": 2, \"linecolor\": \"white\", \"showbackground\": true, \"ticks\": \"\", \"zerolinecolor\": \"white\"}}, \"shapedefaults\": {\"line\": {\"color\": \"#2a3f5f\"}}, \"ternary\": {\"aaxis\": {\"gridcolor\": \"white\", \"linecolor\": \"white\", \"ticks\": \"\"}, \"baxis\": {\"gridcolor\": \"white\", \"linecolor\": \"white\", \"ticks\": \"\"}, \"bgcolor\": \"#E5ECF6\", \"caxis\": {\"gridcolor\": \"white\", \"linecolor\": \"white\", \"ticks\": \"\"}}, \"title\": {\"x\": 0.05}, \"xaxis\": {\"automargin\": true, \"gridcolor\": \"white\", \"linecolor\": \"white\", \"ticks\": \"\", \"title\": {\"standoff\": 15}, \"zerolinecolor\": \"white\", \"zerolinewidth\": 2}, \"yaxis\": {\"automargin\": true, \"gridcolor\": \"white\", \"linecolor\": \"white\", \"ticks\": \"\", \"title\": {\"standoff\": 15}, \"zerolinecolor\": \"white\", \"zerolinewidth\": 2}}}, \"title\": {\"font\": {\"color\": \"#4D5663\"}, \"text\": \"R\\u00e1cio entre Cdi e IWDA\"}, \"width\": 970, \"xaxis\": {\"gridcolor\": \"#E1E5ED\", \"showgrid\": true, \"tickfont\": {\"color\": \"#4D5663\"}, \"title\": {\"font\": {\"color\": \"#4D5663\"}, \"text\": \"\"}, \"zerolinecolor\": \"#E1E5ED\"}, \"yaxis\": {\"gridcolor\": \"#E1E5ED\", \"showgrid\": true, \"tickfont\": {\"color\": \"#4D5663\"}, \"title\": {\"font\": {\"color\": \"#4D5663\"}, \"text\": \"\"}, \"zerolinecolor\": \"#E1E5ED\"}},\n",
       "                        {\"showLink\": true, \"linkText\": \"Export to plot.ly\", \"plotlyServerURL\": \"https://plot.ly\", \"responsive\": true}\n",
       "                    ).then(function(){\n",
       "                            \n",
       "var gd = document.getElementById('0c9a4ec5-facb-425c-a9e4-fe77daa7f1f9');\n",
       "var x = new MutationObserver(function (mutations, observer) {{\n",
       "        var display = window.getComputedStyle(gd).display;\n",
       "        if (!display || display === 'none') {{\n",
       "            console.log([gd, 'removed!']);\n",
       "            Plotly.purge(gd);\n",
       "            observer.disconnect();\n",
       "        }}\n",
       "}});\n",
       "\n",
       "// Listen for the removal of the full notebook cells\n",
       "var notebookContainer = gd.closest('#notebook-container');\n",
       "if (notebookContainer) {{\n",
       "    x.observe(notebookContainer, {childList: true});\n",
       "}}\n",
       "\n",
       "// Listen for the clearing of the current output cell\n",
       "var outputEl = gd.closest('.output');\n",
       "if (outputEl) {{\n",
       "    x.observe(outputEl, {childList: true});\n",
       "}}\n",
       "\n",
       "                        })\n",
       "                };\n",
       "                });\n",
       "            </script>\n",
       "        </div>"
      ]
     },
     "metadata": {},
     "output_type": "display_data"
    }
   ],
   "source": [
    "round(fundos_norm['Cdi'] / fundos_norm['IWDA'], 3).iplot(yTitle='', title='Rácio entre Cdi e IWDA',  colors=['royalblue', 'orange', 'dimgray'], dimensions = dimensions)"
   ]
  },
  {
   "cell_type": "markdown",
   "metadata": {},
   "source": [
    "##### Descidas a favor do IWDA e subidas a favor da casa de investimentos"
   ]
  },
  {
   "cell_type": "code",
   "execution_count": 42,
   "metadata": {},
   "outputs": [
    {
     "data": {
      "application/vnd.plotly.v1+json": {
       "config": {
        "linkText": "Export to plot.ly",
        "plotlyServerURL": "https://plot.ly",
        "showLink": true
       },
       "data": [
        {
         "line": {
          "color": "rgba(65, 105, 225, 1.0)",
          "dash": "solid",
          "shape": "linear",
          "width": 1.3
         },
         "mode": "lines",
         "name": "None",
         "text": "",
         "type": "scatter",
         "x": [
          "2014-10-31",
          "2014-11-28",
          "2015-01-30",
          "2015-02-27",
          "2015-03-31",
          "2015-04-30",
          "2015-05-29",
          "2015-06-30",
          "2015-07-31",
          "2015-08-31",
          "2015-09-30",
          "2015-10-30",
          "2015-11-30",
          "2016-01-29",
          "2016-02-29",
          "2016-03-31",
          "2016-04-29",
          "2016-05-31",
          "2016-06-30",
          "2016-07-29",
          "2016-08-31",
          "2016-09-30",
          "2016-10-31",
          "2016-11-30",
          "2016-12-30",
          "2017-01-31",
          "2017-02-28",
          "2017-03-31",
          "2017-04-28",
          "2017-05-31",
          "2017-06-30",
          "2017-07-31",
          "2017-08-31",
          "2017-09-29",
          "2017-11-30",
          "2017-12-29",
          "2018-01-31",
          "2018-02-28",
          "2018-04-30",
          "2018-05-31",
          "2018-06-29",
          "2018-07-31",
          "2018-08-31",
          "2018-09-28",
          "2018-10-31",
          "2018-11-30",
          "2019-01-31",
          "2019-02-28",
          "2019-03-29",
          "2019-04-30",
          "2019-05-31",
          "2019-06-28",
          "2019-07-31",
          "2019-08-30",
          "2019-09-30",
          "2019-10-31",
          "2019-11-29",
          "2020-01-31",
          "2020-02-28",
          "2020-03-31",
          "2020-04-30",
          "2020-05-29",
          "2020-06-30",
          "2020-07-31",
          "2020-08-31"
         ],
         "y": [
          1,
          1.0077,
          1.0131,
          1.0026,
          1.0021,
          0.9953,
          0.9847,
          0.9865,
          1.0011,
          1.0091,
          1.0226,
          1.0229,
          1.0344,
          1.057,
          1.0657,
          1.0692,
          1.0613,
          1.0622,
          1.0914,
          1.0795,
          1.0607,
          1.06,
          1.0389,
          1.0321,
          1.0279,
          1.0319,
          1.0402,
          1.046,
          1.0515,
          1.0647,
          1.0568,
          1.0518,
          1.0554,
          1.0456,
          1.0338,
          1.0263,
          1.0293,
          1.029,
          1.0191,
          1.0515,
          1.0734,
          1.0741,
          1.1016,
          1.088,
          1.0876,
          1.0909,
          1.0875,
          1.1072,
          1.1297,
          1.1474,
          1.1796,
          1.1757,
          1.1885,
          1.211,
          1.1806,
          1.1668,
          1.1753,
          1.2135,
          1.2213,
          1.2727,
          1.3073,
          1.331,
          1.3541,
          1.4478,
          1.4673
         ]
        }
       ],
       "layout": {
        "height": 500,
        "legend": {
         "bgcolor": "#F5F6F9",
         "font": {
          "color": "#4D5663"
         }
        },
        "paper_bgcolor": "#F5F6F9",
        "plot_bgcolor": "#F5F6F9",
        "template": {
         "data": {
          "bar": [
           {
            "error_x": {
             "color": "#2a3f5f"
            },
            "error_y": {
             "color": "#2a3f5f"
            },
            "marker": {
             "line": {
              "color": "#E5ECF6",
              "width": 0.5
             }
            },
            "type": "bar"
           }
          ],
          "barpolar": [
           {
            "marker": {
             "line": {
              "color": "#E5ECF6",
              "width": 0.5
             }
            },
            "type": "barpolar"
           }
          ],
          "carpet": [
           {
            "aaxis": {
             "endlinecolor": "#2a3f5f",
             "gridcolor": "white",
             "linecolor": "white",
             "minorgridcolor": "white",
             "startlinecolor": "#2a3f5f"
            },
            "baxis": {
             "endlinecolor": "#2a3f5f",
             "gridcolor": "white",
             "linecolor": "white",
             "minorgridcolor": "white",
             "startlinecolor": "#2a3f5f"
            },
            "type": "carpet"
           }
          ],
          "choropleth": [
           {
            "colorbar": {
             "outlinewidth": 0,
             "ticks": ""
            },
            "type": "choropleth"
           }
          ],
          "contour": [
           {
            "colorbar": {
             "outlinewidth": 0,
             "ticks": ""
            },
            "colorscale": [
             [
              0,
              "#0d0887"
             ],
             [
              0.1111111111111111,
              "#46039f"
             ],
             [
              0.2222222222222222,
              "#7201a8"
             ],
             [
              0.3333333333333333,
              "#9c179e"
             ],
             [
              0.4444444444444444,
              "#bd3786"
             ],
             [
              0.5555555555555556,
              "#d8576b"
             ],
             [
              0.6666666666666666,
              "#ed7953"
             ],
             [
              0.7777777777777778,
              "#fb9f3a"
             ],
             [
              0.8888888888888888,
              "#fdca26"
             ],
             [
              1,
              "#f0f921"
             ]
            ],
            "type": "contour"
           }
          ],
          "contourcarpet": [
           {
            "colorbar": {
             "outlinewidth": 0,
             "ticks": ""
            },
            "type": "contourcarpet"
           }
          ],
          "heatmap": [
           {
            "colorbar": {
             "outlinewidth": 0,
             "ticks": ""
            },
            "colorscale": [
             [
              0,
              "#0d0887"
             ],
             [
              0.1111111111111111,
              "#46039f"
             ],
             [
              0.2222222222222222,
              "#7201a8"
             ],
             [
              0.3333333333333333,
              "#9c179e"
             ],
             [
              0.4444444444444444,
              "#bd3786"
             ],
             [
              0.5555555555555556,
              "#d8576b"
             ],
             [
              0.6666666666666666,
              "#ed7953"
             ],
             [
              0.7777777777777778,
              "#fb9f3a"
             ],
             [
              0.8888888888888888,
              "#fdca26"
             ],
             [
              1,
              "#f0f921"
             ]
            ],
            "type": "heatmap"
           }
          ],
          "heatmapgl": [
           {
            "colorbar": {
             "outlinewidth": 0,
             "ticks": ""
            },
            "colorscale": [
             [
              0,
              "#0d0887"
             ],
             [
              0.1111111111111111,
              "#46039f"
             ],
             [
              0.2222222222222222,
              "#7201a8"
             ],
             [
              0.3333333333333333,
              "#9c179e"
             ],
             [
              0.4444444444444444,
              "#bd3786"
             ],
             [
              0.5555555555555556,
              "#d8576b"
             ],
             [
              0.6666666666666666,
              "#ed7953"
             ],
             [
              0.7777777777777778,
              "#fb9f3a"
             ],
             [
              0.8888888888888888,
              "#fdca26"
             ],
             [
              1,
              "#f0f921"
             ]
            ],
            "type": "heatmapgl"
           }
          ],
          "histogram": [
           {
            "marker": {
             "colorbar": {
              "outlinewidth": 0,
              "ticks": ""
             }
            },
            "type": "histogram"
           }
          ],
          "histogram2d": [
           {
            "colorbar": {
             "outlinewidth": 0,
             "ticks": ""
            },
            "colorscale": [
             [
              0,
              "#0d0887"
             ],
             [
              0.1111111111111111,
              "#46039f"
             ],
             [
              0.2222222222222222,
              "#7201a8"
             ],
             [
              0.3333333333333333,
              "#9c179e"
             ],
             [
              0.4444444444444444,
              "#bd3786"
             ],
             [
              0.5555555555555556,
              "#d8576b"
             ],
             [
              0.6666666666666666,
              "#ed7953"
             ],
             [
              0.7777777777777778,
              "#fb9f3a"
             ],
             [
              0.8888888888888888,
              "#fdca26"
             ],
             [
              1,
              "#f0f921"
             ]
            ],
            "type": "histogram2d"
           }
          ],
          "histogram2dcontour": [
           {
            "colorbar": {
             "outlinewidth": 0,
             "ticks": ""
            },
            "colorscale": [
             [
              0,
              "#0d0887"
             ],
             [
              0.1111111111111111,
              "#46039f"
             ],
             [
              0.2222222222222222,
              "#7201a8"
             ],
             [
              0.3333333333333333,
              "#9c179e"
             ],
             [
              0.4444444444444444,
              "#bd3786"
             ],
             [
              0.5555555555555556,
              "#d8576b"
             ],
             [
              0.6666666666666666,
              "#ed7953"
             ],
             [
              0.7777777777777778,
              "#fb9f3a"
             ],
             [
              0.8888888888888888,
              "#fdca26"
             ],
             [
              1,
              "#f0f921"
             ]
            ],
            "type": "histogram2dcontour"
           }
          ],
          "mesh3d": [
           {
            "colorbar": {
             "outlinewidth": 0,
             "ticks": ""
            },
            "type": "mesh3d"
           }
          ],
          "parcoords": [
           {
            "line": {
             "colorbar": {
              "outlinewidth": 0,
              "ticks": ""
             }
            },
            "type": "parcoords"
           }
          ],
          "pie": [
           {
            "automargin": true,
            "type": "pie"
           }
          ],
          "scatter": [
           {
            "marker": {
             "colorbar": {
              "outlinewidth": 0,
              "ticks": ""
             }
            },
            "type": "scatter"
           }
          ],
          "scatter3d": [
           {
            "line": {
             "colorbar": {
              "outlinewidth": 0,
              "ticks": ""
             }
            },
            "marker": {
             "colorbar": {
              "outlinewidth": 0,
              "ticks": ""
             }
            },
            "type": "scatter3d"
           }
          ],
          "scattercarpet": [
           {
            "marker": {
             "colorbar": {
              "outlinewidth": 0,
              "ticks": ""
             }
            },
            "type": "scattercarpet"
           }
          ],
          "scattergeo": [
           {
            "marker": {
             "colorbar": {
              "outlinewidth": 0,
              "ticks": ""
             }
            },
            "type": "scattergeo"
           }
          ],
          "scattergl": [
           {
            "marker": {
             "colorbar": {
              "outlinewidth": 0,
              "ticks": ""
             }
            },
            "type": "scattergl"
           }
          ],
          "scattermapbox": [
           {
            "marker": {
             "colorbar": {
              "outlinewidth": 0,
              "ticks": ""
             }
            },
            "type": "scattermapbox"
           }
          ],
          "scatterpolar": [
           {
            "marker": {
             "colorbar": {
              "outlinewidth": 0,
              "ticks": ""
             }
            },
            "type": "scatterpolar"
           }
          ],
          "scatterpolargl": [
           {
            "marker": {
             "colorbar": {
              "outlinewidth": 0,
              "ticks": ""
             }
            },
            "type": "scatterpolargl"
           }
          ],
          "scatterternary": [
           {
            "marker": {
             "colorbar": {
              "outlinewidth": 0,
              "ticks": ""
             }
            },
            "type": "scatterternary"
           }
          ],
          "surface": [
           {
            "colorbar": {
             "outlinewidth": 0,
             "ticks": ""
            },
            "colorscale": [
             [
              0,
              "#0d0887"
             ],
             [
              0.1111111111111111,
              "#46039f"
             ],
             [
              0.2222222222222222,
              "#7201a8"
             ],
             [
              0.3333333333333333,
              "#9c179e"
             ],
             [
              0.4444444444444444,
              "#bd3786"
             ],
             [
              0.5555555555555556,
              "#d8576b"
             ],
             [
              0.6666666666666666,
              "#ed7953"
             ],
             [
              0.7777777777777778,
              "#fb9f3a"
             ],
             [
              0.8888888888888888,
              "#fdca26"
             ],
             [
              1,
              "#f0f921"
             ]
            ],
            "type": "surface"
           }
          ],
          "table": [
           {
            "cells": {
             "fill": {
              "color": "#EBF0F8"
             },
             "line": {
              "color": "white"
             }
            },
            "header": {
             "fill": {
              "color": "#C8D4E3"
             },
             "line": {
              "color": "white"
             }
            },
            "type": "table"
           }
          ]
         },
         "layout": {
          "annotationdefaults": {
           "arrowcolor": "#2a3f5f",
           "arrowhead": 0,
           "arrowwidth": 1
          },
          "coloraxis": {
           "colorbar": {
            "outlinewidth": 0,
            "ticks": ""
           }
          },
          "colorscale": {
           "diverging": [
            [
             0,
             "#8e0152"
            ],
            [
             0.1,
             "#c51b7d"
            ],
            [
             0.2,
             "#de77ae"
            ],
            [
             0.3,
             "#f1b6da"
            ],
            [
             0.4,
             "#fde0ef"
            ],
            [
             0.5,
             "#f7f7f7"
            ],
            [
             0.6,
             "#e6f5d0"
            ],
            [
             0.7,
             "#b8e186"
            ],
            [
             0.8,
             "#7fbc41"
            ],
            [
             0.9,
             "#4d9221"
            ],
            [
             1,
             "#276419"
            ]
           ],
           "sequential": [
            [
             0,
             "#0d0887"
            ],
            [
             0.1111111111111111,
             "#46039f"
            ],
            [
             0.2222222222222222,
             "#7201a8"
            ],
            [
             0.3333333333333333,
             "#9c179e"
            ],
            [
             0.4444444444444444,
             "#bd3786"
            ],
            [
             0.5555555555555556,
             "#d8576b"
            ],
            [
             0.6666666666666666,
             "#ed7953"
            ],
            [
             0.7777777777777778,
             "#fb9f3a"
            ],
            [
             0.8888888888888888,
             "#fdca26"
            ],
            [
             1,
             "#f0f921"
            ]
           ],
           "sequentialminus": [
            [
             0,
             "#0d0887"
            ],
            [
             0.1111111111111111,
             "#46039f"
            ],
            [
             0.2222222222222222,
             "#7201a8"
            ],
            [
             0.3333333333333333,
             "#9c179e"
            ],
            [
             0.4444444444444444,
             "#bd3786"
            ],
            [
             0.5555555555555556,
             "#d8576b"
            ],
            [
             0.6666666666666666,
             "#ed7953"
            ],
            [
             0.7777777777777778,
             "#fb9f3a"
            ],
            [
             0.8888888888888888,
             "#fdca26"
            ],
            [
             1,
             "#f0f921"
            ]
           ]
          },
          "colorway": [
           "#636efa",
           "#EF553B",
           "#00cc96",
           "#ab63fa",
           "#FFA15A",
           "#19d3f3",
           "#FF6692",
           "#B6E880",
           "#FF97FF",
           "#FECB52"
          ],
          "font": {
           "color": "#2a3f5f"
          },
          "geo": {
           "bgcolor": "white",
           "lakecolor": "white",
           "landcolor": "#E5ECF6",
           "showlakes": true,
           "showland": true,
           "subunitcolor": "white"
          },
          "hoverlabel": {
           "align": "left"
          },
          "hovermode": "closest",
          "mapbox": {
           "style": "light"
          },
          "paper_bgcolor": "white",
          "plot_bgcolor": "#E5ECF6",
          "polar": {
           "angularaxis": {
            "gridcolor": "white",
            "linecolor": "white",
            "ticks": ""
           },
           "bgcolor": "#E5ECF6",
           "radialaxis": {
            "gridcolor": "white",
            "linecolor": "white",
            "ticks": ""
           }
          },
          "scene": {
           "xaxis": {
            "backgroundcolor": "#E5ECF6",
            "gridcolor": "white",
            "gridwidth": 2,
            "linecolor": "white",
            "showbackground": true,
            "ticks": "",
            "zerolinecolor": "white"
           },
           "yaxis": {
            "backgroundcolor": "#E5ECF6",
            "gridcolor": "white",
            "gridwidth": 2,
            "linecolor": "white",
            "showbackground": true,
            "ticks": "",
            "zerolinecolor": "white"
           },
           "zaxis": {
            "backgroundcolor": "#E5ECF6",
            "gridcolor": "white",
            "gridwidth": 2,
            "linecolor": "white",
            "showbackground": true,
            "ticks": "",
            "zerolinecolor": "white"
           }
          },
          "shapedefaults": {
           "line": {
            "color": "#2a3f5f"
           }
          },
          "ternary": {
           "aaxis": {
            "gridcolor": "white",
            "linecolor": "white",
            "ticks": ""
           },
           "baxis": {
            "gridcolor": "white",
            "linecolor": "white",
            "ticks": ""
           },
           "bgcolor": "#E5ECF6",
           "caxis": {
            "gridcolor": "white",
            "linecolor": "white",
            "ticks": ""
           }
          },
          "title": {
           "x": 0.05
          },
          "xaxis": {
           "automargin": true,
           "gridcolor": "white",
           "linecolor": "white",
           "ticks": "",
           "title": {
            "standoff": 15
           },
           "zerolinecolor": "white",
           "zerolinewidth": 2
          },
          "yaxis": {
           "automargin": true,
           "gridcolor": "white",
           "linecolor": "white",
           "ticks": "",
           "title": {
            "standoff": 15
           },
           "zerolinecolor": "white",
           "zerolinewidth": 2
          }
         }
        },
        "title": {
         "font": {
          "color": "#4D5663"
         },
         "text": "Rácio entre IWDA e IS3S"
        },
        "width": 970,
        "xaxis": {
         "autorange": true,
         "gridcolor": "#E1E5ED",
         "range": [
          "2014-10-31",
          "2020-08-31"
         ],
         "showgrid": true,
         "tickfont": {
          "color": "#4D5663"
         },
         "title": {
          "font": {
           "color": "#4D5663"
          },
          "text": ""
         },
         "type": "date",
         "zerolinecolor": "#E1E5ED"
        },
        "yaxis": {
         "autorange": true,
         "gridcolor": "#E1E5ED",
         "range": [
          0.9578888888888889,
          1.4941111111111112
         ],
         "showgrid": true,
         "tickfont": {
          "color": "#4D5663"
         },
         "title": {
          "font": {
           "color": "#4D5663"
          },
          "text": "Valor por cada 100€ investidos"
         },
         "type": "linear",
         "zerolinecolor": "#E1E5ED"
        }
       }
      },
      "image/png": "[encoded data removed]",
      "text/html": [
       "<div>\n",
       "        \n",
       "        \n",
       "            <div id=\"09494abe-d1e1-4c36-9e7a-ac0c70821a81\" class=\"plotly-graph-div\" style=\"height:500px; width:970px;\"></div>\n",
       "            <script type=\"text/javascript\">\n",
       "                require([\"plotly\"], function(Plotly) {\n",
       "                    window.PLOTLYENV=window.PLOTLYENV || {};\n",
       "                    window.PLOTLYENV.BASE_URL='https://plot.ly';\n",
       "                    \n",
       "                if (document.getElementById(\"09494abe-d1e1-4c36-9e7a-ac0c70821a81\")) {\n",
       "                    Plotly.newPlot(\n",
       "                        '09494abe-d1e1-4c36-9e7a-ac0c70821a81',\n",
       "                        [{\"line\": {\"color\": \"rgba(65, 105, 225, 1.0)\", \"dash\": \"solid\", \"shape\": \"linear\", \"width\": 1.3}, \"mode\": \"lines\", \"name\": \"None\", \"text\": \"\", \"type\": \"scatter\", \"x\": [\"2014-10-31\", \"2014-11-28\", \"2015-01-30\", \"2015-02-27\", \"2015-03-31\", \"2015-04-30\", \"2015-05-29\", \"2015-06-30\", \"2015-07-31\", \"2015-08-31\", \"2015-09-30\", \"2015-10-30\", \"2015-11-30\", \"2016-01-29\", \"2016-02-29\", \"2016-03-31\", \"2016-04-29\", \"2016-05-31\", \"2016-06-30\", \"2016-07-29\", \"2016-08-31\", \"2016-09-30\", \"2016-10-31\", \"2016-11-30\", \"2016-12-30\", \"2017-01-31\", \"2017-02-28\", \"2017-03-31\", \"2017-04-28\", \"2017-05-31\", \"2017-06-30\", \"2017-07-31\", \"2017-08-31\", \"2017-09-29\", \"2017-11-30\", \"2017-12-29\", \"2018-01-31\", \"2018-02-28\", \"2018-04-30\", \"2018-05-31\", \"2018-06-29\", \"2018-07-31\", \"2018-08-31\", \"2018-09-28\", \"2018-10-31\", \"2018-11-30\", \"2019-01-31\", \"2019-02-28\", \"2019-03-29\", \"2019-04-30\", \"2019-05-31\", \"2019-06-28\", \"2019-07-31\", \"2019-08-30\", \"2019-09-30\", \"2019-10-31\", \"2019-11-29\", \"2020-01-31\", \"2020-02-28\", \"2020-03-31\", \"2020-04-30\", \"2020-05-29\", \"2020-06-30\", \"2020-07-31\", \"2020-08-31\"], \"y\": [1.0, 1.0077, 1.0131, 1.0026, 1.0021, 0.9953, 0.9847, 0.9865, 1.0011, 1.0091, 1.0226, 1.0229, 1.0344, 1.057, 1.0657, 1.0692, 1.0613, 1.0622, 1.0914, 1.0795, 1.0607, 1.06, 1.0389, 1.0321, 1.0279, 1.0319, 1.0402, 1.046, 1.0515, 1.0647, 1.0568, 1.0518, 1.0554, 1.0456, 1.0338, 1.0263, 1.0293, 1.029, 1.0191, 1.0515, 1.0734, 1.0741, 1.1016, 1.088, 1.0876, 1.0909, 1.0875, 1.1072, 1.1297, 1.1474, 1.1796, 1.1757, 1.1885, 1.211, 1.1806, 1.1668, 1.1753, 1.2135, 1.2213, 1.2727, 1.3073, 1.331, 1.3541, 1.4478, 1.4673]}],\n",
       "                        {\"height\": 500, \"legend\": {\"bgcolor\": \"#F5F6F9\", \"font\": {\"color\": \"#4D5663\"}}, \"paper_bgcolor\": \"#F5F6F9\", \"plot_bgcolor\": \"#F5F6F9\", \"template\": {\"data\": {\"bar\": [{\"error_x\": {\"color\": \"#2a3f5f\"}, \"error_y\": {\"color\": \"#2a3f5f\"}, \"marker\": {\"line\": {\"color\": \"#E5ECF6\", \"width\": 0.5}}, \"type\": \"bar\"}], \"barpolar\": [{\"marker\": {\"line\": {\"color\": \"#E5ECF6\", \"width\": 0.5}}, \"type\": \"barpolar\"}], \"carpet\": [{\"aaxis\": {\"endlinecolor\": \"#2a3f5f\", \"gridcolor\": \"white\", \"linecolor\": \"white\", \"minorgridcolor\": \"white\", \"startlinecolor\": \"#2a3f5f\"}, \"baxis\": {\"endlinecolor\": \"#2a3f5f\", \"gridcolor\": \"white\", \"linecolor\": \"white\", \"minorgridcolor\": \"white\", \"startlinecolor\": \"#2a3f5f\"}, \"type\": \"carpet\"}], \"choropleth\": [{\"colorbar\": {\"outlinewidth\": 0, \"ticks\": \"\"}, \"type\": \"choropleth\"}], \"contour\": [{\"colorbar\": {\"outlinewidth\": 0, \"ticks\": \"\"}, \"colorscale\": [[0.0, \"#0d0887\"], [0.1111111111111111, \"#46039f\"], [0.2222222222222222, \"#7201a8\"], [0.3333333333333333, \"#9c179e\"], [0.4444444444444444, \"#bd3786\"], [0.5555555555555556, \"#d8576b\"], [0.6666666666666666, \"#ed7953\"], [0.7777777777777778, \"#fb9f3a\"], [0.8888888888888888, \"#fdca26\"], [1.0, \"#f0f921\"]], \"type\": \"contour\"}], \"contourcarpet\": [{\"colorbar\": {\"outlinewidth\": 0, \"ticks\": \"\"}, \"type\": \"contourcarpet\"}], \"heatmap\": [{\"colorbar\": {\"outlinewidth\": 0, \"ticks\": \"\"}, \"colorscale\": [[0.0, \"#0d0887\"], [0.1111111111111111, \"#46039f\"], [0.2222222222222222, \"#7201a8\"], [0.3333333333333333, \"#9c179e\"], [0.4444444444444444, \"#bd3786\"], [0.5555555555555556, \"#d8576b\"], [0.6666666666666666, \"#ed7953\"], [0.7777777777777778, \"#fb9f3a\"], [0.8888888888888888, \"#fdca26\"], [1.0, \"#f0f921\"]], \"type\": \"heatmap\"}], \"heatmapgl\": [{\"colorbar\": {\"outlinewidth\": 0, \"ticks\": \"\"}, \"colorscale\": [[0.0, \"#0d0887\"], [0.1111111111111111, \"#46039f\"], [0.2222222222222222, \"#7201a8\"], [0.3333333333333333, \"#9c179e\"], [0.4444444444444444, \"#bd3786\"], [0.5555555555555556, \"#d8576b\"], [0.6666666666666666, \"#ed7953\"], [0.7777777777777778, \"#fb9f3a\"], [0.8888888888888888, \"#fdca26\"], [1.0, \"#f0f921\"]], \"type\": \"heatmapgl\"}], \"histogram\": [{\"marker\": {\"colorbar\": {\"outlinewidth\": 0, \"ticks\": \"\"}}, \"type\": \"histogram\"}], \"histogram2d\": [{\"colorbar\": {\"outlinewidth\": 0, \"ticks\": \"\"}, \"colorscale\": [[0.0, \"#0d0887\"], [0.1111111111111111, \"#46039f\"], [0.2222222222222222, \"#7201a8\"], [0.3333333333333333, \"#9c179e\"], [0.4444444444444444, \"#bd3786\"], [0.5555555555555556, \"#d8576b\"], [0.6666666666666666, \"#ed7953\"], [0.7777777777777778, \"#fb9f3a\"], [0.8888888888888888, \"#fdca26\"], [1.0, \"#f0f921\"]], \"type\": \"histogram2d\"}], \"histogram2dcontour\": [{\"colorbar\": {\"outlinewidth\": 0, \"ticks\": \"\"}, \"colorscale\": [[0.0, \"#0d0887\"], [0.1111111111111111, \"#46039f\"], [0.2222222222222222, \"#7201a8\"], [0.3333333333333333, \"#9c179e\"], [0.4444444444444444, \"#bd3786\"], [0.5555555555555556, \"#d8576b\"], [0.6666666666666666, \"#ed7953\"], [0.7777777777777778, \"#fb9f3a\"], [0.8888888888888888, \"#fdca26\"], [1.0, \"#f0f921\"]], \"type\": \"histogram2dcontour\"}], \"mesh3d\": [{\"colorbar\": {\"outlinewidth\": 0, \"ticks\": \"\"}, \"type\": \"mesh3d\"}], \"parcoords\": [{\"line\": {\"colorbar\": {\"outlinewidth\": 0, \"ticks\": \"\"}}, \"type\": \"parcoords\"}], \"pie\": [{\"automargin\": true, \"type\": \"pie\"}], \"scatter\": [{\"marker\": {\"colorbar\": {\"outlinewidth\": 0, \"ticks\": \"\"}}, \"type\": \"scatter\"}], \"scatter3d\": [{\"line\": {\"colorbar\": {\"outlinewidth\": 0, \"ticks\": \"\"}}, \"marker\": {\"colorbar\": {\"outlinewidth\": 0, \"ticks\": \"\"}}, \"type\": \"scatter3d\"}], \"scattercarpet\": [{\"marker\": {\"colorbar\": {\"outlinewidth\": 0, \"ticks\": \"\"}}, \"type\": \"scattercarpet\"}], \"scattergeo\": [{\"marker\": {\"colorbar\": {\"outlinewidth\": 0, \"ticks\": \"\"}}, \"type\": \"scattergeo\"}], \"scattergl\": [{\"marker\": {\"colorbar\": {\"outlinewidth\": 0, \"ticks\": \"\"}}, \"type\": \"scattergl\"}], \"scattermapbox\": [{\"marker\": {\"colorbar\": {\"outlinewidth\": 0, \"ticks\": \"\"}}, \"type\": \"scattermapbox\"}], \"scatterpolar\": [{\"marker\": {\"colorbar\": {\"outlinewidth\": 0, \"ticks\": \"\"}}, \"type\": \"scatterpolar\"}], \"scatterpolargl\": [{\"marker\": {\"colorbar\": {\"outlinewidth\": 0, \"ticks\": \"\"}}, \"type\": \"scatterpolargl\"}], \"scatterternary\": [{\"marker\": {\"colorbar\": {\"outlinewidth\": 0, \"ticks\": \"\"}}, \"type\": \"scatterternary\"}], \"surface\": [{\"colorbar\": {\"outlinewidth\": 0, \"ticks\": \"\"}, \"colorscale\": [[0.0, \"#0d0887\"], [0.1111111111111111, \"#46039f\"], [0.2222222222222222, \"#7201a8\"], [0.3333333333333333, \"#9c179e\"], [0.4444444444444444, \"#bd3786\"], [0.5555555555555556, \"#d8576b\"], [0.6666666666666666, \"#ed7953\"], [0.7777777777777778, \"#fb9f3a\"], [0.8888888888888888, \"#fdca26\"], [1.0, \"#f0f921\"]], \"type\": \"surface\"}], \"table\": [{\"cells\": {\"fill\": {\"color\": \"#EBF0F8\"}, \"line\": {\"color\": \"white\"}}, \"header\": {\"fill\": {\"color\": \"#C8D4E3\"}, \"line\": {\"color\": \"white\"}}, \"type\": \"table\"}]}, \"layout\": {\"annotationdefaults\": {\"arrowcolor\": \"#2a3f5f\", \"arrowhead\": 0, \"arrowwidth\": 1}, \"coloraxis\": {\"colorbar\": {\"outlinewidth\": 0, \"ticks\": \"\"}}, \"colorscale\": {\"diverging\": [[0, \"#8e0152\"], [0.1, \"#c51b7d\"], [0.2, \"#de77ae\"], [0.3, \"#f1b6da\"], [0.4, \"#fde0ef\"], [0.5, \"#f7f7f7\"], [0.6, \"#e6f5d0\"], [0.7, \"#b8e186\"], [0.8, \"#7fbc41\"], [0.9, \"#4d9221\"], [1, \"#276419\"]], \"sequential\": [[0.0, \"#0d0887\"], [0.1111111111111111, \"#46039f\"], [0.2222222222222222, \"#7201a8\"], [0.3333333333333333, \"#9c179e\"], [0.4444444444444444, \"#bd3786\"], [0.5555555555555556, \"#d8576b\"], [0.6666666666666666, \"#ed7953\"], [0.7777777777777778, \"#fb9f3a\"], [0.8888888888888888, \"#fdca26\"], [1.0, \"#f0f921\"]], \"sequentialminus\": [[0.0, \"#0d0887\"], [0.1111111111111111, \"#46039f\"], [0.2222222222222222, \"#7201a8\"], [0.3333333333333333, \"#9c179e\"], [0.4444444444444444, \"#bd3786\"], [0.5555555555555556, \"#d8576b\"], [0.6666666666666666, \"#ed7953\"], [0.7777777777777778, \"#fb9f3a\"], [0.8888888888888888, \"#fdca26\"], [1.0, \"#f0f921\"]]}, \"colorway\": [\"#636efa\", \"#EF553B\", \"#00cc96\", \"#ab63fa\", \"#FFA15A\", \"#19d3f3\", \"#FF6692\", \"#B6E880\", \"#FF97FF\", \"#FECB52\"], \"font\": {\"color\": \"#2a3f5f\"}, \"geo\": {\"bgcolor\": \"white\", \"lakecolor\": \"white\", \"landcolor\": \"#E5ECF6\", \"showlakes\": true, \"showland\": true, \"subunitcolor\": \"white\"}, \"hoverlabel\": {\"align\": \"left\"}, \"hovermode\": \"closest\", \"mapbox\": {\"style\": \"light\"}, \"paper_bgcolor\": \"white\", \"plot_bgcolor\": \"#E5ECF6\", \"polar\": {\"angularaxis\": {\"gridcolor\": \"white\", \"linecolor\": \"white\", \"ticks\": \"\"}, \"bgcolor\": \"#E5ECF6\", \"radialaxis\": {\"gridcolor\": \"white\", \"linecolor\": \"white\", \"ticks\": \"\"}}, \"scene\": {\"xaxis\": {\"backgroundcolor\": \"#E5ECF6\", \"gridcolor\": \"white\", \"gridwidth\": 2, \"linecolor\": \"white\", \"showbackground\": true, \"ticks\": \"\", \"zerolinecolor\": \"white\"}, \"yaxis\": {\"backgroundcolor\": \"#E5ECF6\", \"gridcolor\": \"white\", \"gridwidth\": 2, \"linecolor\": \"white\", \"showbackground\": true, \"ticks\": \"\", \"zerolinecolor\": \"white\"}, \"zaxis\": {\"backgroundcolor\": \"#E5ECF6\", \"gridcolor\": \"white\", \"gridwidth\": 2, \"linecolor\": \"white\", \"showbackground\": true, \"ticks\": \"\", \"zerolinecolor\": \"white\"}}, \"shapedefaults\": {\"line\": {\"color\": \"#2a3f5f\"}}, \"ternary\": {\"aaxis\": {\"gridcolor\": \"white\", \"linecolor\": \"white\", \"ticks\": \"\"}, \"baxis\": {\"gridcolor\": \"white\", \"linecolor\": \"white\", \"ticks\": \"\"}, \"bgcolor\": \"#E5ECF6\", \"caxis\": {\"gridcolor\": \"white\", \"linecolor\": \"white\", \"ticks\": \"\"}}, \"title\": {\"x\": 0.05}, \"xaxis\": {\"automargin\": true, \"gridcolor\": \"white\", \"linecolor\": \"white\", \"ticks\": \"\", \"title\": {\"standoff\": 15}, \"zerolinecolor\": \"white\", \"zerolinewidth\": 2}, \"yaxis\": {\"automargin\": true, \"gridcolor\": \"white\", \"linecolor\": \"white\", \"ticks\": \"\", \"title\": {\"standoff\": 15}, \"zerolinecolor\": \"white\", \"zerolinewidth\": 2}}}, \"title\": {\"font\": {\"color\": \"#4D5663\"}, \"text\": \"R\\u00e1cio entre IWDA e IS3S\"}, \"width\": 970, \"xaxis\": {\"gridcolor\": \"#E1E5ED\", \"showgrid\": true, \"tickfont\": {\"color\": \"#4D5663\"}, \"title\": {\"font\": {\"color\": \"#4D5663\"}, \"text\": \"\"}, \"zerolinecolor\": \"#E1E5ED\"}, \"yaxis\": {\"gridcolor\": \"#E1E5ED\", \"showgrid\": true, \"tickfont\": {\"color\": \"#4D5663\"}, \"title\": {\"font\": {\"color\": \"#4D5663\"}, \"text\": \"Valor por cada 100\\u20ac investidos\"}, \"zerolinecolor\": \"#E1E5ED\"}},\n",
       "                        {\"showLink\": true, \"linkText\": \"Export to plot.ly\", \"plotlyServerURL\": \"https://plot.ly\", \"responsive\": true}\n",
       "                    ).then(function(){\n",
       "                            \n",
       "var gd = document.getElementById('09494abe-d1e1-4c36-9e7a-ac0c70821a81');\n",
       "var x = new MutationObserver(function (mutations, observer) {{\n",
       "        var display = window.getComputedStyle(gd).display;\n",
       "        if (!display || display === 'none') {{\n",
       "            console.log([gd, 'removed!']);\n",
       "            Plotly.purge(gd);\n",
       "            observer.disconnect();\n",
       "        }}\n",
       "}});\n",
       "\n",
       "// Listen for the removal of the full notebook cells\n",
       "var notebookContainer = gd.closest('#notebook-container');\n",
       "if (notebookContainer) {{\n",
       "    x.observe(notebookContainer, {childList: true});\n",
       "}}\n",
       "\n",
       "// Listen for the clearing of the current output cell\n",
       "var outputEl = gd.closest('.output');\n",
       "if (outputEl) {{\n",
       "    x.observe(outputEl, {childList: true});\n",
       "}}\n",
       "\n",
       "                        })\n",
       "                };\n",
       "                });\n",
       "            </script>\n",
       "        </div>"
      ]
     },
     "metadata": {},
     "output_type": "display_data"
    }
   ],
   "source": [
    "round(fundos_norm['IWDA'] / fundos_norm['IS3S'], 4).iplot(yTitle='Valor por cada 100€ investidos', title='Rácio entre IWDA e IS3S',  colors=['royalblue', 'orange', 'dimgray'], dimensions = dimensions)"
   ]
  },
  {
   "cell_type": "markdown",
   "metadata": {},
   "source": [
    "##### Valores mais alto overperformance do IWDA face ao IS3S."
   ]
  },
  {
   "cell_type": "code",
   "execution_count": 43,
   "metadata": {},
   "outputs": [
    {
     "data": {
      "image/png": "[encoded data removed]",
      "text/plain": [
       "<Figure size 1080x504 with 1 Axes>"
      ]
     },
     "metadata": {},
     "output_type": "display_data"
    }
   ],
   "source": [
    "fundos=fundos_norm.copy()\n",
    "\n",
    "# Compute monthly returns table\n",
    "nr = 0\n",
    "\n",
    "plot(fundos.iloc[:, nr], title= 'Retornos mensais para ' + fundos.iloc[:, nr].name , figsize=(15, len(np.unique(fundos.index.year))))"
   ]
  },
  {
   "cell_type": "code",
   "execution_count": 44,
   "metadata": {},
   "outputs": [
    {
     "data": {
      "image/png": "[encoded data removed]",
      "text/plain": [
       "<Figure size 1080x504 with 1 Axes>"
      ]
     },
     "metadata": {},
     "output_type": "display_data"
    }
   ],
   "source": [
    "# Compute monthly returns table\n",
    "nr = 2\n",
    "\n",
    "plot(fundos.iloc[:, nr], title= 'Retornos mensais para ' + fundos.iloc[:, nr].name , figsize=(15, len(np.unique(fundos.index.year))))"
   ]
  },
  {
   "cell_type": "code",
   "execution_count": 45,
   "metadata": {},
   "outputs": [
    {
     "data": {
      "image/png": "[encoded data removed]",
      "text/plain": [
       "<Figure size 1080x504 with 1 Axes>"
      ]
     },
     "metadata": {},
     "output_type": "display_data"
    }
   ],
   "source": [
    "# Compute monthly returns table\n",
    "nr = 1\n",
    "\n",
    "plot(fundos.iloc[:, nr], title= 'Retornos mensais para ' + fundos.iloc[:, nr].name , figsize=(15, len(np.unique(fundos.index.year))))"
   ]
  },
  {
   "cell_type": "code",
   "execution_count": null,
   "metadata": {},
   "outputs": [],
   "source": []
  },
  {
   "cell_type": "code",
   "execution_count": null,
   "metadata": {},
   "outputs": [],
   "source": []
  },
  {
   "cell_type": "code",
   "execution_count": null,
   "metadata": {},
   "outputs": [],
   "source": []
  },
  {
   "cell_type": "code",
   "execution_count": 46,
   "metadata": {},
   "outputs": [],
   "source": [
    "#### Análise de curto prazo, desde junho de 2017"
   ]
  },
  {
   "cell_type": "code",
   "execution_count": 47,
   "metadata": {},
   "outputs": [],
   "source": [
    "# # Data de começo da análise\n",
    "# fundos_2 = fundos.loc['2017-06-30':]"
   ]
  },
  {
   "cell_type": "code",
   "execution_count": 48,
   "metadata": {},
   "outputs": [],
   "source": [
    "# #### Normalization to 100 ####\n",
    "# fundos_norm_cp = (fundos_2 / fundos_2.iloc[0] * 100)"
   ]
  },
  {
   "cell_type": "code",
   "execution_count": 49,
   "metadata": {},
   "outputs": [],
   "source": [
    "# round(fundos_norm_cp, 2).iplot(yTitle='Valor por cada 100€ investidos', title='Performance dos portfolios', colors=['royalblue', 'orange', 'dimgray'])"
   ]
  },
  {
   "cell_type": "code",
   "execution_count": 50,
   "metadata": {},
   "outputs": [],
   "source": [
    "# #### Computing Drawdowns ####\n",
    "# DD = round(compute_drawdowns(fundos_norm_cp), 2)\n",
    "\n",
    "# DD.iplot(kind='scatter', title='Drawdown dos portfolios', yTitle='Percentagem', colors=['royalblue', 'orange', 'dimgray'])"
   ]
  },
  {
   "cell_type": "code",
   "execution_count": 51,
   "metadata": {},
   "outputs": [],
   "source": [
    "###### Performance de curto prazo (lembrar que os valores são anualizados, não os efectivos)"
   ]
  },
  {
   "cell_type": "code",
   "execution_count": 52,
   "metadata": {},
   "outputs": [],
   "source": [
    "# compute_performance_table(fundos_norm_cp, freq='months').transpose()"
   ]
  }
 ],
 "metadata": {
  "kernelspec": {
   "display_name": "Python 3",
   "language": "python",
   "name": "python3"
  },
  "language_info": {
   "codemirror_mode": {
    "name": "ipython",
    "version": 3
   },
   "file_extension": ".py",
   "mimetype": "text/x-python",
   "name": "python",
   "nbconvert_exporter": "python",
   "pygments_lexer": "ipython3",
   "version": "3.7.4"
  }
 },
 "nbformat": 4,
 "nbformat_minor": 4
}
